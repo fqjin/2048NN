{
 "cells": [
  {
   "cell_type": "markdown",
   "metadata": {
    "collapsed": true,
    "pycharm": {
     "name": "#%% md\n"
    }
   },
   "source": [
    "# Fine tune on games 80-100"
   ]
  },
  {
   "cell_type": "code",
   "execution_count": 1,
   "metadata": {
    "pycharm": {
     "is_executing": false,
     "name": "#%%\n"
    },
    "scrolled": true
   },
   "outputs": [
    {
     "data": {
      "text/html": [
       "<script type='text/javascript'>/*\n",
       " * Copyright (c) Facebook, Inc. and its affiliates. All Rights Reserved.\n",
       " */\n",
       "\n",
       "requirejs.config({\n",
       "  paths: {\n",
       "    plotly: ['https://cdn.plot.ly/plotly-latest.min'],\n",
       "  },\n",
       "});\n",
       "if (!window.Plotly) {\n",
       "  require(['plotly'], function(plotly) {\n",
       "    window.Plotly = plotly;\n",
       "  });\n",
       "}\n",
       "/*\n",
       " * Copyright (c) Facebook, Inc. and its affiliates. All Rights Reserved.\n",
       " */\n",
       "\n",
       "// helper functions used across multiple plots\n",
       "function rgb(rgb_array) {\n",
       "  return 'rgb(' + rgb_array.join() + ')';\n",
       "}\n",
       "\n",
       "function copy_and_reverse(arr) {\n",
       "  const copy = arr.slice();\n",
       "  copy.reverse();\n",
       "  return copy;\n",
       "}\n",
       "\n",
       "function axis_range(grid, is_log) {\n",
       "  return is_log ?\n",
       "    [Math.log10(Math.min(...grid)), Math.log10(Math.max(...grid))]:\n",
       "    [Math.min(...grid), Math.max(...grid)];\n",
       "}\n",
       "\n",
       "function relativize_data(f, sd, rel, arm_data, metric) {\n",
       "  // if relative, extract status quo & compute ratio\n",
       "  const f_final = rel === true ? [] : f;\n",
       "  const sd_final = rel === true ? []: sd;\n",
       "\n",
       "  if (rel === true) {\n",
       "    const f_sq = (\n",
       "      arm_data['in_sample'][arm_data['status_quo_name']]['y'][metric]\n",
       "    );\n",
       "    const sd_sq = (\n",
       "      arm_data['in_sample'][arm_data['status_quo_name']]['se'][metric]\n",
       "    );\n",
       "\n",
       "    for (let i = 0; i < f.length; i++) {\n",
       "      res = relativize(f[i], sd[i], f_sq, sd_sq);\n",
       "      f_final.push(100 * res[0]);\n",
       "      sd_final.push(100 * res[1]);\n",
       "    }\n",
       "  }\n",
       "\n",
       "  return [f_final, sd_final];\n",
       "}\n",
       "\n",
       "function relativize(m_t, sem_t, m_c, sem_c) {\n",
       "  r_hat = (\n",
       "    (m_t - m_c) / Math.abs(m_c) -\n",
       "    Math.pow(sem_c, 2) * m_t / Math.pow(Math.abs(m_c), 3)\n",
       "  );\n",
       "  variance = (\n",
       "    (Math.pow(sem_t, 2) + Math.pow((m_t / m_c * sem_c), 2)) /\n",
       "    Math.pow(m_c, 2)\n",
       "   )\n",
       "   return [r_hat, Math.sqrt(variance)];\n",
       "}\n",
       "</script>"
      ]
     },
     "metadata": {},
     "output_type": "display_data"
    },
    {
     "name": "stderr",
     "output_type": "stream",
     "text": [
      "[INFO 07-15 10:31:52] ipy_plotting: Injecting Plotly library into cell. Do not overwrite or delete cell.\n"
     ]
    }
   ],
   "source": [
    "import numpy as np\n",
    "# import pandas as pd\n",
    "from time import sleep\n",
    "\n",
    "from ax import *\n",
    "\n",
    "from ax.plot.contour import plot_contour\n",
    "from ax.plot.slice import plot_slice\n",
    "from ax.plot.trace import optimization_trace_single_method\n",
    "from ax.utils.notebook.plotting import render, init_notebook_plotting\n",
    "init_notebook_plotting()\n",
    "\n",
    "# import evaluation function defined locally as the\n",
    "# mean logscore of 1000 eval games after training\n",
    "from finetune_ax import eval_fn"
   ]
  },
  {
   "cell_type": "markdown",
   "metadata": {
    "pycharm": {
     "name": "#%% md\n"
    }
   },
   "source": [
    "## Define parameters\n",
    "Training parameters\n",
    "* `lr`: Previously 0.0043 (1e-3 to 1e-2), same as previous fine tuning.\n",
    "* `decay`: Previously 0.0012 (1e-3 to 1e-1), same as initial training.\n",
    "    -Adjusted due to initial results\n",
    "* `epochs`: Previously 10 (0 to 20), same as previous fine tuning."
   ]
  },
  {
   "cell_type": "code",
   "execution_count": 2,
   "metadata": {
    "pycharm": {
     "is_executing": false,
     "name": "#%%\n"
    }
   },
   "outputs": [],
   "source": [
    "lr_param = RangeParameter(name=\"lr\", parameter_type=ParameterType.FLOAT,\n",
    "                             lower=8e-4,\n",
    "                             upper=8e-3,\n",
    "                             log_scale=True,\n",
    "                             )\n",
    "dec_param = RangeParameter(name=\"decay\", parameter_type=ParameterType.FLOAT,\n",
    "                             lower=1e-3,\n",
    "                             upper=1e-1,\n",
    "                             log_scale=True,\n",
    "                             )\n",
    "epox_param = RangeParameter(name=\"epochs\", parameter_type=ParameterType.INT,\n",
    "                             lower=0,\n",
    "                             upper=15,\n",
    "                             )\n",
    "search_space = SearchSpace(\n",
    "    parameters=[lr_param, dec_param, epox_param],\n",
    ")"
   ]
  },
  {
   "cell_type": "markdown",
   "metadata": {
    "pycharm": {
     "name": "#%% md\n"
    }
   },
   "source": [
    "## Define experiment and initial arms"
   ]
  },
  {
   "cell_type": "code",
   "execution_count": 3,
   "metadata": {
    "pycharm": {
     "is_executing": false,
     "name": "#%%\n"
    }
   },
   "outputs": [],
   "source": [
    "exp = SimpleExperiment(\n",
    "    name='optimize_finetune',\n",
    "    search_space=search_space,\n",
    "    evaluation_function=eval_fn,\n",
    "    objective_name='log_eval',\n",
    "    minimize=False,  # MAXIMIZE!!\n",
    ")"
   ]
  },
  {
   "cell_type": "code",
   "execution_count": 4,
   "metadata": {},
   "outputs": [
    {
     "name": "stderr",
     "output_type": "stream",
     "text": [
      "0it [00:00, ?it/s]\n",
      "  0%|          | 0/5 [00:00<?, ?it/s]"
     ]
    },
    {
     "name": "stdout",
     "output_type": "stream",
     "text": [
      "3.934 / 0.009 / 40 sec\n"
     ]
    },
    {
     "name": "stderr",
     "output_type": "stream",
     "text": [
      "100%|██████████| 5/5 [00:10<00:00,  2.16s/it]\n",
      "  0%|          | 0/10 [00:00<?, ?it/s]"
     ]
    },
    {
     "name": "stdout",
     "output_type": "stream",
     "text": [
      "3.997 / 0.009 / 43 sec\n"
     ]
    },
    {
     "name": "stderr",
     "output_type": "stream",
     "text": [
      "100%|██████████| 10/10 [00:21<00:00,  2.21s/it]\n"
     ]
    },
    {
     "name": "stdout",
     "output_type": "stream",
     "text": [
      "3.902 / 0.010 / 38 sec\n"
     ]
    },
    {
     "data": {
      "text/plain": [
       "<ax.core.data.Data at 0x7ff983793a58>"
      ]
     },
     "execution_count": 4,
     "metadata": {},
     "output_type": "execute_result"
    }
   ],
   "source": [
    "# Couldn't get status_quo to work. Adding control arm manually:\n",
    "exp.new_trial().add_arm(Arm(name=\"zero\",parameters={'lr': 0.0043, 'decay': 0.0012, 'epochs': 0}))\n",
    "exp.new_trial().add_arm(Arm(name=\"control1\",parameters={'lr': 0.0043, 'decay': 0.0012, 'epochs': 5}))\n",
    "exp.new_trial().add_arm(Arm(name=\"control2\",parameters={'lr': 0.0043, 'decay': 0.0012, 'epochs': 10}))\n",
    "exp.new_trial().add_arm(Arm(name=\"previous\",parameters={'lr': 0.00715, 'decay': 0.01, 'epochs': 6}))\n",
    "exp.trials[0].fetch_data()\n",
    "exp.trials[1].fetch_data()\n",
    "exp.trials[2].fetch_data()"
   ]
  },
  {
   "cell_type": "code",
   "execution_count": 5,
   "metadata": {},
   "outputs": [
    {
     "name": "stderr",
     "output_type": "stream",
     "text": [
      "100%|██████████| 6/6 [00:13<00:00,  2.20s/it]\n"
     ]
    },
    {
     "name": "stdout",
     "output_type": "stream",
     "text": [
      "3.995 / 0.008 / 42 sec\n"
     ]
    },
    {
     "data": {
      "text/plain": [
       "<ax.core.data.Data at 0x7ff8ffe32278>"
      ]
     },
     "execution_count": 5,
     "metadata": {},
     "output_type": "execute_result"
    }
   ],
   "source": [
    "exp.trials[3].fetch_data()"
   ]
  },
  {
   "cell_type": "markdown",
   "metadata": {},
   "source": [
    "Fine tuning with previous parameters already gives benefit (this isn't guaranteed)."
   ]
  },
  {
   "cell_type": "code",
   "execution_count": 6,
   "metadata": {
    "pycharm": {
     "is_executing": false,
     "name": "#%%\n"
    },
    "scrolled": false
   },
   "outputs": [
    {
     "name": "stdout",
     "output_type": "stream",
     "text": [
      "----------\n",
      "0 Arm(parameters={'lr': 0.0011934390082424268, 'decay': 0.06686069314247507, 'epochs': 1})\n"
     ]
    },
    {
     "name": "stderr",
     "output_type": "stream",
     "text": [
      "100%|██████████| 1/1 [00:02<00:00,  2.17s/it]\n"
     ]
    },
    {
     "name": "stdout",
     "output_type": "stream",
     "text": [
      "3.968 / 0.008 / 40 sec\n",
      "----------\n",
      "1 Arm(parameters={'lr': 0.0019558212574087366, 'decay': 0.0011824514174953505, 'epochs': 5})\n"
     ]
    },
    {
     "name": "stderr",
     "output_type": "stream",
     "text": [
      "100%|██████████| 5/5 [00:10<00:00,  2.13s/it]\n"
     ]
    },
    {
     "name": "stdout",
     "output_type": "stream",
     "text": [
      "3.983 / 0.009 / 42 sec\n",
      "----------\n",
      "2 Arm(parameters={'lr': 0.005551494394407805, 'decay': 0.010283260945966472, 'epochs': 8})\n"
     ]
    },
    {
     "name": "stderr",
     "output_type": "stream",
     "text": [
      "100%|██████████| 8/8 [00:17<00:00,  2.18s/it]\n"
     ]
    },
    {
     "name": "stdout",
     "output_type": "stream",
     "text": [
      "3.938 / 0.010 / 40 sec\n",
      "----------\n",
      "3 Arm(parameters={'lr': 0.007662923912231201, 'decay': 0.002680738706964375, 'epochs': 3})\n"
     ]
    },
    {
     "name": "stderr",
     "output_type": "stream",
     "text": [
      "100%|██████████| 3/3 [00:06<00:00,  2.18s/it]\n"
     ]
    },
    {
     "name": "stdout",
     "output_type": "stream",
     "text": [
      "4.011 / 0.009 / 44 sec\n",
      "----------\n",
      "4 Arm(parameters={'lr': 0.0016311940380312328, 'decay': 0.030532060346985843, 'epochs': 13})\n"
     ]
    },
    {
     "name": "stderr",
     "output_type": "stream",
     "text": [
      "100%|██████████| 13/13 [00:28<00:00,  2.14s/it]\n"
     ]
    },
    {
     "name": "stdout",
     "output_type": "stream",
     "text": [
      "4.033 / 0.008 / 45 sec\n",
      "----------\n",
      "5 Arm(parameters={'lr': 0.0008013008433305626, 'decay': 0.005499813737312483, 'epochs': 11})\n"
     ]
    },
    {
     "name": "stderr",
     "output_type": "stream",
     "text": [
      "100%|██████████| 11/11 [00:24<00:00,  2.19s/it]\n"
     ]
    },
    {
     "name": "stdout",
     "output_type": "stream",
     "text": [
      "3.996 / 0.009 / 45 sec\n",
      "----------\n",
      "6 Arm(parameters={'lr': 0.004044864308475928, 'decay': 0.04707769638039004, 'epochs': 6})\n"
     ]
    },
    {
     "name": "stderr",
     "output_type": "stream",
     "text": [
      "100%|██████████| 6/6 [00:13<00:00,  2.21s/it]\n"
     ]
    },
    {
     "name": "stdout",
     "output_type": "stream",
     "text": [
      "4.020 / 0.008 / 44 sec\n",
      "----------\n",
      "7 Arm(parameters={'lr': 0.0037989071059585247, 'decay': 0.0013841435750271724, 'epochs': 9})\n"
     ]
    },
    {
     "name": "stderr",
     "output_type": "stream",
     "text": [
      "100%|██████████| 9/9 [00:19<00:00,  2.19s/it]\n"
     ]
    },
    {
     "name": "stdout",
     "output_type": "stream",
     "text": [
      "3.921 / 0.010 / 39 sec\n",
      "----------\n",
      "8 Arm(parameters={'lr': 0.0010034284778267387, 'decay': 0.01619763305775833, 'epochs': 4})\n"
     ]
    },
    {
     "name": "stderr",
     "output_type": "stream",
     "text": [
      "100%|██████████| 4/4 [00:08<00:00,  2.17s/it]\n"
     ]
    },
    {
     "name": "stdout",
     "output_type": "stream",
     "text": [
      "3.978 / 0.008 / 42 sec\n",
      "----------\n",
      "9 Arm(parameters={'lr': 0.0017365582947129383, 'decay': 0.008977215067036219, 'epochs': 1})\n"
     ]
    },
    {
     "name": "stderr",
     "output_type": "stream",
     "text": [
      "100%|██████████| 1/1 [00:02<00:00,  2.11s/it]\n"
     ]
    },
    {
     "name": "stdout",
     "output_type": "stream",
     "text": [
      "3.976 / 0.009 / 45 sec\n",
      "----------\n",
      "10 Arm(parameters={'lr': 0.006116741263131368, 'decay': 0.07895861915890333, 'epochs': 11})\n"
     ]
    },
    {
     "name": "stderr",
     "output_type": "stream",
     "text": [
      "100%|██████████| 11/11 [00:23<00:00,  2.19s/it]\n"
     ]
    },
    {
     "name": "stdout",
     "output_type": "stream",
     "text": [
      "3.614 / 0.006 / 23 sec\n",
      "----------\n",
      "11 Arm(parameters={'lr': 0.00512507486326056, 'decay': 0.003491511312417426, 'epochs': 7})\n"
     ]
    },
    {
     "name": "stderr",
     "output_type": "stream",
     "text": [
      "100%|██████████| 7/7 [00:15<00:00,  2.17s/it]\n"
     ]
    },
    {
     "name": "stdout",
     "output_type": "stream",
     "text": [
      "3.998 / 0.009 / 43 sec\n",
      "----------\n",
      "12 Arm(parameters={'lr': 0.0024074724487850477, 'decay': 0.04021334838836546, 'epochs': 9})\n"
     ]
    },
    {
     "name": "stderr",
     "output_type": "stream",
     "text": [
      "100%|██████████| 9/9 [00:19<00:00,  2.19s/it]\n"
     ]
    },
    {
     "name": "stdout",
     "output_type": "stream",
     "text": [
      "4.026 / 0.008 / 45 sec\n",
      "----------\n",
      "13 Arm(parameters={'lr': 0.0012932799645160857, 'decay': 0.002270241551766799, 'epochs': 15})\n"
     ]
    },
    {
     "name": "stderr",
     "output_type": "stream",
     "text": [
      "100%|██████████| 15/15 [00:32<00:00,  2.18s/it]\n"
     ]
    },
    {
     "name": "stdout",
     "output_type": "stream",
     "text": [
      "3.965 / 0.009 / 41 sec\n",
      "----------\n",
      "14 Arm(parameters={'lr': 0.0025618335265802736, 'decay': 0.019564295308741823, 'epochs': 2})\n"
     ]
    },
    {
     "name": "stderr",
     "output_type": "stream",
     "text": [
      "100%|██████████| 2/2 [00:04<00:00,  2.14s/it]\n"
     ]
    },
    {
     "name": "stdout",
     "output_type": "stream",
     "text": [
      "4.014 / 0.008 / 42 sec\n",
      "----------\n",
      "15 Arm(parameters={'lr': 0.002774570008448762, 'decay': 0.00197962435500844, 'epochs': 4})\n"
     ]
    },
    {
     "name": "stderr",
     "output_type": "stream",
     "text": [
      "100%|██████████| 4/4 [00:08<00:00,  2.16s/it]\n"
     ]
    },
    {
     "name": "stdout",
     "output_type": "stream",
     "text": [
      "3.969 / 0.009 / 41 sec\n",
      "----------\n",
      "16 Arm(parameters={'lr': 0.0014007643909409292, 'decay': 0.02253605918351418, 'epochs': 9})\n"
     ]
    },
    {
     "name": "stderr",
     "output_type": "stream",
     "text": [
      "100%|██████████| 9/9 [00:19<00:00,  2.20s/it]\n"
     ]
    },
    {
     "name": "stdout",
     "output_type": "stream",
     "text": [
      "4.012 / 0.009 / 43 sec\n",
      "----------\n",
      "17 Arm(parameters={'lr': 0.0022177364780740904, 'decay': 0.004060196864519902, 'epochs': 12})\n"
     ]
    },
    {
     "name": "stderr",
     "output_type": "stream",
     "text": [
      "100%|██████████| 12/12 [00:26<00:00,  2.19s/it]\n"
     ]
    },
    {
     "name": "stdout",
     "output_type": "stream",
     "text": [
      "4.000 / 0.009 / 45 sec\n",
      "----------\n",
      "18 Arm(parameters={'lr': 0.004721522756697272, 'decay': 0.03473938680518261, 'epochs': 2})\n"
     ]
    },
    {
     "name": "stderr",
     "output_type": "stream",
     "text": [
      "100%|██████████| 2/2 [00:04<00:00,  2.21s/it]\n"
     ]
    },
    {
     "name": "stdout",
     "output_type": "stream",
     "text": [
      "4.016 / 0.008 / 43 sec\n",
      "----------\n",
      "19 Arm(parameters={'lr': 0.006507217278079819, 'decay': 0.007829091848627883, 'epochs': 10})\n"
     ]
    },
    {
     "name": "stderr",
     "output_type": "stream",
     "text": [
      "100%|██████████| 10/10 [00:20<00:00,  2.18s/it]\n"
     ]
    },
    {
     "name": "stdout",
     "output_type": "stream",
     "text": [
      "3.970 / 0.008 / 42 sec\n"
     ]
    }
   ],
   "source": [
    "sobol = Models.SOBOL(exp.search_space)\n",
    "for i in range(20):\n",
    "    gen = sobol.gen(1)\n",
    "    print('-'*10)\n",
    "    print(i, gen.arms[0])\n",
    "    sleep(1)\n",
    "    trial = exp.new_trial(generator_run=gen)\n",
    "    trial.fetch_data()"
   ]
  },
  {
   "cell_type": "code",
   "execution_count": 7,
   "metadata": {},
   "outputs": [],
   "source": [
    "save(exp, 'finetune3.json')"
   ]
  },
  {
   "cell_type": "code",
   "execution_count": 8,
   "metadata": {},
   "outputs": [
    {
     "name": "stdout",
     "output_type": "stream",
     "text": [
      "0: 3.934 {'lr': 0.0043, 'decay': 0.0012, 'epochs': 0}\n",
      "1: 3.997 {'lr': 0.0043, 'decay': 0.0012, 'epochs': 5}\n",
      "2: 3.902 {'lr': 0.0043, 'decay': 0.0012, 'epochs': 10}\n",
      "3: 3.995 {'lr': 0.00715, 'decay': 0.01, 'epochs': 6}\n",
      "4: 3.968 {'lr': 0.0011934390082424268, 'decay': 0.06686069314247507, 'epochs': 1}\n",
      "5: 3.983 {'lr': 0.0019558212574087366, 'decay': 0.0011824514174953505, 'epochs': 5}\n",
      "6: 3.938 {'lr': 0.005551494394407805, 'decay': 0.010283260945966472, 'epochs': 8}\n",
      "7: 4.011 {'lr': 0.007662923912231201, 'decay': 0.002680738706964375, 'epochs': 3}\n",
      "8: 4.033 {'lr': 0.0016311940380312328, 'decay': 0.030532060346985843, 'epochs': 13}\n",
      "9: 3.996 {'lr': 0.0008013008433305626, 'decay': 0.005499813737312483, 'epochs': 11}\n",
      "10: 4.020 {'lr': 0.004044864308475928, 'decay': 0.04707769638039004, 'epochs': 6}\n",
      "11: 3.921 {'lr': 0.0037989071059585247, 'decay': 0.0013841435750271724, 'epochs': 9}\n",
      "12: 3.978 {'lr': 0.0010034284778267387, 'decay': 0.01619763305775833, 'epochs': 4}\n",
      "13: 3.976 {'lr': 0.0017365582947129383, 'decay': 0.008977215067036219, 'epochs': 1}\n",
      "14: 3.614 {'lr': 0.006116741263131368, 'decay': 0.07895861915890333, 'epochs': 11}\n",
      "15: 3.998 {'lr': 0.00512507486326056, 'decay': 0.003491511312417426, 'epochs': 7}\n",
      "16: 4.026 {'lr': 0.0024074724487850477, 'decay': 0.04021334838836546, 'epochs': 9}\n",
      "17: 3.965 {'lr': 0.0012932799645160857, 'decay': 0.002270241551766799, 'epochs': 15}\n",
      "18: 4.014 {'lr': 0.0025618335265802736, 'decay': 0.019564295308741823, 'epochs': 2}\n",
      "19: 3.969 {'lr': 0.002774570008448762, 'decay': 0.00197962435500844, 'epochs': 4}\n",
      "20: 4.012 {'lr': 0.0014007643909409292, 'decay': 0.02253605918351418, 'epochs': 9}\n",
      "21: 4.000 {'lr': 0.0022177364780740904, 'decay': 0.004060196864519902, 'epochs': 12}\n",
      "22: 4.016 {'lr': 0.004721522756697272, 'decay': 0.03473938680518261, 'epochs': 2}\n",
      "23: 3.970 {'lr': 0.006507217278079819, 'decay': 0.007829091848627883, 'epochs': 10}\n"
     ]
    }
   ],
   "source": [
    "gpei = Models.GPEI(experiment=exp, data=exp.eval())\n",
    "for i, trial in exp.trials.items():\n",
    "    print('{0}: {1:.3f} {2}'.format(i,\n",
    "        trial.fetch_data().df.at[0, 'mean'],\n",
    "        trial.arm.parameters\n",
    "    ))"
   ]
  },
  {
   "cell_type": "markdown",
   "metadata": {
    "pycharm": {
     "name": "#%% md\n"
    }
   },
   "source": [
    "## Iterative optimization\n",
    "Botorch backend for gaussian process expected improvement (GPEI) bayesian optimization"
   ]
  },
  {
   "cell_type": "code",
   "execution_count": 17,
   "metadata": {
    "pycharm": {
     "is_executing": false,
     "name": "#%%\n"
    },
    "scrolled": false
   },
   "outputs": [
    {
     "name": "stdout",
     "output_type": "stream",
     "text": [
      "----------\n",
      "0 Arm(parameters={'lr': 0.0027287701230472123, 'decay': 0.047467561333178455, 'epochs': 5})\n"
     ]
    },
    {
     "name": "stderr",
     "output_type": "stream",
     "text": [
      "100%|██████████| 5/5 [00:10<00:00,  2.11s/it]\n"
     ]
    },
    {
     "name": "stdout",
     "output_type": "stream",
     "text": [
      "4.008 / 0.009 / 46 sec\n",
      "----------\n",
      "1 Arm(parameters={'lr': 0.0018620520236365425, 'decay': 0.014504572431582102, 'epochs': 11})\n"
     ]
    },
    {
     "name": "stderr",
     "output_type": "stream",
     "text": [
      "100%|██████████| 11/11 [00:23<00:00,  2.14s/it]\n"
     ]
    },
    {
     "name": "stdout",
     "output_type": "stream",
     "text": [
      "4.018 / 0.009 / 47 sec\n",
      "----------\n",
      "2 Arm(parameters={'lr': 0.0012156310523465015, 'decay': 0.08578899579530594, 'epochs': 11})\n"
     ]
    },
    {
     "name": "stderr",
     "output_type": "stream",
     "text": [
      "100%|██████████| 11/11 [00:24<00:00,  2.19s/it]\n"
     ]
    },
    {
     "name": "stdout",
     "output_type": "stream",
     "text": [
      "4.034 / 0.008 / 45 sec\n",
      "----------\n",
      "3 Arm(parameters={'lr': 0.0009034861576172048, 'decay': 0.043318245856435324, 'epochs': 14})\n"
     ]
    },
    {
     "name": "stderr",
     "output_type": "stream",
     "text": [
      "100%|██████████| 14/14 [00:30<00:00,  2.19s/it]\n"
     ]
    },
    {
     "name": "stdout",
     "output_type": "stream",
     "text": [
      "4.037 / 0.008 / 45 sec\n",
      "----------\n",
      "4 Arm(parameters={'lr': 0.0011657755539881888, 'decay': 0.1, 'epochs': 15})\n"
     ]
    },
    {
     "name": "stderr",
     "output_type": "stream",
     "text": [
      "100%|██████████| 15/15 [00:32<00:00,  2.19s/it]\n"
     ]
    },
    {
     "name": "stdout",
     "output_type": "stream",
     "text": [
      "4.031 / 0.008 / 45 sec\n",
      "----------\n",
      "5 Arm(parameters={'lr': 0.008000000000000004, 'decay': 0.002288829527071239, 'epochs': 7})\n"
     ]
    },
    {
     "name": "stderr",
     "output_type": "stream",
     "text": [
      "100%|██████████| 7/7 [00:15<00:00,  2.20s/it]\n"
     ]
    },
    {
     "name": "stdout",
     "output_type": "stream",
     "text": [
      "3.922 / 0.010 / 40 sec\n",
      "----------\n",
      "6 Arm(parameters={'lr': 0.005128081369884944, 'decay': 0.009714020504312918, 'epochs': 3})\n"
     ]
    },
    {
     "name": "stderr",
     "output_type": "stream",
     "text": [
      "100%|██████████| 3/3 [00:06<00:00,  2.20s/it]\n"
     ]
    },
    {
     "name": "stdout",
     "output_type": "stream",
     "text": [
      "4.003 / 0.009 / 44 sec\n",
      "----------\n",
      "7 Arm(parameters={'lr': 0.0012034966711127215, 'decay': 0.05331576453873375, 'epochs': 13})\n"
     ]
    },
    {
     "name": "stderr",
     "output_type": "stream",
     "text": [
      "100%|██████████| 13/13 [00:28<00:00,  2.13s/it]\n"
     ]
    },
    {
     "name": "stdout",
     "output_type": "stream",
     "text": [
      "4.035 / 0.008 / 46 sec\n",
      "----------\n",
      "8 Arm(parameters={'lr': 0.0011924465660416662, 'decay': 0.018078350513876462, 'epochs': 15})\n"
     ]
    },
    {
     "name": "stderr",
     "output_type": "stream",
     "text": [
      "100%|██████████| 15/15 [00:32<00:00,  2.16s/it]\n"
     ]
    },
    {
     "name": "stdout",
     "output_type": "stream",
     "text": [
      "4.026 / 0.008 / 45 sec\n",
      "----------\n",
      "9 Arm(parameters={'lr': 0.0008000000000000004, 'decay': 0.1, 'epochs': 13})\n"
     ]
    },
    {
     "name": "stderr",
     "output_type": "stream",
     "text": [
      "100%|██████████| 13/13 [00:28<00:00,  2.19s/it]\n"
     ]
    },
    {
     "name": "stdout",
     "output_type": "stream",
     "text": [
      "4.040 / 0.007 / 44 sec\n",
      "----------\n",
      "10 Arm(parameters={'lr': 0.0008000000000000004, 'decay': 0.09999999999999949, 'epochs': 9})\n"
     ]
    },
    {
     "name": "stderr",
     "output_type": "stream",
     "text": [
      "100%|██████████| 9/9 [00:19<00:00,  2.16s/it]\n"
     ]
    },
    {
     "name": "stdout",
     "output_type": "stream",
     "text": [
      "4.027 / 0.007 / 43 sec\n",
      "----------\n",
      "11 Arm(parameters={'lr': 0.0015388220487877905, 'decay': 0.1, 'epochs': 8})\n"
     ]
    },
    {
     "name": "stderr",
     "output_type": "stream",
     "text": [
      "100%|██████████| 8/8 [00:17<00:00,  2.20s/it]\n"
     ]
    },
    {
     "name": "stdout",
     "output_type": "stream",
     "text": [
      "4.041 / 0.007 / 45 sec\n",
      "----------\n",
      "12 Arm(parameters={'lr': 0.0016447015306304208, 'decay': 0.05740378606914854, 'epochs': 9})\n"
     ]
    },
    {
     "name": "stderr",
     "output_type": "stream",
     "text": [
      "100%|██████████| 9/9 [00:19<00:00,  2.14s/it]\n"
     ]
    },
    {
     "name": "stdout",
     "output_type": "stream",
     "text": [
      "4.034 / 0.008 / 44 sec\n",
      "----------\n",
      "13 Arm(parameters={'lr': 0.0008000000000000011, 'decay': 0.001, 'epochs': 7})\n"
     ]
    },
    {
     "name": "stderr",
     "output_type": "stream",
     "text": [
      "100%|██████████| 7/7 [00:15<00:00,  2.19s/it]\n"
     ]
    },
    {
     "name": "stdout",
     "output_type": "stream",
     "text": [
      "3.978 / 0.009 / 42 sec\n",
      "----------\n",
      "14 Arm(parameters={'lr': 0.008000000000000004, 'decay': 0.1, 'epochs': 0})\n"
     ]
    },
    {
     "name": "stderr",
     "output_type": "stream",
     "text": [
      "0it [00:00, ?it/s]\n"
     ]
    },
    {
     "name": "stdout",
     "output_type": "stream",
     "text": [
      "3.913 / 0.009 / 38 sec\n",
      "----------\n",
      "15 Arm(parameters={'lr': 0.0008000000000000004, 'decay': 0.034683012185556, 'epochs': 11})\n"
     ]
    },
    {
     "name": "stderr",
     "output_type": "stream",
     "text": [
      "100%|██████████| 11/11 [00:23<00:00,  2.15s/it]\n"
     ]
    },
    {
     "name": "stdout",
     "output_type": "stream",
     "text": [
      "4.045 / 0.008 / 46 sec\n",
      "----------\n",
      "16 Arm(parameters={'lr': 0.0008000000000000004, 'decay': 0.019416227604450564, 'epochs': 13})\n"
     ]
    },
    {
     "name": "stderr",
     "output_type": "stream",
     "text": [
      "100%|██████████| 13/13 [00:28<00:00,  2.20s/it]\n"
     ]
    },
    {
     "name": "stdout",
     "output_type": "stream",
     "text": [
      "4.006 / 0.009 / 43 sec\n",
      "----------\n",
      "17 Arm(parameters={'lr': 0.00212708645449816, 'decay': 0.01127820018448251, 'epochs': 15})\n"
     ]
    },
    {
     "name": "stderr",
     "output_type": "stream",
     "text": [
      "100%|██████████| 15/15 [00:32<00:00,  2.15s/it]\n"
     ]
    },
    {
     "name": "stdout",
     "output_type": "stream",
     "text": [
      "3.984 / 0.009 / 42 sec\n",
      "----------\n",
      "18 Arm(parameters={'lr': 0.0008000000000000004, 'decay': 0.1, 'epochs': 15})\n"
     ]
    },
    {
     "name": "stderr",
     "output_type": "stream",
     "text": [
      "100%|██████████| 15/15 [00:32<00:00,  2.16s/it]\n"
     ]
    },
    {
     "name": "stdout",
     "output_type": "stream",
     "text": [
      "4.028 / 0.008 / 45 sec\n",
      "----------\n",
      "19 Arm(parameters={'lr': 0.0008000000000000004, 'decay': 0.03401669027082794, 'epochs': 8})\n"
     ]
    },
    {
     "name": "stderr",
     "output_type": "stream",
     "text": [
      "100%|██████████| 8/8 [00:17<00:00,  2.17s/it]\n"
     ]
    },
    {
     "name": "stdout",
     "output_type": "stream",
     "text": [
      "4.023 / 0.008 / 44 sec\n"
     ]
    },
    {
     "name": "stderr",
     "output_type": "stream",
     "text": [
      "/home/fqj/.local/lib/python3.7/site-packages/gpytorch/utils/cholesky.py:42: RuntimeWarning:\n",
      "\n",
      "A not p.d., added jitter of 1e-08 to the diagonal\n",
      "\n"
     ]
    },
    {
     "name": "stdout",
     "output_type": "stream",
     "text": [
      "----------\n",
      "20 Arm(parameters={'lr': 0.003633636002786291, 'decay': 0.028776448733151633, 'epochs': 3})\n"
     ]
    },
    {
     "name": "stderr",
     "output_type": "stream",
     "text": [
      "100%|██████████| 3/3 [00:06<00:00,  2.17s/it]\n"
     ]
    },
    {
     "name": "stdout",
     "output_type": "stream",
     "text": [
      "4.037 / 0.008 / 44 sec\n",
      "----------\n",
      "21 Arm(parameters={'lr': 0.008000000000000004, 'decay': 0.007147212988528556, 'epochs': 0})\n"
     ]
    },
    {
     "name": "stderr",
     "output_type": "stream",
     "text": [
      "0it [00:00, ?it/s]\n"
     ]
    },
    {
     "name": "stdout",
     "output_type": "stream",
     "text": [
      "3.924 / 0.009 / 38 sec\n",
      "----------\n",
      "22 Arm(parameters={'lr': 0.0008000000000000004, 'decay': 0.062132377301891986, 'epochs': 11})\n"
     ]
    },
    {
     "name": "stderr",
     "output_type": "stream",
     "text": [
      "100%|██████████| 11/11 [00:23<00:00,  2.17s/it]\n"
     ]
    },
    {
     "name": "stdout",
     "output_type": "stream",
     "text": [
      "4.036 / 0.008 / 46 sec\n",
      "----------\n",
      "23 Arm(parameters={'lr': 0.0008000000000000004, 'decay': 0.001, 'epochs': 0})\n"
     ]
    },
    {
     "name": "stderr",
     "output_type": "stream",
     "text": [
      "0it [00:00, ?it/s]\n"
     ]
    },
    {
     "name": "stdout",
     "output_type": "stream",
     "text": [
      "3.940 / 0.009 / 39 sec\n",
      "----------\n",
      "24 Arm(parameters={'lr': 0.004308203330778961, 'decay': 0.028771024643772, 'epochs': 4})\n"
     ]
    },
    {
     "name": "stderr",
     "output_type": "stream",
     "text": [
      "100%|██████████| 4/4 [00:08<00:00,  2.19s/it]\n"
     ]
    },
    {
     "name": "stdout",
     "output_type": "stream",
     "text": [
      "4.036 / 0.008 / 47 sec\n",
      "----------\n",
      "25 Arm(parameters={'lr': 0.0036967447563253904, 'decay': 0.1, 'epochs': 3})\n"
     ]
    },
    {
     "name": "stderr",
     "output_type": "stream",
     "text": [
      "100%|██████████| 3/3 [00:06<00:00,  2.21s/it]\n"
     ]
    },
    {
     "name": "stdout",
     "output_type": "stream",
     "text": [
      "3.940 / 0.007 / 37 sec\n",
      "----------\n",
      "26 Arm(parameters={'lr': 0.0010861821066179202, 'decay': 0.1, 'epochs': 6})\n"
     ]
    },
    {
     "name": "stderr",
     "output_type": "stream",
     "text": [
      "100%|██████████| 6/6 [00:12<00:00,  2.14s/it]\n"
     ]
    },
    {
     "name": "stdout",
     "output_type": "stream",
     "text": [
      "4.019 / 0.007 / 42 sec\n",
      "----------\n",
      "27 Arm(parameters={'lr': 0.0029168908105427667, 'decay': 0.02052006286485383, 'epochs': 6})\n"
     ]
    },
    {
     "name": "stderr",
     "output_type": "stream",
     "text": [
      "100%|██████████| 6/6 [00:13<00:00,  2.20s/it]\n"
     ]
    },
    {
     "name": "stdout",
     "output_type": "stream",
     "text": [
      "4.046 / 0.008 / 44 sec\n",
      "----------\n",
      "28 Arm(parameters={'lr': 0.0014333221894011758, 'decay': 0.003932877349377023, 'epochs': 8})\n"
     ]
    },
    {
     "name": "stderr",
     "output_type": "stream",
     "text": [
      "100%|██████████| 8/8 [00:17<00:00,  2.18s/it]\n"
     ]
    },
    {
     "name": "stdout",
     "output_type": "stream",
     "text": [
      "3.985 / 0.009 / 45 sec\n",
      "----------\n",
      "29 Arm(parameters={'lr': 0.0034402691960054464, 'decay': 0.024358234364913824, 'epochs': 5})\n"
     ]
    },
    {
     "name": "stderr",
     "output_type": "stream",
     "text": [
      "100%|██████████| 5/5 [00:10<00:00,  2.20s/it]\n"
     ]
    },
    {
     "name": "stdout",
     "output_type": "stream",
     "text": [
      "4.056 / 0.007 / 45 sec\n"
     ]
    }
   ],
   "source": [
    "for i in range(30):\n",
    "    gpei = Models.GPEI(experiment=exp, data=exp.eval())\n",
    "    gen = gpei.gen(1)\n",
    "    print('-'*10)\n",
    "    print(i, gen.arms[0])\n",
    "    sleep(1)\n",
    "    trial = exp.new_trial(generator_run=gen)\n",
    "    trial.fetch_data()"
   ]
  },
  {
   "cell_type": "code",
   "execution_count": 18,
   "metadata": {},
   "outputs": [],
   "source": [
    "save(exp, 'finetune3.json')"
   ]
  },
  {
   "cell_type": "code",
   "execution_count": 19,
   "metadata": {
    "pycharm": {
     "is_executing": false,
     "name": "#%%\n"
    },
    "scrolled": false
   },
   "outputs": [
    {
     "name": "stdout",
     "output_type": "stream",
     "text": [
      "0: 3.934 {'lr': 0.0043, 'decay': 0.0012, 'epochs': 0}\n",
      "1: 3.997 {'lr': 0.0043, 'decay': 0.0012, 'epochs': 5}\n",
      "2: 3.902 {'lr': 0.0043, 'decay': 0.0012, 'epochs': 10}\n",
      "3: 3.995 {'lr': 0.00715, 'decay': 0.01, 'epochs': 6}\n",
      "4: 3.968 {'lr': 0.0011934390082424268, 'decay': 0.06686069314247507, 'epochs': 1}\n",
      "5: 3.983 {'lr': 0.0019558212574087366, 'decay': 0.0011824514174953505, 'epochs': 5}\n",
      "6: 3.938 {'lr': 0.005551494394407805, 'decay': 0.010283260945966472, 'epochs': 8}\n",
      "7: 4.011 {'lr': 0.007662923912231201, 'decay': 0.002680738706964375, 'epochs': 3}\n",
      "8: 4.033 {'lr': 0.0016311940380312328, 'decay': 0.030532060346985843, 'epochs': 13}\n",
      "9: 3.996 {'lr': 0.0008013008433305626, 'decay': 0.005499813737312483, 'epochs': 11}\n",
      "10: 4.020 {'lr': 0.004044864308475928, 'decay': 0.04707769638039004, 'epochs': 6}\n",
      "11: 3.921 {'lr': 0.0037989071059585247, 'decay': 0.0013841435750271724, 'epochs': 9}\n",
      "12: 3.978 {'lr': 0.0010034284778267387, 'decay': 0.01619763305775833, 'epochs': 4}\n",
      "13: 3.976 {'lr': 0.0017365582947129383, 'decay': 0.008977215067036219, 'epochs': 1}\n",
      "14: 3.614 {'lr': 0.006116741263131368, 'decay': 0.07895861915890333, 'epochs': 11}\n",
      "15: 3.998 {'lr': 0.00512507486326056, 'decay': 0.003491511312417426, 'epochs': 7}\n",
      "16: 4.026 {'lr': 0.0024074724487850477, 'decay': 0.04021334838836546, 'epochs': 9}\n",
      "17: 3.965 {'lr': 0.0012932799645160857, 'decay': 0.002270241551766799, 'epochs': 15}\n",
      "18: 4.014 {'lr': 0.0025618335265802736, 'decay': 0.019564295308741823, 'epochs': 2}\n",
      "19: 3.969 {'lr': 0.002774570008448762, 'decay': 0.00197962435500844, 'epochs': 4}\n",
      "20: 4.012 {'lr': 0.0014007643909409292, 'decay': 0.02253605918351418, 'epochs': 9}\n",
      "21: 4.000 {'lr': 0.0022177364780740904, 'decay': 0.004060196864519902, 'epochs': 12}\n",
      "22: 4.016 {'lr': 0.004721522756697272, 'decay': 0.03473938680518261, 'epochs': 2}\n",
      "23: 3.970 {'lr': 0.006507217278079819, 'decay': 0.007829091848627883, 'epochs': 10}\n",
      "24: 4.008 {'lr': 0.0027287701230472123, 'decay': 0.047467561333178455, 'epochs': 5}\n",
      "25: 4.018 {'lr': 0.0018620520236365425, 'decay': 0.014504572431582102, 'epochs': 11}\n",
      "26: 4.034 {'lr': 0.0012156310523465015, 'decay': 0.08578899579530594, 'epochs': 11}\n",
      "27: 4.037 {'lr': 0.0009034861576172048, 'decay': 0.043318245856435324, 'epochs': 14}\n",
      "28: 4.031 {'lr': 0.0011657755539881888, 'decay': 0.1, 'epochs': 15}\n",
      "29: 3.922 {'lr': 0.008000000000000004, 'decay': 0.002288829527071239, 'epochs': 7}\n",
      "30: 4.003 {'lr': 0.005128081369884944, 'decay': 0.009714020504312918, 'epochs': 3}\n",
      "31: 4.035 {'lr': 0.0012034966711127215, 'decay': 0.05331576453873375, 'epochs': 13}\n",
      "32: 4.026 {'lr': 0.0011924465660416662, 'decay': 0.018078350513876462, 'epochs': 15}\n",
      "33: 4.040 {'lr': 0.0008000000000000004, 'decay': 0.1, 'epochs': 13}\n",
      "34: 4.027 {'lr': 0.0008000000000000004, 'decay': 0.09999999999999949, 'epochs': 9}\n",
      "35: 4.041 {'lr': 0.0015388220487877905, 'decay': 0.1, 'epochs': 8}\n",
      "36: 4.034 {'lr': 0.0016447015306304208, 'decay': 0.05740378606914854, 'epochs': 9}\n",
      "37: 3.978 {'lr': 0.0008000000000000011, 'decay': 0.001, 'epochs': 7}\n",
      "38: 3.913 {'lr': 0.008000000000000004, 'decay': 0.1, 'epochs': 0}\n",
      "39: 4.045 {'lr': 0.0008000000000000004, 'decay': 0.034683012185556, 'epochs': 11}\n",
      "40: 4.006 {'lr': 0.0008000000000000004, 'decay': 0.019416227604450564, 'epochs': 13}\n",
      "41: 3.984 {'lr': 0.00212708645449816, 'decay': 0.01127820018448251, 'epochs': 15}\n",
      "42: 4.028 {'lr': 0.0008000000000000004, 'decay': 0.1, 'epochs': 15}\n",
      "43: 4.023 {'lr': 0.0008000000000000004, 'decay': 0.03401669027082794, 'epochs': 8}\n",
      "44: 4.037 {'lr': 0.003633636002786291, 'decay': 0.028776448733151633, 'epochs': 3}\n",
      "45: 3.924 {'lr': 0.008000000000000004, 'decay': 0.007147212988528556, 'epochs': 0}\n",
      "46: 4.036 {'lr': 0.0008000000000000004, 'decay': 0.062132377301891986, 'epochs': 11}\n",
      "47: 3.940 {'lr': 0.0008000000000000004, 'decay': 0.001, 'epochs': 0}\n",
      "48: 4.036 {'lr': 0.004308203330778961, 'decay': 0.028771024643772, 'epochs': 4}\n",
      "49: 3.940 {'lr': 0.0036967447563253904, 'decay': 0.1, 'epochs': 3}\n",
      "50: 4.019 {'lr': 0.0010861821066179202, 'decay': 0.1, 'epochs': 6}\n",
      "51: 4.046 {'lr': 0.0029168908105427667, 'decay': 0.02052006286485383, 'epochs': 6}\n",
      "52: 3.985 {'lr': 0.0014333221894011758, 'decay': 0.003932877349377023, 'epochs': 8}\n",
      "53: 4.056 {'lr': 0.0034402691960054464, 'decay': 0.024358234364913824, 'epochs': 5}\n"
     ]
    }
   ],
   "source": [
    "gpei = Models.GPEI(experiment=exp, data=exp.eval())\n",
    "for i, trial in exp.trials.items():\n",
    "    print('{0}: {1:.3f} {2}'.format(\n",
    "        i,\n",
    "        trial.fetch_data().df.at[0, 'mean'],\n",
    "        trial.arm.parameters\n",
    "    ))"
   ]
  },
  {
   "cell_type": "markdown",
   "metadata": {},
   "source": [
    "### Load experiment"
   ]
  },
  {
   "cell_type": "code",
   "execution_count": 28,
   "metadata": {},
   "outputs": [],
   "source": [
    "exp = load('finetune3.json')\n",
    "exp.evaluation_function = eval_fn"
   ]
  },
  {
   "cell_type": "markdown",
   "metadata": {},
   "source": [
    "## Plot results"
   ]
  },
  {
   "cell_type": "code",
   "execution_count": 20,
   "metadata": {
    "pycharm": {
     "name": "#%%\n"
    },
    "scrolled": false
   },
   "outputs": [
    {
     "data": {
      "text/html": [
       "<div id=\"fa5347d31c84497997c09f24780974cc\" style=\"width: 100%;\" class=\"plotly-graph-div\"></div><script type='text/javascript'>/*\n",
       " * Copyright (c) Facebook, Inc. and its affiliates. All Rights Reserved.\n",
       " */\n",
       "\n",
       "require(['plotly'], function(Plotly) {\n",
       "  window.PLOTLYENV = window.PLOTLYENV || {};\n",
       "  window.PLOTLYENV.BASE_URL = 'https://plot.ly';\n",
       "  /*\n",
       " * Copyright (c) Facebook, Inc. and its affiliates. All Rights Reserved.\n",
       " */\n",
       "\n",
       "Plotly.newPlot(\n",
       "  \"fa5347d31c84497997c09f24780974cc\",\n",
       "  [{\"hoverinfo\": \"none\", \"legendgroup\": \"\", \"line\": {\"width\": 0}, \"mode\": \"lines\", \"showlegend\": false, \"x\": [1, 2, 3, 4, 5, 6, 7, 8, 9, 10, 11, 12, 13, 14, 15, 16, 17, 18, 19, 20, 21, 22, 23, 24, 25, 26, 27, 28, 29, 30, 31, 32, 33, 34, 35, 36, 37, 38, 39, 40, 41, 42, 43, 44, 45, 46, 47, 48, 49, 50, 51, 52, 53, 54], \"y\": [3.9341571499800057, 3.997396798885231, 3.997396798885231, 3.997396798885231, 3.997396798885231, 3.997396798885231, 3.997396798885231, 4.011433652054382, 4.033091584092544, 4.033091584092544, 4.033091584092544, 4.033091584092544, 4.033091584092544, 4.033091584092544, 4.033091584092544, 4.033091584092544, 4.033091584092544, 4.033091584092544, 4.033091584092544, 4.033091584092544, 4.033091584092544, 4.033091584092544, 4.033091584092544, 4.033091584092544, 4.033091584092544, 4.033091584092544, 4.034312338135606, 4.037392070141155, 4.037392070141155, 4.037392070141155, 4.037392070141155, 4.037392070141155, 4.037392070141155, 4.039535780145851, 4.039535780145851, 4.041210413503344, 4.041210413503344, 4.041210413503344, 4.041210413503344, 4.044727817596675, 4.044727817596675, 4.044727817596675, 4.044727817596675, 4.044727817596675, 4.044727817596675, 4.044727817596675, 4.044727817596675, 4.044727817596675, 4.044727817596675, 4.044727817596675, 4.044727817596675, 4.046149745093893, 4.046149745093893, 4.055870379113808], \"type\": \"scatter\", \"uid\": \"8f59868f-4479-43e4-a708-bd0bf2b4dd5d\"}, {\"fill\": \"tonexty\", \"fillcolor\": \"rgba(128,177,211,0.3)\", \"legendgroup\": \"mean\", \"line\": {\"color\": \"rgba(128,177,211,1)\"}, \"mode\": \"lines\", \"name\": \"mean\", \"x\": [1, 2, 3, 4, 5, 6, 7, 8, 9, 10, 11, 12, 13, 14, 15, 16, 17, 18, 19, 20, 21, 22, 23, 24, 25, 26, 27, 28, 29, 30, 31, 32, 33, 34, 35, 36, 37, 38, 39, 40, 41, 42, 43, 44, 45, 46, 47, 48, 49, 50, 51, 52, 53, 54], \"y\": [3.9341571499800057, 3.997396798885231, 3.997396798885231, 3.997396798885231, 3.997396798885231, 3.997396798885231, 3.997396798885231, 4.011433652054382, 4.033091584092544, 4.033091584092544, 4.033091584092544, 4.033091584092544, 4.033091584092544, 4.033091584092544, 4.033091584092544, 4.033091584092544, 4.033091584092544, 4.033091584092544, 4.033091584092544, 4.033091584092544, 4.033091584092544, 4.033091584092544, 4.033091584092544, 4.033091584092544, 4.033091584092544, 4.033091584092544, 4.034312338135606, 4.037392070141155, 4.037392070141155, 4.037392070141155, 4.037392070141155, 4.037392070141155, 4.037392070141155, 4.039535780145851, 4.039535780145851, 4.041210413503344, 4.041210413503344, 4.041210413503344, 4.041210413503344, 4.044727817596675, 4.044727817596675, 4.044727817596675, 4.044727817596675, 4.044727817596675, 4.044727817596675, 4.044727817596675, 4.044727817596675, 4.044727817596675, 4.044727817596675, 4.044727817596675, 4.044727817596675, 4.046149745093893, 4.046149745093893, 4.055870379113808], \"type\": \"scatter\", \"uid\": \"6354ea97-096e-4d7b-81ea-0d1e7fb822d6\"}, {\"fill\": \"tonexty\", \"fillcolor\": \"rgba(128,177,211,0.3)\", \"hoverinfo\": \"none\", \"legendgroup\": \"\", \"line\": {\"width\": 0}, \"mode\": \"lines\", \"showlegend\": false, \"x\": [1, 2, 3, 4, 5, 6, 7, 8, 9, 10, 11, 12, 13, 14, 15, 16, 17, 18, 19, 20, 21, 22, 23, 24, 25, 26, 27, 28, 29, 30, 31, 32, 33, 34, 35, 36, 37, 38, 39, 40, 41, 42, 43, 44, 45, 46, 47, 48, 49, 50, 51, 52, 53, 54], \"y\": [3.9341571499800057, 3.997396798885231, 3.997396798885231, 3.997396798885231, 3.997396798885231, 3.997396798885231, 3.997396798885231, 4.011433652054382, 4.033091584092544, 4.033091584092544, 4.033091584092544, 4.033091584092544, 4.033091584092544, 4.033091584092544, 4.033091584092544, 4.033091584092544, 4.033091584092544, 4.033091584092544, 4.033091584092544, 4.033091584092544, 4.033091584092544, 4.033091584092544, 4.033091584092544, 4.033091584092544, 4.033091584092544, 4.033091584092544, 4.034312338135606, 4.037392070141155, 4.037392070141155, 4.037392070141155, 4.037392070141155, 4.037392070141155, 4.037392070141155, 4.039535780145851, 4.039535780145851, 4.041210413503344, 4.041210413503344, 4.041210413503344, 4.041210413503344, 4.044727817596675, 4.044727817596675, 4.044727817596675, 4.044727817596675, 4.044727817596675, 4.044727817596675, 4.044727817596675, 4.044727817596675, 4.044727817596675, 4.044727817596675, 4.044727817596675, 4.044727817596675, 4.046149745093893, 4.046149745093893, 4.055870379113808], \"type\": \"scatter\", \"uid\": \"d1f2790e-aac3-4dc0-a815-4384bc47aaec\"}],\n",
       "  {\"showlegend\": true, \"title\": {\"text\": \"\"}, \"xaxis\": {\"title\": {\"text\": \"Iteration\"}}, \"yaxis\": {\"title\": {\"text\": \"\"}}},\n",
       "  {\"showLink\": false}\n",
       ");\n",
       "});</script>"
      ]
     },
     "metadata": {},
     "output_type": "display_data"
    }
   ],
   "source": [
    "objective_means = np.array([[trial.objective_mean for trial in exp.trials.values()]])\n",
    "best_objective_plot = optimization_trace_single_method(\n",
    "        y=np.maximum.accumulate(objective_means, axis=1),\n",
    ")\n",
    "render(best_objective_plot)"
   ]
  },
  {
   "cell_type": "code",
   "execution_count": 21,
   "metadata": {
    "pycharm": {
     "is_executing": false,
     "name": "#%%\n"
    }
   },
   "outputs": [
    {
     "data": {
      "text/plain": [
       "Arm(name='53_0', parameters={'lr': 0.0034402691960054464, 'decay': 0.024358234364913824, 'epochs': 5})"
      ]
     },
     "execution_count": 21,
     "metadata": {},
     "output_type": "execute_result"
    }
   ],
   "source": [
    "exp.trials[np.argmax(objective_means)].arm"
   ]
  },
  {
   "cell_type": "code",
   "execution_count": 22,
   "metadata": {
    "pycharm": {
     "name": "#%%\n"
    },
    "scrolled": false
   },
   "outputs": [
    {
     "data": {
      "text/html": [
       "<div id=\"0c296f931d4b47f0a9c1a26248fa4772\" style=\"width: 100%;\" class=\"plotly-graph-div\"></div><script type='text/javascript'>/*\n",
       " * Copyright (c) Facebook, Inc. and its affiliates. All Rights Reserved.\n",
       " */\n",
       "\n",
       "require(['plotly'], function(Plotly) {\n",
       "  window.PLOTLYENV = window.PLOTLYENV || {};\n",
       "  window.PLOTLYENV.BASE_URL = 'https://plot.ly';\n",
       "  /*\n",
       " * Copyright (c) Facebook, Inc. and its affiliates. All Rights Reserved.\n",
       " */\n",
       "\n",
       "const arm_data = {\"metrics\": [\"log_eval\"], \"in_sample\": {\"10_0\": {\"name\": \"10_0\", \"parameters\": {\"lr\": 0.004044864308475928, \"decay\": 0.04707769638039004, \"epochs\": 6}, \"y\": {\"log_eval\": 4.020110049100475}, \"y_hat\": {\"log_eval\": 4.015350348125742}, \"se\": {\"log_eval\": 0.007556678271325456}, \"se_hat\": {\"log_eval\": 0.007233198162806532}, \"context_stratum\": null}, \"11_0\": {\"name\": \"11_0\", \"parameters\": {\"lr\": 0.0037989071059585247, \"decay\": 0.0013841435750271724, \"epochs\": 9}, \"y\": {\"log_eval\": 3.921352853873042}, \"y_hat\": {\"log_eval\": 3.9243788852429975}, \"se\": {\"log_eval\": 0.010184709934255198}, \"se_hat\": {\"log_eval\": 0.009096599078786311}, \"context_stratum\": null}, \"12_0\": {\"name\": \"12_0\", \"parameters\": {\"lr\": 0.0010034284778267387, \"decay\": 0.01619763305775833, \"epochs\": 4}, \"y\": {\"log_eval\": 3.9779872969205443}, \"y_hat\": {\"log_eval\": 3.978076737674945}, \"se\": {\"log_eval\": 0.008471989545960273}, \"se_hat\": {\"log_eval\": 0.008341766780874211}, \"context_stratum\": null}, \"13_0\": {\"name\": \"13_0\", \"parameters\": {\"lr\": 0.0017365582947129383, \"decay\": 0.008977215067036219, \"epochs\": 1}, \"y\": {\"log_eval\": 3.975506861213706}, \"y_hat\": {\"log_eval\": 3.975290264046756}, \"se\": {\"log_eval\": 0.008807034960569648}, \"se_hat\": {\"log_eval\": 0.008638238723038353}, \"context_stratum\": null}, \"14_0\": {\"name\": \"14_0\", \"parameters\": {\"lr\": 0.006116741263131368, \"decay\": 0.07895861915890333, \"epochs\": 11}, \"y\": {\"log_eval\": 3.61423258781629}, \"y_hat\": {\"log_eval\": 3.6171929153616618}, \"se\": {\"log_eval\": 0.0063616699104992154}, \"se_hat\": {\"log_eval\": 0.006334580202861196}, \"context_stratum\": null}, \"15_0\": {\"name\": \"15_0\", \"parameters\": {\"lr\": 0.00512507486326056, \"decay\": 0.003491511312417426, \"epochs\": 7}, \"y\": {\"log_eval\": 3.998062387185866}, \"y_hat\": {\"log_eval\": 3.994441855043593}, \"se\": {\"log_eval\": 0.008792094974888445}, \"se_hat\": {\"log_eval\": 0.008446310530277413}, \"context_stratum\": null}, \"16_0\": {\"name\": \"16_0\", \"parameters\": {\"lr\": 0.0024074724487850477, \"decay\": 0.04021334838836546, \"epochs\": 9}, \"y\": {\"log_eval\": 4.0259356856422}, \"y_hat\": {\"log_eval\": 4.024116902143203}, \"se\": {\"log_eval\": 0.007840452586175162}, \"se_hat\": {\"log_eval\": 0.0075321422157095036}, \"context_stratum\": null}, \"17_0\": {\"name\": \"17_0\", \"parameters\": {\"lr\": 0.0012932799645160857, \"decay\": 0.002270241551766799, \"epochs\": 15}, \"y\": {\"log_eval\": 3.9645698466760853}, \"y_hat\": {\"log_eval\": 3.964848435640311}, \"se\": {\"log_eval\": 0.009111862981454109}, \"se_hat\": {\"log_eval\": 0.009013501390765339}, \"context_stratum\": null}, \"18_0\": {\"name\": \"18_0\", \"parameters\": {\"lr\": 0.0025618335265802736, \"decay\": 0.019564295308741823, \"epochs\": 2}, \"y\": {\"log_eval\": 4.014018816636409}, \"y_hat\": {\"log_eval\": 4.01357301971357}, \"se\": {\"log_eval\": 0.00792525179822629}, \"se_hat\": {\"log_eval\": 0.007613727873306417}, \"context_stratum\": null}, \"19_0\": {\"name\": \"19_0\", \"parameters\": {\"lr\": 0.002774570008448762, \"decay\": 0.00197962435500844, \"epochs\": 4}, \"y\": {\"log_eval\": 3.969413014029092}, \"y_hat\": {\"log_eval\": 3.9718046534403335}, \"se\": {\"log_eval\": 0.009130610560002307}, \"se_hat\": {\"log_eval\": 0.008800262483849436}, \"context_stratum\": null}, \"20_0\": {\"name\": \"20_0\", \"parameters\": {\"lr\": 0.0014007643909409292, \"decay\": 0.02253605918351418, \"epochs\": 9}, \"y\": {\"log_eval\": 4.0115342622454415}, \"y_hat\": {\"log_eval\": 4.0131960970243945}, \"se\": {\"log_eval\": 0.008904613847650317}, \"se_hat\": {\"log_eval\": 0.008445377722073578}, \"context_stratum\": null}, \"21_0\": {\"name\": \"21_0\", \"parameters\": {\"lr\": 0.0022177364780740904, \"decay\": 0.004060196864519902, \"epochs\": 12}, \"y\": {\"log_eval\": 3.9999811426165053}, \"y_hat\": {\"log_eval\": 3.998542932482182}, \"se\": {\"log_eval\": 0.008630238775110429}, \"se_hat\": {\"log_eval\": 0.00844079453250696}, \"context_stratum\": null}, \"22_0\": {\"name\": \"22_0\", \"parameters\": {\"lr\": 0.004721522756697272, \"decay\": 0.03473938680518261, \"epochs\": 2}, \"y\": {\"log_eval\": 4.015748638745597}, \"y_hat\": {\"log_eval\": 4.013775893589169}, \"se\": {\"log_eval\": 0.007617459348825448}, \"se_hat\": {\"log_eval\": 0.007223183155183658}, \"context_stratum\": null}, \"23_0\": {\"name\": \"23_0\", \"parameters\": {\"lr\": 0.006507217278079819, \"decay\": 0.007829091848627883, \"epochs\": 10}, \"y\": {\"log_eval\": 3.969515490044833}, \"y_hat\": {\"log_eval\": 3.9642037237397916}, \"se\": {\"log_eval\": 0.008249124176806254}, \"se_hat\": {\"log_eval\": 0.008048612110853021}, \"context_stratum\": null}, \"24_0\": {\"name\": \"24_0\", \"parameters\": {\"lr\": 0.0027287701230472123, \"decay\": 0.047467561333178455, \"epochs\": 5}, \"y\": {\"log_eval\": 4.008045219231504}, \"y_hat\": {\"log_eval\": 4.012722124044243}, \"se\": {\"log_eval\": 0.008600824796006514}, \"se_hat\": {\"log_eval\": 0.00813798449688285}, \"context_stratum\": null}, \"25_0\": {\"name\": \"25_0\", \"parameters\": {\"lr\": 0.0018620520236365425, \"decay\": 0.014504572431582102, \"epochs\": 11}, \"y\": {\"log_eval\": 4.0177322106840325}, \"y_hat\": {\"log_eval\": 4.01808485272548}, \"se\": {\"log_eval\": 0.008637085344971781}, \"se_hat\": {\"log_eval\": 0.008218315870386328}, \"context_stratum\": null}, \"26_0\": {\"name\": \"26_0\", \"parameters\": {\"lr\": 0.0012156310523465015, \"decay\": 0.08578899579530594, \"epochs\": 11}, \"y\": {\"log_eval\": 4.034312338135606}, \"y_hat\": {\"log_eval\": 4.034698353251241}, \"se\": {\"log_eval\": 0.007689923755965675}, \"se_hat\": {\"log_eval\": 0.0072154974270828435}, \"context_stratum\": null}, \"27_0\": {\"name\": \"27_0\", \"parameters\": {\"lr\": 0.0009034861576172048, \"decay\": 0.043318245856435324, \"epochs\": 14}, \"y\": {\"log_eval\": 4.037392070141155}, \"y_hat\": {\"log_eval\": 4.0363614662139815}, \"se\": {\"log_eval\": 0.007918972916914799}, \"se_hat\": {\"log_eval\": 0.00728011534702147}, \"context_stratum\": null}, \"28_0\": {\"name\": \"28_0\", \"parameters\": {\"lr\": 0.0011657755539881888, \"decay\": 0.1, \"epochs\": 15}, \"y\": {\"log_eval\": 4.0305296503746995}, \"y_hat\": {\"log_eval\": 4.029667281705869}, \"se\": {\"log_eval\": 0.007765747390425193}, \"se_hat\": {\"log_eval\": 0.007524587064582032}, \"context_stratum\": null}, \"29_0\": {\"name\": \"29_0\", \"parameters\": {\"lr\": 0.008000000000000004, \"decay\": 0.002288829527071239, \"epochs\": 7}, \"y\": {\"log_eval\": 3.9216153556747795}, \"y_hat\": {\"log_eval\": 3.92800375033489}, \"se\": {\"log_eval\": 0.010304896456927469}, \"se_hat\": {\"log_eval\": 0.009984030462509228}, \"context_stratum\": null}, \"30_0\": {\"name\": \"30_0\", \"parameters\": {\"lr\": 0.005128081369884944, \"decay\": 0.009714020504312918, \"epochs\": 3}, \"y\": {\"log_eval\": 4.003272017188419}, \"y_hat\": {\"log_eval\": 4.0047854909541}, \"se\": {\"log_eval\": 0.008744524217256345}, \"se_hat\": {\"log_eval\": 0.008455843694870372}, \"context_stratum\": null}, \"31_0\": {\"name\": \"31_0\", \"parameters\": {\"lr\": 0.0012034966711127215, \"decay\": 0.05331576453873375, \"epochs\": 13}, \"y\": {\"log_eval\": 4.034853146741749}, \"y_hat\": {\"log_eval\": 4.037019223140232}, \"se\": {\"log_eval\": 0.007891388538915295}, \"se_hat\": {\"log_eval\": 0.006970550579426248}, \"context_stratum\": null}, \"32_0\": {\"name\": \"32_0\", \"parameters\": {\"lr\": 0.0011924465660416662, \"decay\": 0.018078350513876462, \"epochs\": 15}, \"y\": {\"log_eval\": 4.0257891017009255}, \"y_hat\": {\"log_eval\": 4.024524760343655}, \"se\": {\"log_eval\": 0.008250339710490533}, \"se_hat\": {\"log_eval\": 0.007982545451364556}, \"context_stratum\": null}, \"33_0\": {\"name\": \"33_0\", \"parameters\": {\"lr\": 0.0008000000000000004, \"decay\": 0.1, \"epochs\": 13}, \"y\": {\"log_eval\": 4.039535780145851}, \"y_hat\": {\"log_eval\": 4.038127020458758}, \"se\": {\"log_eval\": 0.007132010393189851}, \"se_hat\": {\"log_eval\": 0.006680396623233546}, \"context_stratum\": null}, \"34_0\": {\"name\": \"34_0\", \"parameters\": {\"lr\": 0.0008000000000000004, \"decay\": 0.09999999999999949, \"epochs\": 9}, \"y\": {\"log_eval\": 4.026641731363641}, \"y_hat\": {\"log_eval\": 4.02671107068213}, \"se\": {\"log_eval\": 0.007205455158902104}, \"se_hat\": {\"log_eval\": 0.006952707419504712}, \"context_stratum\": null}, \"35_0\": {\"name\": \"35_0\", \"parameters\": {\"lr\": 0.0015388220487877905, \"decay\": 0.1, \"epochs\": 8}, \"y\": {\"log_eval\": 4.041210413503344}, \"y_hat\": {\"log_eval\": 4.039251153115173}, \"se\": {\"log_eval\": 0.007214847176585106}, \"se_hat\": {\"log_eval\": 0.00687629163522225}, \"context_stratum\": null}, \"36_0\": {\"name\": \"36_0\", \"parameters\": {\"lr\": 0.0016447015306304208, \"decay\": 0.05740378606914854, \"epochs\": 9}, \"y\": {\"log_eval\": 4.033673711417118}, \"y_hat\": {\"log_eval\": 4.034922153703092}, \"se\": {\"log_eval\": 0.007629768132666603}, \"se_hat\": {\"log_eval\": 0.006952403969317441}, \"context_stratum\": null}, \"37_0\": {\"name\": \"37_0\", \"parameters\": {\"lr\": 0.0008000000000000011, \"decay\": 0.001, \"epochs\": 7}, \"y\": {\"log_eval\": 3.977919594623966}, \"y_hat\": {\"log_eval\": 3.9777393136546957}, \"se\": {\"log_eval\": 0.009058110392772541}, \"se_hat\": {\"log_eval\": 0.0089722398516896}, \"context_stratum\": null}, \"38_0\": {\"name\": \"38_0\", \"parameters\": {\"lr\": 0.008000000000000004, \"decay\": 0.1, \"epochs\": 0}, \"y\": {\"log_eval\": 3.9132375011181257}, \"y_hat\": {\"log_eval\": 3.9135230297515196}, \"se\": {\"log_eval\": 0.008923038775749209}, \"se_hat\": {\"log_eval\": 0.008841739698609238}, \"context_stratum\": null}, \"39_0\": {\"name\": \"39_0\", \"parameters\": {\"lr\": 0.0008000000000000004, \"decay\": 0.034683012185556, \"epochs\": 11}, \"y\": {\"log_eval\": 4.044727817596675}, \"y_hat\": {\"log_eval\": 4.040715144633089}, \"se\": {\"log_eval\": 0.007789747219705842}, \"se_hat\": {\"log_eval\": 0.006963368495015841}, \"context_stratum\": null}, \"40_0\": {\"name\": \"40_0\", \"parameters\": {\"lr\": 0.0008000000000000004, \"decay\": 0.019416227604450564, \"epochs\": 13}, \"y\": {\"log_eval\": 4.005697820954328}, \"y_hat\": {\"log_eval\": 4.009098731989577}, \"se\": {\"log_eval\": 0.00871842467309026}, \"se_hat\": {\"log_eval\": 0.008204306028275373}, \"context_stratum\": null}, \"41_0\": {\"name\": \"41_0\", \"parameters\": {\"lr\": 0.00212708645449816, \"decay\": 0.01127820018448251, \"epochs\": 15}, \"y\": {\"log_eval\": 3.983780613080933}, \"y_hat\": {\"log_eval\": 3.9848810959978844}, \"se\": {\"log_eval\": 0.008859211473068451}, \"se_hat\": {\"log_eval\": 0.008676121060249982}, \"context_stratum\": null}, \"42_0\": {\"name\": \"42_0\", \"parameters\": {\"lr\": 0.0008000000000000004, \"decay\": 0.1, \"epochs\": 15}, \"y\": {\"log_eval\": 4.027518651810411}, \"y_hat\": {\"log_eval\": 4.028330745682156}, \"se\": {\"log_eval\": 0.007652008483475657}, \"se_hat\": {\"log_eval\": 0.007256147587810133}, \"context_stratum\": null}, \"43_0\": {\"name\": \"43_0\", \"parameters\": {\"lr\": 0.0008000000000000004, \"decay\": 0.03401669027082794, \"epochs\": 8}, \"y\": {\"log_eval\": 4.023404506162787}, \"y_hat\": {\"log_eval\": 4.02335703904453}, \"se\": {\"log_eval\": 0.007980565078703471}, \"se_hat\": {\"log_eval\": 0.007708830083616422}, \"context_stratum\": null}, \"44_0\": {\"name\": \"44_0\", \"parameters\": {\"lr\": 0.003633636002786291, \"decay\": 0.028776448733151633, \"epochs\": 3}, \"y\": {\"log_eval\": 4.0366771130414705}, \"y_hat\": {\"log_eval\": 4.036021381561066}, \"se\": {\"log_eval\": 0.007737460497862321}, \"se_hat\": {\"log_eval\": 0.006611636780960699}, \"context_stratum\": null}, \"45_0\": {\"name\": \"45_0\", \"parameters\": {\"lr\": 0.008000000000000004, \"decay\": 0.007147212988528556, \"epochs\": 0}, \"y\": {\"log_eval\": 3.924091409401043}, \"y_hat\": {\"log_eval\": 3.9259242687905567}, \"se\": {\"log_eval\": 0.0089671782093854}, \"se_hat\": {\"log_eval\": 0.008837653500910583}, \"context_stratum\": null}, \"46_0\": {\"name\": \"46_0\", \"parameters\": {\"lr\": 0.0008000000000000004, \"decay\": 0.062132377301891986, \"epochs\": 11}, \"y\": {\"log_eval\": 4.03621600874713}, \"y_hat\": {\"log_eval\": 4.038803959029759}, \"se\": {\"log_eval\": 0.007890092508523705}, \"se_hat\": {\"log_eval\": 0.006788521473106762}, \"context_stratum\": null}, \"47_0\": {\"name\": \"47_0\", \"parameters\": {\"lr\": 0.0008000000000000004, \"decay\": 0.001, \"epochs\": 0}, \"y\": {\"log_eval\": 3.939849888806768}, \"y_hat\": {\"log_eval\": 3.9399320453544253}, \"se\": {\"log_eval\": 0.00877473308367555}, \"se_hat\": {\"log_eval\": 0.008719145213336643}, \"context_stratum\": null}, \"48_0\": {\"name\": \"48_0\", \"parameters\": {\"lr\": 0.004308203330778961, \"decay\": 0.028771024643772, \"epochs\": 4}, \"y\": {\"log_eval\": 4.036188325149162}, \"y_hat\": {\"log_eval\": 4.039249081142876}, \"se\": {\"log_eval\": 0.007577407991815798}, \"se_hat\": {\"log_eval\": 0.0065229120234578655}, \"context_stratum\": null}, \"49_0\": {\"name\": \"49_0\", \"parameters\": {\"lr\": 0.0036967447563253904, \"decay\": 0.1, \"epochs\": 3}, \"y\": {\"log_eval\": 3.939970232874096}, \"y_hat\": {\"log_eval\": 3.9411933023752272}, \"se\": {\"log_eval\": 0.0072260554461817585}, \"se_hat\": {\"log_eval\": 0.007118949508254934}, \"context_stratum\": null}, \"4_0\": {\"name\": \"4_0\", \"parameters\": {\"lr\": 0.0011934390082424268, \"decay\": 0.06686069314247507, \"epochs\": 1}, \"y\": {\"log_eval\": 3.9676639950748886}, \"y_hat\": {\"log_eval\": 3.967407555009287}, \"se\": {\"log_eval\": 0.008439619929951075}, \"se_hat\": {\"log_eval\": 0.008355323774245435}, \"context_stratum\": null}, \"50_0\": {\"name\": \"50_0\", \"parameters\": {\"lr\": 0.0010861821066179202, \"decay\": 0.1, \"epochs\": 6}, \"y\": {\"log_eval\": 4.01873097461381}, \"y_hat\": {\"log_eval\": 4.018774498109206}, \"se\": {\"log_eval\": 0.007476939713896601}, \"se_hat\": {\"log_eval\": 0.007284472147061626}, \"context_stratum\": null}, \"51_0\": {\"name\": \"51_0\", \"parameters\": {\"lr\": 0.0029168908105427667, \"decay\": 0.02052006286485383, \"epochs\": 6}, \"y\": {\"log_eval\": 4.046149745093893}, \"y_hat\": {\"log_eval\": 4.046139565660806}, \"se\": {\"log_eval\": 0.008199089686813746}, \"se_hat\": {\"log_eval\": 0.007449515143363521}, \"context_stratum\": null}, \"52_0\": {\"name\": \"52_0\", \"parameters\": {\"lr\": 0.0014333221894011758, \"decay\": 0.003932877349377023, \"epochs\": 8}, \"y\": {\"log_eval\": 3.9847539886801733}, \"y_hat\": {\"log_eval\": 3.9852954697031624}, \"se\": {\"log_eval\": 0.008939494207823605}, \"se_hat\": {\"log_eval\": 0.00876160990108908}, \"context_stratum\": null}, \"53_0\": {\"name\": \"53_0\", \"parameters\": {\"lr\": 0.0034402691960054464, \"decay\": 0.024358234364913824, \"epochs\": 5}, \"y\": {\"log_eval\": 4.055870379113808}, \"y_hat\": {\"log_eval\": 4.0530499206343}, \"se\": {\"log_eval\": 0.007468974042501011}, \"se_hat\": {\"log_eval\": 0.0061067200752131815}, \"context_stratum\": null}, \"5_0\": {\"name\": \"5_0\", \"parameters\": {\"lr\": 0.0019558212574087366, \"decay\": 0.0011824514174953505, \"epochs\": 5}, \"y\": {\"log_eval\": 3.9826962664100476}, \"y_hat\": {\"log_eval\": 3.9812209404513363}, \"se\": {\"log_eval\": 0.008637217750371025}, \"se_hat\": {\"log_eval\": 0.008451074880474795}, \"context_stratum\": null}, \"6_0\": {\"name\": \"6_0\", \"parameters\": {\"lr\": 0.005551494394407805, \"decay\": 0.010283260945966472, \"epochs\": 8}, \"y\": {\"log_eval\": 3.937745563984811}, \"y_hat\": {\"log_eval\": 3.9483985569860742}, \"se\": {\"log_eval\": 0.009519154098377499}, \"se_hat\": {\"log_eval\": 0.008814390749896862}, \"context_stratum\": null}, \"7_0\": {\"name\": \"7_0\", \"parameters\": {\"lr\": 0.007662923912231201, \"decay\": 0.002680738706964375, \"epochs\": 3}, \"y\": {\"log_eval\": 4.011433652054382}, \"y_hat\": {\"log_eval\": 4.008593849982736}, \"se\": {\"log_eval\": 0.008661630655341245}, \"se_hat\": {\"log_eval\": 0.008472975026342998}, \"context_stratum\": null}, \"8_0\": {\"name\": \"8_0\", \"parameters\": {\"lr\": 0.0016311940380312328, \"decay\": 0.030532060346985843, \"epochs\": 13}, \"y\": {\"log_eval\": 4.033091584092544}, \"y_hat\": {\"log_eval\": 4.031388818002143}, \"se\": {\"log_eval\": 0.00794129124580905}, \"se_hat\": {\"log_eval\": 0.0075129234837603915}, \"context_stratum\": null}, \"9_0\": {\"name\": \"9_0\", \"parameters\": {\"lr\": 0.0008013008433305626, \"decay\": 0.005499813737312483, \"epochs\": 11}, \"y\": {\"log_eval\": 3.996061115189173}, \"y_hat\": {\"log_eval\": 3.9953230147021666}, \"se\": {\"log_eval\": 0.008740295689537658}, \"se_hat\": {\"log_eval\": 0.008591547617036153}, \"context_stratum\": null}, \"control1\": {\"name\": \"control1\", \"parameters\": {\"lr\": 0.0043, \"decay\": 0.0012, \"epochs\": 5}, \"y\": {\"log_eval\": 3.997396798885231}, \"y_hat\": {\"log_eval\": 3.9951330212120184}, \"se\": {\"log_eval\": 0.008531493375863187}, \"se_hat\": {\"log_eval\": 0.008318374028251425}, \"context_stratum\": null}, \"control2\": {\"name\": \"control2\", \"parameters\": {\"lr\": 0.0043, \"decay\": 0.0012, \"epochs\": 10}, \"y\": {\"log_eval\": 3.902201694947672}, \"y_hat\": {\"log_eval\": 3.9025434779865877}, \"se\": {\"log_eval\": 0.01006668027108687}, \"se_hat\": {\"log_eval\": 0.009324324088314554}, \"context_stratum\": null}, \"previous\": {\"name\": \"previous\", \"parameters\": {\"lr\": 0.00715, \"decay\": 0.01, \"epochs\": 6}, \"y\": {\"log_eval\": 3.9953394538615683}, \"y_hat\": {\"log_eval\": 3.9918436811219107}, \"se\": {\"log_eval\": 0.008252234051061177}, \"se_hat\": {\"log_eval\": 0.008005110145318989}, \"context_stratum\": null}, \"zero\": {\"name\": \"zero\", \"parameters\": {\"lr\": 0.0043, \"decay\": 0.0012, \"epochs\": 0}, \"y\": {\"log_eval\": 3.9341571499800057}, \"y_hat\": {\"log_eval\": 3.9350915596194054}, \"se\": {\"log_eval\": 0.009092915137801005}, \"se_hat\": {\"log_eval\": 0.00899225601874008}, \"context_stratum\": null}}, \"out_of_sample\": {}, \"status_quo_name\": null};\n",
       "const density = 50;\n",
       "const grid_x = [0.0008000000000000004, 0.0008384905073237486, 0.000878832913590047, 0.0009211163194611579, 0.0009654341125114635, 0.001011884173484237, 0.001060569092472088, 0.0011115963954985103, 0.001165078782000996, 0.0012211343737401873, 0.0012798869756848463, 0.001341466349448807, 0.0014060084998838336, 0.0014736559754613737, 0.0015445581831066003, 0.0016188717181801267, 0.001696760710336153, 0.0017783971860209572, 0.0018639614484122983, 0.0019536424756389204, 0.0020476383381596297, 0.0021461566362237804, 0.0022494149583793858, 0.0023576413620414486, 0.0024710748771819865, 0.0025899660342541156, 0.0027145774175162648, 0.002845184244978504, 0.0029820749762519516, 0.0031255519496436947, 0.00327593204990434, 0.003433547408103024, 0.003598746135175557, 0.003771893090765917, 0.003953370689059068, 0.004143579743384972, 0.004342940351459089, 0.004551892823214636, 0.004770898653275716, 0.005000441540219178, 0.005241028454876409, 0.005493190760034401, 0.005757485384009219, 0.0060344960506836945, 0.006324834568726164, 0.006629142182837476, 0.0069480909900108195, 0.007282385423932177, 0.007632763810799958, 0.008000000000000004];\n",
       "const grid_y = [0.001, 0.0010985411419875584, 0.0012067926406393288, 0.0013257113655901094, 0.0014563484775012444, 0.0015998587196060573, 0.0017575106248547913, 0.0019306977288832496, 0.0021209508879201904, 0.002329951810515372, 0.002559547922699536, 0.002811768697974231, 0.0030888435964774815, 0.00339322177189533, 0.003727593720314938, 0.004094915062380423, 0.004498432668969444, 0.004941713361323833, 0.005428675439323859, 0.005963623316594642, 0.006551285568595509, 0.0071968567300115215, 0.0079060432109077, 0.00868511373751352, 0.009540954763499945, 0.010481131341546858, 0.01151395399326447, 0.012648552168552958, 0.013894954943731374, 0.015264179671752334, 0.016768329368110076, 0.018420699693267154, 0.020235896477251564, 0.022229964825261943, 0.02442053094548651, 0.026826957952797246, 0.029470517025518096, 0.032374575428176434, 0.03556480306223128, 0.03906939937054615, 0.04291934260128776, 0.04714866363457392, 0.0517947467923121, 0.05689866029018296, 0.0625055192527397, 0.06866488450042998, 0.07543120063354615, 0.08286427728546843, 0.09102981779915217, 0.1];\n",
       "const f = [3.9777393136546957, 3.9789021409489704, 3.9799612702551097, 3.9809152798424674, 3.9817631442439856, 3.9825032008473356, 3.983132300225538, 3.9836451432204196, 3.9840338209195525, 3.9842875857689966, 3.9843928924045335, 3.98433375416653, 3.9840924638909705, 3.9836507227852618, 3.982991204967578, 3.982099551339338, 3.9809667258939188, 3.979591570572574, 3.9779832598685485, 3.97616320995739, 3.974165912186463, 3.9720382362147753, 3.9698370230239712, 3.9676251639896734, 3.965466659093445, 3.9634212558431803, 3.96153921662993, 3.95985663694198, 3.9583916121045473, 3.9571414596090486, 3.956081160970273, 3.9551631969300427, 3.954319001661224, 3.9534623046043875, 3.9524945605295527, 3.9513123802291306, 3.94981636778907, 3.9479202556364754, 3.9455590286267403, 3.942694996727696, 3.939321328507789, 3.9354630527534384, 3.9311757813816492, 3.9265424446910115, 3.92166829655582, 3.9166744452309334, 3.911690237153346, 3.9068449678383024, 3.9022595850873834, 3.8980392151436893, 3.978555302222603, 3.9796826698459125, 3.980704034197257, 3.9816188560877253, 3.982427125400617, 3.983128293455996, 3.983720377777235, 3.9841992465117873, 3.9845581012161344, 3.98478718989251, 3.9848737938360186, 3.984802540484168, 3.9845560979434675, 3.9841163022371253, 3.9834657513476093, 3.9825898645127156, 3.981479341766459, 3.9801328566706173, 3.9785596711770688, 3.976781701036295, 3.9748344608116977, 3.9727663907458783, 3.9706363622714735, 3.968509567714482, 3.9664523208457956, 3.9645264083737866, 3.962783571460856, 3.9612605617191394, 3.9599750826832434, 3.958922828040635, 3.958075776827949, 3.9573819152667817, 3.9567666220857385, 3.956136030012072, 3.955382642044231, 3.954393191905152, 3.953058168598556, 3.9512818106703556, 3.948991111029165, 3.946142655693916, 3.9427267353895723, 3.9387687151949784, 3.9343279086732936, 3.9294942353229967, 3.924382898561118, 3.9191273155325437, 3.913870608200966, 3.908756143870199, 3.9039178789682114, 3.899471536296761, 3.9792561747360775, 3.980339139948338, 3.981313997807036, 3.982181046718055, 3.9829412730816762, 3.9835952793291596, 3.9841423458531877, 3.984579659434058, 3.9849017334250623, 3.985100055998084, 3.985163015321591, 3.985076160518721, 3.984822861610149, 3.984385426749977, 3.9837467162451117, 3.9828922537947187, 3.981812767341335, 3.9805069847876546, 3.9789843606116677, 3.977267243815433, 3.9753918945754787, 3.9734078307323775, 3.971375287076023, 3.9693609910910896, 3.9674327912508094, 3.96565379500384, 3.9640766169456287, 3.962738204361092, 3.9616555706969128, 3.9608226594733114, 3.960208499597253, 3.959756817121659, 3.9593873442220646, 3.9589991683872445, 3.958476463837779, 3.9576966680908945, 3.9565405577748325, 3.9549029879605926, 3.9527027330137288, 3.949890135944405, 3.946451910905928, 3.9424130181855555, 3.937835814374674, 3.9328167294667846, 3.9274806898955585, 3.9219734966438207, 3.916452435016852, 3.91107558209394, 3.905990619461985, 3.901324397023272, 3.97984902268981, 3.980878960716993, 3.981798778097743, 3.9826096551399095, 3.983313605519077, 3.9839124427231094, 3.984406818138014, 3.9847953975574755, 3.9850742162874275, 3.9852362566091686, 3.9852713029446636, 3.985166141055262, 3.9849051728886185, 3.984471513240063, 3.9838486126122787, 3.9830224061521675, 3.981983913749058, 3.980732103642184, 3.9792766812644516, 3.9776403040981863, 3.9758596285607357, 3.973984673041282, 3.972076277203988, 3.970201847543177, 3.9684299086940604, 3.96682411137584, 3.9654373075947915, 3.9643061827390285, 3.9634468002948497, 3.9628513001519856, 3.9624859183143237, 3.962290490925187, 3.9621796827554157, 3.9620462986422487, 3.961767060868365, 3.9612109742773387, 3.960249783926784, 3.9587693036733174, 3.95668001699997, 3.9539255706108403, 3.950488384893059, 3.9463921776067044, 3.9417015135294036, 3.936518592119985, 3.9309774893708362, 3.925236059618669, 3.919465733590094, 3.9138396038760446, 3.908519578701291, 3.9036440367115675, 3.9803436934541248, 3.9813125304230277, 3.9821692270328053, 3.982915946748764, 3.983555821135046, 3.9840919746124137, 3.9845265613296466, 3.9848599012079435, 3.9850897722582874, 3.9852109133028644, 3.985214800562224, 3.985089773139611, 3.9848215888180882, 3.984394485581752, 3.9837927985972, 3.9830031303752813, 3.9820169879432745, 3.980833681914826, 3.979463133930309, 3.9779280913355635, 3.976265171553777, 3.9745242437024006, 3.9727659342621195, 3.9710574239827903, 3.9694670173344666, 3.968058108116504, 3.9668831497893673, 3.9659781394844447, 3.965357999248287, 3.9650131193392064, 3.96490724429566, 3.9649768668119343, 3.965132367030219, 3.9652612576672794, 3.965233934138898, 3.9649120907508486, 3.9641593727254696, 3.9628531161842444, 3.9608956142667417, 3.9582234778347103, 3.954814165498139, 3.950689290359648, 3.9459146719419884, 3.940597295557827, 3.9348794247085586, 3.9289301135890664, 3.9229343302031032, 3.9170799496222104, 3.9115432319675674, 3.906474276828729, 3.980752147210647, 3.981652580242899, 3.982438792717389, 3.9831140601738895, 3.9836827666254746, 3.984149487923754, 3.9845180418394115, 3.984790596288782, 3.9849669045060163, 3.9850437313129268, 3.9850145426508767, 3.9848695430634646, 3.984596154068514, 3.984180020466963, 3.9836066016652745, 3.9828633436421894, 3.981942331747655, 3.9808431986405677, 3.9795759184842243, 3.9781629906849334, 3.9766404645088147, 3.975057348734584, 3.97347320628249, 3.971954073802126, 3.970567136250671, 3.96937473733868, 3.9684283201059585, 3.9677628190892866, 3.9673919136172633, 3.9673044327981466, 3.9674621100452616, 3.967798858331978, 3.9682218003647587, 3.96861440462053, 3.968842121009662, 3.96876070026484, 3.968226847222531, 3.9671101909628623, 3.9653051171704954, 3.9627410132557137, 3.959389822067667, 3.9552702485794935, 3.9504483787445226, 3.9450348143959055, 3.9391786521237493, 3.93305867258913, 3.9268719773190552, 3.92082017113834, 3.915093359653427, 3.909853213383662, 3.981087891097741, 3.981913581690399, 3.9826229025325293, 3.983220382900925, 3.9837118193618415, 3.9841034094185153, 3.9844008200465817, 3.984608277428215, 3.9847277511832235, 3.9847583038194516, 3.9846956847497736, 3.9845322630344104, 3.9842574049245445, 3.983858398438069, 3.983321993574485, 3.98263655422761, 3.981794707883338, 3.9807962448781127, 3.9796508828993877, 3.9783804082144485, 3.9770196801173086, 3.975616085144982, 3.974227257706663, 3.972917180377322, 3.9717510385987103, 3.9707893592092804, 3.970082001745317, 3.9696625265316845, 3.9695433684822428, 3.969712130476491, 3.9701292122934912, 3.97072695432824, 3.9714105251263936, 3.972060884851454, 3.972540198082747, 3.9726998954829886, 3.9723911333237494, 3.97147681575177, 3.969843896262893, 3.967414526764594, 3.9641547419397876, 3.9600796708719486, 3.9552547396407185, 3.949792902183151, 3.9438483905018376, 3.9376075834574946, 3.931277347057828, 3.925070814270129, 3.91919040474187, 3.9138086240428267, 3.9813654782821777, 3.982111208996212, 3.982738383691868, 3.9832529325640245, 3.9836622367815564, 3.9839743017191274, 3.984196843040132, 3.984336362918311, 3.984397288274659, 3.9843812434537855, 3.984286540285018, 3.9841079871920915, 3.9838371374903976, 3.983463099029211, 3.9829739924716843, 3.9823590604367256, 3.9816113007746963, 3.9807303511079493, 3.9797252231558784, 3.97861640707033, 3.977436868717178, 3.9762315696950803, 3.975055345463778, 3.9739692322170406, 3.9730355648376543, 3.972312321199565, 3.971847247664741, 3.9716722808009095, 3.971798703286743, 3.9722133645382014, 3.972876197384778, 3.9737192167501267, 3.97464722072756, 3.9755404997698056, 3.9762598987866857, 3.9766544471197656, 3.976571422757364, 3.9758682412049846, 3.974425119857021, 3.972157154208852, 3.969024262851618, 3.9650375203478925, 3.960260914249874, 3.9548084889679687, 3.948837659824252, 3.942539677952698, 3.936127804669777, 3.929823099963397, 3.9238372165114965, 3.9183516894395725, 3.9816000656804267, 3.9822618514861503, 3.982802922459672, 3.9832307587432076, 3.9835545010597153, 3.9837841526307725, 3.9839296782888773, 3.9840000683972967, 3.984002434212182, 3.9839412039617743, 3.983817501156991, 3.9836288102370068, 3.9833690632248593, 3.983029295152039, 3.9825989851051156, 3.982068101054762, 3.981429711279181, 3.980682860518722, 3.979835287192646, 3.9789055082862625, 3.9779238301244706, 3.976931957128943, 3.9759810544280922, 3.97512833834841, 3.974432471357293, 3.9739481839923503, 3.9737206183445553, 3.9737798876805956, 3.97413628688607, 3.9747764911887917, 3.97566098365175, 3.9767228998555626, 3.9778684967251627, 3.97897951913684, 3.979917776654238, 3.980532162268266, 3.980668107673754, 3.980179122796673, 3.9789396743261216, 3.9768581965006558, 3.9738884691213103, 3.970037239409513, 3.965366468546547, 3.959990083864079, 3.9540665406622857, 3.9477887496349777, 3.9413721640322557, 3.935040853818984, 3.9290107010653164, 3.923468506479356, 3.9818070289563616, 3.9823821762446574, 3.9828345650339916, 3.983173374429327, 3.9834096769029403, 3.983555657968803, 3.9836237213413623, 3.9836255385558252, 3.9835711026257834, 3.983467847989668, 3.983319911249581, 3.9831276350612232, 3.9828874593388828, 3.9825923787590787, 3.98223312804524, 3.9818001439112978, 3.981286158515715, 3.980689084617225, 3.9800147373514125, 3.9792789220528078, 3.978508480955006, 3.977741012859578, 3.977023144133534, 3.976407414637048, 3.9759480169739168, 3.9756957623499027, 3.9756927234729056, 3.975967018600477, 3.976528155693212, 3.977363269849204, 3.97843449530815, 3.979677656866929, 3.9810024694306567, 3.9822944838203673, 3.983419056871028, 3.984227591477614, 3.984566163092945, 3.9842864451340585, 3.9832585592523833, 3.9813849531880923, 3.978613423846346, 3.9749463023012086, 3.9704431016053325, 3.965216418771319, 3.959423349068607, 3.9532547921287104, 3.946923587191748, 3.940651068200951, 3.9346508949557486, 3.9291087210775135, 3.982001637004544, 3.9824887455363807, 3.982851266997596, 3.983100227634364, 3.9832487980232343, 3.983311519018228, 3.983303403645628, 3.9832389671815998, 3.983131237860508, 3.9829908012762796, 3.9828249410832055, 3.9826369679359965, 3.9824258846039085, 3.9821866008325735, 3.9819109228235012, 3.98158941778352, 3.9812140021664826, 3.980780860227937, 3.980293193673635, 3.9797633328651147, 3.979213839282402, 3.9786773564054214, 3.9781951115393506, 3.9778141266674885, 3.977583345205713, 3.9775490026628075, 3.9777496454988945, 3.97821122394944, 3.978942651057703, 3.9799321458260883, 3.981144593574472, 3.982520098361936, 3.983973894350406, 3.9853978179444143, 3.9866635839225935, 3.9876281164407543, 3.9881411474856026, 3.9880552273927217, 3.9872381694594115, 3.9855875396357825, 3.9830455062613734, 3.979610034143553, 3.975337830938837, 3.970338729775756, 3.96476555945068, 3.9588029321404075, 3.952655713905754, 3.9465362958458288, 3.9406491872844405, 3.9351714477993798, 3.9821987901058225, 3.982597696200348, 3.982870501598709, 3.9830302266980686, 3.9830922995187024, 3.98307377538968, 3.9829924237182714, 3.9828657295589247, 3.982709856615468, 3.9825386155559572, 3.9823624857195368, 3.9821877644758406, 3.9820159854552726, 3.981843851526983, 3.981663990226532, 3.981466710638603, 3.98124260446664, 3.980985521729308, 3.980695364978381, 3.980380237160323, 3.980057615364959, 3.9797543519127254, 3.979505429586703, 3.9793515263293906, 3.9793355696753627, 3.979498567313213, 3.9798750713636015, 3.980488658442937, 3.981347782475186, 3.982442293457059, 3.9837408387192768, 3.985189305756876, 3.9867104495734256, 3.9882048717688687, 3.9895535613832074, 3.9906222446264157, 3.991267817442056, 3.9913471687218345, 3.9907287422673074, 3.9893070668032475, 3.9870193537109313, 3.9838593508239395, 3.9798804774535586, 3.975187766324073, 3.9699260204413447, 3.964268519681583, 3.9584062622097376, 3.9525362578224272, 3.9468472347531005, 3.941501893317658, 3.982412825961407, 3.9827244891378744, 3.982908939132201, 3.9829813358631947, 3.9829595170038137, 3.982863197712717, 3.9827130278595146, 3.982529552041802, 3.9823321153074223, 3.9821377512972953, 3.9819600872005663, 3.9818083184650184, 3.981686376523024, 3.9815925572790687, 3.981520013502426, 3.9814583970810853, 3.9813964871019145, 3.981325233760915, 3.9812405996322426, 3.981145748736346, 3.981052304289872, 3.9809805195058994, 3.980958310091958, 3.9810192016009927, 3.981199348607016, 3.981533873752339, 3.9820528382083604, 3.9827771790503843, 3.9837149294799397, 3.9848579832161333, 3.986179596125823, 3.987632763514566, 3.9891495909427594, 3.9906417939943206, 3.9920025071221548, 3.9931096401689636, 3.9938310917903843, 3.9940322245970172, 3.9935861394846803, 3.992387423152471, 3.9903697042510653, 3.987522762895977, 3.9838957422701835, 3.9795857107230947, 3.9747246474025713, 3.969468825386045, 3.9639893065677123, 3.9584616901606515, 3.95305363288073, 3.947910023345109, 3.9826573955100257, 3.982883735570327, 3.982982209586488, 3.9829702594206857, 3.9828682773398847, 3.9826987712946718, 3.9824853761461, 3.9822517553583405, 3.9820204344936854, 3.981811599168274, 3.9816418822666124, 3.981523174759003, 3.981461560294608, 3.9814566480728653, 3.9815017968970947, 3.9815856369153533, 3.9816947181660796, 3.981816606831772, 3.98194275890975, 3.9820707498198415, 3.982205629712294, 3.98236028566276, 3.982554776558599, 3.9828146909801188, 3.9831686641119144, 3.9836452664869775, 3.9842695318229904, 3.9850594122633445, 3.9860224329144254, 3.987152770390789, 3.988428919753678, 3.9898120636390315, 3.9912452352827765, 3.992653381130184, 3.9939444758081213, 3.9950119169731844, 3.9957385304395374, 3.9960026543500167, 3.995686949475488, 3.994690788526479, 3.9929472500409893, 3.9904425695527888, 3.9872192616703357, 3.9833618141287803, 3.97898387424521, 3.9742189137459145, 3.9692123776233843, 3.9641133980990984, 3.959064798207271, 3.9541915902287004, 3.9829454055935627, 3.983089102433702, 3.9831047575515584, 3.98301223154448, 3.9828346077853762, 3.982597308590349, 3.9823270429314137, 3.982050630495024, 3.981793743553624, 3.9815795983544566, 3.9814276169056932, 3.981352083620213, 3.9813608810624164, 3.9814545776942873, 3.9816264191740514, 3.981863721792795, 3.982150495174088, 3.9824705399613127, 3.9828103268700796, 3.983161266972244, 3.9835211815034226, 3.9838948790597395, 3.984293817717242, 3.9847348986240694, 3.9852385082330235, 3.9858259899225263, 3.9865167707108475, 3.9873253854448545, 3.9882586256679993, 3.989312998836966, 3.9904726301366664, 3.9917076929880224, 3.9929734324596198, 3.994209857963253, 3.9953422305712287, 3.9962825566862468, 3.99693242719367, 3.997187715622767, 3.9969458704034913, 3.9961167855561395, 3.994638354940683, 3.9924940124853703, 3.989715349559597, 3.9863689807155307, 3.9825447449261544, 3.9783479009460825, 3.9738933106844176, 3.9692996169656345, 3.9646821526051603, 3.960144682550853, 3.983289018333196, 3.9833532919076466, 3.9832897913328074, 3.9831209229931153, 3.982872586855186, 3.9825732293901983, 3.9822527102870553, 3.981941028661107, 3.981666951635093, 3.981456578761248, 3.98133186509158, 3.981309129207671, 3.981397632239551, 3.981598504137436, 3.981904577857326, 3.982301643983895, 3.982770962442722, 3.9832922842927876, 3.9838467044694346, 3.9844189755588024, 3.9849991107615703, 3.985583198939499, 3.986173415943659, 3.9867772743573013, 3.9874062120038727, 3.9880736712860547, 3.988792857012723, 3.9895743718575143, 3.990423913182275, 3.9913401773469923, 3.9923130698054994, 3.9933222773023886, 3.994336237566577, 3.9953115528486043, 3.9961929428779275, 3.996913925540454, 3.99739855685793, 3.997564762569133, 3.9973300437863157, 3.9966205431813204, 3.9953838919417266, 3.993601753030055, 3.99129158859146, 3.9884974312269144, 3.9852803107850168, 3.981712421795691, 3.9778737871623235, 3.9738493361643856, 3.969724925709396, 3.965582055603933, 3.983699688325304, 3.983688080177971, 3.9835493172485315, 3.9833084640371204, 3.982994348046096, 3.9826385364394645, 3.9822741052762294, 3.981934248361926, 3.9816507712169202, 3.981452508173698, 3.9813636933580763, 3.9814023258442988, 3.9815786354809406, 3.9818939353026823, 3.9823403792715615, 3.9829020688820274, 3.983557366466387, 3.9842817617109776, 3.985050664805764, 3.9858417640683452, 3.986636777002742, 3.9874225212565504, 3.9881912914546565, 3.988940578943902, 3.9896722199615953, 3.9903910991287543, 3.9911035619404673, 3.9918156958409168, 3.9925316226486918, 3.9932519097919066, 3.9939721641514825, 3.9946818338368373, 3.9953632233419123, 3.9959907369625225, 3.9965304120837257, 3.9969398953398536, 3.9971691585670195, 3.9971624488617823, 3.996862174072277, 3.9962154050733654, 3.9951826049650943, 3.9937450400033394, 3.991905468412356, 3.9896824290350867, 3.987104146944948, 3.984205637287845, 3.9810284939537133, 3.9776213017390654, 3.974038880883362, 3.9703396748223114, 3.9841882100306845, 3.9841043896525097, 3.983894236588789, 3.9835855661777178, 3.9832102265912392, 3.98280298788911, 3.9824001992039273, 3.9820382629531363, 3.98175197573712, 3.981572781834942, 3.9815269843570023, 3.9816339783560357, 3.981904642370531, 3.982340177563487, 3.9829318363036776, 3.9836618775272834, 3.9845056322332213, 3.985434159152368, 3.9864169461405257, 3.987424304004065, 3.988429271351148, 3.989408950822295, 3.9903452594437945, 3.991225123986351, 3.9920401937664716, 3.9927861761860606, 3.9934619190845098, 3.994068364170493, 3.9946074765244073, 3.9950812205605795, 3.9954906117680062, 3.995834837587438, 3.9961104214662138, 3.9963104108963434, 3.996423610141698, 3.9964339570356344, 3.996320263633989, 3.9960566900348553, 3.9956144249335397, 3.9949648641973416, 3.9940836695747604, 3.99295355770087, 3.991563612471451, 3.9899060144059946, 3.987973749840063, 3.98576162147025, 3.983269994431854, 3.980509061366415, 3.977501437832657, 3.9742819639472593, 3.984764741146385, 3.984612359462651, 3.9843344696012712, 3.983961706991265, 3.9835290139112742, 3.983074431888856, 3.9826376351093873, 3.9822582563268294, 3.981974061051861, 3.981819027540522, 3.9818213974352794, 3.9820017902690314, 3.9823715456030637, 3.9829315705335144, 3.9836720476766168, 3.9845732422919347, 3.9856073151237026, 3.9867407475968397, 3.9879369285792614, 3.989158570298547, 3.9903697617144998, 3.9915375683061183, 3.992633153594919, 3.9936324459397166, 3.994516411543194, 3.995271020901596, 3.9958870076877235, 3.9963595134315977, 3.996687688535634, 3.9968742844988583, 3.996925231888729, 3.9968491637396397, 3.9966568243206626, 3.99636030567501, 3.9959720826358494, 3.9955038713020006, 3.994965410807876, 3.9943633426926146, 3.9937003751494227, 3.99297474954317, 3.992179596653905, 3.991301432033651, 3.9903176914117573, 3.989194911301442, 3.9878900327510953, 3.986355945623469, 3.984549998180511, 3.98244268558955, 3.980023772348753, 3.9773043047124776, 3.985438765498937, 3.985221373972284, 3.9848790618731376, 3.9844453280491043, 3.98395826238888, 3.9834592354266714, 3.982991299882279, 3.982597359130543, 3.9823181664835805, 3.982190227490286, 3.9822436927838867, 3.982500362541895, 3.9829719842928255, 3.9836590994903136, 3.984550717161451, 3.9856249797587693, 3.986850746297592, 3.988189798564661, 3.9895993067778024, 3.9910342541150294, 3.992449625448518, 3.993802258166433, 3.995052321238104, 3.9961644382791635, 3.997108505848829, 3.997860279789562, 3.9984018080982655, 3.998721777167699, 3.998815810523931, 3.99868672032433, 3.9983446699356566, 3.9978071702385565, 3.997098810907044, 3.9962506249468617, 3.995298999006344, 3.9942840663012773, 3.993247540458834, 3.992229948688376, 3.9912671836334876, 3.9903862314373453, 3.98959998661611, 3.988901546456024, 3.988259470748397, 3.987616552043572, 3.986894332012677, 3.9860035126015423, 3.9848578676593815, 3.983387868749903, 3.981550510761901, 3.979333358296252, 3.986218962608216, 3.985940010335787, 3.9855362267467767, 3.9850439901341486, 3.9845045721764487, 3.9839627219353626, 3.9834649314274846, 3.9830574420409937, 3.9827840651786866, 3.9826839054901844, 3.9827890967300292, 3.983122694604113, 3.983696917609857, 3.984511966795775, 3.9855556443708897, 3.9868038874987386, 3.9882221560788818, 3.9897674504719673, 3.991390666176344, 3.9930390200901726, 3.994658358697054, 3.996195239151369, 3.9975987415677996, 3.998822021732292, 3.9998236483709575, 4.000568787444977, 4.001030296265832, 4.001189772103734, 4.001038565650898, 4.000578724952049, 3.999823788855661, 3.998799310083414, 3.997542963753492, 3.9961040892085324, 3.9945425151953304, 3.9929265169291597, 3.991329730072911, 3.989826789518732, 3.9884873935594727, 3.987368532048734, 3.986505023177062, 3.9858995811920934, 3.985515238230689, 3.9852739104399104, 3.9850637136480307, 3.9847543926042204, 3.9842170479927383, 3.983343040040899, 3.982057611134249, 3.9803257736112054, 3.987112960841303, 3.9867758745912973, 3.986313284221637, 3.985764435045272, 3.985173795345199, 3.9845895353429226, 3.984061656494601, 3.98363983497745, 3.9833710625687573, 3.9832971891029176, 3.983452496825609, 3.9838614694856362, 3.9845369520460103, 3.985478912190358, 3.9866739842119685, 3.9880958816100955, 3.9897066266181977, 3.991458418767089, 3.993295900833127, 3.995158588244573, 3.996983281914978, 3.998706353679149, 4.000265858370828, 4.001603478374444, 4.002666341585405, 4.003408769824015, 4.003794010170417, 4.003795976367126, 4.003400984378244, 4.002609412212454, 4.001437159141815, 3.9999167341039694, 3.998097774857789, 3.996046788623604, 3.993845901714985, 3.991590390782835, 3.9893847193145424, 3.9873367116757894, 3.9855494071247892, 3.9841102109648614, 3.983077544644753, 3.9824667026056577, 3.982238899168735, 3.982298889000065, 3.982504678934866, 3.9826879821635166, 3.982679873662944, 3.9823350124961436, 3.981548992188061, 3.98026584051233, 3.988126965931656, 3.9877353103188633, 3.987216471112725, 3.9866125178792156, 3.9859711087560448, 3.9853438680614275, 3.9847843822129865, 3.984345882084459, 3.984078703997619, 3.984027647622465, 3.9842293784780027, 3.984710053175597, 3.98548336824029, 3.9865492323533527, 3.9878932197863284, 3.989486874352408, 3.9912888175394077, 3.993246510254091, 3.995298459427837, 3.9973766588208983, 3.9994090941882545, 4.001322204201316, 4.003043251416693, 4.004502610372355, 4.005636015778991, 4.006386828464078, 4.0067083675410045, 4.006566323854016, 4.005941215431222, 4.0048307784431, 4.003252119051311, 4.001243395856966, 3.9988647692087436, 3.996198343226298, 3.9933468272081565, 3.99043063160687, 3.987583063064558, 3.9849431821183736, 3.9826457787623126, 3.9808079703410266, 3.979512520022578, 3.978789715943367, 3.9786027066543066, 3.978843558606948, 3.9793449738029127, 3.9799055641364585, 3.980321107480287, 3.980413691751798, 3.9800524959388732, 3.9791626538470286, 3.9892652745025554, 3.988822982224823, 3.988250616294134, 3.9875929941280526, 3.9869009301108003, 3.986229518070375, 3.9856359992626964, 3.9851772873192295, 3.984907249586869, 3.984873874651888, 3.9851164883716517, 3.9856632106946184, 3.9865288623564044, 3.9877135197993074, 3.9892018669534077, 3.990963405045019, 3.992953475589891, 3.995114958191038, 3.997380450622116, 3.9996747335727214, 4.001917357831974, 4.004025249772286, 4.005915294052659, 4.00750690723325, 4.008724653556804, 4.009500968344772, 4.009779041109517, 4.00951586816547, 4.00868541627379, 4.0072817537428795, 4.005321918385504, 4.002848220600768, 3.9999296391283394, 3.9966619604377636, 3.9931663278226806, 3.9895858753800053, 3.9860800921865036, 3.982816474861193, 3.9799589122257015, 3.9776522449983673, 3.976002937551157, 3.9750575675723265, 3.9747845845604792, 3.975068501913649, 3.9757232023185756, 3.97652142664816, 3.9772307041406245, 3.9776464954512094, 3.9776158327183317, 3.9770473251928413, 3.990529700703887, 3.990041356398994, 3.9894186953567647, 3.988709167979675, 3.9879666759304024, 3.987249767640116, 3.9866193858401795, 3.9861362405527503, 3.985857911811036, 3.9858358203972286, 3.9861122411537324, 3.9867175656050593, 3.987668036383324, 3.988964160503468, 3.9905899525599793, 3.992513067048314, 3.9946857723223075, 3.9970466269899423, 3.9995226673439355, 4.002031910381851, 4.004486013357725, 4.00679299085842, 4.008859956600277, 4.010595915582676, 4.011914672836319, 4.012737940074781, 4.012998705044936, 4.01264487688628, 4.011643136166996, 4.009982810216546, 4.007679481489898, 4.004777943332872, 4.0013540659871785, 3.9975151354728156, 3.9933982672203387, 3.989166541839123, 3.9850025200765873, 3.9810987393602817, 3.9776446916457, 3.9748097475573436, 3.972721878302751, 3.971443703669437, 3.9709515390601924, 3.971128007736762, 3.9717763890817865, 3.9726530572520447, 3.973506524291331, 3.9741132046282326, 3.9743030530924095, 3.973970545076654, 3.9919189610567565, 3.99139011707996, 3.9907212982146367, 3.9899624285658146, 3.989170381714622, 3.988407098722696, 3.9877372244416853, 3.987225336062823, 3.986932870302617, 3.986914892673673, 3.9872168932835517, 3.9878718312775416, 3.9888976697213248, 3.990295626841568, 3.992049307480735, 3.994124776715655, 3.99647152103439, 3.99902414504789, 4.00170459944654, 4.004424736256883, 4.00708903033117, 4.009597372788376, 4.011847914538466, 4.0137400020807386, 4.0151772931902485, 4.016071158116761, 4.016344454197511, 4.015935701899696, 4.014803587505367, 4.012931581473477, 4.010332314551727, 4.007051229156943, 4.003168955350098, 3.9988018679419626, 3.994100353822369, 3.989244415369087, 3.9844363007430883, 3.979889843626963, 3.9758161211905088, 3.9724050077638746, 3.9698025559102406, 3.968085760559212, 3.9672404639755503, 3.9671533483556054, 3.9676265899941843, 3.968411279291339, 3.9692475737734543, 3.969901485045646, 3.9701914533283076, 3.970000178639972, 3.9934280766117483, 3.9928655749758506, 3.992156059426925, 3.9913517178326625, 3.9905122216311777, 3.989702776466872, 3.988991658081725, 3.9884473066028145, 3.9881350849818733, 3.988113846572674, 3.9884325034257113, 3.9891268333830627, 3.9902167927832193, 3.9917045895148227, 3.9935737028979577, 3.9957889191004177, 3.9982973155390478, 4.001030017792825, 4.003904498770702, 4.0068271978425765, 4.009696291894204, 4.0124045277849065, 4.014842106772755, 4.016899682856286, 4.018471589259457, 4.019459431108191, 4.019776166695087, 4.019350733785296, 4.018133155979988, 4.016099894985506, 4.013259024217302, 4.009654631843397, 4.005369767502347, 4.000527260380186, 3.9952878510359633, 3.9898452428873203, 3.9844178152626646, 3.9792367909914335, 3.9745306237652223, 3.9705053864637754, 3.9673213637393117, 3.9650677188915484, 3.963741031092872, 3.9632378565951516, 3.963368900387393, 3.963891244505541, 3.9645475198622266, 3.9651021323154088, 3.965367741742063, 3.9652178327613274, 3.9950478615538287, 3.9944601335876437, 3.9937171134941156, 3.9928729867742123, 3.991989977913148, 3.9911363438061924, 3.9903838214016143, 3.989804601111608, 3.9894679285934425, 3.9894364775916293, 3.9897626890248286, 3.9904853297698963, 3.9916265675565996, 3.9931898548398137, 3.995158840348482, 3.9974973875598416, 4.000150616565086, 4.003046757134573, 4.00609954490809, 4.009210911805145, 4.0122737916607525, 4.015174953120647, 4.017797862855475, 4.02002566187801, 4.021744398951004, 4.022846698422237, 4.023236031113127, 4.022831689281221, 4.0215744280723085, 4.019432529850683, 4.016407803800819, 4.0125408087798595, 4.007914454961772, 4.002655155391574, 3.996930864057848, 3.990945585140964, 3.9849301638872356, 3.9791292959644307, 3.9737847309910057, 3.969114750078944, 3.9652905491963586, 3.9624118562122352, 3.960487413945268, 3.9594288571055514, 3.959063803129358, 3.9591652436147347, 3.9594879553763627, 3.9598027794383572, 3.959922189254182, 3.959713454254968, 3.9967645725152074, 3.9961618868126942, 3.9953946456964755, 3.9945187060685523, 3.9935985196314228, 3.9927050786426377, 3.9919132885036595, 3.9912988371077502, 3.990934658478999, 3.990887127334546, 3.99121217897599, 3.991951620927557, 3.993129964778951, 3.99475211696759, 3.9968021883880325, 3.9992435162954942, 4.0020197931628, 4.005057044376406, 4.008266139221959, 4.011545553883457, 4.014784194038884, 4.01786419020539, 4.020663679577448, 4.023059676186714, 4.024931203281457, 4.02616290921604, 4.026649392945263, 4.026300402722482, 4.025046919795621, 4.022847893911841, 4.0196970898735165, 4.015629206399517, 4.010724240545723, 4.005109080769858, 3.9989555359814704, 3.9924743608992928, 3.9859051762223134, 3.979502403315723, 3.9735174585912176, 3.968177664843907, 3.9636629993618513, 3.960083376603641, 3.9574616143094117, 3.95572872262728, 3.954735568030113, 3.954278604501083, 3.9541323733231053, 3.954080820852407, 3.9539413721949015, 3.9535784596969257, 3.9985597918857616, 3.9979544222882644, 3.997174612399175, 3.996277502481533, 3.9953293573013755, 3.9944034725901947, 3.9935774863581006, 3.992930164221026, 3.9925377502188746, 3.992470010501892, 3.992786158675951, 3.993530937806056, 3.994731218841617, 3.9963935046557912, 3.9985026477981775, 4.001021892902456, 4.003894112862855, 4.007043927246706, 4.010380334087637, 4.013799539115019, 4.01718777577258, 4.020424028275556, 4.02338267790645, 4.025936188135638, 4.027958028781019, 4.029326106052184, 4.029926991857933, 4.029661197584647, 4.028449579320741, 4.026240677929229, 4.023018417584858, 4.018809197705254, 4.013687149319251, 4.007776318635152, 4.001248829148548, 3.9943185522709306, 3.9872302904399044, 3.9802448106047175, 3.973620287883324, 3.9675910240763126, 3.96234499330152, 3.958003064240913, 3.954604335477161, 3.9521025067554443, 3.9503759366659623, 3.9492495327871535, 3.9485228813961903, 3.947998060583944, 3.9475018299751183, 3.946899222789706, 4.0004106097233985, 3.999816898814299, 3.9990387016214415, 3.9981339925862343, 3.9971703433977406, 3.996222797113698, 3.995371132213953, 3.9946965866990207, 3.9942781278030512, 3.9941883834168226, 3.994489413952225, 3.995228602342711, 3.996435048603826, 3.9981169079375576, 4.000260031422922, 4.0028280397129405, 4.005763672060394, 4.008991043539815, 4.01241838834877, 4.015940940359706, 4.019443730490537, 4.0228042090016585, 4.02589471229301, 4.0285848944366585, 4.030744342208048, 4.032245683914327, 4.0329685602319785, 4.032804802847425, 4.031665011442233, 4.02948640051426, 4.0262413295079345, 4.021945435027032, 4.01666392279881, 4.010514533800483, 4.003666051497126, 3.996331836276331, 3.9887585002936907, 3.9812102932256397, 3.973950084454933, 3.9672181873435264, 3.9612108917379043, 3.956061506812719, 3.951827587207689, 3.9484878998406887, 3.9459507871698243, 3.9440723939947357, 3.9426804916827916, 3.941598671195194, 3.9406664420561754, 3.939752575449763, 4.002290150713571, 4.001724450743441, 4.00096459281848, 4.000068878078991, 3.9991055871486303, 3.998150827612136, 3.997285765088546, 3.9965933112336023, 3.9961543495602014, 3.9960436034943596, 3.9963253123211575, 3.9970489890993126, 3.9982456650240428, 3.9999251010612062, 4.002074372333161, 4.004657974674276, 4.00761927189524, 4.010882867200734, 4.0143574311101355, 4.0179386099648235, 4.021511781629397, 4.024954557317322, 4.028139038518317, 4.030933941152337, 4.0332068122840905, 4.034826686985604, 4.035667633071935, 4.035613648013145, 4.0345652313355345, 4.032447606663586, 4.029220028758988, 4.024884999508874, 4.0194957403886225, 4.013160171276575, 4.006040050954245, 3.9983446930641295, 3.99031945428485, 3.9822297746712874, 3.974341953396099, 3.966902229087002, 3.9601162359028437, 3.954131487651851, 3.9490258840210863, 3.944804790937778, 3.941407681599021, 3.9387230373351803, 3.9366082289103606, 3.9349102725695566, 3.9334838000018735, 3.93220389512856, 4.004168463824604, 4.003648945753614, 4.0029265519523305, 4.002059349243769, 4.001115641214568, 4.000171794208729, 3.9993094505694273, 3.9986122080473185, 3.9981618435760105, 3.9980341754904734, 3.998294715895665, 3.9989943781016026, 4.000165649815211, 4.001819738570311, 4.003945127356348, 4.006507704795096, 4.0094522732385665, 4.012704985428882, 4.01617621258339, 4.01976344992684, 4.023354013666513, 4.026827412261918, 4.030057378149515, 4.03291364829274, 4.035263709637111, 4.036974883985332, 4.037917280984005, 4.03796821827612, 4.0370185931792255, 4.034981317029003, 4.031801304425168, 4.027465777845377, 4.022013047449576, 4.0155377567441155, 4.008191016833008, 4.0001747202470925, 3.9917302441035605, 3.9831224614650202, 3.9746204848843614, 3.966476983545286, 3.9589082985599884, 3.9520778577200177, 3.9460853540928165, 3.940963533660182, 3.9366831373141573, 3.933164866599564, 3.9302958104115184, 3.9279471116477183, 3.925989902852094, 3.9243074690388324, 4.006013753214512, 4.005560084671068, 4.004896362858571, 4.004079812418961, 4.003177993696282, 4.002266613079481, 4.001426735577978, 4.000741486066062, 4.00029231705412, 4.000154929501559, 4.000394985676789, 4.001063865560987, 4.002194869718375, 4.0038003774295925, 4.005870407503632, 4.008372753290036, 4.011254494055915, 4.014444426882354, 4.01785591557454, 4.021389755787343, 4.024936797484068, 4.028380183505828, 4.031597154469923, 4.034460467456796, 4.0368396164523395, 4.038602241485974, 4.039616334077316, 4.039753987101138, 4.038897360744588, 4.036947143250435, 4.033833087825064, 4.029525359960444, 4.024044711583921, 4.017469249524785, 4.009935980913703, 4.0016362281681594, 3.992805010873783, 3.983705331450393, 3.974608959212508, 3.9657758110273713, 3.9574343290380987, 3.949765279074936, 3.942891065166848, 3.93687191887338, 3.931709212110167, 3.9273548820069393, 3.923724915189149, 3.9207143375675577, 3.918211296450071, 3.9161084721258224, 4.007793882416448, 4.007426785334873, 4.006844550051554, 4.006102913463628, 4.005267858668268, 4.004413417700834, 4.003618903926524, 4.00296566916651, 4.0025334655250155, 4.002396494581557, 4.002619272765759, 4.003252547471326, 4.004329643909871, 4.005863726475583, 4.007846403276229, 4.01024784243671, 4.013018217799876, 4.016090053286854, 4.0193809831797305, 4.0227965335002684, 4.0262326527174, 4.029577818905889, 4.0327146254250605, 4.035520834917342, 4.037870041053867, 4.039632319248817, 4.040675547072552, 4.040868303570953, 4.040085230142408, 4.038215323132723, 4.035172851832589, 4.030909647045335, 4.025426697895841, 4.01878267241155, 4.011097318926132, 4.002548547527044, 3.9933629947877365, 3.983800855655198, 3.9741366772852986, 3.964638508538473, 3.9555480766523567, 3.9470644530332626, 3.939333073730346, 3.932441131454407, 3.9264193710324293, 3.921249348633059, 3.9168744574448033, 3.913212655569119, 3.910168917402849, 3.9076458879063845, 4.009478035645017, 4.009218742508048, 4.008741796516709, 4.008100776165609, 4.007359204128336, 4.006588354176161, 4.005864527917687, 4.005265905473214, 4.004869054792449, 4.004745182510943, 4.004956247514383, 4.005551150904238, 4.006562343900163, 4.0080032853114504, 4.009867130858852, 4.012126809706182, 4.01473633649679, 4.017632983573809, 4.020739878679938, 4.023968653327879, 4.027221858857263, 4.030394940183199, 4.033377611745164, 4.036054553779144, 4.038305500230714, 4.040005073562063, 4.041023110790011, 4.0412265598660415, 4.040484059690815, 4.038673880304547, 4.035695038930561, 4.031480378202179, 4.026009542483987, 4.0193194190242, 4.011509821830436, 4.002742827105593, 3.9932350400442074, 3.983243201572673, 3.97304486616653, 3.9629169442796397, 3.9531152105498064, 3.9438574050448802, 3.9353116580459506, 3.927590989931545, 3.9207537352127564, 3.9148089804856294, 3.909725561717026, 3.9054429117187026, 3.901882111049182, 3.898955824677738, 4.011038378217044, 4.010908010883161, 4.010560411302249, 4.010046321149197, 4.009425896968769, 4.008766537650562, 4.008140233442876, 4.00762055003007, 4.007279340178001, 4.007183270005843, 4.007390275022328, 4.007946133835858, 4.008881447790832, 4.010209382810757, 4.011924486776439, 4.014002715140938, 4.016402553714645, 4.0190669421597525, 4.021925635540391, 4.024897664056928, 4.027893601183065, 4.030817391029927, 4.033567516758925, 4.036037347597487, 4.038114652418615, 4.03968059003021, 4.04060897180013, 4.040767049130088, 4.04001918200931, 4.038234275253841, 4.035296914809187, 4.0311210485359, 4.0256642204084265, 4.018939999389415, 4.011026290589991, 4.002067479432874, 3.992268906071258, 3.9818834244877954, 3.971191759144686, 3.9604800328430665, 3.95001820263759, 3.9400422983537244, 3.9307420915882063, 3.922254702251589, 3.9146638175704234, 3.908003612035815, 3.9022660803407985, 3.8974103331203693, 3.8933724612264293, 3.8900748169497312, 4.012451530251926, 4.012470426942945, 4.012275666016107, 4.011914489669503, 4.011442796042075, 4.010923007492045, 4.010421520896024, 4.010005864215969, 4.009741663066037, 4.009689511915101, 4.00990185968405, 4.010420066703998, 4.011271855608369, 4.012469419717223, 4.014008416655316, 4.015867947907773, 4.018011456388569, 4.020388338446595, 4.022935998685759, 4.025582057925663, 4.028246425263161, 4.030842947839736, 4.033280357413364, 4.0354622688377075, 4.037286128076751, 4.0386413616581605, 4.039407561432507, 4.039454125472923, 4.038642953479759, 4.0368352834107215, 4.033902699460983, 4.029741213722748, 4.024286558806871, 4.0175285292707565, 4.009522104681001, 4.000392849702224, 3.990334050639935, 3.979594349277118, 3.968457524746503, 3.9572186393685618, 3.946161140765679, 3.935538115016251, 3.925559178930812, 3.9163832621381696, 3.9081167868658024, 3.9008163212472327, 3.89449453983999, 3.8891282349904186, 3.8846671778968185, 3.881042811412937, 4.013699658526384, 4.013886674138374, 4.013866806337479, 4.013683181593831, 4.013386605205746, 4.013033491996457, 4.012683444900165, 4.012396618556936, 4.01223098623061, 4.012239615217096, 4.012468055820637, 4.012951966484743, 4.013715123931554, 4.014767977808887, 4.01610687921172, 4.017714039925978, 4.01955819146842, 4.021595837780008, 4.023772934914926, 4.026026773822817, 4.028287788860543, 4.030480974785399, 4.032526573848864, 4.03433971155655, 4.035828792779459, 4.036892849915029, 4.037418704190185, 4.037279511584084, 4.036336512399748, 4.034445245314218, 4.031466326493039, 4.027279740541034, 4.0218009324109225, 4.014996823246407, 4.006899687861702, 3.9976160417362117, 3.987326775257486, 3.9762759306542463, 3.96474967852163, 3.953050867410563, 3.941474755993061, 3.930289348641216, 3.919721598528226, 3.9099494658728338, 3.9010991990533874, 3.8932469122772706, 3.8864233935716372, 3.8806210374577548, 3.8758018500291294, 3.8719056141162396, 4.01477100778342, 4.01514281356994, 4.015317566199568, 4.015333741700726, 4.01523632394998, 4.01507481746307, 4.0149009765026324, 4.014766401943801, 4.014720141557542, 4.014806412417937, 4.015062548132484, 4.0155172596841835, 4.0161892830542705, 4.017086463213487, 4.018205293584193, 4.019530906346172, 4.021037503411157, 4.022689214779094, 4.024441332583428, 4.0262417798972425, 4.028032564299543, 4.029750879762467, 4.031329471419362, 4.032695878346453, 4.0337702964581865, 4.0344622048480945, 4.034666636652278, 4.034261782848564, 4.033109919777693, 4.031063051831737, 4.027973414081657, 4.023707813723375, 4.018164245642033, 4.011289212370982, 4.003094006847492, 3.9936669518252774, 3.9831766108339286, 3.9718617299148233, 3.9600093527936675, 3.947927872589137, 3.9359216353356388, 3.924270577168374, 3.91321587307829, 3.9029513601207726, 3.893620016582011, 3.8853145940619394, 3.8780814279271776, 3.871926441528938, 3.8668224068878807, 3.862716631139434, 4.015659760212505, 4.016230171874542, 4.016616084831591, 4.01685090281933, 4.016973208722707, 4.017024874057221, 4.017048953683493, 4.017087530740525, 4.017179666504224, 4.017359590921878, 4.017655239283297, 4.018087196347688, 4.018668050896236, 4.0194020999902165, 4.020285298979571, 4.021305364911046, 4.022442014974768, 4.023667404904408, 4.024946838036164, 4.02623970903677, 4.027500483346991, 4.028679375399804, 4.029722308347439, 4.030569725213927, 4.031153949322487, 4.031395211942921, 4.031197243512385, 4.030444183459375, 4.029000893840228, 4.026718139322329, 4.023442806125327, 4.019032177332538, 4.013370830916127, 4.006388847132317, 3.9980798911812103, 3.988516170389437, 3.9778543344610515, 3.9663265697628094, 3.9542182007876114, 3.9418397994131436, 3.929501146082452, 3.9174904476905006, 3.9060595487854206, 3.895414769445454, 3.885712633252894, 3.8770596330556226, 3.8695151472590186, 3.863096620712104, 3.857786161232103, 3.853537782407385, 4.016365243061399, 4.0171446069100565, 4.017754248251701, 4.018222208603711, 4.018580269079883, 4.018862164077521, 4.019101647545294, 4.019330587328747, 4.019577261590833, 4.019865013929949, 4.0202113835480455, 4.020627756976534, 4.021119488168571, 4.021686322288515, 4.022322882856514, 4.023019005392013, 4.023759845638961, 4.0245258782045665, 4.025292985128183, 4.026032735041711, 4.026712741415863, 4.027296789794666, 4.027744303549069, 4.02800869248746, 4.028034265853458, 4.027751828300396, 4.02707386394684, 4.025891067469258, 4.024072305326101, 4.021469471650123, 4.017927435091028, 4.013298162701512, 4.007457711944038, 4.000324938621612, 3.9918806338249766, 3.9821840860452866, 3.9713807064915154, 3.959694242338492, 3.9474047432081316, 3.9348207265039035, 3.922253115489927, 3.9099942992934786, 3.898302981886429, 3.887394450571125, 3.8774355731857613, 3.8685437436836203, 3.8607889717272745, 3.854198311475293, 3.8487618482377046, 3.8444395186911056, 4.016890638575667, 4.0178853035502655, 4.0187266006547055, 4.019437055271449, 4.020041436229716, 4.0205650743254076, 4.02103209648521, 4.021463757403677, 4.02187706070223, 4.0222838504601555, 4.022690510255352, 4.023098319457564, 4.0235043806520014, 4.023902865466877, 4.024286191079626, 4.024645738049609, 4.024971917698949, 4.025253712805852, 4.025478028303584, 4.02562913729507, 4.025688251381616, 4.02563296705572, 4.025436162731854, 4.025063881145755, 4.024471885076282, 4.023601024754215, 4.0223723177365445, 4.020683437922642, 4.018408597360558, 4.01540322013846, 4.011513630201395, 4.006590946478084, 4.000507999766542, 3.9931781732009153, 3.9845748047590215, 3.9747480322827053, 3.963832888351673, 3.9520425816778064, 3.939647963977324, 3.9269509357607864, 3.9142590217171738, 3.9018645281506217, 3.890029100558011, 3.878973437638537, 3.8688715726179823, 3.859849030575294, 3.8519841372552714, 3.8453117429523194, 3.8398286327306863, 3.8354999316949576, 4.017241421877164, 4.018453325370238, 4.019529047437374, 4.020485570031972, 4.021340622143581, 4.02211109904393, 4.022811453013926, 4.023452239393068, 4.024039025646728, 4.024571870395383, 4.02504553953455, 4.025450533010425, 4.025774834972149, 4.026006075629277, 4.0261335667597695, 4.026149591007466, 4.026049541254029, 4.025830981041798, 4.025492116735066, 4.025030222825098, 4.024440258667005, 4.02371352609395, 4.02283595896773, 4.021785577293363, 4.020528812113375, 4.019015865012177, 4.0171759775808304, 4.014914186143216, 4.012111367468808, 4.008628855747453, 4.004317876046487, 3.9990331174451414, 3.9926493696015557, 3.985080081446593, 3.9762962501348382, 3.966342404595586, 3.95534417597581, 3.9435025757036093, 3.931075808160912, 3.9183549146259775, 3.9056396404053952, 3.8932180059127472, 3.8813507032568286, 3.8702603113447274, 3.860124896677526, 3.8510754176239628, 3.843196289338985, 3.836528434551811, 3.8310741348628325, 3.826803016769566, 4.017423766794512, 4.018850163753928, 4.020157591548862, 4.0213575681879545, 4.022460914883302, 4.023476270130776, 4.024408621823995, 4.025258039300182, 4.026018825560488, 4.026679322335131, 4.027222570565349, 4.0276279418133205, 4.027873688853243, 4.027940089831752, 4.027812511713553, 4.027483480114164, 4.026953018079192, 4.026227193155494, 4.025315553676824, 4.024228352036104, 4.02297407661851, 4.021557262233498, 4.019976184478671, 4.018219966351329, 4.016264822137643, 4.01406962024054, 4.011571588959967, 4.008683575584752, 4.0052944383561995, 4.001273697936775, 3.9964807035830208, 3.990777759134988, 3.984046211253779, 3.9762042593176865, 3.967224657172101, 3.9571491239063463, 3.946094921894866, 3.934250039915694, 3.921857646689386, 3.9091945353462685, 3.8965488394034535, 3.884200405043148, 3.8724052528559287, 3.8613844218470286, 3.851316968381161, 3.842336672360815, 3.834531898349565, 3.8279479985885714, 3.8225916127791986, 3.8184362215532044, 4.017443139066275, 4.0190765027982644, 4.020607319754614, 4.022041804146464, 4.023384126811794, 4.0246350190925275, 4.025790431744677, 4.026840425494175, 4.027768522828966, 4.028551776916469, 4.029161794931307, 4.0295668825473125, 4.029735326603811, 4.029639534449945, 4.029260261126026, 4.028589666316158, 4.027631980545029, 4.026401492586208, 4.024918796773976, 4.023206680772296, 4.021286515603041, 4.019175230854344, 4.0168824778047805, 4.014407497676141, 4.011735433487566, 4.0088332697314195, 4.005646147700088, 4.002095277223489, 3.99807877988622, 3.9934764198312505, 3.9881584636327627, 3.9819982042603033, 3.974887200074465, 3.9667518978014646, 3.9575696887895324, 3.94738147296396, 3.9362971736682173, 3.9244917209984695, 3.912192025914487, 3.8996583480256, 3.8871642127370207, 3.874977966913569, 3.8633476035122465, 3.852489437725891, 3.842580637897623, 3.833755321177201, 3.8261037656811387, 3.819674194023545, 3.8144765259570623, 3.8104874815938308, 4.017303247329779, 4.019131364352173, 4.020871795127698, 4.022525663827851, 4.024090835418917, 4.025560606738369, 4.026922481867041, 4.028157200607595, 4.029238256223725, 4.030132177981382, 4.030799843480823, 4.031199034645562, 4.03128834080141, 4.031032227912144, 4.030406482526352, 4.029402413285294, 4.028027952404286, 4.026305036291448, 4.024264560684757, 4.021940901345838, 4.019367210231611, 4.0165716395908735, 4.013574072525075, 4.010382865020268, 4.006991347323749, 4.003374255392862, 3.9994847451691835, 3.9952530133244055, 3.9905876187423828, 3.985380286684595, 3.9795143974472524, 3.972876747090335, 3.9653716671461194, 3.956936142179271, 3.9475540063394545, 3.9372666770313263, 3.9261777148708283, 3.914449497052791, 3.9022924037863658, 3.8899489407930767, 3.8776759778198144, 3.8657277759008197, 3.8543414792578403, 3.843725872714858, 3.8340536263784397, 3.8254569043536364, 3.818026004872565, 3.8118105636935513, 3.8068227681969633, 3.8030419939418496, 4.017005452487227, 4.019011722155052, 4.020942929347907, 4.022795353103381, 4.024560949680377, 4.026226130924707, 4.027770651985538, 4.0291667680681265, 4.030378900491396, 4.031364103534961, 4.032073614405333, 4.032455731587178, 4.032460204856967, 4.032044084537308, 4.031178294654591, 4.029853006479527, 4.028079227990326, 4.025885571966213, 4.023311945736903, 4.020402826346775, 4.017201617886267, 4.013746256376798, 4.010065612288045, 4.006176196054456, 4.002078924529309, 3.9977560927525104, 3.993169097670535, 3.9882577454025734, 3.9829420121345334, 3.9771268722400683, 3.970710336427463, 3.9635943126513973, 3.9556974191255345, 3.946968433186801, 3.9373986081299406, 3.927030733626152, 3.9159628917518883, 3.904345711255536, 3.8923734170389053, 3.8802704028330606, 3.8682757305136652, 3.8566277854830755, 3.8455506869512646, 3.835243377008627, 3.825871785167881, 3.817564101195915, 3.8104089423731202, 3.804456031453726, 3.79971889066525, 3.7961790018343393, 4.016548659766569, 4.01871259338453, 4.020811321722626, 4.022836540941393, 4.024774724348889, 4.026605990162669, 4.028303103628735, 4.029830764677923, 4.0311454226932995, 4.032195920743183, 4.032925259231227, 4.033273737638636, 4.033183710122333, 4.032606008077288, 4.03150738133937, 4.029876838943772, 4.027727670585012, 4.025093712948907, 4.02202202752911, 4.018565221157984, 4.014775088472363, 4.01069773710174, 4.006369746509439, 4.0018148900503405, 3.997041191370874, 3.992038424257425, 3.9867764928579357, 3.9812053448606606, 3.97525708654036, 3.968850757718546, 3.961899842159253, 3.954322138319361, 3.9460511778583833, 3.9370479805090413, 3.927311592888557, 3.916886678399274, 3.9058666074210406, 3.8943911894055807, 3.8826392600974673, 3.8708173652254017, 3.8591463528262606, 3.847847693385817, 3.837130977349619, 3.82718355012104, 3.8181627982223523, 3.8101912482469706, 3.8033543758141404, 3.797700827496583, 3.793244625656781, 3.78996885282547, 4.015929650125325, 4.018227546497196, 4.020466980017696, 4.022635339654134, 4.024714059399933, 4.026677579105439, 4.0284924679264815, 4.030116856098094, 4.031500414385392, 4.032585185425945, 4.0333075572081185, 4.033601639308211, 4.033404294248979, 4.032661913607761, 4.031338322701307, 4.029421612759814, 4.02692639563637, 4.0238898479664735, 4.02036388652169, 4.016406950715358, 4.012077171607713, 4.0074271379514075, 4.002499867657007, 3.997325564239515, 3.9919189452494557, 3.986277211623288, 3.9803789879796914, 3.9741847252361024, 3.9676390590030572, 3.9606754440210694, 3.953223074991381, 3.9452157289641248, 3.936601789432056, 3.9273543797440205, 3.9174802874989445, 3.90702628648726, 3.8960816728412113, 3.8847763817482432, 3.8732748318122576, 3.861766396818236, 3.8504538755186415, 3.839541426558148, 3.8292232392856826, 3.81967387321987, 3.8110408404477067, 3.8034396859737396, 3.796951557765308, 3.7916230522009773, 3.78746797260564, 3.784470550586044];\n",
       "const lower_is_better = false;\n",
       "const metric = \"log_eval\";\n",
       "const rel = false;\n",
       "const sd = [0.008972239851689549, 0.010176737282349151, 0.013172284582196858, 0.01669786771430763, 0.020162143380917864, 0.02331412209196345, 0.026038072153511494, 0.028281041300219523, 0.030026296818210466, 0.03128233221206876, 0.032077746149366, 0.03245854977730398, 0.03248639720782493, 0.03223678357882486, 0.03179630111301275, 0.03125796049405209, 0.03071370480276875, 0.03024396240025189, 0.029905635865003864, 0.029721830665573965, 0.029677452968529767, 0.029723184658750495, 0.02978681401875984, 0.029787966125314647, 0.029651900112377838, 0.02931980375387931, 0.028755163225078248, 0.027947115734057917, 0.026912063848134445, 0.025694586511751088, 0.024368087393284363, 0.023034656521842094, 0.02182205656322297, 0.020873682881446767, 0.020326679508076182, 0.020278726080307934, 0.02075681618387961, 0.02170868947923073, 0.02302358635706327, 0.0245669016735892, 0.026209550173376745, 0.02784492619954574, 0.02939607499539778, 0.030817615009456862, 0.03209523151782318, 0.033243675633947214, 0.034303095128171195, 0.03533315051190492, 0.036404617516806445, 0.037588966179662495, 0.010152298317033135, 0.010979869381503022, 0.013525026496025595, 0.016701687693706137, 0.019900042504633578, 0.022837077443154278, 0.025378369600332202, 0.027461418961447437, 0.02906493168083258, 0.03019553266298012, 0.03088141726262517, 0.031168963733741815, 0.03112053858778524, 0.030812404957874292, 0.030331733070511537, 0.029771634455755192, 0.029223277964353797, 0.028764948729317875, 0.028449633189437825, 0.02829477172383446, 0.02827855850156193, 0.028345151870620887, 0.028417239964778632, 0.028411479496845374, 0.028252317935508368, 0.027881830382290997, 0.027265466793160192, 0.026394869440012746, 0.02528918911288934, 0.023996021145220595, 0.022592456875097096, 0.021185707067208598, 0.01991089526533269, 0.01892083169333601, 0.01836117324729943, 0.01833110346939501, 0.01884731882594599, 0.019838181840193474, 0.02117306534447823, 0.022703481657401485, 0.02429342416549502, 0.025834389932955646, 0.02725070135990023, 0.028500748412859715, 0.02957682734860444, 0.030503973200173253, 0.03133696192610569, 0.032154214875144145, 0.03304766636487374, 0.034108933334705306, 0.01312622838756461, 0.013495534656249725, 0.015294959220305923, 0.01780578792218305, 0.02048239122548906, 0.023011322434191548, 0.025225485805723022, 0.027040742127311744, 0.028422955048030003, 0.029371522418463792, 0.02991078324975738, 0.03008515040024812, 0.029955889852786206, 0.029598244146860166, 0.029097771177941736, 0.02854476128484703, 0.028025826104470453, 0.02761269373189317, 0.027350076905595908, 0.027246445820950663, 0.027271887009096607, 0.0273647901651879, 0.027445171464635834, 0.02742996155640383, 0.027246052631958475, 0.026839168965157128, 0.026178764228346935, 0.025260234603872233, 0.024105898314581653, 0.022765852713494034, 0.0213191959185054, 0.019875040734755784, 0.018570746378230196, 0.017561597914316135, 0.01699432716567139, 0.016964567149442403, 0.017479086025060167, 0.018453024513248102, 0.019744660639710726, 0.02119908555007955, 0.022677583894178076, 0.02407083056602623, 0.025303336853614636, 0.02633508262301889, 0.02716269870789709, 0.02782012950709855, 0.02837729881860407, 0.028934506144217963, 0.029610366131941075, 0.030522932497262012, 0.01672363601821944, 0.01673125493866531, 0.017848261563149566, 0.019637024345190955, 0.021680824657592905, 0.023685392741266874, 0.025469566840563174, 0.026932235214844193, 0.028026556243254397, 0.028743790842069728, 0.029103518005299478, 0.029147446609318246, 0.028934984650020184, 0.028539246619702984, 0.028042340442495938, 0.027528852117058168, 0.027076835510133717, 0.026746721607014058, 0.02657036710071773, 0.02654399505008303, 0.026628445274762633, 0.02675740377025483, 0.026850833343846976, 0.02682919453107714, 0.02662496547166394, 0.026190116096721585, 0.025499982290254672, 0.02455481796528841, 0.023380370337095113, 0.022028479109015613, 0.020578095822620084, 0.019136093916259034, 0.017835325365347782, 0.016824380797279544, 0.01624191180557319, 0.016175931269742764, 0.016628270303555848, 0.017512761090591168, 0.018688848429665398, 0.020003094719706672, 0.02131691605249087, 0.022519312471212555, 0.023531956537234458, 0.0243123612673074, 0.024857360162751932, 0.025206698844353864, 0.02544480523980264, 0.025697163132051552, 0.02611670172354115, 0.026857575018380417, 0.020380428869006987, 0.020108644681601756, 0.020679768774055637, 0.021820097905131397, 0.023232536892175783, 0.0246735774352382, 0.02597354661145443, 0.02702846606829104, 0.02778582216066071, 0.02823232267274681, 0.028384813159255055, 0.028283541088794717, 0.027986665998414463, 0.027564964795930957, 0.0270957421610046, 0.02665513260574764, 0.02630857326555087, 0.026100447177768493, 0.026045410168437592, 0.02612462991910481, 0.0262890084467436, 0.02646874228480016, 0.0265861219676272, 0.026567882369868647, 0.026354618885255976, 0.025906556720124718, 0.025206266333360178, 0.024259474930264233, 0.023095119486660674, 0.02176546057822902, 0.020346516897887277, 0.018938168876034996, 0.017661716304293723, 0.016650434666623838, 0.016027705623082887, 0.015873151123949124, 0.016192075372581854, 0.016910945136710997, 0.017902839150326984, 0.019022711425060092, 0.02013357808240658, 0.021120533872594813, 0.021898043926021467, 0.022415640163233184, 0.022664437884523363, 0.022684688384291232, 0.02257256480203182, 0.022481368540306277, 0.022608441697698323, 0.023158971178029324, 0.02385686005697108, 0.023356118295513015, 0.023491380193512466, 0.024080538179310527, 0.02491361461896419, 0.025802034058609338, 0.026602563475620997, 0.027221532458391724, 0.02760993858453599, 0.02775609459582472, 0.027678413069310688, 0.027418788286377026, 0.02703619580426999, 0.02659987628744076, 0.02618151031414566, 0.025846155843010823, 0.02564253326233866, 0.025594370084919826, 0.02569529652279724, 0.02590934518399925, 0.026177312109886306, 0.02642712281974677, 0.02658525490739093, 0.026586623754173182, 0.02638154563589529, 0.025939623854600732, 0.025251199222950105, 0.02432731643188652, 0.023199112352600477, 0.021917253559891197, 0.020551583999572947, 0.019190445726929, 0.01793809222929866, 0.01690727520850155, 0.016203503943704407, 0.015900606483518112, 0.016015966257636845, 0.016500701955332125, 0.017252258732433152, 0.01814008188086611, 0.019029845419157348, 0.01980007639269123, 0.02035308666434765, 0.02062407882536146, 0.020591125907844406, 0.02028727472124861, 0.01981427346740419, 0.01935315994788909, 0.019157524235930055, 0.019506175316705864, 0.027043181965052246, 0.026344656060293778, 0.026121772490395153, 0.02624497167223098, 0.026562964840954332, 0.02693371817769937, 0.027244327508335407, 0.027419204330402996, 0.02742053411804265, 0.027244802698983363, 0.026917513701383292, 0.026486818522564494, 0.026016021691813048, 0.025574728440248513, 0.02522870546206975, 0.02502929346196201, 0.02500418689495492, 0.025151931496615102, 0.025441880191178188, 0.025819637813186375, 0.026216237567267243, 0.026558497027346976, 0.02677835717438125, 0.02681992772366965, 0.0266438588711424, 0.02622928928514197, 0.02557397275606785, 0.0246933158253178, 0.02361901094584991, 0.02239775172425964, 0.021090190898509827, 0.019769866119083275, 0.018521264362484493, 0.017435503165991597, 0.01660150498865617, 0.016091116002481986, 0.015940169271121282, 0.01613327574985757, 0.016601658927078478, 0.017235861711608434, 0.017906069276413954, 0.01848186723683844, 0.01884839068639645, 0.01891999304666507, 0.01865391598902053, 0.01806663545573439, 0.01725525045907143, 0.01642256766896592, 0.015888430561685082, 0.01603673696060025, 0.029888197392967233, 0.02901310546530315, 0.02848760670809608, 0.028213406649627633, 0.028077892919256414, 0.027974590715432616, 0.02781848786945604, 0.027554637682756084, 0.027161138595986796, 0.026648162102262358, 0.026054098566313324, 0.025439086450284223, 0.024875745873669176, 0.02443718871644296, 0.024183479093605985, 0.02414929811942953, 0.024336434222422695, 0.024713588932768853, 0.025223105310132287, 0.025791650901352745, 0.026341352383750884, 0.026799075838663353, 0.027103036100184986, 0.02720681281249458, 0.027081164648223043, 0.026714101723438934, 0.026109711254860356, 0.025286266133563162, 0.024274134681440223, 0.023113912903685425, 0.02185502335511977, 0.02055480969716335, 0.019277919680230567, 0.018095405525613065, 0.0170822537576183, 0.016311038648319495, 0.015839285578853876, 0.015691310900347342, 0.015841769512694438, 0.01621136109263489, 0.01667878176083533, 0.017102969969576, 0.01734676852062046, 0.017297447651551764, 0.01688469793823376, 0.01610004715642531, 0.01502407060937645, 0.01386786895164224, 0.013017473805714325, 0.012994745658608186, 0.03237216742862267, 0.031337085226663244, 0.03055115960734908, 0.029935176378619477, 0.02940178953573427, 0.028870183214518372, 0.028278185732661852, 0.02759044594338965, 0.026802691902548186, 0.025942474307059347, 0.025066380464846855, 0.024253024508606134, 0.02359088768644689, 0.023161199001133115, 0.02301896822632983, 0.02317851329174417, 0.023609768537698732, 0.024246603271399797, 0.025002206361848578, 0.025784692816465813, 0.026508737848721462, 0.027102522964513865, 0.027511066534633647, 0.02769719129464871, 0.027640959760812912, 0.027338048237056167, 0.026797399635948113, 0.02603851743850501, 0.025088813355165576, 0.023981418645704293, 0.02275380303266665, 0.021447456828755464, 0.020108802097559584, 0.018791293754781, 0.017558019758938243, 0.016482589086433897, 0.015643880759767876, 0.015109541305212302, 0.014908583979249424, 0.015005722074592253, 0.01529632813436528, 0.01562790207618724, 0.015834966575338092, 0.01577147697274205, 0.015335407199546184, 0.014490215509305977, 0.013294028516059755, 0.011952385212549661, 0.010899133361309874, 0.01079339301142072, 0.03449482849303864, 0.03331470489834972, 0.03230315939280901, 0.03139272510598817, 0.03051234896068588, 0.02959889132892132, 0.02860735317985533, 0.02751882257216609, 0.026345827550265037, 0.025134801829581513, 0.02396464488053004, 0.02293919234217549, 0.02217089968612381, 0.021755438324029333, 0.02174371047904129, 0.02212459499721182, 0.022828727359069358, 0.023749989640663174, 0.024771291721295698, 0.02578378044759925, 0.026696864433844475, 0.02744150585757302, 0.027969911253425205, 0.028253618055303634, 0.028280862777876052, 0.028053537641103497, 0.0275838971505511, 0.026891248444487145, 0.025998975431286472, 0.02493230910295629, 0.02371724523904367, 0.022380963649563507, 0.020954057327656078, 0.01947478305022746, 0.017995159653249278, 0.016587560730311725, 0.015347744441323564, 0.014386028663090345, 0.013796876907804559, 0.013609914085267927, 0.013753019135020297, 0.014062835422402904, 0.014336468857569529, 0.01438651593531033, 0.014077638406353073, 0.013349998824524745, 0.012246928391714734, 0.010969051112517966, 0.00996634884526196, 0.009943121914830268, 0.03626895320564626, 0.034958843807272225, 0.03375289895954994, 0.032590864905426405, 0.03141197439840558, 0.03016467384908111, 0.028815844563069785, 0.027358887267797793, 0.02582039417170504, 0.024264863659135452, 0.02279563679516091, 0.021547841058696327, 0.020667126889235422, 0.020271619961932986, 0.02040905060335197, 0.021035857099286723, 0.022034591751105545, 0.02325478739410586, 0.024549869065058953, 0.025797166704046273, 0.026903740225177778, 0.027804923238280967, 0.02846034634125318, 0.02884952527148406, 0.028967588178882134, 0.028821169214997625, 0.028424455862451067, 0.027795531568254143, 0.026953323047520746, 0.025915552458408014, 0.02469809139058257, 0.023316057740100895, 0.021786949841310136, 0.020136098911756762, 0.018404661143563292, 0.01665995042614871, 0.015006196502510442, 0.013588613676939025, 0.012573349390540283, 0.012082660433168323, 0.012105799870233911, 0.012471771310439653, 0.012924047922040107, 0.01322049843512857, 0.013191315076619987, 0.01276261003225266, 0.011977542395347462, 0.011039288165072186, 0.010373070963922858, 0.010585282072628816, 0.03771610065181399, 0.03629210160766197, 0.034921693398497156, 0.033549084935036354, 0.032119886967788086, 0.030589770378803158, 0.028933143069999133, 0.027151566067697912, 0.02528189914615908, 0.023403810390489367, 0.021644496067097348, 0.020174179587395608, 0.019180378496202685, 0.0188122915874675, 0.019114753242492406, 0.020003067120489444, 0.02130334858841773, 0.022819354631467097, 0.024378816433523715, 0.02584998252789777, 0.027140839411804157, 0.028192474592004864, 0.02897185929192694, 0.02946551862058591, 0.02967410854589414, 0.029607619966732533, 0.029281058515973634, 0.028710682975434103, 0.027911079716224464, 0.026893439579572544, 0.025665382023106864, 0.024232588765302328, 0.022602446022775495, 0.020789927365979143, 0.018826125916484727, 0.016770133193933032, 0.014724915887006017, 0.012855101516741341, 0.01139123659137247, 0.010573686896234925, 0.01049838714555825, 0.010995363378205282, 0.011726981973026802, 0.012376239504814347, 0.012737476426216726, 0.012730192257618124, 0.012403010254458044, 0.011952897902830953, 0.01174187944787766, 0.01222677050083125, 0.038863284518374494, 0.037342883776139056, 0.03583787362170506, 0.03429542498892645, 0.032665210824031954, 0.03090735132155339, 0.029000739979006356, 0.026951770806538388, 0.024803827066701697, 0.022647678526768678, 0.020630944453644898, 0.018958479180629685, 0.01786412947799158, 0.017533885421805936, 0.01800822428119254, 0.019153575888606222, 0.020736279582717954, 0.022518742056846702, 0.02431012144539878, 0.025975054541076324, 0.027425218542173755, 0.028608085525695298, 0.029497306147161038, 0.03008513158560643, 0.03037630636182143, 0.03038290867406562, 0.030119904785303405, 0.02960147138288509, 0.028838335292201797, 0.02783644871801045, 0.026597270595044555, 0.02511981749592696, 0.023404568519664486, 0.02145935425342177, 0.019307639478965865, 0.017000285740181295, 0.014633123567475561, 0.012373633405906316, 0.01049257992356297, 0.0093481694020991, 0.009187786426556908, 0.00985953770990722, 0.010915284387747425, 0.011948513236445527, 0.01272196958681919, 0.013153368872594948, 0.013293181697026863, 0.013319080001897588, 0.013523647114833382, 0.014247630705511162, 0.03974007393045699, 0.03814202618615925, 0.036532547982500635, 0.03486119286343651, 0.03308062512293842, 0.031154060922777782, 0.029063329682047813, 0.026817794103219886, 0.02446482284515637, 0.022102544633546887, 0.01989372566273167, 0.018071743055571757, 0.016911706510457883, 0.016632602597108474, 0.01726644802178524, 0.018630623127549678, 0.020440057529446217, 0.022427749272510126, 0.024393303697113292, 0.026202266193475873, 0.027771240311569176, 0.02905350337336759, 0.030027990169936594, 0.03069105512650543, 0.03105002962374244, 0.031117922745329995, 0.030909007641815023, 0.030435340319436052, 0.02970443492805332, 0.028718361423877042, 0.02747446162654386, 0.025967759591189413, 0.02419505886278035, 0.022160769631967177, 0.019884816032651378, 0.017413770204363115, 0.014838128461295856, 0.012321802395242101, 0.010149479956794334, 0.008752948047230607, 0.008515618991543817, 0.009322885759766315, 0.010633228498407955, 0.011969382073777167, 0.013074146391262063, 0.013864296742380388, 0.01438610763008793, 0.014793440028138401, 0.015323414968804249, 0.016241431280167955, 0.04037598382348659, 0.03871978876987808, 0.03703589850205096, 0.03527632987565975, 0.033396595310279366, 0.03136280271688076, 0.029159533294078846, 0.026798860139243864, 0.024331390480988566, 0.0218603912274546, 0.01955821630420484, 0.017675326453527613, 0.01650989164684381, 0.016294989168461244, 0.017048554375473427, 0.01855365496282372, 0.020497162114123172, 0.02260015540137533, 0.024661029643264002, 0.02654849835267463, 0.02818344162281486, 0.02952319640705615, 0.030549998802720735, 0.03126247877338328, 0.0316690750400317, 0.031782705415433474, 0.03161645291487291, 0.031180319677905643, 0.030479250080747897, 0.029512640079656458, 0.028275465204441942, 0.026761038587162354, 0.02496533664472854, 0.022892895191841782, 0.020564601083800895, 0.01802851245483667, 0.015376622600023381, 0.012773759825624722, 0.010505379042398198, 0.009010706558784247, 0.008704015279687574, 0.009511307473822441, 0.010896763243933743, 0.012368651030444815, 0.013659567132869876, 0.014679627173755906, 0.015464058078526157, 0.01614279215510942, 0.01691146666155209, 0.01798535360251899, 0.04079818029919758, 0.039103261744783804, 0.03737406580658528, 0.035565560905552934, 0.03363654674269922, 0.03155655218481982, 0.02931361517891975, 0.026923337719587544, 0.02444008273952586, 0.021971234211016308, 0.0196932438124547, 0.01785855822837507, 0.016760428954856396, 0.01661688037374489, 0.01742855297333493, 0.0189716436859141, 0.020936573915084876, 0.02305082567812413, 0.02511803924611546, 0.0270106042526628, 0.02865199514957952, 0.030001406347323015, 0.031042295170852826, 0.03177384206009132, 0.03220430678606868, 0.03234569630401856, 0.032209551805708905, 0.031803920574456156, 0.031131696103093527, 0.030190502275659458, 0.028974202966208343, 0.02747600198063168, 0.025693039386907313, 0.02363247230600767, 0.02131935221575845, 0.01880734911380993, 0.016194801924762473, 0.013650490676536774, 0.011450397517823396, 0.009988119510009174, 0.009613222794470074, 0.010281588151164816, 0.011555665468766027, 0.012989000367798148, 0.014315553082200444, 0.015434908425290503, 0.0163673057669791, 0.017220494954708343, 0.018158440150702965, 0.019360212837272246, 0.041029609140695596, 0.03931432823888317, 0.03756681103270779, 0.03574562258138488, 0.03381350894585997, 0.03174418318005055, 0.02953003903613877, 0.02719111229208788, 0.024785910098491695, 0.022424394956341593, 0.020280568948240187, 0.018592632148299346, 0.017621946021493484, 0.017547671680631923, 0.018355033922901304, 0.019839223294727253, 0.021720799223004617, 0.023748700584791938, 0.02573729741918399, 0.02756331820664831, 0.029151659326352837, 0.030461738463623718, 0.031476692224440675, 0.03219500801594454, 0.032623886260473245, 0.03277390812968942, 0.03265489307001073, 0.032273039002641744, 0.03162952136413036, 0.030720695997029337, 0.029539945251481424, 0.028081090923205057, 0.026343245930405847, 0.024337058730325246, 0.02209258758733992, 0.019669598026005028, 0.01717187575832112, 0.014767220706889676, 0.012708444449989885, 0.011320123503664348, 0.010866033284360888, 0.011323076516307845, 0.012371092547950104, 0.013640926306819682, 0.01488479754584017, 0.01599664822669995, 0.01698380287674771, 0.017935959864290807, 0.01899289686634123, 0.0203056696848242, 0.04108767915571398, 0.03936834516129949, 0.03762615497460609, 0.03582384739766406, 0.03392867036030172, 0.03191906618782608, 0.029792241435204623, 0.027572758905762402, 0.025322326553858708, 0.023150149423902856, 0.02121997267054709, 0.01974213725758189, 0.018930278986460613, 0.0189164437321063, 0.01967541497344216, 0.021034317209315284, 0.022757139295234957, 0.024623788466034625, 0.026464507787141933, 0.02816240740323548, 0.029644175155940054, 0.030869107704487017, 0.03181948878191822, 0.03249264832767284, 0.03289443357503834, 0.033033891921809715, 0.03291916260137018, 0.03255472140312066, 0.03194016629462438, 0.031070671921723213, 0.029939115735791142, 0.028539751570883818, 0.02687324614389819, 0.024952952611338217, 0.022812497552734977, 0.02051507254827306, 0.018164993389004937, 0.01592091682144291, 0.014003450867558227, 0.012670609386300938, 0.012118667390640558, 0.012341289153575016, 0.013115335901682248, 0.014152207779142023, 0.015235831490221733, 0.01626431589015575, 0.017238791042843305, 0.018237205834648485, 0.019381740940909744, 0.020800683484754036, 0.0409836059211847, 0.039273654551299726, 0.03755610772711637, 0.03579821978211613, 0.0339719691894147, 0.032060574812718644, 0.03006574283673835, 0.028015516140894366, 0.025972372284882392, 0.024040096602556977, 0.022364971783349112, 0.021121814794498643, 0.02047367735874286, 0.02050970810138749, 0.02119887482195399, 0.02240098180232574, 0.023924482299348647, 0.025583653504027682, 0.027228544651811702, 0.02875161852843526, 0.030083170089230997, 0.031183388691969866, 0.03203429738152872, 0.0326324945494227, 0.03298285967014531, 0.033093277940996695, 0.03297052723153919, 0.03261755458640795, 0.03203236896748848, 0.031208679170918182, 0.030138246944426086, 0.028814770727748303, 0.027239030811531048, 0.025425049323586725, 0.023407136608967212, 0.021247812435680594, 0.019046381749795407, 0.016946423093327532, 0.015135292728162185, 0.013818273326573706, 0.013147535641379665, 0.013131685994406391, 0.013619687320027005, 0.014393028341221095, 0.015273000738495402, 0.016170984124116314, 0.017090233678849688, 0.018104300933473386, 0.019323666778392052, 0.0208569841856783, 0.040722456433395525, 0.03903194050878547, 0.03735345466392807, 0.03565878344716934, 0.033924443037423514, 0.032137916625470955, 0.030304368809949838, 0.028453421707076276, 0.026645181649442056, 0.02497357398418836, 0.02356287056651475, 0.022551081210224068, 0.022056097516105138, 0.022133074751905745, 0.022747974712879537, 0.023787945450810075, 0.025100059745773107, 0.02653142552196428, 0.027953607544042525, 0.02927108681524396, 0.03042018801867291, 0.03136390461788095, 0.032085497926213964, 0.032582070329151606, 0.03285859146236153, 0.03292266784162851, 0.032780364462052965, 0.032433421939953605, 0.031878168978621245, 0.03110628343932243, 0.03010734367513044, 0.028872909894466788, 0.027401754972332725, 0.025705855408497316, 0.02381682149205065, 0.021792468783392485, 0.01972291999315569, 0.01773431674828458, 0.01598479007749368, 0.014641923549814884, 0.013832020478970065, 0.013578195408276308, 0.013782831266159512, 0.014284542030392608, 0.014941939097030666, 0.01568598007759722, 0.01652995230960077, 0.017550251978743048, 0.018850273074464012, 0.020519716476983984, 0.040303848862990356, 0.038639332123171936, 0.03700940957047943, 0.035390062262215194, 0.0337617452794063, 0.032115241037384314, 0.030457687188182588, 0.028818113374350123, 0.027251392462488356, 0.025838621536561857, 0.02468075823457445, 0.023882117397815344, 0.023523808233195234, 0.023635607335739488, 0.02418165530745647, 0.0250696463336268, 0.02617715929909716, 0.027379680472808157, 0.028569683350772142, 0.029665146242183915, 0.030610578121799542, 0.03137395681034739, 0.03194180207090606, 0.03231356193078892, 0.03249594742687453, 0.03249768311659995, 0.032325148339030815, 0.03197940302263703, 0.03145501450926005, 0.030740894720588097, 0.02982306635135948, 0.028689001674382673, 0.027333011884334166, 0.025762142384733358, 0.02400210082145628, 0.022102778503976604, 0.02014268629513926, 0.01823069781824593, 0.016501328240023358, 0.015096776490163374, 0.014130062082559213, 0.013639307874813817, 0.013568487039765733, 0.013802654923892582, 0.014235368631926879, 0.014821177897269227, 0.015590264718995349, 0.016628031187152528, 0.01803288724729923, 0.019872757599525392, 0.03972317731649594, 0.03808805387528795, 0.036511832764384244, 0.03497403434319959, 0.033458122756688066, 0.03195693527317476, 0.030477982522175286, 0.029047780386876568, 0.02771402087734222, 0.026543852356997903, 0.02561618275385576, 0.025006768756863, 0.024768136516582114, 0.024911369306064482, 0.02539896108520752, 0.026152921437644153, 0.027073405144097697, 0.028058682776892708, 0.029019823958597167, 0.029888384897735588, 0.030618424191280916, 0.03118483745098093, 0.0315795549869614, 0.031806576576051064, 0.031876488278878116, 0.03180103170696725, 0.03158835993617317, 0.031239665976161127, 0.0307477796885011, 0.030098046473838087, 0.02927138996229863, 0.028249070746734946, 0.027018427529479486, 0.02557887526194238, 0.02394756787979836, 0.02216425828484768, 0.020294799509382188, 0.018432151142122814, 0.01669236576332441, 0.01520105759834133, 0.014066096562704942, 0.013341504722147972, 0.013006213689249115, 0.012984704088841129, 0.013203349942135009, 0.013643378668783693, 0.014357662275742976, 0.015444399437563474, 0.016994576758440016, 0.019046888129466723, 0.038973171779496954, 0.03736836786298743, 0.035847669475345664, 0.034393195299997556, 0.03299023569944717, 0.0316323056617957, 0.0303258048587602, 0.029093342397540283, 0.027974564168631658, 0.02702312821825371, 0.026298685312334476, 0.025853986871296784, 0.025719851313758202, 0.025893424981866923, 0.026335213261668492, 0.02697640809900408, 0.027732883499053132, 0.02852004641521699, 0.02926429316904736, 0.02990966049939602, 0.030420178896128785, 0.030779040579394658, 0.030985563278145202, 0.031050643886120805, 0.030991246506152936, 0.030824524700355897, 0.030562364857708354, 0.030207292646734572, 0.02975062092813193, 0.02917333905986523, 0.028449639396799658, 0.02755239435791826, 0.026459582209148028, 0.025160692007320695, 0.023662402836385835, 0.02199311443873313, 0.020205989558862547, 0.018379847167912754, 0.016616301806320382, 0.01503001005508659, 0.013728281463012398, 0.012781435208749659, 0.012199867567760538, 0.011943999641200369, 0.011972665424585333, 0.012297002905479765, 0.012996615079899593, 0.014181289302213516, 0.0159251783150205, 0.018226605085886208, 0.03804558351758788, 0.036470548389196035, 0.035005292581188695, 0.03363333670062157, 0.03234040190370698, 0.031119236653686207, 0.029973841994955137, 0.02892208752893515, 0.027995638934460564, 0.027236204839104074, 0.026687661759325222, 0.026384959762267023, 0.026342657244437136, 0.026547269156686034, 0.026956760996850473, 0.027507427871320236, 0.028125215830633238, 0.028737481219026247, 0.029282306973637956, 0.029714294566723806, 0.03000699555269607, 0.030152589177014858, 0.03015936504703554, 0.03004740404126385, 0.029842811100275236, 0.02957104556735308, 0.029250277789285226, 0.028886069506882887, 0.028468718787288377, 0.02797411199782563, 0.027367995369551517, 0.02661265428971902, 0.025674525835057416, 0.02453140511339505, 0.02317841127401839, 0.021632394472133415, 0.01993471894223647, 0.018152197028425347, 0.016375244700183235, 0.014711022078963019, 0.01326818294366268, 0.012132319419236584, 0.01134252444357211, 0.01089361331568437, 0.010777969808936735, 0.011038949703700634, 0.011781653301505268, 0.0131172466775522, 0.01508794643967285, 0.017644484860736876, 0.03693281069684877, 0.03538667564028533, 0.033976515323031656, 0.032685802467571336, 0.03149906549093194, 0.03040674756711763, 0.029409304405015362, 0.028519460548189986, 0.027761615349776256, 0.027167690032714506, 0.026769456062555506, 0.02658869571972462, 0.026628006847429612, 0.026865623344507667, 0.027256393537475634, 0.027738510744438304, 0.02824343105918824, 0.028705921258240626, 0.02907212137724053, 0.029304804008430448, 0.02938587983107524, 0.029316486673068253, 0.029114917909071596, 0.028812473495746282, 0.028447293379481733, 0.028056533894264286, 0.027667906144469363, 0.027292363201686053, 0.026920051972833915, 0.026521021883833488, 0.026050682946769307, 0.025458441039692022, 0.024697219968567465, 0.023731944644371835, 0.022546008435291004, 0.021145612729686344, 0.019562275506620864, 0.017853691400837538, 0.016102492194666692, 0.014411262871779153, 0.012890800833557757, 0.011639554828985675, 0.010720993484003669, 0.010160992150866577, 0.0099833030189181, 0.010258037944744228, 0.011102159110523622, 0.012610506276865755, 0.014786598043859978, 0.017544242546010103, 0.03562934284371724, 0.03411211899721852, 0.03275814973707026, 0.031549127949556395, 0.03046646523733781, 0.029496559298704796, 0.028635166756556984, 0.027889675367670078, 0.02727828279469047, 0.026825564008562085, 0.026554796234306684, 0.026478697418495234, 0.026591408107398583, 0.02686467353384483, 0.02724974450892377, 0.027684227368626222, 0.028101454853541777, 0.028439764436792917, 0.028649975258490362, 0.028700443259604667, 0.02857975330145373, 0.028297277479343165, 0.027881654938380702, 0.0273769622443845, 0.026836205646319854, 0.026312079226119924, 0.025845921634196075, 0.025457269923826898, 0.025137421883625645, 0.02484976002130929, 0.024537079317239554, 0.024133347534872982, 0.02357615515007649, 0.022817001525101497, 0.021828350364423408, 0.020607774940895753, 0.01918001774705443, 0.017597555272582496, 0.01593950897194859, 0.014307517080889908, 0.012815723778444697, 0.01157237757862928, 0.010657926385288381, 0.010119215014229008, 0.009997681980273346, 0.01036894180605481, 0.011337499361011617, 0.012973796960892276, 0.015261114343412395, 0.018105545547004345, 0.03413299562550067, 0.03264668788792468, 0.03135310702824802, 0.030230092907376525, 0.02925359285902439, 0.028403853990184198, 0.027670577095396758, 0.02705560215033515, 0.026572078577224316, 0.026239720294382436, 0.02607676222570459, 0.02609055694156471, 0.026269805321239913, 0.026581298201161785, 0.02697240996914348, 0.02737831165538079, 0.02773140544153244, 0.027970484796628243, 0.02804809715506337, 0.027935645977442407, 0.027626387478779397, 0.02713657646652205, 0.026504731064486198, 0.025788502083693078, 0.025058208497690432, 0.024386196948421757, 0.023832428276618044, 0.023429265386763515, 0.023170967458350275, 0.023013112279331505, 0.022882867130854644, 0.02269570115823053, 0.022372157350965483, 0.021850413495013037, 0.02109373292421618, 0.020094012046855604, 0.018873033743909213, 0.01748241139642607, 0.016002123998917102, 0.014536127640287604, 0.01320205242767708, 0.012112513073225502, 0.011352894498856155, 0.010973725798297237, 0.011013031842907596, 0.011529338593903793, 0.012601243147368456, 0.014283562664380077, 0.01656563016352242, 0.01937180732274866, 0.03244601822004579, 0.030995548250305663, 0.029771158419684477, 0.028744327964509778, 0.027882599064595625, 0.027157400532011777, 0.02655061485235161, 0.02605809402442963, 0.025688970095428865, 0.025460456471328677, 0.02538898796042972, 0.025479961228768354, 0.025719405584287768, 0.026070662156290062, 0.02647726278514651, 0.02687072736902584, 0.02718052063340104, 0.027343551189232873, 0.027311729434498118, 0.027057259525293757, 0.026575989969776722, 0.02588922649957845, 0.02504403873361091, 0.024111379386382695, 0.02318044671806959, 0.022347197438874086, 0.02169600997832843, 0.021277524217968784, 0.021091306265842116, 0.021083347548645916, 0.02116101270435767, 0.021217556804538334, 0.021154999650861622, 0.0208991117449939, 0.02040653710747029, 0.019666940468551927, 0.018702853168705427, 0.01756846861629534, 0.016347032773014393, 0.015144878644207304, 0.01407903563071927, 0.013257042963994775, 0.01275566024424638, 0.012615336136113268, 0.012860770927898071, 0.013529887653081692, 0.014678776017678608, 0.016354066014445112, 0.01855946971779788, 0.02124620650436496, 0.030576275727575992, 0.029170129481275058, 0.02802959706708424, 0.027116708274047188, 0.02638683827018172, 0.025799155336988504, 0.025325392006817236, 0.024954602917920368, 0.02469266702905219, 0.02455640121230755, 0.024563409095814316, 0.024720302854056964, 0.025013110129549352, 0.02540337451145588, 0.025831261409755276, 0.026224121640912302, 0.026507317754563275, 0.026614382802600835, 0.026494961442101374, 0.02612033620875838, 0.025487086051456134, 0.024619532380959742, 0.023571231315810057, 0.022424890419700944, 0.02128865688982173, 0.020285071836234136, 0.019528949764355298, 0.01909571794877892, 0.018992979495948515, 0.01915427921322465, 0.01946157594443263, 0.019781847281309523, 0.01999795548409324, 0.020025374627848404, 0.019817482712702388, 0.019365121027238634, 0.018694281864752485, 0.01786312683595872, 0.016957444399307752, 0.016082234065925554, 0.015347005050378984, 0.014845660625351401, 0.014639420505618969, 0.014756184835344091, 0.015210083789870236, 0.01602532036878033, 0.017242338585266533, 0.01890062889165079, 0.02101350222072654, 0.023554788093319356, 0.028538834386423337, 0.027189377249209397, 0.026154160435329404, 0.02538184361687928, 0.02481073612403285, 0.024383327843554514, 0.02405824582369094, 0.023816572401224312, 0.023661398012973633, 0.023610896138084668, 0.023686429463988034, 0.023898715653764457, 0.024236406407877022, 0.024661172812945595, 0.02511087102389751, 0.025508972506762314, 0.025776492645512933, 0.02584302316631192, 0.025655167633440428, 0.025182292963110295, 0.024420385335528393, 0.023394969368654928, 0.022163706480618068, 0.02081839273966684, 0.01948423241591018, 0.018311134514330495, 0.01744911392751509, 0.017004871539745177, 0.016996485532468256, 0.01734080893734296, 0.017887975981165552, 0.018475712722012247, 0.018969228740344304, 0.01927753942029433, 0.019354733041802113, 0.01919574746838022, 0.01883136528208398, 0.01832310504818012, 0.017756488011794275, 0.017230434042787048, 0.01684171917023419, 0.016667438373136376, 0.01675371935270861, 0.017119162635483496, 0.01777201831166888, 0.018728416847725894, 0.020017787818344793, 0.02167216319878899, 0.023708194036463157, 0.026114475014122722, 0.026358408025320933, 0.025081838733114665, 0.024180673049829463, 0.023584998224239942, 0.023209574431257044, 0.02297469096759768, 0.022822464130528637, 0.022724721447904776, 0.022682078079947304, 0.02271544193627652, 0.022852003395180922, 0.02310904345481316, 0.023480354014356775, 0.023929974216443713, 0.02439519387070696, 0.024796802610135837, 0.02505220048426622, 0.02508741833622742, 0.024846126687026942, 0.024295617840666677, 0.023430763872858716, 0.022277194753877974, 0.020894703715857565, 0.01938114274590284, 0.01787513227944396, 0.016551424531147385, 0.015596119352231944, 0.015150638555843412, 0.015243885125928362, 0.01577095600872758, 0.016545727780957177, 0.017377835764905133, 0.018120017215277614, 0.01868046136453983, 0.019018057821263368, 0.01913390273663805, 0.019063672956826903, 0.018870570231222284, 0.01863680990252144, 0.018451880836991993, 0.018397885221749868, 0.018535858363284183, 0.018899592151447025, 0.019501199493884253, 0.020345316889220706, 0.021442641413729095, 0.022814277793435436, 0.02448506760533788, 0.026471099251230985, 0.028769217742209155, 0.024073258792606383, 0.022889184805105888, 0.02215790163561719, 0.021783655769364047, 0.021649022176004767, 0.02164558736541429, 0.021695702178821236, 0.021761173119301102, 0.02184067442677906, 0.021958922635962448, 0.022150332441539206, 0.02244053221384227, 0.022830655252939556, 0.023289562805743992, 0.02375638994371182, 0.024151350368311918, 0.02438990004354798, 0.024395749207058642, 0.024110522903610113, 0.023500055392844197, 0.022558461121449543, 0.021311430568098175, 0.01982007050504358, 0.01818608726608199, 0.016557352884490163, 0.015127564389663962, 0.014112924510213155, 0.013684770522651006, 0.013878079607142988, 0.01456297251041924, 0.015520168951138771, 0.01653988198855014, 0.01747143150045359, 0.018228498647406624, 0.0187780653119841, 0.019128347997410797, 0.019319203191113812, 0.019413642158171075, 0.019488226809701463, 0.019621251679508126, 0.019880008925312803, 0.020311005450390555, 0.020937572484434865, 0.021766260248855227, 0.02279837710654678, 0.02404007475373034, 0.025505751630836303, 0.02721382284509773, 0.02917804807169034, 0.0313993244023371, 0.021741242841426704, 0.02067180660606006, 0.020151929685451923, 0.020049488336041355, 0.020203673670998935, 0.020470701598021366, 0.02075130374891114, 0.020997966881351825, 0.021208650991480903, 0.021412754172253554, 0.021652506433106008, 0.02196271936432335, 0.022353427090995706, 0.022800680701430216, 0.023248301671282917, 0.023618743254954347, 0.023827930448140473, 0.023799133049347346, 0.02347335552554687, 0.022816121985545678, 0.02182182273499701, 0.020517154704271998, 0.01896513392087603, 0.017270794922816496, 0.015588102254518088, 0.014121798748156248, 0.013104285154982687, 0.012719654727080918, 0.012997381246064522, 0.01378557492757845, 0.014846810452602164, 0.015967968221168295, 0.017005644139399156, 0.017884346498431646, 0.018581132004084865, 0.019111461802612223, 0.019518388220608886, 0.019863088439095237, 0.020214723445279775, 0.020639268950659387, 0.02118916993546183, 0.021897095838043848, 0.022776345709581477, 0.02382753851400321, 0.025048076359782595, 0.026439757945687394, 0.028011368499136467, 0.029775852037007118, 0.03174414854955691, 0.03391885574489817, 0.019448515542399385, 0.018516769204518294, 0.018251548896622036, 0.01846935484091898, 0.018952967783269117, 0.019518584812737414, 0.02004667661171251, 0.0204833771642612, 0.020827995423376995, 0.0211152088161563, 0.021394723310411905, 0.021710216129125503, 0.02208119915821633, 0.022492742174726722, 0.02289614409431533, 0.023219187572279486, 0.02338104986487522, 0.02330675020815273, 0.02293830792003855, 0.022242253250447774, 0.021214531665416245, 0.019884274866640027, 0.018317888572848284, 0.016624545000150096, 0.014962461351456858, 0.01353907409266615, 0.012584010483611451, 0.012268332943873628, 0.012601642052292018, 0.01342019090337904, 0.014490974127059532, 0.01561554851478888, 0.01666727477966487, 0.01758551302938335, 0.018358882332029335, 0.01901036864168813, 0.019585659991230183, 0.020142849205710484, 0.020742113061825107, 0.02143574476581963, 0.022260548859423163, 0.02323493317420543, 0.024361594778245916, 0.02563435062421767, 0.027045999041830804, 0.028594063657586644, 0.0302826054898581, 0.032120099667101, 0.034114840003441206, 0.03626997221868685, 0.017320031321586465, 0.016546643542167387, 0.016571821248958115, 0.017141875302948667, 0.017972149513257412, 0.018839839319908333, 0.019610968306931306, 0.02023016916255397, 0.02070029196466544, 0.02106119257698273, 0.021368676067368312, 0.021673797453213597, 0.02200497368638566, 0.022357173802588975, 0.02269134840529693, 0.02294340307323251, 0.023038444792444584, 0.022905367678963003, 0.022488724649995403, 0.021757177358482625, 0.020709273151662395, 0.01937780006938378, 0.01783393582222077, 0.016191873341651276, 0.01461246182197569, 0.013297741911065537, 0.01245635149601878, 0.012223583328318365, 0.012579791893738573, 0.013360773146209473, 0.014356325454069082, 0.015395928327217333, 0.016376887756054056, 0.017257383902159213, 0.018040206783476467, 0.018757530761456597, 0.01945815017569825, 0.02019619726708152, 0.021020986368905394, 0.021968987454664, 0.023059597296650008, 0.02429570411194008, 0.02566843194317379, 0.02716400384448513, 0.0287702147165518, 0.030480577830499685, 0.03229530808972668, 0.034219425208474694, 0.03625907635083515, 0.03841751446551684, 0.01552578569608861, 0.014922152619393485, 0.015248062582680138, 0.01616400314938324, 0.017316894307823797, 0.018454269213223264, 0.01943646289918721, 0.020211090879881762, 0.0207853964908265, 0.021203044528988378, 0.021523543613555213, 0.02180290957453703, 0.022076886413644903, 0.02235014306378256, 0.02259445247688833, 0.02275585395689326, 0.022767518805138935, 0.022563945613372376, 0.02209336835726413, 0.02132726500675357, 0.020267269751130808, 0.01895034313761818, 0.017452968298877044, 0.01589431206139359, 0.014435590859362447, 0.013266441491679791, 0.012562278158578575, 0.012411553291298349, 0.012763842691424934, 0.013460725904346896, 0.014321940213366262, 0.015210530766394168, 0.016052594845956596, 0.016829959659943713, 0.017564322461049952, 0.01830081498939084, 0.0190930602087292, 0.019990443220953988, 0.021028728228347848, 0.022225305494895133, 0.02357951256901822, 0.02507708213748006, 0.026696738240112962, 0.028416800198311557, 0.03022018703647746, 0.03209699713675757, 0.03404456584018176, 0.03606547520239816, 0.038164368150848005, 0.04034455711037772, 0.014264485677796927, 0.01382061347852642, 0.014407654637090515, 0.015603975555977527, 0.017004534994425884, 0.0183419776130886, 0.019477909942541043, 0.02036416687271838, 0.021010762299015974, 0.02146236226709634, 0.021779046071443226, 0.022018889852782733, 0.02222278752361368, 0.02240404125854212, 0.022545381591860727, 0.022604006311518123, 0.022522494562743498, 0.022242080721871428, 0.02171532192430087, 0.020916665297128694, 0.019850660917822328, 0.018558116681620766, 0.01712032397048689, 0.015660315518984468, 0.014337002828426055, 0.01332278555371544, 0.012755066795920299, 0.012675229096347712, 0.013005280631783153, 0.013593132389323099, 0.014286325723516175, 0.014980694582681897, 0.01563356878271891, 0.01625575898594287, 0.016894644703486894, 0.017614239730232628, 0.01847576116818562, 0.01952255600641819, 0.020772715759318206, 0.022219977094116265, 0.023840401760368255, 0.02560112435292663, 0.027468283676876818, 0.029412742424425556, 0.031413292520633344, 0.03345756664435909, 0.03554108510114723, 0.03766498562587033, 0.03983307440866107, 0.04204885961677311, 0.013697619161352589, 0.013369835781881619, 0.014116019338266957, 0.015468432229777365, 0.017000724473830494, 0.018443284963640758, 0.019660359643527275, 0.020605181658690335, 0.021286738355607192, 0.021746981192556067, 0.022043206524276597, 0.022232656234993747, 0.022359069660600098, 0.022442858311398715, 0.02247708743694871, 0.02243027228365588, 0.022254964177626072, 0.021899649028681283, 0.021321356211325238, 0.020497186080202203, 0.019433886656809493, 0.018175090714516288, 0.016805561816238337, 0.015450331060916615, 0.014263379940625657, 0.013397341783167885, 0.012952242982280118, 0.012927874772229475, 0.013223384729259569, 0.013690933684470441, 0.014199676609073562, 0.014673715266427068, 0.01510165073513247, 0.015528155527110243, 0.01603440784988719, 0.01671110264272445, 0.017630428186632685, 0.018827105805928238, 0.020295409457794372, 0.02199966301148037, 0.023889546829860008, 0.02591305560686101, 0.028024618168798258, 0.030188955196881865, 0.032382036409595416, 0.03459022508395629, 0.03680830376944299, 0.03903686118442936, 0.04127945800294818, 0.04353997033826513, 0.013847656366653983, 0.013561674289163326, 0.0143272481451051, 0.015685555614904183, 0.017220766556985446, 0.01866814039433008, 0.01989183486048664, 0.0208417189722998, 0.02152131359692004, 0.021966159387950303, 0.022227739873614278, 0.022359952249211928, 0.02240731511111582, 0.02239577452275887, 0.02232775253395825, 0.02218270183707145, 0.021923155600955483, 0.021504908666370327, 0.020889266835333167, 0.020055380888519186, 0.019011158530942998, 0.017801587759849778, 0.01651295392208423, 0.015269776073198927, 0.01421833712461257, 0.013490183437494323, 0.01315112603021645, 0.013166831323889698, 0.013418889327875794, 0.013761949213332774, 0.014080411299270486, 0.014320608266830227, 0.014500092265006337, 0.014700587844165914, 0.015045380144025074, 0.015661018734501236, 0.01663422889130902, 0.017986647676789615, 0.01968061548604689, 0.021645065576928302, 0.023801476572520047, 0.026079776113283604, 0.028424776611157117, 0.030797061187136585, 0.03317135688942152, 0.03553395172515553, 0.037879805855698945, 0.04020963801616557, 0.042527176573530924, 0.044836760249479995, 0.014557917163095381, 0.014231899499252264, 0.014888179408814137, 0.016120285731747397, 0.017546199901938814, 0.018910875452757873, 0.020076022639775072, 0.020984333575979498, 0.0216303428123818, 0.022040280082915333, 0.02225747605177463, 0.022330560816646947, 0.02230321336049421, 0.02220558483475925, 0.022048491253607215, 0.021821775527268307, 0.021497720217156402, 0.021039274293981752, 0.020411693354493783, 0.01959550865492308, 0.018598662541277924, 0.017465786103991746, 0.016282192544240483, 0.015168512946780654, 0.014259721560858796, 0.01366482116442636, 0.013419235239687383, 0.01346270089124305, 0.013665647645900088, 0.013885557441374798, 0.014017596477283373, 0.014024237845366373, 0.013947240506200014, 0.013905015657778607, 0.014068885742965184, 0.014610148862225048, 0.015633476408547717, 0.017141917518599767, 0.019057880576992075, 0.02127111143068434, 0.023675777515709567, 0.026186663612125172, 0.028741849022835407, 0.03129987899753518, 0.03383557800862962, 0.03633598623768954, 0.03879676605084921, 0.041219091072324576, 0.04360699783535469, 0.04596521940705894, 0.015570691629350151, 0.015136865045129832, 0.015595854664579275, 0.016611449580833347, 0.017847939142313522, 0.01906497724843573, 0.020122178846815796, 0.02095358625150832, 0.021542850828845415, 0.021905095342919626, 0.022073957478893177, 0.02209151660574525, 0.02199953368271597, 0.021831471659829994, 0.021605873311839188, 0.0213225676463622, 0.020963385843031843, 0.02049827094193159, 0.019896120949623924, 0.01913822601005097, 0.01823143360280451, 0.01721807292679733, 0.01617931299369602, 0.015227335514589496, 0.01448092157204867, 0.014024513422179927, 0.013867307564334417, 0.013932042932230345, 0.014085916887696809, 0.014192369828572155, 0.014155815666127431, 0.013950093635597231, 0.013634488856621845, 0.013357939303988058, 0.013338018205600854, 0.013794200720402619, 0.014851694437215143, 0.01649282979123503, 0.018598117386955045, 0.021020132741276662, 0.023629990741321157, 0.026331205285946156, 0.029057615987019596, 0.0317669908339592, 0.03443473467931566, 0.03704873076326257, 0.03960527223096354, 0.042105849309170884, 0.04455461104792302, 0.04695640340157309, 0.01663609014323523, 0.01604588522366791, 0.016258582019703545, 0.017007454605626332, 0.01800661868934319, 0.01903483460527854, 0.019951979990111626, 0.020683956111042148, 0.02120305622285967, 0.021512456829209072, 0.021635253344203367, 0.021606282894491406, 0.021464895937594538, 0.021247556760216446, 0.020980380785516062, 0.02067314260007651, 0.020317202444022898, 0.019889368455885147, 0.019361815488853105, 0.018715846785975307, 0.017955827046039548, 0.017119290983629732, 0.016279137785940055, 0.015533391685339463, 0.014979159983712602, 0.014674875673840385, 0.014608737156600117, 0.014696057423500107, 0.014809657218324827, 0.014824298127046023, 0.014655316058162157, 0.014285884196680518, 0.013786134589324001, 0.01332335797993827, 0.013146048845591247, 0.01351070629535903, 0.014562549982938305, 0.016272057411035205, 0.018490230043811694, 0.021043139551926986, 0.02378551385278938, 0.026612657864467988, 0.029454962192022684, 0.03226907773347256, 0.035030223729152765, 0.037726297635793424, 0.04035348285436368, 0.0429129646649249, 0.04540847139213713, 0.04784446448202906, 0.017568554234307962, 0.016787568005470193, 0.016729389852119858, 0.0171883587489336, 0.017926447866192467, 0.018744187911767726, 0.019504454527777403, 0.020126395431333155, 0.0205712166828417, 0.02082984590721833, 0.020914434896713095, 0.020852391119281173, 0.020680803776860088, 0.02043957985593168, 0.020162978207047315, 0.01987118824220902, 0.019565234043122774, 0.019228438963428296, 0.0188353751966803, 0.018365895709868282, 0.017819597337131877, 0.017225669496513534, 0.016643645015494698, 0.01615151634835671, 0.01582067815843714, 0.015684673876516182, 0.01571754760848175, 0.01583641645791047, 0.015927796608928273, 0.015883588479777572, 0.015633667688947653, 0.015171233009474174, 0.014572513014683302, 0.01400867776322191, 0.013732806594345785, 0.01401032578982505, 0.014998968471107037, 0.01667722945377593, 0.018894439320941023, 0.02146900943580793, 0.024247443641629254, 0.02711867280972344, 0.030008747520304156, 0.032871457753000995, 0.03568004069719678, 0.038420847297776964, 0.04108869047267369, 0.04368345915328617, 0.04620767186809527, 0.04866474527745543, 0.018257075048094738, 0.017258886314595604, 0.016916600081248446, 0.017076356981952617, 0.017543943289181352, 0.018142674631325035, 0.018740548490180014, 0.019251256392322287, 0.01962520202809481, 0.019840795009181754, 0.019899000528496157, 0.019820030282300546, 0.01963960726942902, 0.01940250891604728, 0.019152677598436457, 0.01892176766315923, 0.01872048562916501, 0.018537449616986144, 0.018347337793376644, 0.018125455555171647, 0.017862787223386162, 0.017575512509320695, 0.017304700103639964, 0.01710435281176597, 0.017019843382218503, 0.017064461762475454, 0.0172057742919304, 0.017370042443836834, 0.017462978735997267, 0.0173977437487859, 0.017121852591660127, 0.0166396874208096, 0.016030210863645488, 0.015456298919319615, 0.01515133555512089, 0.015360062703286707, 0.016239177848960895, 0.01779056725485421, 0.01989069287202652, 0.02237236150662355, 0.025084370716739215, 0.027912189452458835, 0.030776955021787504, 0.033627839314488074, 0.03643417128881589, 0.03917903779928797, 0.04185447150380901, 0.044457947452123676, 0.046989890450366306, 0.04945195341524339, 0.018659644385451667, 0.017422091352343846, 0.01678588444642639, 0.01664155732284167, 0.016834996368185112, 0.017212664538195976, 0.017649123310312213, 0.018053321993357175, 0.018364600881054523, 0.018548160509651853, 0.018593433225007294, 0.0185140531254064, 0.01834618823596105, 0.01814220215951985, 0.017958477622430833, 0.017839664998157066, 0.01780538625934862, 0.01784632296141478, 0.017932379898320323, 0.018028888815206215, 0.01811298858021329, 0.018183299380298036, 0.01825942872021853, 0.01837140639099777, 0.01854261746223744, 0.018773033970142003, 0.019030552903195396, 0.019255012075646585, 0.019373553290683434, 0.019321884083469992, 0.019065970032956948, 0.01862095747512784, 0.018065351859955912, 0.017546159327534314, 0.017264599687086424, 0.01742946976207257, 0.018184581384830603, 0.019555401230649357, 0.021458704111925485, 0.023758292499184833, 0.026317145960719653, 0.02902318631726395, 0.03179453598208729, 0.03457561247920762, 0.03733088420033849, 0.04003901903882913, 0.042688178814487554, 0.045272488631502884, 0.04778950423431096, 0.05023847082924542, 0.018797570606276546, 0.01730250526071992, 0.016363094148914525, 0.0159090422512735, 0.015824256395041078, 0.01597936958915394, 0.016256922756852796, 0.016561290766814275, 0.01681965903021408, 0.0169825935336531, 0.017027387586901845, 0.016962150826927935, 0.016826452100171353, 0.01668454247404647, 0.016609298051577907, 0.01665980702354211, 0.016861693741316266, 0.0172008968354908, 0.017634301699114802, 0.01811010862121617, 0.018586831124867167, 0.019043507349425462, 0.01947930754446389, 0.01990455256562336, 0.02032735583566383, 0.020741308788898235, 0.021119327961412332, 0.02141641735109349, 0.021580633074878244, 0.021568980468017963, 0.021364424775243366, 0.020990936155640752, 0.02052384589267887, 0.020091440404005508, 0.019861134093417384, 0.020004388398508228, 0.020646667766856263, 0.02182844151867192, 0.02350375085247903, 0.025572904803964725, 0.027921899372863993, 0.03044836776232144, 0.03307176239077871, 0.03573376436841118, 0.038394592458648645, 0.04102839150066674, 0.04361904737040394, 0.04615684449736231, 0.04863598879182674, 0.05105287721945084, 0.018752736799576123, 0.016990267509006052, 0.015741630840687484, 0.01497145601611379, 0.014601263928705597, 0.014528682951888798, 0.014646846708047907, 0.014855851156267339, 0.015068969722312416, 0.015219975918008966, 0.015273238891643151, 0.015233016404503388, 0.015146585903901319, 0.015096018419903618, 0.015175464034057142, 0.015458141208357869, 0.01596835435081296, 0.016675761551644127, 0.017513815125254652, 0.01840768203663427, 0.01929608321970734, 0.020140898368049377, 0.02092584058147404, 0.021648126330030774, 0.022307423725141322, 0.022896176488771108, 0.023394665320467318, 0.0237725595194387, 0.02399659605128152, 0.024042301702683143, 0.023906939838415384, 0.02362089211787766, 0.023254706359502147, 0.02291848206688747, 0.022749693208198675, 0.022887452745109674, 0.023438477475065774, 0.024449633964679425, 0.025902335039769867, 0.02772988002846045, 0.02984423335886649, 0.03215813618222237, 0.034597214957106784, 0.037103735995658, 0.03963559859693314, 0.042163392340028326, 0.04466711889915158, 0.047133301909575584, 0.04955272160235465, 0.05191877689743769, 0.018664606172654065, 0.016643019915221425, 0.015092996692235799, 0.014008295078850454, 0.01334718256916955, 0.01303862502506116, 0.012991437143495986, 0.013103428752721408, 0.013272717374843819, 0.013414244034795712, 0.013479130533660342, 0.013470413492546239, 0.013448594552667883, 0.013520168620743471, 0.013803753666245441, 0.014381250617883366, 0.015261937688800702, 0.016385014943820567, 0.017653061835142893, 0.01896823944391945, 0.020253908346364348, 0.02146092789611468, 0.022564084590473432, 0.023553688509904008, 0.024425990657859317, 0.02517524065804351, 0.025789509693874103, 0.026251370548512773, 0.02654320100261633, 0.026655680832023975, 0.026597344542135862, 0.026402821440597378, 0.026137342098912473, 0.025895027286130103, 0.025788814186153166, 0.025931770347735812, 0.026413817339054388, 0.02728257248792705, 0.028537079512599407, 0.03013634780325308, 0.03201639925706091, 0.03410713366861479, 0.03634383391247332, 0.03867262459125692, 0.04105155615744555, 0.043449319499990736, 0.045843062355979784, 0.04821615281690587, 0.05055627961572022, 0.052854007682625895, 0.01871914863008772, 0.016479163742070924, 0.014668682569816602, 0.013301025706987062, 0.012365089566430131, 0.011822416684522732, 0.011603629728809082, 0.011609759514454965, 0.01172626646701881, 0.011850373886411216, 0.01192200760534376, 0.011946887237833896, 0.012003881752072917, 0.01222741099204024, 0.012756859951091807, 0.013669119464847026, 0.014942221094741975, 0.016477257585493888, 0.018148727867406903, 0.019843395742634804, 0.02147692446051569, 0.02299537803935052, 0.02436952870855928, 0.025586589189509294, 0.026641921599810468, 0.027532468134481326, 0.02825318876857738, 0.028797160892099806, 0.029159147893060712, 0.02934160290753657, 0.029361478431267494, 0.02925593572400679, 0.029085015128374837, 0.028929511340482442, 0.02888293039825387, 0.02903794291611659, 0.02947027261983006, 0.030225280333823486, 0.031312382287098685, 0.03270895307112483, 0.034370818253807583, 0.036244287008374954, 0.03827577727846164, 0.0404175655560594, 0.04263008726934064, 0.0448819544258512, 0.04714881387570701, 0.04941183422651398, 0.051656267298312394, 0.05387027961150779, 0.019119463785277475, 0.016743641443357583, 0.014763835018816271, 0.01320148505502826, 0.012062084649423436, 0.011329608962072324, 0.010955079490566488, 0.010849271449284967, 0.010895098458779933, 0.010982031097798491, 0.011046643968955657, 0.011101967437383833, 0.011245208322779306, 0.011631528256953292, 0.01240607829113828, 0.01362556903561996, 0.015233384605815196, 0.01710185364108339, 0.019090151382210145, 0.021079026464854368, 0.022981668700099548, 0.024742041436438114, 0.02632846372980349, 0.027726026290558245, 0.028929525106769778, 0.02993798713148835, 0.030751572145593202, 0.03137123695024637, 0.03180098554125241, 0.03205193324698947, 0.032146948652594834, 0.03212439862556915, 0.03203952595917337, 0.031962258590983866, 0.03197089210199583, 0.032142232683148864, 0.032540299627585374, 0.033206862503284834, 0.03415690506517599, 0.03538021782117916, 0.03684777514123736, 0.03852001229520951, 0.040354294006065196, 0.042310115190383336, 0.04435184864150353, 0.04644958863880627, 0.04857883358153528, 0.05071963713372391, 0.052855645809136646, 0.05497324591707026];\n",
       "const xvar = \"lr\";\n",
       "const yvar = \"decay\";\n",
       "const x_is_log = true;\n",
       "const y_is_log = true;\n",
       "\n",
       "const GREEN_SCALE = [[247, 252, 253], [229, 245, 249], [204, 236, 230], [153, 216, 201], [102, 194, 164], [65, 174, 118], [35, 139, 69], [0, 109, 44], [0, 68, 27]];\n",
       "const GREEN_PINK_SCALE = [[142, 1, 82], [197, 27, 125], [222, 119, 174], [241, 182, 218], [253, 224, 239], [247, 247, 247], [230, 245, 208], [184, 225, 134], [127, 188, 65], [77, 146, 33], [39, 100, 25]];\n",
       "const BLUE_SCALE = [[255, 247, 251], [236, 231, 242], [208, 209, 230], [166, 189, 219], [116, 169, 207], [54, 144, 192], [5, 112, 176], [3, 78, 123]];\n",
       "\n",
       "// format data\n",
       "const res = relativize_data(f, sd, rel, arm_data, metric);\n",
       "const f_final = res[0];\n",
       "const sd_final = res[1];\n",
       "\n",
       "// calculate max of abs(outcome), used for colorscale\n",
       "const f_absmax = Math.max(Math.abs(Math.min(...f_final)), Math.max(...f_final));\n",
       "\n",
       "// transform to nested array\n",
       "var f_plt = [];\n",
       "while(f_final.length) f_plt.push(f_final.splice(0, density));\n",
       "var sd_plt = [];\n",
       "while(sd_final.length) sd_plt.push(sd_final.splice(0, density));\n",
       "\n",
       "// create traces\n",
       "const CONTOUR_CONFIG = {\n",
       "  autocolorscale: false,\n",
       "  autocontour: true,\n",
       "  contours: {\n",
       "    coloring: 'heatmap',\n",
       "  },\n",
       "  hoverinfo: 'x+y+z',\n",
       "  ncontours: density / 2,\n",
       "  type: 'contour',\n",
       "  x: grid_x,\n",
       "  y: grid_y,\n",
       "};\n",
       "\n",
       "let f_scale;\n",
       "if (rel === true) {\n",
       "  f_scale = lower_is_better === true\n",
       "    ? GREEN_PINK_SCALE.reverse()\n",
       "    : GREEN_PINK_SCALE;\n",
       "} else {\n",
       "  f_scale = GREEN_SCALE;\n",
       "}\n",
       "\n",
       "const f_trace = {\n",
       "  colorbar: {\n",
       "    x: 0.45,\n",
       "    y: 0.5,\n",
       "    ticksuffix: rel === true ? '%' : '',\n",
       "    tickfont: {\n",
       "      size: 8,\n",
       "    },\n",
       "  },\n",
       "  colorscale: f_scale.map(\n",
       "    (v, i) => [i / (f_scale.length - 1), rgb(v)]\n",
       "  ),\n",
       "  xaxis: 'x',\n",
       "  yaxis: 'y',\n",
       "  z: f_plt,\n",
       "  // zmax and zmin are ignored if zauto is true\n",
       "  zauto: !rel,\n",
       "  zmax: f_absmax,\n",
       "  zmin: -f_absmax,\n",
       "};\n",
       "\n",
       "const sd_trace = {\n",
       "  colorbar: {\n",
       "      x: 1,\n",
       "      y: 0.5,\n",
       "      ticksuffix: rel === true ? '%' : '',\n",
       "      tickfont: {\n",
       "        size: 8,\n",
       "      },\n",
       "  },\n",
       "  colorscale: BLUE_SCALE.map(\n",
       "    (v, i) => [i / (BLUE_SCALE.length - 1), rgb(v)]\n",
       "  ),\n",
       "  xaxis: 'x2',\n",
       "  yaxis: 'y2',\n",
       "  z: sd_plt,\n",
       "};\n",
       "\n",
       "Object.keys(CONTOUR_CONFIG).forEach(key => {\n",
       "  f_trace[key] = CONTOUR_CONFIG[key];\n",
       "  sd_trace[key] = CONTOUR_CONFIG[key];\n",
       "});\n",
       "\n",
       "// get in-sample arms\n",
       "const arm_x = [];\n",
       "const arm_y = [];\n",
       "const arm_text = [];\n",
       "\n",
       "Object.keys(arm_data['in_sample']).forEach(arm_name => {\n",
       "  arm_x.push(arm_data['in_sample'][arm_name]['parameters'][xvar]);\n",
       "  arm_y.push(arm_data['in_sample'][arm_name]['parameters'][yvar]);\n",
       "  arm_text.push(arm_name);\n",
       "});\n",
       "\n",
       "// configs for in-sample arms\n",
       "const base_in_sample_arm_config = {\n",
       "  hoverinfo: 'text',\n",
       "  legendgroup: 'In-sample',\n",
       "  marker: {color: 'black', symbol: 1, opacity: 0.5},\n",
       "  mode: 'markers',\n",
       "  name: 'In-sample',\n",
       "  text: arm_text,\n",
       "  type: 'scatter',\n",
       "  x: arm_x,\n",
       "  y: arm_y,\n",
       "};\n",
       "\n",
       "const f_in_sample_arm_trace = {\n",
       "  xaxis: 'x',\n",
       "  yaxis: 'y',\n",
       "};\n",
       "\n",
       "const sd_in_sample_arm_trace = {\n",
       "  showlegend: false,\n",
       "  xaxis: 'x2',\n",
       "  yaxis: 'y2',\n",
       "};\n",
       "\n",
       "Object.keys(base_in_sample_arm_config).forEach(key => {\n",
       "  f_in_sample_arm_trace[key] = base_in_sample_arm_config[key];\n",
       "  sd_in_sample_arm_trace[key] = base_in_sample_arm_config[key];\n",
       "});\n",
       "\n",
       "const traces = [\n",
       "  f_trace,\n",
       "  sd_trace,\n",
       "  f_in_sample_arm_trace,\n",
       "  sd_in_sample_arm_trace,\n",
       "];\n",
       "\n",
       "// start symbol at 2 for candidate markers\n",
       "let i = 2;\n",
       "\n",
       "// iterate over out-of-sample arms\n",
       "Object.keys(arm_data['out_of_sample']).forEach(generator_run_name => {\n",
       "  const ax = [];\n",
       "  const ay = [];\n",
       "  const atext = [];\n",
       "\n",
       "  Object.keys(arm_data['out_of_sample'][generator_run_name]).forEach(arm_name => {\n",
       "    ax.push(\n",
       "      arm_data['out_of_sample'][generator_run_name][arm_name]['parameters'][xvar]\n",
       "    );\n",
       "    ay.push(\n",
       "      arm_data['out_of_sample'][generator_run_name][arm_name]['parameters'][yvar]\n",
       "    );\n",
       "    atext.push('<em>Candidate ' + arm_name + '</em>');\n",
       "  });\n",
       "\n",
       "  traces.push({\n",
       "    hoverinfo: 'text',\n",
       "    legendgroup: generator_run_name,\n",
       "    marker: {color: 'black', symbol: i, opacity: 0.5},\n",
       "    mode: 'markers',\n",
       "    name: generator_run_name,\n",
       "    text: atext,\n",
       "    type: 'scatter',\n",
       "    xaxis: 'x',\n",
       "    x: ax,\n",
       "    yaxis: 'y',\n",
       "    y: ay,\n",
       "  });\n",
       "  traces.push({\n",
       "    hoverinfo: 'text',\n",
       "    legendgroup: generator_run_name,\n",
       "    marker: {color: 'black', symbol: i, opacity: 0.5},\n",
       "    mode: 'markers',\n",
       "    name: 'In-sample',\n",
       "    showlegend: false,\n",
       "    text: atext,\n",
       "    type: 'scatter',\n",
       "    x: ax,\n",
       "    xaxis: 'x2',\n",
       "    y: ay,\n",
       "    yaxis: 'y2',\n",
       "  });\n",
       "  i += 1;\n",
       "});\n",
       "\n",
       "// layout\n",
       "const xrange = axis_range(grid_x, x_is_log);\n",
       "const yrange = axis_range(grid_y, y_is_log);\n",
       "\n",
       "const xtype = x_is_log ? 'log' : 'linear';\n",
       "const ytype = y_is_log ? 'log' : 'linear';\n",
       "\n",
       "const layout = {\n",
       "  autosize: false,\n",
       "    margin: {\n",
       "      l: 35,\n",
       "      r: 35,\n",
       "      t: 35,\n",
       "      b: 100,\n",
       "      pad: 0,\n",
       "  },\n",
       "  annotations: [\n",
       "    {\n",
       "      font: {size: 14},\n",
       "      showarrow: false,\n",
       "      text: 'Mean',\n",
       "      x: 0.25,\n",
       "      xanchor: 'center',\n",
       "      xref: 'paper',\n",
       "      y: 1,\n",
       "      yanchor: 'bottom',\n",
       "      yref: 'paper',\n",
       "    },\n",
       "    {\n",
       "      font: {size: 14},\n",
       "      showarrow: false,\n",
       "      text: 'Standard Error',\n",
       "      x: 0.8,\n",
       "      xanchor: 'center',\n",
       "      xref: 'paper',\n",
       "      y: 1,\n",
       "      yanchor: 'bottom',\n",
       "      yref: 'paper',\n",
       "    },\n",
       "  ],\n",
       "  hovermode: 'closest',\n",
       "  legend: {orientation: 'h', x: 0, y: -0.25},\n",
       "  height: 450,\n",
       "  width: 950,\n",
       "  xaxis: {\n",
       "    anchor: 'y',\n",
       "    autorange: false,\n",
       "    domain: [0.05, 0.45],\n",
       "    exponentformat: 'e',\n",
       "    range: xrange,\n",
       "    tickfont: {size: 11},\n",
       "    tickmode: 'auto',\n",
       "    title: xvar,\n",
       "    type: xtype,\n",
       "  },\n",
       "  xaxis2: {\n",
       "    anchor: 'y2',\n",
       "    autorange: false,\n",
       "    domain: [0.60, 1],\n",
       "    exponentformat: 'e',\n",
       "    range: xrange,\n",
       "    tickfont: {size: 11},\n",
       "    tickmode: 'auto',\n",
       "    title: xvar,\n",
       "    type: xtype,\n",
       "  },\n",
       "  yaxis: {\n",
       "    anchor: 'x',\n",
       "    autorange: false,\n",
       "    domain: [0, 1],\n",
       "    exponentformat: 'e',\n",
       "    range: yrange,\n",
       "    tickfont: {size: 11},\n",
       "    tickmode: 'auto',\n",
       "    title: yvar,\n",
       "    type: ytype,\n",
       "  },\n",
       "  yaxis2: {\n",
       "    anchor: 'x2',\n",
       "    autorange: false,\n",
       "    domain: [0, 1],\n",
       "    exponentformat: 'e',\n",
       "    range: yrange,\n",
       "    tickfont: {size: 11},\n",
       "    tickmode: 'auto',\n",
       "    type: ytype,\n",
       "  },\n",
       "};\n",
       "\n",
       "Plotly.newPlot(\"0c296f931d4b47f0a9c1a26248fa4772\", traces, layout, {showLink: false});\n",
       "});</script>"
      ]
     },
     "metadata": {},
     "output_type": "display_data"
    }
   ],
   "source": [
    "render(plot_contour(model=gpei, param_x='lr', param_y='decay', metric_name='log_eval'))"
   ]
  },
  {
   "cell_type": "code",
   "execution_count": 23,
   "metadata": {
    "pycharm": {
     "name": "#%%\n"
    },
    "scrolled": false
   },
   "outputs": [
    {
     "data": {
      "text/html": [
       "<div id=\"ed48791fc0fb4399a4a94661563ca071\" style=\"width: 100%;\" class=\"plotly-graph-div\"></div><script type='text/javascript'>/*\n",
       " * Copyright (c) Facebook, Inc. and its affiliates. All Rights Reserved.\n",
       " */\n",
       "\n",
       "require(['plotly'], function(Plotly) {\n",
       "  window.PLOTLYENV = window.PLOTLYENV || {};\n",
       "  window.PLOTLYENV.BASE_URL = 'https://plot.ly';\n",
       "  /*\n",
       " * Copyright (c) Facebook, Inc. and its affiliates. All Rights Reserved.\n",
       " */\n",
       "\n",
       "const arm_data = {\"metrics\": [\"log_eval\"], \"in_sample\": {\"10_0\": {\"name\": \"10_0\", \"parameters\": {\"lr\": 0.004044864308475928, \"decay\": 0.04707769638039004, \"epochs\": 6}, \"y\": {\"log_eval\": 4.020110049100475}, \"y_hat\": {\"log_eval\": 4.015350348125742}, \"se\": {\"log_eval\": 0.007556678271325456}, \"se_hat\": {\"log_eval\": 0.007233198162806532}, \"context_stratum\": null}, \"11_0\": {\"name\": \"11_0\", \"parameters\": {\"lr\": 0.0037989071059585247, \"decay\": 0.0013841435750271724, \"epochs\": 9}, \"y\": {\"log_eval\": 3.921352853873042}, \"y_hat\": {\"log_eval\": 3.9243788852429975}, \"se\": {\"log_eval\": 0.010184709934255198}, \"se_hat\": {\"log_eval\": 0.009096599078786311}, \"context_stratum\": null}, \"12_0\": {\"name\": \"12_0\", \"parameters\": {\"lr\": 0.0010034284778267387, \"decay\": 0.01619763305775833, \"epochs\": 4}, \"y\": {\"log_eval\": 3.9779872969205443}, \"y_hat\": {\"log_eval\": 3.978076737674945}, \"se\": {\"log_eval\": 0.008471989545960273}, \"se_hat\": {\"log_eval\": 0.008341766780874211}, \"context_stratum\": null}, \"13_0\": {\"name\": \"13_0\", \"parameters\": {\"lr\": 0.0017365582947129383, \"decay\": 0.008977215067036219, \"epochs\": 1}, \"y\": {\"log_eval\": 3.975506861213706}, \"y_hat\": {\"log_eval\": 3.975290264046756}, \"se\": {\"log_eval\": 0.008807034960569648}, \"se_hat\": {\"log_eval\": 0.008638238723038353}, \"context_stratum\": null}, \"14_0\": {\"name\": \"14_0\", \"parameters\": {\"lr\": 0.006116741263131368, \"decay\": 0.07895861915890333, \"epochs\": 11}, \"y\": {\"log_eval\": 3.61423258781629}, \"y_hat\": {\"log_eval\": 3.6171929153616618}, \"se\": {\"log_eval\": 0.0063616699104992154}, \"se_hat\": {\"log_eval\": 0.006334580202861196}, \"context_stratum\": null}, \"15_0\": {\"name\": \"15_0\", \"parameters\": {\"lr\": 0.00512507486326056, \"decay\": 0.003491511312417426, \"epochs\": 7}, \"y\": {\"log_eval\": 3.998062387185866}, \"y_hat\": {\"log_eval\": 3.994441855043593}, \"se\": {\"log_eval\": 0.008792094974888445}, \"se_hat\": {\"log_eval\": 0.008446310530277413}, \"context_stratum\": null}, \"16_0\": {\"name\": \"16_0\", \"parameters\": {\"lr\": 0.0024074724487850477, \"decay\": 0.04021334838836546, \"epochs\": 9}, \"y\": {\"log_eval\": 4.0259356856422}, \"y_hat\": {\"log_eval\": 4.024116902143203}, \"se\": {\"log_eval\": 0.007840452586175162}, \"se_hat\": {\"log_eval\": 0.0075321422157095036}, \"context_stratum\": null}, \"17_0\": {\"name\": \"17_0\", \"parameters\": {\"lr\": 0.0012932799645160857, \"decay\": 0.002270241551766799, \"epochs\": 15}, \"y\": {\"log_eval\": 3.9645698466760853}, \"y_hat\": {\"log_eval\": 3.964848435640311}, \"se\": {\"log_eval\": 0.009111862981454109}, \"se_hat\": {\"log_eval\": 0.009013501390765339}, \"context_stratum\": null}, \"18_0\": {\"name\": \"18_0\", \"parameters\": {\"lr\": 0.0025618335265802736, \"decay\": 0.019564295308741823, \"epochs\": 2}, \"y\": {\"log_eval\": 4.014018816636409}, \"y_hat\": {\"log_eval\": 4.01357301971357}, \"se\": {\"log_eval\": 0.00792525179822629}, \"se_hat\": {\"log_eval\": 0.007613727873306417}, \"context_stratum\": null}, \"19_0\": {\"name\": \"19_0\", \"parameters\": {\"lr\": 0.002774570008448762, \"decay\": 0.00197962435500844, \"epochs\": 4}, \"y\": {\"log_eval\": 3.969413014029092}, \"y_hat\": {\"log_eval\": 3.9718046534403335}, \"se\": {\"log_eval\": 0.009130610560002307}, \"se_hat\": {\"log_eval\": 0.008800262483849436}, \"context_stratum\": null}, \"20_0\": {\"name\": \"20_0\", \"parameters\": {\"lr\": 0.0014007643909409292, \"decay\": 0.02253605918351418, \"epochs\": 9}, \"y\": {\"log_eval\": 4.0115342622454415}, \"y_hat\": {\"log_eval\": 4.0131960970243945}, \"se\": {\"log_eval\": 0.008904613847650317}, \"se_hat\": {\"log_eval\": 0.008445377722073578}, \"context_stratum\": null}, \"21_0\": {\"name\": \"21_0\", \"parameters\": {\"lr\": 0.0022177364780740904, \"decay\": 0.004060196864519902, \"epochs\": 12}, \"y\": {\"log_eval\": 3.9999811426165053}, \"y_hat\": {\"log_eval\": 3.998542932482182}, \"se\": {\"log_eval\": 0.008630238775110429}, \"se_hat\": {\"log_eval\": 0.00844079453250696}, \"context_stratum\": null}, \"22_0\": {\"name\": \"22_0\", \"parameters\": {\"lr\": 0.004721522756697272, \"decay\": 0.03473938680518261, \"epochs\": 2}, \"y\": {\"log_eval\": 4.015748638745597}, \"y_hat\": {\"log_eval\": 4.013775893589169}, \"se\": {\"log_eval\": 0.007617459348825448}, \"se_hat\": {\"log_eval\": 0.007223183155183658}, \"context_stratum\": null}, \"23_0\": {\"name\": \"23_0\", \"parameters\": {\"lr\": 0.006507217278079819, \"decay\": 0.007829091848627883, \"epochs\": 10}, \"y\": {\"log_eval\": 3.969515490044833}, \"y_hat\": {\"log_eval\": 3.9642037237397916}, \"se\": {\"log_eval\": 0.008249124176806254}, \"se_hat\": {\"log_eval\": 0.008048612110853021}, \"context_stratum\": null}, \"24_0\": {\"name\": \"24_0\", \"parameters\": {\"lr\": 0.0027287701230472123, \"decay\": 0.047467561333178455, \"epochs\": 5}, \"y\": {\"log_eval\": 4.008045219231504}, \"y_hat\": {\"log_eval\": 4.012722124044243}, \"se\": {\"log_eval\": 0.008600824796006514}, \"se_hat\": {\"log_eval\": 0.00813798449688285}, \"context_stratum\": null}, \"25_0\": {\"name\": \"25_0\", \"parameters\": {\"lr\": 0.0018620520236365425, \"decay\": 0.014504572431582102, \"epochs\": 11}, \"y\": {\"log_eval\": 4.0177322106840325}, \"y_hat\": {\"log_eval\": 4.01808485272548}, \"se\": {\"log_eval\": 0.008637085344971781}, \"se_hat\": {\"log_eval\": 0.008218315870386328}, \"context_stratum\": null}, \"26_0\": {\"name\": \"26_0\", \"parameters\": {\"lr\": 0.0012156310523465015, \"decay\": 0.08578899579530594, \"epochs\": 11}, \"y\": {\"log_eval\": 4.034312338135606}, \"y_hat\": {\"log_eval\": 4.034698353251241}, \"se\": {\"log_eval\": 0.007689923755965675}, \"se_hat\": {\"log_eval\": 0.0072154974270828435}, \"context_stratum\": null}, \"27_0\": {\"name\": \"27_0\", \"parameters\": {\"lr\": 0.0009034861576172048, \"decay\": 0.043318245856435324, \"epochs\": 14}, \"y\": {\"log_eval\": 4.037392070141155}, \"y_hat\": {\"log_eval\": 4.0363614662139815}, \"se\": {\"log_eval\": 0.007918972916914799}, \"se_hat\": {\"log_eval\": 0.00728011534702147}, \"context_stratum\": null}, \"28_0\": {\"name\": \"28_0\", \"parameters\": {\"lr\": 0.0011657755539881888, \"decay\": 0.1, \"epochs\": 15}, \"y\": {\"log_eval\": 4.0305296503746995}, \"y_hat\": {\"log_eval\": 4.029667281705869}, \"se\": {\"log_eval\": 0.007765747390425193}, \"se_hat\": {\"log_eval\": 0.007524587064582032}, \"context_stratum\": null}, \"29_0\": {\"name\": \"29_0\", \"parameters\": {\"lr\": 0.008000000000000004, \"decay\": 0.002288829527071239, \"epochs\": 7}, \"y\": {\"log_eval\": 3.9216153556747795}, \"y_hat\": {\"log_eval\": 3.92800375033489}, \"se\": {\"log_eval\": 0.010304896456927469}, \"se_hat\": {\"log_eval\": 0.009984030462509228}, \"context_stratum\": null}, \"30_0\": {\"name\": \"30_0\", \"parameters\": {\"lr\": 0.005128081369884944, \"decay\": 0.009714020504312918, \"epochs\": 3}, \"y\": {\"log_eval\": 4.003272017188419}, \"y_hat\": {\"log_eval\": 4.0047854909541}, \"se\": {\"log_eval\": 0.008744524217256345}, \"se_hat\": {\"log_eval\": 0.008455843694870372}, \"context_stratum\": null}, \"31_0\": {\"name\": \"31_0\", \"parameters\": {\"lr\": 0.0012034966711127215, \"decay\": 0.05331576453873375, \"epochs\": 13}, \"y\": {\"log_eval\": 4.034853146741749}, \"y_hat\": {\"log_eval\": 4.037019223140232}, \"se\": {\"log_eval\": 0.007891388538915295}, \"se_hat\": {\"log_eval\": 0.006970550579426248}, \"context_stratum\": null}, \"32_0\": {\"name\": \"32_0\", \"parameters\": {\"lr\": 0.0011924465660416662, \"decay\": 0.018078350513876462, \"epochs\": 15}, \"y\": {\"log_eval\": 4.0257891017009255}, \"y_hat\": {\"log_eval\": 4.024524760343655}, \"se\": {\"log_eval\": 0.008250339710490533}, \"se_hat\": {\"log_eval\": 0.007982545451364556}, \"context_stratum\": null}, \"33_0\": {\"name\": \"33_0\", \"parameters\": {\"lr\": 0.0008000000000000004, \"decay\": 0.1, \"epochs\": 13}, \"y\": {\"log_eval\": 4.039535780145851}, \"y_hat\": {\"log_eval\": 4.038127020458758}, \"se\": {\"log_eval\": 0.007132010393189851}, \"se_hat\": {\"log_eval\": 0.006680396623233546}, \"context_stratum\": null}, \"34_0\": {\"name\": \"34_0\", \"parameters\": {\"lr\": 0.0008000000000000004, \"decay\": 0.09999999999999949, \"epochs\": 9}, \"y\": {\"log_eval\": 4.026641731363641}, \"y_hat\": {\"log_eval\": 4.02671107068213}, \"se\": {\"log_eval\": 0.007205455158902104}, \"se_hat\": {\"log_eval\": 0.006952707419504712}, \"context_stratum\": null}, \"35_0\": {\"name\": \"35_0\", \"parameters\": {\"lr\": 0.0015388220487877905, \"decay\": 0.1, \"epochs\": 8}, \"y\": {\"log_eval\": 4.041210413503344}, \"y_hat\": {\"log_eval\": 4.039251153115173}, \"se\": {\"log_eval\": 0.007214847176585106}, \"se_hat\": {\"log_eval\": 0.00687629163522225}, \"context_stratum\": null}, \"36_0\": {\"name\": \"36_0\", \"parameters\": {\"lr\": 0.0016447015306304208, \"decay\": 0.05740378606914854, \"epochs\": 9}, \"y\": {\"log_eval\": 4.033673711417118}, \"y_hat\": {\"log_eval\": 4.034922153703092}, \"se\": {\"log_eval\": 0.007629768132666603}, \"se_hat\": {\"log_eval\": 0.006952403969317441}, \"context_stratum\": null}, \"37_0\": {\"name\": \"37_0\", \"parameters\": {\"lr\": 0.0008000000000000011, \"decay\": 0.001, \"epochs\": 7}, \"y\": {\"log_eval\": 3.977919594623966}, \"y_hat\": {\"log_eval\": 3.9777393136546957}, \"se\": {\"log_eval\": 0.009058110392772541}, \"se_hat\": {\"log_eval\": 0.0089722398516896}, \"context_stratum\": null}, \"38_0\": {\"name\": \"38_0\", \"parameters\": {\"lr\": 0.008000000000000004, \"decay\": 0.1, \"epochs\": 0}, \"y\": {\"log_eval\": 3.9132375011181257}, \"y_hat\": {\"log_eval\": 3.9135230297515196}, \"se\": {\"log_eval\": 0.008923038775749209}, \"se_hat\": {\"log_eval\": 0.008841739698609238}, \"context_stratum\": null}, \"39_0\": {\"name\": \"39_0\", \"parameters\": {\"lr\": 0.0008000000000000004, \"decay\": 0.034683012185556, \"epochs\": 11}, \"y\": {\"log_eval\": 4.044727817596675}, \"y_hat\": {\"log_eval\": 4.040715144633089}, \"se\": {\"log_eval\": 0.007789747219705842}, \"se_hat\": {\"log_eval\": 0.006963368495015841}, \"context_stratum\": null}, \"40_0\": {\"name\": \"40_0\", \"parameters\": {\"lr\": 0.0008000000000000004, \"decay\": 0.019416227604450564, \"epochs\": 13}, \"y\": {\"log_eval\": 4.005697820954328}, \"y_hat\": {\"log_eval\": 4.009098731989577}, \"se\": {\"log_eval\": 0.00871842467309026}, \"se_hat\": {\"log_eval\": 0.008204306028275373}, \"context_stratum\": null}, \"41_0\": {\"name\": \"41_0\", \"parameters\": {\"lr\": 0.00212708645449816, \"decay\": 0.01127820018448251, \"epochs\": 15}, \"y\": {\"log_eval\": 3.983780613080933}, \"y_hat\": {\"log_eval\": 3.9848810959978844}, \"se\": {\"log_eval\": 0.008859211473068451}, \"se_hat\": {\"log_eval\": 0.008676121060249982}, \"context_stratum\": null}, \"42_0\": {\"name\": \"42_0\", \"parameters\": {\"lr\": 0.0008000000000000004, \"decay\": 0.1, \"epochs\": 15}, \"y\": {\"log_eval\": 4.027518651810411}, \"y_hat\": {\"log_eval\": 4.028330745682156}, \"se\": {\"log_eval\": 0.007652008483475657}, \"se_hat\": {\"log_eval\": 0.007256147587810133}, \"context_stratum\": null}, \"43_0\": {\"name\": \"43_0\", \"parameters\": {\"lr\": 0.0008000000000000004, \"decay\": 0.03401669027082794, \"epochs\": 8}, \"y\": {\"log_eval\": 4.023404506162787}, \"y_hat\": {\"log_eval\": 4.02335703904453}, \"se\": {\"log_eval\": 0.007980565078703471}, \"se_hat\": {\"log_eval\": 0.007708830083616422}, \"context_stratum\": null}, \"44_0\": {\"name\": \"44_0\", \"parameters\": {\"lr\": 0.003633636002786291, \"decay\": 0.028776448733151633, \"epochs\": 3}, \"y\": {\"log_eval\": 4.0366771130414705}, \"y_hat\": {\"log_eval\": 4.036021381561066}, \"se\": {\"log_eval\": 0.007737460497862321}, \"se_hat\": {\"log_eval\": 0.006611636780960699}, \"context_stratum\": null}, \"45_0\": {\"name\": \"45_0\", \"parameters\": {\"lr\": 0.008000000000000004, \"decay\": 0.007147212988528556, \"epochs\": 0}, \"y\": {\"log_eval\": 3.924091409401043}, \"y_hat\": {\"log_eval\": 3.9259242687905567}, \"se\": {\"log_eval\": 0.0089671782093854}, \"se_hat\": {\"log_eval\": 0.008837653500910583}, \"context_stratum\": null}, \"46_0\": {\"name\": \"46_0\", \"parameters\": {\"lr\": 0.0008000000000000004, \"decay\": 0.062132377301891986, \"epochs\": 11}, \"y\": {\"log_eval\": 4.03621600874713}, \"y_hat\": {\"log_eval\": 4.038803959029759}, \"se\": {\"log_eval\": 0.007890092508523705}, \"se_hat\": {\"log_eval\": 0.006788521473106762}, \"context_stratum\": null}, \"47_0\": {\"name\": \"47_0\", \"parameters\": {\"lr\": 0.0008000000000000004, \"decay\": 0.001, \"epochs\": 0}, \"y\": {\"log_eval\": 3.939849888806768}, \"y_hat\": {\"log_eval\": 3.9399320453544253}, \"se\": {\"log_eval\": 0.00877473308367555}, \"se_hat\": {\"log_eval\": 0.008719145213336643}, \"context_stratum\": null}, \"48_0\": {\"name\": \"48_0\", \"parameters\": {\"lr\": 0.004308203330778961, \"decay\": 0.028771024643772, \"epochs\": 4}, \"y\": {\"log_eval\": 4.036188325149162}, \"y_hat\": {\"log_eval\": 4.039249081142876}, \"se\": {\"log_eval\": 0.007577407991815798}, \"se_hat\": {\"log_eval\": 0.0065229120234578655}, \"context_stratum\": null}, \"49_0\": {\"name\": \"49_0\", \"parameters\": {\"lr\": 0.0036967447563253904, \"decay\": 0.1, \"epochs\": 3}, \"y\": {\"log_eval\": 3.939970232874096}, \"y_hat\": {\"log_eval\": 3.9411933023752272}, \"se\": {\"log_eval\": 0.0072260554461817585}, \"se_hat\": {\"log_eval\": 0.007118949508254934}, \"context_stratum\": null}, \"4_0\": {\"name\": \"4_0\", \"parameters\": {\"lr\": 0.0011934390082424268, \"decay\": 0.06686069314247507, \"epochs\": 1}, \"y\": {\"log_eval\": 3.9676639950748886}, \"y_hat\": {\"log_eval\": 3.967407555009287}, \"se\": {\"log_eval\": 0.008439619929951075}, \"se_hat\": {\"log_eval\": 0.008355323774245435}, \"context_stratum\": null}, \"50_0\": {\"name\": \"50_0\", \"parameters\": {\"lr\": 0.0010861821066179202, \"decay\": 0.1, \"epochs\": 6}, \"y\": {\"log_eval\": 4.01873097461381}, \"y_hat\": {\"log_eval\": 4.018774498109206}, \"se\": {\"log_eval\": 0.007476939713896601}, \"se_hat\": {\"log_eval\": 0.007284472147061626}, \"context_stratum\": null}, \"51_0\": {\"name\": \"51_0\", \"parameters\": {\"lr\": 0.0029168908105427667, \"decay\": 0.02052006286485383, \"epochs\": 6}, \"y\": {\"log_eval\": 4.046149745093893}, \"y_hat\": {\"log_eval\": 4.046139565660806}, \"se\": {\"log_eval\": 0.008199089686813746}, \"se_hat\": {\"log_eval\": 0.007449515143363521}, \"context_stratum\": null}, \"52_0\": {\"name\": \"52_0\", \"parameters\": {\"lr\": 0.0014333221894011758, \"decay\": 0.003932877349377023, \"epochs\": 8}, \"y\": {\"log_eval\": 3.9847539886801733}, \"y_hat\": {\"log_eval\": 3.9852954697031624}, \"se\": {\"log_eval\": 0.008939494207823605}, \"se_hat\": {\"log_eval\": 0.00876160990108908}, \"context_stratum\": null}, \"53_0\": {\"name\": \"53_0\", \"parameters\": {\"lr\": 0.0034402691960054464, \"decay\": 0.024358234364913824, \"epochs\": 5}, \"y\": {\"log_eval\": 4.055870379113808}, \"y_hat\": {\"log_eval\": 4.0530499206343}, \"se\": {\"log_eval\": 0.007468974042501011}, \"se_hat\": {\"log_eval\": 0.0061067200752131815}, \"context_stratum\": null}, \"5_0\": {\"name\": \"5_0\", \"parameters\": {\"lr\": 0.0019558212574087366, \"decay\": 0.0011824514174953505, \"epochs\": 5}, \"y\": {\"log_eval\": 3.9826962664100476}, \"y_hat\": {\"log_eval\": 3.9812209404513363}, \"se\": {\"log_eval\": 0.008637217750371025}, \"se_hat\": {\"log_eval\": 0.008451074880474795}, \"context_stratum\": null}, \"6_0\": {\"name\": \"6_0\", \"parameters\": {\"lr\": 0.005551494394407805, \"decay\": 0.010283260945966472, \"epochs\": 8}, \"y\": {\"log_eval\": 3.937745563984811}, \"y_hat\": {\"log_eval\": 3.9483985569860742}, \"se\": {\"log_eval\": 0.009519154098377499}, \"se_hat\": {\"log_eval\": 0.008814390749896862}, \"context_stratum\": null}, \"7_0\": {\"name\": \"7_0\", \"parameters\": {\"lr\": 0.007662923912231201, \"decay\": 0.002680738706964375, \"epochs\": 3}, \"y\": {\"log_eval\": 4.011433652054382}, \"y_hat\": {\"log_eval\": 4.008593849982736}, \"se\": {\"log_eval\": 0.008661630655341245}, \"se_hat\": {\"log_eval\": 0.008472975026342998}, \"context_stratum\": null}, \"8_0\": {\"name\": \"8_0\", \"parameters\": {\"lr\": 0.0016311940380312328, \"decay\": 0.030532060346985843, \"epochs\": 13}, \"y\": {\"log_eval\": 4.033091584092544}, \"y_hat\": {\"log_eval\": 4.031388818002143}, \"se\": {\"log_eval\": 0.00794129124580905}, \"se_hat\": {\"log_eval\": 0.0075129234837603915}, \"context_stratum\": null}, \"9_0\": {\"name\": \"9_0\", \"parameters\": {\"lr\": 0.0008013008433305626, \"decay\": 0.005499813737312483, \"epochs\": 11}, \"y\": {\"log_eval\": 3.996061115189173}, \"y_hat\": {\"log_eval\": 3.9953230147021666}, \"se\": {\"log_eval\": 0.008740295689537658}, \"se_hat\": {\"log_eval\": 0.008591547617036153}, \"context_stratum\": null}, \"control1\": {\"name\": \"control1\", \"parameters\": {\"lr\": 0.0043, \"decay\": 0.0012, \"epochs\": 5}, \"y\": {\"log_eval\": 3.997396798885231}, \"y_hat\": {\"log_eval\": 3.9951330212120184}, \"se\": {\"log_eval\": 0.008531493375863187}, \"se_hat\": {\"log_eval\": 0.008318374028251425}, \"context_stratum\": null}, \"control2\": {\"name\": \"control2\", \"parameters\": {\"lr\": 0.0043, \"decay\": 0.0012, \"epochs\": 10}, \"y\": {\"log_eval\": 3.902201694947672}, \"y_hat\": {\"log_eval\": 3.9025434779865877}, \"se\": {\"log_eval\": 0.01006668027108687}, \"se_hat\": {\"log_eval\": 0.009324324088314554}, \"context_stratum\": null}, \"previous\": {\"name\": \"previous\", \"parameters\": {\"lr\": 0.00715, \"decay\": 0.01, \"epochs\": 6}, \"y\": {\"log_eval\": 3.9953394538615683}, \"y_hat\": {\"log_eval\": 3.9918436811219107}, \"se\": {\"log_eval\": 0.008252234051061177}, \"se_hat\": {\"log_eval\": 0.008005110145318989}, \"context_stratum\": null}, \"zero\": {\"name\": \"zero\", \"parameters\": {\"lr\": 0.0043, \"decay\": 0.0012, \"epochs\": 0}, \"y\": {\"log_eval\": 3.9341571499800057}, \"y_hat\": {\"log_eval\": 3.9350915596194054}, \"se\": {\"log_eval\": 0.009092915137801005}, \"se_hat\": {\"log_eval\": 0.00899225601874008}, \"context_stratum\": null}}, \"out_of_sample\": {}, \"status_quo_name\": null};\n",
       "const density = 50;\n",
       "const grid_x = [0.0, 0.30612244897959184, 0.6122448979591837, 0.9183673469387755, 1.2244897959183674, 1.5306122448979593, 1.836734693877551, 2.142857142857143, 2.4489795918367347, 2.7551020408163267, 3.0612244897959187, 3.36734693877551, 3.673469387755102, 3.979591836734694, 4.285714285714286, 4.591836734693878, 4.8979591836734695, 5.204081632653061, 5.510204081632653, 5.816326530612245, 6.122448979591837, 6.428571428571429, 6.73469387755102, 7.040816326530613, 7.346938775510204, 7.653061224489796, 7.959183673469388, 8.26530612244898, 8.571428571428571, 8.877551020408163, 9.183673469387756, 9.489795918367347, 9.795918367346939, 10.10204081632653, 10.408163265306122, 10.714285714285715, 11.020408163265307, 11.326530612244898, 11.63265306122449, 11.938775510204081, 12.244897959183675, 12.551020408163266, 12.857142857142858, 13.16326530612245, 13.46938775510204, 13.775510204081632, 14.081632653061225, 14.387755102040817, 14.693877551020408, 15.0];\n",
       "const grid_y = [0.0008000000000000004, 0.0008384905073237486, 0.000878832913590047, 0.0009211163194611579, 0.0009654341125114635, 0.001011884173484237, 0.001060569092472088, 0.0011115963954985103, 0.001165078782000996, 0.0012211343737401873, 0.0012798869756848463, 0.001341466349448807, 0.0014060084998838336, 0.0014736559754613737, 0.0015445581831066003, 0.0016188717181801267, 0.001696760710336153, 0.0017783971860209572, 0.0018639614484122983, 0.0019536424756389204, 0.0020476383381596297, 0.0021461566362237804, 0.0022494149583793858, 0.0023576413620414486, 0.0024710748771819865, 0.0025899660342541156, 0.0027145774175162648, 0.002845184244978504, 0.0029820749762519516, 0.0031255519496436947, 0.00327593204990434, 0.003433547408103024, 0.003598746135175557, 0.003771893090765917, 0.003953370689059068, 0.004143579743384972, 0.004342940351459089, 0.004551892823214636, 0.004770898653275716, 0.005000441540219178, 0.005241028454876409, 0.005493190760034401, 0.005757485384009219, 0.0060344960506836945, 0.006324834568726164, 0.006629142182837476, 0.0069480909900108195, 0.007282385423932177, 0.007632763810799958, 0.008000000000000004];\n",
       "const f = [3.9604983707220613, 3.9620832471227616, 3.9636833035003374, 3.9653038846137694, 3.966952021308845, 3.9686362947725886, 3.9703665777805996, 3.972153659291599, 3.9740087716946704, 3.9759430504619804, 3.9779669626368808, 3.980089743406373, 3.982318879427404, 3.9846596737919957, 3.987114920128383, 3.9896847018650448, 3.9923663175890325, 3.995154316676703, 3.9980406138491222, 4.001014639489447, 4.0040634757275155, 4.007171926829977, 4.010322476723146, 4.013495097483353, 4.016666891727334, 4.019811580090808, 4.022898882303831, 4.025893881638719, 4.028756384884766, 4.031440158505616, 4.0338924686608735, 4.036054389128644, 4.0378622176774055, 4.039250456269559, 4.040157036614926, 4.040531831547906, 4.04034995244593, 4.039630805467851, 4.0384481410584, 4.036910941384573, 4.035138881614025, 4.033243806655625, 4.031316487197433, 4.0294183760535836, 4.027578765375668, 4.025797537054383, 4.024052506159272, 4.022308895341366, 4.020527987132153, 4.018673197778292, 3.9614214098943727, 3.963009065170184, 3.9646058366896026, 3.9662171053707826, 3.9678501391193732, 3.9695139517914, 3.971219018280061, 3.97297685313205, 3.974799476397311, 3.976698803058492, 3.978685999844963, 3.9807708558607615, 3.982961212374434, 3.985262492886048, 3.987677366603971, 3.99020556569846, 3.992843859259468, 3.995586167016292, 3.9984237771622264, 4.0013456180519595, 4.0043385243609535, 4.007387434664392, 4.010475459741546, 4.0135837707431845, 4.016691275961342, 4.01977408630842, 4.022804812602093, 4.0257517759142605, 4.028578148643777, 4.031241024452451, 4.033690806839894, 4.0358713944594, 4.037721551015325, 4.039177930952032, 4.040180440025272, 4.040680941706024, 4.040656624777288, 4.04012727541403, 4.039162642616002, 4.037866369473362, 4.036352701184477, 4.034727729124222, 4.0330758673805205, 4.031451461198061, 4.02987601010939, 4.028341288042742, 4.026817430478244, 4.0252633423482695, 4.023635924421101, 4.021896111593335, 3.9623002287193305, 3.9638882510727624, 3.965479058948434, 3.967078065158269, 3.968692783693122, 3.9703326835047164, 3.9720088743077264, 3.9737336330037563, 3.9755197997940335, 3.977380088196304, 3.97932636120703, 3.9813689278391533, 3.9835159123534765, 3.9857727437770496, 3.9881418049333925, 3.9906222664377187, 3.99321011151578, 3.995898334543561, 3.998677274190511, 4.001535024452392, 4.004457854829335, 4.007430564282021, 4.010436692899036, 4.013458522639138, 4.016476817474104, 4.01947028645854, 4.0224147978673495, 4.025282406697321, 4.0280402549675935, 4.0306494789543335, 4.033064489117698, 4.035233096165541, 4.037097936990809, 4.038599702153606, 4.039682812790383, 4.040304346886011, 4.040446570375133, 4.04013008582028, 4.039417758996659, 4.038402859572442, 4.037189432783717, 4.035874165848832, 4.034532678050194, 4.03321092930605, 4.031922379004325, 4.0306512144848, 4.029360800531768, 4.028004662042222, 4.026536080940134, 4.024914076739405, 3.9631311300864276, 3.9647173854826385, 3.9662999286170426, 3.9678842112305746, 3.969478013030248, 3.971091290646886, 3.97273583129459, 3.974424721048537, 3.9761716631979733, 3.9779902000608565, 3.9798928999136614, 3.9818905715243034, 3.98399156568739, 3.9862012179084187, 3.988521477862929, 3.990950756867003, 3.9934840032510768, 3.996112989770995, 3.9988267719529236, 4.001612255408164, 4.00445479462933, 4.007338735101221, 4.0102478053555775, 4.01316526882915, 4.016073761578784, 4.018954774577566, 4.021787786341342, 4.024549102918717, 4.02721052167817, 4.029738049613199, 4.032091069740844, 4.034222445347567, 4.036080059397391, 4.037610285263172, 4.038763884051675, 4.039504630362676, 4.039819949926236, 4.03973015892954, 4.0392902168682, 4.038580801286339, 4.037692622646903, 4.036710109256637, 4.035698098211464, 4.034693201336348, 4.033700851126382, 4.032698431074351, 4.031643681667666, 4.03048573354548, 4.029174819735503, 4.027668370103994, 3.963911230219012, 3.9654939055954035, 3.9670663087859683, 3.96863395014595, 3.9702049057645796, 3.9717896621679416, 3.9734007356077234, 3.9750520772035287, 3.9767583066981405, 3.9785338384752116, 3.980391971602135, 3.9823440148606153, 3.9843985132197437, 3.9865606364503723, 3.9888317821398687, 3.991209430792645, 3.993687268208287, 3.9962555623567897, 3.9989017537849034, 4.001611194223716, 4.004367948268646, 4.007155557011844, 4.009957651089914, 4.012758297476553, 4.015541975408023, 4.01829310787535, 4.020995129114128, 4.023629146196378, 4.026172359828825, 4.0285965512793185, 4.0308670867178655, 4.0329429687677925, 4.034778448467959, 4.036326619337758, 4.037545227648293, 4.038404479131391, 4.038895578592773, 4.039037119706569, 4.038875640643279, 4.038478668845953, 4.037922288379633, 4.037277125372155, 4.036596059718616, 4.03590586351725, 4.035204192075674, 4.0344624953633215, 4.03363405396421, 4.032664582613576, 4.031501822288677, 4.030101935742177, 3.964638829946013, 3.9662164917487566, 3.9677773631155038, 3.9693270457341163, 3.970873953099903, 3.9724291516334542, 3.97400594446766, 3.975619210387781, 3.9772845484724875, 3.9790173028642255, 3.980831549711786, 3.9827391256431715, 3.9847487712109526, 3.986865456645999, 3.989089949124679, 3.9914186664208486, 3.9938438388829516, 3.9963539722723076, 3.9989345732776758, 4.001569071415172, 4.004239846103046, 4.006929245103665, 4.009620461207154, 4.0122981224544825, 4.014948454983542, 4.0175589059598495, 4.0201171760468535, 4.022609713847554, 4.025019870951918, 4.02732609024784, 4.029500652974796, 4.0315095718814575, 4.033314144330987, 4.034874470579722, 4.036154898380251, 4.037130813957645, 4.037795397679892, 4.038164134566585, 4.038274789276249, 4.038181883558283, 4.037946802984997, 4.037626036343001, 4.037260238091782, 4.036866412667162, 4.036434942264759, 4.035932217242438, 4.035308119223927, 4.0345059685699365, 4.033471846588778, 4.032161275928012, 3.965313838879059, 3.9668855179269014, 3.9684340252461556, 3.9699650983277395, 3.9714875372534277, 3.9730130428520756, 3.9745557654872767, 3.9761315777496438, 3.977757129017632, 3.9794487665897877, 3.981221415130098, 3.983087501808785, 3.9850560075877803, 3.9871317189779596, 3.989314747020871, 3.9916003665378015, 3.9939792060125345, 3.9964377884325124, 3.99895939058229, 4.001525156208631, 4.0041153676508285, 4.006710750199359, 4.009293654824299, 4.011848943140554, 4.014364392863642, 4.016830465265802, 4.019239342824562, 4.021583268292967, 4.023852398293243, 4.02603260057452, 4.028103807579787, 4.030039594504671, 4.0318085073532215, 4.033377332693379, 4.034716043743704, 4.035803637113626, 4.0366335483970675, 4.0372169871377, 4.0375827092822245, 4.037772635053451, 4.0378339721852194, 4.037809485809316, 4.037728001434098, 4.037597292704491, 4.03740122049787, 4.037102068462454, 4.036647431402781, 4.035979470668396, 4.035043852301818, 4.0337965153302795, 3.9659382193058237, 3.967503533240502, 3.9690395097766062, 3.9705520745613305, 3.9720504673735424, 3.9735470778656534, 3.975056962012316, 3.976597052484121, 3.9781851266691715, 3.9798386254265505, 3.9815734225651123, 3.9834026398604827, 3.9853355952955116, 3.9873769666056846, 3.9895262455030216, 3.991777545212396, 3.994119802079107, 3.9965373819198766, 3.9990110671330066, 4.001519364316897, 4.004040034785437, 4.006551711475582, 4.009035426836353, 4.011475842988854, 4.013861958329217, 4.016187079294954, 4.018447911531062, 4.020642760424564, 4.022769045411913, 4.024820601471259, 4.0267854815828015, 4.028645046872913, 4.030374920842931, 4.0319479150186845, 4.033338478156351, 4.034527756685853, 4.035508063961513, 4.036285499515202, 4.0368797311549525, 4.037320570157426, 4.037641751194569, 4.037873009619391, 4.038032026934666, 4.038118131979701, 4.03810963897178, 4.0379659186099515, 4.0376336974479905, 4.037055593559617, 4.036178514980902, 4.034960242537478, 3.9665163950298967, 3.968075716251922, 3.9695998046860104, 3.971094827075143, 3.9725705132429066, 3.974039990218805, 3.9755192715619603, 3.9770264137180926, 3.9785804057869867, 3.980199890808052, 3.9819018245459734, 3.983700173275962, 3.9856047459641144, 3.987620251889069, 3.9897456693338773, 3.991973999544541, 3.994292459413947, 3.9966831364658186, 3.999124093238306, 4.001590867417626, 4.0040582696884455, 4.0065023332850815, 4.008902219504886, 4.011241837836954, 4.013510909089703, 4.0157052022461075, 4.017825733800887, 4.019876858180699, 4.021863419133614, 4.023787462067704, 4.02564533470199, 4.027426131545783, 4.0291121690781155, 4.03068154748502, 4.032112181730645, 4.0333862773791616, 4.034494138764684, 4.03543633985748, 4.036223602938736, 4.036874179219292, 4.037409023667346, 4.037845510639458, 4.0381908475854695, 4.038436753470912, 4.03855715588489, 4.038510050868248, 4.038243154816648, 4.03770157879868, 4.036835456245491, 4.03560605457582, 3.9670555532000256, 3.9686102223351023, 3.9701240595659013, 3.971603515441768, 3.973058848224461, 3.974503958288172, 3.9759558582544154, 3.977433787560072, 3.978958036272557, 3.9805485768242317, 3.982223612739591, 3.9839981516267176, 3.9858827061457087, 3.9878822245305385, 3.989995348718355, 3.992214088396224, 3.9945239798213907, 3.9969047684665773, 3.9993316158912315, 4.0017767855132345, 4.004211710053775, 4.006609286011619, 4.008946179848178, 4.011204872521666, 4.013375124898528, 4.015454534516917, 4.017447899890772, 4.019365244516562, 4.021218612192856, 4.023018137192884, 4.0247683334638245, 4.026465776675151, 4.0280990421979554, 4.029650928233652, 4.031102162645439, 4.0324354401511044, 4.033638739717543, 4.0347071718960725, 4.035642949028101, 4.036453417224958, 4.037147414358797, 4.037730508581478, 4.0381999704741816, 4.038540692944213, 4.038723502322213, 4.038706859215686, 4.03844168975249, 4.037877917851595, 4.036971028615921, 4.035687446196658, 3.9675657649184846, 3.9691183391065077, 3.970624776059812, 3.9720918295512395, 3.97353030178158, 3.974954882242288, 3.9763836092643654, 3.9778369578134893, 3.979336612222616, 3.9809040182442037, 3.982558823301595, 3.98431731676765, 3.986190982792377, 3.98818527950219, 3.9902987576338838, 3.9925226241281826, 3.994840838098119, 3.9972307964413476, 3.999664624777293, 4.002111037811011, 4.004537673060632, 4.0069137346627866, 4.009212712502911, 4.011414872037875, 4.013509152807795, 4.015494086964218, 4.017377380542049, 4.0191739273524405, 4.020902294441849, 4.022580164237344, 4.024219782337048, 4.02582482817518, 4.02738979549144, 4.028901901046592, 4.030344520024434, 4.031700855209212, 4.032956836124297, 4.034102673720456, 4.0351328612467094, 4.03604469871777, 4.036835647848018, 4.0375000107089285, 4.038025596306959, 4.038391216528986, 4.0385659261181575, 4.038510603544, 4.038181700381487, 4.037536264827957, 4.036537132213175, 4.035157358184938, 3.968059870285889, 3.9696143862524265, 3.9711177287672386, 3.972576938114278, 3.9740033418518457, 3.9754124056962, 3.976823199582953, 3.9782574752711235, 3.979738403948632, 3.9812890594073145, 3.982930752053973, 3.98468132848663, 3.986553558057882, 3.988553734094121, 3.9906806206630745, 3.9929248712380048, 3.9952690289864226, 3.997688187336207, 4.000151343766203, 4.0026234208853175, 4.005067859140643, 4.007449607799219, 4.0097382589206205, 4.0119109887119375, 4.013954902080305, 4.01586833688612, 4.017660702570281, 4.019350545513206, 4.020961808047988, 4.022518737907361, 4.024040577884374, 4.0255376715802464, 4.0270102899009235, 4.028450198896716, 4.029843793136676, 4.031175385784627, 4.0324296932051755, 4.033593079819772, 4.034653511474622, 4.035599423881224, 4.036417902986237, 4.037092716770055, 4.037602795894662, 4.03792164124453, 4.038017821195711, 4.037856455495602, 4.037401583727093, 4.036619313229526, 4.0354813875668905, 4.033968550459568, 3.9685531111209738, 3.9701153392406594, 3.9716215920233426, 3.9730791334327185, 3.974499753955128, 3.975899644875961, 3.977298884263326, 3.978720521821828, 3.980189297575742, 3.9817300673603016, 3.9833660334372474, 3.985116895728205, 3.9869970534634067, 3.9890139999743948, 3.991167062200838, 3.993446636161235, 3.9958340549652838, 3.998302193367555, 4.000816861444984, 4.003338971549225, 4.00582738120183, 4.008242225140893, 4.010548457709458, 4.01271923831193, 4.014738716738727, 4.016603727660101, 4.0183239125474435, 4.019919898484811, 4.02141944419273, 4.022851988477793, 4.0242427837122765, 4.025608386297944, 4.026954944675139, 4.0282793237232895, 4.029571810565781, 4.030818943894911, 4.032005546370818, 4.033115629795115, 4.034132239904874, 4.03503655465495, 4.0358067330426755, 4.0364171618188225, 4.0368387590692105, 4.037040556924922, 4.036991796156297, 4.036663320975996, 4.036028241757454, 4.035062927603988, 4.033748859963602, 4.032074926567628, 3.969062533876143, 3.970640201479308, 3.9721572972072487, 3.9736211942806197, 3.9750440327735084, 3.9764426321007775, 3.9778380144232908, 3.9792545149858674, 3.9807184983490234, 3.9822567378944957, 3.983894546830756, 3.9856537743992257, 3.9875508042032033, 3.989594713023424, 3.991785765001061, 3.994114421837744, 3.996561038018704, 3.999096375677586, 4.001683014617873, 4.004277651728125, 4.006834187223122, 4.009307391582302, 4.01165684517786, 4.013850749389416, 4.015869130889005, 4.017705912684468, 4.019369332523815, 4.020880299327308, 4.022268566592723, 4.0235671492633225, 4.024806183129644, 4.0260080156003335, 4.027184978153783, 4.028339914767243, 4.02946826760462, 4.030560310398459, 4.031602662976324, 4.032578830970159, 4.033468918954795, 4.034248903391248, 4.034890029655692, 4.035359071435593, 4.035620258384835, 4.035639114108794, 4.035386517276908, 4.034840001775532, 4.033982361696189, 4.032800418504774, 4.031285312593195, 4.02943384811938, 3.9696062101259626, 3.971209176360231, 3.972747173166942, 3.9742275165747736, 3.975662528452404, 3.9770695044219178, 3.978470293867045, 3.979890455000921, 3.9813579859227852, 3.9829016709734133, 3.984549117595747, 3.9863245927255435, 3.9882468007244616, 3.9903267765167763, 3.9925660942012096, 3.994955605982573, 3.9974749197824684, 4.000092788060806, 4.002768511336456, 4.005454361083526, 4.008098908991042, 4.010651027931843, 4.013064218106888, 4.015300818636194, 4.017335595593509, 4.019158160189764, 4.020773686798232, 4.0222015159502895, 4.023471518802713, 4.024618643252179, 4.0256768007984265, 4.02667377833048, 4.027628525911118, 4.028550941132203, 4.029443122676526, 4.030300837664663, 4.031114428279305, 4.031868964066171, 4.032543837693645, 4.0331122238186685, 4.03354097884142, 4.0337917262912715, 4.033824016430163, 4.033601106972425, 4.033096235057848, 4.032293811924294, 4.031185767931482, 4.02976843395783, 4.028041637172528, 4.026009246795064, 3.9702023278262937, 3.971842694504639, 3.973413924199552, 3.974923061789619, 3.976382389354557, 3.9778094676090188, 3.9792267925948717, 3.980661015707391, 3.982141708118414, 3.9836996886744407, 3.985364974741449, 3.987164457253976, 3.989119444199887, 3.9912432598653953, 3.9935391264674656, 3.995998581968361, 3.998600690345953, 4.001312265066686, 4.0040892452592916, 4.006879241210942, 4.009625118712882, 4.012269345557758, 4.014758700802962, 4.017048860585922, 4.0191083252404285, 4.020921141380195, 4.022487911618405, 4.023824711501239, 4.024959815527051, 4.0259286332922875, 4.026767902803935, 4.027510616776437, 4.028182862865254, 4.028802747607002, 4.029380621390015, 4.029919599631802, 4.0304157572255015, 4.030857871268453, 4.031226933572905, 4.031495848762272, 4.031629864516254, 4.031588413503076, 4.031329181174667, 4.03081508805806, 4.030022159346119, 4.0289406464802475, 4.027569782744089, 4.025913515600661, 4.023978720998782, 4.0217750220390265, 3.970868200391868, 3.9725603423063576, 3.9741794881590473, 3.975732159526401, 3.9772303289926305, 3.9786915522382853, 3.980138721083949, 3.98159936897302, 3.9831044883497104, 3.984686856875648, 3.986378913884033, 3.988210277514634, 3.9902050452623476, 3.9923790754504354, 3.9947375014943147, 3.9972727756162785, 3.999963556504229, 4.002774724491085, 4.005658712703184, 4.008558186698365, 4.011409915607424, 4.014149496598544, 4.0167164591635025, 4.0190592037945505, 4.021139217104343, 4.022934039655023, 4.024438540738552, 4.025664197599536, 4.0266363327605585, 4.027389673009647, 4.027963093778348, 4.028394728573441, 4.0287184005164045, 4.028961594399634, 4.0291444840887305, 4.029279343759317, 4.029369933269612, 4.02941081438366, 4.029386820199703, 4.0292730541450785, 4.029035899225708, 4.0286356183027, 4.0280312007690116, 4.027187801013394, 4.026084358092244, 4.024714768644553, 4.023082908741248, 4.021197920086558, 4.019071689818721, 4.016717970064025, 3.971619232885817, 3.9733797285941, 3.9750638069288793, 3.9766771898019675, 3.9782312339862784, 3.9797431679640023, 3.9812359586548496, 3.9827377214593818, 3.9842806098650025, 3.9858991579587633, 3.9876280976785425, 3.989499728027737, 3.991540973155889, 3.993770331041451, 3.9961949851564604, 3.998808420088365, 4.001588925448786, 4.00449935497399, 4.007488398906758, 4.010493426529405, 4.013444703841534, 4.016270558817296, 4.018902915642733, 4.021282574164867, 4.023363655764861, 4.025116738543865, 4.026530338443821, 4.027610557409861, 4.028378934230082, 4.028868813842661, 4.029120855175896, 4.0291784775095945, 4.029083920607812, 4.028875185283567, 4.0285837216969504, 4.028232602373855, 4.027835033132991, 4.027393245640153, 4.026897969081584, 4.026328782043372, 4.025655723800632, 4.024842601073947, 4.023852360086541, 4.0226542077741, 4.021229907405958, 4.019575070726681, 4.017695572576861, 4.01560315743875, 4.013312457897075, 4.01083950280566, 3.9724678819030124, 3.9743153245973724, 3.9760835412444537, 3.9777771717315016, 3.979406631945874, 3.9809884642867197, 3.982545330591074, 3.9841055417547975, 3.9857020357316975, 3.9873707529719984, 3.9891484117362705, 3.9910697466927854, 3.9931643377414487, 3.9954532261659232, 3.9979456006291763, 4.000635934408601, 4.003502039329784, 4.006504514534571, 4.009587950349995, 4.012683984616571, 4.0157159636779225, 4.018604650659672, 4.021274252979036, 4.023658040519097, 4.025702955616988, 4.027372809279941, 4.028649863292184, 4.029534790133286, 4.030045168887238, 4.0302127960397724, 4.0300801435327624, 4.02969629190075, 4.029112653003965, 4.028378799500609, 4.02753869618906, 4.026627555366612, 4.025669459886111, 4.024675867321872, 4.02364513157685, 4.0225632283604975, 4.021405917252112, 4.020142560774154, 4.018741593383362, 4.0171768579437, 4.015432677979494, 4.013505267495176, 4.011400505264919, 4.009130382932394, 4.0067100138690765, 4.004155753255276, 3.973422649273002, 3.9753773194292807, 3.977250772720907, 3.9790462997982514, 3.9807730555392147, 3.982446524922161, 3.9840886470109838, 3.9857274715044024, 3.9873962339346547, 3.989131774733831, 3.9909722880917045, 3.9929544531814716, 3.9951100626073286, 3.9974623292999096, 4.000022146490045, 4.002784708990965, 4.005727049412574, 4.008807114518267, 4.011964894062185, 4.01512576870183, 4.018205756835469, 4.021117913888058, 4.023778944589782, 4.02611516257003, 4.0280671821745875, 4.029593035801991, 4.030669696601811, 4.031293212516476, 4.031477784591584, 4.031254079065497, 4.030666806295582, 4.029771306443144, 4.028628963476913, 4.027301824766068, 4.025847277564208, 4.024313573631441, 4.022736621517733, 4.021138174571381, 4.019525441522963, 4.017892154750663, 4.016221146980283, 4.014488414717649, 4.012668360106605, 4.0107393008806795, 4.008687683915707, 4.006509604689054, 4.0042096132755285, 4.001798106794956, 3.9992886872625473, 3.996696185181622, 3.9744871567080997, 3.9765705454535825, 3.978571754067857, 3.980492493262114, 3.9823403690999215, 3.984129457366481, 3.9858805531040216, 3.9876209497459607, 3.989383607645244, 3.99120561507911, 3.9931259175905667, 3.995182365995812, 3.9974081886208443, 3.999828042049738, 4.0024538811801795, 4.005281055234522, 4.0082852666563955, 4.011421206310139, 4.014623603046389, 4.017810972168232, 4.020891643250135, 4.023771044013585, 4.026359006309587, 4.028576059807348, 4.030358098488516, 4.031659246573674, 4.032453113543732, 4.03273288459073, 4.0325108040231505, 4.031817445593391, 4.030700564123635, 4.029222541548608, 4.0274555125279825, 4.025474634145201, 4.02335114275777, 4.021146634154767, 4.018909167771165, 4.0166712416380275, 4.014449511846039, 4.012246126884606, 4.010051547885499, 4.007848632924986, 4.005617514857129, 4.003340423509644, 4.00100533938711, 3.998607619004304, 3.9961495511428677, 3.9936385953004723, 3.991085255983824, 3.9885012500654398, 3.9756593541153196, 3.9778935391668124, 3.980045787077768, 3.9821160515679344, 3.984110160820287, 3.986040484920567, 3.9879262932304576, 3.9897936364137556, 3.991674586361004, 3.9936057177801536, 3.9956258072342887, 3.9977728130047656, 4.000080243190734, 4.002573034157599, 4.005263116924705, 4.008145030397645, 4.011192272948703, 4.014355430287746, 4.017563145266673, 4.0207264106865575, 4.023745627354532, 4.026518998523202, 4.02895062848549, 4.030957106021386, 4.032472001360943, 4.033448284431689, 4.033859084619167, 4.033697474727247, 4.032976074525711, 4.031727083022136, 4.030002479591616, 4.027872583113982, 4.0254208999617624, 4.022735872725755, 4.01990235263048, 4.016994865317715, 4.014073246359574, 4.011180512382129, 4.008342682038998, 4.005570275565105, 4.002861222404441, 4.000204825596509, 3.99758625736019, 3.994990855708735, 3.9924074204259905, 3.9898299426913058, 3.9872577169811647, 3.984694283779453, 3.982145855456635, 3.979619773558638, 3.976930913301867, 3.9793378066766136, 3.981664318466028, 3.983908529050571, 3.9860743366295948, 3.9881721958988288, 3.9902195534797538, 3.992240795795048, 3.994266516648374, 3.996331972624505, 3.998474713897706, 4.000731487261499, 4.003134542006928, 4.0057074376926645, 4.0084604482548185, 4.011385815908005, 4.014453535660824, 4.0176089412138225, 4.020773609261944, 4.023850377522299, 4.026731724489547, 4.029309496061694, 4.031483837131237, 4.033169947656593, 4.034302217477838, 4.03483599012875, 4.034747620066438, 4.034033711935269, 4.032710526236319, 4.030814406862257, 4.028403179472941, 4.025556006663492, 4.022367973286844, 4.018940252820299, 4.015370270608254, 4.011744326777597, 4.008132994062294, 4.004588958477164, 4.0011469031934155, 3.997825069202175, 3.99462813047552, 3.991550965181833, 3.9885828010549136, 3.985711121223238, 3.98292473322474, 3.980215601719328, 3.9775793870762852, 3.975014964652639, 3.972523374220862, 3.970106634513054, 3.9782868476853572, 3.9808873526800066, 3.9834103373338565, 3.9858519439987026, 3.9882140668012727, 3.990505138092071, 3.9927406034018214, 3.9949428821884707, 3.9971405977516103, 3.999366933221347, 4.001657123391436, 4.0040452323409, 4.006560399788324, 4.009222663320942, 4.012038378239603, 4.014995338186963, 4.018058166045454, 4.021165422747684, 4.02423051176241, 4.027147638471622, 4.029801801836041, 4.03207999667135, 4.033880896188992, 4.035121563364368, 4.035740984510526, 4.035700975984869, 4.0349853768000585, 4.033598586861836, 4.031564547992754, 4.028927159935281, 4.0257523375979725, 4.022128877184086, 4.018162862857139, 4.013966702106576, 4.009648575744752, 4.005304793136003, 4.001015100383819, 3.996840504794619, 3.992823162788021, 3.9889879115291342, 3.9853450310511316, 3.981893792864333, 3.978626301561833, 3.975531111132195, 3.9725961515323376, 3.96981066300298, 3.967166075221316, 3.9646560013860155, 3.9622756605355134, 3.960021065953238, 3.979705377793267, 3.982518506632673, 3.9852581302738943, 3.9879184108889807, 3.9904992182231087, 3.993006945633706, 3.9954549845672775, 3.9978636360117457, 4.00025922248341, 4.0026722514146975, 4.005134666469538, 4.007676400084655, 4.0103214912402425, 4.013083937476058, 4.015963290166735, 4.018939956918617, 4.021970573230432, 4.0249849233044275, 4.027887051889301, 4.030562403761337, 4.03288961197999, 4.034753126245272, 4.036053390451543, 4.036713201898221, 4.036680387123898, 4.035927671020015, 4.034450887565273, 4.0322667349529135, 4.029411230516451, 4.025939838383933, 4.0219293901377515, 4.01747888972329, 4.01270396704155, 4.007726002397575, 4.002661599638019, 3.9976149186008625, 3.9926729498196054, 3.9879033029469007, 3.983354042355345, 3.979055124327142, 3.975020999623188, 3.9712539359253674, 3.9677476020725666, 3.964490468832776, 3.9614686485277075, 3.958667928997973, 3.95607493405654, 3.9536775137878473, 3.9514645848599526, 3.949425680814911, 3.9811580379295566, 3.984200046219235, 3.9871734067513867, 3.9900702330101594, 3.99288835093884, 3.9956321391963017, 3.9983129723587023, 4.000949024642587, 4.003564182909196, 4.006185918501611, 4.00884217663491, 4.011557553420082, 4.0143491233431945, 4.0172222145348035, 4.0201662396850635, 4.023150511727118, 4.026120191430195, 4.028993688900645, 4.031664488787983, 4.0340097014927645, 4.035903554693063, 4.037231090486581, 4.0378984174514585, 4.037838380470312, 4.037012150629829, 4.035407912552024, 4.033038005575009, 4.029935837406115, 4.026153730952796, 4.021762502668233, 4.016852490799372, 4.0115333107954205, 4.005928570417051, 4.000166228935184, 3.9943688098478267, 3.988645955026894, 3.9830897250672415, 3.97777234240785, 3.9727459382105677, 3.9680438561238067, 3.96368307424078, 3.959667311852381, 3.95599039785544, 3.952639510151503, 3.949597965624286, 3.9468473513215097, 3.944368923625212, 3.9421443335829602, 3.940155832872984, 3.9383861591766207, 3.9826100019547437, 3.9858935910465365, 3.9891137677270043, 3.992260438890058, 3.9953292911801097, 3.9983226693813054, 4.0012499788945926, 4.004127344061208, 4.006976259421804, 4.009821083835949, 4.012685444269182, 4.015587850981701, 4.018536984276231, 4.021527143236581, 4.024534210890969, 4.0275122297652795, 4.030390664620933, 4.0330733902389735, 4.035442162601162, 4.03736677763, 4.03871977171171, 4.039390516706919, 4.039295046686828, 4.038380738676686, 4.036626635188959, 4.034040827380845, 4.030656434796437, 4.026527584396553, 4.02172648601342, 4.016342129445332, 4.010479996570876, 4.004260604949774, 3.9978145609451707, 3.991274494959847, 3.9847665349923043, 3.9784034312392036, 3.9722800316384883, 3.966471022966409, 3.9610305877782617, 3.955993563324811, 3.9513776817418673, 3.9471864800041585, 3.943412489268865, 3.940040353912022, 3.937049598091531, 3.9344168515894515, 3.9321174557022442, 3.93012647478333, 3.9284192199112122, 3.926971435466716, 3.9840206046835687, 3.9875542332696265, 3.9910294772474515, 3.9944337231307157, 3.997760258712755, 4.001009227675155, 4.004188014541801, 4.007310757007286, 4.0103967084068035, 4.013467297715861, 4.01654194280209, 4.01963291013031, 4.0227397520514705, 4.025844058264934, 4.028905293271727, 4.031858243612733, 4.034612340892502, 4.037053576548511, 4.039050837927648, 4.0404678630899715, 4.041178429817822, 4.041080051026596, 4.040102890904951, 4.038213197015704, 4.035412179509799, 4.031731940870327, 4.027230157489181, 4.021984973636589, 4.016091099703847, 4.009657401459834, 4.002805289520898, 3.9956663228011084, 3.988377619043411, 3.981075231736378, 3.973887057276623, 3.96692683410298, 3.960290009527785, 3.9540515885583933, 3.9482657476242102, 3.942966870086056, 3.9381716240438007, 3.9338817032350994, 3.9300868727629052, 3.9267680019250486, 3.923899828017332, 3.921453275159844, 3.919397242260445, 3.9176998608621565, 3.916329293111163, 3.915254182868064, 3.9853440498845067, 3.989131387632192, 3.9928645133586356, 3.996527768443916, 4.000111538339641, 4.003613349003361, 4.007038299394201, 4.010398476271111, 4.013711046661634, 4.016994866657399, 4.02026563836587, 4.023529852727444, 4.026778060961948, 4.029978491680888, 4.033072395718276, 4.0359723604619875, 4.038564300243305, 4.040713465492092, 4.042274736780854, 4.043106638377962, 4.043086518816706, 4.042123238752079, 4.040164770640977, 4.037200102628398, 4.033256423502334, 4.0283933694848875, 4.022696214623256, 4.01626951423026, 4.009232087534113, 4.001713474281839, 3.9938512271280646, 3.9857879056849495, 3.977666860464178, 3.9696268197471274, 3.9617961623132008, 3.9542879337161168, 3.947196290216779, 3.940594593884089, 3.9345350688226475, 3.929049767202441, 3.9241525262635664, 3.91984157982756, 3.916102499484079, 3.9129111744766454, 3.910236592559754, 3.908043252610617, 3.9062931160537846, 3.904947078070201, 3.9039660008498727, 3.903311392234484, 3.986530315828236, 3.9905698645973278, 3.994557895384189, 3.9984749426380657, 4.002307691497514, 4.0060503098401385, 4.009705042001323, 4.013281632888976, 4.0167952199433, 4.020262511770919, 4.023696272009336, 4.027098257670546, 4.030451060433467, 4.033710148872871, 4.036798324023497, 4.039604802058326, 4.04199019210133, 4.043797247374944, 4.044865774958936, 4.045049069854788, 4.044229122881432, 4.042328162179156, 4.039314695781555, 4.035203541894775, 4.0300509300362, 4.023946733666645, 4.017005948023123, 4.0093609638602885, 4.001155415487838, 3.9925396319278694, 3.983667120486634, 3.9746912281995446, 3.9657613159415233, 3.9570183507053245, 3.948590381395565, 3.9405885714996325, 3.933104319212156, 3.926207714546603, 3.9199473341972997, 3.9143512121748736, 3.909428736170238, 3.9051731823878626, 3.901564598681443, 3.8985727685771465, 3.896160031980623, 3.8942837965757975, 3.8928986398693377, 3.891957966843313, 3.8914152437785905, 3.8912248686045383, 3.9875262827137825, 3.9918111777057943, 3.996045278641682, 4.00020433469182, 4.00427023726753, 4.008232704280265, 4.012090199941065, 4.015849544229088, 4.019523734911277, 4.023127748543646, 4.026672365154675, 4.030156104465796, 4.0335554731282635, 4.036815037273628, 4.039840620525906, 4.042498981656803, 4.044625737904338, 4.046040861998958, 4.046568333138616, 4.046055384360903, 4.044388318405375, 4.04150332830046, 4.0373909720723375, 4.032093925973146, 4.025699483948829, 4.018329387204303, 4.01012939906867, 4.001260176734329, 3.9918900710525547, 3.9821897689825723, 3.9723282348302256, 3.9624692433488953, 3.9527679511853857, 3.9433673288453233, 3.934394657272869, 3.925958490743042, 3.9181464659730016, 3.9110241863366833, 3.904635234491259, 3.8990022240065234, 3.8941287049433413, 3.890001685085207, 3.8865945099181265, 3.883869854215238, 3.8817826107306765, 3.8802825107863734, 3.8793163698513107, 3.87882991023854, 3.878769165022269, 3.879081506384634, 3.9882771104816093, 3.992795088679811, 3.9972607750874816, 4.0016440194216525, 4.005920597048639, 4.010074369161177, 4.014098737477214, 4.0179966932223, 4.0217787838540175, 4.0254586306146685, 4.029046091674096, 4.032538225504526, 4.035907889786773, 4.039091561860219, 4.041981002898754, 4.044423312163002, 4.046231470334134, 4.047204042522151, 4.047149154259543, 4.045906846828185, 4.043366444087966, 4.039477497339181, 4.0342528747487405, 4.027763835831586, 4.020129401672149, 4.0115034590264695, 4.00206235047912, 3.991994410206288, 3.981491861348669, 3.97074484686631, 3.95993703403307, 3.9492421503116315, 3.9388209385264763, 3.9288182865654946, 3.919360566818992, 3.910553400999856, 3.90248010773993, 3.8952010257060024, 3.8887537918186372, 3.883154538186246, 3.87839987653961, 3.874469474172309, 3.8713289923877663, 3.868933155550639, 3.8672287418163847, 3.8661573288822524, 3.8656576813936536, 3.865667722235556, 3.8661260800861674, 3.8669732446685146, 3.9887278988487824, 3.993461390802231, 3.9981389357465233, 4.002723378845446, 4.007182974973269, 4.011494127766898, 4.015643608863613, 4.019629372952097, 4.023458983366206, 4.0271450140782905, 4.030697516224468, 4.034113899021313, 4.037365876573, 4.040385060352739, 4.043052953478077, 4.045201071446672, 4.04662366429567, 4.047100871069603, 4.046426231161334, 4.044432142888597, 4.041009641060532, 4.036120376078388, 4.029798616937846, 4.022143393368662, 4.013304426826306, 4.0034664239778746, 3.9928347679870675, 3.981623857948062, 3.9700482504519377, 3.9583162255463575, 3.9466251809925432, 3.9351582320692677, 3.924081509592346, 3.9135418546055343, 3.903664830758214, 3.894553144074267, 3.8862856380111723, 3.8789170234641777, 3.872478436902086, 3.866978827592875, 3.8624070830163806, 3.8587347277620307, 3.8559189856299514, 3.853905980798484, 3.852633869432197, 3.852035731121277, 3.8520421007154018, 3.8525830757794064, 3.853589984853759, 3.8549966412848047, 3.988825672535174, 3.993751955837758, 3.9986168638390143, 4.003375335912782, 4.007986844767748, 4.012418758692221, 4.016649534993941, 4.020670677700621, 4.024486019472924, 4.028107219787399, 4.031545462012525, 4.034799956652527, 4.037843279745499, 4.040605230969089, 4.042961113143681, 4.0447314463187825, 4.045696509560226, 4.04562238533022, 4.044291143798462, 4.041528897852277, 4.037228172014252, 4.031361428622982, 4.023982341634321, 4.0152151520723365, 4.005237351533803, 3.994261445626338, 3.9825189895365543, 3.9702478858131682, 3.957682865718903, 3.945048660544804, 3.9325552327345763, 3.9203944402174544, 3.908737609694457, 3.897733664778666, 3.887507647724738, 3.8781596395287297, 3.8697641870583728, 3.862370375952943, 3.8560026538775514, 3.8506624325297043, 3.8463304049747755, 3.842969431664354, 3.840527791436863, 3.838942571313467, 3.8381429801946823, 3.8380534089496963, 3.8385961117955247, 3.8396934401576117, 3.8412696114726597, 3.8432520359350084, 3.9885217475209367, 3.9936131236770085, 3.9986365348224857, 4.00353852082026, 4.008268925642334, 4.012784826398906, 4.017054823852468, 4.02106253240004, 4.0248071828450405, 4.028299357272329, 4.0315516638087425, 4.034565621914728, 4.037315719665709, 4.039732267664085, 4.0416880347000825, 4.042997054097182, 4.043430855523923, 4.042747103591157, 4.040721577677834, 4.037177833850767, 4.032011440178031, 4.025204801908421, 4.016828034134116, 4.007026311794743, 3.9960001818224318, 3.9839854325253965, 3.971235797910315, 3.958009332676658, 3.9445582620839263, 3.9311217593053964, 3.9179209989123867, 3.905155842420504, 3.893002599135969, 3.8816124553044, 3.8711103463116983, 3.8615942199508675, 3.853134766104711, 3.8457757467541644, 3.839535046976412, 3.8344064980428096, 3.8303624256430178, 3.827356780548711, 3.825328640505983, 3.824205843555503, 3.823908524095901, 3.8243523641340045, 3.825451429535952, 3.8271205215857913, 3.829277028044106, 3.831842299615548, 3.987774518794366, 3.9929985574480775, 3.9981475402346125, 4.003159664933054, 4.007974966566829, 4.012539633778394, 4.016811324370515, 4.02076449421242, 4.024392875415873, 4.0277054764201745, 4.030715729171719, 4.033426662486897, 4.035814254143896, 4.037810156578661, 4.0392872593537525, 4.040057469112493, 4.03988948853893, 4.038539443016279, 4.035783621363965, 4.03144860628822, 4.025436108206201, 4.01773814766517, 4.008437741657021, 3.9976955742198186, 3.9857293487136563, 3.9727926203350323, 3.9591565275746676, 3.9450953410502985, 3.9308756772888196, 3.9167488474881096, 3.9029456859977056, 3.8896731896807126, 3.8771123677364416, 3.8654168399537183, 3.854711905019653, 3.845093990280197, 3.8366305471434465, 3.829360538685273, 3.8232956650079077, 3.818422399212581, 3.814704794158994, 3.812087906967458, 3.8105016073567164, 3.8098645039255583, 3.8100877381263962, 3.811078445466234, 3.8127427496972457, 3.8149882228286276, 3.817725801258137, 3.8208711911335915, 3.9865526188624782, 3.991872636926456, 3.9971105255571495, 4.002196754982862, 4.007062156617143, 4.011642387694756, 4.015883914135132, 4.0197511499403245, 4.023231466790547, 4.026331454882141, 4.029063848529178, 4.0314311122317354, 4.033408693223821, 4.034928431327559, 4.035864516107065, 4.036031282569697, 4.035201555976355, 4.033137601827386, 4.0296235797374775, 4.0244952084601655, 4.017663956369266, 4.009131534350026, 3.9989905115120306, 3.9874116100758834, 3.9746235566350427, 3.960891812572824, 3.946499764647251, 3.9317335972443916, 3.916870894296294, 3.902172533677096, 3.887877240518803, 3.8741981077295984, 3.8613204349721255, 3.8494003683063243, 3.8385640166847863, 3.8289069355347234, 3.820494049649747, 3.8133601921492857, 3.8075114408868593, 3.8029273482721107, 3.7995640237402344, 3.797357891240861, 3.7962298496896256, 3.796089532021817, 3.7968393838969763, 3.7983783467087084, 3.800605008334391, 3.803420160617523, 3.806728764093293, 3.810441363951912, 3.984838195903554, 3.9902142263509175, 3.9955013732171, 4.000623395368722, 4.005503178293054, 4.0100672200052605, 4.014251822934861, 4.0180113224561715, 4.021325938929168, 4.024198315384253, 4.02663781051862, 4.028643247942094, 4.030186630888696, 4.0311978064541965, 4.031552557486176, 4.0310720691375685, 4.029540289843616, 4.026733013506989, 4.022449037173429, 4.016538603711014, 4.008926082717703, 3.9996231683340393, 3.9887295071547446, 3.976421385376097, 3.962933114733608, 3.9485365219967483, 3.9335221309497843, 3.918183625669155, 3.9028059492504994, 3.887656766692747, 3.8729807169612807, 3.8589957539199817, 3.8458908835681425, 3.8338247275753354, 3.8229245513505807, 3.8132856385366316, 3.8049711088010976, 3.7980124024261928, 3.792410660376198, 3.788139121323952, 3.785146486643061, 3.783361037470107, 3.782695178962206, 3.7830500578642448, 3.7843199402289076, 3.786396118491797, 3.789170211488959, 3.792536806205967, 3.796395455491552, 3.800652089387148, 3.9826297890218916, 3.988020221792519, 3.993315553914069, 3.9984340477682907, 4.003292225697252, 4.0078094148675945, 4.011914029913321, 4.015552029054018, 4.018695832961976, 4.021341043269189, 4.023489878586523, 4.025134111559797, 4.026239595090921, 4.0267327238693476, 4.026491563261474, 4.025347418467117, 4.0231005732487874, 4.019546181401935, 4.0145029984991965, 4.007839832511134, 3.99949623911251, 3.9894942823882364, 3.9779392408027925, 3.9650099085634523, 3.9509419946132978, 3.9360089982937954, 3.920503933956132, 3.9047237589059147, 3.8889571793721744, 3.873475776374286, 3.8585279744787973, 3.844335169267018, 3.8310892915578316, 3.818951195894927, 3.8080494828515334, 3.7984796400155045, 3.7903036369808163, 3.7835502587824132, 3.7782164640977354, 3.7742699176117904, 3.771652632810704, 3.7702854588806494, 3.770073021661954, 3.770908706957417, 3.772679335851591, 3.775269286858377, 3.7785639316184336, 3.7824523459047024, 3.7868293263648436, 3.7915967858624184, 3.979944088744397, 3.9853078736407896, 3.9905712483550593, 3.9956483083078185, 4.000450924458047, 4.004893413824346, 4.008898941882361, 4.012407701621082, 4.0153838431185624, 4.017812181266883, 4.019684059069516, 4.0209812825049855, 4.021661793900332, 4.021648273652572, 4.020822164897148, 4.019026840779672, 4.016081755637672, 4.011804908180563, 4.006038342127041, 3.9986719211066264, 3.9896617824236085, 3.979040709728213, 3.9669189327241154, 3.9534759512473925, 3.9389460101282627, 3.9236006908393883, 3.9077316267880224, 3.8916352941514094, 3.875600803907818, 3.8599008511111803, 3.8447854678763056, 3.830477938911718, 3.8171721497496907, 3.805030728523672, 3.794183574030977, 3.784726668060284, 3.7767213558922013, 3.770194450295374, 3.7651395102339054, 3.7615194729795887, 3.7592705559092887, 3.758307102315516, 3.758526908022633, 3.7598165553123715, 3.762056366782806, 3.7651247220714668, 3.7689016101626813, 3.773271394069682, 3.778124835488987, 3.7833604675987673, 3.9768159677472568, 3.982114910000424, 3.9873096381115793, 3.9923115074372917, 3.9970295011752355, 4.001374992559548, 4.005267969559579, 4.008643986162408, 4.011458579829996, 4.013684066854683, 4.01529847465655, 4.016271728578992, 4.0165530763172494, 4.016061874016255, 4.014683903160135, 4.012275489855933, 4.008676186488612, 4.003728053968346, 3.997297691841103, 3.989296973111749, 3.97969913652697, 3.968547824633635, 3.9559579215452283, 3.942108675077576, 3.927231086270323, 3.9115922997738584, 3.895479591446875, 3.87918585898126, 3.8629976858284647, 3.847186308092891, 3.832001256370311, 3.817666094225584, 3.80437553874421, 3.7922933171078497, 3.78155034910527, 3.7722431752909182, 3.7644328684225044, 3.7581448577656023, 3.7533700841748203, 3.7500676932937163, 3.7481691601524236, 3.7475834567708493, 3.7482027251438903, 3.7499079219815563, 3.7525740141895425, 3.7560744593844873, 3.7602848520402805, 3.7650857273725618, 3.770364586851865, 3.776017247391547, 3.9732966038111432, 3.978497163126341, 3.9835918393402037, 3.9884906492458363, 3.99310125706711, 3.997333613184997, 4.001105532286926, 4.004348064404663, 4.00700808987595, 4.009045375054634, 4.010424081639331, 4.011101732620826, 4.011018949568428, 4.010092378132632, 4.008212723088088, 4.005249317418748, 4.001061418037033, 3.995514663864275, 3.988499788215219, 3.979950297330041, 3.9698562159102204, 3.9582718212136876, 3.945316413108369, 3.931168470428979, 3.9160547024121932, 3.900236162910739, 3.8839936327635893, 3.867614041037895, 3.8513790401239403, 3.8355561777822875, 3.8203925455586276, 3.8061103968434, 3.792904055441345, 3.780937482373588, 3.770342102769185, 3.7612148406746644, 3.7536166520482204, 3.747572054424981, 3.7430701319415216, 3.7400672481133412, 3.7384913369437967, 3.738247325719869, 3.7392230848832995, 3.7412953192226373, 3.744334951898844, 3.7482117300135034, 3.7527979402548555, 3.757971240100751, 3.763616681939003, 3.7696280431723204, 3.9694500683291647, 3.974524305836929, 3.979493517612267, 3.9842675745141136, 3.988753969093382, 3.992862083181182, 3.996507881548167, 3.999617889411964, 4.002130665197906, 4.003994264981043, 4.005159834419643, 4.005573243452657, 4.00516728238747, 4.003856610986909, 4.001537107668208, 3.9980905767355375, 3.9933947445046614, 3.987337251392461, 3.9798313817524034, 3.9708308998828077, 3.96034158112486, 3.948427681728331, 3.935212527761243, 3.9208734526149067, 3.9056322398970633, 3.8897428055867556, 3.8734779792528506, 3.857116977728635, 3.8409346569049427, 3.8251930390928477, 3.810135075036358, 3.7959802048192675, 3.7829210890243004, 3.771120910739817, 3.7607108762547465, 3.7517878939344014, 3.744412766378567, 3.7386094481510033, 3.7343658937148296, 3.7316367459805564, 3.7303477176298525, 3.7304011737993314, 3.7316822612748117, 3.73406496034939, 3.7374175914686107, 3.741607501845319, 3.7465048263631897, 3.7519853374337497, 3.7579324700875256, 3.764238642408943, 3.9653490929732973, 3.970274777380104, 3.9750988459743457, 3.979731907657733, 3.9840819984880786, 3.9880583342261144, 3.9915751287342354, 3.9945545250368775, 3.9969274550086085, 3.998631612822973, 3.999606757452472, 3.999788664886287, 3.999103592099753, 3.997465030607879, 3.9947740849061675, 3.990924151790575, 3.9858097301835564, 3.979338287933918, 3.9714434015219084, 3.962097071249963, 3.951319246898931, 3.9391831039436958, 3.9258153639340043, 3.91139179868163, 3.8961288147784194, 3.8802725186615863, 3.8640868266164263, 3.8478420237396636, 3.831804781812683, 3.816230141150362, 3.8013554674129777, 3.787396013014233, 3.7745415151793265, 3.7629532801503207, 3.7527614193311782, 3.7440622489648963, 3.7369162195332066, 3.7313469573589044, 3.727341966227629, 3.724855247341924, 3.7238116792620928, 3.7241126430786062, 3.7256422123138133, 3.728273264287668, 3.7318730348365934, 3.736307838930655, 3.74144685322852, 3.7471649785097316, 3.7533448714180464, 3.7598782679627143, 3.9610707291670963, 3.965830849956758, 3.9704950165060247, 3.9749751650033973, 3.979180282278986, 3.983019616293858, 3.986405754743115, 3.9892568407318443, 3.9914971601622664, 3.9930556718477233, 3.9938627285314108, 3.993845948442652, 3.992926604632564, 3.9910178943347963, 3.9880261180214913, 3.983855247211268, 3.9784146808240344, 3.971629303149395, 3.9634504213776873, 3.9538659102664537, 3.942907976780194, 3.930657345145517, 3.917243261672455, 3.9028394016458905, 3.8876563840565335, 3.8719320362765113, 3.855920724084532, 3.8398829665297423, 3.824076245663143, 3.8087474923833264, 3.794127289144695, 3.780425477869344, 3.767827672195512, 3.756492184579606, 3.7465470807559926, 3.738087402603093, 3.7311729390269903, 3.7258271290401765, 3.7220376408988862, 3.719758881760604, 3.718916278924105, 3.7194118203009485, 3.7211301767137037, 3.723944764415823, 3.7277232691862654, 3.7323323522345175, 3.7376414307296035, 3.743525547491408, 3.749867416148032, 3.7565587615428044, 3.95669240138466, 3.961274382473317, 3.9657678106549974, 3.970086318628148, 3.9741400837902074, 3.9778385452765392, 3.9810929128626706, 3.983817931000784, 3.9859324103537883, 3.987358316256314, 3.988018662984453, 3.9878349310968666, 3.986725010247328, 3.9846026790503353, 3.9813793855019983, 3.976968657364123, 3.97129293931731, 3.9642921263064106, 3.9559326536531034, 3.9462158075592786, 3.9351839783926383, 3.9229238789330965, 3.909566225863489, 3.895281935727912, 3.8802754019436243, 3.8647757936157077, 3.849027482690435, 3.833280647778752, 3.8177828562028577, 3.8027720640039364, 3.7884710895806517, 3.7750833022916126, 3.7627890955903287, 3.7517427238801835, 3.7420692669751094, 3.7338617872825743, 3.7271790539609055, 3.7220443916592254, 3.7184461673957676, 3.716340154858715, 3.7156536261581445, 3.716290685963414, 3.7181382017287006, 3.721071710920582, 3.72496083604078, 3.729673926222958, 3.735081810576337, 3.741060668147352, 3.7474940916492114, 3.7542744572106908, 3.9522886080408495, 3.956683450998214, 3.9609982788721525, 3.9651486534878266, 3.9690461193890454, 3.97260050957565, 3.97572204326129, 3.9783228303713263, 3.980317475232964, 3.9816226908155814, 3.982156153136763, 3.9818351380658874, 3.980575674311594, 3.978292949226041, 3.974903515913617, 3.9703295155388245, 3.964504717285088, 3.9573817730610914, 3.948939769776023, 3.939191008318585, 3.9281859818033262, 3.9160157607782633, 3.902811373933127, 3.8887402223562746, 3.8739999916735632, 3.8588108437755473, 3.8434068194029445, 3.8280273458976555, 3.812909544797909, 3.798281730323289, 3.784358161069322, 3.771334834909767, 3.7593859677290014, 3.7486608067324036, 3.7392805938248, 3.731335760855704, 3.7248837086234556, 3.7199476774756426, 3.7165171719479626, 3.7145501545855186, 3.713976875024972, 3.7147048958684064, 3.7166247228885516, 3.71961546111982, 3.7235500469690304, 3.7282997759786682, 3.7337380011776586, 3.7397429924653314, 3.7462000199998693, 3.7530027619886552, 3.947928344319116, 3.9521298412676438, 3.9562603944105454, 3.960237657109715, 3.963974715466315, 3.967382070608823, 3.970369454671833, 3.9728472064434297, 3.974727013710341, 3.9759219986653895, 3.9763463461186124, 3.975914884628408, 3.9745431557785276, 3.9721484999972643, 3.968652541581953, 3.9639851991739317, 3.9580900323784842, 3.9509304242033543, 3.942495857317355, 3.932807423401193, 3.9219217395217227, 3.909932632931012, 3.8969702628515144, 3.8831977146466885, 3.8688054539998094, 3.8540042951150464, 3.8390176667238713, 3.824073934400254, 3.8093993746142747, 3.795212142772936, 3.781717300698293, 3.76910273874466, 3.757535702152433, 3.747159642249949, 3.7380912558049175, 3.7304178027992134, 3.7241950191993354, 3.719446067661589, 3.7161619249066695, 3.714303391244052, 3.713804607954178, 3.714577701861094, 3.7165180331491885, 3.7195095220814585, 3.723429633214779, 3.7281537416123145, 3.7335587456668886, 3.739525900049692, 3.7459429141428813, 3.7527054011152314, 3.943673224479344, 3.9476773077392027, 3.9516195087989137, 3.9554197080384634, 3.958992732550514, 3.9622500938619334, 3.9651016190516404, 3.967456780106861, 3.969225599875694, 3.970319142287699, 3.97064975260805, 3.9701313557454188, 3.968680200330659, 3.9662164219020157, 3.9626666836143403, 3.9579679559952052, 3.9520722557657835, 3.9449519255516825, 3.936604851052518, 3.927058921895965, 3.9163750722988415, 3.9046483896065274, 3.892007028429839, 3.878608968231212, 3.864636942521064, 3.8502920892805945, 3.8357869818425434, 3.821338680757474, 3.807162313504372, 3.7934654794943112, 3.780443548192548, 3.7682757273842613, 3.757121675534985, 3.7471184432052835, 3.7383776479917317, 3.7309829740585463, 3.724988269742184, 3.7204166148202824, 3.7172606881993984, 3.7154845897989337, 3.7150270222505424, 3.7158055126992493, 3.7177212254060183, 3.720663902764524, 3.7245165491895222, 3.729159592412455, 3.734474378819748, 3.740345959381689, 3.7466651924039263, 3.7533302308855254, 3.939576242343966, 3.943380489318053, 3.947131456585739, 3.9507513832455103, 3.9541570669124977, 3.9572614208942354, 3.9599749880390585, 3.9622072706847247, 3.963867798258436, 3.964866951894761, 3.965116677892144, 3.9645313182520088, 3.963028835928017, 3.960532693594799, 3.956974552982253, 3.952297809909133, 3.9464617952047836, 3.939446289618939, 3.9312558596271296, 3.9219234537642493, 3.9115127266094514, 3.90011868251879, 3.887866435294209, 3.874908125701371, 3.8614182771473478, 3.847588052346128, 3.8336189647279753, 3.819716583779491, 3.8060846642788855, 3.7929199578816886, 3.780407777615201, 3.7687182302399274, 3.7580029480788104, 3.74839216152125, 3.7399920498691777, 3.7328824563045835, 3.727115194737907, 3.7227132496843685, 3.7196711342852753, 3.7179565293192742, 3.717513126705267, 3.718264415689563, 3.7201180359913644, 3.7229702998441305, 3.7267105381385264, 3.7312250205502075, 3.736400302348223, 3.7421259395830453, 3.7482965801616883, 3.7548134804835085];\n",
       "const lower_is_better = false;\n",
       "const metric = \"log_eval\";\n",
       "const rel = false;\n",
       "const sd = [0.051334774634488226, 0.049538519445395904, 0.04782852553468579, 0.04620708068976432, 0.0446707032934769, 0.043211051977661064, 0.04181652115326639, 0.04047415624284951, 0.03917137463866489, 0.03789696712393639, 0.03664100351050061, 0.035393556650045836, 0.034142531528809784, 0.03287124164879886, 0.03155658579323264, 0.030168636168400865, 0.028672140627343086, 0.027029992055587655, 0.02520833840972488, 0.023182877987281914, 0.020946083842363624, 0.01851565624266006, 0.015945547777202713, 0.013342793020103138, 0.010895670508273043, 0.008911050244579711, 0.00778717550408331, 0.0077210147941855845, 0.008384068023842289, 0.009223329384318411, 0.00984566860047901, 0.010059311139727151, 0.009816629802617374, 0.009181293518928048, 0.00832333554701803, 0.007521295788121929, 0.0071088438258855545, 0.007276753849591726, 0.007899521271214766, 0.008683662462115434, 0.009389311359362554, 0.009901953272084114, 0.010226652435465451, 0.010472469169709333, 0.010830839140448271, 0.011525358103030093, 0.012727065309189689, 0.014487317279373817, 0.01674656974406223, 0.01939442589879204, 0.04856297921911861, 0.046651157784021555, 0.04484969043868849, 0.04316301065780822, 0.04158806272442829, 0.040115261909560614, 0.0387305103222292, 0.03741782289990767, 0.03616186990428649, 0.03494968652855032, 0.03377097314277646, 0.03261678245578826, 0.031476884636271296, 0.030336593257315084, 0.029174152945623606, 0.027959769942573823, 0.02665696822850629, 0.02522634197268178, 0.023631255187136588, 0.021844867774947853, 0.019858123010294253, 0.017688974310587698, 0.015394151944549569, 0.013086085168811731, 0.010957149601590159, 0.009297905081649639, 0.008430946400431167, 0.008455706025059757, 0.009071792656108175, 0.009827220157117046, 0.01038804604992382, 0.01058244001198227, 0.010367091527066614, 0.009802742529844423, 0.009045625234610123, 0.008335857324330441, 0.007936694775012434, 0.007986668773088438, 0.0083891112332656, 0.008906611193715908, 0.009323296225250492, 0.009520307777523041, 0.009489165090247767, 0.009334516266638476, 0.009275332959339725, 0.0096078284328254, 0.010582386338465623, 0.012267344943250812, 0.014557750925200591, 0.017289784404629718, 0.04582427173246277, 0.04379959314962947, 0.041913582749163875, 0.04017382763279174, 0.038578237481388396, 0.03711591016413594, 0.03576957205354094, 0.03451907062825145, 0.03334499124181042, 0.03223134464717421, 0.031166481055538604, 0.03014187329997387, 0.029149060840981816, 0.028175700894456472, 0.027202117525754705, 0.026199747020165826, 0.02513237059451789, 0.023960218076180984, 0.02264634017669544, 0.02116442068815243, 0.01950747777053756, 0.017697477874117917, 0.01579638732315786, 0.013918697996747609, 0.012240851570712334, 0.010987115342897947, 0.010349557964461896, 0.010346393954673523, 0.010770675105868153, 0.011319443039785087, 0.011741288598720158, 0.011890340132610836, 0.011724411179575345, 0.011292041611918314, 0.010718504528920213, 0.01017968592952383, 0.009843928141142953, 0.00978589235947373, 0.009939188946923163, 0.010144010831378739, 0.010237044851477663, 0.010112462453750939, 0.009748756007312342, 0.00922677443375407, 0.008753314248755395, 0.008661489917251743, 0.00929349198221019, 0.010778209447592155, 0.012987303084362972, 0.01570642632479208, 0.043178452156709554, 0.041047227602176904, 0.03908739155806237, 0.03731098655535561, 0.03571765948169206, 0.034295187561627916, 0.03302229466439016, 0.03187317469852264, 0.030822480360815467, 0.029849302782838177, 0.028938944279034835, 0.02808194738548898, 0.02727069127326016, 0.026494696791504905, 0.025736342562063752, 0.0249687085445317, 0.02415662452235303, 0.02326098077960135, 0.02224549728178045, 0.02108484884361876, 0.019773282967713437, 0.018333258186758537, 0.01682358675161497, 0.015345174643326602, 0.014038279131686657, 0.01305836863065143, 0.01251892964353055, 0.012422224799666877, 0.012641729465957492, 0.012983030734915274, 0.013265875991607768, 0.013372633294279193, 0.013261709753693753, 0.012962885094557758, 0.012562258147353005, 0.012174138710259326, 0.011896886631470163, 0.01176530578130275, 0.01173096925712465, 0.01168795238148699, 0.01152219640885667, 0.011153391137101527, 0.010561409982386954, 0.009808180875189594, 0.009067153386432608, 0.008646787161138923, 0.008921226231763522, 0.010100671963357484, 0.01209806280848565, 0.014685737796593951, 0.04069583765768916, 0.03846933443105395, 0.03645121640391335, 0.03465948004167091, 0.03309642535198211, 0.03174847731108894, 0.03058927335239206, 0.029585411107949478, 0.028703179959149144, 0.027914202232132725, 0.027198323030814053, 0.026543034247711646, 0.025939826605746643, 0.025378853743853798, 0.02484390854435728, 0.024309677778598847, 0.0237424627603893, 0.023104362408129644, 0.022359933651211895, 0.021484000267867544, 0.020469492124819195, 0.019334503197212416, 0.018127617525541772, 0.01692948727377625, 0.01584649445027757, 0.014990566531071288, 0.014443256961669655, 0.014217579423085698, 0.014245702069828177, 0.014406527461866303, 0.014573293991149362, 0.01465199214553579, 0.014599305200525783, 0.014423217303354958, 0.01417087835225836, 0.01390582223155862, 0.013678266140064113, 0.013499044462617628, 0.01333151441521594, 0.013106616345471153, 0.012750993500190674, 0.012214079522470426, 0.011488969300082995, 0.0106318874130448, 0.009787630703155768, 0.009213385736073611, 0.009243089406432084, 0.010119079805558385, 0.011832252265607728, 0.014197783461054207, 0.03845462995904367, 0.03615049579290641, 0.034095386053212946, 0.032314663329943406, 0.030814061713888816, 0.029578339753668335, 0.028574521536730926, 0.027759155412522416, 0.027087281012924333, 0.026520159659585645, 0.026029516284362713, 0.0255974591195226, 0.025212681884171948, 0.024864637742815117, 0.02453792589676112, 0.024208977467547462, 0.023846242890435892, 0.023413832365519957, 0.022877563239219842, 0.02221202112920815, 0.021407438969578658, 0.020475505901947112, 0.019453211195950084, 0.01840328303222313, 0.017408832067435764, 0.016559415519961585, 0.015928176958464203, 0.015546794555523456, 0.015392248968272586, 0.015395963997922533, 0.015470576722178544, 0.01553868649712006, 0.015551304571093874, 0.015492700955010626, 0.015373551867257602, 0.015215946629595184, 0.015035434793455503, 0.014827335272220524, 0.014563883771708915, 0.014203463409735285, 0.013706832162560287, 0.013053715895787105, 0.012257055400704315, 0.011377388463033718, 0.01054118840627631, 0.009956882682229799, 0.009892314115945267, 0.010566495860343904, 0.012023700370034324, 0.014147215917883869, 0.03653488958204341, 0.03417803619355874, 0.03211310866973828, 0.030373645306251598, 0.02896896276173396, 0.027881201080177664, 0.02706872293635792, 0.026475355497424028, 0.026042200698065197, 0.025717838180120797, 0.025463994954096108, 0.025255896681777964, 0.025078311604473366, 0.024919339877635564, 0.02476433774998748, 0.02459203903598261, 0.024374015666082403, 0.024077437881341774, 0.02367017267508004, 0.023126923641714408, 0.022435276570248467, 0.021600819359844738, 0.0206506248819789, 0.01963417704458214, 0.018620367601429946, 0.017688927427475964, 0.01691555498496253, 0.016353177008369642, 0.016016453132804545, 0.015878264959647732, 0.015881175415903254, 0.015957489858114998, 0.016047562419620832, 0.01610953187843089, 0.016119403885137995, 0.01606426029031748, 0.015933188957200205, 0.015710817203372304, 0.015376807429360545, 0.014911543452097616, 0.014305294864945188, 0.01356747517345008, 0.01273456512110402, 0.011878180174623679, 0.01111527983724299, 0.010615317353202616, 0.010582034742471533, 0.011185947872692283, 0.0124844441156109, 0.014415406729340706, 0.03500837151696273, 0.03263027549934401, 0.03058689561360571, 0.028919509614754074, 0.02764000503011297, 0.026726169693106393, 0.026125566287972073, 0.025767388778166513, 0.025577592715824986, 0.025491599193575337, 0.025461095673861452, 0.025454508564413114, 0.025452762362771122, 0.025442738980653194, 0.025410853886640477, 0.025338663761958802, 0.025201538761245056, 0.024970409434649586, 0.024615802847207227, 0.024113060551887045, 0.0234477318127392, 0.022620404325736712, 0.02165042212551838, 0.020577916754399437, 0.019463329479209708, 0.018383228577751074, 0.017421069490043635, 0.01665242171244865, 0.016127092971946696, 0.015854851603679047, 0.01580281600405344, 0.015906915817207858, 0.01609092024696988, 0.016283192304570048, 0.01642548195511447, 0.016474075540845942, 0.016397013914115993, 0.0161714770953614, 0.015783942068599646, 0.015233479153326844, 0.014536653906100165, 0.013731857233214495, 0.012881803878073955, 0.012074781265013015, 0.011425809410491731, 0.011074545897519198, 0.011168302044425846, 0.011822192506809435, 0.013078664655663253, 0.014904119541692594, 0.03392513463878485, 0.031560514145331287, 0.02956986565297806, 0.0280001294175227, 0.02686351523872741, 0.026131472772808223, 0.02573968024693561, 0.025602939425449313, 0.02563347015746122, 0.025755491347480168, 0.025912492077989246, 0.02606744391756309, 0.026198209539965017, 0.026290795957647422, 0.02633275904353606, 0.026308446551593447, 0.026196981779741686, 0.025973059254958266, 0.025609970116334223, 0.025083971800180484, 0.024379152363246222, 0.023492152429719873, 0.022436315876305797, 0.02124492286898445, 0.019973034831611593, 0.01869704836240769, 0.017510233475645575, 0.016511669768924993, 0.01578673380254416, 0.015382350909525033, 0.015288596628041747, 0.015439902010348422, 0.015736444387567605, 0.016071757467148336, 0.016352621178888808, 0.016507533579251228, 0.016487634853152675, 0.016265306987469443, 0.015833800050295995, 0.015208802950968076, 0.014430964542489343, 0.013567339926113198, 0.012709736930031319, 0.011968940250993135, 0.01146507226014676, 0.011314377183069423, 0.0116122560048098, 0.012416230323852051, 0.013738387567855816, 0.015552217680718829, 0.033300512401279556, 0.0309813495863535, 0.029067876384871717, 0.02760932174504591, 0.026615513609568448, 0.026050510049684686, 0.025839259767145233, 0.0258852025380895, 0.02609068089507318, 0.02637230038422126, 0.026668027031671617, 0.0269369997201067, 0.027154742559338245, 0.027306453131584633, 0.027380462938801392, 0.027363313463146164, 0.027237228854721914, 0.026980117759930995, 0.026567714742696764, 0.025977192650133218, 0.02519155701445444, 0.024204284274085053, 0.023023866845473487, 0.021678079441197692, 0.020217778950345183, 0.018719691486031583, 0.017286524061686872, 0.016040492961641315, 0.015104112727495633, 0.01456530785745466, 0.014439207231771325, 0.014654763125837548, 0.015080547140904985, 0.015569234445663997, 0.015991663458212003, 0.016251370834859807, 0.016286327073954936, 0.016066483418801725, 0.015592043904660647, 0.014893885711952347, 0.014035266560386712, 0.013112407494694228, 0.012250297367028172, 0.011589478120470639, 0.011261855369923326, 0.011362079553622673, 0.011931565815317513, 0.012967092233659803, 0.014443143872789607, 0.01632782701365252, 0.03310792227630867, 0.030856602306454952, 0.029031688543088036, 0.027681174859305078, 0.026810653880967875, 0.026377628906369383, 0.02629979342835369, 0.026474142948828674, 0.026797981245080107, 0.02718405483001894, 0.027567202045148557, 0.027903949864270132, 0.02816784570647042, 0.028343053887107554, 0.028418074478270893, 0.028380821199721643, 0.028215751221350324, 0.027903239944452856, 0.027420979263313848, 0.026746922915680964, 0.025863238205138524, 0.024760814795667364, 0.023444059885197127, 0.021935905307269906, 0.020283077565335327, 0.018561522031210777, 0.016880851243752514, 0.01538364176897132, 0.014229706369426741, 0.013553127773763279, 0.013399377128998172, 0.01368967446738232, 0.01425300806086591, 0.014895710969936561, 0.015452868445932922, 0.015806521253791145, 0.015885016562457784, 0.01565771092416546, 0.015131551305125461, 0.014351103316900555, 0.013401117474890305, 0.012408699363936043, 0.011538799458845643, 0.010972210358564096, 0.010858635041493219, 0.011265165440266438, 0.012168296666969452, 0.013499491122055864, 0.015194856531051657, 0.017213154698973488, 0.03328159672263919, 0.031105998450065734, 0.029364838300135428, 0.02810248289183018, 0.02732015355251391, 0.02697141494302183, 0.026971333404426055, 0.02721557727685758, 0.027600705924206506, 0.028038533135918316, 0.02846241960558543, 0.028826998312025346, 0.029103950099163993, 0.029276124089785027, 0.029331646611204173, 0.02925910626689247, 0.029044459230144763, 0.028669910611244354, 0.02811469387541623, 0.027357435016753466, 0.026379688526748733, 0.02517026892941605, 0.02373014700502024, 0.02207789649988745, 0.020255910463898234, 0.01833769413902973, 0.01643591109740091, 0.01470782340919441, 0.013346310938454384, 0.012533601730837778, 0.012351499597414979, 0.012714063150919821, 0.013405985532055185, 0.01418548747208794, 0.014854872523245653, 0.015279002403512426, 0.015379539674522932, 0.015125910976103314, 0.014530423487613586, 0.013648888500415535, 0.01258605131747768, 0.011502864760615699, 0.010615474723130099, 0.010161273436057971, 0.010311582689815472, 0.011086533715062578, 0.012377453326440057, 0.014048374306215793, 0.016003479538285993, 0.018195058317303527, 0.033728626029885175, 0.03162102963510927, 0.029943787514469845, 0.028736990379061373, 0.027998966884289666, 0.027682793217376763, 0.027705300245867537, 0.027964917405224183, 0.02836048669951535, 0.02880474293115051, 0.02923051458815509, 0.02959091293763351, 0.02985579788299006, 0.030006555180899196, 0.03003065565472007, 0.029916989212977637, 0.02965260500370752, 0.029221183030828452, 0.02860328663922777, 0.027778222280169983, 0.026727201601813282, 0.025437485893411767, 0.023907297051787887, 0.02215149168826465, 0.020208292198734726, 0.01814765437087388, 0.016081667759652852, 0.014174940405736226, 0.01264336570070945, 0.011710215990629196, 0.011494383475706697, 0.011907107264037585, 0.012693227985859694, 0.013569090753417588, 0.014310847558617805, 0.01477065281639784, 0.01486504606353517, 0.01456251216585825, 0.013877733561032302, 0.012873726587325643, 0.011672258966767664, 0.010471258471788107, 0.00955454627679088, 0.009240276155249999, 0.009717655648383651, 0.01092048044763925, 0.01263239446231496, 0.014658471380125673, 0.01688499566829574, 0.019264510922730307, 0.034345331763148634, 0.032284842302048304, 0.030640765171591144, 0.02944979488048897, 0.02870975247702889, 0.02837656852360017, 0.028372229364525464, 0.028600626063881623, 0.028964631965243275, 0.02937883694955472, 0.02977595127958873, 0.03010772562840403, 0.030342273292154998, 0.03045957158854088, 0.03044647671986952, 0.030292192869567258, 0.02998484592656941, 0.029509569896229947, 0.028848279578819126, 0.027981083724715135, 0.026889127973010574, 0.02555858932217966, 0.02398560045011827, 0.02218207092899441, 0.020182686188200284, 0.018053745310608528, 0.015904588854144665, 0.01390050175435066, 0.01226666047405634, 0.011249025531997001, 0.010992925555610475, 0.011413966924487338, 0.012235312439663689, 0.013147922618455361, 0.013911379078245386, 0.014368809131028032, 0.014431653731438347, 0.014065259812567359, 0.013282903003237796, 0.012149841198274348, 0.01080010657632077, 0.009469462736046229, 0.00852693394664307, 0.00839644845513307, 0.009260846855532932, 0.01091533980953371, 0.013034326528219125, 0.015389174904819294, 0.017865148889551985, 0.02042074276421135, 0.03503229624141209, 0.032989077849237144, 0.0313413670490145, 0.030124248895162478, 0.029337630583675556, 0.028943064775072153, 0.02886999931297986, 0.029029303079492974, 0.029328637471854893, 0.029684686351239505, 0.030030045736201195, 0.030315095573353375, 0.03050630129677345, 0.030582470737968555, 0.03053019097661288, 0.030339367237273072, 0.029999564065523593, 0.029497661963633237, 0.02881713918325766, 0.027939062857292314, 0.026844666958782203, 0.025519267215258608, 0.023957264240820744, 0.02216813753260137, 0.020183628239738603, 0.018066685805989163, 0.015922877646431015, 0.013913286921181201, 0.012259255759549384, 0.011206444279563162, 0.010907473349569399, 0.011289187554322578, 0.012079951808354233, 0.012968117407904366, 0.01370752033184752, 0.014135388263778298, 0.014157850218471772, 0.013735644718881494, 0.012878617601936882, 0.011651737448042664, 0.010198156611800084, 0.008788936403595434, 0.007879370021941974, 0.007986054592065587, 0.00923337753409194, 0.01126994459803226, 0.013706928413287862, 0.016312758665883678, 0.018980427861415256, 0.021673977509805722, 0.03570483860255152, 0.03364451829640419, 0.03195449915610598, 0.03067035743925852, 0.0297964858821496, 0.02930220737981895, 0.029125920133127304, 0.029186184206318598, 0.029395527694945876, 0.02967244567371514, 0.029949063150978988, 0.030174182570292432, 0.03031268995347845, 0.030342590776014377, 0.030250807787150065, 0.030028672649872273, 0.029667895226332567, 0.029157663414030005, 0.02848334937045231, 0.027627055024455477, 0.026569964543138303, 0.025296266590348584, 0.023798340990320944, 0.022083007590432763, 0.020178892428127437, 0.018145282514534504, 0.01608284457073779, 0.014144823983250133, 0.01253945977904876, 0.011495419684713211, 0.01115750333602772, 0.011468237860017178, 0.012183274670270973, 0.013008368040949942, 0.01370175264258848, 0.014098493600888825, 0.014100827142252567, 0.01366621735570195, 0.012803454278207503, 0.011581061811497964, 0.010155129674694625, 0.00882615794389447, 0.008088487484413138, 0.0084459621810114, 0.009937634309657774, 0.01217025044620774, 0.014764453189353821, 0.017499632633671696, 0.020271666280984174, 0.023043222403760905, 0.03629857147196576, 0.034185972927138784, 0.03241616416333372, 0.031027231335352942, 0.03003011284714277, 0.029403582870683617, 0.0290960037896261, 0.029033897031543302, 0.02913431209273982, 0.02931686658060723, 0.029512504575837945, 0.029667996746405002, 0.029746620232759757, 0.02972601422435668, 0.029594260283892233, 0.029345155738814556, 0.028973587033489047, 0.028471846057015693, 0.027827585000999213, 0.027023832374288348, 0.02604114045877064, 0.024861618611925894, 0.023474445241695042, 0.02188249824660775, 0.020109964874456307, 0.01821104586035211, 0.016279743756612664, 0.014458908973723613, 0.012939864455631014, 0.011929603110495533, 0.01156207168040519, 0.011798301250100835, 0.01243062286419616, 0.013192589887784389, 0.013853906591138457, 0.014251653869564585, 0.0142874235829264, 0.013919276589925112, 0.013160368684622737, 0.012089448588525334, 0.010878270821114165, 0.009833742339185067, 0.009397386341409512, 0.009946224241404306, 0.01148137299175971, 0.013694105526951805, 0.01626741552884602, 0.01899610031244318, 0.02177208516100125, 0.024549569089976457, 0.036771164890415854, 0.03457323724706269, 0.03268955280075531, 0.031162419632789855, 0.03001101785881266, 0.029224960680652324, 0.028763400322330896, 0.02856093098011664, 0.028538552031252183, 0.028615995239873473, 0.0287219581880207, 0.028800427430303154, 0.02881288141035323, 0.02873704802913878, 0.028563183950705933, 0.028288905183659892, 0.02791364329019585, 0.02743382977228072, 0.026839811138929307, 0.026115182978672054, 0.02523874555929437, 0.024188796887841882, 0.022949184764346164, 0.02151652939712577, 0.019908247199309385, 0.01817125932218713, 0.016391119860134765, 0.014699604593924331, 0.013273019827146328, 0.012302485232498802, 0.01191822670140964, 0.012102483407935518, 0.012683255253961268, 0.013421952889755326, 0.014101599431769142, 0.014563889437946117, 0.014712741976528072, 0.014510040123149376, 0.013975949772384451, 0.013198262626904596, 0.012350483143112826, 0.011705080128911971, 0.011594234540925875, 0.012264465784733383, 0.013723693822937515, 0.015779745293519734, 0.01820044663636716, 0.020808663319386862, 0.023496210505608493, 0.026208278897491256, 0.03710162222498732, 0.03478975422764644, 0.03276323441672631, 0.031069863461857628, 0.029738377298557776, 0.028770425416694972, 0.02813677806351342, 0.02778027012562617, 0.02762522502196275, 0.02759025173788283, 0.027600394740248436, 0.02759577177473092, 0.02753565972252933, 0.02739830428930507, 0.02717733071271563, 0.026875863395943677, 0.026499636883190215, 0.026050549011839785, 0.025522103841160826, 0.02489783488209977, 0.02415310386759036, 0.023259904234996156, 0.02219380324595169, 0.020942102329156147, 0.019512591591648476, 0.017942644309615324, 0.016308375387719377, 0.014732154104998976, 0.01338173702318138, 0.012444529522925319, 0.012059640533207582, 0.01223378033729218, 0.012823820628342008, 0.013610957451161195, 0.014387294998785286, 0.014998200890605934, 0.015350289875481943, 0.01540896889670432, 0.015197908900085851, 0.01480332784386462, 0.014379190552704013, 0.01413972715603092, 0.014315959573250827, 0.015070580722347252, 0.016427045722670303, 0.01828337625464227, 0.02048815473613407, 0.022904563550084845, 0.025435482161621833, 0.028023215091722873, 0.0372879471603818, 0.03483987847833227, 0.03264825147068749, 0.0307670852939424, 0.029235532618009877, 0.028068275040256087, 0.0272486101811796, 0.02672799566910895, 0.02643357575919959, 0.026281504106555515, 0.026191486558790028, 0.026098352715138037, 0.02595851634138536, 0.02575108567641753, 0.025474392754546726, 0.02513912295316943, 0.024759547071592482, 0.02434475337074868, 0.02389198890350286, 0.023383850259916412, 0.022790029600114687, 0.022073066830592642, 0.021196737534448146, 0.02013564697974656, 0.018885124966782227, 0.017471177884233587, 0.015960519065264377, 0.01446959749852105, 0.013166798820163085, 0.01225129139692611, 0.011886654380852322, 0.012107751760379277, 0.012789267508245366, 0.013717286924726253, 0.014683168089330187, 0.01553149104131067, 0.01616930525109839, 0.01656243051347423, 0.01673171189413056, 0.016751251069833047, 0.01674451853356829, 0.016869960867048867, 0.017287995359840456, 0.018113966010243718, 0.019382680932078143, 0.02105046112246851, 0.02302935689977793, 0.025225337046259327, 0.027561507944986324, 0.029985308697790394, 0.03734360615890738, 0.03474500576126614, 0.03237417241398367, 0.0302914393795542, 0.028546648934461082, 0.02716816911936993, 0.026152761814403194, 0.025461195564337843, 0.025023255540191712, 0.024751425733902835, 0.024558258864579872, 0.024371595181591897, 0.02414402173459859, 0.02385566425318374, 0.023510945648727636, 0.02313051253126261, 0.022739980126451127, 0.022357910398198632, 0.021986128629015708, 0.021605225983065166, 0.021176495594530893, 0.020649383849148467, 0.019972157061976102, 0.01910353287382885, 0.01802406523249141, 0.01674727256063903, 0.015331215202234157, 0.0138905605070168, 0.012604365772866643, 0.011700863116615516, 0.011386084993812719, 0.011725717748594894, 0.012594798847329034, 0.013762876083561361, 0.01500781147079346, 0.016168414567318073, 0.01715005617186745, 0.017916460994091617, 0.018481686642176025, 0.018903765217771634, 0.019276768350053115, 0.01971681288923871, 0.020339611969172323, 0.021233649194872316, 0.022440319039859637, 0.023951588621392995, 0.02572467811265523, 0.02770310571280871, 0.02983354492667492, 0.03207442581396208, 0.03729292192616029, 0.03453850040667872, 0.03198378028738308, 0.02969483463333133, 0.02773172125779484, 0.0261365577416822, 0.02492033004227651, 0.02405410605974248, 0.02347067497718478, 0.023078083148984945, 0.022780072540507484, 0.02249565299050498, 0.022172278632711272, 0.021790863677035595, 0.02136310916105937, 0.020922231118091758, 0.020508635064773025, 0.020153409716224088, 0.019864229676966487, 0.019618483882355226, 0.019365887471589564, 0.019038884147436708, 0.018566775836786, 0.017890001336032996, 0.016973097291811786, 0.01581692962397612, 0.01447206369189128, 0.013055086472988819, 0.011764907618043625, 0.010876427216713924, 0.010656753408919323, 0.011199275102381443, 0.012351876362508556, 0.013843477051759926, 0.015429851056035749, 0.016943742450249235, 0.018290005019272974, 0.019430614246503698, 0.02037277896210906, 0.021160064274521013, 0.02186353943830978, 0.022570220126093225, 0.0233679641331473, 0.024329189478959564, 0.02549858154703786, 0.026889524042487935, 0.02848977425085956, 0.0302723172345254, 0.0322060381829207, 0.03426281961477079, 0.03716554403597022, 0.03425938724098214, 0.03152611562251736, 0.029036350322208998, 0.026859044793133786, 0.025049257984308432, 0.023632449011551968, 0.022591133987954287, 0.021862214285390157, 0.021349424427248447, 0.02094665399876872, 0.02056237370647925, 0.020137239943805733, 0.019652037638614516, 0.019126262930482817, 0.01860811654612911, 0.018156785347845417, 0.017819920114279752, 0.017612992828575334, 0.017508935758464135, 0.017442315588524184, 0.017324726430373215, 0.017063975511348316, 0.016581453859904508, 0.015826314684410762, 0.01478826369918771, 0.0135124613902446, 0.012120667307473491, 0.0108384015061948, 0.010000249321541059, 0.009943609935067358, 0.010770426021066056, 0.01226891399131331, 0.01411662860384468, 0.016052838691485084, 0.0179109738455963, 0.01959914064220497, 0.021079321309827415, 0.022353443653343973, 0.023453824227880376, 0.024434856597272243, 0.02536390976394535, 0.026310912445016602, 0.027337818359316417, 0.028490393728800495, 0.029794599490167495, 0.031258115013423564, 0.03287543103045074, 0.03463389574141453, 0.03651854614235235, 0.036990407622482305, 0.03394516320374572, 0.031048098434643442, 0.02837274095168177, 0.025994829131689073, 0.023980518317941003, 0.022369130781751123, 0.021155679825337774, 0.020283155237129865, 0.0196525061329816, 0.01914795633236535, 0.018666287760714235, 0.018139409377067803, 0.017546024347590197, 0.016912552275214942, 0.016303571128248182, 0.015801078440897676, 0.01547432583051219, 0.015349432481988345, 0.015393647437321007, 0.015522592386483248, 0.015623827985000107, 0.01558301985485626, 0.01530438325819021, 0.01472519442974121, 0.013828347950031482, 0.012658315980713417, 0.011346624090595017, 0.010148273982598623, 0.00945234415674906, 0.009639443216813504, 0.010781159802477862, 0.01260236057978494, 0.014754538298712254, 0.016979870647048062, 0.01911996102227475, 0.021087682435616914, 0.02284491684552958, 0.024388740313013958, 0.025742303562967066, 0.026947483266318472, 0.028057694428617844, 0.02913040183933741, 0.030219867798162495, 0.031371307695025975, 0.03261757998827696, 0.033978792137908026, 0.03546420733691331, 0.037075202576821294, 0.038808053232625976, 0.03678998529699462, 0.03362470164376773, 0.030585851218678264, 0.02774802236090444, 0.02519108146150044, 0.022989493856838426, 0.02119481587877861, 0.019815242309129035, 0.0188026891894431, 0.018058664397000133, 0.017459767896837147, 0.016891034529328205, 0.016273651534789477, 0.015581108000414137, 0.014843768778163418, 0.014141677696990932, 0.01358236723362181, 0.013262002336680734, 0.013220994331040258, 0.013419880497426625, 0.013751956689490927, 0.014079444881465208, 0.014268345635011125, 0.014210993304769775, 0.013839555955057205, 0.01313769509170414, 0.012157109446300628, 0.011044859800163674, 0.010078634028541051, 0.009659067961087052, 0.010133432645391429, 0.011521007084188368, 0.013540992267329438, 0.015869879766341702, 0.018270146090278657, 0.020592707464169465, 0.022752302070045822, 0.02470803292640667, 0.026450884309752523, 0.027995330415482418, 0.029372799770512648, 0.03062576454512837, 0.031802023631191646, 0.03294935910713004, 0.03411110630467185, 0.035323187476621436, 0.03661283261302587, 0.037998742899524804, 0.03949211230533631, 0.04109787289859247, 0.03657592737805342, 0.03331274885997687, 0.030157735321878255, 0.027184728063453147, 0.024474885795847647, 0.0221076394143424, 0.020144317238595888, 0.018606513736158875, 0.017458627971323467, 0.016608014951686467, 0.01592792514021914, 0.015293117913589565, 0.01461249342324004, 0.013850374901293675, 0.01303589619607889, 0.012260174348914243, 0.011655324278359816, 0.011347546499725742, 0.011394782484083666, 0.011750567291348027, 0.012284912913894337, 0.012837486352361387, 0.013261212938378586, 0.01344469628225187, 0.013323217258540163, 0.012888899169888316, 0.012206334939954034, 0.011435515432054295, 0.010849518249514278, 0.01079404974891985, 0.011524299895978068, 0.01303344273762577, 0.015100172175128346, 0.017462245270505192, 0.019911991663109866, 0.022309014501086934, 0.024567054532976675, 0.0266399681567448, 0.028511312037049097, 0.03018678977373635, 0.031688331381809494, 0.03304898198683661, 0.03430823215340374, 0.03550778594837224, 0.03668797994769062, 0.0378850980836435, 0.039129691325524414, 0.040445800366685165, 0.041850817208933674, 0.04335568740593396, 0.03634710718624412, 0.03300750592928478, 0.029761285933465897, 0.026679960190071718, 0.023843338539843318, 0.021332441974152176, 0.019215534270901925, 0.01752744818633406, 0.016249055770268493, 0.015300483835095097, 0.014558011355908321, 0.013889130788314798, 0.013189538893584004, 0.012410319129205457, 0.011572980571737966, 0.010772001578626213, 0.010157241704861444, 0.009881642153927664, 0.01002076749817573, 0.010523166709931803, 0.011241028262776842, 0.01200068625732178, 0.012651933298615489, 0.013087753065972688, 0.0132519735290372, 0.013147100171858326, 0.012846036694514963, 0.012504128672290844, 0.012354888506781351, 0.01265638332367594, 0.01357937084545299, 0.015120770160118069, 0.017134231666576894, 0.019426929280654627, 0.021827481498791847, 0.02420784988360591, 0.026482191047318273, 0.028599484866311746, 0.030536060682495016, 0.032289309482608795, 0.033872459305996985, 0.03531007647463577, 0.036634069101807464, 0.03788013361967727, 0.03908470114757581, 0.04028247078151439, 0.0415045676927591, 0.04277727916478242, 0.0441212579474761, 0.04555107475542771, 0.03609053552508234, 0.03269200737044238, 0.029375167904463467, 0.02620801565969406, 0.023266887997391694, 0.02063146509975285, 0.018374179688269657, 0.016542603008785482, 0.015137972181892854, 0.014100986513934217, 0.013318770337997164, 0.012655449908410627, 0.011992706366824596, 0.01126425854190657, 0.010477546011564445, 0.009721275103748157, 0.009151104344704118, 0.008935189492780434, 0.009162253287269575, 0.009782586646205337, 0.010645026643176299, 0.011577043333611094, 0.01243496619611676, 0.013120494611370487, 0.013585586741372075, 0.013837458544745242, 0.01394470432232943, 0.014038731228191121, 0.014298196224675217, 0.014903700511372851, 0.015971614876958546, 0.01751023599626114, 0.019432703649164967, 0.021606701449705806, 0.023899397541742234, 0.02620070740315895, 0.02842989091126589, 0.030534179257604963, 0.03248471406631899, 0.034272035427640256, 0.03590183786253853, 0.037391136398608193, 0.038764827664115674, 0.04005262675332134, 0.04128638876893301, 0.04249783453470276, 0.04371668407384034, 0.044969175009785166, 0.04627692895369487, 0.047656139060131074, 0.03578478734033236, 0.03233874705342132, 0.02896534860666531, 0.025728504075919905, 0.02269978297716056, 0.019955400912537755, 0.017569498885354234, 0.01560129708803626, 0.014075247713983104, 0.01296007768688349, 0.012161982531692454, 0.011545435087806475, 0.01097609646689261, 0.010365169030552438, 0.009699674710288745, 0.009054182784676528, 0.008577931775875968, 0.00844076465903127, 0.00874002878816917, 0.009438886797481623, 0.010400881127936024, 0.011467832021118004, 0.012507986649532687, 0.01343117225151202, 0.014192537413451, 0.01479530136869232, 0.015292484571203803, 0.015782748658242893, 0.01639379477170192, 0.017250385790953972, 0.018435787077925033, 0.019966853206339952, 0.021797003393735782, 0.023840567063035615, 0.02600062257260913, 0.028188523324745418, 0.030333436766771204, 0.032384969974237794, 0.034312157838650555, 0.03610090885547224, 0.037750975930832084, 0.039272921433206265, 0.040685259994417355, 0.04201184577047739, 0.043279528650391204, 0.04451608681389776, 0.04574843260851891, 0.047001084457792976, 0.048294904229531026, 0.04964611684964589, 0.03540492770327336, 0.031916001002140565, 0.028493128438664566, 0.025196453507455953, 0.022092661727273786, 0.01925355109499624, 0.016753005175902468, 0.014659821806360294, 0.013022125741338748, 0.011841885604219579, 0.011051488773991699, 0.010518188955417444, 0.010087577207566725, 0.00964195320709855, 0.009142314091150466, 0.008643579547428901, 0.00828152009690472, 0.008221059939022867, 0.008568973421660471, 0.009312053800044753, 0.010340945801240297, 0.011518217434599375, 0.012724115124110254, 0.013872690115698754, 0.014916129995477638, 0.01584664132390926, 0.01669618413000228, 0.017531020791445376, 0.01843817112585314, 0.01950396072259954, 0.020790397515950104, 0.022319079227210204, 0.02406947216615216, 0.02599000664406897, 0.028014355027336343, 0.03007577051645558, 0.03211640259620514, 0.03409178541858624, 0.03597195377511494, 0.037740613706867425, 0.03939336018161317, 0.04093552412669386, 0.042379954920787784, 0.04374488556737206, 0.045051944495807954, 0.04632433734823853, 0.047585205770842985, 0.04885617012681471, 0.050156074831071505, 0.0514999723765447, 0.03492778185878953, 0.03139416532370363, 0.027922545561408805, 0.024570735649431526, 0.02140196121272429, 0.018484325665733384, 0.0158905342170322, 0.013696030080838917, 0.011969432463876028, 0.010746039952501885, 0.00998750169590824, 0.00956379012541233, 0.009295559208724791, 0.009031866219179263, 0.008706300666379594, 0.008353734956790492, 0.008095762449411627, 0.00809297780030547, 0.008465868024292776, 0.009231593222458723, 0.010312426896886983, 0.011591478665856546, 0.012957143286204812, 0.0143222818520964, 0.01563077355463395, 0.016859940518054766, 0.01802005378601548, 0.019149532354244242, 0.020304800634692435, 0.02154568758192754, 0.022919840561174246, 0.024451170412106135, 0.026136082090540073, 0.027947606107115015, 0.029844252536874002, 0.031779595574753926, 0.03370990685709569, 0.03559894795417879, 0.03742021467625525, 0.0391573589363286, 0.04080349427353866, 0.042359908361548765, 0.04383451591782633, 0.04524024195292211, 0.04659343289724478, 0.04791234123435049, 0.04921570644221335, 0.05052145240857483, 0.05184553133408751, 0.053200958028054274, 0.03433676520063656, 0.030751151292624998, 0.027225947859347857, 0.023819202778472572, 0.02059385288405768, 0.01761729302967928, 0.014962287677972638, 0.0127084655512364, 0.010938136946176855, 0.009711433546776147, 0.009012658037093616, 0.008709875838865365, 0.008597632049784056, 0.008496691523336828, 0.008320723526576904, 0.008089611016874861, 0.007912597694148107, 0.007946882397421157, 0.00832866545374184, 0.009107727261199747, 0.01023790419208273, 0.011619323159159981, 0.013142976829203751, 0.014715170602608485, 0.016267842598966915, 0.017762420206845406, 0.01918973013210489, 0.020566097892897706, 0.021925682663390147, 0.023310011800991952, 0.024756862507212308, 0.026291296895196603, 0.027921102749544253, 0.029637218139990817, 0.031417915265270636, 0.033234619600548326, 0.03505746233082969, 0.036859484761218274, 0.03861921676414106, 0.04032183998661829, 0.0419593232587453, 0.04352990409651603, 0.04503720042233759, 0.046489138634765476, 0.04789680703675737, 0.049273294388772565, 0.05063254932567051, 0.05198829140858817, 0.053353011153207196, 0.05473710625922526, 0.03362604924602194, 0.029976891566141837, 0.026388253090952163, 0.02292171067895046, 0.019644613702917726, 0.016629209304176384, 0.01395300047178997, 0.011700225044300032, 0.009958634196319927, 0.008794193693199453, 0.008190697214463168, 0.008002717841704901, 0.008008105044568602, 0.008020291226646494, 0.007950483396669553, 0.007811570272407422, 0.0077005089228666035, 0.007767036613884455, 0.008158412981895059, 0.008953862844857406, 0.010136349534473765, 0.01161952952482169, 0.013292837401446222, 0.015052904480525911, 0.01681872766579484, 0.018537215979659714, 0.02018340438613407, 0.02175706506938751, 0.023276546751084874, 0.024770767532705466, 0.02627072845633084, 0.027802194865550106, 0.029380949923086208, 0.03101123171110211, 0.03268698358011976, 0.034394861653034924, 0.036117798344508824, 0.03783821066857439, 0.03954038876922065, 0.04121197596239303, 0.04284466803725735, 0.044434333428543867, 0.04598074336196841, 0.04748705415074675, 0.04895913533898248, 0.05040480248436327, 0.05183299557561639, 0.053252940636964126, 0.05467333727697719, 0.05610162209279133, 0.032804181039898045, 0.029077634830853398, 0.025411533358017567, 0.02187411938270904, 0.018542507082944176, 0.015501534372819183, 0.012842323418110747, 0.010659407882910157, 0.009039577199554588, 0.00802682365578119, 0.007564092148552428, 0.007475444480248934, 0.007543913670365962, 0.007609692789866113, 0.0076048025348371085, 0.0075435956126353705, 0.007508021177284644, 0.00763056802750904, 0.00805648040523979, 0.008883591790037044, 0.010119317950651045, 0.01169055773377853, 0.013486287735078503, 0.015395111232505528, 0.017325410020802515, 0.019212705930634504, 0.021020185432302805, 0.022735628173383867, 0.024366203305353946, 0.02593202598168116, 0.02745936789872214, 0.028974501459539483, 0.03049905222057555, 0.03204736652991027, 0.0336258879401578, 0.03523409044636116, 0.036866301200120556, 0.0385137811809892, 0.0401666233537414, 0.04181524949829025, 0.043451456137762794, 0.04506905236207493, 0.04666416259580467, 0.04823526312812204, 0.049783006134622505, 0.05130987285422593, 0.052819693588381025, 0.05431707555755461, 0.05580678675561722, 0.05729315025230916, 0.03189713974171526, 0.02808051474225747, 0.02432140920285824, 0.02069647976972632, 0.017297031369151252, 0.014229110539546305, 0.011610707108822317, 0.0095599143781017, 0.008160811797015997, 0.007401809328777854, 0.0071373609414328585, 0.007146840962715624, 0.007242994403233057, 0.007325514967707858, 0.007369704521585883, 0.0073993873498019455, 0.007477345232076865, 0.00770579964433285, 0.008208990507408158, 0.009086060189711035, 0.010362741782213632, 0.011984000833260806, 0.013846787754020774, 0.01583890434098144, 0.017863320494165284, 0.01984806655768672, 0.021747833057239534, 0.023541584097764988, 0.025228237942440005, 0.026821395408898236, 0.028343774307940918, 0.02982194573323001, 0.03128190477330058, 0.03274585019391625, 0.034230309811309485, 0.035745505189801595, 0.03729567836260561, 0.03888004002768144, 0.040494027205608525, 0.042130634114362006, 0.043781660617973915, 0.04543878518166584, 0.047094410350359224, 0.04874225505356349, 0.050377687500646876, 0.0519978099586047, 0.053601323662994436, 0.055188217585701964, 0.056759336908911634, 0.05831589392273591, 0.030950214365260992, 0.02703781365596823, 0.023175140766190403, 0.01944661185757287, 0.015959346597431694, 0.012847924429446506, 0.010274688174666674, 0.008406127579830815, 0.007328675038711531, 0.006932638543855924, 0.006938605635797403, 0.007080585219371057, 0.0072193817484039555, 0.0073304868855696165, 0.007444455615831855, 0.007599176123950497, 0.00783510242634999, 0.008214833086305436, 0.008826888590031603, 0.009756450020414732, 0.01104124058506525, 0.012650284276251903, 0.014500201849834294, 0.0164882974471293, 0.018518888911921265, 0.020516568095146282, 0.02243015775491814, 0.024231811839024238, 0.025913847970393446, 0.02748456165799886, 0.028963662688251145, 0.030377745548222652, 0.03175611349401614, 0.033127210508678305, 0.03451584232922201, 0.035941285281591934, 0.03741629762840364, 0.038946969396449496, 0.04053327824255674, 0.04217016672557752, 0.04384892759884546, 0.045558683624415015, 0.04728777613472446, 0.04902492449546325, 0.05076007527038069, 0.052484914290745886, 0.054193059572698245, 0.05587998488290226, 0.05754274263984942, 0.05917956228093108, 0.030027315845469603, 0.02602870986102291, 0.02206840009432675, 0.018235956267728413, 0.014652559792504061, 0.01148519930949987, 0.008960675818100778, 0.007332170440617289, 0.006690830624412505, 0.006761317108653477, 0.007104404975504879, 0.007436420398198147, 0.0076775387104866324, 0.00787070453285622, 0.008092357136038108, 0.008392620319749643, 0.008794013138306698, 0.009324532224156374, 0.010037260244264453, 0.010997031775830148, 0.012245756686301915, 0.013775404619716302, 0.01552876355138873, 0.017421451571291928, 0.019366209492625665, 0.02128874231904881, 0.023134747878030264, 0.024871302445484664, 0.026485297397308115, 0.027980474436533245, 0.02937383016653451, 0.030691763894318037, 0.031966173179163254, 0.033230657782379, 0.034517017122130185, 0.035852273039291, 0.03725646968296955, 0.038741454726434914, 0.04031072093932479, 0.041960216805556685, 0.04367987901932791, 0.045455551439837046, 0.047270953888857596, 0.0491094328384831, 0.05095532813449748, 0.052794890844235824, 0.054616766207553034, 0.05641210611057298, 0.05817440044827154, 0.05989912276850491, 0.029205960513033792, 0.025154864181394572, 0.02113405989579337, 0.01723709947905617, 0.01359828762719218, 0.010420100451632884, 0.008010916379943882, 0.006732576139886662, 0.006624220400781043, 0.0071774663152753835, 0.007852246028241383, 0.008400215991515417, 0.008795261683983726, 0.009117498379243565, 0.009463379646526202, 0.00989037350839102, 0.010415890660696973, 0.01105035324378467, 0.01182244328940018, 0.012776985494074612, 0.013951672249111875, 0.015352555619882495, 0.01694606126764572, 0.01866959340389722, 0.020449905729499233, 0.022218786626918292, 0.02392238440531862, 0.025525070142299416, 0.027009843514011107, 0.028376838521245912, 0.02964081306647835, 0.030828026212192668, 0.03197265723759432, 0.033112860477460426, 0.03428663152569729, 0.03552781756916852, 0.03686274136968728, 0.03830792272256491, 0.03986922069034726, 0.04154242566503383, 0.043315021143073576, 0.04516863423286824, 0.047081657212988716, 0.04903162254183677, 0.05099707803817683, 0.05295886907710153, 0.05490085257402287, 0.056810135354755015, 0.0586769565528433, 0.06049433411091253, 0.02856690700978272, 0.024526442039056857, 0.020524202524922378, 0.01666284910773849, 0.013097797917288021, 0.010076922652725074, 0.007981893149314226, 0.0071841287769680694, 0.007540990616798113, 0.008416956343296067, 0.009313507835880497, 0.010037007729728821, 0.010584708669916785, 0.011039207905306435, 0.011493562873582915, 0.012006860064498146, 0.012600339669277434, 0.013281222505654377, 0.014065346731700052, 0.014981403732056964, 0.016057963347430447, 0.017305456270227143, 0.01870607491240954, 0.02021657681749973, 0.021779751044843663, 0.023337310706728242, 0.024839656286031103, 0.026251496222805884, 0.02755414474326478, 0.02874562963997089, 0.029839413101188258, 0.030862114932861836, 0.03185034972360098, 0.03284671167583445, 0.033895063221612606, 0.03503554775854182, 0.03630002013752765, 0.03770869361363831, 0.039268615584275385, 0.040974141795617036, 0.04280907444643375, 0.04474978909600715, 0.04676860712740499, 0.0488368274369248, 0.050927083889114565, 0.053014928641345375, 0.05507969975495859, 0.05710481080231275, 0.059077621862683075, 0.060989040255406884, 0.028179728146999754, 0.02423896036093198, 0.020371803328312427, 0.016700098134450534, 0.01341155334401544, 0.01079371387757158, 0.009213933946450583, 0.008869477399721677, 0.009465287046603687, 0.010450018584964948, 0.011433761932161895, 0.012258621695000499, 0.012917136325441302, 0.013473375601186619, 0.01400449634877423, 0.014565526433715484, 0.015182258893378209, 0.015864738144911582, 0.01662370622936288, 0.017476884751639974, 0.01844321282188069, 0.019531462452839127, 0.020731688821258358, 0.02201438129382821, 0.023336617325134076, 0.024651279433624617, 0.02591565080969496, 0.02709761036344846, 0.028179248478383014, 0.02915840288134145, 0.030048624173305068, 0.030877826830259983, 0.03168564141267748, 0.03251941126936664, 0.033428943701659684, 0.034460508973785775, 0.03565102385507915, 0.037023589403844134, 0.03858534506880323, 0.04032796705071439, 0.042230379204999544, 0.0442627347088565, 0.04639064444381972, 0.04857888336172255, 0.05079418150793596, 0.053007025822753656, 0.0551925929453555, 0.057331012900087734, 0.059407169767791916, 0.061410216519345195, 0.02808869736017719, 0.02434853328914998, 0.020745655076807274, 0.017424284743754605, 0.014593642586127234, 0.012526361601757354, 0.01146739598503111, 0.011426074758512803, 0.012094561007709599, 0.013065345933328613, 0.014047793491758146, 0.014908309610805727, 0.015626907012309576, 0.016244287405134797, 0.01681839189179057, 0.017396519675849466, 0.01800624669476942, 0.018661061834497263, 0.01937050896466276, 0.02014582221938091, 0.02099818041167997, 0.02193237498164151, 0.022940920865167875, 0.02400232455946049, 0.025084172212844317, 0.026149276331983926, 0.027162498851913373, 0.028096589566988798, 0.02893638508240905, 0.02968134860109111, 0.030346598538996412, 0.0309624549856027, 0.03157235222435021, 0.03222891403976392, 0.03298820619418471, 0.033902701739101426, 0.035014152952025084, 0.03634797512631946, 0.037910526751079636, 0.03968978991864161, 0.04165886469789995, 0.04378098155630081, 0.0460146704398743, 0.04831813270496736, 0.050652395629195886, 0.052983240798141054, 0.05528211609727952, 0.057526306325107954, 0.05969861767022201, 0.061786779270142186, 0.028304919664375948, 0.02485813273998275, 0.021627701747820496, 0.01876793252929561, 0.016475144483305053, 0.01495074906333319, 0.014303521565313866, 0.014447150767185928, 0.015122906688945557, 0.016038514621914128, 0.01697850075859336, 0.017830992210038834, 0.018567264588550077, 0.019208660970136796, 0.01979588593133109, 0.020367436184003683, 0.020950074780044375, 0.021559493699516426, 0.02220548141187143, 0.022895833738568176, 0.023636334064758253, 0.0244276590229382, 0.025261939280969765, 0.02612145118067958, 0.026980363461621356, 0.02780890723392222, 0.028578618709167412, 0.029267436376159774, 0.029863936970817094, 0.030370416740625142, 0.03080468198286858, 0.031200343610144524, 0.03160526047310575, 0.03207773410258505, 0.032680317044356054, 0.033471762424197984, 0.0344985548297498, 0.03578810990249764, 0.037345517654075025, 0.03915452984288486, 0.041181998224202855, 0.0433840353509778, 0.04571215700167537, 0.04811827760419177, 0.05055814879986031, 0.05299333241627279, 0.055392026347409376, 0.0577290986381782, 0.0599856315127683, 0.06214819948621346, 0.02880843907681684, 0.02572295075197087, 0.022929736648336658, 0.02057242481245357, 0.018804463750323835, 0.01774267351788964, 0.01740290290469516, 0.017669281905303556, 0.018336959976994496, 0.01919348706317707, 0.020077749081188433, 0.020897879172242943, 0.021622113071302088, 0.022258799198033082, 0.022835480739272402, 0.023382678232256874, 0.02392499710699342, 0.024479041692189202, 0.025055150040471118, 0.02565948202609366, 0.02629442354449347, 0.026957305266394345, 0.027638774079710722, 0.028322301348646925, 0.028985583312039438, 0.02960367576430925, 0.03015314741953926, 0.030616458085815926, 0.03098597110316687, 0.03126722895310704, 0.03148119761271339, 0.03166509968606528, 0.031871297177682716, 0.03216362539523178, 0.03261085336215911, 0.03327773307840293, 0.03421527168503081, 0.03545278398192386, 0.03699411855627014, 0.03881897833173843, 0.04088832414797438, 0.043151673520274776, 0.04555416652285319, 0.04804211342171101, 0.05056664961648898, 0.05308570463824415, 0.05556471553337338, 0.057976515801834855, 0.060300741713853974, 0.06252299568650711, 0.029559025999037883, 0.026870816040091762, 0.024534040760737605, 0.02266499279234054, 0.021364027473737376, 0.02067900321811001, 0.020574770762584318, 0.020934562692662417, 0.021597012864093323, 0.022403847623147122, 0.02323293047726426, 0.02400990806795567, 0.0247041327885408, 0.025316613486326637, 0.025865989594259613, 0.026376564363346178, 0.02687054837013337, 0.027364679245601774, 0.02786979706084689, 0.028391427826401028, 0.02893001354383809, 0.02948051536720622, 0.030031963541969412, 0.030567749597242677, 0.031067139974092207, 0.031507989107799665, 0.031870266455020134, 0.03213990072075183, 0.03231250672831493, 0.03239664616024794, 0.032416270106310416, 0.03241186737816624, 0.03243965507315479, 0.03256805452860996, 0.032870954439887974, 0.03341811926122289, 0.034264476502031675, 0.03544120088803215, 0.036951445165740025, 0.038771874060426044, 0.040858838056625386, 0.04315661119442904, 0.0456052255686265, 0.048146478014260426, 0.05072776432775759, 0.053304046341658216, 0.05583847607576612, 0.05830217045935658, 0.06067351050157423, 0.06293721649247448, 0.03051037047177865, 0.0282257149090828, 0.026330155331561064, 0.024905472280227738, 0.024003507103362905, 0.023624620801116127, 0.02370885181164614, 0.024148013328018275, 0.024813132076321548, 0.025583067969542836, 0.026363734688500624, 0.027095455061019118, 0.027750996261123904, 0.028328120567005295, 0.02884012804198179, 0.029307051649350817, 0.02974912011334261, 0.03018292552162929, 0.030619746140233623, 0.031065038978153263, 0.03151830132090146, 0.03197302731555051, 0.03241695599745326, 0.0328329721827595, 0.03320088653447394, 0.033500059424462755, 0.033712624720491864, 0.033826989467375494, 0.033841297034737705, 0.033766556897499696, 0.03362908851870287, 0.03347177295465109, 0.03335339684684669, 0.033345252807022885, 0.03352439009275007, 0.03396377160552675, 0.0347210583719296, 0.03582909299712631, 0.03729120761891711, 0.039082726480786416, 0.04115749187671205, 0.04345663949960096, 0.0459169337971398, 0.04847711723037565, 0.05108191733703227, 0.05368406300811622, 0.05624488895392937, 0.058734062605499904, 0.06112883076416874, 0.06341304810783409, 0.031622165930857815, 0.029724787838069124, 0.028234463010962562, 0.027199098387154456, 0.026632296846063396, 0.02650433727740989, 0.026744521434249657, 0.02725508398094997, 0.027930670156721786, 0.028675995110917767, 0.02941730366575919, 0.030106862595993496, 0.030721790346203672, 0.03125920787244955, 0.0317296934873366, 0.032150712305621845, 0.03254116086856686, 0.03291751524033755, 0.033291491350447885, 0.03366881622097573, 0.03404872202831367, 0.03442398783892077, 0.03478156571122142, 0.03510390083505924, 0.03537098132100137, 0.035563017628144136, 0.035663547149688335, 0.035662722604448215, 0.03556054682095306, 0.03536980389996353, 0.03511835733630634, 0.03485032211522546, 0.03462540894467312, 0.03451561497064176, 0.03459864259441243, 0.03494824227892344, 0.035623093777457523, 0.036657203818551365, 0.03805495478884842, 0.03979230573488207, 0.04182313189236393, 0.04408799651449521, 0.04652262296607658, 0.04906443260091719, 0.05165672299849872, 0.05425080840156571, 0.05680670088574272, 0.05929287830067311, 0.061685549301460314, 0.0639676874062817, 0.032867079887592625, 0.03132600964132986, 0.03019475836870258, 0.02949217704563229, 0.029204151399347032, 0.02928287657548361, 0.02965405805731082, 0.030229588063553203, 0.03092131184812128, 0.031652225998516935, 0.03236341651050961, 0.033016673218352006, 0.03359355736697782, 0.03409200414309246, 0.03452158969284954, 0.03489848342393258, 0.03524086135356061, 0.03556522574678974, 0.03588376351689627, 0.036202681281787746, 0.03652140902750217, 0.03683261176206168, 0.03712299691673972, 0.037374893585298906, 0.03756851144115812, 0.037684709476309954, 0.037708061391242845, 0.03763000332728327, 0.03745186211900997, 0.037187544962882846, 0.03686558985104413, 0.03653012274574546, 0.03624008184116347, 0.03606596881917909, 0.036083585619156665, 0.0363649470918828, 0.036967820010470574, 0.0379265670103623, 0.03924717666939899, 0.040907983971571145, 0.04286533444987777, 0.04506180215670408, 0.04743438955311871, 0.04992105194457108, 0.052465011939398065, 0.05501708301683388, 0.05753652008886735, 0.0599909200822149, 0.062355581330404884, 0.06461260062599065, 0.03423233308565171, 0.03300835985305989, 0.03218643678664299, 0.031762567900063, 0.03170370761920738, 0.03195178365632259, 0.0324324677322491, 0.033065900642168265, 0.03377655545491399, 0.03450053991769132, 0.03518983547195908, 0.03581369811405828, 0.03635775025476338, 0.0368213919783591, 0.03721418229729638, 0.03755180733151115, 0.037852154896030984, 0.03813187084462035, 0.03840362668232509, 0.038674222672042013, 0.03894359490820987, 0.03920476151651479, 0.03944469592974697, 0.0396460407201404, 0.03978949305215038, 0.03985663577249899, 0.03983297554223488, 0.03971097141656724, 0.039492861543915396, 0.03919308521037998, 0.03884002768597461, 0.03847668686077781, 0.03815971464012103, 0.037956225849275056, 0.037937965866506274, 0.03817305953839576, 0.03871660414377711, 0.03960237016050253, 0.040838063915897, 0.042405533087115053, 0.04426545326117928, 0.046364569896662274, 0.048643251461361336, 0.05104176581113235, 0.053504639969482355, 0.05598317562821001, 0.05843652770835887, 0.06083181028768284, 0.06314361801891501, 0.06535324145010843, 0.035717175210296576, 0.034767481194174284, 0.03420526667907967, 0.034009779977997874, 0.03413582462327065, 0.03452012231231744, 0.0350901185515441, 0.03577285666267739, 0.036502221899289485, 0.03722385879272324, 0.037897780686510306, 0.03849900159475025, 0.039016589348577324, 0.039451533406870166, 0.039813812279114805, 0.04011903600573136, 0.04038501412391761, 0.04062855782640004, 0.040862778070880464, 0.04109509745596403, 0.04132614605781413, 0.04154964334814764, 0.04175327077712315, 0.041920425636759434, 0.04203264779199623, 0.042072456603231154, 0.04202633420634792, 0.04188762488214342, 0.04165915417409899, 0.04135537238327242, 0.04100377676099817, 0.04064527136081179, 0.04033302396420726, 0.04012936305811748, 0.04010045476847051, 0.04030902400338477, 0.04080619246021621, 0.041624257655775626, 0.0427723806807615, 0.04423635870667973, 0.0459822531867197, 0.04796243773078259, 0.05012223819455308, 0.05240573691963646, 0.05476004100196197, 0.05713793787037287, 0.059499208736915804, 0.06181097700418959, 0.06404743842703646, 0.06618923941493929, 0.03732802652093899, 0.03660935851469926, 0.03625943747291767, 0.036246094307443015, 0.036517059138865535, 0.037007193868829225, 0.037646695523841374, 0.0383684443822382, 0.039113503750981736, 0.0398345682406613, 0.04049759249676963, 0.04108195207482692, 0.041579458309000665, 0.041992495558762076, 0.04233152060097632, 0.04261216028660002, 0.04285215182945556, 0.04306838097392876, 0.04327428071628554, 0.043477847055744825, 0.04368049225516034, 0.04387687692657649, 0.04405574306246318, 0.04420163637710074, 0.04429729571418538, 0.04432642925816164, 0.04427659684411272, 0.044141954210312105, 0.043925654939698584, 0.043641718908739045, 0.04331614802943169, 0.04298700986970387, 0.04270315502149416, 0.042521254765101754, 0.04250103323914841, 0.04269898819569881, 0.04316149278830608, 0.043918699339017445, 0.04498075519425442, 0.04633727547272515, 0.04795999947604771, 0.049807622683536244, 0.05183139967401773, 0.05398030914001466, 0.05620508275485359, 0.058460904393176534, 0.060708915204370606, 0.06291680023350903, 0.06505874523222686, 0.06711500497775734];\n",
       "const xvar = \"epochs\";\n",
       "const yvar = \"lr\";\n",
       "const x_is_log = false;\n",
       "const y_is_log = true;\n",
       "\n",
       "const GREEN_SCALE = [[247, 252, 253], [229, 245, 249], [204, 236, 230], [153, 216, 201], [102, 194, 164], [65, 174, 118], [35, 139, 69], [0, 109, 44], [0, 68, 27]];\n",
       "const GREEN_PINK_SCALE = [[142, 1, 82], [197, 27, 125], [222, 119, 174], [241, 182, 218], [253, 224, 239], [247, 247, 247], [230, 245, 208], [184, 225, 134], [127, 188, 65], [77, 146, 33], [39, 100, 25]];\n",
       "const BLUE_SCALE = [[255, 247, 251], [236, 231, 242], [208, 209, 230], [166, 189, 219], [116, 169, 207], [54, 144, 192], [5, 112, 176], [3, 78, 123]];\n",
       "\n",
       "// format data\n",
       "const res = relativize_data(f, sd, rel, arm_data, metric);\n",
       "const f_final = res[0];\n",
       "const sd_final = res[1];\n",
       "\n",
       "// calculate max of abs(outcome), used for colorscale\n",
       "const f_absmax = Math.max(Math.abs(Math.min(...f_final)), Math.max(...f_final));\n",
       "\n",
       "// transform to nested array\n",
       "var f_plt = [];\n",
       "while(f_final.length) f_plt.push(f_final.splice(0, density));\n",
       "var sd_plt = [];\n",
       "while(sd_final.length) sd_plt.push(sd_final.splice(0, density));\n",
       "\n",
       "// create traces\n",
       "const CONTOUR_CONFIG = {\n",
       "  autocolorscale: false,\n",
       "  autocontour: true,\n",
       "  contours: {\n",
       "    coloring: 'heatmap',\n",
       "  },\n",
       "  hoverinfo: 'x+y+z',\n",
       "  ncontours: density / 2,\n",
       "  type: 'contour',\n",
       "  x: grid_x,\n",
       "  y: grid_y,\n",
       "};\n",
       "\n",
       "let f_scale;\n",
       "if (rel === true) {\n",
       "  f_scale = lower_is_better === true\n",
       "    ? GREEN_PINK_SCALE.reverse()\n",
       "    : GREEN_PINK_SCALE;\n",
       "} else {\n",
       "  f_scale = GREEN_SCALE;\n",
       "}\n",
       "\n",
       "const f_trace = {\n",
       "  colorbar: {\n",
       "    x: 0.45,\n",
       "    y: 0.5,\n",
       "    ticksuffix: rel === true ? '%' : '',\n",
       "    tickfont: {\n",
       "      size: 8,\n",
       "    },\n",
       "  },\n",
       "  colorscale: f_scale.map(\n",
       "    (v, i) => [i / (f_scale.length - 1), rgb(v)]\n",
       "  ),\n",
       "  xaxis: 'x',\n",
       "  yaxis: 'y',\n",
       "  z: f_plt,\n",
       "  // zmax and zmin are ignored if zauto is true\n",
       "  zauto: !rel,\n",
       "  zmax: f_absmax,\n",
       "  zmin: -f_absmax,\n",
       "};\n",
       "\n",
       "const sd_trace = {\n",
       "  colorbar: {\n",
       "      x: 1,\n",
       "      y: 0.5,\n",
       "      ticksuffix: rel === true ? '%' : '',\n",
       "      tickfont: {\n",
       "        size: 8,\n",
       "      },\n",
       "  },\n",
       "  colorscale: BLUE_SCALE.map(\n",
       "    (v, i) => [i / (BLUE_SCALE.length - 1), rgb(v)]\n",
       "  ),\n",
       "  xaxis: 'x2',\n",
       "  yaxis: 'y2',\n",
       "  z: sd_plt,\n",
       "};\n",
       "\n",
       "Object.keys(CONTOUR_CONFIG).forEach(key => {\n",
       "  f_trace[key] = CONTOUR_CONFIG[key];\n",
       "  sd_trace[key] = CONTOUR_CONFIG[key];\n",
       "});\n",
       "\n",
       "// get in-sample arms\n",
       "const arm_x = [];\n",
       "const arm_y = [];\n",
       "const arm_text = [];\n",
       "\n",
       "Object.keys(arm_data['in_sample']).forEach(arm_name => {\n",
       "  arm_x.push(arm_data['in_sample'][arm_name]['parameters'][xvar]);\n",
       "  arm_y.push(arm_data['in_sample'][arm_name]['parameters'][yvar]);\n",
       "  arm_text.push(arm_name);\n",
       "});\n",
       "\n",
       "// configs for in-sample arms\n",
       "const base_in_sample_arm_config = {\n",
       "  hoverinfo: 'text',\n",
       "  legendgroup: 'In-sample',\n",
       "  marker: {color: 'black', symbol: 1, opacity: 0.5},\n",
       "  mode: 'markers',\n",
       "  name: 'In-sample',\n",
       "  text: arm_text,\n",
       "  type: 'scatter',\n",
       "  x: arm_x,\n",
       "  y: arm_y,\n",
       "};\n",
       "\n",
       "const f_in_sample_arm_trace = {\n",
       "  xaxis: 'x',\n",
       "  yaxis: 'y',\n",
       "};\n",
       "\n",
       "const sd_in_sample_arm_trace = {\n",
       "  showlegend: false,\n",
       "  xaxis: 'x2',\n",
       "  yaxis: 'y2',\n",
       "};\n",
       "\n",
       "Object.keys(base_in_sample_arm_config).forEach(key => {\n",
       "  f_in_sample_arm_trace[key] = base_in_sample_arm_config[key];\n",
       "  sd_in_sample_arm_trace[key] = base_in_sample_arm_config[key];\n",
       "});\n",
       "\n",
       "const traces = [\n",
       "  f_trace,\n",
       "  sd_trace,\n",
       "  f_in_sample_arm_trace,\n",
       "  sd_in_sample_arm_trace,\n",
       "];\n",
       "\n",
       "// start symbol at 2 for candidate markers\n",
       "let i = 2;\n",
       "\n",
       "// iterate over out-of-sample arms\n",
       "Object.keys(arm_data['out_of_sample']).forEach(generator_run_name => {\n",
       "  const ax = [];\n",
       "  const ay = [];\n",
       "  const atext = [];\n",
       "\n",
       "  Object.keys(arm_data['out_of_sample'][generator_run_name]).forEach(arm_name => {\n",
       "    ax.push(\n",
       "      arm_data['out_of_sample'][generator_run_name][arm_name]['parameters'][xvar]\n",
       "    );\n",
       "    ay.push(\n",
       "      arm_data['out_of_sample'][generator_run_name][arm_name]['parameters'][yvar]\n",
       "    );\n",
       "    atext.push('<em>Candidate ' + arm_name + '</em>');\n",
       "  });\n",
       "\n",
       "  traces.push({\n",
       "    hoverinfo: 'text',\n",
       "    legendgroup: generator_run_name,\n",
       "    marker: {color: 'black', symbol: i, opacity: 0.5},\n",
       "    mode: 'markers',\n",
       "    name: generator_run_name,\n",
       "    text: atext,\n",
       "    type: 'scatter',\n",
       "    xaxis: 'x',\n",
       "    x: ax,\n",
       "    yaxis: 'y',\n",
       "    y: ay,\n",
       "  });\n",
       "  traces.push({\n",
       "    hoverinfo: 'text',\n",
       "    legendgroup: generator_run_name,\n",
       "    marker: {color: 'black', symbol: i, opacity: 0.5},\n",
       "    mode: 'markers',\n",
       "    name: 'In-sample',\n",
       "    showlegend: false,\n",
       "    text: atext,\n",
       "    type: 'scatter',\n",
       "    x: ax,\n",
       "    xaxis: 'x2',\n",
       "    y: ay,\n",
       "    yaxis: 'y2',\n",
       "  });\n",
       "  i += 1;\n",
       "});\n",
       "\n",
       "// layout\n",
       "const xrange = axis_range(grid_x, x_is_log);\n",
       "const yrange = axis_range(grid_y, y_is_log);\n",
       "\n",
       "const xtype = x_is_log ? 'log' : 'linear';\n",
       "const ytype = y_is_log ? 'log' : 'linear';\n",
       "\n",
       "const layout = {\n",
       "  autosize: false,\n",
       "    margin: {\n",
       "      l: 35,\n",
       "      r: 35,\n",
       "      t: 35,\n",
       "      b: 100,\n",
       "      pad: 0,\n",
       "  },\n",
       "  annotations: [\n",
       "    {\n",
       "      font: {size: 14},\n",
       "      showarrow: false,\n",
       "      text: 'Mean',\n",
       "      x: 0.25,\n",
       "      xanchor: 'center',\n",
       "      xref: 'paper',\n",
       "      y: 1,\n",
       "      yanchor: 'bottom',\n",
       "      yref: 'paper',\n",
       "    },\n",
       "    {\n",
       "      font: {size: 14},\n",
       "      showarrow: false,\n",
       "      text: 'Standard Error',\n",
       "      x: 0.8,\n",
       "      xanchor: 'center',\n",
       "      xref: 'paper',\n",
       "      y: 1,\n",
       "      yanchor: 'bottom',\n",
       "      yref: 'paper',\n",
       "    },\n",
       "  ],\n",
       "  hovermode: 'closest',\n",
       "  legend: {orientation: 'h', x: 0, y: -0.25},\n",
       "  height: 450,\n",
       "  width: 950,\n",
       "  xaxis: {\n",
       "    anchor: 'y',\n",
       "    autorange: false,\n",
       "    domain: [0.05, 0.45],\n",
       "    exponentformat: 'e',\n",
       "    range: xrange,\n",
       "    tickfont: {size: 11},\n",
       "    tickmode: 'auto',\n",
       "    title: xvar,\n",
       "    type: xtype,\n",
       "  },\n",
       "  xaxis2: {\n",
       "    anchor: 'y2',\n",
       "    autorange: false,\n",
       "    domain: [0.60, 1],\n",
       "    exponentformat: 'e',\n",
       "    range: xrange,\n",
       "    tickfont: {size: 11},\n",
       "    tickmode: 'auto',\n",
       "    title: xvar,\n",
       "    type: xtype,\n",
       "  },\n",
       "  yaxis: {\n",
       "    anchor: 'x',\n",
       "    autorange: false,\n",
       "    domain: [0, 1],\n",
       "    exponentformat: 'e',\n",
       "    range: yrange,\n",
       "    tickfont: {size: 11},\n",
       "    tickmode: 'auto',\n",
       "    title: yvar,\n",
       "    type: ytype,\n",
       "  },\n",
       "  yaxis2: {\n",
       "    anchor: 'x2',\n",
       "    autorange: false,\n",
       "    domain: [0, 1],\n",
       "    exponentformat: 'e',\n",
       "    range: yrange,\n",
       "    tickfont: {size: 11},\n",
       "    tickmode: 'auto',\n",
       "    type: ytype,\n",
       "  },\n",
       "};\n",
       "\n",
       "Plotly.newPlot(\"ed48791fc0fb4399a4a94661563ca071\", traces, layout, {showLink: false});\n",
       "});</script>"
      ]
     },
     "metadata": {},
     "output_type": "display_data"
    }
   ],
   "source": [
    "render(plot_contour(model=gpei, param_x='epochs', param_y='lr', metric_name='log_eval'))"
   ]
  },
  {
   "cell_type": "markdown",
   "metadata": {},
   "source": [
    "Epochs and lr are inversely correlated"
   ]
  },
  {
   "cell_type": "code",
   "execution_count": 24,
   "metadata": {
    "pycharm": {
     "name": "#%%\n"
    },
    "scrolled": false
   },
   "outputs": [
    {
     "data": {
      "text/html": [
       "<div id=\"6d4378912e354a61b2bf432807f5e9d2\" style=\"width: 100%;\" class=\"plotly-graph-div\"></div><script type='text/javascript'>/*\n",
       " * Copyright (c) Facebook, Inc. and its affiliates. All Rights Reserved.\n",
       " */\n",
       "\n",
       "require(['plotly'], function(Plotly) {\n",
       "  window.PLOTLYENV = window.PLOTLYENV || {};\n",
       "  window.PLOTLYENV.BASE_URL = 'https://plot.ly';\n",
       "  /*\n",
       " * Copyright (c) Facebook, Inc. and its affiliates. All Rights Reserved.\n",
       " */\n",
       "\n",
       "const arm_data = {\"metrics\": [\"log_eval\"], \"in_sample\": {\"10_0\": {\"name\": \"10_0\", \"parameters\": {\"lr\": 0.004044864308475928, \"decay\": 0.04707769638039004, \"epochs\": 6}, \"y\": {\"log_eval\": 4.020110049100475}, \"y_hat\": {\"log_eval\": 4.015350348125742}, \"se\": {\"log_eval\": 0.007556678271325456}, \"se_hat\": {\"log_eval\": 0.007233198162806532}, \"context_stratum\": null}, \"11_0\": {\"name\": \"11_0\", \"parameters\": {\"lr\": 0.0037989071059585247, \"decay\": 0.0013841435750271724, \"epochs\": 9}, \"y\": {\"log_eval\": 3.921352853873042}, \"y_hat\": {\"log_eval\": 3.9243788852429975}, \"se\": {\"log_eval\": 0.010184709934255198}, \"se_hat\": {\"log_eval\": 0.009096599078786311}, \"context_stratum\": null}, \"12_0\": {\"name\": \"12_0\", \"parameters\": {\"lr\": 0.0010034284778267387, \"decay\": 0.01619763305775833, \"epochs\": 4}, \"y\": {\"log_eval\": 3.9779872969205443}, \"y_hat\": {\"log_eval\": 3.978076737674945}, \"se\": {\"log_eval\": 0.008471989545960273}, \"se_hat\": {\"log_eval\": 0.008341766780874211}, \"context_stratum\": null}, \"13_0\": {\"name\": \"13_0\", \"parameters\": {\"lr\": 0.0017365582947129383, \"decay\": 0.008977215067036219, \"epochs\": 1}, \"y\": {\"log_eval\": 3.975506861213706}, \"y_hat\": {\"log_eval\": 3.975290264046756}, \"se\": {\"log_eval\": 0.008807034960569648}, \"se_hat\": {\"log_eval\": 0.008638238723038353}, \"context_stratum\": null}, \"14_0\": {\"name\": \"14_0\", \"parameters\": {\"lr\": 0.006116741263131368, \"decay\": 0.07895861915890333, \"epochs\": 11}, \"y\": {\"log_eval\": 3.61423258781629}, \"y_hat\": {\"log_eval\": 3.6171929153616618}, \"se\": {\"log_eval\": 0.0063616699104992154}, \"se_hat\": {\"log_eval\": 0.006334580202861196}, \"context_stratum\": null}, \"15_0\": {\"name\": \"15_0\", \"parameters\": {\"lr\": 0.00512507486326056, \"decay\": 0.003491511312417426, \"epochs\": 7}, \"y\": {\"log_eval\": 3.998062387185866}, \"y_hat\": {\"log_eval\": 3.994441855043593}, \"se\": {\"log_eval\": 0.008792094974888445}, \"se_hat\": {\"log_eval\": 0.008446310530277413}, \"context_stratum\": null}, \"16_0\": {\"name\": \"16_0\", \"parameters\": {\"lr\": 0.0024074724487850477, \"decay\": 0.04021334838836546, \"epochs\": 9}, \"y\": {\"log_eval\": 4.0259356856422}, \"y_hat\": {\"log_eval\": 4.024116902143203}, \"se\": {\"log_eval\": 0.007840452586175162}, \"se_hat\": {\"log_eval\": 0.0075321422157095036}, \"context_stratum\": null}, \"17_0\": {\"name\": \"17_0\", \"parameters\": {\"lr\": 0.0012932799645160857, \"decay\": 0.002270241551766799, \"epochs\": 15}, \"y\": {\"log_eval\": 3.9645698466760853}, \"y_hat\": {\"log_eval\": 3.964848435640311}, \"se\": {\"log_eval\": 0.009111862981454109}, \"se_hat\": {\"log_eval\": 0.009013501390765339}, \"context_stratum\": null}, \"18_0\": {\"name\": \"18_0\", \"parameters\": {\"lr\": 0.0025618335265802736, \"decay\": 0.019564295308741823, \"epochs\": 2}, \"y\": {\"log_eval\": 4.014018816636409}, \"y_hat\": {\"log_eval\": 4.01357301971357}, \"se\": {\"log_eval\": 0.00792525179822629}, \"se_hat\": {\"log_eval\": 0.007613727873306417}, \"context_stratum\": null}, \"19_0\": {\"name\": \"19_0\", \"parameters\": {\"lr\": 0.002774570008448762, \"decay\": 0.00197962435500844, \"epochs\": 4}, \"y\": {\"log_eval\": 3.969413014029092}, \"y_hat\": {\"log_eval\": 3.9718046534403335}, \"se\": {\"log_eval\": 0.009130610560002307}, \"se_hat\": {\"log_eval\": 0.008800262483849436}, \"context_stratum\": null}, \"20_0\": {\"name\": \"20_0\", \"parameters\": {\"lr\": 0.0014007643909409292, \"decay\": 0.02253605918351418, \"epochs\": 9}, \"y\": {\"log_eval\": 4.0115342622454415}, \"y_hat\": {\"log_eval\": 4.0131960970243945}, \"se\": {\"log_eval\": 0.008904613847650317}, \"se_hat\": {\"log_eval\": 0.008445377722073578}, \"context_stratum\": null}, \"21_0\": {\"name\": \"21_0\", \"parameters\": {\"lr\": 0.0022177364780740904, \"decay\": 0.004060196864519902, \"epochs\": 12}, \"y\": {\"log_eval\": 3.9999811426165053}, \"y_hat\": {\"log_eval\": 3.998542932482182}, \"se\": {\"log_eval\": 0.008630238775110429}, \"se_hat\": {\"log_eval\": 0.00844079453250696}, \"context_stratum\": null}, \"22_0\": {\"name\": \"22_0\", \"parameters\": {\"lr\": 0.004721522756697272, \"decay\": 0.03473938680518261, \"epochs\": 2}, \"y\": {\"log_eval\": 4.015748638745597}, \"y_hat\": {\"log_eval\": 4.013775893589169}, \"se\": {\"log_eval\": 0.007617459348825448}, \"se_hat\": {\"log_eval\": 0.007223183155183658}, \"context_stratum\": null}, \"23_0\": {\"name\": \"23_0\", \"parameters\": {\"lr\": 0.006507217278079819, \"decay\": 0.007829091848627883, \"epochs\": 10}, \"y\": {\"log_eval\": 3.969515490044833}, \"y_hat\": {\"log_eval\": 3.9642037237397916}, \"se\": {\"log_eval\": 0.008249124176806254}, \"se_hat\": {\"log_eval\": 0.008048612110853021}, \"context_stratum\": null}, \"24_0\": {\"name\": \"24_0\", \"parameters\": {\"lr\": 0.0027287701230472123, \"decay\": 0.047467561333178455, \"epochs\": 5}, \"y\": {\"log_eval\": 4.008045219231504}, \"y_hat\": {\"log_eval\": 4.012722124044243}, \"se\": {\"log_eval\": 0.008600824796006514}, \"se_hat\": {\"log_eval\": 0.00813798449688285}, \"context_stratum\": null}, \"25_0\": {\"name\": \"25_0\", \"parameters\": {\"lr\": 0.0018620520236365425, \"decay\": 0.014504572431582102, \"epochs\": 11}, \"y\": {\"log_eval\": 4.0177322106840325}, \"y_hat\": {\"log_eval\": 4.01808485272548}, \"se\": {\"log_eval\": 0.008637085344971781}, \"se_hat\": {\"log_eval\": 0.008218315870386328}, \"context_stratum\": null}, \"26_0\": {\"name\": \"26_0\", \"parameters\": {\"lr\": 0.0012156310523465015, \"decay\": 0.08578899579530594, \"epochs\": 11}, \"y\": {\"log_eval\": 4.034312338135606}, \"y_hat\": {\"log_eval\": 4.034698353251241}, \"se\": {\"log_eval\": 0.007689923755965675}, \"se_hat\": {\"log_eval\": 0.0072154974270828435}, \"context_stratum\": null}, \"27_0\": {\"name\": \"27_0\", \"parameters\": {\"lr\": 0.0009034861576172048, \"decay\": 0.043318245856435324, \"epochs\": 14}, \"y\": {\"log_eval\": 4.037392070141155}, \"y_hat\": {\"log_eval\": 4.0363614662139815}, \"se\": {\"log_eval\": 0.007918972916914799}, \"se_hat\": {\"log_eval\": 0.00728011534702147}, \"context_stratum\": null}, \"28_0\": {\"name\": \"28_0\", \"parameters\": {\"lr\": 0.0011657755539881888, \"decay\": 0.1, \"epochs\": 15}, \"y\": {\"log_eval\": 4.0305296503746995}, \"y_hat\": {\"log_eval\": 4.029667281705869}, \"se\": {\"log_eval\": 0.007765747390425193}, \"se_hat\": {\"log_eval\": 0.007524587064582032}, \"context_stratum\": null}, \"29_0\": {\"name\": \"29_0\", \"parameters\": {\"lr\": 0.008000000000000004, \"decay\": 0.002288829527071239, \"epochs\": 7}, \"y\": {\"log_eval\": 3.9216153556747795}, \"y_hat\": {\"log_eval\": 3.92800375033489}, \"se\": {\"log_eval\": 0.010304896456927469}, \"se_hat\": {\"log_eval\": 0.009984030462509228}, \"context_stratum\": null}, \"30_0\": {\"name\": \"30_0\", \"parameters\": {\"lr\": 0.005128081369884944, \"decay\": 0.009714020504312918, \"epochs\": 3}, \"y\": {\"log_eval\": 4.003272017188419}, \"y_hat\": {\"log_eval\": 4.0047854909541}, \"se\": {\"log_eval\": 0.008744524217256345}, \"se_hat\": {\"log_eval\": 0.008455843694870372}, \"context_stratum\": null}, \"31_0\": {\"name\": \"31_0\", \"parameters\": {\"lr\": 0.0012034966711127215, \"decay\": 0.05331576453873375, \"epochs\": 13}, \"y\": {\"log_eval\": 4.034853146741749}, \"y_hat\": {\"log_eval\": 4.037019223140232}, \"se\": {\"log_eval\": 0.007891388538915295}, \"se_hat\": {\"log_eval\": 0.006970550579426248}, \"context_stratum\": null}, \"32_0\": {\"name\": \"32_0\", \"parameters\": {\"lr\": 0.0011924465660416662, \"decay\": 0.018078350513876462, \"epochs\": 15}, \"y\": {\"log_eval\": 4.0257891017009255}, \"y_hat\": {\"log_eval\": 4.024524760343655}, \"se\": {\"log_eval\": 0.008250339710490533}, \"se_hat\": {\"log_eval\": 0.007982545451364556}, \"context_stratum\": null}, \"33_0\": {\"name\": \"33_0\", \"parameters\": {\"lr\": 0.0008000000000000004, \"decay\": 0.1, \"epochs\": 13}, \"y\": {\"log_eval\": 4.039535780145851}, \"y_hat\": {\"log_eval\": 4.038127020458758}, \"se\": {\"log_eval\": 0.007132010393189851}, \"se_hat\": {\"log_eval\": 0.006680396623233546}, \"context_stratum\": null}, \"34_0\": {\"name\": \"34_0\", \"parameters\": {\"lr\": 0.0008000000000000004, \"decay\": 0.09999999999999949, \"epochs\": 9}, \"y\": {\"log_eval\": 4.026641731363641}, \"y_hat\": {\"log_eval\": 4.02671107068213}, \"se\": {\"log_eval\": 0.007205455158902104}, \"se_hat\": {\"log_eval\": 0.006952707419504712}, \"context_stratum\": null}, \"35_0\": {\"name\": \"35_0\", \"parameters\": {\"lr\": 0.0015388220487877905, \"decay\": 0.1, \"epochs\": 8}, \"y\": {\"log_eval\": 4.041210413503344}, \"y_hat\": {\"log_eval\": 4.039251153115173}, \"se\": {\"log_eval\": 0.007214847176585106}, \"se_hat\": {\"log_eval\": 0.00687629163522225}, \"context_stratum\": null}, \"36_0\": {\"name\": \"36_0\", \"parameters\": {\"lr\": 0.0016447015306304208, \"decay\": 0.05740378606914854, \"epochs\": 9}, \"y\": {\"log_eval\": 4.033673711417118}, \"y_hat\": {\"log_eval\": 4.034922153703092}, \"se\": {\"log_eval\": 0.007629768132666603}, \"se_hat\": {\"log_eval\": 0.006952403969317441}, \"context_stratum\": null}, \"37_0\": {\"name\": \"37_0\", \"parameters\": {\"lr\": 0.0008000000000000011, \"decay\": 0.001, \"epochs\": 7}, \"y\": {\"log_eval\": 3.977919594623966}, \"y_hat\": {\"log_eval\": 3.9777393136546957}, \"se\": {\"log_eval\": 0.009058110392772541}, \"se_hat\": {\"log_eval\": 0.0089722398516896}, \"context_stratum\": null}, \"38_0\": {\"name\": \"38_0\", \"parameters\": {\"lr\": 0.008000000000000004, \"decay\": 0.1, \"epochs\": 0}, \"y\": {\"log_eval\": 3.9132375011181257}, \"y_hat\": {\"log_eval\": 3.9135230297515196}, \"se\": {\"log_eval\": 0.008923038775749209}, \"se_hat\": {\"log_eval\": 0.008841739698609238}, \"context_stratum\": null}, \"39_0\": {\"name\": \"39_0\", \"parameters\": {\"lr\": 0.0008000000000000004, \"decay\": 0.034683012185556, \"epochs\": 11}, \"y\": {\"log_eval\": 4.044727817596675}, \"y_hat\": {\"log_eval\": 4.040715144633089}, \"se\": {\"log_eval\": 0.007789747219705842}, \"se_hat\": {\"log_eval\": 0.006963368495015841}, \"context_stratum\": null}, \"40_0\": {\"name\": \"40_0\", \"parameters\": {\"lr\": 0.0008000000000000004, \"decay\": 0.019416227604450564, \"epochs\": 13}, \"y\": {\"log_eval\": 4.005697820954328}, \"y_hat\": {\"log_eval\": 4.009098731989577}, \"se\": {\"log_eval\": 0.00871842467309026}, \"se_hat\": {\"log_eval\": 0.008204306028275373}, \"context_stratum\": null}, \"41_0\": {\"name\": \"41_0\", \"parameters\": {\"lr\": 0.00212708645449816, \"decay\": 0.01127820018448251, \"epochs\": 15}, \"y\": {\"log_eval\": 3.983780613080933}, \"y_hat\": {\"log_eval\": 3.9848810959978844}, \"se\": {\"log_eval\": 0.008859211473068451}, \"se_hat\": {\"log_eval\": 0.008676121060249982}, \"context_stratum\": null}, \"42_0\": {\"name\": \"42_0\", \"parameters\": {\"lr\": 0.0008000000000000004, \"decay\": 0.1, \"epochs\": 15}, \"y\": {\"log_eval\": 4.027518651810411}, \"y_hat\": {\"log_eval\": 4.028330745682156}, \"se\": {\"log_eval\": 0.007652008483475657}, \"se_hat\": {\"log_eval\": 0.007256147587810133}, \"context_stratum\": null}, \"43_0\": {\"name\": \"43_0\", \"parameters\": {\"lr\": 0.0008000000000000004, \"decay\": 0.03401669027082794, \"epochs\": 8}, \"y\": {\"log_eval\": 4.023404506162787}, \"y_hat\": {\"log_eval\": 4.02335703904453}, \"se\": {\"log_eval\": 0.007980565078703471}, \"se_hat\": {\"log_eval\": 0.007708830083616422}, \"context_stratum\": null}, \"44_0\": {\"name\": \"44_0\", \"parameters\": {\"lr\": 0.003633636002786291, \"decay\": 0.028776448733151633, \"epochs\": 3}, \"y\": {\"log_eval\": 4.0366771130414705}, \"y_hat\": {\"log_eval\": 4.036021381561066}, \"se\": {\"log_eval\": 0.007737460497862321}, \"se_hat\": {\"log_eval\": 0.006611636780960699}, \"context_stratum\": null}, \"45_0\": {\"name\": \"45_0\", \"parameters\": {\"lr\": 0.008000000000000004, \"decay\": 0.007147212988528556, \"epochs\": 0}, \"y\": {\"log_eval\": 3.924091409401043}, \"y_hat\": {\"log_eval\": 3.9259242687905567}, \"se\": {\"log_eval\": 0.0089671782093854}, \"se_hat\": {\"log_eval\": 0.008837653500910583}, \"context_stratum\": null}, \"46_0\": {\"name\": \"46_0\", \"parameters\": {\"lr\": 0.0008000000000000004, \"decay\": 0.062132377301891986, \"epochs\": 11}, \"y\": {\"log_eval\": 4.03621600874713}, \"y_hat\": {\"log_eval\": 4.038803959029759}, \"se\": {\"log_eval\": 0.007890092508523705}, \"se_hat\": {\"log_eval\": 0.006788521473106762}, \"context_stratum\": null}, \"47_0\": {\"name\": \"47_0\", \"parameters\": {\"lr\": 0.0008000000000000004, \"decay\": 0.001, \"epochs\": 0}, \"y\": {\"log_eval\": 3.939849888806768}, \"y_hat\": {\"log_eval\": 3.9399320453544253}, \"se\": {\"log_eval\": 0.00877473308367555}, \"se_hat\": {\"log_eval\": 0.008719145213336643}, \"context_stratum\": null}, \"48_0\": {\"name\": \"48_0\", \"parameters\": {\"lr\": 0.004308203330778961, \"decay\": 0.028771024643772, \"epochs\": 4}, \"y\": {\"log_eval\": 4.036188325149162}, \"y_hat\": {\"log_eval\": 4.039249081142876}, \"se\": {\"log_eval\": 0.007577407991815798}, \"se_hat\": {\"log_eval\": 0.0065229120234578655}, \"context_stratum\": null}, \"49_0\": {\"name\": \"49_0\", \"parameters\": {\"lr\": 0.0036967447563253904, \"decay\": 0.1, \"epochs\": 3}, \"y\": {\"log_eval\": 3.939970232874096}, \"y_hat\": {\"log_eval\": 3.9411933023752272}, \"se\": {\"log_eval\": 0.0072260554461817585}, \"se_hat\": {\"log_eval\": 0.007118949508254934}, \"context_stratum\": null}, \"4_0\": {\"name\": \"4_0\", \"parameters\": {\"lr\": 0.0011934390082424268, \"decay\": 0.06686069314247507, \"epochs\": 1}, \"y\": {\"log_eval\": 3.9676639950748886}, \"y_hat\": {\"log_eval\": 3.967407555009287}, \"se\": {\"log_eval\": 0.008439619929951075}, \"se_hat\": {\"log_eval\": 0.008355323774245435}, \"context_stratum\": null}, \"50_0\": {\"name\": \"50_0\", \"parameters\": {\"lr\": 0.0010861821066179202, \"decay\": 0.1, \"epochs\": 6}, \"y\": {\"log_eval\": 4.01873097461381}, \"y_hat\": {\"log_eval\": 4.018774498109206}, \"se\": {\"log_eval\": 0.007476939713896601}, \"se_hat\": {\"log_eval\": 0.007284472147061626}, \"context_stratum\": null}, \"51_0\": {\"name\": \"51_0\", \"parameters\": {\"lr\": 0.0029168908105427667, \"decay\": 0.02052006286485383, \"epochs\": 6}, \"y\": {\"log_eval\": 4.046149745093893}, \"y_hat\": {\"log_eval\": 4.046139565660806}, \"se\": {\"log_eval\": 0.008199089686813746}, \"se_hat\": {\"log_eval\": 0.007449515143363521}, \"context_stratum\": null}, \"52_0\": {\"name\": \"52_0\", \"parameters\": {\"lr\": 0.0014333221894011758, \"decay\": 0.003932877349377023, \"epochs\": 8}, \"y\": {\"log_eval\": 3.9847539886801733}, \"y_hat\": {\"log_eval\": 3.9852954697031624}, \"se\": {\"log_eval\": 0.008939494207823605}, \"se_hat\": {\"log_eval\": 0.00876160990108908}, \"context_stratum\": null}, \"53_0\": {\"name\": \"53_0\", \"parameters\": {\"lr\": 0.0034402691960054464, \"decay\": 0.024358234364913824, \"epochs\": 5}, \"y\": {\"log_eval\": 4.055870379113808}, \"y_hat\": {\"log_eval\": 4.0530499206343}, \"se\": {\"log_eval\": 0.007468974042501011}, \"se_hat\": {\"log_eval\": 0.0061067200752131815}, \"context_stratum\": null}, \"5_0\": {\"name\": \"5_0\", \"parameters\": {\"lr\": 0.0019558212574087366, \"decay\": 0.0011824514174953505, \"epochs\": 5}, \"y\": {\"log_eval\": 3.9826962664100476}, \"y_hat\": {\"log_eval\": 3.9812209404513363}, \"se\": {\"log_eval\": 0.008637217750371025}, \"se_hat\": {\"log_eval\": 0.008451074880474795}, \"context_stratum\": null}, \"6_0\": {\"name\": \"6_0\", \"parameters\": {\"lr\": 0.005551494394407805, \"decay\": 0.010283260945966472, \"epochs\": 8}, \"y\": {\"log_eval\": 3.937745563984811}, \"y_hat\": {\"log_eval\": 3.9483985569860742}, \"se\": {\"log_eval\": 0.009519154098377499}, \"se_hat\": {\"log_eval\": 0.008814390749896862}, \"context_stratum\": null}, \"7_0\": {\"name\": \"7_0\", \"parameters\": {\"lr\": 0.007662923912231201, \"decay\": 0.002680738706964375, \"epochs\": 3}, \"y\": {\"log_eval\": 4.011433652054382}, \"y_hat\": {\"log_eval\": 4.008593849982736}, \"se\": {\"log_eval\": 0.008661630655341245}, \"se_hat\": {\"log_eval\": 0.008472975026342998}, \"context_stratum\": null}, \"8_0\": {\"name\": \"8_0\", \"parameters\": {\"lr\": 0.0016311940380312328, \"decay\": 0.030532060346985843, \"epochs\": 13}, \"y\": {\"log_eval\": 4.033091584092544}, \"y_hat\": {\"log_eval\": 4.031388818002143}, \"se\": {\"log_eval\": 0.00794129124580905}, \"se_hat\": {\"log_eval\": 0.0075129234837603915}, \"context_stratum\": null}, \"9_0\": {\"name\": \"9_0\", \"parameters\": {\"lr\": 0.0008013008433305626, \"decay\": 0.005499813737312483, \"epochs\": 11}, \"y\": {\"log_eval\": 3.996061115189173}, \"y_hat\": {\"log_eval\": 3.9953230147021666}, \"se\": {\"log_eval\": 0.008740295689537658}, \"se_hat\": {\"log_eval\": 0.008591547617036153}, \"context_stratum\": null}, \"control1\": {\"name\": \"control1\", \"parameters\": {\"lr\": 0.0043, \"decay\": 0.0012, \"epochs\": 5}, \"y\": {\"log_eval\": 3.997396798885231}, \"y_hat\": {\"log_eval\": 3.9951330212120184}, \"se\": {\"log_eval\": 0.008531493375863187}, \"se_hat\": {\"log_eval\": 0.008318374028251425}, \"context_stratum\": null}, \"control2\": {\"name\": \"control2\", \"parameters\": {\"lr\": 0.0043, \"decay\": 0.0012, \"epochs\": 10}, \"y\": {\"log_eval\": 3.902201694947672}, \"y_hat\": {\"log_eval\": 3.9025434779865877}, \"se\": {\"log_eval\": 0.01006668027108687}, \"se_hat\": {\"log_eval\": 0.009324324088314554}, \"context_stratum\": null}, \"previous\": {\"name\": \"previous\", \"parameters\": {\"lr\": 0.00715, \"decay\": 0.01, \"epochs\": 6}, \"y\": {\"log_eval\": 3.9953394538615683}, \"y_hat\": {\"log_eval\": 3.9918436811219107}, \"se\": {\"log_eval\": 0.008252234051061177}, \"se_hat\": {\"log_eval\": 0.008005110145318989}, \"context_stratum\": null}, \"zero\": {\"name\": \"zero\", \"parameters\": {\"lr\": 0.0043, \"decay\": 0.0012, \"epochs\": 0}, \"y\": {\"log_eval\": 3.9341571499800057}, \"y_hat\": {\"log_eval\": 3.9350915596194054}, \"se\": {\"log_eval\": 0.009092915137801005}, \"se_hat\": {\"log_eval\": 0.00899225601874008}, \"context_stratum\": null}}, \"out_of_sample\": {}, \"status_quo_name\": null};\n",
       "const density = 50;\n",
       "const grid_x = [0.0, 0.30612244897959184, 0.6122448979591837, 0.9183673469387755, 1.2244897959183674, 1.5306122448979593, 1.836734693877551, 2.142857142857143, 2.4489795918367347, 2.7551020408163267, 3.0612244897959187, 3.36734693877551, 3.673469387755102, 3.979591836734694, 4.285714285714286, 4.591836734693878, 4.8979591836734695, 5.204081632653061, 5.510204081632653, 5.816326530612245, 6.122448979591837, 6.428571428571429, 6.73469387755102, 7.040816326530613, 7.346938775510204, 7.653061224489796, 7.959183673469388, 8.26530612244898, 8.571428571428571, 8.877551020408163, 9.183673469387756, 9.489795918367347, 9.795918367346939, 10.10204081632653, 10.408163265306122, 10.714285714285715, 11.020408163265307, 11.326530612244898, 11.63265306122449, 11.938775510204081, 12.244897959183675, 12.551020408163266, 12.857142857142858, 13.16326530612245, 13.46938775510204, 13.775510204081632, 14.081632653061225, 14.387755102040817, 14.693877551020408, 15.0];\n",
       "const grid_y = [0.001, 0.0010985411419875584, 0.0012067926406393288, 0.0013257113655901094, 0.0014563484775012444, 0.0015998587196060573, 0.0017575106248547913, 0.0019306977288832496, 0.0021209508879201904, 0.002329951810515372, 0.002559547922699536, 0.002811768697974231, 0.0030888435964774815, 0.00339322177189533, 0.003727593720314938, 0.004094915062380423, 0.004498432668969444, 0.004941713361323833, 0.005428675439323859, 0.005963623316594642, 0.006551285568595509, 0.0071968567300115215, 0.0079060432109077, 0.00868511373751352, 0.009540954763499945, 0.010481131341546858, 0.01151395399326447, 0.012648552168552958, 0.013894954943731374, 0.015264179671752334, 0.016768329368110076, 0.018420699693267154, 0.020235896477251564, 0.022229964825261943, 0.02442053094548651, 0.026826957952797246, 0.029470517025518096, 0.032374575428176434, 0.03556480306223128, 0.03906939937054615, 0.04291934260128776, 0.04714866363457392, 0.0517947467923121, 0.05689866029018296, 0.0625055192527397, 0.06866488450042998, 0.07543120063354615, 0.08286427728546843, 0.09102981779915217, 0.1];\n",
       "const f = [3.9274956839021815, 3.931031194509864, 3.934753895017484, 3.938627411558108, 3.9426090061199575, 3.9466501001269623, 3.9506968739076416, 3.95469086350475, 3.958569498310457, 3.9622665678374718, 3.965712677363965, 3.9688358530998338, 3.971562578352361, 3.973819640282245, 3.975537153347136, 3.976652899117117, 3.9771176703284654, 3.976900798171053, 3.9759947670288214, 3.974417973971424, 3.9722151868816904, 3.9694557997323403, 3.9662303241507044, 3.9626456458151167, 3.9588195120987515, 3.954874618381584, 3.950932590954174, 3.9471081451847665, 3.9435037205998316, 3.9402049318260826, 3.9372771841426513, 3.9347637434808727, 3.9326854071268667, 3.9310417209028286, 3.9298134931667814, 3.9289662252875805, 3.9284540367761127, 3.9282236965730912, 3.92821844731452, 3.9283813971332093, 3.928658336405265, 3.928999908160743, 3.929363119531672, 3.9297122280875407, 3.9300190715900554, 3.93026293275391, 3.930430042472542, 3.930512826786555, 3.9305089965045714, 3.9304205661712284, 3.9270367727397546, 3.930536702120149, 3.934222067133096, 3.938057287887804, 3.9420007978875105, 3.9460056475201726, 3.95002017130469, 3.9539886222808662, 3.957851691220677, 3.961546864261115, 3.9650086382793437, 3.9681687230415563, 3.9709565216914333, 3.9733003653540195, 3.9751300647731385, 3.9763811414684085, 3.977000524355962, 3.9769527725079015, 3.976225469511566, 3.9748326151971987, 3.972815467564942, 3.9702409501970926, 3.9671981308150337, 3.9637933621132766, 3.9601445913201125, 3.9563752264245093, 3.9526078673077047, 3.948958189722614, 3.9455292996441824, 3.9424069241393567, 3.9396558248009836, 3.937317761480046, 3.9354111762503177, 3.933932541699609, 3.932859097506786, 3.9321525554049033, 3.9317633115476434, 3.931634746924879, 3.931707281299773, 3.9319219412784734, 3.9322232913756783, 3.9325616530499263, 3.9328946004882486, 3.9331877738105003, 3.933415089862436, 3.9335584570424946, 3.9336071135116093, 3.9335567088362238, 3.933408240038138, 3.933166937297121, 3.9266970582575063, 3.9301486622873325, 3.9337814261659036, 3.9375606012863917, 3.9414458982418576, 3.945392178192822, 3.9493502028164618, 3.95326733214893, 3.9570880644551165, 3.960754334060574, 3.9642055317622154, 3.967378313035141, 3.9702064495055964, 3.972621268720685, 3.974553489601883, 3.9759371614746195, 3.976715677853212, 3.976848768884921, 3.9763187642954874, 3.9751346775643825, 3.973333473941927, 3.970978670962509, 3.968156846595737, 3.9649727053595214, 3.9615432470713268, 3.957991447936273, 3.9544397751300773, 3.951003833967107, 3.9477864805219873, 3.944872789327109, 3.942326293234681, 3.9401868546194563, 3.938470357949208, 3.937170167526544, 3.936260054142574, 3.935698139689314, 3.9354313672070296, 3.93540005052578, 3.935542148000135, 3.9357970041043275, 3.936108394598255, 3.936426791946018, 3.9367108381384845, 3.936928071627792, 3.937055001530572, 3.9370766530902723, 3.9369857226103204, 3.9367814790657136, 3.936468536781642, 3.936055603275267, 3.9265068485198142, 3.92990038017263, 3.933468508953848, 3.9371773432452257, 3.940987946841129, 3.9448571183493732, 3.948738229734254, 3.952582004729576, 3.9563371135754277, 3.9599504661668403, 3.9633671083469055, 3.9665296944145827, 3.96937769067438, 3.971846851386259, 3.9738700454767604, 3.975380676707584, 3.9763190076410875, 3.976640042995049, 3.9763207413977533, 3.9753648001392174, 3.9738043426286014, 3.9716987273985653, 3.9691311223336085, 3.966203540777913, 3.963030914173527, 3.959734631273858, 3.956435880376544, 3.953249107455366, 3.950275938400111, 3.9475999739137944, 3.9452828963148403, 3.943362268832507, 3.9418512315281533, 3.9407400393203074, 3.9399991351713575, 3.939583289131588, 3.9394362898035116, 3.9394957212779143, 3.9396974487503114, 3.939979535139383, 3.940285404631534, 3.9405661552750715, 3.9407820022016677, 3.94090290354179, 3.9409084774477563, 3.940787355678527, 3.940536134808567, 3.9401580823081552, 3.9396617366186395, 3.9390595140934974, 3.9264952843809353, 3.929824440762553, 3.9333197006719423, 3.9369480570212376, 3.9406719879255805, 3.944450316240265, 3.9482391315248373, 3.951992651961472, 3.955663892546403, 3.9592049976459474, 3.9625670914255617, 3.965699518869631, 3.9685484697913678, 3.9710553901844783, 3.973156475823895, 3.974785294362579, 3.9758794688899344, 3.976389629810167, 3.9762876039803934, 3.9755718152648494, 3.974269321998968, 3.9724348257406463, 3.970147347298693, 3.967505286696425, 3.964620456037369, 3.9616115312682467, 3.958597276431271, 3.9556898702705356, 3.9529886993047896, 3.950575040066697, 3.9485080816271587, 3.946822678298002, 3.945529043353964, 3.9446143333509474, 3.944045817223509, 3.943775158067789, 3.9437432860537327, 3.943885380677464, 3.944135563561527, 3.9444309966441646, 3.9447151732371992, 3.944940281349049, 3.9450686103391672, 3.945073057986245, 3.9449368653134, 3.9446527517099175, 3.9442216394844922, 3.943651148428256, 3.9429540152602454, 3.9421465588592093, 3.926689377320412, 3.929951554324298, 3.93336985134233, 3.936912185079547, 3.940542506662205, 3.9442217268052797, 3.9479087056408075, 3.9515611852066965, 3.955136526950448, 3.958592099388785, 3.961885136997265, 3.964971865189056, 3.9678057079040316, 3.970334692256612, 3.97249933412799, 3.9742341350507457, 3.9754747468936205, 3.9761681717642983, 3.97628181541783, 3.9758093066868603, 3.974772776228706, 3.9732220533362477, 3.9712314880843627, 3.968895100598343, 3.9663206422461723, 3.9636230250656213, 3.9609174915116863, 3.958312874475359, 3.955905328233516, 3.953772962509957, 3.951971832427859, 3.9505336715023733, 3.949465577896698, 3.9487516102074927, 3.9483560002913833, 3.948227524555466, 3.948304517871355, 3.9485200407393166, 3.9488067785392547, 3.9491013333573166, 3.9493476567815136, 3.9494994699090626, 3.9495216249616605, 3.9493904708806378, 3.9490933749316492, 3.9486276078830422, 3.947998816599894, 3.9472192913994197, 3.946306199046757, 3.94527990854125, 3.927113130699987, 3.930309458459886, 3.9336509089312357, 3.9371063758810907, 3.9406413445664183, 3.9442188638716154, 3.947800581121049, 3.9513477194547604, 3.9548218590063167, 3.958185360754443, 3.961401238116878, 3.9644322307620024, 3.967238781116483, 3.9697757062350076, 3.9719884735128406, 3.9738133082197025, 3.975184958397566, 3.976048107308629, 3.9763669547020313, 3.9761312127134807, 3.9753585424410827, 3.974093949934176, 3.972406810041133, 3.9703861768492494, 3.9681349472348058, 3.9657633392714273, 3.9633820765249297, 3.961095650176701, 3.9589960560560673, 3.957157443756025, 3.9556321234441136, 3.954448304770112, 3.953609771573051, 3.9530974576835325, 3.9528726552711335, 3.9528814255235085, 3.9530597152842133, 3.953338691203456, 3.953649848871489, 3.9539295161888175, 3.954122447640465, 3.9541843092069238, 3.9540829837842106, 3.9537987660474965, 3.953323632314665, 3.9526598390448187, 3.9518181166102946, 3.9508156954765896, 3.949674350501658, 3.9484185934959464, 3.9277867885927487, 3.9309219456943985, 3.9341906711051853, 3.9375628953525847, 3.941005694522037, 3.9444842887334746, 3.94796309527642, 3.9514067180099723, 3.9547807333081435, 3.9580521066481547, 3.961189035226572, 3.9641599533530436, 3.9669313582227814, 3.969464087922902, 3.971708550321483, 3.9736036910353847, 3.9750851052741076, 3.9760970454886024, 3.9766020958918062, 3.9765872019847204, 3.9760662512410456, 3.975079702796116, 3.973691869533372, 3.9719864570046948, 3.9700609004099032, 3.9680199629950934, 3.9659690046707263, 3.964007314497739, 3.962221918960475, 3.9606823039236567, 3.959436482073174, 3.9585087606833196, 3.9578994030770067, 3.9575861597549618, 3.957527432143545, 3.957666678840614, 3.9579376002080733, 3.9582696238643513, 3.9585932307552123, 3.958844693998262, 3.9589698607311026, 3.958926712764561, 3.958686600984673, 3.95823423182861, 3.9575666383187307, 3.9566914504523827, 3.955624783621713, 3.954389013563506, 3.9530106348871366, 3.9515183312497135, 3.9287262436885326, 3.9318080747058546, 3.9350117507155273, 3.9383082886436545, 3.941666389546377, 3.9450534418197813, 3.9484365643061996, 3.951783571813167, 3.9550637216116797, 3.9582480697939224, 3.9613092241922963, 3.9642202201450623, 3.9669521715765996, 3.969470364291914, 3.9717294400125542, 3.9736723157124767, 3.9752377218331305, 3.9763716521860886, 3.9770368225365478, 3.977218708929127, 3.976928297127872, 3.9762019816538117, 3.9750991508217974, 3.9736980082965156, 3.972090144816458, 3.9703743216842176, 3.968649889614522, 3.96701025564788, 3.9655368217982008, 3.9642938301447135, 3.963324528119099, 3.9626489857334537, 3.962263745904444, 3.962143295105406, 3.9622431526445046, 3.9625042362469074, 3.9628580830452025, 3.963232471320419, 3.963556972335455, 3.9637679541740805, 3.963812584714175, 3.963651482440341, 3.9632598607218554, 3.962627258473771, 3.9617561566785158, 3.9606598767455585, 3.959360140753609, 3.957884591914776, 3.9562644768807376, 3.9545326090187594, 3.929942620758775, 3.9329816046031185, 3.9361308268372834, 3.9393624093477624, 3.9426466660269766, 3.9459530882747935, 3.9492513487927607, 3.952512206294534, 3.9557081676372645, 3.9588137317363943, 3.9618049969792057, 3.964658361971439, 3.9673480215446055, 3.9698421593169213, 3.9720989618961244, 3.9740662626605294, 3.9756878861712925, 3.9769135968622376, 3.977707980128565, 3.9780564218248653, 3.9779680285390073, 3.9774758133643133, 3.9766346108178063, 3.9755172190257295, 3.974209254533422, 3.9728031763695353, 3.9713919135209546, 3.9700625232423103, 3.968890311554045, 3.9679338441252403, 3.9672312411398067, 3.9667980638407028, 3.96662696110587, 3.966689073812162, 3.966937030759572, 3.9673092449533764, 3.967735141119826, 3.968140895749291, 3.968455221242734, 3.968614667588317, 3.96856788799398, 3.968278399175194, 3.967725612046338, 3.9669042490532256, 3.9658225440478905, 3.9644997270041835, 3.962963242013263, 3.9612460198775277, 3.959384000943815, 3.95741401043342, 3.93144203525657, 3.9344506660514003, 3.9375582151314363, 3.940737877645504, 3.9439615014183285, 3.9472005320368275, 3.950426948542627, 3.953614072465739, 3.9567371062555217, 3.9597732261194127, 3.96270101984034, 3.9654990389145586, 3.9681432990787777, 3.9706039490231646, 3.9728424398357682, 3.974811880723203, 3.976462243312942, 3.977748553730086, 3.9786387994795156, 3.9791196429605247, 3.97919943613818, 3.97890866925853, 3.978298216426871, 3.977435816604743, 3.9764012439285454, 3.9752806149853366, 3.9741602726677616, 3.973120683480978, 3.9722307829284667, 3.9715431880165704, 3.971090649775103, 3.970884030090544, 3.9709119583839056, 3.9711421743972557, 3.971524423185927, 3.9719946611088366, 3.97248026029075, 3.972905841852397, 3.9731992897875075, 3.973297380609833, 3.973150359146423, 3.972724833283849, 3.972004664032769, 3.9709900041372186, 3.9696950189337348, 3.9681449264638644, 3.9663728741052537, 3.9644169817805377, 3.9623177279132986, 3.960115756381208, 3.933225509185832, 3.9362176540478893, 3.939297745369076, 3.9424399580660276, 3.9456175187454465, 3.9488035893208164, 3.951972109679451, 3.9550984840725025, 3.958159971932035, 3.9611356201708428, 3.964005559473366, 3.9667495131399604, 3.9693445183134037, 3.9717622937372, 3.9739674681344157, 3.975918416158289, 3.9775715610764655, 3.9788879967922286, 3.9798402350991426, 3.98041741269223, 3.9806282474387817, 3.9805016696615154, 3.9800853615618643, 3.979442568485609, 3.9786475965491817, 3.977780429099948, 3.9769209009544113, 3.976142870933902, 3.9755088261774847, 3.975065326031064, 3.974839638033079, 3.9748378282699166, 3.975044448892368, 3.9754238346040824, 3.9759229009757915, 3.9764752481371763, 3.97700631367714, 3.9774392638584963, 3.977701216698712, 3.977729215183471, 3.9774751585362838, 3.9769088601160294, 3.976018768633625, 3.9748105625307106, 3.9733043421659286, 3.971531216871145, 3.9695298612977368, 3.9673433584694973, 3.9650164730966613, 3.9625934058551318, 3.93528901094064, 3.9382793004140098, 3.941346890908799, 3.944466781005349, 3.9476133495164416, 3.950761161094402, 3.9538856989963675, 3.956963915527033, 3.959974473497758, 3.9628975417546686, 3.9657140190714033, 3.968404128605579, 3.9709455134156366, 3.9733113329279592, 3.975469323036615, 3.9773829179388613, 3.97901486365643, 3.9803325703344923, 3.981313727111727, 3.981950851556441, 3.9822540242112394, 3.9822515837320664, 3.981988886559231, 3.9815254098846546, 3.9809305640991917, 3.9802786244770973, 3.979643213439622, 3.9790917714980356, 3.9786804448917823, 3.978449784689652, 3.978421590085065, 3.978597137603614, 3.978956926275111, 3.9794619528127275, 3.980056429668217, 3.980671786041008, 3.9812317461165048, 3.9816582349666354, 3.981877765499856, 3.981827738682423, 3.981461754168551, 3.980752854856082, 3.979694055585629, 3.9782964461954275, 3.9765858397383402, 3.9745989328691085, 3.97237958347001, 3.969975487402168, 3.9674353582046353, 3.964806635475609, 3.937623575432918, 3.9406268654760765, 3.9436970651707624, 3.946809787569195, 3.9499402828611507, 3.9530641564409126, 3.9561579856145066, 3.9591997362759, 3.9621688736152345, 3.965046066293688, 3.967812417129937, 3.9704482429948347, 3.9729316051494097, 3.9752370576119516, 3.9773353228794748, 3.97919457381737, 3.9807835196150894, 3.9820757664999586, 3.983054433344676, 3.9837160010940824, 3.9840727062250747, 3.9841531788453035, 3.9840013285999887, 3.9836736764546044, 3.983235446324819, 3.9827557975185215, 3.9823026152975873, 3.981937289490459, 3.981709899647438, 3.9816551867780503, 3.9817896250463867, 3.982109815777247, 3.9825923209844927, 3.9831949496132486, 3.983859422817588, 3.984515285577835, 3.985084899145553, 3.985489319050613, 3.985654777470752, 3.985519244290621, 3.9850380868288746, 3.984187498162881, 3.9829648257622585, 3.9813861886180195, 3.979482627607745, 3.9772959058058217, 3.9748745610590484, 3.9722704446003774, 3.969535813851872, 3.9667209891235777, 3.9402154578238022, 3.943246381829198, 3.94633398970303, 3.9494542635310923, 3.9525830140580696, 3.9556965097207097, 3.9587719817290425, 3.961787921711037, 3.964724092159881, 3.967561189165667, 3.970280144023706, 3.9728611416283295, 3.9752825778843075, 3.9775203495760447, 3.9795479776380587, 3.981337975517923, 3.982864530182783, 3.9841070977546247, 3.9850541823483105, 3.9857065177507094, 3.986079058483934, 3.986201464235642, 3.9861170179756633, 3.9858801114195304, 3.9855525633437314, 3.985199120832156, 3.984882542363707, 3.9846586798990056, 3.9845719654520404, 3.9846516658393436, 3.984909199731716, 3.9853367207372385, 3.9859070706653728, 3.9865751127734943, 3.987280379308875, 3.9879509194392067, 3.988508210710249, 3.988872978574845, 3.988971695674053, 3.9887432835614063, 3.988145002498418, 3.9871560029346833, 3.9857774793312815, 3.9840299010653784, 3.981948790526102, 3.9795802613634095, 3.9769768973924218, 3.9741941665457117, 3.9712874177613493, 3.9683094672462462, 3.9430462792481262, 3.9461188891492474, 3.949238047258401, 3.9523798431432597, 3.9555203328404653, 3.9586360847421167, 3.961704585579861, 3.964704440766326, 3.9676153172627595, 3.9704176062688443, 3.9730918346144386, 3.9756179339518503, 3.9779745811501224, 3.980138921797691, 3.982087019938976, 3.98379527389547, 3.985242788532047, 3.9864143848362894, 3.9873036988401047, 3.9879157664061986, 3.9882685986978337, 3.988393449833995, 3.9883336876613016, 3.9881423579840223, 3.987878669012385, 3.987603717650627, 3.9873758367385572, 3.987245964844271, 3.987253428553222, 3.987422483210166, 3.9877598867974164, 3.9882536923332643, 3.988873349494259, 3.989571119837157, 3.9902847437122797, 3.9909412569810856, 3.991461838780706, 3.9917675573433278, 3.9917858117203155, 3.991457016657346, 3.9907405124857958, 3.989618107982885, 3.9880941257839755, 3.9861924529062414, 3.983952140990538, 3.9814227946767797, 3.978660317496265, 3.9757231995291105, 3.9726693962821766, 3.969553815688716, 3.94609313495611, 3.94922061535238, 3.9523845565728855, 3.9555608978342116, 3.9587256432836053, 3.9618553362100553, 3.9649273830905027, 3.9679201798174537, 3.970813014771714, 3.9735857583484746, 3.9762183983256865, 3.9786905443463008, 3.980981092956184, 3.9830682921276024, 3.9849304331806006, 3.986547297042894, 3.9879022962661073, 3.988985040847987, 3.9897938969581146, 3.9903380607121717, 3.9906387373713357, 3.990729160545187, 3.9906533569337617, 3.990463723631854, 3.9902176184393676, 3.9899732621664685, 3.9897853137092683, 3.989700503163522, 3.9897536960197364, 3.989964715688566, 3.990336179265856, 3.990852513486678, 3.9914802275397556, 3.992169439916279, 3.9928565977341814, 3.9934682930335033, 3.9939260659094877, 3.994152066513087, 3.9940753688899804, 3.9936384721098643, 3.9928029878247027, 3.991553015634267, 3.9898951672844203, 3.987855688791877, 3.9854761042484816, 3.9828085714866845, 3.9799115320803287, 3.976845865799863, 3.97367162384362, 3.9704453823969703, 3.9493286518545596, 3.952523081857914, 3.955743936356453, 3.958966767240549, 3.9621672649783117, 3.9653216760639247, 3.968407063767628, 3.9714013810014137, 3.9742833529919994, 3.977032205319816, 3.979627317869604, 3.982047932642108, 3.984273082576719, 3.986281921436239, 3.9880546000975348, 3.989573739986647, 3.9908264112377902, 3.9918063702760183, 3.992516199756722, 3.9929689598979516, 3.993189010267834, 3.9932117738749024, 3.993082358637392, 3.992853096053456, 3.992580183568416, 3.992319714511047, 3.992123441544575, 3.9920346435287057, 3.9920844517159577, 3.992288943368601, 3.9926472376116795, 3.9931407417030726, 3.9937336095513216, 3.994374400649932, 3.994998874921558, 3.995533828804556, 3.9959018616028863, 3.996026932745076, 3.9958404732398503, 3.995287555496106, 3.9943321707020067, 3.9929603267801066, 3.9911801223580303, 3.9890191411479434, 3.986520334848199, 3.9837374660937717, 3.9807307109529737, 3.9775626819543137, 3.9742949917635024, 3.970985439053412, 3.952721000534345, 3.955993134814579, 3.9592817578399773, 3.9625618314007545, 3.9658085176077242, 3.9689975560784876, 3.972105479402259, 3.975109649085193, 3.9779881282247076, 3.9807194465976217, 3.983282353741248, 3.985655689152748, 3.9878185162597903, 3.989750656304696, 3.991433709265671, 3.9928525596386812, 3.9939972487498525, 3.994864980631911, 3.995461948877398, 3.995804651488931, 3.9959204049607955, 3.9958468649275116, 3.995630486180052, 3.9953239864192613, 3.9949829970401485, 3.994662177421162, 3.9944111283559125, 3.9942704612392315, 3.994268362456974, 3.9944179419076065, 3.9947155801398373, 3.9951404030298447, 3.9956549299485884, 3.9962068725516833, 3.996732013171817, 3.9971580631209047, 3.9974093799606822, 3.997412380790412, 3.997101375805794, 3.996424305353015, 3.995347520948356, 3.993858576661714, 3.9919663920629342, 3.9896990207936676, 3.98709990439109, 3.984223513820688, 3.9811309690076806, 3.9778859500832304, 3.9745510791476075, 3.9711849092216145, 3.956233883712991, 3.9595929261161484, 3.962958713231844, 3.9663054576000842, 3.9696076322429343, 3.97284032444134, 3.975979422384649, 3.979001626166271, 3.981884313013845, 3.9846053277048936, 3.9871428055483786, 3.9894751589587636, 3.9915813608952435, 3.9934416316885044, 3.995038576558809, 3.996358733934591, 3.9973943941674777, 3.998145457154751, 3.998621039695032, 3.9988405356647805, 3.998833877780601, 3.9986408393345605, 3.998309330263057, 3.9978927645202496, 3.997446687442642, 3.99702493913184, 3.996675683784585, 3.996437650805387, 3.9963369117498364, 3.9963844631317915, 3.9965748090640996, 3.996885652809401, 3.9972787260989695, 3.997701720113476, 3.9980912369800863, 3.998376651766643, 3.998484747702245, 3.9983449343262905, 3.997894741982402, 3.9970850832738116, 3.9958845409083747, 3.994281882390662, 3.9922863290596786, 3.989925721534257, 3.9872432068293833, 3.9842931637945584, 3.9811369106496994, 3.9778385414285875, 3.9744611285768636, 3.9710634945517596, 3.95982653643839, 3.963279885241688, 3.9667305487563507, 3.9701518806877276, 3.9735175612563594, 3.9768019442118785, 3.9799802297329547, 3.9830284590065492, 3.9859233687008424, 3.988642187416803, 3.9911624922141837, 3.993462261775423, 3.9955202552123175, 3.997316806968666, 3.998835059864245, 4.000062569008137, 4.0009931154293366, 4.0016284903309325, 4.001979967955072, 4.002069188964907, 4.001928228081427, 4.001598710191889, 4.001129952265583, 4.0005762260645525, 3.9999933422833993, 3.9994348373934514, 3.998948091385057, 3.9985707137331516, 3.9983275072426885, 3.9982282611614117, 3.998266546810234, 3.9984196043512212, 3.9986493312893248, 3.9989043214112403, 3.9991228600919837, 3.9992367525373447, 3.999175830144989, 3.998872923001725, 3.9982689798885254, 3.9973178613042344, 3.9959901888273497, 3.994275639195694, 3.992183328131497, 3.9897403557047975, 3.9869889387867823, 3.983982672684727, 3.980782390876512, 3.9774519736531024, 3.974054388391003, 3.9706482338836877, 3.963453782145137, 3.9670067340825925, 3.9705480244419658, 3.974050091217523, 3.9774857755632658, 3.9808286784875824, 3.984053334577899, 3.9871351970393976, 3.9900504745000607, 3.9927759087591266, 3.9952886225776543, 3.997566185424792, 3.99958703270068, 4.0013313262321715, 4.002782265221787, 4.003927760396003, 4.004762289030961, 4.00528867569299, 4.005519510131618, 4.005477928701249, 4.005197547286782, 4.004721430798439, 4.004100099968041, 4.003388692285635, 4.002643494572525, 4.001918137990448, 4.001259784817065, 4.000705637284311, 4.000280064246534, 3.9999925783907875, 3.9998368162373903, 3.9997905886160283, 3.9998169931996665, 3.9998665215634657, 3.9998800527988023, 3.999792597168048, 3.9995376217182645, 3.999051736072353, 3.99827942784701, 3.997177424950249, 3.995718180148659, 3.9938920055066323, 3.991707578606342, 3.9891908392247357, 3.986382552652223, 3.983334932138897, 3.980107701558868, 3.9767639261312944, 3.9733659187377177, 3.9699715584801942, 3.967066192525659, 3.970721601923435, 3.9743569688213825, 3.9779438124465605, 3.9814541448230467, 3.9848608537296797, 3.9881378927352182, 3.9912602641590142, 3.994203830059562, 3.996945042653174, 3.9994607352534004, 4.001728140801621, 4.003725292818863, 4.005431908040081, 4.006830758500989, 4.007909431430033, 4.008662271584569, 4.00909222608801, 4.009212283914897, 4.009046228102855, 4.008628493627929, 4.008003032719652, 4.007221212220878, 4.006338884850567, 4.005412872460045, 4.004497164456972, 4.003639163330517, 4.0028763008458945, 4.002233306441431, 4.001720341365235, 4.001332129429248, 4.001048130980548, 4.0008337327309125, 4.00064237012355, 4.00041846180547, 4.000101010415999, 3.999627696537078, 3.9989392479799166, 3.997983797792392, 3.9967208658879136, 3.9951245525072423, 3.9931855690380837, 3.9909118750767636, 3.988327898918557, 3.9854725072800314, 3.9823959950270633, 3.979156388057076, 3.9758153454176575, 3.972433970704339, 3.969068920433405, 3.9706103989715875, 3.9743682977667176, 3.9780984967516084, 3.9817716470839932, 3.9853589957474376, 3.9888328118429706, 3.992166610933531, 3.9953351465620197, 3.998314188553201, 4.001080174792225, 4.00360989067762, 4.005880372622364, 4.007869225370338, 4.009555479538401, 4.010921007021851, 4.01195238257567, 4.012642959940239, 4.012994848200434, 4.0130204483547685, 4.0127432477141145, 4.0121976618960495, 4.011427840025027, 4.010485482939209, 4.009426844493233, 4.008309177556055, 4.0071869416882056, 4.006108106903221, 4.005110869231656, 4.004221044011011, 4.003450330203728, 4.002795554824784, 4.002238923328753, 4.001749230829753, 4.0012839372758995, 4.000791977547235, 4.000217157892201, 3.9995019704451393, 3.9985916245495883, 3.9974380424571994, 3.996003510503841, 3.9942636464792525, 3.992209374441805, 3.9898477014597846, 3.9872012391305383, 3.9843065533766775, 3.98121151719006, 3.977971879764746, 3.974647287627094, 3.9712970518275865, 3.967976081721676, 3.974029600472692, 3.9778867941421603, 3.981709455029422, 3.9854674704153816, 3.989131438588969, 3.992673155907712, 3.9960658973842826, 3.999284433482535, 4.002304773103096, 4.005103703900082, 4.007658297928306, 4.009945621800001, 4.011942895783265, 4.013628273213141, 4.014982278958077, 4.015989788522266, 4.016642285427989, 4.016940037452938, 4.016893805788939, 4.016525752011122, 4.0158693222366635, 4.014968036636673, 4.013873262052035, 4.012641169735286, 4.011329165570284, 4.009992123516981, 4.008678757311319, 4.007428435689721, 4.006268689052903, 4.005213579047131, 4.00426301788854, 4.003403043380064, 4.00260698903837, 4.001837442864825, 4.0010488630460275, 4.000190707359695, 3.9992109230766286, 3.99805962282814, 3.9966927337494718, 3.9950753619846266, 3.993184587383119, 3.9910114209672924, 3.9885617297188296, 3.985856041052165, 3.9829282475594483, 3.9798233119900255, 3.976594118878358, 3.9732976589811617, 3.96999081475299, 3.9667261821305138, 3.9772643085095836, 3.981213972140582, 3.9851231555753595, 3.988961140522205, 3.9926980446564784, 3.996305385968103, 3.999756446053087, 4.003026338186901, 4.006091720492943, 4.008930191985016, 4.011519552945842, 4.0138372306609, 4.015860195137164, 4.0175656007575204, 4.01893222405783, 4.01994257474467, 4.020585381812987, 4.020858038641962, 4.020768560318871, 4.020336672454683, 4.01959379401108, 4.018581855427842, 4.017351062261232, 4.015956842546685, 4.0144562923785765, 4.012904462490158, 4.011350817924226, 4.009836161742362, 4.008390249526211, 4.007030242368585, 4.005760062404667, 4.004570638119294, 4.0034409665986335, 4.002339882093542, 4.001228404037279, 4.0000625358075705, 3.99879638567248, 3.9973854698692963, 3.9957900271301643, 3.9939781310666502, 3.991928353828145, 3.989631736559464, 3.9870928696643526, 3.9843299662615954, 3.9813738993286747, 3.978266244499979, 3.975056421962512, 3.9717980828909867, 3.968544984176689, 3.965346789988389, 3.9802533634571233, 3.984284671849388, 3.988270450310317, 3.9921795896916312, 3.995981949236111, 3.9996490105729294, 4.0031543532658365, 4.006473812523698, 4.009585181628037, 4.012467433123081, 4.01509965154271, 4.017460069675163, 4.019525646472813, 4.02127250600795, 4.022677346200865, 4.023719691547253, 4.024384652010157, 4.024665704126036, 4.024566970867683, 4.02410456001768, 4.023306700800313, 4.022212635678625, 4.020870416132702, 4.019333881119534, 4.017659159752059, 4.015901049311618, 4.014109592693698, 4.012327127375443, 4.010586008213442, 4.008907125971983, 4.007299262147207, 4.005759249681386, 4.004272858052551, 4.002816294385415, 4.001358207475103, 3.9998620905163658, 3.998288987685284, 3.9966004047342736, 3.9947612949555764, 3.992742944265152, 3.9905255346996817, 3.988100151005268, 3.9854700229614832, 3.982650857801191, 3.979670191183389, 3.9765657530814527, 3.9733829024387863, 3.970171248466293, 3.9669806885920944, 3.9638573025216877, 3.982935247042592, 3.987033083299474, 3.991081193397876, 3.995048352156237, 3.998904443251647, 4.002621205483826, 4.006172847611245, 4.009536347872093, 4.012691186009098, 4.015618364420185, 4.018298917475544, 4.020712440992163, 4.022836235274143, 4.024645475207931, 4.026114554792659, 4.027219480258236, 4.027940935111455, 4.028267457131798, 4.028198111027757, 4.027744141920935, 4.026929321008576, 4.025788959981765, 4.02436778846539, 4.022717016595414, 4.0208909486092335, 4.018943500979067, 4.016924935373876, 4.014879055696959, 4.012841044728433, 4.010836034840407, 4.008878428647088, 4.006971921677986, 4.005110139940267, 4.0032777932565295, 4.0014522552381075, 3.9996055013589458, 3.997706353033667, 3.99572297240896, 3.9936255196644836, 3.9913888268581457, 3.988994883127854, 3.986434894812696, 3.983710696114528, 3.9808353347415077, 3.9778327237954056, 3.9747363196907326, 3.9715868521960176, 3.9684292110579373, 3.9653087194819427, 3.962267236301936, 3.9852496974157186, 3.9893944956827503, 3.9934861205382792, 3.997493568096812, 4.001387100406173, 4.00513907061736, 4.008724689093773, 4.01212252607842, 4.01531434500877, 4.018283907910275, 4.021014948513751, 4.023489074459089, 4.025684391400206, 4.02757534303529, 4.0291339441915826, 4.030332290629045, 4.031145941054236, 4.031557533458448, 4.031559911818635, 4.031158157719902, 4.0303702041107545, 4.029226031821389, 4.027765693734815, 4.026036531070223, 4.024089965172952, 4.02197821281709, 4.019751216437879, 4.017454014325776, 4.015124699755386, 4.012793035358974, 4.010479711537314, 4.008196181353887, 4.005944980461765, 4.003720449114177, 4.001509802920988, 3.999294532640185, 3.9970521335691624, 3.994758157358014, 3.992388535477386, 3.989922051282312, 3.987342762249285, 3.9846421271679393, 3.9818205919799206, 3.9788884276635494, 3.9758656772133203, 3.9727811417074523, 3.9696704137870356, 3.966573061721125, 3.9635292048184696, 3.9605759216175174, 3.9871396030461748, 3.9913073908486534, 3.9954191446131535, 3.9994444766805235, 4.003354461063166, 4.007122508019075, 4.0107252595511325, 4.014143344164016, 4.0173614235897865, 4.020366780825424, 4.023146624210607, 4.025685266027474, 4.027962182040393, 4.0299514679442865, 4.031622890931758, 4.032944454614321, 4.033886070166306, 4.034423625798031, 4.034542612477735, 4.034240594453445, 4.033528161245192, 4.0324283876205556, 4.030975095933548, 4.029210318508917, 4.027181348611923, 4.024937713664989, 4.022528341692331, 4.019999126044101, 4.017391015700993, 4.014738670009685, 4.012069634938943, 4.009403947192182, 4.006754068163391, 4.004125087302712, 4.00151519156037, 3.998916446446714, 3.99631595373826, 3.993697430053922, 3.991043188519706, 3.9883364151175553, 3.985563539948247, 3.982716443399312, 3.9797942254911662, 3.976804299941269, 3.9737626379640867, 3.9706930672792993, 3.967625624536793, 3.964594070668693, 3.9616328228246465, 3.958773734825139, 3.98855310678378, 3.992715815252566, 3.996820012972305, 4.000836362075998, 4.004737254515784, 4.008497707196629, 4.012096324153098, 4.015516286449228, 4.018745750648543, 4.021776236063073, 4.024599123408072, 4.027202099880535, 4.0295666650924735, 4.031667146901414, 4.0334714651713375, 4.034943637920604, 4.036047657444785, 4.036751979696855, 4.037033667353672, 4.036881358856817, 4.036296651652733, 4.035293945512442, 4.03389907473329, 4.032147137831882, 4.030079899881216, 4.027743079756716, 4.02518377879793, 4.022448249559626, 4.01958012222658, 4.01661910267198, 4.013600058964715, 4.010552362696878, 4.007499372218558, 4.004458025247464, 4.001438605721271, 3.99844481737548, 3.9954743082901523, 3.992519745053307, 3.9895704453310183, 3.9866144651585373, 3.983640931343106, 3.9806423389524035, 3.977616514415482, 3.9745679738650814, 3.9715084717898206, 3.968456624953331, 3.9654366043028095, 3.962476012786814, 3.9596032110482584, 3.9568445024632792, 3.989445795538044, 3.9935718913826816, 3.997637183422945, 4.001613825133312, 4.005476067865784, 4.0092011753295935, 4.0127703966212165, 4.016170060145951, 4.019392359639809, 4.022433572318552, 4.025289739884334, 4.027952522851711, 4.030406183732325, 4.032626082554769, 4.03457900884496, 4.036225457976869, 4.037523556040068, 4.038433867612916, 4.038924033531741, 4.038972298806732, 4.038569459447261, 4.037719268252946, 4.036437623340249, 4.034750918614098, 4.03269389425683, 4.030307277309891, 4.0276354728633095, 4.024724524815971, 4.021620475422076, 4.018368117901024, 4.015010004088268, 4.011585507926566, 4.008129798812779, 4.004672724550023, 4.001237762362552, 3.9978412874550227, 3.9944924009438023, 3.9911934718214694, 3.9879414185113418, 3.9847296184209506, 3.9815502164745364, 3.9783965276980955, 3.9752652054584368, 3.9721578741593078, 3.9690819939018036, 3.966050824352581, 3.9630824765605266, 3.960198176577337, 3.9574200033951517, 3.9547684842940245, 3.9897827977385947, 3.993838248071302, 3.9978306548405684, 4.001734090203802, 4.0055251943752, 4.009184132090332, 4.01269558611534, 4.016049844815155, 4.019243600764661, 4.022278014068209, 4.025154026030985, 4.027867795896865, 4.030407155709637, 4.032749499346369, 4.034861523072395, 4.036701051681303, 4.038220772350616, 4.039373167674314, 4.040115566686151, 4.040414294628635, 4.040247374149893, 4.039605752723951, 4.038493299243282, 4.036925858868587, 4.034929641751063, 4.032539225165706, 4.029795468859933, 4.026743624579406, 4.0234318134108324, 4.0199098551027115, 4.016228234593923, 4.012436897601612, 4.008583662349199, 4.004712283443725, 4.000860458573754, 3.9970581874290665, 3.9933268436306055, 3.9896791671659098, 3.9861202038635666, 3.9826490562657617, 3.9792611870034102, 3.9759509407088505, 3.9727139274686345, 3.9695489383338267, 3.966459135791591, 3.9634523706065528, 3.9605406089596626, 3.95773859483527, 3.9550620032684187, 3.9525254358752995, 3.9895405840315026, 3.993490096443193, 3.9973743827749417, 4.0011698509324, 4.004856034419338, 4.008416610982725, 4.011840434468824, 4.015122535486554, 4.0182644454709475, 4.02127211732766, 4.02415147061281, 4.026903588139223, 4.029520666593911, 4.031983250128835, 4.0342592340727705, 4.036304987042711, 4.038068567056064, 4.039494475853005, 4.040528965264173, 4.04112487489486, 4.041245353222537, 4.040866260452347, 4.039977290903728, 4.038581934690841, 4.036696473398101, 4.034348308973051, 4.03157401724637, 4.028417523971905, 4.024928666799638, 4.021162135837688, 4.017176473465317, 4.013032647378426, 4.0087918576298165, 4.004512655163447, 4.000247857512725, 3.9960418924638343, 3.991929069766412, 3.9879330267244124, 3.984067350285148, 3.9803371966548755, 3.9767416099542983, 3.973276174857914, 3.9699356201052667, 3.966716019337388, 3.9636163112774776, 3.9606389763015644, 3.9577898465525716, 3.955077170368072, 3.9525101741018447, 3.9500974412253376, 3.9887082889945638, 3.99251670349067, 3.9962579254854784, 3.9999111176433875, 4.003459187024287, 4.006889858951395, 4.010196694648591, 4.013379847823012, 4.016445868112077, 4.019405534236388, 4.0222697660693, 4.025044845715016, 4.027728003549219, 4.030304025205849, 4.032743420241036, 4.035002580734056, 4.037026078599518, 4.0387508206834, 4.040111364681497, 4.041045512230891, 4.041499396882971, 4.04143151133389, 4.040815324431019, 4.039640348805999, 4.037911776129416, 4.03564905109213, 4.032883930173494, 4.029658600215895, 4.026024266192563, 4.0220402456787605, 4.017773121543393, 4.013295186209963, 4.008681609655581, 4.004006460009917, 3.9993383635049145, 3.9947367405951693, 3.990249265323728, 3.985910796559285, 3.981743724702832, 3.9777594924332833, 3.9739609457069456, 3.9703451206578433, 3.966906062315382, 3.9636373033758767, 3.9605337086630503, 3.957592509504136, 3.954813496286043, 3.952198481043752, 3.9497502566710367, 3.9474713426605463, 3.9872884420004797, 3.990922127384834, 3.9944871505487898, 3.997965843526163, 4.001344916043732, 4.004616536833439, 4.007779245793911, 4.010838403782188, 4.0138056096798715, 4.0166965011482185, 4.019526989204472, 4.022308669522076, 4.025044252486908, 4.027723671234384, 4.030321402976676, 4.032795444956668, 4.035088253731023, 4.037129775854843, 4.038842435489939, 4.040147549776669, 4.04097220926671, 4.041255453414991, 4.040952765635096, 4.040038410196035, 4.038505691826859, 4.036365655022621, 4.033644984855689, 4.030383910550911, 4.026634724583256, 4.02246106431436, 4.017937381910277, 4.0131474162244105, 4.008180694551838, 4.003127265284055, 3.9980719300912746, 3.993089321438067, 3.988240589932722, 3.983571887865272, 3.979114494173415, 3.974886265304314, 3.9708940249761224, 3.9671364757780894, 3.963607215027805, 3.9602974718025847, 3.957198259398766, 3.954301756439427, 3.951601874215483, 3.9490941091641396, 3.9467748875244513, 3.944640663529128, 3.9852970820001468, 3.988725215695749, 3.9920840599518974, 3.9953595081595834, 3.998542427192403, 4.0016296822319655, 4.004624878831048, 4.007538521496749, 4.010387165522062, 4.013191221535557, 4.01597146183247, 4.018744697822688, 4.021519246702275, 4.024290736468327, 4.027038676883094, 4.029724134957044, 4.032288901975763, 4.034656793652908, 4.036737871421983, 4.038435747508731, 4.039656761408312, 4.0403188615386885, 4.040358310842918, 4.039733375313754, 4.038425138785994, 4.036436194562833, 4.0337882323435235, 4.030519563862171, 4.026683438686606, 4.022347498395736, 4.017593745503349, 4.0125172700714815, 4.007222062243627, 4.001814226333129, 3.99639464388932, 3.9910529262899876, 3.9858634357367855, 3.9808834116544927, 3.9761529237507833, 3.971696266749931, 3.9675243778076825, 3.9636378469404367, 3.960030097683193, 3.9566903504458333, 3.9536060563995807, 3.9507646060971555, 3.948154258359051, 3.9457643719127193, 3.943585124475038, 3.9416069526527244, 3.9827632960777177, 3.9859589536374758, 3.9890858985352122, 3.992133943745258, 3.995098399286724, 3.99798098526163, 4.000790371897103, 4.003542079409474, 4.006257436802151, 4.008961401132504, 4.011679292250467, 4.014432763151498, 4.017235447632155, 4.020088679011772, 4.0229775159454935, 4.025867170117007, 4.028700111930973, 4.031394989049324, 4.033849513494347, 4.035948733476201, 4.0375771037647255, 4.038630596090127, 4.0390257931309685, 4.0387048767221385, 4.037636881912059, 4.03581627557708, 4.0332601351777635, 4.030005181821048, 4.026105740709867, 4.021633255744081, 4.016676870571854, 4.011342678836242, 4.005748828037001, 4.000016983838776, 3.9942634019529035, 3.988591914755304, 3.9830894389837783, 3.977823828411355, 3.9728436798312834, 3.9681796603147093, 3.96384692085173, 3.959848164148292, 3.9561769456232594, 3.9528208213706484, 3.949764028852705, 3.946989497455488, 3.9444801213854666, 3.9422193579866613, 3.940191311086359, 3.9383805044119327, 3.9797282515648282, 3.982669268938766, 3.985543695187712, 3.988345585903349, 3.99107493274625, 3.9937384247047385, 3.996349770995443, 3.998929363864551, 4.001503073164107, 4.0041000651132554, 4.006749714559392, 4.009477854168771, 4.012302681960819, 4.01523057822894, 4.0182518605044475, 4.0213362363359435, 4.024427837551083, 4.027441153473848, 4.0302618333376365, 4.032756032362655, 4.034786087775264, 4.036226203302268, 4.036973818178445, 4.036955683149312, 4.036129428968944, 4.034482003152247, 4.032026456598238, 4.028798479125532, 4.02485390689048, 4.0202680892055245, 4.015136968338935, 4.009577005820213, 4.003719578669631, 3.9977006366730787, 3.9916504071169303, 3.985685674559333, 3.9799049106060944, 3.974385890420095, 3.9691853381489355, 3.9643401493906194, 3.959869752971691, 3.9557791838515635, 3.952062452540814, 3.9487058301774787, 3.9456907363930704, 3.9429960217427853, 3.940599563468353, 3.938479215853643, 3.9366132472296678, 3.9349804394626995, 3.9762437985052923, 3.9789133893073774, 3.9815203448493284, 3.984063250353245, 3.9865469846397095, 3.9889833024242822, 3.991390930250056, 3.9937949981852365, 3.9962256684906983, 3.9987159174678713, 4.001298559616202, 4.004002721539799, 4.006850011316615, 4.009850530153646, 4.012998601000674, 4.016267684480204, 4.019603776888976, 4.0229180757742355, 4.026084767854946, 4.028951609668387, 4.031359940028572, 4.033163815964845, 4.03424316677415, 4.034510661908768, 4.03391353759966, 4.032431975716342, 4.03007563586111, 4.026879818426747, 4.022902553753205, 4.01822364208098, 4.012945793845964, 4.007194880878301, 4.001113710157087, 3.9948503607207737, 3.9885470095753908, 3.9823317312709374, 3.976313301165178, 3.970578556026959, 3.9651918337234004, 3.9601960369532105, 3.955614886556507, 3.951455943017927, 3.9477139901568252, 3.9443744080955763, 3.9414162264484536, 3.938814645519109, 3.9365429302599657, 3.934573694793555, 3.93287968016647, 3.931434171083066, 3.9723707209004866, 3.9747578412397275, 3.977088325915341, 3.9793655323345853, 3.981599396664564, 3.983806819087498, 3.9860115240025564, 3.988243254979797, 3.9905362181815964, 3.9929267786941196, 3.995450520705145, 3.99813886345481, 4.001015429124845, 4.00409223585617, 4.007365500515503, 4.010810383737627, 4.014373546699098, 4.017963128017202, 4.02144286223377, 4.024644030241782, 4.027389957146261, 4.029517676161065, 4.030892197914755, 4.03141398638615, 4.0310211235444475, 4.029687822261951, 4.02742092886118, 4.0242559249222225, 4.020253744410299, 4.0154994288008155, 4.010102718112728, 4.004197636025467, 3.997935848042256, 3.991474786560538, 3.9849661740070377, 3.9785474653368, 3.9723363093475204, 3.966427603430024, 3.9608926696148496, 3.9557801008472824, 3.9511178482989884, 3.9469161359686464, 3.9431708061455337, 3.9398667321812564, 3.936980994808208, 3.934485606759506, 3.932349676465429, 3.9305410044409785, 3.929027184766874, 3.9277763269076305, 3.968176719807347, 3.9702761831625906, 3.9723271579172894, 3.974337953397307, 3.976323678436114, 3.9783064180227266, 3.9803148497896736, 3.982383190739544, 3.9845494284527083, 3.9868528797323575, 3.9893312095415605, 3.992017096537812, 3.9949347048892885, 3.998095975295381, 4.0014964556430765, 4.005109958549437, 4.008880831711157, 4.012712799989981, 4.016460808765181, 4.0199438963120375, 4.022972274356655, 4.0253701819297225, 4.02699090627238, 4.027724903621065, 4.027502489054151, 4.026292730027167, 4.0241001758850095, 4.020960926431534, 4.016939322338679, 4.012126139782135, 4.006638076996524, 4.00061589113121, 3.9942175154596318, 3.9876068967841856, 3.980942779764072, 3.9743699485889827, 3.968013348842672, 3.9619747947017334, 3.9563318282900943, 3.9511382937801374, 3.9464262052273122, 3.942208502943652, 3.938482312071417, 3.935232349720429, 3.932434182825786, 3.9300571189805, 3.9280666073912127, 3.9264261195972328, 3.925098552296441, 3.9240472373454853, 3.96373421813059, 3.9655465744216434, 3.9673207178466128, 3.9690700012813647, 3.9708147358635135, 3.972582152338015, 3.974405767473346, 3.976324069703153, 3.9783785097095072, 3.9806108706769496, 3.9830601726123476, 3.985759297384102, 3.988731466240171, 3.991986529842861, 3.995516733238908, 3.9992912184288247, 4.003248150505062, 4.007284077747373, 4.011247451057341, 4.014951067929362, 4.018197890467645, 4.020804086415521, 4.022614735978544, 4.023512719191945, 4.023422132816763, 4.022307803607093, 4.020172480060236, 4.01705315070683, 4.013017667057489, 4.008162328061226, 4.002609990463389, 3.996506685391215, 3.990014556086409, 3.983301647487244, 3.976531355929823, 3.969853729118219, 3.9633993377496743, 3.957275639361401, 3.9515654917003924, 3.9463274136754256, 3.9415971895366537, 3.937390422805904, 3.933705664784746, 3.9305277742095375, 3.9278312162272617, 3.9255830807283547, 3.9237456842349063, 3.922278702080209, 3.921140844423708, 3.9202911321523426, 3.959118081775142, 3.96064928609585, 3.9621545367832893, 3.9636522076158447, 3.9651677227476507, 3.9667332997979945, 3.968387062326683, 3.970171453207256, 3.9721309585238407, 3.974309243039513, 3.9767458727542615, 3.9794728167761972, 3.9825108415474038, 3.9858657167562694, 3.9895238596342324, 3.993446732402718, 3.9975633006504596, 4.001761528159483, 4.005885437115482, 4.009746520932828, 4.013146009006153, 4.015896777143989, 4.017839412242599, 4.018851883677894, 4.018853828737125, 4.017806872162652, 4.015712457068258, 4.012608525520788, 4.008566074304677, 4.0036860507446015, 3.99809615677211, 3.9919462295307166, 3.985401023417426, 3.9786308134274333, 3.971801636980494, 3.965066889485016, 3.9585611032666237, 3.9523960340139648, 3.946658839416901, 3.941412011312123, 3.9366946883987777, 3.9325249746545827, 3.9289029022658415, 3.9258137067110317, 3.923231128373336, 3.921120518884334, 3.9194416045354097, 3.9181508324050487, 3.91720328609725, 3.91655420005702, 3.9544033519576556, 3.955664256520428, 3.9569131890008946, 3.958173386695165, 3.959475152004372, 3.9608553773391986, 3.962356403211874, 3.964024152636441, 3.965905568772603, 3.9680454785279458, 3.9704830791090977, 3.973248252737443, 3.9763578198997935, 3.9798116400855017, 3.9835882172793244, 3.9876393321736945, 3.991883645027292, 3.996201070160968, 4.000432872355903, 4.0043921541637015, 4.0078825174712325, 4.010717773383843, 4.012737643501512, 4.013817970170972, 4.013875862164741, 4.012870904963726, 4.010803727232604, 4.007713102395819, 4.003672453842505, 3.9987861276181134, 3.993185150414778, 3.987021713776662, 3.9804618337238242, 3.9736765618609384, 3.9668329591455356, 3.9600861099929303, 3.9535729606828287, 3.9474082318120938, 3.941682313049364, 3.9364608814407758, 3.9317859165213123, 3.9276777650744075, 3.924137912995386, 3.9211521449465367, 3.9186938132041647, 3.9167269929255006, 3.9152093659180887, 3.9140947399193466, 3.9133351664700364, 3.912882661818619, 3.9496630787553815, 3.9506687850804276, 3.951677868191801, 3.952718127260603, 3.9538243499105454, 3.95503762181788, 3.9564039346917634, 3.957972042857007, 3.959790607464198, 3.9619047694060727, 3.9643523716938094, 3.9671600613346145, 3.9703394042228246, 3.973882958772883, 3.977760073663003, 3.9819122156349223, 3.9862482442686717, 3.990641492964442, 3.994931977415495, 3.998936124129611, 4.00246250421118, 4.005329050152828, 4.007377743240286, 4.008484928722691, 4.008567130389846, 4.007583099818046, 4.00553312469257, 4.0024565766202755, 3.9984284256470746, 3.9935550554002672, 3.9879692846870425, 3.981824256374437, 3.9752860258110543, 3.968525217381067, 3.961708607150839, 3.9549915775586197, 3.9485121169481427, 3.942386661075749, 3.936707776335627, 3.9315435040824465, 3.926938093188819, 3.9229138090310016, 3.9194735000978373, 3.9166036187682627, 3.9142774262781286, 3.912458159634831, 3.911101994467197, 3.9101606951247914, 3.909583894609957, 3.90932098724834, 3.9449663379122004, 3.9457354459173817, 3.946524227115284, 3.9473646006285796, 3.9482952925566033, 3.949360936242379, 3.950610440646869, 3.952094581641444, 3.9538628642708065, 3.95595981402762, 3.9584209456329655, 3.9612686780591297, 3.964508379904273, 3.9681245677108823, 3.9720771631472136, 3.976297843942967, 3.980687088623274, 3.985113442101254, 3.9894170934530018, 3.9934189531466706, 3.996934120558171, 3.999786785320302, 4.001823571480473, 4.002923545845294, 4.00300440694198, 4.0020252070128555, 3.9999863279075876, 3.99692747251381, 3.9929242713803172, 3.98808383764943, 3.9825393409276852, 3.9764435498799946, 3.969961414745865, 3.9632620678766486, 3.95651089802616, 3.949862415156714, 3.943454460755219, 3.937404058470362, 3.931804959338814, 3.926726764594881, 3.922215405908117, 3.918294710055565, 3.914968756716916, 3.912224744572086, 3.9100361063814506, 3.908365653365888, 3.9071685773770652, 3.9063951897541553, 3.905993322524089, 3.9059103565702262, 3.9403765031057123, 3.9409302917327405, 3.941520543180935, 3.942182731347028, 3.942958841664014, 3.943896271712236, 3.945045977985925, 3.94645982815134, 3.9481872153494812, 3.9502711097234493, 3.9527438267391544, 3.955622829304919, 3.958906814792719, 3.9625722004654715, 3.966570034422477, 3.9708234868710557, 3.97522649462302, 3.979644665144694, 3.9839197003740003, 3.9878778864645406, 3.9913417980929466, 3.99414321204451, 3.9961350431696134, 3.997200768961989, 3.997260701124524, 3.996275160917533, 3.994244995722676, 3.9912099843714777, 3.9872456122407467, 3.9824585476638323, 3.976981009481593, 3.9709641649298555, 3.964570779125728, 3.9579675090271578, 3.951317382463185, 3.9447730280458395, 3.9384711115693705, 3.932528248835407, 3.9270384751429237, 3.9220721999733534, 3.91767647221504, 3.9138763207886957, 3.910676908290996, 3.9080662333946043, 3.9060181353044436, 3.9044953853761255, 3.9034526916954486, 3.902839486491337, 3.9026024087466595, 3.9026874316739724, 3.935949834716068, 3.9363114074525947, 3.9367262640229863, 3.9372327718471563, 3.937875398455894, 3.9387034265296736, 3.9397689050768925, 3.9411238028073035, 3.942816430344354, 3.944887324196655, 3.947364902976102, 3.950261261057424, 3.953568416629655, 3.9572552071211473, 3.961264937107913, 3.9655139607954286, 3.9698916459558986, 3.9742624500253485, 3.9784708296370717, 3.9823491841743586, 3.9857281594625524, 3.988447902770635, 3.9903686684338466, 3.9913795185610814, 3.99140444836987, 3.9904057998238858, 3.9883851725943273, 3.985382191790075, 3.981471504067464, 3.9767583193844636, 3.971372760803247, 3.965463278084725, 3.95918943817747, 3.952714498339592, 3.9461982361911225, 3.939790505335701, 3.9336258968032602, 3.9278197458904174, 3.9224655731590423, 3.917633918004942, 3.9133724263145675, 3.9097069910021807, 3.9066437111983894, 3.9041714271012777, 3.9022645978760413, 3.900886314584295, 3.8999912739934723, 3.8995285774100323, 3.899444257114914, 3.8996834683465837, 3.9317344326188235, 3.9319278619592275, 3.9321909799210233, 3.9325643233020724, 3.933094008092217, 3.933830277992037, 3.934825293669901, 3.9361301391498915, 3.937791124655217, 3.9398455962405103, 3.942317588497094, 3.945213723058764, 3.9485197193034014, 3.952197764281702, 3.9561848835651374, 3.9603924691028602, 3.9647072625587167, 3.968994231596861, 3.9731017159120587, 3.9768688553381124, 3.9801347544916563, 3.9827483621352218, 3.9845778807453236, 3.9855187005115664, 3.98549922550263, 3.9844843473015628, 3.982476610715567, 3.979515280246562, 3.975673582439314, 3.971054414447774, 3.9657848153754682, 3.960009520311279, 3.9538839616288453, 3.9475671300839936, 3.94121472978618, 3.93497303315755, 3.9289737621222702, 3.9233302075176426, 3.918134675386043, 3.9134572373112277, 3.909345673823183, 3.9058264385062955, 3.902906434503441, 3.9005753813184807, 3.898808554197438, 3.8975696966496884, 3.896813934469436, 3.896490552684892, 3.896545531455987, 3.8969237701639745];\n",
       "const lower_is_better = false;\n",
       "const metric = \"log_eval\";\n",
       "const rel = false;\n",
       "const sd = [0.04533486508541536, 0.04403480266969185, 0.04275837975332666, 0.0414623961006818, 0.040103524255709434, 0.038643520706035765, 0.037054285633877734, 0.03532244579741697, 0.033453338507339274, 0.03147440683887283, 0.029437993716628558, 0.027423213154206955, 0.025535746862100975, 0.023902850458208606, 0.022659120013759002, 0.021919572616593795, 0.021744956935516587, 0.02211730529777642, 0.022944349257887645, 0.024090758735161415, 0.025415445032403138, 0.026797776771486426, 0.028149473017462495, 0.02941658343722857, 0.030576258172025444, 0.031631007676126935, 0.03260165361991385, 0.0335196219181659, 0.03441929978269489, 0.03533143867625644, 0.03627864471736105, 0.037273624011689176, 0.038320106001396424, 0.03941560285719001, 0.04055476801493133, 0.041732238960583465, 0.04294432810570584, 0.044189468572907425, 0.045467709499212694, 0.046779718819085506, 0.04812573075851988, 0.04950474933425971, 0.05091415960093462, 0.05234975433298679, 0.053806082203873166, 0.05527697325220408, 0.05675609389205244, 0.058237413753936804, 0.059715513810539855, 0.06118571448846086, 0.04427010269643454, 0.0428790661016432, 0.04150297385744318, 0.0400970262035735, 0.03861640518298229, 0.0370217593461853, 0.035284595278032654, 0.03339227069560717, 0.03135251569541879, 0.02919757103823745, 0.02698802259122566, 0.024816022027176653, 0.022806359759818158, 0.021111180717979565, 0.019890663892466406, 0.019273520985037644, 0.019307737839996824, 0.019935121194052167, 0.02101407280402277, 0.022371791762937594, 0.023849121897595752, 0.025322806486880234, 0.026710632972470408, 0.02796849049515075, 0.02908451921472465, 0.03007217249394851, 0.03096255604148799, 0.03179620768016123, 0.03261488186402213, 0.033454419197600636, 0.03433997896806705, 0.03528450298137048, 0.0362903426164447, 0.03735299361683738, 0.03846538216218306, 0.039621325219763304, 0.04081742017433666, 0.04205331205389383, 0.0433307659663667, 0.04465216316333709, 0.046018999552929436, 0.04743079378240274, 0.04888459592158392, 0.050375090683845776, 0.05189514971178975, 0.05343662086501162, 0.05499114300751077, 0.056550822576852386, 0.058108678126428046, 0.0596588288705954, 0.04343188295469864, 0.04194674916040901, 0.040465080674126505, 0.03894080599829355, 0.037327944037110566, 0.03558627548902953, 0.03368701304076254, 0.031618216379287634, 0.02938997259321193, 0.027039589632322922, 0.02463710997333817, 0.022291013117589385, 0.020152114358283228, 0.018408677716316844, 0.017258056039833925, 0.01684308136451129, 0.01717925366052109, 0.018139624307350236, 0.01951719670654063, 0.02110309985479398, 0.02272966436907606, 0.024280366937102806, 0.025685353530883845, 0.026913714645553533, 0.02796590413328293, 0.02886641054461809, 0.029656076210825343, 0.030383784884626345, 0.0310979663205556, 0.03183911332360256, 0.032634839026943675, 0.03349856827898648, 0.034431834456197186, 0.03542893524914001, 0.03648208028449375, 0.03758539061900813, 0.03873689218796105, 0.039938492234576836, 0.04119450797192868, 0.04250954679133406, 0.04388648548213961, 0.04532507344934282, 0.04682139599495455, 0.04836816360752707, 0.04995560201385232, 0.051572632339639185, 0.05320804320024006, 0.05485143466500124, 0.05649381824748633, 0.05812785478597566, 0.04281842204129058, 0.041239084350390316, 0.03964962385393213, 0.03800300993378755, 0.03625235947460293, 0.03435667845368203, 0.03228671140138315, 0.030030724932291704, 0.027600395005855396, 0.02503733353255846, 0.022421081458042218, 0.0198791524670692, 0.017597104413408, 0.015816872910109206, 0.014792484190102071, 0.014677953078138527, 0.01541871605008918, 0.01678083495983748, 0.01848417774013342, 0.020296813230606617, 0.02205745176281334, 0.02366595795984359, 0.0250695671867386, 0.026252175348616905, 0.027226377711114896, 0.0280265552182421, 0.02870168203273118, 0.02930731269773559, 0.02989714605188733, 0.030515457424622326, 0.03119212724184704, 0.03194156041070494, 0.032765533220753235, 0.03365859220964993, 0.034613885779438074, 0.035627551493031366, 0.036700680219021654, 0.037838866854066476, 0.03905005263953877, 0.04034166024186684, 0.04171797714326868, 0.043178464779325035, 0.044717281941419044, 0.0463239343278091, 0.04798469825669523, 0.049684362795059916, 0.05140787595924276, 0.053141610911362956, 0.05487412333490053, 0.0565964047130953, 0.042416289465268826, 0.040746311192368885, 0.03905171733928946, 0.03728489326127232, 0.0353983499809735, 0.033350403721564136, 0.031111062506546473, 0.028668035870638944, 0.02603321858682215, 0.023250597873084294, 0.020407346205852595, 0.01765051600328027, 0.015209198958057328, 0.013403841409973177, 0.01257477283991349, 0.01287187725360308, 0.014106019952207663, 0.015902146429049906, 0.017921951121087423, 0.019935220907119983, 0.02180226676710268, 0.02344568777650667, 0.024831391046095302, 0.025957459219011953, 0.02684696448091948, 0.0275419568433586, 0.02809704124575714, 0.028571953928740255, 0.029023537454370082, 0.02949844333813898, 0.03002837553387295, 0.03062927913586649, 0.03130457752862816, 0.03205104251622442, 0.032865033725645455, 0.03374704893829465, 0.034703474471720265, 0.03574552587110255, 0.036886202168942596, 0.03813648883089553, 0.03950204023080305, 0.04098122932690864, 0.042564912244174156, 0.04423771329548475, 0.04598026922803015, 0.04777176019066276, 0.04959216162301173, 0.051423870972125515, 0.05325259203525668, 0.0550675349625207, 0.042201157054599044, 0.040447965614223445, 0.03865638107177048, 0.03677875134767721, 0.03476747564214404, 0.032580510080101675, 0.03018715326312158, 0.027574101817207073, 0.02475228836998435, 0.021765893503765822, 0.018706534428963972, 0.01573826591567794, 0.013139149388723707, 0.01133574827514192, 0.010786318743092544, 0.01158939852095521, 0.013342469341567666, 0.015535749537240387, 0.017815192048069743, 0.019977356518099003, 0.021911995744569247, 0.02356477453000736, 0.024918227368952845, 0.025981987643422955, 0.026786805969647727, 0.027379469694489313, 0.027817162916917382, 0.02816077873406529, 0.028467612338281247, 0.028784727271688005, 0.029144746380284952, 0.029565441725745958, 0.030053252302168824, 0.030609354299104285, 0.031236002031870453, 0.031940973303921844, 0.03273886114835556, 0.033649125204761245, 0.03469182431504289, 0.03588256566270499, 0.03722830421476649, 0.038725193615945355, 0.04035889517852088, 0.04210693488456785, 0.04394218804160269, 0.04583649215160593, 0.04776363624986765, 0.04970134539185102, 0.05163220727795561, 0.053543701863672376, 0.04213969727141343, 0.04031423594532299, 0.03843912316356501, 0.03646747673406749, 0.03435242546950331, 0.03205239781594269, 0.0295367559983811, 0.02679182347654937, 0.023827940945209375, 0.020689317921999496, 0.017470899516042783, 0.014351654482308992, 0.01165891450835389, 0.009935841436463227, 0.009746190610420412, 0.011051292260643563, 0.013223726190566259, 0.01569260131249234, 0.018130974941268377, 0.02037009044807506, 0.022325282768558406, 0.023959689856930165, 0.02526761659822005, 0.02626628412513156, 0.02699070896003633, 0.027489214407511002, 0.027818381452592043, 0.028037100581669968, 0.028200183481336245, 0.02835272969040855, 0.02852681383197442, 0.028741699241929052, 0.02900766156206354, 0.029332123729098446, 0.0297258960345864, 0.03020730029685007, 0.030802732685897456, 0.031543413419041044, 0.03245932381407045, 0.033572306198080375, 0.03489062241976393, 0.03640668813205144, 0.03809843046633021, 0.03993341305253636, 0.04187417152612834, 0.04388326866902679, 0.04592711920670064, 0.0479782485726356, 0.05001609500731618, 0.052026690928175204, 0.04219226207203786, 0.040308137372876765, 0.03836732051339736, 0.03632478168495333, 0.03413560821933326, 0.031760129052537896, 0.029169494916492057, 0.026351840034317637, 0.02331980472932383, 0.020121548805992706, 0.016860464855604936, 0.013735485569409941, 0.011119546693359093, 0.009625290447945535, 0.009795636148775199, 0.011419070576039124, 0.013785051523644993, 0.016350185839460955, 0.01882313163515042, 0.021057417817755757, 0.02298192189727152, 0.024568562840617123, 0.025817353073306206, 0.026748683152490238, 0.027398327395605104, 0.027813062450269398, 0.028045929417144577, 0.02815092632300062, 0.028177602667049755, 0.0281666187380141, 0.02814758401271501, 0.028140131611150164, 0.0281582121502813, 0.028216386340714054, 0.028336020227982966, 0.02854909848498508, 0.028897904542260912, 0.02942996383473279, 0.03018925972328546, 0.03120639014860188, 0.03249115774124738, 0.034030263516583135, 0.035790548163976095, 0.03772599618054329, 0.03978579356621878, 0.04192122812019727, 0.0440903480817007, 0.046260274380626416, 0.048407601005091214, 0.050517485377037104, 0.04231587654667891, 0.04038814054837207, 0.038402217596078474, 0.03631620272158913, 0.03408863359529946, 0.03168357229292798, 0.02907633409146804, 0.026260110006487754, 0.02325445654398378, 0.02011810557830241, 0.016971603003821386, 0.014040087995945852, 0.011719988148095363, 0.01057664086784093, 0.010981532564155514, 0.01265011028055226, 0.014962967626762715, 0.01744700778075539, 0.01983432822770947, 0.021984364693479985, 0.02382760976837819, 0.02533670009068443, 0.026511792388971923, 0.0273724023145834, 0.027951906684753395, 0.028292869339308024, 0.02844236716746525, 0.02844718577497234, 0.028349344497208186, 0.028182866135637936, 0.027972846130458247, 0.027737525626924314, 0.02749325508293205, 0.027261223651090787, 0.02707398767600015, 0.0269793992992542, 0.02703964622355625, 0.0273240253541727, 0.02789615278029725, 0.028799280578606066, 0.03004546218399652, 0.03161318361503019, 0.03345385489937696, 0.0355034528895171, 0.037694500119823636, 0.039965176866632895, 0.042264604219406414, 0.04455478676138411, 0.04681020895689933, 0.049016040951702554, 0.042467136891603474, 0.04051089763751866, 0.03850130994624214, 0.036400894296785, 0.03417313510456495, 0.03178763062683218, 0.029226130137750866, 0.026489812377984836, 0.023608867717678957, 0.020656686821574025, 0.0177726580542523, 0.015196665451985789, 0.013297343009004328, 0.012498265253448063, 0.012989780957521286, 0.014517622225647564, 0.016614101976316978, 0.01888953653379533, 0.021097213903333824, 0.023096519823582982, 0.024813716108207606, 0.026217327834050286, 0.027303830719207264, 0.02808883168510255, 0.02860085700600993, 0.028876217041539153, 0.028954264789812702, 0.028872980926130224, 0.028665313907713433, 0.028357039920302918, 0.027966961112413615, 0.027509940346385205, 0.027002620702127583, 0.02647087244020312, 0.02595721709422374, 0.025525746644524457, 0.025261471827246383, 0.025261213114897492, 0.025615477628108396, 0.026385980950001525, 0.027588609907354063, 0.029190624791090268, 0.0311225691151996, 0.03329726987236695, 0.03562728278885718, 0.038036380829279876, 0.040464903692642454, 0.042870662351217406, 0.04522722705226738, 0.04752094631236733, 0.042604745785558264, 0.04063380020684372, 0.03862087797831713, 0.03653407403100453, 0.03434303180153481, 0.032024176968857926, 0.02956703200477915, 0.026981951006987952, 0.024310101641063647, 0.021637025518483344, 0.019110577112577996, 0.016958201248607856, 0.015477436162915184, 0.014943549043312606, 0.015434415418443757, 0.016753898565467926, 0.0185673139908063, 0.020567685695675943, 0.022536880682507327, 0.02433833227137261, 0.02589474294458396, 0.027169500736381226, 0.02815377794407215, 0.028857578095351315, 0.02930303763345958, 0.029518918548248865, 0.029535812806119992, 0.02938206604763688, 0.0290808120081945, 0.02864873627608315, 0.028097182667349948, 0.0274359485117676, 0.026679645846424373, 0.025855934460004146, 0.025014266049843463, 0.024232820283367172, 0.02361984264729196, 0.02330421029694772, 0.023411503617103636, 0.024029926768722173, 0.02518223456539245, 0.02682123629748313, 0.028850317406255533, 0.031153769518573408, 0.03362148087578362, 0.03616251326276217, 0.03870950396607398, 0.04121765656638004, 0.043661199518029534, 0.04602897736769552, 0.04269156832275725, 0.040717214042687876, 0.03871846445448656, 0.03666985083351028, 0.03454789786295175, 0.032336324383146965, 0.030032379915855487, 0.027654467249063074, 0.025251312652336107, 0.02291259307416311, 0.020778870075468536, 0.019042396029195836, 0.01791934564067454, 0.017574786743233265, 0.018029805212349165, 0.019138504382324825, 0.02066355135615143, 0.022370284825317766, 0.024075053582473027, 0.02565245028352269, 0.02702584391625181, 0.02815523292022351, 0.02902678893247038, 0.02964453476314498, 0.030023628947795027, 0.030184756663886668, 0.030149414646495294, 0.02993619507185388, 0.029558427535679953, 0.02902366273772799, 0.02833543474013863, 0.027497533631435186, 0.026520726941603314, 0.02543154827680466, 0.024282341955284444, 0.023160813161222017, 0.022195152630709543, 0.0215471938613989, 0.021384389344714667, 0.02183090073440398, 0.022921430289424498, 0.024591890756902678, 0.026712482318390407, 0.029134501265265986, 0.03172395859438201, 0.03437630675650481, 0.03701850986510542, 0.03960522912040754, 0.04211306241961193, 0.04453460209719936, 0.04269619551105551, 0.04072631996337027, 0.03875512437048634, 0.036764097129548534, 0.03473681588193882, 0.032663891109127326, 0.03054893904479767, 0.028415428846216378, 0.02631401163253775, 0.02432909860092482, 0.0225813040827833, 0.02121861023057929, 0.02038685332641287, 0.020179267492565454, 0.020590165996653458, 0.021510633916775376, 0.022771089565085362, 0.02419524978458889, 0.025634710864751692, 0.026980550938843228, 0.028161509980591717, 0.02913715188896823, 0.029890164006453616, 0.030419225615030132, 0.03073274723177309, 0.030843492086403582, 0.030764142271224936, 0.030504020531352476, 0.030067301347124906, 0.029453076004734163, 0.028657558802216678, 0.027678572312194057, 0.026522302385861618, 0.0252122182151005, 0.02379991375062607, 0.022376978235740606, 0.02108468679090596, 0.020112755741747566, 0.019671579572940186, 0.019928782855969333, 0.020937911637555536, 0.022618513432387705, 0.02480466063243393, 0.02731327156817978, 0.029987752666237072, 0.03271252600067678, 0.035411500570125355, 0.038040896680701826, 0.04058116212096361, 0.043029556990728544, 0.042594047990340694, 0.040632532987395505, 0.038697310112164575, 0.03677703525698994, 0.034862039966147104, 0.03294874819179907, 0.03104491183744489, 0.02917521061092559, 0.02738634705034474, 0.02574993542910605, 0.024360139008504294, 0.023321877185500422, 0.02272705487036583, 0.02262382359578002, 0.02299425341723791, 0.02375584172616838, 0.02478611056407865, 0.025954097929645977, 0.027143757145412305, 0.02826500827442748, 0.0292554659943591, 0.03007716431220068, 0.030711268361244933, 0.03115233134650021, 0.031402812555753126, 0.03146822230811643, 0.031353177361564975, 0.031058666021541847, 0.030580831868689297, 0.029911539394435468, 0.02904088604221514, 0.027961719850662578, 0.026676178452803418, 0.025204328226109733, 0.023595082300725375, 0.021939303947691797, 0.02038307851853989, 0.019132884754448787, 0.01843282316394893, 0.018492692038036117, 0.019390750521109418, 0.021036685867875212, 0.023233337282935633, 0.025767854635448346, 0.028465479071473905, 0.031203200170038276, 0.033904381217710305, 0.036528378725415055, 0.03906037823092954, 0.04150268627528625, 0.042368055052306626, 0.04041448424268009, 0.038518286508526116, 0.03667527886568546, 0.03488194740999183, 0.03313908156943748, 0.03145601412171416, 0.02985482345973462, 0.028373444414012492, 0.027066102803355196, 0.025999043589810682, 0.025239867098857012, 0.024841028792906054, 0.02482232508882042, 0.025160539883779805, 0.02579226497984367, 0.026628403860135534, 0.027572749748625617, 0.02853722803364327, 0.02945063031665932, 0.030261356825692164, 0.030936107385740274, 0.03145636059479881, 0.03181392611539515, 0.032006384752893226, 0.03203295985288547, 0.03189123619699976, 0.03157507402932617, 0.031073993782229106, 0.030374208377846785, 0.029461371933929704, 0.028325042867896326, 0.026964880546505886, 0.025398740696974, 0.023673055080228808, 0.02187584832038233, 0.02015129182532283, 0.018708842064083207, 0.017806641835235143, 0.017680450864842937, 0.018431979133436235, 0.01997410110110699, 0.022095145009881672, 0.024565403050488883, 0.027199732693965004, 0.029871724981742828, 0.03250607155716067, 0.03506602905682158, 0.03754170971778161, 0.039940291830594735, 0.0420089263465723, 0.04005854774765467, 0.038199001183184644, 0.03643316776117243, 0.03476299212955198, 0.03319212427220696, 0.031729052380740294, 0.0303900500465893, 0.029200949869592614, 0.02819655048661437, 0.0274165832384659, 0.026897947118186064, 0.026664551293662693, 0.026718025282113027, 0.02703326648902764, 0.027561058737973054, 0.028236633164121054, 0.02899055240434927, 0.029758230415104656, 0.0304860475961881, 0.031133789934055682, 0.03167415345486288, 0.03209033629884943, 0.03237264762821474, 0.03251487607966395, 0.032510998968607104, 0.03235268961223922, 0.03202796850343283, 0.03152122394631042, 0.030814702261276434, 0.029891464212695052, 0.028739762848504703, 0.027358854402363745, 0.025766420797397382, 0.02400800289333151, 0.022168830621905528, 0.020387185271502274, 0.018863335731951043, 0.017846068197976645, 0.017569349085864022, 0.01814593747984654, 0.019505359302595143, 0.021446810535584285, 0.02374403500704635, 0.026212567936024816, 0.028727348100681074, 0.031216050565621108, 0.033646214610823094, 0.03601274725482084, 0.03832726367838284, 0.041515015646301036, 0.03955889251957261, 0.03772836688942217, 0.036033328549261105, 0.03448058397794297, 0.03307533963428273, 0.031823232440973716, 0.030732347617159483, 0.029814436576627565, 0.02908452373386403, 0.028558392984601225, 0.028248125941038513, 0.028156784183512043, 0.028274054730165653, 0.028574650429106035, 0.029020269024827117, 0.029564464544557554, 0.030158745774632963, 0.030758092754209862, 0.031324688078410955, 0.03182946838699424, 0.03225171854936484, 0.03257725078674047, 0.03279580534889434, 0.03289828288173531, 0.03287433838519724, 0.032710758657469516, 0.03239091660059758, 0.03189545669084608, 0.03120423832332631, 0.030299478175396338, 0.029170017549719707, 0.027816710638086318, 0.02625907214166609, 0.02454345746402278, 0.022752892863016867, 0.02101738719953321, 0.019519268476562664, 0.018479231154898253, 0.0181033265025592, 0.01849718377961702, 0.019611874538765714, 0.021279250703646235, 0.02329808466653766, 0.025498095143384015, 0.027762202132416862, 0.030023938267867492, 0.032256308227140054, 0.034459424728504155, 0.03664923441681342, 0.04089177146448755, 0.03891705011105122, 0.03710294758109148, 0.03546647086743827, 0.034018961874626975, 0.0327662714093705, 0.03170974420278179, 0.030847696629928475, 0.030176822537513425, 0.029692915395856917, 0.02939051849999354, 0.02926155926502618, 0.029293515683704283, 0.029467965261101774, 0.029760296150342355, 0.030140917646704773, 0.030577708510159753, 0.031038987426019394, 0.03149616852492142, 0.03192545898941324, 0.0323083097820994, 0.03263068050754761, 0.03288143175137662, 0.03305029142142115, 0.03312587192477151, 0.033094167449835905, 0.032937858647940965, 0.03263661958993274, 0.032168486749342314, 0.03151224155596994, 0.03065070157701825, 0.029574823146025934, 0.02828858422207396, 0.026814704434609375, 0.02520126703079016, 0.02352896450635963, 0.021917368128527216, 0.02052530765372417, 0.01953524652992984, 0.019110988846757267, 0.019336999896388245, 0.020180767754715417, 0.0215144869756926, 0.023176132270423287, 0.025022376457668548, 0.026952770908568482, 0.02891198998578311, 0.030881738413795747, 0.0328693069011247, 0.0348959298618309, 0.04015078738563234, 0.038141017095112535, 0.03632608566276333, 0.03473049526903082, 0.033370215145225646, 0.03225136441604339, 0.031370182335405804, 0.030714320400568384, 0.0302650653924086, 0.029999824537808247, 0.029894222382839005, 0.029923449108350143, 0.030062890698118305, 0.030288363230556073, 0.030576348235941755, 0.03090448725192788, 0.03125234249178624, 0.03160220206962718, 0.031939603777715396, 0.03225329925688217, 0.03253454083821782, 0.03277577375574952, 0.032968988222452325, 0.03310408513381451, 0.03316762105806863, 0.03314223257482658, 0.03300692415305062, 0.032738273070648964, 0.03231249310370943, 0.03170822941508097, 0.030909939156442644, 0.02991173924929733, 0.028721651382953708, 0.027366194593701754, 0.025895161895580394, 0.02438595207232502, 0.022945648820231816, 0.021706893450001534, 0.02081154394495545, 0.020378607391471713, 0.02046550586320877, 0.021047018160629462, 0.022030219228658016, 0.02329479714788258, 0.024731956097658957, 0.02626623470727205, 0.027860606844943597, 0.029511125965152096, 0.031236461121836798, 0.0330657933302553, 0.03930851168187513, 0.03724396845428985, 0.03540657383115787, 0.033829059822754706, 0.032532670229475244, 0.03152408224579196, 0.03079427938083219, 0.03031990049716528, 0.030066782125194393, 0.029994691228358822, 0.030062015312376757, 0.03022948691780324, 0.0304625856805728, 0.030732743272169568, 0.031017701293616733, 0.031301354314928705, 0.03157326136252086, 0.03182785024691636, 0.03206325409618301, 0.0322797396756564, 0.032477793930816894, 0.032656075278879225, 0.03280954514195884, 0.03292812408011233, 0.03299615173817753, 0.03299279579363536, 0.03289340170582879, 0.03267165113189896, 0.0323023299356201, 0.03176449748962471, 0.03104487910801397, 0.03014134606195507, 0.029066370195728667, 0.027850295053066042, 0.026544071034289643, 0.02522063381650769, 0.02397326449061039, 0.022908287575411745, 0.022129524509320247, 0.02171529628454426, 0.021696076417896514, 0.022046111785080764, 0.022696334897469278, 0.023561650013551257, 0.024568131525818677, 0.025670224345229132, 0.02685603060597395, 0.028143062196654856, 0.029567729166007646, 0.03117185784104826, 0.038384752000458246, 0.03624274486373872, 0.0343570691895323, 0.03276984428643662, 0.031508931161928835, 0.030582670685198265, 0.02997736105813795, 0.029658720002877767, 0.0295771388412148, 0.029675106944501824, 0.02989467546463714, 0.03018336938230222, 0.030497940686978545, 0.03080613309403873, 0.031086955382856336, 0.031329934658569904, 0.031533644751275174, 0.03170363925523832, 0.03184985038403568, 0.03198356642700379, 0.03211424015832887, 0.03224653292125144, 0.032378073167503255, 0.032498341647791855, 0.032588894274758064, 0.032624874122112284, 0.0325775477691656, 0.03241749591641078, 0.032118097635667156, 0.03165902619048288, 0.0310295634290685, 0.030231593995400496, 0.02928213108790621, 0.028215126786886983, 0.02708210019936075, 0.025950759685510676, 0.024900398905314765, 0.024012813897500398, 0.023358625804489424, 0.022981806840194963, 0.022888676925790524, 0.023048032669605405, 0.02340406122017038, 0.02389676142318895, 0.024481712305150317, 0.025143239967828496, 0.02589866510328242, 0.02679364461869168, 0.027889955292561868, 0.029248685712275825, 0.03740120686284519, 0.03515638777855473, 0.033192568303015285, 0.03156286914853493, 0.03030395790055662, 0.029427965336089247, 0.028917919495851995, 0.02872908940035685, 0.028796256850321816, 0.029044370711107867, 0.02939914517227875, 0.029795179073152947, 0.03018084881053863, 0.030520393583302573, 0.030793983584465025, 0.030996425885722795, 0.031134873212468078, 0.031225677308415065, 0.03129046769678265, 0.03135165469468436, 0.03142779792406204, 0.03152952169285308, 0.031656735428871444, 0.03179772664238362, 0.031930276710634, 0.03202448683272033, 0.032046695374663814, 0.03196381064277947, 0.031747521864796714, 0.031378057153491776, 0.0308473168857529, 0.0301612686027402, 0.029341438883984168, 0.02842519645232012, 0.027464323761988856, 0.026521204741693036, 0.025662012454668197, 0.024946901386800543, 0.024418664028971644, 0.024093222796894777, 0.023956263408238535, 0.023968735492427205, 0.024080254619445296, 0.024246223709826004, 0.02444377686818261, 0.024682861597568252, 0.025010066383932907, 0.025503407487837304, 0.026257275024771393, 0.02735979499698696, 0.03638034396052087, 0.034005105305757954, 0.0319293889561266, 0.03021935872211113, 0.02892368018890097, 0.02806171530385442, 0.02761572619669159, 0.02753140363030567, 0.027727379876933047, 0.028109910226975152, 0.02858731373197357, 0.029080581304970016, 0.029529347554165825, 0.029894125780444286, 0.030156060121469843, 0.030315093029987576, 0.03038695815863546, 0.030399073834281205, 0.03038533765477415, 0.030380031567867356, 0.030411469719638783, 0.030496452774408527, 0.03063673245782695, 0.030818331652465485, 0.031013801371906857, 0.03118670771054794, 0.031297218965797825, 0.03130772047368721, 0.03118774398751482, 0.030917887584070023, 0.030492639826144592, 0.029922063465130273, 0.029232183276306396, 0.02846374105401928, 0.027668837192954685, 0.026905032008113377, 0.02622694125673876, 0.025676367790100373, 0.025273336632482497, 0.02501123119367777, 0.024858585408564608, 0.024767899138955173, 0.024689407574230427, 0.024586556583625168, 0.024450232679342113, 0.02430948518365254, 0.024236371008834603, 0.02434149653877754, 0.024756535361022153, 0.025603891041862573, 0.03534497803508075, 0.03281010918321379, 0.030585192279456747, 0.028751747735563337, 0.027374750261646374, 0.02648596719554632, 0.026070939922209095, 0.026067193621157288, 0.02637607263722111, 0.026882742706854916, 0.02747577731458995, 0.02806087249221511, 0.028567918436095602, 0.028953173564021658, 0.029198523607315154, 0.02930906748004637, 0.02930946982254478, 0.02923900079586666, 0.02914505334383889, 0.02907524132083957, 0.029068888156559714, 0.02914950681360943, 0.029320189440236434, 0.02956322847990135, 0.02984394617477118, 0.030117390208920486, 0.030335997382057164, 0.03045664145446186, 0.030446215824782512, 0.03028554461521978, 0.0299717216096685, 0.029518960065852067, 0.028957831570213456, 0.02833254087111383, 0.02769580715980858, 0.027101208204658736, 0.026593647672474265, 0.026199804943324922, 0.025921400042774077, 0.025733960045680706, 0.0255921782352655, 0.025440768891539175, 0.025228338685797352, 0.024921827355664228, 0.024519893679197668, 0.024064075673460843, 0.0236456624099576, 0.02340367755756307, 0.023506873715500087, 0.024115779181221993, 0.034318819777471636, 0.031594700906745946, 0.029180562286354014, 0.027175471093313273, 0.025666106878647756, 0.024704104008520723, 0.024284679503206168, 0.024339538765431313, 0.024750739184986964, 0.025378187312594908, 0.02608670841407722, 0.026763942386868952, 0.027328504749152677, 0.027731696818719398, 0.02795593216722029, 0.028011618815418395, 0.027932948604232417, 0.027772242264603283, 0.02759223840786693, 0.027456119821911852, 0.02741619802088645, 0.027503620205328594, 0.027722192997366977, 0.02804846935063712, 0.028437879625130204, 0.02883447825430431, 0.029181220888253187, 0.029428555249996217, 0.02954046930008501, 0.029498104244056883, 0.02930135856217971, 0.028968756978530703, 0.028535509632365487, 0.028049390450385632, 0.027564059226137937, 0.027129965572256592, 0.02678405982668162, 0.02654079522081056, 0.026387433983339346, 0.026285700596360463, 0.026179677446294493, 0.026007905790374312, 0.025717116349743115, 0.025275794545853852, 0.024686892353014928, 0.023999376462862473, 0.023317085759893046, 0.02279985798321859, 0.0226470475771919, 0.02305432074833208, 0.033328026367840886, 0.030386737432351867, 0.027742467703231535, 0.02551310210661549, 0.023813055993638546, 0.022724185372933976, 0.02226154647837721, 0.0223552096869196, 0.022864770673569772, 0.023618070588384166, 0.024449979433454904, 0.02522619311197914, 0.025852208176865173, 0.026273723245655307, 0.026473599064422034, 0.02646780420916604, 0.02630075444407113, 0.026039259057279204, 0.025763781237907506, 0.025556137199121875, 0.025484467713072268, 0.025588922795221614, 0.025873143015638304, 0.026305146344541744, 0.026826986018468918, 0.027368810300746203, 0.02786239135034458, 0.02825121735152793, 0.02849659804925406, 0.02858052250094088, 0.028506190352114262, 0.028296725960733283, 0.02799203748171246, 0.02764341407694893, 0.027305529014189256, 0.027026246868827666, 0.026835943122959737, 0.02673926714873782, 0.02671233593628246, 0.026706718101717868, 0.02665914438654409, 0.026504315482058626, 0.026188295472191436, 0.025681209542009264, 0.024989181890508007, 0.0241657733205152, 0.023321867517117286, 0.022629046775314354, 0.022305207934831924, 0.02256951609539158, 0.032403384110551416, 0.029222135901142, 0.02630949274034067, 0.023801171380737802, 0.021844621834764082, 0.020565414185258615, 0.020014718467381426, 0.020129010107624405, 0.020740734238785415, 0.02163473803946606, 0.022606687950818223, 0.02349539158708236, 0.024191511223908273, 0.02463494896962817, 0.024809253923054674, 0.024736269050571323, 0.024471211322831875, 0.02409675075967492, 0.02371375101990921, 0.02342653267306112, 0.02332291176010342, 0.023453904677802215, 0.02382162149326841, 0.024381616982540197, 0.02505812573364236, 0.02576424504416139, 0.026419319655166362, 0.026960141887976238, 0.027346371743966664, 0.02756199253524696, 0.02761436202709173, 0.027531589584532754, 0.027358192442888694, 0.027148562761254512, 0.026957949539531175, 0.026831587519770498, 0.026794062400639192, 0.02684209551683478, 0.026943524816546258, 0.027043157419832882, 0.02707370106209, 0.02696883356352246, 0.02667607258077742, 0.026168561941314474, 0.025456071559662334, 0.024595712332540945, 0.023701497052333657, 0.022947987584270794, 0.022556869146276033, 0.022752948486169555, 0.03158226580927161, 0.028148392424092013, 0.02493794122221277, 0.022099471854446297, 0.01981503177824099, 0.018269146927687857, 0.01757482176150651, 0.017691250931823877, 0.018417389405184028, 0.01947739029141149, 0.020614233154736827, 0.021634287707261363, 0.022412653031382627, 0.02288430468304095, 0.02303430344252425, 0.02289069761335579, 0.022519656345499975, 0.0220205232974944, 0.02151704649645516, 0.02114049999567517, 0.02100328716300363, 0.021169639019996085, 0.021637929950692067, 0.022345802669401983, 0.023194343637985303, 0.024076762293612063, 0.024899848163281845, 0.0255952478231718, 0.02612305454882689, 0.026471082364424324, 0.02665203182318699, 0.026699382064320328, 0.02666187454952603, 0.026596044901409745, 0.02655655948660033, 0.02658520001026919, 0.026700832416333142, 0.02689355648900187, 0.027125406840941602, 0.027337625049369253, 0.027462230919241083, 0.027434904321190657, 0.02720710650635396, 0.026756855872489594, 0.026098596548643892, 0.025292612831968608, 0.024452998453793305, 0.02374960750572982, 0.023394083482963113, 0.02359894377033805, 0.030909090880279363, 0.02722628862995939, 0.023706637921930885, 0.020501355095421586, 0.017820053936477887, 0.015917298560110944, 0.015005623330834932, 0.015100786769662145, 0.01596136339979997, 0.0172216941818296, 0.018553010798319232, 0.019724491204411217, 0.020597366973416464, 0.021104361319216405, 0.021233687062000677, 0.021019878190354918, 0.020539433242516465, 0.019907948380842273, 0.019273458147777717, 0.018798495057287513, 0.018625730113545468, 0.018835218083621652, 0.01941809477455192, 0.020286983450127256, 0.02131429300864547, 0.022371926967179896, 0.02335598085876482, 0.024196191517019815, 0.024856269580205245, 0.025330267099863326, 0.025637571848869046, 0.025817244026607813, 0.025921399806432523, 0.0260070540342562, 0.026126284018386146, 0.026315741467587556, 0.02658791046516657, 0.026927026100721292, 0.027291417813173912, 0.02762171299940709, 0.02785243014600743, 0.027924181553027883, 0.02779475790016688, 0.027448719101281018, 0.026905899176881003, 0.02622904005499285, 0.02552931276182245, 0.024965489265270237, 0.024728935294349268, 0.025007390651203828, 0.0304329390255789, 0.026527355420499017, 0.02271645630303887, 0.019140345185952545, 0.016016610565796324, 0.013663032257855116, 0.012434376953671371, 0.01247021603379887, 0.013487689697159865, 0.014984087731824915, 0.016534208907163703, 0.01786926504907796, 0.01884242317481083, 0.019388960170792054, 0.019502596133638132, 0.01922444865775234, 0.01863972458260263, 0.01787797612955075, 0.017110533536612554, 0.016533654741190857, 0.016325346476523145, 0.016583488848873257, 0.017286889550439444, 0.018315353226619938, 0.019508894060709766, 0.020719853962773652, 0.021838229875025976, 0.022796739343416493, 0.023566655720010526, 0.02415088782300765, 0.0245767266591958, 0.024888629993077175, 0.025140602724485976, 0.02538765338931362, 0.025676376617215953, 0.026035806531832843, 0.02647073789544909, 0.02695981116232778, 0.02745935546490385, 0.027911978445935674, 0.028257534871426293, 0.028444131738372694, 0.028437837402835456, 0.0282308524724876, 0.027848410352372673, 0.027354325969357805, 0.026853784235470617, 0.026489767410511438, 0.026427707606359797, 0.026825105399858756, 0.030201564494018965, 0.026125001838394998, 0.02207927357558798, 0.01818255604417362, 0.014633723132923403, 0.01177470780432074, 0.01011331579180168, 0.01001929646364569, 0.011196700704091936, 0.012940828421933509, 0.014705780353325421, 0.016192063373327476, 0.017254283317774177, 0.017835706477301608, 0.017937620854647143, 0.01760736123025188, 0.016936391058648866, 0.016064001741849458, 0.01518018347195861, 0.01451252006063819, 0.014275007564492818, 0.014582338191333876, 0.0153950788555608, 0.016555430405747973, 0.017872918653587477, 0.01918691666325804, 0.020388498083386213, 0.021419096863860308, 0.022261518243078066, 0.02292987778990208, 0.023460171476611603, 0.023901481819689967, 0.024307427680868163, 0.024727614988474048, 0.025199394127668147, 0.025741013195279973, 0.026347793912366156, 0.026992674915918252, 0.027631289806102848, 0.028210348428146563, 0.028677350507003086, 0.02898989719680725, 0.029123681661428955, 0.029078995431797722, 0.02888584267087772, 0.028607342281889526, 0.028340041998177665, 0.028208420940476882, 0.028350389973593668, 0.028893141507660418, 0.030252514442319443, 0.02607952714739139, 0.02189337396299627, 0.01779083706437554, 0.013938757530955612, 0.010651544524175728, 0.008512098387049359, 0.008173025587177715, 0.009425467218949537, 0.011340581983358194, 0.013246978406514747, 0.014824846015400168, 0.015935439123870535, 0.01653114744065414, 0.016620367225392844, 0.01625533948891691, 0.015531170273608596, 0.0145918832403744, 0.013637867786097812, 0.012917323461055294, 0.012669612714198806, 0.013017643819398638, 0.01390018001920259, 0.015127223426812473, 0.01648941917937815, 0.01782453223407971, 0.019032860876755743, 0.020069793432947375, 0.020932973359152254, 0.02164957795512966, 0.022264644877896086, 0.022830450116795045, 0.023397030921136003, 0.024004172462671395, 0.02467537044376988, 0.02541440623870753, 0.026205095444627697, 0.02701435830048811, 0.027798088982628404, 0.028508698739799568, 0.029103011428107305, 0.029549467296241257, 0.029834107399793523, 0.029965224202309987, 0.029976622521379122, 0.029929052860072764, 0.02990866037765893, 0.03002064555804168, 0.030376617476132527, 0.031076336764699578, 0.03060394360728172, 0.026421487476829996, 0.02221167534701247, 0.01806205829148762, 0.014120624934201636, 0.010664423480556936, 0.00823371512231759, 0.007562699836807334, 0.008624621357133525, 0.010464447261719313, 0.012332449164985954, 0.013879778007812784, 0.0149612864294803, 0.015529652788841202, 0.015595400591390614, 0.015213047556727895, 0.01447926832319433, 0.013538712899726982, 0.012592169976895776, 0.011888786400182524, 0.011666341120681774, 0.012036388054689321, 0.012918890743312417, 0.01411204235501382, 0.015408509334496652, 0.016657883277306343, 0.017776930957255625, 0.01873917344429859, 0.019559992367607994, 0.020281528858806405, 0.02095816442396243, 0.02164338493070066, 0.02237935067337377, 0.023190362577237618, 0.024080566397760208, 0.025035275947917445, 0.026024810162746295, 0.02700979400491572, 0.027947135329971163, 0.028796076350476804, 0.029523816661373704, 0.030110328135434572, 0.030552156914867033, 0.030865131756777405, 0.031085838868641514, 0.03127143209591086, 0.03149693904486423, 0.031849034632442784, 0.0324157951770497, 0.03327354798863258, 0.03124876946071844, 0.027141156420646156, 0.02302037325732552, 0.01897732868686597, 0.015159660682183855, 0.011822983663829056, 0.009408192671281065, 0.008463741794436784, 0.009046763979633027, 0.010475918213915735, 0.012057754309704877, 0.013408623613907945, 0.014354704209478115, 0.014834148215483234, 0.014851839090405904, 0.014461227678154212, 0.013759124437223314, 0.012887917938653718, 0.012038820348861116, 0.011437991006023353, 0.011285874638393858, 0.011658267474162718, 0.012463949490035766, 0.013515477949938952, 0.014629691604882583, 0.01568036020635648, 0.01660718035691177, 0.017406346066021115, 0.01811522975963073, 0.018794492558141238, 0.019509155215445814, 0.020311581366292658, 0.021230252538691773, 0.02226662120060837, 0.023399021840916016, 0.02459027113036047, 0.025795662284501933, 0.026969641408405385, 0.0280709156201527, 0.029066357363898926, 0.029934046661626634, 0.030665588838514377, 0.03126771069337807, 0.03176307469186724, 0.03219015661604542, 0.032601852800724085, 0.033062298300314784, 0.033641407378786556, 0.03440714552652313, 0.03541654235295634, 0.032154782729364735, 0.02818985200395584, 0.02424309057528954, 0.020411824044406255, 0.01684397050884321, 0.013766463780086053, 0.011502857828823258, 0.010380798602354796, 0.010436774745632744, 0.011274454986299132, 0.012376683797111996, 0.013376170134055185, 0.01407521115302501, 0.014392274000905765, 0.0143223283657568, 0.013915868443640123, 0.013269081526652278, 0.012519425899118032, 0.011838964418489325, 0.011410060718016788, 0.011368774274273907, 0.011738904701533999, 0.012421773786385613, 0.013258215379981484, 0.014101965134453795, 0.014859676212971495, 0.01550060303347911, 0.016050545203353906, 0.016576943738219014, 0.017166652790573438, 0.017899200822581524, 0.018823214421584217, 0.019945239622196482, 0.021234053253687876, 0.022634807992552526, 0.02408436876333676, 0.025522576522064962, 0.026898650675884917, 0.02817417347732929, 0.029324267205122018, 0.03033794750603296, 0.031218039645196066, 0.03198071987145603, 0.032654624220887905, 0.03327940967120465, 0.03390357548299327, 0.034581288247824166, 0.035368027417655316, 0.03631519486099815, 0.037464374189512976, 0.03327055707092299, 0.0294920363804831, 0.02576662258599088, 0.022192606968232748, 0.018906859557888105, 0.016092990692910064, 0.013968324079351212, 0.012710686991125918, 0.01232363354504861, 0.012576622953274386, 0.013126505006819588, 0.013676017168866978, 0.014035354416896411, 0.014115281493735338, 0.013905183273329583, 0.01345490191293406, 0.012861149661591, 0.012254415678013688, 0.011779501285405733, 0.01156168841874731, 0.011661641011611896, 0.01204677272251322, 0.012608221047041946, 0.01321199903241952, 0.013747735660468984, 0.014156756783293733, 0.014442488650911437, 0.014668857609254774, 0.014946397401877776, 0.015402616380660738, 0.01614005530169987, 0.01720026373037058, 0.01855527678281527, 0.020128063714820704, 0.021823057605634313, 0.023549532767037383, 0.025233425456155662, 0.02682090912582089, 0.028277935644304013, 0.02958836138688669, 0.03075178004838767, 0.03178135312917392, 0.032701615840836536, 0.03354619008724175, 0.03435536243244803, 0.03517348220263417, 0.03604610463300102, 0.037016821711329986, 0.03812386260461376, 0.039396791206833745, 0.03453450315630811, 0.030961523340332323, 0.027470526675503332, 0.024153281029439415, 0.021126008682687006, 0.018525706756832246, 0.01648959200363478, 0.015107646420563047, 0.014362122922681981, 0.01410643640171883, 0.01411757617216394, 0.0141792372854493, 0.014136419778037455, 0.013911576608024535, 0.013500305679738629, 0.012959778742485462, 0.012392645643611588, 0.01192343867687262, 0.01166450768102925, 0.011676699228950265, 0.011943519664976485, 0.012377582470345224, 0.01285528227381535, 0.013257364709827446, 0.013499512555375468, 0.01355152245308536, 0.013449237044121652, 0.013299858932474694, 0.013272451593429506, 0.013558051124829395, 0.01429774881717733, 0.015520599435778154, 0.017144579403430064, 0.019030761703583976, 0.021037627470424872, 0.02304901690834608, 0.02498120715448176, 0.02678070508200273, 0.028419511624822962, 0.029890382369859237, 0.031202635597877035, 0.032378405098223956, 0.03344915229916416, 0.03445236581366981, 0.03542849638194081, 0.0364182109849148, 0.03745999834733732, 0.03858808557064237, 0.039830613485996515, 0.041208095372631426, 0.035883844887524184, 0.03251524778144182, 0.029247292962551477, 0.026160052316030403, 0.023345801336936707, 0.02090080332126457, 0.018907053984448415, 0.017404094505572704, 0.016362147523822302, 0.015677388629308262, 0.015199825062278424, 0.01477888179245207, 0.014302537102828033, 0.013719118878501812, 0.013043972529732823, 0.012354433854943052, 0.011770935230714017, 0.011418850866988664, 0.011375745402916726, 0.011631530910279825, 0.012091628094521615, 0.01261671068504302, 0.013066250369883224, 0.013327319177960394, 0.013331159173659492, 0.013065823600402085, 0.012590511189486073, 0.012051568029943782, 0.011686523215357627, 0.011777914707027501, 0.012528802993083673, 0.013946349819453922, 0.015867693898892213, 0.018078030446149567, 0.020391792102836308, 0.02267486169536551, 0.02484024843683155, 0.026838355151880676, 0.02864831215928585, 0.030271174343663443, 0.031724442535213865, 0.033037329866662295, 0.034246452087125685, 0.035391897528427405, 0.036513818137891056, 0.037649722935714995, 0.03883255867116482, 0.04008950657087499, 0.04144131121338454, 0.04290194962866928, 0.03726144358490956, 0.034081793382975754, 0.031011113236834052, 0.028115837044103136, 0.025465756227055495, 0.023125301184659705, 0.021139849743085394, 0.019519595445153144, 0.018228065028037095, 0.017184016339569383, 0.01627980222916078, 0.015409913957189394, 0.01449950320523486, 0.013526379238331351, 0.012534457907726072, 0.011635245485685593, 0.010985535865445492, 0.010726131805784694, 0.010899076279069246, 0.011413213522788982, 0.012092628698110222, 0.012750076085462787, 0.013230260215974496, 0.013423900271635932, 0.01327209101384856, 0.012773391396560288, 0.011999637847227044, 0.01112305248983526, 0.010442873695662037, 0.010348229225109076, 0.011125036096765814, 0.012747638886479678, 0.014952701115353238, 0.017451226525463548, 0.02002618576624776, 0.022535928082138532, 0.024895608860592906, 0.027061144344662266, 0.029018134027386115, 0.030774054134202453, 0.03235218526795109, 0.033786384643399045, 0.03511634192375324, 0.03638333086403333, 0.037626675923149236, 0.038881174590767634, 0.04017557661885409, 0.04153200976984243, 0.04296607446618412, 0.04448728416837141, 0.038619939242954066, 0.03560514822567735, 0.03269918732810021, 0.02995534851283249, 0.02742468237824055, 0.025148381880953512, 0.023148160688313865, 0.02141714064837419, 0.01991547059267981, 0.01857464196338683, 0.01731140995234965, 0.016048374591529833, 0.014736792623453763, 0.013378658133686576, 0.01204646522108025, 0.010894360231994617, 0.010135965821390152, 0.009948789321671125, 0.010338905305406711, 0.011120298000481353, 0.012033791328938413, 0.01285239609605987, 0.0134128092044974, 0.013611868496109451, 0.013400595610779432, 0.012786927807810319, 0.0118514300648183, 0.01078035553404404, 0.00990911778825328, 0.009700809264423103, 0.010505348575447847, 0.012269975690502512, 0.014658926750979503, 0.017339138145238294, 0.020079222075419602, 0.022735906285726606, 0.025226708659949772, 0.02751090483175101, 0.02957752639466721, 0.03143719052306714, 0.03311576900932696, 0.03464891635475996, 0.03607711879969927, 0.037441324176210496, 0.03877941022271643, 0.04012374884966705, 0.04149996019763526, 0.04292671670939093, 0.04441627162169044, 0.045975327309733006, 0.03992366726612713, 0.0370454032884983, 0.034269734017895535, 0.031638673241344964, 0.029188908658553336, 0.026945653405635168, 0.024916012495702917, 0.023083827617707536, 0.021408554354298556, 0.01983019123503126, 0.01828061002143389, 0.0166999232369004, 0.015056121827314323, 0.013367419690689848, 0.011727854271084304, 0.010330936248057665, 0.00945515598642517, 0.009329638523416358, 0.00992371805376981, 0.010951603796931296, 0.012081796718028654, 0.013062396365052402, 0.013730919849212998, 0.013994371780615073, 0.013816484957601096, 0.01321811071077224, 0.012292025669470017, 0.011234596915889529, 0.010384791636086571, 0.010196389190960753, 0.011007149541782045, 0.012771567788458756, 0.015168741612557192, 0.01787099012220419, 0.02064565756584233, 0.02334674774706436, 0.025889474497234582, 0.028231497963450793, 0.030360738285778077, 0.0322869328592066, 0.034035049715888964, 0.03563961902177806, 0.03713966832080903, 0.03857432813839277, 0.03997935423121517, 0.041384801257978256, 0.042813919019868106, 0.044283116388773226, 0.04580265833740948, 0.04737770093193322, 0.04114910605076254, 0.03837795549114499, 0.03569920947702339, 0.03314602620757311, 0.030744937187893454, 0.02851104840855643, 0.026443441868064604, 0.024522220486530553, 0.02270883872408221, 0.020950935933770103, 0.019191964794005565, 0.017385102212359962, 0.015510984148816772, 0.013600028014317495, 0.011761409304987388, 0.010214769200082073, 0.009281021842081391, 0.009218692320957502, 0.00996151040868364, 0.0111566223764633, 0.012435615473875462, 0.013539959523449671, 0.014313666553845285, 0.014674985368976708, 0.014601044308832719, 0.01412711964969859, 0.013358912412060907, 0.012495568218415236, 0.011847393850989587, 0.01179018572684319, 0.012591279124035256, 0.014235668725305047, 0.016484938996316385, 0.01906106895663294, 0.021745073874103033, 0.024389413440665617, 0.026903836835547958, 0.02924035823397976, 0.0313819018930133, 0.033333833226386195, 0.03511718147593432, 0.036762828185893735, 0.03830639656112136, 0.039783893383404524, 0.041228306558858126, 0.04266734650786601, 0.044122373538282016, 0.04560835438452139, 0.04713453214494826, 0.04870543754373636, 0.04228449128250989, 0.03959217832933999, 0.03697978947304708, 0.034474116020784706, 0.03209525160213532, 0.029852904881138752, 0.027743157169140692, 0.02574672753583914, 0.02382990715457971, 0.021949073946859462, 0.02005919556662346, 0.018126333627371913, 0.01614432921623769, 0.01415674973647848, 0.012285436150572013, 0.010758267192312414, 0.009886981324274124, 0.009895775614244196, 0.010692117611743785, 0.011928288317592841, 0.013249963047530582, 0.014408587756388412, 0.015255978576658849, 0.015718877032383977, 0.015784354649499257, 0.01549772128087718, 0.014969814112573707, 0.01438764430772508, 0.014011535580640066, 0.014125115315881185, 0.014923144723482192, 0.016415072132296937, 0.018448621817563682, 0.020813849572510822, 0.023321941478074294, 0.02583228719568881, 0.028251905326039915, 0.03052699307393159, 0.032634054666344864, 0.03457221967757211, 0.03635667960149525, 0.038012958928524465, 0.03957189950105108, 0.041065423554188824, 0.04252323881826285, 0.043970626418978746, 0.04542732874066322, 0.04690739004064591, 0.048419670504176726, 0.049968705075909496, 0.04332898074795193, 0.04068998176032478, 0.03811733746047821, 0.03563376199300932, 0.03325604695838888, 0.03099226851641485, 0.02883946217391155, 0.02678256555284957, 0.024795538593942713, 0.022845482147547305, 0.02090032389555579, 0.018940402670364002, 0.016974265646422015, 0.015058983842096113, 0.013323154757480995, 0.011978809121302825, 0.011277397071069607, 0.011363696026201592, 0.012135370650001125, 0.013304703623447165, 0.014570996262221275, 0.0157111766024726, 0.01658754233866992, 0.01713286727618144, 0.017339183958026205, 0.01725429668362704, 0.016983348122652044, 0.016688912028048154, 0.016577255108950768, 0.016855814984868548, 0.017664942617542347, 0.019025449444507472, 0.02084629074585616, 0.022979475144818698, 0.025274277855965952, 0.027606446965778655, 0.02988657308408678, 0.032058248431798296, 0.03409273431295355, 0.03598296062087109, 0.037737764261124955, 0.03937660652513406, 0.04092487324734387, 0.04240988637255116, 0.04385777808339387, 0.04529133736996535, 0.046728833180852164, 0.04818368670511913, 0.04966475996198477, 0.05117698629149084, 0.044291526057089796, 0.04168433002362916, 0.03912968737268565, 0.03664819860383595, 0.034255897044297275, 0.03196219056735756, 0.029768183739704374, 0.02766598736061189, 0.025639771389702304, 0.023669355257213146, 0.02173701542233419, 0.01983792654601581, 0.01799417654886394, 0.01627102900098747, 0.014789980408084921, 0.01372270270536667, 0.013238723206057967, 0.013406083777028182, 0.014126137159291337, 0.01518129351508985, 0.016337480601762558, 0.017408825690371648, 0.01827418643364493, 0.018873205566209687, 0.019199815947744808, 0.019298288093568608, 0.019260573789118322, 0.01922018512476963, 0.01933551285006554, 0.019757510206261576, 0.020588061042293403, 0.02185040746639806, 0.023490987745350602, 0.025408428105299613, 0.027488239842399047, 0.02962727853354345, 0.03174526974243081, 0.03378740231667342, 0.03572231093639106, 0.03753813688920902, 0.039238001820530416, 0.040835508907972606, 0.04235058809201136, 0.0438058990525164, 0.04522395585814434, 0.04662507260304856, 0.04802613488959689, 0.049440097281686156, 0.0508760248013548, 0.05233946248551322, 0.0451894601237254, 0.04259760365959242, 0.040044921782691395, 0.03755149095988809, 0.03513455640350594, 0.03280709897831545, 0.030576638280352352, 0.028444709049811636, 0.026407626487691273, 0.02445927441057921, 0.022596592963984904, 0.020828051115758604, 0.019184406620660798, 0.017728952259613042, 0.01656046323968377, 0.015797234668413915, 0.015533520556261034, 0.015783897807582353, 0.016459681329267773, 0.017401139854344112, 0.018434802795263477, 0.01941555221697593, 0.020244099355358685, 0.02086971800378401, 0.021287844238695695, 0.02153659977296421, 0.021692088906327064, 0.021859869114433047, 0.02215933614536379, 0.022700223788683964, 0.023556598974710994, 0.024749448096770103, 0.026246686715471184, 0.027979001580775754, 0.02986157075624351, 0.031812308716313895, 0.03376292409891144, 0.03566350155865993, 0.037482786365563875, 0.039206102035481374, 0.04083216962373388, 0.04236957290557847, 0.043833307020761915, 0.04524168800052769, 0.04661380560725964, 0.04796762051358429, 0.049318720912159254, 0.05067967017967554, 0.05205981444041565, 0.0534653917870387, 0.046046747517628446, 0.04345963681534631, 0.04089931500274483, 0.03838654969406428, 0.03594122477103353, 0.033581450491192544, 0.031322731524989135, 0.029177452132556517, 0.027155115611572096, 0.025263931175172945, 0.023514314013838, 0.02192439985591772, 0.020526496192149673, 0.019371386874651376, 0.018525170821765816, 0.018053278125658056, 0.017992689811069874, 0.01832588610915649, 0.018975466060729026, 0.019824376558924585, 0.0207473722887893, 0.02163685709453825, 0.022417074478648446, 0.023049130435258334, 0.023530966487451725, 0.023894643308796846, 0.02420120130084992, 0.02453206340126729, 0.024975966046012214, 0.02561219387264492, 0.026493973806057454, 0.027637914879807816, 0.029023663396092705, 0.03060300592563195, 0.032313520522085325, 0.03409146206717135, 0.0358808911599114, 0.037638557082731665, 0.03933539199007057, 0.040955775218913595, 0.0424955379029318, 0.043959390986547144, 0.04535822836641208, 0.046706600668771595, 0.04802054817369008, 0.049315896558723184, 0.05060704337388005, 0.051906197650204745, 0.05322298835855022, 0.054564336935921415, 0.046891858189478365, 0.044305301637573916, 0.041734696394592485, 0.03920236891474237, 0.03673176390313865, 0.034347016528309286, 0.032072378611455316, 0.029931558290517243, 0.027947179327285403, 0.026140740431601073, 0.024533507605704833, 0.023148449983122515, 0.0220124298365663, 0.02115657671561771, 0.020612068126044287, 0.020399947067494872, 0.020517768089944287, 0.020930195025367398, 0.021570207991629828, 0.022351241476091174, 0.023184247059473657, 0.023992865773395888, 0.024723343615549745, 0.025349201076635255, 0.025871963811952, 0.026318990757467943, 0.026738688142811693, 0.02719293559217581, 0.02774681448229525, 0.028456824997630616, 0.029360193208938984, 0.03046844344043934, 0.03176721658846479, 0.03322183389808858, 0.03478602730151156, 0.03641081643656061, 0.03805147431601137, 0.03967185198232933, 0.041246272475564935, 0.042759604250758226, 0.04420616189902151, 0.04558796704552708, 0.04691276038106421, 0.048192034522535024, 0.04943926265094019, 0.05066842237343703, 0.05189285219277576, 0.05312442905145701, 0.05437302279268875, 0.055646169390514096, 0.04775529673876054, 0.0451716263130285, 0.042595159653542644, 0.040050340126410004, 0.03756463449893415, 0.03516846442553194, 0.03289476458923004, 0.03077801188172029, 0.02885267235994353, 0.027151223888942366, 0.02570215624652519, 0.024528419778528147, 0.023646463015874808, 0.023065333922918083, 0.022784894409390643, 0.022792743701513952, 0.023060946811968568, 0.02354491321577357, 0.024186368341644077, 0.024920358509287123, 0.025684250805237716, 0.02642615930940317, 0.027111060413317543, 0.027724019669864503, 0.028270666283325894, 0.028775217586846168, 0.029276265348345366, 0.029820534597223527, 0.03045513721435616, 0.031219448900663083, 0.032138304629920594, 0.033218220080179744, 0.03444753594872059, 0.03580008248922969, 0.03724091125965636, 0.03873235737705777, 0.04023911527297631, 0.04173170490739582, 0.04318829012059762, 0.04459513890855203, 0.0459461209345706, 0.047241614198492356, 0.04848711867630348, 0.04969179340534711, 0.050867061789499846, 0.05202537135939634, 0.05317914848969792, 0.054339955561950065, 0.055517838161255634, 0.05672084246187626, 0.04866692509068932, 0.04609459499696807, 0.04352327887338026, 0.040979818845448546, 0.03849574661172842, 0.03610743804017171, 0.03385564775105552, 0.031784062461640235, 0.029936587006515223, 0.02835337729912355, 0.027066175527784116, 0.026094075134295153, 0.025441000315274662, 0.025095584353606246, 0.02503304145844672, 0.025217896807184503, 0.025606671925441957, 0.026150482035333437, 0.026798091551566344, 0.027499799234556338, 0.028211880918859282, 0.028900816391300155, 0.029546474783364602, 0.03014370542754641, 0.030702108142912955, 0.031243989539973795, 0.03180067083614704, 0.03240749526584404, 0.03309814985980131, 0.03389921212608701, 0.034825982466964195, 0.035880480479886026, 0.03705193948545698, 0.03831944075710719, 0.0396558117844934, 0.041031775221006386, 0.042419544152349276, 0.04379542782581495, 0.04514135483530276, 0.0464454442326495, 0.047701853277913514, 0.048910140930869414, 0.05007435121103068, 0.05120197065166352, 0.05230286577808607, 0.05338826682288356, 0.05446983487838813, 0.055558831493316724, 0.05666540130652874, 0.0577979773347219];\n",
       "const xvar = \"epochs\";\n",
       "const yvar = \"decay\";\n",
       "const x_is_log = false;\n",
       "const y_is_log = true;\n",
       "\n",
       "const GREEN_SCALE = [[247, 252, 253], [229, 245, 249], [204, 236, 230], [153, 216, 201], [102, 194, 164], [65, 174, 118], [35, 139, 69], [0, 109, 44], [0, 68, 27]];\n",
       "const GREEN_PINK_SCALE = [[142, 1, 82], [197, 27, 125], [222, 119, 174], [241, 182, 218], [253, 224, 239], [247, 247, 247], [230, 245, 208], [184, 225, 134], [127, 188, 65], [77, 146, 33], [39, 100, 25]];\n",
       "const BLUE_SCALE = [[255, 247, 251], [236, 231, 242], [208, 209, 230], [166, 189, 219], [116, 169, 207], [54, 144, 192], [5, 112, 176], [3, 78, 123]];\n",
       "\n",
       "// format data\n",
       "const res = relativize_data(f, sd, rel, arm_data, metric);\n",
       "const f_final = res[0];\n",
       "const sd_final = res[1];\n",
       "\n",
       "// calculate max of abs(outcome), used for colorscale\n",
       "const f_absmax = Math.max(Math.abs(Math.min(...f_final)), Math.max(...f_final));\n",
       "\n",
       "// transform to nested array\n",
       "var f_plt = [];\n",
       "while(f_final.length) f_plt.push(f_final.splice(0, density));\n",
       "var sd_plt = [];\n",
       "while(sd_final.length) sd_plt.push(sd_final.splice(0, density));\n",
       "\n",
       "// create traces\n",
       "const CONTOUR_CONFIG = {\n",
       "  autocolorscale: false,\n",
       "  autocontour: true,\n",
       "  contours: {\n",
       "    coloring: 'heatmap',\n",
       "  },\n",
       "  hoverinfo: 'x+y+z',\n",
       "  ncontours: density / 2,\n",
       "  type: 'contour',\n",
       "  x: grid_x,\n",
       "  y: grid_y,\n",
       "};\n",
       "\n",
       "let f_scale;\n",
       "if (rel === true) {\n",
       "  f_scale = lower_is_better === true\n",
       "    ? GREEN_PINK_SCALE.reverse()\n",
       "    : GREEN_PINK_SCALE;\n",
       "} else {\n",
       "  f_scale = GREEN_SCALE;\n",
       "}\n",
       "\n",
       "const f_trace = {\n",
       "  colorbar: {\n",
       "    x: 0.45,\n",
       "    y: 0.5,\n",
       "    ticksuffix: rel === true ? '%' : '',\n",
       "    tickfont: {\n",
       "      size: 8,\n",
       "    },\n",
       "  },\n",
       "  colorscale: f_scale.map(\n",
       "    (v, i) => [i / (f_scale.length - 1), rgb(v)]\n",
       "  ),\n",
       "  xaxis: 'x',\n",
       "  yaxis: 'y',\n",
       "  z: f_plt,\n",
       "  // zmax and zmin are ignored if zauto is true\n",
       "  zauto: !rel,\n",
       "  zmax: f_absmax,\n",
       "  zmin: -f_absmax,\n",
       "};\n",
       "\n",
       "const sd_trace = {\n",
       "  colorbar: {\n",
       "      x: 1,\n",
       "      y: 0.5,\n",
       "      ticksuffix: rel === true ? '%' : '',\n",
       "      tickfont: {\n",
       "        size: 8,\n",
       "      },\n",
       "  },\n",
       "  colorscale: BLUE_SCALE.map(\n",
       "    (v, i) => [i / (BLUE_SCALE.length - 1), rgb(v)]\n",
       "  ),\n",
       "  xaxis: 'x2',\n",
       "  yaxis: 'y2',\n",
       "  z: sd_plt,\n",
       "};\n",
       "\n",
       "Object.keys(CONTOUR_CONFIG).forEach(key => {\n",
       "  f_trace[key] = CONTOUR_CONFIG[key];\n",
       "  sd_trace[key] = CONTOUR_CONFIG[key];\n",
       "});\n",
       "\n",
       "// get in-sample arms\n",
       "const arm_x = [];\n",
       "const arm_y = [];\n",
       "const arm_text = [];\n",
       "\n",
       "Object.keys(arm_data['in_sample']).forEach(arm_name => {\n",
       "  arm_x.push(arm_data['in_sample'][arm_name]['parameters'][xvar]);\n",
       "  arm_y.push(arm_data['in_sample'][arm_name]['parameters'][yvar]);\n",
       "  arm_text.push(arm_name);\n",
       "});\n",
       "\n",
       "// configs for in-sample arms\n",
       "const base_in_sample_arm_config = {\n",
       "  hoverinfo: 'text',\n",
       "  legendgroup: 'In-sample',\n",
       "  marker: {color: 'black', symbol: 1, opacity: 0.5},\n",
       "  mode: 'markers',\n",
       "  name: 'In-sample',\n",
       "  text: arm_text,\n",
       "  type: 'scatter',\n",
       "  x: arm_x,\n",
       "  y: arm_y,\n",
       "};\n",
       "\n",
       "const f_in_sample_arm_trace = {\n",
       "  xaxis: 'x',\n",
       "  yaxis: 'y',\n",
       "};\n",
       "\n",
       "const sd_in_sample_arm_trace = {\n",
       "  showlegend: false,\n",
       "  xaxis: 'x2',\n",
       "  yaxis: 'y2',\n",
       "};\n",
       "\n",
       "Object.keys(base_in_sample_arm_config).forEach(key => {\n",
       "  f_in_sample_arm_trace[key] = base_in_sample_arm_config[key];\n",
       "  sd_in_sample_arm_trace[key] = base_in_sample_arm_config[key];\n",
       "});\n",
       "\n",
       "const traces = [\n",
       "  f_trace,\n",
       "  sd_trace,\n",
       "  f_in_sample_arm_trace,\n",
       "  sd_in_sample_arm_trace,\n",
       "];\n",
       "\n",
       "// start symbol at 2 for candidate markers\n",
       "let i = 2;\n",
       "\n",
       "// iterate over out-of-sample arms\n",
       "Object.keys(arm_data['out_of_sample']).forEach(generator_run_name => {\n",
       "  const ax = [];\n",
       "  const ay = [];\n",
       "  const atext = [];\n",
       "\n",
       "  Object.keys(arm_data['out_of_sample'][generator_run_name]).forEach(arm_name => {\n",
       "    ax.push(\n",
       "      arm_data['out_of_sample'][generator_run_name][arm_name]['parameters'][xvar]\n",
       "    );\n",
       "    ay.push(\n",
       "      arm_data['out_of_sample'][generator_run_name][arm_name]['parameters'][yvar]\n",
       "    );\n",
       "    atext.push('<em>Candidate ' + arm_name + '</em>');\n",
       "  });\n",
       "\n",
       "  traces.push({\n",
       "    hoverinfo: 'text',\n",
       "    legendgroup: generator_run_name,\n",
       "    marker: {color: 'black', symbol: i, opacity: 0.5},\n",
       "    mode: 'markers',\n",
       "    name: generator_run_name,\n",
       "    text: atext,\n",
       "    type: 'scatter',\n",
       "    xaxis: 'x',\n",
       "    x: ax,\n",
       "    yaxis: 'y',\n",
       "    y: ay,\n",
       "  });\n",
       "  traces.push({\n",
       "    hoverinfo: 'text',\n",
       "    legendgroup: generator_run_name,\n",
       "    marker: {color: 'black', symbol: i, opacity: 0.5},\n",
       "    mode: 'markers',\n",
       "    name: 'In-sample',\n",
       "    showlegend: false,\n",
       "    text: atext,\n",
       "    type: 'scatter',\n",
       "    x: ax,\n",
       "    xaxis: 'x2',\n",
       "    y: ay,\n",
       "    yaxis: 'y2',\n",
       "  });\n",
       "  i += 1;\n",
       "});\n",
       "\n",
       "// layout\n",
       "const xrange = axis_range(grid_x, x_is_log);\n",
       "const yrange = axis_range(grid_y, y_is_log);\n",
       "\n",
       "const xtype = x_is_log ? 'log' : 'linear';\n",
       "const ytype = y_is_log ? 'log' : 'linear';\n",
       "\n",
       "const layout = {\n",
       "  autosize: false,\n",
       "    margin: {\n",
       "      l: 35,\n",
       "      r: 35,\n",
       "      t: 35,\n",
       "      b: 100,\n",
       "      pad: 0,\n",
       "  },\n",
       "  annotations: [\n",
       "    {\n",
       "      font: {size: 14},\n",
       "      showarrow: false,\n",
       "      text: 'Mean',\n",
       "      x: 0.25,\n",
       "      xanchor: 'center',\n",
       "      xref: 'paper',\n",
       "      y: 1,\n",
       "      yanchor: 'bottom',\n",
       "      yref: 'paper',\n",
       "    },\n",
       "    {\n",
       "      font: {size: 14},\n",
       "      showarrow: false,\n",
       "      text: 'Standard Error',\n",
       "      x: 0.8,\n",
       "      xanchor: 'center',\n",
       "      xref: 'paper',\n",
       "      y: 1,\n",
       "      yanchor: 'bottom',\n",
       "      yref: 'paper',\n",
       "    },\n",
       "  ],\n",
       "  hovermode: 'closest',\n",
       "  legend: {orientation: 'h', x: 0, y: -0.25},\n",
       "  height: 450,\n",
       "  width: 950,\n",
       "  xaxis: {\n",
       "    anchor: 'y',\n",
       "    autorange: false,\n",
       "    domain: [0.05, 0.45],\n",
       "    exponentformat: 'e',\n",
       "    range: xrange,\n",
       "    tickfont: {size: 11},\n",
       "    tickmode: 'auto',\n",
       "    title: xvar,\n",
       "    type: xtype,\n",
       "  },\n",
       "  xaxis2: {\n",
       "    anchor: 'y2',\n",
       "    autorange: false,\n",
       "    domain: [0.60, 1],\n",
       "    exponentformat: 'e',\n",
       "    range: xrange,\n",
       "    tickfont: {size: 11},\n",
       "    tickmode: 'auto',\n",
       "    title: xvar,\n",
       "    type: xtype,\n",
       "  },\n",
       "  yaxis: {\n",
       "    anchor: 'x',\n",
       "    autorange: false,\n",
       "    domain: [0, 1],\n",
       "    exponentformat: 'e',\n",
       "    range: yrange,\n",
       "    tickfont: {size: 11},\n",
       "    tickmode: 'auto',\n",
       "    title: yvar,\n",
       "    type: ytype,\n",
       "  },\n",
       "  yaxis2: {\n",
       "    anchor: 'x2',\n",
       "    autorange: false,\n",
       "    domain: [0, 1],\n",
       "    exponentformat: 'e',\n",
       "    range: yrange,\n",
       "    tickfont: {size: 11},\n",
       "    tickmode: 'auto',\n",
       "    type: ytype,\n",
       "  },\n",
       "};\n",
       "\n",
       "Plotly.newPlot(\"6d4378912e354a61b2bf432807f5e9d2\", traces, layout, {showLink: false});\n",
       "});</script>"
      ]
     },
     "metadata": {},
     "output_type": "display_data"
    }
   ],
   "source": [
    "render(plot_contour(model=gpei, param_x='epochs', param_y='decay', metric_name='log_eval'))"
   ]
  },
  {
   "cell_type": "code",
   "execution_count": 25,
   "metadata": {
    "pycharm": {
     "name": "#%%\n"
    },
    "scrolled": false
   },
   "outputs": [
    {
     "data": {
      "text/html": [
       "<div id=\"62ee953cf76f4a2e98e7950f813b658b\" style=\"width: 100%;\" class=\"plotly-graph-div\"></div><script type='text/javascript'>/*\n",
       " * Copyright (c) Facebook, Inc. and its affiliates. All Rights Reserved.\n",
       " */\n",
       "\n",
       "require(['plotly'], function(Plotly) {\n",
       "  window.PLOTLYENV = window.PLOTLYENV || {};\n",
       "  window.PLOTLYENV.BASE_URL = 'https://plot.ly';\n",
       "  /*\n",
       " * Copyright (c) Facebook, Inc. and its affiliates. All Rights Reserved.\n",
       " */\n",
       "\n",
       "const arm_data = {\"metrics\": [\"log_eval\"], \"in_sample\": {\"10_0\": {\"name\": \"10_0\", \"parameters\": {\"lr\": 0.004044864308475928, \"decay\": 0.04707769638039004, \"epochs\": 6}, \"y\": {\"log_eval\": 4.020110049100475}, \"y_hat\": {\"log_eval\": 4.015350348125742}, \"se\": {\"log_eval\": 0.007556678271325456}, \"se_hat\": {\"log_eval\": 0.007233198162806532}, \"context_stratum\": null}, \"11_0\": {\"name\": \"11_0\", \"parameters\": {\"lr\": 0.0037989071059585247, \"decay\": 0.0013841435750271724, \"epochs\": 9}, \"y\": {\"log_eval\": 3.921352853873042}, \"y_hat\": {\"log_eval\": 3.9243788852429975}, \"se\": {\"log_eval\": 0.010184709934255198}, \"se_hat\": {\"log_eval\": 0.009096599078786311}, \"context_stratum\": null}, \"12_0\": {\"name\": \"12_0\", \"parameters\": {\"lr\": 0.0010034284778267387, \"decay\": 0.01619763305775833, \"epochs\": 4}, \"y\": {\"log_eval\": 3.9779872969205443}, \"y_hat\": {\"log_eval\": 3.978076737674945}, \"se\": {\"log_eval\": 0.008471989545960273}, \"se_hat\": {\"log_eval\": 0.008341766780874211}, \"context_stratum\": null}, \"13_0\": {\"name\": \"13_0\", \"parameters\": {\"lr\": 0.0017365582947129383, \"decay\": 0.008977215067036219, \"epochs\": 1}, \"y\": {\"log_eval\": 3.975506861213706}, \"y_hat\": {\"log_eval\": 3.975290264046756}, \"se\": {\"log_eval\": 0.008807034960569648}, \"se_hat\": {\"log_eval\": 0.008638238723038353}, \"context_stratum\": null}, \"14_0\": {\"name\": \"14_0\", \"parameters\": {\"lr\": 0.006116741263131368, \"decay\": 0.07895861915890333, \"epochs\": 11}, \"y\": {\"log_eval\": 3.61423258781629}, \"y_hat\": {\"log_eval\": 3.6171929153616618}, \"se\": {\"log_eval\": 0.0063616699104992154}, \"se_hat\": {\"log_eval\": 0.006334580202861196}, \"context_stratum\": null}, \"15_0\": {\"name\": \"15_0\", \"parameters\": {\"lr\": 0.00512507486326056, \"decay\": 0.003491511312417426, \"epochs\": 7}, \"y\": {\"log_eval\": 3.998062387185866}, \"y_hat\": {\"log_eval\": 3.994441855043593}, \"se\": {\"log_eval\": 0.008792094974888445}, \"se_hat\": {\"log_eval\": 0.008446310530277413}, \"context_stratum\": null}, \"16_0\": {\"name\": \"16_0\", \"parameters\": {\"lr\": 0.0024074724487850477, \"decay\": 0.04021334838836546, \"epochs\": 9}, \"y\": {\"log_eval\": 4.0259356856422}, \"y_hat\": {\"log_eval\": 4.024116902143203}, \"se\": {\"log_eval\": 0.007840452586175162}, \"se_hat\": {\"log_eval\": 0.0075321422157095036}, \"context_stratum\": null}, \"17_0\": {\"name\": \"17_0\", \"parameters\": {\"lr\": 0.0012932799645160857, \"decay\": 0.002270241551766799, \"epochs\": 15}, \"y\": {\"log_eval\": 3.9645698466760853}, \"y_hat\": {\"log_eval\": 3.964848435640311}, \"se\": {\"log_eval\": 0.009111862981454109}, \"se_hat\": {\"log_eval\": 0.009013501390765339}, \"context_stratum\": null}, \"18_0\": {\"name\": \"18_0\", \"parameters\": {\"lr\": 0.0025618335265802736, \"decay\": 0.019564295308741823, \"epochs\": 2}, \"y\": {\"log_eval\": 4.014018816636409}, \"y_hat\": {\"log_eval\": 4.01357301971357}, \"se\": {\"log_eval\": 0.00792525179822629}, \"se_hat\": {\"log_eval\": 0.007613727873306417}, \"context_stratum\": null}, \"19_0\": {\"name\": \"19_0\", \"parameters\": {\"lr\": 0.002774570008448762, \"decay\": 0.00197962435500844, \"epochs\": 4}, \"y\": {\"log_eval\": 3.969413014029092}, \"y_hat\": {\"log_eval\": 3.9718046534403335}, \"se\": {\"log_eval\": 0.009130610560002307}, \"se_hat\": {\"log_eval\": 0.008800262483849436}, \"context_stratum\": null}, \"20_0\": {\"name\": \"20_0\", \"parameters\": {\"lr\": 0.0014007643909409292, \"decay\": 0.02253605918351418, \"epochs\": 9}, \"y\": {\"log_eval\": 4.0115342622454415}, \"y_hat\": {\"log_eval\": 4.0131960970243945}, \"se\": {\"log_eval\": 0.008904613847650317}, \"se_hat\": {\"log_eval\": 0.008445377722073578}, \"context_stratum\": null}, \"21_0\": {\"name\": \"21_0\", \"parameters\": {\"lr\": 0.0022177364780740904, \"decay\": 0.004060196864519902, \"epochs\": 12}, \"y\": {\"log_eval\": 3.9999811426165053}, \"y_hat\": {\"log_eval\": 3.998542932482182}, \"se\": {\"log_eval\": 0.008630238775110429}, \"se_hat\": {\"log_eval\": 0.00844079453250696}, \"context_stratum\": null}, \"22_0\": {\"name\": \"22_0\", \"parameters\": {\"lr\": 0.004721522756697272, \"decay\": 0.03473938680518261, \"epochs\": 2}, \"y\": {\"log_eval\": 4.015748638745597}, \"y_hat\": {\"log_eval\": 4.013775893589169}, \"se\": {\"log_eval\": 0.007617459348825448}, \"se_hat\": {\"log_eval\": 0.007223183155183658}, \"context_stratum\": null}, \"23_0\": {\"name\": \"23_0\", \"parameters\": {\"lr\": 0.006507217278079819, \"decay\": 0.007829091848627883, \"epochs\": 10}, \"y\": {\"log_eval\": 3.969515490044833}, \"y_hat\": {\"log_eval\": 3.9642037237397916}, \"se\": {\"log_eval\": 0.008249124176806254}, \"se_hat\": {\"log_eval\": 0.008048612110853021}, \"context_stratum\": null}, \"24_0\": {\"name\": \"24_0\", \"parameters\": {\"lr\": 0.0027287701230472123, \"decay\": 0.047467561333178455, \"epochs\": 5}, \"y\": {\"log_eval\": 4.008045219231504}, \"y_hat\": {\"log_eval\": 4.012722124044243}, \"se\": {\"log_eval\": 0.008600824796006514}, \"se_hat\": {\"log_eval\": 0.00813798449688285}, \"context_stratum\": null}, \"25_0\": {\"name\": \"25_0\", \"parameters\": {\"lr\": 0.0018620520236365425, \"decay\": 0.014504572431582102, \"epochs\": 11}, \"y\": {\"log_eval\": 4.0177322106840325}, \"y_hat\": {\"log_eval\": 4.01808485272548}, \"se\": {\"log_eval\": 0.008637085344971781}, \"se_hat\": {\"log_eval\": 0.008218315870386328}, \"context_stratum\": null}, \"26_0\": {\"name\": \"26_0\", \"parameters\": {\"lr\": 0.0012156310523465015, \"decay\": 0.08578899579530594, \"epochs\": 11}, \"y\": {\"log_eval\": 4.034312338135606}, \"y_hat\": {\"log_eval\": 4.034698353251241}, \"se\": {\"log_eval\": 0.007689923755965675}, \"se_hat\": {\"log_eval\": 0.0072154974270828435}, \"context_stratum\": null}, \"27_0\": {\"name\": \"27_0\", \"parameters\": {\"lr\": 0.0009034861576172048, \"decay\": 0.043318245856435324, \"epochs\": 14}, \"y\": {\"log_eval\": 4.037392070141155}, \"y_hat\": {\"log_eval\": 4.0363614662139815}, \"se\": {\"log_eval\": 0.007918972916914799}, \"se_hat\": {\"log_eval\": 0.00728011534702147}, \"context_stratum\": null}, \"28_0\": {\"name\": \"28_0\", \"parameters\": {\"lr\": 0.0011657755539881888, \"decay\": 0.1, \"epochs\": 15}, \"y\": {\"log_eval\": 4.0305296503746995}, \"y_hat\": {\"log_eval\": 4.029667281705869}, \"se\": {\"log_eval\": 0.007765747390425193}, \"se_hat\": {\"log_eval\": 0.007524587064582032}, \"context_stratum\": null}, \"29_0\": {\"name\": \"29_0\", \"parameters\": {\"lr\": 0.008000000000000004, \"decay\": 0.002288829527071239, \"epochs\": 7}, \"y\": {\"log_eval\": 3.9216153556747795}, \"y_hat\": {\"log_eval\": 3.92800375033489}, \"se\": {\"log_eval\": 0.010304896456927469}, \"se_hat\": {\"log_eval\": 0.009984030462509228}, \"context_stratum\": null}, \"30_0\": {\"name\": \"30_0\", \"parameters\": {\"lr\": 0.005128081369884944, \"decay\": 0.009714020504312918, \"epochs\": 3}, \"y\": {\"log_eval\": 4.003272017188419}, \"y_hat\": {\"log_eval\": 4.0047854909541}, \"se\": {\"log_eval\": 0.008744524217256345}, \"se_hat\": {\"log_eval\": 0.008455843694870372}, \"context_stratum\": null}, \"31_0\": {\"name\": \"31_0\", \"parameters\": {\"lr\": 0.0012034966711127215, \"decay\": 0.05331576453873375, \"epochs\": 13}, \"y\": {\"log_eval\": 4.034853146741749}, \"y_hat\": {\"log_eval\": 4.037019223140232}, \"se\": {\"log_eval\": 0.007891388538915295}, \"se_hat\": {\"log_eval\": 0.006970550579426248}, \"context_stratum\": null}, \"32_0\": {\"name\": \"32_0\", \"parameters\": {\"lr\": 0.0011924465660416662, \"decay\": 0.018078350513876462, \"epochs\": 15}, \"y\": {\"log_eval\": 4.0257891017009255}, \"y_hat\": {\"log_eval\": 4.024524760343655}, \"se\": {\"log_eval\": 0.008250339710490533}, \"se_hat\": {\"log_eval\": 0.007982545451364556}, \"context_stratum\": null}, \"33_0\": {\"name\": \"33_0\", \"parameters\": {\"lr\": 0.0008000000000000004, \"decay\": 0.1, \"epochs\": 13}, \"y\": {\"log_eval\": 4.039535780145851}, \"y_hat\": {\"log_eval\": 4.038127020458758}, \"se\": {\"log_eval\": 0.007132010393189851}, \"se_hat\": {\"log_eval\": 0.006680396623233546}, \"context_stratum\": null}, \"34_0\": {\"name\": \"34_0\", \"parameters\": {\"lr\": 0.0008000000000000004, \"decay\": 0.09999999999999949, \"epochs\": 9}, \"y\": {\"log_eval\": 4.026641731363641}, \"y_hat\": {\"log_eval\": 4.02671107068213}, \"se\": {\"log_eval\": 0.007205455158902104}, \"se_hat\": {\"log_eval\": 0.006952707419504712}, \"context_stratum\": null}, \"35_0\": {\"name\": \"35_0\", \"parameters\": {\"lr\": 0.0015388220487877905, \"decay\": 0.1, \"epochs\": 8}, \"y\": {\"log_eval\": 4.041210413503344}, \"y_hat\": {\"log_eval\": 4.039251153115173}, \"se\": {\"log_eval\": 0.007214847176585106}, \"se_hat\": {\"log_eval\": 0.00687629163522225}, \"context_stratum\": null}, \"36_0\": {\"name\": \"36_0\", \"parameters\": {\"lr\": 0.0016447015306304208, \"decay\": 0.05740378606914854, \"epochs\": 9}, \"y\": {\"log_eval\": 4.033673711417118}, \"y_hat\": {\"log_eval\": 4.034922153703092}, \"se\": {\"log_eval\": 0.007629768132666603}, \"se_hat\": {\"log_eval\": 0.006952403969317441}, \"context_stratum\": null}, \"37_0\": {\"name\": \"37_0\", \"parameters\": {\"lr\": 0.0008000000000000011, \"decay\": 0.001, \"epochs\": 7}, \"y\": {\"log_eval\": 3.977919594623966}, \"y_hat\": {\"log_eval\": 3.9777393136546957}, \"se\": {\"log_eval\": 0.009058110392772541}, \"se_hat\": {\"log_eval\": 0.0089722398516896}, \"context_stratum\": null}, \"38_0\": {\"name\": \"38_0\", \"parameters\": {\"lr\": 0.008000000000000004, \"decay\": 0.1, \"epochs\": 0}, \"y\": {\"log_eval\": 3.9132375011181257}, \"y_hat\": {\"log_eval\": 3.9135230297515196}, \"se\": {\"log_eval\": 0.008923038775749209}, \"se_hat\": {\"log_eval\": 0.008841739698609238}, \"context_stratum\": null}, \"39_0\": {\"name\": \"39_0\", \"parameters\": {\"lr\": 0.0008000000000000004, \"decay\": 0.034683012185556, \"epochs\": 11}, \"y\": {\"log_eval\": 4.044727817596675}, \"y_hat\": {\"log_eval\": 4.040715144633089}, \"se\": {\"log_eval\": 0.007789747219705842}, \"se_hat\": {\"log_eval\": 0.006963368495015841}, \"context_stratum\": null}, \"40_0\": {\"name\": \"40_0\", \"parameters\": {\"lr\": 0.0008000000000000004, \"decay\": 0.019416227604450564, \"epochs\": 13}, \"y\": {\"log_eval\": 4.005697820954328}, \"y_hat\": {\"log_eval\": 4.009098731989577}, \"se\": {\"log_eval\": 0.00871842467309026}, \"se_hat\": {\"log_eval\": 0.008204306028275373}, \"context_stratum\": null}, \"41_0\": {\"name\": \"41_0\", \"parameters\": {\"lr\": 0.00212708645449816, \"decay\": 0.01127820018448251, \"epochs\": 15}, \"y\": {\"log_eval\": 3.983780613080933}, \"y_hat\": {\"log_eval\": 3.9848810959978844}, \"se\": {\"log_eval\": 0.008859211473068451}, \"se_hat\": {\"log_eval\": 0.008676121060249982}, \"context_stratum\": null}, \"42_0\": {\"name\": \"42_0\", \"parameters\": {\"lr\": 0.0008000000000000004, \"decay\": 0.1, \"epochs\": 15}, \"y\": {\"log_eval\": 4.027518651810411}, \"y_hat\": {\"log_eval\": 4.028330745682156}, \"se\": {\"log_eval\": 0.007652008483475657}, \"se_hat\": {\"log_eval\": 0.007256147587810133}, \"context_stratum\": null}, \"43_0\": {\"name\": \"43_0\", \"parameters\": {\"lr\": 0.0008000000000000004, \"decay\": 0.03401669027082794, \"epochs\": 8}, \"y\": {\"log_eval\": 4.023404506162787}, \"y_hat\": {\"log_eval\": 4.02335703904453}, \"se\": {\"log_eval\": 0.007980565078703471}, \"se_hat\": {\"log_eval\": 0.007708830083616422}, \"context_stratum\": null}, \"44_0\": {\"name\": \"44_0\", \"parameters\": {\"lr\": 0.003633636002786291, \"decay\": 0.028776448733151633, \"epochs\": 3}, \"y\": {\"log_eval\": 4.0366771130414705}, \"y_hat\": {\"log_eval\": 4.036021381561066}, \"se\": {\"log_eval\": 0.007737460497862321}, \"se_hat\": {\"log_eval\": 0.006611636780960699}, \"context_stratum\": null}, \"45_0\": {\"name\": \"45_0\", \"parameters\": {\"lr\": 0.008000000000000004, \"decay\": 0.007147212988528556, \"epochs\": 0}, \"y\": {\"log_eval\": 3.924091409401043}, \"y_hat\": {\"log_eval\": 3.9259242687905567}, \"se\": {\"log_eval\": 0.0089671782093854}, \"se_hat\": {\"log_eval\": 0.008837653500910583}, \"context_stratum\": null}, \"46_0\": {\"name\": \"46_0\", \"parameters\": {\"lr\": 0.0008000000000000004, \"decay\": 0.062132377301891986, \"epochs\": 11}, \"y\": {\"log_eval\": 4.03621600874713}, \"y_hat\": {\"log_eval\": 4.038803959029759}, \"se\": {\"log_eval\": 0.007890092508523705}, \"se_hat\": {\"log_eval\": 0.006788521473106762}, \"context_stratum\": null}, \"47_0\": {\"name\": \"47_0\", \"parameters\": {\"lr\": 0.0008000000000000004, \"decay\": 0.001, \"epochs\": 0}, \"y\": {\"log_eval\": 3.939849888806768}, \"y_hat\": {\"log_eval\": 3.9399320453544253}, \"se\": {\"log_eval\": 0.00877473308367555}, \"se_hat\": {\"log_eval\": 0.008719145213336643}, \"context_stratum\": null}, \"48_0\": {\"name\": \"48_0\", \"parameters\": {\"lr\": 0.004308203330778961, \"decay\": 0.028771024643772, \"epochs\": 4}, \"y\": {\"log_eval\": 4.036188325149162}, \"y_hat\": {\"log_eval\": 4.039249081142876}, \"se\": {\"log_eval\": 0.007577407991815798}, \"se_hat\": {\"log_eval\": 0.0065229120234578655}, \"context_stratum\": null}, \"49_0\": {\"name\": \"49_0\", \"parameters\": {\"lr\": 0.0036967447563253904, \"decay\": 0.1, \"epochs\": 3}, \"y\": {\"log_eval\": 3.939970232874096}, \"y_hat\": {\"log_eval\": 3.9411933023752272}, \"se\": {\"log_eval\": 0.0072260554461817585}, \"se_hat\": {\"log_eval\": 0.007118949508254934}, \"context_stratum\": null}, \"4_0\": {\"name\": \"4_0\", \"parameters\": {\"lr\": 0.0011934390082424268, \"decay\": 0.06686069314247507, \"epochs\": 1}, \"y\": {\"log_eval\": 3.9676639950748886}, \"y_hat\": {\"log_eval\": 3.967407555009287}, \"se\": {\"log_eval\": 0.008439619929951075}, \"se_hat\": {\"log_eval\": 0.008355323774245435}, \"context_stratum\": null}, \"50_0\": {\"name\": \"50_0\", \"parameters\": {\"lr\": 0.0010861821066179202, \"decay\": 0.1, \"epochs\": 6}, \"y\": {\"log_eval\": 4.01873097461381}, \"y_hat\": {\"log_eval\": 4.018774498109206}, \"se\": {\"log_eval\": 0.007476939713896601}, \"se_hat\": {\"log_eval\": 0.007284472147061626}, \"context_stratum\": null}, \"51_0\": {\"name\": \"51_0\", \"parameters\": {\"lr\": 0.0029168908105427667, \"decay\": 0.02052006286485383, \"epochs\": 6}, \"y\": {\"log_eval\": 4.046149745093893}, \"y_hat\": {\"log_eval\": 4.046139565660806}, \"se\": {\"log_eval\": 0.008199089686813746}, \"se_hat\": {\"log_eval\": 0.007449515143363521}, \"context_stratum\": null}, \"52_0\": {\"name\": \"52_0\", \"parameters\": {\"lr\": 0.0014333221894011758, \"decay\": 0.003932877349377023, \"epochs\": 8}, \"y\": {\"log_eval\": 3.9847539886801733}, \"y_hat\": {\"log_eval\": 3.9852954697031624}, \"se\": {\"log_eval\": 0.008939494207823605}, \"se_hat\": {\"log_eval\": 0.00876160990108908}, \"context_stratum\": null}, \"53_0\": {\"name\": \"53_0\", \"parameters\": {\"lr\": 0.0034402691960054464, \"decay\": 0.024358234364913824, \"epochs\": 5}, \"y\": {\"log_eval\": 4.055870379113808}, \"y_hat\": {\"log_eval\": 4.0530499206343}, \"se\": {\"log_eval\": 0.007468974042501011}, \"se_hat\": {\"log_eval\": 0.0061067200752131815}, \"context_stratum\": null}, \"5_0\": {\"name\": \"5_0\", \"parameters\": {\"lr\": 0.0019558212574087366, \"decay\": 0.0011824514174953505, \"epochs\": 5}, \"y\": {\"log_eval\": 3.9826962664100476}, \"y_hat\": {\"log_eval\": 3.9812209404513363}, \"se\": {\"log_eval\": 0.008637217750371025}, \"se_hat\": {\"log_eval\": 0.008451074880474795}, \"context_stratum\": null}, \"6_0\": {\"name\": \"6_0\", \"parameters\": {\"lr\": 0.005551494394407805, \"decay\": 0.010283260945966472, \"epochs\": 8}, \"y\": {\"log_eval\": 3.937745563984811}, \"y_hat\": {\"log_eval\": 3.9483985569860742}, \"se\": {\"log_eval\": 0.009519154098377499}, \"se_hat\": {\"log_eval\": 0.008814390749896862}, \"context_stratum\": null}, \"7_0\": {\"name\": \"7_0\", \"parameters\": {\"lr\": 0.007662923912231201, \"decay\": 0.002680738706964375, \"epochs\": 3}, \"y\": {\"log_eval\": 4.011433652054382}, \"y_hat\": {\"log_eval\": 4.008593849982736}, \"se\": {\"log_eval\": 0.008661630655341245}, \"se_hat\": {\"log_eval\": 0.008472975026342998}, \"context_stratum\": null}, \"8_0\": {\"name\": \"8_0\", \"parameters\": {\"lr\": 0.0016311940380312328, \"decay\": 0.030532060346985843, \"epochs\": 13}, \"y\": {\"log_eval\": 4.033091584092544}, \"y_hat\": {\"log_eval\": 4.031388818002143}, \"se\": {\"log_eval\": 0.00794129124580905}, \"se_hat\": {\"log_eval\": 0.0075129234837603915}, \"context_stratum\": null}, \"9_0\": {\"name\": \"9_0\", \"parameters\": {\"lr\": 0.0008013008433305626, \"decay\": 0.005499813737312483, \"epochs\": 11}, \"y\": {\"log_eval\": 3.996061115189173}, \"y_hat\": {\"log_eval\": 3.9953230147021666}, \"se\": {\"log_eval\": 0.008740295689537658}, \"se_hat\": {\"log_eval\": 0.008591547617036153}, \"context_stratum\": null}, \"control1\": {\"name\": \"control1\", \"parameters\": {\"lr\": 0.0043, \"decay\": 0.0012, \"epochs\": 5}, \"y\": {\"log_eval\": 3.997396798885231}, \"y_hat\": {\"log_eval\": 3.9951330212120184}, \"se\": {\"log_eval\": 0.008531493375863187}, \"se_hat\": {\"log_eval\": 0.008318374028251425}, \"context_stratum\": null}, \"control2\": {\"name\": \"control2\", \"parameters\": {\"lr\": 0.0043, \"decay\": 0.0012, \"epochs\": 10}, \"y\": {\"log_eval\": 3.902201694947672}, \"y_hat\": {\"log_eval\": 3.9025434779865877}, \"se\": {\"log_eval\": 0.01006668027108687}, \"se_hat\": {\"log_eval\": 0.009324324088314554}, \"context_stratum\": null}, \"previous\": {\"name\": \"previous\", \"parameters\": {\"lr\": 0.00715, \"decay\": 0.01, \"epochs\": 6}, \"y\": {\"log_eval\": 3.9953394538615683}, \"y_hat\": {\"log_eval\": 3.9918436811219107}, \"se\": {\"log_eval\": 0.008252234051061177}, \"se_hat\": {\"log_eval\": 0.008005110145318989}, \"context_stratum\": null}, \"zero\": {\"name\": \"zero\", \"parameters\": {\"lr\": 0.0043, \"decay\": 0.0012, \"epochs\": 0}, \"y\": {\"log_eval\": 3.9341571499800057}, \"y_hat\": {\"log_eval\": 3.9350915596194054}, \"se\": {\"log_eval\": 0.009092915137801005}, \"se_hat\": {\"log_eval\": 0.00899225601874008}, \"context_stratum\": null}}, \"out_of_sample\": {}, \"status_quo_name\": null};\n",
       "const arm_name_to_parameters = {\"10_0\": {\"lr\": 0.004044864308475928, \"decay\": 0.04707769638039004, \"epochs\": 6}, \"11_0\": {\"lr\": 0.0037989071059585247, \"decay\": 0.0013841435750271724, \"epochs\": 9}, \"12_0\": {\"lr\": 0.0010034284778267387, \"decay\": 0.01619763305775833, \"epochs\": 4}, \"13_0\": {\"lr\": 0.0017365582947129383, \"decay\": 0.008977215067036219, \"epochs\": 1}, \"14_0\": {\"lr\": 0.006116741263131368, \"decay\": 0.07895861915890333, \"epochs\": 11}, \"15_0\": {\"lr\": 0.00512507486326056, \"decay\": 0.003491511312417426, \"epochs\": 7}, \"16_0\": {\"lr\": 0.0024074724487850477, \"decay\": 0.04021334838836546, \"epochs\": 9}, \"17_0\": {\"lr\": 0.0012932799645160857, \"decay\": 0.002270241551766799, \"epochs\": 15}, \"18_0\": {\"lr\": 0.0025618335265802736, \"decay\": 0.019564295308741823, \"epochs\": 2}, \"19_0\": {\"lr\": 0.002774570008448762, \"decay\": 0.00197962435500844, \"epochs\": 4}, \"20_0\": {\"lr\": 0.0014007643909409292, \"decay\": 0.02253605918351418, \"epochs\": 9}, \"21_0\": {\"lr\": 0.0022177364780740904, \"decay\": 0.004060196864519902, \"epochs\": 12}, \"22_0\": {\"lr\": 0.004721522756697272, \"decay\": 0.03473938680518261, \"epochs\": 2}, \"23_0\": {\"lr\": 0.006507217278079819, \"decay\": 0.007829091848627883, \"epochs\": 10}, \"24_0\": {\"lr\": 0.0027287701230472123, \"decay\": 0.047467561333178455, \"epochs\": 5}, \"25_0\": {\"lr\": 0.0018620520236365425, \"decay\": 0.014504572431582102, \"epochs\": 11}, \"26_0\": {\"lr\": 0.0012156310523465015, \"decay\": 0.08578899579530594, \"epochs\": 11}, \"27_0\": {\"lr\": 0.0009034861576172048, \"decay\": 0.043318245856435324, \"epochs\": 14}, \"28_0\": {\"lr\": 0.0011657755539881888, \"decay\": 0.1, \"epochs\": 15}, \"29_0\": {\"lr\": 0.008000000000000004, \"decay\": 0.002288829527071239, \"epochs\": 7}, \"30_0\": {\"lr\": 0.005128081369884944, \"decay\": 0.009714020504312918, \"epochs\": 3}, \"31_0\": {\"lr\": 0.0012034966711127215, \"decay\": 0.05331576453873375, \"epochs\": 13}, \"32_0\": {\"lr\": 0.0011924465660416662, \"decay\": 0.018078350513876462, \"epochs\": 15}, \"33_0\": {\"lr\": 0.0008000000000000004, \"decay\": 0.1, \"epochs\": 13}, \"34_0\": {\"lr\": 0.0008000000000000004, \"decay\": 0.09999999999999949, \"epochs\": 9}, \"35_0\": {\"lr\": 0.0015388220487877905, \"decay\": 0.1, \"epochs\": 8}, \"36_0\": {\"lr\": 0.0016447015306304208, \"decay\": 0.05740378606914854, \"epochs\": 9}, \"37_0\": {\"lr\": 0.0008000000000000011, \"decay\": 0.001, \"epochs\": 7}, \"38_0\": {\"lr\": 0.008000000000000004, \"decay\": 0.1, \"epochs\": 0}, \"39_0\": {\"lr\": 0.0008000000000000004, \"decay\": 0.034683012185556, \"epochs\": 11}, \"40_0\": {\"lr\": 0.0008000000000000004, \"decay\": 0.019416227604450564, \"epochs\": 13}, \"41_0\": {\"lr\": 0.00212708645449816, \"decay\": 0.01127820018448251, \"epochs\": 15}, \"42_0\": {\"lr\": 0.0008000000000000004, \"decay\": 0.1, \"epochs\": 15}, \"43_0\": {\"lr\": 0.0008000000000000004, \"decay\": 0.03401669027082794, \"epochs\": 8}, \"44_0\": {\"lr\": 0.003633636002786291, \"decay\": 0.028776448733151633, \"epochs\": 3}, \"45_0\": {\"lr\": 0.008000000000000004, \"decay\": 0.007147212988528556, \"epochs\": 0}, \"46_0\": {\"lr\": 0.0008000000000000004, \"decay\": 0.062132377301891986, \"epochs\": 11}, \"47_0\": {\"lr\": 0.0008000000000000004, \"decay\": 0.001, \"epochs\": 0}, \"48_0\": {\"lr\": 0.004308203330778961, \"decay\": 0.028771024643772, \"epochs\": 4}, \"49_0\": {\"lr\": 0.0036967447563253904, \"decay\": 0.1, \"epochs\": 3}, \"4_0\": {\"lr\": 0.0011934390082424268, \"decay\": 0.06686069314247507, \"epochs\": 1}, \"50_0\": {\"lr\": 0.0010861821066179202, \"decay\": 0.1, \"epochs\": 6}, \"51_0\": {\"lr\": 0.0029168908105427667, \"decay\": 0.02052006286485383, \"epochs\": 6}, \"52_0\": {\"lr\": 0.0014333221894011758, \"decay\": 0.003932877349377023, \"epochs\": 8}, \"53_0\": {\"lr\": 0.0034402691960054464, \"decay\": 0.024358234364913824, \"epochs\": 5}, \"5_0\": {\"lr\": 0.0019558212574087366, \"decay\": 0.0011824514174953505, \"epochs\": 5}, \"6_0\": {\"lr\": 0.005551494394407805, \"decay\": 0.010283260945966472, \"epochs\": 8}, \"7_0\": {\"lr\": 0.007662923912231201, \"decay\": 0.002680738706964375, \"epochs\": 3}, \"8_0\": {\"lr\": 0.0016311940380312328, \"decay\": 0.030532060346985843, \"epochs\": 13}, \"9_0\": {\"lr\": 0.0008013008433305626, \"decay\": 0.005499813737312483, \"epochs\": 11}, \"control1\": {\"lr\": 0.0043, \"decay\": 0.0012, \"epochs\": 5}, \"control2\": {\"lr\": 0.0043, \"decay\": 0.0012, \"epochs\": 10}, \"previous\": {\"lr\": 0.00715, \"decay\": 0.01, \"epochs\": 6}, \"zero\": {\"lr\": 0.0043, \"decay\": 0.0012, \"epochs\": 0}};\n",
       "const f = [4.013071597414784, 4.013168889700542, 4.013055378344747, 4.012776404343262, 4.012385522022182, 4.011942394595572, 4.011510302857388, 4.01115339715725, 4.010933802992608, 4.010908679547007, 4.011127338539571, 4.0116285640957035, 4.012438321521384, 4.01356806969724, 4.015013859130423, 4.016756297093494, 4.018761331013455, 4.020981693257373, 4.0233587845683, 4.02582473602908, 4.028304364509033, 4.030716719312183, 4.0329759105814915, 4.034990936643034, 4.036664365390569, 4.03789009214472, 4.038551022067112, 4.038518173345952, 4.037652909597527, 4.0358134760178, 4.032865906791415, 4.028698229456701, 4.023236175490841, 4.016458364131499, 4.00840877118029, 3.9992037912567144, 3.989030781668328, 3.978136239067164, 3.966805217818451, 3.955336721863016, 3.944020137710953, 3.9331160280759176, 3.9228426780934726, 3.913368517472873, 3.904809854150598, 3.8972329917450472, 3.890659614123606, 3.8850742573778314, 3.8804327442439517, 3.876670616915127];\n",
       "const fit_data = [{\"metric_name\": \"log_eval\", \"arm_name\": \"10_0\", \"mean\": 4.020110049100475, \"sem\": 0.007556678271325456}, {\"metric_name\": \"log_eval\", \"arm_name\": \"11_0\", \"mean\": 3.921352853873042, \"sem\": 0.010184709934255198}, {\"metric_name\": \"log_eval\", \"arm_name\": \"12_0\", \"mean\": 3.9779872969205443, \"sem\": 0.008471989545960273}, {\"metric_name\": \"log_eval\", \"arm_name\": \"13_0\", \"mean\": 3.975506861213706, \"sem\": 0.008807034960569648}, {\"metric_name\": \"log_eval\", \"arm_name\": \"14_0\", \"mean\": 3.61423258781629, \"sem\": 0.0063616699104992154}, {\"metric_name\": \"log_eval\", \"arm_name\": \"15_0\", \"mean\": 3.998062387185866, \"sem\": 0.008792094974888445}, {\"metric_name\": \"log_eval\", \"arm_name\": \"16_0\", \"mean\": 4.0259356856422, \"sem\": 0.007840452586175162}, {\"metric_name\": \"log_eval\", \"arm_name\": \"17_0\", \"mean\": 3.9645698466760853, \"sem\": 0.009111862981454109}, {\"metric_name\": \"log_eval\", \"arm_name\": \"18_0\", \"mean\": 4.014018816636409, \"sem\": 0.00792525179822629}, {\"metric_name\": \"log_eval\", \"arm_name\": \"19_0\", \"mean\": 3.969413014029092, \"sem\": 0.009130610560002307}, {\"metric_name\": \"log_eval\", \"arm_name\": \"20_0\", \"mean\": 4.0115342622454415, \"sem\": 0.008904613847650317}, {\"metric_name\": \"log_eval\", \"arm_name\": \"21_0\", \"mean\": 3.9999811426165053, \"sem\": 0.008630238775110429}, {\"metric_name\": \"log_eval\", \"arm_name\": \"22_0\", \"mean\": 4.015748638745597, \"sem\": 0.007617459348825448}, {\"metric_name\": \"log_eval\", \"arm_name\": \"23_0\", \"mean\": 3.969515490044833, \"sem\": 0.008249124176806254}, {\"metric_name\": \"log_eval\", \"arm_name\": \"24_0\", \"mean\": 4.008045219231504, \"sem\": 0.008600824796006514}, {\"metric_name\": \"log_eval\", \"arm_name\": \"25_0\", \"mean\": 4.0177322106840325, \"sem\": 0.008637085344971781}, {\"metric_name\": \"log_eval\", \"arm_name\": \"26_0\", \"mean\": 4.034312338135606, \"sem\": 0.007689923755965675}, {\"metric_name\": \"log_eval\", \"arm_name\": \"27_0\", \"mean\": 4.037392070141155, \"sem\": 0.007918972916914799}, {\"metric_name\": \"log_eval\", \"arm_name\": \"28_0\", \"mean\": 4.0305296503746995, \"sem\": 0.007765747390425193}, {\"metric_name\": \"log_eval\", \"arm_name\": \"29_0\", \"mean\": 3.9216153556747795, \"sem\": 0.010304896456927469}, {\"metric_name\": \"log_eval\", \"arm_name\": \"30_0\", \"mean\": 4.003272017188419, \"sem\": 0.008744524217256345}, {\"metric_name\": \"log_eval\", \"arm_name\": \"31_0\", \"mean\": 4.034853146741749, \"sem\": 0.007891388538915295}, {\"metric_name\": \"log_eval\", \"arm_name\": \"32_0\", \"mean\": 4.0257891017009255, \"sem\": 0.008250339710490533}, {\"metric_name\": \"log_eval\", \"arm_name\": \"33_0\", \"mean\": 4.039535780145851, \"sem\": 0.007132010393189851}, {\"metric_name\": \"log_eval\", \"arm_name\": \"34_0\", \"mean\": 4.026641731363641, \"sem\": 0.007205455158902104}, {\"metric_name\": \"log_eval\", \"arm_name\": \"35_0\", \"mean\": 4.041210413503344, \"sem\": 0.007214847176585106}, {\"metric_name\": \"log_eval\", \"arm_name\": \"36_0\", \"mean\": 4.033673711417118, \"sem\": 0.007629768132666603}, {\"metric_name\": \"log_eval\", \"arm_name\": \"37_0\", \"mean\": 3.977919594623966, \"sem\": 0.009058110392772541}, {\"metric_name\": \"log_eval\", \"arm_name\": \"38_0\", \"mean\": 3.9132375011181257, \"sem\": 0.008923038775749209}, {\"metric_name\": \"log_eval\", \"arm_name\": \"39_0\", \"mean\": 4.044727817596675, \"sem\": 0.007789747219705842}, {\"metric_name\": \"log_eval\", \"arm_name\": \"40_0\", \"mean\": 4.005697820954328, \"sem\": 0.00871842467309026}, {\"metric_name\": \"log_eval\", \"arm_name\": \"41_0\", \"mean\": 3.983780613080933, \"sem\": 0.008859211473068451}, {\"metric_name\": \"log_eval\", \"arm_name\": \"42_0\", \"mean\": 4.027518651810411, \"sem\": 0.007652008483475657}, {\"metric_name\": \"log_eval\", \"arm_name\": \"43_0\", \"mean\": 4.023404506162787, \"sem\": 0.007980565078703471}, {\"metric_name\": \"log_eval\", \"arm_name\": \"44_0\", \"mean\": 4.0366771130414705, \"sem\": 0.007737460497862321}, {\"metric_name\": \"log_eval\", \"arm_name\": \"45_0\", \"mean\": 3.924091409401043, \"sem\": 0.0089671782093854}, {\"metric_name\": \"log_eval\", \"arm_name\": \"46_0\", \"mean\": 4.03621600874713, \"sem\": 0.007890092508523705}, {\"metric_name\": \"log_eval\", \"arm_name\": \"47_0\", \"mean\": 3.939849888806768, \"sem\": 0.00877473308367555}, {\"metric_name\": \"log_eval\", \"arm_name\": \"48_0\", \"mean\": 4.036188325149162, \"sem\": 0.007577407991815798}, {\"metric_name\": \"log_eval\", \"arm_name\": \"49_0\", \"mean\": 3.939970232874096, \"sem\": 0.0072260554461817585}, {\"metric_name\": \"log_eval\", \"arm_name\": \"4_0\", \"mean\": 3.9676639950748886, \"sem\": 0.008439619929951075}, {\"metric_name\": \"log_eval\", \"arm_name\": \"50_0\", \"mean\": 4.01873097461381, \"sem\": 0.007476939713896601}, {\"metric_name\": \"log_eval\", \"arm_name\": \"51_0\", \"mean\": 4.046149745093893, \"sem\": 0.008199089686813746}, {\"metric_name\": \"log_eval\", \"arm_name\": \"52_0\", \"mean\": 3.9847539886801733, \"sem\": 0.008939494207823605}, {\"metric_name\": \"log_eval\", \"arm_name\": \"53_0\", \"mean\": 4.055870379113808, \"sem\": 0.007468974042501011}, {\"metric_name\": \"log_eval\", \"arm_name\": \"5_0\", \"mean\": 3.9826962664100476, \"sem\": 0.008637217750371025}, {\"metric_name\": \"log_eval\", \"arm_name\": \"6_0\", \"mean\": 3.937745563984811, \"sem\": 0.009519154098377499}, {\"metric_name\": \"log_eval\", \"arm_name\": \"7_0\", \"mean\": 4.011433652054382, \"sem\": 0.008661630655341245}, {\"metric_name\": \"log_eval\", \"arm_name\": \"8_0\", \"mean\": 4.033091584092544, \"sem\": 0.00794129124580905}, {\"metric_name\": \"log_eval\", \"arm_name\": \"9_0\", \"mean\": 3.996061115189173, \"sem\": 0.008740295689537658}, {\"metric_name\": \"log_eval\", \"arm_name\": \"control1\", \"mean\": 3.997396798885231, \"sem\": 0.008531493375863187}, {\"metric_name\": \"log_eval\", \"arm_name\": \"control2\", \"mean\": 3.902201694947672, \"sem\": 0.01006668027108687}, {\"metric_name\": \"log_eval\", \"arm_name\": \"previous\", \"mean\": 3.9953394538615683, \"sem\": 0.008252234051061177}, {\"metric_name\": \"log_eval\", \"arm_name\": \"zero\", \"mean\": 3.9341571499800057, \"sem\": 0.009092915137801005}];\n",
       "const grid = [0.0008000000000000004, 0.0008384905073237486, 0.000878832913590047, 0.0009211163194611579, 0.0009654341125114635, 0.001011884173484237, 0.001060569092472088, 0.0011115963954985103, 0.001165078782000996, 0.0012211343737401873, 0.0012798869756848463, 0.001341466349448807, 0.0014060084998838336, 0.0014736559754613737, 0.0015445581831066003, 0.0016188717181801267, 0.001696760710336153, 0.0017783971860209572, 0.0018639614484122983, 0.0019536424756389204, 0.0020476383381596297, 0.0021461566362237804, 0.0022494149583793858, 0.0023576413620414486, 0.0024710748771819865, 0.0025899660342541156, 0.0027145774175162648, 0.002845184244978504, 0.0029820749762519516, 0.0031255519496436947, 0.00327593204990434, 0.003433547408103024, 0.003598746135175557, 0.003771893090765917, 0.003953370689059068, 0.004143579743384972, 0.004342940351459089, 0.004551892823214636, 0.004770898653275716, 0.005000441540219178, 0.005241028454876409, 0.005493190760034401, 0.005757485384009219, 0.0060344960506836945, 0.006324834568726164, 0.006629142182837476, 0.0069480909900108195, 0.007282385423932177, 0.007632763810799958, 0.008000000000000004];\n",
       "const metric = \"log_eval\";\n",
       "const param = \"lr\";\n",
       "const rel = false;\n",
       "const setx = {\"lr\": 0.002607485148297835, \"decay\": 0.03386723289288722, \"epochs\": 7};\n",
       "const sd = [0.013685993444631681, 0.013388652994385688, 0.014162000871318432, 0.015535771337891623, 0.017085087142023527, 0.018542028825229234, 0.019771215618900412, 0.0207248598910494, 0.02140985346264948, 0.021865498775597653, 0.022146645609375914, 0.022309211570145378, 0.022397543261272218, 0.022434893482917957, 0.022418943784192187, 0.022323521055825572, 0.02210598503929916, 0.021718338896736515, 0.021119700497238384, 0.02028823772059337, 0.019231394308321128, 0.0179936546482981, 0.01666078835246964, 0.015357939372949755, 0.01423577648707627, 0.013436966935517275, 0.013044666150685964, 0.013041314932458938, 0.013316928339102186, 0.013724979426492014, 0.014142646629166374, 0.014505479513314521, 0.014816401955400033, 0.015137623813507953, 0.015569539593874878, 0.016218847391302093, 0.017164264158647066, 0.01843490556911698, 0.020010821645542468, 0.021840049863172294, 0.023858836558482078, 0.02600625862396715, 0.028231803857491918, 0.030497933440195663, 0.03277982437375483, 0.03506366802284758, 0.03734423637563329, 0.03962211439078501, 0.04190090638907637, 0.044184706919663856];\n",
       "const is_log = true;\n",
       "\n",
       "// format data\n",
       "const res = relativize_data(f, sd, rel, arm_data, metric);\n",
       "const f_final = res[0];\n",
       "const sd_final = res[1];\n",
       "\n",
       "// get data for standard deviation fill plot\n",
       "const sd_upper = [];\n",
       "const sd_lower = [];\n",
       "for (let i = 0; i < sd.length; i++) {\n",
       "  sd_upper.push(f_final[i] + 2 * sd_final[i]);\n",
       "  sd_lower.push(f_final[i] - 2 * sd_final[i]);\n",
       "}\n",
       "const grid_rev = copy_and_reverse(grid);\n",
       "const sd_lower_rev = copy_and_reverse(sd_lower);\n",
       "const sd_x = grid.concat(grid_rev);\n",
       "const sd_y = sd_upper.concat(sd_lower_rev);\n",
       "\n",
       "// get data for observed arms and error bars\n",
       "const arm_x = [];\n",
       "const arm_y = [];\n",
       "const arm_sem = [];\n",
       "fit_data.forEach(row => {\n",
       "    parameters = arm_name_to_parameters[row[\"arm_name\"]];\n",
       "    plot = true;\n",
       "    Object.keys(setx).forEach(p => {\n",
       "      if (p !== param && parameters[p] !== setx[p]) {\n",
       "        plot = false;\n",
       "      }\n",
       "    });\n",
       "    if (plot === true) {\n",
       "        arm_x.push(parameters[param]);\n",
       "        arm_y.push(row[\"mean\"]);\n",
       "        arm_sem.push(row[\"sem\"]);\n",
       "    }\n",
       "});\n",
       "\n",
       "const arm_res = relativize_data(\n",
       "  arm_y, arm_sem, rel, arm_data, metric\n",
       ");\n",
       "const arm_y_final = arm_res[0];\n",
       "const arm_sem_final = arm_res[1].map(x => x * 2);\n",
       "\n",
       "// create traces\n",
       "const f_trace = {\n",
       "  x: grid,\n",
       "  y: f_final,\n",
       "  showlegend: false,\n",
       "  hoverinfo: 'x+y',\n",
       "  line: {\n",
       "    color: 'rgba(128, 177, 211, 1)',\n",
       "  },\n",
       "};\n",
       "\n",
       "const arms_trace = {\n",
       "  x: arm_x,\n",
       "  y: arm_y_final,\n",
       "  mode: 'markers',\n",
       "  error_y: {\n",
       "    type: 'data',\n",
       "    array: arm_sem_final,\n",
       "    visible: true,\n",
       "    color: 'black',\n",
       "  },\n",
       "  line: {\n",
       "    color: 'black',\n",
       "  },\n",
       "  showlegend: false,\n",
       "  hoverinfo: 'x+y',\n",
       "};\n",
       "\n",
       "const sd_trace = {\n",
       "    x: sd_x,\n",
       "    y: sd_y,\n",
       "    fill: 'toself',\n",
       "    fillcolor: 'rgba(128, 177, 211, 0.2)',\n",
       "    line: {\n",
       "      color: 'transparent',\n",
       "    },\n",
       "    showlegend: false,\n",
       "    hoverinfo: 'none',\n",
       "};\n",
       "\n",
       "traces = [\n",
       "  sd_trace,\n",
       "  f_trace,\n",
       "  arms_trace,\n",
       "];\n",
       "\n",
       "// iterate over out-of-sample arms\n",
       "let i = 1;\n",
       "Object.keys(arm_data['out_of_sample']).forEach(generator_run_name => {\n",
       "  const ax = [];\n",
       "  const ay = [];\n",
       "  const asem = [];\n",
       "  const atext = [];\n",
       "\n",
       "  Object.keys(arm_data['out_of_sample'][generator_run_name]).forEach(arm_name => {\n",
       "    const parameters = arm_data[\n",
       "      'out_of_sample'][generator_run_name][arm_name]['parameters'];\n",
       "    plot = true;\n",
       "    Object.keys(setx).forEach(p => {\n",
       "      if (p !== param && parameters[p] !== setx[p]) {\n",
       "        plot = false;\n",
       "      }\n",
       "    });\n",
       "    if (plot === true) {\n",
       "      ax.push(parameters[param]);\n",
       "      ay.push(\n",
       "        arm_data['out_of_sample'][generator_run_name][arm_name]['y_hat'][metric]\n",
       "      );\n",
       "      asem.push(\n",
       "        arm_data['out_of_sample'][generator_run_name][arm_name]['se_hat'][metric]\n",
       "      );\n",
       "      atext.push('<em>Candidate ' + arm_name + '</em>');\n",
       "    }\n",
       "  });\n",
       "\n",
       "  const out_of_sample_arm_res = relativize_data(\n",
       "    ay, asem, rel, arm_data, metric\n",
       "  );\n",
       "  const ay_final = out_of_sample_arm_res[0];\n",
       "  const asem_final = out_of_sample_arm_res[1].map(x => x * 2);\n",
       "\n",
       "  traces.push({\n",
       "    hoverinfo: 'text',\n",
       "    legendgroup: generator_run_name,\n",
       "    marker: {color: 'black', symbol: i, opacity: 0.5},\n",
       "    mode: 'markers',\n",
       "    error_y: {\n",
       "      type: 'data',\n",
       "      array: asem_final,\n",
       "      visible: true,\n",
       "      color: 'black',\n",
       "    },\n",
       "    name: generator_run_name,\n",
       "    text: atext,\n",
       "    type: 'scatter',\n",
       "    xaxis: 'x',\n",
       "    x: ax,\n",
       "    yaxis: 'y',\n",
       "    y: ay_final,\n",
       "  });\n",
       "\n",
       "  i += 1;\n",
       "});\n",
       "\n",
       "// layout\n",
       "const xrange = axis_range(grid, is_log);\n",
       "const xtype = is_log ? 'log' : 'linear';\n",
       "\n",
       "layout = {\n",
       "  hovermode: 'closest',\n",
       "  xaxis: {\n",
       "    anchor: 'y',\n",
       "    autorange: false,\n",
       "    exponentformat: 'e',\n",
       "    range: xrange,\n",
       "    tickfont: {size: 11},\n",
       "    tickmode: 'auto',\n",
       "    title: param,\n",
       "    type: xtype,\n",
       "  },\n",
       "  yaxis: {\n",
       "    anchor: 'x',\n",
       "    tickfont: {size: 11},\n",
       "    tickmode: 'auto',\n",
       "    title: metric,\n",
       "  },\n",
       "};\n",
       "\n",
       "Plotly.newPlot(\n",
       "    \"62ee953cf76f4a2e98e7950f813b658b\",\n",
       "    traces,\n",
       "    layout,\n",
       "    {showLink: false},\n",
       ");\n",
       "});</script>"
      ]
     },
     "metadata": {},
     "output_type": "display_data"
    }
   ],
   "source": [
    "render(plot_slice(model=gpei, param_name='lr', metric_name='log_eval'))"
   ]
  },
  {
   "cell_type": "code",
   "execution_count": 26,
   "metadata": {
    "pycharm": {
     "name": "#%%\n"
    },
    "scrolled": false
   },
   "outputs": [
    {
     "data": {
      "text/html": [
       "<div id=\"a93c790896394857865145e60f382e97\" style=\"width: 100%;\" class=\"plotly-graph-div\"></div><script type='text/javascript'>/*\n",
       " * Copyright (c) Facebook, Inc. and its affiliates. All Rights Reserved.\n",
       " */\n",
       "\n",
       "require(['plotly'], function(Plotly) {\n",
       "  window.PLOTLYENV = window.PLOTLYENV || {};\n",
       "  window.PLOTLYENV.BASE_URL = 'https://plot.ly';\n",
       "  /*\n",
       " * Copyright (c) Facebook, Inc. and its affiliates. All Rights Reserved.\n",
       " */\n",
       "\n",
       "const arm_data = {\"metrics\": [\"log_eval\"], \"in_sample\": {\"10_0\": {\"name\": \"10_0\", \"parameters\": {\"lr\": 0.004044864308475928, \"decay\": 0.04707769638039004, \"epochs\": 6}, \"y\": {\"log_eval\": 4.020110049100475}, \"y_hat\": {\"log_eval\": 4.015350348125742}, \"se\": {\"log_eval\": 0.007556678271325456}, \"se_hat\": {\"log_eval\": 0.007233198162806532}, \"context_stratum\": null}, \"11_0\": {\"name\": \"11_0\", \"parameters\": {\"lr\": 0.0037989071059585247, \"decay\": 0.0013841435750271724, \"epochs\": 9}, \"y\": {\"log_eval\": 3.921352853873042}, \"y_hat\": {\"log_eval\": 3.9243788852429975}, \"se\": {\"log_eval\": 0.010184709934255198}, \"se_hat\": {\"log_eval\": 0.009096599078786311}, \"context_stratum\": null}, \"12_0\": {\"name\": \"12_0\", \"parameters\": {\"lr\": 0.0010034284778267387, \"decay\": 0.01619763305775833, \"epochs\": 4}, \"y\": {\"log_eval\": 3.9779872969205443}, \"y_hat\": {\"log_eval\": 3.978076737674945}, \"se\": {\"log_eval\": 0.008471989545960273}, \"se_hat\": {\"log_eval\": 0.008341766780874211}, \"context_stratum\": null}, \"13_0\": {\"name\": \"13_0\", \"parameters\": {\"lr\": 0.0017365582947129383, \"decay\": 0.008977215067036219, \"epochs\": 1}, \"y\": {\"log_eval\": 3.975506861213706}, \"y_hat\": {\"log_eval\": 3.975290264046756}, \"se\": {\"log_eval\": 0.008807034960569648}, \"se_hat\": {\"log_eval\": 0.008638238723038353}, \"context_stratum\": null}, \"14_0\": {\"name\": \"14_0\", \"parameters\": {\"lr\": 0.006116741263131368, \"decay\": 0.07895861915890333, \"epochs\": 11}, \"y\": {\"log_eval\": 3.61423258781629}, \"y_hat\": {\"log_eval\": 3.6171929153616618}, \"se\": {\"log_eval\": 0.0063616699104992154}, \"se_hat\": {\"log_eval\": 0.006334580202861196}, \"context_stratum\": null}, \"15_0\": {\"name\": \"15_0\", \"parameters\": {\"lr\": 0.00512507486326056, \"decay\": 0.003491511312417426, \"epochs\": 7}, \"y\": {\"log_eval\": 3.998062387185866}, \"y_hat\": {\"log_eval\": 3.994441855043593}, \"se\": {\"log_eval\": 0.008792094974888445}, \"se_hat\": {\"log_eval\": 0.008446310530277413}, \"context_stratum\": null}, \"16_0\": {\"name\": \"16_0\", \"parameters\": {\"lr\": 0.0024074724487850477, \"decay\": 0.04021334838836546, \"epochs\": 9}, \"y\": {\"log_eval\": 4.0259356856422}, \"y_hat\": {\"log_eval\": 4.024116902143203}, \"se\": {\"log_eval\": 0.007840452586175162}, \"se_hat\": {\"log_eval\": 0.0075321422157095036}, \"context_stratum\": null}, \"17_0\": {\"name\": \"17_0\", \"parameters\": {\"lr\": 0.0012932799645160857, \"decay\": 0.002270241551766799, \"epochs\": 15}, \"y\": {\"log_eval\": 3.9645698466760853}, \"y_hat\": {\"log_eval\": 3.964848435640311}, \"se\": {\"log_eval\": 0.009111862981454109}, \"se_hat\": {\"log_eval\": 0.009013501390765339}, \"context_stratum\": null}, \"18_0\": {\"name\": \"18_0\", \"parameters\": {\"lr\": 0.0025618335265802736, \"decay\": 0.019564295308741823, \"epochs\": 2}, \"y\": {\"log_eval\": 4.014018816636409}, \"y_hat\": {\"log_eval\": 4.01357301971357}, \"se\": {\"log_eval\": 0.00792525179822629}, \"se_hat\": {\"log_eval\": 0.007613727873306417}, \"context_stratum\": null}, \"19_0\": {\"name\": \"19_0\", \"parameters\": {\"lr\": 0.002774570008448762, \"decay\": 0.00197962435500844, \"epochs\": 4}, \"y\": {\"log_eval\": 3.969413014029092}, \"y_hat\": {\"log_eval\": 3.9718046534403335}, \"se\": {\"log_eval\": 0.009130610560002307}, \"se_hat\": {\"log_eval\": 0.008800262483849436}, \"context_stratum\": null}, \"20_0\": {\"name\": \"20_0\", \"parameters\": {\"lr\": 0.0014007643909409292, \"decay\": 0.02253605918351418, \"epochs\": 9}, \"y\": {\"log_eval\": 4.0115342622454415}, \"y_hat\": {\"log_eval\": 4.0131960970243945}, \"se\": {\"log_eval\": 0.008904613847650317}, \"se_hat\": {\"log_eval\": 0.008445377722073578}, \"context_stratum\": null}, \"21_0\": {\"name\": \"21_0\", \"parameters\": {\"lr\": 0.0022177364780740904, \"decay\": 0.004060196864519902, \"epochs\": 12}, \"y\": {\"log_eval\": 3.9999811426165053}, \"y_hat\": {\"log_eval\": 3.998542932482182}, \"se\": {\"log_eval\": 0.008630238775110429}, \"se_hat\": {\"log_eval\": 0.00844079453250696}, \"context_stratum\": null}, \"22_0\": {\"name\": \"22_0\", \"parameters\": {\"lr\": 0.004721522756697272, \"decay\": 0.03473938680518261, \"epochs\": 2}, \"y\": {\"log_eval\": 4.015748638745597}, \"y_hat\": {\"log_eval\": 4.013775893589169}, \"se\": {\"log_eval\": 0.007617459348825448}, \"se_hat\": {\"log_eval\": 0.007223183155183658}, \"context_stratum\": null}, \"23_0\": {\"name\": \"23_0\", \"parameters\": {\"lr\": 0.006507217278079819, \"decay\": 0.007829091848627883, \"epochs\": 10}, \"y\": {\"log_eval\": 3.969515490044833}, \"y_hat\": {\"log_eval\": 3.9642037237397916}, \"se\": {\"log_eval\": 0.008249124176806254}, \"se_hat\": {\"log_eval\": 0.008048612110853021}, \"context_stratum\": null}, \"24_0\": {\"name\": \"24_0\", \"parameters\": {\"lr\": 0.0027287701230472123, \"decay\": 0.047467561333178455, \"epochs\": 5}, \"y\": {\"log_eval\": 4.008045219231504}, \"y_hat\": {\"log_eval\": 4.012722124044243}, \"se\": {\"log_eval\": 0.008600824796006514}, \"se_hat\": {\"log_eval\": 0.00813798449688285}, \"context_stratum\": null}, \"25_0\": {\"name\": \"25_0\", \"parameters\": {\"lr\": 0.0018620520236365425, \"decay\": 0.014504572431582102, \"epochs\": 11}, \"y\": {\"log_eval\": 4.0177322106840325}, \"y_hat\": {\"log_eval\": 4.01808485272548}, \"se\": {\"log_eval\": 0.008637085344971781}, \"se_hat\": {\"log_eval\": 0.008218315870386328}, \"context_stratum\": null}, \"26_0\": {\"name\": \"26_0\", \"parameters\": {\"lr\": 0.0012156310523465015, \"decay\": 0.08578899579530594, \"epochs\": 11}, \"y\": {\"log_eval\": 4.034312338135606}, \"y_hat\": {\"log_eval\": 4.034698353251241}, \"se\": {\"log_eval\": 0.007689923755965675}, \"se_hat\": {\"log_eval\": 0.0072154974270828435}, \"context_stratum\": null}, \"27_0\": {\"name\": \"27_0\", \"parameters\": {\"lr\": 0.0009034861576172048, \"decay\": 0.043318245856435324, \"epochs\": 14}, \"y\": {\"log_eval\": 4.037392070141155}, \"y_hat\": {\"log_eval\": 4.0363614662139815}, \"se\": {\"log_eval\": 0.007918972916914799}, \"se_hat\": {\"log_eval\": 0.00728011534702147}, \"context_stratum\": null}, \"28_0\": {\"name\": \"28_0\", \"parameters\": {\"lr\": 0.0011657755539881888, \"decay\": 0.1, \"epochs\": 15}, \"y\": {\"log_eval\": 4.0305296503746995}, \"y_hat\": {\"log_eval\": 4.029667281705869}, \"se\": {\"log_eval\": 0.007765747390425193}, \"se_hat\": {\"log_eval\": 0.007524587064582032}, \"context_stratum\": null}, \"29_0\": {\"name\": \"29_0\", \"parameters\": {\"lr\": 0.008000000000000004, \"decay\": 0.002288829527071239, \"epochs\": 7}, \"y\": {\"log_eval\": 3.9216153556747795}, \"y_hat\": {\"log_eval\": 3.92800375033489}, \"se\": {\"log_eval\": 0.010304896456927469}, \"se_hat\": {\"log_eval\": 0.009984030462509228}, \"context_stratum\": null}, \"30_0\": {\"name\": \"30_0\", \"parameters\": {\"lr\": 0.005128081369884944, \"decay\": 0.009714020504312918, \"epochs\": 3}, \"y\": {\"log_eval\": 4.003272017188419}, \"y_hat\": {\"log_eval\": 4.0047854909541}, \"se\": {\"log_eval\": 0.008744524217256345}, \"se_hat\": {\"log_eval\": 0.008455843694870372}, \"context_stratum\": null}, \"31_0\": {\"name\": \"31_0\", \"parameters\": {\"lr\": 0.0012034966711127215, \"decay\": 0.05331576453873375, \"epochs\": 13}, \"y\": {\"log_eval\": 4.034853146741749}, \"y_hat\": {\"log_eval\": 4.037019223140232}, \"se\": {\"log_eval\": 0.007891388538915295}, \"se_hat\": {\"log_eval\": 0.006970550579426248}, \"context_stratum\": null}, \"32_0\": {\"name\": \"32_0\", \"parameters\": {\"lr\": 0.0011924465660416662, \"decay\": 0.018078350513876462, \"epochs\": 15}, \"y\": {\"log_eval\": 4.0257891017009255}, \"y_hat\": {\"log_eval\": 4.024524760343655}, \"se\": {\"log_eval\": 0.008250339710490533}, \"se_hat\": {\"log_eval\": 0.007982545451364556}, \"context_stratum\": null}, \"33_0\": {\"name\": \"33_0\", \"parameters\": {\"lr\": 0.0008000000000000004, \"decay\": 0.1, \"epochs\": 13}, \"y\": {\"log_eval\": 4.039535780145851}, \"y_hat\": {\"log_eval\": 4.038127020458758}, \"se\": {\"log_eval\": 0.007132010393189851}, \"se_hat\": {\"log_eval\": 0.006680396623233546}, \"context_stratum\": null}, \"34_0\": {\"name\": \"34_0\", \"parameters\": {\"lr\": 0.0008000000000000004, \"decay\": 0.09999999999999949, \"epochs\": 9}, \"y\": {\"log_eval\": 4.026641731363641}, \"y_hat\": {\"log_eval\": 4.02671107068213}, \"se\": {\"log_eval\": 0.007205455158902104}, \"se_hat\": {\"log_eval\": 0.006952707419504712}, \"context_stratum\": null}, \"35_0\": {\"name\": \"35_0\", \"parameters\": {\"lr\": 0.0015388220487877905, \"decay\": 0.1, \"epochs\": 8}, \"y\": {\"log_eval\": 4.041210413503344}, \"y_hat\": {\"log_eval\": 4.039251153115173}, \"se\": {\"log_eval\": 0.007214847176585106}, \"se_hat\": {\"log_eval\": 0.00687629163522225}, \"context_stratum\": null}, \"36_0\": {\"name\": \"36_0\", \"parameters\": {\"lr\": 0.0016447015306304208, \"decay\": 0.05740378606914854, \"epochs\": 9}, \"y\": {\"log_eval\": 4.033673711417118}, \"y_hat\": {\"log_eval\": 4.034922153703092}, \"se\": {\"log_eval\": 0.007629768132666603}, \"se_hat\": {\"log_eval\": 0.006952403969317441}, \"context_stratum\": null}, \"37_0\": {\"name\": \"37_0\", \"parameters\": {\"lr\": 0.0008000000000000011, \"decay\": 0.001, \"epochs\": 7}, \"y\": {\"log_eval\": 3.977919594623966}, \"y_hat\": {\"log_eval\": 3.9777393136546957}, \"se\": {\"log_eval\": 0.009058110392772541}, \"se_hat\": {\"log_eval\": 0.0089722398516896}, \"context_stratum\": null}, \"38_0\": {\"name\": \"38_0\", \"parameters\": {\"lr\": 0.008000000000000004, \"decay\": 0.1, \"epochs\": 0}, \"y\": {\"log_eval\": 3.9132375011181257}, \"y_hat\": {\"log_eval\": 3.9135230297515196}, \"se\": {\"log_eval\": 0.008923038775749209}, \"se_hat\": {\"log_eval\": 0.008841739698609238}, \"context_stratum\": null}, \"39_0\": {\"name\": \"39_0\", \"parameters\": {\"lr\": 0.0008000000000000004, \"decay\": 0.034683012185556, \"epochs\": 11}, \"y\": {\"log_eval\": 4.044727817596675}, \"y_hat\": {\"log_eval\": 4.040715144633089}, \"se\": {\"log_eval\": 0.007789747219705842}, \"se_hat\": {\"log_eval\": 0.006963368495015841}, \"context_stratum\": null}, \"40_0\": {\"name\": \"40_0\", \"parameters\": {\"lr\": 0.0008000000000000004, \"decay\": 0.019416227604450564, \"epochs\": 13}, \"y\": {\"log_eval\": 4.005697820954328}, \"y_hat\": {\"log_eval\": 4.009098731989577}, \"se\": {\"log_eval\": 0.00871842467309026}, \"se_hat\": {\"log_eval\": 0.008204306028275373}, \"context_stratum\": null}, \"41_0\": {\"name\": \"41_0\", \"parameters\": {\"lr\": 0.00212708645449816, \"decay\": 0.01127820018448251, \"epochs\": 15}, \"y\": {\"log_eval\": 3.983780613080933}, \"y_hat\": {\"log_eval\": 3.9848810959978844}, \"se\": {\"log_eval\": 0.008859211473068451}, \"se_hat\": {\"log_eval\": 0.008676121060249982}, \"context_stratum\": null}, \"42_0\": {\"name\": \"42_0\", \"parameters\": {\"lr\": 0.0008000000000000004, \"decay\": 0.1, \"epochs\": 15}, \"y\": {\"log_eval\": 4.027518651810411}, \"y_hat\": {\"log_eval\": 4.028330745682156}, \"se\": {\"log_eval\": 0.007652008483475657}, \"se_hat\": {\"log_eval\": 0.007256147587810133}, \"context_stratum\": null}, \"43_0\": {\"name\": \"43_0\", \"parameters\": {\"lr\": 0.0008000000000000004, \"decay\": 0.03401669027082794, \"epochs\": 8}, \"y\": {\"log_eval\": 4.023404506162787}, \"y_hat\": {\"log_eval\": 4.02335703904453}, \"se\": {\"log_eval\": 0.007980565078703471}, \"se_hat\": {\"log_eval\": 0.007708830083616422}, \"context_stratum\": null}, \"44_0\": {\"name\": \"44_0\", \"parameters\": {\"lr\": 0.003633636002786291, \"decay\": 0.028776448733151633, \"epochs\": 3}, \"y\": {\"log_eval\": 4.0366771130414705}, \"y_hat\": {\"log_eval\": 4.036021381561066}, \"se\": {\"log_eval\": 0.007737460497862321}, \"se_hat\": {\"log_eval\": 0.006611636780960699}, \"context_stratum\": null}, \"45_0\": {\"name\": \"45_0\", \"parameters\": {\"lr\": 0.008000000000000004, \"decay\": 0.007147212988528556, \"epochs\": 0}, \"y\": {\"log_eval\": 3.924091409401043}, \"y_hat\": {\"log_eval\": 3.9259242687905567}, \"se\": {\"log_eval\": 0.0089671782093854}, \"se_hat\": {\"log_eval\": 0.008837653500910583}, \"context_stratum\": null}, \"46_0\": {\"name\": \"46_0\", \"parameters\": {\"lr\": 0.0008000000000000004, \"decay\": 0.062132377301891986, \"epochs\": 11}, \"y\": {\"log_eval\": 4.03621600874713}, \"y_hat\": {\"log_eval\": 4.038803959029759}, \"se\": {\"log_eval\": 0.007890092508523705}, \"se_hat\": {\"log_eval\": 0.006788521473106762}, \"context_stratum\": null}, \"47_0\": {\"name\": \"47_0\", \"parameters\": {\"lr\": 0.0008000000000000004, \"decay\": 0.001, \"epochs\": 0}, \"y\": {\"log_eval\": 3.939849888806768}, \"y_hat\": {\"log_eval\": 3.9399320453544253}, \"se\": {\"log_eval\": 0.00877473308367555}, \"se_hat\": {\"log_eval\": 0.008719145213336643}, \"context_stratum\": null}, \"48_0\": {\"name\": \"48_0\", \"parameters\": {\"lr\": 0.004308203330778961, \"decay\": 0.028771024643772, \"epochs\": 4}, \"y\": {\"log_eval\": 4.036188325149162}, \"y_hat\": {\"log_eval\": 4.039249081142876}, \"se\": {\"log_eval\": 0.007577407991815798}, \"se_hat\": {\"log_eval\": 0.0065229120234578655}, \"context_stratum\": null}, \"49_0\": {\"name\": \"49_0\", \"parameters\": {\"lr\": 0.0036967447563253904, \"decay\": 0.1, \"epochs\": 3}, \"y\": {\"log_eval\": 3.939970232874096}, \"y_hat\": {\"log_eval\": 3.9411933023752272}, \"se\": {\"log_eval\": 0.0072260554461817585}, \"se_hat\": {\"log_eval\": 0.007118949508254934}, \"context_stratum\": null}, \"4_0\": {\"name\": \"4_0\", \"parameters\": {\"lr\": 0.0011934390082424268, \"decay\": 0.06686069314247507, \"epochs\": 1}, \"y\": {\"log_eval\": 3.9676639950748886}, \"y_hat\": {\"log_eval\": 3.967407555009287}, \"se\": {\"log_eval\": 0.008439619929951075}, \"se_hat\": {\"log_eval\": 0.008355323774245435}, \"context_stratum\": null}, \"50_0\": {\"name\": \"50_0\", \"parameters\": {\"lr\": 0.0010861821066179202, \"decay\": 0.1, \"epochs\": 6}, \"y\": {\"log_eval\": 4.01873097461381}, \"y_hat\": {\"log_eval\": 4.018774498109206}, \"se\": {\"log_eval\": 0.007476939713896601}, \"se_hat\": {\"log_eval\": 0.007284472147061626}, \"context_stratum\": null}, \"51_0\": {\"name\": \"51_0\", \"parameters\": {\"lr\": 0.0029168908105427667, \"decay\": 0.02052006286485383, \"epochs\": 6}, \"y\": {\"log_eval\": 4.046149745093893}, \"y_hat\": {\"log_eval\": 4.046139565660806}, \"se\": {\"log_eval\": 0.008199089686813746}, \"se_hat\": {\"log_eval\": 0.007449515143363521}, \"context_stratum\": null}, \"52_0\": {\"name\": \"52_0\", \"parameters\": {\"lr\": 0.0014333221894011758, \"decay\": 0.003932877349377023, \"epochs\": 8}, \"y\": {\"log_eval\": 3.9847539886801733}, \"y_hat\": {\"log_eval\": 3.9852954697031624}, \"se\": {\"log_eval\": 0.008939494207823605}, \"se_hat\": {\"log_eval\": 0.00876160990108908}, \"context_stratum\": null}, \"53_0\": {\"name\": \"53_0\", \"parameters\": {\"lr\": 0.0034402691960054464, \"decay\": 0.024358234364913824, \"epochs\": 5}, \"y\": {\"log_eval\": 4.055870379113808}, \"y_hat\": {\"log_eval\": 4.0530499206343}, \"se\": {\"log_eval\": 0.007468974042501011}, \"se_hat\": {\"log_eval\": 0.0061067200752131815}, \"context_stratum\": null}, \"5_0\": {\"name\": \"5_0\", \"parameters\": {\"lr\": 0.0019558212574087366, \"decay\": 0.0011824514174953505, \"epochs\": 5}, \"y\": {\"log_eval\": 3.9826962664100476}, \"y_hat\": {\"log_eval\": 3.9812209404513363}, \"se\": {\"log_eval\": 0.008637217750371025}, \"se_hat\": {\"log_eval\": 0.008451074880474795}, \"context_stratum\": null}, \"6_0\": {\"name\": \"6_0\", \"parameters\": {\"lr\": 0.005551494394407805, \"decay\": 0.010283260945966472, \"epochs\": 8}, \"y\": {\"log_eval\": 3.937745563984811}, \"y_hat\": {\"log_eval\": 3.9483985569860742}, \"se\": {\"log_eval\": 0.009519154098377499}, \"se_hat\": {\"log_eval\": 0.008814390749896862}, \"context_stratum\": null}, \"7_0\": {\"name\": \"7_0\", \"parameters\": {\"lr\": 0.007662923912231201, \"decay\": 0.002680738706964375, \"epochs\": 3}, \"y\": {\"log_eval\": 4.011433652054382}, \"y_hat\": {\"log_eval\": 4.008593849982736}, \"se\": {\"log_eval\": 0.008661630655341245}, \"se_hat\": {\"log_eval\": 0.008472975026342998}, \"context_stratum\": null}, \"8_0\": {\"name\": \"8_0\", \"parameters\": {\"lr\": 0.0016311940380312328, \"decay\": 0.030532060346985843, \"epochs\": 13}, \"y\": {\"log_eval\": 4.033091584092544}, \"y_hat\": {\"log_eval\": 4.031388818002143}, \"se\": {\"log_eval\": 0.00794129124580905}, \"se_hat\": {\"log_eval\": 0.0075129234837603915}, \"context_stratum\": null}, \"9_0\": {\"name\": \"9_0\", \"parameters\": {\"lr\": 0.0008013008433305626, \"decay\": 0.005499813737312483, \"epochs\": 11}, \"y\": {\"log_eval\": 3.996061115189173}, \"y_hat\": {\"log_eval\": 3.9953230147021666}, \"se\": {\"log_eval\": 0.008740295689537658}, \"se_hat\": {\"log_eval\": 0.008591547617036153}, \"context_stratum\": null}, \"control1\": {\"name\": \"control1\", \"parameters\": {\"lr\": 0.0043, \"decay\": 0.0012, \"epochs\": 5}, \"y\": {\"log_eval\": 3.997396798885231}, \"y_hat\": {\"log_eval\": 3.9951330212120184}, \"se\": {\"log_eval\": 0.008531493375863187}, \"se_hat\": {\"log_eval\": 0.008318374028251425}, \"context_stratum\": null}, \"control2\": {\"name\": \"control2\", \"parameters\": {\"lr\": 0.0043, \"decay\": 0.0012, \"epochs\": 10}, \"y\": {\"log_eval\": 3.902201694947672}, \"y_hat\": {\"log_eval\": 3.9025434779865877}, \"se\": {\"log_eval\": 0.01006668027108687}, \"se_hat\": {\"log_eval\": 0.009324324088314554}, \"context_stratum\": null}, \"previous\": {\"name\": \"previous\", \"parameters\": {\"lr\": 0.00715, \"decay\": 0.01, \"epochs\": 6}, \"y\": {\"log_eval\": 3.9953394538615683}, \"y_hat\": {\"log_eval\": 3.9918436811219107}, \"se\": {\"log_eval\": 0.008252234051061177}, \"se_hat\": {\"log_eval\": 0.008005110145318989}, \"context_stratum\": null}, \"zero\": {\"name\": \"zero\", \"parameters\": {\"lr\": 0.0043, \"decay\": 0.0012, \"epochs\": 0}, \"y\": {\"log_eval\": 3.9341571499800057}, \"y_hat\": {\"log_eval\": 3.9350915596194054}, \"se\": {\"log_eval\": 0.009092915137801005}, \"se_hat\": {\"log_eval\": 0.00899225601874008}, \"context_stratum\": null}}, \"out_of_sample\": {}, \"status_quo_name\": null};\n",
       "const arm_name_to_parameters = {\"10_0\": {\"lr\": 0.004044864308475928, \"decay\": 0.04707769638039004, \"epochs\": 6}, \"11_0\": {\"lr\": 0.0037989071059585247, \"decay\": 0.0013841435750271724, \"epochs\": 9}, \"12_0\": {\"lr\": 0.0010034284778267387, \"decay\": 0.01619763305775833, \"epochs\": 4}, \"13_0\": {\"lr\": 0.0017365582947129383, \"decay\": 0.008977215067036219, \"epochs\": 1}, \"14_0\": {\"lr\": 0.006116741263131368, \"decay\": 0.07895861915890333, \"epochs\": 11}, \"15_0\": {\"lr\": 0.00512507486326056, \"decay\": 0.003491511312417426, \"epochs\": 7}, \"16_0\": {\"lr\": 0.0024074724487850477, \"decay\": 0.04021334838836546, \"epochs\": 9}, \"17_0\": {\"lr\": 0.0012932799645160857, \"decay\": 0.002270241551766799, \"epochs\": 15}, \"18_0\": {\"lr\": 0.0025618335265802736, \"decay\": 0.019564295308741823, \"epochs\": 2}, \"19_0\": {\"lr\": 0.002774570008448762, \"decay\": 0.00197962435500844, \"epochs\": 4}, \"20_0\": {\"lr\": 0.0014007643909409292, \"decay\": 0.02253605918351418, \"epochs\": 9}, \"21_0\": {\"lr\": 0.0022177364780740904, \"decay\": 0.004060196864519902, \"epochs\": 12}, \"22_0\": {\"lr\": 0.004721522756697272, \"decay\": 0.03473938680518261, \"epochs\": 2}, \"23_0\": {\"lr\": 0.006507217278079819, \"decay\": 0.007829091848627883, \"epochs\": 10}, \"24_0\": {\"lr\": 0.0027287701230472123, \"decay\": 0.047467561333178455, \"epochs\": 5}, \"25_0\": {\"lr\": 0.0018620520236365425, \"decay\": 0.014504572431582102, \"epochs\": 11}, \"26_0\": {\"lr\": 0.0012156310523465015, \"decay\": 0.08578899579530594, \"epochs\": 11}, \"27_0\": {\"lr\": 0.0009034861576172048, \"decay\": 0.043318245856435324, \"epochs\": 14}, \"28_0\": {\"lr\": 0.0011657755539881888, \"decay\": 0.1, \"epochs\": 15}, \"29_0\": {\"lr\": 0.008000000000000004, \"decay\": 0.002288829527071239, \"epochs\": 7}, \"30_0\": {\"lr\": 0.005128081369884944, \"decay\": 0.009714020504312918, \"epochs\": 3}, \"31_0\": {\"lr\": 0.0012034966711127215, \"decay\": 0.05331576453873375, \"epochs\": 13}, \"32_0\": {\"lr\": 0.0011924465660416662, \"decay\": 0.018078350513876462, \"epochs\": 15}, \"33_0\": {\"lr\": 0.0008000000000000004, \"decay\": 0.1, \"epochs\": 13}, \"34_0\": {\"lr\": 0.0008000000000000004, \"decay\": 0.09999999999999949, \"epochs\": 9}, \"35_0\": {\"lr\": 0.0015388220487877905, \"decay\": 0.1, \"epochs\": 8}, \"36_0\": {\"lr\": 0.0016447015306304208, \"decay\": 0.05740378606914854, \"epochs\": 9}, \"37_0\": {\"lr\": 0.0008000000000000011, \"decay\": 0.001, \"epochs\": 7}, \"38_0\": {\"lr\": 0.008000000000000004, \"decay\": 0.1, \"epochs\": 0}, \"39_0\": {\"lr\": 0.0008000000000000004, \"decay\": 0.034683012185556, \"epochs\": 11}, \"40_0\": {\"lr\": 0.0008000000000000004, \"decay\": 0.019416227604450564, \"epochs\": 13}, \"41_0\": {\"lr\": 0.00212708645449816, \"decay\": 0.01127820018448251, \"epochs\": 15}, \"42_0\": {\"lr\": 0.0008000000000000004, \"decay\": 0.1, \"epochs\": 15}, \"43_0\": {\"lr\": 0.0008000000000000004, \"decay\": 0.03401669027082794, \"epochs\": 8}, \"44_0\": {\"lr\": 0.003633636002786291, \"decay\": 0.028776448733151633, \"epochs\": 3}, \"45_0\": {\"lr\": 0.008000000000000004, \"decay\": 0.007147212988528556, \"epochs\": 0}, \"46_0\": {\"lr\": 0.0008000000000000004, \"decay\": 0.062132377301891986, \"epochs\": 11}, \"47_0\": {\"lr\": 0.0008000000000000004, \"decay\": 0.001, \"epochs\": 0}, \"48_0\": {\"lr\": 0.004308203330778961, \"decay\": 0.028771024643772, \"epochs\": 4}, \"49_0\": {\"lr\": 0.0036967447563253904, \"decay\": 0.1, \"epochs\": 3}, \"4_0\": {\"lr\": 0.0011934390082424268, \"decay\": 0.06686069314247507, \"epochs\": 1}, \"50_0\": {\"lr\": 0.0010861821066179202, \"decay\": 0.1, \"epochs\": 6}, \"51_0\": {\"lr\": 0.0029168908105427667, \"decay\": 0.02052006286485383, \"epochs\": 6}, \"52_0\": {\"lr\": 0.0014333221894011758, \"decay\": 0.003932877349377023, \"epochs\": 8}, \"53_0\": {\"lr\": 0.0034402691960054464, \"decay\": 0.024358234364913824, \"epochs\": 5}, \"5_0\": {\"lr\": 0.0019558212574087366, \"decay\": 0.0011824514174953505, \"epochs\": 5}, \"6_0\": {\"lr\": 0.005551494394407805, \"decay\": 0.010283260945966472, \"epochs\": 8}, \"7_0\": {\"lr\": 0.007662923912231201, \"decay\": 0.002680738706964375, \"epochs\": 3}, \"8_0\": {\"lr\": 0.0016311940380312328, \"decay\": 0.030532060346985843, \"epochs\": 13}, \"9_0\": {\"lr\": 0.0008013008433305626, \"decay\": 0.005499813737312483, \"epochs\": 11}, \"control1\": {\"lr\": 0.0043, \"decay\": 0.0012, \"epochs\": 5}, \"control2\": {\"lr\": 0.0043, \"decay\": 0.0012, \"epochs\": 10}, \"previous\": {\"lr\": 0.00715, \"decay\": 0.01, \"epochs\": 6}, \"zero\": {\"lr\": 0.0043, \"decay\": 0.0012, \"epochs\": 0}};\n",
       "const f = [3.9631402003465492, 3.964264086451645, 3.965414074130571, 3.966610646320469, 3.967874127848736, 3.969222828398495, 3.9706712677750695, 3.972228795025025, 3.973898871539647, 3.975679181120976, 3.9775625828859322, 3.9795387712302634, 3.9815963849425144, 3.9837252381320645, 3.9859183359871224, 3.9881733806825777, 3.990493550483204, 3.992887430110052, 3.995368067795905, 3.997951224020326, 4.000652952941268, 4.003486717355095, 4.006460280667941, 4.009572644627526, 4.012811309444064, 4.016150123532417, 4.0195479637375495, 4.022948444039161, 4.026280791724033, 4.029461954631405, 4.032399910410656, 4.034998038464509, 4.037160291154864, 4.038796776247655, 4.039829264154804, 4.04019609452905, 4.03985599485442, 4.038790423573035, 4.037004177886319, 4.034524147912137, 4.031396289766048, 4.0276811811533255, 4.023448871947513, 4.018773952173217, 4.013731625429924, 4.0083951311323185, 4.002834384132177, 3.9971154451023936, 3.9913004251196105, 3.9854475403360334];\n",
       "const fit_data = [{\"metric_name\": \"log_eval\", \"arm_name\": \"10_0\", \"mean\": 4.020110049100475, \"sem\": 0.007556678271325456}, {\"metric_name\": \"log_eval\", \"arm_name\": \"11_0\", \"mean\": 3.921352853873042, \"sem\": 0.010184709934255198}, {\"metric_name\": \"log_eval\", \"arm_name\": \"12_0\", \"mean\": 3.9779872969205443, \"sem\": 0.008471989545960273}, {\"metric_name\": \"log_eval\", \"arm_name\": \"13_0\", \"mean\": 3.975506861213706, \"sem\": 0.008807034960569648}, {\"metric_name\": \"log_eval\", \"arm_name\": \"14_0\", \"mean\": 3.61423258781629, \"sem\": 0.0063616699104992154}, {\"metric_name\": \"log_eval\", \"arm_name\": \"15_0\", \"mean\": 3.998062387185866, \"sem\": 0.008792094974888445}, {\"metric_name\": \"log_eval\", \"arm_name\": \"16_0\", \"mean\": 4.0259356856422, \"sem\": 0.007840452586175162}, {\"metric_name\": \"log_eval\", \"arm_name\": \"17_0\", \"mean\": 3.9645698466760853, \"sem\": 0.009111862981454109}, {\"metric_name\": \"log_eval\", \"arm_name\": \"18_0\", \"mean\": 4.014018816636409, \"sem\": 0.00792525179822629}, {\"metric_name\": \"log_eval\", \"arm_name\": \"19_0\", \"mean\": 3.969413014029092, \"sem\": 0.009130610560002307}, {\"metric_name\": \"log_eval\", \"arm_name\": \"20_0\", \"mean\": 4.0115342622454415, \"sem\": 0.008904613847650317}, {\"metric_name\": \"log_eval\", \"arm_name\": \"21_0\", \"mean\": 3.9999811426165053, \"sem\": 0.008630238775110429}, {\"metric_name\": \"log_eval\", \"arm_name\": \"22_0\", \"mean\": 4.015748638745597, \"sem\": 0.007617459348825448}, {\"metric_name\": \"log_eval\", \"arm_name\": \"23_0\", \"mean\": 3.969515490044833, \"sem\": 0.008249124176806254}, {\"metric_name\": \"log_eval\", \"arm_name\": \"24_0\", \"mean\": 4.008045219231504, \"sem\": 0.008600824796006514}, {\"metric_name\": \"log_eval\", \"arm_name\": \"25_0\", \"mean\": 4.0177322106840325, \"sem\": 0.008637085344971781}, {\"metric_name\": \"log_eval\", \"arm_name\": \"26_0\", \"mean\": 4.034312338135606, \"sem\": 0.007689923755965675}, {\"metric_name\": \"log_eval\", \"arm_name\": \"27_0\", \"mean\": 4.037392070141155, \"sem\": 0.007918972916914799}, {\"metric_name\": \"log_eval\", \"arm_name\": \"28_0\", \"mean\": 4.0305296503746995, \"sem\": 0.007765747390425193}, {\"metric_name\": \"log_eval\", \"arm_name\": \"29_0\", \"mean\": 3.9216153556747795, \"sem\": 0.010304896456927469}, {\"metric_name\": \"log_eval\", \"arm_name\": \"30_0\", \"mean\": 4.003272017188419, \"sem\": 0.008744524217256345}, {\"metric_name\": \"log_eval\", \"arm_name\": \"31_0\", \"mean\": 4.034853146741749, \"sem\": 0.007891388538915295}, {\"metric_name\": \"log_eval\", \"arm_name\": \"32_0\", \"mean\": 4.0257891017009255, \"sem\": 0.008250339710490533}, {\"metric_name\": \"log_eval\", \"arm_name\": \"33_0\", \"mean\": 4.039535780145851, \"sem\": 0.007132010393189851}, {\"metric_name\": \"log_eval\", \"arm_name\": \"34_0\", \"mean\": 4.026641731363641, \"sem\": 0.007205455158902104}, {\"metric_name\": \"log_eval\", \"arm_name\": \"35_0\", \"mean\": 4.041210413503344, \"sem\": 0.007214847176585106}, {\"metric_name\": \"log_eval\", \"arm_name\": \"36_0\", \"mean\": 4.033673711417118, \"sem\": 0.007629768132666603}, {\"metric_name\": \"log_eval\", \"arm_name\": \"37_0\", \"mean\": 3.977919594623966, \"sem\": 0.009058110392772541}, {\"metric_name\": \"log_eval\", \"arm_name\": \"38_0\", \"mean\": 3.9132375011181257, \"sem\": 0.008923038775749209}, {\"metric_name\": \"log_eval\", \"arm_name\": \"39_0\", \"mean\": 4.044727817596675, \"sem\": 0.007789747219705842}, {\"metric_name\": \"log_eval\", \"arm_name\": \"40_0\", \"mean\": 4.005697820954328, \"sem\": 0.00871842467309026}, {\"metric_name\": \"log_eval\", \"arm_name\": \"41_0\", \"mean\": 3.983780613080933, \"sem\": 0.008859211473068451}, {\"metric_name\": \"log_eval\", \"arm_name\": \"42_0\", \"mean\": 4.027518651810411, \"sem\": 0.007652008483475657}, {\"metric_name\": \"log_eval\", \"arm_name\": \"43_0\", \"mean\": 4.023404506162787, \"sem\": 0.007980565078703471}, {\"metric_name\": \"log_eval\", \"arm_name\": \"44_0\", \"mean\": 4.0366771130414705, \"sem\": 0.007737460497862321}, {\"metric_name\": \"log_eval\", \"arm_name\": \"45_0\", \"mean\": 3.924091409401043, \"sem\": 0.0089671782093854}, {\"metric_name\": \"log_eval\", \"arm_name\": \"46_0\", \"mean\": 4.03621600874713, \"sem\": 0.007890092508523705}, {\"metric_name\": \"log_eval\", \"arm_name\": \"47_0\", \"mean\": 3.939849888806768, \"sem\": 0.00877473308367555}, {\"metric_name\": \"log_eval\", \"arm_name\": \"48_0\", \"mean\": 4.036188325149162, \"sem\": 0.007577407991815798}, {\"metric_name\": \"log_eval\", \"arm_name\": \"49_0\", \"mean\": 3.939970232874096, \"sem\": 0.0072260554461817585}, {\"metric_name\": \"log_eval\", \"arm_name\": \"4_0\", \"mean\": 3.9676639950748886, \"sem\": 0.008439619929951075}, {\"metric_name\": \"log_eval\", \"arm_name\": \"50_0\", \"mean\": 4.01873097461381, \"sem\": 0.007476939713896601}, {\"metric_name\": \"log_eval\", \"arm_name\": \"51_0\", \"mean\": 4.046149745093893, \"sem\": 0.008199089686813746}, {\"metric_name\": \"log_eval\", \"arm_name\": \"52_0\", \"mean\": 3.9847539886801733, \"sem\": 0.008939494207823605}, {\"metric_name\": \"log_eval\", \"arm_name\": \"53_0\", \"mean\": 4.055870379113808, \"sem\": 0.007468974042501011}, {\"metric_name\": \"log_eval\", \"arm_name\": \"5_0\", \"mean\": 3.9826962664100476, \"sem\": 0.008637217750371025}, {\"metric_name\": \"log_eval\", \"arm_name\": \"6_0\", \"mean\": 3.937745563984811, \"sem\": 0.009519154098377499}, {\"metric_name\": \"log_eval\", \"arm_name\": \"7_0\", \"mean\": 4.011433652054382, \"sem\": 0.008661630655341245}, {\"metric_name\": \"log_eval\", \"arm_name\": \"8_0\", \"mean\": 4.033091584092544, \"sem\": 0.00794129124580905}, {\"metric_name\": \"log_eval\", \"arm_name\": \"9_0\", \"mean\": 3.996061115189173, \"sem\": 0.008740295689537658}, {\"metric_name\": \"log_eval\", \"arm_name\": \"control1\", \"mean\": 3.997396798885231, \"sem\": 0.008531493375863187}, {\"metric_name\": \"log_eval\", \"arm_name\": \"control2\", \"mean\": 3.902201694947672, \"sem\": 0.01006668027108687}, {\"metric_name\": \"log_eval\", \"arm_name\": \"previous\", \"mean\": 3.9953394538615683, \"sem\": 0.008252234051061177}, {\"metric_name\": \"log_eval\", \"arm_name\": \"zero\", \"mean\": 3.9341571499800057, \"sem\": 0.009092915137801005}];\n",
       "const grid = [0.001, 0.0010985411419875584, 0.0012067926406393288, 0.0013257113655901094, 0.0014563484775012444, 0.0015998587196060573, 0.0017575106248547913, 0.0019306977288832496, 0.0021209508879201904, 0.002329951810515372, 0.002559547922699536, 0.002811768697974231, 0.0030888435964774815, 0.00339322177189533, 0.003727593720314938, 0.004094915062380423, 0.004498432668969444, 0.004941713361323833, 0.005428675439323859, 0.005963623316594642, 0.006551285568595509, 0.0071968567300115215, 0.0079060432109077, 0.00868511373751352, 0.009540954763499945, 0.010481131341546858, 0.01151395399326447, 0.012648552168552958, 0.013894954943731374, 0.015264179671752334, 0.016768329368110076, 0.018420699693267154, 0.020235896477251564, 0.022229964825261943, 0.02442053094548651, 0.026826957952797246, 0.029470517025518096, 0.032374575428176434, 0.03556480306223128, 0.03906939937054615, 0.04291934260128776, 0.04714866363457392, 0.0517947467923121, 0.05689866029018296, 0.0625055192527397, 0.06866488450042998, 0.07543120063354615, 0.08286427728546843, 0.09102981779915217, 0.1];\n",
       "const metric = \"log_eval\";\n",
       "const param = \"decay\";\n",
       "const rel = false;\n",
       "const setx = {\"lr\": 0.002607485148297835, \"decay\": 0.03386723289288722, \"epochs\": 7};\n",
       "const sd = [0.02925363070929979, 0.027809001406234303, 0.026760398733924988, 0.026107062015676034, 0.025821707755203965, 0.025855970935870602, 0.026149893421440324, 0.026641693161751235, 0.027274737969002746, 0.02800065992265529, 0.028779237334377664, 0.02957636704782165, 0.030361386937558965, 0.031104638570292924, 0.03177577068327992, 0.03234297916053405, 0.032773169280187475, 0.03303289613645792, 0.033089874306737904, 0.03291483598860149, 0.03248354584515084, 0.03177883712399054, 0.030792603463824324, 0.029527751829350718, 0.02800018322768691, 0.02624090529178504, 0.024298364399685614, 0.02224093637262347, 0.020159040434352175, 0.01816514817346596, 0.016387607708767127, 0.014951562120811248, 0.013942910580569514, 0.013368123314226868, 0.013143518792929259, 0.013133466072124055, 0.013211640584187334, 0.013306394915452813, 0.01341729565417777, 0.013608510926360458, 0.013984504895270974, 0.014652026229445121, 0.015680416632226104, 0.017080139309891426, 0.01880946737143642, 0.020798641925083808, 0.02297385457032825, 0.025272021250761986, 0.027646448754701382, 0.0300666695604614];\n",
       "const is_log = true;\n",
       "\n",
       "// format data\n",
       "const res = relativize_data(f, sd, rel, arm_data, metric);\n",
       "const f_final = res[0];\n",
       "const sd_final = res[1];\n",
       "\n",
       "// get data for standard deviation fill plot\n",
       "const sd_upper = [];\n",
       "const sd_lower = [];\n",
       "for (let i = 0; i < sd.length; i++) {\n",
       "  sd_upper.push(f_final[i] + 2 * sd_final[i]);\n",
       "  sd_lower.push(f_final[i] - 2 * sd_final[i]);\n",
       "}\n",
       "const grid_rev = copy_and_reverse(grid);\n",
       "const sd_lower_rev = copy_and_reverse(sd_lower);\n",
       "const sd_x = grid.concat(grid_rev);\n",
       "const sd_y = sd_upper.concat(sd_lower_rev);\n",
       "\n",
       "// get data for observed arms and error bars\n",
       "const arm_x = [];\n",
       "const arm_y = [];\n",
       "const arm_sem = [];\n",
       "fit_data.forEach(row => {\n",
       "    parameters = arm_name_to_parameters[row[\"arm_name\"]];\n",
       "    plot = true;\n",
       "    Object.keys(setx).forEach(p => {\n",
       "      if (p !== param && parameters[p] !== setx[p]) {\n",
       "        plot = false;\n",
       "      }\n",
       "    });\n",
       "    if (plot === true) {\n",
       "        arm_x.push(parameters[param]);\n",
       "        arm_y.push(row[\"mean\"]);\n",
       "        arm_sem.push(row[\"sem\"]);\n",
       "    }\n",
       "});\n",
       "\n",
       "const arm_res = relativize_data(\n",
       "  arm_y, arm_sem, rel, arm_data, metric\n",
       ");\n",
       "const arm_y_final = arm_res[0];\n",
       "const arm_sem_final = arm_res[1].map(x => x * 2);\n",
       "\n",
       "// create traces\n",
       "const f_trace = {\n",
       "  x: grid,\n",
       "  y: f_final,\n",
       "  showlegend: false,\n",
       "  hoverinfo: 'x+y',\n",
       "  line: {\n",
       "    color: 'rgba(128, 177, 211, 1)',\n",
       "  },\n",
       "};\n",
       "\n",
       "const arms_trace = {\n",
       "  x: arm_x,\n",
       "  y: arm_y_final,\n",
       "  mode: 'markers',\n",
       "  error_y: {\n",
       "    type: 'data',\n",
       "    array: arm_sem_final,\n",
       "    visible: true,\n",
       "    color: 'black',\n",
       "  },\n",
       "  line: {\n",
       "    color: 'black',\n",
       "  },\n",
       "  showlegend: false,\n",
       "  hoverinfo: 'x+y',\n",
       "};\n",
       "\n",
       "const sd_trace = {\n",
       "    x: sd_x,\n",
       "    y: sd_y,\n",
       "    fill: 'toself',\n",
       "    fillcolor: 'rgba(128, 177, 211, 0.2)',\n",
       "    line: {\n",
       "      color: 'transparent',\n",
       "    },\n",
       "    showlegend: false,\n",
       "    hoverinfo: 'none',\n",
       "};\n",
       "\n",
       "traces = [\n",
       "  sd_trace,\n",
       "  f_trace,\n",
       "  arms_trace,\n",
       "];\n",
       "\n",
       "// iterate over out-of-sample arms\n",
       "let i = 1;\n",
       "Object.keys(arm_data['out_of_sample']).forEach(generator_run_name => {\n",
       "  const ax = [];\n",
       "  const ay = [];\n",
       "  const asem = [];\n",
       "  const atext = [];\n",
       "\n",
       "  Object.keys(arm_data['out_of_sample'][generator_run_name]).forEach(arm_name => {\n",
       "    const parameters = arm_data[\n",
       "      'out_of_sample'][generator_run_name][arm_name]['parameters'];\n",
       "    plot = true;\n",
       "    Object.keys(setx).forEach(p => {\n",
       "      if (p !== param && parameters[p] !== setx[p]) {\n",
       "        plot = false;\n",
       "      }\n",
       "    });\n",
       "    if (plot === true) {\n",
       "      ax.push(parameters[param]);\n",
       "      ay.push(\n",
       "        arm_data['out_of_sample'][generator_run_name][arm_name]['y_hat'][metric]\n",
       "      );\n",
       "      asem.push(\n",
       "        arm_data['out_of_sample'][generator_run_name][arm_name]['se_hat'][metric]\n",
       "      );\n",
       "      atext.push('<em>Candidate ' + arm_name + '</em>');\n",
       "    }\n",
       "  });\n",
       "\n",
       "  const out_of_sample_arm_res = relativize_data(\n",
       "    ay, asem, rel, arm_data, metric\n",
       "  );\n",
       "  const ay_final = out_of_sample_arm_res[0];\n",
       "  const asem_final = out_of_sample_arm_res[1].map(x => x * 2);\n",
       "\n",
       "  traces.push({\n",
       "    hoverinfo: 'text',\n",
       "    legendgroup: generator_run_name,\n",
       "    marker: {color: 'black', symbol: i, opacity: 0.5},\n",
       "    mode: 'markers',\n",
       "    error_y: {\n",
       "      type: 'data',\n",
       "      array: asem_final,\n",
       "      visible: true,\n",
       "      color: 'black',\n",
       "    },\n",
       "    name: generator_run_name,\n",
       "    text: atext,\n",
       "    type: 'scatter',\n",
       "    xaxis: 'x',\n",
       "    x: ax,\n",
       "    yaxis: 'y',\n",
       "    y: ay_final,\n",
       "  });\n",
       "\n",
       "  i += 1;\n",
       "});\n",
       "\n",
       "// layout\n",
       "const xrange = axis_range(grid, is_log);\n",
       "const xtype = is_log ? 'log' : 'linear';\n",
       "\n",
       "layout = {\n",
       "  hovermode: 'closest',\n",
       "  xaxis: {\n",
       "    anchor: 'y',\n",
       "    autorange: false,\n",
       "    exponentformat: 'e',\n",
       "    range: xrange,\n",
       "    tickfont: {size: 11},\n",
       "    tickmode: 'auto',\n",
       "    title: param,\n",
       "    type: xtype,\n",
       "  },\n",
       "  yaxis: {\n",
       "    anchor: 'x',\n",
       "    tickfont: {size: 11},\n",
       "    tickmode: 'auto',\n",
       "    title: metric,\n",
       "  },\n",
       "};\n",
       "\n",
       "Plotly.newPlot(\n",
       "    \"a93c790896394857865145e60f382e97\",\n",
       "    traces,\n",
       "    layout,\n",
       "    {showLink: false},\n",
       ");\n",
       "});</script>"
      ]
     },
     "metadata": {},
     "output_type": "display_data"
    }
   ],
   "source": [
    "render(plot_slice(model=gpei, param_name='decay', metric_name='log_eval'))"
   ]
  },
  {
   "cell_type": "code",
   "execution_count": 27,
   "metadata": {
    "pycharm": {
     "name": "#%%\n"
    },
    "scrolled": false
   },
   "outputs": [
    {
     "data": {
      "text/html": [
       "<div id=\"747457c7f145482a92c6b851fd9dfd5e\" style=\"width: 100%;\" class=\"plotly-graph-div\"></div><script type='text/javascript'>/*\n",
       " * Copyright (c) Facebook, Inc. and its affiliates. All Rights Reserved.\n",
       " */\n",
       "\n",
       "require(['plotly'], function(Plotly) {\n",
       "  window.PLOTLYENV = window.PLOTLYENV || {};\n",
       "  window.PLOTLYENV.BASE_URL = 'https://plot.ly';\n",
       "  /*\n",
       " * Copyright (c) Facebook, Inc. and its affiliates. All Rights Reserved.\n",
       " */\n",
       "\n",
       "const arm_data = {\"metrics\": [\"log_eval\"], \"in_sample\": {\"10_0\": {\"name\": \"10_0\", \"parameters\": {\"lr\": 0.004044864308475928, \"decay\": 0.04707769638039004, \"epochs\": 6}, \"y\": {\"log_eval\": 4.020110049100475}, \"y_hat\": {\"log_eval\": 4.015350348125742}, \"se\": {\"log_eval\": 0.007556678271325456}, \"se_hat\": {\"log_eval\": 0.007233198162806532}, \"context_stratum\": null}, \"11_0\": {\"name\": \"11_0\", \"parameters\": {\"lr\": 0.0037989071059585247, \"decay\": 0.0013841435750271724, \"epochs\": 9}, \"y\": {\"log_eval\": 3.921352853873042}, \"y_hat\": {\"log_eval\": 3.9243788852429975}, \"se\": {\"log_eval\": 0.010184709934255198}, \"se_hat\": {\"log_eval\": 0.009096599078786311}, \"context_stratum\": null}, \"12_0\": {\"name\": \"12_0\", \"parameters\": {\"lr\": 0.0010034284778267387, \"decay\": 0.01619763305775833, \"epochs\": 4}, \"y\": {\"log_eval\": 3.9779872969205443}, \"y_hat\": {\"log_eval\": 3.978076737674945}, \"se\": {\"log_eval\": 0.008471989545960273}, \"se_hat\": {\"log_eval\": 0.008341766780874211}, \"context_stratum\": null}, \"13_0\": {\"name\": \"13_0\", \"parameters\": {\"lr\": 0.0017365582947129383, \"decay\": 0.008977215067036219, \"epochs\": 1}, \"y\": {\"log_eval\": 3.975506861213706}, \"y_hat\": {\"log_eval\": 3.975290264046756}, \"se\": {\"log_eval\": 0.008807034960569648}, \"se_hat\": {\"log_eval\": 0.008638238723038353}, \"context_stratum\": null}, \"14_0\": {\"name\": \"14_0\", \"parameters\": {\"lr\": 0.006116741263131368, \"decay\": 0.07895861915890333, \"epochs\": 11}, \"y\": {\"log_eval\": 3.61423258781629}, \"y_hat\": {\"log_eval\": 3.6171929153616618}, \"se\": {\"log_eval\": 0.0063616699104992154}, \"se_hat\": {\"log_eval\": 0.006334580202861196}, \"context_stratum\": null}, \"15_0\": {\"name\": \"15_0\", \"parameters\": {\"lr\": 0.00512507486326056, \"decay\": 0.003491511312417426, \"epochs\": 7}, \"y\": {\"log_eval\": 3.998062387185866}, \"y_hat\": {\"log_eval\": 3.994441855043593}, \"se\": {\"log_eval\": 0.008792094974888445}, \"se_hat\": {\"log_eval\": 0.008446310530277413}, \"context_stratum\": null}, \"16_0\": {\"name\": \"16_0\", \"parameters\": {\"lr\": 0.0024074724487850477, \"decay\": 0.04021334838836546, \"epochs\": 9}, \"y\": {\"log_eval\": 4.0259356856422}, \"y_hat\": {\"log_eval\": 4.024116902143203}, \"se\": {\"log_eval\": 0.007840452586175162}, \"se_hat\": {\"log_eval\": 0.0075321422157095036}, \"context_stratum\": null}, \"17_0\": {\"name\": \"17_0\", \"parameters\": {\"lr\": 0.0012932799645160857, \"decay\": 0.002270241551766799, \"epochs\": 15}, \"y\": {\"log_eval\": 3.9645698466760853}, \"y_hat\": {\"log_eval\": 3.964848435640311}, \"se\": {\"log_eval\": 0.009111862981454109}, \"se_hat\": {\"log_eval\": 0.009013501390765339}, \"context_stratum\": null}, \"18_0\": {\"name\": \"18_0\", \"parameters\": {\"lr\": 0.0025618335265802736, \"decay\": 0.019564295308741823, \"epochs\": 2}, \"y\": {\"log_eval\": 4.014018816636409}, \"y_hat\": {\"log_eval\": 4.01357301971357}, \"se\": {\"log_eval\": 0.00792525179822629}, \"se_hat\": {\"log_eval\": 0.007613727873306417}, \"context_stratum\": null}, \"19_0\": {\"name\": \"19_0\", \"parameters\": {\"lr\": 0.002774570008448762, \"decay\": 0.00197962435500844, \"epochs\": 4}, \"y\": {\"log_eval\": 3.969413014029092}, \"y_hat\": {\"log_eval\": 3.9718046534403335}, \"se\": {\"log_eval\": 0.009130610560002307}, \"se_hat\": {\"log_eval\": 0.008800262483849436}, \"context_stratum\": null}, \"20_0\": {\"name\": \"20_0\", \"parameters\": {\"lr\": 0.0014007643909409292, \"decay\": 0.02253605918351418, \"epochs\": 9}, \"y\": {\"log_eval\": 4.0115342622454415}, \"y_hat\": {\"log_eval\": 4.0131960970243945}, \"se\": {\"log_eval\": 0.008904613847650317}, \"se_hat\": {\"log_eval\": 0.008445377722073578}, \"context_stratum\": null}, \"21_0\": {\"name\": \"21_0\", \"parameters\": {\"lr\": 0.0022177364780740904, \"decay\": 0.004060196864519902, \"epochs\": 12}, \"y\": {\"log_eval\": 3.9999811426165053}, \"y_hat\": {\"log_eval\": 3.998542932482182}, \"se\": {\"log_eval\": 0.008630238775110429}, \"se_hat\": {\"log_eval\": 0.00844079453250696}, \"context_stratum\": null}, \"22_0\": {\"name\": \"22_0\", \"parameters\": {\"lr\": 0.004721522756697272, \"decay\": 0.03473938680518261, \"epochs\": 2}, \"y\": {\"log_eval\": 4.015748638745597}, \"y_hat\": {\"log_eval\": 4.013775893589169}, \"se\": {\"log_eval\": 0.007617459348825448}, \"se_hat\": {\"log_eval\": 0.007223183155183658}, \"context_stratum\": null}, \"23_0\": {\"name\": \"23_0\", \"parameters\": {\"lr\": 0.006507217278079819, \"decay\": 0.007829091848627883, \"epochs\": 10}, \"y\": {\"log_eval\": 3.969515490044833}, \"y_hat\": {\"log_eval\": 3.9642037237397916}, \"se\": {\"log_eval\": 0.008249124176806254}, \"se_hat\": {\"log_eval\": 0.008048612110853021}, \"context_stratum\": null}, \"24_0\": {\"name\": \"24_0\", \"parameters\": {\"lr\": 0.0027287701230472123, \"decay\": 0.047467561333178455, \"epochs\": 5}, \"y\": {\"log_eval\": 4.008045219231504}, \"y_hat\": {\"log_eval\": 4.012722124044243}, \"se\": {\"log_eval\": 0.008600824796006514}, \"se_hat\": {\"log_eval\": 0.00813798449688285}, \"context_stratum\": null}, \"25_0\": {\"name\": \"25_0\", \"parameters\": {\"lr\": 0.0018620520236365425, \"decay\": 0.014504572431582102, \"epochs\": 11}, \"y\": {\"log_eval\": 4.0177322106840325}, \"y_hat\": {\"log_eval\": 4.01808485272548}, \"se\": {\"log_eval\": 0.008637085344971781}, \"se_hat\": {\"log_eval\": 0.008218315870386328}, \"context_stratum\": null}, \"26_0\": {\"name\": \"26_0\", \"parameters\": {\"lr\": 0.0012156310523465015, \"decay\": 0.08578899579530594, \"epochs\": 11}, \"y\": {\"log_eval\": 4.034312338135606}, \"y_hat\": {\"log_eval\": 4.034698353251241}, \"se\": {\"log_eval\": 0.007689923755965675}, \"se_hat\": {\"log_eval\": 0.0072154974270828435}, \"context_stratum\": null}, \"27_0\": {\"name\": \"27_0\", \"parameters\": {\"lr\": 0.0009034861576172048, \"decay\": 0.043318245856435324, \"epochs\": 14}, \"y\": {\"log_eval\": 4.037392070141155}, \"y_hat\": {\"log_eval\": 4.0363614662139815}, \"se\": {\"log_eval\": 0.007918972916914799}, \"se_hat\": {\"log_eval\": 0.00728011534702147}, \"context_stratum\": null}, \"28_0\": {\"name\": \"28_0\", \"parameters\": {\"lr\": 0.0011657755539881888, \"decay\": 0.1, \"epochs\": 15}, \"y\": {\"log_eval\": 4.0305296503746995}, \"y_hat\": {\"log_eval\": 4.029667281705869}, \"se\": {\"log_eval\": 0.007765747390425193}, \"se_hat\": {\"log_eval\": 0.007524587064582032}, \"context_stratum\": null}, \"29_0\": {\"name\": \"29_0\", \"parameters\": {\"lr\": 0.008000000000000004, \"decay\": 0.002288829527071239, \"epochs\": 7}, \"y\": {\"log_eval\": 3.9216153556747795}, \"y_hat\": {\"log_eval\": 3.92800375033489}, \"se\": {\"log_eval\": 0.010304896456927469}, \"se_hat\": {\"log_eval\": 0.009984030462509228}, \"context_stratum\": null}, \"30_0\": {\"name\": \"30_0\", \"parameters\": {\"lr\": 0.005128081369884944, \"decay\": 0.009714020504312918, \"epochs\": 3}, \"y\": {\"log_eval\": 4.003272017188419}, \"y_hat\": {\"log_eval\": 4.0047854909541}, \"se\": {\"log_eval\": 0.008744524217256345}, \"se_hat\": {\"log_eval\": 0.008455843694870372}, \"context_stratum\": null}, \"31_0\": {\"name\": \"31_0\", \"parameters\": {\"lr\": 0.0012034966711127215, \"decay\": 0.05331576453873375, \"epochs\": 13}, \"y\": {\"log_eval\": 4.034853146741749}, \"y_hat\": {\"log_eval\": 4.037019223140232}, \"se\": {\"log_eval\": 0.007891388538915295}, \"se_hat\": {\"log_eval\": 0.006970550579426248}, \"context_stratum\": null}, \"32_0\": {\"name\": \"32_0\", \"parameters\": {\"lr\": 0.0011924465660416662, \"decay\": 0.018078350513876462, \"epochs\": 15}, \"y\": {\"log_eval\": 4.0257891017009255}, \"y_hat\": {\"log_eval\": 4.024524760343655}, \"se\": {\"log_eval\": 0.008250339710490533}, \"se_hat\": {\"log_eval\": 0.007982545451364556}, \"context_stratum\": null}, \"33_0\": {\"name\": \"33_0\", \"parameters\": {\"lr\": 0.0008000000000000004, \"decay\": 0.1, \"epochs\": 13}, \"y\": {\"log_eval\": 4.039535780145851}, \"y_hat\": {\"log_eval\": 4.038127020458758}, \"se\": {\"log_eval\": 0.007132010393189851}, \"se_hat\": {\"log_eval\": 0.006680396623233546}, \"context_stratum\": null}, \"34_0\": {\"name\": \"34_0\", \"parameters\": {\"lr\": 0.0008000000000000004, \"decay\": 0.09999999999999949, \"epochs\": 9}, \"y\": {\"log_eval\": 4.026641731363641}, \"y_hat\": {\"log_eval\": 4.02671107068213}, \"se\": {\"log_eval\": 0.007205455158902104}, \"se_hat\": {\"log_eval\": 0.006952707419504712}, \"context_stratum\": null}, \"35_0\": {\"name\": \"35_0\", \"parameters\": {\"lr\": 0.0015388220487877905, \"decay\": 0.1, \"epochs\": 8}, \"y\": {\"log_eval\": 4.041210413503344}, \"y_hat\": {\"log_eval\": 4.039251153115173}, \"se\": {\"log_eval\": 0.007214847176585106}, \"se_hat\": {\"log_eval\": 0.00687629163522225}, \"context_stratum\": null}, \"36_0\": {\"name\": \"36_0\", \"parameters\": {\"lr\": 0.0016447015306304208, \"decay\": 0.05740378606914854, \"epochs\": 9}, \"y\": {\"log_eval\": 4.033673711417118}, \"y_hat\": {\"log_eval\": 4.034922153703092}, \"se\": {\"log_eval\": 0.007629768132666603}, \"se_hat\": {\"log_eval\": 0.006952403969317441}, \"context_stratum\": null}, \"37_0\": {\"name\": \"37_0\", \"parameters\": {\"lr\": 0.0008000000000000011, \"decay\": 0.001, \"epochs\": 7}, \"y\": {\"log_eval\": 3.977919594623966}, \"y_hat\": {\"log_eval\": 3.9777393136546957}, \"se\": {\"log_eval\": 0.009058110392772541}, \"se_hat\": {\"log_eval\": 0.0089722398516896}, \"context_stratum\": null}, \"38_0\": {\"name\": \"38_0\", \"parameters\": {\"lr\": 0.008000000000000004, \"decay\": 0.1, \"epochs\": 0}, \"y\": {\"log_eval\": 3.9132375011181257}, \"y_hat\": {\"log_eval\": 3.9135230297515196}, \"se\": {\"log_eval\": 0.008923038775749209}, \"se_hat\": {\"log_eval\": 0.008841739698609238}, \"context_stratum\": null}, \"39_0\": {\"name\": \"39_0\", \"parameters\": {\"lr\": 0.0008000000000000004, \"decay\": 0.034683012185556, \"epochs\": 11}, \"y\": {\"log_eval\": 4.044727817596675}, \"y_hat\": {\"log_eval\": 4.040715144633089}, \"se\": {\"log_eval\": 0.007789747219705842}, \"se_hat\": {\"log_eval\": 0.006963368495015841}, \"context_stratum\": null}, \"40_0\": {\"name\": \"40_0\", \"parameters\": {\"lr\": 0.0008000000000000004, \"decay\": 0.019416227604450564, \"epochs\": 13}, \"y\": {\"log_eval\": 4.005697820954328}, \"y_hat\": {\"log_eval\": 4.009098731989577}, \"se\": {\"log_eval\": 0.00871842467309026}, \"se_hat\": {\"log_eval\": 0.008204306028275373}, \"context_stratum\": null}, \"41_0\": {\"name\": \"41_0\", \"parameters\": {\"lr\": 0.00212708645449816, \"decay\": 0.01127820018448251, \"epochs\": 15}, \"y\": {\"log_eval\": 3.983780613080933}, \"y_hat\": {\"log_eval\": 3.9848810959978844}, \"se\": {\"log_eval\": 0.008859211473068451}, \"se_hat\": {\"log_eval\": 0.008676121060249982}, \"context_stratum\": null}, \"42_0\": {\"name\": \"42_0\", \"parameters\": {\"lr\": 0.0008000000000000004, \"decay\": 0.1, \"epochs\": 15}, \"y\": {\"log_eval\": 4.027518651810411}, \"y_hat\": {\"log_eval\": 4.028330745682156}, \"se\": {\"log_eval\": 0.007652008483475657}, \"se_hat\": {\"log_eval\": 0.007256147587810133}, \"context_stratum\": null}, \"43_0\": {\"name\": \"43_0\", \"parameters\": {\"lr\": 0.0008000000000000004, \"decay\": 0.03401669027082794, \"epochs\": 8}, \"y\": {\"log_eval\": 4.023404506162787}, \"y_hat\": {\"log_eval\": 4.02335703904453}, \"se\": {\"log_eval\": 0.007980565078703471}, \"se_hat\": {\"log_eval\": 0.007708830083616422}, \"context_stratum\": null}, \"44_0\": {\"name\": \"44_0\", \"parameters\": {\"lr\": 0.003633636002786291, \"decay\": 0.028776448733151633, \"epochs\": 3}, \"y\": {\"log_eval\": 4.0366771130414705}, \"y_hat\": {\"log_eval\": 4.036021381561066}, \"se\": {\"log_eval\": 0.007737460497862321}, \"se_hat\": {\"log_eval\": 0.006611636780960699}, \"context_stratum\": null}, \"45_0\": {\"name\": \"45_0\", \"parameters\": {\"lr\": 0.008000000000000004, \"decay\": 0.007147212988528556, \"epochs\": 0}, \"y\": {\"log_eval\": 3.924091409401043}, \"y_hat\": {\"log_eval\": 3.9259242687905567}, \"se\": {\"log_eval\": 0.0089671782093854}, \"se_hat\": {\"log_eval\": 0.008837653500910583}, \"context_stratum\": null}, \"46_0\": {\"name\": \"46_0\", \"parameters\": {\"lr\": 0.0008000000000000004, \"decay\": 0.062132377301891986, \"epochs\": 11}, \"y\": {\"log_eval\": 4.03621600874713}, \"y_hat\": {\"log_eval\": 4.038803959029759}, \"se\": {\"log_eval\": 0.007890092508523705}, \"se_hat\": {\"log_eval\": 0.006788521473106762}, \"context_stratum\": null}, \"47_0\": {\"name\": \"47_0\", \"parameters\": {\"lr\": 0.0008000000000000004, \"decay\": 0.001, \"epochs\": 0}, \"y\": {\"log_eval\": 3.939849888806768}, \"y_hat\": {\"log_eval\": 3.9399320453544253}, \"se\": {\"log_eval\": 0.00877473308367555}, \"se_hat\": {\"log_eval\": 0.008719145213336643}, \"context_stratum\": null}, \"48_0\": {\"name\": \"48_0\", \"parameters\": {\"lr\": 0.004308203330778961, \"decay\": 0.028771024643772, \"epochs\": 4}, \"y\": {\"log_eval\": 4.036188325149162}, \"y_hat\": {\"log_eval\": 4.039249081142876}, \"se\": {\"log_eval\": 0.007577407991815798}, \"se_hat\": {\"log_eval\": 0.0065229120234578655}, \"context_stratum\": null}, \"49_0\": {\"name\": \"49_0\", \"parameters\": {\"lr\": 0.0036967447563253904, \"decay\": 0.1, \"epochs\": 3}, \"y\": {\"log_eval\": 3.939970232874096}, \"y_hat\": {\"log_eval\": 3.9411933023752272}, \"se\": {\"log_eval\": 0.0072260554461817585}, \"se_hat\": {\"log_eval\": 0.007118949508254934}, \"context_stratum\": null}, \"4_0\": {\"name\": \"4_0\", \"parameters\": {\"lr\": 0.0011934390082424268, \"decay\": 0.06686069314247507, \"epochs\": 1}, \"y\": {\"log_eval\": 3.9676639950748886}, \"y_hat\": {\"log_eval\": 3.967407555009287}, \"se\": {\"log_eval\": 0.008439619929951075}, \"se_hat\": {\"log_eval\": 0.008355323774245435}, \"context_stratum\": null}, \"50_0\": {\"name\": \"50_0\", \"parameters\": {\"lr\": 0.0010861821066179202, \"decay\": 0.1, \"epochs\": 6}, \"y\": {\"log_eval\": 4.01873097461381}, \"y_hat\": {\"log_eval\": 4.018774498109206}, \"se\": {\"log_eval\": 0.007476939713896601}, \"se_hat\": {\"log_eval\": 0.007284472147061626}, \"context_stratum\": null}, \"51_0\": {\"name\": \"51_0\", \"parameters\": {\"lr\": 0.0029168908105427667, \"decay\": 0.02052006286485383, \"epochs\": 6}, \"y\": {\"log_eval\": 4.046149745093893}, \"y_hat\": {\"log_eval\": 4.046139565660806}, \"se\": {\"log_eval\": 0.008199089686813746}, \"se_hat\": {\"log_eval\": 0.007449515143363521}, \"context_stratum\": null}, \"52_0\": {\"name\": \"52_0\", \"parameters\": {\"lr\": 0.0014333221894011758, \"decay\": 0.003932877349377023, \"epochs\": 8}, \"y\": {\"log_eval\": 3.9847539886801733}, \"y_hat\": {\"log_eval\": 3.9852954697031624}, \"se\": {\"log_eval\": 0.008939494207823605}, \"se_hat\": {\"log_eval\": 0.00876160990108908}, \"context_stratum\": null}, \"53_0\": {\"name\": \"53_0\", \"parameters\": {\"lr\": 0.0034402691960054464, \"decay\": 0.024358234364913824, \"epochs\": 5}, \"y\": {\"log_eval\": 4.055870379113808}, \"y_hat\": {\"log_eval\": 4.0530499206343}, \"se\": {\"log_eval\": 0.007468974042501011}, \"se_hat\": {\"log_eval\": 0.0061067200752131815}, \"context_stratum\": null}, \"5_0\": {\"name\": \"5_0\", \"parameters\": {\"lr\": 0.0019558212574087366, \"decay\": 0.0011824514174953505, \"epochs\": 5}, \"y\": {\"log_eval\": 3.9826962664100476}, \"y_hat\": {\"log_eval\": 3.9812209404513363}, \"se\": {\"log_eval\": 0.008637217750371025}, \"se_hat\": {\"log_eval\": 0.008451074880474795}, \"context_stratum\": null}, \"6_0\": {\"name\": \"6_0\", \"parameters\": {\"lr\": 0.005551494394407805, \"decay\": 0.010283260945966472, \"epochs\": 8}, \"y\": {\"log_eval\": 3.937745563984811}, \"y_hat\": {\"log_eval\": 3.9483985569860742}, \"se\": {\"log_eval\": 0.009519154098377499}, \"se_hat\": {\"log_eval\": 0.008814390749896862}, \"context_stratum\": null}, \"7_0\": {\"name\": \"7_0\", \"parameters\": {\"lr\": 0.007662923912231201, \"decay\": 0.002680738706964375, \"epochs\": 3}, \"y\": {\"log_eval\": 4.011433652054382}, \"y_hat\": {\"log_eval\": 4.008593849982736}, \"se\": {\"log_eval\": 0.008661630655341245}, \"se_hat\": {\"log_eval\": 0.008472975026342998}, \"context_stratum\": null}, \"8_0\": {\"name\": \"8_0\", \"parameters\": {\"lr\": 0.0016311940380312328, \"decay\": 0.030532060346985843, \"epochs\": 13}, \"y\": {\"log_eval\": 4.033091584092544}, \"y_hat\": {\"log_eval\": 4.031388818002143}, \"se\": {\"log_eval\": 0.00794129124580905}, \"se_hat\": {\"log_eval\": 0.0075129234837603915}, \"context_stratum\": null}, \"9_0\": {\"name\": \"9_0\", \"parameters\": {\"lr\": 0.0008013008433305626, \"decay\": 0.005499813737312483, \"epochs\": 11}, \"y\": {\"log_eval\": 3.996061115189173}, \"y_hat\": {\"log_eval\": 3.9953230147021666}, \"se\": {\"log_eval\": 0.008740295689537658}, \"se_hat\": {\"log_eval\": 0.008591547617036153}, \"context_stratum\": null}, \"control1\": {\"name\": \"control1\", \"parameters\": {\"lr\": 0.0043, \"decay\": 0.0012, \"epochs\": 5}, \"y\": {\"log_eval\": 3.997396798885231}, \"y_hat\": {\"log_eval\": 3.9951330212120184}, \"se\": {\"log_eval\": 0.008531493375863187}, \"se_hat\": {\"log_eval\": 0.008318374028251425}, \"context_stratum\": null}, \"control2\": {\"name\": \"control2\", \"parameters\": {\"lr\": 0.0043, \"decay\": 0.0012, \"epochs\": 10}, \"y\": {\"log_eval\": 3.902201694947672}, \"y_hat\": {\"log_eval\": 3.9025434779865877}, \"se\": {\"log_eval\": 0.01006668027108687}, \"se_hat\": {\"log_eval\": 0.009324324088314554}, \"context_stratum\": null}, \"previous\": {\"name\": \"previous\", \"parameters\": {\"lr\": 0.00715, \"decay\": 0.01, \"epochs\": 6}, \"y\": {\"log_eval\": 3.9953394538615683}, \"y_hat\": {\"log_eval\": 3.9918436811219107}, \"se\": {\"log_eval\": 0.008252234051061177}, \"se_hat\": {\"log_eval\": 0.008005110145318989}, \"context_stratum\": null}, \"zero\": {\"name\": \"zero\", \"parameters\": {\"lr\": 0.0043, \"decay\": 0.0012, \"epochs\": 0}, \"y\": {\"log_eval\": 3.9341571499800057}, \"y_hat\": {\"log_eval\": 3.9350915596194054}, \"se\": {\"log_eval\": 0.009092915137801005}, \"se_hat\": {\"log_eval\": 0.00899225601874008}, \"context_stratum\": null}}, \"out_of_sample\": {}, \"status_quo_name\": null};\n",
       "const arm_name_to_parameters = {\"10_0\": {\"lr\": 0.004044864308475928, \"decay\": 0.04707769638039004, \"epochs\": 6}, \"11_0\": {\"lr\": 0.0037989071059585247, \"decay\": 0.0013841435750271724, \"epochs\": 9}, \"12_0\": {\"lr\": 0.0010034284778267387, \"decay\": 0.01619763305775833, \"epochs\": 4}, \"13_0\": {\"lr\": 0.0017365582947129383, \"decay\": 0.008977215067036219, \"epochs\": 1}, \"14_0\": {\"lr\": 0.006116741263131368, \"decay\": 0.07895861915890333, \"epochs\": 11}, \"15_0\": {\"lr\": 0.00512507486326056, \"decay\": 0.003491511312417426, \"epochs\": 7}, \"16_0\": {\"lr\": 0.0024074724487850477, \"decay\": 0.04021334838836546, \"epochs\": 9}, \"17_0\": {\"lr\": 0.0012932799645160857, \"decay\": 0.002270241551766799, \"epochs\": 15}, \"18_0\": {\"lr\": 0.0025618335265802736, \"decay\": 0.019564295308741823, \"epochs\": 2}, \"19_0\": {\"lr\": 0.002774570008448762, \"decay\": 0.00197962435500844, \"epochs\": 4}, \"20_0\": {\"lr\": 0.0014007643909409292, \"decay\": 0.02253605918351418, \"epochs\": 9}, \"21_0\": {\"lr\": 0.0022177364780740904, \"decay\": 0.004060196864519902, \"epochs\": 12}, \"22_0\": {\"lr\": 0.004721522756697272, \"decay\": 0.03473938680518261, \"epochs\": 2}, \"23_0\": {\"lr\": 0.006507217278079819, \"decay\": 0.007829091848627883, \"epochs\": 10}, \"24_0\": {\"lr\": 0.0027287701230472123, \"decay\": 0.047467561333178455, \"epochs\": 5}, \"25_0\": {\"lr\": 0.0018620520236365425, \"decay\": 0.014504572431582102, \"epochs\": 11}, \"26_0\": {\"lr\": 0.0012156310523465015, \"decay\": 0.08578899579530594, \"epochs\": 11}, \"27_0\": {\"lr\": 0.0009034861576172048, \"decay\": 0.043318245856435324, \"epochs\": 14}, \"28_0\": {\"lr\": 0.0011657755539881888, \"decay\": 0.1, \"epochs\": 15}, \"29_0\": {\"lr\": 0.008000000000000004, \"decay\": 0.002288829527071239, \"epochs\": 7}, \"30_0\": {\"lr\": 0.005128081369884944, \"decay\": 0.009714020504312918, \"epochs\": 3}, \"31_0\": {\"lr\": 0.0012034966711127215, \"decay\": 0.05331576453873375, \"epochs\": 13}, \"32_0\": {\"lr\": 0.0011924465660416662, \"decay\": 0.018078350513876462, \"epochs\": 15}, \"33_0\": {\"lr\": 0.0008000000000000004, \"decay\": 0.1, \"epochs\": 13}, \"34_0\": {\"lr\": 0.0008000000000000004, \"decay\": 0.09999999999999949, \"epochs\": 9}, \"35_0\": {\"lr\": 0.0015388220487877905, \"decay\": 0.1, \"epochs\": 8}, \"36_0\": {\"lr\": 0.0016447015306304208, \"decay\": 0.05740378606914854, \"epochs\": 9}, \"37_0\": {\"lr\": 0.0008000000000000011, \"decay\": 0.001, \"epochs\": 7}, \"38_0\": {\"lr\": 0.008000000000000004, \"decay\": 0.1, \"epochs\": 0}, \"39_0\": {\"lr\": 0.0008000000000000004, \"decay\": 0.034683012185556, \"epochs\": 11}, \"40_0\": {\"lr\": 0.0008000000000000004, \"decay\": 0.019416227604450564, \"epochs\": 13}, \"41_0\": {\"lr\": 0.00212708645449816, \"decay\": 0.01127820018448251, \"epochs\": 15}, \"42_0\": {\"lr\": 0.0008000000000000004, \"decay\": 0.1, \"epochs\": 15}, \"43_0\": {\"lr\": 0.0008000000000000004, \"decay\": 0.03401669027082794, \"epochs\": 8}, \"44_0\": {\"lr\": 0.003633636002786291, \"decay\": 0.028776448733151633, \"epochs\": 3}, \"45_0\": {\"lr\": 0.008000000000000004, \"decay\": 0.007147212988528556, \"epochs\": 0}, \"46_0\": {\"lr\": 0.0008000000000000004, \"decay\": 0.062132377301891986, \"epochs\": 11}, \"47_0\": {\"lr\": 0.0008000000000000004, \"decay\": 0.001, \"epochs\": 0}, \"48_0\": {\"lr\": 0.004308203330778961, \"decay\": 0.028771024643772, \"epochs\": 4}, \"49_0\": {\"lr\": 0.0036967447563253904, \"decay\": 0.1, \"epochs\": 3}, \"4_0\": {\"lr\": 0.0011934390082424268, \"decay\": 0.06686069314247507, \"epochs\": 1}, \"50_0\": {\"lr\": 0.0010861821066179202, \"decay\": 0.1, \"epochs\": 6}, \"51_0\": {\"lr\": 0.0029168908105427667, \"decay\": 0.02052006286485383, \"epochs\": 6}, \"52_0\": {\"lr\": 0.0014333221894011758, \"decay\": 0.003932877349377023, \"epochs\": 8}, \"53_0\": {\"lr\": 0.0034402691960054464, \"decay\": 0.024358234364913824, \"epochs\": 5}, \"5_0\": {\"lr\": 0.0019558212574087366, \"decay\": 0.0011824514174953505, \"epochs\": 5}, \"6_0\": {\"lr\": 0.005551494394407805, \"decay\": 0.010283260945966472, \"epochs\": 8}, \"7_0\": {\"lr\": 0.007662923912231201, \"decay\": 0.002680738706964375, \"epochs\": 3}, \"8_0\": {\"lr\": 0.0016311940380312328, \"decay\": 0.030532060346985843, \"epochs\": 13}, \"9_0\": {\"lr\": 0.0008013008433305626, \"decay\": 0.005499813737312483, \"epochs\": 11}, \"control1\": {\"lr\": 0.0043, \"decay\": 0.0012, \"epochs\": 5}, \"control2\": {\"lr\": 0.0043, \"decay\": 0.0012, \"epochs\": 10}, \"previous\": {\"lr\": 0.00715, \"decay\": 0.01, \"epochs\": 6}, \"zero\": {\"lr\": 0.0043, \"decay\": 0.0012, \"epochs\": 0}};\n",
       "const f = [3.9813672725789124, 3.984443250381774, 3.987451320882371, 3.990383293651221, 3.993236696469893, 3.996015619683069, 3.9987311534883285, 4.001401172407293, 4.004049213922274, 4.00670230088446, 4.009387768635923, 4.012129373420332, 4.0149430594825555, 4.0178327061093935, 4.0207859881436105, 4.023770288555084, 4.0267287875759035, 4.0295780147331035, 4.032209842853725, 4.034500258745621, 4.0363230676394375, 4.037563694533119, 4.038129406437987, 4.0379548573942685, 4.03700350684052, 4.035266127357574, 4.032757785546205, 4.029514628745412, 4.025591633373339, 4.02106207706366, 4.0160183933579185, 4.01057174685729, 4.004846794534872, 3.998972267071367, 3.993071338360468, 3.9872542388977315, 3.981613569623366, 3.9762220404380293, 3.9711322032077803, 3.966377734741184, 3.9619758322907805, 3.9579302907330915, 3.9542348431103016, 3.950876380470631, 3.9478377370611137, 3.9450998352402076, 3.9426431160738438, 3.9404483084878694, 3.9384966836492463, 3.936769985731759];\n",
       "const fit_data = [{\"metric_name\": \"log_eval\", \"arm_name\": \"10_0\", \"mean\": 4.020110049100475, \"sem\": 0.007556678271325456}, {\"metric_name\": \"log_eval\", \"arm_name\": \"11_0\", \"mean\": 3.921352853873042, \"sem\": 0.010184709934255198}, {\"metric_name\": \"log_eval\", \"arm_name\": \"12_0\", \"mean\": 3.9779872969205443, \"sem\": 0.008471989545960273}, {\"metric_name\": \"log_eval\", \"arm_name\": \"13_0\", \"mean\": 3.975506861213706, \"sem\": 0.008807034960569648}, {\"metric_name\": \"log_eval\", \"arm_name\": \"14_0\", \"mean\": 3.61423258781629, \"sem\": 0.0063616699104992154}, {\"metric_name\": \"log_eval\", \"arm_name\": \"15_0\", \"mean\": 3.998062387185866, \"sem\": 0.008792094974888445}, {\"metric_name\": \"log_eval\", \"arm_name\": \"16_0\", \"mean\": 4.0259356856422, \"sem\": 0.007840452586175162}, {\"metric_name\": \"log_eval\", \"arm_name\": \"17_0\", \"mean\": 3.9645698466760853, \"sem\": 0.009111862981454109}, {\"metric_name\": \"log_eval\", \"arm_name\": \"18_0\", \"mean\": 4.014018816636409, \"sem\": 0.00792525179822629}, {\"metric_name\": \"log_eval\", \"arm_name\": \"19_0\", \"mean\": 3.969413014029092, \"sem\": 0.009130610560002307}, {\"metric_name\": \"log_eval\", \"arm_name\": \"20_0\", \"mean\": 4.0115342622454415, \"sem\": 0.008904613847650317}, {\"metric_name\": \"log_eval\", \"arm_name\": \"21_0\", \"mean\": 3.9999811426165053, \"sem\": 0.008630238775110429}, {\"metric_name\": \"log_eval\", \"arm_name\": \"22_0\", \"mean\": 4.015748638745597, \"sem\": 0.007617459348825448}, {\"metric_name\": \"log_eval\", \"arm_name\": \"23_0\", \"mean\": 3.969515490044833, \"sem\": 0.008249124176806254}, {\"metric_name\": \"log_eval\", \"arm_name\": \"24_0\", \"mean\": 4.008045219231504, \"sem\": 0.008600824796006514}, {\"metric_name\": \"log_eval\", \"arm_name\": \"25_0\", \"mean\": 4.0177322106840325, \"sem\": 0.008637085344971781}, {\"metric_name\": \"log_eval\", \"arm_name\": \"26_0\", \"mean\": 4.034312338135606, \"sem\": 0.007689923755965675}, {\"metric_name\": \"log_eval\", \"arm_name\": \"27_0\", \"mean\": 4.037392070141155, \"sem\": 0.007918972916914799}, {\"metric_name\": \"log_eval\", \"arm_name\": \"28_0\", \"mean\": 4.0305296503746995, \"sem\": 0.007765747390425193}, {\"metric_name\": \"log_eval\", \"arm_name\": \"29_0\", \"mean\": 3.9216153556747795, \"sem\": 0.010304896456927469}, {\"metric_name\": \"log_eval\", \"arm_name\": \"30_0\", \"mean\": 4.003272017188419, \"sem\": 0.008744524217256345}, {\"metric_name\": \"log_eval\", \"arm_name\": \"31_0\", \"mean\": 4.034853146741749, \"sem\": 0.007891388538915295}, {\"metric_name\": \"log_eval\", \"arm_name\": \"32_0\", \"mean\": 4.0257891017009255, \"sem\": 0.008250339710490533}, {\"metric_name\": \"log_eval\", \"arm_name\": \"33_0\", \"mean\": 4.039535780145851, \"sem\": 0.007132010393189851}, {\"metric_name\": \"log_eval\", \"arm_name\": \"34_0\", \"mean\": 4.026641731363641, \"sem\": 0.007205455158902104}, {\"metric_name\": \"log_eval\", \"arm_name\": \"35_0\", \"mean\": 4.041210413503344, \"sem\": 0.007214847176585106}, {\"metric_name\": \"log_eval\", \"arm_name\": \"36_0\", \"mean\": 4.033673711417118, \"sem\": 0.007629768132666603}, {\"metric_name\": \"log_eval\", \"arm_name\": \"37_0\", \"mean\": 3.977919594623966, \"sem\": 0.009058110392772541}, {\"metric_name\": \"log_eval\", \"arm_name\": \"38_0\", \"mean\": 3.9132375011181257, \"sem\": 0.008923038775749209}, {\"metric_name\": \"log_eval\", \"arm_name\": \"39_0\", \"mean\": 4.044727817596675, \"sem\": 0.007789747219705842}, {\"metric_name\": \"log_eval\", \"arm_name\": \"40_0\", \"mean\": 4.005697820954328, \"sem\": 0.00871842467309026}, {\"metric_name\": \"log_eval\", \"arm_name\": \"41_0\", \"mean\": 3.983780613080933, \"sem\": 0.008859211473068451}, {\"metric_name\": \"log_eval\", \"arm_name\": \"42_0\", \"mean\": 4.027518651810411, \"sem\": 0.007652008483475657}, {\"metric_name\": \"log_eval\", \"arm_name\": \"43_0\", \"mean\": 4.023404506162787, \"sem\": 0.007980565078703471}, {\"metric_name\": \"log_eval\", \"arm_name\": \"44_0\", \"mean\": 4.0366771130414705, \"sem\": 0.007737460497862321}, {\"metric_name\": \"log_eval\", \"arm_name\": \"45_0\", \"mean\": 3.924091409401043, \"sem\": 0.0089671782093854}, {\"metric_name\": \"log_eval\", \"arm_name\": \"46_0\", \"mean\": 4.03621600874713, \"sem\": 0.007890092508523705}, {\"metric_name\": \"log_eval\", \"arm_name\": \"47_0\", \"mean\": 3.939849888806768, \"sem\": 0.00877473308367555}, {\"metric_name\": \"log_eval\", \"arm_name\": \"48_0\", \"mean\": 4.036188325149162, \"sem\": 0.007577407991815798}, {\"metric_name\": \"log_eval\", \"arm_name\": \"49_0\", \"mean\": 3.939970232874096, \"sem\": 0.0072260554461817585}, {\"metric_name\": \"log_eval\", \"arm_name\": \"4_0\", \"mean\": 3.9676639950748886, \"sem\": 0.008439619929951075}, {\"metric_name\": \"log_eval\", \"arm_name\": \"50_0\", \"mean\": 4.01873097461381, \"sem\": 0.007476939713896601}, {\"metric_name\": \"log_eval\", \"arm_name\": \"51_0\", \"mean\": 4.046149745093893, \"sem\": 0.008199089686813746}, {\"metric_name\": \"log_eval\", \"arm_name\": \"52_0\", \"mean\": 3.9847539886801733, \"sem\": 0.008939494207823605}, {\"metric_name\": \"log_eval\", \"arm_name\": \"53_0\", \"mean\": 4.055870379113808, \"sem\": 0.007468974042501011}, {\"metric_name\": \"log_eval\", \"arm_name\": \"5_0\", \"mean\": 3.9826962664100476, \"sem\": 0.008637217750371025}, {\"metric_name\": \"log_eval\", \"arm_name\": \"6_0\", \"mean\": 3.937745563984811, \"sem\": 0.009519154098377499}, {\"metric_name\": \"log_eval\", \"arm_name\": \"7_0\", \"mean\": 4.011433652054382, \"sem\": 0.008661630655341245}, {\"metric_name\": \"log_eval\", \"arm_name\": \"8_0\", \"mean\": 4.033091584092544, \"sem\": 0.00794129124580905}, {\"metric_name\": \"log_eval\", \"arm_name\": \"9_0\", \"mean\": 3.996061115189173, \"sem\": 0.008740295689537658}, {\"metric_name\": \"log_eval\", \"arm_name\": \"control1\", \"mean\": 3.997396798885231, \"sem\": 0.008531493375863187}, {\"metric_name\": \"log_eval\", \"arm_name\": \"control2\", \"mean\": 3.902201694947672, \"sem\": 0.01006668027108687}, {\"metric_name\": \"log_eval\", \"arm_name\": \"previous\", \"mean\": 3.9953394538615683, \"sem\": 0.008252234051061177}, {\"metric_name\": \"log_eval\", \"arm_name\": \"zero\", \"mean\": 3.9341571499800057, \"sem\": 0.009092915137801005}];\n",
       "const grid = [0.0, 0.30612244897959184, 0.6122448979591837, 0.9183673469387755, 1.2244897959183674, 1.5306122448979593, 1.836734693877551, 2.142857142857143, 2.4489795918367347, 2.7551020408163267, 3.0612244897959187, 3.36734693877551, 3.673469387755102, 3.979591836734694, 4.285714285714286, 4.591836734693878, 4.8979591836734695, 5.204081632653061, 5.510204081632653, 5.816326530612245, 6.122448979591837, 6.428571428571429, 6.73469387755102, 7.040816326530613, 7.346938775510204, 7.653061224489796, 7.959183673469388, 8.26530612244898, 8.571428571428571, 8.877551020408163, 9.183673469387756, 9.489795918367347, 9.795918367346939, 10.10204081632653, 10.408163265306122, 10.714285714285715, 11.020408163265307, 11.326530612244898, 11.63265306122449, 11.938775510204081, 12.244897959183675, 12.551020408163266, 12.857142857142858, 13.16326530612245, 13.46938775510204, 13.775510204081632, 14.081632653061225, 14.387755102040817, 14.693877551020408, 15.0];\n",
       "const metric = \"log_eval\";\n",
       "const param = \"epochs\";\n",
       "const rel = false;\n",
       "const setx = {\"lr\": 0.002607485148297835, \"decay\": 0.03386723289288722, \"epochs\": 7};\n",
       "const sd = [0.0365441940297189, 0.03326879417866011, 0.030099230500759584, 0.02710910010542778, 0.024379521648437024, 0.02199035569602598, 0.02000410217178374, 0.018444271974891624, 0.017277377204405878, 0.016412148876738263, 0.015721837019230217, 0.01507994272856301, 0.014393515163718595, 0.013625224673875062, 0.012803514392738672, 0.01202051686942072, 0.011411461801948557, 0.011106790870361524, 0.011167080228151974, 0.011544940596153927, 0.012107283692226694, 0.012691133019619334, 0.013148308737431311, 0.013367597284616714, 0.01328529389788913, 0.012895088252504487, 0.012263325082912615, 0.011550661997720243, 0.011026396378436531, 0.011024389117570187, 0.01178609182969162, 0.013303920270515624, 0.015367501629613946, 0.017724607713444, 0.020172444476809104, 0.022572062112505585, 0.024837065134634868, 0.02692050948017678, 0.028804855935317043, 0.030494564937493175, 0.03201026370321509, 0.03338372731690347, 0.034653321384076, 0.035859887174712, 0.03704325139916202, 0.03823957558927784, 0.03947964133154427, 0.04078798089886933, 0.042182618710057185, 0.043675158881600694];\n",
       "const is_log = false;\n",
       "\n",
       "// format data\n",
       "const res = relativize_data(f, sd, rel, arm_data, metric);\n",
       "const f_final = res[0];\n",
       "const sd_final = res[1];\n",
       "\n",
       "// get data for standard deviation fill plot\n",
       "const sd_upper = [];\n",
       "const sd_lower = [];\n",
       "for (let i = 0; i < sd.length; i++) {\n",
       "  sd_upper.push(f_final[i] + 2 * sd_final[i]);\n",
       "  sd_lower.push(f_final[i] - 2 * sd_final[i]);\n",
       "}\n",
       "const grid_rev = copy_and_reverse(grid);\n",
       "const sd_lower_rev = copy_and_reverse(sd_lower);\n",
       "const sd_x = grid.concat(grid_rev);\n",
       "const sd_y = sd_upper.concat(sd_lower_rev);\n",
       "\n",
       "// get data for observed arms and error bars\n",
       "const arm_x = [];\n",
       "const arm_y = [];\n",
       "const arm_sem = [];\n",
       "fit_data.forEach(row => {\n",
       "    parameters = arm_name_to_parameters[row[\"arm_name\"]];\n",
       "    plot = true;\n",
       "    Object.keys(setx).forEach(p => {\n",
       "      if (p !== param && parameters[p] !== setx[p]) {\n",
       "        plot = false;\n",
       "      }\n",
       "    });\n",
       "    if (plot === true) {\n",
       "        arm_x.push(parameters[param]);\n",
       "        arm_y.push(row[\"mean\"]);\n",
       "        arm_sem.push(row[\"sem\"]);\n",
       "    }\n",
       "});\n",
       "\n",
       "const arm_res = relativize_data(\n",
       "  arm_y, arm_sem, rel, arm_data, metric\n",
       ");\n",
       "const arm_y_final = arm_res[0];\n",
       "const arm_sem_final = arm_res[1].map(x => x * 2);\n",
       "\n",
       "// create traces\n",
       "const f_trace = {\n",
       "  x: grid,\n",
       "  y: f_final,\n",
       "  showlegend: false,\n",
       "  hoverinfo: 'x+y',\n",
       "  line: {\n",
       "    color: 'rgba(128, 177, 211, 1)',\n",
       "  },\n",
       "};\n",
       "\n",
       "const arms_trace = {\n",
       "  x: arm_x,\n",
       "  y: arm_y_final,\n",
       "  mode: 'markers',\n",
       "  error_y: {\n",
       "    type: 'data',\n",
       "    array: arm_sem_final,\n",
       "    visible: true,\n",
       "    color: 'black',\n",
       "  },\n",
       "  line: {\n",
       "    color: 'black',\n",
       "  },\n",
       "  showlegend: false,\n",
       "  hoverinfo: 'x+y',\n",
       "};\n",
       "\n",
       "const sd_trace = {\n",
       "    x: sd_x,\n",
       "    y: sd_y,\n",
       "    fill: 'toself',\n",
       "    fillcolor: 'rgba(128, 177, 211, 0.2)',\n",
       "    line: {\n",
       "      color: 'transparent',\n",
       "    },\n",
       "    showlegend: false,\n",
       "    hoverinfo: 'none',\n",
       "};\n",
       "\n",
       "traces = [\n",
       "  sd_trace,\n",
       "  f_trace,\n",
       "  arms_trace,\n",
       "];\n",
       "\n",
       "// iterate over out-of-sample arms\n",
       "let i = 1;\n",
       "Object.keys(arm_data['out_of_sample']).forEach(generator_run_name => {\n",
       "  const ax = [];\n",
       "  const ay = [];\n",
       "  const asem = [];\n",
       "  const atext = [];\n",
       "\n",
       "  Object.keys(arm_data['out_of_sample'][generator_run_name]).forEach(arm_name => {\n",
       "    const parameters = arm_data[\n",
       "      'out_of_sample'][generator_run_name][arm_name]['parameters'];\n",
       "    plot = true;\n",
       "    Object.keys(setx).forEach(p => {\n",
       "      if (p !== param && parameters[p] !== setx[p]) {\n",
       "        plot = false;\n",
       "      }\n",
       "    });\n",
       "    if (plot === true) {\n",
       "      ax.push(parameters[param]);\n",
       "      ay.push(\n",
       "        arm_data['out_of_sample'][generator_run_name][arm_name]['y_hat'][metric]\n",
       "      );\n",
       "      asem.push(\n",
       "        arm_data['out_of_sample'][generator_run_name][arm_name]['se_hat'][metric]\n",
       "      );\n",
       "      atext.push('<em>Candidate ' + arm_name + '</em>');\n",
       "    }\n",
       "  });\n",
       "\n",
       "  const out_of_sample_arm_res = relativize_data(\n",
       "    ay, asem, rel, arm_data, metric\n",
       "  );\n",
       "  const ay_final = out_of_sample_arm_res[0];\n",
       "  const asem_final = out_of_sample_arm_res[1].map(x => x * 2);\n",
       "\n",
       "  traces.push({\n",
       "    hoverinfo: 'text',\n",
       "    legendgroup: generator_run_name,\n",
       "    marker: {color: 'black', symbol: i, opacity: 0.5},\n",
       "    mode: 'markers',\n",
       "    error_y: {\n",
       "      type: 'data',\n",
       "      array: asem_final,\n",
       "      visible: true,\n",
       "      color: 'black',\n",
       "    },\n",
       "    name: generator_run_name,\n",
       "    text: atext,\n",
       "    type: 'scatter',\n",
       "    xaxis: 'x',\n",
       "    x: ax,\n",
       "    yaxis: 'y',\n",
       "    y: ay_final,\n",
       "  });\n",
       "\n",
       "  i += 1;\n",
       "});\n",
       "\n",
       "// layout\n",
       "const xrange = axis_range(grid, is_log);\n",
       "const xtype = is_log ? 'log' : 'linear';\n",
       "\n",
       "layout = {\n",
       "  hovermode: 'closest',\n",
       "  xaxis: {\n",
       "    anchor: 'y',\n",
       "    autorange: false,\n",
       "    exponentformat: 'e',\n",
       "    range: xrange,\n",
       "    tickfont: {size: 11},\n",
       "    tickmode: 'auto',\n",
       "    title: param,\n",
       "    type: xtype,\n",
       "  },\n",
       "  yaxis: {\n",
       "    anchor: 'x',\n",
       "    tickfont: {size: 11},\n",
       "    tickmode: 'auto',\n",
       "    title: metric,\n",
       "  },\n",
       "};\n",
       "\n",
       "Plotly.newPlot(\n",
       "    \"747457c7f145482a92c6b851fd9dfd5e\",\n",
       "    traces,\n",
       "    layout,\n",
       "    {showLink: false},\n",
       ");\n",
       "});</script>"
      ]
     },
     "metadata": {},
     "output_type": "display_data"
    }
   ],
   "source": [
    "render(plot_slice(model=gpei, param_name='epochs', metric_name=4'log_eval'))"
   ]
  },
  {
   "cell_type": "markdown",
   "metadata": {},
   "source": [
    "New parameters found: lr => 0.0034 (coming down), decay => 0.024 (much higher), epochs=>5"
   ]
  },
  {
   "cell_type": "code",
   "execution_count": 30,
   "metadata": {
    "scrolled": true
   },
   "outputs": [
    {
     "name": "stderr",
     "output_type": "stream",
     "text": [
      "100%|██████████| 5/5 [00:10<00:00,  2.15s/it]\n"
     ]
    },
    {
     "name": "stdout",
     "output_type": "stream",
     "text": [
      "4.036 / 0.009 / 46 sec\n"
     ]
    },
    {
     "data": {
      "text/plain": [
       "<ax.core.data.Data at 0x7ff8dcf40eb8>"
      ]
     },
     "execution_count": 30,
     "metadata": {},
     "output_type": "execute_result"
    }
   ],
   "source": [
    "exp.trials[54].fetch_data()"
   ]
  },
  {
   "cell_type": "code",
   "execution_count": 31,
   "metadata": {},
   "outputs": [
    {
     "name": "stderr",
     "output_type": "stream",
     "text": [
      "100%|██████████| 6/6 [00:12<00:00,  2.13s/it]\n"
     ]
    },
    {
     "name": "stdout",
     "output_type": "stream",
     "text": [
      "4.029 / 0.009 / 46 sec\n"
     ]
    },
    {
     "data": {
      "text/plain": [
       "<ax.core.data.Data at 0x7ff8dcf89dd8>"
      ]
     },
     "execution_count": 31,
     "metadata": {},
     "output_type": "execute_result"
    }
   ],
   "source": [
    "exp.new_trial().add_arm(Arm(name=\"best\",parameters={'lr': 0.0034, 'decay': 0.024, 'epochs': 6}))\n",
    "exp.trials[55].fetch_data()"
   ]
  },
  {
   "cell_type": "code",
   "execution_count": 32,
   "metadata": {},
   "outputs": [
    {
     "name": "stderr",
     "output_type": "stream",
     "text": [
      "100%|██████████| 7/7 [00:15<00:00,  2.17s/it]\n"
     ]
    },
    {
     "name": "stdout",
     "output_type": "stream",
     "text": [
      "4.025 / 0.008 / 43 sec\n"
     ]
    },
    {
     "data": {
      "text/plain": [
       "<ax.core.data.Data at 0x7ff8f80ef6d8>"
      ]
     },
     "execution_count": 32,
     "metadata": {},
     "output_type": "execute_result"
    }
   ],
   "source": [
    "exp.new_trial().add_arm(Arm(name=\"best\",parameters={'lr': 0.0027, 'decay': 0.027, 'epochs': 7}))\n",
    "exp.trials[56].fetch_data()"
   ]
  },
  {
   "cell_type": "code",
   "execution_count": null,
   "metadata": {},
   "outputs": [],
   "source": []
  }
 ],
 "metadata": {
  "kernelspec": {
   "display_name": "Python 3",
   "language": "python",
   "name": "python3"
  },
  "language_info": {
   "codemirror_mode": {
    "name": "ipython",
    "version": 3
   },
   "file_extension": ".py",
   "mimetype": "text/x-python",
   "name": "python",
   "nbconvert_exporter": "python",
   "pygments_lexer": "ipython3",
   "version": "3.7.2"
  },
  "pycharm": {
   "stem_cell": {
    "cell_type": "raw",
    "metadata": {
     "collapsed": false
    },
    "source": []
   }
  }
 },
 "nbformat": 4,
 "nbformat_minor": 1
}
