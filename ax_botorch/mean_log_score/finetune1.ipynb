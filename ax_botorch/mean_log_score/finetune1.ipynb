{
 "cells": [
  {
   "cell_type": "markdown",
   "metadata": {
    "collapsed": true,
    "pycharm": {
     "name": "#%% md\n"
    }
   },
   "source": [
    "# Fine tune on games 60-80"
   ]
  },
  {
   "cell_type": "code",
   "execution_count": 1,
   "metadata": {
    "pycharm": {
     "is_executing": false,
     "name": "#%%\n"
    },
    "scrolled": true
   },
   "outputs": [
    {
     "data": {
      "text/html": [
       "<script type='text/javascript'>/*\n",
       " * Copyright (c) Facebook, Inc. and its affiliates. All Rights Reserved.\n",
       " */\n",
       "\n",
       "requirejs.config({\n",
       "  paths: {\n",
       "    plotly: ['https://cdn.plot.ly/plotly-latest.min'],\n",
       "  },\n",
       "});\n",
       "if (!window.Plotly) {\n",
       "  require(['plotly'], function(plotly) {\n",
       "    window.Plotly = plotly;\n",
       "  });\n",
       "}\n",
       "/*\n",
       " * Copyright (c) Facebook, Inc. and its affiliates. All Rights Reserved.\n",
       " */\n",
       "\n",
       "// helper functions used across multiple plots\n",
       "function rgb(rgb_array) {\n",
       "  return 'rgb(' + rgb_array.join() + ')';\n",
       "}\n",
       "\n",
       "function copy_and_reverse(arr) {\n",
       "  const copy = arr.slice();\n",
       "  copy.reverse();\n",
       "  return copy;\n",
       "}\n",
       "\n",
       "function axis_range(grid, is_log) {\n",
       "  return is_log ?\n",
       "    [Math.log10(Math.min(...grid)), Math.log10(Math.max(...grid))]:\n",
       "    [Math.min(...grid), Math.max(...grid)];\n",
       "}\n",
       "\n",
       "function relativize_data(f, sd, rel, arm_data, metric) {\n",
       "  // if relative, extract status quo & compute ratio\n",
       "  const f_final = rel === true ? [] : f;\n",
       "  const sd_final = rel === true ? []: sd;\n",
       "\n",
       "  if (rel === true) {\n",
       "    const f_sq = (\n",
       "      arm_data['in_sample'][arm_data['status_quo_name']]['y'][metric]\n",
       "    );\n",
       "    const sd_sq = (\n",
       "      arm_data['in_sample'][arm_data['status_quo_name']]['se'][metric]\n",
       "    );\n",
       "\n",
       "    for (let i = 0; i < f.length; i++) {\n",
       "      res = relativize(f[i], sd[i], f_sq, sd_sq);\n",
       "      f_final.push(100 * res[0]);\n",
       "      sd_final.push(100 * res[1]);\n",
       "    }\n",
       "  }\n",
       "\n",
       "  return [f_final, sd_final];\n",
       "}\n",
       "\n",
       "function relativize(m_t, sem_t, m_c, sem_c) {\n",
       "  r_hat = (\n",
       "    (m_t - m_c) / Math.abs(m_c) -\n",
       "    Math.pow(sem_c, 2) * m_t / Math.pow(Math.abs(m_c), 3)\n",
       "  );\n",
       "  variance = (\n",
       "    (Math.pow(sem_t, 2) + Math.pow((m_t / m_c * sem_c), 2)) /\n",
       "    Math.pow(m_c, 2)\n",
       "   )\n",
       "   return [r_hat, Math.sqrt(variance)];\n",
       "}\n",
       "</script>"
      ]
     },
     "metadata": {},
     "output_type": "display_data"
    },
    {
     "name": "stderr",
     "output_type": "stream",
     "text": [
      "[INFO 07-01 10:44:53] ipy_plotting: Injecting Plotly library into cell. Do not overwrite or delete cell.\n"
     ]
    },
    {
     "name": "stdout",
     "output_type": "stream",
     "text": [
      "2724\n"
     ]
    }
   ],
   "source": [
    "import numpy as np\n",
    "# import pandas as pd\n",
    "from time import sleep\n",
    "\n",
    "from ax import *\n",
    "\n",
    "from ax.plot.contour import plot_contour\n",
    "from ax.plot.slice import plot_slice\n",
    "from ax.plot.trace import optimization_trace_single_method\n",
    "from ax.utils.notebook.plotting import render, init_notebook_plotting\n",
    "init_notebook_plotting()\n",
    "\n",
    "# import evaluation function defined locally as the\n",
    "# mean logscore of 1000 eval games after training\n",
    "from finetune_ax import eval_fn"
   ]
  },
  {
   "cell_type": "markdown",
   "metadata": {
    "pycharm": {
     "name": "#%% md\n"
    }
   },
   "source": [
    "## Define parameters\n",
    "Network parameters\n",
    "* `channels`: Defaults to 16 (256 in paper)\n",
    "* `num_blocks`: Defaults to 6 (19 in paper)\n",
    "* `out_c`: Defaults to 4 (2 in paper). Keep this fixed for now.\n",
    "\n",
    "Training parameters\n",
    "* `lr`: Defaults to 0.1\n",
    "* `decay`: Defaults to 1e-4.\n",
    "* `momentum`: Defaults to 0.9. Keep this fixed for now."
   ]
  },
  {
   "cell_type": "code",
   "execution_count": 2,
   "metadata": {
    "pycharm": {
     "is_executing": false,
     "name": "#%%\n"
    }
   },
   "outputs": [],
   "source": [
    "lr_param = RangeParameter(name=\"lr\", parameter_type=ParameterType.FLOAT,\n",
    "                             lower=1e-4,\n",
    "                             upper=0.125,\n",
    "                             log_scale=True,\n",
    "                             )\n",
    "dec_param = RangeParameter(name=\"decay\", parameter_type=ParameterType.FLOAT,\n",
    "                             lower=1e-5,\n",
    "                             upper=1e-2,\n",
    "                             log_scale=True,\n",
    "                             )\n",
    "epox_param = RangeParameter(name=\"epochs\", parameter_type=ParameterType.INT,\n",
    "                             lower=0,\n",
    "                             upper=50,\n",
    "                             )\n",
    "search_space = SearchSpace(\n",
    "    parameters=[lr_param, dec_param, epox_param],\n",
    ")"
   ]
  },
  {
   "cell_type": "markdown",
   "metadata": {
    "pycharm": {
     "name": "#%% md\n"
    }
   },
   "source": [
    "## Define experiment and initial arms"
   ]
  },
  {
   "cell_type": "code",
   "execution_count": 3,
   "metadata": {
    "pycharm": {
     "is_executing": false,
     "name": "#%%\n"
    }
   },
   "outputs": [],
   "source": [
    "exp = SimpleExperiment(\n",
    "    name='optimize_finetune',\n",
    "    search_space=search_space,\n",
    "    evaluation_function=eval_fn,\n",
    "    objective_name='log_eval',\n",
    "    minimize=False,\n",
    ")"
   ]
  },
  {
   "cell_type": "code",
   "execution_count": 4,
   "metadata": {},
   "outputs": [
    {
     "name": "stderr",
     "output_type": "stream",
     "text": [
      "0it [00:00, ?it/s]\n",
      "  0%|          | 0/20 [00:00<?, ?it/s]"
     ]
    },
    {
     "name": "stdout",
     "output_type": "stream",
     "text": [
      "3.340 / 0.011\n"
     ]
    },
    {
     "name": "stderr",
     "output_type": "stream",
     "text": [
      "100%|██████████| 20/20 [00:26<00:00,  1.32s/it]\n"
     ]
    },
    {
     "name": "stdout",
     "output_type": "stream",
     "text": [
      "3.155 / 0.012\n"
     ]
    },
    {
     "data": {
      "text/plain": [
       "<ax.core.data.Data at 0x7f3e06175400>"
      ]
     },
     "execution_count": 4,
     "metadata": {},
     "output_type": "execute_result"
    }
   ],
   "source": [
    "# Couldn't get status_quo to work. Adding control arm manually:\n",
    "exp.new_trial().add_arm(Arm(name=\"zero\",parameters={'lr': 0.125, 'decay': 0.0012, 'epochs': 0}))\n",
    "exp.new_trial().add_arm(Arm(name=\"control\",parameters={'lr': 0.125, 'decay': 0.0012, 'epochs': 20}))\n",
    "exp.trials[0].fetch_data()\n",
    "exp.trials[1].fetch_data()"
   ]
  },
  {
   "cell_type": "code",
   "execution_count": 5,
   "metadata": {
    "pycharm": {
     "is_executing": false,
     "name": "#%%\n"
    },
    "scrolled": true
   },
   "outputs": [
    {
     "name": "stdout",
     "output_type": "stream",
     "text": [
      "----------\n",
      "Arm(parameters={'lr': 0.08222266530738154, 'decay': 0.000787696268305935, 'epochs': 28})\n"
     ]
    },
    {
     "name": "stderr",
     "output_type": "stream",
     "text": [
      "100%|██████████| 28/28 [00:37<00:00,  1.34s/it]\n"
     ]
    },
    {
     "name": "stdout",
     "output_type": "stream",
     "text": [
      "3.177 / 0.013\n",
      "----------\n",
      "Arm(parameters={'lr': 0.017995068324623793, 'decay': 2.0432724797792104e-05, 'epochs': 44})\n"
     ]
    },
    {
     "name": "stderr",
     "output_type": "stream",
     "text": [
      "100%|██████████| 44/44 [00:59<00:00,  1.35s/it]\n"
     ]
    },
    {
     "name": "stdout",
     "output_type": "stream",
     "text": [
      "3.235 / 0.012\n",
      "----------\n",
      "Arm(parameters={'lr': 0.00024507982427034327, 'decay': 0.0017904906868920903, 'epochs': 3})\n"
     ]
    },
    {
     "name": "stderr",
     "output_type": "stream",
     "text": [
      "100%|██████████| 3/3 [00:04<00:00,  1.34s/it]\n"
     ]
    },
    {
     "name": "stdout",
     "output_type": "stream",
     "text": [
      "3.394 / 0.011\n",
      "----------\n",
      "Arm(parameters={'lr': 0.00017137166229077094, 'decay': 3.5115084834239404e-05, 'epochs': 34})\n"
     ]
    },
    {
     "name": "stderr",
     "output_type": "stream",
     "text": [
      "100%|██████████| 34/34 [00:45<00:00,  1.36s/it]\n"
     ]
    },
    {
     "name": "stdout",
     "output_type": "stream",
     "text": [
      "3.454 / 0.011\n",
      "----------\n",
      "Arm(parameters={'lr': 0.004551821441836866, 'decay': 0.007375404959949084, 'epochs': 19})\n"
     ]
    },
    {
     "name": "stderr",
     "output_type": "stream",
     "text": [
      "100%|██████████| 19/19 [00:25<00:00,  1.37s/it]\n"
     ]
    },
    {
     "name": "stdout",
     "output_type": "stream",
     "text": [
      "3.632 / 0.013\n",
      "----------\n",
      "Arm(parameters={'lr': 0.023212195123507594, 'decay': 8.455812526476041e-05, 'epochs': 9})\n"
     ]
    },
    {
     "name": "stderr",
     "output_type": "stream",
     "text": [
      "100%|██████████| 9/9 [00:12<00:00,  1.36s/it]\n"
     ]
    },
    {
     "name": "stdout",
     "output_type": "stream",
     "text": [
      "3.580 / 0.014\n",
      "----------\n",
      "Arm(parameters={'lr': 0.0012195918445462937, 'decay': 0.0005595295912680022, 'epochs': 44})\n"
     ]
    },
    {
     "name": "stderr",
     "output_type": "stream",
     "text": [
      "100%|██████████| 44/44 [01:00<00:00,  1.38s/it]\n"
     ]
    },
    {
     "name": "stdout",
     "output_type": "stream",
     "text": [
      "3.656 / 0.012\n",
      "----------\n",
      "Arm(parameters={'lr': 0.0006781060687356291, 'decay': 1.0946176570293072e-05, 'epochs': 0})\n"
     ]
    },
    {
     "name": "stderr",
     "output_type": "stream",
     "text": [
      "0it [00:00, ?it/s]\n"
     ]
    },
    {
     "name": "stdout",
     "output_type": "stream",
     "text": [
      "3.319 / 0.011\n",
      "----------\n",
      "Arm(parameters={'lr': 0.04978427747990496, 'decay': 0.003527565121958421, 'epochs': 47})\n"
     ]
    },
    {
     "name": "stderr",
     "output_type": "stream",
     "text": [
      "100%|██████████| 47/47 [01:03<00:00,  1.35s/it]\n"
     ]
    },
    {
     "name": "stdout",
     "output_type": "stream",
     "text": [
      "3.112 / 0.012\n",
      "----------\n",
      "Arm(parameters={'lr': 0.006247040048381291, 'decay': 0.0001438024293565146, 'epochs': 25})\n"
     ]
    },
    {
     "name": "stderr",
     "output_type": "stream",
     "text": [
      "100%|██████████| 25/25 [00:33<00:00,  1.38s/it]\n"
     ]
    },
    {
     "name": "stdout",
     "output_type": "stream",
     "text": [
      "3.424 / 0.014\n",
      "----------\n",
      "Arm(parameters={'lr': 0.00014838731399692169, 'decay': 0.0014697324908619514, 'epochs': 22})\n"
     ]
    },
    {
     "name": "stderr",
     "output_type": "stream",
     "text": [
      "100%|██████████| 22/22 [00:30<00:00,  1.36s/it]\n"
     ]
    },
    {
     "name": "stdout",
     "output_type": "stream",
     "text": [
      "3.416 / 0.011\n",
      "----------\n",
      "Arm(parameters={'lr': 0.0005519527802397052, 'decay': 0.00010246759190872975, 'epochs': 41})\n"
     ]
    },
    {
     "name": "stderr",
     "output_type": "stream",
     "text": [
      "100%|██████████| 41/41 [00:55<00:00,  1.36s/it]\n"
     ]
    },
    {
     "name": "stdout",
     "output_type": "stream",
     "text": [
      "3.546 / 0.013\n",
      "----------\n",
      "Arm(parameters={'lr': 0.010504083634447867, 'decay': 0.00043748352890575796, 'epochs': 12})\n"
     ]
    },
    {
     "name": "stderr",
     "output_type": "stream",
     "text": [
      "100%|██████████| 12/12 [00:16<00:00,  1.36s/it]\n"
     ]
    },
    {
     "name": "stdout",
     "output_type": "stream",
     "text": [
      "3.634 / 0.013\n",
      "----------\n",
      "Arm(parameters={'lr': 0.07475959993275257, 'decay': 4.4930071267683065e-05, 'epochs': 16})\n"
     ]
    },
    {
     "name": "stderr",
     "output_type": "stream",
     "text": [
      "100%|██████████| 16/16 [00:21<00:00,  1.36s/it]\n"
     ]
    },
    {
     "name": "stdout",
     "output_type": "stream",
     "text": [
      "3.361 / 0.013\n",
      "----------\n",
      "Arm(parameters={'lr': 0.0028143370815851038, 'decay': 0.006083735575886048, 'epochs': 37})\n"
     ]
    },
    {
     "name": "stderr",
     "output_type": "stream",
     "text": [
      "100%|██████████| 37/37 [00:50<00:00,  1.35s/it]\n"
     ]
    },
    {
     "name": "stdout",
     "output_type": "stream",
     "text": [
      "3.528 / 0.012\n",
      "----------\n",
      "Arm(parameters={'lr': 0.0031722460970575166, 'decay': 5.153458431222948e-05, 'epochs': 48})\n"
     ]
    },
    {
     "name": "stderr",
     "output_type": "stream",
     "text": [
      "100%|██████████| 48/48 [01:05<00:00,  1.38s/it]\n"
     ]
    },
    {
     "name": "stdout",
     "output_type": "stream",
     "text": [
      "3.357 / 0.012\n",
      "----------\n",
      "Arm(parameters={'lr': 0.061217137158285154, 'decay': 0.005093566161426102, 'epochs': 2})\n"
     ]
    },
    {
     "name": "stderr",
     "output_type": "stream",
     "text": [
      "100%|██████████| 2/2 [00:02<00:00,  1.37s/it]\n"
     ]
    },
    {
     "name": "stdout",
     "output_type": "stream",
     "text": [
      "3.168 / 0.012\n",
      "----------\n",
      "Arm(parameters={'lr': 0.012302214003413503, 'decay': 0.0001241083471404148, 'epochs': 24})\n"
     ]
    },
    {
     "name": "stderr",
     "output_type": "stream",
     "text": [
      "100%|██████████| 24/24 [00:32<00:00,  1.36s/it]\n"
     ]
    },
    {
     "name": "stdout",
     "output_type": "stream",
     "text": [
      "3.311 / 0.013\n",
      "----------\n",
      "Arm(parameters={'lr': 0.00045671365891730595, 'decay': 0.0003864138666601675, 'epochs': 27})\n"
     ]
    },
    {
     "name": "stderr",
     "output_type": "stream",
     "text": [
      "100%|██████████| 27/27 [00:36<00:00,  1.36s/it]\n"
     ]
    },
    {
     "name": "stdout",
     "output_type": "stream",
     "text": [
      "3.493 / 0.012\n",
      "----------\n",
      "Arm(parameters={'lr': 0.00011818864786637608, 'decay': 0.00017291991110745218, 'epochs': 11})\n"
     ]
    },
    {
     "name": "stderr",
     "output_type": "stream",
     "text": [
      "100%|██████████| 11/11 [00:15<00:00,  1.38s/it]\n"
     ]
    },
    {
     "name": "stdout",
     "output_type": "stream",
     "text": [
      "3.413 / 0.011\n"
     ]
    }
   ],
   "source": [
    "sobol = Models.SOBOL(exp.search_space)\n",
    "for i in range(20):\n",
    "    gen = sobol.gen(1)\n",
    "    print('-'*10)\n",
    "    print(gen.arms[0])\n",
    "    sleep(1)\n",
    "    trial = exp.new_trial(generator_run=gen)\n",
    "    trial.fetch_data()"
   ]
  },
  {
   "cell_type": "code",
   "execution_count": 6,
   "metadata": {},
   "outputs": [],
   "source": [
    "save(exp, 'finetune1.json')"
   ]
  },
  {
   "cell_type": "code",
   "execution_count": 7,
   "metadata": {},
   "outputs": [
    {
     "name": "stdout",
     "output_type": "stream",
     "text": [
      "0: 3.340 {'lr': 0.125, 'decay': 0.0012, 'epochs': 0}\n",
      "1: 3.155 {'lr': 0.125, 'decay': 0.0012, 'epochs': 20}\n",
      "2: 3.177 {'lr': 0.08222266530738154, 'decay': 0.000787696268305935, 'epochs': 28}\n",
      "3: 3.235 {'lr': 0.017995068324623793, 'decay': 2.0432724797792104e-05, 'epochs': 44}\n",
      "4: 3.394 {'lr': 0.00024507982427034327, 'decay': 0.0017904906868920903, 'epochs': 3}\n",
      "5: 3.454 {'lr': 0.00017137166229077094, 'decay': 3.5115084834239404e-05, 'epochs': 34}\n",
      "6: 3.632 {'lr': 0.004551821441836866, 'decay': 0.007375404959949084, 'epochs': 19}\n",
      "7: 3.580 {'lr': 0.023212195123507594, 'decay': 8.455812526476041e-05, 'epochs': 9}\n",
      "8: 3.656 {'lr': 0.0012195918445462937, 'decay': 0.0005595295912680022, 'epochs': 44}\n",
      "9: 3.319 {'lr': 0.0006781060687356291, 'decay': 1.0946176570293072e-05, 'epochs': 0}\n",
      "10: 3.112 {'lr': 0.04978427747990496, 'decay': 0.003527565121958421, 'epochs': 47}\n",
      "11: 3.424 {'lr': 0.006247040048381291, 'decay': 0.0001438024293565146, 'epochs': 25}\n",
      "12: 3.416 {'lr': 0.00014838731399692169, 'decay': 0.0014697324908619514, 'epochs': 22}\n",
      "13: 3.546 {'lr': 0.0005519527802397052, 'decay': 0.00010246759190872975, 'epochs': 41}\n",
      "14: 3.634 {'lr': 0.010504083634447867, 'decay': 0.00043748352890575796, 'epochs': 12}\n",
      "15: 3.361 {'lr': 0.07475959993275257, 'decay': 4.4930071267683065e-05, 'epochs': 16}\n",
      "16: 3.528 {'lr': 0.0028143370815851038, 'decay': 0.006083735575886048, 'epochs': 37}\n",
      "17: 3.357 {'lr': 0.0031722460970575166, 'decay': 5.153458431222948e-05, 'epochs': 48}\n",
      "18: 3.168 {'lr': 0.061217137158285154, 'decay': 0.005093566161426102, 'epochs': 2}\n",
      "19: 3.311 {'lr': 0.012302214003413503, 'decay': 0.0001241083471404148, 'epochs': 24}\n",
      "20: 3.493 {'lr': 0.00045671365891730595, 'decay': 0.0003864138666601675, 'epochs': 27}\n",
      "21: 3.413 {'lr': 0.00011818864786637608, 'decay': 0.00017291991110745218, 'epochs': 11}\n"
     ]
    }
   ],
   "source": [
    "gpei = Models.GPEI(experiment=exp, data=exp.eval())\n",
    "for i, trial in exp.trials.items():\n",
    "    print('{0}: {1:.3f} {2}'.format(i,\n",
    "        trial.fetch_data().df.at[0, 'mean'],\n",
    "        trial.arm.parameters\n",
    "    ))"
   ]
  },
  {
   "cell_type": "markdown",
   "metadata": {
    "pycharm": {
     "name": "#%% md\n"
    }
   },
   "source": [
    "## Iterative optimization\n",
    "Botorch backend for gaussian process expected improvement (GPEI) bayesian optimization"
   ]
  },
  {
   "cell_type": "code",
   "execution_count": 16,
   "metadata": {
    "pycharm": {
     "is_executing": false,
     "name": "#%%\n"
    },
    "scrolled": true
   },
   "outputs": [
    {
     "name": "stdout",
     "output_type": "stream",
     "text": [
      "----------\n",
      "Arm(parameters={'lr': 0.0042958675936845365, 'decay': 0.0010471843418864235, 'epochs': 10})\n"
     ]
    },
    {
     "name": "stderr",
     "output_type": "stream",
     "text": [
      "100%|██████████| 10/10 [00:13<00:00,  1.36s/it]\n"
     ]
    },
    {
     "name": "stdout",
     "output_type": "stream",
     "text": [
      "3.678 / 0.013\n",
      "----------\n",
      "Arm(parameters={'lr': 0.008370803588215753, 'decay': 0.00022333890726881868, 'epochs': 2})\n"
     ]
    },
    {
     "name": "stderr",
     "output_type": "stream",
     "text": [
      "100%|██████████| 2/2 [00:02<00:00,  1.36s/it]\n"
     ]
    },
    {
     "name": "stdout",
     "output_type": "stream",
     "text": [
      "3.519 / 0.012\n",
      "----------\n",
      "Arm(parameters={'lr': 0.003423667093075686, 'decay': 0.0013399111889739398, 'epochs': 15})\n"
     ]
    },
    {
     "name": "stderr",
     "output_type": "stream",
     "text": [
      "100%|██████████| 15/15 [00:20<00:00,  1.35s/it]\n"
     ]
    },
    {
     "name": "stdout",
     "output_type": "stream",
     "text": [
      "3.650 / 0.012\n",
      "----------\n",
      "Arm(parameters={'lr': 0.0006869113033726057, 'decay': 0.0018229361036326858, 'epochs': 45})\n"
     ]
    },
    {
     "name": "stderr",
     "output_type": "stream",
     "text": [
      "100%|██████████| 45/45 [00:59<00:00,  1.32s/it]\n"
     ]
    },
    {
     "name": "stdout",
     "output_type": "stream",
     "text": [
      "3.598 / 0.013\n",
      "----------\n",
      "Arm(parameters={'lr': 0.00558261633492821, 'decay': 0.0020691025936057034, 'epochs': 12})\n"
     ]
    },
    {
     "name": "stderr",
     "output_type": "stream",
     "text": [
      "100%|██████████| 12/12 [00:15<00:00,  1.32s/it]\n"
     ]
    },
    {
     "name": "stdout",
     "output_type": "stream",
     "text": [
      "3.594 / 0.014\n",
      "----------\n",
      "Arm(parameters={'lr': 0.0038535517531817546, 'decay': 0.00039530815909391445, 'epochs': 11})\n"
     ]
    },
    {
     "name": "stderr",
     "output_type": "stream",
     "text": [
      "100%|██████████| 11/11 [00:14<00:00,  1.33s/it]\n"
     ]
    },
    {
     "name": "stdout",
     "output_type": "stream",
     "text": [
      "3.604 / 0.012\n",
      "----------\n",
      "Arm(parameters={'lr': 0.001831685554727031, 'decay': 0.0062428424383467575, 'epochs': 21})\n"
     ]
    },
    {
     "name": "stderr",
     "output_type": "stream",
     "text": [
      "100%|██████████| 21/21 [00:28<00:00,  1.35s/it]\n"
     ]
    },
    {
     "name": "stdout",
     "output_type": "stream",
     "text": [
      "3.612 / 0.012\n",
      "----------\n",
      "Arm(parameters={'lr': 0.0013184302548125534, 'decay': 0.0008283421858509831, 'epochs': 37})\n"
     ]
    },
    {
     "name": "stderr",
     "output_type": "stream",
     "text": [
      "100%|██████████| 37/37 [00:50<00:00,  1.34s/it]\n"
     ]
    },
    {
     "name": "stdout",
     "output_type": "stream",
     "text": [
      "3.617 / 0.013\n",
      "----------\n",
      "Arm(parameters={'lr': 0.0005830066799163658, 'decay': 0.0004613016523184007, 'epochs': 49})\n"
     ]
    },
    {
     "name": "stderr",
     "output_type": "stream",
     "text": [
      "100%|██████████| 49/49 [01:06<00:00,  1.37s/it]\n"
     ]
    },
    {
     "name": "stdout",
     "output_type": "stream",
     "text": [
      "3.599 / 0.011\n",
      "----------\n",
      "Arm(parameters={'lr': 0.0023223184893015874, 'decay': 0.0016108860028932247, 'epochs': 9})\n"
     ]
    },
    {
     "name": "stderr",
     "output_type": "stream",
     "text": [
      "100%|██████████| 9/9 [00:12<00:00,  1.34s/it]\n"
     ]
    },
    {
     "name": "stdout",
     "output_type": "stream",
     "text": [
      "3.559 / 0.012\n",
      "----------\n",
      "Arm(parameters={'lr': 0.005391083307693113, 'decay': 0.0008003947035889143, 'epochs': 12})\n"
     ]
    },
    {
     "name": "stderr",
     "output_type": "stream",
     "text": [
      "100%|██████████| 12/12 [00:16<00:00,  1.36s/it]\n"
     ]
    },
    {
     "name": "stdout",
     "output_type": "stream",
     "text": [
      "3.625 / 0.012\n",
      "----------\n",
      "Arm(parameters={'lr': 0.003103488748160297, 'decay': 0.0035133869602214274, 'epochs': 22})\n"
     ]
    },
    {
     "name": "stderr",
     "output_type": "stream",
     "text": [
      "100%|██████████| 22/22 [00:29<00:00,  1.36s/it]\n"
     ]
    },
    {
     "name": "stdout",
     "output_type": "stream",
     "text": [
      "3.642 / 0.015\n",
      "----------\n",
      "Arm(parameters={'lr': 0.0012152946378868432, 'decay': 0.0011010052894948998, 'epochs': 50})\n"
     ]
    },
    {
     "name": "stderr",
     "output_type": "stream",
     "text": [
      "100%|██████████| 50/50 [01:07<00:00,  1.33s/it]\n"
     ]
    },
    {
     "name": "stdout",
     "output_type": "stream",
     "text": [
      "3.668 / 0.013\n",
      "----------\n",
      "Arm(parameters={'lr': 0.0030470682447321057, 'decay': 0.01, 'epochs': 17})\n"
     ]
    },
    {
     "name": "stderr",
     "output_type": "stream",
     "text": [
      "100%|██████████| 17/17 [00:22<00:00,  1.37s/it]\n"
     ]
    },
    {
     "name": "stdout",
     "output_type": "stream",
     "text": [
      "3.695 / 0.014\n",
      "----------\n",
      "Arm(parameters={'lr': 0.003323542918335707, 'decay': 0.01, 'epochs': 12})\n"
     ]
    },
    {
     "name": "stderr",
     "output_type": "stream",
     "text": [
      "100%|██████████| 12/12 [00:16<00:00,  1.34s/it]\n"
     ]
    },
    {
     "name": "stdout",
     "output_type": "stream",
     "text": [
      "3.568 / 0.013\n",
      "----------\n",
      "Arm(parameters={'lr': 0.0029671541634396707, 'decay': 0.00999999999999998, 'epochs': 20})\n"
     ]
    },
    {
     "name": "stderr",
     "output_type": "stream",
     "text": [
      "100%|██████████| 20/20 [00:26<00:00,  1.34s/it]\n"
     ]
    },
    {
     "name": "stdout",
     "output_type": "stream",
     "text": [
      "3.647 / 0.013\n",
      "----------\n",
      "Arm(parameters={'lr': 0.0028992131921908664, 'decay': 0.00484521577137573, 'epochs': 17})\n"
     ]
    },
    {
     "name": "stderr",
     "output_type": "stream",
     "text": [
      "100%|██████████| 17/17 [00:23<00:00,  1.35s/it]\n"
     ]
    },
    {
     "name": "stdout",
     "output_type": "stream",
     "text": [
      "3.631 / 0.013\n",
      "----------\n",
      "Arm(parameters={'lr': 0.0015930102849367376, 'decay': 0.0012974881820559708, 'epochs': 46})\n"
     ]
    },
    {
     "name": "stderr",
     "output_type": "stream",
     "text": [
      "100%|██████████| 46/46 [01:02<00:00,  1.37s/it]\n"
     ]
    },
    {
     "name": "stdout",
     "output_type": "stream",
     "text": [
      "3.624 / 0.013\n",
      "----------\n",
      "Arm(parameters={'lr': 0.0011762941184528637, 'decay': 0.0005560489900774055, 'epochs': 50})\n"
     ]
    },
    {
     "name": "stderr",
     "output_type": "stream",
     "text": [
      "100%|██████████| 50/50 [01:07<00:00,  1.36s/it]\n"
     ]
    },
    {
     "name": "stdout",
     "output_type": "stream",
     "text": [
      "3.632 / 0.013\n",
      "----------\n",
      "Arm(parameters={'lr': 0.002157058720142707, 'decay': 0.0008397548096370134, 'epochs': 24})\n"
     ]
    },
    {
     "name": "stderr",
     "output_type": "stream",
     "text": [
      "100%|██████████| 24/24 [00:32<00:00,  1.35s/it]\n"
     ]
    },
    {
     "name": "stdout",
     "output_type": "stream",
     "text": [
      "3.616 / 0.013\n",
      "----------\n",
      "Arm(parameters={'lr': 0.0011339380519406353, 'decay': 0.0036838855554993935, 'epochs': 50})\n"
     ]
    },
    {
     "name": "stderr",
     "output_type": "stream",
     "text": [
      "100%|██████████| 50/50 [01:07<00:00,  1.36s/it]\n"
     ]
    },
    {
     "name": "stdout",
     "output_type": "stream",
     "text": [
      "3.639 / 0.014\n",
      "----------\n",
      "Arm(parameters={'lr': 0.000966822231346963, 'decay': 0.0014159222420817687, 'epochs': 50})\n"
     ]
    },
    {
     "name": "stderr",
     "output_type": "stream",
     "text": [
      "100%|██████████| 50/50 [01:07<00:00,  1.35s/it]\n"
     ]
    },
    {
     "name": "stdout",
     "output_type": "stream",
     "text": [
      "3.667 / 0.013\n",
      "----------\n",
      "Arm(parameters={'lr': 0.04044537228104681, 'decay': 1.0773867568563373e-05, 'epochs': 0})\n"
     ]
    },
    {
     "name": "stderr",
     "output_type": "stream",
     "text": [
      "0it [00:00, ?it/s]\n"
     ]
    },
    {
     "name": "stdout",
     "output_type": "stream",
     "text": [
      "3.308 / 0.012\n",
      "----------\n",
      "Arm(parameters={'lr': 0.016038689473977068, 'decay': 0.00033224162007139364, 'epochs': 8})\n"
     ]
    },
    {
     "name": "stderr",
     "output_type": "stream",
     "text": [
      "100%|██████████| 8/8 [00:10<00:00,  1.37s/it]\n"
     ]
    },
    {
     "name": "stdout",
     "output_type": "stream",
     "text": [
      "3.620 / 0.013\n",
      "----------\n",
      "Arm(parameters={'lr': 0.0014196493120919636, 'decay': 0.0001894540113910872, 'epochs': 34})\n"
     ]
    },
    {
     "name": "stderr",
     "output_type": "stream",
     "text": [
      "100%|██████████| 34/34 [00:45<00:00,  1.37s/it]\n"
     ]
    },
    {
     "name": "stdout",
     "output_type": "stream",
     "text": [
      "3.614 / 0.013\n",
      "----------\n",
      "Arm(parameters={'lr': 0.00034276999307719663, 'decay': 0.00999999999999998, 'epochs': 50})\n"
     ]
    },
    {
     "name": "stderr",
     "output_type": "stream",
     "text": [
      "100%|██████████| 50/50 [01:08<00:00,  1.35s/it]\n"
     ]
    },
    {
     "name": "stdout",
     "output_type": "stream",
     "text": [
      "3.527 / 0.012\n",
      "----------\n",
      "Arm(parameters={'lr': 0.005938148149707883, 'decay': 0.0007840983805538117, 'epochs': 7})\n"
     ]
    },
    {
     "name": "stderr",
     "output_type": "stream",
     "text": [
      "100%|██████████| 7/7 [00:09<00:00,  1.37s/it]\n"
     ]
    },
    {
     "name": "stdout",
     "output_type": "stream",
     "text": [
      "3.648 / 0.012\n",
      "----------\n",
      "Arm(parameters={'lr': 0.001031454624264051, 'decay': 0.0009518252724083013, 'epochs': 48})\n"
     ]
    },
    {
     "name": "stderr",
     "output_type": "stream",
     "text": [
      "100%|██████████| 48/48 [01:05<00:00,  1.39s/it]\n"
     ]
    },
    {
     "name": "stdout",
     "output_type": "stream",
     "text": [
      "3.622 / 0.013\n",
      "----------\n",
      "Arm(parameters={'lr': 0.0015862531604133104, 'decay': 0.00034996139778338385, 'epochs': 40})\n"
     ]
    },
    {
     "name": "stderr",
     "output_type": "stream",
     "text": [
      "100%|██████████| 40/40 [00:54<00:00,  1.33s/it]\n"
     ]
    },
    {
     "name": "stdout",
     "output_type": "stream",
     "text": [
      "3.637 / 0.013\n",
      "----------\n",
      "Arm(parameters={'lr': 0.0001, 'decay': 0.0007786274174831826, 'epochs': 50})\n"
     ]
    },
    {
     "name": "stderr",
     "output_type": "stream",
     "text": [
      "100%|██████████| 50/50 [01:08<00:00,  1.34s/it]\n"
     ]
    },
    {
     "name": "stdout",
     "output_type": "stream",
     "text": [
      "3.438 / 0.012\n"
     ]
    }
   ],
   "source": [
    "for i in range(30):\n",
    "    gpei = Models.GPEI(experiment=exp, data=exp.eval())\n",
    "    gen = gpei.gen(1)\n",
    "    print('-'*10)\n",
    "    print(gen.arms[0])\n",
    "    sleep(1)\n",
    "    trial = exp.new_trial(generator_run=gen)\n",
    "    trial.fetch_data()"
   ]
  },
  {
   "cell_type": "code",
   "execution_count": 17,
   "metadata": {},
   "outputs": [],
   "source": [
    "save(exp, 'finetune1.json')"
   ]
  },
  {
   "cell_type": "code",
   "execution_count": 18,
   "metadata": {
    "pycharm": {
     "is_executing": false,
     "name": "#%%\n"
    },
    "scrolled": false
   },
   "outputs": [
    {
     "name": "stdout",
     "output_type": "stream",
     "text": [
      "0: 3.340 {'lr': 0.125, 'decay': 0.0012, 'epochs': 0}\n",
      "1: 3.155 {'lr': 0.125, 'decay': 0.0012, 'epochs': 20}\n",
      "2: 3.177 {'lr': 0.08222266530738154, 'decay': 0.000787696268305935, 'epochs': 28}\n",
      "3: 3.235 {'lr': 0.017995068324623793, 'decay': 2.0432724797792104e-05, 'epochs': 44}\n",
      "4: 3.394 {'lr': 0.00024507982427034327, 'decay': 0.0017904906868920903, 'epochs': 3}\n",
      "5: 3.454 {'lr': 0.00017137166229077094, 'decay': 3.5115084834239404e-05, 'epochs': 34}\n",
      "6: 3.632 {'lr': 0.004551821441836866, 'decay': 0.007375404959949084, 'epochs': 19}\n",
      "7: 3.580 {'lr': 0.023212195123507594, 'decay': 8.455812526476041e-05, 'epochs': 9}\n",
      "8: 3.656 {'lr': 0.0012195918445462937, 'decay': 0.0005595295912680022, 'epochs': 44}\n",
      "9: 3.319 {'lr': 0.0006781060687356291, 'decay': 1.0946176570293072e-05, 'epochs': 0}\n",
      "10: 3.112 {'lr': 0.04978427747990496, 'decay': 0.003527565121958421, 'epochs': 47}\n",
      "11: 3.424 {'lr': 0.006247040048381291, 'decay': 0.0001438024293565146, 'epochs': 25}\n",
      "12: 3.416 {'lr': 0.00014838731399692169, 'decay': 0.0014697324908619514, 'epochs': 22}\n",
      "13: 3.546 {'lr': 0.0005519527802397052, 'decay': 0.00010246759190872975, 'epochs': 41}\n",
      "14: 3.634 {'lr': 0.010504083634447867, 'decay': 0.00043748352890575796, 'epochs': 12}\n",
      "15: 3.361 {'lr': 0.07475959993275257, 'decay': 4.4930071267683065e-05, 'epochs': 16}\n",
      "16: 3.528 {'lr': 0.0028143370815851038, 'decay': 0.006083735575886048, 'epochs': 37}\n",
      "17: 3.357 {'lr': 0.0031722460970575166, 'decay': 5.153458431222948e-05, 'epochs': 48}\n",
      "18: 3.168 {'lr': 0.061217137158285154, 'decay': 0.005093566161426102, 'epochs': 2}\n",
      "19: 3.311 {'lr': 0.012302214003413503, 'decay': 0.0001241083471404148, 'epochs': 24}\n",
      "20: 3.493 {'lr': 0.00045671365891730595, 'decay': 0.0003864138666601675, 'epochs': 27}\n",
      "21: 3.413 {'lr': 0.00011818864786637608, 'decay': 0.00017291991110745218, 'epochs': 11}\n",
      "22: 3.678 {'lr': 0.0042958675936845365, 'decay': 0.0010471843418864235, 'epochs': 10}\n",
      "23: 3.519 {'lr': 0.008370803588215753, 'decay': 0.00022333890726881868, 'epochs': 2}\n",
      "24: 3.650 {'lr': 0.003423667093075686, 'decay': 0.0013399111889739398, 'epochs': 15}\n",
      "25: 3.598 {'lr': 0.0006869113033726057, 'decay': 0.0018229361036326858, 'epochs': 45}\n",
      "26: 3.594 {'lr': 0.00558261633492821, 'decay': 0.0020691025936057034, 'epochs': 12}\n",
      "27: 3.604 {'lr': 0.0038535517531817546, 'decay': 0.00039530815909391445, 'epochs': 11}\n",
      "28: 3.612 {'lr': 0.001831685554727031, 'decay': 0.0062428424383467575, 'epochs': 21}\n",
      "29: 3.617 {'lr': 0.0013184302548125534, 'decay': 0.0008283421858509831, 'epochs': 37}\n",
      "30: 3.599 {'lr': 0.0005830066799163658, 'decay': 0.0004613016523184007, 'epochs': 49}\n",
      "31: 3.559 {'lr': 0.0023223184893015874, 'decay': 0.0016108860028932247, 'epochs': 9}\n",
      "32: 3.625 {'lr': 0.005391083307693113, 'decay': 0.0008003947035889143, 'epochs': 12}\n",
      "33: 3.642 {'lr': 0.003103488748160297, 'decay': 0.0035133869602214274, 'epochs': 22}\n",
      "34: 3.668 {'lr': 0.0012152946378868432, 'decay': 0.0011010052894948998, 'epochs': 50}\n",
      "35: 3.695 {'lr': 0.0030470682447321057, 'decay': 0.01, 'epochs': 17}\n",
      "36: 3.568 {'lr': 0.003323542918335707, 'decay': 0.01, 'epochs': 12}\n",
      "37: 3.647 {'lr': 0.0029671541634396707, 'decay': 0.00999999999999998, 'epochs': 20}\n",
      "38: 3.631 {'lr': 0.0028992131921908664, 'decay': 0.00484521577137573, 'epochs': 17}\n",
      "39: 3.624 {'lr': 0.0015930102849367376, 'decay': 0.0012974881820559708, 'epochs': 46}\n",
      "40: 3.632 {'lr': 0.0011762941184528637, 'decay': 0.0005560489900774055, 'epochs': 50}\n",
      "41: 3.616 {'lr': 0.002157058720142707, 'decay': 0.0008397548096370134, 'epochs': 24}\n",
      "42: 3.639 {'lr': 0.0011339380519406353, 'decay': 0.0036838855554993935, 'epochs': 50}\n",
      "43: 3.667 {'lr': 0.000966822231346963, 'decay': 0.0014159222420817687, 'epochs': 50}\n",
      "44: 3.308 {'lr': 0.04044537228104681, 'decay': 1.0773867568563373e-05, 'epochs': 0}\n",
      "45: 3.620 {'lr': 0.016038689473977068, 'decay': 0.00033224162007139364, 'epochs': 8}\n",
      "46: 3.614 {'lr': 0.0014196493120919636, 'decay': 0.0001894540113910872, 'epochs': 34}\n",
      "47: 3.527 {'lr': 0.00034276999307719663, 'decay': 0.00999999999999998, 'epochs': 50}\n",
      "48: 3.648 {'lr': 0.005938148149707883, 'decay': 0.0007840983805538117, 'epochs': 7}\n",
      "49: 3.622 {'lr': 0.001031454624264051, 'decay': 0.0009518252724083013, 'epochs': 48}\n",
      "50: 3.637 {'lr': 0.0015862531604133104, 'decay': 0.00034996139778338385, 'epochs': 40}\n",
      "51: 3.438 {'lr': 0.0001, 'decay': 0.0007786274174831826, 'epochs': 50}\n"
     ]
    }
   ],
   "source": [
    "gpei = Models.GPEI(experiment=exp, data=exp.eval())\n",
    "for i, trial in exp.trials.items():\n",
    "    print('{0}: {1:.3f} {2}'.format(\n",
    "        i,\n",
    "        trial.fetch_data().df.at[0, 'mean'],\n",
    "        trial.arm.parameters\n",
    "    ))"
   ]
  },
  {
   "cell_type": "markdown",
   "metadata": {},
   "source": [
    "### Load experiment"
   ]
  },
  {
   "cell_type": "code",
   "execution_count": 4,
   "metadata": {},
   "outputs": [],
   "source": [
    "exp = load('finetune1.json')\n",
    "exp.evaluation_function = eval_fn"
   ]
  },
  {
   "cell_type": "markdown",
   "metadata": {},
   "source": [
    "## Plot results"
   ]
  },
  {
   "cell_type": "code",
   "execution_count": 19,
   "metadata": {
    "pycharm": {
     "name": "#%%\n"
    },
    "scrolled": false
   },
   "outputs": [
    {
     "data": {
      "text/html": [
       "<div id=\"670e24419f0e4b0d844a1aceb4a7a712\" style=\"width: 100%;\" class=\"plotly-graph-div\"></div><script type='text/javascript'>/*\n",
       " * Copyright (c) Facebook, Inc. and its affiliates. All Rights Reserved.\n",
       " */\n",
       "\n",
       "require(['plotly'], function(Plotly) {\n",
       "  window.PLOTLYENV = window.PLOTLYENV || {};\n",
       "  window.PLOTLYENV.BASE_URL = 'https://plot.ly';\n",
       "  /*\n",
       " * Copyright (c) Facebook, Inc. and its affiliates. All Rights Reserved.\n",
       " */\n",
       "\n",
       "Plotly.newPlot(\n",
       "  \"670e24419f0e4b0d844a1aceb4a7a712\",\n",
       "  [{\"hoverinfo\": \"none\", \"legendgroup\": \"\", \"line\": {\"width\": 0}, \"mode\": \"lines\", \"showlegend\": false, \"x\": [1, 2, 3, 4, 5, 6, 7, 8, 9, 10, 11, 12, 13, 14, 15, 16, 17, 18, 19, 20, 21, 22, 23, 24, 25, 26, 27, 28, 29, 30, 31, 32, 33, 34, 35, 36, 37, 38, 39, 40, 41, 42, 43, 44, 45, 46, 47, 48, 49, 50, 51, 52], \"y\": [3.3404300888956486, 3.3404300888956486, 3.3404300888956486, 3.3404300888956486, 3.394475361046734, 3.4541948141928853, 3.6320123520185814, 3.6320123520185814, 3.655644962569447, 3.655644962569447, 3.655644962569447, 3.655644962569447, 3.655644962569447, 3.655644962569447, 3.655644962569447, 3.655644962569447, 3.655644962569447, 3.655644962569447, 3.655644962569447, 3.655644962569447, 3.655644962569447, 3.655644962569447, 3.6777936772323065, 3.6777936772323065, 3.6777936772323065, 3.6777936772323065, 3.6777936772323065, 3.6777936772323065, 3.6777936772323065, 3.6777936772323065, 3.6777936772323065, 3.6777936772323065, 3.6777936772323065, 3.6777936772323065, 3.6777936772323065, 3.6951204858036406, 3.6951204858036406, 3.6951204858036406, 3.6951204858036406, 3.6951204858036406, 3.6951204858036406, 3.6951204858036406, 3.6951204858036406, 3.6951204858036406, 3.6951204858036406, 3.6951204858036406, 3.6951204858036406, 3.6951204858036406, 3.6951204858036406, 3.6951204858036406, 3.6951204858036406, 3.6951204858036406], \"type\": \"scatter\", \"uid\": \"71147d9e-e1fb-4a2c-a3f2-1fe98f330e2f\"}, {\"fill\": \"tonexty\", \"fillcolor\": \"rgba(128,177,211,0.3)\", \"legendgroup\": \"mean\", \"line\": {\"color\": \"rgba(128,177,211,1)\"}, \"mode\": \"lines\", \"name\": \"mean\", \"x\": [1, 2, 3, 4, 5, 6, 7, 8, 9, 10, 11, 12, 13, 14, 15, 16, 17, 18, 19, 20, 21, 22, 23, 24, 25, 26, 27, 28, 29, 30, 31, 32, 33, 34, 35, 36, 37, 38, 39, 40, 41, 42, 43, 44, 45, 46, 47, 48, 49, 50, 51, 52], \"y\": [3.3404300888956486, 3.3404300888956486, 3.3404300888956486, 3.3404300888956486, 3.394475361046734, 3.4541948141928853, 3.6320123520185814, 3.6320123520185814, 3.655644962569447, 3.655644962569447, 3.655644962569447, 3.655644962569447, 3.655644962569447, 3.655644962569447, 3.655644962569447, 3.655644962569447, 3.655644962569447, 3.655644962569447, 3.655644962569447, 3.655644962569447, 3.655644962569447, 3.655644962569447, 3.6777936772323065, 3.6777936772323065, 3.6777936772323065, 3.6777936772323065, 3.6777936772323065, 3.6777936772323065, 3.6777936772323065, 3.6777936772323065, 3.6777936772323065, 3.6777936772323065, 3.6777936772323065, 3.6777936772323065, 3.6777936772323065, 3.6951204858036406, 3.6951204858036406, 3.6951204858036406, 3.6951204858036406, 3.6951204858036406, 3.6951204858036406, 3.6951204858036406, 3.6951204858036406, 3.6951204858036406, 3.6951204858036406, 3.6951204858036406, 3.6951204858036406, 3.6951204858036406, 3.6951204858036406, 3.6951204858036406, 3.6951204858036406, 3.6951204858036406], \"type\": \"scatter\", \"uid\": \"75b868ff-3ab6-46f5-ba77-4456e836f046\"}, {\"fill\": \"tonexty\", \"fillcolor\": \"rgba(128,177,211,0.3)\", \"hoverinfo\": \"none\", \"legendgroup\": \"\", \"line\": {\"width\": 0}, \"mode\": \"lines\", \"showlegend\": false, \"x\": [1, 2, 3, 4, 5, 6, 7, 8, 9, 10, 11, 12, 13, 14, 15, 16, 17, 18, 19, 20, 21, 22, 23, 24, 25, 26, 27, 28, 29, 30, 31, 32, 33, 34, 35, 36, 37, 38, 39, 40, 41, 42, 43, 44, 45, 46, 47, 48, 49, 50, 51, 52], \"y\": [3.3404300888956486, 3.3404300888956486, 3.3404300888956486, 3.3404300888956486, 3.394475361046734, 3.4541948141928853, 3.6320123520185814, 3.6320123520185814, 3.655644962569447, 3.655644962569447, 3.655644962569447, 3.655644962569447, 3.655644962569447, 3.655644962569447, 3.655644962569447, 3.655644962569447, 3.655644962569447, 3.655644962569447, 3.655644962569447, 3.655644962569447, 3.655644962569447, 3.655644962569447, 3.6777936772323065, 3.6777936772323065, 3.6777936772323065, 3.6777936772323065, 3.6777936772323065, 3.6777936772323065, 3.6777936772323065, 3.6777936772323065, 3.6777936772323065, 3.6777936772323065, 3.6777936772323065, 3.6777936772323065, 3.6777936772323065, 3.6951204858036406, 3.6951204858036406, 3.6951204858036406, 3.6951204858036406, 3.6951204858036406, 3.6951204858036406, 3.6951204858036406, 3.6951204858036406, 3.6951204858036406, 3.6951204858036406, 3.6951204858036406, 3.6951204858036406, 3.6951204858036406, 3.6951204858036406, 3.6951204858036406, 3.6951204858036406, 3.6951204858036406], \"type\": \"scatter\", \"uid\": \"6b832269-83df-4861-b306-402a5ea6d45c\"}],\n",
       "  {\"showlegend\": true, \"title\": {\"text\": \"\"}, \"xaxis\": {\"title\": {\"text\": \"Iteration\"}}, \"yaxis\": {\"title\": {\"text\": \"\"}}},\n",
       "  {\"showLink\": false}\n",
       ");\n",
       "});</script>"
      ]
     },
     "metadata": {},
     "output_type": "display_data"
    }
   ],
   "source": [
    "# `plot_single_method` expects a 2-d array of means, because it expects to average means from multiple \n",
    "# optimization runs, so we wrap out best objectives array in another array.\n",
    "objective_means = np.array([[trial.objective_mean for trial in exp.trials.values()]])\n",
    "best_objective_plot = optimization_trace_single_method(\n",
    "        y=np.maximum.accumulate(objective_means, axis=1),\n",
    ")\n",
    "render(best_objective_plot)"
   ]
  },
  {
   "cell_type": "code",
   "execution_count": 20,
   "metadata": {
    "pycharm": {
     "is_executing": false,
     "name": "#%%\n"
    }
   },
   "outputs": [
    {
     "data": {
      "text/plain": [
       "Arm(name='35_0', parameters={'lr': 0.0030470682447321057, 'decay': 0.01, 'epochs': 17})"
      ]
     },
     "execution_count": 20,
     "metadata": {},
     "output_type": "execute_result"
    }
   ],
   "source": [
    "exp.trials[np.argmax(objective_means)].arm"
   ]
  },
  {
   "cell_type": "code",
   "execution_count": 21,
   "metadata": {
    "pycharm": {
     "name": "#%%\n"
    },
    "scrolled": false
   },
   "outputs": [
    {
     "data": {
      "text/html": [
       "<div id=\"d347cc12790a46c2bee106e705836cc3\" style=\"width: 100%;\" class=\"plotly-graph-div\"></div><script type='text/javascript'>/*\n",
       " * Copyright (c) Facebook, Inc. and its affiliates. All Rights Reserved.\n",
       " */\n",
       "\n",
       "require(['plotly'], function(Plotly) {\n",
       "  window.PLOTLYENV = window.PLOTLYENV || {};\n",
       "  window.PLOTLYENV.BASE_URL = 'https://plot.ly';\n",
       "  /*\n",
       " * Copyright (c) Facebook, Inc. and its affiliates. All Rights Reserved.\n",
       " */\n",
       "\n",
       "const arm_data = {\"metrics\": [\"log_eval\"], \"in_sample\": {\"10_0\": {\"name\": \"10_0\", \"parameters\": {\"lr\": 0.04978427747990496, \"decay\": 0.003527565121958421, \"epochs\": 47}, \"y\": {\"log_eval\": 3.112263631209449}, \"y_hat\": {\"log_eval\": 3.114052542426581}, \"se\": {\"log_eval\": 0.01238418875800926}, \"se_hat\": {\"log_eval\": 0.012333336529813459}, \"context_stratum\": null}, \"11_0\": {\"name\": \"11_0\", \"parameters\": {\"lr\": 0.006247040048381291, \"decay\": 0.0001438024293565146, \"epochs\": 25}, \"y\": {\"log_eval\": 3.4241942668232896}, \"y_hat\": {\"log_eval\": 3.421785508764442}, \"se\": {\"log_eval\": 0.01374483715894778}, \"se_hat\": {\"log_eval\": 0.013228352665373973}, \"context_stratum\": null}, \"12_0\": {\"name\": \"12_0\", \"parameters\": {\"lr\": 0.00014838731399692169, \"decay\": 0.0014697324908619514, \"epochs\": 22}, \"y\": {\"log_eval\": 3.415520117203138}, \"y_hat\": {\"log_eval\": 3.4154054618001344}, \"se\": {\"log_eval\": 0.011276006439341265}, \"se_hat\": {\"log_eval\": 0.011208439049154268}, \"context_stratum\": null}, \"13_0\": {\"name\": \"13_0\", \"parameters\": {\"lr\": 0.0005519527802397052, \"decay\": 0.00010246759190872975, \"epochs\": 41}, \"y\": {\"log_eval\": 3.546131034009097}, \"y_hat\": {\"log_eval\": 3.5467401809527708}, \"se\": {\"log_eval\": 0.012589028883241746}, \"se_hat\": {\"log_eval\": 0.012370755528961311}, \"context_stratum\": null}, \"14_0\": {\"name\": \"14_0\", \"parameters\": {\"lr\": 0.010504083634447867, \"decay\": 0.00043748352890575796, \"epochs\": 12}, \"y\": {\"log_eval\": 3.634057109613882}, \"y_hat\": {\"log_eval\": 3.6266019274350696}, \"se\": {\"log_eval\": 0.013357370606483029}, \"se_hat\": {\"log_eval\": 0.012263504168286279}, \"context_stratum\": null}, \"15_0\": {\"name\": \"15_0\", \"parameters\": {\"lr\": 0.07475959993275257, \"decay\": 4.4930071267683065e-05, \"epochs\": 16}, \"y\": {\"log_eval\": 3.3610420926516205}, \"y_hat\": {\"log_eval\": 3.3612515676277255}, \"se\": {\"log_eval\": 0.013348588353470204}, \"se_hat\": {\"log_eval\": 0.013234709567014072}, \"context_stratum\": null}, \"16_0\": {\"name\": \"16_0\", \"parameters\": {\"lr\": 0.0028143370815851038, \"decay\": 0.006083735575886048, \"epochs\": 37}, \"y\": {\"log_eval\": 3.528262642158446}, \"y_hat\": {\"log_eval\": 3.5278215398643207}, \"se\": {\"log_eval\": 0.012156142965591931}, \"se_hat\": {\"log_eval\": 0.012030366909057136}, \"context_stratum\": null}, \"17_0\": {\"name\": \"17_0\", \"parameters\": {\"lr\": 0.0031722460970575166, \"decay\": 5.153458431222948e-05, \"epochs\": 48}, \"y\": {\"log_eval\": 3.35745258138615}, \"y_hat\": {\"log_eval\": 3.358951260569798}, \"se\": {\"log_eval\": 0.012186919913023975}, \"se_hat\": {\"log_eval\": 0.012088815826541945}, \"context_stratum\": null}, \"18_0\": {\"name\": \"18_0\", \"parameters\": {\"lr\": 0.061217137158285154, \"decay\": 0.005093566161426102, \"epochs\": 2}, \"y\": {\"log_eval\": 3.168146034596125}, \"y_hat\": {\"log_eval\": 3.1708864060537443}, \"se\": {\"log_eval\": 0.011724834444400638}, \"se_hat\": {\"log_eval\": 0.011636760356815122}, \"context_stratum\": null}, \"19_0\": {\"name\": \"19_0\", \"parameters\": {\"lr\": 0.012302214003413503, \"decay\": 0.0001241083471404148, \"epochs\": 24}, \"y\": {\"log_eval\": 3.310859376580618}, \"y_hat\": {\"log_eval\": 3.3156705007065432}, \"se\": {\"log_eval\": 0.013013713238650986}, \"se_hat\": {\"log_eval\": 0.012627976507614408}, \"context_stratum\": null}, \"20_0\": {\"name\": \"20_0\", \"parameters\": {\"lr\": 0.00045671365891730595, \"decay\": 0.0003864138666601675, \"epochs\": 27}, \"y\": {\"log_eval\": 3.493354500212299}, \"y_hat\": {\"log_eval\": 3.4941038776986613}, \"se\": {\"log_eval\": 0.011985410991012154}, \"se_hat\": {\"log_eval\": 0.011842025112949567}, \"context_stratum\": null}, \"21_0\": {\"name\": \"21_0\", \"parameters\": {\"lr\": 0.00011818864786637608, \"decay\": 0.00017291991110745218, \"epochs\": 11}, \"y\": {\"log_eval\": 3.4129530698338524}, \"y_hat\": {\"log_eval\": 3.4126835751538476}, \"se\": {\"log_eval\": 0.010893951393214646}, \"se_hat\": {\"log_eval\": 0.010845374849696844}, \"context_stratum\": null}, \"22_0\": {\"name\": \"22_0\", \"parameters\": {\"lr\": 0.0042958675936845365, \"decay\": 0.0010471843418864235, \"epochs\": 10}, \"y\": {\"log_eval\": 3.6777936772323065}, \"y_hat\": {\"log_eval\": 3.6528422645538745}, \"se\": {\"log_eval\": 0.01295640227218043}, \"se_hat\": {\"log_eval\": 0.00944134535527963}, \"context_stratum\": null}, \"23_0\": {\"name\": \"23_0\", \"parameters\": {\"lr\": 0.008370803588215753, \"decay\": 0.00022333890726881868, \"epochs\": 2}, \"y\": {\"log_eval\": 3.519143836350856}, \"y_hat\": {\"log_eval\": 3.521584278609035}, \"se\": {\"log_eval\": 0.01184426378037716}, \"se_hat\": {\"log_eval\": 0.011644284122676603}, \"context_stratum\": null}, \"24_0\": {\"name\": \"24_0\", \"parameters\": {\"lr\": 0.003423667093075686, \"decay\": 0.0013399111889739398, \"epochs\": 15}, \"y\": {\"log_eval\": 3.650251177315237}, \"y_hat\": {\"log_eval\": 3.6431589437205516}, \"se\": {\"log_eval\": 0.01230955863293442}, \"se_hat\": {\"log_eval\": 0.011011913946384469}, \"context_stratum\": null}, \"25_0\": {\"name\": \"25_0\", \"parameters\": {\"lr\": 0.0006869113033726057, \"decay\": 0.0018229361036326858, \"epochs\": 45}, \"y\": {\"log_eval\": 3.59844643260302}, \"y_hat\": {\"log_eval\": 3.5983592923059278}, \"se\": {\"log_eval\": 0.013030680531584954}, \"se_hat\": {\"log_eval\": 0.012355242402042953}, \"context_stratum\": null}, \"26_0\": {\"name\": \"26_0\", \"parameters\": {\"lr\": 0.00558261633492821, \"decay\": 0.0020691025936057034, \"epochs\": 12}, \"y\": {\"log_eval\": 3.5940986162758946}, \"y_hat\": {\"log_eval\": 3.603189753125716}, \"se\": {\"log_eval\": 0.01444843098271689}, \"se_hat\": {\"log_eval\": 0.012787919264242121}, \"context_stratum\": null}, \"27_0\": {\"name\": \"27_0\", \"parameters\": {\"lr\": 0.0038535517531817546, \"decay\": 0.00039530815909391445, \"epochs\": 11}, \"y\": {\"log_eval\": 3.604072959202277}, \"y_hat\": {\"log_eval\": 3.6077179059964095}, \"se\": {\"log_eval\": 0.012192131345327805}, \"se_hat\": {\"log_eval\": 0.011606140997104034}, \"context_stratum\": null}, \"28_0\": {\"name\": \"28_0\", \"parameters\": {\"lr\": 0.001831685554727031, \"decay\": 0.0062428424383467575, \"epochs\": 21}, \"y\": {\"log_eval\": 3.6121852565395094}, \"y_hat\": {\"log_eval\": 3.6141663472253427}, \"se\": {\"log_eval\": 0.012255683030681006}, \"se_hat\": {\"log_eval\": 0.011532699243793382}, \"context_stratum\": null}, \"29_0\": {\"name\": \"29_0\", \"parameters\": {\"lr\": 0.0013184302548125534, \"decay\": 0.0008283421858509831, \"epochs\": 37}, \"y\": {\"log_eval\": 3.6172050138356378}, \"y_hat\": {\"log_eval\": 3.6190250824743524}, \"se\": {\"log_eval\": 0.012981913317247438}, \"se_hat\": {\"log_eval\": 0.012386771755470169}, \"context_stratum\": null}, \"2_0\": {\"name\": \"2_0\", \"parameters\": {\"lr\": 0.08222266530738154, \"decay\": 0.000787696268305935, \"epochs\": 28}, \"y\": {\"log_eval\": 3.1768169773773316}, \"y_hat\": {\"log_eval\": 3.1759294798904616}, \"se\": {\"log_eval\": 0.012540239147262752}, \"se_hat\": {\"log_eval\": 0.012406686898506932}, \"context_stratum\": null}, \"30_0\": {\"name\": \"30_0\", \"parameters\": {\"lr\": 0.0005830066799163658, \"decay\": 0.0004613016523184007, \"epochs\": 49}, \"y\": {\"log_eval\": 3.598738157827219}, \"y_hat\": {\"log_eval\": 3.5981352364618955}, \"se\": {\"log_eval\": 0.011232449462836053}, \"se_hat\": {\"log_eval\": 0.010826821341997778}, \"context_stratum\": null}, \"31_0\": {\"name\": \"31_0\", \"parameters\": {\"lr\": 0.0023223184893015874, \"decay\": 0.0016108860028932247, \"epochs\": 9}, \"y\": {\"log_eval\": 3.558727045155133}, \"y_hat\": {\"log_eval\": 3.5645356723793453}, \"se\": {\"log_eval\": 0.011648132219884741}, \"se_hat\": {\"log_eval\": 0.011227946938375921}, \"context_stratum\": null}, \"32_0\": {\"name\": \"32_0\", \"parameters\": {\"lr\": 0.005391083307693113, \"decay\": 0.0008003947035889143, \"epochs\": 12}, \"y\": {\"log_eval\": 3.625094942527766}, \"y_hat\": {\"log_eval\": 3.6418783680275415}, \"se\": {\"log_eval\": 0.012355384811992873}, \"se_hat\": {\"log_eval\": 0.009696772021200095}, \"context_stratum\": null}, \"33_0\": {\"name\": \"33_0\", \"parameters\": {\"lr\": 0.003103488748160297, \"decay\": 0.0035133869602214274, \"epochs\": 22}, \"y\": {\"log_eval\": 3.6417610419944224}, \"y_hat\": {\"log_eval\": 3.6361885761752606}, \"se\": {\"log_eval\": 0.01453414594385548}, \"se_hat\": {\"log_eval\": 0.012918848890534218}, \"context_stratum\": null}, \"34_0\": {\"name\": \"34_0\", \"parameters\": {\"lr\": 0.0012152946378868432, \"decay\": 0.0011010052894948998, \"epochs\": 50}, \"y\": {\"log_eval\": 3.66830531482307}, \"y_hat\": {\"log_eval\": 3.6579242421509246}, \"se\": {\"log_eval\": 0.012908655061946196}, \"se_hat\": {\"log_eval\": 0.009066252526822832}, \"context_stratum\": null}, \"35_0\": {\"name\": \"35_0\", \"parameters\": {\"lr\": 0.0030470682447321057, \"decay\": 0.01, \"epochs\": 17}, \"y\": {\"log_eval\": 3.6951204858036406}, \"y_hat\": {\"log_eval\": 3.6631363938141344}, \"se\": {\"log_eval\": 0.014234781723022609}, \"se_hat\": {\"log_eval\": 0.010346484703827477}, \"context_stratum\": null}, \"36_0\": {\"name\": \"36_0\", \"parameters\": {\"lr\": 0.003323542918335707, \"decay\": 0.01, \"epochs\": 12}, \"y\": {\"log_eval\": 3.568384031262799}, \"y_hat\": {\"log_eval\": 3.574885834540357}, \"se\": {\"log_eval\": 0.012652860815973097}, \"se_hat\": {\"log_eval\": 0.012067755980426401}, \"context_stratum\": null}, \"37_0\": {\"name\": \"37_0\", \"parameters\": {\"lr\": 0.0029671541634396707, \"decay\": 0.00999999999999998, \"epochs\": 20}, \"y\": {\"log_eval\": 3.6469180672367254}, \"y_hat\": {\"log_eval\": 3.6575289308946104}, \"se\": {\"log_eval\": 0.01320344109262514}, \"se_hat\": {\"log_eval\": 0.010818406139472317}, \"context_stratum\": null}, \"38_0\": {\"name\": \"38_0\", \"parameters\": {\"lr\": 0.0028992131921908664, \"decay\": 0.00484521577137573, \"epochs\": 17}, \"y\": {\"log_eval\": 3.63075385857155}, \"y_hat\": {\"log_eval\": 3.6404219262262028}, \"se\": {\"log_eval\": 0.012528627303692476}, \"se_hat\": {\"log_eval\": 0.010746833777664177}, \"context_stratum\": null}, \"39_0\": {\"name\": \"39_0\", \"parameters\": {\"lr\": 0.0015930102849367376, \"decay\": 0.0012974881820559708, \"epochs\": 46}, \"y\": {\"log_eval\": 3.6242475806636123}, \"y_hat\": {\"log_eval\": 3.6272666960101385}, \"se\": {\"log_eval\": 0.013080994682006861}, \"se_hat\": {\"log_eval\": 0.01186544224115143}, \"context_stratum\": null}, \"3_0\": {\"name\": \"3_0\", \"parameters\": {\"lr\": 0.017995068324623793, \"decay\": 2.0432724797792104e-05, \"epochs\": 44}, \"y\": {\"log_eval\": 3.234652466339278}, \"y_hat\": {\"log_eval\": 3.2347342504666186}, \"se\": {\"log_eval\": 0.012151735262042189}, \"se_hat\": {\"log_eval\": 0.012092348961876092}, \"context_stratum\": null}, \"40_0\": {\"name\": \"40_0\", \"parameters\": {\"lr\": 0.0011762941184528637, \"decay\": 0.0005560489900774055, \"epochs\": 50}, \"y\": {\"log_eval\": 3.6316520235246337}, \"y_hat\": {\"log_eval\": 3.6332990397095823}, \"se\": {\"log_eval\": 0.013452239322245547}, \"se_hat\": {\"log_eval\": 0.011662392341226633}, \"context_stratum\": null}, \"41_0\": {\"name\": \"41_0\", \"parameters\": {\"lr\": 0.002157058720142707, \"decay\": 0.0008397548096370134, \"epochs\": 24}, \"y\": {\"log_eval\": 3.6162079630280815}, \"y_hat\": {\"log_eval\": 3.61598968942969}, \"se\": {\"log_eval\": 0.012845865852803834}, \"se_hat\": {\"log_eval\": 0.012441817403395183}, \"context_stratum\": null}, \"42_0\": {\"name\": \"42_0\", \"parameters\": {\"lr\": 0.0011339380519406353, \"decay\": 0.0036838855554993935, \"epochs\": 50}, \"y\": {\"log_eval\": 3.6393089322795955}, \"y_hat\": {\"log_eval\": 3.639818645207406}, \"se\": {\"log_eval\": 0.013629283673029383}, \"se_hat\": {\"log_eval\": 0.012919674344219421}, \"context_stratum\": null}, \"43_0\": {\"name\": \"43_0\", \"parameters\": {\"lr\": 0.000966822231346963, \"decay\": 0.0014159222420817687, \"epochs\": 50}, \"y\": {\"log_eval\": 3.6673930369798353}, \"y_hat\": {\"log_eval\": 3.6594283636012612}, \"se\": {\"log_eval\": 0.012964159365586368}, \"se_hat\": {\"log_eval\": 0.009881112465664888}, \"context_stratum\": null}, \"44_0\": {\"name\": \"44_0\", \"parameters\": {\"lr\": 0.04044537228104681, \"decay\": 1.0773867568563373e-05, \"epochs\": 0}, \"y\": {\"log_eval\": 3.3077090498698034}, \"y_hat\": {\"log_eval\": 3.3089730164388467}, \"se\": {\"log_eval\": 0.011685138307808459}, \"se_hat\": {\"log_eval\": 0.011630173724347595}, \"context_stratum\": null}, \"45_0\": {\"name\": \"45_0\", \"parameters\": {\"lr\": 0.016038689473977068, \"decay\": 0.00033224162007139364, \"epochs\": 8}, \"y\": {\"log_eval\": 3.6201014199054216}, \"y_hat\": {\"log_eval\": 3.6204503909661656}, \"se\": {\"log_eval\": 0.01340935802979851}, \"se_hat\": {\"log_eval\": 0.012577546845180473}, \"context_stratum\": null}, \"46_0\": {\"name\": \"46_0\", \"parameters\": {\"lr\": 0.0014196493120919636, \"decay\": 0.0001894540113910872, \"epochs\": 34}, \"y\": {\"log_eval\": 3.6144160748948586}, \"y_hat\": {\"log_eval\": 3.612577214959392}, \"se\": {\"log_eval\": 0.01265822051392698}, \"se_hat\": {\"log_eval\": 0.012246496737721938}, \"context_stratum\": null}, \"47_0\": {\"name\": \"47_0\", \"parameters\": {\"lr\": 0.00034276999307719663, \"decay\": 0.00999999999999998, \"epochs\": 50}, \"y\": {\"log_eval\": 3.5265926910636463}, \"y_hat\": {\"log_eval\": 3.526529717650953}, \"se\": {\"log_eval\": 0.012299350769441726}, \"se_hat\": {\"log_eval\": 0.012187362012642146}, \"context_stratum\": null}, \"48_0\": {\"name\": \"48_0\", \"parameters\": {\"lr\": 0.005938148149707883, \"decay\": 0.0007840983805538117, \"epochs\": 7}, \"y\": {\"log_eval\": 3.648372080954148}, \"y_hat\": {\"log_eval\": 3.6459966264404176}, \"se\": {\"log_eval\": 0.011991955791841842}, \"se_hat\": {\"log_eval\": 0.011009391606514004}, \"context_stratum\": null}, \"49_0\": {\"name\": \"49_0\", \"parameters\": {\"lr\": 0.001031454624264051, \"decay\": 0.0009518252724083013, \"epochs\": 48}, \"y\": {\"log_eval\": 3.621990429470776}, \"y_hat\": {\"log_eval\": 3.64195724596439}, \"se\": {\"log_eval\": 0.01295161419332295}, \"se_hat\": {\"log_eval\": 0.008752943313802527}, \"context_stratum\": null}, \"4_0\": {\"name\": \"4_0\", \"parameters\": {\"lr\": 0.00024507982427034327, \"decay\": 0.0017904906868920903, \"epochs\": 3}, \"y\": {\"log_eval\": 3.394475361046734}, \"y_hat\": {\"log_eval\": 3.3941987416034864}, \"se\": {\"log_eval\": 0.011416996783523663}, \"se_hat\": {\"log_eval\": 0.011364083560320508}, \"context_stratum\": null}, \"50_0\": {\"name\": \"50_0\", \"parameters\": {\"lr\": 0.0015862531604133104, \"decay\": 0.00034996139778338385, \"epochs\": 40}, \"y\": {\"log_eval\": 3.6371229929215834}, \"y_hat\": {\"log_eval\": 3.6376680934877355}, \"se\": {\"log_eval\": 0.013294839351542234}, \"se_hat\": {\"log_eval\": 0.011978362137349081}, \"context_stratum\": null}, \"51_0\": {\"name\": \"51_0\", \"parameters\": {\"lr\": 0.0001, \"decay\": 0.0007786274174831826, \"epochs\": 50}, \"y\": {\"log_eval\": 3.4377952459472514}, \"y_hat\": {\"log_eval\": 3.4379990885565284}, \"se\": {\"log_eval\": 0.011530046799630468}, \"se_hat\": {\"log_eval\": 0.011469507241439192}, \"context_stratum\": null}, \"5_0\": {\"name\": \"5_0\", \"parameters\": {\"lr\": 0.00017137166229077094, \"decay\": 3.5115084834239404e-05, \"epochs\": 34}, \"y\": {\"log_eval\": 3.4541948141928853}, \"y_hat\": {\"log_eval\": 3.45384329645565}, \"se\": {\"log_eval\": 0.011142889036146396}, \"se_hat\": {\"log_eval\": 0.011084308668166759}, \"context_stratum\": null}, \"6_0\": {\"name\": \"6_0\", \"parameters\": {\"lr\": 0.004551821441836866, \"decay\": 0.007375404959949084, \"epochs\": 19}, \"y\": {\"log_eval\": 3.6320123520185814}, \"y_hat\": {\"log_eval\": 3.633461118134959}, \"se\": {\"log_eval\": 0.013048649202333357}, \"se_hat\": {\"log_eval\": 0.011788062504764416}, \"context_stratum\": null}, \"7_0\": {\"name\": \"7_0\", \"parameters\": {\"lr\": 0.023212195123507594, \"decay\": 8.455812526476041e-05, \"epochs\": 9}, \"y\": {\"log_eval\": 3.580064777534327}, \"y_hat\": {\"log_eval\": 3.5759650700319137}, \"se\": {\"log_eval\": 0.013974420362918339}, \"se_hat\": {\"log_eval\": 0.013609126772185}, \"context_stratum\": null}, \"8_0\": {\"name\": \"8_0\", \"parameters\": {\"lr\": 0.0012195918445462937, \"decay\": 0.0005595295912680022, \"epochs\": 44}, \"y\": {\"log_eval\": 3.655644962569447}, \"y_hat\": {\"log_eval\": 3.646027577135288}, \"se\": {\"log_eval\": 0.012229225245228424}, \"se_hat\": {\"log_eval\": 0.010501890318337852}, \"context_stratum\": null}, \"9_0\": {\"name\": \"9_0\", \"parameters\": {\"lr\": 0.0006781060687356291, \"decay\": 1.0946176570293072e-05, \"epochs\": 0}, \"y\": {\"log_eval\": 3.319037644557284}, \"y_hat\": {\"log_eval\": 3.3192821976011024}, \"se\": {\"log_eval\": 0.01137763940360927}, \"se_hat\": {\"log_eval\": 0.011339669884700051}, \"context_stratum\": null}, \"control\": {\"name\": \"control\", \"parameters\": {\"lr\": 0.125, \"decay\": 0.0012, \"epochs\": 20}, \"y\": {\"log_eval\": 3.1552959605272526}, \"y_hat\": {\"log_eval\": 3.157053593505689}, \"se\": {\"log_eval\": 0.0116866201822084}, \"se_hat\": {\"log_eval\": 0.011581586583600397}, \"context_stratum\": null}, \"zero\": {\"name\": \"zero\", \"parameters\": {\"lr\": 0.125, \"decay\": 0.0012, \"epochs\": 0}, \"y\": {\"log_eval\": 3.3404300888956486}, \"y_hat\": {\"log_eval\": 3.3389170216622435}, \"se\": {\"log_eval\": 0.010873038587426026}, \"se_hat\": {\"log_eval\": 0.010804900129217636}, \"context_stratum\": null}}, \"out_of_sample\": {}, \"status_quo_name\": null};\n",
       "const density = 50;\n",
       "const grid_x = [0.0001, 0.00011566507536642776, 0.00013378409659521427, 0.0001547414761551491, 0.00017898184501797623, 0.00020701948593226515, 0.0002394492444267458, 0.00027695914903053766, 0.00032034500846038835, 0.00037052729546829794, 0.0004285706755565933, 0.0004957065948809422, 0.0005733594065653951, 0.0006631765897243672, 0.0007670637023171956, 0.0008872248093936954, 0.0010262092444548628, 0.0011869656960159672, 0.0013729047668705138, 0.0015879713333100591, 0.0018367282394703476, 0.0021244531024598393, 0.0024572502820845886, 0.002842180390714901, 0.003287410090970221, 0.0038023853593242576, 0.004398031891584418, 0.0050869869020406504, 0.005883867234125633, 0.006805579470811962, 0.007871678624036791, 0.00910478301309514, 0.010531054134046215, 0.01218075170102386, 0.014088875635186696, 0.016295908621720968, 0.018848674988957776, 0.021801334131551033, 0.02521652955414524, 0.029166717913599653, 0.033735706256678426, 0.03902043006718383, 0.04513300984551241, 0.05220312985294919, 0.0603807894880479, 0.06983948566819469, 0.08077989373364299, 0.09343412496793842, 0.10807065106212838, 0.125];\n",
       "const grid_y = [1e-05, 1.1513953993264481e-05, 1.3257113655901082e-05, 1.5264179671752335e-05, 1.757510624854793e-05, 2.0235896477251556e-05, 2.3299518105153718e-05, 2.6826957952797274e-05, 3.0888435964774785e-05, 3.5564803062231284e-05, 4.094915062380427e-05, 4.71486636345739e-05, 5.4286754393238594e-05, 6.250551925273976e-05, 7.196856730011514e-05, 8.286427728546843e-05, 9.540954763499944e-05, 0.00010985411419875583, 0.00012648552168552957, 0.00014563484775012445, 0.00016768329368110083, 0.00019306977288832496, 0.00022229964825261955, 0.0002559547922699536, 0.00029470517025518097, 0.000339322177189533, 0.0003906939937054617, 0.0004498432668969444, 0.0005179474679231213, 0.0005963623316594642, 0.0006866488450042998, 0.0007906043210907702, 0.0009102981779915217, 0.0010481131341546852, 0.0012067926406393288, 0.0013894954943731374, 0.0015998587196060573, 0.0018420699693267163, 0.0021209508879201904, 0.0024420530945486497, 0.002811768697974231, 0.0032374575428176433, 0.003727593720314938, 0.004291934260128779, 0.004941713361323833, 0.005689866029018293, 0.006551285568595509, 0.007543120063354615, 0.00868511373751352, 0.01];\n",
       "const f = [3.405595976283932, 3.4077907005993606, 3.4098188940548546, 3.4116687927787277, 3.413334776691849, 3.4148163495851596, 3.416115891707735, 3.4172353303553895, 3.418172141052519, 3.4189152784719887, 3.419441689378935, 3.419713980998001, 3.4196796468489574, 3.4192720375335743, 3.418413046710846, 3.417017290695564, 3.414997413217118, 3.4122700589665884, 3.4087620390012785, 3.4044162571885868, 3.3991970661369386, 3.3930948456652654, 3.386129707784084, 3.3783542876268995, 3.3698555481103463, 3.3607554004846656, 3.3512097541353683, 3.341405430779514, 3.3315543182623584, 3.3218843091229555, 3.312627034064999, 3.3040031234062015, 3.296206541258311, 3.2893901644787626, 3.283654941286624, 3.279044509593128, 3.275546155838935, 3.273097745871663, 3.2715991508133637, 3.270926034412746, 3.27094377671614, 3.2715196922182708, 3.2725323536660196, 3.2738775401599853, 3.2754709330403013, 3.2772481043184434, 3.279162561452745, 3.281182650607758, 3.283288023126266, 3.2854661937964, 3.4077620698009046, 3.41010772196933, 3.412292679197194, 3.4143065749394776, 3.416145719983639, 3.4178119452997504, 3.4193100567197217, 3.4206440589590232, 3.421812617619759, 3.422804443430476, 3.4235943410046836, 3.424140569896492, 3.4243839679857775, 3.4242490435461312, 3.4236469972362173, 3.422480418539704, 3.420649234110751, 3.4180573849749996, 3.4146196872713217, 3.4102683888679013, 3.4049590578805153, 3.3986755966881823, 3.391434318849105, 3.3832871029225973, 3.3743236028058274, 3.3646723331912267, 3.354500191327459, 3.344009709069059, 3.3334331896017737, 3.3230230259302935, 3.3130380299774593, 3.30372650028742, 3.295307819432127, 3.2879552392020663, 3.2817827923911866, 3.2768387345051972, 3.273106649952017, 3.2705137535829003, 3.268944514718435, 3.2682569412619404, 3.2682988122838923, 3.2689216877040796, 3.269991364495418, 3.2713943130221965, 3.2730403318718717, 3.2748621256335824, 3.2768127325335343, 3.278861743925569, 3.280991122533515, 3.2831912085847104, 3.409853713827788, 3.412349287969187, 3.4146915952773855, 3.4168720688538436, 3.418889381560308, 3.42074813481693, 3.4224559871275617, 3.424019391892874, 3.425438473356286, 3.426701816770559, 3.427782012015079, 3.4286326786971637, 3.429187475309292, 3.429361320718651, 3.4290537811344444, 3.4281543310319442, 3.4265490056985315, 3.424127846701238, 3.4207925157898713, 3.416463522682626, 3.411086664337194, 3.4046384710616993, 3.39713064072868, 3.3886135489975553, 3.3791788916577743, 3.368961316726065, 3.358138564720659, 3.3469292537739523, 3.3355871933257326, 3.324391196479539, 3.3136299539446603, 3.303582641149833, 3.294497316389504, 3.286570359973373, 3.27993065948877, 3.2746316200722605, 3.27065245948027, 3.267908178236898, 3.2662658139244076, 3.2655636490139397, 3.265630074949204, 3.2662995738053944, 3.2674243574326454, 3.2688812500886684, 3.2705742089728944, 3.272433380131017, 3.274411802026501, 3.2764808510090067, 3.278625342529453, 3.280838937302434, 3.411854015211469, 3.414497035486926, 3.4169958723261074, 3.4193442071561457, 3.4215435498064424, 3.42360175378978, 3.4255297897381527, 3.427336958466044, 3.429025135836291, 3.43058292268194, 3.4319806419204872, 3.4331669969579304, 3.434067951905953, 3.4345880881948156, 3.43461438474853, 3.4340220926728082, 3.432682156478041, 3.4304694975215075, 3.427271443472855, 3.4229956701089144, 3.4175772064702654, 3.4109843003867817, 3.403223180250129, 3.3943418969063432, 3.384433408595601, 3.3736378364512847, 3.3621433846201163, 3.350184893601722, 3.338038586145668, 3.3260115526592484, 3.314425160775893, 3.3035929263168167, 3.293795181521598, 3.2852545080423186, 3.27811661328011, 3.2724406040129086, 3.2682005343442095, 3.26529741897828, 3.263578637768669, 3.262860555548649, 3.2629503605755135, 3.263664185364617, 3.2648399496362726, 3.2663446165314998, 3.2680764623948786, 3.269963486210254, 3.2719592770377104, 3.2740375952695238, 3.2761866904540033, 3.278404062488719, 3.413746384737291, 3.416532838541961, 3.419185883433887, 3.4217019418875374, 3.4240858768355222, 3.426349311140539, 3.428507016813668, 3.4305715670387604, 3.4325469080785096, 3.4344218247874325, 3.436164349413564, 3.4377180197070603, 3.4390006114574936, 3.4399056324442765, 3.4403065225675715, 3.4400631928673597, 3.439030283861633, 3.4370663623190674, 3.4340432341993847, 3.429854646234744, 3.4244238698968226, 3.4177099643411424, 3.409712819127388, 3.4004772806758616, 3.390096668032148, 3.378715715610836, 3.366532442978308, 3.3537977511638837, 3.3408109260406387, 3.32790905843501, 3.315449040769299, 3.303782428637261, 3.2932257757467536, 3.284031273758356, 3.276363612849017, 3.270288154472429, 3.265772829806421, 3.2627026691840157, 3.2609029812589303, 3.260165936022474, 3.2602757297300937, 3.2610289837248776, 3.2622487703653453, 3.2637921333923092, 3.265551966837032, 3.2674546429658298, 3.2694549305658787, 3.271529625754059, 3.2736710252484285, 3.275881001925047, 3.4155149170108654, 3.4184392258383443, 3.4212425935928286, 3.423924715309876, 3.4264943594986614, 3.42896746682234, 3.4313631264704085, 3.4336976342881718, 3.4359773541222816, 3.438191457263168, 3.440305700307933, 3.44225824551063, 3.443958221652707, 3.4452873529899533, 3.4461046038610212, 3.4462534335116874, 3.44557096394598, 3.4438981714721453, 3.4410901574818977, 3.4370256598984303, 3.4316152281248704, 3.4248078529686596, 3.416596226112321, 3.4070210781587407, 3.396175083969978, 3.384206533385872, 3.3713223188073846, 3.357788884322705, 3.3439288886655816, 3.3301109230133874, 3.3167302308867086, 3.3041803062617494, 3.29281821773623, 3.2829295207241693, 3.2747002450301954, 3.2682025336362, 3.263397038593623, 3.260150566131211, 3.258263776758857, 3.257502342148303, 3.257625779912471, 3.2584102209627828, 3.2596635427018557, 3.261233002761761, 3.263006565044392, 3.264909605770389, 3.2668987743294133, 3.2689545960586286, 3.271074048033253, 3.2732639140605375, 3.4171447861471784, 3.420199820764439, 3.423148038019152, 3.425992967017662, 3.4287478627622066, 3.431433557007771, 3.434073994599362, 3.43668966939071, 3.4392897425105615, 3.4418640166282244, 3.4443760386767024, 3.4467584398782463, 3.4489112944469236, 3.4507038756455053, 3.4519797665125203, 3.4525648824690234, 3.4522776248542018, 3.4509401549412484, 3.4483897041317824, 3.4444889511610817, 3.4391348015541903, 3.432265347754242, 3.4238652644760923, 3.4139702574682995, 3.402671280876754, 3.3901189413676582, 3.3765277551369994, 3.3621787843356943, 3.3474179410485743, 3.332646486257606, 3.318300723069067, 3.304820120674171, 3.292606880337516, 3.281984017376355, 3.2731614377353564, 3.2662185294354042, 3.2611072739509024, 3.2576737682542247, 3.2556913311485465, 3.2548968922911836, 3.2550238041430237, 3.255826995542199, 3.2570990686022947, 3.2586778519398214, 3.260446995004962, 3.2623316139174605, 3.26429099840708, 3.2663101228941325, 3.2683912831626785, 3.2705467027750608, 3.418622639393991, 3.4217997840350693, 3.4248858088515646, 3.4278886558022115, 3.4308266644724896, 3.4337261473287786, 3.436616461505426, 3.43952279967962, 3.4424575381444367, 3.4454114088561907, 3.44834588007707, 3.451187966983031, 3.4538283499526368, 3.45612324348943, 3.4578999913433264, 3.4589659089680955, 3.459119502220481, 3.4581629174823587, 3.455914380375826, 3.452219501850746, 3.446960679723261, 3.4400643494457537, 3.4315064209715938, 3.421316709954107, 3.409583348021874, 3.396457877074939, 3.382160890851777, 3.3669866991994137, 3.351303829172088, 3.335546926184965, 3.3201958179357907, 3.3057400298681885, 3.2926317890243206, 3.2812359878796444, 3.271789096463791, 3.264378099455503, 3.258944641862844, 3.2553113945443815, 3.253221604031284, 3.2523813941450106, 3.2524967875680497, 3.2533011623885675, 3.254572091150397, 3.256138579709992, 3.2578807433265893, 3.2597242660226375, 3.2616318770901898, 3.263593726139037, 3.265618053078133, 3.2677230255915766, 3.419936968346736, 3.42322623586779, 3.4264415250446745, 3.4295957701037607, 3.432712995725777, 3.4358255902085277, 3.4389688924200885, 3.4421733210199768, 3.445454930426546, 3.4488057446336517, 3.4521853645541767, 3.4555151920307234, 3.4586762605877728, 3.461511196074362, 3.4638303108724027, 3.4654213179735143, 3.4660616967792417, 3.4655324178622653, 3.4636316063658885, 3.4601868483326075, 3.4550652390129963, 3.448180886998937, 3.4395002906915493, 3.429046600456102, 3.416904059189406, 3.4032236820314363, 3.388230336249409, 3.3722297510922212, 3.3556118309513487, 3.3388447285527922, 3.322453859494535, 3.3069827929656013, 3.292938860135357, 3.2807335190655724, 3.2706325962194716, 3.262730852083596, 3.256957620491851, 3.2531092416306038, 3.250896247247119, 3.249992231607784, 3.2500751887268433, 3.2508570594761195, 3.252101009731172, 3.2536280912604445, 3.255315819234568, 3.2570913430123194, 3.2589216441828457, 3.260802755557639, 3.2627494530415544, 3.2647863116102154, 3.4210784368803884, 3.4244686335282646, 3.427803258673554, 3.431100798842005, 3.434391548790543, 3.437714560083409, 3.4411117290289917, 3.4446192544549685, 3.4482573842475928, 3.4520198745058335, 3.4558647662652557, 3.4597079559716417, 3.463420681678467, 3.4668315471601994, 3.469733126475939, 3.4718926008259205, 3.4730653545278667, 3.473010075801263, 3.47150374640641, 3.468355027930056, 3.4634149917251955, 3.456584847854, 3.4478211608121514, 3.4371397770299854, 3.424620093187072, 3.410411145451182, 3.394740091883505, 3.377921821977651, 3.360365724037851, 3.3425728494436315, 3.3251156726911213, 3.308595506825161, 3.2935798999332166, 3.2805317416731823, 3.269749039961306, 3.2613342662857474, 3.2552021406207974, 3.2511196728073832, 3.248762310891304, 3.247769939667134, 3.2477924505233156, 3.248521015614933, 3.2497054287009774, 3.2511599139831686, 3.2527604493013564, 3.2544365836970424, 3.2561603454197847, 3.2579343129720826, 3.259780334620483, 3.261729797481683, 3.422040146772161, 3.4255190819096466, 3.428961892560428, 3.4323931358888764, 3.4358499257396318, 3.4393785412505062, 3.443028009810908, 3.446840891028035, 3.4508422003908157, 3.45502795533459, 3.4593550559468893, 3.4637341233992545, 3.4680265737242357, 3.4720466702222406, 3.4755686468943634, 3.4783383185056715, 3.480087989095388, 3.4805530297025875, 3.479488297891029, 3.4766826907865527, 3.4719706041974665, 3.465239873911369, 3.4564367440216293, 3.4455692947374867, 3.4327113074013917, 3.4180085138839167, 3.4016883284070882, 3.3840721941936547, 3.365586421753689, 3.3467634955144363, 3.328223611503084, 3.3106289771988884, 3.2946122655385492, 3.280692681406904, 3.269203168351963, 3.260253522185737, 3.2537412324685606, 3.2494010511607865, 3.2468715087862394, 3.245758388440432, 3.2456841900201883, 3.2463206116699643, 3.247405528667156, 3.2487476944786504, 3.2502227000296697, 3.2517634236611124, 3.253347680154633, 3.254985182020514, 3.25670530915694, 3.258546591291181, 3.4228178261681146, 3.4263725595426244, 3.4299113892141415, 3.4334653965725113, 3.4370790057680387, 3.440806247253757, 3.4447038402703773, 3.4488213089388267, 3.4531890731186405, 3.457806039675635, 3.462628511745575, 3.4675622030595785, 3.472458819580831, 3.477118098673595, 3.481295458506882, 3.4847146312268915, 3.4870839632300985, 3.488114565456457, 3.4875382631950584, 3.485123406534155, 3.480687120232896, 3.4741034685726726, 3.4653081177808525, 3.454301119920575, 3.4411501361095436, 3.42599653302952, 3.4090660732326152, 3.390683957237914, 3.371290245020704, 3.351446447134109, 3.3318201127760863, 3.313136606833494, 3.296098064618389, 3.281284646789712, 3.269066772238323, 3.259560778700452, 3.2526440724443137, 3.2480165691665412, 3.2452789313531705, 3.244003504053888, 3.243787028752959, 3.2442836814503573, 3.2452212622210084, 3.246404587454061, 3.2477100432687953, 3.249074713854374, 3.250482848335729, 3.2519517801081923, 3.2535187838867277, 3.2552297749149366, 3.4234099319253013, 3.4270270493015045, 3.43064895865829, 3.434313632421135, 3.4380732166104973, 3.441989957175341, 3.4461287991671927, 3.4505468505548667, 3.4552806343850984, 3.460332679781244, 3.465659372633255, 3.4711620379243144, 3.4766829364133063, 3.482007243642012, 3.4868712332073826, 3.490975983149047, 3.494005141126249, 3.4956447311022028, 3.495602722893476, 3.4936261889956213, 3.4895144203212256, 3.4831273562287524, 3.474389926055948, 3.4632940899905047, 3.4499012053355274, 3.4343476201191727, 3.4168558902266994, 3.3977522329926635, 3.377486830490471, 3.356646864130286, 3.335945644419783, 3.316172661149577, 3.2981027406938117, 3.2823809839853513, 3.2694174165744125, 3.259333690986116, 3.2519842310734006, 3.247032316111174, 3.244041103171049, 3.242551475164458, 3.2421370493954176, 3.2424370602111656, 3.243171393030624, 3.244142559417992, 3.245228887519062, 3.2463724401701173, 3.247564421414473, 3.2488301482568596, 3.2502150435081507, 3.2517725549820193, 3.423817663350874, 3.427483570682787, 3.4311751211380384, 3.43493743900099, 3.4388307036132884, 3.442925761114816, 3.4472962720158953, 3.4520075499749665, 3.4571029752707214, 3.4625895371718745, 3.4684245261213293, 3.4745055577365287, 3.4806658769265457, 3.4866762257479724, 3.492253572533122, 3.497075943237653, 3.5008017150694526, 3.5030911433061642, 3.5036276190185975, 3.5021362514744254, 3.498397935695509, 3.4922581246697404, 3.4836308928046558, 3.4725002051367975, 3.458921272603418, 3.4430253014278156, 3.425030692504163, 3.405262334679287, 3.3841767350310565, 3.3623825546157717, 3.3406359452073073, 3.319789750789167, 3.300692852266325, 3.2840579797527663, 3.270336229192792, 3.2596529098953404, 3.251836898151324, 3.2465144343769534, 3.2432133165386143, 3.2414464357341704, 3.24076790277318, 3.240805118488382, 3.2412724180825268, 3.241971643406336, 3.242784105791852, 3.2436574689063837, 3.244590256852746, 3.2456159940503775, 3.246788388708466, 3.248168470978207, 3.4240448907418815, 3.4277461173083394, 3.4314936680291868, 3.435339959039969, 3.439353396672885, 3.4436137124697925, 3.4482037066791444, 3.4531975034048124, 3.4586461347904636, 3.4645619863166037, 3.470904217704553, 3.477567580884509, 3.484376906707943, 3.491088808254395, 3.497400976501388, 3.5029681922735962, 3.5074231981500485, 3.51039997904268, 3.5115567432254076, 3.5105959894966636, 3.5072796184088, 3.501438161461291, 3.4929746781212505, 3.4818653171034217, 3.4681596058352615, 3.451984083298904, 3.4335528936069775, 3.413188063796512, 3.391348895947713, 3.3686607741143018, 3.34591849681944, 3.324035355865605, 3.303932802089632, 3.2863916265109228, 3.2719044364631142, 3.2605982536158873, 3.252274861513948, 3.2465252664720228, 3.242846244102102, 3.2407276822562796, 3.2397086418820287, 3.2394081555494076, 3.2395374360477556, 3.239899194267623, 3.240378597159974, 3.2409293450487313, 3.241557475293657, 3.2423048008953264, 3.2432333406375085, 3.2444116664638982, 3.424098006448274, 3.427821508034766, 3.4316115290898463, 3.435527787478769, 3.4396469788261514, 3.4440578868723235, 3.4488527864958227, 3.454115173493543, 3.459904543381665, 3.4662396963706557, 3.47308276306392, 3.48032664418603, 3.4877885343743436, 3.49521140707301, 3.5022739122667015, 3.508607631565406, 3.5138195594554027, 3.517517129491924, 3.519332906744919, 3.51894616731919, 3.5160991444270984, 3.5106068668486006, 3.5023610761798865, 3.4913302502647694, 3.4775589000706937, 3.4611699434792476, 3.442374170067145, 3.421490463069634, 3.3989782544809453, 3.375474782355629, 3.351808285727486, 3.3289472290821402, 3.307880202270271, 3.2894528700860346, 3.2741982392413562, 3.2622432096894505, 3.253363081645193, 3.247118517059652, 3.2429819551397854, 3.2404265775882934, 3.2389814232014613, 3.2382607662758263, 3.237975047428981, 3.23792920563289, 3.238012923723983, 3.2381861706819737, 3.238462517498638, 3.2388920137843313, 3.239544917008498, 3.240497226224438, 3.4239857085276943, 3.4277191622787613, 3.431538556025162, 3.43551078619753, 3.4397207603324915, 3.4442663463747794, 3.4492495136740664, 3.454763614634545, 3.460877402865331, 3.4676171679969707, 3.4749492355380927, 3.48276582880211, 3.4908774588300315, 3.4990141387171647, 3.506835941583457, 3.513951571479748, 3.519942459687885, 3.5243894735816403, 3.526899247683722, 3.5271272602687804, 3.52479529774785, 3.5197020897102083, 3.5117275090046896, 3.500832337107708, 3.4870567801112893, 3.47052160944928, 3.4514361562068916, 3.430117470087174, 3.4070240460609864, 3.3828006455439326, 3.3583031693739493, 3.3345476130794207, 3.3125794755164844, 3.2933008337751195, 3.2772815293347413, 3.264647483178008, 3.255151911999939, 3.2483336816770354, 3.243649633122239, 3.2405634047550325, 3.2385992807912833, 3.2373703310406294, 3.236588390210776, 3.2360617574463633, 3.235685066575921, 3.235424589457277, 3.2353012951667584, 3.2353733081610003, 3.2357189819042835, 3.236421578852212, 3.4237187276336356, 3.427450810260193, 3.431287231737986, 3.435301814662394, 3.439587459455438, 3.444251003514713, 3.449404190289159, 3.455150599512584, 3.461568976822095, 3.4686941933694744, 3.476498091138282, 3.484873538576216, 3.4936254839983496, 3.5024718512546773, 3.5110548482270163, 3.5189609387486795, 3.52574652499077, 3.5309662073900907, 3.534200608474601, 3.535080879523697, 3.533307453173615, 3.5286616938790996, 3.521010716107819, 3.5103072747883934, 3.4965878401722366, 3.4799726973206155, 3.460672371304859, 3.4390050231154428, 3.415429478762262, 3.3905951315029834, 3.365379631328668, 3.340836546740457, 3.318053276125046, 3.2979733661460116, 3.2811959377777966, 3.267847651282463, 3.257669473149125, 3.250190334702688, 3.244861492304668, 3.2411445389041122, 3.238564229649558, 3.2367358009530767, 3.2353744233058217, 3.2342926644614858, 3.233390342494657, 3.232639899705942, 3.2320694459199046, 3.2317449446759903, 3.2317526678357695, 3.232182961092378, 3.423309507228691, 3.4270301477625575, 3.4308723128756253, 3.4349163801723135, 3.439262887555624, 3.4440273749403825, 3.449331277665224, 3.4552886190462546, 3.4619887559888856, 3.4694761972351165, 3.47772968218029, 3.4866441745088497, 3.4960203370348215, 3.5055650671607785, 3.514903688979108, 3.5236014230483534, 3.5311905775982657, 3.537200145716936, 3.541184895375178, 3.5427511832975704, 3.5415770489599345, 3.5374251273441977, 3.5301484875793814, 3.5196911232840624, 3.5060860306108976, 3.4894545837108693, 3.4700114945755227, 3.4480801740150384, 3.4241237001445244, 3.398795923740448, 3.372990338816367, 3.3477853920524576, 3.324291879178467, 3.3034743441965477, 3.2859482895910426, 3.2718470293415316, 3.260914440616195, 3.252683248847616, 3.2466095535690482, 3.2421603662035023, 3.2388659721498243, 3.2363469512403205, 3.2343235646877453, 3.2326133893747633, 3.2311215166909637, 3.229826313192426, 3.2287626980117636, 3.228004208665954, 3.227644865256306, 3.2277819373876957, 3.4227718463667243, 3.4264724438440055, 3.4303104118213605, 3.4343722095633784, 3.438765533626965, 3.443614210554434, 3.4490491092697146, 3.455194720020135, 3.4621514536921083, 3.4699744063635283, 3.478650599396433, 3.4880786369688623, 3.498056312785934, 3.5082807528653306, 3.5183616774950015, 3.5278444692441275, 3.5362387278612637, 3.54304889787777, 3.5478043175155514, 3.550086163846889, 3.5495489248557788, 3.545934846200889, 3.5390812529747673, 3.5289221942975226, 3.5154870505575495, 3.498899580719715, 3.479381621732297, 3.4572663981004195, 3.4330269966973264, 3.4073255550243777, 3.3810651681159194, 3.3553330546269504, 3.3312434657419137, 3.30975975830525, 3.2914985638159515, 3.2766078054753125, 3.264851259999966, 3.255779531513793, 3.2488639675978526, 3.243584354129244, 3.2394814486285193, 3.236184247036724, 3.233419769238856, 3.231011268339664, 3.228869135553262, 3.2269773684250027, 3.225377344537356, 3.2241499289488917, 3.223396771482046, 3.223221965356508, 3.422120513865964, 3.4257941096502877, 3.4296195243359975, 3.433688744690495, 3.438116043978475, 3.4430329839421745, 3.4485794299689214, 3.454890139288066, 3.4620767780327717, 3.4702057849104944, 3.479273772153145, 3.489184576800365, 3.4997346568510896, 3.5106128204406124, 3.521414803209649, 3.5316680166927044, 3.5408612284158947, 3.548475816564059, 3.5540164006244614, 3.5570386990945724, 3.557172402763349, 3.5541374481231633, 3.5477533369528604, 3.5379425579483326, 3.5247303164030837, 3.5082437040017926, 3.488714383734873, 3.4664898823045216, 3.442059415625674, 3.4160994263236635, 3.389516060865379, 3.3633877016648595, 3.33881262823785, 3.316733546061486, 3.2977568025729784, 3.2820497042947765, 3.2694097798508883, 3.2594187496127085, 3.251573388727679, 3.2453735469379406, 3.2403753857655166, 3.2362194084451925, 3.232641093937655, 3.2294700722938736, 3.226622087511167, 3.2240864970604006, 3.221910820032334, 3.220183065850155, 3.219012487609306, 3.2185099952334055, 3.4213708431331553, 3.425012237610904, 3.4288185112983185, 3.4328865676906286, 3.4373365978060706, 3.4423072353206714, 3.447946738373457, 3.454399693321607, 3.4617889226303693, 3.4701926653716764, 3.47961824801633, 3.489976308769317, 3.501063593855114, 3.5125622655085866, 3.5240560919379287, 3.53505689620557, 3.5450350029750726, 3.5534506315954135, 3.559784685224749, 3.5635672756643744, 3.5644020108967354, 3.561984401954836, 3.556113735022913, 3.546698947899406, 3.5337601302828228, 3.517428310726665, 3.497947394662248, 3.4756834300994663, 3.4511472127515805, 3.4250326988949436, 3.3982433348896524, 3.3718341654165314, 3.3468705774017646, 3.324260499747824, 3.3045934640771653, 3.288056843354754, 3.274489939018142, 3.263516311453529, 3.2546675207246345, 3.247470542355631, 3.241501867579535, 3.2364166835910115, 3.2319607499056335, 3.2279708976409003, 3.2243683813675186, 3.221147729992174, 3.2183623646191992, 3.2161073532439453, 3.2144996484063095, 3.2136570883660576, 3.420538318262897, 3.424144122852697, 3.4279265474116745, 3.4319867690525623, 3.436450189503793, 3.441461770997005, 3.4471774221372726, 3.4537508911965054, 3.4613157197419913, 3.4699620007528194, 3.479708567265995, 3.4904742968067537, 3.502057908682376, 3.5141368561993342, 3.5262854358992772, 3.5380028230334872, 3.5487437929106416, 3.5579497124970696, 3.565079053206888, 3.5696363283266894, 3.571197798061235, 3.5694323189339756, 3.564116345120356, 3.5551429720394117, 3.5425258875503225, 3.5264002850758356, 3.507024279568621, 3.4847858851650115, 3.4602208997369606, 3.4340405024228806, 3.407140752089671, 3.3805438649280615, 3.3552702649697483, 3.332184521692046, 3.311855797250843, 3.294489786795107, 3.279970239597648, 3.2679694975242146, 3.2580615097305627, 3.2498067611110066, 3.242806812827806, 3.2367347543513487, 3.2313485899189165, 3.226493348704907, 3.222096112191297, 3.218156517532149, 3.214733752936228, 3.211929974058462, 3.2098700662715447, 3.2086790364906927, 3.419638164049547, 3.4232067821689594, 3.426962555644823, 3.4310102810523078, 3.4354798431443507, 3.4405217438684415, 3.44629870138662, 3.4529727638299184, 3.4606874154084792, 3.469544167663586, 3.4795736469534835, 3.490704122177484, 3.502738000847385, 3.515350317329124, 3.528108963527742, 3.5405039723800904, 3.551977914030739, 3.5619559535088086, 3.569875677975321, 3.5752161958525965, 3.5775252469093215, 3.5764427871977924, 3.57171969426443, 3.5632306960519458, 3.5509814483798126, 3.5351110450399816, 3.515893006060324, 3.4937393509093138, 3.4692118659430196, 3.4430368361240196, 3.4160994129361955, 3.3893839668329013, 3.363859577066599, 3.3403435209938874, 3.3193827396770086, 3.3011984111725026, 3.285717749956542, 3.2726649553104425, 3.2616615268073774, 3.2523066243809917, 3.2442311236525896, 3.237129126426772, 3.230772935112764, 3.225016946945615, 3.2197945680097355, 3.2151106274158714, 3.211030057970763, 3.2076622436430755, 3.2051403663126097, 3.2035969595095293, 3.4186849546915816, 3.4222164895106384, 3.425944652305068, 3.4299772093966916, 3.434447801483125, 3.439511666187057, 3.4453374340649408, 3.452094449641058, 3.459935069347599, 3.468971274500075, 3.479245099792734, 3.4906948602321926, 3.503128367749458, 3.5162210131113234, 3.5295379874532804, 3.542564189707286, 3.5547336776463125, 3.565458334520038, 3.574156653835956, 3.580282756171127, 3.5833548628609364, 3.5829818690460193, 3.5788862975656976, 3.570921805436735, 3.5590840165940754, 3.543515016876606, 3.5245038634499792, 3.5024869656730377, 3.478051205166402, 3.451935337591492, 3.425011431144306, 3.3982245363538635, 3.3724909010318735, 3.348580141052874, 3.327016327908968, 3.3080329869780725, 3.291597688200491, 3.2774864108474704, 3.2653707669766767, 3.254892156265093, 3.245714199018568, 3.237554806733731, 3.2302026129836907, 3.223522682390399, 3.217455418798933, 3.212011077021396, 3.2072604148043284, 3.2033202712922035, 3.2003325855761604, 3.198437854582907, 3.417692257623067, 3.4211883497409934, 3.4248896324323046, 3.4289062044486798, 3.4333747472954594, 3.4384544336166494, 3.4443188848050013, 3.4511436505398545, 3.4590886733992114, 3.4682750065193977, 3.4787549636029973, 3.490476847138007, 3.503255562198093, 3.5167702365167144, 3.5305876607160007, 3.5441919614614465, 3.5570125919937197, 3.568451269082442, 3.577909417498659, 3.5848168618231644, 3.588661575124543, 3.5890194235312465, 3.585581855944856, 3.578178627615289, 3.566792939086481, 3.551568211133936, 3.532807995939961, 3.5109719837461215, 3.486670128487549, 3.460651223655734, 3.4337734612238195, 3.4069437635720967, 3.3810276038230276, 3.356749107543009, 3.3346098324205466, 3.3148526985165656, 3.297481484616966, 3.282321654242831, 3.269095176385378, 3.257487535776392, 3.2471974909181975, 3.2379690524237352, 3.229609063944161, 3.221994613417319, 3.215073924472127, 3.2088630537446368, 3.203438747351741, 3.1989255677345665, 3.1954747054819777, 3.193235062952313, 3.416672329517782, 3.4201359334313803, 3.4238125271445092, 3.427813917475931, 3.4322791238773918, 3.437370459758906, 3.443265602657082, 3.4501451602137094, 3.458175233879683, 3.4674842343409202, 3.4781329993362866, 3.4900790053916975, 3.5031458691738466, 3.517020368531589, 3.5312755692361795, 3.545399333809965, 3.558820505983956, 3.5709338915906876, 3.5811261149669704, 3.588803737031045, 3.5934241252582124, 3.594528452730653, 3.5917745269933223, 3.5849653021349086, 3.574068782659403, 3.5592273060861785, 3.5407567828891815, 3.5191379376982956, 3.495001236956163, 3.4691035979072584, 3.4422897826764767, 3.4154316493509933, 3.389348228709571, 3.3647219982129752, 3.342033209188712, 3.3215316804124995, 3.303252935043552, 3.28706826065012, 3.272748412805385, 3.2600232061855654, 3.2486278126224555, 3.2383339845333525, 3.228968374562229, 3.220421421411336, 3.2126501008811887, 3.2056767807113147, 3.1995844233204918, 3.194505565923153, 3.1906010821116046, 3.188028611846061, 3.4156358807214158, 3.4190709942238047, 3.4227262626551553, 3.426714584895245, 3.43117661953156, 3.436277022448876, 3.442196570129737, 3.4491197271710674, 3.4572172266159393, 3.4666229464703164, 3.4774041806666447, 3.489526354197747, 3.5028232622814626, 3.5169933233976347, 3.5316205500107314, 3.5462009921082482, 3.5601668711978194, 3.5729094479033736, 3.5838030802192717, 3.5922325109293487, 3.5976246288681692, 3.5994846726792105, 3.597434490516317, 3.5912473409921475, 3.5808729306670086, 3.5664494119662242, 3.5483020238836307, 3.526929520299426, 3.5029801620555148, 3.477217658082383, 3.450474750770871, 3.4235924742889075, 3.3973490294176902, 3.3723900707365284, 3.3491764300301163, 3.3279629142476757, 3.308812463045733, 3.291637840375155, 3.276255755150685, 3.2624392669841704, 3.2499601681162487, 3.23861888678537, 3.2282631071273973, 3.218797833108671, 3.2101897898071297, 3.202468293014789, 3.1957228086961234, 3.190094023423077, 3.185752732477112, 3.1828653749087, 3.4145919220936345, 3.4180032866983687, 3.421641444807734, 3.4256197739640526, 3.430079865844787, 3.4351879005280512, 3.441126755520005, 3.448083486561796, 3.4562318546873088, 3.4657092696798033, 3.476587485202016, 3.4888387897559334, 3.5023083716067287, 3.5167097063356945, 3.531641993950926, 3.5466136816329072, 3.5610642712541556, 3.574384931595613, 3.585940573441897, 3.595096044300429, 3.6012484756667797, 3.6038664805050127, 3.6025339842931734, 3.5969917459499725, 3.587167823050764, 3.573192534573708, 3.55539677867677, 3.534293899562751, 3.510547280175928, 3.484926585291657, 3.458254573777162, 3.431346288367507, 3.4049452637081448, 3.3796656216101626, 3.355951155569477, 3.334060365228063, 3.3140796877017813, 3.2959588260660992, 3.2795568517150815, 3.2646879908934667, 3.2511599414663603, 3.2388020459795412, 3.227483809949064, 3.2171258285292934, 3.2077055838581954, 3.199260097728351, 3.1918856999678655, 3.1857312737222117, 3.180977421987413, 3.177798972544213, 3.413547704660145, 3.4169404972366317, 3.4205662840474838, 3.4245383083530454, 3.428998373931906, 3.434113335319301, 3.4400671218177017, 3.4470480533459176, 3.45523128670071, 3.464755930099982, 3.475696568296663, 3.4880316989065316, 3.5016188019139607, 3.5161888700969697, 3.531359751738534, 3.5466560619466274, 3.5615283040561647, 3.575371054634497, 3.5875428778080956, 3.5973911616444094, 3.6042846864460047, 3.607655434281436, 3.6070479168888094, 3.602167761281032, 3.592917858129007, 3.57941666602883, 3.5619966970699535, 3.5411822684657923, 3.5176493447353048, 3.4921730453345003, 3.4655684644995066, 3.4386296060041697, 3.4120715369550356, 3.386482223782019, 3.36229111975781, 3.3397597048765784, 3.3189945515300017, 3.2999779214992233, 3.2826073190861993, 3.266735406425758, 3.2522043509848073, 3.2388720265477104, 3.2266301041763272, 3.2154155472956027, 3.20521754765974, 3.196081686208829, 3.1881116090370347, 3.1814642806094593, 3.176329470616735, 3.172889300380384, 3.412508757887807, 3.4158882938885626, 3.4195066654807196, 3.4234763748271124, 3.4279387030787585, 3.4330602980455702, 3.439025047540968, 3.446021179523821, 3.454223666565146, 3.463771720855157, 3.4747415986095325, 3.487117716590314, 3.5007704120067316, 3.515449694453777, 3.530794571555976, 3.546348973104744, 3.5615778188612914, 3.5758825670686356, 3.5886187807215744, 3.5991193302929645, 3.6067267797034575, 3.6108372911322966, 3.610955082317031, 3.606748243194477, 3.5980908771984152, 3.5850853671961156, 3.568061674373769, 3.547551487236856, 3.5242409578180145, 3.4989103060553584, 3.4723692500984966, 3.4453954598731853, 3.418681409024137, 3.3927941051465385, 3.368151519640507, 3.3450179181604724, 3.32351726708319, 3.3036603902104895, 3.285379280367518, 3.2685619604939937, 3.2530831300080414, 3.238828305245989, 3.225711249298853, 3.2136857851422285, 3.202753636538156, 3.1929698239356115, 3.1844458348884777, 3.1773464017285855, 3.1718691419542933, 3.168201532943343, 3.411479026994306, 3.4148504945259264, 3.4184663589310627, 3.422437796700328, 3.426904830278905, 3.4320330003767263, 3.4380050394006503, 3.4450077488551263, 3.4532144717448716, 3.462763236476702, 3.473731210427783, 3.4861086095641154, 3.4997788635861053, 3.514511699963607, 3.5299688589561686, 3.5457159945936847, 3.5612354298544293, 3.575938860877301, 3.5891823767599056, 3.60028773285566, 3.6085741166970866, 3.613403571149814, 3.614239908255553, 3.610711513995427, 3.6026600531130515, 3.5901676477778275, 3.5735576577291894, 3.5533656978036303, 3.5302858350318695, 3.5051029996233143, 3.4786235288825935, 3.4516129437395353, 3.424746432015373, 3.398574874176081, 3.373507648929856, 3.349812049953601, 3.3276273247483497, 3.3069893811072206, 3.287860975459766, 3.2701623285985173, 3.253798444521294, 3.2386812257563604, 3.2247460984982177, 3.211963943937417, 3.2003496392326674, 3.1899684331320644, 3.180940136420558, 3.1734366579438307, 3.1676614038530513, 3.163804423090518, 3.4104611032636805, 3.4138293458132805, 3.417447355845018, 3.4214244484960425, 3.425898672519825, 3.4310335616531646, 3.4370095882341847, 3.444010864610506, 3.4522078458148053, 3.4617363847910863, 3.4726740605391178, 3.4850167723802046, 3.498660957986649, 3.513396131811967, 3.5289075121562647, 3.5447841260582122, 3.5605281707607697, 3.5755647264290693, 3.589254040902998, 3.600910555532259, 3.6098335592294584, 3.615353509304562, 3.616894531645957, 3.614043425595596, 3.606605904294622, 3.5946398962496384, 3.5784584093540546, 3.558597788822844, 3.5357578197521895, 3.5107275552749746, 3.4843114500136694, 3.457266352737168, 3.430254755757072, 3.40381576123733, 3.3783529738244917, 3.3541373098312963, 3.331321782790796, 3.3099644895538582, 3.2900555996465064, 3.2715444780107568, 3.2543641012918667, 3.238451273990952, 3.223762383471823, 3.210285295540512, 3.1980484066458534, 3.1871277392782718, 3.177651637740334, 3.1697981692920636, 3.163773811188844, 3.1597677601596335, 3.409456532998947, 3.412825897717806, 3.4164503129012984, 3.4204367792483232, 3.4249207066161396, 3.4300627431001325, 3.4360400329240237, 3.4430328451970236, 3.4512076911006146, 3.4606974964522963, 3.4715798828887325, 3.48385621968054, 3.4974355653104223, 3.512126785593008, 3.527638626280957, 3.543584414258637, 3.5594881306428308, 3.5747910931315454, 3.5888613621414582, 3.6010101958283247, 3.6105210325604307, 3.616695949249481, 3.618920723321246, 3.6167392104181246, 3.6099180892444127, 3.5984875824751783, 3.582747021252246, 3.5632305835642093, 3.540641593971128, 3.5157723126716562, 3.4894261716515893, 3.4623540071676016, 3.4352094133257065, 3.4085235158584206, 3.3826968187576796, 3.3580047245863445, 3.3346130387145574, 3.3125997453362754, 3.2919795377107794, 3.272728116900479, 3.2548041412459066, 3.2381677277537495, 3.2227953320242526, 3.208691488585457, 3.1958981811023617, 3.1845023551775657, 3.1746405690813058, 3.166495455106368, 3.1602733934870355, 3.1561590272520155, 3.40846617927263, 3.411840446665236, 3.415475072644422, 3.419474404952504, 3.4239706284328473, 3.429120667225682, 3.435097329648911, 3.4420760191053024, 3.4502184401397384, 3.4596540139156065, 3.4704600738188534, 3.482643100592387, 3.496124108997689, 3.510730469172684, 3.526193926218823, 3.5421523768780903, 3.5581529175329814, 3.5736555878788767, 3.5880398339613833, 3.600618091183626, 3.6106624685522175, 3.6174503737623667, 3.6203310167948475, 3.618804694031219, 3.612596658685198, 3.601706476968479, 3.586416992063785, 3.56725763019215, 3.5449330287941114, 3.5202373113908147, 3.4939730325755, 3.466886824246607, 3.4396263768494157, 3.4127180764406724, 3.3865618041303986, 3.361438502266198, 3.337526259619711, 3.3149212073661505, 3.2936601635759812, 3.273742681577092, 3.2551509503037286, 3.237866795110334, 3.2218857175136275, 3.207228380094156, 3.1939500801367617, 3.1821483198162683, 3.171966865484994, 3.163590723030654, 3.1572228091859458, 3.1530396081148226, 3.407490595979472, 3.4108730016979587, 3.414521212623246, 3.4185367153597355, 3.423047985654074, 3.428207448611605, 3.4341826560277693, 3.44114326989975, 3.4492454983720666, 3.4586147990218112, 3.4693278710064264, 3.481395793181418, 3.494750628853672, 3.5092370676984364, 3.5246088462861254, 3.5405281117819545, 3.5565658235635853, 3.57220277850499, 3.586833168157852, 3.59977504017952, 3.6102940177482012, 3.6176469816246803, 3.621148901469967, 3.6202566841332495, 3.6146525714054625, 3.6043032143998945, 3.5894727340333406, 3.570683507815784, 3.5486391294767303, 3.5241337468811738, 3.4979684574405954, 3.470886683852096, 3.4435324542819195, 3.4164301078428716, 3.389981155377285, 3.364473248275131, 3.3400966281848077, 3.316964330369956, 3.2951333716067626, 3.274625024437095, 3.2554430485174706, 3.2375894103502856, 3.2210775366969338, 3.20594344893979, 3.1922551011171416, 3.180119617119371, 3.1696862948375917, 3.1611398676654776, 3.1546764644745164, 3.1504611911610714, 3.4065303601215873, 3.4099237039789356, 3.4135885427277803, 3.4176234104203305, 3.422152701873124, 3.427323666895076, 3.433297804630864, 3.4402383189089845, 3.4482953834747088, 3.45759011342375, 3.4681981907932844, 3.480134639523768, 3.493341463586533, 3.5076792152195235, 3.522922216693505, 3.538756017476806, 3.5547755992286323, 3.5704840125945414, 3.585293177604987, 3.598531060688572, 3.609461796364926, 3.617326319630235, 3.6214084139708573, 3.621122628010796, 3.6161074621893126, 3.6062951640340506, 3.591929476925908, 3.573523624596461, 3.551777560541611, 3.52748309033813, 3.501438609316141, 3.474384621466446, 3.4469630819419788, 3.4196984840325113, 3.392995982351705, 3.3671511524338253, 3.3423665398907487, 3.318771251490046, 3.2964409955219454, 3.275416965227213, 3.255722731604838, 3.2373788875443323, 3.2204155702525545, 3.204883147523151, 3.190861172014924, 3.178464920830903, 3.1678470336802, 3.1591891135684262, 3.152677435662106, 3.148463084386059, 3.4055863061511733, 3.408993117309677, 3.4126774445101633, 3.41673485519746, 3.4212854006505053, 3.42647062355726, 3.432445342701637, 3.4393657565190017, 3.4473756010355006, 3.456591328693429, 3.467087185607231, 3.4788813798956038, 3.4919245995001673, 3.5060915950917244, 3.521175545448407, 3.536884081772596, 3.5528357747696258, 3.568556793425381, 3.5834792096469212, 3.5969448546882896, 3.608221341408069, 3.6165386712570093, 3.6211533844779087, 3.6214397638889153, 3.61699282654085, 3.6077097321457736, 3.593812660766209, 3.5758035640490995, 3.554375777698983, 3.5303158853682954, 3.504417804111509, 3.4774188749678525, 3.449960056621313, 3.4225677784570867, 3.395652610354179, 3.369519245879564, 3.3443828661810793, 3.320388124997709, 3.2976282545891262, 3.2761628569737753, 3.256033733001584, 3.2372786292802553, 3.2199430755388105, 3.2040905248067264, 3.1898106944253453, 3.1772251237282267, 3.166487315357648, 3.1577729284288596, 3.1512557575171285, 3.147070901862435, 3.4046596256515267, 3.4080823320113542, 3.411788972753686, 3.4158721704397745, 3.420447470518543, 3.425650356318363, 3.4316285420128954, 3.4385308514001798, 3.446494304487428, 3.455630423780711, 3.4660115817406303, 3.4776583444249463, 3.4905287365124793, 3.5045099045562185, 3.519411906371629, 3.5349627215825246, 3.550803489842071, 3.5664836479472375, 3.5814571022836565, 3.5950828884527817, 3.6066368091126275, 3.6153432792827234, 3.6204365393561595, 3.6212540723763027, 3.617348945153416, 3.60858338076867, 3.5951570268168433, 3.5775581037909423, 3.556469826232087, 3.532670248282836, 3.506946706073415, 3.480032810938561, 3.452569245462632, 3.4250858146651244, 3.3980000297337902, 3.371626808714084, 3.346194377810482, 3.3218626117887218, 3.298741345288959, 3.2769072964603048, 3.25641905062549, 3.2373300548430604, 3.21969980327227, 3.203603342153823, 3.1891388148100974, 3.1764318654441146, 3.1656343185315485, 3.1569133346621485, 3.150428162584141, 3.146296654940741, 3.403751832735028, 3.407192886345151, 3.410924728903992, 3.4150370733669093, 3.4196408896211294, 3.4248654363550672, 3.430851113960961, 3.437739183702741, 3.4456597939632423, 3.454719329227784, 3.4649878587842684, 3.476487463504711, 3.4891821297871397, 3.502969532743731, 3.5176744650733456, 3.533043181268658, 3.5487378120473183, 3.5643304441227803, 3.579297605986834, 3.593018029493968, 3.604779889850069, 3.613807484603955, 3.6193187040234394, 3.6206194192547554, 3.61722399269998, 3.608960750804965, 3.5960056692331896, 3.578830045375847, 3.5581028668030514, 3.534590100649109, 3.509070327432202, 3.4822727592927154, 3.4548383113528884, 3.4273013241753385, 3.4000875201601835, 3.373522993726929, 3.3478494032113693, 3.3232416079633555, 3.299825271677755, 3.277693080520575, 3.2569190465105655, 3.237570860430811, 3.219720447820937, 3.2034527700676065, 3.1888724562161377, 3.176106998551092, 3.1653041327921443, 3.156620373561258, 3.150198971554949, 3.1461399270850863, 3.4028646300726977, 3.4063265657086292, 3.4100865949473387, 3.4142315682187223, 3.4188678963848744, 3.4241186175291083, 3.4301168102993893, 3.4369961609101805, 3.4448799138613038, 3.453869179711087, 3.46403133465572, 3.475389163690831, 3.487911275463695, 3.501504018312507, 3.516004699006931, 3.5311755251375683, 3.5466975484014736, 3.562164120344016, 3.577074186474643, 3.5908276158601597, 3.602728322929189, 3.61200576789215, 3.6178682830876734, 3.6195972558577054, 3.6166737603153485, 3.6088942224351213, 3.5964092196646247, 3.5796689136952384, 3.5593234443628265, 3.536123148212877, 3.510835857317228, 3.4841857916100305, 3.4568144956929627, 3.429261757232905, 3.401962498195978, 3.3752547184262767, 3.3493937787948864, 3.3245692747158984, 3.3009219814613915, 3.2785594778062657, 3.2575698871476835, 3.2380336689633156, 3.2200335629736783, 3.2036626470166887, 3.189030009966136, 3.176262787681429, 3.1655024888280954, 3.1568933200367337, 3.1505616797544516, 3.1465896722494224, 3.4019997246599054, 3.4054851538932343, 3.4092764254037458, 3.413457593316672, 3.418130604588728, 3.423412420300237, 3.4294289598089414, 3.43630648014659, 3.444161410788087, 3.4530895376370574, 3.463155222929153, 3.4743812222409654, 3.4867395211786048, 3.500143373112299, 3.514440397116477, 3.5294062963227013, 3.544738590411315, 3.5600498130930744, 3.5748601162759126, 3.5885907722005896, 3.6005637460664293, 3.6100184167222555, 3.616160849741664, 3.618256885588779, 3.6157620598964932, 3.6084438813789017, 3.5964250398417557, 3.580129404123879, 3.5601834357287556, 3.537318599245662, 3.5122903497485383, 3.4858174895649787, 3.458542508527991, 3.431011293990199, 3.403668631982444, 3.3768648667078076, 3.3508691319690875, 3.3258854110138243, 3.3020688495144213, 3.27954085510563, 3.2584023547002743, 3.238745079941991, 3.220660917500903, 3.2042492176059367, 3.1896215283064016, 3.1769025976749585, 3.1662259288996824, 3.157722261417114, 3.1515008228181403, 3.147626225505163, 3.401158636370256, 3.404670191574134, 3.408495760305122, 3.4127166923228724, 3.4174306337116023, 3.422748719596126, 3.428790005425718, 3.435673597442575, 3.4435093110928414, 3.452387649326679, 3.4623697304715098, 3.47347765897751, 3.4856856941851304, 3.4989123799360557, 3.513013558707672, 3.527775961782339, 3.5429108906938063, 3.5580474258001686, 3.5727248005199463, 3.5863847710837047, 3.598368477250976, 3.607929181323449, 3.6142780260579985, 3.6166754366265437, 3.614560977835374, 3.6076771281581084, 3.5961158509658175, 3.5802692516730428, 3.56073554680433, 3.5382246122323133, 3.51347831700254, 3.48720976725576, 3.4600625874271476, 3.4325891074415162, 3.405244263530623, 3.3783908321398597, 3.352311523286871, 3.3272241918704357, 3.303297527936851, 3.280665670687161, 3.259441028663573, 3.2397250960552237, 3.221617231372828, 3.2052212422012203, 3.1906492538655273, 3.1780218523364656, 3.1674631557213755, 3.159089752701014, 3.152993829658064, 3.1492232459788223, 3.400342527625347, 3.4038827718057427, 3.4077455880768164, 3.4120097412235855, 3.4167687938968823, 3.4221283833724723, 3.4282010919104913, 3.4350992550091015, 3.44292637064255, 3.4517677910250515, 3.4616812618039776, 3.47268774667674, 3.4847628490120197, 3.4978289920488845, 3.511748346480592, 3.526316319525167, 3.5412552496089997, 3.5562077838789357, 3.5707293946925702, 3.5842803363113993, 3.5962208550103334, 3.6058211140097063, 3.61230427506523, 3.61493567660585, 3.6131490684335237, 3.6066664633610617, 3.5955469397167077, 3.580146137362385, 3.561030255728255, 3.5388855054541115, 3.514439311117038, 3.488398835790265, 3.4614087995964056, 3.4340279332291184, 3.4067211757870224, 3.3798634261333076, 3.3537504612414186, 3.3286132787447604, 3.304633162710687, 3.281955826048121, 3.260703815644456, 3.2409868832052435, 3.222910220427245, 3.20658037163872, 3.192108346241412, 3.179609098824248, 3.169196382401509, 3.1609723726870236, 3.1550126991669996, 3.1513494419679526, 3.399552068786277, 3.4031233844758324, 3.4070261679708147, 3.411336742584353, 3.416144843968333, 3.4215509890705333, 3.427661738199244, 3.434583105241412, 3.442412639865503, 3.4512307543947327, 3.4610917910812193, 3.4720152186665265, 3.4839772394091506, 3.496902974685136, 3.5106592780818886, 3.5250481009284087, 3.5398001868518225, 3.55456866795518, 3.568921975812392, 3.5823360508132063, 3.594189101292563, 3.6037701859607223, 3.610320584376693, 3.6131199900846047, 3.611605707370061, 3.6054842407866583, 3.594781384462874, 3.5798134897176017, 3.5611122601685623, 3.539338859467785, 3.5152056319146343, 3.4894134268524812, 3.4626076732448103, 3.4353530027223287, 3.4081237366185557, 3.381306165180578, 3.3552082913406736, 3.330073294706694, 3.3060939618555194, 3.2834263521021496, 3.2622017912910666, 3.242536811859331, 3.2245408780684497, 3.2083216964961725, 3.1939877014225173, 3.1816470693605767, 3.1714025822922594, 3.1633420954825673, 3.157525432665932, 3.15397002190893, 3.3987873445408274, 3.4023918120854004, 3.406336912941045, 3.4106966894400585, 3.4155573294270374, 3.4210146315731613, 3.4271696147703388, 3.4341224574785687, 3.4419651756389267, 3.4507735105464277, 3.4605984525391045, 3.471457743168038, 3.4833276126274386, 3.496134928237983, 3.509749853980092, 3.5239790420800388, 3.538559262972575, 3.553151184006791, 3.5673328015707613, 3.580592447171495, 3.5923243020447657, 3.601837269715075, 3.608395577365162, 3.6113009612496008, 3.610001986203816, 3.6041947689674645, 3.5938736864135543, 3.5793155448363976, 3.5610167475955397, 3.539612773006056, 3.515800359902319, 3.4902734154854325, 3.4636772491631973, 3.4365813916423162, 3.409468443474601, 3.3827349409629206, 3.356699949719584, 3.3316176452112494, 3.3076910884133808, 3.285085395606196, 3.2639393113770567, 3.244374726589796, 3.2265039309218344, 3.210434401184889, 3.1962707943441044, 3.1841136792001223, 3.1740545938265314, 3.1661674518205274, 3.1604972130505957, 3.1570478709903407, 3.398047801189208, 3.4016870746756664, 3.4056763300713926, 3.4100874968717125, 3.4150035009904514, 3.420515827224509, 3.4267204353981318, 3.433712161707389, 3.441577919285486, 3.450389078562225, 3.460193385731205, 3.471006717415379, 3.4828049057229, 3.49551581441721, 3.5090118062612023, 3.523102702347724, 3.537529261369552, 3.5519570549693587, 3.565970448150813, 3.5790667947221015, 3.5906537741088433, 3.6000601100912815, 3.6065761965054812, 3.6095312330522504, 3.6083908092303467, 3.6028457883404075, 3.5928631378088793, 3.5786825185194933, 3.5607660453988754, 3.539723638722345, 3.5162359511097763, 3.4909889887596566, 3.4646266360169338, 3.437721824262645, 3.4107638794872344, 3.384158064837797, 3.3582330603339274, 3.3332526552892774, 3.309428843069277, 3.286934465456471, 3.2659143466867064, 3.246494394071772, 3.2287884164828218, 3.2129024730339877, 3.198936503009209, 3.1869829336791313, 3.1771220713370396, 3.1694144889599136, 3.1638913525975516, 3.1605444816022343, 3.3973322319230017, 3.40100741963847, 3.4050420138571855, 3.409505996885521, 3.414479310220992, 3.4200495121793217, 3.42630796402014, 3.4333446327894093, 3.441241747485051, 3.450066609650097, 3.4598638535825184, 3.470647411253124, 3.482392393412993, 3.4950270681607334, 3.5084251061389895, 3.522398257536452, 3.5366896002130725, 3.5509674175928128, 3.564819705299374, 3.5777498149807796, 3.5891764235109167, 3.5984472948632655, 3.6048804529595055, 3.6078355439806264, 3.606799056854254, 3.6014616368600216, 3.5917685334207934, 3.5779269253222123, 3.560367296043058, 3.5396748306344055, 3.5165136227696276, 3.4915604852324944, 3.46545612856438, 3.4387749513436545, 3.412011073789139, 3.385576663987293, 3.3598083436619155, 3.3349779854281127, 3.311305095145586, 3.288968895286213, 3.2681189968913795, 3.2488840851535765, 3.2313783416879547, 3.2157054327823658, 3.2019598927192865, 3.190225738589105, 3.1805722927631055, 3.1730475544686194, 3.167670044441907, 3.1644206769275245, 3.3966387958026867, 3.4003503511378756, 3.404430686556494, 3.4089479904836972, 3.4139794758520092, 3.419609128605739, 3.425924130494444, 3.4330100094575253, 3.4409446908976142, 3.4497916825533896, 3.4595926306814064, 3.470359461701123, 3.4820662975493204, 3.4946413222975945, 3.5079587891621395, 3.521831385092927, 3.536003195077985, 3.550143518346526, 3.563841884914213, 3.576605315196469, 3.587861409678705, 3.596975775468395, 3.603293909651096, 3.6062065995299912, 3.60522340956219, 3.6000395748349923, 3.590585419507329, 3.577041887962199, 3.5598116916321403, 3.539456612205498, 3.5166236909218185, 3.4919789756416297, 3.4661579061845176, 3.4397340891127643, 3.4132042367471396, 3.386985391006634, 3.361420294141861, 3.336787281322806, 3.3133119166292193, 3.2911784776752717, 3.2705401407324053, 3.2515272523033754, 3.234253390509558, 3.2188190647125943, 3.205312951769506, 3.1938106198540384, 3.1843708440855325, 3.177029934679056, 3.1717949554512668, 3.168637168420436, 3.3959650654786695, 3.399712693322464, 3.4038382790367794, 3.4084083494324275, 3.4134976120839187, 3.419186788527842, 3.4255592433910116, 3.4326964343349564, 3.4406723043360827, 3.4495467908511586, 3.4593586383366457, 3.47011769010472, 3.481796824576157, 3.4943237068596176, 3.5075725586991076, 3.5213562084656114, 3.535418762208217, 3.549429350614111, 3.562977682687856, 3.575573027213498, 3.5866505730104983, 3.595592515877694, 3.601770466881333, 3.604605242542799, 3.6036302739974744, 3.598549793863572, 3.589286418832666, 3.5760018627991617, 3.5590755345696294, 3.5390473965787628, 3.5165469009606376, 3.4922275738030453, 3.466717274236082, 3.4405863701123485, 3.414331816891147, 3.3883733933249993, 3.3630580739947824, 3.3386690071862692, 3.3154363715244823, 3.2935482256120707, 3.273160182693146, 3.2544032689449685, 3.2373896556909862, 3.2222161324438097, 3.208965277084647, 3.1977043635453275, 3.188482202477122, 3.1813243779110563, 3.1762276955380053, 3.1731549844562363];\n",
       "const lower_is_better = false;\n",
       "const metric = \"log_eval\";\n",
       "const rel = false;\n",
       "const sd = [0.10687975418070149, 0.10488411957232108, 0.10354514479473793, 0.10293432431628977, 0.10306030468788845, 0.10386469726591983, 0.10523161791667951, 0.1070077924683107, 0.10902663804991847, 0.11112980275821034, 0.1131822448966083, 0.11507995811217314, 0.11675148648318054, 0.11815516797650097, 0.11927399288280832, 0.12010955208780995, 0.12067609856623494, 0.1209953855165047, 0.12109267969778831, 0.12099412568851989, 0.1207254059440828, 0.12031139713279554, 0.1197763179886107, 0.11914378892171201, 0.11843635946379727, 0.1176744160009529, 0.11687485324013026, 0.11605026062853314, 0.1152093889480982, 0.11435918652172682, 0.11350785124270152, 0.11266753784764698, 0.11185510299641303, 0.11108988041374829, 0.11038881921081173, 0.10976079015874467, 0.10920268951985646, 0.10869964239295504, 0.10823021475734235, 0.10777571040567617, 0.10733111664786026, 0.10691454721090561, 0.10657218341408783, 0.10637658946919454, 0.10641773618125411, 0.10678797992540938, 0.10756425744449909, 0.10879211856271497, 0.11047604509495595, 0.11257850918018829, 0.1041807587963028, 0.10200962645521981, 0.10054852624484974, 0.09987878980452666, 0.10001080367519001, 0.10087889133995608, 0.1023526463125773, 0.10426069112523305, 0.10641862160165735, 0.10865330110978944, 0.11081916567976509, 0.11280593933165269, 0.11453944616437521, 0.11597791764398226, 0.1171059500986671, 0.11792769421022789, 0.1184603205242805, 0.11872842482112039, 0.11875978650560125, 0.11858268244822111, 0.11822470992812889, 0.11771277181008749, 0.11707359518440226, 0.11633402175533268, 0.11552045089817792, 0.11465727423309592, 0.11376479616319894, 0.11285769947304673, 0.11194522041682162, 0.11103360216912862, 0.11013021650594972, 0.10924753129686228, 0.10840461276805109, 0.10762459483557506, 0.1069283807836721, 0.10632692461042026, 0.1058156424214219, 0.10537408684865815, 0.10497211937873821, 0.10458136633507857, 0.1041888263383338, 0.10380870272746395, 0.10348883379517004, 0.10330918768923841, 0.1033715892779084, 0.10378208480608514, 0.10462980521401706, 0.10596794939499742, 0.10780237225195274, 0.11009076318756852, 0.10153785608719122, 0.09918710497799937, 0.09759798512751644, 0.09686222427065723, 0.09699223419947607, 0.09791491926115903, 0.09948498322878434, 0.10151268664495594, 0.10379589308252621, 0.10614712332159976, 0.1084109217290338, 0.11047136215573673, 0.11225201767200572, 0.11371127929617467, 0.11483542658044112, 0.11563110097905495, 0.11611821387142443, 0.1163239387082791, 0.11627822235726619, 0.11601106891916298, 0.11555158536790057, 0.11492840625369624, 0.11417072572391344, 0.11330894041730938, 0.11237403670762751, 0.11139542913581221, 0.11039785531384667, 0.10939878427126763, 0.10840806758637964, 0.10743084382431033, 0.10647307519420665, 0.10554729147493905, 0.10467525450056851, 0.10388514676629768, 0.10320340166116598, 0.10264424998914995, 0.10220180952496297, 0.10184899210124694, 0.1015448709293576, 0.10124884376687163, 0.10093750639958435, 0.10061934092213345, 0.10034289118383137, 0.1001954884834319, 0.10029154403996986, 0.1007519858662581, 0.1016793583209167, 0.10313534800506528, 0.10512743623275558, 0.10760827951680892, 0.09899053620868788, 0.09645876570299158, 0.09473672904567564, 0.09392681000198184, 0.09404373274394254, 0.0950071653337339, 0.09665711138977814, 0.09878588393987003, 0.10117434887915139, 0.10362163026176002, 0.10596331783406931, 0.10807856585740855, 0.10988912060685117, 0.1113536529608476, 0.11246000964828312, 0.11321705463218341, 0.11364708149328209, 0.113779416042428, 0.11364567839051916, 0.11327704328293567, 0.11270356401489746, 0.11195516363584232, 0.11106336230622015, 0.11006244632827283, 0.10898886795331708, 0.10787836013115457, 0.10676145973991714, 0.10565939572757531, 0.10458286002724458, 0.10353535748616868, 0.10252059790427748, 0.10155072913767309, 0.10065075432698666, 0.09985551321318499, 0.0991990663247662, 0.09870054073130309, 0.09835305148481853, 0.09812155273364935, 0.09795175718182128, 0.09778774525057003, 0.0975928496168327, 0.09736770722106593, 0.09716040440934434, 0.09706543562082137, 0.09721039784307603, 0.0977321901427345, 0.0987479356245666, 0.10032866040978158, 0.10248382042594492, 0.1051609730749573, 0.09657912543455995, 0.09386810451894397, 0.0920094755497169, 0.09111611441494392, 0.09120532583566243, 0.09219014233762156, 0.0938967965216666, 0.09610092569628949, 0.09856790557004609, 0.10108496638683233, 0.10347997917259277, 0.10562797503231174, 0.10744919053308634, 0.10890248607311681, 0.10997690884168931, 0.11068303409385359, 0.1110449694686729, 0.11109359373426136, 0.11086155060965984, 0.11038046905053737, 0.10968060835076492, 0.10879255596663288, 0.10774987776162294, 0.10659105587369141, 0.10535903315868675, 0.10409749030573534, 0.10284457483885585, 0.10162664122278417, 0.10045560385579634, 0.0993326488836414, 0.09825803311847357, 0.09724278652460472, 0.09631573936302155, 0.0955204484209738, 0.09490136925071521, 0.09448467613228106, 0.09426287480998864, 0.0941912668904177, 0.09419898206451607, 0.09421104827945477, 0.09417420668943563, 0.0940788534162098, 0.09397129767619225, 0.09395286421696884, 0.09416478374032791, 0.09476086282072871, 0.09587386636357215, 0.09758501287332133, 0.09990621606611247, 0.10278013346734137, 0.09434267380988257, 0.09145761353123251, 0.08946007549485596, 0.0884727165678379, 0.08851564284391959, 0.08949636462831384, 0.0912291824398317, 0.0934753515814782, 0.09598714128996476, 0.09854197997805399, 0.10096153336215781, 0.103117519881506, 0.10492881157184225, 0.10635409161020656, 0.107382932519888, 0.10802682380463513, 0.10831088503331289, 0.10826676682934062, 0.10792733348979865, 0.10732379204731264, 0.10648567676658605, 0.10544339972358874, 0.10423210096066977, 0.10289468630855067, 0.10148174515403097, 0.1000469216902493, 0.09863835545947737, 0.09728943652571356, 0.09601393970806324, 0.09480987135036095, 0.09367234872374422, 0.09261011503907841, 0.09165641795438606, 0.09086615938528034, 0.0902978251196926, 0.08998744360459687, 0.08992734665275508, 0.09006090136239223, 0.09029655194582592, 0.09053576534305921, 0.09070490363029887, 0.09078155189819402, 0.09080887699573399, 0.0908946364626711, 0.09119399630886074, 0.09187841290943324, 0.09309720699541883, 0.09494263307711129, 0.09742972462563407, 0.10049678593550197, 0.09231643464742284, 0.08926598237693263, 0.08712857042086432, 0.08603527931071639, 0.0860091540954118, 0.08695387035790758, 0.08867466837690126, 0.09092185318412002, 0.09343791292016476, 0.09599316638173662, 0.09840483804536217, 0.10054210953798744, 0.1023224018756052, 0.10370351540598625, 0.10467450800909071, 0.10524665885520858, 0.10544504223551934, 0.10530111739795035, 0.10484702569772526, 0.10411252891144876, 0.10312531015522558, 0.10191451631973619, 0.10051613330833717, 0.09897756254798139, 0.0973582802656151, 0.09572433296822219, 0.09413694824266798, 0.09263921352797454, 0.09124781373217275, 0.08995653516876906, 0.08875301864413299, 0.08764192112143569, 0.08666144296838038, 0.08588118194073206, 0.0853784188081776, 0.08520264328508645, 0.085346363672158, 0.08573781146351943, 0.08625944359031548, 0.0867837496924068, 0.08721253497308608, 0.08750800928203452, 0.08770897135336247, 0.08792927108451867, 0.0883382043301531, 0.08912540328533682, 0.09045747174140811, 0.09243852632606755, 0.0950875992415686, 0.09833960079898556, 0.09052913297633358, 0.08732500279631347, 0.08504790511412891, 0.08383529351484034, 0.08371316401209522, 0.08458361916300504, 0.08624677963990006, 0.08844660836988365, 0.090920098184743, 0.09343374800650171, 0.09580233647313723, 0.09789321569705028, 0.09962198997180975, 0.10094447597402942, 0.1018477569741105, 0.10234140809200848, 0.10244912765338333, 0.10220104558248085, 0.10162752276558187, 0.10075573498456282, 0.09961020449400433, 0.0982174451646396, 0.09661322552110216, 0.09484924468327585, 0.09299509253861454, 0.09113207859004475, 0.08933848492034153, 0.08767078701881079, 0.08615028485283857, 0.08476536004736161, 0.08349298309847214, 0.08233101763782243, 0.08132300234701759, 0.08055751228062666, 0.08013687390354657, 0.08012860597803087, 0.08052540660788043, 0.08123573222382836, 0.0821091234148805, 0.08298266053684238, 0.08372920349308652, 0.08429332870023062, 0.08470865529487419, 0.0850950228249302, 0.08563602355997156, 0.08653978107867982, 0.08799070065721355, 0.09010556082824535, 0.0929085062085521, 0.09633245032127795, 0.08900032544851141, 0.08565652668032729, 0.08324067406650215, 0.08189387888686422, 0.08164492776962548, 0.0823970988329267, 0.08395031593036681, 0.08604792331459435, 0.08842663595787759, 0.09085301654915047, 0.0931416285997274, 0.09515862581285033, 0.0968171207072616, 0.0980694001451653, 0.09889863665581311, 0.09931079428329628, 0.09932657386837554, 0.09897347887370075, 0.0982789611484989, 0.09726640552707755, 0.09595571658261033, 0.0943691175710556, 0.09254067634253837, 0.09052576506413627, 0.08840512688957962, 0.08627854215525427, 0.08424632867721397, 0.0823834319260359, 0.08071850454400267, 0.07923330326588476, 0.07788982471425746, 0.07667513644265643, 0.07563820344886577, 0.07489207777240736, 0.07457236226456841, 0.07477029659587789, 0.07547797133427177, 0.0765771898947844, 0.07787548393521147, 0.07916707528801792, 0.08029165330102897, 0.08117466958885633, 0.08184453437376998, 0.08242744096325527, 0.08312152918474101, 0.08415355458276166, 0.08572602986759315, 0.08796915324127337, 0.09091350880129852, 0.09449180966162823, 0.08773822088630791, 0.08426992418679399, 0.08171639671605928, 0.08021914158562295, 0.07980935440349757, 0.08039453687013316, 0.08178009383100274, 0.08371542139477102, 0.08594303742321452, 0.08823405777252025, 0.09040533971815863, 0.09232242117868451, 0.09389492739876514, 0.09506957675885738, 0.09582315637149265, 0.09615564779041483, 0.09608282339735129, 0.0956281276200185, 0.09481496623382923, 0.0936617476948108, 0.09218222836563435, 0.09039241354139163, 0.0883226880644414, 0.08603084453090218, 0.08360935307157015, 0.08117981618072295, 0.07887066853201401, 0.07678225469358171, 0.07495492984232148, 0.07336281771970088, 0.0719472300708037, 0.0706785940281769, 0.06961086197981262, 0.06888868808937108, 0.06869186065171543, 0.06914228279222602, 0.07022896011224357, 0.07179671746603729, 0.0735992363680071, 0.07537968357701055, 0.07694120644680955, 0.07819005997224383, 0.07915063318296224, 0.07995654345448791, 0.08082093377063826, 0.08198921140842426, 0.08368209988103445, 0.08604390100533006, 0.08911310202251962, 0.09282429115229189, 0.08673832065070246, 0.08316049067329237, 0.08046982764888852, 0.07880459823370828, 0.0781977548800523, 0.07856409110752034, 0.07972056679313975, 0.08142998265984754, 0.08344750963986584, 0.085553955326263, 0.08757135248607803, 0.08936522583347398, 0.09084040258725097, 0.09193544939939936, 0.09261767804012085, 0.09287818821320622, 0.09272556117402014, 0.09217764671123484, 0.09125274451745795, 0.08996324274409204, 0.08831526994843111, 0.08631648999732507, 0.08399107533134913, 0.08139712484255747, 0.07863853281363135, 0.07586180614919864, 0.07323061038319738, 0.07088000038634745, 0.06886887775633364, 0.06716343863381878, 0.06567686295139202, 0.06435447729435578, 0.06325389869503896, 0.06256072626754322, 0.06251352748015258, 0.06327304685791486, 0.06481946106601322, 0.06694507992244453, 0.06933472314540846, 0.07167240443720763, 0.0737233641436518, 0.07537683427585644, 0.07665600662631522, 0.07770387209615931, 0.07874931470909365, 0.08005633972717222, 0.08186379336225458, 0.08433063529259623, 0.08750471800712058, 0.09132465746090547, 0.08598313200179424, 0.08230912744163482, 0.07948067348134005, 0.07762903782829711, 0.07678795855896506, 0.07688226926547266, 0.07774650059326091, 0.07916455587608885, 0.08091177451136852, 0.08278453094235635, 0.08461344412214017, 0.0862647595995559, 0.08763689522690263, 0.08865706915948841, 0.08927931065751811, 0.08948232822889936, 0.08926489056234166, 0.08863765676195638, 0.08761294931787772, 0.08619640106858832, 0.08438527516187648, 0.08217672957032386, 0.07958567133155724, 0.07666730124918122, 0.07353520696592902, 0.07036288879270919, 0.06735700254416999, 0.06469954481472386, 0.06247862456203613, 0.06065389271156061, 0.059100898634164636, 0.05772768014207453, 0.05659275032569228, 0.055935098897838105, 0.056071822686922214, 0.057211492441659684, 0.05931355362405923, 0.06209467838361298, 0.06515294531674586, 0.06810712140930926, 0.07068688108238147, 0.07276970670314739, 0.07438228871138508, 0.07567981198994142, 0.07690789322022334, 0.07834901570814298, 0.0802598668818296, 0.08281440880870755, 0.08607113249090596, 0.08997464878376576, 0.08544302209850009, 0.0816833882570865, 0.07871482359547073, 0.07665792345962566, 0.07554587386937012, 0.07531562056101915, 0.07582472408154015, 0.07688585354315458, 0.07830259255393278, 0.07989363244862074, 0.08150234420074605, 0.08299671633181738, 0.08426685978729376, 0.08522473155590013, 0.08580641310300155, 0.08597399668345455, 0.08571342791110455, 0.08502657531631805, 0.08391924359510222, 0.08239010185853399, 0.08042682233551353, 0.07801411881228246, 0.07515420929367421, 0.0718949561029594, 0.06835583166708263, 0.06473728743598536, 0.06129638376075145, 0.05827753004196126, 0.05581445511821526, 0.05386513662463796, 0.052255750539045354, 0.050839499517668404, 0.04967067636128608, 0.04905856791298836, 0.04942586119634264, 0.051037200671389435, 0.05380802208533587, 0.057346085380476204, 0.06114426569441691, 0.06475553011632225, 0.06788208803643589, 0.07039855328630303, 0.07234147817020917, 0.07388161921848146, 0.07528238330290625, 0.07684449009501153, 0.07884197325280827, 0.08146384170378218, 0.08478010482535277, 0.08874286764117714, 0.085078067945735, 0.08123971023327557, 0.0781268867773996, 0.07584611504255835, 0.07442828073642102, 0.07382351072479428, 0.07391680611547699, 0.07455682754826433, 0.07558393102962885, 0.07684694032240807, 0.07820720718611579, 0.07953598131660276, 0.0807128857944338, 0.08162983026169121, 0.08219922904842798, 0.08236148547285428, 0.08208629599141616, 0.08136521313068827, 0.08019748823943221, 0.07857541261496458, 0.07647720782355273, 0.07387383578699588, 0.07075138432044539, 0.06714477220475441, 0.0631728727180233, 0.059059339135367706, 0.05511669442425176, 0.05167002753013934, 0.04892352192954442, 0.046845242046022764, 0.045198211068611, 0.04375543383974354, 0.04255803503481881, 0.04200908507935665, 0.04267424301655775, 0.04487724859751591, 0.048445909806357025, 0.052834985830328834, 0.05741966607225807, 0.06169737772264165, 0.06535826538181361, 0.06828606684212767, 0.07053430690538924, 0.07229256189468511, 0.0738428043337694, 0.07550351792836137, 0.07756534994000666, 0.08023202802321405, 0.0835853880111142, 0.08758580614475882, 0.08484058599680219, 0.08092642622087304, 0.07766356956102316, 0.07514143306139191, 0.07338640847345514, 0.0723616060322709, 0.07198237743618881, 0.07213973938053406, 0.07271966892075865, 0.07361023993713586, 0.07469748521953157, 0.07585820478593674, 0.07695904839626717, 0.0778659766576869, 0.07846069355719595, 0.07865583831260299, 0.0784010098495541, 0.07767610716138484, 0.0764745073080511, 0.07478381323213854, 0.07257422801096954, 0.06980283222128726, 0.06643674260568196, 0.06249164226480194, 0.05807643561493957, 0.05342875129941446, 0.04891579909891347, 0.044962021951142066, 0.04187847901508532, 0.03966836824428129, 0.038017058175110835, 0.036580324071119365, 0.03537083548791214, 0.03491874038242676, 0.03598366904381456, 0.03893421666353985, 0.04343380514494391, 0.048737138424902744, 0.0541086015197297, 0.05901626289927861, 0.06316001143929703, 0.06644555745991153, 0.0689495177260091, 0.07088242925818339, 0.07254490091608778, 0.07427236908483988, 0.07637113171847351, 0.07905891474722772, 0.08242900483597801, 0.08644991690774087, 0.0846779449757929, 0.0806870558477948, 0.07726731767395992, 0.07448846539749515, 0.07236974432847068, 0.07088560291859733, 0.06998275283424449, 0.06959960345181457, 0.06967671967243928, 0.07015210945399897, 0.07094519752069044, 0.0719417670694612, 0.07299264574544335, 0.07393046075827507, 0.07459747408293402, 0.07487131990300194, 0.07467727208830088, 0.0739825958175656, 0.07277643210894458, 0.07104481885820355, 0.06875312911861381, 0.06584626958661238, 0.062271048038472665, 0.058018015197940476, 0.05317459570478885, 0.04797659152314747, 0.04283441726143339, 0.03828450503655604, 0.03479477560452088, 0.032453838400166066, 0.03085847245997969, 0.029492206480968158, 0.02831333116425021, 0.028026098574735505, 0.029647377260320233, 0.03353020407545272, 0.03905799993813867, 0.04526578220264153, 0.05135072915649085, 0.05679238796367882, 0.06132284136262514, 0.0648792672464082, 0.06756428118976583, 0.06960943617989925, 0.0713330151469238, 0.07308623621634243, 0.07518994030031942, 0.07787480215466429, 0.08124447746668069, 0.08527447415276095, 0.08453528911911887, 0.08046340907835817, 0.07687968682244332, 0.0738320621573586, 0.07132954907532947, 0.06935475629533679, 0.06788451781029105, 0.0669077966557561, 0.06642848000964856, 0.06644700815012887, 0.06692762960713403, 0.06777021161126125, 0.06880643276211772, 0.06982616819426658, 0.07062133849506377, 0.07102603036772767, 0.07093672962514766, 0.07030769776516752, 0.06912671129914995, 0.06738311672339185, 0.06504284329923452, 0.062042852466089295, 0.05831091638257601, 0.05380872183282361, 0.04859094797324137, 0.042870666980653276, 0.03707526995447856, 0.031847218654426634, 0.027869813150950322, 0.025413216036120234, 0.023990125172873234, 0.02282806569109517, 0.021787479595956446, 0.021804849338205264, 0.02419957414161654, 0.02915774379265343, 0.03568143256084886, 0.042652024822992865, 0.049279110632344095, 0.05509248339707951, 0.059868662661192604, 0.06357760671790808, 0.06634582503585307, 0.06842331984429671, 0.07014401516759722, 0.07187353492933639, 0.07394621498683344, 0.07660446328050895, 0.07996058336378814, 0.08399488844145511, 0.08435790131476896, 0.0801981728454792, 0.07644406826721949, 0.07312012180388923, 0.07022168847261102, 0.06773485211551157, 0.06566280253179778, 0.06404567672510003, 0.06295857453213542, 0.062478821247676404, 0.06263056761226092, 0.06333529575989887, 0.06440153162467395, 0.06556412176383491, 0.06655097620661937, 0.06714275812107377, 0.06720278895651693, 0.06667293377462305, 0.06554399515458803, 0.06381550445382822, 0.06146186746825509, 0.05841942153256697, 0.0546018755655126, 0.0499426994587654, 0.04445713517666155, 0.038316256402491464, 0.03192759796333882, 0.026001912615169015, 0.021481072215111672, 0.018982424104583413, 0.01797801462029205, 0.017308055086720394, 0.016667778824664227, 0.017240811836311237, 0.020556893051683216, 0.026464401646614497, 0.033683576530044154, 0.041099609285976765, 0.04799549645989114, 0.053958598077635804, 0.05880215521852049, 0.06251965888462085, 0.06525417688119192, 0.06726926913844812, 0.06891177907043881, 0.07056053473834566, 0.0725627252910265, 0.07517137485989449, 0.07850521185769169, 0.08254614074004955, 0.08409307276308749, 0.0798368276124309, 0.07590759659359016, 0.07230547402973803, 0.06900856214452705, 0.06600039178632655, 0.06330403920087263, 0.06100811098363538, 0.059264951863198065, 0.058245033449023896, 0.05805229897592982, 0.05864093708643744, 0.05979131149633486, 0.06116688526894746, 0.062414426734237985, 0.06325018511841697, 0.06350063516972752, 0.06309732483336551, 0.0620402461802302, 0.06034811762868013, 0.05801442324809472, 0.05498559230661527, 0.05117065044484773, 0.04648177904228038, 0.04089786117103468, 0.03454312296792223, 0.02778202668327492, 0.02134390033510742, 0.016425351623332977, 0.014183494148507112, 0.014086991464325536, 0.014397434756353307, 0.014591840074205045, 0.01590470680697731, 0.019793969012506987, 0.026001670649634837, 0.03331788490839052, 0.04072088387649798, 0.047544340139947135, 0.0533989764329502, 0.05810919941643721, 0.06167512322496559, 0.06424578195051198, 0.06609228824348524, 0.06757178102787618, 0.06907586008327003, 0.07096482634044322, 0.07350166650676562, 0.07680899127678986, 0.08086607391512433, 0.08369147713532905, 0.07932890373532105, 0.07522225110464455, 0.07134685071915549, 0.06766007385485608, 0.06413586929168474, 0.06080805503471554, 0.05780685690014707, 0.05536448768624962, 0.05376188430952541, 0.05320883128815168, 0.053708557664307405, 0.055006706483869024, 0.05667314583250763, 0.05825227303758867, 0.05938455404154327, 0.05985763735812478, 0.059596890818203456, 0.058619563805183156, 0.0569746086404142, 0.05468777558911474, 0.051729629189171455, 0.048018264632448154, 0.043458203116663194, 0.038007629005100685, 0.031765216990165344, 0.02508156251683648, 0.018734299369317996, 0.014171637248652133, 0.012918372703307182, 0.014088047568069827, 0.015502393389007326, 0.016593262503778707, 0.01837478410336595, 0.0220948050344506, 0.027788854569691844, 0.034562813564484256, 0.04148776946141383, 0.04789733745996334, 0.05338461671063179, 0.05775815850951897, 0.061007620973647265, 0.06327768591824513, 0.06484166555728757, 0.0660654835858734, 0.06735459594559134, 0.06908421385793005, 0.07152756947864468, 0.07480850026656852, 0.07889839055156973, 0.08310814804374357, 0.07862870811612493, 0.07434529721789615, 0.07020907644556512, 0.06615371562031618, 0.062136109953426534, 0.05818937367047257, 0.0544737255584669, 0.05129834459915811, 0.049071141946275515, 0.048141179514330064, 0.048584731213662476, 0.05010370823133064, 0.052143847157847034, 0.054121690519103885, 0.05559184715775185, 0.05630432700985782, 0.056185032427343753, 0.055278290526391334, 0.05367601248196132, 0.051451661832890704, 0.048616914027600336, 0.0451161369044558, 0.04086444707208521, 0.03582372774959571, 0.030108518234512844, 0.024130056142707006, 0.018810567078207236, 0.0156963829229581, 0.015781906232797828, 0.01772486468957687, 0.01971205380000945, 0.021303529527695916, 0.023221159931529452, 0.026451659053138406, 0.031264525489923894, 0.037120256012609903, 0.04323597808051397, 0.04895778450549389, 0.05385344355458346, 0.05770407502159272, 0.060479028690344196, 0.06231197023883589, 0.06347535078400976, 0.0643444386204164, 0.06534194968895554, 0.0668621392828269, 0.06919032325182627, 0.07244902447748476, 0.07659532392647093, 0.08230322164575199, 0.07769572426566153, 0.07323929645233838, 0.06886270246518628, 0.0644739344682635, 0.060005709825861675, 0.055477583333898774, 0.05106336085283485, 0.047138375898153576, 0.044249562078200064, 0.04292629941134993, 0.04335274706730087, 0.045174114119716266, 0.047670167768126, 0.05010121215644416, 0.05193036337409813, 0.0528760750463722, 0.05287416758852581, 0.05200694256244701, 0.05042294614415571, 0.04826059668979602, 0.04559210775711506, 0.042407225502491645, 0.03864996583736693, 0.03430721258378613, 0.029539000488791853, 0.02484258942663096, 0.021192995048501882, 0.019773075327395147, 0.02079584005717315, 0.023032399120443556, 0.025229331322285897, 0.027053678001482166, 0.02898696660116014, 0.031763503859039574, 0.03571610706948355, 0.040567921648087084, 0.0457210321212914, 0.05058325349936826, 0.05472099863040887, 0.05789499951814193, 0.060054322741481064, 0.061320166823035906, 0.06196418014006197, 0.06237418354642772, 0.06299661255946211, 0.0642522174128655, 0.06644264406479833, 0.06968694521732005, 0.0739200548755348, 0.08124263608064725, 0.07649492247090624, 0.07187195493453068, 0.06728336618458937, 0.06261103052942645, 0.05775769067934321, 0.05271660237705711, 0.04765522818053976, 0.0429946756371727, 0.03942263018018069, 0.03769448532827428, 0.03815080512885298, 0.04036078304200199, 0.043383089557543865, 0.046295490970207506, 0.04847324439448646, 0.04961542861952774, 0.049678876333137105, 0.04879435637883348, 0.04718053612012096, 0.04505938806948335, 0.0425854038018344, 0.039813194085458414, 0.03672816687285767, 0.03334529753583577, 0.02985361719489358, 0.02675345826623556, 0.024842690699389516, 0.02477998757442339, 0.026397494672698984, 0.028773827277512463, 0.031061407677759074, 0.03300786680477425, 0.0349286916856834, 0.037354155301661626, 0.04058995471254442, 0.044510901107382254, 0.04868586777546793, 0.052615369084125514, 0.05589412288062312, 0.05827912130674644, 0.059706339235948584, 0.06028741966419299, 0.06029598616936707, 0.06013816122385653, 0.06029412129526113, 0.06122309613765647, 0.06325097198471473, 0.06649194734801622, 0.07084903804255228, 0.07989898615538177, 0.0749972253847719, 0.07021609687226626, 0.06545119711409722, 0.06055991500158952, 0.055411596529277685, 0.04996267815674156, 0.04435396363988543, 0.03902351240126743, 0.03478421664058277, 0.03265752970324881, 0.03320041720345551, 0.035877474987811936, 0.03946245319997507, 0.042838124047987904, 0.04530991838445246, 0.04657475614755055, 0.04662055520491405, 0.04563418052359712, 0.04391614163015508, 0.04179169406791909, 0.03952241087560676, 0.03724693436444145, 0.034993191131208336, 0.03277831268339959, 0.030753862845976553, 0.02929753182134551, 0.028912784712371593, 0.02987660556610706, 0.03192778528445472, 0.034417108506415627, 0.036769166954176175, 0.038795666218520625, 0.04070230730103799, 0.04286465955337765, 0.04552996813468927, 0.0486463418749407, 0.05190624617162376, 0.05490499298291631, 0.05728370881256761, 0.05881130804685496, 0.059419868551805255, 0.059216162469781314, 0.05847965153888895, 0.05764198523830493, 0.057230664350280576, 0.057761390438667085, 0.0595978163883349, 0.06284932837682834, 0.06737448853790336, 0.078252725592816, 0.07318037163887399, 0.06825005528445688, 0.06335062158215454, 0.058319144077550567, 0.05299142299043201, 0.04728106331801085, 0.04128657316083245, 0.03543231668353123, 0.030620531758899772, 0.0281501844059061, 0.028844799683195515, 0.03202702086024905, 0.036138804048997664, 0.03988855985782696, 0.04254460444836988, 0.04381834929050488, 0.04373315857993393, 0.04253350768350989, 0.04060968955650828, 0.038411143006429525, 0.03633663449819014, 0.03462849801078639, 0.0333422451463344, 0.032439276207608767, 0.03194365553964513, 0.03202699230596943, 0.03292044851736901, 0.034693696032669676, 0.03710886426594016, 0.03972224857065532, 0.04214467192180669, 0.044239213891772045, 0.04613938634271547, 0.048105817649677814, 0.05032260401725463, 0.052765389299169255, 0.05520847552507552, 0.057327412037918433, 0.058813947492711294, 0.05945799471202732, 0.059194567447429416, 0.05812901178068612, 0.05654908113130852, 0.05491840773319001, 0.053827947758181525, 0.0538754710299045, 0.055484665179432395, 0.05876281917961247, 0.06350738963131963, 0.07629389826246936, 0.071030417316511, 0.06595877896491638, 0.0609709485769125, 0.05589073559187196, 0.05052398144496817, 0.04474159515011963, 0.03859431159162844, 0.032472800154681083, 0.027321871378162565, 0.024666133044041267, 0.025571974828171737, 0.029192809387832714, 0.03367369683199132, 0.03761702919043715, 0.04028927451974828, 0.04142246053893556, 0.04106894405704546, 0.03952301523118262, 0.03726637802519498, 0.03489467879434311, 0.03298362922832511, 0.03190232001805733, 0.031697868511161534, 0.032188926932881466, 0.033190806266396936, 0.034653630497133305, 0.03661747365787712, 0.03906317559074235, 0.04181201350140634, 0.04457101755774371, 0.0470815847774231, 0.04924743590231645, 0.05115429373168291, 0.052977895262369075, 0.054844716651468194, 0.05673372364422399, 0.05846936459764002, 0.059788100129993714, 0.0604272850931841, 0.06019985243536031, 0.059046246657767934, 0.0570704187157955, 0.05456681858744021, 0.0520332715916508, 0.050139968707998396, 0.04960104270988768, 0.0509362041008675, 0.054258560026792094, 0.05928155275671506, 0.07402456823847808, 0.06854412151248751, 0.0633359737215021, 0.058308154616226834, 0.053281355245419174, 0.04803850265128556, 0.04241386663952643, 0.036417212086532855, 0.030406417519155193, 0.025329950832238247, 0.022795478871184625, 0.023929077170695773, 0.027752640495627524, 0.03230144554056768, 0.03617268066776925, 0.03864879757184653, 0.03947113532496796, 0.038702153919576446, 0.036667256199476604, 0.033931564536996056, 0.03125852920663075, 0.0294568299986024, 0.029054582392347653, 0.03002586373763526, 0.03193614278823714, 0.034343209815782726, 0.037014034493506986, 0.03988278214966277, 0.042908780440576916, 0.04597707871781616, 0.048904656184945605, 0.05152551915624859, 0.05377464929121604, 0.05570558556181582, 0.057431380935384906, 0.05902960065420105, 0.06047096268127651, 0.06160858663988684, 0.06222211032985818, 0.0620855623562966, 0.061032114529905555, 0.05900617442332092, 0.05610639771830216, 0.052626539997538795, 0.049092375072465486, 0.04626281582361075, 0.04501011732635784, 0.04600719435194669, 0.04939134490922298, 0.05475954530543311, 0.0714621038533826, 0.06573248448504172, 0.06038764211828623, 0.05536834001102046, 0.05050551530742086, 0.04556837843554911, 0.04036316946243147, 0.03487163766078023, 0.029431637951256837, 0.024958245217673116, 0.02292382472023548, 0.024228284481989597, 0.027898053635859135, 0.03213913527669737, 0.03563983492340702, 0.037698927588400176, 0.03804578800362145, 0.036727322971342034, 0.03407220851037888, 0.030707259938889127, 0.02757849014160671, 0.025806897169601425, 0.026130981806189117, 0.028346545010843993, 0.03164281360966026, 0.03531901253303798, 0.0390275648482359, 0.04266458045551997, 0.04620180369036631, 0.04958090841648535, 0.05269806916850303, 0.055452511331609916, 0.05780213925278036, 0.05977808299721333, 0.06144694542373673, 0.06284637871304438, 0.06393437718486862, 0.06457927232460665, 0.06459007054319654, 0.06376833896250796, 0.06196276571571862, 0.059118168746991, 0.05532144923982531, 0.05085286012438481, 0.046248160790457196, 0.042348642705343366, 0.040226226509220274, 0.0407946675829446, 0.0442552001065816, 0.05004174479582101, 0.06864343773430612, 0.06262574437725248, 0.057137476890704336, 0.05217342618409268, 0.04759145346842322, 0.04315579481068217, 0.03864855185984667, 0.034026636790069, 0.029599850388738806, 0.026176801690487184, 0.02489174352595367, 0.026273855844118447, 0.02949656425159464, 0.03312211880645901, 0.036003184312172525, 0.037463508024547336, 0.03720834190826404, 0.035248154121809545, 0.0318842748447829, 0.027767061287785735, 0.024017285526331172, 0.02216907497875996, 0.023255650136242676, 0.02673722310438523, 0.03131634487746721, 0.03608753627662903, 0.040664526851527265, 0.04494985227489115, 0.048940437965732594, 0.05262250864863725, 0.055947192651220036, 0.058858123501492415, 0.061328650308044415, 0.0633734047407791, 0.06502431851862774, 0.0662873035676495, 0.06710701830961016, 0.06735926198627501, 0.0668728215307771, 0.06546945188138485, 0.06300903224191926, 0.05943350423810143, 0.05481182700457999, 0.04939593761915048, 0.04370284013281721, 0.0386236204545058, 0.03545059102601529, 0.03546087447043713, 0.03900220106066004, 0.04528029482749279, 0.06563033023110484, 0.059280165182716046, 0.05363470551637938, 0.0487698245321033, 0.04459032919325327, 0.04085947766540643, 0.037323754248570186, 0.03389015715058723, 0.030788251528263286, 0.02862243063582129, 0.028120562528313568, 0.02951100786105721, 0.032166743170153486, 0.03502635407935396, 0.03714622400038042, 0.0379016648968532, 0.03698180553393246, 0.034354652008172185, 0.03027150887395266, 0.025358004377634708, 0.02085794897276962, 0.018804312803696602, 0.020648083204582144, 0.025321762998601966, 0.03099308971000326, 0.036648901067297214, 0.04192391033288798, 0.046746931899241034, 0.05113850824956351, 0.055114793483617086, 0.05866181239292759, 0.06175111342661274, 0.0643647918991525, 0.06650436052097847, 0.06817558100117847, 0.06935962625558245, 0.0699892168097244, 0.06994375113991626, 0.06906588122677917, 0.06719271114110624, 0.06419278792181743, 0.060004080875644995, 0.05467488274265507, 0.04841798945416098, 0.04170070947137889, 0.0354037887129153, 0.03100453380505559, 0.030277473385131308, 0.03387630375477905, 0.04069960395023011, 0.06251541013652659, 0.05578686440478644, 0.0499651166649273, 0.04524097908355099, 0.041589140830780094, 0.03876464929268782, 0.03644035644123453, 0.03441425287928432, 0.032761549830015835, 0.03183070109846616, 0.03201477098789771, 0.03337814557696741, 0.0354763494362574, 0.037558099174938755, 0.03888509633303438, 0.038912595622502995, 0.037336164711485834, 0.03409259907445161, 0.02937958926703762, 0.02376255676853676, 0.018516099094396783, 0.016143210492530983, 0.0186183496970012, 0.024240910757450974, 0.030715877182757652, 0.037015498724742676, 0.04281791975777288, 0.04807481101456249, 0.05281867483683818, 0.057079514948524625, 0.06086107643657328, 0.06414940800130993, 0.06692944224496737, 0.06919135386242346, 0.07092085764890883, 0.0720801980809986, 0.07259249803409132, 0.07233940295998814, 0.07117436939771872, 0.06894746041229274, 0.0655356225342553, 0.06087483828497988, 0.054995554564307506, 0.04807050540788065, 0.04049935173616075, 0.033087263156344394, 0.02738105595395185, 0.025704478480474652, 0.029269475230111867, 0.03662129567295201, 0.059428165858509775, 0.05228244676915629, 0.046265821243231094, 0.04172450643389717, 0.03872676694907955, 0.03699225737766058, 0.03605073463690583, 0.03551731502115604, 0.03526746552640168, 0.03541980155387126, 0.036153822063111206, 0.03747078261372524, 0.039071452597173276, 0.040437693023493856, 0.04101485920293039, 0.04035543973684278, 0.03818701402549284, 0.03443823202484281, 0.02927142133862816, 0.02319390117594461, 0.017436338555553803, 0.014734041639660413, 0.017489176423083393, 0.02360187041376816, 0.03051047969373518, 0.03719730162279067, 0.04336176518588383, 0.048956680183969946, 0.0540083737670679, 0.05854414725807677, 0.06257064234846918, 0.0660774680359485, 0.06904735555265068, 0.07145998997974007, 0.07328546305019525, 0.0744718182979619, 0.07493524023052772, 0.07455980261523987, 0.073208720100682, 0.07074456828451936, 0.06705436590177782, 0.06207684503133567, 0.05583281920297722, 0.04846586216047942, 0.0403150265960095, 0.032082146258715395, 0.02523867756767814, 0.022479710987590978, 0.02578394547063026, 0.03347640402138117, 0.05653883496306514, 0.04895966467988878, 0.042742823501086664, 0.038432825429407604, 0.03620930452223882, 0.03570141053442564, 0.03620753813351951, 0.03711083994393946, 0.03809991096084162, 0.03913537497472423, 0.04028418742740213, 0.041536805966417865, 0.04270417804652253, 0.04343997085965792, 0.04334485204856727, 0.04207409343996732, 0.03940807603980859, 0.03529291575985027, 0.02988469121398746, 0.023663840791796256, 0.01779827733054875, 0.014901139444839841, 0.01741312547352472, 0.023424102103410463, 0.03036838971471453, 0.03719303272451567, 0.043568287703727226, 0.04941680885450924, 0.054737868172036956, 0.05954024178595107, 0.06382100044254095, 0.06756463008791846, 0.07074760410578941, 0.0733395033932495, 0.07529801891274282, 0.076560776865175, 0.07703963163899034, 0.07662209235550604, 0.07518133798965994, 0.07259325748194684, 0.06875776789322227, 0.06362255716311757, 0.05721001637451042, 0.049653194988365026, 0.04125906554695207, 0.032655157899084804, 0.025175828359466, 0.02150431200894926, 0.02417994856078578, 0.03175517347520178, 0.054056136570054966, 0.04607261339243721, 0.03968531903779136, 0.03566940610663123, 0.034313190200016545, 0.035076089403691335, 0.03695751720154695, 0.03911834971608975, 0.04111727208798766, 0.04282801540074999, 0.04426592608998937, 0.04543071433473234, 0.046215227758120765, 0.04640064238550831, 0.045716276473500204, 0.04391788213239167, 0.04085177525248444, 0.03650171525456234, 0.031041255119410076, 0.024947735815474707, 0.01931201250062339, 0.016366524289827367, 0.018227442680759997, 0.02361719888834006, 0.030243252468144938, 0.03698877436622694, 0.0434473208233666, 0.04948036634944742, 0.05504009352696332, 0.060102980342167996, 0.06464670930995349, 0.06864418858760582, 0.07206264754414743, 0.07486178953284862, 0.07698926931039844, 0.0783752616899473, 0.07892962478124206, 0.07854462942769319, 0.077104241954478, 0.07449900635586496, 0.07064478225341957, 0.06550425152780057, 0.059112178972170214, 0.05160972937653787, 0.043303819682997714, 0.034798103878562796, 0.027315461363462665, 0.02322005942602621, 0.024993682291459714, 0.03183888675019525, 0.05221274333236332, 0.04392470792197683, 0.03745878751897871, 0.03381715290067142, 0.03335401179573939, 0.035289705306409486, 0.03833075111583775, 0.04148210205861764, 0.0442348571462653, 0.04642060828302534, 0.048030439322097065, 0.04907604675974541, 0.049509759362528036, 0.04920833049836536, 0.04800688317460513, 0.045754855845167974, 0.042370134784901724, 0.03788540059951216, 0.03250172333467612, 0.026691350911550664, 0.021429421831134707, 0.018484752613753732, 0.01954777355769637, 0.02401212768593866, 0.030063301278696507, 0.03656409651203681, 0.04300934359761946, 0.04917572775552292, 0.05495194790026404, 0.06027165161668149, 0.0650863146029285, 0.06935303250287757, 0.07302787689740306, 0.07606089136715653, 0.07839141259419673, 0.07994440819647625, 0.08062966543140193, 0.08034551078745081, 0.0789876494226838, 0.07646257279476366, 0.07270454331625731, 0.06769573781810095, 0.061490879078893584, 0.05425142417599822, 0.04630311463437931, 0.03825185326254582, 0.03122516909392007, 0.027163664567783248, 0.02808261968463639, 0.033790091348424076, 0.05123318434817518, 0.04282372690990949, 0.03644592526954879, 0.033260924642348325, 0.03360313562265754, 0.03645513998836836, 0.04032979657854497, 0.04416036234960689, 0.047409186989551204, 0.04988251763999422, 0.051553718008279736, 0.05244113573150213, 0.05253844455903268, 0.0517940722026352, 0.05012958907730963, 0.047478899988836476, 0.04383121378503848, 0.03927143114648753, 0.034026868582992795, 0.028547492123955468, 0.02365809520296285, 0.020697747616491232, 0.02098439405742812, 0.024424142325132785, 0.029754860473073526, 0.03590382387259547, 0.04227230021083882, 0.048538500298905544, 0.05451650887182806, 0.06009069570187195, 0.06518270114192672, 0.0697316570985504, 0.07368149687421884, 0.07697281708795757, 0.07953780933208583, 0.08129782160730929, 0.0821640138979941, 0.08204180297358135, 0.0808393786077106, 0.07848001988392907, 0.0749177708366422, 0.07015655438633794, 0.06427424493906572, 0.05745620520299573, 0.0500489261280259, 0.04265527713985671, 0.036292858724279634, 0.032500990634089746, 0.03279869531258486, 0.037326338558481435, 0.05128697247935543, 0.04300127028881676, 0.03692291343776239, 0.03424068174418383, 0.03518074182445985, 0.03858659889089211, 0.04292413095790984, 0.047120443521273814, 0.050622645209531206, 0.053211606433666445, 0.05483980066190841, 0.05552408446559251, 0.05528454768716595, 0.054122543851175736, 0.05202940512377567, 0.04901309145465196, 0.04513005672345125, 0.040515852134636654, 0.03541832245986483, 0.030249017976303992, 0.025670807913505525, 0.022666800384131273, 0.02226343686720866, 0.024708750617959227, 0.029268183934004856, 0.03501217739929107, 0.04126980785265549, 0.04761615303358702, 0.05378547359855934, 0.059610882183869424, 0.06498360656249484, 0.06982437185169721, 0.07406461601389505, 0.07763557495387961, 0.08046294410410221, 0.08246542831459801, 0.08355649645633172, 0.08364930800238116, 0.08266488953004668, 0.08054349710663242, 0.07725910148349342, 0.07283736094271301, 0.06737851200163542, 0.061088627505421954, 0.0543259933808657, 0.04767194715338304, 0.04202015795266522, 0.03857958717346028, 0.0384853410747752, 0.04200726025262434, 0.0524443594910512, 0.0445318927223789, 0.03893706255766435, 0.036735190546730224, 0.038007525463678825, 0.04159833427054485, 0.046052469138127994, 0.05033182499649999, 0.05387130210992579, 0.056422002937134313, 0.05791017266334959, 0.058343213989634934, 0.05775537150241908, 0.05618566875660886, 0.05368053170089328, 0.0503111563204719, 0.04619517293348626, 0.041515510184901294, 0.03653615658937691, 0.03162349840267442, 0.027287356971963203, 0.024227622893852597, 0.02324315030015875, 0.024792716114988334, 0.028598338787997585, 0.03392564815627727, 0.04005853965409683, 0.046471865044985995, 0.052821003895569416, 0.05889016135711739, 0.06454203310359835, 0.06967953857711857, 0.07422142272132086, 0.07808931769031122, 0.08120252874451835, 0.0834775273924277, 0.08483053754365162, 0.08518269398604662, 0.08446775533331927, 0.08264247174676487, 0.07969977965219993, 0.07568527989757878, 0.07071809898026613, 0.06501827155540602, 0.058943751607805774, 0.05303796627331956, 0.048070955496498445, 0.04499692091755324, 0.044679237786788034, 0.04741786704682781, 0.05465935195219452, 0.04731078964298681, 0.042296941574963984, 0.0404930338516272, 0.041857049776286064, 0.04533759239491016, 0.04963138860460253, 0.05376166735112585, 0.0571563814622793, 0.05953581345049709, 0.060796634966309326, 0.06093063958081318, 0.05997642429767825, 0.05799804788304208, 0.055083989908678604, 0.0513579498936182, 0.046991949521258465, 0.042213415388049715, 0.03730234383455508, 0.03258386945655025, 0.028435818301799365, 0.02533432125237186, 0.023892303783828048, 0.02468259944102163, 0.027796934904125856, 0.03272106021716725, 0.03872232657415248, 0.0451861047973007, 0.05169618171981288, 0.0579937907116432, 0.0639163464234663, 0.06934970359497697, 0.07419933787843909, 0.07837649440720289, 0.08179364131516047, 0.08436492434545861, 0.08600933593517644, 0.086655827089815, 0.08625035590289856, 0.08476511295163679, 0.08221022345141699, 0.07864833617152739, 0.07421275420543813, 0.06913000644638231, 0.06374725133249366, 0.05856093226577295, 0.05422851917426812, 0.05151241458350097, 0.05108560094102908, 0.053237571707730344, 0.05779017040397781, 0.051106884751986534, 0.0466800746066912, 0.04516864162214511, 0.04645224603181778, 0.04962691229674308, 0.05356637981766729, 0.0573732263218649, 0.060479007259773926, 0.06257761004543001, 0.06353629760300228, 0.0633276157728579, 0.06198709263732234, 0.059593397663117574, 0.0562654734575088, 0.05216915953038927, 0.04752399178022153, 0.04260018270901931, 0.03769829412347115, 0.03311497413516435, 0.029123308327546844, 0.026022100335021676, 0.0242630090579315, 0.024457002273950066, 0.026971637401557048, 0.03151511927322006, 0.037370451538192094, 0.043854616753489506, 0.05049350049635614, 0.05699350330374562, 0.06316994142441963, 0.06889152688952924, 0.07404904721326101, 0.07854191201066324, 0.08227480081638314, 0.08515904038472975, 0.08711606409053832, 0.08808216047016726, 0.08801461193447162, 0.0868995878663118, 0.08476214546887864, 0.08167862882338085, 0.07779168509517206, 0.07332783776428096, 0.06861636071074043, 0.06410421569733682, 0.060351681790478104, 0.05797694239800452, 0.05751711291059569, 0.05923703883656323, 0.06164255314308752, 0.05564503795723877, 0.051752714913177914, 0.050435971721234575, 0.051535490692435584, 0.054295433549043, 0.05776182728922737, 0.061126531854345766, 0.0638375612820909, 0.06557092811144016, 0.06616794854643554, 0.06558085423344209, 0.06383698187926629, 0.06102123342255441, 0.057272847809220075, 0.05278996474750556, 0.04783275545632138, 0.04271331907861988, 0.03776079947405083, 0.033262262803225855, 0.02941638272594796, 0.026381752295107197, 0.02446276301095969, 0.024244385459261164, 0.02626966382072931, 0.03045160712799202, 0.03612808223424531, 0.04258211245894848, 0.04930127288780096, 0.055965731154247175, 0.062370459466256314, 0.0683654436179211, 0.07382432205666811, 0.07863260929543073, 0.08268588382813274, 0.08589190405849076, 0.08817399043167466, 0.0894750640817069, 0.08976262049181424, 0.08903510954552538, 0.0873300807465997, 0.08473424273061551, 0.08139530182460411, 0.07753489448723364, 0.07346057301664205, 0.06957154252212563, 0.06634643045933557, 0.06429386191879628, 0.06385134621044314, 0.06525580023705595, 0.06601207816182365, 0.0606670706257177, 0.057233161300662846, 0.056033845235207824, 0.05689629826551377, 0.059194612741822555, 0.06212816897601575, 0.064980285366749, 0.06722688485817924, 0.06853621935674759, 0.06872935612350117, 0.0677393516541751, 0.0655823783424767, 0.062343190935144815, 0.05817267352225791, 0.05329209251869164, 0.04799518592449006, 0.042634759998236856, 0.037577650866112984, 0.03312316118123327, 0.02942700699263359, 0.026538757920678085, 0.024623917883839, 0.024186787641852885, 0.02584301920620181, 0.029674505252594265, 0.03511874325033839, 0.04147225304614198, 0.04820848965176557, 0.054989158589018185, 0.06158861705025601, 0.06783500143947963, 0.07358153162502531, 0.07869744687587786, 0.08306779863926447, 0.08659594992405696, 0.08920644957859764, 0.09084801328429035, 0.09149710260531946, 0.09116265680456138, 0.08989231057173434, 0.08778011393851799, 0.08497536994747006, 0.08169156709314972, 0.07821314527885657, 0.0748954275240801, 0.07214923603472674, 0.07039869524890754, 0.07000625483526841, 0.071181878364385, 0.0707117696558597, 0.06595870872006086, 0.06290562662266966, 0.06176791926873877, 0.062373221618631264, 0.06420277110996592, 0.06658604568725933, 0.06889403504421453, 0.07063859657001459, 0.0714898225162475, 0.0712552351151783, 0.06985148831485888, 0.06728253822879048, 0.06362859606576528, 0.059045231019698816, 0.05376856778126336, 0.04811850493963306, 0.042485774503382506, 0.037282026333723184, 0.03283944068618676, 0.02930091871490757, 0.02663415370518239, 0.024872264782379496, 0.02439663170152457, 0.025802880045185682, 0.029292758964812697, 0.03444287023265097, 0.040616350619524, 0.04729932098354936, 0.05414204545830872, 0.06089671077959519, 0.06736579365442, 0.07337873858404466, 0.0787863215733837, 0.08346184974742482, 0.087303573332916, 0.09023661513170696, 0.09221459039882286, 0.09322162118479174, 0.09327535217951091, 0.09243125521236108, 0.0907881272351024, 0.08849424389093691, 0.08575301256720404, 0.08282595222225055, 0.0800291617832502, 0.07771729514698533, 0.07624821675210279, 0.07592638665114876, 0.07693728536664557, 0.07558435831150434, 0.07135361279833649, 0.06861223813572162, 0.06749819405489968, 0.06784632875334069, 0.06922391804493236, 0.07106805288519231, 0.0728300251045505, 0.07406193354675634, 0.07444360305197507, 0.07377571802699567, 0.07196233048224597, 0.06899575185497915, 0.06494918462916399, 0.059977805199996535, 0.054325592861125496, 0.04833100574520634, 0.04241733914854015, 0.037043004123489744, 0.0325874463502882, 0.029205764334083284, 0.02680771180085694, 0.025302764097450726, 0.024925510388252452, 0.026185802640599797, 0.029353034788590568, 0.03416118377711127, 0.04008470847836747, 0.046648741235299565, 0.05349971615769109, 0.06036678474907905, 0.06702386931699271, 0.07327427014091535, 0.07894893665245896, 0.08390875681150217, 0.08804642315981322, 0.09128706260147029, 0.09358828862918192, 0.09494056810478943, 0.09536853023702341, 0.09493344750076307, 0.09373670657081776, 0.09192365170373151, 0.0896866381834904, 0.08726535019317389, 0.08494133708630532, 0.0830225990491823, 0.08181420327015698, 0.08157483810250937, 0.08246833158973015, 0.08050443498821228, 0.07672755021136016, 0.07424021021677445, 0.07312550750763273, 0.0732283019099626, 0.07418439885149046, 0.0755188851452485, 0.07675445588532291, 0.07748470616531777, 0.07740500013038067, 0.07631525284687914, 0.07411120566983036, 0.07077536516459206, 0.06637323357157264, 0.0610564843565431, 0.05507157007964569, 0.04876816194904702, 0.04259397015042259, 0.0370486355234604, 0.03256192746703239, 0.029316343957684742, 0.02718544041980712, 0.02597209399081856, 0.025764263375021055, 0.026955948770695192, 0.02983864874225771, 0.034292067785052144, 0.039924185135084014, 0.04632033364384406, 0.05313233634033492, 0.06006833301884328, 0.06687349246462387, 0.07332469675363079, 0.07923311222904629, 0.08444734140760946, 0.08885445547809007, 0.09237914481494443, 0.09498213955091134, 0.09665895033313734, 0.09743955552450873, 0.09738920645121116, 0.09661010704142028, 0.09524332261657266, 0.0934698185595364, 0.09150895146462663, 0.08961203895388901, 0.08804811703539071, 0.0870795563592872, 0.08692826007105046, 0.08773914002747922, 0.08537566912674967, 0.0819901951722266, 0.07971043308384047, 0.07858074170048761, 0.07845680029145971, 0.07902911757498352, 0.07989454098187562, 0.08063813220149975, 0.08089413348061475, 0.08037730379088404, 0.07889190261824501, 0.07632970905949854, 0.07266612714073295, 0.06795972454785754, 0.06235737362327115, 0.05610435705723753, 0.049554935848431604, 0.04317088068033932, 0.03747967473395751, 0.0329504475992828, 0.029795263236049824, 0.02787261683083963, 0.02690993699081861, 0.026873686943144112, 0.02804295227064333, 0.030697060558170782, 0.034825111638850444, 0.04016274851142265, 0.04636623994131322, 0.053102743997422014, 0.06006537201174075, 0.06697420247337121, 0.07358225360491193, 0.07968270888733911, 0.08511296065233037, 0.08975481735364743, 0.09353223543989303, 0.09640821144780509, 0.09838202594966537, 0.09948746142843923, 0.09979211990210575, 0.09939756077031695, 0.09843962173587904, 0.0970879198024593, 0.09554311649265723, 0.09403011341235301, 0.09278517731440825, 0.09203568711469647, 0.09197353156028676, 0.09272718125850134, 0.09012633608634393, 0.0870775548260409, 0.08496872317757592, 0.08381691096376995, 0.08348850347057873, 0.08371803634831546, 0.08416105906446741, 0.08445660498207186, 0.08427746646036648, 0.08336005769863807, 0.08151704822590357, 0.07864032609627826, 0.07470131754342801, 0.06975339704215498, 0.06393868638743483, 0.057499076942737336, 0.05078762383432725, 0.04426854570097976, 0.03847791386208199, 0.03390145314188025, 0.03077113609501357, 0.02895159942086904, 0.028139723161196374, 0.028224257825062826, 0.029389174308724748, 0.03187840534464827, 0.03574303917261071, 0.0408179989148045, 0.04682807609971154, 0.05346394308405722, 0.06041286962789108, 0.06737732928410095, 0.07409190511911042, 0.08033535103140535, 0.08593583815098274, 0.09077067342824431, 0.09476292355954613, 0.09787704405911635, 0.10011485235549887, 0.10151248254523249, 0.1021384275891173, 0.10209238125203428, 0.10150427636696327, 0.10053262580677472, 0.0993609858600294, 0.0981911306493018, 0.09723155491420594, 0.09668061428885005, 0.09670538977135838, 0.09742007945534416, 0.09470474012645409, 0.09194580851263018, 0.08997940821327549, 0.0888034674358937, 0.0882945884881308, 0.08822316076777352, 0.0882930853652278, 0.08818995477362404, 0.08762239679467368, 0.08634953493531812, 0.08419549381801199, 0.08105581463689839, 0.07690105463570972, 0.0717815303832452, 0.06583532114202827, 0.059299432109539384, 0.05252040339707717, 0.045952969001334686, 0.0401204636680827, 0.035497838080819875, 0.03232171932588818, 0.030482336900905446, 0.02969536490503015, 0.02982259233753705, 0.030980386367228267, 0.033363634576878694, 0.03704000840712309, 0.04190464860752174, 0.04773725244758533, 0.05425611237108521, 0.061152871816280714, 0.06812239990616151, 0.07488843648286425, 0.0812202429846326, 0.08693950019780312, 0.09192011798096737, 0.09608425821299357, 0.09939709394841706, 0.10186181177114609, 0.10351554751665723, 0.10442637693081425, 0.10469109476396495, 0.10443323256826197, 0.10380053432973271, 0.10296091450770667, 0.10209581412022876, 0.1013900014900337, 0.10101749619611487, 0.10112464352947072, 0.10181323801612006, 0.09907514950735691, 0.09656652111047509, 0.09472064666695368, 0.09352216572319684, 0.09285729499561297, 0.09252602393175269, 0.09227244814179954, 0.09182236052314266, 0.09091729517844353, 0.08933926371577229, 0.0869259503951291, 0.08357939389100737, 0.07927199363924402, 0.07405297807201398, 0.06805704136351019, 0.061514782658120166, 0.05476098931593883, 0.04822962948101811, 0.04241221808364906, 0.03774960771264098, 0.03446992161027574, 0.03250346682207155, 0.031625315300971506, 0.03171552789870341, 0.03285078582574919, 0.03517190742014569, 0.0387282237716788, 0.04343713758483062, 0.04911382381425927, 0.05550353918778327, 0.062311061912696995, 0.06923410799526566, 0.0759940777747145, 0.0823564257217674, 0.08813954609832768, 0.09321532112221745, 0.09750514211874779, 0.10097426265349235, 0.1036261743183633, 0.10549778922767267, 0.10665560583145568, 0.10719264198692242, 0.10722565585198103, 0.10689198582867984, 0.10634521015686954, 0.10574879429908472, 0.10526707120812959, 0.10505344981269715, 0.10523676881860282, 0.10590801495364362, 0.10321439646026585, 0.10092297136510162, 0.0991809726634753, 0.09796400245823864, 0.09716729047670497, 0.0966156167956041, 0.09608683767612941, 0.09534156980580547, 0.09415133644250556, 0.09232059037267254, 0.08970183886904776, 0.08620566845584494, 0.08180836514381673, 0.07655946424503832, 0.07059038949116331, 0.0641233540636297, 0.057476207871946995, 0.051052680583538276, 0.04529899695258198, 0.04060823286159939, 0.03719347806039302, 0.0350326938214332, 0.03398341089169518, 0.03397455791154982, 0.03506666303338078, 0.03734909188629261, 0.04083219402606805, 0.04542678938254761, 0.050964240800833456, 0.05721236389286063, 0.06389465223982885, 0.07072054949728959, 0.0774171461823063, 0.08375178872178428, 0.08954295052686725, 0.0946620339636646, 0.09902995686754291, 0.10261156735825704, 0.10540974793599776, 0.1074601165838094, 0.10882659083964565, 0.10959767530809093, 0.10988307728846905, 0.10981009182651039, 0.10951910810371884, 0.10915760096609868, 0.1088721605208949, 0.10879857736849068, 0.10905077389284343, 0.10971028468887893];\n",
       "const xvar = \"lr\";\n",
       "const yvar = \"decay\";\n",
       "const x_is_log = true;\n",
       "const y_is_log = true;\n",
       "\n",
       "const GREEN_SCALE = [[247, 252, 253], [229, 245, 249], [204, 236, 230], [153, 216, 201], [102, 194, 164], [65, 174, 118], [35, 139, 69], [0, 109, 44], [0, 68, 27]];\n",
       "const GREEN_PINK_SCALE = [[142, 1, 82], [197, 27, 125], [222, 119, 174], [241, 182, 218], [253, 224, 239], [247, 247, 247], [230, 245, 208], [184, 225, 134], [127, 188, 65], [77, 146, 33], [39, 100, 25]];\n",
       "const BLUE_SCALE = [[255, 247, 251], [236, 231, 242], [208, 209, 230], [166, 189, 219], [116, 169, 207], [54, 144, 192], [5, 112, 176], [3, 78, 123]];\n",
       "\n",
       "// format data\n",
       "const res = relativize_data(f, sd, rel, arm_data, metric);\n",
       "const f_final = res[0];\n",
       "const sd_final = res[1];\n",
       "\n",
       "// calculate max of abs(outcome), used for colorscale\n",
       "const f_absmax = Math.max(Math.abs(Math.min(...f_final)), Math.max(...f_final));\n",
       "\n",
       "// transform to nested array\n",
       "var f_plt = [];\n",
       "while(f_final.length) f_plt.push(f_final.splice(0, density));\n",
       "var sd_plt = [];\n",
       "while(sd_final.length) sd_plt.push(sd_final.splice(0, density));\n",
       "\n",
       "// create traces\n",
       "const CONTOUR_CONFIG = {\n",
       "  autocolorscale: false,\n",
       "  autocontour: true,\n",
       "  contours: {\n",
       "    coloring: 'heatmap',\n",
       "  },\n",
       "  hoverinfo: 'x+y+z',\n",
       "  ncontours: density / 2,\n",
       "  type: 'contour',\n",
       "  x: grid_x,\n",
       "  y: grid_y,\n",
       "};\n",
       "\n",
       "let f_scale;\n",
       "if (rel === true) {\n",
       "  f_scale = lower_is_better === true\n",
       "    ? GREEN_PINK_SCALE.reverse()\n",
       "    : GREEN_PINK_SCALE;\n",
       "} else {\n",
       "  f_scale = GREEN_SCALE;\n",
       "}\n",
       "\n",
       "const f_trace = {\n",
       "  colorbar: {\n",
       "    x: 0.45,\n",
       "    y: 0.5,\n",
       "    ticksuffix: rel === true ? '%' : '',\n",
       "    tickfont: {\n",
       "      size: 8,\n",
       "    },\n",
       "  },\n",
       "  colorscale: f_scale.map(\n",
       "    (v, i) => [i / (f_scale.length - 1), rgb(v)]\n",
       "  ),\n",
       "  xaxis: 'x',\n",
       "  yaxis: 'y',\n",
       "  z: f_plt,\n",
       "  // zmax and zmin are ignored if zauto is true\n",
       "  zauto: !rel,\n",
       "  zmax: f_absmax,\n",
       "  zmin: -f_absmax,\n",
       "};\n",
       "\n",
       "const sd_trace = {\n",
       "  colorbar: {\n",
       "      x: 1,\n",
       "      y: 0.5,\n",
       "      ticksuffix: rel === true ? '%' : '',\n",
       "      tickfont: {\n",
       "        size: 8,\n",
       "      },\n",
       "  },\n",
       "  colorscale: BLUE_SCALE.map(\n",
       "    (v, i) => [i / (BLUE_SCALE.length - 1), rgb(v)]\n",
       "  ),\n",
       "  xaxis: 'x2',\n",
       "  yaxis: 'y2',\n",
       "  z: sd_plt,\n",
       "};\n",
       "\n",
       "Object.keys(CONTOUR_CONFIG).forEach(key => {\n",
       "  f_trace[key] = CONTOUR_CONFIG[key];\n",
       "  sd_trace[key] = CONTOUR_CONFIG[key];\n",
       "});\n",
       "\n",
       "// get in-sample arms\n",
       "const arm_x = [];\n",
       "const arm_y = [];\n",
       "const arm_text = [];\n",
       "\n",
       "Object.keys(arm_data['in_sample']).forEach(arm_name => {\n",
       "  arm_x.push(arm_data['in_sample'][arm_name]['parameters'][xvar]);\n",
       "  arm_y.push(arm_data['in_sample'][arm_name]['parameters'][yvar]);\n",
       "  arm_text.push(arm_name);\n",
       "});\n",
       "\n",
       "// configs for in-sample arms\n",
       "const base_in_sample_arm_config = {\n",
       "  hoverinfo: 'text',\n",
       "  legendgroup: 'In-sample',\n",
       "  marker: {color: 'black', symbol: 1, opacity: 0.5},\n",
       "  mode: 'markers',\n",
       "  name: 'In-sample',\n",
       "  text: arm_text,\n",
       "  type: 'scatter',\n",
       "  x: arm_x,\n",
       "  y: arm_y,\n",
       "};\n",
       "\n",
       "const f_in_sample_arm_trace = {\n",
       "  xaxis: 'x',\n",
       "  yaxis: 'y',\n",
       "};\n",
       "\n",
       "const sd_in_sample_arm_trace = {\n",
       "  showlegend: false,\n",
       "  xaxis: 'x2',\n",
       "  yaxis: 'y2',\n",
       "};\n",
       "\n",
       "Object.keys(base_in_sample_arm_config).forEach(key => {\n",
       "  f_in_sample_arm_trace[key] = base_in_sample_arm_config[key];\n",
       "  sd_in_sample_arm_trace[key] = base_in_sample_arm_config[key];\n",
       "});\n",
       "\n",
       "const traces = [\n",
       "  f_trace,\n",
       "  sd_trace,\n",
       "  f_in_sample_arm_trace,\n",
       "  sd_in_sample_arm_trace,\n",
       "];\n",
       "\n",
       "// start symbol at 2 for candidate markers\n",
       "let i = 2;\n",
       "\n",
       "// iterate over out-of-sample arms\n",
       "Object.keys(arm_data['out_of_sample']).forEach(generator_run_name => {\n",
       "  const ax = [];\n",
       "  const ay = [];\n",
       "  const atext = [];\n",
       "\n",
       "  Object.keys(arm_data['out_of_sample'][generator_run_name]).forEach(arm_name => {\n",
       "    ax.push(\n",
       "      arm_data['out_of_sample'][generator_run_name][arm_name]['parameters'][xvar]\n",
       "    );\n",
       "    ay.push(\n",
       "      arm_data['out_of_sample'][generator_run_name][arm_name]['parameters'][yvar]\n",
       "    );\n",
       "    atext.push('<em>Candidate ' + arm_name + '</em>');\n",
       "  });\n",
       "\n",
       "  traces.push({\n",
       "    hoverinfo: 'text',\n",
       "    legendgroup: generator_run_name,\n",
       "    marker: {color: 'black', symbol: i, opacity: 0.5},\n",
       "    mode: 'markers',\n",
       "    name: generator_run_name,\n",
       "    text: atext,\n",
       "    type: 'scatter',\n",
       "    xaxis: 'x',\n",
       "    x: ax,\n",
       "    yaxis: 'y',\n",
       "    y: ay,\n",
       "  });\n",
       "  traces.push({\n",
       "    hoverinfo: 'text',\n",
       "    legendgroup: generator_run_name,\n",
       "    marker: {color: 'black', symbol: i, opacity: 0.5},\n",
       "    mode: 'markers',\n",
       "    name: 'In-sample',\n",
       "    showlegend: false,\n",
       "    text: atext,\n",
       "    type: 'scatter',\n",
       "    x: ax,\n",
       "    xaxis: 'x2',\n",
       "    y: ay,\n",
       "    yaxis: 'y2',\n",
       "  });\n",
       "  i += 1;\n",
       "});\n",
       "\n",
       "// layout\n",
       "const xrange = axis_range(grid_x, x_is_log);\n",
       "const yrange = axis_range(grid_y, y_is_log);\n",
       "\n",
       "const xtype = x_is_log ? 'log' : 'linear';\n",
       "const ytype = y_is_log ? 'log' : 'linear';\n",
       "\n",
       "const layout = {\n",
       "  autosize: false,\n",
       "    margin: {\n",
       "      l: 35,\n",
       "      r: 35,\n",
       "      t: 35,\n",
       "      b: 100,\n",
       "      pad: 0,\n",
       "  },\n",
       "  annotations: [\n",
       "    {\n",
       "      font: {size: 14},\n",
       "      showarrow: false,\n",
       "      text: 'Mean',\n",
       "      x: 0.25,\n",
       "      xanchor: 'center',\n",
       "      xref: 'paper',\n",
       "      y: 1,\n",
       "      yanchor: 'bottom',\n",
       "      yref: 'paper',\n",
       "    },\n",
       "    {\n",
       "      font: {size: 14},\n",
       "      showarrow: false,\n",
       "      text: 'Standard Error',\n",
       "      x: 0.8,\n",
       "      xanchor: 'center',\n",
       "      xref: 'paper',\n",
       "      y: 1,\n",
       "      yanchor: 'bottom',\n",
       "      yref: 'paper',\n",
       "    },\n",
       "  ],\n",
       "  hovermode: 'closest',\n",
       "  legend: {orientation: 'h', x: 0, y: -0.25},\n",
       "  height: 450,\n",
       "  width: 950,\n",
       "  xaxis: {\n",
       "    anchor: 'y',\n",
       "    autorange: false,\n",
       "    domain: [0.05, 0.45],\n",
       "    exponentformat: 'e',\n",
       "    range: xrange,\n",
       "    tickfont: {size: 11},\n",
       "    tickmode: 'auto',\n",
       "    title: xvar,\n",
       "    type: xtype,\n",
       "  },\n",
       "  xaxis2: {\n",
       "    anchor: 'y2',\n",
       "    autorange: false,\n",
       "    domain: [0.60, 1],\n",
       "    exponentformat: 'e',\n",
       "    range: xrange,\n",
       "    tickfont: {size: 11},\n",
       "    tickmode: 'auto',\n",
       "    title: xvar,\n",
       "    type: xtype,\n",
       "  },\n",
       "  yaxis: {\n",
       "    anchor: 'x',\n",
       "    autorange: false,\n",
       "    domain: [0, 1],\n",
       "    exponentformat: 'e',\n",
       "    range: yrange,\n",
       "    tickfont: {size: 11},\n",
       "    tickmode: 'auto',\n",
       "    title: yvar,\n",
       "    type: ytype,\n",
       "  },\n",
       "  yaxis2: {\n",
       "    anchor: 'x2',\n",
       "    autorange: false,\n",
       "    domain: [0, 1],\n",
       "    exponentformat: 'e',\n",
       "    range: yrange,\n",
       "    tickfont: {size: 11},\n",
       "    tickmode: 'auto',\n",
       "    type: ytype,\n",
       "  },\n",
       "};\n",
       "\n",
       "Plotly.newPlot(\"d347cc12790a46c2bee106e705836cc3\", traces, layout, {showLink: false});\n",
       "});</script>"
      ]
     },
     "metadata": {},
     "output_type": "display_data"
    }
   ],
   "source": [
    "render(plot_contour(model=gpei, param_x='lr', param_y='decay', metric_name='log_eval'))"
   ]
  },
  {
   "cell_type": "markdown",
   "metadata": {},
   "source": [
    "Best decay about the same as in regular training."
   ]
  },
  {
   "cell_type": "code",
   "execution_count": 22,
   "metadata": {
    "pycharm": {
     "name": "#%%\n"
    },
    "scrolled": false
   },
   "outputs": [
    {
     "data": {
      "text/html": [
       "<div id=\"4f6ecb888e264382bd915d7901187603\" style=\"width: 100%;\" class=\"plotly-graph-div\"></div><script type='text/javascript'>/*\n",
       " * Copyright (c) Facebook, Inc. and its affiliates. All Rights Reserved.\n",
       " */\n",
       "\n",
       "require(['plotly'], function(Plotly) {\n",
       "  window.PLOTLYENV = window.PLOTLYENV || {};\n",
       "  window.PLOTLYENV.BASE_URL = 'https://plot.ly';\n",
       "  /*\n",
       " * Copyright (c) Facebook, Inc. and its affiliates. All Rights Reserved.\n",
       " */\n",
       "\n",
       "const arm_data = {\"metrics\": [\"log_eval\"], \"in_sample\": {\"10_0\": {\"name\": \"10_0\", \"parameters\": {\"lr\": 0.04978427747990496, \"decay\": 0.003527565121958421, \"epochs\": 47}, \"y\": {\"log_eval\": 3.112263631209449}, \"y_hat\": {\"log_eval\": 3.114052542426581}, \"se\": {\"log_eval\": 0.01238418875800926}, \"se_hat\": {\"log_eval\": 0.012333336529813459}, \"context_stratum\": null}, \"11_0\": {\"name\": \"11_0\", \"parameters\": {\"lr\": 0.006247040048381291, \"decay\": 0.0001438024293565146, \"epochs\": 25}, \"y\": {\"log_eval\": 3.4241942668232896}, \"y_hat\": {\"log_eval\": 3.421785508764442}, \"se\": {\"log_eval\": 0.01374483715894778}, \"se_hat\": {\"log_eval\": 0.013228352665373973}, \"context_stratum\": null}, \"12_0\": {\"name\": \"12_0\", \"parameters\": {\"lr\": 0.00014838731399692169, \"decay\": 0.0014697324908619514, \"epochs\": 22}, \"y\": {\"log_eval\": 3.415520117203138}, \"y_hat\": {\"log_eval\": 3.4154054618001344}, \"se\": {\"log_eval\": 0.011276006439341265}, \"se_hat\": {\"log_eval\": 0.011208439049154268}, \"context_stratum\": null}, \"13_0\": {\"name\": \"13_0\", \"parameters\": {\"lr\": 0.0005519527802397052, \"decay\": 0.00010246759190872975, \"epochs\": 41}, \"y\": {\"log_eval\": 3.546131034009097}, \"y_hat\": {\"log_eval\": 3.5467401809527708}, \"se\": {\"log_eval\": 0.012589028883241746}, \"se_hat\": {\"log_eval\": 0.012370755528961311}, \"context_stratum\": null}, \"14_0\": {\"name\": \"14_0\", \"parameters\": {\"lr\": 0.010504083634447867, \"decay\": 0.00043748352890575796, \"epochs\": 12}, \"y\": {\"log_eval\": 3.634057109613882}, \"y_hat\": {\"log_eval\": 3.6266019274350696}, \"se\": {\"log_eval\": 0.013357370606483029}, \"se_hat\": {\"log_eval\": 0.012263504168286279}, \"context_stratum\": null}, \"15_0\": {\"name\": \"15_0\", \"parameters\": {\"lr\": 0.07475959993275257, \"decay\": 4.4930071267683065e-05, \"epochs\": 16}, \"y\": {\"log_eval\": 3.3610420926516205}, \"y_hat\": {\"log_eval\": 3.3612515676277255}, \"se\": {\"log_eval\": 0.013348588353470204}, \"se_hat\": {\"log_eval\": 0.013234709567014072}, \"context_stratum\": null}, \"16_0\": {\"name\": \"16_0\", \"parameters\": {\"lr\": 0.0028143370815851038, \"decay\": 0.006083735575886048, \"epochs\": 37}, \"y\": {\"log_eval\": 3.528262642158446}, \"y_hat\": {\"log_eval\": 3.5278215398643207}, \"se\": {\"log_eval\": 0.012156142965591931}, \"se_hat\": {\"log_eval\": 0.012030366909057136}, \"context_stratum\": null}, \"17_0\": {\"name\": \"17_0\", \"parameters\": {\"lr\": 0.0031722460970575166, \"decay\": 5.153458431222948e-05, \"epochs\": 48}, \"y\": {\"log_eval\": 3.35745258138615}, \"y_hat\": {\"log_eval\": 3.358951260569798}, \"se\": {\"log_eval\": 0.012186919913023975}, \"se_hat\": {\"log_eval\": 0.012088815826541945}, \"context_stratum\": null}, \"18_0\": {\"name\": \"18_0\", \"parameters\": {\"lr\": 0.061217137158285154, \"decay\": 0.005093566161426102, \"epochs\": 2}, \"y\": {\"log_eval\": 3.168146034596125}, \"y_hat\": {\"log_eval\": 3.1708864060537443}, \"se\": {\"log_eval\": 0.011724834444400638}, \"se_hat\": {\"log_eval\": 0.011636760356815122}, \"context_stratum\": null}, \"19_0\": {\"name\": \"19_0\", \"parameters\": {\"lr\": 0.012302214003413503, \"decay\": 0.0001241083471404148, \"epochs\": 24}, \"y\": {\"log_eval\": 3.310859376580618}, \"y_hat\": {\"log_eval\": 3.3156705007065432}, \"se\": {\"log_eval\": 0.013013713238650986}, \"se_hat\": {\"log_eval\": 0.012627976507614408}, \"context_stratum\": null}, \"20_0\": {\"name\": \"20_0\", \"parameters\": {\"lr\": 0.00045671365891730595, \"decay\": 0.0003864138666601675, \"epochs\": 27}, \"y\": {\"log_eval\": 3.493354500212299}, \"y_hat\": {\"log_eval\": 3.4941038776986613}, \"se\": {\"log_eval\": 0.011985410991012154}, \"se_hat\": {\"log_eval\": 0.011842025112949567}, \"context_stratum\": null}, \"21_0\": {\"name\": \"21_0\", \"parameters\": {\"lr\": 0.00011818864786637608, \"decay\": 0.00017291991110745218, \"epochs\": 11}, \"y\": {\"log_eval\": 3.4129530698338524}, \"y_hat\": {\"log_eval\": 3.4126835751538476}, \"se\": {\"log_eval\": 0.010893951393214646}, \"se_hat\": {\"log_eval\": 0.010845374849696844}, \"context_stratum\": null}, \"22_0\": {\"name\": \"22_0\", \"parameters\": {\"lr\": 0.0042958675936845365, \"decay\": 0.0010471843418864235, \"epochs\": 10}, \"y\": {\"log_eval\": 3.6777936772323065}, \"y_hat\": {\"log_eval\": 3.6528422645538745}, \"se\": {\"log_eval\": 0.01295640227218043}, \"se_hat\": {\"log_eval\": 0.00944134535527963}, \"context_stratum\": null}, \"23_0\": {\"name\": \"23_0\", \"parameters\": {\"lr\": 0.008370803588215753, \"decay\": 0.00022333890726881868, \"epochs\": 2}, \"y\": {\"log_eval\": 3.519143836350856}, \"y_hat\": {\"log_eval\": 3.521584278609035}, \"se\": {\"log_eval\": 0.01184426378037716}, \"se_hat\": {\"log_eval\": 0.011644284122676603}, \"context_stratum\": null}, \"24_0\": {\"name\": \"24_0\", \"parameters\": {\"lr\": 0.003423667093075686, \"decay\": 0.0013399111889739398, \"epochs\": 15}, \"y\": {\"log_eval\": 3.650251177315237}, \"y_hat\": {\"log_eval\": 3.6431589437205516}, \"se\": {\"log_eval\": 0.01230955863293442}, \"se_hat\": {\"log_eval\": 0.011011913946384469}, \"context_stratum\": null}, \"25_0\": {\"name\": \"25_0\", \"parameters\": {\"lr\": 0.0006869113033726057, \"decay\": 0.0018229361036326858, \"epochs\": 45}, \"y\": {\"log_eval\": 3.59844643260302}, \"y_hat\": {\"log_eval\": 3.5983592923059278}, \"se\": {\"log_eval\": 0.013030680531584954}, \"se_hat\": {\"log_eval\": 0.012355242402042953}, \"context_stratum\": null}, \"26_0\": {\"name\": \"26_0\", \"parameters\": {\"lr\": 0.00558261633492821, \"decay\": 0.0020691025936057034, \"epochs\": 12}, \"y\": {\"log_eval\": 3.5940986162758946}, \"y_hat\": {\"log_eval\": 3.603189753125716}, \"se\": {\"log_eval\": 0.01444843098271689}, \"se_hat\": {\"log_eval\": 0.012787919264242121}, \"context_stratum\": null}, \"27_0\": {\"name\": \"27_0\", \"parameters\": {\"lr\": 0.0038535517531817546, \"decay\": 0.00039530815909391445, \"epochs\": 11}, \"y\": {\"log_eval\": 3.604072959202277}, \"y_hat\": {\"log_eval\": 3.6077179059964095}, \"se\": {\"log_eval\": 0.012192131345327805}, \"se_hat\": {\"log_eval\": 0.011606140997104034}, \"context_stratum\": null}, \"28_0\": {\"name\": \"28_0\", \"parameters\": {\"lr\": 0.001831685554727031, \"decay\": 0.0062428424383467575, \"epochs\": 21}, \"y\": {\"log_eval\": 3.6121852565395094}, \"y_hat\": {\"log_eval\": 3.6141663472253427}, \"se\": {\"log_eval\": 0.012255683030681006}, \"se_hat\": {\"log_eval\": 0.011532699243793382}, \"context_stratum\": null}, \"29_0\": {\"name\": \"29_0\", \"parameters\": {\"lr\": 0.0013184302548125534, \"decay\": 0.0008283421858509831, \"epochs\": 37}, \"y\": {\"log_eval\": 3.6172050138356378}, \"y_hat\": {\"log_eval\": 3.6190250824743524}, \"se\": {\"log_eval\": 0.012981913317247438}, \"se_hat\": {\"log_eval\": 0.012386771755470169}, \"context_stratum\": null}, \"2_0\": {\"name\": \"2_0\", \"parameters\": {\"lr\": 0.08222266530738154, \"decay\": 0.000787696268305935, \"epochs\": 28}, \"y\": {\"log_eval\": 3.1768169773773316}, \"y_hat\": {\"log_eval\": 3.1759294798904616}, \"se\": {\"log_eval\": 0.012540239147262752}, \"se_hat\": {\"log_eval\": 0.012406686898506932}, \"context_stratum\": null}, \"30_0\": {\"name\": \"30_0\", \"parameters\": {\"lr\": 0.0005830066799163658, \"decay\": 0.0004613016523184007, \"epochs\": 49}, \"y\": {\"log_eval\": 3.598738157827219}, \"y_hat\": {\"log_eval\": 3.5981352364618955}, \"se\": {\"log_eval\": 0.011232449462836053}, \"se_hat\": {\"log_eval\": 0.010826821341997778}, \"context_stratum\": null}, \"31_0\": {\"name\": \"31_0\", \"parameters\": {\"lr\": 0.0023223184893015874, \"decay\": 0.0016108860028932247, \"epochs\": 9}, \"y\": {\"log_eval\": 3.558727045155133}, \"y_hat\": {\"log_eval\": 3.5645356723793453}, \"se\": {\"log_eval\": 0.011648132219884741}, \"se_hat\": {\"log_eval\": 0.011227946938375921}, \"context_stratum\": null}, \"32_0\": {\"name\": \"32_0\", \"parameters\": {\"lr\": 0.005391083307693113, \"decay\": 0.0008003947035889143, \"epochs\": 12}, \"y\": {\"log_eval\": 3.625094942527766}, \"y_hat\": {\"log_eval\": 3.6418783680275415}, \"se\": {\"log_eval\": 0.012355384811992873}, \"se_hat\": {\"log_eval\": 0.009696772021200095}, \"context_stratum\": null}, \"33_0\": {\"name\": \"33_0\", \"parameters\": {\"lr\": 0.003103488748160297, \"decay\": 0.0035133869602214274, \"epochs\": 22}, \"y\": {\"log_eval\": 3.6417610419944224}, \"y_hat\": {\"log_eval\": 3.6361885761752606}, \"se\": {\"log_eval\": 0.01453414594385548}, \"se_hat\": {\"log_eval\": 0.012918848890534218}, \"context_stratum\": null}, \"34_0\": {\"name\": \"34_0\", \"parameters\": {\"lr\": 0.0012152946378868432, \"decay\": 0.0011010052894948998, \"epochs\": 50}, \"y\": {\"log_eval\": 3.66830531482307}, \"y_hat\": {\"log_eval\": 3.6579242421509246}, \"se\": {\"log_eval\": 0.012908655061946196}, \"se_hat\": {\"log_eval\": 0.009066252526822832}, \"context_stratum\": null}, \"35_0\": {\"name\": \"35_0\", \"parameters\": {\"lr\": 0.0030470682447321057, \"decay\": 0.01, \"epochs\": 17}, \"y\": {\"log_eval\": 3.6951204858036406}, \"y_hat\": {\"log_eval\": 3.6631363938141344}, \"se\": {\"log_eval\": 0.014234781723022609}, \"se_hat\": {\"log_eval\": 0.010346484703827477}, \"context_stratum\": null}, \"36_0\": {\"name\": \"36_0\", \"parameters\": {\"lr\": 0.003323542918335707, \"decay\": 0.01, \"epochs\": 12}, \"y\": {\"log_eval\": 3.568384031262799}, \"y_hat\": {\"log_eval\": 3.574885834540357}, \"se\": {\"log_eval\": 0.012652860815973097}, \"se_hat\": {\"log_eval\": 0.012067755980426401}, \"context_stratum\": null}, \"37_0\": {\"name\": \"37_0\", \"parameters\": {\"lr\": 0.0029671541634396707, \"decay\": 0.00999999999999998, \"epochs\": 20}, \"y\": {\"log_eval\": 3.6469180672367254}, \"y_hat\": {\"log_eval\": 3.6575289308946104}, \"se\": {\"log_eval\": 0.01320344109262514}, \"se_hat\": {\"log_eval\": 0.010818406139472317}, \"context_stratum\": null}, \"38_0\": {\"name\": \"38_0\", \"parameters\": {\"lr\": 0.0028992131921908664, \"decay\": 0.00484521577137573, \"epochs\": 17}, \"y\": {\"log_eval\": 3.63075385857155}, \"y_hat\": {\"log_eval\": 3.6404219262262028}, \"se\": {\"log_eval\": 0.012528627303692476}, \"se_hat\": {\"log_eval\": 0.010746833777664177}, \"context_stratum\": null}, \"39_0\": {\"name\": \"39_0\", \"parameters\": {\"lr\": 0.0015930102849367376, \"decay\": 0.0012974881820559708, \"epochs\": 46}, \"y\": {\"log_eval\": 3.6242475806636123}, \"y_hat\": {\"log_eval\": 3.6272666960101385}, \"se\": {\"log_eval\": 0.013080994682006861}, \"se_hat\": {\"log_eval\": 0.01186544224115143}, \"context_stratum\": null}, \"3_0\": {\"name\": \"3_0\", \"parameters\": {\"lr\": 0.017995068324623793, \"decay\": 2.0432724797792104e-05, \"epochs\": 44}, \"y\": {\"log_eval\": 3.234652466339278}, \"y_hat\": {\"log_eval\": 3.2347342504666186}, \"se\": {\"log_eval\": 0.012151735262042189}, \"se_hat\": {\"log_eval\": 0.012092348961876092}, \"context_stratum\": null}, \"40_0\": {\"name\": \"40_0\", \"parameters\": {\"lr\": 0.0011762941184528637, \"decay\": 0.0005560489900774055, \"epochs\": 50}, \"y\": {\"log_eval\": 3.6316520235246337}, \"y_hat\": {\"log_eval\": 3.6332990397095823}, \"se\": {\"log_eval\": 0.013452239322245547}, \"se_hat\": {\"log_eval\": 0.011662392341226633}, \"context_stratum\": null}, \"41_0\": {\"name\": \"41_0\", \"parameters\": {\"lr\": 0.002157058720142707, \"decay\": 0.0008397548096370134, \"epochs\": 24}, \"y\": {\"log_eval\": 3.6162079630280815}, \"y_hat\": {\"log_eval\": 3.61598968942969}, \"se\": {\"log_eval\": 0.012845865852803834}, \"se_hat\": {\"log_eval\": 0.012441817403395183}, \"context_stratum\": null}, \"42_0\": {\"name\": \"42_0\", \"parameters\": {\"lr\": 0.0011339380519406353, \"decay\": 0.0036838855554993935, \"epochs\": 50}, \"y\": {\"log_eval\": 3.6393089322795955}, \"y_hat\": {\"log_eval\": 3.639818645207406}, \"se\": {\"log_eval\": 0.013629283673029383}, \"se_hat\": {\"log_eval\": 0.012919674344219421}, \"context_stratum\": null}, \"43_0\": {\"name\": \"43_0\", \"parameters\": {\"lr\": 0.000966822231346963, \"decay\": 0.0014159222420817687, \"epochs\": 50}, \"y\": {\"log_eval\": 3.6673930369798353}, \"y_hat\": {\"log_eval\": 3.6594283636012612}, \"se\": {\"log_eval\": 0.012964159365586368}, \"se_hat\": {\"log_eval\": 0.009881112465664888}, \"context_stratum\": null}, \"44_0\": {\"name\": \"44_0\", \"parameters\": {\"lr\": 0.04044537228104681, \"decay\": 1.0773867568563373e-05, \"epochs\": 0}, \"y\": {\"log_eval\": 3.3077090498698034}, \"y_hat\": {\"log_eval\": 3.3089730164388467}, \"se\": {\"log_eval\": 0.011685138307808459}, \"se_hat\": {\"log_eval\": 0.011630173724347595}, \"context_stratum\": null}, \"45_0\": {\"name\": \"45_0\", \"parameters\": {\"lr\": 0.016038689473977068, \"decay\": 0.00033224162007139364, \"epochs\": 8}, \"y\": {\"log_eval\": 3.6201014199054216}, \"y_hat\": {\"log_eval\": 3.6204503909661656}, \"se\": {\"log_eval\": 0.01340935802979851}, \"se_hat\": {\"log_eval\": 0.012577546845180473}, \"context_stratum\": null}, \"46_0\": {\"name\": \"46_0\", \"parameters\": {\"lr\": 0.0014196493120919636, \"decay\": 0.0001894540113910872, \"epochs\": 34}, \"y\": {\"log_eval\": 3.6144160748948586}, \"y_hat\": {\"log_eval\": 3.612577214959392}, \"se\": {\"log_eval\": 0.01265822051392698}, \"se_hat\": {\"log_eval\": 0.012246496737721938}, \"context_stratum\": null}, \"47_0\": {\"name\": \"47_0\", \"parameters\": {\"lr\": 0.00034276999307719663, \"decay\": 0.00999999999999998, \"epochs\": 50}, \"y\": {\"log_eval\": 3.5265926910636463}, \"y_hat\": {\"log_eval\": 3.526529717650953}, \"se\": {\"log_eval\": 0.012299350769441726}, \"se_hat\": {\"log_eval\": 0.012187362012642146}, \"context_stratum\": null}, \"48_0\": {\"name\": \"48_0\", \"parameters\": {\"lr\": 0.005938148149707883, \"decay\": 0.0007840983805538117, \"epochs\": 7}, \"y\": {\"log_eval\": 3.648372080954148}, \"y_hat\": {\"log_eval\": 3.6459966264404176}, \"se\": {\"log_eval\": 0.011991955791841842}, \"se_hat\": {\"log_eval\": 0.011009391606514004}, \"context_stratum\": null}, \"49_0\": {\"name\": \"49_0\", \"parameters\": {\"lr\": 0.001031454624264051, \"decay\": 0.0009518252724083013, \"epochs\": 48}, \"y\": {\"log_eval\": 3.621990429470776}, \"y_hat\": {\"log_eval\": 3.64195724596439}, \"se\": {\"log_eval\": 0.01295161419332295}, \"se_hat\": {\"log_eval\": 0.008752943313802527}, \"context_stratum\": null}, \"4_0\": {\"name\": \"4_0\", \"parameters\": {\"lr\": 0.00024507982427034327, \"decay\": 0.0017904906868920903, \"epochs\": 3}, \"y\": {\"log_eval\": 3.394475361046734}, \"y_hat\": {\"log_eval\": 3.3941987416034864}, \"se\": {\"log_eval\": 0.011416996783523663}, \"se_hat\": {\"log_eval\": 0.011364083560320508}, \"context_stratum\": null}, \"50_0\": {\"name\": \"50_0\", \"parameters\": {\"lr\": 0.0015862531604133104, \"decay\": 0.00034996139778338385, \"epochs\": 40}, \"y\": {\"log_eval\": 3.6371229929215834}, \"y_hat\": {\"log_eval\": 3.6376680934877355}, \"se\": {\"log_eval\": 0.013294839351542234}, \"se_hat\": {\"log_eval\": 0.011978362137349081}, \"context_stratum\": null}, \"51_0\": {\"name\": \"51_0\", \"parameters\": {\"lr\": 0.0001, \"decay\": 0.0007786274174831826, \"epochs\": 50}, \"y\": {\"log_eval\": 3.4377952459472514}, \"y_hat\": {\"log_eval\": 3.4379990885565284}, \"se\": {\"log_eval\": 0.011530046799630468}, \"se_hat\": {\"log_eval\": 0.011469507241439192}, \"context_stratum\": null}, \"5_0\": {\"name\": \"5_0\", \"parameters\": {\"lr\": 0.00017137166229077094, \"decay\": 3.5115084834239404e-05, \"epochs\": 34}, \"y\": {\"log_eval\": 3.4541948141928853}, \"y_hat\": {\"log_eval\": 3.45384329645565}, \"se\": {\"log_eval\": 0.011142889036146396}, \"se_hat\": {\"log_eval\": 0.011084308668166759}, \"context_stratum\": null}, \"6_0\": {\"name\": \"6_0\", \"parameters\": {\"lr\": 0.004551821441836866, \"decay\": 0.007375404959949084, \"epochs\": 19}, \"y\": {\"log_eval\": 3.6320123520185814}, \"y_hat\": {\"log_eval\": 3.633461118134959}, \"se\": {\"log_eval\": 0.013048649202333357}, \"se_hat\": {\"log_eval\": 0.011788062504764416}, \"context_stratum\": null}, \"7_0\": {\"name\": \"7_0\", \"parameters\": {\"lr\": 0.023212195123507594, \"decay\": 8.455812526476041e-05, \"epochs\": 9}, \"y\": {\"log_eval\": 3.580064777534327}, \"y_hat\": {\"log_eval\": 3.5759650700319137}, \"se\": {\"log_eval\": 0.013974420362918339}, \"se_hat\": {\"log_eval\": 0.013609126772185}, \"context_stratum\": null}, \"8_0\": {\"name\": \"8_0\", \"parameters\": {\"lr\": 0.0012195918445462937, \"decay\": 0.0005595295912680022, \"epochs\": 44}, \"y\": {\"log_eval\": 3.655644962569447}, \"y_hat\": {\"log_eval\": 3.646027577135288}, \"se\": {\"log_eval\": 0.012229225245228424}, \"se_hat\": {\"log_eval\": 0.010501890318337852}, \"context_stratum\": null}, \"9_0\": {\"name\": \"9_0\", \"parameters\": {\"lr\": 0.0006781060687356291, \"decay\": 1.0946176570293072e-05, \"epochs\": 0}, \"y\": {\"log_eval\": 3.319037644557284}, \"y_hat\": {\"log_eval\": 3.3192821976011024}, \"se\": {\"log_eval\": 0.01137763940360927}, \"se_hat\": {\"log_eval\": 0.011339669884700051}, \"context_stratum\": null}, \"control\": {\"name\": \"control\", \"parameters\": {\"lr\": 0.125, \"decay\": 0.0012, \"epochs\": 20}, \"y\": {\"log_eval\": 3.1552959605272526}, \"y_hat\": {\"log_eval\": 3.157053593505689}, \"se\": {\"log_eval\": 0.0116866201822084}, \"se_hat\": {\"log_eval\": 0.011581586583600397}, \"context_stratum\": null}, \"zero\": {\"name\": \"zero\", \"parameters\": {\"lr\": 0.125, \"decay\": 0.0012, \"epochs\": 0}, \"y\": {\"log_eval\": 3.3404300888956486}, \"y_hat\": {\"log_eval\": 3.3389170216622435}, \"se\": {\"log_eval\": 0.010873038587426026}, \"se_hat\": {\"log_eval\": 0.010804900129217636}, \"context_stratum\": null}}, \"out_of_sample\": {}, \"status_quo_name\": null};\n",
       "const density = 50;\n",
       "const grid_x = [0.0, 1.0204081632653061, 2.0408163265306123, 3.0612244897959187, 4.081632653061225, 5.1020408163265305, 6.122448979591837, 7.142857142857143, 8.16326530612245, 9.183673469387756, 10.204081632653061, 11.224489795918368, 12.244897959183675, 13.26530612244898, 14.285714285714286, 15.306122448979592, 16.3265306122449, 17.346938775510203, 18.367346938775512, 19.387755102040817, 20.408163265306122, 21.42857142857143, 22.448979591836736, 23.46938775510204, 24.48979591836735, 25.510204081632654, 26.53061224489796, 27.551020408163264, 28.571428571428573, 29.591836734693878, 30.612244897959183, 31.63265306122449, 32.6530612244898, 33.673469387755105, 34.69387755102041, 35.714285714285715, 36.734693877551024, 37.755102040816325, 38.775510204081634, 39.79591836734694, 40.816326530612244, 41.83673469387755, 42.85714285714286, 43.87755102040816, 44.89795918367347, 45.91836734693878, 46.93877551020408, 47.95918367346939, 48.9795918367347, 50.0];\n",
       "const grid_y = [0.0001, 0.00011566507536642776, 0.00013378409659521427, 0.0001547414761551491, 0.00017898184501797623, 0.00020701948593226515, 0.0002394492444267458, 0.00027695914903053766, 0.00032034500846038835, 0.00037052729546829794, 0.0004285706755565933, 0.0004957065948809422, 0.0005733594065653951, 0.0006631765897243672, 0.0007670637023171956, 0.0008872248093936954, 0.0010262092444548628, 0.0011869656960159672, 0.0013729047668705138, 0.0015879713333100591, 0.0018367282394703476, 0.0021244531024598393, 0.0024572502820845886, 0.002842180390714901, 0.003287410090970221, 0.0038023853593242576, 0.004398031891584418, 0.0050869869020406504, 0.005883867234125633, 0.006805579470811962, 0.007871678624036791, 0.00910478301309514, 0.010531054134046215, 0.01218075170102386, 0.014088875635186696, 0.016295908621720968, 0.018848674988957776, 0.021801334131551033, 0.02521652955414524, 0.029166717913599653, 0.033735706256678426, 0.03902043006718383, 0.04513300984551241, 0.05220312985294919, 0.0603807894880479, 0.06983948566819469, 0.08077989373364299, 0.09343412496793842, 0.10807065106212838, 0.125];\n",
       "const f = [3.38924872982885, 3.3913771479015513, 3.393392469439976, 3.395272931567584, 3.3970017410953326, 3.3985676385912376, 3.3999647841624316, 3.4011920855241176, 3.4022522259473456, 3.4031506665072317, 3.403894817258653, 3.4044934594472, 3.404956408041787, 3.405294352557076, 3.405518802681706, 3.405642081553673, 3.4056773401491776, 3.405638600596529, 3.4055408671806364, 3.405400364599795, 3.4052349587376165, 3.4050647478099467, 3.404912622945254, 3.404804327254506, 3.4047675295151185, 3.4048299503292223, 3.4050171391218487, 3.4053505254833003, 3.4058460697125015, 3.406513587684862, 3.4073566972527556, 3.4083732754091334, 3.409556289261454, 3.4108948550086104, 3.412375382769897, 3.4139826786222356, 3.4157008959856223, 3.4175142541141894, 3.419407470010179, 3.4213658803035707, 3.4233752604146344, 3.425421377910111, 3.427489342354411, 3.4295628307817063, 3.4316232716099546, 3.4336490584782364, 3.4356148447675405, 3.4374909588489704, 3.4392430142568626, 3.44083189708089, 3.3896289422140464, 3.391852796700514, 3.393962133673682, 3.395934159475605, 3.3977520954539853, 3.399405809030182, 3.4008914438648348, 3.4022102674695383, 3.4033671795458673, 3.4043693112211133, 3.40522497800937, 3.4059430630454908, 3.406532778098101, 3.4070036902541485, 3.407365895269905, 3.4076302431128855, 3.4078085602377532, 3.4079138558450075, 3.407960540346123, 3.407964720725631, 3.407944661770716, 3.4079214777326614, 3.407919925085661, 3.4079686743131363, 3.4080991759442902, 3.408343145411326, 3.408729708781909, 3.409283067248501, 3.4100209750531216, 3.410954037958555, 3.412085736655533, 3.4134130351430976, 3.414927410453736, 3.416616131034497, 3.4184636156022328, 3.420452720168782, 3.422565824813533, 3.424785620556389, 3.4270955286141542, 3.429479719170872, 3.4319227349280106, 3.4344087655587208, 3.436920659743485, 3.4394387955475083, 3.4419399492797647, 3.4443963009013037, 3.4467746915255915, 3.4490362218709887, 3.4511362833940855, 3.4530251760144814, 3.3896696909515187, 3.3919839623383377, 3.3941854390161006, 3.3962504313194235, 3.398162477770923, 3.3999130864726204, 3.401500974184778, 3.402930210205188, 3.4042080349965342, 3.405342998365694, 3.4063437252421336, 3.4072183366412223, 3.407974402060952, 3.4086192478232697, 3.409160451881136, 3.4096063904965628, 3.4099667489386385, 3.41025295779368, 3.4104785648660676, 3.4106595995584663, 3.4108150308618117, 3.410967442294037, 3.4111439191718724, 3.411376485469305, 3.411700712081216, 3.412152495161137, 3.412764613895122, 3.413564070999119, 3.4145704211766974, 3.4157950443886245, 3.4172412469268427, 3.4189050297463752, 3.420776334158554, 3.422840562638612, 3.4250801776265978, 3.427476200032583, 3.4300094560794343, 3.4326614516785345, 3.4354147863649285, 3.438253055746453, 3.44116023585625, 3.444119596958833, 3.447112256300367, 3.4501155409903044, 3.453101380135985, 3.4560349647865083, 3.4588738973349393, 3.4615680072764916, 3.464059965082278, 3.4662868071300603, 3.3893499133538394, 3.391749095547058, 3.394041622896559, 3.396203142624351, 3.3982178766684834, 3.4000795630201104, 3.4017900904317804, 3.4033566275704024, 3.4047885921069523, 3.406095339885933, 3.4072848367473183, 3.408363226655103, 3.4093350798328594, 3.4102040810521794, 3.4109739406473314, 3.411649353651541, 3.4122368840923234, 3.4127457060807127, 3.4131881883684123, 3.4135803642461253, 3.4139423832699287, 3.414299079898129, 3.4146806958313984, 3.415123118362559, 3.415666146052735, 3.416349799837753, 3.4172104779202135, 3.418278007312529, 3.419573797467737, 3.421110059230693, 3.42288996843081, 3.4249085944186866, 3.4271543734187913, 3.429610890647685, 3.4322587428592186, 3.435077276698464, 3.43804602834168, 3.441145719754755, 3.444358695886768, 3.447668720663463, 3.451060096638969, 3.4545161413663212, 3.4580171442965946, 3.461538031961411, 3.4650460653582864, 3.4684989538113906, 3.4718437696916764, 3.4750169808849156, 3.4779457994509126, 3.4805509036899114, 3.3886629223299334, 3.3911409515600917, 3.3935244042615844, 3.3957887215870244, 3.3979192726858614, 3.399912673648473, 3.401774474492814, 3.4035148973887788, 3.405144915196636, 3.4066736268094635, 3.408106977215855, 3.4094475836334914, 3.410695371812241, 3.4118487333670044, 3.412905944742772, 3.413866631525227, 3.4147331143823507, 3.415511531823102, 3.416212697514234, 3.4168527135163487, 3.4174534189880914, 3.4180427755066094, 3.418655142547754, 3.419330839324376, 3.420113968308567, 3.4210486110013507, 3.422174791907952, 3.42352525736004, 3.425123415388454, 3.4269824645526104, 3.4291056003584064, 3.4314870987176413, 3.434114020815069, 3.4369682660110756, 3.440028713734393, 3.4432732272805247, 3.4466803259574266, 3.4502303571252417, 3.453906016829306, 3.4576920879584416, 3.4615743059943114, 3.4655373421502413, 3.469562020783874, 3.473622053740681, 3.477680748080675, 3.4816882762664045, 3.485580135625797, 3.4892773303939815, 3.492688585344496, 3.4957145847100675, 3.3876233762253674, 3.390173615796621, 3.3926488805055643, 3.3950254012319108, 3.3972903571294077, 3.3994438535469804, 3.4014951758436136, 3.4034569232746894, 3.4053404360536663, 3.4071530678634665, 3.408897060580704, 3.4105696920512103, 3.4121643648031323, 3.413672312615827, 3.415084622315879, 3.4163943035601463, 3.4175981902788046, 3.418698521325511, 3.41970411961368, 3.420631160259323, 3.4215035716506126, 3.422353104649355, 3.4232189455212287, 3.4241464276250695, 3.425184346391758, 3.4263810828100505, 3.4277804905096803, 3.4294184651653197, 3.431320675899773, 3.433501590003859, 3.4359647086648266, 3.438703795224816, 3.4417048022890326, 3.444948186850861, 3.4484113293550687, 3.4520708177122037, 3.455904394773159, 3.459892382426161, 3.46401838881666, 3.4682690959347, 3.472632944166483, 3.477097612526237, 3.4816463616035107, 3.4862535580137597, 3.4908799932909744, 3.495468866375851, 3.49994341475148, 3.504207067117188, 3.5081466220592894, 3.5116383933146453, 3.3862761918683093, 3.388892124767811, 3.3914613021148154, 3.393962869246495, 3.3963870307201014, 3.3987375604046175, 3.401026608470827, 3.403267745587178, 3.405471082857757, 3.407640502559422, 3.409772677697445, 3.41185754987567, 3.413879920050122, 3.415821792467966, 3.417665111784894, 3.4193945560688332, 3.421000097125619, 3.4224791108765444, 3.423837904821451, 3.4250926109236617, 3.4262694454862634, 3.427404326543129, 3.4285417382572576, 3.4297326123246696, 3.431031087191772, 3.432490425102443, 3.4341587927087973, 3.436075673003805, 3.438269434111367, 3.440756270154393, 3.4435404673213688, 3.4466157627038356, 3.4499674656767025, 3.453574998933174, 3.4574145631105297, 3.46146169379248, 3.465693522519229, 3.470090550875719, 3.47463770019803, 3.479324336719482, 3.484142942583558, 3.489086166674652, 3.4941421956709693, 3.499288749458525, 3.5044864789377694, 3.509673006915036, 3.5147591251687427, 3.5196285638091656, 3.5241421936883115, 3.528146591755885, 3.3847057971978725, 3.3873838063031063, 3.3900519658465798, 3.39269553970024, 3.395309853067575, 3.397901766115143, 3.400484640085161, 3.403071352642927, 3.405669123484887, 3.4082765843153027, 3.4108828674723832, 3.413468407722011, 3.416007097230161, 3.4184693824681616, 3.4208258614411444, 3.423050945115172, 3.4251261941776696, 3.4270430263709555, 3.428804595344775, 3.430426745786624, 3.431938023521119, 3.4333787402751215, 3.4347990664886625, 3.436256117843775, 3.437810117538293, 3.439519976025633, 3.441438882307418, 3.4436105683141185, 3.4460667630328663, 3.4488260880057915, 3.451894364077713, 3.4552660781692603, 3.4589266454235386, 3.462855102243545, 3.4670269429302785, 3.47141690630832, 3.4760015706114102, 3.480761589267046, 3.48568329507191, 3.4907592517173627, 3.4959872118265243, 3.501366945782101, 3.5068946301179746, 3.512554980439036, 3.518312043598798, 3.5241003606984083, 3.5298187843540143, 3.535329240878786, 3.5404619464509928, 3.545027097407712, 3.3830411191425993, 3.385785329364996, 3.3885646370508105, 3.391373108472142, 3.3942129193950956, 3.3970941807676063, 3.4000305242372733, 3.403032809365605, 3.4061038453981585, 3.4092352408609163, 3.4124064986825724, 3.415586150349717, 3.418734566258151, 3.421807963086667, 3.4247630522896912, 3.4275617548580266, 3.4301754552980257, 3.4325883750611457, 3.4347997897272804, 3.4368249626072673, 3.4386947872389, 3.440454202855598, 3.4421594797484585, 3.443874510167521, 3.445666338289816, 3.447600324254769, 3.449735490132007, 3.452120641836592, 3.454791751823779, 3.4577708484832907, 3.461066369198764, 3.4646746940987763, 3.4685824620421886, 3.4727692957649903, 3.477210683497338, 3.481880899314971, 3.486755914068833, 3.4918161989185195, 3.497049141871264, 3.502450524126376, 3.5080242340366907, 3.5137792768907956, 3.5197233313450593, 3.5258527322011575, 3.5321398290168022, 3.538519982866189, 3.544881578823058, 3.551062740654927, 3.556857421500859, 3.562031198437252, 3.3814522066384978, 3.384278285881427, 3.387190717244752, 3.390193886999191, 3.3932980335248817, 3.396517632689391, 3.399867032513312, 3.4033546803043357, 3.4069779340882134, 3.410719774328081, 3.414547923874227, 3.4184163751483774, 3.42226900177641, 3.426044699213663, 3.4296833445841686, 3.433131809206248, 3.4363493087018835, 3.4393115227683553, 3.4420131248696766, 3.444468583906424, 3.446711289888346, 3.44879118595282, 3.450771161394166, 3.4527225052753274, 3.4547197769634574, 3.4568355335216867, 3.459135434536324, 3.461674261076345, 3.4644932826898827, 3.467619178771771, 3.4710644306538856, 3.4748288567323415, 3.478901859286583, 3.483265014060605, 3.487894810088443, 3.4927655396413844, 3.4978524424354633, 3.5031351434158347, 3.5086011543601017, 3.514248769152694, 3.5200881892482405, 3.526139373194493, 3.532425170815741, 3.5389590212604913, 3.545727971792918, 3.5526738310398285, 3.55967731033724, 3.566551015755893, 3.573046025471606, 3.5788731458204954, 3.3801405624809235, 3.383077348287452, 3.3861553480737934, 3.389390108827918, 3.3928010393707484, 3.3964084904315084, 3.4002288916906074, 3.4042689273143747, 3.4085202499200493, 3.4129560419301233, 3.4175302021453655, 3.4221793847914475, 3.4268276384370173, 3.4313930001723767, 3.435795128491263, 3.439962944910375, 3.4438413149797804, 3.4473960117788263, 3.4506165134038844, 3.453516517372783, 3.4561323404739617, 3.4585195672490996, 3.460748404891101, 3.462898223256005, 3.465051751335375, 3.467289402199827, 3.46968420840519, 3.4722978293407465, 3.4751779846818964, 3.478357449952252, 3.481854469419447, 3.485674207452493, 3.489810777338692, 3.494249491646629, 3.498969219576017, 3.503945005710448, 3.5091512719564406, 3.514565870373812, 3.5201749016597157, 3.5259775700250096, 3.5319895418171634, 3.538242580852761, 3.54477802709323, 3.5516323812919732, 3.5588151532355146, 3.5662821625089407, 3.573910965433701, 3.5814875187900808, 3.5887123900304765, 3.595229322401353, 3.379327930675506, 3.3824182892855457, 3.3857052346528747, 3.389215906874674, 3.3929799321223837, 3.397025227074003, 3.401372196144482, 3.4060272286327042, 3.4109768467542105, 3.4161838695799798, 3.4215866056273927, 3.4271015255618824, 3.4326292313044102, 3.4380629464981185, 3.4432983194139513, 3.4482431398624716, 3.452825655513428, 3.457000490924838, 3.460751632543773, 3.4640924305949827, 3.4670629794189662, 3.469725501963156, 3.472158462454931, 3.4744500954854223, 3.4766919358329837, 3.4789728290717665, 3.481373830950733, 3.4839643417649335, 3.4867997122858436, 3.4899203602554048, 3.493352181698605, 3.4971078301087077, 3.5011883780781496, 3.505585018639792, 3.5102807706544454, 3.5152525179685448, 3.5204739838798758, 3.525920247026822, 3.5315739937935424, 3.5374328307108422, 3.543515780979541, 3.549865898126856, 3.55654525877948, 3.5636190717222607, 3.5711278536534796, 3.5790507799803986, 3.5872688029723627, 3.5955411382858804, 3.6035094289403533, 3.6107360206751635, 3.379245543837373, 3.3825474614025595, 3.386098604471585, 3.389937684924049, 3.394105397268995, 3.3986389503018986, 3.4035649526306084, 3.4088916095215325, 3.414601666660099, 3.420647691800526, 3.4269510370562637, 3.4334052098351746, 3.43988353499376, 3.446250124618772, 3.452372513160971, 3.4581340316821274, 3.463444134575183, 3.468245381873198, 3.472516466124716, 3.4762713769054145, 3.4795553645686708, 3.48243869952546, 3.4850092980614678, 3.4873651481783936, 3.4896072216061342, 3.4918333148217755, 3.494133093734203, 3.496584518261959, 3.499251728530879, 3.5021843207852292, 3.5054177327990743, 3.508974278318836, 3.51286432659182, 3.517087284614661, 3.521632400916494, 3.526479887054431, 3.5316032815487053, 3.536974117873502, 3.542569542904327, 3.54838242600669, 3.5544318259302723, 3.5607698603155873, 3.567479693693408, 3.574659350741573, 3.5823883392850817, 3.590679349692803, 3.599425157620934, 3.6083597727599916, 3.6170575968265064, 3.6249841856275538, 3.380123424652255, 3.383711646357069, 3.3875957208190774, 3.3918252177220998, 3.3964522870277825, 3.4015249768173694, 3.4070785107586055, 3.413125566746299, 3.4196472367693294, 3.426586701654994, 3.4338475076936232, 3.4412976023922206, 3.44877910720876, 3.4561225160549123, 3.463163020055504, 3.4697562649857114, 3.4757911114375877, 3.4811977397559435, 3.48595046007733, 3.4900655816347905, 3.4935954516075034, 3.4966201670030865, 3.4992384686461167, 3.5015590219613135, 3.5036928342419564, 3.5057471346809916, 3.5078207735812983, 3.510001087095799, 3.512362132900521, 3.5149641263648914, 3.517853762922638, 3.521064960769645, 3.52461950822237, 3.5285272478546026, 3.532785817311021, 3.537380558792709, 3.5422858496043856, 3.547469474369967, 3.5529013260833513, 3.5585663889485324, 3.5644797350085002, 3.5706987132916934, 3.5773254041721585, 3.5844916943504144, 3.5923212823154747, 3.6008690237659775, 3.6100484235702823, 3.6195718943061133, 3.6289405651920834, 3.637509787836203, 3.382178507562525, 3.3861466911340057, 3.390448211014367, 3.3951417098994003, 3.400290299141073, 3.405953873463797, 3.412178619713943, 3.418984788318028, 3.4263547452823815, 3.434224034677715, 3.4424782326313603, 3.450957478913621, 3.4594688478936466, 3.467804739676855, 3.475763980279729, 3.4831718164483054, 3.4898955169041614, 3.495853526922239, 3.50101761939795, 3.5054088463648174, 3.5090890487147757, 3.512150092422614, 3.5147028610612683, 3.5168674725305644, 3.518765445034544, 3.5205138950973645, 3.522221497165749, 3.523985871860512, 3.525892146322592, 3.5280124709955563, 3.5304062042089175, 3.533120334891538, 3.5361896248543543, 3.5396360445379274, 3.5434674483213517, 3.5476761224392077, 3.552238731021346, 3.557119899184157, 3.5622815401157264, 3.5676984856582066, 3.573378122287205, 3.5793783896033693, 3.585815627340807, 3.5928522780341936, 3.600655803921359, 3.609326461985749, 3.618804279706271, 3.628785337878519, 3.6386979070074803, 3.64778263427378, 3.3856002100408844, 3.390063269185244, 3.3948853545362905, 3.400130851036814, 3.405871871740132, 3.4121800456438596, 3.4191143582826675, 3.4267059510621762, 3.434942216647563, 3.443753890873547, 3.453009354457345, 3.462519299200799, 3.472052293592746, 3.481358623883018, 3.490197512510106, 3.498362269453044, 3.5056989972577064, 3.51211645244501, 3.5175868200088445, 3.5221389436423762, 3.525846667396333, 3.528815276244703, 3.5311686216704783, 3.5330385823336057, 3.534557393509231, 3.535852501498413, 3.537043228403721, 3.538238625941299, 3.539536177024225, 3.541021190024127, 3.542766708165513, 3.544833586326497, 3.547270220902743, 3.550111418532625, 3.553376202078735, 3.5570650897655742, 3.5611585274083537, 3.565619306543868, 3.570402010740695, 3.5754707996056854, 3.580823244254543, 3.586513773838018, 3.5926668059755613, 3.5994675145105886, 3.6071188641054133, 3.615759824194836, 3.6253545819652153, 3.6355874328543263, 3.645825368461753, 3.6552103085514336, 3.3905322583238275, 3.3956281785685145, 3.4010953897333254, 3.4069986551815408, 3.4134149366978828, 3.4204255090794926, 3.4281026901508045, 3.436491541895563, 3.4455889481182753, 3.4553249515530964, 3.4655527999061455, 3.4760530965005123, 3.4865533366202124, 3.496758861367767, 3.50638778296164, 3.5152021158822837, 3.523029481305342, 3.529772874889758, 3.5354089766652113, 3.539977699670049, 3.54356682582513, 3.5462956409779562, 3.5483006310609837, 3.5497248539647424, 3.5507110503644506, 3.5513974917161435, 3.551915325494801, 3.552386594286279, 3.5529226767010282, 3.5536232142235527, 3.5545755467260625, 3.555854415491061, 3.5575214145646843, 3.559623566193732, 3.562190628529406, 3.5652314822266455, 3.568731280734636, 3.572652650078904, 3.5769448716353955, 3.5815631189610135, 3.586495450608329, 3.591790371882826, 3.5975739308770036, 3.604042783413267, 3.611419777329818, 3.619865193630883, 3.629354222212798, 3.639560041486055, 3.6498119344673357, 3.6591975465742204, 3.3970501033657308, 3.402939960890399, 3.4092000249388406, 3.4158877154019716, 3.423077755914449, 3.4308558865077505, 3.439305725428972, 3.4484879699240794, 3.4584137127027823, 3.4690178255270316, 3.4801422038383163, 3.491538299644962, 3.502891709651932, 3.5138624297605983, 3.5241291613642334, 3.533426806947682, 3.541570400588176, 3.5484633547192765, 3.5540918067690797, 3.558509461268184, 3.561818307862881, 3.5641500512671858, 3.5656514873249976, 3.566474950963019, 3.566772999952318, 3.5666954394819883, 3.5663869753850053, 3.5659847399355242, 3.5656158265547435, 3.5653953005826393, 3.565424953950457, 3.565792634156842, 3.566571578444031, 3.5678190024091543, 3.569573369860336, 3.5718504893303855, 3.5746400192340597, 3.5779058744744283, 3.5815950436408257, 3.5856574128956074, 3.590074249404114, 3.594887637639663, 3.6002192433612494, 3.60626414349425, 3.6132452800832846, 3.6213211094293216, 3.630459217840702, 3.6403210548597214, 3.6502293842571683, 3.659277932544036, 3.40513435636038, 3.411998609743436, 3.419221049688851, 3.426841788704726, 3.434922857336513, 3.4435450400882788, 3.4527968968041223, 3.462753306059743, 3.47344334048485, 3.484813425876025, 3.496700071509586, 3.508828967839193, 3.520846228699619, 3.5323706389014418, 3.5430485011180073, 3.5525968261798804, 3.5608278340112918, 3.567653693822353, 3.573075126063734, 3.5771606112277676, 3.580023569933167, 3.581803143497826, 3.582651321046877, 3.582726221485381, 3.58218917647216, 3.581202688933224, 3.5799274421370715, 3.578518233222957, 3.5771197702123043, 3.575863332012247, 3.574864731882989, 3.5742233581400376, 3.574021587126491, 3.574323682011123, 3.575173482406182, 3.5765909082452563, 3.578568737598925, 3.581073067191344, 3.5840519555683796, 3.5874548599220017, 3.5912604807739124, 3.5955052779816987, 3.6003011606130393, 3.6058284464576777, 3.6122901991224743, 3.6198213201763885, 3.628367422029639, 3.637582994266221, 3.646816550110526, 3.6552206942833045, 3.414642557004989, 3.4226711616100647, 3.4310398571858727, 3.439760093744197, 3.448867782843144, 3.458424549660878, 3.4685113633453386, 3.4792097957400236, 3.4905670935307263, 3.5025480581593653, 3.514992320700072, 3.527607109289613, 3.540007565674292, 3.5517834469576375, 3.562563527757094, 3.572061999256811, 3.580101406352287, 3.586612051082472, 3.591613205439494, 3.595186025431451, 3.597448321626048, 3.5985374080501824, 3.598602171705665, 3.5978015163059007, 3.596304450305635, 3.5942879672281367, 3.5919316840959152, 3.589410691309091, 3.586888784380363, 3.5845135389793796, 3.5824135819019536, 3.580697558817312, 3.5794538623750736, 3.5787501145048766, 3.5786316815394867, 3.579119244274975, 3.5802067802440143, 3.5818629977871734, 3.5840400736522775, 3.5866917576414243, 3.589798477092067, 3.593392270273235, 3.597570946868258, 3.6024889532797584, 3.608313155452628, 3.615139268076863, 3.622885334660151, 3.6312105071698775, 3.6395164040271872, 3.647048205824333, 3.425284287027928, 3.434658360856818, 3.444354598569772, 3.4543446466706107, 3.464623575952795, 3.4752159598863748, 3.48617592114967, 3.4975751122904755, 3.5094707863477614, 3.521849635486014, 3.534565212317585, 3.547320320666125, 3.559719351014891, 3.5713484690107, 3.581843451646217, 3.590935091223948, 3.598469801319159, 3.604403658705162, 3.6087754118671875, 3.6116727574351666, 3.613206417950356, 3.6134986735481074, 3.612684405829912, 3.6109173673476014, 3.608373386420124, 3.6052461470945656, 3.6017369878135064, 3.598043083532651, 3.594347610672505, 3.5908133779790568, 3.587579744302859, 3.584761826124825, 3.5824507843738496, 3.5807141235509685, 3.579595357303839, 3.5791131478082576, 3.5792611494358955, 3.58001098791989, 3.5813211620587353, 3.583153064917112, 3.585491839979567, 3.5883659108487627, 3.591856117880717, 3.596084089717622, 3.6011711158977016, 3.607166588294537, 3.6139630185513276, 3.621237945822199, 3.628464064884812, 3.634993308763151, 3.436607597999639, 3.447472045440549, 3.4586459025576715, 3.470051821674043, 3.4816305918743238, 3.4933513519394586, 3.5052181733404884, 3.517267034835355, 3.5295433906104527, 3.5420481769470538, 3.554659600596267, 3.56710302511994, 3.5790132589109334, 3.5900159932513094, 3.5997865104836957, 3.6080907331882393, 3.614807071006435, 3.6199189290598293, 3.623480281304365, 3.6255752964441332, 3.626293540532082, 3.625727635952007, 3.623987024314623, 3.6212144926128174, 3.617591999182489, 3.613331498822083, 3.608657233550943, 3.603788188729816, 3.598925331773556, 3.594244310242806, 3.589892456477076, 3.585988512469148, 3.5826236471017756, 3.5798627235553053, 3.5777453096036167, 3.5762866283296337, 3.575479474384183, 3.575298787548181, 3.5757105149207162, 3.5766850850987857, 3.5782133581821576, 3.580320105262949, 3.583067876038613, 3.586543473572975, 3.5908216139391196, 3.595907872231066, 3.60167672245548, 3.607833892713116, 3.6139289706728124, 3.6194198237442023, 3.4480064323841653, 3.4604365807022965, 3.4731688445088644, 3.4860703979344962, 3.4990174651143873, 3.511908402207274, 3.524675545929828, 3.5372907004942253, 3.549754806008354, 3.562057554645092, 3.5741075897532357, 3.585700687495527, 3.5965684166514857, 3.6064333793800407, 3.615044740834687, 3.622214456849647, 3.6278494243347184, 3.631951327083935, 3.634577956514858, 3.635797121468748, 3.6356645416049678, 3.634232137959942, 3.6315757820788637, 3.627823054463605, 3.6231606984757736, 3.617817875329189, 3.612039428462534, 3.6060628027571706, 3.6001031028879944, 3.594345408456902, 3.588942117577216, 3.5840132676735643, 3.5796483072609635, 3.5759083584224567, 3.5728285908448356, 3.5704209257489485, 3.568677808624809, 3.5675780123740664, 3.5670951054494613, 3.5672082296674748, 3.567913278934226, 3.569230773431914, 3.5712053108778377, 3.5738914409096534, 3.5773234144792085, 3.581472535021848, 3.58620488799228, 3.5912586760220515, 3.5962563179317515, 3.6007515049097636, 3.4587569711845934, 3.4727269910439564, 3.4869907313247546, 3.50135543452884, 3.515625579570876, 3.529617709468293, 3.543176077726702, 3.5561852683232638, 3.568572750844222, 3.5802920229760917, 3.5912889902247223, 3.601483489149157, 3.610775976550293, 3.6190453706940233, 3.626145436176224, 3.6319352659653994, 3.636333339110892, 3.639337669038299, 3.640989803808828, 3.6413269435604088, 3.6403639935281094, 3.6381105130909854, 3.63460881514923, 3.6299701859702713, 3.6243826080576587, 3.6180864965520816, 3.6113403819923215, 3.604393796091508, 3.597470876609473, 3.5907624107797687, 3.5844233750467813, 3.578573675598668, 3.5733005433986564, 3.568661689807755, 3.564688894795565, 3.561392166990024, 3.558764885910741, 3.5567902764261667, 3.5554491390117913, 3.5547280778073227, 3.5546266202204384, 3.555160657077768, 3.556358918124463, 3.558249564178416, 3.5608363133610257, 3.564068049959304, 3.5678112062938303, 3.571836921245888, 3.575831601367009, 3.579430630276885, 3.4680841579072936, 3.483448079208675, 3.4990844346887027, 3.5147371288912006, 3.5301340807036006, 3.5450034848639396, 3.559093006472063, 3.5721899208309957, 3.5841396084226176, 3.5948602763285384, 3.6043527159524578, 3.6126967290392726, 3.6200105971966265, 3.6263722110518812, 3.6317601899673884, 3.636075426484845, 3.639223390464461, 3.641166032198412, 3.6419011214682326, 3.6414214461886596, 3.639701831093552, 3.636719243163824, 3.632492729167616, 3.627120183430949, 3.6207846677567748, 3.6137272319530123, 3.606209719553358, 3.598485614754368, 3.5907824139383857, 3.5832930163120102, 3.5761730205663143, 3.5695415489349407, 3.5634840313023157, 3.558056051000883, 3.5532878751989014, 3.549189645522509, 3.5457573167639374, 3.5429792511165696, 3.540842984759964, 3.539341269743014, 3.5384761264757256, 3.5382592634378094, 3.5387070170862156, 3.539828502067192, 3.5416074583278934, 3.5439812142512768, 3.5468231055419226, 3.549935658346462, 3.5530594050037, 3.55589696207275, 3.475249303825855, 3.4917437661620108, 3.5084650385170897, 3.5250917104134647, 3.5412734626733458, 3.556649715986095, 3.570874173472055, 3.583645304930046, 3.594743776364157, 3.6040778657084482, 3.6117278391332377, 3.6179512085458643, 3.623097343855404, 3.6274493587732355, 3.631107766888792, 3.63400487005575, 3.636011742613757, 3.6370236402261575, 3.6369695834569624, 3.635789169338969, 3.6334238965511725, 3.6298336776301072, 3.6250292184132675, 3.619100607183758, 3.61222062789061, 3.6046202063492254, 3.5965537465460975, 3.5882701905212637, 3.5799944562018418, 3.571917823784669, 3.5641945563679864, 3.5569424529630833, 3.550245740073681, 3.544159332855753, 3.5387139625633757, 3.533921940064981, 3.529783367243747, 3.526292428802916, 3.5234431186124255, 3.5212335504421466, 3.519667921326906, 3.518755166635083, 3.518503446333546, 3.518910149382424, 3.5199483510630984, 3.521552412904363, 3.5236069159923282, 3.5259433383864853, 3.528347221921215, 3.5305754639483307, 3.4796401978575933, 3.496911205166539, 3.514334658793973, 3.5315254254824655, 3.54805892929007, 3.563493985539557, 3.5774053959170975, 3.5894276970201267, 3.59931172020761, 3.6069929048236156, 3.612653907582818, 3.616726963027703, 3.619768098485787, 3.6222303046667994, 3.6243030480305385, 3.6259324925943868, 3.626947677193977, 3.6271696525521215, 3.626453223314582, 3.6246862829543494, 3.621785783519655, 3.6177069513092794, 3.612462849725587, 3.6061408463522784, 3.598901892233194, 3.5909603457937678, 3.5825548974566566, 3.573922200506833, 3.565278438100869, 3.556808930775437, 3.548663954864527, 3.540958791589721, 3.5337764601362336, 3.527172088718201, 3.5211782707858417, 3.515810977191641, 3.5110756302458985, 3.50697283146073, 3.503503086032649, 3.5006698112913193, 3.4984799856425206, 3.496941938543728, 3.4960600215462367, 3.495826379963203, 3.4962108609348617, 3.497151085568819, 3.498545432629672, 3.5002516057254525, 3.5020923396066728, 3.503867928974566, 3.480841838525626, 3.498488864564983, 3.516191733519576, 3.533509329187895, 3.549954998647619, 3.5650252126720847, 3.5782418657542627, 3.5892097161156564, 3.5976884064011876, 3.6036720107157736, 3.6074505301786086, 3.609596207013914, 3.6108108328078092, 3.611653827120859, 3.6123563734766964, 3.612866793957994, 3.6129857427121146, 3.612482051913573, 3.6111551887881586, 3.608854303091532, 3.605480509539138, 3.600990124540654, 3.5954020547821566, 3.588802954555264, 3.581342270740278, 3.5732153825973727, 3.56464029304248, 3.5558352399342668, 3.5470017682711545, 3.5383143588753927, 3.5299157486147013, 3.5219164810909636, 3.514397319765574, 3.507413464432053, 3.5009998064253494, 3.495176643547669, 3.4899553316562653, 3.48534331532666, 3.4813479411558883, 3.477978497188935, 3.4752460617521064, 3.473160954460364, 3.47172785684933, 3.470939057886942, 3.4707667986127024, 3.4711562277293826, 3.472020790311822, 3.473241697640774, 3.47467237409989, 3.4761476242672056, 3.478671194142015, 3.4962957355244866, 3.5138733517533534, 3.530921798675853, 3.546912869431551, 3.5613074612150544, 3.5736069017092715, 3.5834207515884198, 3.590546515811324, 3.5950472043351556, 3.597295907198239, 3.597937687350621, 3.597725091664834, 3.5972494730113493, 3.5967624343590123, 3.5962279147833387, 3.595448640375873, 3.594178154397799, 3.5921925189599144, 3.5893225909982474, 3.5854630416533437, 3.5805732515994104, 3.574676707319029, 3.5678581081358356, 3.5602549411340223, 3.5520425677003105, 3.543415509183857, 3.534569198608146, 3.5256854706970553, 3.516923106390203, 3.50841322251712, 3.5002585634886207, 3.4925355935255533, 3.485298404107853, 3.4785836349803048, 3.472415752502559, 3.4668121051150766, 3.461787205208319, 3.4573557241958737, 3.453533782721974, 3.450338283922045, 3.4477842567523163, 3.445880434856352, 3.444623597468665, 3.4439925281998685, 3.4439427308119757, 3.444403148217236, 3.4452759400692687, 3.4464398566492704, 3.447757012726049, 3.4731710771259285, 3.490416278958469, 3.507525569360577, 3.523995691934588, 3.539282240443112, 3.5528400984468447, 3.5641805554808332, 3.5729430162730575, 3.578972637184795, 3.582385172797271, 3.5835882541992734, 3.583221622150498, 3.5819956135677637, 3.580472032566638, 3.578924403155363, 3.577358456427935, 3.5756141912804993, 3.5734685504572354, 3.570708259859547, 3.567169011747426, 3.562750142607216, 3.5574162662845756, 3.551193297988562, 3.544161350166025, 3.5364443670608257, 3.528196550975932, 3.5195870807211183, 3.5107855221356696, 3.5019500303326767, 3.493219426270718, 3.4847092150316956, 3.476510968118607, 3.4686942299788672, 3.4613100927594074, 3.4543956728625522, 3.447978827616958, 3.4420825337421155, 3.4367284170804258, 3.431939003943899, 3.4277383853570487, 3.4241511537771068, 3.421199676129866, 3.4188999916292273, 3.4172568544124577, 3.416258655808838, 3.41587310987727, 3.4160445999456526, 3.416693907475787, 3.417720675292914, 3.419008466137542, 3.46457090431719, 3.4811438678269213, 3.4975226701565276, 3.513204417181043, 3.527652964052439, 3.5403421815770666, 3.5508140668789636, 3.558747227152928, 3.564024498593797, 3.566780260708611, 3.5674017009479173, 3.566460869547436, 3.564576731327053, 3.562252832648315, 3.559772467984945, 3.557196134446814, 3.5544291287532697, 3.551304711583059, 3.5476506298703883, 3.543329830443647, 3.5382589442330614, 3.5324122582832325, 3.5258177913165025, 3.518549255037269, 3.510715530275535, 3.5024485816518958, 3.493890967058583, 3.4851843822237347, 3.4764605202478776, 3.467834976892239, 3.4594042982495465, 3.45124578586525, 3.4434194173490438, 3.4359711659405128, 3.4289370330015827, 3.4223471791395075, 3.4162296193428427, 3.4106130304340225, 3.405528317183995, 3.40100870973616, 3.39708832286198, 3.393799288981812, 3.3911677676134033, 3.3892093165285067, 3.3879242603117716, 3.3872937758312007, 3.38727739250854, 3.387812452303213, 3.388815796869023, 3.3901875958761045, 3.4532304544346664, 3.4689061514075687, 3.4843694522202435, 3.499136313396865, 3.512697543125678, 3.524561700944296, 3.5343096397970477, 3.541654669854249, 3.5464967252816275, 3.548953695367868, 3.5493516178593434, 3.5481624844118587, 3.545897746942875, 3.5429922949596566, 3.5397263796049483, 3.536211627892748, 3.5324289617415165, 3.528287061417199, 3.5236758652951634, 3.51850357490217, 3.5127162625506916, 3.506304162987447, 3.4992995422473747, 3.491769879109907, 3.4838086816145983, 3.475525391782759, 3.4670355107860806, 3.4584519529588853, 3.449878422794679, 3.4414052472833645, 3.433107687855039, 3.425046421121857, 3.4172696734285593, 3.409816414462984, 3.40272002105185, 3.396011873411984, 3.3897244169042975, 3.383893304571415, 3.378558332884382, 3.3737630012894524, 3.3695526669655513, 3.3659714243006245, 3.363058002528864, 3.360841128185311, 3.3593349193138646, 3.358534938388916, 3.3584155038381573, 3.358928730586004, 3.3600055460819656, 3.361558645789407, 3.4395841040414714, 3.45419579686407, 3.4686174667915983, 3.48239699983325, 3.4950631000717367, 3.5061650772790305, 3.5153208986923867, 3.5222671076710936, 3.5269003276603503, 3.52929755859592, 3.5297037533937528, 3.52848250797921, 3.526039100623499, 3.522739196372125, 3.518850824347885, 3.514525546407038, 3.5098150975616846, 3.5047070084766747, 3.4991622642345512, 3.49314465465592, 3.486638531096038, 3.4796561588523596, 3.4722375914240433, 3.4644459960356495, 3.456360693799659, 3.448069505700718, 3.4396615301679416, 3.4312211603963934, 3.4228238652125125, 3.414533958087379, 3.406404289877318, 3.398477570222829, 3.3907888790489857, 3.383368871186836, 3.376247181699509, 3.3694555813031917, 3.363030492067144, 3.357014545973823, 3.3514569538306267, 3.346412553449742, 3.3419395262653366, 3.338095908498629, 3.3349351689272337, 3.3325012663583995, 3.3308237154011717, 3.3299132530111537, 3.3297586844587936, 3.3303253794766525, 3.331555691313085, 3.3333713129218085, 3.424098307568553, 3.4375218743052307, 3.4508123108502398, 3.4635567126174567, 3.4753256989860217, 3.485708452855636, 3.4943533329927274, 3.501008192210989, 3.5055521973027455, 3.508010196877504, 3.5085428678322534, 3.5074116731217613, 3.504925988075975, 3.501387022539927, 3.497044678602072, 3.4920773543793517, 3.4865946016560647, 3.480654766391994, 3.474287623125497, 3.467514382330247, 3.4603613276370155, 3.4528665570871313, 3.4450811170632987, 3.4370664190124334, 3.4288897232250157, 3.4206191004433766, 3.4123188819727495, 3.404046256321555, 3.395849363194119, 3.387766966331344, 3.3798295645353074, 3.3720616410361632, 3.36448466172717, 3.3571204044771803, 3.3499942167524126, 3.343137838274207, 3.3365914763691356, 3.33040487910877, 3.3246372170043297, 3.3193556629557373, 3.3146326573364884, 3.3105419627964974, 3.307153748942472, 3.304529090583025, 3.3027143952387337, 3.30173636693231, 3.3015981298543924, 3.30227704992297, 3.3037245989068347, 3.305868331716108, 3.4072475371139737, 3.4193862308836582, 3.431473663209232, 3.443138772527456, 3.453993460273496, 3.463662402671426, 3.4718167582883654, 3.4782068528030883, 3.482687653516212, 3.4852309559000014, 3.4859202860842076, 3.4849285484580115, 3.482483372504284, 3.4788289408280124, 3.4741937810695864, 3.4687710043572895, 3.462712375489023, 3.4561330926271685, 3.4491220559286053, 3.44175277183027, 3.434091781432633, 3.4262034317401002, 3.418151230520038, 3.4099967661542765, 3.4017973684760783, 3.3936035580204438, 3.385457061892982, 3.37738987319528, 3.3694245510269156, 3.361575725739871, 3.353852603752626, 3.346262162760004, 3.3388126855972473, 3.3315172840871896, 3.3243970939371628, 3.3174838617442597, 3.3108216857006076, 3.3044677105971636, 3.298491619287598, 3.292973814615404, 3.288002256847201, 3.2836680198208223, 3.28005975857498, 3.277257438651448, 3.2753258456551317, 3.274308538294257, 3.2742229786707093, 3.275057518871269, 3.276770717434352, 3.279293128232659, 3.389507029520694, 3.400280545530503, 3.411099482484956, 3.4216343456947005, 3.431535402526325, 3.4404576129576934, 3.4480887350637492, 3.45417664697147, 3.4585512512549688, 3.4611367190693123, 3.4619514700830116, 3.4610959244410346, 3.458730972626946, 3.455052260777794, 3.4502659172532724, 3.4445700566904276, 3.438143939921331, 3.431144163774661, 3.42370564200159, 3.4159447359524737, 3.4079624313815744, 3.3998464086149536, 3.391671756212393, 3.3835006871561317, 3.3753818870219896, 3.3673501269529376, 3.359426616437575, 3.3516203461585423, 3.34393044760557, 3.3363494162508585, 3.328866929335533, 3.3214739393071806, 3.314166726701653, 3.3069506308592778, 3.299843222060594, 3.2928767189195587, 3.286099483120704, 3.2795764408842194, 3.2733882939610313, 3.2676294033428976, 3.2624042693097, 3.257822606184639, 3.2539931325850806, 3.2510163752121084, 3.2489770071455637, 3.24793647164523, 3.247926805111265, 3.248946573592949, 3.2509596086127597, 3.2538967877969758, 3.371356550406372, 3.380695557549632, 3.390182354320669, 3.39952741018227, 3.4084159040982667, 3.416528539598672, 3.4235655577882063, 3.4292707296136395, 3.433451684723796, 3.435993335754985, 3.436862368308934, 3.4361025133564462, 3.433822129703544, 3.4301769817741414, 3.4253516251572904, 3.4195424193039226, 3.412944103974486, 3.4057405509853163, 3.398099201810591, 3.3901681151850083, 3.3820745058072257, 3.3739239793866878, 3.3658001153034762, 3.3577644204487758, 3.3498568807493125, 3.3420973646301397, 3.3344880329112088, 3.3270167485845135, 3.319661318976965, 3.312394285700446, 3.3051879249962877, 3.298019130164868, 3.2908738993798905, 3.28375121984732, 3.2766661993204123, 3.2696523340195256, 3.262762814424109, 3.256070762262277, 3.2496682737315834, 3.243664128997227, 3.238180032435036, 3.233345291676962, 3.229289950058638, 3.226136580188827, 3.2239912354530817, 3.222934409743357, 3.223013172202112, 3.224235755763222, 3.226569629019446, 3.229943457332661, 3.353288144898898, 3.3611336349462677, 3.3692273326264073, 3.3773178347938138, 3.3851222186725107, 3.3923436131709415, 3.398692527058866, 3.4039091391132232, 3.407783382229785, 3.4101699987133904, 3.410996684523564, 3.4102646996715142, 3.4080425803787593, 3.404454574368347, 3.3996659631358033, 3.393867481818184, 3.387260662493591, 3.380045276618374, 3.3724093609355, 3.364521780604712, 3.3565270157281106, 3.3485418316129456, 3.3406536050339732, 3.3329202096127597, 3.325371431111334, 3.318011860190466, 3.310825113871648, 3.303779111086467, 3.2968320208730937, 3.289938450813478, 3.2830554624318027, 3.2761480786106953, 3.269194056428589, 3.262187802848789, 3.2551433839583113, 3.248096609309009, 3.2411061637499547, 3.2342537210547895, 3.227642920935863, 3.2213970385463746, 3.2156551397299133, 3.2105665180734806, 3.206283283786703, 3.202951164017508, 3.200698923480485, 3.1996273257521426, 3.19979911772732, 3.201231856687966, 3.203895168060023, 3.2077131051646206, 3.3358115071855434, 3.3421175601377966, 3.348763780312739, 3.3555353940465658, 3.362179191620751, 3.368418652644981, 3.373973783605651, 3.3785829514177634, 3.3820235831338388, 3.384128947025598, 3.3847990940652317, 3.3840051013329857, 3.381786765099446, 3.3782446923542118, 3.373528268118304, 3.367821211047067, 3.3613263841573136, 3.3542512565640554, 3.3467950176176204, 3.339137946938973, 3.3314333332215478, 3.323802039856264, 3.3163297075163656, 3.3090665086149658, 3.302029280901821, 3.2952057501941288, 3.288560417502419, 3.2820415658691844, 3.27558877538675, 3.2691403495705273, 3.2626401570754995, 3.2560435547184867, 3.249322234967664, 3.2424679860416936, 3.235495435416787, 3.228443862334982, 3.221378125150631, 3.2143886757535007, 3.207590544949172, 3.201121094128248, 3.195136252756934, 3.1898049166765574, 3.1853012035126667, 3.1817944110830343, 3.1794368949340543, 3.178350754796841, 3.178615139357086, 3.1802567510657, 3.1832460490775674, 3.1875002796499805, 3.319451979860817, 3.3241905088641084, 3.3293466041014073, 3.334741132888351, 3.34014929413005, 3.345313944004891, 3.3499649129029403, 3.3538413163175944, 3.3567134014401043, 3.358400953686815, 3.358786266675954, 3.357820730431352, 3.355524989343064, 3.3519833026330033, 3.34733321582477, 3.341751939004777, 3.335440935109469, 3.3286101647474338, 3.3214632517716125, 3.3141845825545952, 3.306929083461926, 3.2998151624623673, 3.292921053747436, 3.2862845599732404, 3.2799059427371193, 3.273753478723342, 3.267770998900135, 3.261886591532653, 3.256021609534483, 3.2500992023754844, 3.244051787937089, 3.237827145807648, 3.2313930769486747, 3.2247407656354325, 3.2178870632402496, 3.2108758969948386, 3.203778922988124, 3.196695426780039, 3.1897513517561715, 3.1830972168144336, 3.1769045767326727, 3.171360589510737, 3.16666021138245, 3.1629956076540227, 3.1605426804468686, 3.1594453798373068, 3.159799816418171, 3.161641733896194, 3.164941301329042, 3.1696071641136587, 3.3047375181453216, 3.307903815754352, 3.31154411027229, 3.3155143392563757, 3.3196176264974504, 3.3236162732556895, 3.327251298627189, 3.330265873804564, 3.3324285630561326, 3.3335531052789342, 3.3335127307738897, 3.3322481383814475, 3.3297690835941256, 3.3261500916529325, 3.3215211977318257, 3.3160548851024854, 3.309950561148544, 3.3034179834879573, 3.2966610286194955, 3.289863091437224, 3.2831752201497744, 3.2767078264390554, 3.270526468930341, 3.264651812551968, 3.2590634618626764, 3.253707004218942, 3.2485033200543847, 3.243359052493317, 3.23817710574293, 3.2328661866371267, 3.227348710120532, 3.2215667890022357, 3.2154864025188603, 3.209100079286516, 3.2024284983447946, 3.195521340118302, 3.1884575726068793, 3.1813451928534113, 3.174320288772357, 3.1675451479306247, 3.1612050130019083, 3.155502964413964, 3.1506523093744194, 3.1468658213219904, 3.144341343758277, 3.1432439643171612, 3.143686660913376, 3.145714000494906, 3.149295060541098, 3.1543289242757737, 3.292172055061832, 3.2937901763081303, 3.295910645818395, 3.2984240685060895, 3.301161803959002, 3.303906869127226, 3.3064141461620835, 3.3084352224659836, 3.30974295071695, 3.310152203050718, 3.309534934001423, 3.307828874388636, 3.30503990741428, 3.3012386042503152, 3.29655167648809, 3.291149321992719, 3.285229629837169, 3.2790013719347013, 3.2726666312255226, 3.2664047693066416, 3.2603591714623192, 3.2546279719925777, 3.2492595397289588, 3.2442529426154274, 3.2395630203058867, 3.2351091887070638, 3.2307867457281816, 3.226479259702326, 3.2220706142666615, 3.2174554920063834, 3.212547515650947, 3.207284838638729, 3.20163349535032, 3.195589112795565, 3.1891776086715, 3.1824553384318865, 3.1755089234683536, 3.1684547733145494, 3.1614381346944893, 3.154631353727663, 3.1482309072832604, 3.142452629566615, 3.137524425564033, 3.133675646512739, 3.1311223057287036, 3.130047765907541, 3.1305802520998096, 3.132772436561398, 3.1365921048670096, 3.1419294530449395, 3.2821940598081127, 3.2823210287117823, 3.2829430327308082, 3.283984768661343, 3.2853070022118476, 3.286716309070667, 3.2879858886529445, 3.2888815567878944, 3.289187171019101, 3.288725836028124, 3.2873752348827154, 3.285076647840921, 3.281837817307196, 3.277730101614159, 3.2728805339434146, 3.267459563888362, 3.261665448665055, 3.2557064923203503, 3.2497825932675215, 3.2440677991994407, 3.2386956734806267, 3.233749110739956, 3.229255724775056, 3.2251891446347316, 3.221475713514726, 3.218005416179242, 3.214645458781397, 3.2112547528580593, 3.2076975722804053, 3.2038549130842884, 3.1996326645475426, 3.1949664953725128, 3.189824063769003, 3.1842054940244107, 3.178142993903667, 3.1717001914191725, 3.164971437113978, 3.1580810477223653, 3.1511822728728296, 3.1444556236322616, 3.1381060792438285, 3.1323585623158254, 3.1274509299060513, 3.1236235746503698, 3.1211046296325744, 3.120089994989205, 3.1207188930965586, 3.12305026530382, 3.127051472983008, 3.1326072019195363, 3.275121933210659, 3.273849396923342, 3.2730220883599483, 3.272597704280164, 3.272468523859675, 3.27246942796234, 3.2723984580073826, 3.2720430166412404, 3.271205362705884, 3.2697237406834936, 3.267487700784397, 3.2644473310109547, 3.2606165981779243, 3.2560711691040396, 3.250941172020256, 3.2453994618144204, 3.239646124116297, 3.233890230969605, 3.2283302613346194, 3.2231350710022273, 3.2184276625366124, 3.214273983301921, 3.2106783504635708, 3.2075859567874265, 3.204891679212806, 3.20245354632249, 3.2001088512424665, 3.19769083877656, 3.1950439691600607, 3.192036044375577, 3.1885661909796292, 3.1845687578238944, 3.180014121836633, 3.174907748622424, 3.1692886347520584, 3.1632277896192105, 3.1568269764274293, 3.150217624076335, 3.143559627567351, 3.1370396244634633, 3.130868225984935, 3.1252755654140114, 3.120504389475204, 3.116799764893045, 3.1143943599444968, 3.113488447602048, 3.11422520624988, 3.116666592272057, 3.1207816937484645, 3.1264559500407305, 3.271094029031358, 3.268545704710234, 3.266346666517446, 3.264485833714485, 3.26288985755069, 3.261428278095845, 3.2599320771532403, 3.258218532840809, 3.256115823583052, 3.2534836743796216, 3.2502286054094345, 3.2463134836312433, 3.241761511396683, 3.2366549140875454, 3.2311286250665257, 3.225359313164874, 3.219550224304908, 3.213912590250197, 3.2086448716159968, 3.2039118546086227, 3.199826397859219, 3.196436911627679, 3.193722899901211, 3.1915991476746925, 3.189927243797287, 3.188532025632685, 3.187220369177353, 3.185799995287595, 3.184096155648188, 3.1819643139792437, 3.1792977193070935, 3.176030115449664, 3.172135016524926, 3.16762331487006, 3.162540564369237, 3.1569646262274604, 3.1510038371595934, 3.1447955353018298, 3.138504596930745, 3.1323215239516977, 3.12645952783852, 3.121149952819687, 3.11663526065145, 3.113158678448544, 3.1109495777252096, 3.110204020457156, 3.1110615664971113, 3.113583661714709, 3.1177435950764534, 3.123434457982195, 3.2700205606732675, 3.2663447623226793, 3.262878704005131, 3.2596402316813076, 3.2565931856256354, 3.253648234936782, 3.250677299334216, 3.2475353446203465, 3.2440831814519595, 3.240207340799985, 3.2358352968771635, 3.2309455140374475, 3.2255722937419007, 3.2198055513507318, 3.2137856718586844, 3.2076935886489637, 3.2017362819270083, 3.1961281136292645, 3.191068966887506, 3.186721192595742, 3.1831887521553774, 3.180502874793427, 3.178617753657473, 3.177417027072888, 3.1767287469327843, 3.1763451837702807, 3.176044209866539, 3.1756098368100956, 3.1748498669313556, 3.1736087708085403, 3.17177465880327, 3.1692807777710463, 3.1661033565265435, 3.1622579105874036, 3.1577954925326495, 3.1527995652513807, 3.147383592524302, 3.14168911601557, 3.1358839206921694, 3.130159793167069, 3.1247292978552976, 3.119820911884893, 3.1156717741144977, 3.1125172578521765, 3.1105767028849822, 3.1100352770939947, 3.1110236980856354, 3.113600676295876, 3.1177451881199896, 3.123362610937632, 3.271570724590814, 3.266929985784842, 3.2623262303588785, 3.2578036770604917, 3.2533647710598146, 3.2489655461875, 3.2445244037808125, 3.2399396008340697, 3.235109508200715, 3.2299514124324062, 3.2244166626450768, 3.218501274622134, 3.2122517387438583, 3.2057660122050846, 3.1991897142682646, 3.192707503961749, 3.1865295884746954, 3.1808734079634835, 3.1759410009342117, 3.171893748649357, 3.1688283409053666, 3.1667599455798148, 3.1656180592744447, 3.165256031861067, 3.1654702288041285, 3.1660233489755996, 3.1666679736555943, 3.167168123606939, 3.1673171656509727, 3.1669504084149223, 3.165951359925181, 3.1642522248896956, 3.1618306790467896, 3.158705197227114, 3.1549304799357802, 3.150593641940108, 3.1458112208199513, 3.1407267398491805, 3.135508401176503, 3.1303463988590585, 3.1254492781510534, 3.1210387131696313, 3.117342046600656, 3.114581995418543, 3.1129632197935972, 3.1126562325869993, 3.1137806365360707, 3.1163915909522046, 3.1204741360821844, 3.1259477251404735, 3.2752101312366553, 3.269771903925299, 3.2641818926954143, 3.2585075903980565, 3.2527886433477, 3.247026519050759, 3.2411874091065527, 3.2352149905686574, 3.229047641056832, 3.222635742528221, 3.2159564631313655, 3.2090247430513683, 3.2018999619955753, 3.194688097049008, 3.187539265653935, 3.1806405058097003, 3.1742035545759664, 3.168447349186425, 3.1635752279335523, 3.1597479072489563, 3.157056094795741, 3.15550058531309, 3.15498824760521, 3.1553452770966284, 3.1563409365445816, 3.1577140137464, 3.159197735644865, 3.16054146971211, 3.161528129910762, 3.1619860421320585, 3.161794496688696, 3.160883645711029, 3.1592307376606574, 3.1568549047503778, 3.153812028290576, 3.1501903546885677, 3.146106934046568, 3.141704625034652, 3.1371492490540462, 3.1326263962669474, 3.1283373417096083, 3.1244935135923866, 3.1213089934022995, 3.1189906837709063, 3.117726166413762, 3.117670013525984, 3.1189304033857645, 3.1215589071516496, 3.125546364347172, 3.1308262100717146, 3.2802838483046615, 3.274214581823696, 3.2678093680096816, 3.261154263800855, 3.254320939511141, 3.2473516644294174, 3.240257203233539, 3.2330250856621032, 3.2256334819322077, 3.2180664961418617, 3.21032808121191, 3.202452998906244, 3.1945140346977574, 3.186625082090664, 3.178939855329452, 3.1716459724962838, 3.164954043777035, 3.1590812806706094, 3.15422920036492, 3.150555822988056, 3.148145754747406, 3.1469874355926883, 3.1469693033392088, 3.147896717441863, 3.1495195905995677, 3.151560909490029, 3.153742055926122, 3.1558039363568477, 3.157523385135708, 3.1587240700079002, 3.1592814670986162, 3.1591225868013697, 3.158222198455032, 3.156597524461105, 3.1543028366710244, 3.151424651706528, 3.1480776562848565, 3.144401159851341, 3.1405557011096072, 3.136719355639956, 3.133083265009017, 3.129845928027668, 3.127205885504941, 3.125352639799592, 3.1244560402412622, 3.1246549611774332, 3.1260467987889125, 3.128679797288899, 3.132550039036575, 3.1376039043499624, 3.286125779028313, 3.279587244511697, 3.272552500541424, 3.265118978531317, 3.2573816110020126, 3.2494151249787877, 3.2412681761682727, 3.2329675834897516, 3.224528722861643, 3.2159683421633565, 3.207317046924026, 3.198629706890105, 3.1899927662476637, 3.181527872757999, 3.17339143258445, 3.1657697189987934, 3.1588690747571846, 3.152900618176501, 3.1480588563158607, 3.144494287774168, 3.142283040796556, 3.141403294082157, 3.1417318598651707, 3.1430629940430603, 3.1451376838794713, 3.1476727381005025, 3.1503857795307173, 3.1530154807464226, 3.155336853592528, 3.157171243032632, 3.1583909260869887, 3.1589189946342753, 3.1587259613582104, 3.1578247311373144, 3.1562652186681364, 3.1541293179963903, 3.151526432519243, 3.148589447770466, 3.1454708493607137, 3.1423386064861467, 3.139371426077511, 3.1367530271018205, 3.134665202752204, 3.1332796561517062, 3.1327489316774306, 3.133197196132775, 3.1347120440007856, 3.1373387072899854, 3.1410778345456993, 3.1458873262553415];\n",
       "const lower_is_better = false;\n",
       "const metric = \"log_eval\";\n",
       "const rel = false;\n",
       "const sd = [0.08550487228102996, 0.08240617701205523, 0.08010624087419621, 0.0786734846898234, 0.07807854042871977, 0.07819114499648931, 0.07880082144699302, 0.07965211380941035, 0.08048062157722058, 0.08104020017143929, 0.0811188548085206, 0.08054582744436733, 0.0791940357298708, 0.07698170008370395, 0.0738761659378067, 0.06990242611340917, 0.06515900114331041, 0.05984458539269639, 0.0542990428970125, 0.049056352195246726, 0.044877365186517866, 0.04265591048312703, 0.04306675525028172, 0.04613575501095707, 0.051244920735070455, 0.05755628343031591, 0.06434771588337322, 0.07110145305736798, 0.07747364729395241, 0.08324399188249558, 0.08827529688475602, 0.09248552291226261, 0.0958291028969149, 0.09828452502561903, 0.09984611588132178, 0.10051873098025313, 0.1003145718667913, 0.09925169610963706, 0.09735404719728956, 0.09465305618857983, 0.09119108920186142, 0.08702725831227896, 0.08224639135062722, 0.07697224124517336, 0.07138612177591651, 0.06575137074317343, 0.06044023772246251, 0.05594840871301135, 0.052860228759216046, 0.051715563194775355, 0.07649356682214925, 0.07274113962203452, 0.07004882258114715, 0.06855194151605419, 0.06823261879046878, 0.06890904976998213, 0.07027586881107759, 0.07197169773468584, 0.07364049370668707, 0.07496912689306534, 0.0757021277227679, 0.07564249148146865, 0.0746470433334846, 0.07262196558080854, 0.06952176024534866, 0.06535393957948205, 0.06019222680623331, 0.05420344778738849, 0.04769860895335889, 0.04122602740711564, 0.03571195635267101, 0.03250986952311944, 0.03286248994616676, 0.03680552555801842, 0.04318061567826554, 0.05071257367746282, 0.05852132092667946, 0.06607670584957508, 0.07306675268293666, 0.07930835687984363, 0.08469610755968077, 0.08917289799960691, 0.09271235936588927, 0.09530797632021452, 0.09696623168619399, 0.097702351105161, 0.09753785541953237, 0.09649950500488029, 0.0946194872505007, 0.09193692895113446, 0.08850104951110929, 0.08437653357766814, 0.0796520046734953, 0.07445279614463254, 0.06895935903300672, 0.06343190853056863, 0.058238124635896754, 0.05386909712377186, 0.05090559599053162, 0.04988358651812959, 0.06700329476189658, 0.06237019930323123, 0.05912404903112206, 0.05753296930466548, 0.057613001002080624, 0.05909268200131047, 0.061502972925663, 0.06431936381815653, 0.06706681354548955, 0.06936281569975408, 0.07091940933866939, 0.07152901078607533, 0.07104838279343813, 0.06938660912785492, 0.06649899573426782, 0.06238776421303533, 0.057111157871189026, 0.05080549607104128, 0.04373237869928557, 0.036382406847540044, 0.029700658363176743, 0.025413906641234756, 0.025563171829066467, 0.030268944036679093, 0.037642165694265525, 0.04600381865302811, 0.05442256331019142, 0.06241212888738558, 0.0697087014699249, 0.0761653201348148, 0.08170157226506464, 0.08627746470545294, 0.08987867802222796, 0.09250778279232927, 0.0941788998065617, 0.09491451115451419, 0.09474371502594449, 0.09370155334974853, 0.0918292844526517, 0.08917569463040713, 0.08579978187128594, 0.08177542249285749, 0.0771989447342301, 0.07220082451788373, 0.06696275807217027, 0.06174040092779399, 0.0568880097241865, 0.05286996222188276, 0.05022399200295329, 0.049434125711089294, 0.057445978172110154, 0.051609562265007174, 0.047537476900539374, 0.04577791049305061, 0.046440375746431055, 0.04907007942217244, 0.0528880661383392, 0.05711993595739692, 0.06115647179217739, 0.06456683323188758, 0.06706011519808978, 0.0684449562131415, 0.0686001815406637, 0.0674567680101325, 0.06498916439239122, 0.06121472669934153, 0.05620173136494513, 0.05008960476605032, 0.043132384658856805, 0.03579524957581908, 0.02897311516112622, 0.024357114319244814, 0.024125274334120105, 0.028597915796467047, 0.03584281788833978, 0.044100576240314444, 0.05241640297153019, 0.06030267464648494, 0.06749799980207709, 0.07385703744679957, 0.0792996155169518, 0.08378506008082143, 0.08729816546707038, 0.08984114987935858, 0.09142898304036898, 0.09208674088849926, 0.09184824275308621, 0.09075556219844536, 0.08885923731227921, 0.08621922138257863, 0.0829068601661424, 0.07900848108610595, 0.07463151447394371, 0.06991433233086122, 0.0650408767694577, 0.06025984769977336, 0.05590387226957883, 0.052393854885749325, 0.050198885339441494, 0.049723888423597394, 0.048573888876043594, 0.04112593107873301, 0.03576845686981498, 0.03367170427789886, 0.03522129614410873, 0.03950947471788894, 0.04513656150509277, 0.05100097381314613, 0.05640996140294911, 0.06095074992617911, 0.06437798486135385, 0.06654733401200422, 0.06737956273087141, 0.06684230378199968, 0.06494297261140664, 0.06173023895853806, 0.057304218040268806, 0.05183870335262617, 0.04562433341798076, 0.03915165011818278, 0.03325864670623906, 0.029278396471510305, 0.028700831361032724, 0.03191309835992854, 0.03779451403640109, 0.04494762646563517, 0.05241985781142929, 0.05965869238216531, 0.06634784009246407, 0.07230299278194154, 0.07741633452079437, 0.08162705328120975, 0.08490518114207916, 0.08724254422841429, 0.08864769939497356, 0.08914319752345942, 0.08876424168923563, 0.08755819790128588, 0.08558465363038266, 0.0829159164411164, 0.07963808205462648, 0.07585312532765923, 0.07168285992534042, 0.06727592118599318, 0.06281874721381935, 0.05854999919229725, 0.05477345108813414, 0.05185572354659875, 0.05018601631885291, 0.050083154879727025, 0.04164849797118925, 0.032319779076149406, 0.025035596120548502, 0.02224349195177855, 0.025205378930186977, 0.03173575979944558, 0.03934568120364353, 0.0467473598976987, 0.05333802951709721, 0.05881366560700434, 0.06301256026405633, 0.06585164886202274, 0.06729847680948742, 0.06735914981516929, 0.06607549504784418, 0.06352941793200943, 0.05985478322110953, 0.055259084372178295, 0.0500592209435569, 0.044735760953261754, 0.039995917315538726, 0.03677147721316672, 0.03596439917477088, 0.03790587761799724, 0.0421132075272494, 0.04770913991340899, 0.053899175801317256, 0.06011982282130779, 0.06600396357075129, 0.0713174714997945, 0.0759118282372876, 0.07969446664568326, 0.0826111770751163, 0.08463589835935285, 0.08576493717940438, 0.0860138663600641, 0.08541606595181463, 0.08402225096356469, 0.08190051539928883, 0.07913653825913515, 0.0758337632744508, 0.07211367942120159, 0.06811681652229667, 0.06400556978006414, 0.05996998489629344, 0.05623621382075488, 0.053073239358654066, 0.050786490372344444, 0.04968202820301169, 0.04999552503643394, 0.0383218532626407, 0.027750745892206146, 0.018723314355206577, 0.015013044005512946, 0.019552163065269374, 0.02791297987080395, 0.03677290149061079, 0.04502994642034106, 0.052257514689795705, 0.058253288038997486, 0.06291587692495683, 0.06620212758465485, 0.06810958915642726, 0.06866972516557128, 0.06794766151059067, 0.06604736726567963, 0.06312237989863091, 0.05939271446239654, 0.0551681359756578, 0.05087432827601923, 0.04706615674827453, 0.04438612100595319, 0.04341039135467744, 0.04440663247342868, 0.04719969447342468, 0.05129575092950308, 0.056123376562090065, 0.06118989604113721, 0.06612343350140786, 0.07065915250898616, 0.0746133221471264, 0.07786128175987121, 0.08032208190507377, 0.08194864912797281, 0.08272184981764963, 0.08264722458471181, 0.08175357881587196, 0.0800928304079359, 0.07774053330585695, 0.07479640728718344, 0.07138415672055151, 0.0676500315043874, 0.06376012117990916, 0.059897246087895685, 0.05625904171098791, 0.053058301741585503, 0.05052347738292405, 0.04889161024270844, 0.04838276157307619, 0.04915353887410671, 0.03957271975227858, 0.02955549131293239, 0.021365434440473747, 0.018160093775605266, 0.021944346663711416, 0.02952184772812212, 0.037928446022662966, 0.045948044422361535, 0.05307696939592859, 0.05907693577130631, 0.06383110621315845, 0.06729133963028822, 0.06945609303377179, 0.07036125430845096, 0.07007812302766098, 0.06871645829157008, 0.06643170676329745, 0.0634356231901827, 0.06000846036478425, 0.056507798851654585, 0.05336266194765181, 0.05103352539761969, 0.049921775281453834, 0.05024802027653215, 0.05197350530007818, 0.05483053562726677, 0.05843450417793261, 0.06239335462850274, 0.06636783965657465, 0.07008856483615655, 0.07335164433285618, 0.0760081991739947, 0.07795430323503302, 0.07912324572200892, 0.07948024852241208, 0.07901940910357846, 0.07776264686325904, 0.07576037519871627, 0.0730933662422632, 0.06987484119649551, 0.06625133230959565, 0.06240055893673001, 0.058524810074167544, 0.05483955595147053, 0.05155929398793338, 0.0488848803894837, 0.04699623243059126, 0.04604932998226015, 0.046169939235844296, 0.04743700679118768, 0.0445723045682112, 0.03619753609100767, 0.029936020901099633, 0.027515662834895413, 0.029691761405014224, 0.035118688586044666, 0.041914860828585435, 0.048852647609973765, 0.05527397936368006, 0.06083139125796489, 0.0653423033182513, 0.06871960593245469, 0.07093845535945456, 0.0720205028313829, 0.07202750242584356, 0.07106063974020028, 0.06926357296058017, 0.0668274990852124, 0.0639958936720831, 0.06106480877096828, 0.058371855247427586, 0.056265033461780925, 0.055046688051119536, 0.0549039560806249, 0.05585821539081067, 0.057765903937274266, 0.0603698804055969, 0.0633679435329484, 0.06646646527261416, 0.06940921788757859, 0.07198722950549762, 0.07403855381137076, 0.07544407409046497, 0.0761224872186421, 0.07602597665081672, 0.07513744929303116, 0.07346995743192235, 0.07106863193446583, 0.0680149146903722, 0.06443203403920354, 0.060489529410611656, 0.056403313802204376, 0.05242672102450695, 0.04882853881001102, 0.04585853492084054, 0.043710559363937626, 0.04250211440502122, 0.0422839733952137, 0.04307048998271968, 0.04486277218998011, 0.05150004074761941, 0.044654009838949106, 0.03971573623834474, 0.03758461327031993, 0.038590965629605484, 0.04214209573253546, 0.0471669728248026, 0.05270585127771535, 0.05809773610665563, 0.06293170037173658, 0.06696495029005187, 0.07006427749423953, 0.07217106266979331, 0.07328183772877518, 0.07343843769402386, 0.07272406753212493, 0.07126287769805806, 0.06922105433217962, 0.06680716409913696, 0.0642686457535975, 0.061880227265244, 0.05991979986129006, 0.05863024772040529, 0.058173899699663044, 0.05859640559559005, 0.05981841781049577, 0.06165982579644733, 0.06388305336030244, 0.066235937353347, 0.06848239751781586, 0.0704192414900351, 0.0718825835815253, 0.07274797401983032, 0.07292736326113168, 0.07236516472370778, 0.07103524515000867, 0.06894041153600294, 0.06611557218548213, 0.0626350366834888, 0.05862328587374851, 0.05426683168471923, 0.049822098687751934, 0.04561016309079664, 0.04198510854812777, 0.03926666236575091, 0.037653819955788134, 0.03717653077423367, 0.03773709904913023, 0.03921247348959758, 0.04153071422677966, 0.05884382598719139, 0.05306965112524142, 0.04885055887629233, 0.04670156026277578, 0.04681469852923695, 0.04891082001613285, 0.052374993200678205, 0.05652869600704583, 0.060806106721658953, 0.06479771753109581, 0.06823028698273484, 0.07093442588281312, 0.07281813253960384, 0.073849112049457, 0.07404428748239836, 0.07346430219015358, 0.07221103726681877, 0.07042632133476737, 0.0682898627477429, 0.06601398770647715, 0.06383226861805245, 0.0619793068258318, 0.060661095836017996, 0.06002047744741462, 0.06010840771598926, 0.06087347900985066, 0.06217509095239701, 0.06381405707544552, 0.06556790110884775, 0.06722030537416145, 0.0685803793148853, 0.06949216223688469, 0.06983669827314988, 0.06952933339541871, 0.0685148165142367, 0.06676278084792714, 0.06426614011596817, 0.06104460783286948, 0.057154787871482905, 0.05270710664256976, 0.04788819035240229, 0.04298418075050081, 0.03839278412252178, 0.03459520442990294, 0.03204430161726734, 0.030973870367245443, 0.031281361670556396, 0.03264858825664202, 0.034787686983871295, 0.03757690016106324, 0.0656818206417617, 0.06055865283487163, 0.056651576866044356, 0.05429498368516709, 0.05363583091841446, 0.05455276193653074, 0.05669140145709962, 0.059588948478515806, 0.06279535286368045, 0.06593824514051214, 0.06873874321062907, 0.07100363691801219, 0.07261169152804478, 0.07350165161967574, 0.07366383731382614, 0.07313494481668933, 0.07199493519231709, 0.07036463723233223, 0.06840242522782691, 0.06629793429012079, 0.064260423896376, 0.0624996869488601, 0.06119930879758914, 0.06048621445614228, 0.06040532661182288, 0.06090960282369658, 0.061870429176467845, 0.06310411102270357, 0.06440417253715806, 0.06556987701834524, 0.0664259547218388, 0.06683270305634047, 0.06668781761282201, 0.06592215675726737, 0.06449210672464041, 0.06237170675145678, 0.05954806938058698, 0.056023506050499244, 0.05182692151164723, 0.0470357482809268, 0.04180863617914034, 0.03642822008773726, 0.03134771819840025, 0.027205058496427927, 0.024687122410538265, 0.02413440748201947, 0.02523739907052079, 0.027352958981082334, 0.030024817059175948, 0.03314090566898744, 0.07151644941672154, 0.06671302775088563, 0.06283571017460593, 0.060131121047824296, 0.05873744386081832, 0.05863048784195198, 0.05962006349614076, 0.061401666586360155, 0.06363066466609027, 0.06598226538815738, 0.06818380419633105, 0.07002526123360611, 0.07135861962247635, 0.0720935573316337, 0.07219301588826083, 0.07166970720495434, 0.0705834120593735, 0.06903830219794385, 0.06717899288758551, 0.06518343664721378, 0.06325030135676041, 0.06157879077778207, 0.06034096681453265, 0.05965099130652696, 0.059540539873944635, 0.05995059756358309, 0.06074398230279514, 0.06173361783646296, 0.06271595437100701, 0.06350000922316007, 0.06392709882358928, 0.06388030284983649, 0.06328468643026805, 0.062100105622873505, 0.06030912186396959, 0.05790361000177655, 0.05487475977178439, 0.05121152057974246, 0.046911426166418586, 0.04200550503481012, 0.03659750341398758, 0.03091960089840792, 0.025412218303055387, 0.02082105527513573, 0.018145087503079194, 0.017968268419102228, 0.0196991206063782, 0.022286493034919894, 0.02517406296860862, 0.028354972636889977, 0.07611491333426211, 0.07137386806946817, 0.06731532577708065, 0.06414341649348326, 0.062004761544662945, 0.06094761989908163, 0.06089992740674381, 0.06167967157357129, 0.06303292586645816, 0.06468076541107239, 0.06635800003873821, 0.06783754744438886, 0.06894265099575456, 0.06955154548439951, 0.06959821948828371, 0.06907137774950256, 0.06801255267210668, 0.0665134411617742, 0.06471162632312882, 0.06278278400749318, 0.06092660607400956, 0.05934390924172875, 0.05820506108253006, 0.05761541418942415, 0.057589243354788135, 0.058043973994388987, 0.05881828821494297, 0.05970650640425484, 0.06049637185823415, 0.061000127922071185, 0.061074545871252627, 0.06062957573249297, 0.059626700593111835, 0.058068312728071406, 0.055980030616501746, 0.05338959117104014, 0.05030843102915669, 0.0467237274804578, 0.04260747814554484, 0.037944822567259555, 0.032779309442326945, 0.027273662285060563, 0.0217956815920335, 0.017050853248777913, 0.014152657709817032, 0.013910369280790471, 0.015605381140257616, 0.017974059708770168, 0.020504606803650155, 0.023366153633023218, 0.07941573794256772, 0.07453595506546325, 0.07013005995435051, 0.06638265660878358, 0.06345792606354604, 0.06146721301907461, 0.06043700777413146, 0.06029113946568699, 0.06085769480459625, 0.06189896935818073, 0.06315182761625875, 0.0643648481833836, 0.06532504233637286, 0.06587343130130364, 0.0659119667176897, 0.06540490244264979, 0.06437719625976834, 0.06291144759159699, 0.061143322924299845, 0.05925348405722937, 0.057452292276955884, 0.05595340492424454, 0.054935864847752744, 0.05450220617953415, 0.05464829170099907, 0.05526017105587637, 0.05614064513719422, 0.057053298656589306, 0.0577671136030589, 0.058090701381536484, 0.05789307064934464, 0.057111936817176766, 0.05575098006327267, 0.053866559883293946, 0.05154433982573007, 0.048868497937657976, 0.045890906063370616, 0.042612497156765086, 0.038989100397862235, 0.03496629103124521, 0.030536778304071994, 0.025809197270784758, 0.021082930377875255, 0.01692266216819783, 0.01412867323891792, 0.013231991484030396, 0.013782173136892383, 0.014910882458236756, 0.01632487631080029, 0.018411636456492242, 0.08147646960342306, 0.07630398621018376, 0.0714200779589921, 0.06700036302792782, 0.06323031805339736, 0.06028121465474089, 0.05827339986898191, 0.05723585701027608, 0.057080748399160455, 0.057609836378041304, 0.058552688179535295, 0.059619155052543726, 0.06054606154386223, 0.06112766875250806, 0.06122970177108258, 0.06079184890378356, 0.05982442849147423, 0.05840341416331427, 0.056665276257257285, 0.05479962293799036, 0.05303423718342209, 0.051605819280041605, 0.05071398015478073, 0.05046784119504603, 0.05084776899066773, 0.05170418318866546, 0.05279533946151829, 0.053844473115879386, 0.054593270358000524, 0.05483985025577404, 0.05446042656912705, 0.05341782782611454, 0.05175897991058561, 0.04960082869304887, 0.04710257322915596, 0.04442392025281476, 0.04167653527440001, 0.038887097431639615, 0.03599527426257804, 0.03289734994040881, 0.029521852484156313, 0.025908402137150045, 0.02226240412182081, 0.018954787168310207, 0.01640390092043652, 0.014794966429219172, 0.013881154664378934, 0.013275709372986914, 0.013042867197588603, 0.013993267915906321, 0.08244083145163399, 0.07686767668108978, 0.07141228676877329, 0.0662432087219015, 0.06156498770216673, 0.05760544946163921, 0.054581332112513856, 0.052639946955427425, 0.05179490213342694, 0.05189416236589387, 0.05264828405980583, 0.05370502478034064, 0.05472873940399388, 0.05545369076971601, 0.055705842626126746, 0.05540279087539859, 0.054544118338826386, 0.053201279223375766, 0.05151106657955317, 0.049670806056939895, 0.04792736658184954, 0.04654832005598629, 0.04576760923096388, 0.04571539090266634, 0.04636477403410398, 0.04753001685385854, 0.04891853313219512, 0.05020543008173572, 0.05109799108777728, 0.05137754091670116, 0.050921548921788275, 0.049712369803118696, 0.04783598403056491, 0.04546933495879043, 0.042850700688778, 0.04022714005904073, 0.03778252300146978, 0.035571611316872594, 0.0335029442356451, 0.031394543942829645, 0.02907675464597906, 0.026487475868576468, 0.02371770500237317, 0.020985937442060593, 0.018529382641634104, 0.016439993090692332, 0.014581163636479781, 0.012763695322769926, 0.01122752480513917, 0.011211490177653416, 0.08251257458103597, 0.07648093793643422, 0.07040717534836156, 0.06444803199106112, 0.0588172846321145, 0.05378891171233351, 0.04967663928786024, 0.04676935124000817, 0.045221244455961714, 0.04495117869002105, 0.04563830750393749, 0.046830857577759955, 0.04808627384941357, 0.04906273416083002, 0.04954730864768618, 0.04944461404066351, 0.04875222856234797, 0.04753993227150458, 0.04594041093688661, 0.04414989834914796, 0.04242759401301102, 0.041074613605142384, 0.04037436574813021, 0.040499371878131615, 0.041430903319516786, 0.04295024458016995, 0.04470878283982916, 0.04632653090600415, 0.04747060729199945, 0.04790066669626693, 0.04749012974473655, 0.04623414521320995, 0.04424947500980272, 0.041764485940390665, 0.039090260159678494, 0.03655922634086618, 0.034426935612560335, 0.03276897612411639, 0.0314447489061042, 0.030173058407700536, 0.028673588993180146, 0.02678611178497797, 0.02452004753288181, 0.022032379571218424, 0.01954338927831226, 0.017211991502117142, 0.015050082662057715, 0.013026582595935343, 0.011483155582642967, 0.011637236511860284, 0.08192876138368207, 0.07543656343506701, 0.0687570797064269, 0.06202682034927424, 0.05545143942566145, 0.04932715644120006, 0.04404880172438613, 0.04006673510306177, 0.03774193585501212, 0.03712637213320419, 0.03786036593133479, 0.039330626546467726, 0.04093465695585911, 0.042238958102991345, 0.04300381119960905, 0.0431421403518519, 0.042666162906939954, 0.04164849345829844, 0.04020855696683396, 0.038522957547477456, 0.03684479462226349, 0.03550283164590898, 0.03484504206771018, 0.035116013124517106, 0.036329088775820084, 0.03823792803989017, 0.04043117738059772, 0.04246631758697655, 0.04396622526130597, 0.04466675062452181, 0.044434520578255296, 0.04327202163472407, 0.041317086720798105, 0.03883478336736959, 0.03619012654812564, 0.033781016445924725, 0.0319178999976846, 0.030686891035155785, 0.02989842445637503, 0.029186387979503847, 0.028186087322266264, 0.026673072407911558, 0.024619780650374304, 0.02218697955302499, 0.01966704231386822, 0.017380122794070366, 0.015556843302413617, 0.01434855896952001, 0.014076546438297883, 0.015398131568569466, 0.08092946004589112, 0.07403174976266708, 0.06682808935191939, 0.05942821789363674, 0.05201067420663705, 0.04485733896655745, 0.03839621281100424, 0.033220504431560036, 0.02997391213082344, 0.02897454902240299, 0.029843378922449294, 0.031702322985456846, 0.03371111363233328, 0.03534013218676334, 0.0363563229173623, 0.036718809080994244, 0.03647968176821212, 0.035719464545775965, 0.034528919309486754, 0.03303583842968518, 0.03145671156352579, 0.030132476080637398, 0.029489457181023852, 0.029881937012284344, 0.03138510056810909, 0.033726282055830115, 0.03641875943447877, 0.038949690898532646, 0.04089759160564899, 0.041977331465777076, 0.04205029565425422, 0.041123931975924656, 0.039348627395151645, 0.037009135450163495, 0.034497437162540584, 0.0322430264568117, 0.0305825058535024, 0.029607423670971897, 0.029107316062766793, 0.02868086241371156, 0.027929802657852658, 0.026607376756783145, 0.024684992083862087, 0.022363643970180973, 0.020045807609808123, 0.018238107332574173, 0.017352353654360365, 0.017544420704590974, 0.018830215897432213, 0.02130750330805908, 0.0797257902327944, 0.07252584409144397, 0.0649438465068336, 0.05706500072986743, 0.049032785573540065, 0.041084275867585965, 0.033611101656544434, 0.02725108335688231, 0.022921736796629295, 0.02140603746998852, 0.022416118862454718, 0.02466631179679037, 0.0269910932490146, 0.028794053591505404, 0.029908406688945472, 0.03038953092259549, 0.030357664122026964, 0.029901716403244218, 0.029058519512435942, 0.02786792497224274, 0.02647286468135739, 0.025207771667408865, 0.0245915075014368, 0.025128164201535172, 0.026976328840602068, 0.029819825282600243, 0.03307598811390212, 0.036160257555715676, 0.03861689505943887, 0.040150488512686, 0.040623641667142545, 0.040049423867898705, 0.03858437530708704, 0.03651740736003611, 0.03424095872511509, 0.03218161487466947, 0.03067452861863224, 0.029819637318779013, 0.029427810348510434, 0.029124113301884524, 0.028532582816543403, 0.027425784587307073, 0.025802975186080462, 0.02391578905488117, 0.022240646317207017, 0.02133994134895607, 0.021587109789857714, 0.022987662842056205, 0.025350409069053243, 0.028561709701353362, 0.07847374661853078, 0.07110083139627381, 0.06332400721570784, 0.055217447149000176, 0.04690227052261708, 0.03857430940916137, 0.030558333013875463, 0.023419049972494242, 0.01813764319483186, 0.0159432767555172, 0.01685591194049949, 0.01918849147792583, 0.021461302126306703, 0.02307712240321745, 0.023988924950427416, 0.02438783806375207, 0.024482770624136233, 0.02435896955359344, 0.02395818540671142, 0.023185812561227474, 0.022080854614078566, 0.02096506495265481, 0.020469246844087494, 0.021271317203153985, 0.02359168307862881, 0.02702204393162451, 0.03087307931579273, 0.03451196593496708, 0.03747570278321796, 0.039476694513810945, 0.04038756225574585, 0.04022831900314116, 0.03915640381953041, 0.037452840241469026, 0.03549163499585066, 0.03367405098595782, 0.032318362089006285, 0.03153907455155601, 0.031200763275475493, 0.03100067233491442, 0.030627076979442277, 0.029899422355251188, 0.028848160945461145, 0.027733288196646774, 0.02698739580461098, 0.027052251842568303, 0.028160518820679086, 0.030257335472661063, 0.033149433813666696, 0.036693458626240454, 0.07726422097925556, 0.06984248490339895, 0.06204726417392948, 0.05396000661848799, 0.045704478132667155, 0.03746860745214825, 0.029547421841739172, 0.022431893300404272, 0.01696169867558616, 0.014257576850912092, 0.014498009102367112, 0.016144803654021326, 0.017714550803977748, 0.018639200583104105, 0.018973619370319435, 0.019053131044172524, 0.01918862449818344, 0.01943383193418216, 0.01957395010033423, 0.01933635374040577, 0.01865376030928744, 0.017857114929673117, 0.01770083734723888, 0.018989135276135348, 0.021905709215999672, 0.025917884779779524, 0.03028053736021384, 0.034370035314641785, 0.03775000671899151, 0.04015585564712869, 0.04147475890830708, 0.04173208796452997, 0.0410805036784834, 0.03978445654328194, 0.038189233536171215, 0.03666150637678564, 0.035497859084872845, 0.03482955406147379, 0.03458479424883856, 0.03454845865307187, 0.03448656711574429, 0.034265019100083616, 0.03391784035777847, 0.033651365793730785, 0.033777870244713605, 0.034587278778926166, 0.03621992748701039, 0.03863708597155682, 0.0417061362982945, 0.04530858145853449, 0.07613610877113275, 0.06875682481253158, 0.06106922008300228, 0.053174349572579174, 0.045215383601492694, 0.03739467679653209, 0.030005108347487573, 0.02348359201505353, 0.0184605448456676, 0.015597775729827928, 0.014894172014772703, 0.015324894199282898, 0.015766706024384344, 0.01571965179458712, 0.015297001030308772, 0.0149746665620637, 0.01518103643694403, 0.015894565416384277, 0.01668020078416189, 0.017090159796907176, 0.01700402805117962, 0.016793673503870933, 0.017266862354109146, 0.019178241863194397, 0.022596519319396068, 0.02696543872617233, 0.031595131131933435, 0.03592154600355497, 0.03954909521076676, 0.0422368488927687, 0.04388264266918574, 0.044511501605743777, 0.044264746011837997, 0.04338366278074433, 0.04217943981611367, 0.04098097482822043, 0.04006094404622949, 0.03956251921365404, 0.039468920704359124, 0.03964347567057887, 0.03992066144594133, 0.040198181819310244, 0.040490603813470236, 0.04092950677373259, 0.04171230076993765, 0.043019752143571316, 0.044944563382657746, 0.047474208769598014, 0.05053151996979068, 0.05403290538974486, 0.07510890673095799, 0.06781927506049096, 0.06029622899872102, 0.05266171009175214, 0.045077774092163084, 0.03775497289528703, 0.030965258593802024, 0.02505628193237743, 0.02043475332053685, 0.01742038255958852, 0.01592192567517687, 0.015308656369302238, 0.014831162560813424, 0.014111095905689701, 0.013304669044662222, 0.01296531076506224, 0.013539441737566726, 0.01484899238517435, 0.01628861681790405, 0.01736805057913282, 0.0180020420039982, 0.018572488338201167, 0.01977441016826261, 0.02216985688789943, 0.025779148925931628, 0.03016427779022711, 0.034761752703131886, 0.03908293129518076, 0.04277004680548902, 0.04559896266666888, 0.04747117120327418, 0.04840477303523221, 0.04852366935822151, 0.04804080391764888, 0.04722965988587317, 0.04637921448936895, 0.045734906937022576, 0.045442762565839186, 0.04552492222958538, 0.04590472145193739, 0.046469722238708565, 0.04713922619868856, 0.04790609424029606, 0.0488400436884725, 0.05005613822383349, 0.05166528124896865, 0.05373193452273966, 0.05626018954128755, 0.05921036504652789, 0.06252886785438484, 0.07421960794190595, 0.067033285380846, 0.05967771631818014, 0.052289136732913404, 0.04503838985289443, 0.0381279142651941, 0.031784975268855716, 0.02624992365980644, 0.021749711327435608, 0.01843078154984486, 0.01624340973683086, 0.014883454573116888, 0.013947445100352387, 0.013224585731334748, 0.012876463362117918, 0.013297857128626092, 0.014641255380840665, 0.016560439996968546, 0.018519170106294284, 0.02016323081386746, 0.021477707710138374, 0.022785770226058464, 0.024589239600005714, 0.027267431657803286, 0.03084584757344692, 0.03503028950712246, 0.03939559443136856, 0.04353668679172775, 0.04713712389256176, 0.04998938941783759, 0.05199635009117628, 0.053165826782399186, 0.05360059592725491, 0.053481949657432526, 0.053043424028568646, 0.05253259456507869, 0.052164473551981484, 0.05207922362819458, 0.05232260412909827, 0.05286053143846101, 0.05362091372089087, 0.05454142136225373, 0.05560203585597146, 0.056832115325971704, 0.05829403844340464, 0.060054493521514825, 0.06215834384544224, 0.06461681145495136, 0.06741230798824496, 0.07051266898122976, 0.07354392848461812, 0.06646690503216966, 0.05926587972169744, 0.05208280788489761, 0.04508760445081577, 0.03846499620978665, 0.03239244854255152, 0.02701478655723883, 0.02242786506446579, 0.018682438775918835, 0.015805281785030698, 0.013822444917239987, 0.01276931324693022, 0.012672910808194987, 0.013519369893851847, 0.015204980888234281, 0.017479383327075226, 0.019985343275569417, 0.022392931103915926, 0.024526205921060477, 0.026428618739611713, 0.02834685239419169, 0.0306166539151138, 0.03348474616805435, 0.03697876343123726, 0.0409109783307581, 0.04497695533314569, 0.04885893089699762, 0.05229090348124438, 0.05508879047874918, 0.05716019053358213, 0.058503424836097405, 0.059199553376804534, 0.05939743233756814, 0.05929053682118415, 0.05908538187470591, 0.05896528533051626, 0.05905861983031228, 0.05942328059858683, 0.060054292428426796, 0.06091058380177209, 0.06194782587048638, 0.06314326727893539, 0.0645046673856188, 0.06606357058269045, 0.06785932809065454, 0.0699227373084823, 0.07226646030830408, 0.07488455610202992, 0.07775838275556157, 0.07318762203619902, 0.06624509614650816, 0.059209559431063194, 0.05222208998553072, 0.04544617225772107, 0.03904784099437582, 0.03316393315736698, 0.02786938582772127, 0.02316934647627091, 0.01904617883158031, 0.015574016566396266, 0.013073071166612101, 0.012112401818137606, 0.012962983370939074, 0.015154324338592236, 0.018024626756688845, 0.021124710503455622, 0.02418023141428723, 0.027028511292331723, 0.029619750017637662, 0.03203113207069878, 0.034446982887331105, 0.03708762590607977, 0.04011005578402399, 0.04353545446067172, 0.04724351986856423, 0.05102249198730786, 0.05463470851659181, 0.057868606804661146, 0.060569899971406056, 0.0626559384316467, 0.0641186456871059, 0.06501924090725626, 0.06547582753186787, 0.06564405496215943, 0.06569187995137511, 0.06577191599779016, 0.06599779800821441, 0.06643191945373947, 0.06708869399223501, 0.06795107584135729, 0.068992493927838, 0.07019516227616614, 0.07155893728354, 0.07309988530696394, 0.07484187247479725, 0.07680638192766479, 0.07900512609677396, 0.08143755603816814, 0.08409255348957619, 0.07324795667700694, 0.06649706304230238, 0.05968175715326116, 0.05293885301950751, 0.046423492884995414, 0.04028624708242219, 0.03463771875401333, 0.029514995995167933, 0.02488210936589303, 0.020701243900808585, 0.01709145013812935, 0.014537246413936496, 0.013848952404877546, 0.01532191546994789, 0.018241443205319337, 0.02175761424923483, 0.025368676135261007, 0.028834287910633923, 0.03205897504854263, 0.03504434067867122, 0.03787085845643376, 0.0406731808581567, 0.04359522119353891, 0.04673522321584588, 0.05010576643953999, 0.05362756982176787, 0.057155022444810445, 0.06051615256627863, 0.06355015590869431, 0.06613424484332901, 0.06819877638220413, 0.06973249703093061, 0.07077983682899769, 0.07143148980538162, 0.07180922539626768, 0.0720464877288168, 0.07226777311623996, 0.07257123437354017, 0.07301910609481177, 0.07363843756373158, 0.07443085882075932, 0.07538675106558722, 0.07649815025747161, 0.07776625691510873, 0.07920233293432345, 0.08082348025065242, 0.08264628614570639, 0.08468128919972023, 0.0869300174221148, 0.08938475886595776, 0.07376249097169185, 0.06728326668297951, 0.06077618946486521, 0.054372566355284986, 0.04821849057388216, 0.042451774424661026, 0.037168464506769756, 0.032395440078250966, 0.028101589609559902, 0.02427867730940902, 0.021088857570198995, 0.018993789819487787, 0.01860838816415648, 0.020115320093975368, 0.023001121832214432, 0.026561049446291646, 0.030297770002295676, 0.03394771596541657, 0.03740498233133112, 0.04066300477072396, 0.04377847974135316, 0.046841570606066446, 0.04994345508428532, 0.053143741898884246, 0.0564476119485899, 0.05980099808779326, 0.06310387418892449, 0.06623424852707123, 0.06907371307638925, 0.07152823955113521, 0.07354164581073491, 0.07510156661124281, 0.07623869480196187, 0.07702024590945339, 0.07753875313775149, 0.07789779620296589, 0.07819706545205185, 0.07851980663230235, 0.07892551563215987, 0.07944937307395691, 0.08010769777872348, 0.08090669939865709, 0.0818510257717083, 0.08294929407692733, 0.08421543452525317, 0.08566640615667542, 0.08731797807767265, 0.08918051227631642, 0.09125614868837342, 0.09353788232020063, 0.07467215894147904, 0.06854255474657915, 0.062432472146370196, 0.0564666575582731, 0.05078057892287435, 0.04549900481194238, 0.04070785195781028, 0.0364357954713382, 0.03267215916805791, 0.029437883551766787, 0.026886326632017087, 0.025347923968865465, 0.025192374983789255, 0.02652777581004107, 0.029067655912626333, 0.03233505655802636, 0.035910780616013556, 0.03952404687464354, 0.043038924485251234, 0.04641520324270031, 0.04967238178610991, 0.05285955498914105, 0.05602903968067121, 0.059214175251464475, 0.06241462309027907, 0.06559234772726069, 0.06867839264067371, 0.07158709974007034, 0.07423287455045142, 0.07654526049556072, 0.0784797858553208, 0.08002362018671813, 0.08119607464873259, 0.08204452272872381, 0.0826366998383386, 0.08305076019683756, 0.08336491014922337, 0.08364867131225433, 0.0839575552004315, 0.08433202389518714, 0.08480029983763797, 0.085383404479335, 0.08610027122893708, 0.08697108263193079, 0.08801790880078347, 0.08926282618237824, 0.0907245371900953, 0.09241483535248908, 0.09433605023144569, 0.09648005263822651, 0.07581879020219127, 0.07008948745529514, 0.06443433392749441, 0.05897013052914865, 0.05381972036594462, 0.04909322668795335, 0.04486620325208543, 0.04116888514630637, 0.03800447933308634, 0.03540124863577182, 0.03347176399331329, 0.0324221154460758, 0.03246257116931205, 0.03365782005627635, 0.03585311797359211, 0.03874819156003416, 0.04202939770738102, 0.045454649559055385, 0.0488746184545564, 0.052219077367166813, 0.05547251184611797, 0.058649569744504575, 0.061773643883787505, 0.06485994777319759, 0.06790447905856382, 0.07087999966750923, 0.07373892690959054, 0.0764214397989291, 0.07886610102215737, 0.08102027622946079, 0.08284833225804966, 0.08433651234651415, 0.085494178209764, 0.08635169056906704, 0.08695563208864532, 0.08736242453855957, 0.08763163952216599, 0.0878203482534642, 0.08797958574650115, 0.08815339933740678, 0.08838015939528103, 0.0886951113766072, 0.08913281697574327, 0.08972829182685778, 0.09051621745448389, 0.09152835319943003, 0.09278992063322743, 0.09431605785013455, 0.09610935796582791, 0.09815909225342923, 0.0769764199282193, 0.07165885754376536, 0.06647298688893866, 0.061527137540268985, 0.05693107668551156, 0.05278021149233821, 0.04913924065393869, 0.04603613782347437, 0.04347725983340216, 0.04148253094347349, 0.040119743490968564, 0.03950515461685797, 0.03975245030006734, 0.04089557545446061, 0.042845036700474515, 0.04541212513969054, 0.048374723574017356, 0.051536327786862936, 0.054755008682243006, 0.05794606746011095, 0.061070469524495886, 0.06411846378580291, 0.06709352197316974, 0.06999909365348476, 0.07282948607387733, 0.07556551419060342, 0.07817483420974472, 0.08061604888405019, 0.08284505051738233, 0.08482188572389313, 0.08651667658618792, 0.0879136319993942, 0.0890127327663689, 0.08982915843401217, 0.09039090634473186, 0.09073532628460639, 0.09090543609013542, 0.09094685303865277, 0.09090594095523609, 0.0908293559272246, 0.09076467480705694, 0.09076136847648061, 0.09087119237159463, 0.091147198727931, 0.09164101053248191, 0.09239860957249382, 0.09345547487564462, 0.09483224145419816, 0.09653198566778272, 0.09853979576684424, 0.07789789415635459, 0.07296781016633713, 0.06822900312770948, 0.0637826708029218, 0.059727276285945714, 0.05614524832058027, 0.05309044131900238, 0.05058428604091331, 0.048626990641563, 0.04722121165599323, 0.04639381998398473, 0.046197194926514945, 0.04668248256711708, 0.04785884737198507, 0.04966670962628032, 0.05198323132402322, 0.05465358208946071, 0.05752699182503007, 0.06048136310005408, 0.06343235128298136, 0.06633065159829689, 0.06915304001656479, 0.07189153527429754, 0.07454339663233477, 0.07710346017940263, 0.07955953260642672, 0.08189096331467162, 0.08406998308940414, 0.08606497861550787, 0.08784466730606692, 0.08938218271482892, 0.0906583231533857, 0.09166355580622107, 0.09239871466447105, 0.09287462261277904, 0.09311106962630962, 0.09313566395254112, 0.09298302139153415, 0.09269456590973851, 0.09231891146775688, 0.0919124486934576, 0.09153947155117773, 0.09127105920818472, 0.09118206785315539, 0.09134602146297219, 0.09182835623971872, 0.0926791770383564, 0.0939271290253103, 0.09557590536151003, 0.09760425013959055, 0.0783560947470691, 0.07376615892818145, 0.06943224727479545, 0.06545139344444433, 0.06191361196691098, 0.05889006494248078, 0.05642264124724591, 0.05452090280370184, 0.05317048133621779, 0.052350492381382695, 0.052050247363168226, 0.052273886647794664, 0.05302848909186922, 0.054302633471986037, 0.056049464458273496, 0.05818493818623615, 0.060601256990686074, 0.06318697215659169, 0.06584436258376608, 0.06849914724490909, 0.07110234760223494, 0.07362661727994356, 0.07605977907444286, 0.07839774333444453, 0.08063823590297972, 0.0827761509504112, 0.08480088018352629, 0.08669559802723785, 0.08843818518900318, 0.09000327786001067, 0.0913648654731623, 0.09249892391375489, 0.09338572798649677, 0.09401168588110391, 0.0943707296171917, 0.09446543787381739, 0.09430812989677022, 0.0939221309099482, 0.09334326509502607, 0.09262139667321251, 0.09182155327999582, 0.09102389855698474, 0.09032167566822141, 0.0898163522327546, 0.08960968634146885, 0.08979333093104229, 0.09043769538801386, 0.0915825983163451, 0.09323219929728381, 0.09535557488904486, 0.07816899074083897, 0.07386271392326924, 0.06988789832165523, 0.06634101762406772, 0.06330586270301697, 0.060841981553121434, 0.05897537035941318, 0.05769633799634411, 0.05696739870490937, 0.05673885822879832, 0.05696474802708363, 0.05761101407202875, 0.05865241446019375, 0.06006139944419574, 0.061796674877945226, 0.0637983855650872, 0.0659920376416461, 0.06829830051329308, 0.07064379708343821, 0.07296905011682965, 0.07523206925494001, 0.07740794896445354, 0.07948572108159146, 0.08146379324118327, 0.08334503982503394, 0.08513229590659901, 0.08682474910458274, 0.08841552652909189, 0.08989060166731311, 0.09122898456597867, 0.09240401953245213, 0.09338552176287318, 0.09414245658032769, 0.09464590406157564, 0.09487213933128304, 0.09480576062114252, 0.09444287252323103, 0.09379434279864082, 0.09288906987002579, 0.09177701154936627, 0.0905314401223669, 0.0892495441261123, 0.08805019456167086, 0.08706763409893242, 0.08644033101482743, 0.08629552101252698, 0.08673191139693345, 0.08780479703242913, 0.08951810133260046, 0.09182585947789557, 0.07720864665664705, 0.07313083493888735, 0.06947686255266317, 0.0663459055944159, 0.06381574499083034, 0.06193050875478045, 0.06069261284771252, 0.060063282366370055, 0.059973130240519534, 0.06033948270453042, 0.06108365304619797, 0.0621416455692714, 0.06346548025077176, 0.06501699860582986, 0.06675904004970822, 0.06864897664289586, 0.07063726852342826, 0.07267071821019959, 0.07469817542025448, 0.07667616702258677, 0.0785727695682616, 0.0803691249790307, 0.0820587575326148, 0.08364517524207996, 0.08513828978054191, 0.08655016156202808, 0.08789057920822764, 0.08916301928507767, 0.09036154238272058, 0.09146909969518155, 0.09245752892236107, 0.09328925128635245, 0.09392042736113869, 0.09430517030261698, 0.09440038871094572, 0.0941709174730717, 0.09359473121314388, 0.09266814579427828, 0.09141093157424446, 0.08987113627217853, 0.08812910829187545, 0.08629971080274204, 0.08453108529407283, 0.08299781055420351, 0.08188647582726517, 0.08137334770948854, 0.08159731955525433, 0.08263540778505502, 0.08448953998776529, 0.0870897578671214, 0.07540005820154476, 0.07150263966816131, 0.06814439457058961, 0.06542947132485755, 0.0634269087726276, 0.06215729938688601, 0.06158772084641862, 0.061638378920145905, 0.06219962511015317, 0.06315350141680899, 0.06439265093466875, 0.06583156700213713, 0.06740883765568165, 0.06908230983830202, 0.0708209004690844, 0.0725968729810938, 0.07438113257667751, 0.0761422732083727, 0.07784860759685015, 0.07947171539191289, 0.08099009633822123, 0.08239193705558041, 0.08367643206255426, 0.0848533875717261, 0.08594101815267771, 0.086962036966467, 0.0879384190638726, 0.08888556333212212, 0.08980687118065107, 0.09068984035179747, 0.09150454376166656, 0.09220487041419949, 0.09273232857165306, 0.09302177018442691, 0.09300822864121235, 0.09263416825467101, 0.09185671307832723, 0.09065470878193652, 0.08903565025518906, 0.08704248848085402, 0.08476003174137371, 0.08231998283964631, 0.07990253162202031, 0.07773099393676043, 0.07605505565457511, 0.07511961683911764, 0.07512216174339802, 0.07617098015983977, 0.07826211858201797, 0.08128631103354254, 0.07271628700270062, 0.06896065074039315, 0.06588803646998935, 0.06360841604764149, 0.062175590280511346, 0.06157352122842618, 0.061718270745994834, 0.06247601081420096, 0.0636901450178866, 0.06520788506322205, 0.066899326818344, 0.0686666381899965, 0.07044438993782229, 0.07219372338379204, 0.0738935166975144, 0.07553145260271578, 0.07709711954661477, 0.07857822403233618, 0.07995997424046263, 0.08122697929970632, 0.08236666611947192, 0.08337314159822642, 0.08425047086579168, 0.08501442429821546, 0.0856918988183261, 0.08631753725235831, 0.08692762317599542, 0.08755207215654186, 0.08820606483054823, 0.08888325268136374, 0.08955225381727532, 0.09015734685026101, 0.09062319121451491, 0.09086252069090692, 0.0907853989722966, 0.09030881368145215, 0.0893659011638184, 0.08791466263376953, 0.08594645104346828, 0.08349466648610449, 0.0806439036016158, 0.07753906635981193, 0.07439236163074292, 0.07148324836861995, 0.06914282678911486, 0.06771303118191854, 0.0674792761375763, 0.06859637314157166, 0.07104613833116598, 0.07465322312906883, 0.06917413428804857, 0.06553210379154538, 0.06275086794069433, 0.060945105768006914, 0.060141913696270706, 0.060269738378446874, 0.061174644326498155, 0.06265643997080414, 0.0645082401935859, 0.06654641364818739, 0.06862673038087357, 0.07064873240388189, 0.0725521616333947, 0.07430882283603255, 0.07591244120359841, 0.07736850272267322, 0.07868564342045913, 0.07986969980922272, 0.08092100144944495, 0.08183492871829712, 0.08260523278568367, 0.08322914914566783, 0.08371295212236854, 0.08407634730338717, 0.0843540813661332, 0.08459349489831364, 0.0848475562210878, 0.08516415738769967, 0.08557382863048833, 0.08607896342493132, 0.08664755661012472, 0.08721319348304112, 0.08768112844889114, 0.08793868938562775, 0.08786761805236339, 0.08735634440834904, 0.08631114161618489, 0.0846661001405429, 0.0823925899254711, 0.0795092709016206, 0.07609375316912961, 0.07229652763037706, 0.06835615602472485, 0.06461054920921018, 0.06149093954947891, 0.0594755027627582, 0.058984736500594, 0.06024496707925912, 0.06320592240090936, 0.06757935155242521, 0.06483152738926042, 0.0612871286886122, 0.05882115039986873, 0.05754865695929705, 0.05745139936182734, 0.05837662240472912, 0.06007959951316131, 0.062284860245246314, 0.06473716747904923, 0.06723002335224283, 0.06961473513617512, 0.07179776051499719, 0.07373235967657438, 0.07540784475130531, 0.07683802950317226, 0.07804987465171882, 0.07907328574461002, 0.0799331165918023, 0.08064439927494013, 0.08121152599132224, 0.081631512438784, 0.0819006461138392, 0.08202293454821358, 0.08201804364045505, 0.08192608251797519, 0.08180685504394042, 0.08173223296855797, 0.0817721546106685, 0.08197708115914379, 0.08236163866835076, 0.08289444243632306, 0.08349718272816002, 0.0840527894071518, 0.08441969276727436, 0.08444821375563577, 0.08399594961598898, 0.08294071080733237, 0.0811911519350737, 0.07869630107024797, 0.0754557805889957, 0.07153284530346771, 0.06707249425506703, 0.062326243957389775, 0.05768131248900776, 0.053679098943224715, 0.05097998992954739, 0.050211211054126265, 0.05171041096076105, 0.05535843651934647, 0.06067780377373656, 0.059785197280304736, 0.05633882385282941, 0.054235794547907404, 0.05358115580887642, 0.054281626376812636, 0.05607012657880132, 0.0585919030401862, 0.06149462050244849, 0.06448369533742515, 0.06734153512690083, 0.06992552760108577, 0.07215749711033734, 0.07401101363328344, 0.07549864285378603, 0.07665940264709997, 0.07754637213963494, 0.078214799042085, 0.07871169207587309, 0.07906841770340292, 0.07929792141760077, 0.07939763035132283, 0.07935787148570851, 0.07917407063127943, 0.07885957582600364, 0.07845512512947946, 0.07803105294996701, 0.07767953578521426, 0.07749671729202222, 0.07755821006891035, 0.07789496870415848, 0.07847761432955629, 0.07921445248738244, 0.07996289592132108, 0.08054923768307164, 0.0807903360709626, 0.0805125487099941, 0.07956616971296074, 0.07783598108165471, 0.07524983403902298, 0.07178777478009503, 0.06749470434693433, 0.0625003836987897, 0.057051750097987186, 0.051561938961567994, 0.04666836071974741, 0.04324223001599833, 0.042199555722054256, 0.04403909801868854, 0.04851036372849764, 0.05485470850651133, 0.0541662301597225, 0.05084183581203568, 0.049183403403820304, 0.049263288440266846, 0.0508664827974882, 0.053572651467564576, 0.05690598551543941, 0.06044768983889511, 0.06388063140621389, 0.0669904027352363, 0.06965020045221455, 0.07180348242780647, 0.07344861776407666, 0.0746255022986084, 0.07540290121149663, 0.0758654113252503, 0.07609972407489032, 0.07618104464736533, 0.0761617745074276, 0.07606534881406952, 0.0758878024077382, 0.0756079411320654, 0.07520436888820561, 0.07467507059782275, 0.07405369840003206, 0.07341655661706804, 0.07287566796351493, 0.07255658250312594, 0.07256496609289549, 0.07295199588238747, 0.07369126955398812, 0.07467581047519187, 0.07573451102937337, 0.07665952389814479, 0.07723451665217014, 0.07725733998342789, 0.07655545563895452, 0.07499567858249985, 0.07249109438470665, 0.06900832144599901, 0.0645786072550487, 0.059317403902737875, 0.0534597268779253, 0.047422151073788894, 0.04189718432321507, 0.0379264186207373, 0.036711161752484484, 0.038912412616376964, 0.0441086224418751, 0.05125855752177182, 0.0481335831395013, 0.044988280969890576, 0.04390443349370814, 0.04487440625182317, 0.0474908022429164, 0.05114316277989959, 0.055242238964525306, 0.05932852054729052, 0.06308522027910547, 0.06631532567261512, 0.06891494767978423, 0.07085220912716517, 0.07215176189062344, 0.07288260244634577, 0.07314661713973965, 0.07306572143562973, 0.07276637980791567, 0.07236188879573772, 0.07193502511837417, 0.07152575218297787, 0.07112921344758596, 0.07070705984248511, 0.07021068154024904, 0.06961025090986163, 0.06892077758354488, 0.06821622162489976, 0.06762461121493615, 0.06730123653192199, 0.0673843658390956, 0.06794739897219898, 0.06896664688986975, 0.0703179435083687, 0.07180034100331965, 0.07317308613758632, 0.07419104754582447, 0.07463060701492259, 0.07430525455306003, 0.07307396915625956, 0.07084638097296524, 0.0675884611348753, 0.06333244848017533, 0.05819578365874334, 0.0524166850886712, 0.04641824152088359, 0.040908928967324634, 0.036965826358992246, 0.03583929319391058, 0.03820174051342361, 0.04358344874598396, 0.05089764663041985, 0.041875466544111006, 0.039010086628394516, 0.0386948979335506, 0.040747970970868616, 0.04447348236841477, 0.049055733475675, 0.05382917637199622, 0.0583328484330652, 0.06227438907498656, 0.0654850097075063, 0.06788668308786051, 0.06947132312516362, 0.07028780814530962, 0.07043293077927602, 0.07004288199366233, 0.06928216743429384, 0.06832736136235462, 0.06734466694315117, 0.06646358484287794, 0.06575357961971043, 0.06521373947867243, 0.06478333771909799, 0.06437323406993085, 0.06390874791954013, 0.06336975897109191, 0.06281461122393571, 0.06237819853094707, 0.06224009977216542, 0.06256801350249641, 0.06345516569291697, 0.0648787381140895, 0.06669752775850303, 0.0686845385421857, 0.07057379007499875, 0.07210175153529538, 0.07303495516643771, 0.07318480647743338, 0.07241443992101748, 0.07064260040168654, 0.06784862636442333, 0.0640821547272621, 0.05948172937419643, 0.05430801654289884, 0.0489976927215095, 0.04423217274143299, 0.040957230739733175, 0.04017112091763046, 0.04238746246548688, 0.04728078405642925, 0.05401249015635312, 0.03565084375544438, 0.0332214699332201, 0.033938970248091165, 0.03727467116348868, 0.042147844592557535, 0.0475765454057848, 0.0528865174432352, 0.05765767724436869, 0.06164021116559541, 0.06469819214770813, 0.06677763777395583, 0.06788951488142092, 0.06810117095998816, 0.06753198047773289, 0.06634976037241884, 0.06476417360316963, 0.06301260564198005, 0.06133426635279544, 0.05993189860878565, 0.058929114486594505, 0.058341544773641535, 0.058081344726303386, 0.05800004452459276, 0.05795362934664863, 0.05786372121639533, 0.05775384348579974, 0.057749763967368334, 0.058041282268177355, 0.0588134738463758, 0.060171341185153465, 0.062091700117413266, 0.0644232808733006, 0.06692670804404074, 0.0693276058135166, 0.07136064106190307, 0.07279696166501319, 0.0734578297144159, 0.07322042533636877, 0.07202114847047328, 0.06986033677871345, 0.06681140730792921, 0.06303708131314002, 0.05881467888569132, 0.05456853329408541, 0.05089292945006684, 0.048514886934647256, 0.04811945202709871, 0.05005588146847847, 0.05416479704547264, 0.05991723537141549, 0.029937559429325345, 0.028168696072033702, 0.030205203573751636, 0.034924765365493375, 0.04085245557666669, 0.0469535890631376, 0.0526192301945483, 0.05749768037075014, 0.061387177856401534, 0.06418184872372099, 0.06584575234586154, 0.06640126841858494, 0.0659254022187834, 0.06455070123881367, 0.06246819991135953, 0.059928832072008505, 0.05723717400219598, 0.05472805038769959, 0.05271654737145188, 0.05142382993149642, 0.0509079846679347, 0.051048118909150834, 0.051605138745910537, 0.05232772277652704, 0.0530475912346907, 0.05372942351413742, 0.05446885103935667, 0.05544492729510297, 0.05684167287811604, 0.05876655160149942, 0.061200902690628584, 0.06400129749954185, 0.06694036526040018, 0.06975915137213985, 0.0722096772866811, 0.0740812356894901, 0.07521356896917375, 0.0755026974299426, 0.07490430113426086, 0.0734380051264624, 0.07119464544298147, 0.06834742589555058, 0.06516586331303567, 0.06202674354834051, 0.059406953380269134, 0.05783190557503228, 0.05775954684248764, 0.059431857366532614, 0.06279187158060721, 0.06753496923033286, 0.02574643419669412, 0.024906889546563, 0.028350330757619027, 0.03424815807965547, 0.04092257707236815, 0.04741699648991539, 0.05321975102283759, 0.058044235062331195, 0.06172677204694255, 0.06418198705552419, 0.06538341505073955, 0.06535632107160515, 0.06417770404829695, 0.06198154482951677, 0.05896827221380695, 0.05541663261377012, 0.05169257301613766, 0.04824129393697035, 0.0455365702405674, 0.04396394724937466, 0.04366860011719947, 0.04448286175143202, 0.0460205673617025, 0.047867206273968455, 0.049730398353136994, 0.05149747220425161, 0.05321893624166289, 0.055046782811221044, 0.05715063828815616, 0.05963807751662297, 0.06250737139992196, 0.06564611057280803, 0.06886481880835667, 0.07194206584633069, 0.07466284457024154, 0.07684383143929797, 0.07834728093788795, 0.07908795518759057, 0.07903707731491419, 0.07822598434162092, 0.07675079497835133, 0.07477795254629568, 0.07254846293332144, 0.07037549957482114, 0.06862622015851919, 0.06767757953682152, 0.06784497113976976, 0.06930497665257256, 0.07205239730634588, 0.07591813233233097, 0.024769914527207598, 0.024948891449169494, 0.029309216030304314, 0.035737722431420586, 0.042639027802498855, 0.04916285661190802, 0.0548591728368697, 0.059473903706994444, 0.06285996521423985, 0.06493908532399138, 0.06568558310148662, 0.06512104049321688, 0.0633158883261879, 0.06039691273966826, 0.05656113490682514, 0.05209692997451763, 0.04741103744533388, 0.04304936492287305, 0.039669547249454026, 0.037886419296336085, 0.037979502192263266, 0.03970178931436662, 0.04244629791194454, 0.04559205615847032, 0.04871823175520638, 0.05164322030651551, 0.054376439900337824, 0.057040602500247825, 0.05978814365478584, 0.06272912235866453, 0.06588794966448645, 0.06919689320935063, 0.07251866279156871, 0.07568132666022319, 0.07851111975948497, 0.08085646776544865, 0.08260293562210021, 0.08368165521151946, 0.0840740877049214, 0.083815161736307, 0.0829956830327107, 0.08176362593772615, 0.08032243437462668, 0.07892286668807653, 0.07784395495048195, 0.07736009708170194, 0.07769714710982824, 0.07898955392166913, 0.08125609462793838, 0.08440553608057222, 0.028190298347768976, 0.029025596583109443, 0.033406483973352885, 0.039560932927103276, 0.04612271817648677, 0.052301327070558415, 0.05765243744517744, 0.06191720447578665, 0.06494298268924187, 0.06664626988543236, 0.06699603271911428, 0.06600794078109787, 0.06374589382362929, 0.060330143597466905, 0.05595321366677902, 0.05090633906637199, 0.045618918120525855, 0.040703640609720954, 0.036957531851089145, 0.035184751383014294, 0.03576478209598668, 0.03834705823976518, 0.04212490863455923, 0.04633008692685068, 0.05046655740029933, 0.0543117413390284, 0.05784196239300677, 0.06114903644518697, 0.06436379472850845, 0.06759420487418771, 0.0708867668012349, 0.07421552452783135, 0.07749421424159778, 0.08060082131697313, 0.08340389776711092, 0.08578424989372105, 0.08765012003919222, 0.0889466862522947, 0.08966156011419585, 0.08982770688452141, 0.08952446554473237, 0.08887643323935329, 0.08804906754199324, 0.08723918767435247, 0.08665860945412669, 0.08651061485818395, 0.08696213905080931, 0.08811834273741805, 0.09000783877716552, 0.09258386582402364];\n",
       "const xvar = \"epochs\";\n",
       "const yvar = \"lr\";\n",
       "const x_is_log = false;\n",
       "const y_is_log = true;\n",
       "\n",
       "const GREEN_SCALE = [[247, 252, 253], [229, 245, 249], [204, 236, 230], [153, 216, 201], [102, 194, 164], [65, 174, 118], [35, 139, 69], [0, 109, 44], [0, 68, 27]];\n",
       "const GREEN_PINK_SCALE = [[142, 1, 82], [197, 27, 125], [222, 119, 174], [241, 182, 218], [253, 224, 239], [247, 247, 247], [230, 245, 208], [184, 225, 134], [127, 188, 65], [77, 146, 33], [39, 100, 25]];\n",
       "const BLUE_SCALE = [[255, 247, 251], [236, 231, 242], [208, 209, 230], [166, 189, 219], [116, 169, 207], [54, 144, 192], [5, 112, 176], [3, 78, 123]];\n",
       "\n",
       "// format data\n",
       "const res = relativize_data(f, sd, rel, arm_data, metric);\n",
       "const f_final = res[0];\n",
       "const sd_final = res[1];\n",
       "\n",
       "// calculate max of abs(outcome), used for colorscale\n",
       "const f_absmax = Math.max(Math.abs(Math.min(...f_final)), Math.max(...f_final));\n",
       "\n",
       "// transform to nested array\n",
       "var f_plt = [];\n",
       "while(f_final.length) f_plt.push(f_final.splice(0, density));\n",
       "var sd_plt = [];\n",
       "while(sd_final.length) sd_plt.push(sd_final.splice(0, density));\n",
       "\n",
       "// create traces\n",
       "const CONTOUR_CONFIG = {\n",
       "  autocolorscale: false,\n",
       "  autocontour: true,\n",
       "  contours: {\n",
       "    coloring: 'heatmap',\n",
       "  },\n",
       "  hoverinfo: 'x+y+z',\n",
       "  ncontours: density / 2,\n",
       "  type: 'contour',\n",
       "  x: grid_x,\n",
       "  y: grid_y,\n",
       "};\n",
       "\n",
       "let f_scale;\n",
       "if (rel === true) {\n",
       "  f_scale = lower_is_better === true\n",
       "    ? GREEN_PINK_SCALE.reverse()\n",
       "    : GREEN_PINK_SCALE;\n",
       "} else {\n",
       "  f_scale = GREEN_SCALE;\n",
       "}\n",
       "\n",
       "const f_trace = {\n",
       "  colorbar: {\n",
       "    x: 0.45,\n",
       "    y: 0.5,\n",
       "    ticksuffix: rel === true ? '%' : '',\n",
       "    tickfont: {\n",
       "      size: 8,\n",
       "    },\n",
       "  },\n",
       "  colorscale: f_scale.map(\n",
       "    (v, i) => [i / (f_scale.length - 1), rgb(v)]\n",
       "  ),\n",
       "  xaxis: 'x',\n",
       "  yaxis: 'y',\n",
       "  z: f_plt,\n",
       "  // zmax and zmin are ignored if zauto is true\n",
       "  zauto: !rel,\n",
       "  zmax: f_absmax,\n",
       "  zmin: -f_absmax,\n",
       "};\n",
       "\n",
       "const sd_trace = {\n",
       "  colorbar: {\n",
       "      x: 1,\n",
       "      y: 0.5,\n",
       "      ticksuffix: rel === true ? '%' : '',\n",
       "      tickfont: {\n",
       "        size: 8,\n",
       "      },\n",
       "  },\n",
       "  colorscale: BLUE_SCALE.map(\n",
       "    (v, i) => [i / (BLUE_SCALE.length - 1), rgb(v)]\n",
       "  ),\n",
       "  xaxis: 'x2',\n",
       "  yaxis: 'y2',\n",
       "  z: sd_plt,\n",
       "};\n",
       "\n",
       "Object.keys(CONTOUR_CONFIG).forEach(key => {\n",
       "  f_trace[key] = CONTOUR_CONFIG[key];\n",
       "  sd_trace[key] = CONTOUR_CONFIG[key];\n",
       "});\n",
       "\n",
       "// get in-sample arms\n",
       "const arm_x = [];\n",
       "const arm_y = [];\n",
       "const arm_text = [];\n",
       "\n",
       "Object.keys(arm_data['in_sample']).forEach(arm_name => {\n",
       "  arm_x.push(arm_data['in_sample'][arm_name]['parameters'][xvar]);\n",
       "  arm_y.push(arm_data['in_sample'][arm_name]['parameters'][yvar]);\n",
       "  arm_text.push(arm_name);\n",
       "});\n",
       "\n",
       "// configs for in-sample arms\n",
       "const base_in_sample_arm_config = {\n",
       "  hoverinfo: 'text',\n",
       "  legendgroup: 'In-sample',\n",
       "  marker: {color: 'black', symbol: 1, opacity: 0.5},\n",
       "  mode: 'markers',\n",
       "  name: 'In-sample',\n",
       "  text: arm_text,\n",
       "  type: 'scatter',\n",
       "  x: arm_x,\n",
       "  y: arm_y,\n",
       "};\n",
       "\n",
       "const f_in_sample_arm_trace = {\n",
       "  xaxis: 'x',\n",
       "  yaxis: 'y',\n",
       "};\n",
       "\n",
       "const sd_in_sample_arm_trace = {\n",
       "  showlegend: false,\n",
       "  xaxis: 'x2',\n",
       "  yaxis: 'y2',\n",
       "};\n",
       "\n",
       "Object.keys(base_in_sample_arm_config).forEach(key => {\n",
       "  f_in_sample_arm_trace[key] = base_in_sample_arm_config[key];\n",
       "  sd_in_sample_arm_trace[key] = base_in_sample_arm_config[key];\n",
       "});\n",
       "\n",
       "const traces = [\n",
       "  f_trace,\n",
       "  sd_trace,\n",
       "  f_in_sample_arm_trace,\n",
       "  sd_in_sample_arm_trace,\n",
       "];\n",
       "\n",
       "// start symbol at 2 for candidate markers\n",
       "let i = 2;\n",
       "\n",
       "// iterate over out-of-sample arms\n",
       "Object.keys(arm_data['out_of_sample']).forEach(generator_run_name => {\n",
       "  const ax = [];\n",
       "  const ay = [];\n",
       "  const atext = [];\n",
       "\n",
       "  Object.keys(arm_data['out_of_sample'][generator_run_name]).forEach(arm_name => {\n",
       "    ax.push(\n",
       "      arm_data['out_of_sample'][generator_run_name][arm_name]['parameters'][xvar]\n",
       "    );\n",
       "    ay.push(\n",
       "      arm_data['out_of_sample'][generator_run_name][arm_name]['parameters'][yvar]\n",
       "    );\n",
       "    atext.push('<em>Candidate ' + arm_name + '</em>');\n",
       "  });\n",
       "\n",
       "  traces.push({\n",
       "    hoverinfo: 'text',\n",
       "    legendgroup: generator_run_name,\n",
       "    marker: {color: 'black', symbol: i, opacity: 0.5},\n",
       "    mode: 'markers',\n",
       "    name: generator_run_name,\n",
       "    text: atext,\n",
       "    type: 'scatter',\n",
       "    xaxis: 'x',\n",
       "    x: ax,\n",
       "    yaxis: 'y',\n",
       "    y: ay,\n",
       "  });\n",
       "  traces.push({\n",
       "    hoverinfo: 'text',\n",
       "    legendgroup: generator_run_name,\n",
       "    marker: {color: 'black', symbol: i, opacity: 0.5},\n",
       "    mode: 'markers',\n",
       "    name: 'In-sample',\n",
       "    showlegend: false,\n",
       "    text: atext,\n",
       "    type: 'scatter',\n",
       "    x: ax,\n",
       "    xaxis: 'x2',\n",
       "    y: ay,\n",
       "    yaxis: 'y2',\n",
       "  });\n",
       "  i += 1;\n",
       "});\n",
       "\n",
       "// layout\n",
       "const xrange = axis_range(grid_x, x_is_log);\n",
       "const yrange = axis_range(grid_y, y_is_log);\n",
       "\n",
       "const xtype = x_is_log ? 'log' : 'linear';\n",
       "const ytype = y_is_log ? 'log' : 'linear';\n",
       "\n",
       "const layout = {\n",
       "  autosize: false,\n",
       "    margin: {\n",
       "      l: 35,\n",
       "      r: 35,\n",
       "      t: 35,\n",
       "      b: 100,\n",
       "      pad: 0,\n",
       "  },\n",
       "  annotations: [\n",
       "    {\n",
       "      font: {size: 14},\n",
       "      showarrow: false,\n",
       "      text: 'Mean',\n",
       "      x: 0.25,\n",
       "      xanchor: 'center',\n",
       "      xref: 'paper',\n",
       "      y: 1,\n",
       "      yanchor: 'bottom',\n",
       "      yref: 'paper',\n",
       "    },\n",
       "    {\n",
       "      font: {size: 14},\n",
       "      showarrow: false,\n",
       "      text: 'Standard Error',\n",
       "      x: 0.8,\n",
       "      xanchor: 'center',\n",
       "      xref: 'paper',\n",
       "      y: 1,\n",
       "      yanchor: 'bottom',\n",
       "      yref: 'paper',\n",
       "    },\n",
       "  ],\n",
       "  hovermode: 'closest',\n",
       "  legend: {orientation: 'h', x: 0, y: -0.25},\n",
       "  height: 450,\n",
       "  width: 950,\n",
       "  xaxis: {\n",
       "    anchor: 'y',\n",
       "    autorange: false,\n",
       "    domain: [0.05, 0.45],\n",
       "    exponentformat: 'e',\n",
       "    range: xrange,\n",
       "    tickfont: {size: 11},\n",
       "    tickmode: 'auto',\n",
       "    title: xvar,\n",
       "    type: xtype,\n",
       "  },\n",
       "  xaxis2: {\n",
       "    anchor: 'y2',\n",
       "    autorange: false,\n",
       "    domain: [0.60, 1],\n",
       "    exponentformat: 'e',\n",
       "    range: xrange,\n",
       "    tickfont: {size: 11},\n",
       "    tickmode: 'auto',\n",
       "    title: xvar,\n",
       "    type: xtype,\n",
       "  },\n",
       "  yaxis: {\n",
       "    anchor: 'x',\n",
       "    autorange: false,\n",
       "    domain: [0, 1],\n",
       "    exponentformat: 'e',\n",
       "    range: yrange,\n",
       "    tickfont: {size: 11},\n",
       "    tickmode: 'auto',\n",
       "    title: yvar,\n",
       "    type: ytype,\n",
       "  },\n",
       "  yaxis2: {\n",
       "    anchor: 'x2',\n",
       "    autorange: false,\n",
       "    domain: [0, 1],\n",
       "    exponentformat: 'e',\n",
       "    range: yrange,\n",
       "    tickfont: {size: 11},\n",
       "    tickmode: 'auto',\n",
       "    type: ytype,\n",
       "  },\n",
       "};\n",
       "\n",
       "Plotly.newPlot(\"4f6ecb888e264382bd915d7901187603\", traces, layout, {showLink: false});\n",
       "});</script>"
      ]
     },
     "metadata": {},
     "output_type": "display_data"
    }
   ],
   "source": [
    "render(plot_contour(model=gpei, param_x='epochs', param_y='lr', metric_name='log_eval'))"
   ]
  },
  {
   "cell_type": "markdown",
   "metadata": {},
   "source": [
    "A much lower lr for fine tuning and shorter epochs. The more epochs, the lower the lr."
   ]
  },
  {
   "cell_type": "code",
   "execution_count": 23,
   "metadata": {
    "pycharm": {
     "name": "#%%\n"
    },
    "scrolled": false
   },
   "outputs": [
    {
     "data": {
      "text/html": [
       "<div id=\"18523a0c65eb4875b73ca6a7d8162f0d\" style=\"width: 100%;\" class=\"plotly-graph-div\"></div><script type='text/javascript'>/*\n",
       " * Copyright (c) Facebook, Inc. and its affiliates. All Rights Reserved.\n",
       " */\n",
       "\n",
       "require(['plotly'], function(Plotly) {\n",
       "  window.PLOTLYENV = window.PLOTLYENV || {};\n",
       "  window.PLOTLYENV.BASE_URL = 'https://plot.ly';\n",
       "  /*\n",
       " * Copyright (c) Facebook, Inc. and its affiliates. All Rights Reserved.\n",
       " */\n",
       "\n",
       "const arm_data = {\"metrics\": [\"log_eval\"], \"in_sample\": {\"10_0\": {\"name\": \"10_0\", \"parameters\": {\"lr\": 0.04978427747990496, \"decay\": 0.003527565121958421, \"epochs\": 47}, \"y\": {\"log_eval\": 3.112263631209449}, \"y_hat\": {\"log_eval\": 3.114052542426581}, \"se\": {\"log_eval\": 0.01238418875800926}, \"se_hat\": {\"log_eval\": 0.012333336529813459}, \"context_stratum\": null}, \"11_0\": {\"name\": \"11_0\", \"parameters\": {\"lr\": 0.006247040048381291, \"decay\": 0.0001438024293565146, \"epochs\": 25}, \"y\": {\"log_eval\": 3.4241942668232896}, \"y_hat\": {\"log_eval\": 3.421785508764442}, \"se\": {\"log_eval\": 0.01374483715894778}, \"se_hat\": {\"log_eval\": 0.013228352665373973}, \"context_stratum\": null}, \"12_0\": {\"name\": \"12_0\", \"parameters\": {\"lr\": 0.00014838731399692169, \"decay\": 0.0014697324908619514, \"epochs\": 22}, \"y\": {\"log_eval\": 3.415520117203138}, \"y_hat\": {\"log_eval\": 3.4154054618001344}, \"se\": {\"log_eval\": 0.011276006439341265}, \"se_hat\": {\"log_eval\": 0.011208439049154268}, \"context_stratum\": null}, \"13_0\": {\"name\": \"13_0\", \"parameters\": {\"lr\": 0.0005519527802397052, \"decay\": 0.00010246759190872975, \"epochs\": 41}, \"y\": {\"log_eval\": 3.546131034009097}, \"y_hat\": {\"log_eval\": 3.5467401809527708}, \"se\": {\"log_eval\": 0.012589028883241746}, \"se_hat\": {\"log_eval\": 0.012370755528961311}, \"context_stratum\": null}, \"14_0\": {\"name\": \"14_0\", \"parameters\": {\"lr\": 0.010504083634447867, \"decay\": 0.00043748352890575796, \"epochs\": 12}, \"y\": {\"log_eval\": 3.634057109613882}, \"y_hat\": {\"log_eval\": 3.6266019274350696}, \"se\": {\"log_eval\": 0.013357370606483029}, \"se_hat\": {\"log_eval\": 0.012263504168286279}, \"context_stratum\": null}, \"15_0\": {\"name\": \"15_0\", \"parameters\": {\"lr\": 0.07475959993275257, \"decay\": 4.4930071267683065e-05, \"epochs\": 16}, \"y\": {\"log_eval\": 3.3610420926516205}, \"y_hat\": {\"log_eval\": 3.3612515676277255}, \"se\": {\"log_eval\": 0.013348588353470204}, \"se_hat\": {\"log_eval\": 0.013234709567014072}, \"context_stratum\": null}, \"16_0\": {\"name\": \"16_0\", \"parameters\": {\"lr\": 0.0028143370815851038, \"decay\": 0.006083735575886048, \"epochs\": 37}, \"y\": {\"log_eval\": 3.528262642158446}, \"y_hat\": {\"log_eval\": 3.5278215398643207}, \"se\": {\"log_eval\": 0.012156142965591931}, \"se_hat\": {\"log_eval\": 0.012030366909057136}, \"context_stratum\": null}, \"17_0\": {\"name\": \"17_0\", \"parameters\": {\"lr\": 0.0031722460970575166, \"decay\": 5.153458431222948e-05, \"epochs\": 48}, \"y\": {\"log_eval\": 3.35745258138615}, \"y_hat\": {\"log_eval\": 3.358951260569798}, \"se\": {\"log_eval\": 0.012186919913023975}, \"se_hat\": {\"log_eval\": 0.012088815826541945}, \"context_stratum\": null}, \"18_0\": {\"name\": \"18_0\", \"parameters\": {\"lr\": 0.061217137158285154, \"decay\": 0.005093566161426102, \"epochs\": 2}, \"y\": {\"log_eval\": 3.168146034596125}, \"y_hat\": {\"log_eval\": 3.1708864060537443}, \"se\": {\"log_eval\": 0.011724834444400638}, \"se_hat\": {\"log_eval\": 0.011636760356815122}, \"context_stratum\": null}, \"19_0\": {\"name\": \"19_0\", \"parameters\": {\"lr\": 0.012302214003413503, \"decay\": 0.0001241083471404148, \"epochs\": 24}, \"y\": {\"log_eval\": 3.310859376580618}, \"y_hat\": {\"log_eval\": 3.3156705007065432}, \"se\": {\"log_eval\": 0.013013713238650986}, \"se_hat\": {\"log_eval\": 0.012627976507614408}, \"context_stratum\": null}, \"20_0\": {\"name\": \"20_0\", \"parameters\": {\"lr\": 0.00045671365891730595, \"decay\": 0.0003864138666601675, \"epochs\": 27}, \"y\": {\"log_eval\": 3.493354500212299}, \"y_hat\": {\"log_eval\": 3.4941038776986613}, \"se\": {\"log_eval\": 0.011985410991012154}, \"se_hat\": {\"log_eval\": 0.011842025112949567}, \"context_stratum\": null}, \"21_0\": {\"name\": \"21_0\", \"parameters\": {\"lr\": 0.00011818864786637608, \"decay\": 0.00017291991110745218, \"epochs\": 11}, \"y\": {\"log_eval\": 3.4129530698338524}, \"y_hat\": {\"log_eval\": 3.4126835751538476}, \"se\": {\"log_eval\": 0.010893951393214646}, \"se_hat\": {\"log_eval\": 0.010845374849696844}, \"context_stratum\": null}, \"22_0\": {\"name\": \"22_0\", \"parameters\": {\"lr\": 0.0042958675936845365, \"decay\": 0.0010471843418864235, \"epochs\": 10}, \"y\": {\"log_eval\": 3.6777936772323065}, \"y_hat\": {\"log_eval\": 3.6528422645538745}, \"se\": {\"log_eval\": 0.01295640227218043}, \"se_hat\": {\"log_eval\": 0.00944134535527963}, \"context_stratum\": null}, \"23_0\": {\"name\": \"23_0\", \"parameters\": {\"lr\": 0.008370803588215753, \"decay\": 0.00022333890726881868, \"epochs\": 2}, \"y\": {\"log_eval\": 3.519143836350856}, \"y_hat\": {\"log_eval\": 3.521584278609035}, \"se\": {\"log_eval\": 0.01184426378037716}, \"se_hat\": {\"log_eval\": 0.011644284122676603}, \"context_stratum\": null}, \"24_0\": {\"name\": \"24_0\", \"parameters\": {\"lr\": 0.003423667093075686, \"decay\": 0.0013399111889739398, \"epochs\": 15}, \"y\": {\"log_eval\": 3.650251177315237}, \"y_hat\": {\"log_eval\": 3.6431589437205516}, \"se\": {\"log_eval\": 0.01230955863293442}, \"se_hat\": {\"log_eval\": 0.011011913946384469}, \"context_stratum\": null}, \"25_0\": {\"name\": \"25_0\", \"parameters\": {\"lr\": 0.0006869113033726057, \"decay\": 0.0018229361036326858, \"epochs\": 45}, \"y\": {\"log_eval\": 3.59844643260302}, \"y_hat\": {\"log_eval\": 3.5983592923059278}, \"se\": {\"log_eval\": 0.013030680531584954}, \"se_hat\": {\"log_eval\": 0.012355242402042953}, \"context_stratum\": null}, \"26_0\": {\"name\": \"26_0\", \"parameters\": {\"lr\": 0.00558261633492821, \"decay\": 0.0020691025936057034, \"epochs\": 12}, \"y\": {\"log_eval\": 3.5940986162758946}, \"y_hat\": {\"log_eval\": 3.603189753125716}, \"se\": {\"log_eval\": 0.01444843098271689}, \"se_hat\": {\"log_eval\": 0.012787919264242121}, \"context_stratum\": null}, \"27_0\": {\"name\": \"27_0\", \"parameters\": {\"lr\": 0.0038535517531817546, \"decay\": 0.00039530815909391445, \"epochs\": 11}, \"y\": {\"log_eval\": 3.604072959202277}, \"y_hat\": {\"log_eval\": 3.6077179059964095}, \"se\": {\"log_eval\": 0.012192131345327805}, \"se_hat\": {\"log_eval\": 0.011606140997104034}, \"context_stratum\": null}, \"28_0\": {\"name\": \"28_0\", \"parameters\": {\"lr\": 0.001831685554727031, \"decay\": 0.0062428424383467575, \"epochs\": 21}, \"y\": {\"log_eval\": 3.6121852565395094}, \"y_hat\": {\"log_eval\": 3.6141663472253427}, \"se\": {\"log_eval\": 0.012255683030681006}, \"se_hat\": {\"log_eval\": 0.011532699243793382}, \"context_stratum\": null}, \"29_0\": {\"name\": \"29_0\", \"parameters\": {\"lr\": 0.0013184302548125534, \"decay\": 0.0008283421858509831, \"epochs\": 37}, \"y\": {\"log_eval\": 3.6172050138356378}, \"y_hat\": {\"log_eval\": 3.6190250824743524}, \"se\": {\"log_eval\": 0.012981913317247438}, \"se_hat\": {\"log_eval\": 0.012386771755470169}, \"context_stratum\": null}, \"2_0\": {\"name\": \"2_0\", \"parameters\": {\"lr\": 0.08222266530738154, \"decay\": 0.000787696268305935, \"epochs\": 28}, \"y\": {\"log_eval\": 3.1768169773773316}, \"y_hat\": {\"log_eval\": 3.1759294798904616}, \"se\": {\"log_eval\": 0.012540239147262752}, \"se_hat\": {\"log_eval\": 0.012406686898506932}, \"context_stratum\": null}, \"30_0\": {\"name\": \"30_0\", \"parameters\": {\"lr\": 0.0005830066799163658, \"decay\": 0.0004613016523184007, \"epochs\": 49}, \"y\": {\"log_eval\": 3.598738157827219}, \"y_hat\": {\"log_eval\": 3.5981352364618955}, \"se\": {\"log_eval\": 0.011232449462836053}, \"se_hat\": {\"log_eval\": 0.010826821341997778}, \"context_stratum\": null}, \"31_0\": {\"name\": \"31_0\", \"parameters\": {\"lr\": 0.0023223184893015874, \"decay\": 0.0016108860028932247, \"epochs\": 9}, \"y\": {\"log_eval\": 3.558727045155133}, \"y_hat\": {\"log_eval\": 3.5645356723793453}, \"se\": {\"log_eval\": 0.011648132219884741}, \"se_hat\": {\"log_eval\": 0.011227946938375921}, \"context_stratum\": null}, \"32_0\": {\"name\": \"32_0\", \"parameters\": {\"lr\": 0.005391083307693113, \"decay\": 0.0008003947035889143, \"epochs\": 12}, \"y\": {\"log_eval\": 3.625094942527766}, \"y_hat\": {\"log_eval\": 3.6418783680275415}, \"se\": {\"log_eval\": 0.012355384811992873}, \"se_hat\": {\"log_eval\": 0.009696772021200095}, \"context_stratum\": null}, \"33_0\": {\"name\": \"33_0\", \"parameters\": {\"lr\": 0.003103488748160297, \"decay\": 0.0035133869602214274, \"epochs\": 22}, \"y\": {\"log_eval\": 3.6417610419944224}, \"y_hat\": {\"log_eval\": 3.6361885761752606}, \"se\": {\"log_eval\": 0.01453414594385548}, \"se_hat\": {\"log_eval\": 0.012918848890534218}, \"context_stratum\": null}, \"34_0\": {\"name\": \"34_0\", \"parameters\": {\"lr\": 0.0012152946378868432, \"decay\": 0.0011010052894948998, \"epochs\": 50}, \"y\": {\"log_eval\": 3.66830531482307}, \"y_hat\": {\"log_eval\": 3.6579242421509246}, \"se\": {\"log_eval\": 0.012908655061946196}, \"se_hat\": {\"log_eval\": 0.009066252526822832}, \"context_stratum\": null}, \"35_0\": {\"name\": \"35_0\", \"parameters\": {\"lr\": 0.0030470682447321057, \"decay\": 0.01, \"epochs\": 17}, \"y\": {\"log_eval\": 3.6951204858036406}, \"y_hat\": {\"log_eval\": 3.6631363938141344}, \"se\": {\"log_eval\": 0.014234781723022609}, \"se_hat\": {\"log_eval\": 0.010346484703827477}, \"context_stratum\": null}, \"36_0\": {\"name\": \"36_0\", \"parameters\": {\"lr\": 0.003323542918335707, \"decay\": 0.01, \"epochs\": 12}, \"y\": {\"log_eval\": 3.568384031262799}, \"y_hat\": {\"log_eval\": 3.574885834540357}, \"se\": {\"log_eval\": 0.012652860815973097}, \"se_hat\": {\"log_eval\": 0.012067755980426401}, \"context_stratum\": null}, \"37_0\": {\"name\": \"37_0\", \"parameters\": {\"lr\": 0.0029671541634396707, \"decay\": 0.00999999999999998, \"epochs\": 20}, \"y\": {\"log_eval\": 3.6469180672367254}, \"y_hat\": {\"log_eval\": 3.6575289308946104}, \"se\": {\"log_eval\": 0.01320344109262514}, \"se_hat\": {\"log_eval\": 0.010818406139472317}, \"context_stratum\": null}, \"38_0\": {\"name\": \"38_0\", \"parameters\": {\"lr\": 0.0028992131921908664, \"decay\": 0.00484521577137573, \"epochs\": 17}, \"y\": {\"log_eval\": 3.63075385857155}, \"y_hat\": {\"log_eval\": 3.6404219262262028}, \"se\": {\"log_eval\": 0.012528627303692476}, \"se_hat\": {\"log_eval\": 0.010746833777664177}, \"context_stratum\": null}, \"39_0\": {\"name\": \"39_0\", \"parameters\": {\"lr\": 0.0015930102849367376, \"decay\": 0.0012974881820559708, \"epochs\": 46}, \"y\": {\"log_eval\": 3.6242475806636123}, \"y_hat\": {\"log_eval\": 3.6272666960101385}, \"se\": {\"log_eval\": 0.013080994682006861}, \"se_hat\": {\"log_eval\": 0.01186544224115143}, \"context_stratum\": null}, \"3_0\": {\"name\": \"3_0\", \"parameters\": {\"lr\": 0.017995068324623793, \"decay\": 2.0432724797792104e-05, \"epochs\": 44}, \"y\": {\"log_eval\": 3.234652466339278}, \"y_hat\": {\"log_eval\": 3.2347342504666186}, \"se\": {\"log_eval\": 0.012151735262042189}, \"se_hat\": {\"log_eval\": 0.012092348961876092}, \"context_stratum\": null}, \"40_0\": {\"name\": \"40_0\", \"parameters\": {\"lr\": 0.0011762941184528637, \"decay\": 0.0005560489900774055, \"epochs\": 50}, \"y\": {\"log_eval\": 3.6316520235246337}, \"y_hat\": {\"log_eval\": 3.6332990397095823}, \"se\": {\"log_eval\": 0.013452239322245547}, \"se_hat\": {\"log_eval\": 0.011662392341226633}, \"context_stratum\": null}, \"41_0\": {\"name\": \"41_0\", \"parameters\": {\"lr\": 0.002157058720142707, \"decay\": 0.0008397548096370134, \"epochs\": 24}, \"y\": {\"log_eval\": 3.6162079630280815}, \"y_hat\": {\"log_eval\": 3.61598968942969}, \"se\": {\"log_eval\": 0.012845865852803834}, \"se_hat\": {\"log_eval\": 0.012441817403395183}, \"context_stratum\": null}, \"42_0\": {\"name\": \"42_0\", \"parameters\": {\"lr\": 0.0011339380519406353, \"decay\": 0.0036838855554993935, \"epochs\": 50}, \"y\": {\"log_eval\": 3.6393089322795955}, \"y_hat\": {\"log_eval\": 3.639818645207406}, \"se\": {\"log_eval\": 0.013629283673029383}, \"se_hat\": {\"log_eval\": 0.012919674344219421}, \"context_stratum\": null}, \"43_0\": {\"name\": \"43_0\", \"parameters\": {\"lr\": 0.000966822231346963, \"decay\": 0.0014159222420817687, \"epochs\": 50}, \"y\": {\"log_eval\": 3.6673930369798353}, \"y_hat\": {\"log_eval\": 3.6594283636012612}, \"se\": {\"log_eval\": 0.012964159365586368}, \"se_hat\": {\"log_eval\": 0.009881112465664888}, \"context_stratum\": null}, \"44_0\": {\"name\": \"44_0\", \"parameters\": {\"lr\": 0.04044537228104681, \"decay\": 1.0773867568563373e-05, \"epochs\": 0}, \"y\": {\"log_eval\": 3.3077090498698034}, \"y_hat\": {\"log_eval\": 3.3089730164388467}, \"se\": {\"log_eval\": 0.011685138307808459}, \"se_hat\": {\"log_eval\": 0.011630173724347595}, \"context_stratum\": null}, \"45_0\": {\"name\": \"45_0\", \"parameters\": {\"lr\": 0.016038689473977068, \"decay\": 0.00033224162007139364, \"epochs\": 8}, \"y\": {\"log_eval\": 3.6201014199054216}, \"y_hat\": {\"log_eval\": 3.6204503909661656}, \"se\": {\"log_eval\": 0.01340935802979851}, \"se_hat\": {\"log_eval\": 0.012577546845180473}, \"context_stratum\": null}, \"46_0\": {\"name\": \"46_0\", \"parameters\": {\"lr\": 0.0014196493120919636, \"decay\": 0.0001894540113910872, \"epochs\": 34}, \"y\": {\"log_eval\": 3.6144160748948586}, \"y_hat\": {\"log_eval\": 3.612577214959392}, \"se\": {\"log_eval\": 0.01265822051392698}, \"se_hat\": {\"log_eval\": 0.012246496737721938}, \"context_stratum\": null}, \"47_0\": {\"name\": \"47_0\", \"parameters\": {\"lr\": 0.00034276999307719663, \"decay\": 0.00999999999999998, \"epochs\": 50}, \"y\": {\"log_eval\": 3.5265926910636463}, \"y_hat\": {\"log_eval\": 3.526529717650953}, \"se\": {\"log_eval\": 0.012299350769441726}, \"se_hat\": {\"log_eval\": 0.012187362012642146}, \"context_stratum\": null}, \"48_0\": {\"name\": \"48_0\", \"parameters\": {\"lr\": 0.005938148149707883, \"decay\": 0.0007840983805538117, \"epochs\": 7}, \"y\": {\"log_eval\": 3.648372080954148}, \"y_hat\": {\"log_eval\": 3.6459966264404176}, \"se\": {\"log_eval\": 0.011991955791841842}, \"se_hat\": {\"log_eval\": 0.011009391606514004}, \"context_stratum\": null}, \"49_0\": {\"name\": \"49_0\", \"parameters\": {\"lr\": 0.001031454624264051, \"decay\": 0.0009518252724083013, \"epochs\": 48}, \"y\": {\"log_eval\": 3.621990429470776}, \"y_hat\": {\"log_eval\": 3.64195724596439}, \"se\": {\"log_eval\": 0.01295161419332295}, \"se_hat\": {\"log_eval\": 0.008752943313802527}, \"context_stratum\": null}, \"4_0\": {\"name\": \"4_0\", \"parameters\": {\"lr\": 0.00024507982427034327, \"decay\": 0.0017904906868920903, \"epochs\": 3}, \"y\": {\"log_eval\": 3.394475361046734}, \"y_hat\": {\"log_eval\": 3.3941987416034864}, \"se\": {\"log_eval\": 0.011416996783523663}, \"se_hat\": {\"log_eval\": 0.011364083560320508}, \"context_stratum\": null}, \"50_0\": {\"name\": \"50_0\", \"parameters\": {\"lr\": 0.0015862531604133104, \"decay\": 0.00034996139778338385, \"epochs\": 40}, \"y\": {\"log_eval\": 3.6371229929215834}, \"y_hat\": {\"log_eval\": 3.6376680934877355}, \"se\": {\"log_eval\": 0.013294839351542234}, \"se_hat\": {\"log_eval\": 0.011978362137349081}, \"context_stratum\": null}, \"51_0\": {\"name\": \"51_0\", \"parameters\": {\"lr\": 0.0001, \"decay\": 0.0007786274174831826, \"epochs\": 50}, \"y\": {\"log_eval\": 3.4377952459472514}, \"y_hat\": {\"log_eval\": 3.4379990885565284}, \"se\": {\"log_eval\": 0.011530046799630468}, \"se_hat\": {\"log_eval\": 0.011469507241439192}, \"context_stratum\": null}, \"5_0\": {\"name\": \"5_0\", \"parameters\": {\"lr\": 0.00017137166229077094, \"decay\": 3.5115084834239404e-05, \"epochs\": 34}, \"y\": {\"log_eval\": 3.4541948141928853}, \"y_hat\": {\"log_eval\": 3.45384329645565}, \"se\": {\"log_eval\": 0.011142889036146396}, \"se_hat\": {\"log_eval\": 0.011084308668166759}, \"context_stratum\": null}, \"6_0\": {\"name\": \"6_0\", \"parameters\": {\"lr\": 0.004551821441836866, \"decay\": 0.007375404959949084, \"epochs\": 19}, \"y\": {\"log_eval\": 3.6320123520185814}, \"y_hat\": {\"log_eval\": 3.633461118134959}, \"se\": {\"log_eval\": 0.013048649202333357}, \"se_hat\": {\"log_eval\": 0.011788062504764416}, \"context_stratum\": null}, \"7_0\": {\"name\": \"7_0\", \"parameters\": {\"lr\": 0.023212195123507594, \"decay\": 8.455812526476041e-05, \"epochs\": 9}, \"y\": {\"log_eval\": 3.580064777534327}, \"y_hat\": {\"log_eval\": 3.5759650700319137}, \"se\": {\"log_eval\": 0.013974420362918339}, \"se_hat\": {\"log_eval\": 0.013609126772185}, \"context_stratum\": null}, \"8_0\": {\"name\": \"8_0\", \"parameters\": {\"lr\": 0.0012195918445462937, \"decay\": 0.0005595295912680022, \"epochs\": 44}, \"y\": {\"log_eval\": 3.655644962569447}, \"y_hat\": {\"log_eval\": 3.646027577135288}, \"se\": {\"log_eval\": 0.012229225245228424}, \"se_hat\": {\"log_eval\": 0.010501890318337852}, \"context_stratum\": null}, \"9_0\": {\"name\": \"9_0\", \"parameters\": {\"lr\": 0.0006781060687356291, \"decay\": 1.0946176570293072e-05, \"epochs\": 0}, \"y\": {\"log_eval\": 3.319037644557284}, \"y_hat\": {\"log_eval\": 3.3192821976011024}, \"se\": {\"log_eval\": 0.01137763940360927}, \"se_hat\": {\"log_eval\": 0.011339669884700051}, \"context_stratum\": null}, \"control\": {\"name\": \"control\", \"parameters\": {\"lr\": 0.125, \"decay\": 0.0012, \"epochs\": 20}, \"y\": {\"log_eval\": 3.1552959605272526}, \"y_hat\": {\"log_eval\": 3.157053593505689}, \"se\": {\"log_eval\": 0.0116866201822084}, \"se_hat\": {\"log_eval\": 0.011581586583600397}, \"context_stratum\": null}, \"zero\": {\"name\": \"zero\", \"parameters\": {\"lr\": 0.125, \"decay\": 0.0012, \"epochs\": 0}, \"y\": {\"log_eval\": 3.3404300888956486}, \"y_hat\": {\"log_eval\": 3.3389170216622435}, \"se\": {\"log_eval\": 0.010873038587426026}, \"se_hat\": {\"log_eval\": 0.010804900129217636}, \"context_stratum\": null}}, \"out_of_sample\": {}, \"status_quo_name\": null};\n",
       "const density = 50;\n",
       "const grid_x = [0.0, 1.0204081632653061, 2.0408163265306123, 3.0612244897959187, 4.081632653061225, 5.1020408163265305, 6.122448979591837, 7.142857142857143, 8.16326530612245, 9.183673469387756, 10.204081632653061, 11.224489795918368, 12.244897959183675, 13.26530612244898, 14.285714285714286, 15.306122448979592, 16.3265306122449, 17.346938775510203, 18.367346938775512, 19.387755102040817, 20.408163265306122, 21.42857142857143, 22.448979591836736, 23.46938775510204, 24.48979591836735, 25.510204081632654, 26.53061224489796, 27.551020408163264, 28.571428571428573, 29.591836734693878, 30.612244897959183, 31.63265306122449, 32.6530612244898, 33.673469387755105, 34.69387755102041, 35.714285714285715, 36.734693877551024, 37.755102040816325, 38.775510204081634, 39.79591836734694, 40.816326530612244, 41.83673469387755, 42.85714285714286, 43.87755102040816, 44.89795918367347, 45.91836734693878, 46.93877551020408, 47.95918367346939, 48.9795918367347, 50.0];\n",
       "const grid_y = [1e-05, 1.1513953993264481e-05, 1.3257113655901082e-05, 1.5264179671752335e-05, 1.757510624854793e-05, 2.0235896477251556e-05, 2.3299518105153718e-05, 2.6826957952797274e-05, 3.0888435964774785e-05, 3.5564803062231284e-05, 4.094915062380427e-05, 4.71486636345739e-05, 5.4286754393238594e-05, 6.250551925273976e-05, 7.196856730011514e-05, 8.286427728546843e-05, 9.540954763499944e-05, 0.00010985411419875583, 0.00012648552168552957, 0.00014563484775012445, 0.00016768329368110083, 0.00019306977288832496, 0.00022229964825261955, 0.0002559547922699536, 0.00029470517025518097, 0.000339322177189533, 0.0003906939937054617, 0.0004498432668969444, 0.0005179474679231213, 0.0005963623316594642, 0.0006866488450042998, 0.0007906043210907702, 0.0009102981779915217, 0.0010481131341546852, 0.0012067926406393288, 0.0013894954943731374, 0.0015998587196060573, 0.0018420699693267163, 0.0021209508879201904, 0.0024420530945486497, 0.002811768697974231, 0.0032374575428176433, 0.003727593720314938, 0.004291934260128779, 0.004941713361323833, 0.005689866029018293, 0.006551285568595509, 0.007543120063354615, 0.00868511373751352, 0.01];\n",
       "const f = [3.3278963298362827, 3.336165959049216, 3.3447520367755947, 3.3533841895965084, 3.3617625989651736, 3.369573604959035, 3.376507431496925, 3.3822764109413495, 3.3866320964737278, 3.389379818414954, 3.390389536354457, 3.389602244171074, 3.3870316601111154, 3.3827614071965173, 3.3769382770899976, 3.369762413497686, 3.3614753368561536, 3.35234669393872, 3.3426605124729947, 3.332701629202275, 3.322742877447114, 3.3130335765579684, 3.3037898436235698, 3.295187212710707, 3.287355960979849, 3.280379380573918, 3.2742950044513814, 3.269098528558076, 3.2647499268449365, 3.261181082999201, 3.2583041947403757, 3.2560202433533405, 3.2542269367832377, 3.252825690689627, 3.2517273718673936, 3.2508566668211807, 3.250155042768796, 3.249582337795573, 3.2491170573073456, 3.2487554750281586, 3.2485096500852793, 3.248404491143568, 3.248474043392717, 3.248757268415758, 3.249293730164314, 3.250119697138778, 3.2512650582231135, 3.252751156429134, 3.2545894378411884, 3.2567808031883354, 3.334809712492945, 3.3437281218765986, 3.3529477965917516, 3.3621776578016966, 3.371094917970216, 3.3793617772443327, 3.386644586221094, 3.3926337481317987, 3.397062576247331, 3.399723443792196, 3.400479856861906, 3.3992735388668756, 3.3961261877673654, 3.391136151194854, 3.3844707382001733, 3.37635516587852, 3.3670592117602562, 3.356882560978988, 3.346139684254622, 3.3351449360820804, 3.3241984697970226, 3.313573536866385, 3.3035057460587725, 3.294184854115925, 3.285749587578439, 3.2782858182104624, 3.2718281341846387, 3.266364513798575, 3.2618434958380784, 3.258183026232478, 3.2552800865692935, 3.2530202727391955, 3.2512866516083507, 3.249967426013871, 3.2489621357552654, 3.248186284270626, 3.247574395594778, 3.247081576115006, 3.2466836903957583, 3.246376272627692, 3.2461722981946535, 3.246098947720357, 3.246193529622525, 3.2464988225617577, 3.247058285124332, 3.2479117527359094, 3.249092116239881, 3.250623052711524, 3.2525176180142523, 3.25477756043155, 3.342255888200634, 3.351851389169448, 3.3617319276307063, 3.371585046231135, 3.3810640594958326, 3.389805827785753, 3.3974514138408054, 3.403667798257583, 3.4081686786501026, 3.410732427733821, 3.4112155647291837, 3.4095606146241657, 3.4057979283285866, 3.4000417649464745, 3.3924815194515423, 3.3833692978971164, 3.3730050879866136, 3.3617206267206554, 3.3498628469265075, 3.3377775933787843, 3.325794196003349, 3.3142114811197763, 3.303285855224109, 3.293222139847479, 3.2841677903409208, 3.2762109380928397, 3.269382351990254, 3.263660986289376, 3.258982379762738, 3.255248902727208, 3.252340771023117, 3.2501268478607024, 3.2484744743549547, 3.2472578312392892, 3.2463645758461106, 3.2457006853975088, 3.2451935608231457, 3.2447935122461278, 3.244473773076362, 3.2442291907889813, 3.2440737338567662, 3.2440369498650865, 3.244159528933678, 3.244488212313836, 3.2450705091646017, 3.2459499670068297, 3.24716262072682, 3.2487346335129894, 3.2506808248769947, 3.2530039305084943, 3.3501822412735343, 3.3604806057903973, 3.371047516750868, 3.3815485688852833, 3.391612296882998, 3.400849004003491, 3.40887297015218, 3.415326130490252, 3.4199010396005898, 3.4223608847062237, 3.422554559504893, 3.420425402402253, 3.4160130635157144, 3.4094488817540913, 3.400945872090253, 3.3907847818350736, 3.3792976725342867, 3.366850246591819, 3.353823829542398, 3.340597672650563, 3.3275321269760787, 3.314953266532047, 3.3031396557909716, 3.2923120719988512, 3.2826269918099236, 3.274174445240864, 3.266980414778834, 3.261013402630439, 3.2561942652896807, 3.2524080771671273, 3.2495167098655635, 3.247370974602809, 3.2458214776538914, 3.244727675363663, 3.243964907788652, 3.2434294014743625, 3.2430413591569414, 3.2427463131114926, 3.2425149315345996, 3.2423414546622156, 3.242240916180442, 3.2422452893127165, 3.2423987016447584, 3.2427519304333874, 3.2433566328746277, 3.2442601815394, 3.245501891129797, 3.2471105693953493, 3.249102959992733, 3.2514829307355204, 3.3585249027270625, 3.3695485790570094, 3.3808249255385854, 3.391997149374084, 3.402668195496518, 3.4124205985231053, 3.420840299643631, 3.4275424500490286, 3.432196789373269, 3.434549995359271, 3.4344425926714344, 3.431818682508409, 3.426727824217937, 3.4193195645029304, 3.409832000587534, 3.3985761584553735, 3.3859178866235027, 3.372258602162378, 3.3580158046439075, 3.3436039610187156, 3.3294162408304, 3.3158076518629755, 3.3030803305862997, 3.291471958871724, 3.2811483498317933, 3.272201033503943, 3.264650143231173, 3.2584521762085856, 3.2535115114688953, 3.249694142400669, 3.246842019706699, 3.244786650593517, 3.2433610146704135, 3.2424092870979875, 3.241794208298518, 3.2414021721261923, 3.241146228966015, 3.240967244475293, 3.240833449242458, 3.2407385852053343, 3.240698820016669, 3.2407485737572665, 3.2409353960489, 3.2413140816412156, 3.241940455485552, 3.2428657935018728, 3.2441328237946054, 3.245773159342076, 3.2478056249892475, 3.250235360696192, 3.3672100975123516, 3.378977361273402, 3.3909829531838502, 3.4028474148315473, 3.414147400023972, 3.424436508804386, 3.4332707658049797, 3.4402367167586623, 3.4449794931520783, 3.447227814362944, 3.4468129946901547, 3.4436797846298006, 3.437888214368896, 3.429607097104988, 3.4191009556739655, 3.4067125554118074, 3.3928430236714884, 3.377931003778648, 3.3624317312524905, 3.346796530285332, 3.331453094485043, 3.31678704093665, 3.3031255425415535, 3.290724202502639, 3.2797585197584094, 3.2703210926447874, 3.2624250442397273, 3.25601318705597, 3.2509715241763173, 3.247145144546437, 3.244354544634536, 3.2424107922178815, 3.2411285144672677, 3.2403362359834964, 3.2398839995181126, 3.239648448061234, 3.2395356587313824, 3.2394820400953948, 3.2394535755648937, 3.2394436465192507, 3.239469619813885, 3.239568348010144, 3.23979071775609, 3.2401954240186646, 3.2408423880230606, 3.2417868276685513, 3.24307500886658, 3.2447414972064346, 3.246807337154848, 3.2492790657682717, 3.37615595727313, 3.3886800247203235, 3.4014305069867348, 3.414005198739994, 3.4259539171209408, 3.4368002646782077, 3.4460688112524105, 3.45331564957185, 3.458159433055955, 3.4603093783777776, 3.4595866656000673, 3.4559365189487337, 3.44942993529635, 3.4402559451635497, 3.4287066635321897, 3.415157808014819, 3.400046977999739, 3.3838512378469217, 3.3670648241404075, 3.350177321555166, 3.3336525051854227, 3.3179082321769755, 3.3032982174046173, 3.290097078780385, 3.278490397690951, 3.268571381372799, 3.2603448807558855, 3.2537382182836265, 3.2486170367119627, 3.2448036977478045, 3.2420958088749003, 3.240283040305937, 3.2391611625995624, 3.238542911620613, 3.23826574858153, 3.2381968282700138, 3.23823557373643, 3.2383142442079773, 3.238396825149015, 3.238476498642102, 3.2385718887033708, 3.23872223159921, 3.2389816063005683, 3.2394124085175293, 3.2400785000837065, 3.2410390230539803, 3.2423438655521073, 3.244030653813316, 3.2461227558702292, 3.248628207193782, 3.3852747097442055, 3.398562853760093, 3.4120687242066543, 3.425367518988416, 3.437981883133797, 3.4494045348965123, 3.4591271761170295, 3.4666736581964237, 3.471634281333559, 3.4736971690312224, 3.472672385982398, 3.4685053931671757, 3.4612785584237633, 3.4512019213818497, 3.4385961097572193, 3.4238706815909836, 3.407500524405483, 3.390001922651981, 3.3719090017183815, 3.353750691488237, 3.3360281864511605, 3.319193119806953, 3.3036272748034943, 3.289625459186091, 3.277383794251618, 3.2669956151909343, 3.2584561364568048, 3.25167526512792, 3.2464962427383637, 3.2427169377037015, 3.240110804700877, 3.238445408367372, 3.2374974408982125, 3.2370639853663996, 3.236970276691347, 3.2370744352009155, 3.23726968912083, 3.2374845480698706, 3.2376812985512036, 3.2378530989924834, 3.238019874628777, 3.2382231620031376, 3.2385200410709656, 3.2389763583400724, 3.2396597007540957, 3.24063303452313, 3.2419498686112043, 3.243650929274749, 3.2457619632096315, 3.248292574980322, 3.3944751378252267, 3.4085278606967098, 3.422793472213852, 3.4368249836825204, 3.450117797525136, 3.4621331205665946, 3.4723286058812364, 3.4801942507556802, 3.485290225831409, 3.487281999255719, 3.4859675189920964, 3.4812921825892924, 3.4733500028494873, 3.462372594523934, 3.448709693834363, 3.43280518580133, 3.415171614545773, 3.3963648180991894, 3.3769592433459468, 3.357523843337616, 3.338598260203218, 3.320669271044513, 3.304148235719471, 3.2893514051079724, 3.276485971172852, 3.265644901077205, 3.2568123059027627, 3.2498786463896563, 3.2446627130658516, 3.240936251286691, 3.2384475626803155, 3.2369417328168852, 3.2361764990193453, 3.2359337395264527, 3.236027073676891, 3.236306233111475, 3.236658842249348, 3.2370101403326137, 3.237321050604545, 3.2375848869178623, 3.2378228994332687, 3.238078808008058, 3.2384124682216875, 3.2388928999195716, 3.2395911541232416, 3.2405738243087203, 3.2418979225718956, 3.2436072215790586, 3.2457298387324562, 3.2482769796369704, 3.403665190235246, 3.4184755188833837, 3.433498139510951, 3.4482645634395865, 3.4622431920542076, 3.4748634384208823, 3.485548081770435, 3.4937519746338865, 3.4990036215347384, 3.5009444061348027, 3.4993591884238833, 3.4941929313883797, 3.485551379647352, 3.47368797923634, 3.458981761853762, 3.441910957805684, 3.4230256381734243, 3.402921013039532, 3.382211761891596, 3.361507038826492, 3.3413855393838388, 3.322370277537484, 3.304903610398331, 3.2893245433893545, 3.275851951711678, 3.264577930094004, 3.2554739201185003, 3.2484088283967196, 3.24317501106579, 3.2395167074905524, 3.237156444593663, 3.2358168825998526, 3.235237331653404, 3.23518525216248, 3.2354635174724047, 3.2359142974900874, 3.236420318258547, 3.2369040889738234, 3.2373255261466882, 3.2376782705048197, 3.237984895887826, 3.2382911576316005, 3.238659434852015, 3.239161618511495, 3.2398719137266268, 3.2408602495941827, 3.242186904882114, 3.2438985403516303, 3.2460255606039135, 3.248580755607317, 3.412754616425954, 3.4283075925758877, 3.4440766116460013, 3.4595726476183803, 3.4742376852085752, 3.487469481231288, 3.4986555992133095, 3.5072149486380186, 3.512643249347741, 3.514556643385716, 3.512726026115816, 3.5070954660436575, 3.4977822599825497, 3.485061532119114, 3.469341308420447, 3.451133671963094, 3.4310255766232216, 3.4096508911203607, 3.387663871342856, 3.3657134572906866, 3.3444174436607965, 3.324335747926081, 3.305942941299918, 3.2896021042084316, 3.2755444893876766, 3.2638608128256417, 3.2545081918168757, 3.247331848295392, 3.242095903525066, 3.238516104389083, 3.2362890961609794, 3.2351156880483907, 3.2347177409254964, 3.234849432308508, 3.2353040040437007, 3.2359170478748576, 3.236567184655094, 3.237174771341149, 3.23769907724428, 3.238134223037945, 3.238504076365997, 3.238856250478044, 3.2392553687347045, 3.2397758575987017, 3.2404947101863977, 3.241484814606773, 3.242809375324014, 3.2445176808124794, 3.2466422574380847, 3.24919740502376, 3.421657487182433, 3.4379299237406533, 3.4544262978594, 3.4706382658641006, 3.4859823310380564, 3.4998252039737405, 3.5115194889054475, 3.5204480244110985, 3.5260732521324676, 3.5279853590798527, 3.5259405716117587, 3.5198814840186143, 3.5099363981591734, 3.496401449113633, 3.4797128093413345, 3.4604154088862527, 3.43913195567142, 3.4165337572814862, 3.3933134073177356, 3.3701585401767846, 3.3477253764240005, 3.3266107715223443, 3.307322339641665, 3.290248468023613, 3.2756335461288555, 3.263566409413492, 3.2539881326514357, 3.2467181967818166, 3.2414910466858977, 3.2379935410638763, 3.235897000521087, 3.234881558440347, 3.2346530753365785, 3.2349539117223896, 3.2355690026104065, 3.2363284630220215, 3.2371076546109254, 3.2378253699105697, 3.238440574795873, 3.238947994141416, 3.23937272692316, 3.239764035478172, 3.2401884763676954, 3.2407226344787863, 3.2414458668538475, 3.2424335708677936, 3.243751449679837, 3.24545106890509, 3.2475668305722114, 3.2501144062314378, 3.4302944480233872, 3.44725501040574, 3.464451034748502, 3.4813563016118985, 3.49736310347798, 3.5118082090578184, 3.5240102015996166, 3.5333165510515414, 3.5391567645180557, 3.5410949952976267, 3.538872354751676, 3.532429221420724, 3.521903878015717, 3.5076122018451446, 3.4900171024488076, 3.4696948889160293, 3.4473024912809307, 3.4235470005845197, 3.399157549585606, 3.3748586395166082, 3.351343358285296, 3.329244641043965, 3.3091033098296, 3.291334024920027, 3.276195088160131, 3.2637729636187216, 3.2539909560294342, 3.246640992346628, 3.2414270158964915, 3.2380074284091016, 3.2360295891856445, 3.2351547779156142, 3.2350747563521534, 3.2355218159790438, 3.2362740636621976, 3.237157306083635, 3.238044504010929, 3.2388534545129732, 3.239543129895967, 3.2401089452469405, 3.240577131971438, 3.240998359223739, 3.2414407707384427, 3.2419826893380184, 3.2427053587015937, 3.2436861756537163, 3.2449928471339833, 3.2466787906134362, 3.248779963965194, 3.2513132071960844, 3.438594537574412, 3.4562041827227366, 3.4740636464867105, 3.491630454124238, 3.5082742608949533, 3.5233034834443653, 3.5360043420996017, 3.545690578590034, 3.5517601199118025, 3.5537518173124005, 3.5513915623158754, 3.5446165757510677, 3.533573536542143, 3.518596161879606, 3.500172178219598, 3.4789074520130145, 3.455491324923924, 3.4306646874107876, 3.4051909143398014, 3.379828792026074, 3.355305689796877, 3.3322885776606435, 3.311350601826858, 3.292933094194324, 3.2773089525430557, 3.2645617960978, 3.2545955338597947, 3.2471732561060938, 3.241968551684564, 3.2386128777438996, 3.236731901352938, 3.2359705033758406, 3.2360086324668873, 3.2365704595569644, 3.2374288225695085, 3.2384063974104675, 3.2393745734168835, 3.2402506756901217, 3.2409939439420343, 3.2416005245532826, 3.242097644221862, 3.2425371033671433, 3.2429882533062213, 3.2435306958344694, 3.2442470410249156, 3.2452161298712237, 3.246507127525169, 3.2481748193894977, 3.250256335625158, 3.2527694183133122, 3.4464963930459844, 3.4647091597120467, 3.4831878984040023, 3.5013756343804374, 3.5186212255196927, 3.534206783813683, 3.54738853523376, 3.55744909929909, 3.5637572654562755, 3.5658282258548493, 3.5633729470523217, 3.556324345854823, 3.544835352094399, 3.5292550527773527, 3.51009368892266, 3.487984661334851, 3.4636477780957997, 3.437855536820545, 3.4114028488871067, 3.385079488547891, 3.359643423771021, 3.3357921633111838, 3.314128766687243, 3.2951205807013415, 3.2790554650857278, 3.2660137440402934, 3.2558786308037546, 3.248384094832116, 3.2431749336529516, 3.239858464566423, 3.23804184162446, 3.237356537551265, 3.2374732375702466, 3.23811003499927, 3.2390360578641024, 3.240071982270969, 3.2410883914393627, 3.2420025967249213, 3.2427743084886953, 3.2434003988797637, 3.2439089169379627, 3.244352490226099, 3.244801271632123, 3.245335655340575, 3.246039068993657, 3.2469912131679752, 3.248262131832507, 3.2499074514062904, 3.251965038211933, 3.254453211385936, 3.453948667188906, 3.4727127627176473, 3.491759559071447, 3.5105194335107286, 3.528322524822912, 3.5444271169836767, 3.5580624786702226, 3.5684836172250773, 3.5750336499691167, 3.5772066264966185, 3.574699292999024, 3.567438981596249, 3.555582307038664, 3.539490878480231, 3.5196949632101515, 3.496853439566159, 3.4717146301226403, 3.4450803388410396, 3.417773992293175, 3.3906124345951953, 3.3643795055671184, 3.339798181075642, 3.317497021067384, 3.297966954314464, 3.281510397832346, 3.2682039566204883, 3.2579096200923594, 3.2503336573084862, 3.245095496191557, 3.241782471334725, 3.2399871738047565, 3.2393310135682025, 3.2394780721071523, 3.2401423918158665, 3.2410908777913425, 3.2421432481194206, 3.2431699589257112, 3.244088692252275, 3.2448597747823653, 3.2454807576240303, 3.2459803116112096, 3.246411568967148, 3.246845064283678, 3.247361485299813, 3.248044517025573, 3.24897412306163, 3.250220629587794, 3.2518399491478602, 3.2538702069775938, 3.256329921666765, 3.4609095033792037, 3.48016858220269, 3.4997263040045037, 3.519002312475306, 3.5373103307873097, 3.5538877063793364, 3.567940402771245, 3.5787000983436847, 3.5854885212734926, 3.587781774811023, 3.585263451595732, 3.5778540422671945, 3.565711147459281, 3.5492059693088778, 3.5288863591634163, 3.505434731363221, 3.479626042830813, 3.45228903644453, 3.424272371623674, 3.396415538333422, 3.369522660448636, 3.3443356722655717, 3.3215019868437854, 3.301531033362001, 3.28473774422503, 3.271194599697366, 3.260743466403541, 3.2530669178860467, 3.2477645030754902, 3.24440887519933, 3.2425824988144734, 3.2419001954388156, 3.2420220644257416, 3.242660021191627, 3.2435801179845662, 3.2446020487992002, 3.245596732428321, 3.2464825382832476, 3.2472205083912917, 3.2478087980526995, 3.248276486258998, 3.2486768845695195, 3.249080492523208, 3.2495677987704505, 3.250222192962008, 3.251123311071491, 3.2523411639759674, 3.2539313818317064, 3.255931841787544, 3.2583608388448937, 3.4673449649739965, 3.487039451471616, 3.5070462653352497, 3.526776253619209, 3.545529248054028, 3.5625249661346254, 3.576950282106386, 3.58801844072448, 3.5950346057151035, 3.597460532884368, 3.5949680115928393, 3.587469662102346, 3.5751215955190894, 3.5583019295274783, 3.537573929037109, 3.5136418244947953, 3.487305406885536, 3.4594178798195347, 3.430849563475401, 3.4024577287965667, 3.375060565848256, 3.349411427079554, 3.326168013992159, 3.3058499776012598, 3.2887797054396097, 3.27502513615878, 3.2644121344292527, 3.2566067623070425, 3.2511959178532237, 3.247743546040085, 3.245826575380338, 3.245056654798149, 3.245092394781447, 3.2456453712127886, 3.2464820333722018, 3.24742288922015, 3.2483398396174517, 3.2491522116674694, 3.2498218367520195, 3.2503473925743376, 3.2507581596802337, 3.2511073205618053, 3.2514649459986655, 3.251910859174162, 3.2525276284872837, 3.2533939952361917, 3.2545790722644954, 3.256137638852449, 3.258106798495416, 3.2605041621340187, 3.4732263989325896, 3.4932946798973363, 3.513685160487745, 3.5338017932972137, 3.5529332543211027, 3.57028535477551, 3.58503060886291, 3.5963691832936084, 3.6035948021188275, 3.6061586490543776, 3.603722288330725, 3.5961898414167037, 3.5837139745344833, 3.5666775728289077, 3.5456575937432318, 3.521378635571049, 3.4946635344338244, 3.466387225882132, 3.437437691302459, 3.4086846245484037, 3.380953562535895, 3.3550011392096932, 3.331485683985338, 3.31092622553949, 3.293643587645726, 3.2797006990032993, 3.26891557059461, 3.26094753811186, 3.255378978386391, 3.251771292843461, 3.249700411214199, 3.248778104382935, 3.248663863425235, 3.2490706081068508, 3.249766355819296, 3.2505732123881086, 3.2513645483300344, 3.2520609067347825, 3.2526249875274846, 3.253055928655567, 3.253383036644084, 3.2536590957179174, 3.253953398488375, 3.2543446828321905, 3.2549142156263464, 3.2557393168214794, 3.2568876479765456, 3.2584125818636873, 3.2603499151565116, 3.2627160856038575, 3.478526841079144, 3.4989061451855346, 3.5196121164366585, 3.5400436018170485, 3.5594810419533625, 3.5771204666957304, 3.592125210525988, 3.603688056902305, 3.611096583255505, 3.613795277889676, 3.6114373025572086, 3.6039181515907197, 3.5913857600683574, 3.57422631240694, 3.5530292795963314, 3.528538430992693, 3.501597725554294, 3.473100628691814, 3.4439481289474827, 3.4150163258628683, 3.3871308384026206, 3.3610430395308666, 3.3374018488377555, 3.3167140490028113, 3.2992882262954746, 3.2851818514546536, 3.2742150121193374, 3.2660509041903723, 3.260275701930316, 3.25645443454956, 3.2541665297653153, 3.2530271314345303, 3.2526989481697863, 3.252897908650109, 3.253394764644792, 3.2540140112948395, 3.2546309953321098, 3.2551677638603254, 3.255588004349202, 3.255891301690069, 3.2561068691733293, 3.256286885422759, 3.2564995805395007, 3.25682225288142, 3.2573344503699966, 3.258111600491895, 3.2592194030822292, 3.260709293522515, 3.2626152316045, 3.2649519735532966, 3.4832167525250077, 3.503843549960378, 3.5247945445638793, 3.545465066172146, 3.5651303721565117, 3.582981180526659, 3.598177180729705, 3.6099097076609516, 3.617465634768666, 3.6202868181403325, 3.618020196098272, 3.6105530677109887, 3.5980280335693804, 3.580833794533804, 3.5595716766648136, 3.535003561725933, 3.507992252371718, 3.479445794355349, 3.4502726282492575, 3.4213484103800305, 3.3934909570305885, 3.36743752183881, 3.3438177386176724, 3.3231157545311647, 3.3056200412428143, 3.291382353495536, 3.280232127469802, 3.2718457579579776, 3.2658212375679403, 3.261733380172156, 3.259169673839805, 3.2577519723103068, 3.2571486257737985, 3.257080319244416, 3.25732178202767, 3.2577007628171906, 3.2580951620414678, 3.2584288901895353, 3.2586668148425577, 3.2588090313209905, 3.258884620555311, 3.2589450308473413, 3.259057229040025, 3.2592968020038353, 3.2597412388650016, 3.2604636720982594, 3.2615273838372154, 3.26298137676286, 3.2648572572292847, 3.2671675824428803, 3.4872596158408378, 3.508069422009931, 3.5291927185142824, 3.550022641826587, 3.5698323654580695, 3.5878119847785497, 3.6031232717715875, 3.6149621708666824, 3.622620476719608, 3.6255418473912755, 3.6233697429462275, 3.6159843629180606, 3.6035230201568766, 3.586376728408667, 3.5651583794802457, 3.5406468094533254, 3.513720719381824, 3.4852977543901575, 3.456287178113313, 3.4275564928027014, 3.399907338039323, 3.3740540528921232, 3.3505981503682034, 3.3299935954653863, 3.3125048801004704, 3.2981780051045826, 3.286855249602404, 3.2782327548729393, 3.2719272741156455, 3.2675292950033272, 3.26463896471739, 3.262888320562081, 3.261953937191901, 3.261563155819519, 3.261496064323891, 3.2615846526340198, 3.261710064572282, 3.261798538255573, 3.261816414898316, 3.2617644632226455, 3.26167169198262, 3.2615887937055876, 3.2615813695076916, 3.2617231180768393, 3.2620892190640394, 3.2627501863448343, 3.263766492549523, 3.2651842575515704, 3.267032241209834, 3.2693202855241803, 3.490608176187555, 3.511534750251421, 3.5327550368840743, 3.5536610346930817, 3.573526862368782, 3.591546688672781, 3.6068900427977644, 3.6187634815319685, 3.6264695232505657, 3.6294586266513686, 3.6273743783248102, 3.6200918689260173, 3.60774384923191, 3.5907238611288537, 3.5696561534525157, 3.545334864102469, 3.5186505837410755, 3.490524299250184, 3.461858374421904, 3.4335037825270884, 3.406237532992693, 3.380742978392319, 3.3575865791483617, 3.337187729108831, 3.3197858267557105, 3.3054212633130424, 3.293950224490439, 3.28509219358476, 3.278487839029041, 3.273748462475364, 3.270491271003787, 3.268362004139748, 3.2670481803734517, 3.266285857469387, 3.2658620202822646, 3.26561403334017, 3.2654271070673486, 3.265230395344542, 3.264992123995196, 3.2647140118007116, 3.264425167118082, 3.264175611283842, 3.264029585053717, 3.264058826080154, 3.2643360508387915, 3.2649289174192226, 3.2658947689146722, 3.267276445811862, 3.269099401391932, 3.2713702582824524, 3.493202266497461, 3.514176365729766, 3.5354151803734357, 3.556310434623304, 3.576140015152627, 3.5941065863604047, 3.6093927495866307, 3.621221367386345, 3.6289115346675116, 3.6319261708280015, 3.629913783585368, 3.6227476386789674, 3.6105575057593002, 3.5937399291950163, 3.57292994951799, 3.5489342819000944, 3.5226498763497247, 3.494993385460654, 3.4668516327760384, 3.4390504291135278, 3.4123341760282524, 3.3873484921488473, 3.364620068749888, 3.344531865754535, 3.32729859350531, 3.3129553449839992, 3.3013721187881484, 3.292293159224117, 3.285386288448612, 3.2802876317829073, 3.2766353483339223, 3.2740922480086097, 3.27235953875864, 3.2711841578926544, 3.270361654986637, 3.2697360364534256, 3.269197532800709, 3.2686789266907037, 3.268150859877338, 3.2676163951422366, 3.2671050275625104, 3.2666663055711935, 3.2663632263216047, 3.2662656009489752, 3.266443629748558, 3.2669619685134617, 3.26787458787444, 3.2692207127947883, 3.27102207169436, 3.2732815864281517, 3.4949690308078494, 3.5159170629096748, 3.537092246361912, 3.557886839029359, 3.577585000270657, 3.5954017679086463, 3.610537479022822, 3.6222364070976263, 3.6298398448498124, 3.6328293821899007, 3.6308646900918724, 3.6238222804206637, 3.6118317359760503, 3.5952932265487783, 3.5748510610532174, 3.5513199923603413, 3.525595858328159, 3.498581934313676, 3.471140324012075, 3.4440633036998163, 3.4180556806901543, 3.393720243235846, 3.371541247483436, 3.3518651079944117, 3.3348830647399295, 3.3206253916393216, 3.308975377098164, 3.299702137106548, 3.292502295703285, 3.2870395770046117, 3.282976244421597, 3.2799951853387403, 3.2778139146336818, 3.2761924110844594, 3.2749365191544513, 3.2738982458923127, 3.2729738987829458, 3.2721007100017916, 3.2712523776589557, 3.2704338121181658, 3.269675292212494, 3.269026201511731, 3.2685485188877386, 3.268310269079978, 3.268379183347494, 3.268816860365973, 3.2696737354945515, 3.2709851478846708, 3.2727687326302366, 3.275023262720227, 3.4958258780323086, 3.5166688769855505, 3.537694308431806, 3.5582958683381816, 3.577766140157007, 3.595335707614765, 3.6102264674195275, 3.621708416746919, 3.6291501021410633, 3.632058182706793, 3.630111149180812, 3.623195927535605, 3.611446395306019, 3.5952670979594585, 3.5753083971458373, 3.5523859725905584, 3.527384960901367, 3.5011851837331514, 3.4746148401152053, 3.448425076472947, 3.423275467492034, 3.399722579023024, 3.3782072547842485, 3.3590404058549823, 3.3423914705757647, 3.328286549206189, 3.316621628757022, 3.3071901338563237, 3.299718009528946, 3.293898240388804, 3.2894195174372176, 3.2859872958355303, 3.2833377375043686, 3.2812459041508766, 3.279529639213506, 3.2780503371163157, 3.2767114974644063, 3.2754556979545866, 3.274260418738461, 3.2731330128854763, 3.272105035744518, 3.271226112434612, 3.2705575283172035, 3.270165760460404, 3.270116213612511, 3.270467463957893, 3.2712663295286726, 3.2725440630280445, 3.2743138946361525, 3.2765700437953886, 3.4956858362766825, 3.5163391094725758, 3.5371249449658637, 3.5574396090242737, 3.5765859764543664, 3.59381265509382, 3.608366052458291, 3.6195453404742333, 3.6267506572341297, 3.629519896203599, 3.627558790841132, 3.620773643200617, 3.6093090770938647, 3.593574917319679, 3.574222039665453, 3.5520570148377373, 3.5279428915693547, 3.502725539961325, 3.477190634221668, 3.4520417646418613, 3.4278891340259756, 3.4052412602363242, 3.384495896932241, 3.3659302359904717, 3.3496938403717174, 3.3358094332252346, 3.3241852007471087, 3.3146380284599077, 3.3069229795040687, 3.300763068841078, 3.2958749402536878, 3.2919885140979326, 3.2888605507970743, 3.2862830075138394, 3.284087313200256, 3.2821455920565903, 3.2803696534684166, 3.2787083490912834, 3.277143718669854, 3.275686218021277, 3.2743692457643303, 3.273243155353525, 3.272368948005278, 3.271811878568238, 3.2716352544138916, 3.2718947479107934, 3.272633556730665, 3.2738787182621625, 3.2756388089988877, 3.27790314301454, 3.494464467689999, 3.5148380811561575, 3.5352916149213467, 3.555225368266398, 3.573954250638867, 3.5907468607781023, 3.6048763450726304, 3.6156737368409293, 3.622574451287445, 3.625153219360486, 3.623151087656104, 3.6165033341649035, 3.6053731255637893, 3.590176439530418, 3.571556892828571, 3.5502996379975347, 3.5272333515778507, 3.5031597561763164, 3.4788143878841162, 3.4548482082819314, 3.4318193594336277, 3.4101877993649166, 3.39030945584926, 3.3724300415183586, 3.356681305566652, 3.3430835097312097, 3.3315566832513492, 3.3219402507951292, 3.3140177638348516, 3.3075423739553287, 3.302259503516433, 3.297924836397287, 3.2943172317568448, 3.2912470442902495, 3.2885606774953042, 3.2861422134049407, 3.2839128330956053, 3.281828575389139, 3.2798768299562155, 3.2780718478349162, 3.276449484244477, 3.2750613648083906, 3.2739686808537583, 3.2732358610382986, 3.2729244186904283, 3.2730873167193333, 3.2737642043636703, 3.274977846964813, 3.2767319860421993, 3.2790107399134962, 3.492087339913963, 3.512087434603098, 3.532114596796534, 3.551575029769985, 3.569797503173864, 3.5860723582116756, 3.599701294556135, 3.6100493883294607, 3.616590444843769, 3.6189407420785185, 3.6168834098621154, 3.6103911772740496, 3.5996528890613293, 3.5850908596810496, 3.5673327563917887, 3.547129566929874, 3.525263664228644, 3.5024833565819633, 3.479467663488933, 3.456811177424722, 3.435018546512895, 3.4145016677299633, 3.395576537289249, 3.3784598726125346, 3.3632677132512927, 3.3500188489241505, 3.338644932835627, 3.329007030239034, 3.3209163136097826, 3.314155704089554, 3.308499649894466, 3.3037303376405163, 3.299649755687509, 3.2960877984343675, 3.29290697526714, 3.2900043801839405, 3.287311518078254, 3.2847924657067575, 3.2824407249628615, 3.2802750315979115, 3.2783343264027245, 3.2766720809856786, 3.2753501925195305, 3.2744327104330315, 3.2739797159921125, 3.2740417216029565, 3.274654968648827, 3.2758379643877946, 3.277589504835124, 3.27988829112092, 3.488497169903003, 3.508027991123277, 3.52753540957107, 3.5464338608811716, 3.5640680745911033, 3.5797519768968686, 3.5928175641970737, 3.602665896459002, 3.6088117189261837, 3.610916379994465, 3.6088098392335692, 3.6025078897963265, 3.592229134625555, 3.5784009134040975, 3.561627120311752, 3.542613582433452, 3.5220860610025313, 3.5007316241292386, 3.4791677267196044, 3.457930057895513, 3.437469347247962, 3.418150648880926, 3.400252298019697, 3.3839645870504302, 3.3693899173569832, 3.3565466191297957, 3.3453778536508954, 3.3357654823708183, 3.3275473036853196, 3.320535308911033, 3.314532756192099, 3.3093485781097076, 3.3048084667863353, 3.3007626187258454, 3.2970904849968234, 3.293703007099889, 3.2905428110052166, 3.287582757201205, 3.2848231550357334, 3.282287875978587, 3.280019558777004, 3.2780740957351777, 3.2765146212479763, 3.275405281180834, 3.2748051272543477, 3.2747625314605875, 3.2753105281230055, 3.2764634478281005, 3.278215103087796, 3.2805386316755434, 3.483659987069703, 3.502626453044059, 3.5215239427826948, 3.5397779167114285, 3.556751558161738, 3.5717845223629268, 3.584241002430094, 3.5935598725106987, 3.5992987366304603, 3.6011660700762773, 3.599040780498209, 3.592983386784458, 3.583242103157444, 3.57024617660444, 3.5545696351812994, 3.5368652306445054, 3.5177944212622285, 3.4979771294756836, 3.4779656404242507, 3.45823531267187, 3.439183338431594, 3.421129641316988, 3.4043173604626213, 3.3889129118469477, 3.375007042429362, 3.3626186126481827, 3.3517022368605103, 3.3421597789834747, 3.333854597487004, 3.3266268192264103, 3.320307930736694, 3.3147334276849096, 3.309752858667324, 3.3052371085335706, 3.301083093358619, 3.2972161906782085, 3.2935907563785998, 3.290189040545404, 3.2870187536745172, 3.2841094823222674, 3.2815081275491025, 3.279273548546452, 3.2774706370108815, 3.276164115775552, 3.275412430064339, 3.2752621572166873, 3.275743375139133, 3.2768663815790804, 3.2786200402858934, 3.2809718597304354, 3.477569884952791, 3.495880493527678, 3.5140837940027008, 3.5316194785345836, 3.54787208577516, 3.562209500734007, 3.574030211851645, 3.582812586807346, 3.588158223906731, 3.589823055858427, 3.5877341121913764, 3.5819942384798966, 3.5728772289896362, 3.5608095571903022, 3.546330822488066, 3.530035949177652, 3.5125174430425514, 3.4943244648811262, 3.475942129500469, 3.4577851338698253, 3.4401982132327293, 3.423458236926866, 3.407775704925918, 3.3932956275228774, 3.380098963479952, 3.368206037712766, 3.3575828849663916, 3.3481506107890464, 3.339797022644446, 3.3323892768361416, 3.3257862186983416, 3.319849365284891, 3.3144518970195898, 3.3094854174279416, 3.3048645190227908, 3.3005293439257817, 3.2964463771061117, 3.292607698382104, 3.2890288835341774, 3.285745713063514, 3.2828098378027524, 3.280283573328701, 3.2782340506854375, 3.2767270306374447, 3.275820774320095, 3.275560428870737, 3.2759734042154256, 3.277066164804353, 3.2788227317281415, 3.2812050019395556, 3.470252107408092, 3.487821967156182, 3.5052555222067796, 3.522010208632448, 3.5374951335495965, 3.551109170174468, 3.5622872722650833, 3.570548661086979, 3.5755391021764704, 3.577060478149437, 3.5750843162321315, 3.5697500288892514, 3.5613501583156224, 3.550302633740663, 3.537109044919351, 3.5223042240491345, 3.50640991397935, 3.489903275463111, 3.4732019687337066, 3.4566608349534635, 3.4405739113795426, 3.4251774110475672, 3.4106518135435384, 3.3971231071282233, 3.384664208067468, 3.3732977686542234, 3.3630012053591245, 3.353714117446781, 3.3453476141636806, 3.3377946450204226, 3.3309403165159583, 3.324671327233725, 3.3188839358095605, 3.313490169796506, 3.3084222117169753, 3.303635037245422, 3.299107440458668, 3.2948415891651877, 3.29086123851259, 3.287208718045844, 3.2839408140595427, 3.281123705762745, 3.278827182255996, 3.2771184596330185, 3.276056015164524, 3.275683930976094, 3.276027261850578, 3.2770888859632623, 3.278848156274227, 3.281261461694024, 3.4617643544831034, 3.4785181248482853, 3.495117695425475, 3.5110419049359964, 3.5257277738280184, 3.538607972120096, 3.5491559311386403, 3.5569325516790995, 3.5616268590575215, 3.5630834561087124, 3.561312491272087, 3.5564818840895547, 3.5488944483894356, 3.5389531994723566, 3.52711868702006, 3.513865048713274, 3.4996437017153874, 3.4848607137292396, 3.469867683331983, 3.454961551680999, 3.440388109312887, 3.426345644822989, 3.412987317377403, 3.4004224154643565, 3.388717457258728, 3.3778982145400205, 3.3679534247717546, 3.358840429944091, 3.3504924600518895, 3.3428269189681608, 3.3357538953121204, 3.329184184424142, 3.32303628906456, 3.3172420782846515, 3.3117509640116407, 3.306532576082865, 3.301577979567905, 3.296899499817018, 3.292529222757005, 3.2885162414875366, 3.2849227418589027, 3.281819069914649, 3.279278005451744, 3.2773685711969476, 3.2761498175478296, 3.2756651092983193, 3.275937469047237, 3.276966473702096, 3.2787270466137897, 3.2811702581402242, 3.4521963102090214, 3.4680708468044306, 3.4837857601757243, 3.498844909372743, 3.5127164817424337, 3.5248695504653718, 3.5348176278621115, 3.542163403325847, 3.5466371680149633, 3.5481216012801298, 3.5466580737607796, 3.5424337069501215, 3.5357524313032327, 3.526995822884223, 3.516580698755884, 3.504920901395267, 3.492399525716352, 3.47935415886067, 3.4660732025012417, 3.45279873424683, 3.4397314353395, 3.4270347594006814, 3.414837365555107, 3.403234146026199, 3.3922867962050596, 3.382024940976472, 3.3724485506306054, 3.3635319460175035, 3.3552292640931185, 3.347480941745628, 3.340220626677739, 3.3333819279664034, 3.32690452471133, 3.320739297198831, 3.3148522821273865, 3.309227355242592, 3.3038676061222287, 3.2987954001171036, 3.294051137738709, 3.2896907394720505, 3.2857819191176585, 3.2823993715937605, 3.279619094829906, 3.27751218337134, 3.2761385548977047, 3.275541169276781, 3.275741335414927, 3.2767356415242026, 3.278494878045286, 3.280965070861263, 3.441667498160773, 3.456614025417913, 3.4714088955232705, 3.4855843721969912, 3.498642747660204, 3.510091663415866, 3.519485698260598, 3.5264686190268657, 3.530809005266669, 3.5324219589485866, 3.5313718700788117, 3.5278553823167154, 3.5221684371866853, 3.5146648703933847, 3.505715371759004, 3.495674466857273, 3.484859913402446, 3.473544637776201, 3.4619578653353127, 3.4502907682502366, 3.4387026850817493, 3.427325683492193, 3.416266895640443, 3.405609143773675, 3.395410840958848, 3.3857061579487566, 3.3765061842853923, 3.3678014391669677, 3.3595657226004683, 3.3517610174812087, 3.3443429952376884, 3.337266638955257, 3.330491547001658, 3.3239865740914336, 3.3177335671457784, 3.3117300361197763, 3.3059906569550512, 3.3005475392167862, 3.2954492163387967, 3.2907583459001297, 3.2865481543081976, 3.2828977344634294, 3.2798864100225487, 3.277587509914787, 3.276062033280974, 3.2753527958234105, 3.2754796925821443, 3.2764366522998816, 3.2781906803223344, 3.280683113411291, 3.4303236614073205, 3.444309334579107, 3.458165132887637, 3.4714547005555145, 3.4837168642978527, 3.4944993721044124, 3.5033981048858607, 3.510096363838578, 3.5143972353883126, 3.5162419917548995, 3.5157096378271215, 3.512996928748593, 3.508383276795388, 3.502189009194549, 3.494736652893347, 3.486322751381948, 3.4772032676597453, 3.467591043007821, 3.4576609504252045, 3.4475579154564406, 3.4374042189003924, 3.4273043154184153, 3.417346944164714, 3.407605233264223, 3.398135845957321, 3.388978167505865, 3.380154273351682, 3.3716700848513055, 3.3635177963383316, 3.3556794002166104, 3.348130972486664, 3.340847311689579, 3.3338065311265948, 3.3269942575848237, 3.3204071599329925, 3.3140555965251557, 3.307965221729796, 3.3021774300142743, 3.296748548935057, 3.2917477315557147, 3.2872535558719616, 3.283349422944799, 3.2801179605166806, 3.2776347798339764, 3.2759620820848165, 3.2751427339505432, 3.2751954847692435, 3.276111938800041, 3.277855707077434, 3.2803638684991303, 3.4183319375244485, 3.4313407060248475, 3.4442551159625223, 3.4566726169712227, 3.4681703496813356, 3.478336965123183, 3.4868090853901244, 3.493307239008558, 3.4976646525354758, 3.499842286798509, 3.4999256137782786, 3.498102799701612, 3.494629097340299, 3.4897863237646716, 3.4838472655922925, 3.4770520839667283, 3.4695987713352876, 3.4616450558453544, 3.4533167538827967, 3.4447176596333136, 3.4359376501704664, 3.427057591333491, 3.4181511021600572, 3.4092840470075227, 3.400512877330837, 3.391882848655074, 3.383426875257879, 3.375165472979282, 3.3671079451547343, 3.359254724680122, 3.351600616339277, 3.344138592192438, 3.3368637687173415, 3.329777216903321, 3.3228893024100112, 3.3162223036243916, 3.3098121009909636, 3.3037087702299437, 3.2979759505579445, 3.292688905996929, 3.2879312633694684, 3.283790503100563, 3.2803524025404607, 3.2776947818804247, 3.275881062280431, 3.2749542803917726, 3.274932265425894, 3.275804627583173, 3.2775320082795893, 3.2800477280927165, 3.405875152036685, 3.4179078909596536, 3.4298949360602915, 3.4414693151843045, 3.4522475278385327, 3.4618591400067342, 3.4699801854971892, 3.476365474016776, 3.4808736496412367, 3.483478960147932, 3.484265783644029, 3.4834059928742596, 3.481124176182958, 3.47765956397597, 3.4732341755912994, 3.468033628456758, 3.462201881537639, 3.4558466534613266, 3.449050191230443, 3.441880494250936, 3.4343998930875554, 3.4266698402772686, 3.418752196889329, 3.4107080303729402, 3.402595121844149, 3.3944652432617652, 3.3863619913855603, 3.3783196635318515, 3.370363381037364, 3.362510434242052, 3.354772651166286, 3.347159485906041, 3.339681476801269, 3.332353724223817, 3.3251990650158856, 3.3182506590692746, 3.3115537435702445, 3.305166349814016, 3.299158820049838, 3.2936120149987427, 3.288614175143657, 3.2842564983233125, 3.2806276266741934, 3.2778073939613592, 3.2758603529378574, 3.274829746912764, 3.274732659937309, 3.275557024826913, 3.2772609622010807, 3.279774592135906, 3.393145582015012, 3.404219512585689, 3.415308503089869, 3.4260822225875724, 3.4361968107118583, 3.4453219939981676, 3.453171203969423, 3.4595301041642923, 3.4642778986578175, 3.4673960503073955, 3.468961099456762, 3.4691220913230048, 3.4680676905519414, 3.465991479932251, 3.4630642959316202, 3.4594192838793543, 3.455150315945227, 3.4503201503365486, 3.444972922733979, 3.4391461889145662, 3.432879628880347, 3.426219494067109, 3.419219268330137, 3.411937687544844, 3.4044353902399997, 3.396771296255053, 3.3889995209649673, 3.381167332023497, 3.3733143853085674, 3.3654732516743096, 3.357671074143405, 3.349932080482812, 3.3422806159945275, 3.334744345365587, 3.3273572857470985, 3.3201623619552314, 3.3132132098330764, 3.3065749927376724, 3.3003240415658603, 3.294546186795605, 3.2893337290855196, 3.284781099922939, 3.2809793996394374, 3.2780101638094363, 3.275938884468162, 3.27480896492869, 3.274636864015432, 3.2754091325180705, 3.2770818329312625, 3.279582488478964, 3.380338545175771, 3.3904860125582856, 3.400719901927379, 3.410746860462697, 3.4202622034940946, 3.428974362587158, 3.4366315885322045, 3.443046660978215, 3.448114552440259, 3.4518183945779604, 3.454221117382368, 3.4554436704314284, 3.4556348311573766, 3.454940521871399, 3.453480615343427, 3.4513380817088426, 3.4485605968603044, 3.4451708261236482, 3.4411800574706928, 3.4366005974448988, 3.431454258322578, 3.425776220127306, 3.419614904701886, 3.413029126756928, 3.4060838666279154, 3.3988457959349314, 3.391379376155526, 3.383744043574931, 3.3759927275778954, 3.3681717302111407, 3.360321825793565, 3.3524803220432045, 3.3446837567152214, 3.336970877969642, 3.329385560415161, 3.321979330097456, 3.3148132026877226, 3.3079585772601208, 3.301496975491899, 3.2955184779618416, 3.290118791734038, 3.285394992611272, 3.2814401250433596, 3.278337010053461, 3.276151791243497, 3.274927906335254, 3.2746812534016074, 3.275397269681361, 3.2770304255509517, 3.2795062821552508, 3.367646150711291, 3.3769128650155027, 3.386346142606721, 3.395689239993628, 3.404675493690025, 3.4130499810567865, 3.4205927680580044, 3.427139870612351, 3.432597477089755, 3.4369455130464, 3.440228589248069, 3.4425355914037024, 3.443972737599183, 3.4446373119410385, 3.44459907018703, 3.443893316658507, 3.4425253241535003, 3.4404822685061855, 3.437747540500056, 3.434313098381082, 3.430187421933144, 3.4253985500470687, 3.4199930010249084, 3.414031960083729, 3.4075861512679704, 3.400730555196012, 3.393539794326285, 3.3860846885706564, 3.378430217887415, 3.370634915880024, 3.362751555833391, 3.3548288763937952, 3.3469140253399567, 3.339055369551712, 3.3313053171254876, 3.3237228136074903, 3.316375201896928, 3.309339172536884, 3.3027005798561064, 3.296552964124655, 3.2909947058318814, 3.286124850502907, 3.2820377843877404, 3.278817110387145, 3.276529254819875, 3.2752174949160344, 3.274897180590071, 3.275552873723163, 3.2771379114921486, 3.2795765423445022, 3.3552515099656945, 3.36369438110761, 3.372390647642057, 3.381119151975976, 3.3896494904663843, 3.3977608399221304, 3.4052617953450426, 3.4120077412044334, 3.4179119076339464, 3.42294690786325, 3.427135425893483, 3.4305315969615062, 3.433197650558659, 3.4351822436749657, 3.43650646314187, 3.4371606571769333, 3.437111371517522, 3.436314584702738, 3.4347303474298716, 3.4323347713527985, 3.429127175529455, 3.425132078428838, 3.420397003764717, 3.4149876107173287, 3.408981641091834, 3.402462871151046, 3.3955158799457026, 3.388222108902469, 3.380657419025842, 3.372891147055602, 3.3649865098651968, 3.3570021006355812, 3.348994155745504, 3.3410192409754846, 3.333137000814371, 3.3254126272549405, 3.3179187293854357, 3.310736321223239, 3.3039546947425773, 3.2976700118267037, 3.2919825373611817, 3.2869925500667088, 3.2827951105367528, 3.2794740346404248, 3.277095600437156, 3.275702674544515, 3.275310026550959, 3.275901549624637, 3.2774298896319167, 3.2798186287611797, 3.3433236526221557, 3.3510083613006287, 3.3590377393344824, 3.367224611963387, 3.375372568805017, 3.383291977488683, 3.3908165315617413, 3.397817260502641, 3.404210742876158, 3.4099589919833693, 3.415060246460225, 3.4195324225751875, 3.423393490922659, 3.4266444120470525, 3.429259618553327, 3.431187407048843, 3.432359155915427, 3.4327036102737396, 3.432161596198626, 3.430697403140559, 3.42830490129204, 3.4250083002602625, 3.420858699278737, 3.415928076283435, 3.4103022887704144, 3.4040742976909835, 3.3973384057890463, 3.39018594098974, 3.382702542768617, 3.374967013359671, 3.3670515579172986, 3.359023145327411, 3.3509456657079366, 3.3428825342427237, 3.334899386350594, 3.327066520053734, 3.31946076441052, 3.312166488033556, 3.3052755115657293, 3.2988857561739575, 3.293098550333554, 3.2880146326620396, 3.283729031078219, 3.280325165011045, 3.2778686933847716, 3.276401784082826, 3.275938559230312, 3.2764624189861933, 3.27792573373903, 3.2802520453639423, 3.332013332265761, 3.339011778700219, 3.346448302627902, 3.3541676213992533, 3.3620046574954046, 3.369797822558246, 3.3774024577048283, 3.38470176276285, 3.3916125159442143, 3.39808366719477, 3.4040875241030175, 3.4096054331494448, 3.414611884143006, 3.4190619071486132, 3.422885823578546, 3.4259929798287496, 3.42828304870465, 3.4296611850165313, 3.4300526434017593, 3.429413386188667, 3.4277350115528886, 3.425044138128381, 3.421397591533595, 3.4168751881182993, 3.411571775193588, 3.4055897614046287, 3.3990329001133675, 3.392001699109376, 3.384590551037852, 3.376886492814177, 3.368969381959943, 3.360913202732861, 3.3527881721909862, 3.344663297224181, 3.3366090315570838, 3.3286996923993386, 3.321015318259977, 3.3136426837570494, 3.3066752371509835, 3.300211795338097, 3.2943539222137703, 3.2892020319636117, 3.2848503997552485, 3.281381424695879, 3.2788596593968613, 3.2773262655831177, 3.2767946271070643, 3.277247797948787, 3.278638255113457, 3.280890089247858, 3.321449838900205, 3.327837600289557, 3.334756712516658, 3.342081308689556, 3.349674703741598, 3.357400084728217, 3.365131073758798, 3.372759890515317, 3.3802009358802216, 3.387388424417485, 3.394268189452726, 3.4007856475244767, 3.4068735059066233, 3.4124433711088726, 3.4173844829619036, 3.4215705413629283, 3.424872906632322, 3.427176491345264, 3.428394172544227, 3.4284765249329707, 3.427415465785083, 3.42524218281521, 3.422020894155629, 3.4178403918985185, 3.4128051201601304, 3.407027044383625, 3.4006190416010362, 3.393690118851285, 3.38634247969194, 3.3786702828096367, 3.370759835799224, 3.362690912379586, 3.3545388545622683, 3.346377112176149, 3.3382798748398135, 3.3303244633870586, 3.3225931692301285, 3.3151742638649577, 3.3081619504696365, 3.3016550988561972, 3.295754696424512, 3.2905600626387854, 3.286164012636389, 3.28264731223465, 3.2800729273066036, 3.2784807051308373, 3.277883188364842, 3.278263205800743, 3.2795736834472, 3.2817397988882915, 3.311738869781455, 3.3175927795062834, 3.324069035125275, 3.3310684290849295, 3.3384795583075753, 3.346187098640243, 3.3540797544266976, 3.362055985729655, 3.3700258066815962, 3.377907753489794, 3.38562147065636, 3.393077932599764, 3.400170544257441, 3.40677063460475, 3.4127298295560866, 3.417889689611634, 3.4220966179268597, 3.425218374020881, 3.427158213956115, 3.427863707819119, 3.427329074172991, 3.4255916335430836, 3.4227241333411307, 3.418825053817909, 3.414008740711842, 3.4083966464510156, 3.4021103759617435, 3.3952667745993574, 3.3879749978916105, 3.380335336223796, 3.3724394866300575, 3.3643719308557953, 3.356212070086685, 3.3480367696503617, 3.3399229761644778, 3.331950084096351, 3.3242017506610053, 3.3167668914603596, 3.3097396387666986, 3.3032181135024197, 3.297301952840494, 3.2920886484962737, 3.2876688848547744, 3.284121215480475, 3.281506566634254, 3.279863178635753, 3.2792026486172636, 3.2795076788572213, 3.2807319430348896, 3.2828021820621696, 3.3029614479125264, 3.30835738724776, 3.314462442574858, 3.3212011325975395, 3.32848415709882, 3.3362144643908445, 3.344292872089673, 3.3526216941662006, 3.3611050875690274, 3.3696456143494355, 3.378137718222954, 3.3864601186670695, 3.394470038373476, 3.402002205457989, 3.408874478190062, 3.4148999770508266, 3.4199034889732305, 3.423738489187823, 3.426300968380381, 3.427537341601399, 3.4274455082060946, 3.426069880215813, 3.4234923229539183, 3.4198212691128496, 3.415180945711315, 3.409702023732133, 3.4035143564037913, 3.3967419760903717, 3.389500209071434, 3.38189460834315, 3.374021342569424, 3.3659686681574823, 3.357819121504777, 3.3496520847050295, 3.3415463950499387, 3.3335826869591347, 3.3258451782937013, 3.318422646684628, 3.3114083907564513, 3.3048990397115556, 3.2989921643813798, 3.293782753325213, 3.289358746478033, 3.2857959596887163, 3.28315287153617, 3.281465852348618, 3.28074545702391, 3.2809743413031462, 3.2821071795115695, 3.284072683371007, 3.295173823288807, 3.300184792464389, 3.305985726227644, 3.312521856457264, 3.3197228276430555, 3.327506786449729, 3.3357839670781737, 3.344458546177135, 3.353427847149777, 3.362578717511091, 3.371781962048822, 3.380886784817763, 3.389717844552565, 3.3980773613054436, 3.4057535772406626, 3.4125350355353112, 3.4182282422454335, 3.422675070495747, 3.425766245030414, 3.427448386020386, 3.427723885661165, 3.4266446238635186, 3.42430163444158, 3.4208131182201824, 3.4163128301774264, 3.410940180846067, 3.4048326949476353, 3.3981209372915164, 3.390925690314239, 3.3833570128954733, 3.3755147644867156, 3.3674901878116046, 3.359368171998187, 3.3512298481267275, 3.3431551951117897, 3.3352253570201764, 3.327524398491253, 3.320140259313374, 3.313164718281113, 3.306692244135275, 3.3008176991142295, 3.295632967532516, 3.2912227045270446, 3.287659531328542, 3.2849991285159414, 3.2832757730233055, 3.28249889532678, 3.282651169352773, 3.283688477338623, 3.2855418370778713, 3.2884082483052044, 3.293102760245987, 3.2986607521547153, 3.3050451626207304, 3.3122015198439168, 3.3200602929581007, 3.328538734393476, 3.337541275567728, 3.3469578701726963, 3.3566603725173576, 3.3664979596774955, 3.376293471817053, 3.3858429817720435, 3.39492059086894, 3.4032892942472848, 3.4107170350138114, 3.416995358608617, 3.4219570559108456, 3.4254892771572867, 3.427539778656926, 3.4281157510820734, 3.4272763891581706, 3.4251214468671165, 3.4217782839295805, 3.4173895062718787, 3.4121025722316594, 3.4060619940266985, 3.399404196868943, 3.392254755862545, 3.3847275767546536, 3.376925553514361, 3.368942262461007, 3.3608642983534165, 3.352773901641289, 3.3447515614673873, 3.336878307962448, 3.3292374360138215, 3.3219154383277156, 3.3150019746316746, 3.30858877035134, 3.3027674232830524, 3.2976261992415377, 3.2932460132879484, 3.2896959139676247, 3.287028499715637, 3.285275776768963, 3.2844459881902224, 3.284521878680573, 3.2854607016518473, 3.2871960442384243];\n",
       "const lower_is_better = false;\n",
       "const metric = \"log_eval\";\n",
       "const rel = false;\n",
       "const sd = [0.08404610245165652, 0.08380881675998447, 0.08425743384979366, 0.08528424965426025, 0.08675962631051035, 0.08855278547901269, 0.0905468217084691, 0.09264596701343461, 0.09477607908361134, 0.09688084186387051, 0.09891639670625486, 0.10084655783833042, 0.10263985713830945, 0.10426874006790682, 0.10571051860813689, 0.10694928558699106, 0.10797789960866858, 0.10879927192385012, 0.10942641689870562, 0.10988098737127973, 0.11019027290728085, 0.11038289095061422, 0.11048364534896811, 0.1105082349008597, 0.1104586091429982, 0.11031972940203078, 0.11005827827963073, 0.10962351580611582, 0.10895011039679077, 0.10796249589780775, 0.10658019993862161, 0.10472366264418603, 0.10232027173895222, 0.09931061458712363, 0.09565524101817113, 0.09134252898051011, 0.0863985654876812, 0.0809003147516265, 0.07499365632361993, 0.06891761954457107, 0.06303346148232218, 0.057847273960565174, 0.053990760557594455, 0.05209833724799179, 0.052564223413663486, 0.05533598485656556, 0.05995974313833056, 0.06582406660173719, 0.07236944854149285, 0.07916923711287863, 0.0821244192902723, 0.0816973765847656, 0.08195231587215969, 0.08278552401249194, 0.08407240830301131, 0.08568830996267983, 0.08752312694254578, 0.08948771592493643, 0.09151320028276567, 0.09354599041477293, 0.09554159919978208, 0.09745968066241574, 0.09926161805380587, 0.10091085132405911, 0.10237527410308347, 0.10363059755834586, 0.10466354460321754, 0.10547395753195125, 0.1060752155785332, 0.1064926679758938, 0.10676007220903401, 0.10691431028711544, 0.10698895468755606, 0.1070075384886357, 0.10697756449512415, 0.10688626302734551, 0.10669882726331151, 0.10635937522012046, 0.10579436441613511, 0.10491779917715904, 0.10363743491705388, 0.1018613017346765, 0.09950415976041756, 0.09649385813745427, 0.09277793068445668, 0.08833111810642255, 0.0831649170033487, 0.07734083106498119, 0.07098985617934155, 0.06434173754256493, 0.05776720297162777, 0.05182810443933172, 0.04729584344960304, 0.04502589053347138, 0.04558807077529802, 0.04889407443744662, 0.05428427496578192, 0.060951811925153816, 0.06823301182793978, 0.07566778279883621, 0.08033213369761241, 0.07968683577969728, 0.0797119045930892, 0.08030982807493947, 0.08136386754211426, 0.08275852754284835, 0.08439346132781426, 0.0861887016181105, 0.08808247887716861, 0.09002478995110064, 0.09197025269735437, 0.09387302679911981, 0.09568521554804289, 0.09735873215783677, 0.09884957082599918, 0.10012297803626692, 0.1011580997841, 0.10195104496014214, 0.10251572070143286, 0.10288214520809627, 0.10309223411315234, 0.10319335749056739, 0.10323032704050633, 0.1032368651920145, 0.10322789929832474, 0.10319404086587054, 0.10309924818072141, 0.10288199798046989, 0.10245954393360437, 0.1017342973495963, 0.10060119781269566, 0.09895513565965919, 0.09669790174879812, 0.09374460994232979, 0.09002996675138, 0.08551514977812007, 0.08019649701581612, 0.07411790185561408, 0.06739009453325388, 0.06022233689524514, 0.05297535022838454, 0.04624320271563758, 0.04093719833363616, 0.03820489423439364, 0.03888870374639903, 0.04283833221021932, 0.04908420373636181, 0.05658115542317358, 0.06457534437855213, 0.07259730539287579, 0.07863817500249798, 0.07774834443754951, 0.07751020860158729, 0.0778342353137591, 0.07861398915095806, 0.07974599777102254, 0.0811426532424402, 0.08273592212862425, 0.08447325301698998, 0.08630928242888912, 0.08819747892964748, 0.09008498370116234, 0.09191215977149131, 0.0936165086738107, 0.09513933585027301, 0.09643313330817169, 0.09746792962139192, 0.0982354343268833, 0.09875033947832747, 0.09904850764923602, 0.09918203330377177, 0.09921145666965404, 0.0991958439626786, 0.09918200078528386, 0.09919456337031143, 0.09922882438479765, 0.09924769289787273, 0.0991832338926269, 0.09894214657763754, 0.09841377153439339, 0.09747902118560278, 0.09601895672853464, 0.09392233790598759, 0.09109209246776627, 0.08745115253634143, 0.08294849233224405, 0.07756660479419197, 0.07133233334276314, 0.06433443171500845, 0.05675448566800989, 0.04892470450611328, 0.04143649020336241, 0.035309931139236486, 0.03203967851969212, 0.032871368722249765, 0.03755270274808428, 0.04467815979100073, 0.05295196538855301, 0.06156957994087014, 0.07008173623965577, 0.0770038715257507, 0.07584665331179122, 0.0753165463859902, 0.07533313692181191, 0.07580212928052085, 0.07663452513602022, 0.07775833025009958, 0.07912037283614494, 0.08067974321331961, 0.08239703352448195, 0.08422436897343592, 0.08610016970157605, 0.0879502640829687, 0.08969450021090658, 0.09125642839786959, 0.09257333459391359, 0.09360452755846227, 0.09433666385877242, 0.09478556157892264, 0.09499428955674925, 0.09502747752108091, 0.09496202870398159, 0.09487492770086893, 0.09482962400939635, 0.09486325905749608, 0.09497731171823554, 0.09513367506193339, 0.09525680231468321, 0.09524095107403302, 0.09496045026269515, 0.09428071163846309, 0.09306827540141427, 0.09119907880388418, 0.08856496547494545, 0.08507903063918723, 0.08068075669790031, 0.07534220720342721, 0.06907711169476198, 0.06195605575762493, 0.05413451468014408, 0.045909422724795666, 0.037840720285417954, 0.03099686886710268, 0.02719786195879744, 0.028184977966078526, 0.03356802213013687, 0.0414418573621035, 0.05031427146517459, 0.05938139040860277, 0.06823305543439127, 0.07538611310390174, 0.07394309695774932, 0.07309834235039975, 0.07278090225904273, 0.07290961318585767, 0.07341174735333975, 0.07423350613907735, 0.07533960066761818, 0.07670352222086878, 0.07829346412376306, 0.08006012540633713, 0.08193134092895284, 0.083815284429935, 0.08561058638128811, 0.08721976563466181, 0.0885623647004548, 0.08958535951914143, 0.0902697177296646, 0.09063277052901121, 0.09072628694311853, 0.09063009742274529, 0.0904412158955254, 0.09025898760421737, 0.09016791273444064, 0.09022109163984116, 0.09042792537990714, 0.09074904660411062, 0.09109943580044405, 0.09135823554305857, 0.09138216555506437, 0.09101929079421084, 0.09012088971184937, 0.0885505321279556, 0.08619058718925343, 0.08294703385803984, 0.07875374587371001, 0.0735776192597776, 0.06742633872538459, 0.060361816588627784, 0.05252577116199469, 0.04419338096056943, 0.03589629931062414, 0.0287034852360987, 0.024608204151047728, 0.025696695288434095, 0.031479706732948455, 0.039731894854397626, 0.048879399021452, 0.058140868713651206, 0.06713531193686416, 0.07374088193657044, 0.07199887555465144, 0.07082413570417184, 0.07015467544262219, 0.06992242562337077, 0.07007181382645591, 0.07056928630606583, 0.07140041151621464, 0.07255615741858652, 0.07401434524186146, 0.07572432771149037, 0.07760135642898404, 0.07953254208463786, 0.08139149315556744, 0.08305633193334246, 0.08442635100270561, 0.08543463457687887, 0.08605583080392502, 0.08630913494846171, 0.08625652940747612, 0.08599594128470249, 0.08564882388498232, 0.08534226956983414, 0.0851873414388464, 0.08525743213944881, 0.08557187319721458, 0.08608932350241383, 0.08671242574998779, 0.0873014011208721, 0.0876918675812672, 0.08771221774271204, 0.0871976555851704, 0.0860000704121922, 0.08399439495076154, 0.08108278322071834, 0.07719812622230542, 0.07230848125662329, 0.06642431859924205, 0.05961167071228288, 0.05201765279439714, 0.043924054737486194, 0.03586857084637966, 0.028912906905318177, 0.02498343831346526, 0.02604863900886641, 0.03166948428606088, 0.039749723545324224, 0.04875756666839995, 0.057912980037641976, 0.06682971983368594, 0.07202674255110242, 0.06997824602696703, 0.06846643908285763, 0.0674369698714688, 0.06683367928728141, 0.06661786902648005, 0.06677744363945211, 0.067321523484526, 0.06826185100753082, 0.06958829824970132, 0.07124916227067274, 0.07314503218486282, 0.0751383512037444, 0.07707382168679314, 0.0788019128391439, 0.08019935681902475, 0.08118391473121407, 0.08172324754614664, 0.08183858431939456, 0.08160345620139073, 0.08113685372077553, 0.0805895688976025, 0.08012298544035187, 0.07988173293534154, 0.07996505963662368, 0.08040457534305036, 0.08115548063001055, 0.0821036923014436, 0.08308509241662637, 0.08390953824937897, 0.08438288408798282, 0.08432342251614214, 0.08357231669150447, 0.08199945358274081, 0.07950675055822179, 0.07603089699016972, 0.07154738398830743, 0.0660779204918552, 0.05970450566373796, 0.0525966788466704, 0.04506641546514457, 0.0376813561676951, 0.031473442366329415, 0.02809000455364185, 0.02903077062045, 0.034015484874352055, 0.0414325045859549, 0.049915536621748316, 0.05867940258137662, 0.0673059876461034, 0.07020797734478253, 0.06785131445437868, 0.06600414246107456, 0.06461775114164756, 0.06364554021415857, 0.0630640135217425, 0.0628825476743372, 0.06313587312535417, 0.06385980964708865, 0.06505904228373889, 0.0666813522478963, 0.06861060663222145, 0.07068097112261242, 0.07270455747404699, 0.0745013287923116, 0.07592355609317783, 0.07687244440727409, 0.07730787527535996, 0.0772528730921691, 0.0767933638446962, 0.07607215546478124, 0.07527476559302324, 0.07460484164046007, 0.0742496603547824, 0.0743416861849534, 0.0749276027389428, 0.07595639803311575, 0.07729054882019674, 0.07873391870780005, 0.08006451791755234, 0.08106232144249806, 0.08152804104461364, 0.08129347415587734, 0.08022618068301618, 0.07823146779476223, 0.07525417502394477, 0.07128234441032938, 0.06635497057050421, 0.06057704995695233, 0.054147751378753446, 0.047412503823661266, 0.04095440330879192, 0.03571615119920475, 0.03298153824250585, 0.03377908683811634, 0.03797505493018437, 0.04448043800126486, 0.052185750276922224, 0.06034177484983251, 0.06850349068259697, 0.06825720303275037, 0.06559625717733095, 0.06342426707404601, 0.061695768887923844, 0.06037030727730897, 0.059436374191922006, 0.05892323383657209, 0.058892146591505344, 0.05940591684679712, 0.06048695983180298, 0.06208334761235629, 0.06406037367597267, 0.0662206605229278, 0.06834068846211186, 0.07020786784839278, 0.07164876521083392, 0.07254704465157877, 0.07285374816733034, 0.07259273026188019, 0.0718622141678683, 0.0708308972984715, 0.06972466987316593, 0.0687991628570859, 0.06829635783957848, 0.06839203660432104, 0.0691513701639357, 0.07051224890229486, 0.07230340087905927, 0.07428588120950491, 0.07619820277779239, 0.07779097949662998, 0.07884727214981645, 0.07919156812331507, 0.07869220833829244, 0.07726137876758406, 0.07485557402802342, 0.07147864998506616, 0.06718947361601346, 0.062116832726690316, 0.05648568148167238, 0.05066004932785432, 0.0452031900585506, 0.04092280167948637, 0.03877455594794417, 0.03945521380813029, 0.04292579618724615, 0.048493511215157194, 0.05532071040052938, 0.06274481418608896, 0.07032189246742124, 0.06615746187203453, 0.06320095282360738, 0.06072301123491998, 0.05867900016487527, 0.05703038655338453, 0.05577287682785167, 0.05495206998322652, 0.05465490045840951, 0.054973024738453, 0.05594927401096503, 0.05753306508116373, 0.059569804737249495, 0.06182823434930536, 0.06404744669914274, 0.06598155047666183, 0.06743106496638018, 0.06826138310298102, 0.06841318548081131, 0.06790907083283963, 0.06685790956850943, 0.06545494221977134, 0.06397182747059195, 0.06272795247501234, 0.06203642414771388, 0.06213079618993133, 0.06309901782107187, 0.06485930628323307, 0.06719070961696971, 0.06979657543955631, 0.07236695599487057, 0.07462030915841163, 0.07632333884110731, 0.07729641674553797, 0.07741229398465742, 0.0765933102043413, 0.07481010229399097, 0.0720836225954775, 0.06849193669213718, 0.06418345819212515, 0.05939844376916243, 0.05449904034844032, 0.0499998442160266, 0.04656562152633704, 0.04490317099763482, 0.04550112802455325, 0.04837509148708559, 0.053094996262762414, 0.05905570343299336, 0.0657074636728357, 0.07263704240389546, 0.06390391671668884, 0.060664155027411786, 0.05790617898328414, 0.055584199641880924, 0.05365698565962042, 0.052121305004235056, 0.05103333663170872, 0.05050236294401645, 0.05064881496681062, 0.05153773433804728, 0.053121107562458116, 0.055224211364236594, 0.057581366005259586, 0.059894623770112884, 0.061885847993492844, 0.06333024520209148, 0.06407441276048328, 0.06404648347052332, 0.06326419496572437, 0.06184313778503153, 0.06000323871903984, 0.05806601880421841, 0.056428523842238745, 0.05549787276820367, 0.05558704209919617, 0.05681229738461176, 0.05905696252458358, 0.062025632022689695, 0.06534410027976852, 0.06864485971510151, 0.07161371240371467, 0.07400477208470611, 0.07563912000566181, 0.07639816629978934, 0.07621742105510154, 0.07508315927122415, 0.07303306713995697, 0.0701615248828954, 0.0666300212893804, 0.06268253326881576, 0.058663035689312436, 0.05502477439088063, 0.052306407639276506, 0.0510394021510575, 0.051584079559203994, 0.0539866798991016, 0.05798456118578123, 0.06315102441013526, 0.06904969544911525, 0.07531691352658557, 0.06150537003307471, 0.05799645855999295, 0.054989233701263365, 0.052435720895815635, 0.05028751089710441, 0.04853531567684303, 0.047237976953927625, 0.04652076005692307, 0.04652978898286701, 0.047352286397416773, 0.04894406275323103, 0.05111183662077016, 0.05355787660330368, 0.05595050903584198, 0.05798259935241707, 0.0594058952193871, 0.060047796985820516, 0.05982092711360041, 0.058732792676706044, 0.05689881395228769, 0.05455776342161506, 0.052081808045954955, 0.04996094813158698, 0.048728696552805144, 0.04881146401369343, 0.05036106655080009, 0.05319825604137714, 0.05691471152575735, 0.06103423465289725, 0.06512556386390335, 0.06884621183971157, 0.07194515010907052, 0.07425087840450309, 0.07565819995288223, 0.07611841122691143, 0.07563401023238679, 0.07425791767896703, 0.07209694936073907, 0.06931901890637769, 0.06616260685413758, 0.06294447839666192, 0.060056484370454334, 0.0579356875918963, 0.05699266225406963, 0.057506865324106524, 0.059541725143635836, 0.06294132098218755, 0.06740929833903644, 0.07260921869955433, 0.07823397018562796, 0.05898585745249094, 0.055221394376925664, 0.05199736082942101, 0.04926398100181915, 0.04696192118688673, 0.045068376529256174, 0.04363519981017752, 0.04279408250764244, 0.04270987636968158, 0.043489124040227436, 0.045092556750639556, 0.04731254565138448, 0.04982566928188151, 0.05227343285663424, 0.05432523324979509, 0.05571220994464234, 0.05624224651743903, 0.05580885805257925, 0.05440236716959923, 0.05212789435391972, 0.04923162267903161, 0.04613038266191609, 0.04342088430730736, 0.04180860958470833, 0.04188934861460905, 0.04385963127131364, 0.04742582088827892, 0.0520084792448883, 0.05700460991443988, 0.06192193864660272, 0.06640201461875285, 0.0702003687630008, 0.07316104498757343, 0.0751968619065664, 0.07627675581111329, 0.07641911837467553, 0.07568988582720346, 0.07420431585367038, 0.07213124610059064, 0.06969778824953701, 0.06719051566343566, 0.06494628311653901, 0.06332363113460938, 0.06264937545163814, 0.06315010715260552, 0.064898805476129, 0.06780861766879057, 0.07167665658686165, 0.07624867151166322, 0.08127282410938817, 0.05638651133688022, 0.05237700523448159, 0.0489660306832106, 0.04610416827720177, 0.04371869301735929, 0.041766210345407576, 0.04028104337562312, 0.03938914570836861, 0.0392631310347553, 0.04002258730690883, 0.041633932062132506, 0.0438825288790775, 0.04643009960690469, 0.04890180864106858, 0.0509510713565507, 0.05229203150979315, 0.05271293481847668, 0.052084526354055936, 0.05037235198756554, 0.047658688686093596, 0.044179323359943325, 0.040378204474457315, 0.0369631951209251, 0.034872494188529606, 0.034966560362769114, 0.037496385448195196, 0.041955201757673845, 0.047511959788785356, 0.053425055967539534, 0.059161636805632765, 0.0643691542140594, 0.06882428185324117, 0.07239448423275191, 0.07501395422997499, 0.07666977916662136, 0.07739487952142367, 0.07726548687427157, 0.0764016043900436, 0.07496893885201664, 0.07318020378165065, 0.0712924979063673, 0.069596070015555, 0.06838960964088266, 0.06794086129372252, 0.06844039502005593, 0.06996625647498574, 0.07247712435806246, 0.07583691435639497, 0.079856518728435, 0.08433379049799174, 0.05376770308156191, 0.04951815027851094, 0.04594256903484715, 0.042995979241085724, 0.040591520317677085, 0.038659279193655055, 0.037205827516142445, 0.03633813317325636, 0.036222864275666095, 0.03698347351937417, 0.03859238010483955, 0.04083791844763212, 0.04338143444415523, 0.04584485975781943, 0.047874369005399466, 0.04917125599684182, 0.04950455503730177, 0.048719561397904294, 0.046750754302719334, 0.04364543617485666, 0.03960717563167264, 0.03507471971792753, 0.030847181429838944, 0.028162384643668315, 0.028306733427411277, 0.03158783576540652, 0.03710372621982585, 0.04368828144919814, 0.05048918742230614, 0.056976496005463076, 0.06283083478703932, 0.06786295940293488, 0.07196853494257009, 0.0751037720520454, 0.07727247250931327, 0.07851954342326109, 0.07892836578746443, 0.07862036171360882, 0.07775526669990938, 0.07653025374563494, 0.07517539271043856, 0.07394241132789449, 0.07308429185372309, 0.07282610735719552, 0.0733328343137333, 0.07468484800055197, 0.07687133804931917, 0.07980412974502707, 0.0833447613739922, 0.08733362097751246, 0.051211081127498635, 0.04671946866782606, 0.042989069750143986, 0.039985201056252154, 0.037608236964891774, 0.03575782696986428, 0.03440444473590853, 0.03362414967990939, 0.03356397930694224, 0.03434101235112993, 0.03593338366653117, 0.038143101270620136, 0.040646865313569244, 0.043077312125488175, 0.04508246705036167, 0.04635529671908252, 0.04664707530875939, 0.045777227519145564, 0.04364684434532286, 0.04026171984231683, 0.035776016739201, 0.030584105977443616, 0.025518729192168726, 0.022149115510952777, 0.022421175138198773, 0.026663595738791613, 0.03330632090905405, 0.04084024775847212, 0.0483913018435043, 0.05548488241528661, 0.061854171531023155, 0.06734837576172531, 0.07189008684069385, 0.07545436924172436, 0.078058055855385, 0.07975432557303537, 0.08063019866258904, 0.08080549705352344, 0.08043198319418234, 0.07969118447278158, 0.0787890851202637, 0.07794578848728695, 0.07737897948681774, 0.07728207472890504, 0.07780111784791671, 0.07901708804508806, 0.08093986505520047, 0.08351582959368414, 0.0866455118275109, 0.0902046290191943, 0.04882044671769969, 0.044078253575668296, 0.0401864584385159, 0.03712766568293356, 0.03479344393018621, 0.033052408437921045, 0.031834531837997636, 0.031177334106155634, 0.03119804701676978, 0.031998495101333346, 0.03356121500183672, 0.03571037738424344, 0.038151739934623466, 0.04054128922799032, 0.04253741305999321, 0.043829443799301794, 0.044153634237338896, 0.043306245599709865, 0.041158849079751904, 0.03768050621534884, 0.03297780694752236, 0.027385601849634424, 0.021707535196390817, 0.01777137591174448, 0.01829913843900783, 0.023515961780707556, 0.03106025548552307, 0.039250337469470785, 0.04728686460377101, 0.05476937473265852, 0.061478543600904254, 0.06729284977932386, 0.07215338932173447, 0.07604714946356579, 0.0789983602047487, 0.08106386075469742, 0.08233058725297684, 0.08291400301893267, 0.08295642634517246, 0.08262410415743372, 0.08210175316025263, 0.08158340151393853, 0.08125902855185621, 0.08129792209078832, 0.08183159111189849, 0.08294051161851171, 0.08464868380234467, 0.08692755174097466, 0.08970751961736728, 0.09289308650303799, 0.0467194757238678, 0.04171531247282776, 0.03763841544224588, 0.0344952857377407, 0.03217571464629729, 0.030522088098191933, 0.029426217151081662, 0.028886790651500557, 0.028987430786257398, 0.029808733017871045, 0.03133440554374494, 0.033414311480795725, 0.03579217588603966, 0.03815692625085263, 0.0401843161561893, 0.04156437204854295, 0.0420219666474561, 0.04133571832573541, 0.03935765672651547, 0.03603751203248294, 0.03146298244780181, 0.02595105520246232, 0.020302932911450366, 0.016444623703851555, 0.017312138957749253, 0.022928896831861008, 0.030728829413013626, 0.03908169577551403, 0.0472472582162338, 0.05485664520386214, 0.06170695272995167, 0.06768570151112402, 0.07273913864851762, 0.07685696203395725, 0.0800641414307401, 0.08241621339263387, 0.08399635766467028, 0.08491321027991594, 0.0852985292891254, 0.08530381354702152, 0.08509496883313013, 0.08484429691488168, 0.08471962616273702, 0.08487137494542552, 0.08541952985258516, 0.08644336072839887, 0.08797651079978436, 0.09000868282865436, 0.0924931092379491, 0.09535742641256521, 0.04504349932733904, 0.03977036402860828, 0.03547204076180764, 0.03218230369205578, 0.029798939313630948, 0.02815066801267448, 0.027103544555565625, 0.026627283804524175, 0.02677603461658939, 0.027606075061334372, 0.02909588891280504, 0.031118059465485248, 0.03345714843398235, 0.03584055034394599, 0.03796587722908767, 0.03952674973308077, 0.04023999071686479, 0.039873103747365427, 0.03827119440293887, 0.03538730058461823, 0.03132964472502948, 0.02646215959332646, 0.02164804884865266, 0.01868240618205729, 0.019801404947866304, 0.02498319317322554, 0.03229751851762206, 0.04029704824792906, 0.048232311937704477, 0.055708338354788264, 0.06250351568684319, 0.0684931484901748, 0.07361512969797582, 0.07785278893192227, 0.08122543174007996, 0.08378265688420224, 0.0856005938607192, 0.08677896640562632, 0.08743815040481125, 0.08771547718576182, 0.0877601086519901, 0.08772601093219494, 0.08776297967140023, 0.08800634004301577, 0.08856670900957833, 0.08952173079942105, 0.09091160249894123, 0.09273936545061427, 0.09497566055883902, 0.0975665325344671, 0.04392301180361295, 0.038387723848807134, 0.033830094951683154, 0.030307449319381303, 0.027735269741140902, 0.025949194932337494, 0.024814435810095736, 0.024294461517436073, 0.02442750576975323, 0.02524483018106686, 0.02670884147815355, 0.028704930408154163, 0.031055461366864375, 0.03352736230093109, 0.035840922821217445, 0.037693348133943615, 0.0387947762705873, 0.038906587203739455, 0.037876900273905445, 0.03567754032037851, 0.03245682690129706, 0.02863600014885062, 0.025080304617590095, 0.02322494397584589, 0.02448910092230911, 0.028924540076180047, 0.03536567297213575, 0.042668155857366594, 0.05009936997123111, 0.05722776137346438, 0.06379816881658232, 0.06966154778154536, 0.07473839496981148, 0.07899899039277972, 0.08245199852178017, 0.08513739090348049, 0.08712163613251503, 0.08849395900221059, 0.08936283288172413, 0.0898520355444006, 0.09009572858881242, 0.09023221883184974, 0.0903963928741161, 0.09071128704592578, 0.09127976713388472, 0.09217764527119399, 0.0934495329460169, 0.09510822807215175, 0.0971376127955078, 0.0994982383676126, 0.0434598226464852, 0.03769046767574634, 0.032849702358790304, 0.029005269255375422, 0.026093961471083317, 0.023980951675209493, 0.02256571130593569, 0.021843344937834467, 0.021863503749345252, 0.022636045670968715, 0.024091144287952254, 0.026109808210403037, 0.028543717980357076, 0.03119554245103792, 0.033804047315408065, 0.03606577198914843, 0.03768251863240554, 0.03841143929008949, 0.03810755542139674, 0.03676313931489706, 0.034556165554072045, 0.031920121825531576, 0.02962045618253723, 0.028707463925034836, 0.030080880857031155, 0.03385614979952098, 0.03939116416212299, 0.0458686581821732, 0.052643299211474745, 0.059279258753725694, 0.06549692522257812, 0.07112312726847561, 0.0760584251183289, 0.08025696893564833, 0.0837139308837494, 0.08645730659993538, 0.08854218301506621, 0.09004628760233849, 0.09106600270545304, 0.0917122304444057, 0.09210564730782825, 0.09237107151868923, 0.09263092729888146, 0.09299813122619723, 0.09356908748300845, 0.09441773905417092, 0.0955916412381658, 0.0971107300874955, 0.09896891918889264, 0.10113807011004332, 0.04370272478281031, 0.0377489552012023, 0.032628651599297696, 0.028400910180057724, 0.02501643868049377, 0.022381314292196888, 0.02046096001958726, 0.019331535178068262, 0.019104018012349684, 0.019784025866351616, 0.021249258978165105, 0.02335065677106407, 0.02595466697482677, 0.028889899926335796, 0.0319032137882449, 0.03468200723333354, 0.036916007685080875, 0.03835787405851725, 0.0388684535534329, 0.0384523393685824, 0.03729332536670431, 0.03579099922749113, 0.03457181748122894, 0.034394566054072956, 0.035871708870129713, 0.03915233884394784, 0.04390218030725147, 0.04957269914198014, 0.05564336245417157, 0.061711736815692635, 0.06749432293414596, 0.07280279830036342, 0.07752088631543504, 0.08158704515230426, 0.08498232786059398, 0.08772185234000912, 0.08984856343706153, 0.09142831691874624, 0.09254556863164916, 0.09329912523846179, 0.09379755537513434, 0.09415401799754122, 0.09448046901286007, 0.09488146238011282, 0.09544803278381295, 0.09625235724253867, 0.09734394778994031, 0.098747963758309, 0.10046587060314621, 0.10247822646036592, 0.044633859723820835, 0.03855850107283598, 0.03319292860627313, 0.028572248925448886, 0.024647208005476, 0.02135585274108938, 0.018733710676721964, 0.016974458509990745, 0.01632424124147652, 0.016836607537834756, 0.018322208307379004, 0.02056659046113836, 0.02342784896020125, 0.026742936033416535, 0.030250834283091343, 0.03362009463732213, 0.03652594059613873, 0.038716965562753364, 0.040057532257880994, 0.04055487312706856, 0.040379342466990674, 0.03987524892569269, 0.03954093480689435, 0.03993870690018355, 0.041519231931475595, 0.04444545199787652, 0.04855982262454849, 0.05350891745430709, 0.0588972403151743, 0.06437850756776352, 0.06968482450842924, 0.07462467058338818, 0.07907125436157388, 0.0829503249063234, 0.08623003082704404, 0.08891300743867538, 0.09103019587627446, 0.09263580292445643, 0.09380287125506073, 0.09461902081592646, 0.0951820222994097, 0.09559498413127049, 0.09596109079999168, 0.09637802667257862, 0.09693243537963611, 0.09769494952387804, 0.09871640791186834, 0.1000257983080202, 0.10163021539937024, 0.103516771377714, 0.04617354301752349, 0.040040133865767935, 0.03448580766385299, 0.029518640258657185, 0.02508259724874199, 0.021131110198331103, 0.017740638848114294, 0.01520236162636354, 0.013946498050048077, 0.014173723642338196, 0.015652686498907824, 0.01806883576802575, 0.021239441297642454, 0.02498503730360705, 0.029020006477452565, 0.03298865774366579, 0.03655370284455225, 0.039462119393642275, 0.041580185625448685, 0.04291079758789682, 0.04360112261223379, 0.043937982194806595, 0.044317502192966506, 0.04517156187345168, 0.046853076250959386, 0.04952773926856995, 0.05314066977875936, 0.057473320125033936, 0.06223746507727054, 0.06714995594098132, 0.07197127156136238, 0.07651733089535238, 0.08065792763987663, 0.08431036998284572, 0.08743233075573974, 0.09001534231057547, 0.09207922044856351, 0.09366726214512502, 0.09484192584852592, 0.09568068838196177, 0.09627181106052565, 0.09670982262172977, 0.09709064013880575, 0.09750640353010218, 0.098040282081765, 0.09876168535602646, 0.09972241667909354, 0.10095428523930292, 0.10246851714761164, 0.10425701215970659, 0.0482009870135069, 0.042064134225737744, 0.03638635704154586, 0.031158163301880013, 0.0263248853060535, 0.021854740359546734, 0.017841427336077693, 0.014608314769820212, 0.012699800524455617, 0.012508663548553423, 0.013863890607883619, 0.01637569596901168, 0.01980051232356515, 0.023920129139372838, 0.028413512917054025, 0.03290095928849307, 0.03703623272029524, 0.04056589388282068, 0.04335550497801143, 0.04539848609110907, 0.04681514005803948, 0.04784021026375951, 0.04879129588705749, 0.050010901333617006, 0.05178757764488408, 0.054283452657039856, 0.05750397002227792, 0.061322143701754636, 0.06553496882981953, 0.06991938140141793, 0.07426996503065413, 0.07841749660155307, 0.08223457882186631, 0.08563454450668277, 0.0885675869997668, 0.09101613026084182, 0.09299027427779094, 0.09452354610929607, 0.09566890749063922, 0.09649485677018901, 0.09708143548703853, 0.09751597675010841, 0.09788850750193703, 0.09828684043774978, 0.09879155522538878, 0.09947124205543982, 0.10037850835237559, 0.10154726824985019, 0.10299170510924328, 0.10470703666362298, 0.05058034352282787, 0.044482129607811394, 0.038744123401948646, 0.033354552158674965, 0.028276995242934998, 0.023510852889455074, 0.019175417236528765, 0.015592214330929503, 0.013280592110557455, 0.012669387363054056, 0.013710784160229467, 0.016085033811944156, 0.019543460314902422, 0.0238343029267967, 0.028600046196249514, 0.03343686623047314, 0.03798770637853047, 0.041994273117330325, 0.04531554259454408, 0.047930155118068994, 0.04992988869887186, 0.05150363468875499, 0.052907753519248604, 0.05442011934328339, 0.056283002036182916, 0.058651098596176364, 0.06156501979927198, 0.06495934276967952, 0.0686959408406053, 0.07260404456797723, 0.07651287382592516, 0.08027208779386488, 0.08376168776487533, 0.08689497738139003, 0.0896177126499763, 0.091905475573443, 0.09376037600209326, 0.09520758210498129, 0.09629183320922095, 0.0970739051418165, 0.09762691289551777, 0.09803231730943744, 0.09837554353045853, 0.09874122026878529, 0.09920820407710691, 0.09984473384942372, 0.1007042116939562, 0.10182215728682331, 0.10321478256034715, 0.10487938601098658, 0.0531820567889522, 0.0471531556403356, 0.04141044271390864, 0.0359538816711985, 0.030779591924182084, 0.02593217513210514, 0.021567760216629886, 0.017997050041940126, 0.015636436270882834, 0.014788749785057754, 0.015450406423255843, 0.01746128061100852, 0.020672209085601027, 0.024855028456759097, 0.0296410599112305, 0.03460855564599795, 0.03938564682549275, 0.04370158391610234, 0.04740119933576942, 0.050442987948889816, 0.05288900138686264, 0.05488722144172062, 0.056644433482632754, 0.05838886984152194, 0.060326720617240745, 0.06260269580899924, 0.06527692788698124, 0.06832482464960475, 0.07165625075428614, 0.07514349666881706, 0.07864780805894414, 0.08203900240421597, 0.08520732787482718, 0.08806914107103299, 0.09056850529518021, 0.09267643020392538, 0.09438888792367435, 0.0957242448229284, 0.09672040244688089, 0.09743172153539052, 0.097925675238488, 0.09827912192532016, 0.09857410106060163, 0.09889314154616015, 0.0993142269386124, 0.09990575822027284, 0.10072203251590651, 0.10179983569355483, 0.10315666416107702, 0.1047908404903674, 0.05589538030152264, 0.04995800914179442, 0.04425674083659059, 0.03881225774827417, 0.03365897508701181, 0.02888701259056145, 0.02468119812400109, 0.02132321396835355, 0.019109960712150913, 0.018202715422888077, 0.01858382347389211, 0.020198984576901866, 0.023012571672521874, 0.026875191749156653, 0.03145832689144918, 0.03634911028120965, 0.04116773982020266, 0.04562867366091817, 0.049557970784912385, 0.05289053204025092, 0.055658353099145255, 0.057972414867635935, 0.059997858999271535, 0.06192266915190145, 0.06392300169632259, 0.0661318035554419, 0.06861856798871806, 0.07138502555771803, 0.07437561477321201, 0.0774966896374794, 0.08063735225671456, 0.08368695616301887, 0.08654734906485011, 0.08914009087670116, 0.09140982505493975, 0.0933250827243803, 0.09487753062728255, 0.09608032869511875, 0.09696596301316424, 0.0975836942740981, 0.09799660824895029, 0.09827817070765112, 0.09850818072087196, 0.09876809340732835, 0.09913584571730727, 0.09968053851547755, 0.10045753864905874, 0.10150467319961286, 0.10284011563199728, 0.10446229555997782, 0.05863293623840692, 0.05280364682635607, 0.04718085227820622, 0.04180935041351397, 0.03675950243370293, 0.03215650663930061, 0.02819529061095711, 0.025112593740068936, 0.023101115927153415, 0.02222305883086852, 0.0224415132637024, 0.023745126544438465, 0.026161864699511744, 0.029620827459047084, 0.03386694291639336, 0.0385296958782298, 0.04324023026522349, 0.04770523481096431, 0.051733423900876103, 0.05523630774316712, 0.058217238774139084, 0.06075392941897434, 0.0629757508796601, 0.065036750053741, 0.06708690502008058, 0.06924616613495915, 0.07158654616612573, 0.07412577229847406, 0.0768323854196107, 0.07963876319624, 0.08245716765760146, 0.08519472804238427, 0.08776512367825005, 0.0900964343453315, 0.0921356397798596, 0.09385061439179884, 0.09523043202374783, 0.09628459597354418, 0.09704157415121062, 0.09754680706210751, 0.09786019076832055, 0.0980529331732396, 0.09820365797512871, 0.09839370491082591, 0.09870175231631233, 0.09919813995446745, 0.09993952141545964, 0.10096461652149816, 0.10229176716292086, 0.10391870143192042, 0.061330114685737284, 0.05562168679450571, 0.05010615735930955, 0.04485140548538074, 0.03995643461455637, 0.035567379895001895, 0.03187258676302147, 0.029059378747568598, 0.02724185563367062, 0.02642284591627904, 0.026553759904512298, 0.02763532812533057, 0.0297175736891409, 0.03278046543092699, 0.03664216013959695, 0.04099271590004496, 0.045493330998819734, 0.04985536202965922, 0.053876895260455575, 0.05745000595511743, 0.060552880425067054, 0.06323413659914912, 0.06559231284642214, 0.06775221616495401, 0.06984037765777915, 0.07196294631890121, 0.0741897275083174, 0.07654697424432094, 0.07901921165675077, 0.08155797769788053, 0.08409407473504345, 0.08655008742594554, 0.08885101370700077, 0.09093210945301516, 0.09274396811158421, 0.09425532561321277, 0.09545419858760967, 0.09634787954295723, 0.09696214095884276, 0.0973398099457812, 0.09753870626161783, 0.09762881938723925, 0.09768856569609373, 0.09780004317617988, 0.09804340043193063, 0.0984907304613259, 0.09920020233973915, 0.100211324164921, 0.10154216653459504, 0.10318903364883614, 0.0639419263839976, 0.05836436797652311, 0.05297761739748948, 0.047868789664461606, 0.04315634982146268, 0.038994295450830815, 0.03555391038817791, 0.03297708458008604, 0.031323354131582486, 0.030562970684769666, 0.030642628768842675, 0.03156374838407675, 0.03337763398788308, 0.036089834736663, 0.03957482231758538, 0.043583386331853304, 0.04781738756982944, 0.05200446461729979, 0.055940958260087464, 0.05950589710771409, 0.06265742829786415, 0.06541983808582043, 0.06786541907302861, 0.0700936169860908, 0.07220969047465392, 0.07430553710387261, 0.07644543956823538, 0.07865870177640642, 0.080939556372131, 0.08325300504016885, 0.08554416844788887, 0.0877486056361835, 0.08980169251528838, 0.09164604635619157, 0.09323675419140022, 0.09454464014418817, 0.09555799967454769, 0.09628322126219, 0.09674459486946384, 0.09698343734018852, 0.09705649587954342, 0.09703346376023404, 0.0969933999950891, 0.0970199269717797, 0.09719530751773468, 0.0975938485702249, 0.09827544471968479, 0.09928030313701293, 0.10062582927591673, 0.10230625361531798, 0.0664390821741567, 0.06100000168301176, 0.055757131880738144, 0.050811620515732986, 0.04629239769078945, 0.042351212535134956, 0.03913739416720209, 0.036754956581518505, 0.03522779124073857, 0.0345105511583653, 0.03455039103052347, 0.035346640090942905, 0.036943984369212965, 0.03935743497169975, 0.04249898428008742, 0.04617030978034104, 0.05011547094406439, 0.05408572191175951, 0.05788380362013711, 0.061382783608347376, 0.06452670748439769, 0.06732065120054749, 0.06981507678099157, 0.07208749708357155, 0.07422378572060498, 0.0763014210629655, 0.07837682489097449, 0.08047830769658515, 0.0826049710753091, 0.08473064964368596, 0.08681110598780808, 0.08879248733947835, 0.09061942190451026, 0.09224177474123768, 0.09361970395738252, 0.09472709363167159, 0.09555365557863402, 0.09610602584924301, 0.09640809310590852, 0.09650064119362588, 0.0964402176531965, 0.0962970032769637, 0.09615140843318275, 0.09608921203861324, 0.09619532008147826, 0.09654662838490985, 0.0972049173263358, 0.09821099333106369, 0.09958123200907737, 0.10130720793196261, 0.06880430383935066, 0.06350894818241233, 0.0584194240411733, 0.05364543531534872, 0.04931866193376252, 0.04558168725052205, 0.042560752763550036, 0.04033010252407625, 0.038891853217861164, 0.03819582769231918, 0.03819350234800299, 0.03888274104928948, 0.04029978655757218, 0.04246022739871633, 0.045298524167040354, 0.048654742240543315, 0.05231098650099282, 0.0560449455563928, 0.0596717033834196, 0.0630648059507678, 0.06616008189875876, 0.06894846911078414, 0.07146277166238452, 0.0737616524411033, 0.07591328934425623, 0.07798077298233462, 0.08001101535260646, 0.0820283391987522, 0.08403300822774668, 0.08600399784856547, 0.08790463070079324, 0.08968950167532447, 0.0913113516868905, 0.09272702069962499, 0.09390210368906711, 0.09481430801539086, 0.09545571644763316, 0.09583420697472358, 0.09597420611394375, 0.09591680238629366, 0.09571906992961386, 0.09545230361605037, 0.09519880942450763, 0.09504699223309922, 0.09508478179003696, 0.09539191704899602, 0.09603214294016507, 0.09704673155018302, 0.0984506828051024, 0.10023240501258454, 0.07102933937837579, 0.06588054135337625, 0.060948943622143405, 0.05634777368423685, 0.05220547274471112, 0.04865129963222688, 0.04578946047866341, 0.04367171722781052, 0.04228818892293816, 0.04159065760973845, 0.04153767410434804, 0.04212726214529654, 0.04338782393097245, 0.045331085176244415, 0.04790345367864965, 0.050972102754591575, 0.054350837979135154, 0.05784346074835493, 0.061280980629269094, 0.06454253683687279, 0.06756093769818505, 0.07031759901128418, 0.07283141661331924, 0.07514490323493066, 0.07731001925623096, 0.07937560755011207, 0.08137790884802876, 0.08333505076346773, 0.08524565374771137, 0.08709095543076754, 0.08883934521928083, 0.0904520488789147, 0.09188887736215197, 0.09311331665512242, 0.09409662867835229, 0.09482094491285738, 0.09528151294790603, 0.09548829678836375, 0.09546705646628872, 0.09525987724597727, 0.09492492972955845, 0.09453507755940126, 0.0941748806992042, 0.09393564777714773, 0.09390852960045656, 0.0941762052142766, 0.09480434975662702, 0.09583451383764427, 0.09727999136633707, 0.09912559931081248, 0.0731128175552469, 0.06811102430329986, 0.06333785155023465, 0.058905879550850485, 0.054936112965601004, 0.05154249051708633, 0.048809356640402785, 0.04677199790471103, 0.0454151406156964, 0.04469653066020533, 0.0445833950815128, 0.045075372805182125, 0.04619430682184351, 0.04794614556329345, 0.050282556136120884, 0.05308919567470078, 0.05620536366500522, 0.05945913307258639, 0.06269920428678709, 0.06581397937066145, 0.0687374208052228, 0.07144528124092411, 0.07394568746626567, 0.07626722734678659, 0.07844685359179052, 0.08051932307021034, 0.08250938528491376, 0.08442736713778337, 0.08626816889554975, 0.08801311223796851, 0.08963371331148727, 0.09109636449592627, 0.0923670640227566, 0.09341562775019498, 0.09421913576322946, 0.09476462100028063, 0.09505115183596609, 0.09509148357368799, 0.09491336659859491, 0.09456042973721691, 0.09409234968867855, 0.09358383196111049, 0.09312184519326361, 0.09280066104542302, 0.0927146313256534, 0.0929492790646726, 0.09357203278521073, 0.09462446607877673, 0.09611785625613198, 0.09803311134607422, 0.07505886720157835, 0.07020234322690203, 0.06558489489846261, 0.06131533562780256, 0.05750468206993326, 0.05425115460416177, 0.05162187538805752, 0.04964032624036253, 0.04828998696887553, 0.04753643982643527, 0.04735595694448021, 0.047750509115364846, 0.048736536116042485, 0.05031369835767357, 0.052435174953721776, 0.05499936584425269, 0.05786619886452944, 0.06088591155917385, 0.06392556847751012, 0.06688526345620914, 0.06970318677574007, 0.07235237195881876, 0.07483257265720597, 0.07716011857194396, 0.07935783783821797, 0.08144651548885042, 0.08343882867926922, 0.0853361691312774, 0.08712823756382718, 0.08879486230867106, 0.09030924851553214, 0.09164183893866171, 0.0927641226084137, 0.09365198048434782, 0.09428842017006, 0.09466575849298033, 0.094787422025016, 0.09466953616644912, 0.09434236760636333, 0.09385149526830888, 0.09325835284077473, 0.09263957510913817, 0.09208447813011629, 0.09169011564213174, 0.09155377372117349, 0.0917634992864093, 0.09238813137608087, 0.0934689349485393, 0.09501489205595942, 0.09700282068258548, 0.07687630766277645, 0.07216153127752449, 0.06769485013905702, 0.06357926361121695, 0.059914642216277965, 0.05678420094693377, 0.054240554237109176, 0.05229882439664033, 0.050943482448315154, 0.05014812154526659, 0.04989720557754543, 0.050194802183603414, 0.05105264602645128, 0.052464368270726994, 0.05438308511983132, 0.05671679091209763, 0.05934294310170286, 0.06213232494893061, 0.06497056873096309, 0.06777097372116012, 0.07047802215519094, 0.07306403490530572, 0.07552199610592837, 0.07785704692833822, 0.0800784178755812, 0.08219294953499431, 0.08420083961639291, 0.0860937908055395, 0.08785532221251122, 0.08946270414875526, 0.09088983564619191, 0.09211041445493225, 0.09310090913712873, 0.09384306621980643, 0.09432590686667379, 0.094547336298797, 0.09451557143997653, 0.09425057030709326, 0.09378551947990851, 0.0931682217878847, 0.0924619658968681, 0.09174521953028578, 0.09110936430302768, 0.09065380207725225, 0.09047822046066041, 0.09067262588264315, 0.09130674615799632, 0.09242113209672556, 0.09402224318986069, 0.09608279461043565, 0.07857816859386536, 0.0740003811397547, 0.0696781902115217, 0.06570770814772452, 0.06217759175171757, 0.05915747124807327, 0.056688013948942344, 0.05477837512896771, 0.05341480175394245, 0.052577759125512574, 0.0522579874549683, 0.05246050661387477, 0.05319251515613095, 0.05444227446741641, 0.0561627955584817, 0.05827059887287437, 0.06065927910571749, 0.06321935023707567, 0.06585515928725368, 0.06849412697853445, 0.07108826312059911, 0.073610329895237, 0.07604739398914145, 0.07839390736312982, 0.08064569154473186, 0.08279558243367634, 0.08483103508822439, 0.08673362981193114, 0.08848014058671998, 0.09004464802104951, 0.09140112740371344, 0.0925260142130284, 0.0934004093602555, 0.09401178506081125, 0.09435524150821552, 0.0944345045502198, 0.09426291434751041, 0.09386461380372467, 0.09327599742968104, 0.09254724118565712, 0.09174344277926488, 0.09094463094594804, 0.09024375552653202, 0.08974188018620366, 0.0895402923264436, 0.08973014657626317, 0.09038136249694782, 0.09153331157696691, 0.09318977917360595, 0.0953195615016055, 0.08018130551563826, 0.07573513727039456, 0.07155068948053354, 0.06771691371207547, 0.0643119621866505, 0.06139368081273382, 0.058993066944917426, 0.05711484158214672, 0.055746765955855745, 0.05487412813507584, 0.05449127532094517, 0.05460236044508384, 0.05520977702587468, 0.056297249996624915, 0.057818615670113746, 0.059699316262791305, 0.06184904274803482, 0.06417801454916824, 0.06660957943610003, 0.06908584388463704, 0.07156696335031278, 0.07402660279926039, 0.07644613432345984, 0.07880934671985279, 0.08109857532654495, 0.08329254343789294, 0.08536584457084996, 0.08728978601417868, 0.08903418690137334, 0.0905696646550747, 0.09186996171348387, 0.09291395879697494, 0.09368717090530947, 0.09418269581097455, 0.09440174784800064, 0.0943540291766825, 0.09405823536981234, 0.09354293696016885, 0.09284791234627666, 0.09202574232019385, 0.0911431548006536, 0.09028130658221588, 0.08953401996754032, 0.08900310024134739, 0.08879038362113667, 0.08898713656426312, 0.08966262297141225, 0.0908545371752006, 0.09256393944769126, 0.09475610398389046, 0.08170592568261865, 0.07738601311813036, 0.07333278310855211, 0.06962833798110353, 0.06634151474100321, 0.06352029769752832, 0.06118794478788982, 0.0593456134535905, 0.05798164787439524, 0.05708362444383893, 0.056646484702286996, 0.0566713789668751, 0.057155377134952313, 0.058078531088881065, 0.059396906132854116, 0.061046076736790744, 0.06295262400694696, 0.06504699880168616, 0.0672719837030923, 0.06958473354354394, 0.07195375048768612, 0.07435357454139163, 0.07675966383989906, 0.0791448576584, 0.0814777861465134, 0.08372298107346154, 0.0858422241633963, 0.08779665856264048, 0.08954923573789282, 0.09106712214876063, 0.09232375521262233, 0.09330033336912702, 0.09398665239648653, 0.09438134588071946, 0.09449172840243567, 0.09433354559908876, 0.09393097199484066, 0.09331713433739212, 0.0925352582223301, 0.09164024853717213, 0.09070016414969512, 0.08979671715638235, 0.08902373881107771, 0.08848266182342812, 0.08827461828210423, 0.08848977596081017, 0.08919579368952052, 0.09042819589347312, 0.09218538666852319, 0.09442972447211102, 0.08317490888270307, 0.07897643000502762, 0.07504860796341854, 0.07146737269386515, 0.06829365771208891, 0.06556744064821082, 0.0633058102262273, 0.061506764595149026, 0.0601579765167292, 0.05924670920983839, 0.05876558088616273, 0.058710681890756775, 0.059073214907867544, 0.059830366752356735, 0.06094188704537875, 0.06235489860145047, 0.06401393326208116, 0.06587038375789188, 0.06788691703385961, 0.07003594787710773, 0.07229427207776826, 0.07463700445242304, 0.07703325622741601, 0.07944452696596241, 0.08182554442945271, 0.08412670181372427, 0.0862972262795023, 0.0882884490778966, 0.09005678440278155, 0.09156617422697588, 0.09278984336789811, 0.09371128307677115, 0.0943244736259982, 0.09463347095538374, 0.09465160342057682, 0.09440062203849763, 0.09391018275448, 0.09321797417662779, 0.0923706157935688, 0.09142514681322585, 0.09045055146652085, 0.08952841287746069, 0.08875158510252355, 0.08821988233997836, 0.08803235322750877, 0.08827676169812507, 0.08901817916877124, 0.09028951574187088, 0.09208671515316569, 0.09437000603595729, 0.08461288331892593, 0.08053196228521584, 0.07672474615325293, 0.07326183517537788, 0.07019768885941513, 0.06756594034069857, 0.06537874488002204, 0.06363106670683913, 0.0623086334978592, 0.0613960922180894, 0.06088130000879002, 0.06075365281168448, 0.060998121774832936, 0.06158974251376883, 0.062493145918269544, 0.06366813047058657, 0.06507798560154147, 0.06669553494207771, 0.06850357238382444, 0.0704897949223353, 0.07263909292706508, 0.07492678589334621, 0.07731523381335696, 0.07975433414959794, 0.08218491953893738, 0.08454354257482642, 0.08676738270831416, 0.08879853924259912, 0.09058740965796047, 0.09209508242530988, 0.09329475660581435, 0.09417223335614536, 0.09472557104693172, 0.09496407654107727, 0.09490690852034583, 0.09458166201663719, 0.09402334180237563, 0.09327407058520788, 0.09238368651808512, 0.09141106766108702, 0.09042562855113165, 0.08950806319997952, 0.08874919825662794, 0.08824593361713168, 0.0880938275471939, 0.08837694101377788, 0.08915682390613301, 0.0904634169142407, 0.0922905163301436, 0.09459713058512749, 0.08604508510587058, 0.08207904499755898, 0.07838875822786623, 0.07504034360744428, 0.07208308983724691, 0.06954569013415338, 0.06743632330111729, 0.06574693630881911, 0.06446026133935324, 0.06355659551484585, 0.06301734505395883, 0.06282423041229802, 0.06295594820994331, 0.0633860001953897, 0.06408466069623274, 0.06502491813152889, 0.0661889800281314, 0.06757100598410969, 0.06917369915722488, 0.07099976860298676, 0.0730419018547464, 0.07527534705434286, 0.0776555611008814, 0.08012092760856705, 0.08259877066798224, 0.085012449333161, 0.08728788588745251, 0.08935873543148626, 0.09117003704040885, 0.09268047588866812, 0.09386344267972863, 0.09470705332035613, 0.09521328606138002, 0.09539643929194923, 0.09528120048265137, 0.0949007086454516, 0.09429503785140873, 0.09351047511725899, 0.09259977671272018, 0.09162326438716886, 0.09065021964371356, 0.0897596539967813, 0.08903932097437155, 0.08858195450112674, 0.08847829827256475, 0.08880752489619495, 0.08962685685510018, 0.090963030161149, 0.09280809645795922, 0.09512080195544863, 0.08749608284956836, 0.08364354952369604, 0.08006762976023314, 0.0768307033371013, 0.07397798119367043, 0.07153434911277029, 0.06950476031699773, 0.06787819240937906, 0.06663371930054218, 0.06574627522906838, 0.06518999442615284, 0.06493868462160904, 0.06496510757598949, 0.06524177185193822, 0.06574487438749656, 0.06646035766114915, 0.06738864489350882, 0.06854430185102763, 0.06994904308659021, 0.07161989866804734, 0.07355695190531551, 0.07573530420257896, 0.07810378191539419, 0.0805898715066568, 0.08310829130672417, 0.08557027816457353, 0.08789158786235426, 0.08999840079865053, 0.09183114441893891, 0.09334657360099118, 0.09451846592115477, 0.09533720139357058, 0.09580843612076034, 0.09595109091893027, 0.09579494844923327, 0.09537824404824011, 0.0947456888222506, 0.09394731948598489, 0.09303838684379467, 0.09208017308411683, 0.09114122177313487, 0.09029808299977218, 0.08963446809974716, 0.0892378317785095, 0.08919296714545147, 0.08957318358790677, 0.09043076303215312, 0.09178913544852682, 0.09363906032227129, 0.09593994588081523, 0.08898848156590959, 0.0852493583075304, 0.08178626636251755, 0.07865842186287021, 0.07590780967934443, 0.07355639039881486, 0.0716065105765482, 0.07004435455648109, 0.06884514017678742, 0.06797817437832943, 0.06741034685993569, 0.06710802138822607, 0.06703873194931335, 0.06717448429707897, 0.06749724280964994, 0.06800494473319633, 0.06871463147414535, 0.0696594147120031, 0.0708783158140509, 0.07240146940381069, 0.0742358110543923, 0.07635645965835006, 0.07870639795336853, 0.0812034582001862, 0.08375124266794232, 0.08625039121402034, 0.08860787663839771, 0.0907435245635596, 0.09259394400932976, 0.09411441271327238, 0.09527923121219034, 0.09608090925982395, 0.09652843618566094, 0.09664486615990076, 0.09646450770389359, 0.09603009800132316, 0.09539040394923178, 0.09459865910573896, 0.0937120733240287, 0.09279233713751896, 0.09190664170608474, 0.09112836010127034, 0.09053633603551796, 0.09021185102654537, 0.09023288324921122, 0.09066618387934001, 0.09155871186722049, 0.0929306197875787, 0.09477183228207592, 0.0970432361053649, 0.09054173093805376, 0.08691707250381482, 0.08356616349766742, 0.08054544772049035, 0.07789430321730842, 0.07563243947817613, 0.07376014475923545, 0.07226116102815519, 0.07110711111754878, 0.07026208226429465, 0.06968646652370865, 0.0693402278433871, 0.06918667414561448, 0.06919776786585562, 0.06936075351426124, 0.06968402070139214, 0.0701988606986702, 0.07095421044957392, 0.07200389463292889, 0.07338937704854376, 0.0751237182362578, 0.07718243141501203, 0.07950394613687946, 0.08199830250093126, 0.08456004826760129, 0.08708117943867877, 0.08946152927510428, 0.09161580487446508, 0.09347760563678496, 0.09500114041199073, 0.09616129150907805, 0.09695246955693551, 0.09738654639201466, 0.09749010362678742, 0.09730127918627081, 0.09686658344933069, 0.09623812437953724, 0.0954716592867555, 0.09462573110082262, 0.09376184468206805, 0.09294524968033922, 0.09224553430309296, 0.09173604537145003, 0.09149127170632938, 0.09158183251085654, 0.09206753738403896, 0.09298987793395831, 0.09436586922174105, 0.09618502283885215, 0.098410359316715, 0.0921711523210603, 0.08866296913130696, 0.0854243537156394, 0.0825092009229771, 0.07995470298068301, 0.07777883186967088, 0.0759803347181336, 0.07454103418474459, 0.07342960447185592, 0.07260584367116076, 0.07202491869493215, 0.07164183284359392, 0.07141685846024953, 0.0713223485354592, 0.07135012462695295, 0.07151710000126033, 0.07186590642273503, 0.07245793645961168, 0.07335866575865142, 0.07461861857897431, 0.07625605229131158, 0.07824738550276313, 0.08052817748726286, 0.08300303975595053, 0.08555999380882533, 0.08808469056182724, 0.0904716702509804, 0.09263183949825599, 0.09449659467307937, 0.09601943259644533, 0.09717580001951309, 0.09796169196393618, 0.09839131791793682, 0.09849408098435043, 0.09831114613124035, 0.09789195895616624, 0.0972911477565169, 0.09656622952702479, 0.09577639452980281, 0.09498235826590999, 0.09424689883331311, 0.09363535330268527, 0.09321516912322367, 0.0930537196571604, 0.0932140502648715, 0.09374895039115054, 0.09469451782516822, 0.09606485368772352, 0.09784941397703954, 0.10001382024807505, 0.09388727044322547, 0.09049829125988584, 0.08737269989565621, 0.08456193399660268, 0.0821012682601961, 0.0800073327237194, 0.07827783433726516, 0.07689333008086703, 0.07582046056446223, 0.07501600366195577, 0.0744314835447976, 0.07401858537599681, 0.07373580938034412, 0.07355629857769504, 0.07347563755449806, 0.07351715393724464, 0.07373164694206082, 0.07418924777945539, 0.07496354480842592, 0.07611152241701892, 0.07765553024179203, 0.07957343285938202, 0.08179980787272646, 0.08423649529226473, 0.08676780460496367, 0.08927555662270868, 0.09165097171669062, 0.09380252152575128, 0.09566019722310622, 0.09717709841257063, 0.09832916039766361, 0.09911358057703419, 0.09954629254250479, 0.09965874371817522, 0.09949425016396508, 0.09910428079761045, 0.09854509495037787, 0.0978751522125673, 0.09715358135144951, 0.09643972858102978, 0.09579345712345344, 0.09527554674408463, 0.0949473752471208, 0.09486916361922049, 0.0950964704689204, 0.09567525309031985, 0.09663646763768254, 0.09799157886828527, 0.09973026597099868, 0.10182103026902338, 0.09569549559240464, 0.09242891219570232, 0.08941756375001558, 0.08671043492042425, 0.08434104424498859, 0.08232498928478282, 0.08065941628510796, 0.07932433592821009, 0.07828540589344711, 0.07749780442406444, 0.07691110152147061, 0.07647533518157325, 0.07614846255936862, 0.07590476468653913, 0.07574274699458836, 0.07569004532097377, 0.07580246330149323, 0.07615513514550071, 0.07682615557352648, 0.07787626094625245, 0.07933067768980805, 0.08116918443661285, 0.08332725266203085, 0.08570664571950369, 0.08819083674023652, 0.09066038885165946, 0.09300521249999268, 0.09513272169271253, 0.0969722911401631, 0.09847691506559013, 0.09962291119982811, 0.10040826426829076, 0.10084998471856535, 0.10098075336223561, 0.10084512795908367, 0.10049565742161953, 0.09998931776952188, 0.09938468333497433, 0.0987401273974482, 0.09811310061488106, 0.09756021249546312, 0.0971375408825336, 0.09690043777119257, 0.0969021827235717, 0.09719118355025576, 0.09780696235633579, 0.09877571635707647, 0.10010657878802966, 0.10178965119348889, 0.1037964248594246];\n",
       "const xvar = \"epochs\";\n",
       "const yvar = \"decay\";\n",
       "const x_is_log = false;\n",
       "const y_is_log = true;\n",
       "\n",
       "const GREEN_SCALE = [[247, 252, 253], [229, 245, 249], [204, 236, 230], [153, 216, 201], [102, 194, 164], [65, 174, 118], [35, 139, 69], [0, 109, 44], [0, 68, 27]];\n",
       "const GREEN_PINK_SCALE = [[142, 1, 82], [197, 27, 125], [222, 119, 174], [241, 182, 218], [253, 224, 239], [247, 247, 247], [230, 245, 208], [184, 225, 134], [127, 188, 65], [77, 146, 33], [39, 100, 25]];\n",
       "const BLUE_SCALE = [[255, 247, 251], [236, 231, 242], [208, 209, 230], [166, 189, 219], [116, 169, 207], [54, 144, 192], [5, 112, 176], [3, 78, 123]];\n",
       "\n",
       "// format data\n",
       "const res = relativize_data(f, sd, rel, arm_data, metric);\n",
       "const f_final = res[0];\n",
       "const sd_final = res[1];\n",
       "\n",
       "// calculate max of abs(outcome), used for colorscale\n",
       "const f_absmax = Math.max(Math.abs(Math.min(...f_final)), Math.max(...f_final));\n",
       "\n",
       "// transform to nested array\n",
       "var f_plt = [];\n",
       "while(f_final.length) f_plt.push(f_final.splice(0, density));\n",
       "var sd_plt = [];\n",
       "while(sd_final.length) sd_plt.push(sd_final.splice(0, density));\n",
       "\n",
       "// create traces\n",
       "const CONTOUR_CONFIG = {\n",
       "  autocolorscale: false,\n",
       "  autocontour: true,\n",
       "  contours: {\n",
       "    coloring: 'heatmap',\n",
       "  },\n",
       "  hoverinfo: 'x+y+z',\n",
       "  ncontours: density / 2,\n",
       "  type: 'contour',\n",
       "  x: grid_x,\n",
       "  y: grid_y,\n",
       "};\n",
       "\n",
       "let f_scale;\n",
       "if (rel === true) {\n",
       "  f_scale = lower_is_better === true\n",
       "    ? GREEN_PINK_SCALE.reverse()\n",
       "    : GREEN_PINK_SCALE;\n",
       "} else {\n",
       "  f_scale = GREEN_SCALE;\n",
       "}\n",
       "\n",
       "const f_trace = {\n",
       "  colorbar: {\n",
       "    x: 0.45,\n",
       "    y: 0.5,\n",
       "    ticksuffix: rel === true ? '%' : '',\n",
       "    tickfont: {\n",
       "      size: 8,\n",
       "    },\n",
       "  },\n",
       "  colorscale: f_scale.map(\n",
       "    (v, i) => [i / (f_scale.length - 1), rgb(v)]\n",
       "  ),\n",
       "  xaxis: 'x',\n",
       "  yaxis: 'y',\n",
       "  z: f_plt,\n",
       "  // zmax and zmin are ignored if zauto is true\n",
       "  zauto: !rel,\n",
       "  zmax: f_absmax,\n",
       "  zmin: -f_absmax,\n",
       "};\n",
       "\n",
       "const sd_trace = {\n",
       "  colorbar: {\n",
       "      x: 1,\n",
       "      y: 0.5,\n",
       "      ticksuffix: rel === true ? '%' : '',\n",
       "      tickfont: {\n",
       "        size: 8,\n",
       "      },\n",
       "  },\n",
       "  colorscale: BLUE_SCALE.map(\n",
       "    (v, i) => [i / (BLUE_SCALE.length - 1), rgb(v)]\n",
       "  ),\n",
       "  xaxis: 'x2',\n",
       "  yaxis: 'y2',\n",
       "  z: sd_plt,\n",
       "};\n",
       "\n",
       "Object.keys(CONTOUR_CONFIG).forEach(key => {\n",
       "  f_trace[key] = CONTOUR_CONFIG[key];\n",
       "  sd_trace[key] = CONTOUR_CONFIG[key];\n",
       "});\n",
       "\n",
       "// get in-sample arms\n",
       "const arm_x = [];\n",
       "const arm_y = [];\n",
       "const arm_text = [];\n",
       "\n",
       "Object.keys(arm_data['in_sample']).forEach(arm_name => {\n",
       "  arm_x.push(arm_data['in_sample'][arm_name]['parameters'][xvar]);\n",
       "  arm_y.push(arm_data['in_sample'][arm_name]['parameters'][yvar]);\n",
       "  arm_text.push(arm_name);\n",
       "});\n",
       "\n",
       "// configs for in-sample arms\n",
       "const base_in_sample_arm_config = {\n",
       "  hoverinfo: 'text',\n",
       "  legendgroup: 'In-sample',\n",
       "  marker: {color: 'black', symbol: 1, opacity: 0.5},\n",
       "  mode: 'markers',\n",
       "  name: 'In-sample',\n",
       "  text: arm_text,\n",
       "  type: 'scatter',\n",
       "  x: arm_x,\n",
       "  y: arm_y,\n",
       "};\n",
       "\n",
       "const f_in_sample_arm_trace = {\n",
       "  xaxis: 'x',\n",
       "  yaxis: 'y',\n",
       "};\n",
       "\n",
       "const sd_in_sample_arm_trace = {\n",
       "  showlegend: false,\n",
       "  xaxis: 'x2',\n",
       "  yaxis: 'y2',\n",
       "};\n",
       "\n",
       "Object.keys(base_in_sample_arm_config).forEach(key => {\n",
       "  f_in_sample_arm_trace[key] = base_in_sample_arm_config[key];\n",
       "  sd_in_sample_arm_trace[key] = base_in_sample_arm_config[key];\n",
       "});\n",
       "\n",
       "const traces = [\n",
       "  f_trace,\n",
       "  sd_trace,\n",
       "  f_in_sample_arm_trace,\n",
       "  sd_in_sample_arm_trace,\n",
       "];\n",
       "\n",
       "// start symbol at 2 for candidate markers\n",
       "let i = 2;\n",
       "\n",
       "// iterate over out-of-sample arms\n",
       "Object.keys(arm_data['out_of_sample']).forEach(generator_run_name => {\n",
       "  const ax = [];\n",
       "  const ay = [];\n",
       "  const atext = [];\n",
       "\n",
       "  Object.keys(arm_data['out_of_sample'][generator_run_name]).forEach(arm_name => {\n",
       "    ax.push(\n",
       "      arm_data['out_of_sample'][generator_run_name][arm_name]['parameters'][xvar]\n",
       "    );\n",
       "    ay.push(\n",
       "      arm_data['out_of_sample'][generator_run_name][arm_name]['parameters'][yvar]\n",
       "    );\n",
       "    atext.push('<em>Candidate ' + arm_name + '</em>');\n",
       "  });\n",
       "\n",
       "  traces.push({\n",
       "    hoverinfo: 'text',\n",
       "    legendgroup: generator_run_name,\n",
       "    marker: {color: 'black', symbol: i, opacity: 0.5},\n",
       "    mode: 'markers',\n",
       "    name: generator_run_name,\n",
       "    text: atext,\n",
       "    type: 'scatter',\n",
       "    xaxis: 'x',\n",
       "    x: ax,\n",
       "    yaxis: 'y',\n",
       "    y: ay,\n",
       "  });\n",
       "  traces.push({\n",
       "    hoverinfo: 'text',\n",
       "    legendgroup: generator_run_name,\n",
       "    marker: {color: 'black', symbol: i, opacity: 0.5},\n",
       "    mode: 'markers',\n",
       "    name: 'In-sample',\n",
       "    showlegend: false,\n",
       "    text: atext,\n",
       "    type: 'scatter',\n",
       "    x: ax,\n",
       "    xaxis: 'x2',\n",
       "    y: ay,\n",
       "    yaxis: 'y2',\n",
       "  });\n",
       "  i += 1;\n",
       "});\n",
       "\n",
       "// layout\n",
       "const xrange = axis_range(grid_x, x_is_log);\n",
       "const yrange = axis_range(grid_y, y_is_log);\n",
       "\n",
       "const xtype = x_is_log ? 'log' : 'linear';\n",
       "const ytype = y_is_log ? 'log' : 'linear';\n",
       "\n",
       "const layout = {\n",
       "  autosize: false,\n",
       "    margin: {\n",
       "      l: 35,\n",
       "      r: 35,\n",
       "      t: 35,\n",
       "      b: 100,\n",
       "      pad: 0,\n",
       "  },\n",
       "  annotations: [\n",
       "    {\n",
       "      font: {size: 14},\n",
       "      showarrow: false,\n",
       "      text: 'Mean',\n",
       "      x: 0.25,\n",
       "      xanchor: 'center',\n",
       "      xref: 'paper',\n",
       "      y: 1,\n",
       "      yanchor: 'bottom',\n",
       "      yref: 'paper',\n",
       "    },\n",
       "    {\n",
       "      font: {size: 14},\n",
       "      showarrow: false,\n",
       "      text: 'Standard Error',\n",
       "      x: 0.8,\n",
       "      xanchor: 'center',\n",
       "      xref: 'paper',\n",
       "      y: 1,\n",
       "      yanchor: 'bottom',\n",
       "      yref: 'paper',\n",
       "    },\n",
       "  ],\n",
       "  hovermode: 'closest',\n",
       "  legend: {orientation: 'h', x: 0, y: -0.25},\n",
       "  height: 450,\n",
       "  width: 950,\n",
       "  xaxis: {\n",
       "    anchor: 'y',\n",
       "    autorange: false,\n",
       "    domain: [0.05, 0.45],\n",
       "    exponentformat: 'e',\n",
       "    range: xrange,\n",
       "    tickfont: {size: 11},\n",
       "    tickmode: 'auto',\n",
       "    title: xvar,\n",
       "    type: xtype,\n",
       "  },\n",
       "  xaxis2: {\n",
       "    anchor: 'y2',\n",
       "    autorange: false,\n",
       "    domain: [0.60, 1],\n",
       "    exponentformat: 'e',\n",
       "    range: xrange,\n",
       "    tickfont: {size: 11},\n",
       "    tickmode: 'auto',\n",
       "    title: xvar,\n",
       "    type: xtype,\n",
       "  },\n",
       "  yaxis: {\n",
       "    anchor: 'x',\n",
       "    autorange: false,\n",
       "    domain: [0, 1],\n",
       "    exponentformat: 'e',\n",
       "    range: yrange,\n",
       "    tickfont: {size: 11},\n",
       "    tickmode: 'auto',\n",
       "    title: yvar,\n",
       "    type: ytype,\n",
       "  },\n",
       "  yaxis2: {\n",
       "    anchor: 'x2',\n",
       "    autorange: false,\n",
       "    domain: [0, 1],\n",
       "    exponentformat: 'e',\n",
       "    range: yrange,\n",
       "    tickfont: {size: 11},\n",
       "    tickmode: 'auto',\n",
       "    type: ytype,\n",
       "  },\n",
       "};\n",
       "\n",
       "Plotly.newPlot(\"18523a0c65eb4875b73ca6a7d8162f0d\", traces, layout, {showLink: false});\n",
       "});</script>"
      ]
     },
     "metadata": {},
     "output_type": "display_data"
    }
   ],
   "source": [
    "render(plot_contour(model=gpei, param_x='epochs', param_y='decay', metric_name='log_eval'))"
   ]
  },
  {
   "cell_type": "code",
   "execution_count": 24,
   "metadata": {
    "pycharm": {
     "name": "#%%\n"
    },
    "scrolled": false
   },
   "outputs": [
    {
     "data": {
      "text/html": [
       "<div id=\"e2b7ad2678cd4f948d2164b12d4f47f4\" style=\"width: 100%;\" class=\"plotly-graph-div\"></div><script type='text/javascript'>/*\n",
       " * Copyright (c) Facebook, Inc. and its affiliates. All Rights Reserved.\n",
       " */\n",
       "\n",
       "require(['plotly'], function(Plotly) {\n",
       "  window.PLOTLYENV = window.PLOTLYENV || {};\n",
       "  window.PLOTLYENV.BASE_URL = 'https://plot.ly';\n",
       "  /*\n",
       " * Copyright (c) Facebook, Inc. and its affiliates. All Rights Reserved.\n",
       " */\n",
       "\n",
       "const arm_data = {\"metrics\": [\"log_eval\"], \"in_sample\": {\"10_0\": {\"name\": \"10_0\", \"parameters\": {\"lr\": 0.04978427747990496, \"decay\": 0.003527565121958421, \"epochs\": 47}, \"y\": {\"log_eval\": 3.112263631209449}, \"y_hat\": {\"log_eval\": 3.114052542426581}, \"se\": {\"log_eval\": 0.01238418875800926}, \"se_hat\": {\"log_eval\": 0.012333336529813459}, \"context_stratum\": null}, \"11_0\": {\"name\": \"11_0\", \"parameters\": {\"lr\": 0.006247040048381291, \"decay\": 0.0001438024293565146, \"epochs\": 25}, \"y\": {\"log_eval\": 3.4241942668232896}, \"y_hat\": {\"log_eval\": 3.421785508764442}, \"se\": {\"log_eval\": 0.01374483715894778}, \"se_hat\": {\"log_eval\": 0.013228352665373973}, \"context_stratum\": null}, \"12_0\": {\"name\": \"12_0\", \"parameters\": {\"lr\": 0.00014838731399692169, \"decay\": 0.0014697324908619514, \"epochs\": 22}, \"y\": {\"log_eval\": 3.415520117203138}, \"y_hat\": {\"log_eval\": 3.4154054618001344}, \"se\": {\"log_eval\": 0.011276006439341265}, \"se_hat\": {\"log_eval\": 0.011208439049154268}, \"context_stratum\": null}, \"13_0\": {\"name\": \"13_0\", \"parameters\": {\"lr\": 0.0005519527802397052, \"decay\": 0.00010246759190872975, \"epochs\": 41}, \"y\": {\"log_eval\": 3.546131034009097}, \"y_hat\": {\"log_eval\": 3.5467401809527708}, \"se\": {\"log_eval\": 0.012589028883241746}, \"se_hat\": {\"log_eval\": 0.012370755528961311}, \"context_stratum\": null}, \"14_0\": {\"name\": \"14_0\", \"parameters\": {\"lr\": 0.010504083634447867, \"decay\": 0.00043748352890575796, \"epochs\": 12}, \"y\": {\"log_eval\": 3.634057109613882}, \"y_hat\": {\"log_eval\": 3.6266019274350696}, \"se\": {\"log_eval\": 0.013357370606483029}, \"se_hat\": {\"log_eval\": 0.012263504168286279}, \"context_stratum\": null}, \"15_0\": {\"name\": \"15_0\", \"parameters\": {\"lr\": 0.07475959993275257, \"decay\": 4.4930071267683065e-05, \"epochs\": 16}, \"y\": {\"log_eval\": 3.3610420926516205}, \"y_hat\": {\"log_eval\": 3.3612515676277255}, \"se\": {\"log_eval\": 0.013348588353470204}, \"se_hat\": {\"log_eval\": 0.013234709567014072}, \"context_stratum\": null}, \"16_0\": {\"name\": \"16_0\", \"parameters\": {\"lr\": 0.0028143370815851038, \"decay\": 0.006083735575886048, \"epochs\": 37}, \"y\": {\"log_eval\": 3.528262642158446}, \"y_hat\": {\"log_eval\": 3.5278215398643207}, \"se\": {\"log_eval\": 0.012156142965591931}, \"se_hat\": {\"log_eval\": 0.012030366909057136}, \"context_stratum\": null}, \"17_0\": {\"name\": \"17_0\", \"parameters\": {\"lr\": 0.0031722460970575166, \"decay\": 5.153458431222948e-05, \"epochs\": 48}, \"y\": {\"log_eval\": 3.35745258138615}, \"y_hat\": {\"log_eval\": 3.358951260569798}, \"se\": {\"log_eval\": 0.012186919913023975}, \"se_hat\": {\"log_eval\": 0.012088815826541945}, \"context_stratum\": null}, \"18_0\": {\"name\": \"18_0\", \"parameters\": {\"lr\": 0.061217137158285154, \"decay\": 0.005093566161426102, \"epochs\": 2}, \"y\": {\"log_eval\": 3.168146034596125}, \"y_hat\": {\"log_eval\": 3.1708864060537443}, \"se\": {\"log_eval\": 0.011724834444400638}, \"se_hat\": {\"log_eval\": 0.011636760356815122}, \"context_stratum\": null}, \"19_0\": {\"name\": \"19_0\", \"parameters\": {\"lr\": 0.012302214003413503, \"decay\": 0.0001241083471404148, \"epochs\": 24}, \"y\": {\"log_eval\": 3.310859376580618}, \"y_hat\": {\"log_eval\": 3.3156705007065432}, \"se\": {\"log_eval\": 0.013013713238650986}, \"se_hat\": {\"log_eval\": 0.012627976507614408}, \"context_stratum\": null}, \"20_0\": {\"name\": \"20_0\", \"parameters\": {\"lr\": 0.00045671365891730595, \"decay\": 0.0003864138666601675, \"epochs\": 27}, \"y\": {\"log_eval\": 3.493354500212299}, \"y_hat\": {\"log_eval\": 3.4941038776986613}, \"se\": {\"log_eval\": 0.011985410991012154}, \"se_hat\": {\"log_eval\": 0.011842025112949567}, \"context_stratum\": null}, \"21_0\": {\"name\": \"21_0\", \"parameters\": {\"lr\": 0.00011818864786637608, \"decay\": 0.00017291991110745218, \"epochs\": 11}, \"y\": {\"log_eval\": 3.4129530698338524}, \"y_hat\": {\"log_eval\": 3.4126835751538476}, \"se\": {\"log_eval\": 0.010893951393214646}, \"se_hat\": {\"log_eval\": 0.010845374849696844}, \"context_stratum\": null}, \"22_0\": {\"name\": \"22_0\", \"parameters\": {\"lr\": 0.0042958675936845365, \"decay\": 0.0010471843418864235, \"epochs\": 10}, \"y\": {\"log_eval\": 3.6777936772323065}, \"y_hat\": {\"log_eval\": 3.6528422645538745}, \"se\": {\"log_eval\": 0.01295640227218043}, \"se_hat\": {\"log_eval\": 0.00944134535527963}, \"context_stratum\": null}, \"23_0\": {\"name\": \"23_0\", \"parameters\": {\"lr\": 0.008370803588215753, \"decay\": 0.00022333890726881868, \"epochs\": 2}, \"y\": {\"log_eval\": 3.519143836350856}, \"y_hat\": {\"log_eval\": 3.521584278609035}, \"se\": {\"log_eval\": 0.01184426378037716}, \"se_hat\": {\"log_eval\": 0.011644284122676603}, \"context_stratum\": null}, \"24_0\": {\"name\": \"24_0\", \"parameters\": {\"lr\": 0.003423667093075686, \"decay\": 0.0013399111889739398, \"epochs\": 15}, \"y\": {\"log_eval\": 3.650251177315237}, \"y_hat\": {\"log_eval\": 3.6431589437205516}, \"se\": {\"log_eval\": 0.01230955863293442}, \"se_hat\": {\"log_eval\": 0.011011913946384469}, \"context_stratum\": null}, \"25_0\": {\"name\": \"25_0\", \"parameters\": {\"lr\": 0.0006869113033726057, \"decay\": 0.0018229361036326858, \"epochs\": 45}, \"y\": {\"log_eval\": 3.59844643260302}, \"y_hat\": {\"log_eval\": 3.5983592923059278}, \"se\": {\"log_eval\": 0.013030680531584954}, \"se_hat\": {\"log_eval\": 0.012355242402042953}, \"context_stratum\": null}, \"26_0\": {\"name\": \"26_0\", \"parameters\": {\"lr\": 0.00558261633492821, \"decay\": 0.0020691025936057034, \"epochs\": 12}, \"y\": {\"log_eval\": 3.5940986162758946}, \"y_hat\": {\"log_eval\": 3.603189753125716}, \"se\": {\"log_eval\": 0.01444843098271689}, \"se_hat\": {\"log_eval\": 0.012787919264242121}, \"context_stratum\": null}, \"27_0\": {\"name\": \"27_0\", \"parameters\": {\"lr\": 0.0038535517531817546, \"decay\": 0.00039530815909391445, \"epochs\": 11}, \"y\": {\"log_eval\": 3.604072959202277}, \"y_hat\": {\"log_eval\": 3.6077179059964095}, \"se\": {\"log_eval\": 0.012192131345327805}, \"se_hat\": {\"log_eval\": 0.011606140997104034}, \"context_stratum\": null}, \"28_0\": {\"name\": \"28_0\", \"parameters\": {\"lr\": 0.001831685554727031, \"decay\": 0.0062428424383467575, \"epochs\": 21}, \"y\": {\"log_eval\": 3.6121852565395094}, \"y_hat\": {\"log_eval\": 3.6141663472253427}, \"se\": {\"log_eval\": 0.012255683030681006}, \"se_hat\": {\"log_eval\": 0.011532699243793382}, \"context_stratum\": null}, \"29_0\": {\"name\": \"29_0\", \"parameters\": {\"lr\": 0.0013184302548125534, \"decay\": 0.0008283421858509831, \"epochs\": 37}, \"y\": {\"log_eval\": 3.6172050138356378}, \"y_hat\": {\"log_eval\": 3.6190250824743524}, \"se\": {\"log_eval\": 0.012981913317247438}, \"se_hat\": {\"log_eval\": 0.012386771755470169}, \"context_stratum\": null}, \"2_0\": {\"name\": \"2_0\", \"parameters\": {\"lr\": 0.08222266530738154, \"decay\": 0.000787696268305935, \"epochs\": 28}, \"y\": {\"log_eval\": 3.1768169773773316}, \"y_hat\": {\"log_eval\": 3.1759294798904616}, \"se\": {\"log_eval\": 0.012540239147262752}, \"se_hat\": {\"log_eval\": 0.012406686898506932}, \"context_stratum\": null}, \"30_0\": {\"name\": \"30_0\", \"parameters\": {\"lr\": 0.0005830066799163658, \"decay\": 0.0004613016523184007, \"epochs\": 49}, \"y\": {\"log_eval\": 3.598738157827219}, \"y_hat\": {\"log_eval\": 3.5981352364618955}, \"se\": {\"log_eval\": 0.011232449462836053}, \"se_hat\": {\"log_eval\": 0.010826821341997778}, \"context_stratum\": null}, \"31_0\": {\"name\": \"31_0\", \"parameters\": {\"lr\": 0.0023223184893015874, \"decay\": 0.0016108860028932247, \"epochs\": 9}, \"y\": {\"log_eval\": 3.558727045155133}, \"y_hat\": {\"log_eval\": 3.5645356723793453}, \"se\": {\"log_eval\": 0.011648132219884741}, \"se_hat\": {\"log_eval\": 0.011227946938375921}, \"context_stratum\": null}, \"32_0\": {\"name\": \"32_0\", \"parameters\": {\"lr\": 0.005391083307693113, \"decay\": 0.0008003947035889143, \"epochs\": 12}, \"y\": {\"log_eval\": 3.625094942527766}, \"y_hat\": {\"log_eval\": 3.6418783680275415}, \"se\": {\"log_eval\": 0.012355384811992873}, \"se_hat\": {\"log_eval\": 0.009696772021200095}, \"context_stratum\": null}, \"33_0\": {\"name\": \"33_0\", \"parameters\": {\"lr\": 0.003103488748160297, \"decay\": 0.0035133869602214274, \"epochs\": 22}, \"y\": {\"log_eval\": 3.6417610419944224}, \"y_hat\": {\"log_eval\": 3.6361885761752606}, \"se\": {\"log_eval\": 0.01453414594385548}, \"se_hat\": {\"log_eval\": 0.012918848890534218}, \"context_stratum\": null}, \"34_0\": {\"name\": \"34_0\", \"parameters\": {\"lr\": 0.0012152946378868432, \"decay\": 0.0011010052894948998, \"epochs\": 50}, \"y\": {\"log_eval\": 3.66830531482307}, \"y_hat\": {\"log_eval\": 3.6579242421509246}, \"se\": {\"log_eval\": 0.012908655061946196}, \"se_hat\": {\"log_eval\": 0.009066252526822832}, \"context_stratum\": null}, \"35_0\": {\"name\": \"35_0\", \"parameters\": {\"lr\": 0.0030470682447321057, \"decay\": 0.01, \"epochs\": 17}, \"y\": {\"log_eval\": 3.6951204858036406}, \"y_hat\": {\"log_eval\": 3.6631363938141344}, \"se\": {\"log_eval\": 0.014234781723022609}, \"se_hat\": {\"log_eval\": 0.010346484703827477}, \"context_stratum\": null}, \"36_0\": {\"name\": \"36_0\", \"parameters\": {\"lr\": 0.003323542918335707, \"decay\": 0.01, \"epochs\": 12}, \"y\": {\"log_eval\": 3.568384031262799}, \"y_hat\": {\"log_eval\": 3.574885834540357}, \"se\": {\"log_eval\": 0.012652860815973097}, \"se_hat\": {\"log_eval\": 0.012067755980426401}, \"context_stratum\": null}, \"37_0\": {\"name\": \"37_0\", \"parameters\": {\"lr\": 0.0029671541634396707, \"decay\": 0.00999999999999998, \"epochs\": 20}, \"y\": {\"log_eval\": 3.6469180672367254}, \"y_hat\": {\"log_eval\": 3.6575289308946104}, \"se\": {\"log_eval\": 0.01320344109262514}, \"se_hat\": {\"log_eval\": 0.010818406139472317}, \"context_stratum\": null}, \"38_0\": {\"name\": \"38_0\", \"parameters\": {\"lr\": 0.0028992131921908664, \"decay\": 0.00484521577137573, \"epochs\": 17}, \"y\": {\"log_eval\": 3.63075385857155}, \"y_hat\": {\"log_eval\": 3.6404219262262028}, \"se\": {\"log_eval\": 0.012528627303692476}, \"se_hat\": {\"log_eval\": 0.010746833777664177}, \"context_stratum\": null}, \"39_0\": {\"name\": \"39_0\", \"parameters\": {\"lr\": 0.0015930102849367376, \"decay\": 0.0012974881820559708, \"epochs\": 46}, \"y\": {\"log_eval\": 3.6242475806636123}, \"y_hat\": {\"log_eval\": 3.6272666960101385}, \"se\": {\"log_eval\": 0.013080994682006861}, \"se_hat\": {\"log_eval\": 0.01186544224115143}, \"context_stratum\": null}, \"3_0\": {\"name\": \"3_0\", \"parameters\": {\"lr\": 0.017995068324623793, \"decay\": 2.0432724797792104e-05, \"epochs\": 44}, \"y\": {\"log_eval\": 3.234652466339278}, \"y_hat\": {\"log_eval\": 3.2347342504666186}, \"se\": {\"log_eval\": 0.012151735262042189}, \"se_hat\": {\"log_eval\": 0.012092348961876092}, \"context_stratum\": null}, \"40_0\": {\"name\": \"40_0\", \"parameters\": {\"lr\": 0.0011762941184528637, \"decay\": 0.0005560489900774055, \"epochs\": 50}, \"y\": {\"log_eval\": 3.6316520235246337}, \"y_hat\": {\"log_eval\": 3.6332990397095823}, \"se\": {\"log_eval\": 0.013452239322245547}, \"se_hat\": {\"log_eval\": 0.011662392341226633}, \"context_stratum\": null}, \"41_0\": {\"name\": \"41_0\", \"parameters\": {\"lr\": 0.002157058720142707, \"decay\": 0.0008397548096370134, \"epochs\": 24}, \"y\": {\"log_eval\": 3.6162079630280815}, \"y_hat\": {\"log_eval\": 3.61598968942969}, \"se\": {\"log_eval\": 0.012845865852803834}, \"se_hat\": {\"log_eval\": 0.012441817403395183}, \"context_stratum\": null}, \"42_0\": {\"name\": \"42_0\", \"parameters\": {\"lr\": 0.0011339380519406353, \"decay\": 0.0036838855554993935, \"epochs\": 50}, \"y\": {\"log_eval\": 3.6393089322795955}, \"y_hat\": {\"log_eval\": 3.639818645207406}, \"se\": {\"log_eval\": 0.013629283673029383}, \"se_hat\": {\"log_eval\": 0.012919674344219421}, \"context_stratum\": null}, \"43_0\": {\"name\": \"43_0\", \"parameters\": {\"lr\": 0.000966822231346963, \"decay\": 0.0014159222420817687, \"epochs\": 50}, \"y\": {\"log_eval\": 3.6673930369798353}, \"y_hat\": {\"log_eval\": 3.6594283636012612}, \"se\": {\"log_eval\": 0.012964159365586368}, \"se_hat\": {\"log_eval\": 0.009881112465664888}, \"context_stratum\": null}, \"44_0\": {\"name\": \"44_0\", \"parameters\": {\"lr\": 0.04044537228104681, \"decay\": 1.0773867568563373e-05, \"epochs\": 0}, \"y\": {\"log_eval\": 3.3077090498698034}, \"y_hat\": {\"log_eval\": 3.3089730164388467}, \"se\": {\"log_eval\": 0.011685138307808459}, \"se_hat\": {\"log_eval\": 0.011630173724347595}, \"context_stratum\": null}, \"45_0\": {\"name\": \"45_0\", \"parameters\": {\"lr\": 0.016038689473977068, \"decay\": 0.00033224162007139364, \"epochs\": 8}, \"y\": {\"log_eval\": 3.6201014199054216}, \"y_hat\": {\"log_eval\": 3.6204503909661656}, \"se\": {\"log_eval\": 0.01340935802979851}, \"se_hat\": {\"log_eval\": 0.012577546845180473}, \"context_stratum\": null}, \"46_0\": {\"name\": \"46_0\", \"parameters\": {\"lr\": 0.0014196493120919636, \"decay\": 0.0001894540113910872, \"epochs\": 34}, \"y\": {\"log_eval\": 3.6144160748948586}, \"y_hat\": {\"log_eval\": 3.612577214959392}, \"se\": {\"log_eval\": 0.01265822051392698}, \"se_hat\": {\"log_eval\": 0.012246496737721938}, \"context_stratum\": null}, \"47_0\": {\"name\": \"47_0\", \"parameters\": {\"lr\": 0.00034276999307719663, \"decay\": 0.00999999999999998, \"epochs\": 50}, \"y\": {\"log_eval\": 3.5265926910636463}, \"y_hat\": {\"log_eval\": 3.526529717650953}, \"se\": {\"log_eval\": 0.012299350769441726}, \"se_hat\": {\"log_eval\": 0.012187362012642146}, \"context_stratum\": null}, \"48_0\": {\"name\": \"48_0\", \"parameters\": {\"lr\": 0.005938148149707883, \"decay\": 0.0007840983805538117, \"epochs\": 7}, \"y\": {\"log_eval\": 3.648372080954148}, \"y_hat\": {\"log_eval\": 3.6459966264404176}, \"se\": {\"log_eval\": 0.011991955791841842}, \"se_hat\": {\"log_eval\": 0.011009391606514004}, \"context_stratum\": null}, \"49_0\": {\"name\": \"49_0\", \"parameters\": {\"lr\": 0.001031454624264051, \"decay\": 0.0009518252724083013, \"epochs\": 48}, \"y\": {\"log_eval\": 3.621990429470776}, \"y_hat\": {\"log_eval\": 3.64195724596439}, \"se\": {\"log_eval\": 0.01295161419332295}, \"se_hat\": {\"log_eval\": 0.008752943313802527}, \"context_stratum\": null}, \"4_0\": {\"name\": \"4_0\", \"parameters\": {\"lr\": 0.00024507982427034327, \"decay\": 0.0017904906868920903, \"epochs\": 3}, \"y\": {\"log_eval\": 3.394475361046734}, \"y_hat\": {\"log_eval\": 3.3941987416034864}, \"se\": {\"log_eval\": 0.011416996783523663}, \"se_hat\": {\"log_eval\": 0.011364083560320508}, \"context_stratum\": null}, \"50_0\": {\"name\": \"50_0\", \"parameters\": {\"lr\": 0.0015862531604133104, \"decay\": 0.00034996139778338385, \"epochs\": 40}, \"y\": {\"log_eval\": 3.6371229929215834}, \"y_hat\": {\"log_eval\": 3.6376680934877355}, \"se\": {\"log_eval\": 0.013294839351542234}, \"se_hat\": {\"log_eval\": 0.011978362137349081}, \"context_stratum\": null}, \"51_0\": {\"name\": \"51_0\", \"parameters\": {\"lr\": 0.0001, \"decay\": 0.0007786274174831826, \"epochs\": 50}, \"y\": {\"log_eval\": 3.4377952459472514}, \"y_hat\": {\"log_eval\": 3.4379990885565284}, \"se\": {\"log_eval\": 0.011530046799630468}, \"se_hat\": {\"log_eval\": 0.011469507241439192}, \"context_stratum\": null}, \"5_0\": {\"name\": \"5_0\", \"parameters\": {\"lr\": 0.00017137166229077094, \"decay\": 3.5115084834239404e-05, \"epochs\": 34}, \"y\": {\"log_eval\": 3.4541948141928853}, \"y_hat\": {\"log_eval\": 3.45384329645565}, \"se\": {\"log_eval\": 0.011142889036146396}, \"se_hat\": {\"log_eval\": 0.011084308668166759}, \"context_stratum\": null}, \"6_0\": {\"name\": \"6_0\", \"parameters\": {\"lr\": 0.004551821441836866, \"decay\": 0.007375404959949084, \"epochs\": 19}, \"y\": {\"log_eval\": 3.6320123520185814}, \"y_hat\": {\"log_eval\": 3.633461118134959}, \"se\": {\"log_eval\": 0.013048649202333357}, \"se_hat\": {\"log_eval\": 0.011788062504764416}, \"context_stratum\": null}, \"7_0\": {\"name\": \"7_0\", \"parameters\": {\"lr\": 0.023212195123507594, \"decay\": 8.455812526476041e-05, \"epochs\": 9}, \"y\": {\"log_eval\": 3.580064777534327}, \"y_hat\": {\"log_eval\": 3.5759650700319137}, \"se\": {\"log_eval\": 0.013974420362918339}, \"se_hat\": {\"log_eval\": 0.013609126772185}, \"context_stratum\": null}, \"8_0\": {\"name\": \"8_0\", \"parameters\": {\"lr\": 0.0012195918445462937, \"decay\": 0.0005595295912680022, \"epochs\": 44}, \"y\": {\"log_eval\": 3.655644962569447}, \"y_hat\": {\"log_eval\": 3.646027577135288}, \"se\": {\"log_eval\": 0.012229225245228424}, \"se_hat\": {\"log_eval\": 0.010501890318337852}, \"context_stratum\": null}, \"9_0\": {\"name\": \"9_0\", \"parameters\": {\"lr\": 0.0006781060687356291, \"decay\": 1.0946176570293072e-05, \"epochs\": 0}, \"y\": {\"log_eval\": 3.319037644557284}, \"y_hat\": {\"log_eval\": 3.3192821976011024}, \"se\": {\"log_eval\": 0.01137763940360927}, \"se_hat\": {\"log_eval\": 0.011339669884700051}, \"context_stratum\": null}, \"control\": {\"name\": \"control\", \"parameters\": {\"lr\": 0.125, \"decay\": 0.0012, \"epochs\": 20}, \"y\": {\"log_eval\": 3.1552959605272526}, \"y_hat\": {\"log_eval\": 3.157053593505689}, \"se\": {\"log_eval\": 0.0116866201822084}, \"se_hat\": {\"log_eval\": 0.011581586583600397}, \"context_stratum\": null}, \"zero\": {\"name\": \"zero\", \"parameters\": {\"lr\": 0.125, \"decay\": 0.0012, \"epochs\": 0}, \"y\": {\"log_eval\": 3.3404300888956486}, \"y_hat\": {\"log_eval\": 3.3389170216622435}, \"se\": {\"log_eval\": 0.010873038587426026}, \"se_hat\": {\"log_eval\": 0.010804900129217636}, \"context_stratum\": null}}, \"out_of_sample\": {}, \"status_quo_name\": null};\n",
       "const arm_name_to_parameters = {\"10_0\": {\"lr\": 0.04978427747990496, \"decay\": 0.003527565121958421, \"epochs\": 47}, \"11_0\": {\"lr\": 0.006247040048381291, \"decay\": 0.0001438024293565146, \"epochs\": 25}, \"12_0\": {\"lr\": 0.00014838731399692169, \"decay\": 0.0014697324908619514, \"epochs\": 22}, \"13_0\": {\"lr\": 0.0005519527802397052, \"decay\": 0.00010246759190872975, \"epochs\": 41}, \"14_0\": {\"lr\": 0.010504083634447867, \"decay\": 0.00043748352890575796, \"epochs\": 12}, \"15_0\": {\"lr\": 0.07475959993275257, \"decay\": 4.4930071267683065e-05, \"epochs\": 16}, \"16_0\": {\"lr\": 0.0028143370815851038, \"decay\": 0.006083735575886048, \"epochs\": 37}, \"17_0\": {\"lr\": 0.0031722460970575166, \"decay\": 5.153458431222948e-05, \"epochs\": 48}, \"18_0\": {\"lr\": 0.061217137158285154, \"decay\": 0.005093566161426102, \"epochs\": 2}, \"19_0\": {\"lr\": 0.012302214003413503, \"decay\": 0.0001241083471404148, \"epochs\": 24}, \"20_0\": {\"lr\": 0.00045671365891730595, \"decay\": 0.0003864138666601675, \"epochs\": 27}, \"21_0\": {\"lr\": 0.00011818864786637608, \"decay\": 0.00017291991110745218, \"epochs\": 11}, \"22_0\": {\"lr\": 0.0042958675936845365, \"decay\": 0.0010471843418864235, \"epochs\": 10}, \"23_0\": {\"lr\": 0.008370803588215753, \"decay\": 0.00022333890726881868, \"epochs\": 2}, \"24_0\": {\"lr\": 0.003423667093075686, \"decay\": 0.0013399111889739398, \"epochs\": 15}, \"25_0\": {\"lr\": 0.0006869113033726057, \"decay\": 0.0018229361036326858, \"epochs\": 45}, \"26_0\": {\"lr\": 0.00558261633492821, \"decay\": 0.0020691025936057034, \"epochs\": 12}, \"27_0\": {\"lr\": 0.0038535517531817546, \"decay\": 0.00039530815909391445, \"epochs\": 11}, \"28_0\": {\"lr\": 0.001831685554727031, \"decay\": 0.0062428424383467575, \"epochs\": 21}, \"29_0\": {\"lr\": 0.0013184302548125534, \"decay\": 0.0008283421858509831, \"epochs\": 37}, \"2_0\": {\"lr\": 0.08222266530738154, \"decay\": 0.000787696268305935, \"epochs\": 28}, \"30_0\": {\"lr\": 0.0005830066799163658, \"decay\": 0.0004613016523184007, \"epochs\": 49}, \"31_0\": {\"lr\": 0.0023223184893015874, \"decay\": 0.0016108860028932247, \"epochs\": 9}, \"32_0\": {\"lr\": 0.005391083307693113, \"decay\": 0.0008003947035889143, \"epochs\": 12}, \"33_0\": {\"lr\": 0.003103488748160297, \"decay\": 0.0035133869602214274, \"epochs\": 22}, \"34_0\": {\"lr\": 0.0012152946378868432, \"decay\": 0.0011010052894948998, \"epochs\": 50}, \"35_0\": {\"lr\": 0.0030470682447321057, \"decay\": 0.01, \"epochs\": 17}, \"36_0\": {\"lr\": 0.003323542918335707, \"decay\": 0.01, \"epochs\": 12}, \"37_0\": {\"lr\": 0.0029671541634396707, \"decay\": 0.00999999999999998, \"epochs\": 20}, \"38_0\": {\"lr\": 0.0028992131921908664, \"decay\": 0.00484521577137573, \"epochs\": 17}, \"39_0\": {\"lr\": 0.0015930102849367376, \"decay\": 0.0012974881820559708, \"epochs\": 46}, \"3_0\": {\"lr\": 0.017995068324623793, \"decay\": 2.0432724797792104e-05, \"epochs\": 44}, \"40_0\": {\"lr\": 0.0011762941184528637, \"decay\": 0.0005560489900774055, \"epochs\": 50}, \"41_0\": {\"lr\": 0.002157058720142707, \"decay\": 0.0008397548096370134, \"epochs\": 24}, \"42_0\": {\"lr\": 0.0011339380519406353, \"decay\": 0.0036838855554993935, \"epochs\": 50}, \"43_0\": {\"lr\": 0.000966822231346963, \"decay\": 0.0014159222420817687, \"epochs\": 50}, \"44_0\": {\"lr\": 0.04044537228104681, \"decay\": 1.0773867568563373e-05, \"epochs\": 0}, \"45_0\": {\"lr\": 0.016038689473977068, \"decay\": 0.00033224162007139364, \"epochs\": 8}, \"46_0\": {\"lr\": 0.0014196493120919636, \"decay\": 0.0001894540113910872, \"epochs\": 34}, \"47_0\": {\"lr\": 0.00034276999307719663, \"decay\": 0.00999999999999998, \"epochs\": 50}, \"48_0\": {\"lr\": 0.005938148149707883, \"decay\": 0.0007840983805538117, \"epochs\": 7}, \"49_0\": {\"lr\": 0.001031454624264051, \"decay\": 0.0009518252724083013, \"epochs\": 48}, \"4_0\": {\"lr\": 0.00024507982427034327, \"decay\": 0.0017904906868920903, \"epochs\": 3}, \"50_0\": {\"lr\": 0.0015862531604133104, \"decay\": 0.00034996139778338385, \"epochs\": 40}, \"51_0\": {\"lr\": 0.0001, \"decay\": 0.0007786274174831826, \"epochs\": 50}, \"5_0\": {\"lr\": 0.00017137166229077094, \"decay\": 3.5115084834239404e-05, \"epochs\": 34}, \"6_0\": {\"lr\": 0.004551821441836866, \"decay\": 0.007375404959949084, \"epochs\": 19}, \"7_0\": {\"lr\": 0.023212195123507594, \"decay\": 8.455812526476041e-05, \"epochs\": 9}, \"8_0\": {\"lr\": 0.0012195918445462937, \"decay\": 0.0005595295912680022, \"epochs\": 44}, \"9_0\": {\"lr\": 0.0006781060687356291, \"decay\": 1.0946176570293072e-05, \"epochs\": 0}, \"control\": {\"lr\": 0.125, \"decay\": 0.0012, \"epochs\": 20}, \"zero\": {\"lr\": 0.125, \"decay\": 0.0012, \"epochs\": 0}};\n",
       "const f = [3.404784664566036, 3.408205065044291, 3.4119085013725403, 3.4159879950233645, 3.4205597107422934, 3.425759970261335, 3.4317374716683062, 3.43864205745233, 3.446611673495073, 3.455758526891279, 3.4661552708407983, 3.47782220021354, 3.4907164221013804, 3.504723505208811, 3.5196513334985466, 3.535225232537851, 3.551083351384883, 3.5667719792647135, 3.581741983535487, 3.595349890724513, 3.606870128244404, 3.615527549699743, 3.620559102094794, 3.6213070132470495, 3.617329911471315, 3.6084947337584654, 3.5950042527774753, 3.5773487250817975, 3.5562129705474277, 3.5323764101016373, 3.5066274044912893, 3.479700111848455, 3.452235219018489, 3.4247619977127797, 3.3976969339284104, 3.3713534941491576, 3.345958104997619, 3.3216685845861957, 3.298592555882318, 3.2768044776172007, 3.2563607321653403, 3.237312715251756, 3.2197181085346855, 3.2036504756357007, 3.1892069239366516, 3.176512671141304, 3.1657199164344414, 3.156997113392686, 3.1505055894424197, 3.1463655937164847];\n",
       "const fit_data = [{\"metric_name\": \"log_eval\", \"arm_name\": \"10_0\", \"mean\": 3.112263631209449, \"sem\": 0.01238418875800926}, {\"metric_name\": \"log_eval\", \"arm_name\": \"11_0\", \"mean\": 3.4241942668232896, \"sem\": 0.01374483715894778}, {\"metric_name\": \"log_eval\", \"arm_name\": \"12_0\", \"mean\": 3.415520117203138, \"sem\": 0.011276006439341265}, {\"metric_name\": \"log_eval\", \"arm_name\": \"13_0\", \"mean\": 3.546131034009097, \"sem\": 0.012589028883241746}, {\"metric_name\": \"log_eval\", \"arm_name\": \"14_0\", \"mean\": 3.634057109613882, \"sem\": 0.013357370606483029}, {\"metric_name\": \"log_eval\", \"arm_name\": \"15_0\", \"mean\": 3.3610420926516205, \"sem\": 0.013348588353470204}, {\"metric_name\": \"log_eval\", \"arm_name\": \"16_0\", \"mean\": 3.528262642158446, \"sem\": 0.012156142965591931}, {\"metric_name\": \"log_eval\", \"arm_name\": \"17_0\", \"mean\": 3.35745258138615, \"sem\": 0.012186919913023975}, {\"metric_name\": \"log_eval\", \"arm_name\": \"18_0\", \"mean\": 3.168146034596125, \"sem\": 0.011724834444400638}, {\"metric_name\": \"log_eval\", \"arm_name\": \"19_0\", \"mean\": 3.310859376580618, \"sem\": 0.013013713238650986}, {\"metric_name\": \"log_eval\", \"arm_name\": \"20_0\", \"mean\": 3.493354500212299, \"sem\": 0.011985410991012154}, {\"metric_name\": \"log_eval\", \"arm_name\": \"21_0\", \"mean\": 3.4129530698338524, \"sem\": 0.010893951393214646}, {\"metric_name\": \"log_eval\", \"arm_name\": \"22_0\", \"mean\": 3.6777936772323065, \"sem\": 0.01295640227218043}, {\"metric_name\": \"log_eval\", \"arm_name\": \"23_0\", \"mean\": 3.519143836350856, \"sem\": 0.01184426378037716}, {\"metric_name\": \"log_eval\", \"arm_name\": \"24_0\", \"mean\": 3.650251177315237, \"sem\": 0.01230955863293442}, {\"metric_name\": \"log_eval\", \"arm_name\": \"25_0\", \"mean\": 3.59844643260302, \"sem\": 0.013030680531584954}, {\"metric_name\": \"log_eval\", \"arm_name\": \"26_0\", \"mean\": 3.5940986162758946, \"sem\": 0.01444843098271689}, {\"metric_name\": \"log_eval\", \"arm_name\": \"27_0\", \"mean\": 3.604072959202277, \"sem\": 0.012192131345327805}, {\"metric_name\": \"log_eval\", \"arm_name\": \"28_0\", \"mean\": 3.6121852565395094, \"sem\": 0.012255683030681006}, {\"metric_name\": \"log_eval\", \"arm_name\": \"29_0\", \"mean\": 3.6172050138356378, \"sem\": 0.012981913317247438}, {\"metric_name\": \"log_eval\", \"arm_name\": \"2_0\", \"mean\": 3.1768169773773316, \"sem\": 0.012540239147262752}, {\"metric_name\": \"log_eval\", \"arm_name\": \"30_0\", \"mean\": 3.598738157827219, \"sem\": 0.011232449462836053}, {\"metric_name\": \"log_eval\", \"arm_name\": \"31_0\", \"mean\": 3.558727045155133, \"sem\": 0.011648132219884741}, {\"metric_name\": \"log_eval\", \"arm_name\": \"32_0\", \"mean\": 3.625094942527766, \"sem\": 0.012355384811992873}, {\"metric_name\": \"log_eval\", \"arm_name\": \"33_0\", \"mean\": 3.6417610419944224, \"sem\": 0.01453414594385548}, {\"metric_name\": \"log_eval\", \"arm_name\": \"34_0\", \"mean\": 3.66830531482307, \"sem\": 0.012908655061946196}, {\"metric_name\": \"log_eval\", \"arm_name\": \"35_0\", \"mean\": 3.6951204858036406, \"sem\": 0.014234781723022609}, {\"metric_name\": \"log_eval\", \"arm_name\": \"36_0\", \"mean\": 3.568384031262799, \"sem\": 0.012652860815973097}, {\"metric_name\": \"log_eval\", \"arm_name\": \"37_0\", \"mean\": 3.6469180672367254, \"sem\": 0.01320344109262514}, {\"metric_name\": \"log_eval\", \"arm_name\": \"38_0\", \"mean\": 3.63075385857155, \"sem\": 0.012528627303692476}, {\"metric_name\": \"log_eval\", \"arm_name\": \"39_0\", \"mean\": 3.6242475806636123, \"sem\": 0.013080994682006861}, {\"metric_name\": \"log_eval\", \"arm_name\": \"3_0\", \"mean\": 3.234652466339278, \"sem\": 0.012151735262042189}, {\"metric_name\": \"log_eval\", \"arm_name\": \"40_0\", \"mean\": 3.6316520235246337, \"sem\": 0.013452239322245547}, {\"metric_name\": \"log_eval\", \"arm_name\": \"41_0\", \"mean\": 3.6162079630280815, \"sem\": 0.012845865852803834}, {\"metric_name\": \"log_eval\", \"arm_name\": \"42_0\", \"mean\": 3.6393089322795955, \"sem\": 0.013629283673029383}, {\"metric_name\": \"log_eval\", \"arm_name\": \"43_0\", \"mean\": 3.6673930369798353, \"sem\": 0.012964159365586368}, {\"metric_name\": \"log_eval\", \"arm_name\": \"44_0\", \"mean\": 3.3077090498698034, \"sem\": 0.011685138307808459}, {\"metric_name\": \"log_eval\", \"arm_name\": \"45_0\", \"mean\": 3.6201014199054216, \"sem\": 0.01340935802979851}, {\"metric_name\": \"log_eval\", \"arm_name\": \"46_0\", \"mean\": 3.6144160748948586, \"sem\": 0.01265822051392698}, {\"metric_name\": \"log_eval\", \"arm_name\": \"47_0\", \"mean\": 3.5265926910636463, \"sem\": 0.012299350769441726}, {\"metric_name\": \"log_eval\", \"arm_name\": \"48_0\", \"mean\": 3.648372080954148, \"sem\": 0.011991955791841842}, {\"metric_name\": \"log_eval\", \"arm_name\": \"49_0\", \"mean\": 3.621990429470776, \"sem\": 0.01295161419332295}, {\"metric_name\": \"log_eval\", \"arm_name\": \"4_0\", \"mean\": 3.394475361046734, \"sem\": 0.011416996783523663}, {\"metric_name\": \"log_eval\", \"arm_name\": \"50_0\", \"mean\": 3.6371229929215834, \"sem\": 0.013294839351542234}, {\"metric_name\": \"log_eval\", \"arm_name\": \"51_0\", \"mean\": 3.4377952459472514, \"sem\": 0.011530046799630468}, {\"metric_name\": \"log_eval\", \"arm_name\": \"5_0\", \"mean\": 3.4541948141928853, \"sem\": 0.011142889036146396}, {\"metric_name\": \"log_eval\", \"arm_name\": \"6_0\", \"mean\": 3.6320123520185814, \"sem\": 0.013048649202333357}, {\"metric_name\": \"log_eval\", \"arm_name\": \"7_0\", \"mean\": 3.580064777534327, \"sem\": 0.013974420362918339}, {\"metric_name\": \"log_eval\", \"arm_name\": \"8_0\", \"mean\": 3.655644962569447, \"sem\": 0.012229225245228424}, {\"metric_name\": \"log_eval\", \"arm_name\": \"9_0\", \"mean\": 3.319037644557284, \"sem\": 0.01137763940360927}, {\"metric_name\": \"log_eval\", \"arm_name\": \"control\", \"mean\": 3.1552959605272526, \"sem\": 0.0116866201822084}, {\"metric_name\": \"log_eval\", \"arm_name\": \"zero\", \"mean\": 3.3404300888956486, \"sem\": 0.010873038587426026}];\n",
       "const grid = [0.0001, 0.00011566507536642776, 0.00013378409659521427, 0.0001547414761551491, 0.00017898184501797623, 0.00020701948593226515, 0.0002394492444267458, 0.00027695914903053766, 0.00032034500846038835, 0.00037052729546829794, 0.0004285706755565933, 0.0004957065948809422, 0.0005733594065653951, 0.0006631765897243672, 0.0007670637023171956, 0.0008872248093936954, 0.0010262092444548628, 0.0011869656960159672, 0.0013729047668705138, 0.0015879713333100591, 0.0018367282394703476, 0.0021244531024598393, 0.0024572502820845886, 0.002842180390714901, 0.003287410090970221, 0.0038023853593242576, 0.004398031891584418, 0.0050869869020406504, 0.005883867234125633, 0.006805579470811962, 0.007871678624036791, 0.00910478301309514, 0.010531054134046215, 0.01218075170102386, 0.014088875635186696, 0.016295908621720968, 0.018848674988957776, 0.021801334131551033, 0.02521652955414524, 0.029166717913599653, 0.033735706256678426, 0.03902043006718383, 0.04513300984551241, 0.05220312985294919, 0.0603807894880479, 0.06983948566819469, 0.08077989373364299, 0.09343412496793842, 0.10807065106212838, 0.125];\n",
       "const metric = \"log_eval\";\n",
       "const param = \"lr\";\n",
       "const rel = false;\n",
       "const setx = {\"lr\": 0.014048408494097962, \"decay\": 0.0020806475258430142, \"epochs\": 25};\n",
       "const sd = [0.05430016352794848, 0.04686685813464288, 0.041771812677148336, 0.03991983204702999, 0.041283152300053715, 0.044792391932126537, 0.049121243925047714, 0.05328335661658058, 0.05670710843055636, 0.059116833665069965, 0.06041330058842076, 0.06059069993059087, 0.059687525001854314, 0.05776508705798061, 0.054906855329340754, 0.05123000346598221, 0.04689955607053318, 0.04213701122616535, 0.037220016519294484, 0.03247874100932237, 0.02830746789747364, 0.025209794738066976, 0.02382219105739203, 0.02470677041563743, 0.02791032225196295, 0.03288803912735776, 0.038907751930669275, 0.04536603481241488, 0.051855753616681086, 0.058123542692654184, 0.06401005284461242, 0.06940343836484385, 0.07421104172748229, 0.07834559158082752, 0.08172053224678619, 0.0842503473686883, 0.08585366539493267, 0.08645839556198852, 0.0860088806217679, 0.08447528852382656, 0.08186553061053767, 0.07824012831692614, 0.07373074577933267, 0.06856344229024823, 0.06308734124039811, 0.05780555007087546, 0.053389995111651344, 0.050626057295006195, 0.0502089206352811, 0.052430707661372186];\n",
       "const is_log = true;\n",
       "\n",
       "// format data\n",
       "const res = relativize_data(f, sd, rel, arm_data, metric);\n",
       "const f_final = res[0];\n",
       "const sd_final = res[1];\n",
       "\n",
       "// get data for standard deviation fill plot\n",
       "const sd_upper = [];\n",
       "const sd_lower = [];\n",
       "for (let i = 0; i < sd.length; i++) {\n",
       "  sd_upper.push(f_final[i] + 2 * sd_final[i]);\n",
       "  sd_lower.push(f_final[i] - 2 * sd_final[i]);\n",
       "}\n",
       "const grid_rev = copy_and_reverse(grid);\n",
       "const sd_lower_rev = copy_and_reverse(sd_lower);\n",
       "const sd_x = grid.concat(grid_rev);\n",
       "const sd_y = sd_upper.concat(sd_lower_rev);\n",
       "\n",
       "// get data for observed arms and error bars\n",
       "const arm_x = [];\n",
       "const arm_y = [];\n",
       "const arm_sem = [];\n",
       "fit_data.forEach(row => {\n",
       "    parameters = arm_name_to_parameters[row[\"arm_name\"]];\n",
       "    plot = true;\n",
       "    Object.keys(setx).forEach(p => {\n",
       "      if (p !== param && parameters[p] !== setx[p]) {\n",
       "        plot = false;\n",
       "      }\n",
       "    });\n",
       "    if (plot === true) {\n",
       "        arm_x.push(parameters[param]);\n",
       "        arm_y.push(row[\"mean\"]);\n",
       "        arm_sem.push(row[\"sem\"]);\n",
       "    }\n",
       "});\n",
       "\n",
       "const arm_res = relativize_data(\n",
       "  arm_y, arm_sem, rel, arm_data, metric\n",
       ");\n",
       "const arm_y_final = arm_res[0];\n",
       "const arm_sem_final = arm_res[1].map(x => x * 2);\n",
       "\n",
       "// create traces\n",
       "const f_trace = {\n",
       "  x: grid,\n",
       "  y: f_final,\n",
       "  showlegend: false,\n",
       "  hoverinfo: 'x+y',\n",
       "  line: {\n",
       "    color: 'rgba(128, 177, 211, 1)',\n",
       "  },\n",
       "};\n",
       "\n",
       "const arms_trace = {\n",
       "  x: arm_x,\n",
       "  y: arm_y_final,\n",
       "  mode: 'markers',\n",
       "  error_y: {\n",
       "    type: 'data',\n",
       "    array: arm_sem_final,\n",
       "    visible: true,\n",
       "    color: 'black',\n",
       "  },\n",
       "  line: {\n",
       "    color: 'black',\n",
       "  },\n",
       "  showlegend: false,\n",
       "  hoverinfo: 'x+y',\n",
       "};\n",
       "\n",
       "const sd_trace = {\n",
       "    x: sd_x,\n",
       "    y: sd_y,\n",
       "    fill: 'toself',\n",
       "    fillcolor: 'rgba(128, 177, 211, 0.2)',\n",
       "    line: {\n",
       "      color: 'transparent',\n",
       "    },\n",
       "    showlegend: false,\n",
       "    hoverinfo: 'none',\n",
       "};\n",
       "\n",
       "traces = [\n",
       "  sd_trace,\n",
       "  f_trace,\n",
       "  arms_trace,\n",
       "];\n",
       "\n",
       "// iterate over out-of-sample arms\n",
       "let i = 1;\n",
       "Object.keys(arm_data['out_of_sample']).forEach(generator_run_name => {\n",
       "  const ax = [];\n",
       "  const ay = [];\n",
       "  const asem = [];\n",
       "  const atext = [];\n",
       "\n",
       "  Object.keys(arm_data['out_of_sample'][generator_run_name]).forEach(arm_name => {\n",
       "    const parameters = arm_data[\n",
       "      'out_of_sample'][generator_run_name][arm_name]['parameters'];\n",
       "    plot = true;\n",
       "    Object.keys(setx).forEach(p => {\n",
       "      if (p !== param && parameters[p] !== setx[p]) {\n",
       "        plot = false;\n",
       "      }\n",
       "    });\n",
       "    if (plot === true) {\n",
       "      ax.push(parameters[param]);\n",
       "      ay.push(\n",
       "        arm_data['out_of_sample'][generator_run_name][arm_name]['y_hat'][metric]\n",
       "      );\n",
       "      asem.push(\n",
       "        arm_data['out_of_sample'][generator_run_name][arm_name]['se_hat'][metric]\n",
       "      );\n",
       "      atext.push('<em>Candidate ' + arm_name + '</em>');\n",
       "    }\n",
       "  });\n",
       "\n",
       "  const out_of_sample_arm_res = relativize_data(\n",
       "    ay, asem, rel, arm_data, metric\n",
       "  );\n",
       "  const ay_final = out_of_sample_arm_res[0];\n",
       "  const asem_final = out_of_sample_arm_res[1].map(x => x * 2);\n",
       "\n",
       "  traces.push({\n",
       "    hoverinfo: 'text',\n",
       "    legendgroup: generator_run_name,\n",
       "    marker: {color: 'black', symbol: i, opacity: 0.5},\n",
       "    mode: 'markers',\n",
       "    error_y: {\n",
       "      type: 'data',\n",
       "      array: asem_final,\n",
       "      visible: true,\n",
       "      color: 'black',\n",
       "    },\n",
       "    name: generator_run_name,\n",
       "    text: atext,\n",
       "    type: 'scatter',\n",
       "    xaxis: 'x',\n",
       "    x: ax,\n",
       "    yaxis: 'y',\n",
       "    y: ay_final,\n",
       "  });\n",
       "\n",
       "  i += 1;\n",
       "});\n",
       "\n",
       "// layout\n",
       "const xrange = axis_range(grid, is_log);\n",
       "const xtype = is_log ? 'log' : 'linear';\n",
       "\n",
       "layout = {\n",
       "  hovermode: 'closest',\n",
       "  xaxis: {\n",
       "    anchor: 'y',\n",
       "    autorange: false,\n",
       "    exponentformat: 'e',\n",
       "    range: xrange,\n",
       "    tickfont: {size: 11},\n",
       "    tickmode: 'auto',\n",
       "    title: param,\n",
       "    type: xtype,\n",
       "  },\n",
       "  yaxis: {\n",
       "    anchor: 'x',\n",
       "    tickfont: {size: 11},\n",
       "    tickmode: 'auto',\n",
       "    title: metric,\n",
       "  },\n",
       "};\n",
       "\n",
       "Plotly.newPlot(\n",
       "    \"e2b7ad2678cd4f948d2164b12d4f47f4\",\n",
       "    traces,\n",
       "    layout,\n",
       "    {showLink: false},\n",
       ");\n",
       "});</script>"
      ]
     },
     "metadata": {},
     "output_type": "display_data"
    }
   ],
   "source": [
    "render(plot_slice(model=gpei, param_name='lr', metric_name='log_eval'))"
   ]
  },
  {
   "cell_type": "code",
   "execution_count": 25,
   "metadata": {
    "pycharm": {
     "name": "#%%\n"
    },
    "scrolled": false
   },
   "outputs": [
    {
     "data": {
      "text/html": [
       "<div id=\"679efd68d8484946b3ce1171c3f02af4\" style=\"width: 100%;\" class=\"plotly-graph-div\"></div><script type='text/javascript'>/*\n",
       " * Copyright (c) Facebook, Inc. and its affiliates. All Rights Reserved.\n",
       " */\n",
       "\n",
       "require(['plotly'], function(Plotly) {\n",
       "  window.PLOTLYENV = window.PLOTLYENV || {};\n",
       "  window.PLOTLYENV.BASE_URL = 'https://plot.ly';\n",
       "  /*\n",
       " * Copyright (c) Facebook, Inc. and its affiliates. All Rights Reserved.\n",
       " */\n",
       "\n",
       "const arm_data = {\"metrics\": [\"log_eval\"], \"in_sample\": {\"10_0\": {\"name\": \"10_0\", \"parameters\": {\"lr\": 0.04978427747990496, \"decay\": 0.003527565121958421, \"epochs\": 47}, \"y\": {\"log_eval\": 3.112263631209449}, \"y_hat\": {\"log_eval\": 3.114052542426581}, \"se\": {\"log_eval\": 0.01238418875800926}, \"se_hat\": {\"log_eval\": 0.012333336529813459}, \"context_stratum\": null}, \"11_0\": {\"name\": \"11_0\", \"parameters\": {\"lr\": 0.006247040048381291, \"decay\": 0.0001438024293565146, \"epochs\": 25}, \"y\": {\"log_eval\": 3.4241942668232896}, \"y_hat\": {\"log_eval\": 3.421785508764442}, \"se\": {\"log_eval\": 0.01374483715894778}, \"se_hat\": {\"log_eval\": 0.013228352665373973}, \"context_stratum\": null}, \"12_0\": {\"name\": \"12_0\", \"parameters\": {\"lr\": 0.00014838731399692169, \"decay\": 0.0014697324908619514, \"epochs\": 22}, \"y\": {\"log_eval\": 3.415520117203138}, \"y_hat\": {\"log_eval\": 3.4154054618001344}, \"se\": {\"log_eval\": 0.011276006439341265}, \"se_hat\": {\"log_eval\": 0.011208439049154268}, \"context_stratum\": null}, \"13_0\": {\"name\": \"13_0\", \"parameters\": {\"lr\": 0.0005519527802397052, \"decay\": 0.00010246759190872975, \"epochs\": 41}, \"y\": {\"log_eval\": 3.546131034009097}, \"y_hat\": {\"log_eval\": 3.5467401809527708}, \"se\": {\"log_eval\": 0.012589028883241746}, \"se_hat\": {\"log_eval\": 0.012370755528961311}, \"context_stratum\": null}, \"14_0\": {\"name\": \"14_0\", \"parameters\": {\"lr\": 0.010504083634447867, \"decay\": 0.00043748352890575796, \"epochs\": 12}, \"y\": {\"log_eval\": 3.634057109613882}, \"y_hat\": {\"log_eval\": 3.6266019274350696}, \"se\": {\"log_eval\": 0.013357370606483029}, \"se_hat\": {\"log_eval\": 0.012263504168286279}, \"context_stratum\": null}, \"15_0\": {\"name\": \"15_0\", \"parameters\": {\"lr\": 0.07475959993275257, \"decay\": 4.4930071267683065e-05, \"epochs\": 16}, \"y\": {\"log_eval\": 3.3610420926516205}, \"y_hat\": {\"log_eval\": 3.3612515676277255}, \"se\": {\"log_eval\": 0.013348588353470204}, \"se_hat\": {\"log_eval\": 0.013234709567014072}, \"context_stratum\": null}, \"16_0\": {\"name\": \"16_0\", \"parameters\": {\"lr\": 0.0028143370815851038, \"decay\": 0.006083735575886048, \"epochs\": 37}, \"y\": {\"log_eval\": 3.528262642158446}, \"y_hat\": {\"log_eval\": 3.5278215398643207}, \"se\": {\"log_eval\": 0.012156142965591931}, \"se_hat\": {\"log_eval\": 0.012030366909057136}, \"context_stratum\": null}, \"17_0\": {\"name\": \"17_0\", \"parameters\": {\"lr\": 0.0031722460970575166, \"decay\": 5.153458431222948e-05, \"epochs\": 48}, \"y\": {\"log_eval\": 3.35745258138615}, \"y_hat\": {\"log_eval\": 3.358951260569798}, \"se\": {\"log_eval\": 0.012186919913023975}, \"se_hat\": {\"log_eval\": 0.012088815826541945}, \"context_stratum\": null}, \"18_0\": {\"name\": \"18_0\", \"parameters\": {\"lr\": 0.061217137158285154, \"decay\": 0.005093566161426102, \"epochs\": 2}, \"y\": {\"log_eval\": 3.168146034596125}, \"y_hat\": {\"log_eval\": 3.1708864060537443}, \"se\": {\"log_eval\": 0.011724834444400638}, \"se_hat\": {\"log_eval\": 0.011636760356815122}, \"context_stratum\": null}, \"19_0\": {\"name\": \"19_0\", \"parameters\": {\"lr\": 0.012302214003413503, \"decay\": 0.0001241083471404148, \"epochs\": 24}, \"y\": {\"log_eval\": 3.310859376580618}, \"y_hat\": {\"log_eval\": 3.3156705007065432}, \"se\": {\"log_eval\": 0.013013713238650986}, \"se_hat\": {\"log_eval\": 0.012627976507614408}, \"context_stratum\": null}, \"20_0\": {\"name\": \"20_0\", \"parameters\": {\"lr\": 0.00045671365891730595, \"decay\": 0.0003864138666601675, \"epochs\": 27}, \"y\": {\"log_eval\": 3.493354500212299}, \"y_hat\": {\"log_eval\": 3.4941038776986613}, \"se\": {\"log_eval\": 0.011985410991012154}, \"se_hat\": {\"log_eval\": 0.011842025112949567}, \"context_stratum\": null}, \"21_0\": {\"name\": \"21_0\", \"parameters\": {\"lr\": 0.00011818864786637608, \"decay\": 0.00017291991110745218, \"epochs\": 11}, \"y\": {\"log_eval\": 3.4129530698338524}, \"y_hat\": {\"log_eval\": 3.4126835751538476}, \"se\": {\"log_eval\": 0.010893951393214646}, \"se_hat\": {\"log_eval\": 0.010845374849696844}, \"context_stratum\": null}, \"22_0\": {\"name\": \"22_0\", \"parameters\": {\"lr\": 0.0042958675936845365, \"decay\": 0.0010471843418864235, \"epochs\": 10}, \"y\": {\"log_eval\": 3.6777936772323065}, \"y_hat\": {\"log_eval\": 3.6528422645538745}, \"se\": {\"log_eval\": 0.01295640227218043}, \"se_hat\": {\"log_eval\": 0.00944134535527963}, \"context_stratum\": null}, \"23_0\": {\"name\": \"23_0\", \"parameters\": {\"lr\": 0.008370803588215753, \"decay\": 0.00022333890726881868, \"epochs\": 2}, \"y\": {\"log_eval\": 3.519143836350856}, \"y_hat\": {\"log_eval\": 3.521584278609035}, \"se\": {\"log_eval\": 0.01184426378037716}, \"se_hat\": {\"log_eval\": 0.011644284122676603}, \"context_stratum\": null}, \"24_0\": {\"name\": \"24_0\", \"parameters\": {\"lr\": 0.003423667093075686, \"decay\": 0.0013399111889739398, \"epochs\": 15}, \"y\": {\"log_eval\": 3.650251177315237}, \"y_hat\": {\"log_eval\": 3.6431589437205516}, \"se\": {\"log_eval\": 0.01230955863293442}, \"se_hat\": {\"log_eval\": 0.011011913946384469}, \"context_stratum\": null}, \"25_0\": {\"name\": \"25_0\", \"parameters\": {\"lr\": 0.0006869113033726057, \"decay\": 0.0018229361036326858, \"epochs\": 45}, \"y\": {\"log_eval\": 3.59844643260302}, \"y_hat\": {\"log_eval\": 3.5983592923059278}, \"se\": {\"log_eval\": 0.013030680531584954}, \"se_hat\": {\"log_eval\": 0.012355242402042953}, \"context_stratum\": null}, \"26_0\": {\"name\": \"26_0\", \"parameters\": {\"lr\": 0.00558261633492821, \"decay\": 0.0020691025936057034, \"epochs\": 12}, \"y\": {\"log_eval\": 3.5940986162758946}, \"y_hat\": {\"log_eval\": 3.603189753125716}, \"se\": {\"log_eval\": 0.01444843098271689}, \"se_hat\": {\"log_eval\": 0.012787919264242121}, \"context_stratum\": null}, \"27_0\": {\"name\": \"27_0\", \"parameters\": {\"lr\": 0.0038535517531817546, \"decay\": 0.00039530815909391445, \"epochs\": 11}, \"y\": {\"log_eval\": 3.604072959202277}, \"y_hat\": {\"log_eval\": 3.6077179059964095}, \"se\": {\"log_eval\": 0.012192131345327805}, \"se_hat\": {\"log_eval\": 0.011606140997104034}, \"context_stratum\": null}, \"28_0\": {\"name\": \"28_0\", \"parameters\": {\"lr\": 0.001831685554727031, \"decay\": 0.0062428424383467575, \"epochs\": 21}, \"y\": {\"log_eval\": 3.6121852565395094}, \"y_hat\": {\"log_eval\": 3.6141663472253427}, \"se\": {\"log_eval\": 0.012255683030681006}, \"se_hat\": {\"log_eval\": 0.011532699243793382}, \"context_stratum\": null}, \"29_0\": {\"name\": \"29_0\", \"parameters\": {\"lr\": 0.0013184302548125534, \"decay\": 0.0008283421858509831, \"epochs\": 37}, \"y\": {\"log_eval\": 3.6172050138356378}, \"y_hat\": {\"log_eval\": 3.6190250824743524}, \"se\": {\"log_eval\": 0.012981913317247438}, \"se_hat\": {\"log_eval\": 0.012386771755470169}, \"context_stratum\": null}, \"2_0\": {\"name\": \"2_0\", \"parameters\": {\"lr\": 0.08222266530738154, \"decay\": 0.000787696268305935, \"epochs\": 28}, \"y\": {\"log_eval\": 3.1768169773773316}, \"y_hat\": {\"log_eval\": 3.1759294798904616}, \"se\": {\"log_eval\": 0.012540239147262752}, \"se_hat\": {\"log_eval\": 0.012406686898506932}, \"context_stratum\": null}, \"30_0\": {\"name\": \"30_0\", \"parameters\": {\"lr\": 0.0005830066799163658, \"decay\": 0.0004613016523184007, \"epochs\": 49}, \"y\": {\"log_eval\": 3.598738157827219}, \"y_hat\": {\"log_eval\": 3.5981352364618955}, \"se\": {\"log_eval\": 0.011232449462836053}, \"se_hat\": {\"log_eval\": 0.010826821341997778}, \"context_stratum\": null}, \"31_0\": {\"name\": \"31_0\", \"parameters\": {\"lr\": 0.0023223184893015874, \"decay\": 0.0016108860028932247, \"epochs\": 9}, \"y\": {\"log_eval\": 3.558727045155133}, \"y_hat\": {\"log_eval\": 3.5645356723793453}, \"se\": {\"log_eval\": 0.011648132219884741}, \"se_hat\": {\"log_eval\": 0.011227946938375921}, \"context_stratum\": null}, \"32_0\": {\"name\": \"32_0\", \"parameters\": {\"lr\": 0.005391083307693113, \"decay\": 0.0008003947035889143, \"epochs\": 12}, \"y\": {\"log_eval\": 3.625094942527766}, \"y_hat\": {\"log_eval\": 3.6418783680275415}, \"se\": {\"log_eval\": 0.012355384811992873}, \"se_hat\": {\"log_eval\": 0.009696772021200095}, \"context_stratum\": null}, \"33_0\": {\"name\": \"33_0\", \"parameters\": {\"lr\": 0.003103488748160297, \"decay\": 0.0035133869602214274, \"epochs\": 22}, \"y\": {\"log_eval\": 3.6417610419944224}, \"y_hat\": {\"log_eval\": 3.6361885761752606}, \"se\": {\"log_eval\": 0.01453414594385548}, \"se_hat\": {\"log_eval\": 0.012918848890534218}, \"context_stratum\": null}, \"34_0\": {\"name\": \"34_0\", \"parameters\": {\"lr\": 0.0012152946378868432, \"decay\": 0.0011010052894948998, \"epochs\": 50}, \"y\": {\"log_eval\": 3.66830531482307}, \"y_hat\": {\"log_eval\": 3.6579242421509246}, \"se\": {\"log_eval\": 0.012908655061946196}, \"se_hat\": {\"log_eval\": 0.009066252526822832}, \"context_stratum\": null}, \"35_0\": {\"name\": \"35_0\", \"parameters\": {\"lr\": 0.0030470682447321057, \"decay\": 0.01, \"epochs\": 17}, \"y\": {\"log_eval\": 3.6951204858036406}, \"y_hat\": {\"log_eval\": 3.6631363938141344}, \"se\": {\"log_eval\": 0.014234781723022609}, \"se_hat\": {\"log_eval\": 0.010346484703827477}, \"context_stratum\": null}, \"36_0\": {\"name\": \"36_0\", \"parameters\": {\"lr\": 0.003323542918335707, \"decay\": 0.01, \"epochs\": 12}, \"y\": {\"log_eval\": 3.568384031262799}, \"y_hat\": {\"log_eval\": 3.574885834540357}, \"se\": {\"log_eval\": 0.012652860815973097}, \"se_hat\": {\"log_eval\": 0.012067755980426401}, \"context_stratum\": null}, \"37_0\": {\"name\": \"37_0\", \"parameters\": {\"lr\": 0.0029671541634396707, \"decay\": 0.00999999999999998, \"epochs\": 20}, \"y\": {\"log_eval\": 3.6469180672367254}, \"y_hat\": {\"log_eval\": 3.6575289308946104}, \"se\": {\"log_eval\": 0.01320344109262514}, \"se_hat\": {\"log_eval\": 0.010818406139472317}, \"context_stratum\": null}, \"38_0\": {\"name\": \"38_0\", \"parameters\": {\"lr\": 0.0028992131921908664, \"decay\": 0.00484521577137573, \"epochs\": 17}, \"y\": {\"log_eval\": 3.63075385857155}, \"y_hat\": {\"log_eval\": 3.6404219262262028}, \"se\": {\"log_eval\": 0.012528627303692476}, \"se_hat\": {\"log_eval\": 0.010746833777664177}, \"context_stratum\": null}, \"39_0\": {\"name\": \"39_0\", \"parameters\": {\"lr\": 0.0015930102849367376, \"decay\": 0.0012974881820559708, \"epochs\": 46}, \"y\": {\"log_eval\": 3.6242475806636123}, \"y_hat\": {\"log_eval\": 3.6272666960101385}, \"se\": {\"log_eval\": 0.013080994682006861}, \"se_hat\": {\"log_eval\": 0.01186544224115143}, \"context_stratum\": null}, \"3_0\": {\"name\": \"3_0\", \"parameters\": {\"lr\": 0.017995068324623793, \"decay\": 2.0432724797792104e-05, \"epochs\": 44}, \"y\": {\"log_eval\": 3.234652466339278}, \"y_hat\": {\"log_eval\": 3.2347342504666186}, \"se\": {\"log_eval\": 0.012151735262042189}, \"se_hat\": {\"log_eval\": 0.012092348961876092}, \"context_stratum\": null}, \"40_0\": {\"name\": \"40_0\", \"parameters\": {\"lr\": 0.0011762941184528637, \"decay\": 0.0005560489900774055, \"epochs\": 50}, \"y\": {\"log_eval\": 3.6316520235246337}, \"y_hat\": {\"log_eval\": 3.6332990397095823}, \"se\": {\"log_eval\": 0.013452239322245547}, \"se_hat\": {\"log_eval\": 0.011662392341226633}, \"context_stratum\": null}, \"41_0\": {\"name\": \"41_0\", \"parameters\": {\"lr\": 0.002157058720142707, \"decay\": 0.0008397548096370134, \"epochs\": 24}, \"y\": {\"log_eval\": 3.6162079630280815}, \"y_hat\": {\"log_eval\": 3.61598968942969}, \"se\": {\"log_eval\": 0.012845865852803834}, \"se_hat\": {\"log_eval\": 0.012441817403395183}, \"context_stratum\": null}, \"42_0\": {\"name\": \"42_0\", \"parameters\": {\"lr\": 0.0011339380519406353, \"decay\": 0.0036838855554993935, \"epochs\": 50}, \"y\": {\"log_eval\": 3.6393089322795955}, \"y_hat\": {\"log_eval\": 3.639818645207406}, \"se\": {\"log_eval\": 0.013629283673029383}, \"se_hat\": {\"log_eval\": 0.012919674344219421}, \"context_stratum\": null}, \"43_0\": {\"name\": \"43_0\", \"parameters\": {\"lr\": 0.000966822231346963, \"decay\": 0.0014159222420817687, \"epochs\": 50}, \"y\": {\"log_eval\": 3.6673930369798353}, \"y_hat\": {\"log_eval\": 3.6594283636012612}, \"se\": {\"log_eval\": 0.012964159365586368}, \"se_hat\": {\"log_eval\": 0.009881112465664888}, \"context_stratum\": null}, \"44_0\": {\"name\": \"44_0\", \"parameters\": {\"lr\": 0.04044537228104681, \"decay\": 1.0773867568563373e-05, \"epochs\": 0}, \"y\": {\"log_eval\": 3.3077090498698034}, \"y_hat\": {\"log_eval\": 3.3089730164388467}, \"se\": {\"log_eval\": 0.011685138307808459}, \"se_hat\": {\"log_eval\": 0.011630173724347595}, \"context_stratum\": null}, \"45_0\": {\"name\": \"45_0\", \"parameters\": {\"lr\": 0.016038689473977068, \"decay\": 0.00033224162007139364, \"epochs\": 8}, \"y\": {\"log_eval\": 3.6201014199054216}, \"y_hat\": {\"log_eval\": 3.6204503909661656}, \"se\": {\"log_eval\": 0.01340935802979851}, \"se_hat\": {\"log_eval\": 0.012577546845180473}, \"context_stratum\": null}, \"46_0\": {\"name\": \"46_0\", \"parameters\": {\"lr\": 0.0014196493120919636, \"decay\": 0.0001894540113910872, \"epochs\": 34}, \"y\": {\"log_eval\": 3.6144160748948586}, \"y_hat\": {\"log_eval\": 3.612577214959392}, \"se\": {\"log_eval\": 0.01265822051392698}, \"se_hat\": {\"log_eval\": 0.012246496737721938}, \"context_stratum\": null}, \"47_0\": {\"name\": \"47_0\", \"parameters\": {\"lr\": 0.00034276999307719663, \"decay\": 0.00999999999999998, \"epochs\": 50}, \"y\": {\"log_eval\": 3.5265926910636463}, \"y_hat\": {\"log_eval\": 3.526529717650953}, \"se\": {\"log_eval\": 0.012299350769441726}, \"se_hat\": {\"log_eval\": 0.012187362012642146}, \"context_stratum\": null}, \"48_0\": {\"name\": \"48_0\", \"parameters\": {\"lr\": 0.005938148149707883, \"decay\": 0.0007840983805538117, \"epochs\": 7}, \"y\": {\"log_eval\": 3.648372080954148}, \"y_hat\": {\"log_eval\": 3.6459966264404176}, \"se\": {\"log_eval\": 0.011991955791841842}, \"se_hat\": {\"log_eval\": 0.011009391606514004}, \"context_stratum\": null}, \"49_0\": {\"name\": \"49_0\", \"parameters\": {\"lr\": 0.001031454624264051, \"decay\": 0.0009518252724083013, \"epochs\": 48}, \"y\": {\"log_eval\": 3.621990429470776}, \"y_hat\": {\"log_eval\": 3.64195724596439}, \"se\": {\"log_eval\": 0.01295161419332295}, \"se_hat\": {\"log_eval\": 0.008752943313802527}, \"context_stratum\": null}, \"4_0\": {\"name\": \"4_0\", \"parameters\": {\"lr\": 0.00024507982427034327, \"decay\": 0.0017904906868920903, \"epochs\": 3}, \"y\": {\"log_eval\": 3.394475361046734}, \"y_hat\": {\"log_eval\": 3.3941987416034864}, \"se\": {\"log_eval\": 0.011416996783523663}, \"se_hat\": {\"log_eval\": 0.011364083560320508}, \"context_stratum\": null}, \"50_0\": {\"name\": \"50_0\", \"parameters\": {\"lr\": 0.0015862531604133104, \"decay\": 0.00034996139778338385, \"epochs\": 40}, \"y\": {\"log_eval\": 3.6371229929215834}, \"y_hat\": {\"log_eval\": 3.6376680934877355}, \"se\": {\"log_eval\": 0.013294839351542234}, \"se_hat\": {\"log_eval\": 0.011978362137349081}, \"context_stratum\": null}, \"51_0\": {\"name\": \"51_0\", \"parameters\": {\"lr\": 0.0001, \"decay\": 0.0007786274174831826, \"epochs\": 50}, \"y\": {\"log_eval\": 3.4377952459472514}, \"y_hat\": {\"log_eval\": 3.4379990885565284}, \"se\": {\"log_eval\": 0.011530046799630468}, \"se_hat\": {\"log_eval\": 0.011469507241439192}, \"context_stratum\": null}, \"5_0\": {\"name\": \"5_0\", \"parameters\": {\"lr\": 0.00017137166229077094, \"decay\": 3.5115084834239404e-05, \"epochs\": 34}, \"y\": {\"log_eval\": 3.4541948141928853}, \"y_hat\": {\"log_eval\": 3.45384329645565}, \"se\": {\"log_eval\": 0.011142889036146396}, \"se_hat\": {\"log_eval\": 0.011084308668166759}, \"context_stratum\": null}, \"6_0\": {\"name\": \"6_0\", \"parameters\": {\"lr\": 0.004551821441836866, \"decay\": 0.007375404959949084, \"epochs\": 19}, \"y\": {\"log_eval\": 3.6320123520185814}, \"y_hat\": {\"log_eval\": 3.633461118134959}, \"se\": {\"log_eval\": 0.013048649202333357}, \"se_hat\": {\"log_eval\": 0.011788062504764416}, \"context_stratum\": null}, \"7_0\": {\"name\": \"7_0\", \"parameters\": {\"lr\": 0.023212195123507594, \"decay\": 8.455812526476041e-05, \"epochs\": 9}, \"y\": {\"log_eval\": 3.580064777534327}, \"y_hat\": {\"log_eval\": 3.5759650700319137}, \"se\": {\"log_eval\": 0.013974420362918339}, \"se_hat\": {\"log_eval\": 0.013609126772185}, \"context_stratum\": null}, \"8_0\": {\"name\": \"8_0\", \"parameters\": {\"lr\": 0.0012195918445462937, \"decay\": 0.0005595295912680022, \"epochs\": 44}, \"y\": {\"log_eval\": 3.655644962569447}, \"y_hat\": {\"log_eval\": 3.646027577135288}, \"se\": {\"log_eval\": 0.012229225245228424}, \"se_hat\": {\"log_eval\": 0.010501890318337852}, \"context_stratum\": null}, \"9_0\": {\"name\": \"9_0\", \"parameters\": {\"lr\": 0.0006781060687356291, \"decay\": 1.0946176570293072e-05, \"epochs\": 0}, \"y\": {\"log_eval\": 3.319037644557284}, \"y_hat\": {\"log_eval\": 3.3192821976011024}, \"se\": {\"log_eval\": 0.01137763940360927}, \"se_hat\": {\"log_eval\": 0.011339669884700051}, \"context_stratum\": null}, \"control\": {\"name\": \"control\", \"parameters\": {\"lr\": 0.125, \"decay\": 0.0012, \"epochs\": 20}, \"y\": {\"log_eval\": 3.1552959605272526}, \"y_hat\": {\"log_eval\": 3.157053593505689}, \"se\": {\"log_eval\": 0.0116866201822084}, \"se_hat\": {\"log_eval\": 0.011581586583600397}, \"context_stratum\": null}, \"zero\": {\"name\": \"zero\", \"parameters\": {\"lr\": 0.125, \"decay\": 0.0012, \"epochs\": 0}, \"y\": {\"log_eval\": 3.3404300888956486}, \"y_hat\": {\"log_eval\": 3.3389170216622435}, \"se\": {\"log_eval\": 0.010873038587426026}, \"se_hat\": {\"log_eval\": 0.010804900129217636}, \"context_stratum\": null}}, \"out_of_sample\": {}, \"status_quo_name\": null};\n",
       "const arm_name_to_parameters = {\"10_0\": {\"lr\": 0.04978427747990496, \"decay\": 0.003527565121958421, \"epochs\": 47}, \"11_0\": {\"lr\": 0.006247040048381291, \"decay\": 0.0001438024293565146, \"epochs\": 25}, \"12_0\": {\"lr\": 0.00014838731399692169, \"decay\": 0.0014697324908619514, \"epochs\": 22}, \"13_0\": {\"lr\": 0.0005519527802397052, \"decay\": 0.00010246759190872975, \"epochs\": 41}, \"14_0\": {\"lr\": 0.010504083634447867, \"decay\": 0.00043748352890575796, \"epochs\": 12}, \"15_0\": {\"lr\": 0.07475959993275257, \"decay\": 4.4930071267683065e-05, \"epochs\": 16}, \"16_0\": {\"lr\": 0.0028143370815851038, \"decay\": 0.006083735575886048, \"epochs\": 37}, \"17_0\": {\"lr\": 0.0031722460970575166, \"decay\": 5.153458431222948e-05, \"epochs\": 48}, \"18_0\": {\"lr\": 0.061217137158285154, \"decay\": 0.005093566161426102, \"epochs\": 2}, \"19_0\": {\"lr\": 0.012302214003413503, \"decay\": 0.0001241083471404148, \"epochs\": 24}, \"20_0\": {\"lr\": 0.00045671365891730595, \"decay\": 0.0003864138666601675, \"epochs\": 27}, \"21_0\": {\"lr\": 0.00011818864786637608, \"decay\": 0.00017291991110745218, \"epochs\": 11}, \"22_0\": {\"lr\": 0.0042958675936845365, \"decay\": 0.0010471843418864235, \"epochs\": 10}, \"23_0\": {\"lr\": 0.008370803588215753, \"decay\": 0.00022333890726881868, \"epochs\": 2}, \"24_0\": {\"lr\": 0.003423667093075686, \"decay\": 0.0013399111889739398, \"epochs\": 15}, \"25_0\": {\"lr\": 0.0006869113033726057, \"decay\": 0.0018229361036326858, \"epochs\": 45}, \"26_0\": {\"lr\": 0.00558261633492821, \"decay\": 0.0020691025936057034, \"epochs\": 12}, \"27_0\": {\"lr\": 0.0038535517531817546, \"decay\": 0.00039530815909391445, \"epochs\": 11}, \"28_0\": {\"lr\": 0.001831685554727031, \"decay\": 0.0062428424383467575, \"epochs\": 21}, \"29_0\": {\"lr\": 0.0013184302548125534, \"decay\": 0.0008283421858509831, \"epochs\": 37}, \"2_0\": {\"lr\": 0.08222266530738154, \"decay\": 0.000787696268305935, \"epochs\": 28}, \"30_0\": {\"lr\": 0.0005830066799163658, \"decay\": 0.0004613016523184007, \"epochs\": 49}, \"31_0\": {\"lr\": 0.0023223184893015874, \"decay\": 0.0016108860028932247, \"epochs\": 9}, \"32_0\": {\"lr\": 0.005391083307693113, \"decay\": 0.0008003947035889143, \"epochs\": 12}, \"33_0\": {\"lr\": 0.003103488748160297, \"decay\": 0.0035133869602214274, \"epochs\": 22}, \"34_0\": {\"lr\": 0.0012152946378868432, \"decay\": 0.0011010052894948998, \"epochs\": 50}, \"35_0\": {\"lr\": 0.0030470682447321057, \"decay\": 0.01, \"epochs\": 17}, \"36_0\": {\"lr\": 0.003323542918335707, \"decay\": 0.01, \"epochs\": 12}, \"37_0\": {\"lr\": 0.0029671541634396707, \"decay\": 0.00999999999999998, \"epochs\": 20}, \"38_0\": {\"lr\": 0.0028992131921908664, \"decay\": 0.00484521577137573, \"epochs\": 17}, \"39_0\": {\"lr\": 0.0015930102849367376, \"decay\": 0.0012974881820559708, \"epochs\": 46}, \"3_0\": {\"lr\": 0.017995068324623793, \"decay\": 2.0432724797792104e-05, \"epochs\": 44}, \"40_0\": {\"lr\": 0.0011762941184528637, \"decay\": 0.0005560489900774055, \"epochs\": 50}, \"41_0\": {\"lr\": 0.002157058720142707, \"decay\": 0.0008397548096370134, \"epochs\": 24}, \"42_0\": {\"lr\": 0.0011339380519406353, \"decay\": 0.0036838855554993935, \"epochs\": 50}, \"43_0\": {\"lr\": 0.000966822231346963, \"decay\": 0.0014159222420817687, \"epochs\": 50}, \"44_0\": {\"lr\": 0.04044537228104681, \"decay\": 1.0773867568563373e-05, \"epochs\": 0}, \"45_0\": {\"lr\": 0.016038689473977068, \"decay\": 0.00033224162007139364, \"epochs\": 8}, \"46_0\": {\"lr\": 0.0014196493120919636, \"decay\": 0.0001894540113910872, \"epochs\": 34}, \"47_0\": {\"lr\": 0.00034276999307719663, \"decay\": 0.00999999999999998, \"epochs\": 50}, \"48_0\": {\"lr\": 0.005938148149707883, \"decay\": 0.0007840983805538117, \"epochs\": 7}, \"49_0\": {\"lr\": 0.001031454624264051, \"decay\": 0.0009518252724083013, \"epochs\": 48}, \"4_0\": {\"lr\": 0.00024507982427034327, \"decay\": 0.0017904906868920903, \"epochs\": 3}, \"50_0\": {\"lr\": 0.0015862531604133104, \"decay\": 0.00034996139778338385, \"epochs\": 40}, \"51_0\": {\"lr\": 0.0001, \"decay\": 0.0007786274174831826, \"epochs\": 50}, \"5_0\": {\"lr\": 0.00017137166229077094, \"decay\": 3.5115084834239404e-05, \"epochs\": 34}, \"6_0\": {\"lr\": 0.004551821441836866, \"decay\": 0.007375404959949084, \"epochs\": 19}, \"7_0\": {\"lr\": 0.023212195123507594, \"decay\": 8.455812526476041e-05, \"epochs\": 9}, \"8_0\": {\"lr\": 0.0012195918445462937, \"decay\": 0.0005595295912680022, \"epochs\": 44}, \"9_0\": {\"lr\": 0.0006781060687356291, \"decay\": 1.0946176570293072e-05, \"epochs\": 0}, \"control\": {\"lr\": 0.125, \"decay\": 0.0012, \"epochs\": 20}, \"zero\": {\"lr\": 0.125, \"decay\": 0.0012, \"epochs\": 0}};\n",
       "const f = [3.2837574523623303, 3.2818929428315364, 3.2800489584877113, 3.278243585119644, 3.2764997926152177, 3.274846173310304, 3.2733176542844955, 3.2719561329090223, 3.270810967989561, 3.269939237806899, 3.2694056500689515, 3.269281955541159, 3.2696456744889746, 3.2705778898190276, 3.272159789374461, 3.274467550767672, 3.277565067326437, 3.2814939990261047, 3.2862611995435644, 3.291826596623348, 3.2981000603768083, 3.3049518351588403, 3.3122289907545692, 3.319770340007708, 3.3274178422443037, 3.335024724474318, 3.3424609192706196, 3.349616383856854, 3.3564027649701154, 3.3627537783318706, 3.3686245960133134, 3.373990479731009, 3.3788448579888155, 3.3831970142432364, 3.387069527668252, 3.3904955854144174, 3.3935162649320336, 3.3961778673222587, 3.39852936836445, 3.4006200431375317, 3.4024973128031477, 3.404204857430204, 3.405781035550096, 3.4072576479309395, 3.408659078133335, 3.4100018340796976, 3.411294501867685, 3.4125381049979566, 3.413726839953876, 3.4148491349481276];\n",
       "const fit_data = [{\"metric_name\": \"log_eval\", \"arm_name\": \"10_0\", \"mean\": 3.112263631209449, \"sem\": 0.01238418875800926}, {\"metric_name\": \"log_eval\", \"arm_name\": \"11_0\", \"mean\": 3.4241942668232896, \"sem\": 0.01374483715894778}, {\"metric_name\": \"log_eval\", \"arm_name\": \"12_0\", \"mean\": 3.415520117203138, \"sem\": 0.011276006439341265}, {\"metric_name\": \"log_eval\", \"arm_name\": \"13_0\", \"mean\": 3.546131034009097, \"sem\": 0.012589028883241746}, {\"metric_name\": \"log_eval\", \"arm_name\": \"14_0\", \"mean\": 3.634057109613882, \"sem\": 0.013357370606483029}, {\"metric_name\": \"log_eval\", \"arm_name\": \"15_0\", \"mean\": 3.3610420926516205, \"sem\": 0.013348588353470204}, {\"metric_name\": \"log_eval\", \"arm_name\": \"16_0\", \"mean\": 3.528262642158446, \"sem\": 0.012156142965591931}, {\"metric_name\": \"log_eval\", \"arm_name\": \"17_0\", \"mean\": 3.35745258138615, \"sem\": 0.012186919913023975}, {\"metric_name\": \"log_eval\", \"arm_name\": \"18_0\", \"mean\": 3.168146034596125, \"sem\": 0.011724834444400638}, {\"metric_name\": \"log_eval\", \"arm_name\": \"19_0\", \"mean\": 3.310859376580618, \"sem\": 0.013013713238650986}, {\"metric_name\": \"log_eval\", \"arm_name\": \"20_0\", \"mean\": 3.493354500212299, \"sem\": 0.011985410991012154}, {\"metric_name\": \"log_eval\", \"arm_name\": \"21_0\", \"mean\": 3.4129530698338524, \"sem\": 0.010893951393214646}, {\"metric_name\": \"log_eval\", \"arm_name\": \"22_0\", \"mean\": 3.6777936772323065, \"sem\": 0.01295640227218043}, {\"metric_name\": \"log_eval\", \"arm_name\": \"23_0\", \"mean\": 3.519143836350856, \"sem\": 0.01184426378037716}, {\"metric_name\": \"log_eval\", \"arm_name\": \"24_0\", \"mean\": 3.650251177315237, \"sem\": 0.01230955863293442}, {\"metric_name\": \"log_eval\", \"arm_name\": \"25_0\", \"mean\": 3.59844643260302, \"sem\": 0.013030680531584954}, {\"metric_name\": \"log_eval\", \"arm_name\": \"26_0\", \"mean\": 3.5940986162758946, \"sem\": 0.01444843098271689}, {\"metric_name\": \"log_eval\", \"arm_name\": \"27_0\", \"mean\": 3.604072959202277, \"sem\": 0.012192131345327805}, {\"metric_name\": \"log_eval\", \"arm_name\": \"28_0\", \"mean\": 3.6121852565395094, \"sem\": 0.012255683030681006}, {\"metric_name\": \"log_eval\", \"arm_name\": \"29_0\", \"mean\": 3.6172050138356378, \"sem\": 0.012981913317247438}, {\"metric_name\": \"log_eval\", \"arm_name\": \"2_0\", \"mean\": 3.1768169773773316, \"sem\": 0.012540239147262752}, {\"metric_name\": \"log_eval\", \"arm_name\": \"30_0\", \"mean\": 3.598738157827219, \"sem\": 0.011232449462836053}, {\"metric_name\": \"log_eval\", \"arm_name\": \"31_0\", \"mean\": 3.558727045155133, \"sem\": 0.011648132219884741}, {\"metric_name\": \"log_eval\", \"arm_name\": \"32_0\", \"mean\": 3.625094942527766, \"sem\": 0.012355384811992873}, {\"metric_name\": \"log_eval\", \"arm_name\": \"33_0\", \"mean\": 3.6417610419944224, \"sem\": 0.01453414594385548}, {\"metric_name\": \"log_eval\", \"arm_name\": \"34_0\", \"mean\": 3.66830531482307, \"sem\": 0.012908655061946196}, {\"metric_name\": \"log_eval\", \"arm_name\": \"35_0\", \"mean\": 3.6951204858036406, \"sem\": 0.014234781723022609}, {\"metric_name\": \"log_eval\", \"arm_name\": \"36_0\", \"mean\": 3.568384031262799, \"sem\": 0.012652860815973097}, {\"metric_name\": \"log_eval\", \"arm_name\": \"37_0\", \"mean\": 3.6469180672367254, \"sem\": 0.01320344109262514}, {\"metric_name\": \"log_eval\", \"arm_name\": \"38_0\", \"mean\": 3.63075385857155, \"sem\": 0.012528627303692476}, {\"metric_name\": \"log_eval\", \"arm_name\": \"39_0\", \"mean\": 3.6242475806636123, \"sem\": 0.013080994682006861}, {\"metric_name\": \"log_eval\", \"arm_name\": \"3_0\", \"mean\": 3.234652466339278, \"sem\": 0.012151735262042189}, {\"metric_name\": \"log_eval\", \"arm_name\": \"40_0\", \"mean\": 3.6316520235246337, \"sem\": 0.013452239322245547}, {\"metric_name\": \"log_eval\", \"arm_name\": \"41_0\", \"mean\": 3.6162079630280815, \"sem\": 0.012845865852803834}, {\"metric_name\": \"log_eval\", \"arm_name\": \"42_0\", \"mean\": 3.6393089322795955, \"sem\": 0.013629283673029383}, {\"metric_name\": \"log_eval\", \"arm_name\": \"43_0\", \"mean\": 3.6673930369798353, \"sem\": 0.012964159365586368}, {\"metric_name\": \"log_eval\", \"arm_name\": \"44_0\", \"mean\": 3.3077090498698034, \"sem\": 0.011685138307808459}, {\"metric_name\": \"log_eval\", \"arm_name\": \"45_0\", \"mean\": 3.6201014199054216, \"sem\": 0.01340935802979851}, {\"metric_name\": \"log_eval\", \"arm_name\": \"46_0\", \"mean\": 3.6144160748948586, \"sem\": 0.01265822051392698}, {\"metric_name\": \"log_eval\", \"arm_name\": \"47_0\", \"mean\": 3.5265926910636463, \"sem\": 0.012299350769441726}, {\"metric_name\": \"log_eval\", \"arm_name\": \"48_0\", \"mean\": 3.648372080954148, \"sem\": 0.011991955791841842}, {\"metric_name\": \"log_eval\", \"arm_name\": \"49_0\", \"mean\": 3.621990429470776, \"sem\": 0.01295161419332295}, {\"metric_name\": \"log_eval\", \"arm_name\": \"4_0\", \"mean\": 3.394475361046734, \"sem\": 0.011416996783523663}, {\"metric_name\": \"log_eval\", \"arm_name\": \"50_0\", \"mean\": 3.6371229929215834, \"sem\": 0.013294839351542234}, {\"metric_name\": \"log_eval\", \"arm_name\": \"51_0\", \"mean\": 3.4377952459472514, \"sem\": 0.011530046799630468}, {\"metric_name\": \"log_eval\", \"arm_name\": \"5_0\", \"mean\": 3.4541948141928853, \"sem\": 0.011142889036146396}, {\"metric_name\": \"log_eval\", \"arm_name\": \"6_0\", \"mean\": 3.6320123520185814, \"sem\": 0.013048649202333357}, {\"metric_name\": \"log_eval\", \"arm_name\": \"7_0\", \"mean\": 3.580064777534327, \"sem\": 0.013974420362918339}, {\"metric_name\": \"log_eval\", \"arm_name\": \"8_0\", \"mean\": 3.655644962569447, \"sem\": 0.012229225245228424}, {\"metric_name\": \"log_eval\", \"arm_name\": \"9_0\", \"mean\": 3.319037644557284, \"sem\": 0.01137763940360927}, {\"metric_name\": \"log_eval\", \"arm_name\": \"control\", \"mean\": 3.1552959605272526, \"sem\": 0.0116866201822084}, {\"metric_name\": \"log_eval\", \"arm_name\": \"zero\", \"mean\": 3.3404300888956486, \"sem\": 0.010873038587426026}];\n",
       "const grid = [1e-05, 1.1513953993264481e-05, 1.3257113655901082e-05, 1.5264179671752335e-05, 1.757510624854793e-05, 2.0235896477251556e-05, 2.3299518105153718e-05, 2.6826957952797274e-05, 3.0888435964774785e-05, 3.5564803062231284e-05, 4.094915062380427e-05, 4.71486636345739e-05, 5.4286754393238594e-05, 6.250551925273976e-05, 7.196856730011514e-05, 8.286427728546843e-05, 9.540954763499944e-05, 0.00010985411419875583, 0.00012648552168552957, 0.00014563484775012445, 0.00016768329368110083, 0.00019306977288832496, 0.00022229964825261955, 0.0002559547922699536, 0.00029470517025518097, 0.000339322177189533, 0.0003906939937054617, 0.0004498432668969444, 0.0005179474679231213, 0.0005963623316594642, 0.0006866488450042998, 0.0007906043210907702, 0.0009102981779915217, 0.0010481131341546852, 0.0012067926406393288, 0.0013894954943731374, 0.0015998587196060573, 0.0018420699693267163, 0.0021209508879201904, 0.0024420530945486497, 0.002811768697974231, 0.0032374575428176433, 0.003727593720314938, 0.004291934260128779, 0.004941713361323833, 0.005689866029018293, 0.006551285568595509, 0.007543120063354615, 0.00868511373751352, 0.01];\n",
       "const metric = \"log_eval\";\n",
       "const param = \"decay\";\n",
       "const rel = false;\n",
       "const setx = {\"lr\": 0.014048408494097962, \"decay\": 0.0020806475258430142, \"epochs\": 25};\n",
       "const sd = [0.11040197954936029, 0.10694123672956582, 0.10321570644850511, 0.09921053692215184, 0.09491168335146408, 0.09030661685315797, 0.08538527212924234, 0.08014131200514488, 0.07457383038690507, 0.06868969808158812, 0.06250692191502942, 0.05605973581948145, 0.049406907752394154, 0.04264649845600559, 0.035944392046777705, 0.029592765747242487, 0.024125375038539024, 0.020462671357141665, 0.019691055716462284, 0.02200001568623965, 0.026371730209895045, 0.031697251037754795, 0.03729868010641492, 0.04281741339299541, 0.04806483415249442, 0.05294164562536686, 0.057398616627135246, 0.06141658611936797, 0.06499538112586258, 0.06814713806186543, 0.07089201568557406, 0.07325535440965072, 0.07526580284559614, 0.07695413943626564, 0.07835260877233388, 0.07949463249074769, 0.08041477292305717, 0.08114883732003371, 0.08173401709819321, 0.08220896218752949, 0.08261369660972606, 0.08298929059892597, 0.08337722172101188, 0.0838183885690843, 0.08435179002626016, 0.08501294924208741, 0.08583223355578445, 0.08683327980060937, 0.08803175581495484, 0.0894346579108709];\n",
       "const is_log = true;\n",
       "\n",
       "// format data\n",
       "const res = relativize_data(f, sd, rel, arm_data, metric);\n",
       "const f_final = res[0];\n",
       "const sd_final = res[1];\n",
       "\n",
       "// get data for standard deviation fill plot\n",
       "const sd_upper = [];\n",
       "const sd_lower = [];\n",
       "for (let i = 0; i < sd.length; i++) {\n",
       "  sd_upper.push(f_final[i] + 2 * sd_final[i]);\n",
       "  sd_lower.push(f_final[i] - 2 * sd_final[i]);\n",
       "}\n",
       "const grid_rev = copy_and_reverse(grid);\n",
       "const sd_lower_rev = copy_and_reverse(sd_lower);\n",
       "const sd_x = grid.concat(grid_rev);\n",
       "const sd_y = sd_upper.concat(sd_lower_rev);\n",
       "\n",
       "// get data for observed arms and error bars\n",
       "const arm_x = [];\n",
       "const arm_y = [];\n",
       "const arm_sem = [];\n",
       "fit_data.forEach(row => {\n",
       "    parameters = arm_name_to_parameters[row[\"arm_name\"]];\n",
       "    plot = true;\n",
       "    Object.keys(setx).forEach(p => {\n",
       "      if (p !== param && parameters[p] !== setx[p]) {\n",
       "        plot = false;\n",
       "      }\n",
       "    });\n",
       "    if (plot === true) {\n",
       "        arm_x.push(parameters[param]);\n",
       "        arm_y.push(row[\"mean\"]);\n",
       "        arm_sem.push(row[\"sem\"]);\n",
       "    }\n",
       "});\n",
       "\n",
       "const arm_res = relativize_data(\n",
       "  arm_y, arm_sem, rel, arm_data, metric\n",
       ");\n",
       "const arm_y_final = arm_res[0];\n",
       "const arm_sem_final = arm_res[1].map(x => x * 2);\n",
       "\n",
       "// create traces\n",
       "const f_trace = {\n",
       "  x: grid,\n",
       "  y: f_final,\n",
       "  showlegend: false,\n",
       "  hoverinfo: 'x+y',\n",
       "  line: {\n",
       "    color: 'rgba(128, 177, 211, 1)',\n",
       "  },\n",
       "};\n",
       "\n",
       "const arms_trace = {\n",
       "  x: arm_x,\n",
       "  y: arm_y_final,\n",
       "  mode: 'markers',\n",
       "  error_y: {\n",
       "    type: 'data',\n",
       "    array: arm_sem_final,\n",
       "    visible: true,\n",
       "    color: 'black',\n",
       "  },\n",
       "  line: {\n",
       "    color: 'black',\n",
       "  },\n",
       "  showlegend: false,\n",
       "  hoverinfo: 'x+y',\n",
       "};\n",
       "\n",
       "const sd_trace = {\n",
       "    x: sd_x,\n",
       "    y: sd_y,\n",
       "    fill: 'toself',\n",
       "    fillcolor: 'rgba(128, 177, 211, 0.2)',\n",
       "    line: {\n",
       "      color: 'transparent',\n",
       "    },\n",
       "    showlegend: false,\n",
       "    hoverinfo: 'none',\n",
       "};\n",
       "\n",
       "traces = [\n",
       "  sd_trace,\n",
       "  f_trace,\n",
       "  arms_trace,\n",
       "];\n",
       "\n",
       "// iterate over out-of-sample arms\n",
       "let i = 1;\n",
       "Object.keys(arm_data['out_of_sample']).forEach(generator_run_name => {\n",
       "  const ax = [];\n",
       "  const ay = [];\n",
       "  const asem = [];\n",
       "  const atext = [];\n",
       "\n",
       "  Object.keys(arm_data['out_of_sample'][generator_run_name]).forEach(arm_name => {\n",
       "    const parameters = arm_data[\n",
       "      'out_of_sample'][generator_run_name][arm_name]['parameters'];\n",
       "    plot = true;\n",
       "    Object.keys(setx).forEach(p => {\n",
       "      if (p !== param && parameters[p] !== setx[p]) {\n",
       "        plot = false;\n",
       "      }\n",
       "    });\n",
       "    if (plot === true) {\n",
       "      ax.push(parameters[param]);\n",
       "      ay.push(\n",
       "        arm_data['out_of_sample'][generator_run_name][arm_name]['y_hat'][metric]\n",
       "      );\n",
       "      asem.push(\n",
       "        arm_data['out_of_sample'][generator_run_name][arm_name]['se_hat'][metric]\n",
       "      );\n",
       "      atext.push('<em>Candidate ' + arm_name + '</em>');\n",
       "    }\n",
       "  });\n",
       "\n",
       "  const out_of_sample_arm_res = relativize_data(\n",
       "    ay, asem, rel, arm_data, metric\n",
       "  );\n",
       "  const ay_final = out_of_sample_arm_res[0];\n",
       "  const asem_final = out_of_sample_arm_res[1].map(x => x * 2);\n",
       "\n",
       "  traces.push({\n",
       "    hoverinfo: 'text',\n",
       "    legendgroup: generator_run_name,\n",
       "    marker: {color: 'black', symbol: i, opacity: 0.5},\n",
       "    mode: 'markers',\n",
       "    error_y: {\n",
       "      type: 'data',\n",
       "      array: asem_final,\n",
       "      visible: true,\n",
       "      color: 'black',\n",
       "    },\n",
       "    name: generator_run_name,\n",
       "    text: atext,\n",
       "    type: 'scatter',\n",
       "    xaxis: 'x',\n",
       "    x: ax,\n",
       "    yaxis: 'y',\n",
       "    y: ay_final,\n",
       "  });\n",
       "\n",
       "  i += 1;\n",
       "});\n",
       "\n",
       "// layout\n",
       "const xrange = axis_range(grid, is_log);\n",
       "const xtype = is_log ? 'log' : 'linear';\n",
       "\n",
       "layout = {\n",
       "  hovermode: 'closest',\n",
       "  xaxis: {\n",
       "    anchor: 'y',\n",
       "    autorange: false,\n",
       "    exponentformat: 'e',\n",
       "    range: xrange,\n",
       "    tickfont: {size: 11},\n",
       "    tickmode: 'auto',\n",
       "    title: param,\n",
       "    type: xtype,\n",
       "  },\n",
       "  yaxis: {\n",
       "    anchor: 'x',\n",
       "    tickfont: {size: 11},\n",
       "    tickmode: 'auto',\n",
       "    title: metric,\n",
       "  },\n",
       "};\n",
       "\n",
       "Plotly.newPlot(\n",
       "    \"679efd68d8484946b3ce1171c3f02af4\",\n",
       "    traces,\n",
       "    layout,\n",
       "    {showLink: false},\n",
       ");\n",
       "});</script>"
      ]
     },
     "metadata": {},
     "output_type": "display_data"
    }
   ],
   "source": [
    "render(plot_slice(model=gpei, param_name='decay', metric_name='log_eval'))"
   ]
  },
  {
   "cell_type": "code",
   "execution_count": 26,
   "metadata": {
    "pycharm": {
     "name": "#%%\n"
    },
    "scrolled": false
   },
   "outputs": [
    {
     "data": {
      "text/html": [
       "<div id=\"de5def84b74d40baa321732171cf7d88\" style=\"width: 100%;\" class=\"plotly-graph-div\"></div><script type='text/javascript'>/*\n",
       " * Copyright (c) Facebook, Inc. and its affiliates. All Rights Reserved.\n",
       " */\n",
       "\n",
       "require(['plotly'], function(Plotly) {\n",
       "  window.PLOTLYENV = window.PLOTLYENV || {};\n",
       "  window.PLOTLYENV.BASE_URL = 'https://plot.ly';\n",
       "  /*\n",
       " * Copyright (c) Facebook, Inc. and its affiliates. All Rights Reserved.\n",
       " */\n",
       "\n",
       "const arm_data = {\"metrics\": [\"log_eval\"], \"in_sample\": {\"10_0\": {\"name\": \"10_0\", \"parameters\": {\"lr\": 0.04978427747990496, \"decay\": 0.003527565121958421, \"epochs\": 47}, \"y\": {\"log_eval\": 3.112263631209449}, \"y_hat\": {\"log_eval\": 3.114052542426581}, \"se\": {\"log_eval\": 0.01238418875800926}, \"se_hat\": {\"log_eval\": 0.012333336529813459}, \"context_stratum\": null}, \"11_0\": {\"name\": \"11_0\", \"parameters\": {\"lr\": 0.006247040048381291, \"decay\": 0.0001438024293565146, \"epochs\": 25}, \"y\": {\"log_eval\": 3.4241942668232896}, \"y_hat\": {\"log_eval\": 3.421785508764442}, \"se\": {\"log_eval\": 0.01374483715894778}, \"se_hat\": {\"log_eval\": 0.013228352665373973}, \"context_stratum\": null}, \"12_0\": {\"name\": \"12_0\", \"parameters\": {\"lr\": 0.00014838731399692169, \"decay\": 0.0014697324908619514, \"epochs\": 22}, \"y\": {\"log_eval\": 3.415520117203138}, \"y_hat\": {\"log_eval\": 3.4154054618001344}, \"se\": {\"log_eval\": 0.011276006439341265}, \"se_hat\": {\"log_eval\": 0.011208439049154268}, \"context_stratum\": null}, \"13_0\": {\"name\": \"13_0\", \"parameters\": {\"lr\": 0.0005519527802397052, \"decay\": 0.00010246759190872975, \"epochs\": 41}, \"y\": {\"log_eval\": 3.546131034009097}, \"y_hat\": {\"log_eval\": 3.5467401809527708}, \"se\": {\"log_eval\": 0.012589028883241746}, \"se_hat\": {\"log_eval\": 0.012370755528961311}, \"context_stratum\": null}, \"14_0\": {\"name\": \"14_0\", \"parameters\": {\"lr\": 0.010504083634447867, \"decay\": 0.00043748352890575796, \"epochs\": 12}, \"y\": {\"log_eval\": 3.634057109613882}, \"y_hat\": {\"log_eval\": 3.6266019274350696}, \"se\": {\"log_eval\": 0.013357370606483029}, \"se_hat\": {\"log_eval\": 0.012263504168286279}, \"context_stratum\": null}, \"15_0\": {\"name\": \"15_0\", \"parameters\": {\"lr\": 0.07475959993275257, \"decay\": 4.4930071267683065e-05, \"epochs\": 16}, \"y\": {\"log_eval\": 3.3610420926516205}, \"y_hat\": {\"log_eval\": 3.3612515676277255}, \"se\": {\"log_eval\": 0.013348588353470204}, \"se_hat\": {\"log_eval\": 0.013234709567014072}, \"context_stratum\": null}, \"16_0\": {\"name\": \"16_0\", \"parameters\": {\"lr\": 0.0028143370815851038, \"decay\": 0.006083735575886048, \"epochs\": 37}, \"y\": {\"log_eval\": 3.528262642158446}, \"y_hat\": {\"log_eval\": 3.5278215398643207}, \"se\": {\"log_eval\": 0.012156142965591931}, \"se_hat\": {\"log_eval\": 0.012030366909057136}, \"context_stratum\": null}, \"17_0\": {\"name\": \"17_0\", \"parameters\": {\"lr\": 0.0031722460970575166, \"decay\": 5.153458431222948e-05, \"epochs\": 48}, \"y\": {\"log_eval\": 3.35745258138615}, \"y_hat\": {\"log_eval\": 3.358951260569798}, \"se\": {\"log_eval\": 0.012186919913023975}, \"se_hat\": {\"log_eval\": 0.012088815826541945}, \"context_stratum\": null}, \"18_0\": {\"name\": \"18_0\", \"parameters\": {\"lr\": 0.061217137158285154, \"decay\": 0.005093566161426102, \"epochs\": 2}, \"y\": {\"log_eval\": 3.168146034596125}, \"y_hat\": {\"log_eval\": 3.1708864060537443}, \"se\": {\"log_eval\": 0.011724834444400638}, \"se_hat\": {\"log_eval\": 0.011636760356815122}, \"context_stratum\": null}, \"19_0\": {\"name\": \"19_0\", \"parameters\": {\"lr\": 0.012302214003413503, \"decay\": 0.0001241083471404148, \"epochs\": 24}, \"y\": {\"log_eval\": 3.310859376580618}, \"y_hat\": {\"log_eval\": 3.3156705007065432}, \"se\": {\"log_eval\": 0.013013713238650986}, \"se_hat\": {\"log_eval\": 0.012627976507614408}, \"context_stratum\": null}, \"20_0\": {\"name\": \"20_0\", \"parameters\": {\"lr\": 0.00045671365891730595, \"decay\": 0.0003864138666601675, \"epochs\": 27}, \"y\": {\"log_eval\": 3.493354500212299}, \"y_hat\": {\"log_eval\": 3.4941038776986613}, \"se\": {\"log_eval\": 0.011985410991012154}, \"se_hat\": {\"log_eval\": 0.011842025112949567}, \"context_stratum\": null}, \"21_0\": {\"name\": \"21_0\", \"parameters\": {\"lr\": 0.00011818864786637608, \"decay\": 0.00017291991110745218, \"epochs\": 11}, \"y\": {\"log_eval\": 3.4129530698338524}, \"y_hat\": {\"log_eval\": 3.4126835751538476}, \"se\": {\"log_eval\": 0.010893951393214646}, \"se_hat\": {\"log_eval\": 0.010845374849696844}, \"context_stratum\": null}, \"22_0\": {\"name\": \"22_0\", \"parameters\": {\"lr\": 0.0042958675936845365, \"decay\": 0.0010471843418864235, \"epochs\": 10}, \"y\": {\"log_eval\": 3.6777936772323065}, \"y_hat\": {\"log_eval\": 3.6528422645538745}, \"se\": {\"log_eval\": 0.01295640227218043}, \"se_hat\": {\"log_eval\": 0.00944134535527963}, \"context_stratum\": null}, \"23_0\": {\"name\": \"23_0\", \"parameters\": {\"lr\": 0.008370803588215753, \"decay\": 0.00022333890726881868, \"epochs\": 2}, \"y\": {\"log_eval\": 3.519143836350856}, \"y_hat\": {\"log_eval\": 3.521584278609035}, \"se\": {\"log_eval\": 0.01184426378037716}, \"se_hat\": {\"log_eval\": 0.011644284122676603}, \"context_stratum\": null}, \"24_0\": {\"name\": \"24_0\", \"parameters\": {\"lr\": 0.003423667093075686, \"decay\": 0.0013399111889739398, \"epochs\": 15}, \"y\": {\"log_eval\": 3.650251177315237}, \"y_hat\": {\"log_eval\": 3.6431589437205516}, \"se\": {\"log_eval\": 0.01230955863293442}, \"se_hat\": {\"log_eval\": 0.011011913946384469}, \"context_stratum\": null}, \"25_0\": {\"name\": \"25_0\", \"parameters\": {\"lr\": 0.0006869113033726057, \"decay\": 0.0018229361036326858, \"epochs\": 45}, \"y\": {\"log_eval\": 3.59844643260302}, \"y_hat\": {\"log_eval\": 3.5983592923059278}, \"se\": {\"log_eval\": 0.013030680531584954}, \"se_hat\": {\"log_eval\": 0.012355242402042953}, \"context_stratum\": null}, \"26_0\": {\"name\": \"26_0\", \"parameters\": {\"lr\": 0.00558261633492821, \"decay\": 0.0020691025936057034, \"epochs\": 12}, \"y\": {\"log_eval\": 3.5940986162758946}, \"y_hat\": {\"log_eval\": 3.603189753125716}, \"se\": {\"log_eval\": 0.01444843098271689}, \"se_hat\": {\"log_eval\": 0.012787919264242121}, \"context_stratum\": null}, \"27_0\": {\"name\": \"27_0\", \"parameters\": {\"lr\": 0.0038535517531817546, \"decay\": 0.00039530815909391445, \"epochs\": 11}, \"y\": {\"log_eval\": 3.604072959202277}, \"y_hat\": {\"log_eval\": 3.6077179059964095}, \"se\": {\"log_eval\": 0.012192131345327805}, \"se_hat\": {\"log_eval\": 0.011606140997104034}, \"context_stratum\": null}, \"28_0\": {\"name\": \"28_0\", \"parameters\": {\"lr\": 0.001831685554727031, \"decay\": 0.0062428424383467575, \"epochs\": 21}, \"y\": {\"log_eval\": 3.6121852565395094}, \"y_hat\": {\"log_eval\": 3.6141663472253427}, \"se\": {\"log_eval\": 0.012255683030681006}, \"se_hat\": {\"log_eval\": 0.011532699243793382}, \"context_stratum\": null}, \"29_0\": {\"name\": \"29_0\", \"parameters\": {\"lr\": 0.0013184302548125534, \"decay\": 0.0008283421858509831, \"epochs\": 37}, \"y\": {\"log_eval\": 3.6172050138356378}, \"y_hat\": {\"log_eval\": 3.6190250824743524}, \"se\": {\"log_eval\": 0.012981913317247438}, \"se_hat\": {\"log_eval\": 0.012386771755470169}, \"context_stratum\": null}, \"2_0\": {\"name\": \"2_0\", \"parameters\": {\"lr\": 0.08222266530738154, \"decay\": 0.000787696268305935, \"epochs\": 28}, \"y\": {\"log_eval\": 3.1768169773773316}, \"y_hat\": {\"log_eval\": 3.1759294798904616}, \"se\": {\"log_eval\": 0.012540239147262752}, \"se_hat\": {\"log_eval\": 0.012406686898506932}, \"context_stratum\": null}, \"30_0\": {\"name\": \"30_0\", \"parameters\": {\"lr\": 0.0005830066799163658, \"decay\": 0.0004613016523184007, \"epochs\": 49}, \"y\": {\"log_eval\": 3.598738157827219}, \"y_hat\": {\"log_eval\": 3.5981352364618955}, \"se\": {\"log_eval\": 0.011232449462836053}, \"se_hat\": {\"log_eval\": 0.010826821341997778}, \"context_stratum\": null}, \"31_0\": {\"name\": \"31_0\", \"parameters\": {\"lr\": 0.0023223184893015874, \"decay\": 0.0016108860028932247, \"epochs\": 9}, \"y\": {\"log_eval\": 3.558727045155133}, \"y_hat\": {\"log_eval\": 3.5645356723793453}, \"se\": {\"log_eval\": 0.011648132219884741}, \"se_hat\": {\"log_eval\": 0.011227946938375921}, \"context_stratum\": null}, \"32_0\": {\"name\": \"32_0\", \"parameters\": {\"lr\": 0.005391083307693113, \"decay\": 0.0008003947035889143, \"epochs\": 12}, \"y\": {\"log_eval\": 3.625094942527766}, \"y_hat\": {\"log_eval\": 3.6418783680275415}, \"se\": {\"log_eval\": 0.012355384811992873}, \"se_hat\": {\"log_eval\": 0.009696772021200095}, \"context_stratum\": null}, \"33_0\": {\"name\": \"33_0\", \"parameters\": {\"lr\": 0.003103488748160297, \"decay\": 0.0035133869602214274, \"epochs\": 22}, \"y\": {\"log_eval\": 3.6417610419944224}, \"y_hat\": {\"log_eval\": 3.6361885761752606}, \"se\": {\"log_eval\": 0.01453414594385548}, \"se_hat\": {\"log_eval\": 0.012918848890534218}, \"context_stratum\": null}, \"34_0\": {\"name\": \"34_0\", \"parameters\": {\"lr\": 0.0012152946378868432, \"decay\": 0.0011010052894948998, \"epochs\": 50}, \"y\": {\"log_eval\": 3.66830531482307}, \"y_hat\": {\"log_eval\": 3.6579242421509246}, \"se\": {\"log_eval\": 0.012908655061946196}, \"se_hat\": {\"log_eval\": 0.009066252526822832}, \"context_stratum\": null}, \"35_0\": {\"name\": \"35_0\", \"parameters\": {\"lr\": 0.0030470682447321057, \"decay\": 0.01, \"epochs\": 17}, \"y\": {\"log_eval\": 3.6951204858036406}, \"y_hat\": {\"log_eval\": 3.6631363938141344}, \"se\": {\"log_eval\": 0.014234781723022609}, \"se_hat\": {\"log_eval\": 0.010346484703827477}, \"context_stratum\": null}, \"36_0\": {\"name\": \"36_0\", \"parameters\": {\"lr\": 0.003323542918335707, \"decay\": 0.01, \"epochs\": 12}, \"y\": {\"log_eval\": 3.568384031262799}, \"y_hat\": {\"log_eval\": 3.574885834540357}, \"se\": {\"log_eval\": 0.012652860815973097}, \"se_hat\": {\"log_eval\": 0.012067755980426401}, \"context_stratum\": null}, \"37_0\": {\"name\": \"37_0\", \"parameters\": {\"lr\": 0.0029671541634396707, \"decay\": 0.00999999999999998, \"epochs\": 20}, \"y\": {\"log_eval\": 3.6469180672367254}, \"y_hat\": {\"log_eval\": 3.6575289308946104}, \"se\": {\"log_eval\": 0.01320344109262514}, \"se_hat\": {\"log_eval\": 0.010818406139472317}, \"context_stratum\": null}, \"38_0\": {\"name\": \"38_0\", \"parameters\": {\"lr\": 0.0028992131921908664, \"decay\": 0.00484521577137573, \"epochs\": 17}, \"y\": {\"log_eval\": 3.63075385857155}, \"y_hat\": {\"log_eval\": 3.6404219262262028}, \"se\": {\"log_eval\": 0.012528627303692476}, \"se_hat\": {\"log_eval\": 0.010746833777664177}, \"context_stratum\": null}, \"39_0\": {\"name\": \"39_0\", \"parameters\": {\"lr\": 0.0015930102849367376, \"decay\": 0.0012974881820559708, \"epochs\": 46}, \"y\": {\"log_eval\": 3.6242475806636123}, \"y_hat\": {\"log_eval\": 3.6272666960101385}, \"se\": {\"log_eval\": 0.013080994682006861}, \"se_hat\": {\"log_eval\": 0.01186544224115143}, \"context_stratum\": null}, \"3_0\": {\"name\": \"3_0\", \"parameters\": {\"lr\": 0.017995068324623793, \"decay\": 2.0432724797792104e-05, \"epochs\": 44}, \"y\": {\"log_eval\": 3.234652466339278}, \"y_hat\": {\"log_eval\": 3.2347342504666186}, \"se\": {\"log_eval\": 0.012151735262042189}, \"se_hat\": {\"log_eval\": 0.012092348961876092}, \"context_stratum\": null}, \"40_0\": {\"name\": \"40_0\", \"parameters\": {\"lr\": 0.0011762941184528637, \"decay\": 0.0005560489900774055, \"epochs\": 50}, \"y\": {\"log_eval\": 3.6316520235246337}, \"y_hat\": {\"log_eval\": 3.6332990397095823}, \"se\": {\"log_eval\": 0.013452239322245547}, \"se_hat\": {\"log_eval\": 0.011662392341226633}, \"context_stratum\": null}, \"41_0\": {\"name\": \"41_0\", \"parameters\": {\"lr\": 0.002157058720142707, \"decay\": 0.0008397548096370134, \"epochs\": 24}, \"y\": {\"log_eval\": 3.6162079630280815}, \"y_hat\": {\"log_eval\": 3.61598968942969}, \"se\": {\"log_eval\": 0.012845865852803834}, \"se_hat\": {\"log_eval\": 0.012441817403395183}, \"context_stratum\": null}, \"42_0\": {\"name\": \"42_0\", \"parameters\": {\"lr\": 0.0011339380519406353, \"decay\": 0.0036838855554993935, \"epochs\": 50}, \"y\": {\"log_eval\": 3.6393089322795955}, \"y_hat\": {\"log_eval\": 3.639818645207406}, \"se\": {\"log_eval\": 0.013629283673029383}, \"se_hat\": {\"log_eval\": 0.012919674344219421}, \"context_stratum\": null}, \"43_0\": {\"name\": \"43_0\", \"parameters\": {\"lr\": 0.000966822231346963, \"decay\": 0.0014159222420817687, \"epochs\": 50}, \"y\": {\"log_eval\": 3.6673930369798353}, \"y_hat\": {\"log_eval\": 3.6594283636012612}, \"se\": {\"log_eval\": 0.012964159365586368}, \"se_hat\": {\"log_eval\": 0.009881112465664888}, \"context_stratum\": null}, \"44_0\": {\"name\": \"44_0\", \"parameters\": {\"lr\": 0.04044537228104681, \"decay\": 1.0773867568563373e-05, \"epochs\": 0}, \"y\": {\"log_eval\": 3.3077090498698034}, \"y_hat\": {\"log_eval\": 3.3089730164388467}, \"se\": {\"log_eval\": 0.011685138307808459}, \"se_hat\": {\"log_eval\": 0.011630173724347595}, \"context_stratum\": null}, \"45_0\": {\"name\": \"45_0\", \"parameters\": {\"lr\": 0.016038689473977068, \"decay\": 0.00033224162007139364, \"epochs\": 8}, \"y\": {\"log_eval\": 3.6201014199054216}, \"y_hat\": {\"log_eval\": 3.6204503909661656}, \"se\": {\"log_eval\": 0.01340935802979851}, \"se_hat\": {\"log_eval\": 0.012577546845180473}, \"context_stratum\": null}, \"46_0\": {\"name\": \"46_0\", \"parameters\": {\"lr\": 0.0014196493120919636, \"decay\": 0.0001894540113910872, \"epochs\": 34}, \"y\": {\"log_eval\": 3.6144160748948586}, \"y_hat\": {\"log_eval\": 3.612577214959392}, \"se\": {\"log_eval\": 0.01265822051392698}, \"se_hat\": {\"log_eval\": 0.012246496737721938}, \"context_stratum\": null}, \"47_0\": {\"name\": \"47_0\", \"parameters\": {\"lr\": 0.00034276999307719663, \"decay\": 0.00999999999999998, \"epochs\": 50}, \"y\": {\"log_eval\": 3.5265926910636463}, \"y_hat\": {\"log_eval\": 3.526529717650953}, \"se\": {\"log_eval\": 0.012299350769441726}, \"se_hat\": {\"log_eval\": 0.012187362012642146}, \"context_stratum\": null}, \"48_0\": {\"name\": \"48_0\", \"parameters\": {\"lr\": 0.005938148149707883, \"decay\": 0.0007840983805538117, \"epochs\": 7}, \"y\": {\"log_eval\": 3.648372080954148}, \"y_hat\": {\"log_eval\": 3.6459966264404176}, \"se\": {\"log_eval\": 0.011991955791841842}, \"se_hat\": {\"log_eval\": 0.011009391606514004}, \"context_stratum\": null}, \"49_0\": {\"name\": \"49_0\", \"parameters\": {\"lr\": 0.001031454624264051, \"decay\": 0.0009518252724083013, \"epochs\": 48}, \"y\": {\"log_eval\": 3.621990429470776}, \"y_hat\": {\"log_eval\": 3.64195724596439}, \"se\": {\"log_eval\": 0.01295161419332295}, \"se_hat\": {\"log_eval\": 0.008752943313802527}, \"context_stratum\": null}, \"4_0\": {\"name\": \"4_0\", \"parameters\": {\"lr\": 0.00024507982427034327, \"decay\": 0.0017904906868920903, \"epochs\": 3}, \"y\": {\"log_eval\": 3.394475361046734}, \"y_hat\": {\"log_eval\": 3.3941987416034864}, \"se\": {\"log_eval\": 0.011416996783523663}, \"se_hat\": {\"log_eval\": 0.011364083560320508}, \"context_stratum\": null}, \"50_0\": {\"name\": \"50_0\", \"parameters\": {\"lr\": 0.0015862531604133104, \"decay\": 0.00034996139778338385, \"epochs\": 40}, \"y\": {\"log_eval\": 3.6371229929215834}, \"y_hat\": {\"log_eval\": 3.6376680934877355}, \"se\": {\"log_eval\": 0.013294839351542234}, \"se_hat\": {\"log_eval\": 0.011978362137349081}, \"context_stratum\": null}, \"51_0\": {\"name\": \"51_0\", \"parameters\": {\"lr\": 0.0001, \"decay\": 0.0007786274174831826, \"epochs\": 50}, \"y\": {\"log_eval\": 3.4377952459472514}, \"y_hat\": {\"log_eval\": 3.4379990885565284}, \"se\": {\"log_eval\": 0.011530046799630468}, \"se_hat\": {\"log_eval\": 0.011469507241439192}, \"context_stratum\": null}, \"5_0\": {\"name\": \"5_0\", \"parameters\": {\"lr\": 0.00017137166229077094, \"decay\": 3.5115084834239404e-05, \"epochs\": 34}, \"y\": {\"log_eval\": 3.4541948141928853}, \"y_hat\": {\"log_eval\": 3.45384329645565}, \"se\": {\"log_eval\": 0.011142889036146396}, \"se_hat\": {\"log_eval\": 0.011084308668166759}, \"context_stratum\": null}, \"6_0\": {\"name\": \"6_0\", \"parameters\": {\"lr\": 0.004551821441836866, \"decay\": 0.007375404959949084, \"epochs\": 19}, \"y\": {\"log_eval\": 3.6320123520185814}, \"y_hat\": {\"log_eval\": 3.633461118134959}, \"se\": {\"log_eval\": 0.013048649202333357}, \"se_hat\": {\"log_eval\": 0.011788062504764416}, \"context_stratum\": null}, \"7_0\": {\"name\": \"7_0\", \"parameters\": {\"lr\": 0.023212195123507594, \"decay\": 8.455812526476041e-05, \"epochs\": 9}, \"y\": {\"log_eval\": 3.580064777534327}, \"y_hat\": {\"log_eval\": 3.5759650700319137}, \"se\": {\"log_eval\": 0.013974420362918339}, \"se_hat\": {\"log_eval\": 0.013609126772185}, \"context_stratum\": null}, \"8_0\": {\"name\": \"8_0\", \"parameters\": {\"lr\": 0.0012195918445462937, \"decay\": 0.0005595295912680022, \"epochs\": 44}, \"y\": {\"log_eval\": 3.655644962569447}, \"y_hat\": {\"log_eval\": 3.646027577135288}, \"se\": {\"log_eval\": 0.012229225245228424}, \"se_hat\": {\"log_eval\": 0.010501890318337852}, \"context_stratum\": null}, \"9_0\": {\"name\": \"9_0\", \"parameters\": {\"lr\": 0.0006781060687356291, \"decay\": 1.0946176570293072e-05, \"epochs\": 0}, \"y\": {\"log_eval\": 3.319037644557284}, \"y_hat\": {\"log_eval\": 3.3192821976011024}, \"se\": {\"log_eval\": 0.01137763940360927}, \"se_hat\": {\"log_eval\": 0.011339669884700051}, \"context_stratum\": null}, \"control\": {\"name\": \"control\", \"parameters\": {\"lr\": 0.125, \"decay\": 0.0012, \"epochs\": 20}, \"y\": {\"log_eval\": 3.1552959605272526}, \"y_hat\": {\"log_eval\": 3.157053593505689}, \"se\": {\"log_eval\": 0.0116866201822084}, \"se_hat\": {\"log_eval\": 0.011581586583600397}, \"context_stratum\": null}, \"zero\": {\"name\": \"zero\", \"parameters\": {\"lr\": 0.125, \"decay\": 0.0012, \"epochs\": 0}, \"y\": {\"log_eval\": 3.3404300888956486}, \"y_hat\": {\"log_eval\": 3.3389170216622435}, \"se\": {\"log_eval\": 0.010873038587426026}, \"se_hat\": {\"log_eval\": 0.010804900129217636}, \"context_stratum\": null}}, \"out_of_sample\": {}, \"status_quo_name\": null};\n",
       "const arm_name_to_parameters = {\"10_0\": {\"lr\": 0.04978427747990496, \"decay\": 0.003527565121958421, \"epochs\": 47}, \"11_0\": {\"lr\": 0.006247040048381291, \"decay\": 0.0001438024293565146, \"epochs\": 25}, \"12_0\": {\"lr\": 0.00014838731399692169, \"decay\": 0.0014697324908619514, \"epochs\": 22}, \"13_0\": {\"lr\": 0.0005519527802397052, \"decay\": 0.00010246759190872975, \"epochs\": 41}, \"14_0\": {\"lr\": 0.010504083634447867, \"decay\": 0.00043748352890575796, \"epochs\": 12}, \"15_0\": {\"lr\": 0.07475959993275257, \"decay\": 4.4930071267683065e-05, \"epochs\": 16}, \"16_0\": {\"lr\": 0.0028143370815851038, \"decay\": 0.006083735575886048, \"epochs\": 37}, \"17_0\": {\"lr\": 0.0031722460970575166, \"decay\": 5.153458431222948e-05, \"epochs\": 48}, \"18_0\": {\"lr\": 0.061217137158285154, \"decay\": 0.005093566161426102, \"epochs\": 2}, \"19_0\": {\"lr\": 0.012302214003413503, \"decay\": 0.0001241083471404148, \"epochs\": 24}, \"20_0\": {\"lr\": 0.00045671365891730595, \"decay\": 0.0003864138666601675, \"epochs\": 27}, \"21_0\": {\"lr\": 0.00011818864786637608, \"decay\": 0.00017291991110745218, \"epochs\": 11}, \"22_0\": {\"lr\": 0.0042958675936845365, \"decay\": 0.0010471843418864235, \"epochs\": 10}, \"23_0\": {\"lr\": 0.008370803588215753, \"decay\": 0.00022333890726881868, \"epochs\": 2}, \"24_0\": {\"lr\": 0.003423667093075686, \"decay\": 0.0013399111889739398, \"epochs\": 15}, \"25_0\": {\"lr\": 0.0006869113033726057, \"decay\": 0.0018229361036326858, \"epochs\": 45}, \"26_0\": {\"lr\": 0.00558261633492821, \"decay\": 0.0020691025936057034, \"epochs\": 12}, \"27_0\": {\"lr\": 0.0038535517531817546, \"decay\": 0.00039530815909391445, \"epochs\": 11}, \"28_0\": {\"lr\": 0.001831685554727031, \"decay\": 0.0062428424383467575, \"epochs\": 21}, \"29_0\": {\"lr\": 0.0013184302548125534, \"decay\": 0.0008283421858509831, \"epochs\": 37}, \"2_0\": {\"lr\": 0.08222266530738154, \"decay\": 0.000787696268305935, \"epochs\": 28}, \"30_0\": {\"lr\": 0.0005830066799163658, \"decay\": 0.0004613016523184007, \"epochs\": 49}, \"31_0\": {\"lr\": 0.0023223184893015874, \"decay\": 0.0016108860028932247, \"epochs\": 9}, \"32_0\": {\"lr\": 0.005391083307693113, \"decay\": 0.0008003947035889143, \"epochs\": 12}, \"33_0\": {\"lr\": 0.003103488748160297, \"decay\": 0.0035133869602214274, \"epochs\": 22}, \"34_0\": {\"lr\": 0.0012152946378868432, \"decay\": 0.0011010052894948998, \"epochs\": 50}, \"35_0\": {\"lr\": 0.0030470682447321057, \"decay\": 0.01, \"epochs\": 17}, \"36_0\": {\"lr\": 0.003323542918335707, \"decay\": 0.01, \"epochs\": 12}, \"37_0\": {\"lr\": 0.0029671541634396707, \"decay\": 0.00999999999999998, \"epochs\": 20}, \"38_0\": {\"lr\": 0.0028992131921908664, \"decay\": 0.00484521577137573, \"epochs\": 17}, \"39_0\": {\"lr\": 0.0015930102849367376, \"decay\": 0.0012974881820559708, \"epochs\": 46}, \"3_0\": {\"lr\": 0.017995068324623793, \"decay\": 2.0432724797792104e-05, \"epochs\": 44}, \"40_0\": {\"lr\": 0.0011762941184528637, \"decay\": 0.0005560489900774055, \"epochs\": 50}, \"41_0\": {\"lr\": 0.002157058720142707, \"decay\": 0.0008397548096370134, \"epochs\": 24}, \"42_0\": {\"lr\": 0.0011339380519406353, \"decay\": 0.0036838855554993935, \"epochs\": 50}, \"43_0\": {\"lr\": 0.000966822231346963, \"decay\": 0.0014159222420817687, \"epochs\": 50}, \"44_0\": {\"lr\": 0.04044537228104681, \"decay\": 1.0773867568563373e-05, \"epochs\": 0}, \"45_0\": {\"lr\": 0.016038689473977068, \"decay\": 0.00033224162007139364, \"epochs\": 8}, \"46_0\": {\"lr\": 0.0014196493120919636, \"decay\": 0.0001894540113910872, \"epochs\": 34}, \"47_0\": {\"lr\": 0.00034276999307719663, \"decay\": 0.00999999999999998, \"epochs\": 50}, \"48_0\": {\"lr\": 0.005938148149707883, \"decay\": 0.0007840983805538117, \"epochs\": 7}, \"49_0\": {\"lr\": 0.001031454624264051, \"decay\": 0.0009518252724083013, \"epochs\": 48}, \"4_0\": {\"lr\": 0.00024507982427034327, \"decay\": 0.0017904906868920903, \"epochs\": 3}, \"50_0\": {\"lr\": 0.0015862531604133104, \"decay\": 0.00034996139778338385, \"epochs\": 40}, \"51_0\": {\"lr\": 0.0001, \"decay\": 0.0007786274174831826, \"epochs\": 50}, \"5_0\": {\"lr\": 0.00017137166229077094, \"decay\": 3.5115084834239404e-05, \"epochs\": 34}, \"6_0\": {\"lr\": 0.004551821441836866, \"decay\": 0.007375404959949084, \"epochs\": 19}, \"7_0\": {\"lr\": 0.023212195123507594, \"decay\": 8.455812526476041e-05, \"epochs\": 9}, \"8_0\": {\"lr\": 0.0012195918445462937, \"decay\": 0.0005595295912680022, \"epochs\": 44}, \"9_0\": {\"lr\": 0.0006781060687356291, \"decay\": 1.0946176570293072e-05, \"epochs\": 0}, \"control\": {\"lr\": 0.125, \"decay\": 0.0012, \"epochs\": 20}, \"zero\": {\"lr\": 0.125, \"decay\": 0.0012, \"epochs\": 0}};\n",
       "const f = [3.40759078358846, 3.4197556928041672, 3.431867546479425, 3.443554451953531, 3.454427518809573, 3.464110772665919, 3.4722749880339077, 3.4786705017791895, 3.4831527836218603, 3.485694639642298, 3.486381013341288, 3.485386406313057, 3.482939917740014, 3.4792867768017506, 3.4746559502461243, 3.4692403617613317, 3.4631910911786674, 3.4566223633994584, 3.4496220313796426, 3.442262649689089, 3.4346100091302243, 3.4267279561824666, 3.418679752916017, 3.4105269741404687, 3.4023271296448754, 3.394131067011518, 3.3859809386780197, 3.377909214229408, 3.369938938080657, 3.3620851994808048, 3.354357610383329, 3.346763482211637, 3.3393113490761994, 3.3320144874508992, 3.3248941117492334, 3.317981965217326, 3.3113220663125476, 3.304971410138658, 3.2989994665886675, 3.293486369266169, 3.288519760850842, 3.2841903591498554, 3.2805864377430556, 3.2777875721980747, 3.2758581703212006, 3.2748414482058954, 3.274754583014949, 3.275585717936254, 3.277293289648318, 3.279807819177954];\n",
       "const fit_data = [{\"metric_name\": \"log_eval\", \"arm_name\": \"10_0\", \"mean\": 3.112263631209449, \"sem\": 0.01238418875800926}, {\"metric_name\": \"log_eval\", \"arm_name\": \"11_0\", \"mean\": 3.4241942668232896, \"sem\": 0.01374483715894778}, {\"metric_name\": \"log_eval\", \"arm_name\": \"12_0\", \"mean\": 3.415520117203138, \"sem\": 0.011276006439341265}, {\"metric_name\": \"log_eval\", \"arm_name\": \"13_0\", \"mean\": 3.546131034009097, \"sem\": 0.012589028883241746}, {\"metric_name\": \"log_eval\", \"arm_name\": \"14_0\", \"mean\": 3.634057109613882, \"sem\": 0.013357370606483029}, {\"metric_name\": \"log_eval\", \"arm_name\": \"15_0\", \"mean\": 3.3610420926516205, \"sem\": 0.013348588353470204}, {\"metric_name\": \"log_eval\", \"arm_name\": \"16_0\", \"mean\": 3.528262642158446, \"sem\": 0.012156142965591931}, {\"metric_name\": \"log_eval\", \"arm_name\": \"17_0\", \"mean\": 3.35745258138615, \"sem\": 0.012186919913023975}, {\"metric_name\": \"log_eval\", \"arm_name\": \"18_0\", \"mean\": 3.168146034596125, \"sem\": 0.011724834444400638}, {\"metric_name\": \"log_eval\", \"arm_name\": \"19_0\", \"mean\": 3.310859376580618, \"sem\": 0.013013713238650986}, {\"metric_name\": \"log_eval\", \"arm_name\": \"20_0\", \"mean\": 3.493354500212299, \"sem\": 0.011985410991012154}, {\"metric_name\": \"log_eval\", \"arm_name\": \"21_0\", \"mean\": 3.4129530698338524, \"sem\": 0.010893951393214646}, {\"metric_name\": \"log_eval\", \"arm_name\": \"22_0\", \"mean\": 3.6777936772323065, \"sem\": 0.01295640227218043}, {\"metric_name\": \"log_eval\", \"arm_name\": \"23_0\", \"mean\": 3.519143836350856, \"sem\": 0.01184426378037716}, {\"metric_name\": \"log_eval\", \"arm_name\": \"24_0\", \"mean\": 3.650251177315237, \"sem\": 0.01230955863293442}, {\"metric_name\": \"log_eval\", \"arm_name\": \"25_0\", \"mean\": 3.59844643260302, \"sem\": 0.013030680531584954}, {\"metric_name\": \"log_eval\", \"arm_name\": \"26_0\", \"mean\": 3.5940986162758946, \"sem\": 0.01444843098271689}, {\"metric_name\": \"log_eval\", \"arm_name\": \"27_0\", \"mean\": 3.604072959202277, \"sem\": 0.012192131345327805}, {\"metric_name\": \"log_eval\", \"arm_name\": \"28_0\", \"mean\": 3.6121852565395094, \"sem\": 0.012255683030681006}, {\"metric_name\": \"log_eval\", \"arm_name\": \"29_0\", \"mean\": 3.6172050138356378, \"sem\": 0.012981913317247438}, {\"metric_name\": \"log_eval\", \"arm_name\": \"2_0\", \"mean\": 3.1768169773773316, \"sem\": 0.012540239147262752}, {\"metric_name\": \"log_eval\", \"arm_name\": \"30_0\", \"mean\": 3.598738157827219, \"sem\": 0.011232449462836053}, {\"metric_name\": \"log_eval\", \"arm_name\": \"31_0\", \"mean\": 3.558727045155133, \"sem\": 0.011648132219884741}, {\"metric_name\": \"log_eval\", \"arm_name\": \"32_0\", \"mean\": 3.625094942527766, \"sem\": 0.012355384811992873}, {\"metric_name\": \"log_eval\", \"arm_name\": \"33_0\", \"mean\": 3.6417610419944224, \"sem\": 0.01453414594385548}, {\"metric_name\": \"log_eval\", \"arm_name\": \"34_0\", \"mean\": 3.66830531482307, \"sem\": 0.012908655061946196}, {\"metric_name\": \"log_eval\", \"arm_name\": \"35_0\", \"mean\": 3.6951204858036406, \"sem\": 0.014234781723022609}, {\"metric_name\": \"log_eval\", \"arm_name\": \"36_0\", \"mean\": 3.568384031262799, \"sem\": 0.012652860815973097}, {\"metric_name\": \"log_eval\", \"arm_name\": \"37_0\", \"mean\": 3.6469180672367254, \"sem\": 0.01320344109262514}, {\"metric_name\": \"log_eval\", \"arm_name\": \"38_0\", \"mean\": 3.63075385857155, \"sem\": 0.012528627303692476}, {\"metric_name\": \"log_eval\", \"arm_name\": \"39_0\", \"mean\": 3.6242475806636123, \"sem\": 0.013080994682006861}, {\"metric_name\": \"log_eval\", \"arm_name\": \"3_0\", \"mean\": 3.234652466339278, \"sem\": 0.012151735262042189}, {\"metric_name\": \"log_eval\", \"arm_name\": \"40_0\", \"mean\": 3.6316520235246337, \"sem\": 0.013452239322245547}, {\"metric_name\": \"log_eval\", \"arm_name\": \"41_0\", \"mean\": 3.6162079630280815, \"sem\": 0.012845865852803834}, {\"metric_name\": \"log_eval\", \"arm_name\": \"42_0\", \"mean\": 3.6393089322795955, \"sem\": 0.013629283673029383}, {\"metric_name\": \"log_eval\", \"arm_name\": \"43_0\", \"mean\": 3.6673930369798353, \"sem\": 0.012964159365586368}, {\"metric_name\": \"log_eval\", \"arm_name\": \"44_0\", \"mean\": 3.3077090498698034, \"sem\": 0.011685138307808459}, {\"metric_name\": \"log_eval\", \"arm_name\": \"45_0\", \"mean\": 3.6201014199054216, \"sem\": 0.01340935802979851}, {\"metric_name\": \"log_eval\", \"arm_name\": \"46_0\", \"mean\": 3.6144160748948586, \"sem\": 0.01265822051392698}, {\"metric_name\": \"log_eval\", \"arm_name\": \"47_0\", \"mean\": 3.5265926910636463, \"sem\": 0.012299350769441726}, {\"metric_name\": \"log_eval\", \"arm_name\": \"48_0\", \"mean\": 3.648372080954148, \"sem\": 0.011991955791841842}, {\"metric_name\": \"log_eval\", \"arm_name\": \"49_0\", \"mean\": 3.621990429470776, \"sem\": 0.01295161419332295}, {\"metric_name\": \"log_eval\", \"arm_name\": \"4_0\", \"mean\": 3.394475361046734, \"sem\": 0.011416996783523663}, {\"metric_name\": \"log_eval\", \"arm_name\": \"50_0\", \"mean\": 3.6371229929215834, \"sem\": 0.013294839351542234}, {\"metric_name\": \"log_eval\", \"arm_name\": \"51_0\", \"mean\": 3.4377952459472514, \"sem\": 0.011530046799630468}, {\"metric_name\": \"log_eval\", \"arm_name\": \"5_0\", \"mean\": 3.4541948141928853, \"sem\": 0.011142889036146396}, {\"metric_name\": \"log_eval\", \"arm_name\": \"6_0\", \"mean\": 3.6320123520185814, \"sem\": 0.013048649202333357}, {\"metric_name\": \"log_eval\", \"arm_name\": \"7_0\", \"mean\": 3.580064777534327, \"sem\": 0.013974420362918339}, {\"metric_name\": \"log_eval\", \"arm_name\": \"8_0\", \"mean\": 3.655644962569447, \"sem\": 0.012229225245228424}, {\"metric_name\": \"log_eval\", \"arm_name\": \"9_0\", \"mean\": 3.319037644557284, \"sem\": 0.01137763940360927}, {\"metric_name\": \"log_eval\", \"arm_name\": \"control\", \"mean\": 3.1552959605272526, \"sem\": 0.0116866201822084}, {\"metric_name\": \"log_eval\", \"arm_name\": \"zero\", \"mean\": 3.3404300888956486, \"sem\": 0.010873038587426026}];\n",
       "const grid = [0.0, 1.0204081632653061, 2.0408163265306123, 3.0612244897959187, 4.081632653061225, 5.1020408163265305, 6.122448979591837, 7.142857142857143, 8.16326530612245, 9.183673469387756, 10.204081632653061, 11.224489795918368, 12.244897959183675, 13.26530612244898, 14.285714285714286, 15.306122448979592, 16.3265306122449, 17.346938775510203, 18.367346938775512, 19.387755102040817, 20.408163265306122, 21.42857142857143, 22.448979591836736, 23.46938775510204, 24.48979591836735, 25.510204081632654, 26.53061224489796, 27.551020408163264, 28.571428571428573, 29.591836734693878, 30.612244897959183, 31.63265306122449, 32.6530612244898, 33.673469387755105, 34.69387755102041, 35.714285714285715, 36.734693877551024, 37.755102040816325, 38.775510204081634, 39.79591836734694, 40.816326530612244, 41.83673469387755, 42.85714285714286, 43.87755102040816, 44.89795918367347, 45.91836734693878, 46.93877551020408, 47.95918367346939, 48.9795918367347, 50.0];\n",
       "const metric = \"log_eval\";\n",
       "const param = \"epochs\";\n",
       "const rel = false;\n",
       "const setx = {\"lr\": 0.014048408494097962, \"decay\": 0.0020806475258430142, \"epochs\": 25};\n",
       "const sd = [0.0783527767164448, 0.07375665498288132, 0.06941519440473627, 0.06542547634509188, 0.06187765609362664, 0.05884311227911679, 0.05636399703256801, 0.05445017049393699, 0.053087634053515874, 0.05225602233104768, 0.05194536546627778, 0.0521606490034042, 0.05290969653033737, 0.05418145330790354, 0.05592890616104677, 0.05806741780617113, 0.0604884144126064, 0.06307974216451341, 0.0657431882892939, 0.06840421270833566, 0.07101375291010109, 0.07354447045620637, 0.07598421193332881, 0.0783288733513401, 0.0805761007735755, 0.08272064194245267, 0.08475169644108234, 0.08665223699694975, 0.08839997513384965, 0.08996944884283159, 0.09133464733986153, 0.09247165512113895, 0.0933609579501593, 0.09398925532640325, 0.09435081724045928, 0.0944485664538016, 0.09429512995392444, 0.09391406438580938, 0.09334131486316552, 0.0926267299670298, 0.09183516888831728, 0.09104646997919857, 0.09035340639726083, 0.0898568648517825, 0.08965797162207557, 0.08984778138510768, 0.09049623447270529, 0.09164289175838182, 0.09329190799898304, 0.09541259422038317];\n",
       "const is_log = false;\n",
       "\n",
       "// format data\n",
       "const res = relativize_data(f, sd, rel, arm_data, metric);\n",
       "const f_final = res[0];\n",
       "const sd_final = res[1];\n",
       "\n",
       "// get data for standard deviation fill plot\n",
       "const sd_upper = [];\n",
       "const sd_lower = [];\n",
       "for (let i = 0; i < sd.length; i++) {\n",
       "  sd_upper.push(f_final[i] + 2 * sd_final[i]);\n",
       "  sd_lower.push(f_final[i] - 2 * sd_final[i]);\n",
       "}\n",
       "const grid_rev = copy_and_reverse(grid);\n",
       "const sd_lower_rev = copy_and_reverse(sd_lower);\n",
       "const sd_x = grid.concat(grid_rev);\n",
       "const sd_y = sd_upper.concat(sd_lower_rev);\n",
       "\n",
       "// get data for observed arms and error bars\n",
       "const arm_x = [];\n",
       "const arm_y = [];\n",
       "const arm_sem = [];\n",
       "fit_data.forEach(row => {\n",
       "    parameters = arm_name_to_parameters[row[\"arm_name\"]];\n",
       "    plot = true;\n",
       "    Object.keys(setx).forEach(p => {\n",
       "      if (p !== param && parameters[p] !== setx[p]) {\n",
       "        plot = false;\n",
       "      }\n",
       "    });\n",
       "    if (plot === true) {\n",
       "        arm_x.push(parameters[param]);\n",
       "        arm_y.push(row[\"mean\"]);\n",
       "        arm_sem.push(row[\"sem\"]);\n",
       "    }\n",
       "});\n",
       "\n",
       "const arm_res = relativize_data(\n",
       "  arm_y, arm_sem, rel, arm_data, metric\n",
       ");\n",
       "const arm_y_final = arm_res[0];\n",
       "const arm_sem_final = arm_res[1].map(x => x * 2);\n",
       "\n",
       "// create traces\n",
       "const f_trace = {\n",
       "  x: grid,\n",
       "  y: f_final,\n",
       "  showlegend: false,\n",
       "  hoverinfo: 'x+y',\n",
       "  line: {\n",
       "    color: 'rgba(128, 177, 211, 1)',\n",
       "  },\n",
       "};\n",
       "\n",
       "const arms_trace = {\n",
       "  x: arm_x,\n",
       "  y: arm_y_final,\n",
       "  mode: 'markers',\n",
       "  error_y: {\n",
       "    type: 'data',\n",
       "    array: arm_sem_final,\n",
       "    visible: true,\n",
       "    color: 'black',\n",
       "  },\n",
       "  line: {\n",
       "    color: 'black',\n",
       "  },\n",
       "  showlegend: false,\n",
       "  hoverinfo: 'x+y',\n",
       "};\n",
       "\n",
       "const sd_trace = {\n",
       "    x: sd_x,\n",
       "    y: sd_y,\n",
       "    fill: 'toself',\n",
       "    fillcolor: 'rgba(128, 177, 211, 0.2)',\n",
       "    line: {\n",
       "      color: 'transparent',\n",
       "    },\n",
       "    showlegend: false,\n",
       "    hoverinfo: 'none',\n",
       "};\n",
       "\n",
       "traces = [\n",
       "  sd_trace,\n",
       "  f_trace,\n",
       "  arms_trace,\n",
       "];\n",
       "\n",
       "// iterate over out-of-sample arms\n",
       "let i = 1;\n",
       "Object.keys(arm_data['out_of_sample']).forEach(generator_run_name => {\n",
       "  const ax = [];\n",
       "  const ay = [];\n",
       "  const asem = [];\n",
       "  const atext = [];\n",
       "\n",
       "  Object.keys(arm_data['out_of_sample'][generator_run_name]).forEach(arm_name => {\n",
       "    const parameters = arm_data[\n",
       "      'out_of_sample'][generator_run_name][arm_name]['parameters'];\n",
       "    plot = true;\n",
       "    Object.keys(setx).forEach(p => {\n",
       "      if (p !== param && parameters[p] !== setx[p]) {\n",
       "        plot = false;\n",
       "      }\n",
       "    });\n",
       "    if (plot === true) {\n",
       "      ax.push(parameters[param]);\n",
       "      ay.push(\n",
       "        arm_data['out_of_sample'][generator_run_name][arm_name]['y_hat'][metric]\n",
       "      );\n",
       "      asem.push(\n",
       "        arm_data['out_of_sample'][generator_run_name][arm_name]['se_hat'][metric]\n",
       "      );\n",
       "      atext.push('<em>Candidate ' + arm_name + '</em>');\n",
       "    }\n",
       "  });\n",
       "\n",
       "  const out_of_sample_arm_res = relativize_data(\n",
       "    ay, asem, rel, arm_data, metric\n",
       "  );\n",
       "  const ay_final = out_of_sample_arm_res[0];\n",
       "  const asem_final = out_of_sample_arm_res[1].map(x => x * 2);\n",
       "\n",
       "  traces.push({\n",
       "    hoverinfo: 'text',\n",
       "    legendgroup: generator_run_name,\n",
       "    marker: {color: 'black', symbol: i, opacity: 0.5},\n",
       "    mode: 'markers',\n",
       "    error_y: {\n",
       "      type: 'data',\n",
       "      array: asem_final,\n",
       "      visible: true,\n",
       "      color: 'black',\n",
       "    },\n",
       "    name: generator_run_name,\n",
       "    text: atext,\n",
       "    type: 'scatter',\n",
       "    xaxis: 'x',\n",
       "    x: ax,\n",
       "    yaxis: 'y',\n",
       "    y: ay_final,\n",
       "  });\n",
       "\n",
       "  i += 1;\n",
       "});\n",
       "\n",
       "// layout\n",
       "const xrange = axis_range(grid, is_log);\n",
       "const xtype = is_log ? 'log' : 'linear';\n",
       "\n",
       "layout = {\n",
       "  hovermode: 'closest',\n",
       "  xaxis: {\n",
       "    anchor: 'y',\n",
       "    autorange: false,\n",
       "    exponentformat: 'e',\n",
       "    range: xrange,\n",
       "    tickfont: {size: 11},\n",
       "    tickmode: 'auto',\n",
       "    title: param,\n",
       "    type: xtype,\n",
       "  },\n",
       "  yaxis: {\n",
       "    anchor: 'x',\n",
       "    tickfont: {size: 11},\n",
       "    tickmode: 'auto',\n",
       "    title: metric,\n",
       "  },\n",
       "};\n",
       "\n",
       "Plotly.newPlot(\n",
       "    \"de5def84b74d40baa321732171cf7d88\",\n",
       "    traces,\n",
       "    layout,\n",
       "    {showLink: false},\n",
       ");\n",
       "});</script>"
      ]
     },
     "metadata": {},
     "output_type": "display_data"
    }
   ],
   "source": [
    "render(plot_slice(model=gpei, param_name='epochs', metric_name='log_eval'))"
   ]
  },
  {
   "cell_type": "markdown",
   "metadata": {},
   "source": [
    "Decided to go with run 24 due to short epochs and similar decay: epochs=>10, lr=>0.0043, decay=0.0012"
   ]
  },
  {
   "cell_type": "code",
   "execution_count": null,
   "metadata": {},
   "outputs": [],
   "source": []
  }
 ],
 "metadata": {
  "kernelspec": {
   "display_name": "Python 3",
   "language": "python",
   "name": "python3"
  },
  "language_info": {
   "codemirror_mode": {
    "name": "ipython",
    "version": 3
   },
   "file_extension": ".py",
   "mimetype": "text/x-python",
   "name": "python",
   "nbconvert_exporter": "python",
   "pygments_lexer": "ipython3",
   "version": "3.7.2"
  },
  "pycharm": {
   "stem_cell": {
    "cell_type": "raw",
    "metadata": {
     "collapsed": false
    },
    "source": []
   }
  }
 },
 "nbformat": 4,
 "nbformat_minor": 1
}
