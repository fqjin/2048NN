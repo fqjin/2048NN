{
 "cells": [
  {
   "cell_type": "markdown",
   "metadata": {
    "collapsed": true,
    "pycharm": {
     "name": "#%% md\n"
    }
   },
   "source": [
    "# Fine tune on games 80-100"
   ]
  },
  {
   "cell_type": "code",
   "execution_count": 1,
   "metadata": {
    "pycharm": {
     "is_executing": false,
     "name": "#%%\n"
    },
    "scrolled": true
   },
   "outputs": [
    {
     "data": {
      "text/html": [
       "<script type='text/javascript'>/*\n",
       " * Copyright (c) Facebook, Inc. and its affiliates. All Rights Reserved.\n",
       " */\n",
       "\n",
       "requirejs.config({\n",
       "  paths: {\n",
       "    plotly: ['https://cdn.plot.ly/plotly-latest.min'],\n",
       "  },\n",
       "});\n",
       "if (!window.Plotly) {\n",
       "  require(['plotly'], function(plotly) {\n",
       "    window.Plotly = plotly;\n",
       "  });\n",
       "}\n",
       "/*\n",
       " * Copyright (c) Facebook, Inc. and its affiliates. All Rights Reserved.\n",
       " */\n",
       "\n",
       "// helper functions used across multiple plots\n",
       "function rgb(rgb_array) {\n",
       "  return 'rgb(' + rgb_array.join() + ')';\n",
       "}\n",
       "\n",
       "function copy_and_reverse(arr) {\n",
       "  const copy = arr.slice();\n",
       "  copy.reverse();\n",
       "  return copy;\n",
       "}\n",
       "\n",
       "function axis_range(grid, is_log) {\n",
       "  return is_log ?\n",
       "    [Math.log10(Math.min(...grid)), Math.log10(Math.max(...grid))]:\n",
       "    [Math.min(...grid), Math.max(...grid)];\n",
       "}\n",
       "\n",
       "function relativize_data(f, sd, rel, arm_data, metric) {\n",
       "  // if relative, extract status quo & compute ratio\n",
       "  const f_final = rel === true ? [] : f;\n",
       "  const sd_final = rel === true ? []: sd;\n",
       "\n",
       "  if (rel === true) {\n",
       "    const f_sq = (\n",
       "      arm_data['in_sample'][arm_data['status_quo_name']]['y'][metric]\n",
       "    );\n",
       "    const sd_sq = (\n",
       "      arm_data['in_sample'][arm_data['status_quo_name']]['se'][metric]\n",
       "    );\n",
       "\n",
       "    for (let i = 0; i < f.length; i++) {\n",
       "      res = relativize(f[i], sd[i], f_sq, sd_sq);\n",
       "      f_final.push(100 * res[0]);\n",
       "      sd_final.push(100 * res[1]);\n",
       "    }\n",
       "  }\n",
       "\n",
       "  return [f_final, sd_final];\n",
       "}\n",
       "\n",
       "function relativize(m_t, sem_t, m_c, sem_c) {\n",
       "  r_hat = (\n",
       "    (m_t - m_c) / Math.abs(m_c) -\n",
       "    Math.pow(sem_c, 2) * m_t / Math.pow(Math.abs(m_c), 3)\n",
       "  );\n",
       "  variance = (\n",
       "    (Math.pow(sem_t, 2) + Math.pow((m_t / m_c * sem_c), 2)) /\n",
       "    Math.pow(m_c, 2)\n",
       "   )\n",
       "   return [r_hat, Math.sqrt(variance)];\n",
       "}\n",
       "</script>"
      ]
     },
     "metadata": {},
     "output_type": "display_data"
    },
    {
     "name": "stderr",
     "output_type": "stream",
     "text": [
      "[INFO 07-10 08:36:51] ipy_plotting: Injecting Plotly library into cell. Do not overwrite or delete cell.\n"
     ]
    },
    {
     "name": "stdout",
     "output_type": "stream",
     "text": [
      "2724\n"
     ]
    }
   ],
   "source": [
    "import numpy as np\n",
    "# import pandas as pd\n",
    "from time import sleep\n",
    "\n",
    "from ax import *\n",
    "\n",
    "from ax.plot.contour import plot_contour\n",
    "from ax.plot.slice import plot_slice\n",
    "from ax.plot.trace import optimization_trace_single_method\n",
    "from ax.utils.notebook.plotting import render, init_notebook_plotting\n",
    "init_notebook_plotting()\n",
    "\n",
    "# import evaluation function defined locally as the\n",
    "# mean logscore of 1000 eval games after training\n",
    "from finetune_ax import eval_fn"
   ]
  },
  {
   "cell_type": "markdown",
   "metadata": {
    "pycharm": {
     "name": "#%% md\n"
    }
   },
   "source": [
    "## Define parameters\n",
    "Training parameters\n",
    "* `lr`: Previously 0.0043 (1e-3 to 1e-2)\n",
    "* `decay`: Previously 0.0012 (1e-4 to 1e-2), same as initial training.\n",
    "* `epochs`: Previously 10 (0 to 20)"
   ]
  },
  {
   "cell_type": "code",
   "execution_count": 2,
   "metadata": {
    "pycharm": {
     "is_executing": false,
     "name": "#%%\n"
    }
   },
   "outputs": [],
   "source": [
    "lr_param = RangeParameter(name=\"lr\", parameter_type=ParameterType.FLOAT,\n",
    "                             lower=1e-4,\n",
    "                             upper=1e-2,\n",
    "                             log_scale=True,\n",
    "                             )\n",
    "dec_param = RangeParameter(name=\"decay\", parameter_type=ParameterType.FLOAT,\n",
    "                             lower=1e-4,\n",
    "                             upper=1e-2,\n",
    "                             log_scale=True,\n",
    "                             )\n",
    "epox_param = RangeParameter(name=\"epochs\", parameter_type=ParameterType.INT,\n",
    "                             lower=0,\n",
    "                             upper=20,\n",
    "                             )\n",
    "search_space = SearchSpace(\n",
    "    parameters=[lr_param, dec_param, epox_param],\n",
    ")"
   ]
  },
  {
   "cell_type": "markdown",
   "metadata": {
    "pycharm": {
     "name": "#%% md\n"
    }
   },
   "source": [
    "## Define experiment and initial arms"
   ]
  },
  {
   "cell_type": "code",
   "execution_count": 3,
   "metadata": {
    "pycharm": {
     "is_executing": false,
     "name": "#%%\n"
    }
   },
   "outputs": [],
   "source": [
    "exp = SimpleExperiment(\n",
    "    name='optimize_finetune',\n",
    "    search_space=search_space,\n",
    "    evaluation_function=eval_fn,\n",
    "    objective_name='log_eval',\n",
    "    minimize=False,  # MAXIMIZE!!\n",
    ")"
   ]
  },
  {
   "cell_type": "code",
   "execution_count": 5,
   "metadata": {},
   "outputs": [
    {
     "name": "stderr",
     "output_type": "stream",
     "text": [
      "0it [00:00, ?it/s]\n",
      "  0%|          | 0/5 [00:00<?, ?it/s]"
     ]
    },
    {
     "name": "stdout",
     "output_type": "stream",
     "text": [
      "3.636 / 0.012\n"
     ]
    },
    {
     "name": "stderr",
     "output_type": "stream",
     "text": [
      "100%|██████████| 5/5 [00:07<00:00,  1.54s/it]\n",
      "  0%|          | 0/10 [00:00<?, ?it/s]"
     ]
    },
    {
     "name": "stdout",
     "output_type": "stream",
     "text": [
      "3.767 / 0.014\n"
     ]
    },
    {
     "name": "stderr",
     "output_type": "stream",
     "text": [
      "100%|██████████| 10/10 [00:16<00:00,  1.68s/it]\n"
     ]
    },
    {
     "name": "stdout",
     "output_type": "stream",
     "text": [
      "3.794 / 0.014\n"
     ]
    },
    {
     "data": {
      "text/plain": [
       "<ax.core.data.Data at 0x7efeac559240>"
      ]
     },
     "execution_count": 5,
     "metadata": {},
     "output_type": "execute_result"
    }
   ],
   "source": [
    "# Couldn't get status_quo to work. Adding control arm manually:\n",
    "exp.new_trial().add_arm(Arm(name=\"zero\",parameters={'lr': 0.0043, 'decay': 0.0012, 'epochs': 0}))\n",
    "exp.new_trial().add_arm(Arm(name=\"control1\",parameters={'lr': 0.0043, 'decay': 0.0012, 'epochs': 5}))\n",
    "exp.new_trial().add_arm(Arm(name=\"control2\",parameters={'lr': 0.0043, 'decay': 0.0012, 'epochs': 10}))\n",
    "exp.trials[0].fetch_data()\n",
    "exp.trials[1].fetch_data()\n",
    "exp.trials[2].fetch_data()"
   ]
  },
  {
   "cell_type": "markdown",
   "metadata": {},
   "source": [
    "Fine tuning with previous parameters already gives benefit (this isn't guaranteed)."
   ]
  },
  {
   "cell_type": "code",
   "execution_count": 6,
   "metadata": {
    "pycharm": {
     "is_executing": false,
     "name": "#%%\n"
    },
    "scrolled": false
   },
   "outputs": [
    {
     "name": "stdout",
     "output_type": "stream",
     "text": [
      "----------\n",
      "Arm(parameters={'lr': 0.006719886554586096, 'decay': 0.0025712614367976697, 'epochs': 17})\n"
     ]
    },
    {
     "name": "stderr",
     "output_type": "stream",
     "text": [
      "100%|██████████| 17/17 [00:28<00:00,  1.70s/it]\n"
     ]
    },
    {
     "name": "stdout",
     "output_type": "stream",
     "text": [
      "3.528 / 0.014\n",
      "----------\n",
      "Arm(parameters={'lr': 0.0012230710776559032, 'decay': 0.0001245490767846484, 'epochs': 14})\n"
     ]
    },
    {
     "name": "stderr",
     "output_type": "stream",
     "text": [
      "100%|██████████| 14/14 [00:24<00:00,  1.75s/it]\n"
     ]
    },
    {
     "name": "stdout",
     "output_type": "stream",
     "text": [
      "3.722 / 0.014\n",
      "----------\n",
      "Arm(parameters={'lr': 0.00015703189811414284, 'decay': 0.004250773039859609, 'epochs': 6})\n"
     ]
    },
    {
     "name": "stderr",
     "output_type": "stream",
     "text": [
      "100%|██████████| 6/6 [00:10<00:00,  1.73s/it]\n"
     ]
    },
    {
     "name": "stdout",
     "output_type": "stream",
     "text": [
      "3.656 / 0.014\n",
      "----------\n",
      "Arm(parameters={'lr': 0.00027734698125494284, 'decay': 0.00024503393137916316, 'epochs': 19})\n"
     ]
    },
    {
     "name": "stderr",
     "output_type": "stream",
     "text": [
      "100%|██████████| 19/19 [00:32<00:00,  1.71s/it]\n"
     ]
    },
    {
     "name": "stdout",
     "output_type": "stream",
     "text": [
      "3.720 / 0.014\n",
      "----------\n",
      "Arm(parameters={'lr': 0.00215089431162011, 'decay': 0.007181061645086981, 'epochs': 2})\n"
     ]
    },
    {
     "name": "stderr",
     "output_type": "stream",
     "text": [
      "100%|██████████| 2/2 [00:03<00:00,  1.75s/it]\n"
     ]
    },
    {
     "name": "stdout",
     "output_type": "stream",
     "text": [
      "3.672 / 0.013\n",
      "----------\n",
      "Arm(parameters={'lr': 0.003669268451658114, 'decay': 0.0004685768597399909, 'epochs': 8})\n"
     ]
    },
    {
     "name": "stderr",
     "output_type": "stream",
     "text": [
      "100%|██████████| 8/8 [00:13<00:00,  1.71s/it]\n"
     ]
    },
    {
     "name": "stdout",
     "output_type": "stream",
     "text": [
      "3.754 / 0.014\n",
      "----------\n",
      "Arm(parameters={'lr': 0.0005083524213359429, 'decay': 0.0011885017054668588, 'epochs': 11})\n"
     ]
    },
    {
     "name": "stderr",
     "output_type": "stream",
     "text": [
      "100%|██████████| 11/11 [00:19<00:00,  1.73s/it]\n"
     ]
    },
    {
     "name": "stdout",
     "output_type": "stream",
     "text": [
      "3.726 / 0.014\n",
      "----------\n",
      "Arm(parameters={'lr': 0.0003885480703922011, 'decay': 0.00017572911480920575, 'epochs': 7})\n"
     ]
    },
    {
     "name": "stderr",
     "output_type": "stream",
     "text": [
      "100%|██████████| 7/7 [00:12<00:00,  1.73s/it]\n"
     ]
    },
    {
     "name": "stdout",
     "output_type": "stream",
     "text": [
      "3.715 / 0.014\n",
      "----------\n",
      "Arm(parameters={'lr': 0.004987883132707978, 'decay': 0.003342016822981182, 'epochs': 14})\n"
     ]
    },
    {
     "name": "stderr",
     "output_type": "stream",
     "text": [
      "100%|██████████| 14/14 [00:24<00:00,  1.74s/it]\n"
     ]
    },
    {
     "name": "stdout",
     "output_type": "stream",
     "text": [
      "3.740 / 0.013\n",
      "----------\n",
      "Arm(parameters={'lr': 0.0029168282988909335, 'decay': 0.0009197168866264231, 'epochs': 16})\n"
     ]
    },
    {
     "name": "stderr",
     "output_type": "stream",
     "text": [
      "100%|██████████| 16/16 [00:27<00:00,  1.73s/it]\n"
     ]
    },
    {
     "name": "stdout",
     "output_type": "stream",
     "text": [
      "3.719 / 0.015\n",
      "----------\n",
      "Arm(parameters={'lr': 0.00021152642014361876, 'decay': 0.0020209888929120954, 'epochs': 3})\n"
     ]
    },
    {
     "name": "stderr",
     "output_type": "stream",
     "text": [
      "100%|██████████| 3/3 [00:05<00:00,  1.73s/it]\n"
     ]
    },
    {
     "name": "stdout",
     "output_type": "stream",
     "text": [
      "3.638 / 0.014\n",
      "----------\n",
      "Arm(parameters={'lr': 0.0001155375773105539, 'decay': 0.0003570341502470353, 'epochs': 11})\n"
     ]
    },
    {
     "name": "stderr",
     "output_type": "stream",
     "text": [
      "100%|██████████| 11/11 [00:19<00:00,  1.75s/it]\n"
     ]
    },
    {
     "name": "stdout",
     "output_type": "stream",
     "text": [
      "3.682 / 0.014\n",
      "----------\n",
      "Arm(parameters={'lr': 0.0016000375420588211, 'decay': 0.001624692156473758, 'epochs': 9})\n"
     ]
    },
    {
     "name": "stderr",
     "output_type": "stream",
     "text": [
      "100%|██████████| 9/9 [00:15<00:00,  1.71s/it]\n"
     ]
    },
    {
     "name": "stdout",
     "output_type": "stream",
     "text": [
      "3.732 / 0.014\n",
      "----------\n",
      "Arm(parameters={'lr': 0.008811602322531434, 'decay': 0.000186652607756163, 'epochs': 1})\n"
     ]
    },
    {
     "name": "stderr",
     "output_type": "stream",
     "text": [
      "100%|██████████| 1/1 [00:01<00:00,  1.78s/it]\n"
     ]
    },
    {
     "name": "stdout",
     "output_type": "stream",
     "text": [
      "3.623 / 0.014\n",
      "----------\n",
      "Arm(parameters={'lr': 0.0006830909901579769, 'decay': 0.009813793275866853, 'epochs': 18})\n"
     ]
    },
    {
     "name": "stderr",
     "output_type": "stream",
     "text": [
      "100%|██████████| 18/18 [00:31<00:00,  1.73s/it]\n"
     ]
    },
    {
     "name": "stdout",
     "output_type": "stream",
     "text": [
      "3.773 / 0.013\n",
      "----------\n",
      "Arm(parameters={'lr': 0.0006154371046006404, 'decay': 0.00021817967393688832, 'epochs': 15})\n"
     ]
    },
    {
     "name": "stderr",
     "output_type": "stream",
     "text": [
      "100%|██████████| 15/15 [00:25<00:00,  1.71s/it]\n"
     ]
    },
    {
     "name": "stdout",
     "output_type": "stream",
     "text": [
      "3.716 / 0.014\n",
      "----------\n",
      "Arm(parameters={'lr': 0.008526969624032996, 'decay': 0.008521992697599054, 'epochs': 7})\n"
     ]
    },
    {
     "name": "stderr",
     "output_type": "stream",
     "text": [
      "100%|██████████| 7/7 [00:12<00:00,  1.71s/it]\n"
     ]
    },
    {
     "name": "stdout",
     "output_type": "stream",
     "text": [
      "3.729 / 0.015\n",
      "----------\n",
      "Arm(parameters={'lr': 0.0014841675115592483, 'decay': 0.00041652190590026186, 'epochs': 3})\n"
     ]
    },
    {
     "name": "stderr",
     "output_type": "stream",
     "text": [
      "100%|██████████| 3/3 [00:05<00:00,  1.70s/it]\n"
     ]
    },
    {
     "name": "stdout",
     "output_type": "stream",
     "text": [
      "3.686 / 0.014\n",
      "----------\n",
      "Arm(parameters={'lr': 0.00011512656911212999, 'decay': 0.0014096383116111051, 'epochs': 15})\n"
     ]
    },
    {
     "name": "stderr",
     "output_type": "stream",
     "text": [
      "100%|██████████| 15/15 [00:26<00:00,  1.75s/it]\n"
     ]
    },
    {
     "name": "stdout",
     "output_type": "stream",
     "text": [
      "3.658 / 0.014\n",
      "----------\n",
      "Arm(parameters={'lr': 0.00019974886922630847, 'decay': 0.0007873981650974259, 'epochs': 10})\n"
     ]
    },
    {
     "name": "stderr",
     "output_type": "stream",
     "text": [
      "100%|██████████| 10/10 [00:17<00:00,  1.73s/it]\n"
     ]
    },
    {
     "name": "stdout",
     "output_type": "stream",
     "text": [
      "3.685 / 0.014\n"
     ]
    }
   ],
   "source": [
    "sobol = Models.SOBOL(exp.search_space)\n",
    "for i in range(20):\n",
    "    gen = sobol.gen(1)\n",
    "    print('-'*10)\n",
    "    print(gen.arms[0])\n",
    "    sleep(1)\n",
    "    trial = exp.new_trial(generator_run=gen)\n",
    "    trial.fetch_data()"
   ]
  },
  {
   "cell_type": "code",
   "execution_count": 7,
   "metadata": {},
   "outputs": [],
   "source": [
    "save(exp, 'finetune2.json')"
   ]
  },
  {
   "cell_type": "code",
   "execution_count": 8,
   "metadata": {},
   "outputs": [
    {
     "name": "stdout",
     "output_type": "stream",
     "text": [
      "0: 3.636 {'lr': 0.0043, 'decay': 0.0012, 'epochs': 0}\n",
      "1: 3.767 {'lr': 0.0043, 'decay': 0.0012, 'epochs': 5}\n",
      "2: 3.794 {'lr': 0.0043, 'decay': 0.0012, 'epochs': 10}\n",
      "3: 3.528 {'lr': 0.006719886554586096, 'decay': 0.0025712614367976697, 'epochs': 17}\n",
      "4: 3.722 {'lr': 0.0012230710776559032, 'decay': 0.0001245490767846484, 'epochs': 14}\n",
      "5: 3.656 {'lr': 0.00015703189811414284, 'decay': 0.004250773039859609, 'epochs': 6}\n",
      "6: 3.720 {'lr': 0.00027734698125494284, 'decay': 0.00024503393137916316, 'epochs': 19}\n",
      "7: 3.672 {'lr': 0.00215089431162011, 'decay': 0.007181061645086981, 'epochs': 2}\n",
      "8: 3.754 {'lr': 0.003669268451658114, 'decay': 0.0004685768597399909, 'epochs': 8}\n",
      "9: 3.726 {'lr': 0.0005083524213359429, 'decay': 0.0011885017054668588, 'epochs': 11}\n",
      "10: 3.715 {'lr': 0.0003885480703922011, 'decay': 0.00017572911480920575, 'epochs': 7}\n",
      "11: 3.740 {'lr': 0.004987883132707978, 'decay': 0.003342016822981182, 'epochs': 14}\n",
      "12: 3.719 {'lr': 0.0029168282988909335, 'decay': 0.0009197168866264231, 'epochs': 16}\n",
      "13: 3.638 {'lr': 0.00021152642014361876, 'decay': 0.0020209888929120954, 'epochs': 3}\n",
      "14: 3.682 {'lr': 0.0001155375773105539, 'decay': 0.0003570341502470353, 'epochs': 11}\n",
      "15: 3.732 {'lr': 0.0016000375420588211, 'decay': 0.001624692156473758, 'epochs': 9}\n",
      "16: 3.623 {'lr': 0.008811602322531434, 'decay': 0.000186652607756163, 'epochs': 1}\n",
      "17: 3.773 {'lr': 0.0006830909901579769, 'decay': 0.009813793275866853, 'epochs': 18}\n",
      "18: 3.716 {'lr': 0.0006154371046006404, 'decay': 0.00021817967393688832, 'epochs': 15}\n",
      "19: 3.729 {'lr': 0.008526969624032996, 'decay': 0.008521992697599054, 'epochs': 7}\n",
      "20: 3.686 {'lr': 0.0014841675115592483, 'decay': 0.00041652190590026186, 'epochs': 3}\n",
      "21: 3.658 {'lr': 0.00011512656911212999, 'decay': 0.0014096383116111051, 'epochs': 15}\n",
      "22: 3.685 {'lr': 0.00019974886922630847, 'decay': 0.0007873981650974259, 'epochs': 10}\n"
     ]
    }
   ],
   "source": [
    "gpei = Models.GPEI(experiment=exp, data=exp.eval())\n",
    "for i, trial in exp.trials.items():\n",
    "    print('{0}: {1:.3f} {2}'.format(i,\n",
    "        trial.fetch_data().df.at[0, 'mean'],\n",
    "        trial.arm.parameters\n",
    "    ))"
   ]
  },
  {
   "cell_type": "markdown",
   "metadata": {
    "pycharm": {
     "name": "#%% md\n"
    }
   },
   "source": [
    "## Iterative optimization\n",
    "Botorch backend for gaussian process expected improvement (GPEI) bayesian optimization"
   ]
  },
  {
   "cell_type": "code",
   "execution_count": 17,
   "metadata": {
    "pycharm": {
     "is_executing": false,
     "name": "#%%\n"
    },
    "scrolled": false
   },
   "outputs": [
    {
     "name": "stdout",
     "output_type": "stream",
     "text": [
      "----------\n",
      "Arm(parameters={'lr': 0.003125001755326415, 'decay': 0.002214232914119949, 'epochs': 12})\n"
     ]
    },
    {
     "name": "stderr",
     "output_type": "stream",
     "text": [
      "100%|██████████| 12/12 [00:20<00:00,  1.74s/it]\n"
     ]
    },
    {
     "name": "stdout",
     "output_type": "stream",
     "text": [
      "3.761 / 0.014\n",
      "----------\n",
      "Arm(parameters={'lr': 0.006628480497069864, 'decay': 0.0016183755027265353, 'epochs': 11})\n"
     ]
    },
    {
     "name": "stderr",
     "output_type": "stream",
     "text": [
      "100%|██████████| 11/11 [00:18<00:00,  1.71s/it]\n"
     ]
    },
    {
     "name": "stdout",
     "output_type": "stream",
     "text": [
      "3.653 / 0.015\n",
      "----------\n",
      "Arm(parameters={'lr': 0.004157984233597562, 'decay': 0.0037367267717074706, 'epochs': 9})\n"
     ]
    },
    {
     "name": "stderr",
     "output_type": "stream",
     "text": [
      "100%|██████████| 9/9 [00:15<00:00,  1.73s/it]\n"
     ]
    },
    {
     "name": "stdout",
     "output_type": "stream",
     "text": [
      "3.738 / 0.015\n",
      "----------\n",
      "Arm(parameters={'lr': 0.003984743419781169, 'decay': 0.0012914146741416816, 'epochs': 13})\n"
     ]
    },
    {
     "name": "stderr",
     "output_type": "stream",
     "text": [
      "100%|██████████| 13/13 [00:22<00:00,  1.75s/it]\n"
     ]
    },
    {
     "name": "stdout",
     "output_type": "stream",
     "text": [
      "3.733 / 0.014\n",
      "----------\n",
      "Arm(parameters={'lr': 0.0044755527574204075, 'decay': 0.0008770153419057366, 'epochs': 8})\n"
     ]
    },
    {
     "name": "stderr",
     "output_type": "stream",
     "text": [
      "100%|██████████| 8/8 [00:13<00:00,  1.72s/it]\n"
     ]
    },
    {
     "name": "stdout",
     "output_type": "stream",
     "text": [
      "3.726 / 0.015\n",
      "----------\n",
      "Arm(parameters={'lr': 0.0032933923143772794, 'decay': 0.0008111133357022278, 'epochs': 10})\n"
     ]
    },
    {
     "name": "stderr",
     "output_type": "stream",
     "text": [
      "100%|██████████| 10/10 [00:17<00:00,  1.72s/it]\n"
     ]
    },
    {
     "name": "stdout",
     "output_type": "stream",
     "text": [
      "3.738 / 0.015\n",
      "----------\n",
      "Arm(parameters={'lr': 0.004072644764672069, 'decay': 0.002303923665865714, 'epochs': 11})\n"
     ]
    },
    {
     "name": "stderr",
     "output_type": "stream",
     "text": [
      "100%|██████████| 11/11 [00:18<00:00,  1.73s/it]\n"
     ]
    },
    {
     "name": "stdout",
     "output_type": "stream",
     "text": [
      "3.674 / 0.014\n",
      "----------\n",
      "Arm(parameters={'lr': 0.005617095681160452, 'decay': 0.001755380644007118, 'epochs': 10})\n"
     ]
    },
    {
     "name": "stderr",
     "output_type": "stream",
     "text": [
      "100%|██████████| 10/10 [00:17<00:00,  1.72s/it]\n"
     ]
    },
    {
     "name": "stdout",
     "output_type": "stream",
     "text": [
      "3.711 / 0.015\n",
      "----------\n",
      "Arm(parameters={'lr': 0.004289613569715087, 'decay': 0.0008474777542033326, 'epochs': 10})\n"
     ]
    },
    {
     "name": "stderr",
     "output_type": "stream",
     "text": [
      "100%|██████████| 10/10 [00:17<00:00,  1.74s/it]\n"
     ]
    },
    {
     "name": "stdout",
     "output_type": "stream",
     "text": [
      "3.712 / 0.014\n",
      "----------\n",
      "Arm(parameters={'lr': 0.002904618553551574, 'decay': 0.0012288470288522085, 'epochs': 10})\n"
     ]
    },
    {
     "name": "stderr",
     "output_type": "stream",
     "text": [
      "100%|██████████| 10/10 [00:17<00:00,  1.73s/it]\n"
     ]
    },
    {
     "name": "stdout",
     "output_type": "stream",
     "text": [
      "3.780 / 0.014\n",
      "----------\n",
      "Arm(parameters={'lr': 0.0037889689157116543, 'decay': 0.0012146824301619034, 'epochs': 9})\n"
     ]
    },
    {
     "name": "stderr",
     "output_type": "stream",
     "text": [
      "100%|██████████| 9/9 [00:15<00:00,  1.72s/it]\n"
     ]
    },
    {
     "name": "stdout",
     "output_type": "stream",
     "text": [
      "3.721 / 0.015\n",
      "----------\n",
      "Arm(parameters={'lr': 0.002438642927999432, 'decay': 0.0025012259718864807, 'epochs': 13})\n"
     ]
    },
    {
     "name": "stderr",
     "output_type": "stream",
     "text": [
      "100%|██████████| 13/13 [00:22<00:00,  1.71s/it]\n"
     ]
    },
    {
     "name": "stdout",
     "output_type": "stream",
     "text": [
      "3.775 / 0.014\n",
      "----------\n",
      "Arm(parameters={'lr': 0.0012440216784983, 'decay': 0.0021844963220914236, 'epochs': 12})\n"
     ]
    },
    {
     "name": "stderr",
     "output_type": "stream",
     "text": [
      "100%|██████████| 12/12 [00:20<00:00,  1.73s/it]\n"
     ]
    },
    {
     "name": "stdout",
     "output_type": "stream",
     "text": [
      "3.741 / 0.014\n",
      "----------\n",
      "Arm(parameters={'lr': 0.006013150355723934, 'decay': 0.0028060288008963583, 'epochs': 13})\n"
     ]
    },
    {
     "name": "stderr",
     "output_type": "stream",
     "text": [
      "100%|██████████| 13/13 [00:22<00:00,  1.74s/it]\n"
     ]
    },
    {
     "name": "stdout",
     "output_type": "stream",
     "text": [
      "3.615 / 0.015\n",
      "----------\n",
      "Arm(parameters={'lr': 0.002683255708419544, 'decay': 0.001773505945887894, 'epochs': 11})\n"
     ]
    },
    {
     "name": "stderr",
     "output_type": "stream",
     "text": [
      "100%|██████████| 11/11 [00:18<00:00,  1.72s/it]\n"
     ]
    },
    {
     "name": "stdout",
     "output_type": "stream",
     "text": [
      "3.752 / 0.014\n",
      "----------\n",
      "Arm(parameters={'lr': 0.002245383380378057, 'decay': 0.0017013206868280336, 'epochs': 12})\n"
     ]
    },
    {
     "name": "stderr",
     "output_type": "stream",
     "text": [
      "100%|██████████| 12/12 [00:20<00:00,  1.73s/it]\n"
     ]
    },
    {
     "name": "stdout",
     "output_type": "stream",
     "text": [
      "3.756 / 0.014\n",
      "----------\n",
      "Arm(parameters={'lr': 0.002593592510211966, 'decay': 0.0035303285210389617, 'epochs': 14})\n"
     ]
    },
    {
     "name": "stderr",
     "output_type": "stream",
     "text": [
      "100%|██████████| 14/14 [00:24<00:00,  1.72s/it]\n"
     ]
    },
    {
     "name": "stdout",
     "output_type": "stream",
     "text": [
      "3.742 / 0.014\n",
      "----------\n",
      "Arm(parameters={'lr': 0.0034429988535537165, 'decay': 0.0012532430884026151, 'epochs': 10})\n"
     ]
    },
    {
     "name": "stderr",
     "output_type": "stream",
     "text": [
      "100%|██████████| 10/10 [00:17<00:00,  1.74s/it]\n"
     ]
    },
    {
     "name": "stdout",
     "output_type": "stream",
     "text": [
      "3.742 / 0.014\n",
      "----------\n",
      "Arm(parameters={'lr': 0.004597064302145103, 'decay': 0.00129254493547221, 'epochs': 8})\n"
     ]
    },
    {
     "name": "stderr",
     "output_type": "stream",
     "text": [
      "100%|██████████| 8/8 [00:13<00:00,  1.75s/it]\n"
     ]
    },
    {
     "name": "stdout",
     "output_type": "stream",
     "text": [
      "3.757 / 0.014\n",
      "----------\n",
      "Arm(parameters={'lr': 0.0026063679668893846, 'decay': 0.002122253915865578, 'epochs': 16})\n"
     ]
    },
    {
     "name": "stderr",
     "output_type": "stream",
     "text": [
      "100%|██████████| 16/16 [00:27<00:00,  1.74s/it]\n"
     ]
    },
    {
     "name": "stdout",
     "output_type": "stream",
     "text": [
      "3.758 / 0.015\n",
      "----------\n",
      "Arm(parameters={'lr': 0.002160904220770353, 'decay': 0.0025059118846846645, 'epochs': 15})\n"
     ]
    },
    {
     "name": "stderr",
     "output_type": "stream",
     "text": [
      "100%|██████████| 15/15 [00:25<00:00,  1.68s/it]\n"
     ]
    },
    {
     "name": "stdout",
     "output_type": "stream",
     "text": [
      "3.751 / 0.014\n",
      "----------\n",
      "Arm(parameters={'lr': 0.0027091769723221605, 'decay': 0.001036927347367017, 'epochs': 7})\n"
     ]
    },
    {
     "name": "stderr",
     "output_type": "stream",
     "text": [
      "100%|██████████| 7/7 [00:12<00:00,  1.74s/it]\n"
     ]
    },
    {
     "name": "stdout",
     "output_type": "stream",
     "text": [
      "3.719 / 0.015\n",
      "----------\n",
      "Arm(parameters={'lr': 0.0007273873451560561, 'decay': 0.007323840961065265, 'epochs': 17})\n"
     ]
    },
    {
     "name": "stderr",
     "output_type": "stream",
     "text": [
      "100%|██████████| 17/17 [00:29<00:00,  1.74s/it]\n"
     ]
    },
    {
     "name": "stdout",
     "output_type": "stream",
     "text": [
      "3.754 / 0.014\n",
      "----------\n",
      "Arm(parameters={'lr': 0.0030079183198763126, 'decay': 0.0014661394936190625, 'epochs': 12})\n"
     ]
    },
    {
     "name": "stderr",
     "output_type": "stream",
     "text": [
      "100%|██████████| 12/12 [00:20<00:00,  1.74s/it]\n"
     ]
    },
    {
     "name": "stdout",
     "output_type": "stream",
     "text": [
      "3.722 / 0.016\n",
      "----------\n",
      "Arm(parameters={'lr': 0.0027302036324266493, 'decay': 0.002615729671691876, 'epochs': 10})\n"
     ]
    },
    {
     "name": "stderr",
     "output_type": "stream",
     "text": [
      "100%|██████████| 10/10 [00:17<00:00,  1.75s/it]\n"
     ]
    },
    {
     "name": "stdout",
     "output_type": "stream",
     "text": [
      "3.807 / 0.013\n",
      "----------\n",
      "Arm(parameters={'lr': 0.0025249974010564885, 'decay': 0.0025410187000322456, 'epochs': 8})\n"
     ]
    },
    {
     "name": "stderr",
     "output_type": "stream",
     "text": [
      "100%|██████████| 8/8 [00:13<00:00,  1.65s/it]\n"
     ]
    },
    {
     "name": "stdout",
     "output_type": "stream",
     "text": [
      "3.765 / 0.014\n",
      "----------\n",
      "Arm(parameters={'lr': 0.002818156640431079, 'decay': 0.002693597623753263, 'epochs': 12})\n"
     ]
    },
    {
     "name": "stderr",
     "output_type": "stream",
     "text": [
      "100%|██████████| 12/12 [00:20<00:00,  1.70s/it]\n"
     ]
    },
    {
     "name": "stdout",
     "output_type": "stream",
     "text": [
      "3.756 / 0.014\n",
      "----------\n",
      "Arm(parameters={'lr': 0.0029062328771851335, 'decay': 0.002520316199161385, 'epochs': 8})\n"
     ]
    },
    {
     "name": "stderr",
     "output_type": "stream",
     "text": [
      "100%|██████████| 8/8 [00:13<00:00,  1.73s/it]\n"
     ]
    },
    {
     "name": "stdout",
     "output_type": "stream",
     "text": [
      "3.794 / 0.014\n",
      "----------\n",
      "Arm(parameters={'lr': 0.0028739319116947606, 'decay': 0.0031450826461652663, 'epochs': 8})\n"
     ]
    },
    {
     "name": "stderr",
     "output_type": "stream",
     "text": [
      "100%|██████████| 8/8 [00:13<00:00,  1.75s/it]\n"
     ]
    },
    {
     "name": "stdout",
     "output_type": "stream",
     "text": [
      "3.758 / 0.014\n",
      "----------\n",
      "Arm(parameters={'lr': 0.002788867139708552, 'decay': 0.002315431049546887, 'epochs': 9})\n"
     ]
    },
    {
     "name": "stderr",
     "output_type": "stream",
     "text": [
      "100%|██████████| 9/9 [00:15<00:00,  1.75s/it]\n"
     ]
    },
    {
     "name": "stdout",
     "output_type": "stream",
     "text": [
      "3.747 / 0.015\n"
     ]
    }
   ],
   "source": [
    "for i in range(30):\n",
    "    gpei = Models.GPEI(experiment=exp, data=exp.eval())\n",
    "    gen = gpei.gen(1)\n",
    "    print('-'*10)\n",
    "    print(gen.arms[0])\n",
    "    sleep(1)\n",
    "    trial = exp.new_trial(generator_run=gen)\n",
    "    trial.fetch_data()"
   ]
  },
  {
   "cell_type": "code",
   "execution_count": 18,
   "metadata": {},
   "outputs": [],
   "source": [
    "save(exp, 'finetune2.json')"
   ]
  },
  {
   "cell_type": "code",
   "execution_count": 19,
   "metadata": {
    "pycharm": {
     "is_executing": false,
     "name": "#%%\n"
    },
    "scrolled": false
   },
   "outputs": [
    {
     "name": "stdout",
     "output_type": "stream",
     "text": [
      "0: 3.636 {'lr': 0.0043, 'decay': 0.0012, 'epochs': 0}\n",
      "1: 3.767 {'lr': 0.0043, 'decay': 0.0012, 'epochs': 5}\n",
      "2: 3.794 {'lr': 0.0043, 'decay': 0.0012, 'epochs': 10}\n",
      "3: 3.528 {'lr': 0.006719886554586096, 'decay': 0.0025712614367976697, 'epochs': 17}\n",
      "4: 3.722 {'lr': 0.0012230710776559032, 'decay': 0.0001245490767846484, 'epochs': 14}\n",
      "5: 3.656 {'lr': 0.00015703189811414284, 'decay': 0.004250773039859609, 'epochs': 6}\n",
      "6: 3.720 {'lr': 0.00027734698125494284, 'decay': 0.00024503393137916316, 'epochs': 19}\n",
      "7: 3.672 {'lr': 0.00215089431162011, 'decay': 0.007181061645086981, 'epochs': 2}\n",
      "8: 3.754 {'lr': 0.003669268451658114, 'decay': 0.0004685768597399909, 'epochs': 8}\n",
      "9: 3.726 {'lr': 0.0005083524213359429, 'decay': 0.0011885017054668588, 'epochs': 11}\n",
      "10: 3.715 {'lr': 0.0003885480703922011, 'decay': 0.00017572911480920575, 'epochs': 7}\n",
      "11: 3.740 {'lr': 0.004987883132707978, 'decay': 0.003342016822981182, 'epochs': 14}\n",
      "12: 3.719 {'lr': 0.0029168282988909335, 'decay': 0.0009197168866264231, 'epochs': 16}\n",
      "13: 3.638 {'lr': 0.00021152642014361876, 'decay': 0.0020209888929120954, 'epochs': 3}\n",
      "14: 3.682 {'lr': 0.0001155375773105539, 'decay': 0.0003570341502470353, 'epochs': 11}\n",
      "15: 3.732 {'lr': 0.0016000375420588211, 'decay': 0.001624692156473758, 'epochs': 9}\n",
      "16: 3.623 {'lr': 0.008811602322531434, 'decay': 0.000186652607756163, 'epochs': 1}\n",
      "17: 3.773 {'lr': 0.0006830909901579769, 'decay': 0.009813793275866853, 'epochs': 18}\n",
      "18: 3.716 {'lr': 0.0006154371046006404, 'decay': 0.00021817967393688832, 'epochs': 15}\n",
      "19: 3.729 {'lr': 0.008526969624032996, 'decay': 0.008521992697599054, 'epochs': 7}\n",
      "20: 3.686 {'lr': 0.0014841675115592483, 'decay': 0.00041652190590026186, 'epochs': 3}\n",
      "21: 3.658 {'lr': 0.00011512656911212999, 'decay': 0.0014096383116111051, 'epochs': 15}\n",
      "22: 3.685 {'lr': 0.00019974886922630847, 'decay': 0.0007873981650974259, 'epochs': 10}\n",
      "23: 3.761 {'lr': 0.003125001755326415, 'decay': 0.002214232914119949, 'epochs': 12}\n",
      "24: 3.653 {'lr': 0.006628480497069864, 'decay': 0.0016183755027265353, 'epochs': 11}\n",
      "25: 3.738 {'lr': 0.004157984233597562, 'decay': 0.0037367267717074706, 'epochs': 9}\n",
      "26: 3.733 {'lr': 0.003984743419781169, 'decay': 0.0012914146741416816, 'epochs': 13}\n",
      "27: 3.726 {'lr': 0.0044755527574204075, 'decay': 0.0008770153419057366, 'epochs': 8}\n",
      "28: 3.738 {'lr': 0.0032933923143772794, 'decay': 0.0008111133357022278, 'epochs': 10}\n",
      "29: 3.674 {'lr': 0.004072644764672069, 'decay': 0.002303923665865714, 'epochs': 11}\n",
      "30: 3.711 {'lr': 0.005617095681160452, 'decay': 0.001755380644007118, 'epochs': 10}\n",
      "31: 3.712 {'lr': 0.004289613569715087, 'decay': 0.0008474777542033326, 'epochs': 10}\n",
      "32: 3.780 {'lr': 0.002904618553551574, 'decay': 0.0012288470288522085, 'epochs': 10}\n",
      "33: 3.721 {'lr': 0.0037889689157116543, 'decay': 0.0012146824301619034, 'epochs': 9}\n",
      "34: 3.775 {'lr': 0.002438642927999432, 'decay': 0.0025012259718864807, 'epochs': 13}\n",
      "35: 3.741 {'lr': 0.0012440216784983, 'decay': 0.0021844963220914236, 'epochs': 12}\n",
      "36: 3.615 {'lr': 0.006013150355723934, 'decay': 0.0028060288008963583, 'epochs': 13}\n",
      "37: 3.752 {'lr': 0.002683255708419544, 'decay': 0.001773505945887894, 'epochs': 11}\n",
      "38: 3.756 {'lr': 0.002245383380378057, 'decay': 0.0017013206868280336, 'epochs': 12}\n",
      "39: 3.742 {'lr': 0.002593592510211966, 'decay': 0.0035303285210389617, 'epochs': 14}\n",
      "40: 3.742 {'lr': 0.0034429988535537165, 'decay': 0.0012532430884026151, 'epochs': 10}\n",
      "41: 3.757 {'lr': 0.004597064302145103, 'decay': 0.00129254493547221, 'epochs': 8}\n",
      "42: 3.758 {'lr': 0.0026063679668893846, 'decay': 0.002122253915865578, 'epochs': 16}\n",
      "43: 3.751 {'lr': 0.002160904220770353, 'decay': 0.0025059118846846645, 'epochs': 15}\n",
      "44: 3.719 {'lr': 0.0027091769723221605, 'decay': 0.001036927347367017, 'epochs': 7}\n",
      "45: 3.754 {'lr': 0.0007273873451560561, 'decay': 0.007323840961065265, 'epochs': 17}\n",
      "46: 3.722 {'lr': 0.0030079183198763126, 'decay': 0.0014661394936190625, 'epochs': 12}\n",
      "47: 3.807 {'lr': 0.0027302036324266493, 'decay': 0.002615729671691876, 'epochs': 10}\n",
      "48: 3.765 {'lr': 0.0025249974010564885, 'decay': 0.0025410187000322456, 'epochs': 8}\n",
      "49: 3.756 {'lr': 0.002818156640431079, 'decay': 0.002693597623753263, 'epochs': 12}\n",
      "50: 3.794 {'lr': 0.0029062328771851335, 'decay': 0.002520316199161385, 'epochs': 8}\n",
      "51: 3.758 {'lr': 0.0028739319116947606, 'decay': 0.0031450826461652663, 'epochs': 8}\n",
      "52: 3.747 {'lr': 0.002788867139708552, 'decay': 0.002315431049546887, 'epochs': 9}\n"
     ]
    }
   ],
   "source": [
    "gpei = Models.GPEI(experiment=exp, data=exp.eval())\n",
    "for i, trial in exp.trials.items():\n",
    "    print('{0}: {1:.3f} {2}'.format(\n",
    "        i,\n",
    "        trial.fetch_data().df.at[0, 'mean'],\n",
    "        trial.arm.parameters\n",
    "    ))"
   ]
  },
  {
   "cell_type": "markdown",
   "metadata": {},
   "source": [
    "### Load experiment"
   ]
  },
  {
   "cell_type": "code",
   "execution_count": 4,
   "metadata": {},
   "outputs": [],
   "source": [
    "exp = load('finetune2.json')\n",
    "exp.evaluation_function = eval_fn"
   ]
  },
  {
   "cell_type": "markdown",
   "metadata": {},
   "source": [
    "## Plot results"
   ]
  },
  {
   "cell_type": "code",
   "execution_count": 20,
   "metadata": {
    "pycharm": {
     "name": "#%%\n"
    },
    "scrolled": false
   },
   "outputs": [
    {
     "data": {
      "text/html": [
       "<div id=\"70dbe026a72844a996cd8f1cfa9f1f53\" style=\"width: 100%;\" class=\"plotly-graph-div\"></div><script type='text/javascript'>/*\n",
       " * Copyright (c) Facebook, Inc. and its affiliates. All Rights Reserved.\n",
       " */\n",
       "\n",
       "require(['plotly'], function(Plotly) {\n",
       "  window.PLOTLYENV = window.PLOTLYENV || {};\n",
       "  window.PLOTLYENV.BASE_URL = 'https://plot.ly';\n",
       "  /*\n",
       " * Copyright (c) Facebook, Inc. and its affiliates. All Rights Reserved.\n",
       " */\n",
       "\n",
       "Plotly.newPlot(\n",
       "  \"70dbe026a72844a996cd8f1cfa9f1f53\",\n",
       "  [{\"hoverinfo\": \"none\", \"legendgroup\": \"\", \"line\": {\"width\": 0}, \"mode\": \"lines\", \"showlegend\": false, \"x\": [1, 2, 3, 4, 5, 6, 7, 8, 9, 10, 11, 12, 13, 14, 15, 16, 17, 18, 19, 20, 21, 22, 23, 24, 25, 26, 27, 28, 29, 30, 31, 32, 33, 34, 35, 36, 37, 38, 39, 40, 41, 42, 43, 44, 45, 46, 47, 48, 49, 50, 51, 52, 53], \"y\": [3.6364354875574563, 3.7673388703466384, 3.7939481165991658, 3.7939481165991658, 3.7939481165991658, 3.7939481165991658, 3.7939481165991658, 3.7939481165991658, 3.7939481165991658, 3.7939481165991658, 3.7939481165991658, 3.7939481165991658, 3.7939481165991658, 3.7939481165991658, 3.7939481165991658, 3.7939481165991658, 3.7939481165991658, 3.7939481165991658, 3.7939481165991658, 3.7939481165991658, 3.7939481165991658, 3.7939481165991658, 3.7939481165991658, 3.7939481165991658, 3.7939481165991658, 3.7939481165991658, 3.7939481165991658, 3.7939481165991658, 3.7939481165991658, 3.7939481165991658, 3.7939481165991658, 3.7939481165991658, 3.7939481165991658, 3.7939481165991658, 3.7939481165991658, 3.7939481165991658, 3.7939481165991658, 3.7939481165991658, 3.7939481165991658, 3.7939481165991658, 3.7939481165991658, 3.7939481165991658, 3.7939481165991658, 3.7939481165991658, 3.7939481165991658, 3.7939481165991658, 3.7939481165991658, 3.806544404335847, 3.806544404335847, 3.806544404335847, 3.806544404335847, 3.806544404335847, 3.806544404335847], \"type\": \"scatter\", \"uid\": \"805ce4e1-ee48-45cb-b5bf-4c07805a299f\"}, {\"fill\": \"tonexty\", \"fillcolor\": \"rgba(128,177,211,0.3)\", \"legendgroup\": \"mean\", \"line\": {\"color\": \"rgba(128,177,211,1)\"}, \"mode\": \"lines\", \"name\": \"mean\", \"x\": [1, 2, 3, 4, 5, 6, 7, 8, 9, 10, 11, 12, 13, 14, 15, 16, 17, 18, 19, 20, 21, 22, 23, 24, 25, 26, 27, 28, 29, 30, 31, 32, 33, 34, 35, 36, 37, 38, 39, 40, 41, 42, 43, 44, 45, 46, 47, 48, 49, 50, 51, 52, 53], \"y\": [3.6364354875574563, 3.7673388703466384, 3.7939481165991658, 3.7939481165991658, 3.7939481165991658, 3.7939481165991658, 3.7939481165991658, 3.7939481165991658, 3.7939481165991658, 3.7939481165991658, 3.7939481165991658, 3.7939481165991658, 3.7939481165991658, 3.7939481165991658, 3.7939481165991658, 3.7939481165991658, 3.7939481165991658, 3.7939481165991658, 3.7939481165991658, 3.7939481165991658, 3.7939481165991658, 3.7939481165991658, 3.7939481165991658, 3.7939481165991658, 3.7939481165991658, 3.7939481165991658, 3.7939481165991658, 3.7939481165991658, 3.7939481165991658, 3.7939481165991658, 3.7939481165991658, 3.7939481165991658, 3.7939481165991658, 3.7939481165991658, 3.7939481165991658, 3.7939481165991658, 3.7939481165991658, 3.7939481165991658, 3.7939481165991658, 3.7939481165991658, 3.7939481165991658, 3.7939481165991658, 3.7939481165991658, 3.7939481165991658, 3.7939481165991658, 3.7939481165991658, 3.7939481165991658, 3.806544404335847, 3.806544404335847, 3.806544404335847, 3.806544404335847, 3.806544404335847, 3.806544404335847], \"type\": \"scatter\", \"uid\": \"173aa9c5-beec-4350-b215-7b4cf6160d59\"}, {\"fill\": \"tonexty\", \"fillcolor\": \"rgba(128,177,211,0.3)\", \"hoverinfo\": \"none\", \"legendgroup\": \"\", \"line\": {\"width\": 0}, \"mode\": \"lines\", \"showlegend\": false, \"x\": [1, 2, 3, 4, 5, 6, 7, 8, 9, 10, 11, 12, 13, 14, 15, 16, 17, 18, 19, 20, 21, 22, 23, 24, 25, 26, 27, 28, 29, 30, 31, 32, 33, 34, 35, 36, 37, 38, 39, 40, 41, 42, 43, 44, 45, 46, 47, 48, 49, 50, 51, 52, 53], \"y\": [3.6364354875574563, 3.7673388703466384, 3.7939481165991658, 3.7939481165991658, 3.7939481165991658, 3.7939481165991658, 3.7939481165991658, 3.7939481165991658, 3.7939481165991658, 3.7939481165991658, 3.7939481165991658, 3.7939481165991658, 3.7939481165991658, 3.7939481165991658, 3.7939481165991658, 3.7939481165991658, 3.7939481165991658, 3.7939481165991658, 3.7939481165991658, 3.7939481165991658, 3.7939481165991658, 3.7939481165991658, 3.7939481165991658, 3.7939481165991658, 3.7939481165991658, 3.7939481165991658, 3.7939481165991658, 3.7939481165991658, 3.7939481165991658, 3.7939481165991658, 3.7939481165991658, 3.7939481165991658, 3.7939481165991658, 3.7939481165991658, 3.7939481165991658, 3.7939481165991658, 3.7939481165991658, 3.7939481165991658, 3.7939481165991658, 3.7939481165991658, 3.7939481165991658, 3.7939481165991658, 3.7939481165991658, 3.7939481165991658, 3.7939481165991658, 3.7939481165991658, 3.7939481165991658, 3.806544404335847, 3.806544404335847, 3.806544404335847, 3.806544404335847, 3.806544404335847, 3.806544404335847], \"type\": \"scatter\", \"uid\": \"12a6c774-843c-420a-86dc-6249cf3e2bd2\"}],\n",
       "  {\"showlegend\": true, \"title\": {\"text\": \"\"}, \"xaxis\": {\"title\": {\"text\": \"Iteration\"}}, \"yaxis\": {\"title\": {\"text\": \"\"}}},\n",
       "  {\"showLink\": false}\n",
       ");\n",
       "});</script>"
      ]
     },
     "metadata": {},
     "output_type": "display_data"
    }
   ],
   "source": [
    "objective_means = np.array([[trial.objective_mean for trial in exp.trials.values()]])\n",
    "best_objective_plot = optimization_trace_single_method(\n",
    "        y=np.maximum.accumulate(objective_means, axis=1),\n",
    ")\n",
    "render(best_objective_plot)"
   ]
  },
  {
   "cell_type": "markdown",
   "metadata": {},
   "source": [
    "Couldn't really beat the previous parameters."
   ]
  },
  {
   "cell_type": "code",
   "execution_count": 21,
   "metadata": {
    "pycharm": {
     "is_executing": false,
     "name": "#%%\n"
    }
   },
   "outputs": [
    {
     "data": {
      "text/plain": [
       "Arm(name='47_0', parameters={'lr': 0.0027302036324266493, 'decay': 0.002615729671691876, 'epochs': 10})"
      ]
     },
     "execution_count": 21,
     "metadata": {},
     "output_type": "execute_result"
    }
   ],
   "source": [
    "exp.trials[np.argmax(objective_means)].arm"
   ]
  },
  {
   "cell_type": "code",
   "execution_count": 22,
   "metadata": {
    "pycharm": {
     "name": "#%%\n"
    },
    "scrolled": false
   },
   "outputs": [
    {
     "data": {
      "text/html": [
       "<div id=\"9d425733597c4d45aa55a0ae0e4fdf2b\" style=\"width: 100%;\" class=\"plotly-graph-div\"></div><script type='text/javascript'>/*\n",
       " * Copyright (c) Facebook, Inc. and its affiliates. All Rights Reserved.\n",
       " */\n",
       "\n",
       "require(['plotly'], function(Plotly) {\n",
       "  window.PLOTLYENV = window.PLOTLYENV || {};\n",
       "  window.PLOTLYENV.BASE_URL = 'https://plot.ly';\n",
       "  /*\n",
       " * Copyright (c) Facebook, Inc. and its affiliates. All Rights Reserved.\n",
       " */\n",
       "\n",
       "const arm_data = {\"metrics\": [\"log_eval\"], \"in_sample\": {\"zero\": {\"name\": \"zero\", \"parameters\": {\"lr\": 0.0043, \"decay\": 0.0012, \"epochs\": 0}, \"y\": {\"log_eval\": 3.6364354875574563}, \"y_hat\": {\"log_eval\": 3.6454888422885654}, \"se\": {\"log_eval\": 0.012499465460930299}, \"se_hat\": {\"log_eval\": 0.011905499799537745}, \"context_stratum\": null}, \"control1\": {\"name\": \"control1\", \"parameters\": {\"lr\": 0.0043, \"decay\": 0.0012, \"epochs\": 5}, \"y\": {\"log_eval\": 3.7673388703466384}, \"y_hat\": {\"log_eval\": 3.7513508220970078}, \"se\": {\"log_eval\": 0.014437295783778344}, \"se_hat\": {\"log_eval\": 0.012454597622696168}, \"context_stratum\": null}, \"control2\": {\"name\": \"control2\", \"parameters\": {\"lr\": 0.0043, \"decay\": 0.0012, \"epochs\": 10}, \"y\": {\"log_eval\": 3.7939481165991658}, \"y_hat\": {\"log_eval\": 3.7745678923158015}, \"se\": {\"log_eval\": 0.013743965355831913}, \"se_hat\": {\"log_eval\": 0.010943736129409411}, \"context_stratum\": null}, \"3_0\": {\"name\": \"3_0\", \"parameters\": {\"lr\": 0.006719886554586096, \"decay\": 0.0025712614367976697, \"epochs\": 17}, \"y\": {\"log_eval\": 3.527757963786043}, \"y_hat\": {\"log_eval\": 3.54057360863952}, \"se\": {\"log_eval\": 0.014116282037991347}, \"se_hat\": {\"log_eval\": 0.013313980828044898}, \"context_stratum\": null}, \"4_0\": {\"name\": \"4_0\", \"parameters\": {\"lr\": 0.0012230710776559032, \"decay\": 0.0001245490767846484, \"epochs\": 14}, \"y\": {\"log_eval\": 3.722176023563392}, \"y_hat\": {\"log_eval\": 3.7205795125221695}, \"se\": {\"log_eval\": 0.013597994240945219}, \"se_hat\": {\"log_eval\": 0.013120831363704032}, \"context_stratum\": null}, \"5_0\": {\"name\": \"5_0\", \"parameters\": {\"lr\": 0.00015703189811414284, \"decay\": 0.004250773039859609, \"epochs\": 6}, \"y\": {\"log_eval\": 3.6558885974799313}, \"y_hat\": {\"log_eval\": 3.6586443177849937}, \"se\": {\"log_eval\": 0.013725262026368666}, \"se_hat\": {\"log_eval\": 0.013233514730824101}, \"context_stratum\": null}, \"6_0\": {\"name\": \"6_0\", \"parameters\": {\"lr\": 0.00027734698125494284, \"decay\": 0.00024503393137916316, \"epochs\": 19}, \"y\": {\"log_eval\": 3.719795690263471}, \"y_hat\": {\"log_eval\": 3.7183782337206077}, \"se\": {\"log_eval\": 0.01372692960075821}, \"se_hat\": {\"log_eval\": 0.013235450165383569}, \"context_stratum\": null}, \"7_0\": {\"name\": \"7_0\", \"parameters\": {\"lr\": 0.00215089431162011, \"decay\": 0.007181061645086981, \"epochs\": 2}, \"y\": {\"log_eval\": 3.671565328964881}, \"y_hat\": {\"log_eval\": 3.6734692312173984}, \"se\": {\"log_eval\": 0.01338050680982233}, \"se_hat\": {\"log_eval\": 0.012924419065381573}, \"context_stratum\": null}, \"8_0\": {\"name\": \"8_0\", \"parameters\": {\"lr\": 0.003669268451658114, \"decay\": 0.0004685768597399909, \"epochs\": 8}, \"y\": {\"log_eval\": 3.7542075598642723}, \"y_hat\": {\"log_eval\": 3.749825352617683}, \"se\": {\"log_eval\": 0.014385970424389254}, \"se_hat\": {\"log_eval\": 0.013791819005244283}, \"context_stratum\": null}, \"9_0\": {\"name\": \"9_0\", \"parameters\": {\"lr\": 0.0005083524213359429, \"decay\": 0.0011885017054668588, \"epochs\": 11}, \"y\": {\"log_eval\": 3.726350753855546}, \"y_hat\": {\"log_eval\": 3.724460217135266}, \"se\": {\"log_eval\": 0.013545580006328673}, \"se_hat\": {\"log_eval\": 0.013073842917800668}, \"context_stratum\": null}, \"10_0\": {\"name\": \"10_0\", \"parameters\": {\"lr\": 0.0003885480703922011, \"decay\": 0.00017572911480920575, \"epochs\": 7}, \"y\": {\"log_eval\": 3.7153679485655404}, \"y_hat\": {\"log_eval\": 3.7143578924161424}, \"se\": {\"log_eval\": 0.01367508917825613}, \"se_hat\": {\"log_eval\": 0.013186715365212098}, \"context_stratum\": null}, \"11_0\": {\"name\": \"11_0\", \"parameters\": {\"lr\": 0.004987883132707978, \"decay\": 0.003342016822981182, \"epochs\": 14}, \"y\": {\"log_eval\": 3.739543115591369}, \"y_hat\": {\"log_eval\": 3.732044852266896}, \"se\": {\"log_eval\": 0.013307203954322175}, \"se_hat\": {\"log_eval\": 0.012563933519352232}, \"context_stratum\": null}, \"12_0\": {\"name\": \"12_0\", \"parameters\": {\"lr\": 0.0029168282988909335, \"decay\": 0.0009197168866264231, \"epochs\": 16}, \"y\": {\"log_eval\": 3.7186711581894665}, \"y_hat\": {\"log_eval\": 3.7197404391362214}, \"se\": {\"log_eval\": 0.014621965136108576}, \"se_hat\": {\"log_eval\": 0.013861707201097929}, \"context_stratum\": null}, \"13_0\": {\"name\": \"13_0\", \"parameters\": {\"lr\": 0.00021152642014361876, \"decay\": 0.0020209888929120954, \"epochs\": 3}, \"y\": {\"log_eval\": 3.637905015076654}, \"y_hat\": {\"log_eval\": 3.641972958546305}, \"se\": {\"log_eval\": 0.013740333364859962}, \"se_hat\": {\"log_eval\": 0.013246579797678097}, \"context_stratum\": null}, \"14_0\": {\"name\": \"14_0\", \"parameters\": {\"lr\": 0.0001155375773105539, \"decay\": 0.0003570341502470353, \"epochs\": 11}, \"y\": {\"log_eval\": 3.6822407278316125}, \"y_hat\": {\"log_eval\": 3.6834692286452646}, \"se\": {\"log_eval\": 0.014285217675939405}, \"se_hat\": {\"log_eval\": 0.01373491661618334}, \"context_stratum\": null}, \"15_0\": {\"name\": \"15_0\", \"parameters\": {\"lr\": 0.0016000375420588211, \"decay\": 0.001624692156473758, \"epochs\": 9}, \"y\": {\"log_eval\": 3.7320861684920095}, \"y_hat\": {\"log_eval\": 3.731208483181495}, \"se\": {\"log_eval\": 0.013587405327005645}, \"se_hat\": {\"log_eval\": 0.013021925391680029}, \"context_stratum\": null}, \"16_0\": {\"name\": \"16_0\", \"parameters\": {\"lr\": 0.008811602322531434, \"decay\": 0.000186652607756163, \"epochs\": 1}, \"y\": {\"log_eval\": 3.623308265882121}, \"y_hat\": {\"log_eval\": 3.6286323106435}, \"se\": {\"log_eval\": 0.013759945135539384}, \"se_hat\": {\"log_eval\": 0.013266289208842477}, \"context_stratum\": null}, \"17_0\": {\"name\": \"17_0\", \"parameters\": {\"lr\": 0.0006830909901579769, \"decay\": 0.009813793275866853, \"epochs\": 18}, \"y\": {\"log_eval\": 3.7734218690082773}, \"y_hat\": {\"log_eval\": 3.7693586323221777}, \"se\": {\"log_eval\": 0.01308537161098173}, \"se_hat\": {\"log_eval\": 0.01247230247301693}, \"context_stratum\": null}, \"18_0\": {\"name\": \"18_0\", \"parameters\": {\"lr\": 0.0006154371046006404, \"decay\": 0.00021817967393688832, \"epochs\": 15}, \"y\": {\"log_eval\": 3.7161815713771076}, \"y_hat\": {\"log_eval\": 3.715061978778193}, \"se\": {\"log_eval\": 0.013834489994739026}, \"se_hat\": {\"log_eval\": 0.013330425929603809}, \"context_stratum\": null}, \"19_0\": {\"name\": \"19_0\", \"parameters\": {\"lr\": 0.008526969624032996, \"decay\": 0.008521992697599054, \"epochs\": 7}, \"y\": {\"log_eval\": 3.7285276912274417}, \"y_hat\": {\"log_eval\": 3.7261443021678438}, \"se\": {\"log_eval\": 0.014692332587479444}, \"se_hat\": {\"log_eval\": 0.014095746992745378}, \"context_stratum\": null}, \"20_0\": {\"name\": \"20_0\", \"parameters\": {\"lr\": 0.0014841675115592483, \"decay\": 0.00041652190590026186, \"epochs\": 3}, \"y\": {\"log_eval\": 3.6855800109935606}, \"y_hat\": {\"log_eval\": 3.6865378323588747}, \"se\": {\"log_eval\": 0.013729222131008707}, \"se_hat\": {\"log_eval\": 0.013238677406563279}, \"context_stratum\": null}, \"21_0\": {\"name\": \"21_0\", \"parameters\": {\"lr\": 0.00011512656911212999, \"decay\": 0.0014096383116111051, \"epochs\": 15}, \"y\": {\"log_eval\": 3.6581693321691544}, \"y_hat\": {\"log_eval\": 3.6610192129446926}, \"se\": {\"log_eval\": 0.013997324779328489}, \"se_hat\": {\"log_eval\": 0.013478098995920668}, \"context_stratum\": null}, \"22_0\": {\"name\": \"22_0\", \"parameters\": {\"lr\": 0.00019974886922630847, \"decay\": 0.0007873981650974259, \"epochs\": 10}, \"y\": {\"log_eval\": 3.684627012793348}, \"y_hat\": {\"log_eval\": 3.6854526387453324}, \"se\": {\"log_eval\": 0.013979450458607046}, \"se_hat\": {\"log_eval\": 0.01346167236267269}, \"context_stratum\": null}, \"23_0\": {\"name\": \"23_0\", \"parameters\": {\"lr\": 0.003125001755326415, \"decay\": 0.002214232914119949, \"epochs\": 12}, \"y\": {\"log_eval\": 3.7609092352184548}, \"y_hat\": {\"log_eval\": 3.7533360751167253}, \"se\": {\"log_eval\": 0.014213144014545473}, \"se_hat\": {\"log_eval\": 0.012480878295905586}, \"context_stratum\": null}, \"24_0\": {\"name\": \"24_0\", \"parameters\": {\"lr\": 0.006628480497069864, \"decay\": 0.0016183755027265353, \"epochs\": 11}, \"y\": {\"log_eval\": 3.6533227231721748}, \"y_hat\": {\"log_eval\": 3.6585295734843544}, \"se\": {\"log_eval\": 0.015128695054896762}, \"se_hat\": {\"log_eval\": 0.014015910406756026}, \"context_stratum\": null}, \"25_0\": {\"name\": \"25_0\", \"parameters\": {\"lr\": 0.004157984233597562, \"decay\": 0.0037367267717074706, \"epochs\": 9}, \"y\": {\"log_eval\": 3.7380021459939643}, \"y_hat\": {\"log_eval\": 3.7366322452105676}, \"se\": {\"log_eval\": 0.014504551146615285}, \"se_hat\": {\"log_eval\": 0.013749023247335177}, \"context_stratum\": null}, \"26_0\": {\"name\": \"26_0\", \"parameters\": {\"lr\": 0.003984743419781169, \"decay\": 0.0012914146741416816, \"epochs\": 13}, \"y\": {\"log_eval\": 3.733347238741463}, \"y_hat\": {\"log_eval\": 3.7356113178962103}, \"se\": {\"log_eval\": 0.014264735317497002}, \"se_hat\": {\"log_eval\": 0.012813692406234834}, \"context_stratum\": null}, \"27_0\": {\"name\": \"27_0\", \"parameters\": {\"lr\": 0.0044755527574204075, \"decay\": 0.0008770153419057366, \"epochs\": 8}, \"y\": {\"log_eval\": 3.7264986324022074}, \"y_hat\": {\"log_eval\": 3.7264144785823974}, \"se\": {\"log_eval\": 0.014864291049449387}, \"se_hat\": {\"log_eval\": 0.012562192030044762}, \"context_stratum\": null}, \"28_0\": {\"name\": \"28_0\", \"parameters\": {\"lr\": 0.0032933923143772794, \"decay\": 0.0008111133357022278, \"epochs\": 10}, \"y\": {\"log_eval\": 3.7384567502927153}, \"y_hat\": {\"log_eval\": 3.735505943501993}, \"se\": {\"log_eval\": 0.014787002850622144}, \"se_hat\": {\"log_eval\": 0.013741704745970139}, \"context_stratum\": null}, \"29_0\": {\"name\": \"29_0\", \"parameters\": {\"lr\": 0.004072644764672069, \"decay\": 0.002303923665865714, \"epochs\": 11}, \"y\": {\"log_eval\": 3.674461006874313}, \"y_hat\": {\"log_eval\": 3.6818233793582564}, \"se\": {\"log_eval\": 0.01422720213073201}, \"se_hat\": {\"log_eval\": 0.013396689888844116}, \"context_stratum\": null}, \"30_0\": {\"name\": \"30_0\", \"parameters\": {\"lr\": 0.005617095681160452, \"decay\": 0.001755380644007118, \"epochs\": 10}, \"y\": {\"log_eval\": 3.7109245463650287}, \"y_hat\": {\"log_eval\": 3.7040418342189487}, \"se\": {\"log_eval\": 0.01473694664096031}, \"se_hat\": {\"log_eval\": 0.01350830362641773}, \"context_stratum\": null}, \"31_0\": {\"name\": \"31_0\", \"parameters\": {\"lr\": 0.004289613569715087, \"decay\": 0.0008474777542033326, \"epochs\": 10}, \"y\": {\"log_eval\": 3.711955698556763}, \"y_hat\": {\"log_eval\": 3.717579816158988}, \"se\": {\"log_eval\": 0.014083734764292598}, \"se_hat\": {\"log_eval\": 0.012084579122394197}, \"context_stratum\": null}, \"32_0\": {\"name\": \"32_0\", \"parameters\": {\"lr\": 0.002904618553551574, \"decay\": 0.0012288470288522085, \"epochs\": 10}, \"y\": {\"log_eval\": 3.780389147290634}, \"y_hat\": {\"log_eval\": 3.7663707532891655}, \"se\": {\"log_eval\": 0.01403801588972026}, \"se_hat\": {\"log_eval\": 0.012043114284368247}, \"context_stratum\": null}, \"33_0\": {\"name\": \"33_0\", \"parameters\": {\"lr\": 0.0037889689157116543, \"decay\": 0.0012146824301619034, \"epochs\": 9}, \"y\": {\"log_eval\": 3.7206715524645038}, \"y_hat\": {\"log_eval\": 3.740218715667928}, \"se\": {\"log_eval\": 0.01520847912775745}, \"se_hat\": {\"log_eval\": 0.011601950309348758}, \"context_stratum\": null}, \"34_0\": {\"name\": \"34_0\", \"parameters\": {\"lr\": 0.002438642927999432, \"decay\": 0.0025012259718864807, \"epochs\": 13}, \"y\": {\"log_eval\": 3.7753964281598127}, \"y_hat\": {\"log_eval\": 3.772410267049561}, \"se\": {\"log_eval\": 0.01378966104735636}, \"se_hat\": {\"log_eval\": 0.011381358238325735}, \"context_stratum\": null}, \"35_0\": {\"name\": \"35_0\", \"parameters\": {\"lr\": 0.0012440216784983, \"decay\": 0.0021844963220914236, \"epochs\": 12}, \"y\": {\"log_eval\": 3.7413698075164628}, \"y_hat\": {\"log_eval\": 3.7387190545050606}, \"se\": {\"log_eval\": 0.014083385187818898}, \"se_hat\": {\"log_eval\": 0.01350470829525208}, \"context_stratum\": null}, \"36_0\": {\"name\": \"36_0\", \"parameters\": {\"lr\": 0.006013150355723934, \"decay\": 0.0028060288008963583, \"epochs\": 13}, \"y\": {\"log_eval\": 3.6150758151607834}, \"y_hat\": {\"log_eval\": 3.618914966517588}, \"se\": {\"log_eval\": 0.015453840004871315}, \"se_hat\": {\"log_eval\": 0.0140643514660533}, \"context_stratum\": null}, \"37_0\": {\"name\": \"37_0\", \"parameters\": {\"lr\": 0.002683255708419544, \"decay\": 0.001773505945887894, \"epochs\": 11}, \"y\": {\"log_eval\": 3.7520486847518906}, \"y_hat\": {\"log_eval\": 3.7499578074845097}, \"se\": {\"log_eval\": 0.01399213810252053}, \"se_hat\": {\"log_eval\": 0.012124203810283184}, \"context_stratum\": null}, \"38_0\": {\"name\": \"38_0\", \"parameters\": {\"lr\": 0.002245383380378057, \"decay\": 0.0017013206868280336, \"epochs\": 12}, \"y\": {\"log_eval\": 3.755761428899229}, \"y_hat\": {\"log_eval\": 3.754340989915688}, \"se\": {\"log_eval\": 0.014218662641979468}, \"se_hat\": {\"log_eval\": 0.013118753742769803}, \"context_stratum\": null}, \"39_0\": {\"name\": \"39_0\", \"parameters\": {\"lr\": 0.002593592510211966, \"decay\": 0.0035303285210389617, \"epochs\": 14}, \"y\": {\"log_eval\": 3.7421739782912526}, \"y_hat\": {\"log_eval\": 3.7406194259320174}, \"se\": {\"log_eval\": 0.014377097617243583}, \"se_hat\": {\"log_eval\": 0.013461784144573309}, \"context_stratum\": null}, \"40_0\": {\"name\": \"40_0\", \"parameters\": {\"lr\": 0.0034429988535537165, \"decay\": 0.0012532430884026151, \"epochs\": 10}, \"y\": {\"log_eval\": 3.7417956537138988}, \"y_hat\": {\"log_eval\": 3.7371519130691517}, \"se\": {\"log_eval\": 0.014258964679359816}, \"se_hat\": {\"log_eval\": 0.011436052084491817}, \"context_stratum\": null}, \"41_0\": {\"name\": \"41_0\", \"parameters\": {\"lr\": 0.004597064302145103, \"decay\": 0.00129254493547221, \"epochs\": 8}, \"y\": {\"log_eval\": 3.757479496258855}, \"y_hat\": {\"log_eval\": 3.766387300339841}, \"se\": {\"log_eval\": 0.014053111515588359}, \"se_hat\": {\"log_eval\": 0.011891977703225547}, \"context_stratum\": null}, \"42_0\": {\"name\": \"42_0\", \"parameters\": {\"lr\": 0.0026063679668893846, \"decay\": 0.002122253915865578, \"epochs\": 16}, \"y\": {\"log_eval\": 3.757916169016624}, \"y_hat\": {\"log_eval\": 3.7559253500727543}, \"se\": {\"log_eval\": 0.014730960126280057}, \"se_hat\": {\"log_eval\": 0.013404242400849345}, \"context_stratum\": null}, \"43_0\": {\"name\": \"43_0\", \"parameters\": {\"lr\": 0.002160904220770353, \"decay\": 0.0025059118846846645, \"epochs\": 15}, \"y\": {\"log_eval\": 3.75143525026534}, \"y_hat\": {\"log_eval\": 3.751934603531285}, \"se\": {\"log_eval\": 0.013662134405389298}, \"se_hat\": {\"log_eval\": 0.012494355118503489}, \"context_stratum\": null}, \"44_0\": {\"name\": \"44_0\", \"parameters\": {\"lr\": 0.0027091769723221605, \"decay\": 0.001036927347367017, \"epochs\": 7}, \"y\": {\"log_eval\": 3.719411377631989}, \"y_hat\": {\"log_eval\": 3.7253706920599945}, \"se\": {\"log_eval\": 0.01496588906662695}, \"se_hat\": {\"log_eval\": 0.013797301768863656}, \"context_stratum\": null}, \"45_0\": {\"name\": \"45_0\", \"parameters\": {\"lr\": 0.0007273873451560561, \"decay\": 0.007323840961065265, \"epochs\": 17}, \"y\": {\"log_eval\": 3.754299748803738}, \"y_hat\": {\"log_eval\": 3.7528722868349003}, \"se\": {\"log_eval\": 0.013609352138377937}, \"se_hat\": {\"log_eval\": 0.012921948528290697}, \"context_stratum\": null}, \"46_0\": {\"name\": \"46_0\", \"parameters\": {\"lr\": 0.0030079183198763126, \"decay\": 0.0014661394936190625, \"epochs\": 12}, \"y\": {\"log_eval\": 3.721725149736247}, \"y_hat\": {\"log_eval\": 3.7328738156917654}, \"se\": {\"log_eval\": 0.015507392797992183}, \"se_hat\": {\"log_eval\": 0.013119477714442775}, \"context_stratum\": null}, \"47_0\": {\"name\": \"47_0\", \"parameters\": {\"lr\": 0.0027302036324266493, \"decay\": 0.002615729671691876, \"epochs\": 10}, \"y\": {\"log_eval\": 3.806544404335847}, \"y_hat\": {\"log_eval\": 3.78580567872205}, \"se\": {\"log_eval\": 0.013373452148722405}, \"se_hat\": {\"log_eval\": 0.009072998289589159}, \"context_stratum\": null}, \"48_0\": {\"name\": \"48_0\", \"parameters\": {\"lr\": 0.0025249974010564885, \"decay\": 0.0025410187000322456, \"epochs\": 8}, \"y\": {\"log_eval\": 3.7647383412281084}, \"y_hat\": {\"log_eval\": 3.7680305507197405}, \"se\": {\"log_eval\": 0.013665101877774801}, \"se_hat\": {\"log_eval\": 0.01184385283999218}, \"context_stratum\": null}, \"49_0\": {\"name\": \"49_0\", \"parameters\": {\"lr\": 0.002818156640431079, \"decay\": 0.002693597623753263, \"epochs\": 12}, \"y\": {\"log_eval\": 3.7557171367622133}, \"y_hat\": {\"log_eval\": 3.7701429412693934}, \"se\": {\"log_eval\": 0.014307632338815848}, \"se_hat\": {\"log_eval\": 0.011196012058338374}, \"context_stratum\": null}, \"50_0\": {\"name\": \"50_0\", \"parameters\": {\"lr\": 0.0029062328771851335, \"decay\": 0.002520316199161385, \"epochs\": 8}, \"y\": {\"log_eval\": 3.793516557225751}, \"y_hat\": {\"log_eval\": 3.7794067529533057}, \"se\": {\"log_eval\": 0.013679930847354123}, \"se_hat\": {\"log_eval\": 0.010766423849543575}, \"context_stratum\": null}, \"51_0\": {\"name\": \"51_0\", \"parameters\": {\"lr\": 0.0028739319116947606, \"decay\": 0.0031450826461652663, \"epochs\": 8}, \"y\": {\"log_eval\": 3.758040877039798}, \"y_hat\": {\"log_eval\": 3.762294248054489}, \"se\": {\"log_eval\": 0.013870163942519297}, \"se_hat\": {\"log_eval\": 0.012508029273839176}, \"context_stratum\": null}, \"52_0\": {\"name\": \"52_0\", \"parameters\": {\"lr\": 0.002788867139708552, \"decay\": 0.002315431049546887, \"epochs\": 9}, \"y\": {\"log_eval\": 3.746788230975897}, \"y_hat\": {\"log_eval\": 3.7687571870493755}, \"se\": {\"log_eval\": 0.014539532660652015}, \"se_hat\": {\"log_eval\": 0.010305417219479942}, \"context_stratum\": null}}, \"out_of_sample\": {}, \"status_quo_name\": null};\n",
       "const density = 50;\n",
       "const grid_x = [0.0001, 0.00010985411419875583, 0.00012067926406393288, 0.00013257113655901095, 0.00014563484775012445, 0.00015998587196060574, 0.00017575106248547912, 0.00019306977288832496, 0.00021209508879201905, 0.00023299518105153718, 0.0002559547922699536, 0.0002811768697974231, 0.00030888435964774815, 0.000339322177189533, 0.0003727593720314938, 0.0004094915062380423, 0.0004498432668969444, 0.0004941713361323833, 0.0005428675439323859, 0.0005963623316594642, 0.0006551285568595509, 0.0007196856730011522, 0.0007906043210907702, 0.000868511373751352, 0.0009540954763499944, 0.0010481131341546852, 0.0011513953993264468, 0.0012648552168552957, 0.0013894954943731374, 0.0015264179671752333, 0.0016768329368110067, 0.0018420699693267163, 0.0020235896477251557, 0.0022229964825261957, 0.0024420530945486497, 0.0026826957952797246, 0.0029470517025518097, 0.0032374575428176433, 0.0035564803062231283, 0.003906939937054613, 0.004291934260128779, 0.00471486636345739, 0.005179474679231213, 0.005689866029018293, 0.0062505519252739694, 0.006866488450042998, 0.007543120063354615, 0.008286427728546842, 0.009102981779915217, 0.01];\n",
       "const grid_y = [0.0001, 0.00010985411419875583, 0.00012067926406393288, 0.00013257113655901095, 0.00014563484775012445, 0.00015998587196060574, 0.00017575106248547912, 0.00019306977288832496, 0.00021209508879201905, 0.00023299518105153718, 0.0002559547922699536, 0.0002811768697974231, 0.00030888435964774815, 0.000339322177189533, 0.0003727593720314938, 0.0004094915062380423, 0.0004498432668969444, 0.0004941713361323833, 0.0005428675439323859, 0.0005963623316594642, 0.0006551285568595509, 0.0007196856730011522, 0.0007906043210907702, 0.000868511373751352, 0.0009540954763499944, 0.0010481131341546852, 0.0011513953993264468, 0.0012648552168552957, 0.0013894954943731374, 0.0015264179671752333, 0.0016768329368110067, 0.0018420699693267163, 0.0020235896477251557, 0.0022229964825261957, 0.0024420530945486497, 0.0026826957952797246, 0.0029470517025518097, 0.0032374575428176433, 0.0035564803062231283, 0.003906939937054613, 0.004291934260128779, 0.00471486636345739, 0.005179474679231213, 0.005689866029018293, 0.0062505519252739694, 0.006866488450042998, 0.007543120063354615, 0.008286427728546842, 0.009102981779915217, 0.01];\n",
       "const f = [3.6986893973522967, 3.6986902576332525, 3.6987080373285437, 3.6987477156326545, 3.69881439891966, 3.6989145008692197, 3.6990569778377513, 3.699253936813853, 3.6995203064786226, 3.699872191288616, 3.7003219421745577, 3.7008655155540104, 3.7014598441413145, 3.70200342719465, 3.7023559088117493, 3.7024179536844186, 3.702212871428668, 3.7018746240526106, 3.7015570203811445, 3.701373015991311, 3.7014118935806066, 3.7017896967825346, 3.702669611920716, 3.7042122070802517, 3.7064294853454, 3.708945886322618, 3.710840636237534, 3.7110540151881874, 3.709396211177075, 3.706760722228515, 3.7041716685218242, 3.7021520503908447, 3.700779909968114, 3.699929939789693, 3.6994366362010522, 3.699161048322064, 3.6990035493049374, 3.698895861147329, 3.698788578382124, 3.6986400010653537, 3.6984079266992698, 3.698045811698459, 3.6975064457488527, 3.6967577872181447, 3.6958132461856135, 3.6947678827063735, 3.693813228530586, 3.6931940243816106, 3.6931011614493725, 3.6935636800144382, 3.6986194131441734, 3.6986165111917755, 3.6986394131383618, 3.6986949523427453, 3.6987893226160935, 3.6989301772548666, 3.699128848535255, 3.6994013829845986, 3.6997681245041023, 3.7002521457384074, 3.7008745341692872, 3.7016388013342474, 3.7024953625841386, 3.7032995445741403, 3.7038264536527894, 3.7039041407538127, 3.7035696043658417, 3.7030442046760337, 3.7025569405823138, 3.7022407519421447, 3.70217632972047, 3.7024852300271998, 3.703367774748853, 3.705042995311269, 3.707572974575884, 3.710560030140705, 3.712884066287429, 3.713143417486743, 3.7110758167626097, 3.7078806410366876, 3.7048335084402333, 3.7025167785126594, 3.700976837417646, 3.7000421385756352, 3.699511388661248, 3.6992223572901413, 3.6990607056313953, 3.6989480115658333, 3.698826416860014, 3.6986453226168163, 3.6983511983173467, 3.697881945858601, 3.697170321736836, 3.6961641465329302, 3.6948693884577586, 3.693407638492891, 3.6920487359760847, 3.6911557642251087, 3.691020826882136, 3.69168884601469, 3.698508759442363, 3.698497992321073, 3.698526729347605, 3.6986041529329836, 3.698736965876128, 3.69893317868799, 3.6992061185118996, 3.6995760516836103, 3.7000691682654683, 3.7007158065381955, 3.7015472804436174, 3.702580052144529, 3.70376602377704, 3.704913582060961, 3.7056783505710715, 3.7057716487305763, 3.70525303785157, 3.7044834085108493, 3.703793179102492, 3.7033192806828055, 3.7031054362848344, 3.7032626296227926, 3.7040238518142248, 3.7056602384138064, 3.708275453237955, 3.711467947609898, 3.714006660129649, 3.7142744892376864, 3.7119580764691924, 3.708447549127652, 3.705157434886228, 3.7026929657028944, 3.701077762516541, 3.7001133297949833, 3.6995783316962005, 3.6992970299459706, 3.69914533974136, 3.6990365722737333, 3.698904674161554, 3.6986897833454826, 3.698326365609728, 3.697735261651676, 3.6968257534670825, 3.69551946104518, 3.6938080209519946, 3.6918385814472265, 3.689974808070553, 3.6887334795156113, 3.6885442179689996, 3.689473826233731, 3.69833666555436, 3.698310895198464, 3.698345881192025, 3.698453687671871, 3.69863993463099, 3.698910742823977, 3.6992800646576276, 3.6997721544666735, 3.700418779005784, 3.701255942754866, 3.702323425549536, 3.703653968860341, 3.7052134912464068, 3.7067721207369506, 3.707835757407266, 3.7079416639107228, 3.707184742029169, 3.706133576116203, 3.705239483846812, 3.704608818292138, 3.704207439305104, 3.7041194460873994, 3.7046109957169895, 3.7059963985323403, 3.7083979957806528, 3.7114140288223814, 3.7138225702657497, 3.7140379879212664, 3.7117474902128933, 3.7082937745881734, 3.705058774797705, 3.7026408639016726, 3.7010664196420997, 3.7001404534178963, 3.699643182412536, 3.699397746407221, 3.699276074959937, 3.699184942324298, 3.699050007770137, 3.698801942381776, 3.6983637126207975, 3.6976398650806708, 3.696515660387595, 3.6948828784912497, 3.692712131345809, 3.6901713751053276, 3.6877263553960273, 3.6860762832122353, 3.685822030723207, 3.68705798594474, 3.6980738989786666, 3.6980211304783475, 3.698062233843033, 3.6982126924062606, 3.698473528852002, 3.698844229547804, 3.699336285872388, 3.6999769976284553, 3.7008027398236396, 3.7018511290907554, 3.703163028531951, 3.7047835416175587, 3.7067038812735564, 3.708681088865217, 3.7100692986097856, 3.710181311513717, 3.7091623225350308, 3.7078509494638436, 3.7068127830493425, 3.706069769320903, 3.705462503750289, 3.7050397536764206, 3.7051155539271825, 3.706046667696477, 3.707953774298174, 3.7104396844019107, 3.7124041750426704, 3.71251211246706, 3.710496452176417, 3.70744441297536, 3.7045470464014283, 3.702364195575526, 3.7009466976855023, 3.70013109909861, 3.699719514954089, 3.699545503963652, 3.6994817133674487, 3.6994286951293147, 3.6993024454506043, 3.6990237431470865, 3.698506208238419, 3.6976425624620783, 3.6962987350352514, 3.6943385979793977, 3.6917085576643687, 3.6885899691380732, 3.6855463066879866, 3.6834678068633826, 3.6831434873452116, 3.684698228499711, 3.6976810805127807, 3.697581760779094, 3.6976279949753743, 3.6978392024226525, 3.698204825396937, 3.698708671475708, 3.699353962904187, 3.700169284321271, 3.701194412825288, 3.7024625766181583, 3.7040019138531446, 3.7058539264829307, 3.708034107164243, 3.710319146289903, 3.7119649355375994, 3.7120747954030766, 3.7108538772802766, 3.7094061869383417, 3.7083608989539014, 3.7075989812473513, 3.7067961624080668, 3.705972682599125, 3.7055227681744243, 3.7058575046501336, 3.707090446682737, 3.7088456517820387, 3.7102133526797414, 3.710187200420555, 3.708558749905027, 3.7060961894734663, 3.703717256193925, 3.7019066984619933, 3.7007414580700244, 3.700103549033298, 3.699829836661239, 3.699771903752366, 3.6998049155806005, 3.699820486474379, 3.6997208028806923, 3.6994152781284146, 3.698812353664517, 3.697802658554838, 3.6962451206833506, 3.6939863201950964, 3.690952560887796, 3.687331355385721, 3.6837638006001323, 3.681305604268522, 3.6809161190080517, 3.682747466426199, 3.6971083604120545, 3.696931552130582, 3.6969807145858136, 3.6972797170577767, 3.697793419391833, 3.698473948771237, 3.6993065934659115, 3.7003187843202805, 3.701553238454151, 3.7030329053749025, 3.704755878202618, 3.706733204456721, 3.708984566812165, 3.7113266628568113, 3.71302481206415, 3.7131260124559957, 3.7118866333938727, 3.7105311465097643, 3.7096675372312427, 3.709008351449094, 3.708051298469176, 3.706809892494831, 3.705796082603219, 3.7054897703132488, 3.706003150895449, 3.7070003414783947, 3.7077736660325726, 3.7076115234599616, 3.706356982285121, 3.7045050876095575, 3.7027024561276916, 3.7013331746585236, 3.700485253848722, 3.7000843631044438, 3.7000056638418295, 3.7001212304239868, 3.700306386606545, 3.70043614032808, 3.700389629485625, 3.700060834287744, 3.6993594302064112, 3.698190679835726, 3.696428536187926, 3.693923325648822, 3.6905945862146172, 3.686631530893666, 3.6827179207318053, 3.6800092356906218, 3.6795715925524903, 3.6815726105660938, 3.696298512921096, 3.6959968637173906, 3.696045142440035, 3.6964723002737094, 3.6971955178093783, 3.6981087854923085, 3.6991652272924456, 3.7003887324311315, 3.7018265556776924, 3.703488759574728, 3.7053295790302636, 3.707302653100289, 3.7094030171045524, 3.7114926487136386, 3.7129671352568825, 3.7130529623466333, 3.712030125145384, 3.711007491952809, 3.7104857297862472, 3.710028268826813, 3.708984121407827, 3.7073842779687696, 3.705869326600558, 3.7049858062211554, 3.704851743410934, 3.7051827524793324, 3.705447596805648, 3.705158282804782, 3.704200956262241, 3.7028794972731616, 3.7016216443886316, 3.7007065735875844, 3.7002147582992007, 3.700104557216883, 3.7002865335243937, 3.7006517715586784, 3.701068890022961, 3.701381357208171, 3.7014272928393472, 3.701075884580663, 3.7002469088278, 3.698886344520448, 3.696916657641994, 3.6942227846686615, 3.6907379569839414, 3.686650854800909, 3.6826426263059457, 3.6798724238958265, 3.6794127662691256, 3.6814279091230104, 3.695196886416923, 3.694700903187246, 3.694742481297463, 3.6953567077172043, 3.696373682661045, 3.697588678896764, 3.69890482960103, 3.700342000996663, 3.701956914563424, 3.703750187772428, 3.705629901897661, 3.7074807364096194, 3.709257007236127, 3.710873759505316, 3.7119422870466976, 3.711999341851224, 3.711321522258285, 3.7107480138523146, 3.710609769937226, 3.7103761221050693, 3.7093263544793467, 3.7075170062111558, 3.7056684892761322, 3.70436299670367, 3.7037288131985084, 3.7035385924064297, 3.7034028319788934, 3.702994720249115, 3.7022421387901927, 3.701335923198341, 3.7005505540984256, 3.700072489026648, 3.699961148671342, 3.700195552519251, 3.700717620362765, 3.7014351536520613, 3.7021994030280205, 3.7027973040454745, 3.7029935862408383, 3.702613465128065, 3.701598675576502, 3.6999754667682128, 3.6977620779597364, 3.6949160397108085, 3.691405483506784, 3.6874138404250703, 3.683570170739829, 3.6809350386728035, 3.680480685532657, 3.682347648208017, 3.693773024083099, 3.6929867318590235, 3.6930134527609684, 3.693896452676394, 3.6953144997242773, 3.696907935728843, 3.6985130993601367, 3.700150487885605, 3.701895242255402, 3.7037486091985086, 3.7055854763195675, 3.7072341210519735, 3.7086149029698072, 3.709705003444816, 3.7103447081662924, 3.710358334688329, 3.7100001858396867, 3.709822896620285, 3.7099741803147626, 3.7099021209402503, 3.708924544570524, 3.7071098180289317, 3.7051573681499756, 3.703631958378795, 3.7026722648128922, 3.702110399623416, 3.7016700566625205, 3.7011447434959455, 3.7005106973639945, 3.6999090785474493, 3.699520135543784, 3.6994556485086436, 3.6997467588888133, 3.700385406408383, 3.7013450367394043, 3.7025514229043583, 3.70382601806009, 3.7048611413674983, 3.7052928357367465, 3.7048659276109355, 3.703560435454525, 3.7015435949862776, 3.6989946218460057, 3.695985052665372, 3.6925314787702734, 3.6887986891695865, 3.6853160724253975, 3.682963722331377, 3.6825346658140967, 3.684130305790374, 3.692058557498932, 3.6908622203682584, 3.690863481113112, 3.692117652414486, 3.6940543447100644, 3.6960935773195245, 3.697998908522273, 3.6998044352119352, 3.7016158141389575, 3.7034491295112564, 3.705170447693329, 3.706583078426797, 3.7075944614222474, 3.70823903634608, 3.708535040085635, 3.708501642832562, 3.7083582919292355, 3.708427709608943, 3.708712148796928, 3.708708147552913, 3.7078563925422423, 3.7062169001614627, 3.70437361580513, 3.7028190823819376, 3.7016942409088496, 3.700887294340543, 3.700213688925543, 3.699564025340701, 3.6989748434637186, 3.6985872800343063, 3.6985336283419805, 3.698866679826587, 3.6995859006535596, 3.7006949738564243, 3.702207350682178, 3.7040764549832406, 3.7060838043344364, 3.707773958759998, 3.708564316948223, 3.7080538605739597, 3.706284978556356, 3.7036612606174764, 3.7006126050194554, 3.6973650149822554, 3.6939815201901984, 3.6905821310923432, 3.6875558073070764, 3.6855556858219596, 3.685160708241498, 3.686425757461082, 3.6901997922537295, 3.6884725106892224, 3.688435834969236, 3.6901635586123387, 3.6927065815266467, 3.6952146952703417, 3.6973954071198736, 3.6993162723109094, 3.7011247367369937, 3.702864897294018, 3.704419910133338, 3.705603048049648, 3.7063294531209996, 3.706670784427806, 3.706747659486161, 3.7066801783187184, 3.7066471974541746, 3.7068149579469902, 3.70710206562414, 3.7070975459884945, 3.7063912076190833, 3.70502381717443, 3.70342327466973, 3.7019744210390306, 3.700804402458287, 3.6998455031998905, 3.6989858469746655, 3.6981988986370817, 3.697594527355279, 3.6973526792950993, 3.697591544626448, 3.6983146713282653, 3.699488175104126, 3.701133277372977, 3.7033220740110275, 3.706057929074336, 3.7090814604491196, 3.711723695043363, 3.713045508317888, 3.712387806884398, 3.7098934049302676, 3.7063531170909108, 3.702568128621856, 3.698950940817448, 3.6955864897810935, 3.6925104781636544, 3.6899401854194007, 3.6882900410775354, 3.6879287135695233, 3.6888643853999232, 3.6885020688454264, 3.686187291879172, 3.686100676802783, 3.688342272323762, 3.6914698292370343, 3.6943764396791527, 3.6967525735175406, 3.6987145196107925, 3.700454733067346, 3.702051324731272, 3.7034213310387987, 3.7044112666175586, 3.704954808855929, 3.7051365940027274, 3.7051133932402114, 3.7050378360168303, 3.7050489565153306, 3.7052203037663265, 3.705442317350956, 3.7054079314395825, 3.704838305967703, 3.7037547994444178, 3.7024394398621125, 3.701161999319615, 3.700019882530741, 3.698971683197038, 3.6979586827838418, 3.6970246541126994, 3.696361541121016, 3.6962162815817172, 3.6967161687891497, 3.697820262067692, 3.6994619303157186, 3.7016919325550743, 3.704667822055464, 3.708478447143946, 3.7128406382753725, 3.7168061311542537, 3.718886196653353, 3.7179814079057882, 3.7143972029914107, 3.7095440028549973, 3.7047430168086426, 3.700601453468994, 3.6971731933434606, 3.694359513677213, 3.6921852421228207, 3.6908393369943426, 3.6905072892444726, 3.6911552711332627, 3.687398052318489, 3.6846287705711767, 3.6844868504273074, 3.6870978010432363, 3.6905836977297017, 3.693688931088764, 3.6961175518153375, 3.69802793793085, 3.699646720185069, 3.701080744606996, 3.7022822211709605, 3.703135405592311, 3.703591794757855, 3.7037300544296436, 3.703700618052185, 3.703648856411608, 3.7036787872464227, 3.703816195873007, 3.703957913311502, 3.703889743809954, 3.703431678935056, 3.702591290649871, 3.7015386868993936, 3.700443170343662, 3.699364354937898, 3.6982703277970272, 3.6971367548320497, 3.696063009009828, 3.6953215897222034, 3.695239643997739, 3.6959669560228394, 3.6974231295665314, 3.699515440462213, 3.7023400686574788, 3.7061672790402223, 3.711212326840467, 3.717208133489206, 3.722889271148475, 3.7259877392762597, 3.7246922254574946, 3.7195710079823106, 3.712984421851046, 3.70692016746926, 3.7021393674936696, 3.698582704221146, 3.6959645529354757, 3.694109227892381, 3.693008951172581, 3.692703074721304, 3.693123589993641, 3.6872478141278404, 3.68442518400545, 3.684236871412404, 3.6868031327892545, 3.6902174100640135, 3.6932159806137306, 3.6955085982229443, 3.6972658482955425, 3.6987269355130157, 3.7000117855309522, 3.7010931106684772, 3.701879791718273, 3.7023317918991925, 3.7025111598074023, 3.7025427032572673, 3.7025472038226845, 3.70259967743205, 3.7027042178851333, 3.702778355881017, 3.7026810956084373, 3.702302080140851, 3.7016429128082446, 3.7007990219108584, 3.699864145665184, 3.6988617880789407, 3.6977590207999262, 3.696551011111144, 3.695375601368515, 3.6945694477916744, 3.6945311203992346, 3.6954360072716606, 3.697177449318322, 3.6996542181903007, 3.7030232874832385, 3.7076821607286408, 3.7139980135508845, 3.721767778231024, 3.7294322530077784, 3.7337582384470656, 3.731885676843906, 3.724794698158552, 3.716183088447642, 3.7087696415673035, 3.7033581720134454, 3.69968004281897, 3.6972247913630802, 3.6956270450535484, 3.694722274128249, 3.6944438089513425, 3.6946997030277906, 3.688054411394706, 3.685593693524072, 3.685367358194749, 3.6874564800116354, 3.6903554175819178, 3.6929323320344545, 3.6948956057514204, 3.6964035570390132, 3.697690485193, 3.6988692245710677, 3.699905500533714, 3.700706956283695, 3.701228215531664, 3.7015114259522433, 3.7016529922538672, 3.7017460524648556, 3.7018417515681143, 3.701933842145486, 3.7019613758047223, 3.7018373448508455, 3.7015012974861783, 3.7009577911024607, 3.7002597325487496, 3.6994516009643554, 3.6985294188853537, 3.6974562737944847, 3.6962377237459814, 3.695032273822141, 3.694209693678188, 3.6942065398797084, 3.6952167165850827, 3.69713317350581, 3.699875548059872, 3.7036713205948257, 3.7090344763595433, 3.7164649607172175, 3.7258301972864665, 3.7353534147379372, 3.7408548009485054, 3.738201591286431, 3.7289618092013552, 3.718415046139163, 3.709882666960669, 3.7040492038271022, 3.7003653964725056, 3.6980963552388793, 3.696725701540679, 3.695983575371315, 3.6957384082388325, 3.6958864472093604, 3.6894460060988763, 3.6874956911735612, 3.687222634358672, 3.6886637844813457, 3.690792911217935, 3.6927235252556527, 3.694200046809867, 3.6953805360612213, 3.6964984363720585, 3.6976416251569653, 3.6987311485733, 3.6996391740636745, 3.7003006910867353, 3.7007407673429094, 3.7010345026933478, 3.7012515958370003, 3.7014219833506736, 3.701529907153585, 3.701529308539346, 3.701372326616599, 3.7010387229746837, 3.7005466052230545, 3.6999324107088336, 3.699214574067335, 3.698372885591299, 3.6973684433035574, 3.69621252895243, 3.695067256375541, 3.694296790583371, 3.6943274729789453, 3.695357730052377, 3.6973123384597497, 3.7001654867891594, 3.704217034227926, 3.7100605595448557, 3.7182488449628326, 3.72862136325055, 3.739207224201377, 3.7452222942368008, 3.741632379865952, 3.7306753450231565, 3.718897369321555, 3.709882408699038, 3.7040596066629616, 3.7005947633927874, 3.6985859755314947, 3.6974386753351896, 3.6968409469471717, 3.6966373427157078, 3.6967248510301873, 3.6909486735888515, 3.6894514505993428, 3.6891145117866726, 3.689934445917574, 3.691248602037745, 3.69243231171062, 3.693318395336744, 3.6941153920067453, 3.695091192536829, 3.6962963279072807, 3.6975581441125454, 3.698673597723631, 3.6995474485641884, 3.700196719192778, 3.700687854025504, 3.7010735920858044, 3.7013611641252666, 3.701517584711402, 3.701500478588785, 3.70129162595251, 3.7009110924915367, 3.7004045144838713, 3.6998136746288313, 3.6991494857214464, 3.698385360054512, 3.6974830010199384, 3.696455558420661, 3.6954528166528533, 3.6947978320019668, 3.6948632436640434, 3.6958371948535262, 3.6976999755320876, 3.7005057004924096, 3.7046238456663776, 3.710682479998041, 3.719171684178108, 3.7297011058220195, 3.739976522431055, 3.7451228830363896, 3.740513409677625, 3.7289263101097223, 3.7171477575777634, 3.7086013374902316, 3.703375133617256, 3.7004092942363456, 3.698748921993938, 3.697826084848982, 3.6973580054305772, 3.697202694178008, 3.697267498536162, 3.6921974710875665, 3.6910182822633635, 3.6906011036990787, 3.6909044073586577, 3.6914855934869286, 3.6919225805738223, 3.692163858339165, 3.692539154964186, 3.6934193907160995, 3.6948089483597095, 3.696376221426531, 3.6978018747300787, 3.698959072198739, 3.6998729818545786, 3.7006170506639817, 3.7012325352331215, 3.7016961356456655, 3.7019403835472846, 3.7019103719571715, 3.701613312813381, 3.7011205071908515, 3.7005252647076707, 3.6998947815697423, 3.699245880570384, 3.6985511031770044, 3.6977721789384606, 3.6969180654228775, 3.6961120792531337, 3.6956126709799952, 3.6957144019731634, 3.696584232349692, 3.6982631957743517, 3.7008938173303356, 3.7049136514210304, 3.710960885422089, 3.7193769766220797, 3.729342979116515, 3.738052565382257, 3.7409673735301525, 3.7351310500469515, 3.723889056173216, 3.7133496776274098, 3.7062614776684106, 3.702203710504216, 3.699962663633008, 3.6986866074507816, 3.697959000922877, 3.6975938768074457, 3.6974882616522406, 3.69756098356544, 3.6929758735198117, 3.691970571835196, 3.691463349855416, 3.69137560814458, 3.69136753879197, 3.6911309110140778, 3.6907184465163505, 3.690647945671232, 3.6914936668377014, 3.6932038084450025, 3.6952035382183976, 3.6970263455933265, 3.6985278099474166, 3.699763756898027, 3.7008309488739166, 3.70176164106747, 3.7024853958507467, 3.702869550844975, 3.702821937377824, 3.7023764474620924, 3.7016809625582097, 3.700906692540408, 3.700166575990008, 3.699491321565917, 3.6988519682669425, 3.698204715582764, 3.6975454904131806, 3.696960259753097, 3.696633790116987, 3.6967781913660533, 3.6975335036781476, 3.6989909257130185, 3.701373656687865, 3.7051897368380162, 3.7111026569185492, 3.7193072749205616, 3.7284727752474804, 3.7351261432043144, 3.7351507268478623, 3.727654972273472, 3.7170033941803626, 3.708492819874589, 3.703587452659592, 3.7010274106689387, 3.699528072444136, 3.698533781062197, 3.6979020488509002, 3.6975873049048893, 3.6975265485856563, 3.6976354861029703, 3.693173130543208, 3.6922103814933336, 3.6916130111084784, 3.6912685551483255, 3.690855569725496, 3.690090979951433, 3.689084449596151, 3.688572243769201, 3.6894497633410155, 3.691594740962583, 3.6941035870369157, 3.696365726494542, 3.698248688986243, 3.6998614485261796, 3.701337921614538, 3.702700574258458, 3.7038048459110717, 3.704402325222373, 3.7043235514317328, 3.703636939947129, 3.702613741304847, 3.701548063478051, 3.700619630882363, 3.69987438208565, 3.6992741748406064, 3.69875924285819, 3.6983020806476326, 3.697944534284724, 3.697799702307883, 3.698005627633911, 3.6986747768256794, 3.6999326656426215, 3.702066845695681, 3.7056585108046054, 3.7114407804432163, 3.7195491575019077, 3.7281901973575713, 3.7330805310179587, 3.73020702629551, 3.720684088607705, 3.710462767260592, 3.7043202043830057, 3.701829040052858, 3.7005869513432508, 3.6994611284771874, 3.6984236247767956, 3.6976884289736547, 3.69734099464407, 3.697319504895398, 3.697499072711235, 3.692734436585386, 3.6916942407923745, 3.6910164203346665, 3.690562877265714, 3.6899730658530796, 3.688918470577719, 3.687503817522499, 3.686637276042378, 3.687600585101369, 3.6901935895904017, 3.693173971917988, 3.695844296047939, 3.6981112621897276, 3.700147214526265, 3.702131858371341, 3.704076783502709, 3.7057278247497503, 3.7066430208476557, 3.7065094952531568, 3.7054473798385166, 3.7039306359133124, 3.7024397151605735, 3.701240103598027, 3.7003852863434097, 3.6998130933159628, 3.699433795218173, 3.6991860001848536, 3.699064196696786, 3.6991175927440083, 3.6994240742590447, 3.7000738116143834, 3.701217634541563, 3.703194435516676, 3.7066561034082923, 3.712439942250251, 3.720711769554413, 3.7293041035372365, 3.7330826544936735, 3.7278256093849063, 3.7165796375326856, 3.7069569795014443, 3.703271047615577, 3.702655386440714, 3.701744302015314, 3.7000939613023744, 3.698423587774675, 3.697285529217155, 3.6968051435988603, 3.6968317704425715, 3.697135356671178, 3.691634136324266, 3.6903973290035004, 3.6896549313549483, 3.689256329825252, 3.6887591420807344, 3.687742967804112, 3.6862705810445147, 3.6853131022002015, 3.6863717364095177, 3.689224626408904, 3.6924918991501783, 3.6954649186555226, 3.698084927951968, 3.7005767119093407, 3.7031696724620384, 3.7058704197673413, 3.708280716659933, 3.7096561482948647, 3.7094330625493006, 3.707814760429063, 3.705603732292037, 3.7035463332274166, 3.7020027578665324, 3.7010146604652197, 3.700475307957616, 3.700249727487752, 3.7002332486521134, 3.7003718274589352, 3.7006598564918565, 3.7011301187003833, 3.7018631319961366, 3.703043673548769, 3.705068981706898, 3.70866109713114, 3.7147491893114095, 3.723493406517942, 3.732247762819734, 3.7352169380288913, 3.728585827623572, 3.717444933070978, 3.709705632091001, 3.708248045759081, 3.7077302353131762, 3.70515273346974, 3.7015540462114993, 3.6984494887832042, 3.696557360168069, 3.695863532034708, 3.6959877506427374, 3.6965046245880377, 3.6898803290799584, 3.6883183226393483, 3.687526586741816, 3.6873560336907825, 3.6872348279282443, 3.6866111530795873, 3.68549554556727, 3.6848224179538525, 3.6859379211151, 3.6887330098806856, 3.692036627778973, 3.6951796363720493, 3.6981058745702433, 3.701067139566259, 3.7043452854374657, 3.7079632084304497, 3.71136570506278, 3.713377498097345, 3.713019800659976, 3.7106315717533436, 3.707524565496807, 3.704788341362764, 3.7028641996134146, 3.7017517982851986, 3.701278574160592, 3.7012511955381004, 3.7015140548191043, 3.7019637873092903, 3.702547444863047, 3.703266121855161, 3.704210058030069, 3.7056300838490133, 3.7080260989359206, 3.712221041778406, 3.7191907007311826, 3.7288516425651657, 3.7375193295106586, 3.738896795470619, 3.7319890348528517, 3.724498001249547, 3.7216288655845067, 3.7213487864723156, 3.7177065757761185, 3.7107487123181735, 3.703559959819898, 3.6981908002315653, 3.6952402722988418, 3.6943303001637573, 3.6946762975147753, 3.695549767117088, 3.6875507763889512, 3.6855247440330374, 3.6846906606626675, 3.684910239459671, 3.6854107435753023, 3.685450399934958, 3.684962468863724, 3.684760459281423, 3.6859131463218078, 3.688475832977976, 3.691655774432657, 3.694880974577972, 3.6980760903494523, 3.701494983742672, 3.705473544351, 3.7100861968391756, 3.714654935784368, 3.7174756100074893, 3.716936626144112, 3.713590165051187, 3.709467663471502, 3.7060315488957363, 3.7037610585030283, 3.7025842186813787, 3.702250562068199, 3.7025017765146937, 3.7031252145899582, 3.7039658046627966, 3.7049275012737377, 3.705988764020669, 3.707269977927378, 3.709137839912087, 3.712274883844824, 3.7176884613523895, 3.7264005646809606, 3.7377163576014025, 3.7458692990633105, 3.7439755886612733, 3.7365890376271826, 3.7359823754445896, 3.741619698931331, 3.741046571950647, 3.730947854419856, 3.717344089832442, 3.7053316192509023, 3.6971029645749396, 3.6929556457269617, 3.6919687862972244, 3.692768105410907, 3.6942087424154444, 3.6848508611554687, 3.6822319714031218, 3.6813490592975833, 3.682075380339625, 3.6833422605596233, 3.684144968200043, 3.6843115497523296, 3.6845352978515744, 3.685712127738282, 3.68805873735631, 3.6911172912337027, 3.694426709666066, 3.697880752913591, 3.7017136842651452, 3.7063063744742126, 3.7118105220777156, 3.717505922079835, 3.7211951928063307, 3.7204549728469036, 3.7161322022073384, 3.71109354658022, 3.707099908828781, 3.7046177517006553, 3.7034994263769674, 3.7034263330192845, 3.7040784353227854, 3.7051791054549215, 3.7065141002307813, 3.707945003788947, 3.7094308336262953, 3.711132987683836, 3.713581584721604, 3.717713781312497, 3.7247826766302317, 3.7358988154707395, 3.749505526931746, 3.756587294168648, 3.7494126013265174, 3.739721407761185, 3.746399875277924, 3.76234107304218, 3.7608369301128812, 3.7433161289986003, 3.7228224530182374, 3.7057737862467586, 3.6945163616459387, 3.6892811834331063, 3.688543347688953, 3.6901498188344113, 3.692434183706228, 3.6821638459683435, 3.6788851516467624, 3.6779328149732, 3.6791841026532026, 3.6811931983663, 3.6826483145855584, 3.683280100481255, 3.6837406000884103, 3.684904339213993, 3.6871411125528395, 3.690205616464696, 3.693687718923465, 3.6974210178958447, 3.701593094487785, 3.70659952007877, 3.7126510408776907, 3.719048680785362, 3.7233429502358217, 3.7224745350512043, 3.717553663392768, 3.7120350270279867, 3.7078209185431037, 3.7053642247556717, 3.7044874430722254, 3.7048427048329358, 3.706060979770192, 3.7077874491669256, 3.709728676310565, 3.7117025201270746, 3.7136513498376686, 3.715769725064056, 3.718774841609, 3.7238570335015884, 3.7323585330870572, 3.745236889824685, 3.7600748015313874, 3.7649521363718024, 3.751789559455873, 3.738793110188543, 3.749870948415947, 3.7740946529960313, 3.7719865017621084, 3.750092031953395, 3.725169607501154, 3.7039460675244005, 3.689861813901875, 3.683889594078885, 3.6839084001282214, 3.6867733914013616, 3.690217575819672, 3.680032046332273, 3.6761645377519847, 3.6751120648900666, 3.6767438297499884, 3.679245532440008, 3.6810341501026125, 3.681788308747831, 3.682214965298571, 3.6832950104213973, 3.6855453395802575, 3.688801992040417, 3.6925975764920733, 3.6966507576895062, 3.7010680659025126, 3.7062145422951733, 3.712299776130476, 3.7186427273243416, 3.72286760049146, 3.722085321232592, 3.717365509301153, 3.7120621701190917, 3.7080901946123195, 3.705955987936258, 3.7055398571120213, 3.7065258163257946, 3.7085130185896085, 3.7110362881910812, 3.7136751053537935, 3.7162011823595784, 3.71856523794945, 3.7209741282855164, 3.72433084006808, 3.7299941675943926, 3.738933952249298, 3.7511580249373466, 3.763201542295522, 3.763539466895377, 3.7471546712390875, 3.7335490034454866, 3.744816980713209, 3.769742683123116, 3.769246562764112, 3.74918050307764, 3.7237361970377245, 3.699570878865953, 3.682949703425125, 3.676742966742886, 3.678120856709905, 3.682707592055226, 3.6876105720667782, 3.679000678600159, 3.6747980159550657, 3.6736113717360364, 3.6752906567487105, 3.677817167132581, 3.679468389679512, 3.6799261246791004, 3.6800196344028486, 3.68092335700295, 3.6832951901541393, 3.6869325944894924, 3.691188535982627, 3.6956028604029134, 3.7001711902120893, 3.7051926164408857, 3.710828740114745, 3.716432538635914, 3.7200182745165313, 3.7194947957721904, 3.715668587073259, 3.7112140732768717, 3.7079149236602067, 3.706383075564729, 3.7066404210630903, 3.708467672437643, 3.711448552398065, 3.7149474810117527, 3.71831569499286, 3.7212660746462736, 3.723851139036611, 3.726299873875456, 3.729696841503044, 3.7354700528124916, 3.743700867986165, 3.7526961543541755, 3.758003266814304, 3.7520829023030644, 3.7363457259700126, 3.7254102354837824, 3.733979450085731, 3.7531170444304167, 3.7559739361819395, 3.742417730852682, 3.71949043417041, 3.693203031015543, 3.6742161515527623, 3.6682899551502985, 3.671524069245851, 3.6781631209768424, 3.6847325051476574, 3.679352122869869, 3.6751782156915294, 3.673826747784997, 3.6751234062141016, 3.6771192740631857, 3.678139700105252, 3.6779146727536447, 3.6774187155159144, 3.6780620498917758, 3.6806323463247157, 3.684789922423643, 3.689605438610383, 3.694393753118317, 3.699029206460614, 3.7037390219975515, 3.7086433845436377, 3.713209055263599, 3.7160159926278036, 3.715778015616707, 3.7130638181347737, 3.7097684869168064, 3.707401447451319, 3.7066595221096157, 3.707746325537924, 3.7105905311097964, 3.714778030068969, 3.719419195028885, 3.723457156996131, 3.7264907553010183, 3.728878637618482, 3.7310295129367574, 3.7342155315737853, 3.7398251124676998, 3.746838600533338, 3.751956419950242, 3.750870023574448, 3.740630669657541, 3.72640335481774, 3.717118414382853, 3.7208662503756647, 3.73321258406759, 3.7389033817375568, 3.7327559658893086, 3.713692683747234, 3.6858487736876717, 3.6648182313031388, 3.659496007157259, 3.6647036637842367, 3.6734595808876174, 3.6817570395121453, 3.680932478025414, 3.6770895541427833, 3.6755493829376715, 3.6761191679103287, 3.67715193513065, 3.6771936072039937, 3.676059728766213, 3.674852794566069, 3.6752048634233563, 3.6780057076607506, 3.682718978201342, 3.688088870884384, 3.693201597233857, 3.6978242031990076, 3.702131061612293, 3.70624054779563, 3.709800704785985, 3.7119318885701, 3.711935878753864, 3.7102253986257407, 3.7080810778139406, 3.706696891675971, 3.7067997026463417, 3.7087682733494858, 3.712707993616358, 3.7182349187890074, 3.724134124683524, 3.7286944288290984, 3.7312715920439032, 3.7328129014437446, 3.7343374707933132, 3.737302204121194, 3.742799223939772, 3.7488940033679543, 3.7514514213971566, 3.747388657599628, 3.736567936451178, 3.723145377622952, 3.711670395107145, 3.708384458723752, 3.714322426900149, 3.721439601683959, 3.7211638990095053, 3.706054111814837, 3.6779988556341396, 3.656132336204995, 3.651387859626781, 3.6582534334211325, 3.6689399077057265, 3.6788856495245725, 3.6832502795159647, 3.6798618449514287, 3.6781131854064117, 3.677811763998509, 3.6777123244199363, 3.6766894229756337, 3.6746766688026553, 3.6728517555731295, 3.6729781871968328, 3.675985812831655, 3.6811438600044264, 3.6869197362573742, 3.692221788142668, 3.6967400284584127, 3.700619118280108, 3.704007649179864, 3.7067445882949546, 3.7083662474404546, 3.708551776610805, 3.7076210677412242, 3.7064402405192807, 3.7059293122716355, 3.7067996210978373, 3.709566780926158, 3.714510331477717, 3.721312938667337, 3.7284401057573566, 3.7333245069434104, 3.734923489574118, 3.7350627629949074, 3.7357983846989167, 3.738744002525799, 3.744462294156767, 3.7504771305561313, 3.7524625635357998, 3.748593835177683, 3.740227855610128, 3.7272771876319832, 3.7103556151778574, 3.6981664289355205, 3.6978226427953422, 3.7047709116058525, 3.7073081154870526, 3.6947878613357874, 3.6687467600110195, 3.6481923916180565, 3.644286511229623, 3.6525367260935657, 3.6649071179633523, 3.6763301873408496, 3.6857431834252137, 3.682764271034507, 3.6807819728945037, 3.6796347729588756, 3.67848219578974, 3.676570222429715, 3.67397032438557, 3.6718484976734813, 3.671927581567488, 3.675072527588102, 3.6804280891131804, 3.6863320474783925, 3.6916122242865184, 3.6959164216452223, 3.6993709643819654, 3.702160099781248, 3.704277842712671, 3.7055405747841643, 3.705851796131288, 3.705475179598681, 3.7050144384955392, 3.7051803456911383, 3.7066386792212898, 3.709982498145664, 3.715618478223798, 3.7233057376624803, 3.731302611846526, 3.736262340781624, 3.7367175388583154, 3.7354689685493683, 3.7355688248544467, 3.738771846823891, 3.7452820597459593, 3.752524707897393, 3.7560727899572006, 3.7542813454422657, 3.7495565873717642, 3.736670863571588, 3.712853931226692, 3.6914243960944644, 3.685309439798072, 3.690865824470872, 3.6929909262981724, 3.6808382362885426, 3.657744237975622, 3.640172890643307, 3.6380289809515762, 3.6477933317488835, 3.6616607201856497, 3.6743180098885135, 3.6879836036547013, 3.6852703326071268, 3.6830103061730144, 3.681110809436581, 3.6791124968396356, 3.6766423287429113, 3.6739106086342126, 3.671958648690298, 3.6722521847387806, 3.67546506523367, 3.680722625996758, 3.686428230808766, 3.69144839426769, 3.695423818809722, 3.69846249523394, 3.7007687943325522, 3.7024383541700283, 3.703456300686636, 3.7038492545109087, 3.703841731414566, 3.7038711623468976, 3.7044923932387266, 3.7063024872229344, 3.70990033897164, 3.715729861479582, 3.723573652928332, 3.731628895732205, 3.7362999455301145, 3.7360059147648377, 3.7340310391280123, 3.733961076081178, 3.737733925162803, 3.745634351769104, 3.7555523961708026, 3.7631684092422004, 3.765244068472724, 3.7627215827988243, 3.747942205442845, 3.7181342573727107, 3.690073092271767, 3.679868512664719, 3.6832525404860874, 3.682621050721282, 3.6687368835758325, 3.647373613677816, 3.6329072985651587, 3.633112529515445, 3.6445044058822353, 3.6595834014067403, 3.6730991308274556, 3.6897422030497307, 3.6871135852106827, 3.684501534211572, 3.6819186747850927, 3.679276360443552, 3.6765917731670164, 3.6742004540571935, 3.672896944742157, 3.673692185634539, 3.676963104735825, 3.6819022906201035, 3.687145314225956, 3.6917080134029163, 3.6952616761912975, 3.697895694718565, 3.699813643778751, 3.701162834959393, 3.7020173308124456, 3.7024624118908855, 3.7026886701547337, 3.703021224101775, 3.703892698939159, 3.705811680815968, 3.7093156847182804, 3.7147895232781045, 3.7219666496552963, 3.7291242904839255, 3.733125245079088, 3.7327473590684397, 3.7309410047959766, 3.7312422514938195, 3.7357801427221107, 3.745236824024911, 3.75836461867997, 3.771553934195521, 3.7793500161647486, 3.775756653419853, 3.7566729137361405, 3.724735199091892, 3.6958759837317054, 3.684386217337598, 3.6849437188108527, 3.6800893907714154, 3.662806040414425, 3.641301686775065, 3.628858717265061, 3.6309672407557616, 3.6434799704375527, 3.6591266827481936, 3.672915746476343, 3.690960713270888, 3.6882387677616615, 3.6851706368523245, 3.681899570984194, 3.678719046970222, 3.6760681831829016, 3.674394620090663, 3.6741303646284194, 3.6756901753409155, 3.6790940089444613, 3.683642433641135, 3.6882939838218056, 3.6922915015985103, 3.6953758295754624, 3.697625907522379, 3.6992306721873236, 3.7003529879676376, 3.70110387484894, 3.7015872626299835, 3.7019588893011863, 3.7024588340164284, 3.703416028075004, 3.705237616340258, 3.708356544535979, 3.7130441922610347, 3.7189757561633523, 3.7246757135446833, 3.727844869906006, 3.7277621656934943, 3.726687753850799, 3.7276677226157315, 3.7328647972792557, 3.743299900621341, 3.7583644016198536, 3.774905009548018, 3.7856230559877715, 3.7796303413098085, 3.7589101037956367, 3.7307215928739836, 3.7071976926694448, 3.697594214944329, 3.6957257097204503, 3.68647157913223, 3.665222856403054, 3.642303893863213, 3.630399662726158, 3.633055306353625, 3.6454607143537796, 3.6606350164663155, 3.6739247609181676, 3.691698941836559, 3.688738354273384, 3.6851024346190604, 3.6810690015860983, 3.677336570606191, 3.674831646194249, 3.674119552534018, 3.6751641145227034, 3.6776946594492856, 3.681360073331124, 3.685576168918404, 3.6896430134945435, 3.6930652942080395, 3.6956854758070987, 3.697587904809278, 3.6989441030702626, 3.699912172841689, 3.7006095792766645, 3.7011348554540486, 3.7016051695619363, 3.702187395064587, 3.703116721293152, 3.704696393819886, 3.707244886711953, 3.7109239306302166, 3.715406187227215, 3.7195740210479418, 3.7219413194409348, 3.7221785842305657, 3.7219089666958216, 3.7235211968195907, 3.7289662135105255, 3.739280267370364, 3.7538700792737845, 3.769157338134119, 3.777183974239344, 3.770702896189973, 3.754174573406926, 3.7345041959361525, 3.719754198520148, 3.714383667102192, 3.7117046616366274, 3.69935713788242, 3.6751267457527725, 3.6507197737694095, 3.6381536334223252, 3.6397653219302657, 3.6505857718911034, 3.664130445868623, 3.6761175020640238, 3.6920871463339475, 3.688804907051409, 3.6845307799150384, 3.6796534628344557, 3.6752850999853224, 3.6729257318584136, 3.673289864392731, 3.6757785061737027, 3.679389613378606, 3.6834290077348366, 3.6874265379116826, 3.690997843787258, 3.6939052029151656, 3.696109056628841, 3.6977157201602386, 3.6988847236811417, 3.6997619609624603, 3.7004559936421857, 3.701046133652527, 3.701605908778635, 3.702231696001278, 3.7030701578467164, 3.704328018382115, 3.7062270772078607, 3.708861089904624, 3.71196494729753, 3.714784049414416, 3.716444016141428, 3.7168548742634946, 3.7171553206696304, 3.7191030278259207, 3.724261471164284, 3.7334034847663293, 3.7456197179032973, 3.757052662904593, 3.7612761094347005, 3.755890972875801, 3.7458314911678627, 3.7357115340487668, 3.729946198707312, 3.7293692875601083, 3.7272004721182186, 3.7137417225514726, 3.6887209024682033, 3.66398264884649, 3.6504585827535703, 3.650030497453622, 3.6581992151741045, 3.6692393297769184, 3.679298398232705, 3.6922878548002536, 3.6886916736257955, 3.683816953529487, 3.678118317607086, 3.673079172449342, 3.6708179247065447, 3.6722354197367872, 3.676117517414418, 3.6807579670413673, 3.6851905693276645, 3.6890578185636214, 3.6922400876380714, 3.6947228660194193, 3.696581431939067, 3.6979545172591735, 3.6989980847876316, 3.6998466513541155, 3.7005944174793597, 3.7012939195572696, 3.701968658299044, 3.702640414490994, 3.70336798183679, 3.704274075535828, 3.705516629825378, 3.7071741639028497, 3.7090850921014735, 3.710797583014035, 3.7118388503546154, 3.712237524033641, 3.7127781167073386, 3.714691757186667, 3.7191118764597877, 3.726479910847991, 3.735700295930334, 3.743388936983035, 3.7453786373348787, 3.741876508704307, 3.737299071569524, 3.734676646287788, 3.735737814229667, 3.7387955403383195, 3.737397021467526, 3.724567244115807, 3.70128061501745, 3.6780939923683236, 3.664362491931404, 3.6619006585827925, 3.6671338729844485, 3.6753242831795965, 3.683145413976446, 3.6924615773480847, 3.688663296436319, 3.683385390460241, 3.677107349018309, 3.671567885656134, 3.669393578923157, 3.671655619293738, 3.676607283305327, 3.682002561501029, 3.6867055106794555, 3.690455410151005, 3.693326460479714, 3.6954715388666157, 3.697060151535541, 3.6982649417468347, 3.699245781213716, 3.7001309474308353, 3.701000882708036, 3.701877433835735, 3.7027257022651425, 3.703481749058439, 3.7041102974313143, 3.704661927927517, 3.705268219173465, 3.706042743200697, 3.7069469734830642, 3.7077569608368592, 3.708239956972155, 3.7084613559084776, 3.7089427208508727, 3.7105083032896395, 3.713922913916495, 3.719389151977634, 3.7258983411117392, 3.7309618848523964, 3.7322324196806096, 3.730715285797851, 3.729850720275356, 3.731739641537087, 3.7365417116495374, 3.741322751796558, 3.740478279830392, 3.729456624982885, 3.7098278803959452, 3.6899387191446973, 3.6772338003998306, 3.6734992273022424, 3.6762148719824337, 3.6817252619115086, 3.6873184574480717, 3.692734335191621, 3.688931345933703, 3.68359607330717, 3.6772203989311945, 3.671629197902969, 3.669621612481325, 3.6723107381933247, 3.677720983561485, 3.683386934608401, 3.688106135782491, 3.691671337241573, 3.694264120036777, 3.696137376447598, 3.697523123655953, 3.6986218127741775, 3.6996023142797894, 3.700593702225421, 3.7016669641552333, 3.702811460642925, 3.7039228684128105, 3.7048322101887394, 3.7053940644038694, 3.705593780942352, 3.705574674342615, 3.7055328557930127, 3.7055642109922737, 3.705610088398904, 3.7055679578219562, 3.705488122306797, 3.705690315225828, 3.7067001375727484, 3.709019862906426, 3.712752105925041, 3.7171548606959903, 3.7206216594028425, 3.7219361877801322, 3.7220685613879017, 3.7234034666921647, 3.7273169064357337, 3.7332380197250665, 3.738157723593681, 3.7377196215250854, 3.7290980970455965, 3.713949369547667, 3.698307443789254, 3.6876743542770916, 3.683660412933522, 3.684641067269143, 3.6879627196688265, 3.6915572903542793, 3.6931732323904085, 3.689595264618142, 3.6846020116550027, 3.6787016582770273, 3.673625660514342, 3.671914468827806, 3.674537749800903, 3.67969552763342, 3.6850759469532495, 3.689502631599672, 3.6927695263931084, 3.6950812396507984, 3.696725219724955, 3.697961851239107, 3.699009553925761, 3.7000494482600903, 3.7012193315037187, 3.7025874933444576, 3.7041104676696, 3.705600743460293, 3.706756220814238, 3.7072935252364143, 3.707133009249822, 3.706469188137544, 3.705630233075361, 3.704859809294488, 3.704220745029045, 3.703669628275032, 3.703209398638278, 3.7029985258824434, 3.703350270768892, 3.704608334664082, 3.706890457233623, 3.7097790291937676, 3.7123416261863156, 3.713945762343552, 3.715242477494468, 3.717692815902733, 3.7220759361212603, 3.727622041978389, 3.7318715140817114, 3.7317478992269493, 3.725578706452563, 3.7147884823436463, 3.7034863549006767, 3.6954770498141922, 3.6920273903273646, 3.6920975147731356, 3.6938190736742493, 3.695727063356593, 3.6937797407757853, 3.6906227562145553, 3.6862946455755177, 3.6813049698675666, 3.6771409730827784, 3.675804166874655, 3.678018075569006, 3.6824006664882236, 3.687058598350044, 3.690932097678941, 3.693791213211163, 3.695805049766587, 3.697245843657597, 3.69837401355131, 3.699416583018218, 3.70056960956043, 3.701988068520917, 3.7037459901320555, 3.7057679671229518, 3.70776757013034, 3.7092742094069644, 3.709828457664819, 3.7092808236101855, 3.707920201213686, 3.7062610096644586, 3.7047122537458037, 3.7034293177752686, 3.702381949659655, 3.701505796948599, 3.7008251264064222, 3.700503138336936, 3.7008033920848695, 3.7019292002432804, 3.7037713992270165, 3.705845552406628, 3.7077529789954666, 3.709772632971692, 3.712656676890951, 3.7167546191525536, 3.7213699550293184, 3.7247460383392292, 3.724886106020524, 3.7208740973687555, 3.7138145762580073, 3.7064038243299566, 3.7011252168284647, 3.6988048510632434, 3.6986514553704204, 3.6992991987314117, 3.6998011656710457, 3.694503910180473, 3.6918834548266006, 3.6883847312500153, 3.68448036951515, 3.6813332690271077, 3.680361381122901, 3.6820504676637285, 3.6854550886699635, 3.689182402299092, 3.6923598109359563, 3.694745609160135, 3.6964515562793556, 3.697707980469095, 3.6987577312529365, 3.6998303311556553, 3.7011397153944188, 3.7028664722014937, 3.7050995235286486, 3.707733323976274, 3.7103663523564334, 3.7123214144300722, 3.712921715325075, 3.711943729791787, 3.709817764165038, 3.7072985607585984, 3.704976694927955, 3.703079160247446, 3.7015588822993273, 3.7002734755365463, 3.6991327538819934, 3.698191729656291, 3.697681025876394, 3.6979163894695284, 3.6990482447158066, 3.700864171098061, 3.703007029316337, 3.7054211512982427, 3.708363925270235, 3.711920820499674, 3.715567218618539, 3.718172655940787, 3.7185500721247817, 3.7162712362042467, 3.712170727256252, 3.7079965880720143, 3.70529043972128, 3.704419530783644, 3.704546173050567, 3.704510843222044, 3.7037926537798502, 3.695271618989939, 3.693212933907951, 3.690548555348743, 3.687677890676111, 3.6854408541738755, 3.6847711368920093, 3.685974415620503, 3.688449334468449, 3.691249187469005, 3.6937139997088697, 3.695618926281685, 3.697025099143787, 3.6981153444632704, 3.6991083963068476, 3.700233975949063, 3.7017267953832746, 3.703800196882844, 3.7065662834281383, 3.7098915189537576, 3.7132449145878934, 3.715709451512595, 3.716359928333339, 3.7149051080001283, 3.7119623020959316, 3.7085662812720788, 3.7054937951954514, 3.703024885184489, 3.7010775362105504, 3.6994298197546294, 3.697895525251628, 3.696450002390243, 3.695311205352993, 3.694896788222146, 3.6955512975576075, 3.6972158488620015, 3.699493750726754, 3.7020703799567216, 3.704886016435462, 3.7078875261187694, 3.7107294407434006, 3.7127585940483083, 3.7133489918778975, 3.712384121701381, 3.7105197108380743, 3.7089184919603655, 3.7085045742544986, 3.7092277131265172, 3.709973454096019, 3.70950421412852, 3.7076541996219183, 3.696011481983909, 3.694469545550798, 3.6925380605626392, 3.690527199686863, 3.6890072710671538, 3.6885637014760557, 3.68938153325985, 3.691095658745235, 3.693098177570872, 3.6949246998655165, 3.696389893279809, 3.6975231241760316, 3.6984671787500636, 3.6994179626610055, 3.700605498595738, 3.7022867400372603, 3.70471156710885, 3.7080205205813237, 3.712054162017795, 3.7161432828350267, 3.719112891021415, 3.719784684657964, 3.717826041598605, 3.714073907939746, 3.7098491164173617, 3.706097809412565, 3.703134539694687, 3.7008353498027677, 3.698907551641142, 3.6970905047241787, 3.6953022634085566, 3.6937500547958786, 3.6929139438024907, 3.693253790904519, 3.6947889663629883, 3.6970773066719502, 3.699639524394884, 3.702234190327748, 3.7047478941474665, 3.706982041089508, 3.7086132554103814, 3.709381157171627, 3.70936590661794, 3.7091233693814862, 3.709484951530817, 3.7110082386477163, 3.7133118348742307, 3.7148644800730524, 3.71410365347962, 3.7111769264405137, 3.6966717533998894, 3.6955627273289027, 3.694217376987005, 3.6928605761251245, 3.6918620729554297, 3.6915770460461426, 3.692114998819899, 3.693261204641477, 3.6946412886469724, 3.695947391985147, 3.697042292477576, 3.6979417696149266, 3.6987604641136067, 3.6996761191675214, 3.700919264295368, 3.702767235798045, 3.705504479057723, 3.709299770374869, 3.7139700331120684, 3.7187113666009695, 3.7221003207494143, 3.7227378370162363, 3.720294991297268, 3.7158338114790688, 3.71092088418989, 3.7066301025705175, 3.7032922976206613, 3.7007454635347123, 3.698644908445073, 3.6966815099064396, 3.694736245687346, 3.6929980537018574, 3.6919543429331036, 3.692095657399903, 3.6934723667553477, 3.695633990862913, 3.6980350092190464, 3.700350991507664, 3.702449988088557, 3.704236362861461, 3.7055958622875282, 3.706491515382045, 3.707121206114255, 3.707987375572709, 3.709742685943941, 3.712746346782026, 3.716398644721016, 3.7187534852479502, 3.7177951300104572, 3.7139475361791594, 3.6972253063045506, 3.6964543152965406, 3.695546987078819, 3.6946578475952654, 3.6940185530974348, 3.693839826270552, 3.694185707104762, 3.694932976971008, 3.695858529459963, 3.6967684395593254, 3.6975707849670485, 3.698279739195528, 3.6989923601551657, 3.6998726137726727, 3.701149844096375, 3.7031151479663174, 3.706078026052959, 3.7102277925335043, 3.7153604815992134, 3.7205609736170673, 3.7242079063508653, 3.7247521470010696, 3.7219147015030067, 3.716948773065466, 3.711582842161125, 3.7069575166868494, 3.703403579967886, 3.7007341175356587, 3.698578364718478, 3.696606672748335, 3.6946810048731455, 3.6929616810629406, 3.6918904691251653, 3.691915851716742, 3.693090896803717, 3.695004262195946, 3.6971288985722137, 3.699126259579155, 3.7008657871374218, 3.702313959375118, 3.703476134382805, 3.7044392357847133, 3.7054602338689513, 3.7070007768947555, 3.7096017556610605, 3.7135033794661165, 3.7179869488077606, 3.720868023600522, 3.7198233960162788, 3.715457575289378, 3.6976662327924483, 3.6971452579944017, 3.6965491402185946, 3.695979774930015, 3.6955786714390917, 3.695468964989169, 3.695687991494416, 3.6961666288968757, 3.696775729641663, 3.697398900288569, 3.6979809199623084, 3.6985398745342675, 3.6991620999898727, 3.6999999613814203, 3.7012771730855216, 3.7032871434771213, 3.706347486486818, 3.7106524892642465, 3.71598007075157, 3.7213497333611, 3.725039591922375, 3.7254544390745403, 3.7223913331845493, 3.717214532111035, 3.7117011480650106, 3.7069904376203255, 3.7034012900222817, 3.700741171850666, 3.6986417970252052, 3.696778958836554, 3.6950098553903183, 3.6934578301985366, 3.692483304568754, 3.692448595878585, 3.6933953559717865, 3.69498407395451, 3.6967620661377603, 3.698420698289918, 3.6998406088080125, 3.7010196307436614, 3.702021255138346, 3.7029887371822277, 3.7041928515989047, 3.7060440743354586, 3.708981612632411, 3.713138853588456, 3.71774096856379, 3.7206505960674416, 3.7196664151827687, 3.715396969187235, 3.698002913447406, 3.69765914823019, 3.697275782672075, 3.696917910491897, 3.6966703674550585, 3.696604394680904, 3.6967418745934992, 3.697045018481255, 3.697441294902112, 3.6978644582510696, 3.698286031692243, 3.6987289760656825, 3.6992720594989255, 3.700055764605069, 3.701291520044309, 3.703260531769048, 3.706267064785201, 3.710489887914865, 3.715691528447191, 3.720887306470657, 3.7243854145887196, 3.7246681301345355, 3.721608048273663, 3.7165622820768904, 3.7112326007398453, 3.706694855206357, 3.7032504901334, 3.7007226623408638, 3.6987718536802587, 3.697099983088519, 3.6955693671689147, 3.694263201334738, 3.6934480671577616, 3.6933878651804446, 3.6941087770018983, 3.6953528748028703, 3.6967650958552203, 3.698089635246084, 3.6992238834718054, 3.700177820975502, 3.7010343408182607, 3.701949402467967, 3.7031745673317813, 3.705052076492437, 3.707910298259829, 3.711773173402323, 3.7158705537720045, 3.7183748702236508, 3.7175641066023175, 3.713915603961645];\n",
       "const lower_is_better = false;\n",
       "const metric = \"log_eval\";\n",
       "const rel = false;\n",
       "const sd = [0.04997451371501719, 0.04997425341397166, 0.049974192584330536, 0.04997427097682076, 0.04997423232606858, 0.04997355968207944, 0.04997126452018915, 0.04996524850405835, 0.04995065578211098, 0.04991629726913368, 0.049839445773630295, 0.049685775717808967, 0.04943234782057808, 0.04912336033226828, 0.04890219915191888, 0.048913388450578174, 0.04914007828327323, 0.04942213386749273, 0.04962928379334948, 0.049738423476380696, 0.049774765367035845, 0.049727573701319555, 0.04948992089823643, 0.04881053191484648, 0.0473110908465647, 0.04483029209715081, 0.04231684646943069, 0.04190091052825278, 0.04403409679779761, 0.046700693954431695, 0.04850822691641689, 0.04940992131817327, 0.04978099784556068, 0.04991443448106601, 0.049957837981148834, 0.04997090100395169, 0.049974585767878804, 0.04997554714321989, 0.04997571585372024, 0.04997551954308991, 0.04997475869931338, 0.04997260495223599, 0.049967201634875856, 0.04995528789771728, 0.04993286162878915, 0.04989835924903394, 0.04985794180848257, 0.04982723309347578, 0.049822517768191917, 0.0498465807466332, 0.04997216212223283, 0.04997146933672267, 0.04997135646011836, 0.04997172034017104, 0.04997199622888137, 0.04997111847568267, 0.04996724341346177, 0.049956726123772124, 0.04993130751066609, 0.04987133624495661, 0.04973372669976646, 0.049445119351150126, 0.04893977333709639, 0.048285470010539434, 0.04779557804727307, 0.04782217400813216, 0.04832391283249065, 0.04891451537201114, 0.04931636605990033, 0.049515437128050135, 0.04959841654298367, 0.04958086744250631, 0.04932415557470878, 0.04848206435781282, 0.046492789000287284, 0.042978192069193615, 0.0391485364595606, 0.038486198795291665, 0.04179747744582886, 0.04565862544744279, 0.048111332731350175, 0.04927743109548377, 0.04974079926613805, 0.049903068180870896, 0.04995475717406164, 0.04997003844239117, 0.04997426574967198, 0.049975328862170314, 0.049975475930131116, 0.0499751570498809, 0.04997398348775657, 0.04997054546115868, 0.04996158005406792, 0.04994103548920154, 0.04990085042599167, 0.049836716650672484, 0.04975915548612523, 0.04969886474841595, 0.04968951616757855, 0.04973697520548034, 0.04996632372747667, 0.04996449009182704, 0.0499642794903358, 0.04996552861347379, 0.049966953092933364, 0.04996631651631581, 0.04996021318904748, 0.04994255630149254, 0.049900229533714646, 0.04980167812203766, 0.04957276300874637, 0.04907157130545675, 0.048136281574260614, 0.04683639113382583, 0.045804704966641595, 0.045864500617234905, 0.04691783789452338, 0.04807313050702398, 0.04878671639308313, 0.04910981244106536, 0.049268836253434485, 0.049335481674972495, 0.04913812925901405, 0.04825484179898488, 0.04600536718635863, 0.041849651191598225, 0.037103518513376496, 0.03625765503876207, 0.04041614559473797, 0.045052390188227306, 0.04788994081417964, 0.04920548765449131, 0.04971927720755223, 0.04989695625011207, 0.049952996278693935, 0.04996939211888277, 0.04997383210984013, 0.04997487275388477, 0.04997494261560336, 0.04997447125641967, 0.049972800687876594, 0.04996769789238788, 0.04995383661558871, 0.04992084094096815, 0.04985383684272211, 0.049742932837086445, 0.049604384296858595, 0.04949408932643406, 0.04947680911535818, 0.04956405028372904, 0.04995216179387848, 0.049947359109484266, 0.04994695711588539, 0.04995072931896736, 0.049955650802970646, 0.049956919474423406, 0.04994828688127626, 0.04991996836219601, 0.04985254310771215, 0.04970024530947251, 0.049349389068053924, 0.0485564680973145, 0.046979607363163346, 0.04460187412218348, 0.04256527384312805, 0.04269097024613736, 0.04475701937487549, 0.0468259045718518, 0.04795630746857987, 0.048406385785934994, 0.04867448603015341, 0.04891887559994377, 0.04891029055801392, 0.04817675322110863, 0.0460572600296316, 0.04207196223159559, 0.03754075827322135, 0.036739563709676744, 0.040709034758869764, 0.045177606375849624, 0.0479341292085567, 0.04921895808522095, 0.049722740058746995, 0.04989753114360479, 0.04995276661543688, 0.0499688335429728, 0.04997300154349885, 0.04997378855998228, 0.04997367168268344, 0.04997304237826537, 0.04997090309253614, 0.049963958555253415, 0.0499441729855418, 0.049895253549601656, 0.049792330701634795, 0.049615974191409416, 0.04938857992568166, 0.04920318788826255, 0.0491738341082329, 0.04932119895341401, 0.04991873419635496, 0.049906343827368846, 0.049905544967795985, 0.04991610647426845, 0.04993066668004592, 0.04993866100973129, 0.049928716377271476, 0.04988577552195003, 0.04978305565649538, 0.049561375761991655, 0.049068924741687545, 0.04794449220817727, 0.04558171550319556, 0.04169709991385472, 0.038035462387042994, 0.038275830172857274, 0.041949799487162195, 0.04523168690659479, 0.0467646253491922, 0.047261377625766925, 0.047669147113377025, 0.04823851431394524, 0.048597519393311396, 0.04822163681410049, 0.04659826233862098, 0.04350020148311271, 0.0401333903333331, 0.039561814536014844, 0.0424843875874578, 0.04596673389352223, 0.0482229071497201, 0.04931147434669887, 0.049749165385669133, 0.04990403410334113, 0.04995361234636601, 0.04996784932414362, 0.04997104438388976, 0.049971103738374, 0.04997055097494951, 0.04996981511178429, 0.049967515661550305, 0.04995908421539441, 0.04993333318949773, 0.049867015106057684, 0.04972287508987036, 0.04946817028287913, 0.04913022290154595, 0.04884852385911435, 0.04880347507324812, 0.04902844120641498, 0.04984233233158516, 0.04981098888129833, 0.04980932044392065, 0.04983733849559878, 0.04987667640078647, 0.04990360674154496, 0.04989771529351725, 0.04983729633274223, 0.04968820070584041, 0.04938322851104888, 0.04875135695317271, 0.04734394513952584, 0.044289816249633934, 0.03888553884609949, 0.03325799379144282, 0.03364693070761601, 0.03920222551690612, 0.04357644968529081, 0.045230469283272734, 0.045559929165651686, 0.04612994523366293, 0.04722944628348236, 0.04816437774481093, 0.048310302465696994, 0.04736459525565236, 0.045378511141220074, 0.04331368719240807, 0.042979776729992085, 0.04476581407039964, 0.04705047271640297, 0.04863846009021232, 0.049448353253865936, 0.04978865099274245, 0.049913483857534774, 0.04995424565847085, 0.04996522470626694, 0.049966242704343695, 0.04996447875222245, 0.049962867065275134, 0.04996219369738443, 0.04996067333506627, 0.04995219721967589, 0.04992229110508284, 0.04984097515579418, 0.04965879704490997, 0.049328746128926425, 0.04888072900668942, 0.048500505918333894, 0.04843920446350114, 0.048744038957409266, 0.04967427093655539, 0.04959687399651984, 0.04959322912793078, 0.04966435030916234, 0.04976380267749172, 0.04983769037678464, 0.04985032147675393, 0.049774018949566845, 0.049569852815623414, 0.04917251257937038, 0.04842819254829451, 0.046889681145127135, 0.04358161503064193, 0.03754659334008883, 0.03093812117277945, 0.03139444557723474, 0.03778660070238631, 0.04234159220633555, 0.043536770915186665, 0.04336972218432485, 0.044109363460196435, 0.04595495290588543, 0.04763791466129426, 0.04837634269784057, 0.04808782114383024, 0.04704033545402218, 0.04594287614796987, 0.04577113075987483, 0.04673549502043893, 0.048054363824084435, 0.04904369271906195, 0.04958495262148553, 0.049827362264623254, 0.0499213546658262, 0.049952407655047465, 0.04995844469802, 0.049954740887686436, 0.04994846615153585, 0.0499441956466019, 0.049944002819957055, 0.04994562418349279, 0.049940676661394436, 0.049911277825640636, 0.04982247329650478, 0.04961666600446756, 0.04923697025168128, 0.04871415394936606, 0.048265547011537374, 0.04819287223729982, 0.04855344526109579, 0.04932120063001568, 0.04913547343100033, 0.04912728227492744, 0.04930072612008892, 0.04953826873886681, 0.04971791891463899, 0.049780365604049547, 0.04969944176301974, 0.049440118561606836, 0.04895198826288532, 0.04814013228430173, 0.04667315368565708, 0.043723963774696166, 0.03851013475678117, 0.033035774564163095, 0.033377739809556765, 0.03852234363208251, 0.04195869792994406, 0.04211260699496124, 0.04117895795749568, 0.04205807060566704, 0.04471653731954082, 0.0471490035948959, 0.0484155310374385, 0.048634047501930476, 0.04821953227851994, 0.047704164069947395, 0.047617298246958574, 0.048087708842587826, 0.04877894590815785, 0.0493440927480911, 0.049683759053446234, 0.04985157513083504, 0.049922292967246186, 0.049944566251223885, 0.04994255957777457, 0.04992822909046419, 0.049910834565336265, 0.0498998488054065, 0.04990111362696691, 0.04991153086601448, 0.049918047291053175, 0.049898115984530964, 0.04981443500178006, 0.04960872280275277, 0.04922381816951282, 0.04869142813898624, 0.04823366531599229, 0.048159493441324926, 0.04852773170422469, 0.048619798410593, 0.04818858738541217, 0.04817003000510444, 0.04857674412591297, 0.049113835769602744, 0.04951146783464766, 0.0496809452481316, 0.049621646691632264, 0.04932323137540298, 0.04876542866047962, 0.04794015928978157, 0.04670799932837009, 0.04454873506804918, 0.0410273574896363, 0.037648975079482956, 0.03782779261486321, 0.04082745023651118, 0.04253402152202313, 0.04155559326567077, 0.03993980344454841, 0.040853608149881024, 0.04401548183700036, 0.04689750092281603, 0.04847803320815486, 0.048998296194577254, 0.048938171525381075, 0.04871860989220581, 0.04865474416977733, 0.04884728940871571, 0.04918003592751985, 0.04949548272405639, 0.04971902696466407, 0.049849181021306, 0.049910351990756927, 0.0499253182156716, 0.04990823365137436, 0.04986963476437469, 0.04982530247435531, 0.04979761066515778, 0.049802608847720926, 0.049835124495991874, 0.04987037341097099, 0.04987610818388268, 0.04981461737556305, 0.04963573547559248, 0.049293413016200965, 0.04882131424719492, 0.04841806027107216, 0.04835304422573328, 0.04867726929982969, 0.04732004887405201, 0.046355658488992736, 0.046313965736001314, 0.04723006608648672, 0.048375601400118304, 0.049181787931205596, 0.04954649193422605, 0.04955117884491465, 0.04924924605417322, 0.04866830251632491, 0.04788897321694458, 0.04696109485760389, 0.04565809255820751, 0.04375690768804445, 0.04208001152662232, 0.042160765006532416, 0.04349327316179082, 0.04382010627214583, 0.04222221493771892, 0.04042379799434747, 0.041213327840407446, 0.044225813963880624, 0.047024474910398295, 0.04861620785258292, 0.049233322657560204, 0.04932069409290903, 0.049209983769135594, 0.0491137959319336, 0.0491351637611025, 0.049276279698787416, 0.04947850957769543, 0.04967140672178075, 0.049808987027980464, 0.04987891551027667, 0.04988663763075455, 0.049838926344765395, 0.049746015374090305, 0.049638426939167556, 0.04957029726180504, 0.04958430699738164, 0.04966960211029029, 0.049770782650381554, 0.04983192864624458, 0.049814701815308206, 0.04968581290565842, 0.04942012964887668, 0.049054190286325836, 0.048745313979639535, 0.0486960209942036, 0.04894430371564209, 0.04511981279497952, 0.043053055305882076, 0.04296105390144861, 0.04493752219937913, 0.04722019916056596, 0.048708777685119095, 0.04937772580445144, 0.04949657525651747, 0.04923907819506268, 0.04869933644433538, 0.04802490084439171, 0.04738715386468877, 0.04674564709330572, 0.04594691512860203, 0.045288694044278696, 0.045334882636438985, 0.04575257307635164, 0.04539955368970239, 0.04383676146444063, 0.04236021390681072, 0.0429242406691087, 0.04524388931294304, 0.04749696756716071, 0.04883715591035433, 0.049390600384843934, 0.04948613407502005, 0.04936087215989996, 0.04917083054834532, 0.049046194575773805, 0.049081695945800925, 0.049274054866404404, 0.04952231458591385, 0.04972051152221966, 0.049821179761058175, 0.04981759728960713, 0.049708010239214825, 0.049498994368812436, 0.049248985092956554, 0.04908633073662131, 0.049121362096710794, 0.049327928458645365, 0.049572773036160624, 0.04974428314113012, 0.049801835083398145, 0.049740186968242596, 0.04956408440456114, 0.049315035147310275, 0.04910686361237415, 0.049074201501273236, 0.049242210047823115, 0.04184236489893943, 0.037639341435834306, 0.03744067941110193, 0.041494414894262074, 0.04566141865930502, 0.04812441105926169, 0.049188458348528266, 0.049459882067810226, 0.049289768563196126, 0.04885099007154558, 0.048325574792184064, 0.04792191682017101, 0.04767984429267186, 0.047470080561101975, 0.04731397707495427, 0.04735612561208935, 0.047391824339659515, 0.04689004213139034, 0.04572186906212854, 0.04474082596488889, 0.04508699063859308, 0.04659148705685382, 0.04813552060237977, 0.04909959683203493, 0.04949857300257031, 0.04951654691706593, 0.04928824538543648, 0.04892970417905114, 0.04862686467883444, 0.04859064241178396, 0.048860872848036696, 0.04925740839290994, 0.049577365261362125, 0.049732233686683384, 0.04970575989016231, 0.049478556082013715, 0.04903702096204056, 0.04848279741855108, 0.048108015826466156, 0.04819052113432148, 0.04866436110223107, 0.04920616723000012, 0.049585073635078386, 0.04976197829289314, 0.04978143875188605, 0.04969121634249475, 0.04954363142805433, 0.0494191193222646, 0.049400192353574006, 0.04950257852265395, 0.03788048542131902, 0.029999305227684996, 0.029582919041243726, 0.03728322496960638, 0.043987071712054376, 0.04754363620391417, 0.04900738442231595, 0.04943335300675716, 0.049370722884899514, 0.04906636836626704, 0.04870606640632195, 0.048474279774400914, 0.04842628658012657, 0.048460317157978466, 0.048501819020897806, 0.04854542383497067, 0.04847472645230172, 0.04806835188919464, 0.047334541822684414, 0.04677019197266066, 0.04696066268933035, 0.04781969239571991, 0.048747368233994094, 0.049347741482278655, 0.04956862038742817, 0.04946532380748345, 0.04907050227538467, 0.04846405202708812, 0.04791830053339611, 0.04781508324131139, 0.04824411919587058, 0.04888378929514237, 0.049385294493351065, 0.04961294654169377, 0.049541601721139514, 0.04911127618962784, 0.048242352771947654, 0.04707994789905702, 0.04625100472174825, 0.04643686438026608, 0.047470831006011224, 0.048585961485629464, 0.04932637665266009, 0.0496842565857552, 0.04979897849092704, 0.04978383322333184, 0.049712416195846695, 0.049647036383959425, 0.049637864169176794, 0.04969519629589972, 0.03477170693918233, 0.02246275769542005, 0.021693368297016985, 0.033929380624016424, 0.04280615945586483, 0.04714211767911456, 0.048863661667505234, 0.04939398489631048, 0.04942963338133584, 0.049263569382654936, 0.049060286257436136, 0.04895221116329275, 0.04898226736433424, 0.049081981880223106, 0.04917203900508998, 0.049212544021119214, 0.04914244175158686, 0.04888186868490771, 0.04847413606961827, 0.04818100714647336, 0.048277810680520956, 0.04872343604682652, 0.04922279501755606, 0.049544582707811126, 0.04960896629364956, 0.04937598901825805, 0.048785673698553786, 0.04787983298204454, 0.04703582292566115, 0.046860793226263235, 0.04750744862129879, 0.04845500820856618, 0.04917108108371461, 0.04947377585168401, 0.04932592493529887, 0.048586826787491974, 0.047017407281214646, 0.04474193677741103, 0.04299459995688497, 0.04339602774321049, 0.04552973877775857, 0.04765111134565701, 0.04895635760510918, 0.04956557997027401, 0.04979001894572025, 0.04983936959826951, 0.04982100083598649, 0.049793412727395917, 0.04979068206081662, 0.0498208952375634, 0.034625459401796205, 0.02204809180293435, 0.021245567060085648, 0.0337500957950777, 0.04271083051800192, 0.04704912783841974, 0.04875203066463991, 0.04928944234423869, 0.04939360057277403, 0.04935826393651575, 0.049301997081292306, 0.0492949126262672, 0.049359603583475985, 0.049458921917939415, 0.04954117202767275, 0.04957413746682961, 0.04952946336645422, 0.04938469351170676, 0.04917823271912538, 0.04903771612780701, 0.04908442567386965, 0.049298642196105594, 0.0495414788657785, 0.04968165097566694, 0.049632423630567614, 0.04929320560481452, 0.048532121666868884, 0.04735406209930444, 0.04622924443097347, 0.04598827288297294, 0.04684736176189291, 0.048080676626538844, 0.04898251719892536, 0.049334110854670196, 0.04907590041753849, 0.0479396108447577, 0.0453940278644544, 0.0413335897542595, 0.03787462198398218, 0.03870050331962569, 0.042792876962807716, 0.046443260565385024, 0.04849995738820381, 0.04941304963200906, 0.0497569214922835, 0.04986332588767454, 0.049882077224127984, 0.04987789311211211, 0.04987955839025968, 0.04989516617851469, 0.037560964636174116, 0.029304088034688234, 0.028842372238008635, 0.03687136372394219, 0.04370765255874518, 0.04722233151733346, 0.048590776332060215, 0.049010417469999346, 0.04915102869875443, 0.04925982626169097, 0.049371274861484155, 0.049478270072369726, 0.04958179047723241, 0.049673730253964474, 0.04973774637979013, 0.049761884315161174, 0.04973790768538163, 0.04966463819295721, 0.04956783572791873, 0.04950607279654076, 0.04952934822785545, 0.049626808513295415, 0.049732708415110516, 0.04976986885140288, 0.04965461530389256, 0.04925814657191055, 0.048410998417952614, 0.047095502433957284, 0.04582564406410718, 0.04554965965872815, 0.046517283007417774, 0.04789008274889776, 0.04887005521578881, 0.04921267804986143, 0.048819444412936626, 0.04727370925107829, 0.043667752060124486, 0.03733817493972175, 0.031164741180218773, 0.03273297749140308, 0.039716608495590736, 0.0451840131545247, 0.04802273284156781, 0.04923829474524268, 0.04970181310690616, 0.04986212073579044, 0.049910021516950835, 0.049921600285872704, 0.04992687602473791, 0.04993554084889857, 0.04152489650768808, 0.03707157442622091, 0.03682240082693205, 0.041016390506972054, 0.04518380979245068, 0.04743170480612362, 0.04819314011260934, 0.048347627565479945, 0.04850982040146573, 0.04884192855587932, 0.049213289237959354, 0.04949770452402495, 0.04967683279912108, 0.049780273561252156, 0.04983312745396721, 0.0498485164395531, 0.04983366558831481, 0.04979684310295296, 0.04975507342309617, 0.04973375516305644, 0.04975033535090231, 0.049796169387690145, 0.04983758022069601, 0.04982587522060675, 0.04968715838519372, 0.049293274636007155, 0.04847791619594605, 0.047225107420266615, 0.04602318316771351, 0.04576035398124603, 0.04666692790869019, 0.047953770501545714, 0.04885499356796403, 0.04910968288010317, 0.04856793759529614, 0.046705333445162964, 0.04235489087420704, 0.034287623241519655, 0.025438100458858973, 0.027865340278675422, 0.037447790221423874, 0.044210200166626544, 0.047583527361387, 0.04903818594345433, 0.049619131926406386, 0.049838208102207515, 0.04991522963266935, 0.04994039578089655, 0.049949624168497006, 0.04995577622714076, 0.04487730810247217, 0.042661467596665524, 0.04249919439157701, 0.044428878613707784, 0.046461573175402664, 0.04736637547949544, 0.04725986625928907, 0.046935549991553346, 0.04713902791042451, 0.04790810586552069, 0.048757348263249164, 0.04935122023520851, 0.049669681916437836, 0.04981283114025626, 0.04986394936044919, 0.04986776604819713, 0.049848278216550676, 0.04982342659567023, 0.049808738489034124, 0.04981388486868838, 0.04983833513345652, 0.04987038835952006, 0.049889254371452856, 0.049862864882147716, 0.04973257008381442, 0.04939197661559718, 0.04870915581221098, 0.0476861145010589, 0.046725095080632766, 0.046512915924614075, 0.04721888321813327, 0.048228112075561116, 0.04890723577553008, 0.04898953923775326, 0.04827399654080581, 0.046217074854810844, 0.04172462987265784, 0.03374725387183184, 0.025282206068352516, 0.027715456897958308, 0.03698040432760911, 0.043644148392242434, 0.04713221904855615, 0.04876700332674623, 0.0494887768925203, 0.04978791084670188, 0.049902744515260326, 0.04994377220504851, 0.04995837805611133, 0.04996473402462445, 0.04714603347063111, 0.04608343578398263, 0.04593777448452897, 0.046633676093736406, 0.04718275450658257, 0.046761321478570136, 0.04540006920016857, 0.04419990004385424, 0.044520189240354606, 0.04618961738116436, 0.04792552819224823, 0.04903981136321971, 0.04958125072742959, 0.04979195101990845, 0.04984409195903532, 0.04982392059582164, 0.04977833053840083, 0.04974391479851221, 0.04974519800506065, 0.04978266028155708, 0.04983659612453877, 0.049884050394366705, 0.04990755902896087, 0.04988761453474067, 0.04978476251164815, 0.04952459582335925, 0.04902081902655294, 0.04829221604887215, 0.04762704249981031, 0.04747412096115716, 0.0479318325999854, 0.04858207415055792, 0.048952027401995515, 0.04877598061243522, 0.04780611982307267, 0.045540273193565545, 0.041240963003087064, 0.034796978187987465, 0.029329157220965102, 0.03112001695901182, 0.037599563167531005, 0.04303217826619768, 0.046426707057601574, 0.048322567303037814, 0.049275934029009046, 0.04970230708142139, 0.04987301100586834, 0.04993591227465099, 0.04995849426309504, 0.04996721717207358, 0.048473472122119415, 0.04795825541453291, 0.04779236475810429, 0.047808607675684116, 0.047314413151215595, 0.045503744965473894, 0.04223875772983346, 0.03937213181050418, 0.039982652699546616, 0.04344544620739687, 0.046697121793325934, 0.04858976107224009, 0.04943469715987988, 0.049728975142910165, 0.049769435955963184, 0.049692034610514565, 0.049576872920109503, 0.04950136062714789, 0.049519437108877865, 0.049620878765956285, 0.04974726989836913, 0.049847148418364524, 0.04990037895965552, 0.0499015390253368, 0.049833857983006116, 0.04965609484733649, 0.04932229839698492, 0.04885757873586235, 0.048443804693833574, 0.048335210262868446, 0.04857060681486001, 0.048875827716096484, 0.04889856239158474, 0.04836409115985986, 0.04697242722150684, 0.044229455655007875, 0.03973357226353, 0.03455127366634821, 0.03187047268603504, 0.033383621499017004, 0.03717899539351958, 0.04141008808614072, 0.0450766686534453, 0.04757600511597481, 0.04894413620022128, 0.04957113143235584, 0.04982296045403699, 0.04991664247306116, 0.04995132732876402, 0.04996504104971699, 0.04914351041266615, 0.048862359409859155, 0.04866248034429432, 0.04829270503242018, 0.047035188650855535, 0.043769205641060946, 0.037767967909734385, 0.031755607624200224, 0.03302449869088666, 0.03977685771334608, 0.04523233549825384, 0.04808454894672697, 0.04926315410844315, 0.049629435549281536, 0.04961885911166823, 0.04941133465990705, 0.049133645075929426, 0.0489535956715578, 0.04900245722766982, 0.04924705392437474, 0.04953522695135132, 0.04975051413193947, 0.04986700859392824, 0.04990308047330902, 0.04987116844544902, 0.04976093805638743, 0.04955539355153231, 0.04927750792018108, 0.04903054057788015, 0.04894131932373828, 0.04900472143609801, 0.049016248959688515, 0.04866814873581484, 0.047643780830170526, 0.045587073073620574, 0.04192782642781493, 0.03622672728780102, 0.030785343473929236, 0.030201706266859918, 0.03198197054467753, 0.033807952855695426, 0.037784441356793916, 0.04275851089215372, 0.046458750405469644, 0.04848085518384395, 0.04938704571786286, 0.04974535009921034, 0.049880825799442564, 0.049934434268292964, 0.04995759411007488, 0.049379113961739156, 0.04917019517173271, 0.048941704048653646, 0.04837838413336032, 0.04663438791164943, 0.04214864669511371, 0.03311924910498572, 0.02187169429948, 0.024522737244014457, 0.03618528870921704, 0.043969569898689956, 0.04767175035476002, 0.049109653191728664, 0.049495158955387905, 0.04935602451507728, 0.04887815495765806, 0.04824664178784745, 0.047825802249119594, 0.04794188688411243, 0.04850374420384831, 0.04913102794339054, 0.04957184190243646, 0.04980205155286832, 0.04988984478189249, 0.04989136700962753, 0.049826821817316805, 0.04969825622785917, 0.04952333414023257, 0.04935773480532855, 0.04925971195258062, 0.04919410232793383, 0.048961273814849604, 0.048211630639678066, 0.04653007611869807, 0.043534071540759195, 0.038645179918463654, 0.03085578527120778, 0.02310658374160546, 0.024631947501783727, 0.026941805861854035, 0.026613567114638678, 0.03180826821619281, 0.03958119443618301, 0.045076493227627766, 0.04791771215776642, 0.04914270485583562, 0.049623191433711446, 0.04981489054053932, 0.04990028949629268, 0.04994169684922889, 0.04929132645525013, 0.04905378490760112, 0.0488163338346379, 0.04823936242019499, 0.0463860790561399, 0.041470961256816166, 0.031066293334485056, 0.01597598748743336, 0.019969451230807365, 0.034681457831476754, 0.04348258392251415, 0.0475070543087763, 0.04901397890544958, 0.04932671620879104, 0.04893974240862607, 0.047954674396175394, 0.04660342215552452, 0.045655365331079924, 0.04591979809320361, 0.047156294035769895, 0.04844557330674023, 0.04928669571273253, 0.04970049009287802, 0.04986016219193714, 0.04989170712786013, 0.049849402928389595, 0.049747277191857266, 0.04959665910140755, 0.04943161321872293, 0.049289435677468484, 0.04912305034586195, 0.04869206365884843, 0.04752040490566989, 0.045010041861815835, 0.04080223096989491, 0.03478531759971796, 0.025664177007688985, 0.01510579722897751, 0.01902963499022276, 0.020986252315213057, 0.016796159020760048, 0.024959697668255083, 0.03643769240583833, 0.04373646126112525, 0.04730809425625791, 0.048809527325696496, 0.049415386166259914, 0.0496892954871839, 0.04983340155369442, 0.04991090075678144, 0.048889446253860866, 0.048522898095577444, 0.04830162214006363, 0.04790980999809868, 0.04639305920794173, 0.04213209109094834, 0.03340972051963827, 0.02270711841285372, 0.02521128203611287, 0.03642650909984218, 0.04403228091266247, 0.04765422790651384, 0.048993982642650626, 0.04912961793606812, 0.0483527122719049, 0.04652541155597933, 0.0438270934340986, 0.04177576561677285, 0.04236035644640904, 0.044953364140955326, 0.0474180973091871, 0.048889671974074324, 0.049564503576706234, 0.04981417271539258, 0.049869614002296316, 0.049824045469906236, 0.049695886940053335, 0.04948520215751354, 0.049223716718729806, 0.048978183605347655, 0.04872884912144022, 0.04817027305759177, 0.046625491519672685, 0.04321382747852704, 0.037562928381818385, 0.03075865932818873, 0.023284741762585708, 0.01623902364059024, 0.019427981365014273, 0.019253239572782795, 0.012101814007236146, 0.02155065447245827, 0.03462576796292176, 0.04272087203864841, 0.04663529343887145, 0.04829208813455027, 0.04903127719913133, 0.04944690881240317, 0.0497065829022854, 0.049854801577122194, 0.04812138855349867, 0.047483169166592044, 0.04729854696958726, 0.04731156104584069, 0.046530425934475594, 0.04367161307522723, 0.038069167380080995, 0.03245088905799461, 0.033648725456108294, 0.040051347916915434, 0.045299084448616384, 0.048035208496092094, 0.04903828815318606, 0.048924809453518917, 0.04764960986327846, 0.044638684216801325, 0.039710764406725114, 0.035472496065664466, 0.03673049625904972, 0.04183862998631478, 0.046113568570813696, 0.04842354818384322, 0.04941007347782116, 0.0497539809555424, 0.049819549187928816, 0.04973831378434876, 0.04951948408923697, 0.04913440246939558, 0.048621898499570645, 0.04815409377275976, 0.047832609848913216, 0.047280070549959696, 0.045549535355721725, 0.041432597768880176, 0.03436022581698853, 0.026704930939973597, 0.02249082882928311, 0.021041476906575898, 0.022321666607086166, 0.02091601642581151, 0.016445878943726837, 0.022892956854383886, 0.0341996599307634, 0.041888056357178585, 0.045694098124540734, 0.04736733768946363, 0.04829742543488696, 0.04899121700145732, 0.04947922631528953, 0.04975967494384249, 0.04695277409711795, 0.04584116310130411, 0.04570258728797997, 0.04635242409158407, 0.0465780192697166, 0.0452811738150669, 0.04236396905058191, 0.039710996925604376, 0.0402852723467749, 0.04356765311459663, 0.04669015030451193, 0.04848757037812459, 0.04911770782723726, 0.0487550857483901, 0.04699487369706057, 0.04270717883358341, 0.034835149378159805, 0.026701116668588928, 0.02930696008184921, 0.03838267204375848, 0.04483122762280018, 0.047996124423421424, 0.04926768700466203, 0.04968170420127414, 0.04972896343459383, 0.04956539551272223, 0.049167773939361996, 0.04843741073044268, 0.047402712414766415, 0.046466917798002896, 0.046073263830315715, 0.045763680464642055, 0.04418461557179732, 0.039892662367889624, 0.03201735832328211, 0.02286924944023672, 0.01981237035128786, 0.021126281639810444, 0.021102816090260563, 0.019511096091034037, 0.017314896962040076, 0.023354209749884402, 0.033502663889325, 0.04062416559307579, 0.044048405326760534, 0.04563134546235356, 0.046932094353182664, 0.04818732035069714, 0.04910403296396084, 0.049612528864986474, 0.04549685378845218, 0.0437007105365062, 0.0436060162516094, 0.04508907554338171, 0.04642523229955223, 0.046457435700043626, 0.04529189823850997, 0.04414077436184032, 0.04441923030773005, 0.04603947975203692, 0.0477709029355654, 0.048864070216675735, 0.04920326531525101, 0.048673577507324935, 0.04662497565938344, 0.04153050429087105, 0.03141243726559593, 0.018752446487291213, 0.02325009499487871, 0.036119296032135456, 0.04407269366592999, 0.04775049257497164, 0.04917142926382158, 0.04959477995778053, 0.04957274565287591, 0.04925613641172502, 0.04856215189967574, 0.047250760146073524, 0.04524813602806278, 0.043360541435977076, 0.042875644255284256, 0.043207773966818824, 0.04217602110821264, 0.03832788407775777, 0.03077704832984127, 0.019986757825406595, 0.014474671866276195, 0.01643010561721619, 0.014934905466503792, 0.013848445797186464, 0.012642171037756498, 0.02047424793712987, 0.0313839016950199, 0.03831619661595411, 0.0410949351627788, 0.04248478647602321, 0.044570327894284015, 0.04690378915684696, 0.04855150997202931, 0.04941029646427948, 0.04413891306887903, 0.04160917953037732, 0.04154797086802533, 0.0438715883354767, 0.04617351698067432, 0.047121629214621215, 0.04690589035705402, 0.046422381056575784, 0.04653886117704064, 0.04737136164913739, 0.04838142367838443, 0.04908565860931154, 0.049275377537324395, 0.04871335632103465, 0.046706282427476806, 0.04177829031363825, 0.032165751807160886, 0.020729298424985533, 0.024672501690179902, 0.03660321423795788, 0.0442243344191972, 0.04778260000652069, 0.04913942070603327, 0.04948056844315076, 0.04930702856792698, 0.04872653937407952, 0.04759008390786452, 0.04544415049256362, 0.04187370879430338, 0.03816803196219239, 0.03755188900405428, 0.03920391058461217, 0.03900618780788505, 0.035888021679262555, 0.029815434763107343, 0.019647327482591525, 0.012009916586590749, 0.013036411537246974, 0.011327339336039473, 0.012350353385084903, 0.0117944889355973, 0.018048033673579936, 0.028536593940524543, 0.0346642311726151, 0.03617693334821668, 0.03724039672879619, 0.04094115496059463, 0.045133943800358796, 0.04785572567486276, 0.04917224172725154, 0.04346144986021969, 0.040530199173761085, 0.040487875918213394, 0.043270881413425076, 0.04606433523241693, 0.04742842695887149, 0.04756989705466039, 0.04726555415060701, 0.04725291491202797, 0.04777825707969828, 0.04854280854091304, 0.04913873703164338, 0.049323376002209, 0.04886225775247933, 0.04720122758901298, 0.043298292342483384, 0.03640632526601811, 0.029743629909868133, 0.031814019252523175, 0.03946276585476866, 0.04520033361436143, 0.048070263625737734, 0.04916053892480538, 0.04931583509665059, 0.04886800567528294, 0.04784253580512541, 0.04607941880381563, 0.04295867002784104, 0.03736292959828089, 0.03058090245953681, 0.029798845427313526, 0.03386376671864547, 0.034445511374397594, 0.03168209935505179, 0.027768148464355248, 0.020891154233531963, 0.01563728858698772, 0.01699736931338561, 0.018428778731799284, 0.01985849598478175, 0.01923575433107368, 0.020548180798748244, 0.026061833531162218, 0.029393128485117128, 0.028881867933842963, 0.02964046332453188, 0.036373490063069405, 0.043192337431599406, 0.04715799222693306, 0.04894628647453042, 0.04383235075367678, 0.04112672530876502, 0.04108875515597549, 0.0436621165508647, 0.046282462679622396, 0.04756936937657818, 0.04764687260425066, 0.04721540845192501, 0.04705676581697211, 0.04753505066633987, 0.04836254115676695, 0.049055590100916285, 0.049344671257429105, 0.049069376029492774, 0.047899702119095784, 0.045288953624707036, 0.041186368819545745, 0.03781828115053891, 0.03880040990230445, 0.042927278256355714, 0.0465284832584653, 0.04849045143057277, 0.049201528445189276, 0.049077739556204335, 0.048189879077150534, 0.046424911917261946, 0.043748420085216726, 0.03976928841015596, 0.03263643932987065, 0.0221973195343246, 0.021392223445616115, 0.02877949634799541, 0.029446786105760517, 0.02594584758653749, 0.023805401395820932, 0.020003313375989814, 0.01878927141520011, 0.02254082855079251, 0.025976812813447995, 0.02725599838391191, 0.02648654998276127, 0.024990501153317028, 0.023457569988895057, 0.022114470050599678, 0.020222449303026222, 0.02167180831376457, 0.03259882553184145, 0.04179662396116417, 0.04668506748135433, 0.04879568942937635, 0.045044513530577174, 0.04302134891321458, 0.042976854393034974, 0.04485582566209849, 0.046807260921690685, 0.04767353927685594, 0.04743770566704069, 0.04670942568016472, 0.04638276074680117, 0.04694515535721992, 0.04800178812173242, 0.048901812380336473, 0.04934746974016258, 0.04927763679538286, 0.048576696827452796, 0.04705033948754549, 0.04487477271227575, 0.04327074807964465, 0.0437220338457712, 0.045764732028469576, 0.04775283564714058, 0.0489060550925594, 0.04923086968727564, 0.04876783916089431, 0.047260830198414254, 0.04433862999696366, 0.04022089237241745, 0.035685415888652317, 0.02925629401782731, 0.019289581227898814, 0.019319187572455366, 0.02716831391580781, 0.026803717949936662, 0.021849893245057372, 0.019678431044259752, 0.01660804205760438, 0.02001321623886186, 0.025910069688926507, 0.029875460102330928, 0.030898470259290357, 0.030234673267041032, 0.027743184595702273, 0.020829954851752052, 0.014476316934683736, 0.015849371801471987, 0.02031844679710326, 0.03224001761642061, 0.04165131998360506, 0.04661587961328775, 0.04876454746753633, 0.0465268957529541, 0.04523634220091463, 0.04517712543009691, 0.0462944918797011, 0.04745334736297292, 0.04779607223529097, 0.04719528734650099, 0.046162021708331696, 0.0456886155468647, 0.04636491950802139, 0.04766307615299163, 0.04876395080305245, 0.04935120602223305, 0.049452063605574435, 0.04910531652723994, 0.04830778062334396, 0.04724403170242007, 0.04651259890198713, 0.04671357800164194, 0.04766580478453072, 0.04865937281078127, 0.04923535829276955, 0.04924038760899605, 0.04843755416106137, 0.046213397484383176, 0.041748151536320256, 0.035386678844804835, 0.030412280858828477, 0.027816474207657208, 0.024482975482808696, 0.025798517983532648, 0.029995119661956643, 0.02831906013472419, 0.02300860725338459, 0.01918815083814944, 0.015037507030381541, 0.019484868767420463, 0.025734043096980245, 0.029616134910180166, 0.029866513829767537, 0.029624250667319472, 0.028573481066418827, 0.021742011677703933, 0.01573086625664038, 0.020811736018538113, 0.026647536878612762, 0.035282177408610275, 0.04270753580293728, 0.04693062436658933, 0.04884713531047931, 0.04781081618093073, 0.0470631268518386, 0.04697781663158396, 0.04750464822659304, 0.048013774066373464, 0.04793323462835861, 0.04710011545961553, 0.045928809791134784, 0.045404235604642705, 0.04613643635925707, 0.047536771717864724, 0.04872187482458719, 0.04937852967049781, 0.04958513559486494, 0.04946243341456783, 0.049088376062919596, 0.04860197792154404, 0.04828164765561727, 0.0483677078260804, 0.04878809004748848, 0.04923955986550127, 0.049462159440150706, 0.04924832846159928, 0.048188307885221146, 0.04537174128019265, 0.03945505463174254, 0.03046286305662387, 0.024921964635109567, 0.027856112893662122, 0.030873890953895713, 0.03302302116073113, 0.034182399799373105, 0.031339576471311525, 0.025779301643003422, 0.020445617811762486, 0.01563551057369338, 0.0169782545587708, 0.022274704577893364, 0.026197168239238164, 0.024638488518923318, 0.025223043899590833, 0.028450787856578567, 0.026309424334738298, 0.023842305264029837, 0.02770634807011159, 0.03294022060931907, 0.038926914954295885, 0.04418399846766759, 0.04742476925186306, 0.04899295848143925, 0.0487126924369473, 0.048282088678252844, 0.04814731191106162, 0.04826877673509429, 0.04833327752251323, 0.04801378766556746, 0.047180549113713784, 0.04614206173647, 0.04571550124408155, 0.04641261254690213, 0.04770783420040501, 0.048811497252700765, 0.049442055954065756, 0.0496851914079926, 0.04968120438346988, 0.04952723493021161, 0.04931880892809269, 0.04918400588221241, 0.0492187630416771, 0.04939321966851224, 0.049574558406255076, 0.0496084855511066, 0.04928280534708718, 0.04812459675453477, 0.04511699709434046, 0.038726868662572966, 0.028824453494191462, 0.023618854023264642, 0.02989473153178685, 0.03577803092794748, 0.038066278029717106, 0.037362396587668406, 0.03315172087934469, 0.026138284478227868, 0.018887208609858912, 0.013658984444788138, 0.013129495886995845, 0.018767704176967426, 0.02293010280934121, 0.018718348781690132, 0.020350587598583478, 0.028487397349506362, 0.030325808512331458, 0.029261264628351706, 0.031523802482117814, 0.036305347780001176, 0.04133614186033249, 0.04537212459940316, 0.04788402631803375, 0.04914486555926407, 0.04925107145108382, 0.04895759408936506, 0.04872696240327849, 0.0485333278902287, 0.04827996435132325, 0.047874662380175535, 0.04726646171046788, 0.04661912539261861, 0.046441501259554985, 0.04706285607563939, 0.04811032996976215, 0.049007909958772584, 0.049536595692779684, 0.049762910268781144, 0.04980757908231397, 0.049756610423111386, 0.049673596804410865, 0.049618872002221884, 0.04963109709465498, 0.049696860619258695, 0.049754002381684585, 0.04970403709206144, 0.04935906956219954, 0.048283226054336874, 0.04558969019742704, 0.04010034572975398, 0.03228982410852932, 0.028912034177836988, 0.03417885334854686, 0.039547231320304826, 0.04126051560565959, 0.03940436045407239, 0.03399711744342948, 0.0252141317493392, 0.01556854945860808, 0.010202835950952461, 0.011426600530497676, 0.01928439854411419, 0.02363077997970875, 0.019541435634747226, 0.021132696069540883, 0.029478148853309818, 0.03211174921348481, 0.030574794834916694, 0.03176946411295551, 0.03708671704565296, 0.042407439268886626, 0.04609167874718276, 0.04822185481425385, 0.049273161043705785, 0.049519304542483586, 0.049232839996468304, 0.04882673081241873, 0.04828030395578229, 0.0476903828148645, 0.04725764405637454, 0.047048729274581695, 0.046997567403637516, 0.04720555949351314, 0.04780078157183315, 0.04858908131223294, 0.0492471853098317, 0.04964343231361446, 0.04982469226594586, 0.049878857909287276, 0.049870233626140466, 0.04983998683153731, 0.049817767058141796, 0.049819496156381995, 0.049838508141170926, 0.04984322085462925, 0.049768647551905236, 0.049467810911711804, 0.04860432565341141, 0.04655670307826301, 0.042697517153411836, 0.03786733015001022, 0.03607986642815103, 0.039157909294932534, 0.042640843933032815, 0.04346987452309867, 0.04109748414286966, 0.035447579357539026, 0.02658786846580937, 0.016680914398772295, 0.010220050125912691, 0.012797429571479696, 0.022264103934058192, 0.027003199344458436, 0.024953505550320373, 0.025472567961856, 0.03052082669370607, 0.032116903194792545, 0.029823053378862745, 0.030676262737136837, 0.03699737966756128, 0.042909560890211, 0.046549735143511066, 0.048473077740446915, 0.04937905467724748, 0.049612187310026944, 0.04923749931036584, 0.048542963315628, 0.04747919719107499, 0.04636202188626154, 0.04585234209531158, 0.04620763259276787, 0.04696374095739119, 0.04770593829636914, 0.04839057585900547, 0.0490055903852956, 0.049466925554172585, 0.04974202941603154, 0.049872819784031394, 0.04991910529064439, 0.049924273447082425, 0.04991390125384171, 0.04990288973329566, 0.04989776434696849, 0.04989509570259896, 0.049878667740843985, 0.049807654439803686, 0.049580531637213154, 0.048973630259768385, 0.04762311527329425, 0.04529062096559165, 0.04268493746884304, 0.041797389723181685, 0.04331485549341582, 0.04511488376393526, 0.045217943346334194, 0.042896871013000604, 0.03796074504967378, 0.030534438343622922, 0.022036917995089632, 0.014697263635027463, 0.015470083867744787, 0.02490408130724491, 0.02946980512996773, 0.02763729967334437, 0.02685528172300788, 0.029867240297936755, 0.031379950031238044, 0.030166677340495048, 0.03163756456150859, 0.03792966766886314, 0.0436408724316568, 0.047011587728400056, 0.04870532658100131, 0.049474825788401434, 0.04960446723671863, 0.04907664874303201, 0.0479740469615391, 0.04614633526915656, 0.04415470995408228, 0.043427013669072964, 0.04456795824577365, 0.04640402771323491, 0.04784392297149267, 0.048743358190629735, 0.049296091002980894, 0.049632876657038444, 0.049819505738781994, 0.049908185643329564, 0.049941961143300746, 0.04994883822700483, 0.04994374200398916, 0.04993346141424622, 0.0499198910468613, 0.04990160385720008, 0.04987280823517764, 0.049813241168899874, 0.04966245253671881, 0.04928819858230529, 0.04850264124050587, 0.047245365974699374, 0.045954339269864385, 0.04552303144304008, 0.046180204058772115, 0.04693117862327603, 0.04663718317144183, 0.044665347431307754, 0.04069219980335158, 0.034555394518841556, 0.026748817601311994, 0.019034750342456826, 0.01896294684165992, 0.027129945806824478, 0.03003651748711224, 0.025789857634374257, 0.023348206442756595, 0.02735300717337732, 0.03105563394711855, 0.03277577869112018, 0.035334782966484006, 0.040330979373222525, 0.044854020335916095, 0.04757966014711479, 0.04894642808345689, 0.049563557133602366, 0.04955366475344813, 0.048850362750830684, 0.04727978966191137, 0.04449691495962823, 0.04126312009761601, 0.04013706162729078, 0.04231734870046406, 0.04547767329528308, 0.04771169173682439, 0.04889592371083873, 0.04946595531411887, 0.04974088482635847, 0.049872966606507, 0.04993224703896328, 0.04995471632903261, 0.049958761060106195, 0.04995192856396155, 0.049935182302590926, 0.049906632201589, 0.04986622406816114, 0.04981865696799886, 0.04976515811188166, 0.049679656227762985, 0.04948822993271794, 0.049093759976293505, 0.048486601103417765, 0.04789255966662643, 0.0476861046146442, 0.04792699643102251, 0.04814352641882745, 0.04770892767512179, 0.04612868168938446, 0.04295098866295015, 0.03769348313238762, 0.030549227968362, 0.0241943719125588, 0.024720295295674488, 0.030205624741904438, 0.030215400974825876, 0.02201653610990142, 0.017631487402234712, 0.025527953298213158, 0.03230702039628169, 0.03647118308979592, 0.03966641175430455, 0.043202346875691675, 0.04626060806162182, 0.048177081160394354, 0.04916887735112071, 0.04963108597991255, 0.04950537826863179, 0.04866346731757329, 0.04670940861670337, 0.04307502732283901, 0.03859046237464043, 0.03699958929540841, 0.040237995473370924, 0.04461804609930717, 0.04751988506783286, 0.04894708565153027, 0.049556145949687214, 0.04980467364738415, 0.0499064449595319, 0.0499473652471863, 0.049961297768806597, 0.049960844105991845, 0.049947746423932474, 0.049916803131712144, 0.0498604948115266, 0.04977902204885566, 0.04969142781482504, 0.0496283884879409, 0.049596292224479144, 0.049548501295385246, 0.049413800751384976, 0.04917603870466298, 0.0489349821577661, 0.04884097307653641, 0.04890003882291169, 0.0488815288871886, 0.04843626927571526, 0.047188412128352945, 0.044667184114109276, 0.040367152502873004, 0.03470255571446313, 0.030642231878954332, 0.0315460217768928, 0.03436401546737666, 0.032203010360620225, 0.022960050059893523, 0.018814620029201794, 0.027769811600867257, 0.03540822089575757, 0.04014313545667775, 0.04319676718349283, 0.04559516021187821, 0.047461721806378344, 0.04865567550918507, 0.04930986431781893, 0.049646167001465, 0.04949167521717184, 0.04860443458250183, 0.04652052011745988, 0.04258297805318907, 0.03761869248045992, 0.03583915297438283, 0.039506023291626356, 0.04434664486541082, 0.047487464571243275, 0.0489963317664702, 0.0496117484138445, 0.049842458737374494, 0.049926471289337214, 0.049956220116894635, 0.04996393836694925, 0.04995802395083012, 0.049934386318299426, 0.04987917740027963, 0.049774498549068985, 0.04961781005114225, 0.049450084558763124, 0.0493509419463526, 0.049368360024263695, 0.049456291960899026, 0.04951800710393738, 0.04950355494406941, 0.04944741857793872, 0.04941414603538104, 0.04940030597653459, 0.04928677526487023, 0.04886944075392625, 0.047880771153151674, 0.04596276422629412, 0.042825090928590805, 0.03906801394824716, 0.03688879552588844, 0.037638261359755294, 0.0387620205962322, 0.036246870135755296, 0.02981302256745764, 0.02761597305054967, 0.0334071104523374, 0.03937183836878908, 0.04328001977450817, 0.04566402351101187, 0.047196629572508836, 0.04822662796573317, 0.0488788567853962, 0.04928523344120855, 0.04955814036840974, 0.04952525837958096, 0.04870706815282852, 0.04681402474760449, 0.043318949205628385, 0.039054688357415636, 0.037570302152827965, 0.040668795431211886, 0.04489635227603157, 0.0477211244162537, 0.0491009142265528, 0.04966336836151534, 0.049868606281494414, 0.04993888929114414, 0.049961148933261236, 0.049963993459361165, 0.04995159511666804, 0.04991281486431807, 0.04982093740450178, 0.049639701266925886, 0.04935713416366372, 0.0490463469878829, 0.0488711329261955, 0.04894661364206318, 0.04920066241264295, 0.049457742299247466, 0.049612778354244, 0.04967107844009987, 0.049676464751106764, 0.04963344854937876, 0.04947455912154595, 0.04907154800890118, 0.04825799740108226, 0.046855692357030555, 0.04482610634924249, 0.04271724274180955, 0.04173854137452325, 0.042240510707189594, 0.04257989704712997, 0.040731942645423486, 0.037195016901610936, 0.03618949800157143, 0.0392824781420262, 0.043029882248311994, 0.0456708192194563, 0.047225882403035276, 0.04805192952003546, 0.04846729611981155, 0.04871617932667732, 0.04897589167581093, 0.0492863244514485, 0.04959820063777455, 0.04893561797289986, 0.04745890540558457, 0.044872658770119755, 0.04192323334623503, 0.040948283060533705, 0.04301644782474429, 0.04602604904196553, 0.048168361602931795, 0.04926331634991915, 0.04972214967502351, 0.049890902941559644, 0.049947536760798675, 0.0499638153144605, 0.049962338622841836, 0.04994235884312453, 0.049884030480814925, 0.049742949012313686, 0.04945446242764654, 0.048985932032244994, 0.04845146697643739, 0.048148362134902596, 0.04830256285758337, 0.048784689708215034, 0.04927683478414674, 0.0495976178001797, 0.04974702627997625, 0.04978237740326643, 0.04972408044750763, 0.0495273098447655, 0.04910018783109251, 0.04835966182347316, 0.047309191276431455, 0.04611165014712112, 0.04515816575501222, 0.04492180579618317, 0.04531997497432899, 0.045430347225103127, 0.04436793465086797, 0.042642650101396964, 0.042209932616539145, 0.04373617347778737, 0.045786444730929514, 0.047296515112714786, 0.04808089285380387, 0.04826704962478499, 0.048110987895656536, 0.04798459705120058, 0.04819407404357782, 0.04870623335983264, 0.04968974354883656, 0.049213739758240865, 0.04820634601913739, 0.04655527616548247, 0.04480728865600887, 0.044257698640968915, 0.045440316448976836, 0.04727782852726239, 0.048685715273328704, 0.04945005368531456, 0.04978492981931004, 0.049911636294076, 0.04995430434020445, 0.04996521610361819, 0.04995958127970136, 0.04993114477194841, 0.04985018835095714, 0.04965136611989127, 0.049233871284020694, 0.04853234491676885, 0.04770354550799781, 0.04722474292054401, 0.04748268239848098, 0.04825777997531704, 0.049027726985685575, 0.04952176017461999, 0.04975409863085673, 0.04981504609024324, 0.04974451057934166, 0.04950520865948465, 0.04901583121299912, 0.04825004603935361, 0.04736589582137166, 0.04668890681586474, 0.046476699039079736, 0.04673459071866784, 0.04717740791151081, 0.04731307311669773, 0.04682202997831208, 0.04605656417340792, 0.04588386843540354, 0.04659065230562428, 0.047582591774287364, 0.04826666489655449, 0.048389656621959015, 0.0479017935168776, 0.04702436863655483, 0.046399006969231056, 0.046659896520661645, 0.047652563023519376, 0.049778436289509995, 0.04947091055177171, 0.048856866121889435, 0.047916288911939074, 0.04698500020417214, 0.04670380041278494, 0.04731558645747644, 0.0483198934080757, 0.04914490959982965, 0.04962261186408166, 0.04984331582835604, 0.04993020037437492, 0.04995982071139598, 0.049965871202150305, 0.049956178648571666, 0.04991890944137436, 0.04981451426642401, 0.049557337716349785, 0.049011560264398416, 0.04807726936425434, 0.04694753174624673, 0.04628719231134532, 0.04666147502723718, 0.04774263017926505, 0.04878445581793035, 0.04943564043297143, 0.04973744991558346, 0.049818729711843264, 0.049737866394701034, 0.04945793978480388, 0.04889381963458827, 0.04804996217421208, 0.04720067965300555, 0.046807120085419776, 0.04705034550493248, 0.047649563885845694, 0.048203465420758936, 0.048437949710865916, 0.04828936030606064, 0.04799031171306519, 0.047929036335433745, 0.048227862706744104, 0.04862237133429385, 0.048749450121692864, 0.048290668351062334, 0.04699903407504822, 0.04505038475324151, 0.04360497870143593, 0.044049650039698095, 0.045978970759918525, 0.049850644124417164, 0.049669383877278, 0.0493282260225185, 0.04883752510947459, 0.048378288299503386, 0.0482439060796389, 0.0485387014744018, 0.049044317975273005, 0.0494857867354844, 0.049757825398579085, 0.04989072289010958, 0.04994541491687419, 0.04996417611788805, 0.04996604676788838, 0.049952513605432645, 0.04990662480636535, 0.049780274734586336, 0.049472448360942674, 0.04882584312227351, 0.04772605772202287, 0.04639909672582946, 0.04563524604011064, 0.04611078491007192, 0.047408956048424364, 0.04863045064816336, 0.049380109522624734, 0.049723672853985997, 0.04981709198947942, 0.049730802084010144, 0.049427336131385155, 0.04881684980145563, 0.04791798621024513, 0.04707117621782374, 0.046820053180823336, 0.04730790953549081, 0.04810344451576412, 0.04874655010631009, 0.049062751137191246, 0.04909393818137097, 0.0490068618589421, 0.04898926559010232, 0.049090619841560164, 0.049163835517037284, 0.04892238258605993, 0.04794049933493184, 0.045700160075529066, 0.04221422810890987, 0.03941968115577753, 0.04023314917328461, 0.04372698264775733, 0.049902168607013526, 0.049803373199853125, 0.049627705598890626, 0.049388888907413, 0.049175597717839796, 0.04911469890301233, 0.04924914411275056, 0.049487945412500435, 0.04970760277293846, 0.049850956205724675, 0.049924932083471554, 0.0499567319452293, 0.04996739265106317, 0.049965928105511884, 0.049948974870763295, 0.04989526443280757, 0.04975000875878133, 0.049403602341026025, 0.04869730672388427, 0.047539430948300605, 0.0461997154382061, 0.045483867192329726, 0.04602785542671412, 0.04737407807658281, 0.048619051957071245, 0.04937851662876183, 0.04972617032980329, 0.04982172504189364, 0.04973795073186374, 0.049440496543269936, 0.048845012608117, 0.047978556969967924, 0.04718893543951693, 0.04701420466304189, 0.04757158769067364, 0.04840319502978322, 0.04905637253376899, 0.04940100245872301, 0.04950998095534515, 0.049511203763927904, 0.04950794242432696, 0.04951569327858267, 0.049422239602570237, 0.04894741883519141, 0.047542986312248285, 0.04437905582270526, 0.039119701565107697, 0.0344788727042755, 0.03584935994600174, 0.041391305283386914, 0.049935265057114285, 0.04988487431401493, 0.04979991505761261, 0.04969003331100455, 0.049595660613151946, 0.049569241617468555, 0.04962786026175796, 0.04973498328751578, 0.04983800048637597, 0.04990880592809196, 0.04994727149873024, 0.049964422552742534, 0.04996960664150289, 0.049965714727705, 0.049946043817736735, 0.04988604796988756, 0.04972623879626887, 0.04935388008134601, 0.04862362959517915, 0.047496137978935225, 0.04630013975340418, 0.04577059568766317, 0.04636361713078574, 0.04761204936450699, 0.048740875319554094, 0.04942966956530752, 0.04974712031997494, 0.04983599426985176, 0.04976312952492599, 0.04950231178517828, 0.0489870941316383, 0.04825137769286659, 0.04759821929173163, 0.04747525911686676, 0.047971502939078474, 0.048699244135355965, 0.049275177917603795, 0.04959332200532386, 0.049719860838851375, 0.04975128360341895, 0.049750620130581485, 0.04971630965255588, 0.04954556747668893, 0.04895394368200483, 0.04732095289465952, 0.04361590694577315, 0.03718607153575934, 0.03111011638510667, 0.032945080502270185, 0.03998648379158909, 0.049954772398338725, 0.04993047543499283, 0.04989146862558325, 0.049843191892516625, 0.049803081469052754, 0.049792033832094684, 0.04981664696639479, 0.04986270261088722, 0.049908718501316944, 0.04994184074572618, 0.0499606829915413, 0.04996925327854612, 0.04997106226227449, 0.049965637104914855, 0.04994431175877414, 0.04988065307679415, 0.04971293609080971, 0.04932937323480137, 0.04860285022625798, 0.047549451862373124, 0.04655296049472404, 0.046253587446326364, 0.04689055296788639, 0.04798689036492884, 0.04893705528392053, 0.04951338285127855, 0.04978088488256952, 0.04985785578882633, 0.04980166288381972, 0.049597265574449066, 0.049201991315554104, 0.0486526196316188, 0.048178187298073216, 0.04809634997208137, 0.0484669950330195, 0.04901529108600826, 0.04945989482909632, 0.04971576148535491, 0.049827888016841564, 0.049863391645733585, 0.04986147865037653, 0.0498120366555832, 0.04962038036790416, 0.04901993730221936, 0.047418516626310525, 0.043841511795035516, 0.03772812754349873, 0.032067812064225834, 0.03376055708538284, 0.04036926172009639, 0.04996547748121888, 0.04995430786604244, 0.049937160857539596, 0.049916749425282604, 0.04990026704201627, 0.049895788965491336, 0.04990579966236136, 0.04992491015488612, 0.04994464583772793, 0.04995944110974432, 0.04996818552358522, 0.04997210031052554, 0.0499720329117871, 0.04996590977644726, 0.04994434022090989, 0.04988086231320786, 0.04971517468132788, 0.049341771410125204, 0.04865286656662105, 0.04770264770639821, 0.0468953735152976, 0.04677901867953298, 0.04743075207553782, 0.048374353304898664, 0.04914644141971956, 0.04960592537691377, 0.049819288904399975, 0.049882878544749244, 0.04984487636777022, 0.04970101389829091, 0.049429863773211985, 0.049065066640375285, 0.04875914352134381, 0.04870900492409636, 0.048950382712797544, 0.049314324852141836, 0.04961914094602807, 0.04980197614249746, 0.049887104036254876, 0.04991637829507219, 0.04991278062959348, 0.04986299765814334, 0.04968648244438008, 0.04916228966511115, 0.047817359449293925, 0.04494492178330871, 0.04035659526814111, 0.03647237579629005, 0.03759412888102209, 0.04228879675303548];\n",
       "const xvar = \"lr\";\n",
       "const yvar = \"decay\";\n",
       "const x_is_log = true;\n",
       "const y_is_log = true;\n",
       "\n",
       "const GREEN_SCALE = [[247, 252, 253], [229, 245, 249], [204, 236, 230], [153, 216, 201], [102, 194, 164], [65, 174, 118], [35, 139, 69], [0, 109, 44], [0, 68, 27]];\n",
       "const GREEN_PINK_SCALE = [[142, 1, 82], [197, 27, 125], [222, 119, 174], [241, 182, 218], [253, 224, 239], [247, 247, 247], [230, 245, 208], [184, 225, 134], [127, 188, 65], [77, 146, 33], [39, 100, 25]];\n",
       "const BLUE_SCALE = [[255, 247, 251], [236, 231, 242], [208, 209, 230], [166, 189, 219], [116, 169, 207], [54, 144, 192], [5, 112, 176], [3, 78, 123]];\n",
       "\n",
       "// format data\n",
       "const res = relativize_data(f, sd, rel, arm_data, metric);\n",
       "const f_final = res[0];\n",
       "const sd_final = res[1];\n",
       "\n",
       "// calculate max of abs(outcome), used for colorscale\n",
       "const f_absmax = Math.max(Math.abs(Math.min(...f_final)), Math.max(...f_final));\n",
       "\n",
       "// transform to nested array\n",
       "var f_plt = [];\n",
       "while(f_final.length) f_plt.push(f_final.splice(0, density));\n",
       "var sd_plt = [];\n",
       "while(sd_final.length) sd_plt.push(sd_final.splice(0, density));\n",
       "\n",
       "// create traces\n",
       "const CONTOUR_CONFIG = {\n",
       "  autocolorscale: false,\n",
       "  autocontour: true,\n",
       "  contours: {\n",
       "    coloring: 'heatmap',\n",
       "  },\n",
       "  hoverinfo: 'x+y+z',\n",
       "  ncontours: density / 2,\n",
       "  type: 'contour',\n",
       "  x: grid_x,\n",
       "  y: grid_y,\n",
       "};\n",
       "\n",
       "let f_scale;\n",
       "if (rel === true) {\n",
       "  f_scale = lower_is_better === true\n",
       "    ? GREEN_PINK_SCALE.reverse()\n",
       "    : GREEN_PINK_SCALE;\n",
       "} else {\n",
       "  f_scale = GREEN_SCALE;\n",
       "}\n",
       "\n",
       "const f_trace = {\n",
       "  colorbar: {\n",
       "    x: 0.45,\n",
       "    y: 0.5,\n",
       "    ticksuffix: rel === true ? '%' : '',\n",
       "    tickfont: {\n",
       "      size: 8,\n",
       "    },\n",
       "  },\n",
       "  colorscale: f_scale.map(\n",
       "    (v, i) => [i / (f_scale.length - 1), rgb(v)]\n",
       "  ),\n",
       "  xaxis: 'x',\n",
       "  yaxis: 'y',\n",
       "  z: f_plt,\n",
       "  // zmax and zmin are ignored if zauto is true\n",
       "  zauto: !rel,\n",
       "  zmax: f_absmax,\n",
       "  zmin: -f_absmax,\n",
       "};\n",
       "\n",
       "const sd_trace = {\n",
       "  colorbar: {\n",
       "      x: 1,\n",
       "      y: 0.5,\n",
       "      ticksuffix: rel === true ? '%' : '',\n",
       "      tickfont: {\n",
       "        size: 8,\n",
       "      },\n",
       "  },\n",
       "  colorscale: BLUE_SCALE.map(\n",
       "    (v, i) => [i / (BLUE_SCALE.length - 1), rgb(v)]\n",
       "  ),\n",
       "  xaxis: 'x2',\n",
       "  yaxis: 'y2',\n",
       "  z: sd_plt,\n",
       "};\n",
       "\n",
       "Object.keys(CONTOUR_CONFIG).forEach(key => {\n",
       "  f_trace[key] = CONTOUR_CONFIG[key];\n",
       "  sd_trace[key] = CONTOUR_CONFIG[key];\n",
       "});\n",
       "\n",
       "// get in-sample arms\n",
       "const arm_x = [];\n",
       "const arm_y = [];\n",
       "const arm_text = [];\n",
       "\n",
       "Object.keys(arm_data['in_sample']).forEach(arm_name => {\n",
       "  arm_x.push(arm_data['in_sample'][arm_name]['parameters'][xvar]);\n",
       "  arm_y.push(arm_data['in_sample'][arm_name]['parameters'][yvar]);\n",
       "  arm_text.push(arm_name);\n",
       "});\n",
       "\n",
       "// configs for in-sample arms\n",
       "const base_in_sample_arm_config = {\n",
       "  hoverinfo: 'text',\n",
       "  legendgroup: 'In-sample',\n",
       "  marker: {color: 'black', symbol: 1, opacity: 0.5},\n",
       "  mode: 'markers',\n",
       "  name: 'In-sample',\n",
       "  text: arm_text,\n",
       "  type: 'scatter',\n",
       "  x: arm_x,\n",
       "  y: arm_y,\n",
       "};\n",
       "\n",
       "const f_in_sample_arm_trace = {\n",
       "  xaxis: 'x',\n",
       "  yaxis: 'y',\n",
       "};\n",
       "\n",
       "const sd_in_sample_arm_trace = {\n",
       "  showlegend: false,\n",
       "  xaxis: 'x2',\n",
       "  yaxis: 'y2',\n",
       "};\n",
       "\n",
       "Object.keys(base_in_sample_arm_config).forEach(key => {\n",
       "  f_in_sample_arm_trace[key] = base_in_sample_arm_config[key];\n",
       "  sd_in_sample_arm_trace[key] = base_in_sample_arm_config[key];\n",
       "});\n",
       "\n",
       "const traces = [\n",
       "  f_trace,\n",
       "  sd_trace,\n",
       "  f_in_sample_arm_trace,\n",
       "  sd_in_sample_arm_trace,\n",
       "];\n",
       "\n",
       "// start symbol at 2 for candidate markers\n",
       "let i = 2;\n",
       "\n",
       "// iterate over out-of-sample arms\n",
       "Object.keys(arm_data['out_of_sample']).forEach(generator_run_name => {\n",
       "  const ax = [];\n",
       "  const ay = [];\n",
       "  const atext = [];\n",
       "\n",
       "  Object.keys(arm_data['out_of_sample'][generator_run_name]).forEach(arm_name => {\n",
       "    ax.push(\n",
       "      arm_data['out_of_sample'][generator_run_name][arm_name]['parameters'][xvar]\n",
       "    );\n",
       "    ay.push(\n",
       "      arm_data['out_of_sample'][generator_run_name][arm_name]['parameters'][yvar]\n",
       "    );\n",
       "    atext.push('<em>Candidate ' + arm_name + '</em>');\n",
       "  });\n",
       "\n",
       "  traces.push({\n",
       "    hoverinfo: 'text',\n",
       "    legendgroup: generator_run_name,\n",
       "    marker: {color: 'black', symbol: i, opacity: 0.5},\n",
       "    mode: 'markers',\n",
       "    name: generator_run_name,\n",
       "    text: atext,\n",
       "    type: 'scatter',\n",
       "    xaxis: 'x',\n",
       "    x: ax,\n",
       "    yaxis: 'y',\n",
       "    y: ay,\n",
       "  });\n",
       "  traces.push({\n",
       "    hoverinfo: 'text',\n",
       "    legendgroup: generator_run_name,\n",
       "    marker: {color: 'black', symbol: i, opacity: 0.5},\n",
       "    mode: 'markers',\n",
       "    name: 'In-sample',\n",
       "    showlegend: false,\n",
       "    text: atext,\n",
       "    type: 'scatter',\n",
       "    x: ax,\n",
       "    xaxis: 'x2',\n",
       "    y: ay,\n",
       "    yaxis: 'y2',\n",
       "  });\n",
       "  i += 1;\n",
       "});\n",
       "\n",
       "// layout\n",
       "const xrange = axis_range(grid_x, x_is_log);\n",
       "const yrange = axis_range(grid_y, y_is_log);\n",
       "\n",
       "const xtype = x_is_log ? 'log' : 'linear';\n",
       "const ytype = y_is_log ? 'log' : 'linear';\n",
       "\n",
       "const layout = {\n",
       "  autosize: false,\n",
       "    margin: {\n",
       "      l: 35,\n",
       "      r: 35,\n",
       "      t: 35,\n",
       "      b: 100,\n",
       "      pad: 0,\n",
       "  },\n",
       "  annotations: [\n",
       "    {\n",
       "      font: {size: 14},\n",
       "      showarrow: false,\n",
       "      text: 'Mean',\n",
       "      x: 0.25,\n",
       "      xanchor: 'center',\n",
       "      xref: 'paper',\n",
       "      y: 1,\n",
       "      yanchor: 'bottom',\n",
       "      yref: 'paper',\n",
       "    },\n",
       "    {\n",
       "      font: {size: 14},\n",
       "      showarrow: false,\n",
       "      text: 'Standard Error',\n",
       "      x: 0.8,\n",
       "      xanchor: 'center',\n",
       "      xref: 'paper',\n",
       "      y: 1,\n",
       "      yanchor: 'bottom',\n",
       "      yref: 'paper',\n",
       "    },\n",
       "  ],\n",
       "  hovermode: 'closest',\n",
       "  legend: {orientation: 'h', x: 0, y: -0.25},\n",
       "  height: 450,\n",
       "  width: 950,\n",
       "  xaxis: {\n",
       "    anchor: 'y',\n",
       "    autorange: false,\n",
       "    domain: [0.05, 0.45],\n",
       "    exponentformat: 'e',\n",
       "    range: xrange,\n",
       "    tickfont: {size: 11},\n",
       "    tickmode: 'auto',\n",
       "    title: xvar,\n",
       "    type: xtype,\n",
       "  },\n",
       "  xaxis2: {\n",
       "    anchor: 'y2',\n",
       "    autorange: false,\n",
       "    domain: [0.60, 1],\n",
       "    exponentformat: 'e',\n",
       "    range: xrange,\n",
       "    tickfont: {size: 11},\n",
       "    tickmode: 'auto',\n",
       "    title: xvar,\n",
       "    type: xtype,\n",
       "  },\n",
       "  yaxis: {\n",
       "    anchor: 'x',\n",
       "    autorange: false,\n",
       "    domain: [0, 1],\n",
       "    exponentformat: 'e',\n",
       "    range: yrange,\n",
       "    tickfont: {size: 11},\n",
       "    tickmode: 'auto',\n",
       "    title: yvar,\n",
       "    type: ytype,\n",
       "  },\n",
       "  yaxis2: {\n",
       "    anchor: 'x2',\n",
       "    autorange: false,\n",
       "    domain: [0, 1],\n",
       "    exponentformat: 'e',\n",
       "    range: yrange,\n",
       "    tickfont: {size: 11},\n",
       "    tickmode: 'auto',\n",
       "    type: ytype,\n",
       "  },\n",
       "};\n",
       "\n",
       "Plotly.newPlot(\"9d425733597c4d45aa55a0ae0e4fdf2b\", traces, layout, {showLink: false});\n",
       "});</script>"
      ]
     },
     "metadata": {},
     "output_type": "display_data"
    }
   ],
   "source": [
    "render(plot_contour(model=gpei, param_x='lr', param_y='decay', metric_name='log_eval'))"
   ]
  },
  {
   "cell_type": "code",
   "execution_count": 23,
   "metadata": {
    "pycharm": {
     "name": "#%%\n"
    },
    "scrolled": false
   },
   "outputs": [
    {
     "data": {
      "text/html": [
       "<div id=\"f19b827276f54d25b9b8f07268580461\" style=\"width: 100%;\" class=\"plotly-graph-div\"></div><script type='text/javascript'>/*\n",
       " * Copyright (c) Facebook, Inc. and its affiliates. All Rights Reserved.\n",
       " */\n",
       "\n",
       "require(['plotly'], function(Plotly) {\n",
       "  window.PLOTLYENV = window.PLOTLYENV || {};\n",
       "  window.PLOTLYENV.BASE_URL = 'https://plot.ly';\n",
       "  /*\n",
       " * Copyright (c) Facebook, Inc. and its affiliates. All Rights Reserved.\n",
       " */\n",
       "\n",
       "const arm_data = {\"metrics\": [\"log_eval\"], \"in_sample\": {\"zero\": {\"name\": \"zero\", \"parameters\": {\"lr\": 0.0043, \"decay\": 0.0012, \"epochs\": 0}, \"y\": {\"log_eval\": 3.6364354875574563}, \"y_hat\": {\"log_eval\": 3.6454888422885654}, \"se\": {\"log_eval\": 0.012499465460930299}, \"se_hat\": {\"log_eval\": 0.011905499799537745}, \"context_stratum\": null}, \"control1\": {\"name\": \"control1\", \"parameters\": {\"lr\": 0.0043, \"decay\": 0.0012, \"epochs\": 5}, \"y\": {\"log_eval\": 3.7673388703466384}, \"y_hat\": {\"log_eval\": 3.7513508220970078}, \"se\": {\"log_eval\": 0.014437295783778344}, \"se_hat\": {\"log_eval\": 0.012454597622696168}, \"context_stratum\": null}, \"control2\": {\"name\": \"control2\", \"parameters\": {\"lr\": 0.0043, \"decay\": 0.0012, \"epochs\": 10}, \"y\": {\"log_eval\": 3.7939481165991658}, \"y_hat\": {\"log_eval\": 3.7745678923158015}, \"se\": {\"log_eval\": 0.013743965355831913}, \"se_hat\": {\"log_eval\": 0.010943736129409411}, \"context_stratum\": null}, \"3_0\": {\"name\": \"3_0\", \"parameters\": {\"lr\": 0.006719886554586096, \"decay\": 0.0025712614367976697, \"epochs\": 17}, \"y\": {\"log_eval\": 3.527757963786043}, \"y_hat\": {\"log_eval\": 3.54057360863952}, \"se\": {\"log_eval\": 0.014116282037991347}, \"se_hat\": {\"log_eval\": 0.013313980828044898}, \"context_stratum\": null}, \"4_0\": {\"name\": \"4_0\", \"parameters\": {\"lr\": 0.0012230710776559032, \"decay\": 0.0001245490767846484, \"epochs\": 14}, \"y\": {\"log_eval\": 3.722176023563392}, \"y_hat\": {\"log_eval\": 3.7205795125221695}, \"se\": {\"log_eval\": 0.013597994240945219}, \"se_hat\": {\"log_eval\": 0.013120831363704032}, \"context_stratum\": null}, \"5_0\": {\"name\": \"5_0\", \"parameters\": {\"lr\": 0.00015703189811414284, \"decay\": 0.004250773039859609, \"epochs\": 6}, \"y\": {\"log_eval\": 3.6558885974799313}, \"y_hat\": {\"log_eval\": 3.6586443177849937}, \"se\": {\"log_eval\": 0.013725262026368666}, \"se_hat\": {\"log_eval\": 0.013233514730824101}, \"context_stratum\": null}, \"6_0\": {\"name\": \"6_0\", \"parameters\": {\"lr\": 0.00027734698125494284, \"decay\": 0.00024503393137916316, \"epochs\": 19}, \"y\": {\"log_eval\": 3.719795690263471}, \"y_hat\": {\"log_eval\": 3.7183782337206077}, \"se\": {\"log_eval\": 0.01372692960075821}, \"se_hat\": {\"log_eval\": 0.013235450165383569}, \"context_stratum\": null}, \"7_0\": {\"name\": \"7_0\", \"parameters\": {\"lr\": 0.00215089431162011, \"decay\": 0.007181061645086981, \"epochs\": 2}, \"y\": {\"log_eval\": 3.671565328964881}, \"y_hat\": {\"log_eval\": 3.6734692312173984}, \"se\": {\"log_eval\": 0.01338050680982233}, \"se_hat\": {\"log_eval\": 0.012924419065381573}, \"context_stratum\": null}, \"8_0\": {\"name\": \"8_0\", \"parameters\": {\"lr\": 0.003669268451658114, \"decay\": 0.0004685768597399909, \"epochs\": 8}, \"y\": {\"log_eval\": 3.7542075598642723}, \"y_hat\": {\"log_eval\": 3.749825352617683}, \"se\": {\"log_eval\": 0.014385970424389254}, \"se_hat\": {\"log_eval\": 0.013791819005244283}, \"context_stratum\": null}, \"9_0\": {\"name\": \"9_0\", \"parameters\": {\"lr\": 0.0005083524213359429, \"decay\": 0.0011885017054668588, \"epochs\": 11}, \"y\": {\"log_eval\": 3.726350753855546}, \"y_hat\": {\"log_eval\": 3.724460217135266}, \"se\": {\"log_eval\": 0.013545580006328673}, \"se_hat\": {\"log_eval\": 0.013073842917800668}, \"context_stratum\": null}, \"10_0\": {\"name\": \"10_0\", \"parameters\": {\"lr\": 0.0003885480703922011, \"decay\": 0.00017572911480920575, \"epochs\": 7}, \"y\": {\"log_eval\": 3.7153679485655404}, \"y_hat\": {\"log_eval\": 3.7143578924161424}, \"se\": {\"log_eval\": 0.01367508917825613}, \"se_hat\": {\"log_eval\": 0.013186715365212098}, \"context_stratum\": null}, \"11_0\": {\"name\": \"11_0\", \"parameters\": {\"lr\": 0.004987883132707978, \"decay\": 0.003342016822981182, \"epochs\": 14}, \"y\": {\"log_eval\": 3.739543115591369}, \"y_hat\": {\"log_eval\": 3.732044852266896}, \"se\": {\"log_eval\": 0.013307203954322175}, \"se_hat\": {\"log_eval\": 0.012563933519352232}, \"context_stratum\": null}, \"12_0\": {\"name\": \"12_0\", \"parameters\": {\"lr\": 0.0029168282988909335, \"decay\": 0.0009197168866264231, \"epochs\": 16}, \"y\": {\"log_eval\": 3.7186711581894665}, \"y_hat\": {\"log_eval\": 3.7197404391362214}, \"se\": {\"log_eval\": 0.014621965136108576}, \"se_hat\": {\"log_eval\": 0.013861707201097929}, \"context_stratum\": null}, \"13_0\": {\"name\": \"13_0\", \"parameters\": {\"lr\": 0.00021152642014361876, \"decay\": 0.0020209888929120954, \"epochs\": 3}, \"y\": {\"log_eval\": 3.637905015076654}, \"y_hat\": {\"log_eval\": 3.641972958546305}, \"se\": {\"log_eval\": 0.013740333364859962}, \"se_hat\": {\"log_eval\": 0.013246579797678097}, \"context_stratum\": null}, \"14_0\": {\"name\": \"14_0\", \"parameters\": {\"lr\": 0.0001155375773105539, \"decay\": 0.0003570341502470353, \"epochs\": 11}, \"y\": {\"log_eval\": 3.6822407278316125}, \"y_hat\": {\"log_eval\": 3.6834692286452646}, \"se\": {\"log_eval\": 0.014285217675939405}, \"se_hat\": {\"log_eval\": 0.01373491661618334}, \"context_stratum\": null}, \"15_0\": {\"name\": \"15_0\", \"parameters\": {\"lr\": 0.0016000375420588211, \"decay\": 0.001624692156473758, \"epochs\": 9}, \"y\": {\"log_eval\": 3.7320861684920095}, \"y_hat\": {\"log_eval\": 3.731208483181495}, \"se\": {\"log_eval\": 0.013587405327005645}, \"se_hat\": {\"log_eval\": 0.013021925391680029}, \"context_stratum\": null}, \"16_0\": {\"name\": \"16_0\", \"parameters\": {\"lr\": 0.008811602322531434, \"decay\": 0.000186652607756163, \"epochs\": 1}, \"y\": {\"log_eval\": 3.623308265882121}, \"y_hat\": {\"log_eval\": 3.6286323106435}, \"se\": {\"log_eval\": 0.013759945135539384}, \"se_hat\": {\"log_eval\": 0.013266289208842477}, \"context_stratum\": null}, \"17_0\": {\"name\": \"17_0\", \"parameters\": {\"lr\": 0.0006830909901579769, \"decay\": 0.009813793275866853, \"epochs\": 18}, \"y\": {\"log_eval\": 3.7734218690082773}, \"y_hat\": {\"log_eval\": 3.7693586323221777}, \"se\": {\"log_eval\": 0.01308537161098173}, \"se_hat\": {\"log_eval\": 0.01247230247301693}, \"context_stratum\": null}, \"18_0\": {\"name\": \"18_0\", \"parameters\": {\"lr\": 0.0006154371046006404, \"decay\": 0.00021817967393688832, \"epochs\": 15}, \"y\": {\"log_eval\": 3.7161815713771076}, \"y_hat\": {\"log_eval\": 3.715061978778193}, \"se\": {\"log_eval\": 0.013834489994739026}, \"se_hat\": {\"log_eval\": 0.013330425929603809}, \"context_stratum\": null}, \"19_0\": {\"name\": \"19_0\", \"parameters\": {\"lr\": 0.008526969624032996, \"decay\": 0.008521992697599054, \"epochs\": 7}, \"y\": {\"log_eval\": 3.7285276912274417}, \"y_hat\": {\"log_eval\": 3.7261443021678438}, \"se\": {\"log_eval\": 0.014692332587479444}, \"se_hat\": {\"log_eval\": 0.014095746992745378}, \"context_stratum\": null}, \"20_0\": {\"name\": \"20_0\", \"parameters\": {\"lr\": 0.0014841675115592483, \"decay\": 0.00041652190590026186, \"epochs\": 3}, \"y\": {\"log_eval\": 3.6855800109935606}, \"y_hat\": {\"log_eval\": 3.6865378323588747}, \"se\": {\"log_eval\": 0.013729222131008707}, \"se_hat\": {\"log_eval\": 0.013238677406563279}, \"context_stratum\": null}, \"21_0\": {\"name\": \"21_0\", \"parameters\": {\"lr\": 0.00011512656911212999, \"decay\": 0.0014096383116111051, \"epochs\": 15}, \"y\": {\"log_eval\": 3.6581693321691544}, \"y_hat\": {\"log_eval\": 3.6610192129446926}, \"se\": {\"log_eval\": 0.013997324779328489}, \"se_hat\": {\"log_eval\": 0.013478098995920668}, \"context_stratum\": null}, \"22_0\": {\"name\": \"22_0\", \"parameters\": {\"lr\": 0.00019974886922630847, \"decay\": 0.0007873981650974259, \"epochs\": 10}, \"y\": {\"log_eval\": 3.684627012793348}, \"y_hat\": {\"log_eval\": 3.6854526387453324}, \"se\": {\"log_eval\": 0.013979450458607046}, \"se_hat\": {\"log_eval\": 0.01346167236267269}, \"context_stratum\": null}, \"23_0\": {\"name\": \"23_0\", \"parameters\": {\"lr\": 0.003125001755326415, \"decay\": 0.002214232914119949, \"epochs\": 12}, \"y\": {\"log_eval\": 3.7609092352184548}, \"y_hat\": {\"log_eval\": 3.7533360751167253}, \"se\": {\"log_eval\": 0.014213144014545473}, \"se_hat\": {\"log_eval\": 0.012480878295905586}, \"context_stratum\": null}, \"24_0\": {\"name\": \"24_0\", \"parameters\": {\"lr\": 0.006628480497069864, \"decay\": 0.0016183755027265353, \"epochs\": 11}, \"y\": {\"log_eval\": 3.6533227231721748}, \"y_hat\": {\"log_eval\": 3.6585295734843544}, \"se\": {\"log_eval\": 0.015128695054896762}, \"se_hat\": {\"log_eval\": 0.014015910406756026}, \"context_stratum\": null}, \"25_0\": {\"name\": \"25_0\", \"parameters\": {\"lr\": 0.004157984233597562, \"decay\": 0.0037367267717074706, \"epochs\": 9}, \"y\": {\"log_eval\": 3.7380021459939643}, \"y_hat\": {\"log_eval\": 3.7366322452105676}, \"se\": {\"log_eval\": 0.014504551146615285}, \"se_hat\": {\"log_eval\": 0.013749023247335177}, \"context_stratum\": null}, \"26_0\": {\"name\": \"26_0\", \"parameters\": {\"lr\": 0.003984743419781169, \"decay\": 0.0012914146741416816, \"epochs\": 13}, \"y\": {\"log_eval\": 3.733347238741463}, \"y_hat\": {\"log_eval\": 3.7356113178962103}, \"se\": {\"log_eval\": 0.014264735317497002}, \"se_hat\": {\"log_eval\": 0.012813692406234834}, \"context_stratum\": null}, \"27_0\": {\"name\": \"27_0\", \"parameters\": {\"lr\": 0.0044755527574204075, \"decay\": 0.0008770153419057366, \"epochs\": 8}, \"y\": {\"log_eval\": 3.7264986324022074}, \"y_hat\": {\"log_eval\": 3.7264144785823974}, \"se\": {\"log_eval\": 0.014864291049449387}, \"se_hat\": {\"log_eval\": 0.012562192030044762}, \"context_stratum\": null}, \"28_0\": {\"name\": \"28_0\", \"parameters\": {\"lr\": 0.0032933923143772794, \"decay\": 0.0008111133357022278, \"epochs\": 10}, \"y\": {\"log_eval\": 3.7384567502927153}, \"y_hat\": {\"log_eval\": 3.735505943501993}, \"se\": {\"log_eval\": 0.014787002850622144}, \"se_hat\": {\"log_eval\": 0.013741704745970139}, \"context_stratum\": null}, \"29_0\": {\"name\": \"29_0\", \"parameters\": {\"lr\": 0.004072644764672069, \"decay\": 0.002303923665865714, \"epochs\": 11}, \"y\": {\"log_eval\": 3.674461006874313}, \"y_hat\": {\"log_eval\": 3.6818233793582564}, \"se\": {\"log_eval\": 0.01422720213073201}, \"se_hat\": {\"log_eval\": 0.013396689888844116}, \"context_stratum\": null}, \"30_0\": {\"name\": \"30_0\", \"parameters\": {\"lr\": 0.005617095681160452, \"decay\": 0.001755380644007118, \"epochs\": 10}, \"y\": {\"log_eval\": 3.7109245463650287}, \"y_hat\": {\"log_eval\": 3.7040418342189487}, \"se\": {\"log_eval\": 0.01473694664096031}, \"se_hat\": {\"log_eval\": 0.01350830362641773}, \"context_stratum\": null}, \"31_0\": {\"name\": \"31_0\", \"parameters\": {\"lr\": 0.004289613569715087, \"decay\": 0.0008474777542033326, \"epochs\": 10}, \"y\": {\"log_eval\": 3.711955698556763}, \"y_hat\": {\"log_eval\": 3.717579816158988}, \"se\": {\"log_eval\": 0.014083734764292598}, \"se_hat\": {\"log_eval\": 0.012084579122394197}, \"context_stratum\": null}, \"32_0\": {\"name\": \"32_0\", \"parameters\": {\"lr\": 0.002904618553551574, \"decay\": 0.0012288470288522085, \"epochs\": 10}, \"y\": {\"log_eval\": 3.780389147290634}, \"y_hat\": {\"log_eval\": 3.7663707532891655}, \"se\": {\"log_eval\": 0.01403801588972026}, \"se_hat\": {\"log_eval\": 0.012043114284368247}, \"context_stratum\": null}, \"33_0\": {\"name\": \"33_0\", \"parameters\": {\"lr\": 0.0037889689157116543, \"decay\": 0.0012146824301619034, \"epochs\": 9}, \"y\": {\"log_eval\": 3.7206715524645038}, \"y_hat\": {\"log_eval\": 3.740218715667928}, \"se\": {\"log_eval\": 0.01520847912775745}, \"se_hat\": {\"log_eval\": 0.011601950309348758}, \"context_stratum\": null}, \"34_0\": {\"name\": \"34_0\", \"parameters\": {\"lr\": 0.002438642927999432, \"decay\": 0.0025012259718864807, \"epochs\": 13}, \"y\": {\"log_eval\": 3.7753964281598127}, \"y_hat\": {\"log_eval\": 3.772410267049561}, \"se\": {\"log_eval\": 0.01378966104735636}, \"se_hat\": {\"log_eval\": 0.011381358238325735}, \"context_stratum\": null}, \"35_0\": {\"name\": \"35_0\", \"parameters\": {\"lr\": 0.0012440216784983, \"decay\": 0.0021844963220914236, \"epochs\": 12}, \"y\": {\"log_eval\": 3.7413698075164628}, \"y_hat\": {\"log_eval\": 3.7387190545050606}, \"se\": {\"log_eval\": 0.014083385187818898}, \"se_hat\": {\"log_eval\": 0.01350470829525208}, \"context_stratum\": null}, \"36_0\": {\"name\": \"36_0\", \"parameters\": {\"lr\": 0.006013150355723934, \"decay\": 0.0028060288008963583, \"epochs\": 13}, \"y\": {\"log_eval\": 3.6150758151607834}, \"y_hat\": {\"log_eval\": 3.618914966517588}, \"se\": {\"log_eval\": 0.015453840004871315}, \"se_hat\": {\"log_eval\": 0.0140643514660533}, \"context_stratum\": null}, \"37_0\": {\"name\": \"37_0\", \"parameters\": {\"lr\": 0.002683255708419544, \"decay\": 0.001773505945887894, \"epochs\": 11}, \"y\": {\"log_eval\": 3.7520486847518906}, \"y_hat\": {\"log_eval\": 3.7499578074845097}, \"se\": {\"log_eval\": 0.01399213810252053}, \"se_hat\": {\"log_eval\": 0.012124203810283184}, \"context_stratum\": null}, \"38_0\": {\"name\": \"38_0\", \"parameters\": {\"lr\": 0.002245383380378057, \"decay\": 0.0017013206868280336, \"epochs\": 12}, \"y\": {\"log_eval\": 3.755761428899229}, \"y_hat\": {\"log_eval\": 3.754340989915688}, \"se\": {\"log_eval\": 0.014218662641979468}, \"se_hat\": {\"log_eval\": 0.013118753742769803}, \"context_stratum\": null}, \"39_0\": {\"name\": \"39_0\", \"parameters\": {\"lr\": 0.002593592510211966, \"decay\": 0.0035303285210389617, \"epochs\": 14}, \"y\": {\"log_eval\": 3.7421739782912526}, \"y_hat\": {\"log_eval\": 3.7406194259320174}, \"se\": {\"log_eval\": 0.014377097617243583}, \"se_hat\": {\"log_eval\": 0.013461784144573309}, \"context_stratum\": null}, \"40_0\": {\"name\": \"40_0\", \"parameters\": {\"lr\": 0.0034429988535537165, \"decay\": 0.0012532430884026151, \"epochs\": 10}, \"y\": {\"log_eval\": 3.7417956537138988}, \"y_hat\": {\"log_eval\": 3.7371519130691517}, \"se\": {\"log_eval\": 0.014258964679359816}, \"se_hat\": {\"log_eval\": 0.011436052084491817}, \"context_stratum\": null}, \"41_0\": {\"name\": \"41_0\", \"parameters\": {\"lr\": 0.004597064302145103, \"decay\": 0.00129254493547221, \"epochs\": 8}, \"y\": {\"log_eval\": 3.757479496258855}, \"y_hat\": {\"log_eval\": 3.766387300339841}, \"se\": {\"log_eval\": 0.014053111515588359}, \"se_hat\": {\"log_eval\": 0.011891977703225547}, \"context_stratum\": null}, \"42_0\": {\"name\": \"42_0\", \"parameters\": {\"lr\": 0.0026063679668893846, \"decay\": 0.002122253915865578, \"epochs\": 16}, \"y\": {\"log_eval\": 3.757916169016624}, \"y_hat\": {\"log_eval\": 3.7559253500727543}, \"se\": {\"log_eval\": 0.014730960126280057}, \"se_hat\": {\"log_eval\": 0.013404242400849345}, \"context_stratum\": null}, \"43_0\": {\"name\": \"43_0\", \"parameters\": {\"lr\": 0.002160904220770353, \"decay\": 0.0025059118846846645, \"epochs\": 15}, \"y\": {\"log_eval\": 3.75143525026534}, \"y_hat\": {\"log_eval\": 3.751934603531285}, \"se\": {\"log_eval\": 0.013662134405389298}, \"se_hat\": {\"log_eval\": 0.012494355118503489}, \"context_stratum\": null}, \"44_0\": {\"name\": \"44_0\", \"parameters\": {\"lr\": 0.0027091769723221605, \"decay\": 0.001036927347367017, \"epochs\": 7}, \"y\": {\"log_eval\": 3.719411377631989}, \"y_hat\": {\"log_eval\": 3.7253706920599945}, \"se\": {\"log_eval\": 0.01496588906662695}, \"se_hat\": {\"log_eval\": 0.013797301768863656}, \"context_stratum\": null}, \"45_0\": {\"name\": \"45_0\", \"parameters\": {\"lr\": 0.0007273873451560561, \"decay\": 0.007323840961065265, \"epochs\": 17}, \"y\": {\"log_eval\": 3.754299748803738}, \"y_hat\": {\"log_eval\": 3.7528722868349003}, \"se\": {\"log_eval\": 0.013609352138377937}, \"se_hat\": {\"log_eval\": 0.012921948528290697}, \"context_stratum\": null}, \"46_0\": {\"name\": \"46_0\", \"parameters\": {\"lr\": 0.0030079183198763126, \"decay\": 0.0014661394936190625, \"epochs\": 12}, \"y\": {\"log_eval\": 3.721725149736247}, \"y_hat\": {\"log_eval\": 3.7328738156917654}, \"se\": {\"log_eval\": 0.015507392797992183}, \"se_hat\": {\"log_eval\": 0.013119477714442775}, \"context_stratum\": null}, \"47_0\": {\"name\": \"47_0\", \"parameters\": {\"lr\": 0.0027302036324266493, \"decay\": 0.002615729671691876, \"epochs\": 10}, \"y\": {\"log_eval\": 3.806544404335847}, \"y_hat\": {\"log_eval\": 3.78580567872205}, \"se\": {\"log_eval\": 0.013373452148722405}, \"se_hat\": {\"log_eval\": 0.009072998289589159}, \"context_stratum\": null}, \"48_0\": {\"name\": \"48_0\", \"parameters\": {\"lr\": 0.0025249974010564885, \"decay\": 0.0025410187000322456, \"epochs\": 8}, \"y\": {\"log_eval\": 3.7647383412281084}, \"y_hat\": {\"log_eval\": 3.7680305507197405}, \"se\": {\"log_eval\": 0.013665101877774801}, \"se_hat\": {\"log_eval\": 0.01184385283999218}, \"context_stratum\": null}, \"49_0\": {\"name\": \"49_0\", \"parameters\": {\"lr\": 0.002818156640431079, \"decay\": 0.002693597623753263, \"epochs\": 12}, \"y\": {\"log_eval\": 3.7557171367622133}, \"y_hat\": {\"log_eval\": 3.7701429412693934}, \"se\": {\"log_eval\": 0.014307632338815848}, \"se_hat\": {\"log_eval\": 0.011196012058338374}, \"context_stratum\": null}, \"50_0\": {\"name\": \"50_0\", \"parameters\": {\"lr\": 0.0029062328771851335, \"decay\": 0.002520316199161385, \"epochs\": 8}, \"y\": {\"log_eval\": 3.793516557225751}, \"y_hat\": {\"log_eval\": 3.7794067529533057}, \"se\": {\"log_eval\": 0.013679930847354123}, \"se_hat\": {\"log_eval\": 0.010766423849543575}, \"context_stratum\": null}, \"51_0\": {\"name\": \"51_0\", \"parameters\": {\"lr\": 0.0028739319116947606, \"decay\": 0.0031450826461652663, \"epochs\": 8}, \"y\": {\"log_eval\": 3.758040877039798}, \"y_hat\": {\"log_eval\": 3.762294248054489}, \"se\": {\"log_eval\": 0.013870163942519297}, \"se_hat\": {\"log_eval\": 0.012508029273839176}, \"context_stratum\": null}, \"52_0\": {\"name\": \"52_0\", \"parameters\": {\"lr\": 0.002788867139708552, \"decay\": 0.002315431049546887, \"epochs\": 9}, \"y\": {\"log_eval\": 3.746788230975897}, \"y_hat\": {\"log_eval\": 3.7687571870493755}, \"se\": {\"log_eval\": 0.014539532660652015}, \"se_hat\": {\"log_eval\": 0.010305417219479942}, \"context_stratum\": null}}, \"out_of_sample\": {}, \"status_quo_name\": null};\n",
       "const density = 50;\n",
       "const grid_x = [0.0, 0.40816326530612246, 0.8163265306122449, 1.2244897959183674, 1.6326530612244898, 2.0408163265306123, 2.4489795918367347, 2.857142857142857, 3.2653061224489797, 3.673469387755102, 4.081632653061225, 4.4897959183673475, 4.8979591836734695, 5.3061224489795915, 5.714285714285714, 6.122448979591837, 6.530612244897959, 6.938775510204081, 7.346938775510204, 7.755102040816327, 8.16326530612245, 8.571428571428571, 8.979591836734695, 9.387755102040817, 9.795918367346939, 10.204081632653061, 10.612244897959183, 11.020408163265307, 11.428571428571429, 11.83673469387755, 12.244897959183675, 12.653061224489797, 13.061224489795919, 13.46938775510204, 13.877551020408163, 14.285714285714286, 14.693877551020408, 15.10204081632653, 15.510204081632654, 15.918367346938776, 16.3265306122449, 16.73469387755102, 17.142857142857142, 17.551020408163264, 17.95918367346939, 18.367346938775512, 18.775510204081634, 19.183673469387756, 19.591836734693878, 20.0];\n",
       "const grid_y = [0.0001, 0.00010985411419875583, 0.00012067926406393288, 0.00013257113655901095, 0.00014563484775012445, 0.00015998587196060574, 0.00017575106248547912, 0.00019306977288832496, 0.00021209508879201905, 0.00023299518105153718, 0.0002559547922699536, 0.0002811768697974231, 0.00030888435964774815, 0.000339322177189533, 0.0003727593720314938, 0.0004094915062380423, 0.0004498432668969444, 0.0004941713361323833, 0.0005428675439323859, 0.0005963623316594642, 0.0006551285568595509, 0.0007196856730011522, 0.0007906043210907702, 0.000868511373751352, 0.0009540954763499944, 0.0010481131341546852, 0.0011513953993264468, 0.0012648552168552957, 0.0013894954943731374, 0.0015264179671752333, 0.0016768329368110067, 0.0018420699693267163, 0.0020235896477251557, 0.0022229964825261957, 0.0024420530945486497, 0.0026826957952797246, 0.0029470517025518097, 0.0032374575428176433, 0.0035564803062231283, 0.003906939937054613, 0.004291934260128779, 0.00471486636345739, 0.005179474679231213, 0.005689866029018293, 0.0062505519252739694, 0.006866488450042998, 0.007543120063354615, 0.008286427728546842, 0.009102981779915217, 0.01];\n",
       "const f = [3.695044547612394, 3.6948372445632645, 3.6946218145171983, 3.6943979712963686, 3.6941654081729554, 3.693923801864381, 3.693672818718343, 3.693412123414163, 3.6931413904861095, 3.692860318935569, 3.6925686501391817, 3.6922661891764363, 3.691952829589908, 3.691628581452154, 3.691293602443662, 3.6909482314458733, 3.690593023923331, 3.69022878811292, 3.6898566207622783, 3.68947794087381, 3.6890945196299354, 3.6887085044190973, 3.6883224346763455, 3.687939247128601, 3.687562268029461, 3.6871951901213484, 3.686842032412822, 3.6865070814387733, 3.686194813500255, 3.6859097984554245, 3.6856565869186566, 3.6854395841472694, 3.685262915338693, 3.6851302883720964, 3.6850448610311606, 3.685009120263804, 3.685024780928266, 3.6850927106676092, 3.685212886063798, 3.685384383169095, 3.685605403110079, 3.685873330982085, 3.686184823985972, 3.686535922953951, 3.68692218023716, 3.6873387964542546, 3.687780758796665, 3.688242974340301, 3.6887203929635914, 3.6892081158394485, 3.6932442485701253, 3.692969900239806, 3.6926892335837898, 3.692402254230595, 3.6921089163679763, 3.6918091202449945, 3.6915027124544677, 3.691189489583289, 3.6908692058029224, 3.6905415849310748, 3.6902063374240273, 3.6898631826535255, 3.689511876678891, 3.6891522455410954, 3.688784223878716, 3.688407898394813, 3.6880235553894463, 3.687631731217491, 3.6872332641416223, 3.6868293456359025, 3.6864215687720523, 3.6860119709107626, 3.6856030675555123, 3.685197873946905, 3.6847999108321576, 3.684413190896543, 3.684042182656132, 3.6836917492477257, 3.683367060564279, 3.683073478597895, 3.6828164176493368, 3.682601183163221, 3.682432795197306, 3.682315804701979, 3.682254112580679, 3.6822508026091825, 3.682307999431318, 3.6824267618433204, 3.6826070194139704, 3.68284755734301, 3.6831460506983094, 3.683499145276278, 3.683902578809907, 3.6843513335376743, 3.684839809520622, 3.6853620076358395, 3.6859117117807854, 3.686482661257962, 3.6870687062693452, 3.687663941627264, 3.690616269614187, 3.690258845683233, 3.68990138146615, 3.689544677537204, 3.6891894317667666, 3.6888362220907447, 3.688485492904248, 3.6881375461074444, 3.6877925377894414, 3.6874504814487823, 3.6871112585143506, 3.6867746367469776, 3.6864402968699146, 3.6861078674967787, 3.6857769681010666, 3.685447259405521, 3.685118500167656, 3.6847906089065416, 3.684463728664906, 3.6841382924424213, 3.6838150864879533, 3.683495308223549, 3.683180615221607, 3.6828731614078434, 3.682575616564539, 3.6822911653172286, 3.682023482164778, 3.681776679817401, 3.681555229187845, 3.681363850859815, 3.6812073797137317, 3.681090606541123, 3.681018102769835, 3.6809940366214717, 3.6810219908387314, 3.6811047932398875, 3.6812443715015775, 3.681441642563262, 3.6816964448738756, 3.6820075185447965, 3.6823725346966225, 3.6827881713747144, 3.683250229870579, 3.683753782556685, 3.684293341697984, 3.684863038226553, 3.68545680005518, 3.6860685209255455, 3.68669221273315, 3.6873221364370496, 3.686760878672796, 3.686289144757, 3.6858303273544144, 3.685386818124192, 3.6849607948673793, 3.684554171379375, 3.684168553469778, 3.683805203314654, 3.683465014107328, 3.6831484966625485, 3.682855779218124, 3.6825866211871126, 3.6823404410661964, 3.682116358127816, 3.681913246940603, 3.6817298031978147, 3.6815646188064988, 3.68141626371658, 3.681283371560979, 3.6811647258448468, 3.6810593431730667, 3.680966549850522, 3.680886048142622, 3.680817968561747, 3.68076290477071, 3.680721928092559, 3.6806965792129955, 3.680688835478802, 3.6807010532427555, 3.680735885972099, 3.680796180283949, 3.68088485362051, 3.6810047588133292, 3.6811585421572084, 3.6813485026473045, 3.681576460556286, 3.6818436434046835, 3.6821505965360903, 3.682497123971635, 3.6828822631102054, 3.683304294379375, 3.6837607844034914, 3.684248658928975, 3.684764299883204, 3.6853036597142617, 3.6858623856347545, 3.686435946543773, 3.6870197561154154, 3.687609286658565, 3.6882001696925144, 3.681186454250211, 3.680539276451467, 3.679927405408476, 3.679356196636233, 3.678830539540904, 3.6783547266234446, 3.677932336639127, 3.6775661378269966, 3.6772580165259905, 3.677008935261475, 3.676818922812496, 3.676687096993651, 3.6766117190671332, 3.6765902770011194, 3.6766195933483328, 3.6766959524312424, 3.6768152408366666, 3.676973094942594, 3.677165049283623, 3.6773866799417148, 3.6776337377475765, 3.6779022668186916, 3.6781887047785573, 3.678489961851492, 3.6788034768803013, 3.679127249158272, 3.6794598458014693, 3.67980038521608, 3.6801484980407686, 3.6805042677600928, 3.6808681539743544, 3.681240902041876, 3.681623443436049, 3.682016791626429, 3.682421938542981, 3.682839756664695, 3.683270911455255, 3.683715788243436, 3.6841744367418237, 3.6846465352759386, 3.6851313755471895, 3.6856278674856235, 3.68613456257344, 3.6866496930366988, 3.6871712235838836, 3.6876969119554803, 3.688224374441928, 3.688751152699213, 3.689274778588859, 3.68979283432496, 3.673539199485151, 3.67260947234157, 3.6717495625151733, 3.670970490451585, 3.670282329235024, 3.669693857638671, 3.6692122443721265, 3.668842785425417, 3.6685887139049456, 3.6684510968468724, 3.6684288266825957, 3.6685187072170593, 3.668715626274041, 3.6690128006392944, 3.66940207439863, 3.669874249611462, 3.670419428424639, 3.671027347802649, 3.671687691409682, 3.6723903671647697, 3.673125743025139, 3.6738848372131367, 3.6746594621413577, 3.675442323616691, 3.676227078539928, 3.6770083553571373, 3.6777817420879955, 3.678543746983249, 3.6792917368617344, 3.6800238580351805, 3.6807389445074445, 3.681436417869552, 3.6821161830178957, 3.6827785235005335, 3.683423999937571, 3.6840533545557395, 3.6846674244167628, 3.6852670654027526, 3.6858530884573035, 3.686426208984719, 3.6869870097063355, 3.6875359166915653, 3.6880731877527855, 3.6885989119456863, 3.6891130185722876, 3.6896152938560207, 3.6901054033508487, 3.6905829181534857, 3.691047343095336, 3.691498145278798, 3.664273726999213, 3.6629149358636863, 3.6616707036467346, 3.660562763752561, 3.6596113447641123, 3.6588342354012924, 3.6582458793295944, 3.657856589756492, 3.657671973605647, 3.6576926372180134, 3.657914211271439, 3.65832768913321, 3.658920031035484, 3.6596749564681685, 3.6605738345430665, 3.6615965863442086, 3.662722529544952, 3.663931117379496, 3.6652025458318644, 3.6665182211392784, 3.667861092963652, 3.6692158669124413, 3.670569114327044, 3.67190929849959, 3.673226735764864, 3.6745135080823057, 3.6757633413828743, 3.6769714615111484, 3.6781344372867606, 3.679250018166826, 3.680316972259699, 3.6813349290184254, 3.6823042298002577, 3.6832257885741333, 3.6841009643452463, 3.6849314463015146, 3.6857191522335677, 3.6864661404081565, 3.6871745347628244, 3.6878464630228907, 3.688484007112263, 3.689089165034106, 3.6896638232361227, 3.690209738350026, 3.6907285271079795, 3.691221663191846, 3.691690479764089, 3.692136176460227, 3.692559829688118, 3.692962405173645, 3.6558171160072503, 3.6539514230488668, 3.652238565760014, 3.650716510125971, 3.6494223251815483, 3.648390036335322, 3.6476481640308163, 3.647217244823217, 3.6471077973862536, 3.647319237207755, 3.6478400530044164, 3.648649185856378, 3.64971821653338, 3.6510138494761346, 3.652500274958418, 3.6541411672143314, 3.6559012310442176, 3.6577473069325697, 3.65964909212541, 3.661579550665809, 3.663515084175019, 3.6654355265946084, 3.667324015234053, 3.6691667797466514, 3.670952881123035, 3.6726739247749767, 3.6743237652767484, 3.675898215187375, 3.67739476639627, 3.6788123294145616, 3.6801509937885646, 3.6814118111777865, 3.6825966014803155, 3.6837077815902273, 3.68474821584337, 3.685721086876935, 3.686629785438158, 3.6874778175853873, 3.6882687276985635, 3.6890060357330037, 3.689693187194198, 3.6903335143715816, 3.6909302074393264, 3.691486294108349, 3.6920046265939637, 3.692487874747123, 3.6929385242835635, 3.6933588791341867, 3.6937510670312386, 3.694117047537611, 3.6528012321640024, 3.6507051950976344, 3.648772424363942, 3.6470499629543767, 3.645585688636494, 3.6444257147978925, 3.6436107812662284, 3.64317166269601, 3.6431243219475893, 3.6434667711173887, 3.644179667509424, 3.6452302024776113, 3.6465769958549425, 3.6481744016706044, 3.6499757830607766, 3.651935823039113, 3.654012056682394, 3.656165807806062, 3.658362683763816, 3.6605727507587233, 3.6627704848531093, 3.6649345715454573, 3.667047608911426, 3.6690957551891406, 3.6710683506483175, 3.6729575350273866, 3.6747578752573125, 3.6764660132075635, 3.678080339456416, 3.679600696334993, 3.681028111504798, 3.682364561927408, 3.6836127671329635, 3.6847760100802556, 3.6858579835381855, 3.686862659737756, 3.6877941809926034, 3.688656769023926, 3.6894546508219825, 3.690191999008584, 3.6908728848168115, 3.6915012419641413, 3.692080839855366, 3.6926152647072517, 3.6931079073346655, 3.693561956476418, 3.693980396667652, 3.6943660097842423, 3.6947213794936906, 3.695048897946904, 3.657951889537466, 3.6562152159039205, 3.65463080989682, 3.6532351111719583, 3.652063522760573, 3.651148345848168, 3.650516445209528, 3.650186931216543, 3.650169282790127, 3.6504623586350915, 3.6510545692583856, 3.651925158250385, 3.6530462470898413, 3.654385184712695, 3.6559068124803957, 3.6575754064581476, 3.6593562004862745, 3.6612164882586127, 3.663126352111911, 3.6650590849456712, 3.666991373182067, 3.668903302009168, 3.6707782344977136, 3.6726026061840353, 3.6743656675725838, 3.6760591991765557, 3.6776772172557344, 3.679215683228043, 3.6806722256610533, 3.682045880612941, 3.683336853719869, 3.684546305668487, 3.685676161420037, 3.686728942659861, 3.687707622345483, 3.6886154998474443, 3.689456094963387, 3.6902330589931096, 3.6909501010557992, 3.6916109278836595, 3.692219195418378, 3.6927784706530846, 3.693292202291422, 3.6937636989290477, 3.694196113595658, 3.6945924336236957, 3.69495547493087, 3.695287879916067, 3.695592118271541, 3.6958704901082338, 3.668033777543737, 3.6668951511270387, 3.665870891525048, 3.6649809528811375, 3.664243739755114, 3.6636752369795977, 3.663288174718729, 3.6630913111756565, 3.663088914187042, 3.663280506069488, 3.663660904913262, 3.6642205564076513, 3.664946112637923, 3.665821186945404, 3.6668272018387427, 3.667944249962504, 3.669151902236067, 3.670429916889169, 3.67175882323104, 3.6731203712730096, 3.6744978512615156, 3.675876295616691, 3.677242580340916, 3.678585444594866, 3.6798954467688962, 3.681164873790602, 3.6823876181979136, 3.6835590350819447, 3.684675788627148, 3.685735695799548, 3.6867375728311447, 3.687681088543838, 3.6885666272422837, 3.689395162857587, 3.6901681452101194, 3.6908873986449127, 3.6915550328429885, 3.692173365295331, 3.6927448547154906, 3.6932720445384577, 3.693757515587789, 3.6942038469738607, 3.694613584300617, 3.6949892142959637, 3.6953331450340547, 3.6956476909800493, 3.695935062154845, 3.696197356785535, 3.696436556874492, 3.696654526184403, 3.678303549242373, 3.6776553092921564, 3.677079443826614, 3.676585426381979, 3.6761817353923547, 3.675875542269304, 3.6756724319151846, 3.6755761753852516, 3.6755885718761117, 3.675709372538133, 3.6759362922630503, 3.6762651084028666, 3.676689838332357, 3.6772029818416843, 3.6777958102661135, 3.6784586823840244, 3.679181367402354, 3.6799533574333854, 3.680764155185786, 3.6816035265302025, 3.6824617116030796, 3.68332959176278, 3.684198812748027, 3.685061866694229, 3.6859121372364596, 3.686743912842807, 3.6875523738934284, 3.6883335589773587, 3.6890843155442505, 3.6898022395291066, 3.6904856079516066, 3.691133307843616, 3.691744764225375, 3.692319869263179, 3.6928589142166133, 3.6933625253296367, 3.6938316044383357, 3.6942672747556737, 3.6946708320441934, 3.695043701193949, 3.695387398077163, 3.69570349644547, 3.695993599562977, 3.696259316222228, 3.6965022407649455, 3.6967239367203097, 3.6969259236765084, 3.697109667013163, 3.6972765701402754, 3.6974279689115357, 3.686399854561697, 3.6860719040987684, 3.685785809895317, 3.6855457921387824, 3.685355545537477, 3.6852181281211243, 3.6851358649810253, 3.6851102720796964, 3.685142004374829, 3.685230831244137, 3.685375640666573, 3.6855744719492134, 3.6858245751444536, 3.6861224938323893, 3.6864641667768456, 3.6868450431878728, 3.687260205975777, 3.6877044974494093, 3.688172642339839, 3.6886593637361016, 3.6891594884048025, 3.6896680389324223, 3.690180311091776, 3.690691935723902, 3.6911989251965482, 3.691697705123939, 3.6921851325012427, 3.69265850172671, 3.693115540170103, 3.693554395018614, 3.693973613114079, 3.694372115410674, 3.6947491675512296, 3.6951043479005827, 3.6954375142004814, 3.6957487698336298, 3.6960384305125915, 3.696306992048027, 3.696555099703575, 3.6967835195133736, 3.6969931118234176, 3.697184807219407, 3.697359584920691, 3.6975184536512486, 3.6976624349430613, 3.697792548783388, 3.697909801483946, 3.6980151756256086, 3.698109621915579, 3.6981940527840975, 3.6919929607313104, 3.691858215955704, 3.6917472067892647, 3.691661715315472, 3.6916032525211055, 3.691573016854301, 3.6915718590982523, 3.6916002550713998, 3.6916582873852866, 3.691745637131379, 3.691861585950237, 3.6920050284881216, 3.6921744947979365, 3.692368181823668, 3.6925839927469895, 3.6928195826926102, 3.693072409098715, 3.6933397849656315, 3.6936189331970173, 3.693907040333789, 3.694201308137258, 3.694499001687046, 3.6947974929029024, 3.695094298659981, 3.695387112928861, 3.6956738326220187, 3.6959525770579575, 3.696221701156543, 3.696479802650422, 3.6967257237365376, 3.696958547698814, 3.6971775911097473, 3.697382392267069, 3.6975726965446682, 3.697748439337517, 3.697909727261549, 3.6980568182343667, 3.6981901010144513, 3.6983100747182363, 3.6984173287689424, 3.69851252366132, 3.6985963728550217, 3.6986696260386664, 3.6987330539388554, 3.698787434785168, 3.6988335424849645, 3.69887213651151, 3.6989039534662105, 3.6989297002407473, 3.6989500486775624, 3.6955900227458836, 3.6955720546564734, 3.6955685656726014, 3.695580242694886, 3.6956076149066517, 3.695651035699717, 3.695710667435167, 3.6957864696242844, 3.69587819103311, 3.695985366108949, 3.6961073160028106, 3.696243154323511, 3.696391797612866, 3.6965519803833065, 3.6967222744152397, 3.6969011118771884, 3.6970868117118023, 3.697277608629261, 3.6974716839693453, 3.697667197636793, 3.6978623202829692, 3.6980552649012663, 3.698244317024295, 3.6984278627575717, 3.698604413956028, 3.6987726299445383, 3.698931335298946, 3.6990795333360307, 3.6992164151045324, 3.699341363819018, 3.699453954827439, 3.699553951345015, 3.699641296314963, 3.6997161008647916, 3.6997786299107425, 3.6998292855194093, 3.69986858866339, 3.699897160007483, 3.6999157003357457, 3.6999249711812783, 3.6999257761544913, 3.699918943387113, 3.6999053094235177, 3.6998857048032083, 3.6998609414928496, 3.699831802246803, 3.6997990319043796, 3.6997633305717805, 3.6997253485878865, 3.6996856831358396, 3.697815966633649, 3.697871802734079, 3.697938193545368, 3.6980153502253996, 3.6981033666104035, 3.6982022076005983, 3.6983116990271454, 3.6984315193898087, 3.698561193848386, 3.6987000908329417, 3.6988474216068443, 3.699002243071506, 3.6991634640415065, 3.699329855142839, 3.6995000623951477, 3.6996726244316687, 3.699845993189754, 3.7000185577733413, 3.7001886710509404, 3.7003546784147954, 3.700514947996414, 3.7006679015194393, 3.7008120448823254, 3.7009459975096637, 3.7010685195002524, 3.701178535637864, 3.701275155419461, 3.701357688393823, 3.7014256542851123, 3.701478787590882, 3.7015170365788252, 3.7015405568456865, 3.701549699828975, 3.7015449968623235, 3.701527139525999, 3.7014969571564653, 3.7014553924386018, 3.701403476011443, 3.7013423009773354, 3.7012729981227404, 3.701196712546247, 3.7011145822563645, 3.7010277191589642, 3.700937192711458, 3.700844016386027, 3.700749136963472, 3.7006534265767135, 3.7005576773406523, 3.7004625983435644, 3.700368814733504, 3.699149729870345, 3.6992527083328817, 3.6993649886437066, 3.6994865869463056, 3.6996174113537013, 3.6997572508913708, 3.6999057653463256, 3.7000624764111607, 3.700226760544469, 3.700397843992824, 3.700574800430875, 3.700756551670783, 3.7009418718659135, 3.7011293955821403, 3.7013176300295756, 3.7015049716355617, 3.7016897269955424, 3.7018701380638404, 3.7020444112462143, 3.702210749838909, 3.702367389036744, 3.7025126325210267, 3.702644889454445, 3.702762710573066, 3.7028648219926303, 3.702950155351363, 3.7030178730028496, 3.7030673871509374, 3.703098372076446, 3.70311076892663, 3.703104782899746, 3.703080873030874, 3.703039735142181, 3.70298227883359, 3.702909599636149, 3.7028229476151675, 3.7027236937869974, 3.7026132957041256, 3.702493263477376, 3.7023651273563125, 3.702230407797392, 3.7020905887329243, 3.7019470945302877, 3.70180127091542, 3.7016543699391526, 3.701507538897665, 3.70136181298359, 3.7012181113434566, 3.7010772361489748, 3.700939874251084, 3.6998993913322287, 3.7000287467090853, 3.7001669745993495, 3.7003140093442437, 3.7004696788912894, 3.7006336933151216, 3.7008056339926125, 3.7009849438411937, 3.7011709190807736, 3.701362703023689, 3.701559282428792, 3.701759486969551, 3.7019619923559106, 3.7021653276093462, 3.7023678869144807, 3.7025679463541983, 3.702763685676039, 3.702953215036445, 3.7031346064308113, 3.7033059292507104, 3.703465289129546, 3.7036108689635627, 3.703740970749572, 3.703854056688823, 3.7039487878922044, 3.7040240590054574, 3.7040790271672064, 3.7041131339202313, 3.7041261190089387, 3.704118025393086, 3.704089195259293, 3.704040257280834, 3.7039721058236887, 3.7038858731864064, 3.7037828962637382, 3.703664679220096, 3.7035328538412533, 3.7033891392054814, 3.7032353021922377, 3.7030731201483142, 3.702904346782337, 3.7027306820835455, 3.7025537467825793, 3.7023750616094575, 3.7021960313709914, 3.7020179336754055, 3.7018419119801815, 3.701668972530271, 3.701499984685156, 3.7013356840999383, 3.7002660484543517, 3.7004043402118127, 3.7005508753872953, 3.700705536349618, 3.7008681038992477, 3.701038246592944, 3.701215510685333, 3.7013993110793946, 3.70158892372789, 3.701783479970264, 3.7019819633197617, 3.702183209228122, 3.7023859083443877, 3.702588613744347, 3.70278975253254, 3.702987642105565, 3.7031805112116083, 3.70336652574762, 3.7035438190071495, 3.7037105258377627, 3.703864819901123, 3.704004952969537, 3.704129294961771, 3.704236373241467, 3.7043249095958757, 3.704393853299364, 3.704442408756937, 3.7044700564202357, 3.7044765659638696, 3.7044620010843974, 3.7044267157096735, 3.704371341848267, 3.7042967697310045, 3.7042041212654797, 3.7040947181122106, 3.7039700458799327, 3.703831716020005, 3.7036814269794878, 3.7035209260614605, 3.7033519732586084, 3.703176308094416, 3.7029956202486347, 3.702811524481421, 3.7026255401214505, 3.702439075160919, 3.7022534148132773, 3.7020697142421635, 3.701888995062871, 3.70171214514857, 3.701539921238076, 3.7004121181348126, 3.700548311363918, 3.7006917831160835, 3.700842367891673, 3.700999808083663, 3.7011637454192514, 3.7013337131007997, 3.701509128980944, 3.701689290140557, 3.7018733692639323, 3.7020604132194506, 3.70224934425213, 3.7024389641728184, 3.7026279618835862, 3.7028149245070074, 3.7029983522865755, 3.7031766772962964, 3.7033482858416447, 3.703511544256413, 3.703664827608424, 3.7038065506324136, 3.7039352000241412, 3.704049367071061, 3.704147779477288, 3.70422933117852, 3.7042931089472937, 3.7043384146669798, 3.704364782304571, 3.7043719888309683, 3.7043600586097667, 3.7043292610824254, 3.704280101896403, 3.7042133079292396, 3.7041298069330892, 3.704030702742063, 3.7039172471359834, 3.703790809532518, 3.7036528456857956, 3.703504866510158, 3.703348408034041, 3.7031850033353044, 3.7030161571310103, 3.702843323506472, 3.702667887083435, 3.7024911477559543, 3.702314308972446, 3.7021384694181045, 3.701964617855273, 3.7017936308102524, 3.7016262727513896, 3.700495086513119, 3.7006289065919717, 3.7007692739087292, 3.70091598796247, 3.7010687647236, 3.7012272300893247, 3.701390914113216, 3.7015592462802713, 3.701731552115975, 3.7019070514268826, 3.7020848584688, 3.7022639843243144, 3.702443341742062, 3.702621752643973, 3.7027979584426403, 3.7029706332289063, 3.7031383997907836, 3.703299848311536, 3.7034535574712875, 3.7035981175486814, 3.7037321549940434, 3.703854357831502, 3.7039635011533254, 3.7040584719039114, 3.704138292120823, 3.7042021398115326, 3.704249366699832, 3.7042795121746543, 3.7042923129122394, 3.704287707812642, 3.7042658380832, 3.7042270425024926, 3.7041718480954176, 3.7041009566307777, 3.704015227506181, 3.703915657702835, 3.703803359569758, 3.703679537231403, 3.703545462406138, 3.703402450379944, 3.703251836806331, 3.703094955907652, 3.7029331205427742, 3.702767604489353, 3.702599627172765, 3.7024303409640344, 3.7022608210701358, 3.7020920579550336, 3.701924952160264, 3.7017603113403155, 3.7006655976423, 3.7008097217448293, 3.7009608109467353, 3.701118664528668, 3.70128299679243, 3.7014534304212474, 3.701629490583899, 3.701810600040359, 3.7019960755218753, 3.7021851256663707, 3.7023768507886725, 3.7025702447524678, 3.702764199185179, 3.7029575102368755, 3.7031488880289136, 3.7033369688672515, 3.7035203302100523, 3.7036975082813175, 3.7038670181149227, 3.7040273757009716, 3.7041771217942014, 3.704314846838604, 3.7044392163702593, 3.7045489961884677, 3.7046430765399507, 3.704720494547408, 3.7047804541355993, 3.704822342766765, 3.7048457443915153, 3.704850448147643, 3.7048364524914996, 3.704803964616523, 3.704753395191547, 3.7046853486274913, 3.704600609244766, 3.7045001238562154, 3.704384981394318, 3.704256390291488, 3.704115654366197, 3.703964147975132, 3.7038032911651535, 3.7036345255026695, 3.7034592911779853, 3.703279005884794, 3.7030950458671406, 3.7029087294145215, 3.7027213029762147, 3.7025339299634146, 3.702347682216096, 3.7021635340333363, 3.7010480657143203, 3.7012274020421896, 3.7014162917674507, 3.7016146114044024, 3.7018221334806123, 3.702038515509386, 3.7022632893717176, 3.7024958514394437, 3.7027354538167208, 3.702981197118324, 3.7032320252374373, 3.703486722578902, 3.7037439142422777, 3.704002069628096, 3.7042595099060485, 3.7045144197214728, 3.704764863423163, 3.7050088059693724, 3.705244138509969, 3.705468708453644, 3.70568035361555, 3.705876939811721, 3.7060564010345303, 3.706216781123523, 3.706356275655683, 3.7064732726366194, 3.7065663904963118, 3.7066345118938036, 3.706676811923279, 3.7066927794911733, 3.7066822308941956, 3.7066453149573446, 3.706582509467853, 3.70649460903913, 3.7063827049292866, 3.7062481576934583, 3.706092563843339, 3.705917717902687, 3.705725571373387, 3.705518190160685, 3.7052977119538957, 3.7050663049321955, 3.7048261289804767, 3.7045793003764405, 3.704327860666211, 3.7040737501992784, 3.703818786559429, 3.703564647917787, 3.7033128611549158, 3.703064794455188, 3.7017160942859126, 3.701964239205244, 3.702227683510058, 3.7025065487142563, 3.702800817320747, 3.703110311090905, 3.7034346685040758, 3.7037733218357056, 3.7041254744069656, 3.7044900786952373, 3.7048658161397467, 3.7052510796240368, 3.7056439597581607, 3.7060422362069816, 3.7064433754019572, 3.7068445360146205, 3.7072425835404843, 3.7076341152211727, 3.7080154963000256, 3.7083829082459943, 3.7087324090839116, 3.709060005339672, 3.70936173436622, 3.7096337549997997, 3.709872443665335, 3.7100744922834457, 3.710237003719627, 3.7103575801502755, 3.710434399679403, 3.7104662768747767, 3.71045270361209, 3.7103938676805703, 3.710290647924412, 3.7101445861444606, 3.7099578374162236, 3.709733101748697, 3.7094735409935664, 3.7091826855374523, 3.7088643355422666, 3.708522461360184, 3.7081611072991616, 3.7077843022365, 3.7073959797653857, 3.706999909702406, 3.706599641958551, 3.7061984630385054, 3.7057993648186462, 3.7054050247792807, 3.7050177965319384, 3.704639709277114, 3.702664368819287, 3.7030159741011834, 3.7033922956726575, 3.70379398981933, 3.704221541012642, 3.7046752236032896, 3.7051550598249623, 3.7056607743779555, 3.7061917460766605, 3.706746957312935, 3.7073249424140102, 3.7079237363615243, 3.7085408257855996, 3.7091731046462266, 3.70981683754541, 3.7104676341464375, 3.7111204386633094, 3.7117695387559166, 3.712408598335312, 3.7130307186381715, 3.7136285313464246, 3.714194326383624, 3.7147202152159484, 3.715198327985075, 3.7156210396680023, 3.7159812169052366, 3.7162724735430883, 3.7164894198348937, 3.716627888267142, 3.716685118710921, 3.716659887436392, 3.716552568499811, 3.716365121710361, 3.7161010080008947, 3.7157650395304223, 3.715363177231255, 3.7149022920441954, 3.7143899074433824, 3.7138339401538856, 3.713242453656253, 3.7126234357668566, 3.711984607901569, 3.7113332700845167, 3.710676182700841, 3.710019483592763, 3.709368637404383, 3.708728413040091, 3.7081028846087296, 3.7074954511549327, 3.706908870707318, 3.703786367929602, 3.704264313501744, 3.704779115811268, 3.7053322648175175, 3.7059250737155893, 3.706558624415967, 3.7072337053469213, 3.7079507411994053, 3.7087097144090087, 3.7095100784272854, 3.7103506631994265, 3.7112295737650323, 3.7121440835658657, 3.713090524913828, 3.7140641801785628, 3.715059178626098, 3.7160684054921953, 3.717083431791781, 3.718094475482825, 3.7190904067694, 3.720058812267465, 3.7209861340112265, 3.721857899160184, 3.7226590538372673, 3.723374408658928, 3.7239891931304223, 3.724489700655258, 3.7248639862918327, 3.7251025586684063, 3.725198991295515, 3.7251503740064935, 3.7249575379995834, 3.724625018232315, 3.7241607578066827, 3.7235755985861974, 3.7228826293209933, 3.722096471513116, 3.721232575737087, 3.720306583349302, 3.7193337874869314, 3.718328708154331, 3.7173047816135307, 3.716274154742088, 3.7152475698173903, 3.7142343232177666, 3.713242281698179, 3.7122779413117795, 3.711346516068234, 3.710452045625385, 3.7095975134497805, 3.704888270586367, 3.705490065140058, 3.706140456081838, 3.7068417418843453, 3.70759605284838, 3.7084052868504283, 3.709271034953555, 3.7101944959483646, 3.711176378922093, 3.712216793035794, 3.7133151238451787, 3.7144698957617583, 3.71567862066104, 3.7169376332617268, 3.718241914800598, 3.7195849078102965, 3.720958326595619, 3.7223519704504815, 3.7237535499448122, 3.725148540947951, 3.7265200866695456, 3.7278489751061623, 3.729113728016305, 3.7302908477931025, 3.731355279595475, 3.732281155471493, 3.7330428888808354, 3.733616668033507, 3.7339823276039628, 3.734125424635395, 3.7340391084031324, 3.7337251978616934, 3.7331940259765126, 3.7324631081035395, 3.7315551404832563, 3.730495899460226, 3.7293124035116865, 3.728031474764543, 3.7266787017769727, 3.725277748693903, 3.7238499414552555, 3.7224140652956073, 3.720986317411286, 3.719580369331149, 3.718207503302906, 3.716876795319858, 3.715595324216356, 3.714368391701345, 3.7131997424804606, 3.7120917769403974, 3.7057647463427297, 3.70645994721368, 3.7072112156861285, 3.708021090326255, 3.708891890202239, 3.709825640270002, 3.7108239864334887, 3.711888099654931, 3.7130185685645927, 3.7142152801193884, 3.7154772879931626, 3.716802668561582, 3.718188364594445, 3.719630017125427, 3.7211217864935286, 3.722656164331754, 3.7242237794466595, 3.725813202266338, 3.7274107550698297, 3.729000338844693, 3.730563292709758, 3.7320783088028677, 3.733521434838072, 3.7348662087051885, 3.73608398510061, 3.737144533910873, 3.738017014709663, 3.7386714621946773, 3.7390809543789594, 3.739224673488642, 3.739091973201928, 3.7386860758278697, 3.7380234887753545, 3.7371298446829795, 3.7360359168944166, 3.7347746685469594, 3.7333791662050917, 3.731881157379922, 3.730310149904047, 3.7286928656061136, 3.72705296866528, 3.725410991382208, 3.7237843979062553, 3.722187740576769, 3.720632874682396, 3.719129206197119, 3.7176839538880113, 3.716302412491475, 3.7149882077335787, 3.713743537078332, 3.706303702073633, 3.707049532140862, 3.707853387294513, 3.7087173501805686, 3.709643150964492, 3.7106320757652167, 3.7116848654874914, 3.712801605505359, 3.7139816070512386, 3.71522328163589, 3.716524010359462, 3.717880010563056, 3.7192862029003266, 3.7207360825661575, 3.7222215990991065, 3.723733049892094, 3.725258993358629, 3.726786188730565, 3.728299570911966, 3.729782270969782, 3.731215696033882, 3.732579686855638, 3.7338527769722814, 3.735012583582272, 3.7360363648324837, 3.7369017772534074, 3.737587853974512, 3.7380761903983935, 3.738352262165885, 3.7384067151920197, 3.7382363897588937, 3.73784482679327, 3.7372420997791296, 3.7364439959752627, 3.7354707400040676, 3.7343455253169857, 3.733093087019086, 3.7317384651662455, 3.7303060237773584, 3.7288187319078303, 3.727297680725617, 3.7257617971679173, 3.7242277125559156, 3.7227097479052618, 3.721219983254222, 3.7197683843654956, 3.7183629657955994, 3.7170099742274183, 3.7157140800450374, 3.7144785684357107, 3.706540951341953, 3.7073051496563365, 3.7081263222467427, 3.709005932201811, 3.7099449686296073, 3.7109438426446686, 3.7120022753114714, 3.7131191792873937, 3.714292536708121, 3.715519276787528, 3.716795157643287, 3.718114657968304, 3.7194708852767357, 3.7208555084551, 3.7222587230956923, 3.723669258393955, 3.725074434044753, 3.7264602743824633, 3.727811684864684, 3.7291126929470977, 3.730346751708063, 3.7314971007402415, 3.7325471753941697, 3.7334810528058755, 3.734283921160796, 3.734942556669221, 3.735445789835109, 3.7357849383135213, 3.7359541786557267, 3.735950825593695, 3.7357754880100567, 3.7354320775557635, 3.734927659209607, 3.7342721505853387, 3.733477894351898, 3.732559141482611, 3.7315314894666147, 3.7304113186867167, 3.729215263459718, 3.727959744294946, 3.7266605772547945, 3.7253326667180695, 3.7239897803227024, 3.7226443996566534, 3.7213076371753684, 3.7199892084336654, 3.7186974485621422, 3.7174393625696345, 3.7162207001734164, 3.715046047196023, 3.7066409822766224, 3.707415836096218, 3.708247323579132, 3.70913674085571, 3.7100848922716256, 3.7110919847550043, 3.712157514306147, 3.7132801467625067, 3.714457595976101, 3.715686503672728, 3.716962326502576, 3.718279237067409, 3.7196300469059267, 3.721006160372472, 3.722397568840044, 3.7237928944397716, 3.72517949134486, 3.7265436101883647, 3.727870627470324, 3.7291453368965577, 3.7303522939654647, 3.731476199596267, 3.732502304208716, 3.7334168113792696, 3.7342072605089616, 3.7348628706057587, 3.735374831378983, 3.735736532143058, 3.7359437225712986, 3.7359946018126977, 3.7358898342254787, 3.73563249166551, 3.735227924484889, 3.734683566356297, 3.7340086815068534, 3.733214066368981, 3.732311720387255, 3.7313145022291203, 3.7302357876606638, 3.7290891438953087, 3.7278880325931385, 3.7266455503356006, 3.725374211826052, 3.724085777715391, 3.7227911261421, 3.721500164973493, 3.7202217803662085, 3.718963816552814, 3.7177330815738747, 3.716535373860012, 3.7068492210173596, 3.707654593164231, 3.708519258136874, 3.709445020057226, 3.710433318611784, 3.7114851354668486, 3.7126008884245754, 3.7137803135775957, 3.7150223365621224, 3.7163249351264356, 3.7176849966273986, 3.7190981757085364, 3.720558759213933, 3.7220595472040654, 3.723591760547119, 3.7251449866893553, 3.7267071755587757, 3.7282646968457005, 3.729802467935089, 3.7313041584940208, 3.7327524732996236, 3.7341295096868135, 3.735417180507025, 3.736597688262472, 3.7376540315759454, 3.7385705216706393, 3.7393332842053466, 3.7399307207019925, 3.7403539040231277, 3.7405968841263086, 3.7406568839347707, 3.740534370848572, 3.740232997155457, 3.739759411959804, 3.7391229573414715, 3.7383352709930673, 3.737409825061214, 3.736361434936437, 3.735205771413367, 3.7339589049943505, 3.7326369032031543, 3.7312554924714094, 3.72982978748346, 3.7283740843155164, 3.7269017098714077, 3.7254249187375605, 3.7239548289056006, 3.72250138901214, 3.7210733711728774, 3.7196783847582067, 3.707440086241602, 3.708321798536196, 3.7092679175983747, 3.7102808893104, 3.711363034255692, 3.7125165024790587, 3.713743212847165, 3.715044771988454, 3.71642236719166, 3.71787662746727, 3.7194074475058883, 3.721013770822544, 3.722693331276016, 3.7244423566383977, 3.726255244017361, 3.7281242244420754, 3.730039042124581, 3.7319866816344267, 3.7339511819116264, 3.735913577985603, 3.737852008033878, 3.7397420143185083, 3.741557051992245, 3.7432692013217785, 3.744850058883893, 3.7462717642913628, 3.7475081031146846, 3.7485356152598683, 3.7493346318927063, 3.74989016359601, 3.750192568462724, 3.750237941998702, 3.7500281913585547, 3.749570783853209, 3.7488781917440996, 3.747967088589499, 3.746857381951938, 3.7455711865953054, 3.7441318439307767, 3.7425630727672368, 3.7408882974894984, 3.739130156785646, 3.737310165007844, 3.735448486416856, 3.7335637861779234, 3.73167313255459, 3.729791935465683, 3.7279339142980676, 3.7261110921760374, 3.724333815550143, 3.7086327326527164, 3.709666753942084, 3.7107711710538682, 3.7119477127281666, 3.71319803720049, 3.7145237788171013, 3.7159266016842913, 3.7174082534051687, 3.7189706076456406, 3.720615679022007, 3.7223455879658967, 3.724162447573408, 3.7260681403498994, 3.728063952293692, 3.730150037658697, 3.7323247030092883, 3.734583526165648, 3.7369183643703137, 3.7393163522043738, 3.74175903342179, 3.744221797052802, 3.7466737816365883, 3.749078364259005, 3.7513942688598187, 3.753577230761666, 3.755582067939554, 3.7573649560334323, 3.7588856922793585, 3.760109757160929, 3.761010024895107, 3.7615680160828413, 3.761774616784075, 3.76163021121284, 3.7611442068702057, 3.760333988492479, 3.7592234197819647, 3.75784109286413, 3.7562185669526773, 3.754388815277572, 3.7523850162635313, 3.7502397128313465, 3.7479842695865404, 3.7456485170266456, 3.7432604861421073, 3.7408461792683, 3.7384293641165716, 3.7360314020333414, 3.7336711279164456, 3.7313647943994623, 3.7291260840595317, 3.710348883400604, 3.7116435841023923, 3.7130197511300724, 3.7144763019869234, 3.716011438079975, 3.717622691385566, 3.7193070229720506, 3.7210609835719373, 3.7228809438732147, 3.724763396572306, 3.726705322068066, 3.728704593371495, 3.7307603719687834, 3.7328734146874023, 3.735046174402989, 3.7372825420947975, 3.7395870597034295, 3.7419634574447675, 3.744412466290813, 3.7469290468329564, 3.7494994413887635, 3.7520987136492994, 3.7546895531478306, 3.7572229709340315, 3.759641083471586, 3.7618816033212643, 3.7638831595928917, 3.7655903788355287, 3.766957843348246, 3.767952488578704, 3.768554470530416, 3.768756824577782, 3.76856428055326, 3.7679914858908403, 3.767060799881438, 3.765799876330163, 3.7642393880936695, 3.7624113008598505, 3.7603479825602526, 3.758082154518298, 3.7556473183652033, 3.753078018642434, 3.750409445747737, 3.7476764222781807, 3.7449121968937424, 3.742147418449769, 3.7394094404117397, 3.736721951421551, 3.734104868698043, 3.7315744222285674, 3.711738910315599, 3.7133655924797937, 3.715096270283607, 3.7169272652201633, 3.7188530963072757, 3.720866321176548, 3.722957417081635, 3.72511472666463, 3.7273245008448344, 3.729571079452579, 3.7318372582473893, 3.7341048967265755, 3.736355820905294, 3.738573062550672, 3.74074244073571, 3.742854417703963, 3.744906029529824, 3.746902485452521, 3.7488577491576387, 3.750793115553784, 3.7527326509071353, 3.7546947705328595, 3.7566808718811937, 3.758665144012967, 3.760592105244472, 3.7623852506902833, 3.7639626578494827, 3.7652519788995225, 3.766200025616057, 3.7667761456882074, 3.766970839232997, 3.7667916605077436, 3.7662581619490494, 3.7653970464333115, 3.7642381377688476, 3.7628114063069136, 3.7611451059804795, 3.7592650281205233, 3.7571948794280203, 3.7549577593724286, 3.752578392833151, 3.750084779469367, 3.7475077118280735, 3.7448788236142576, 3.7422287050202936, 3.7395856003231325, 3.7369746392124856, 3.7344174670041457, 3.731932155419879, 3.7295333023497683, 3.7111168523112785, 3.7129533019847227, 3.7149114773296756, 3.7169863010890904, 3.7191704129840026, 3.7214539160801783, 3.7238241352295813, 3.7262654082418836, 3.7287589403382433, 3.731282765229767, 3.7338118719187627, 3.7363185743850145, 3.7387732194597483, 3.741145341032319, 3.7434053650584476, 3.745526928473254, 3.7474897604232944, 3.7492828366218816, 3.750907115083655, 3.7523766321394603, 3.753716340768691, 3.7549554064993775, 3.7561164431746916, 3.7572041856816427, 3.7581990709893054, 3.7590591840239584, 3.7597291176621344, 3.76015136488535, 3.7602767122482668, 3.760072206125861, 3.759526166312631, 3.7586492930161093, 3.7574711118720567, 3.7560330214798756, 3.754380800477177, 3.752558789870359, 3.7506064504714614, 3.7485570227284923, 3.746437678326179, 3.744270531219147, 3.7420739688769964, 3.7398639025138767, 3.7376546981658723, 3.735459713993901, 3.7332914952984284, 3.731161741501828, 3.7290811633097696, 3.7270593190436365, 3.7251044824444994, 3.723223564433485, 3.7072676456045084, 3.7089921565184576, 3.710821731518981, 3.712747406521766, 3.7147579834465976, 3.716839960499934, 3.718977501798858, 3.721152461957768, 3.723344487100957, 3.725531220298749, 3.7276886456655856, 3.729791609457357, 3.7318145553899167, 3.7337325004636783, 3.7355222507244235, 3.737163807077435, 3.738641835597912, 3.739946979634481, 3.7410766947676395, 3.7420352384353213, 3.742832505806127, 3.7434816172410086, 3.7439955080819427, 3.744383133610004, 3.744646121850082, 3.744776691334619, 3.7447574505100394, 3.7445634648523645, 3.7441668325445114, 3.7435438147964937, 3.7426835569051358, 3.7415946202101975, 3.7403043664490383, 3.738852023957219, 3.737280768359847, 3.735631867238428, 3.73394125680669, 3.7322380557946073, 3.730544417858507, 3.7288762034564, 3.727244067768435, 3.7256546753242143, 3.7241118522217302, 3.7226175685604503, 3.7211727057273016, 3.71977760626299, 3.7184324304461316, 3.7171373567090016, 3.715892666231394, 3.714698749102736, 3.701053113201138, 3.702409224350768, 3.7038263283233457, 3.705288982166379, 3.70677964072839, 3.708278884225941, 3.7097657260160406, 3.7112180053774506, 3.7126128699778054, 3.7139273519551783, 3.715139039423647, 3.716226840759826, 3.7171718311845843, 3.7179581590172615, 3.7185739721957844, 3.719012304951533, 3.7192718422518096, 3.719357460073615, 3.7192804287830317, 3.719058171618894, 3.718713496237292, 3.718273267218765, 3.717766559946399, 3.7172224256915447, 3.7166674944878313, 3.7161237311482394, 3.7156067148934326, 3.7151247954963638, 3.7146793477846956, 3.714266094704982, 3.713877165282244, 3.7135033368963986, 3.713135906747256, 3.712767850057675, 3.7123942232431917, 3.712012000608881, 3.711619617759945, 3.7112164585776637, 3.7108024327345666, 3.710377702369038, 3.7099425548620997, 3.7094973864822314, 3.7090427519055704, 3.7085794384317246, 3.708108533911313, 3.7076314691818286, 3.7071500264335002, 3.706666313134345, 3.70618270662099, 3.7057017774435934, 3.695044685464691, 3.696034141377125, 3.6970484590207966, 3.6980672372058474, 3.6990680405828296, 3.700026832386123, 3.7009185038938663, 3.701717494217316, 3.7023984918353876, 3.702937207492734, 3.703311206542047, 3.7035007872826773, 3.7034898899867787, 3.7032670187094525, 3.702826154222234, 3.7021676310530633, 3.7012989442048365, 3.7002354411260554, 3.699000841209947, 3.6976275074961826, 3.6961563719944195, 3.694636385664333, 3.693123325868569, 3.691677750866427, 3.6903618567231886, 3.68923501342084, 3.688347960559936, 3.687736274561388, 3.687414883878119, 3.687376177477228, 3.687592895194909, 3.688024251123119, 3.6886226569882914, 3.6893393478155048, 3.6901283895045087, 3.6909491677420934, 3.6917676626134934, 3.692556836621849, 3.6932964230973244, 3.69397234367552, 3.694575925670938, 3.695103039875436, 3.6955532389368044, 3.695928946000499, 3.6962347215048537, 3.696476621197374, 3.6966616488429653, 3.6967973011941453, 3.6968911993755103, 3.6969507990108856, 3.69153099531627, 3.692320133899657, 3.6931258635016038, 3.6939276250802435, 3.6947029954451187, 3.695428166588193, 3.6960785138033363, 3.696629240605603, 3.697056086454705, 3.6973360824060126, 3.697448340016994, 3.6973748598859695, 3.6971013476255417, 3.696618026169085, 3.6959204331397433, 3.6950101894458305, 3.693895719039001, 3.692592888575512, 3.6911255183339087, 3.6895256911930585, 3.6878337542996182, 3.6860978688008625, 3.6843729194466657, 3.6827185560846467, 3.681196124668552, 3.679864310186703, 3.678773573456564, 3.6779600790401767, 3.6774407259840376, 3.6772113185201443, 3.6772487930508286, 3.6775163869881364, 3.677969681470434, 3.6785619823174187, 3.679248410997114, 3.6799886559337587, 3.6807485726918125, 3.68150088124516, 3.6822251973745233, 3.682907601627694, 3.6835399118074337, 3.684118790022624, 3.684644784762094, 3.685121382412003, 3.685554120812284, 3.6859497994069357, 3.686315805883323, 3.68665956756017, 3.686988126849051, 3.6873078335702583, 3.6909745267834118, 3.691685841779879, 3.6924234927114443, 3.6931711364914253, 3.6939109155282437, 3.694623832311231, 3.6952901809527914, 3.6958900224135163, 3.6964036889230036, 3.696812303157025, 3.6970982990249723, 3.697245933243012, 3.697241779769177, 3.6970752019626825, 3.6967387990796965, 3.6962288233500207, 3.695545560292656, 3.694693657246995, 3.693682373046184, 3.6925257061900356, 3.6912423423890637, 3.6898553498811375, 3.688391549887934, 3.6868805089743897, 3.685353147635179, 3.6838400363858104, 3.6823695451745797, 3.6809660956576136, 3.6796487999538106, 3.6784307237933627, 3.6773188883364973, 3.676314964501348, 3.675416476174362, 3.67461825797645, 3.673913916853514, 3.6732971023375276, 3.6727624663493206, 3.672306265531861, 3.671926615181888, 3.671623441257234, 3.6713981978851047, 3.6712534259291636, 3.6711922269621624, 3.6712177193019566, 3.6713325309292233, 3.6715383700577524, 3.6718356995177626, 3.6722235272913957, 3.6726993135317536, 3.6732589848672865, 3.6920579507021305, 3.6926576411784033, 3.6932866722892617, 3.6939335196332967, 3.694585436246772, 3.695228638942732, 3.695848511729093, 3.6964298149263315, 3.696956888550634, 3.697413839759438, 3.6977847068167873, 3.6980535961752703, 3.698204794816822, 3.698222866717056, 3.698092749764644, 3.697799876976917, 3.697330352344625, 3.696671215586788, 3.695810829430193, 3.694739415188147, 3.6934497447518893, 3.6919379679216537, 3.690204514384805, 3.6882549658152652, 3.686100758243526, 3.683759565192308, 3.681255242419305, 3.6786172866430675, 3.6758798553364045, 3.6730804807949253, 3.6702586594688715, 3.6674544943486675, 3.6647075223750445, 3.6620557918189953, 3.6595351890210788, 3.657178965666356, 3.6550173937376127, 3.6530774748125965, 3.6513826481016265, 3.649952469938806, 3.6488022683138652, 3.6479428024246934, 3.647379974118884, 3.647114643065089, 3.6471425908479294, 3.647454663489379, 3.648037101176486, 3.6488720426217043, 3.6499381733106495, 3.6512114744458937, 3.6930323522818065, 3.693373752718067, 3.6937238289818684, 3.6940730402271695, 3.6944106898516824, 3.6947249613095225, 3.695002952875106, 3.6952307057190112, 3.6953932206470896, 3.6954744608612877, 3.695457341279153, 3.695323709418313, 3.695054328674836, 3.6946288819688236, 3.694026022007885, 3.693223503373346, 3.692198440366743, 3.690927741463537, 3.689388773671159, 3.6875603041113316, 3.685423746477159, 3.6829647010735798, 3.680174715846136, 3.6770531166587017, 3.6736086760866855, 3.6698608437357882, 3.6658402835839166, 3.661588570508007, 3.6571570631577335, 3.6526051326691333, 3.647998025338384, 3.6434046463525944, 3.638895486453165, 3.6345408109995097, 3.6304091272836034, 3.626565865772587, 3.6230721676919933, 3.6199836698943004, 3.617349215541672, 3.615209485289354, 3.613595621063138, 3.6125279819813674, 3.6120152093535567, 3.6120537718770978, 3.612628112030687, 3.6137114325650974, 3.6152670699437746, 3.6172503233131064, 3.6196105600909645, 3.622293408132061, 3.6930825275136576, 3.693047758581185, 3.6929828498407096, 3.6928774842795287, 3.692720160023469, 3.6924981729529085, 3.6921976053845893, 3.6918033220970132, 3.6912989764713497, 3.6906670315537173, 3.689888803428055, 3.68894453737692, 3.687813530775851, 3.6864743202749786, 3.6849049541654906, 3.6830833732817156, 3.680987924440561, 3.6785980280319146, 3.675895014419314, 3.672863130676841, 3.669490698680499, 3.6657713778196066, 3.66170545329158, 3.657301040449784, 3.6525750769257996, 3.6475539782714717, 3.642273866628102, 3.636780342595615, 3.6311278432172394, 3.625378691440645, 3.6196019740886434, 3.6138723761821847, 3.6082690521405834, 3.6028745411464884, 3.5977736516679406, 3.5930521674649163, 3.5887951839778425, 3.58508488928255, 3.581997674378404, 3.579600601539879, 3.577947466634059, 3.5770749201988448, 3.576999283309628, 3.5777147103999547, 3.5791931533926604, 3.5813862110269796, 3.5842285460045424, 3.5876422791138087, 3.591541700410078, 3.5958377413192597, 3.6925798912725707, 3.6921937069058335, 3.6917429050610284, 3.691216535964111, 3.6906026314586273, 3.6898882150239842, 3.6890593312085667, 3.6881010989913157, 3.686997794508589, 3.6857329695187446, 3.6842896128140583, 3.6826503623691385, 3.6807977761248716, 3.6787146686833565, 3.6763845195305995, 3.673791955403011, 3.6709233048209433, 3.667767216532466, 3.6643153258397376, 3.6605629441643437, 3.656509738977337, 3.652160365216594, 3.6475250077957657, 3.642619799919212, 3.637467094817433, 3.632095588377646, 3.6265403134512297, 3.620842547385195, 3.6150496855247622, 3.609215129343619, 3.60339821620704, 3.5976641805219094, 3.592084088392148, 3.5867346364953208, 3.581697657528144, 3.5770591366444004, 3.572907525808901, 3.5693311609962457, 3.566414662207146, 3.5642343531251894, 3.562852989956668, 3.5623144109085207, 3.562639005839162, 3.5638209850096327, 3.5658281502733495, 3.5686042811560563, 3.5720736054829967, 3.576146431889152, 3.58072499368506, 3.5857087857260663, 3.6923161652385246, 3.6917309393653213, 3.691067952922831, 3.690317628522134, 3.6894697513923864, 3.688513521709256, 3.687437629190999, 3.686230353240567, 3.684879691921443, 3.6833735228647377, 3.6816997987417523, 3.6798467791223217, 3.677803299303656, 3.6755590749871474, 3.673105039494079, 3.6704337076063607, 3.6675395572538956, 3.664419417427989, 3.6610728482982062, 3.6575024980862842, 3.653714421401918, 3.6497183460052356, 3.645527879615602, 3.641160655249823, 3.6366384217834313, 3.6319870943650012, 3.6272367847348197, 3.6224218319725843, 3.617580847758059, 3.6127567760746007, 3.607996946254385, 3.603353072864714, 3.5988811299699783, 3.5946410053293247, 3.5906958270365763, 3.587110856220613, 3.583951860298071, 3.581282927398993, 3.579163757590324, 3.577646568488321, 3.5767728692846044, 3.5765704613296534, 3.5770510768698145, 3.578209033956297, 3.580021152220094, 3.5824479682099386, 3.585436071592519, 3.5889212213572024, 3.5928318335717844, 3.5970924577424794, 3.6927213375921073, 3.692112801364872, 3.691434013249264, 3.690678127991699, 3.689838033355178, 3.68890641520041, 3.68787583846423, 3.686738845182828, 3.685488070391131, 3.6841163762856204, 3.6826170044554747, 3.6809837452657828, 3.6792111226308184, 3.677294591478974, 3.6752307442415066, 3.67301752177846, 3.6706544233948253, 3.668142710122556, 3.6654855953747547, 3.6626884175187517, 3.6597587899100836, 3.6567067254312997, 3.6535447344133574, 3.650287896664524, 3.6469539097415744, 3.6435631160412676, 3.6401385102558645, 3.636705725865113, 3.6332929945616983, 3.6299310661693704, 3.6266530695173147, 3.6234942881178283, 3.6204918199088243, 3.617684089442897, 3.6151101852809835, 3.61280900611418, 3.610818216672137, 3.6091730380473632, 3.6079049245038677, 3.6070402064059324, 3.6065988015370127, 3.606593109218006, 3.6070271986057487, 3.607896382215706, 3.609187229713818, 3.6108780309723936, 3.612939669621125, 3.6153368275959004, 3.6180294141813953, 3.6209741027583204, 3.693705397299388, 3.693190081840472, 3.692621996459043, 3.6919969964286063, 3.691310891990785, 3.690559501153956, 3.6897387110516315, 3.688844547941577, 3.687873255689861, 3.686821382306537, 3.6856858737879303, 3.6844641741856443, 3.6831543304804635, 3.681755100511105, 3.6802660619177128, 3.678687719834252, 3.6770216109269374, 3.6752704013459208, 3.6734379762417344, 3.6715295186869406, 3.669551576106607, 3.667512112605395, 3.665420545810532, 3.6632877669421826, 3.661126142690241, 3.6589494970540626, 3.6567730705666897, 3.654613453319761, 3.652488487052023, 3.650417130470716, 3.6484192812224148, 3.6465155478439053, 3.644726965927738, 3.64307465489215, 3.6415794152831884, 3.6402612713999516, 3.6391389699282595, 3.638229451650922, 3.6375473194116443, 3.6371043304443793, 3.6369089440347815, 3.636965955511467, 3.6372762443591284, 3.637836657852454, 3.638640042587727, 3.6396754256463013, 3.640928336153168, 3.642381248037308, 3.6440141170066425, 3.6458049798813903, 3.694931312030079, 3.6945507462834724, 3.6941353334330067, 3.6936828732749127, 3.6931912076553304, 3.6926582546704836, 3.692082046720035, 3.6914607722331074, 3.6907928207687095, 3.6900768310662038, 3.6893117414911694, 3.6884968421924715, 3.6876318281632448, 3.6867168522877485, 3.685752577363049, 3.6847402260137296, 3.683681627371712, 3.682579259371621, 3.6814362855116545, 3.6802565849437903, 3.6790447747759822, 3.677806223481277, 3.6765470543036503, 3.6752741375195543, 3.673995070355739, 3.6727181432848734, 3.671452291339706, 3.670207029035489, 3.668992367512512, 3.6678187126575925, 3.6666967432889237, 3.6656372690398746, 3.664651068384443, 3.6637487083130282, 3.6629403484592884, 3.662235533923517, 3.661642982521419, 3.6611703735626815, 3.6608241463659223, 3.660609317381542, 3.6605293248829227, 3.66058590960941, 3.6607790384792183, 3.6611068765929335, 3.661565810351779, 3.6621505218162116, 3.6628541116663462, 3.663668265541656, 3.6645834563556963, 3.665589173573989];\n",
       "const lower_is_better = false;\n",
       "const metric = \"log_eval\";\n",
       "const rel = false;\n",
       "const sd = [0.0499109257266275, 0.04990209283256274, 0.04989197796899378, 0.04988036974890204, 0.049867022142531345, 0.04985165068948462, 0.04983392900294139, 0.04981348583787851, 0.04978990306009429, 0.049762714920778085, 0.049731409108856706, 0.04969543011547644, 0.04965418549515931, 0.049607055637917966, 0.04955340766541227, 0.049492614019550976, 0.049424076209516575, 0.04934725400766567, 0.049261700120894245, 0.049167099998665774, 0.04906331596366584, 0.04895043426637682, 0.0488288129847441, 0.0486991279476454, 0.04856241311389875, 0.04842009117386431, 0.04827398967511676, 0.04812633784904901, 0.04797973968476051, 0.047837119799679854, 0.04770164038266482, 0.04757658993056012, 0.04746524752286836, 0.04737072967827028, 0.04729582995303387, 0.047242863816741344, 0.047213532422215654, 0.04720881826419767, 0.04722892326234145, 0.047273255734567296, 0.04734046762255333, 0.04742853800624485, 0.04753489426472906, 0.047656558921564944, 0.04779030866274396, 0.04793283227666698, 0.04808087605220445, 0.048231367983742016, 0.048381515399733496, 0.04852887383533267, 0.04984734388175969, 0.04983328504503177, 0.04981771038944377, 0.049800393270899676, 0.04978106214010511, 0.04975939394985895, 0.04973500766700188, 0.04970745825896984, 0.04967623162309419, 0.0496407410313845, 0.049600325770384486, 0.049554252758921176, 0.04950172201816613, 0.04944187693787156, 0.0493738203164926, 0.049296637134457644, 0.0492094249289717, 0.049111332452054256, 0.049001606985177346, 0.048879650227312464, 0.048745082044264136, 0.04859781054914709, 0.04843810597483126, 0.04826667462188918, 0.0480847278795626, 0.04789404003179279, 0.0476969874454361, 0.04749656102823414, 0.04729634382979779, 0.047100446652860846, 0.0469133968200158, 0.04673997895115214, 0.04658503166128227, 0.04645321006640443, 0.04634873008978892, 0.04627511568254904, 0.04623497298466317, 0.04622981512897666, 0.046259957353693815, 0.046324494664591626, 0.04642136463714446, 0.04654748781990067, 0.04669896947241472, 0.0468713405449817, 0.04705981363938097, 0.0472595310831325, 0.047465786410604664, 0.047674206301775504, 0.04788088618230253, 0.048082478267529816, 0.04970404361068791, 0.04968092852426095, 0.04965663574891086, 0.04963107022300117, 0.04960409171404417, 0.04957550472592332, 0.04954504840307922, 0.04951238694535789, 0.049477101153553874, 0.0494386818303446, 0.04939652585956122, 0.04934993587261058, 0.049298124476853576, 0.04924022405745791, 0.04917530315996263, 0.04910239040109272, 0.049020506722814015, 0.04892870657878121, 0.04882612830028817, 0.04871205340665164, 0.048585973980560776, 0.04844766640684229, 0.04829726877168327, 0.048135358060628686, 0.04796302203544642, 0.04778191941898995, 0.0475943209404034, 0.047403123121827095, 0.0472118267085881, 0.04702447266751772, 0.04684553097541334, 0.04667974113790019, 0.046531908429742315, 0.04640666581100277, 0.046308217555584015, 0.04624008572442125, 0.046204883505128566, 0.04620413910233041, 0.046238189824719694, 0.0463061586025817, 0.04640601554000862, 0.04653471700165778, 0.046688406025892346, 0.046862652039955335, 0.04705270568221967, 0.047253745916280246, 0.04746110076200288, 0.047670428703734655, 0.04787785396883222, 0.04808005443395246, 0.049351199917564974, 0.04930769556317842, 0.049264676755161045, 0.049222497571039074, 0.04918146108729417, 0.04914179790460932, 0.04910364537416512, 0.04906702869719617, 0.04903184509020024, 0.04899785216463263, 0.048964661567924006, 0.04893173878243912, 0.048898409793397615, 0.048863875128488395, 0.048827231550604394, 0.048787501455183915, 0.04874366978283561, 0.04869472799736673, 0.048639724384866, 0.048577819584377735, 0.048508345849628265, 0.04843086805540239, 0.04834524390516354, 0.04825168019093161, 0.048150781350001705, 0.048043586033421945, 0.04793158705707149, 0.04781673008300004, 0.0477013868246247, 0.04758829962082223, 0.047480495969456145, 0.047381174047472774, 0.047293563235716166, 0.047220766915436134, 0.04716559786054421, 0.047130418866761586, 0.0471170022924253, 0.04712642153323443, 0.04715898498479103, 0.047214218986420406, 0.0472909011564763, 0.04738714022774491, 0.04750049382830902, 0.04762811233671808, 0.047766895377552215, 0.04791364775867144, 0.04806522340447455, 0.04821864861762598, 0.04837121923932011, 0.04852056946061453, 0.04845685061001662, 0.04835799188817808, 0.04826457254331708, 0.04817832570127785, 0.0481008667206061, 0.04803361552047162, 0.047977723425221074, 0.047934010006184184, 0.04790291493262183, 0.04788446880467567, 0.04787828544150287, 0.04788357632772069, 0.04789918611737345, 0.047923646493521925, 0.047955244474101, 0.047992100552238244, 0.04803225187994389, 0.0480737359808714, 0.04811467108316154, 0.04815332994251942, 0.048188204829579806, 0.04821806206631961, 0.04824198504162, 0.048259404993643173, 0.048270119039076395, 0.04827429501376261, 0.048272462744298535, 0.04826549148110005, 0.04825455346762452, 0.04824107405344163, 0.048226669401774204, 0.04821307367203272, 0.04820205850327304, 0.04819534856870828, 0.04819453776550179, 0.048201011090001175, 0.048215877289553795, 0.0482399168946128, 0.04827354921461098, 0.04831682041407556, 0.04836941303989036, 0.04843067556907009, 0.04849966892438879, 0.04857522566634934, 0.04865601684950862, 0.04874062137610606, 0.04882759304960919, 0.04891552131492953, 0.04900308271980089, 0.049089081283002836, 0.04630820890781305, 0.04605065739544554, 0.045810743560529284, 0.0455948996021946, 0.04540927331869299, 0.04525937051656261, 0.04514970514698518, 0.04508349352525054, 0.045062427721902595, 0.04508655579389139, 0.045154283795304576, 0.0452624987961315, 0.04540679665509618, 0.0455817861759155, 0.04578143465970935, 0.04599941935934785, 0.046229454075858864, 0.04646556827181893, 0.04670232548401343, 0.04693497666818434, 0.047159551199219725, 0.04737289306151497, 0.0475726523324235, 0.04775724277110296, 0.0479257757090694, 0.04807797903233332, 0.04821410829867357, 0.04833485527900336, 0.04844125766084641, 0.04853461241417516, 0.048616394425952024, 0.04868818143497401, 0.04875158598341002, 0.04880819496791753, 0.04885951733898722, 0.04890694048605661, 0.04895169579670989, 0.048994833750665545, 0.04903720868711405, 0.04907947307513865, 0.049122080749631536, 0.04916529819134084, 0.049209222576921535, 0.04925380504730157, 0.04929887747374595, 0.04934418095846685, 0.04938939439089386, 0.049434161576311246, 0.04947811573309623, 0.049520900484260326, 0.04188246249983891, 0.041199953966581895, 0.04055425657035517, 0.039967861123273114, 0.03946374074911824, 0.0390636213084242, 0.038786014385257764, 0.038644297218610485, 0.03864519126967182, 0.038787961831349846, 0.03906452206507933, 0.03946041652236777, 0.039956460497078974, 0.040530695931909014, 0.041160320342553076, 0.04182332878513452, 0.04249972960313815, 0.04317230604357527, 0.04382697265625239, 0.04445281377357855, 0.04504189979352924, 0.045588967370293526, 0.04609103206196074, 0.04654698311094298, 0.04695719330218518, 0.047323163555585884, 0.047647212143268905, 0.04793221170435404, 0.04818137291531842, 0.04839807114060838, 0.04858571111110957, 0.04874762424610536, 0.048886993339425366, 0.04900679974935005, 0.049109788807281146, 0.049198449785140236, 0.049275007366505065, 0.04934142211035895, 0.04939939785863761, 0.04945039441435078, 0.04949564411137465, 0.049536171122212154, 0.04957281252166919, 0.04960624025873671, 0.04963698330078789, 0.04966544931536278, 0.04969194535348778, 0.049716697098994116, 0.04973986635154901, 0.04976156651531755, 0.0352805388472125, 0.033696513637877526, 0.032126019708408886, 0.030632024278525627, 0.02929157759727672, 0.028191128007021466, 0.02741633528348635, 0.027036675310713052, 0.02708897430618112, 0.02756721352975092, 0.02842427155965667, 0.029584588601975065, 0.030961004277083884, 0.032468968285596624, 0.034035133348148366, 0.03560077979134365, 0.03712186759085744, 0.03856739260999965, 0.039917144840542255, 0.04115945167147744, 0.04228916167590872, 0.04330594944043322, 0.04421294008486586, 0.04501561936924464, 0.04572098599559839, 0.04633690358126658, 0.046871614434558194, 0.04733338285528831, 0.04773024105110702, 0.04806981550745006, 0.04835921569983001, 0.04860497044047945, 0.04881299999150852, 0.0489886144394774, 0.0491365307869121, 0.04926090283760345, 0.04936535928624781, 0.049453046512112575, 0.04952667345739786, 0.04958855667541864, 0.04964066418952384, 0.049684657235631376, 0.049721929291515886, 0.049753642044097816, 0.04978075812897343, 0.049804070608812, 0.04982422925109227, 0.049841763730695196, 0.04985710392672905, 0.04987059751138972, 0.03145427992670137, 0.029144198579773427, 0.02674847811672437, 0.02434516573381383, 0.02205409264823477, 0.02004812774181383, 0.018550938032328223, 0.017794850549249817, 0.017925665910436806, 0.01891593144922588, 0.02058278592460522, 0.022688542036714672, 0.025022430091551168, 0.02742797174054707, 0.02979902847496549, 0.03206758808198109, 0.0341925548748045, 0.03615141355897999, 0.03793438851448438, 0.03954038713557339, 0.04097415557034103, 0.04224425720587059, 0.04336161967201404, 0.04433848438311863, 0.045187647977425624, 0.04592191967847678, 0.046553740698914464, 0.04709492629091887, 0.047556500867886986, 0.04794860352559782, 0.04828044632037704, 0.04856031144729297, 0.048795576391535124, 0.04899275844501489, 0.0491575718450909, 0.04929499230724045, 0.04940932495973816, 0.04950427269678875, 0.049583002785087926, 0.04964821021730603, 0.049702176829074386, 0.0497468256046941, 0.04978376990935906, 0.049814357618471194, 0.04983971028207539, 0.04986075757728262, 0.049878267374861576, 0.04989287178744759, 0.04990508958401038, 0.049915345354896744, 0.035713282463596285, 0.0341999098631399, 0.032706177416680235, 0.0312925235794897, 0.03003164026876794, 0.029003637615970097, 0.028286482222777343, 0.02794232779145192, 0.02800346610545471, 0.02846390670943438, 0.029280992765889514, 0.030386167494714286, 0.03169949526232769, 0.033142326879222556, 0.03464537935133894, 0.0361523263716629, 0.03762027301089247, 0.03901853713680705, 0.040326739960368264, 0.041532778395251164, 0.04263095485697527, 0.043620369544704087, 0.044503593921274454, 0.04528560554606226, 0.04597295035158643, 0.04657309594904142, 0.0470939419699608, 0.047543457608449136, 0.04792942097987204, 0.048259239066323685, 0.04853983067874491, 0.04877755800363122, 0.048978194959106096, 0.04914692282097883, 0.04928834545486232, 0.04940651805942991, 0.04950498463417716, 0.04958682047082108, 0.04965467686270979, 0.04971082595846939, 0.04975720427798615, 0.04979545388120653, 0.049826960551288366, 0.04985288863951581, 0.049874212434491194, 0.04989174407518105, 0.049906158137603504, 0.049918013097990495, 0.04992776991942014, 0.04993580803115182, 0.04232858363474239, 0.04169742387769268, 0.041103562289945335, 0.04056790998245499, 0.04011162449142438, 0.03975451862183837, 0.039513288108530144, 0.039399813358913995, 0.03941983934007609, 0.03957230419899481, 0.03984946469477841, 0.040237790398759604, 0.04071943286230326, 0.04127397887634957, 0.041880191181007796, 0.04251750748404229, 0.04316716926271275, 0.04381294744110981, 0.044441500670592174, 0.045042438701441624, 0.04560817404358608, 0.04613363922254937, 0.046615932998059634, 0.04705394286280418, 0.04744797631127551, 0.04779942119510208, 0.04811044624969605, 0.048383746305411375, 0.048622332290186844, 0.0488293633738116, 0.049008017043730735, 0.04916139217531098, 0.04929243998947427, 0.049403917975243426, 0.04949836224991522, 0.04957807433510354, 0.049645118874859694, 0.04970132936783102, 0.04974831950090416, 0.04978749814063645, 0.049820086452813515, 0.04984713597709326, 0.04986954678406485, 0.04988808508972307, 0.049903399902309145, 0.04991603843437861, 0.049926460134707557, 0.049935049285972276, 0.04994212618038819, 0.049947956931506415, 0.04665987691623637, 0.04643769784675073, 0.04623366421547361, 0.0460536362532144, 0.045903151467229716, 0.045787099666730946, 0.045709410241726624, 0.04567278426912614, 0.0456785021390426, 0.04572633017634848, 0.04581453806576266, 0.04594002487765309, 0.046098537919816586, 0.046284958162706676, 0.04649362037272838, 0.04671863581747183, 0.046954189716104246, 0.04719479291962682, 0.04743547579234446, 0.047671920338665186, 0.04790053320637826, 0.048118466802648696, 0.04832359836366503, 0.048514477715154804, 0.04869025408477735, 0.04885059113181671, 0.04899557773818514, 0.04912564035814076, 0.049241461056441616, 0.04934390389640511, 0.04943395112673803, 0.0495126496705642, 0.04958106772529314, 0.04964026080608227, 0.04969124627060576, 0.04973498521014544, 0.04977237054611054, 0.04980422020111033, 0.04983127429410191, 0.04985419541962373, 0.049873571196215334, 0.04988991839749482, 0.04990368810315979, 0.04991527142132378, 0.04992500543518312, 0.049933179114730906, 0.04994003900795695, 0.049945794586342226, 0.04995062316761858, 0.049954674376133906, 0.048724471294599614, 0.048652972137985605, 0.048588019274641285, 0.04853115628131128, 0.048483796333234117, 0.04844715545714684, 0.04842219197643398, 0.04840955694377701, 0.04840955970990231, 0.04842215162047588, 0.04844692929032917, 0.04848315716840137, 0.04852980740756867, 0.048585613613682965, 0.048649134042528616, 0.04871881933978404, 0.048793079987253615, 0.04887034915873692, 0.04894913757423535, 0.04902807801821004, 0.04910595830503547, 0.04918174250611637, 0.04925458110942187, 0.04932381141546795, 0.04938894987296469, 0.049449678239737664, 0.049505825455720756, 0.0495573469791663, 0.049604303110228516, 0.04964683754909801, 0.049685157143070764, 0.049719513494146536, 0.04975018684359034, 0.049777472432738924, 0.04980166936469517, 0.04982307185950904, 0.04984196270301836, 0.049858608631852395, 0.04987325736837104, 0.04988613601345655, 0.049897450516273145, 0.049907385963105566, 0.0499161074576684, 0.049923761399147754, 0.04993047699881856, 0.0499363679092564, 0.04994153387049372, 0.0499460623040852, 0.04995002980854277, 0.04995350352792281, 0.04953993352696359, 0.04951678962550385, 0.04949547480223572, 0.04947636391323587, 0.04945979491268085, 0.04944605572137203, 0.04943537281019342, 0.049427902259757496, 0.04942372391721258, 0.04942283906909316, 0.049425171802916, 0.04943057396377377, 0.0494388333522859, 0.04944968458315371, 0.04946282185130491, 0.04947791275031357, 0.04949461226195072, 0.049512576084006395, 0.04953147257574358, 0.049550992760516624, 0.04957085801397922, 0.04959082526406436, 0.049610689717346626, 0.04963028529066431, 0.04964948305650921, 0.049668188099889876, 0.04968633523177688, 0.049703884012277606, 0.04972081351070481, 0.049737117176978006, 0.049752798127598856, 0.04976786506816976, 0.04978232899090152, 0.04979620070648632, 0.049809489200328544, 0.049822200747004795, 0.04983433867587473, 0.049845903655350035, 0.04985689435250697, 0.049867308326559674, 0.049877143026605106, 0.04988639678310571, 0.04989506970589009, 0.0499031644263698, 0.04991068664595947, 0.049917645474642953, 0.04992405356210077, 0.04992992703818715, 0.04993528528966383, 0.04994015060617497, 0.04981397460097904, 0.049803234014705884, 0.04979247135688238, 0.04978173773020085, 0.049771078622405686, 0.04976053308122991, 0.049750133481516835, 0.04973990596471867, 0.049729871583558294, 0.04972004812797601, 0.04971045254666818, 0.049701103816697546, 0.04969202605756814, 0.04968325164165264, 0.049674824025283004, 0.04966680001843914, 0.049659251228466254, 0.049652264455277775, 0.04964594088045072, 0.04964039397656452, 0.049635746159992604, 0.04963212431230342, 0.049629654393528566, 0.04962845545559433, 0.04962863342764476, 0.04963027507991557, 0.04963344257488384, 0.04963816898243107, 0.04964445507199643, 0.04965226760478279, 0.04966153924138699, 0.04967217006494056, 0.04968403060774533, 0.04969696617056532, 0.04971080214644892, 0.04972535001076073, 0.04974041361840093, 0.04975579545721898, 0.049771302539862304, 0.049786751669155575, 0.04980197387781656, 0.049816817914825784, 0.049831152721530915, 0.04984486890513305, 0.04985787927158792, 0.04987011852176593, 0.04988154224307277, 0.049892125344048986, 0.04990186008313551, 0.049910753836845, 0.04988512235974569, 0.0498748371354498, 0.04986354048176498, 0.04985116068712868, 0.0498376303999968, 0.049822890066244664, 0.04980689198617554, 0.04978960493279122, 0.04977101921950436, 0.049751152045707354, 0.04973005288584642, 0.049707808626444035, 0.04968454810161862, 0.049660445637772645, 0.04963572319946221, 0.0496106507380574, 0.04958554438863058, 0.04956076224245376, 0.04953669754324756, 0.049513769311456755, 0.04949241058408627, 0.049473054654880444, 0.04945611989346542, 0.04944199389230432, 0.04943101781619405, 0.0494234718920804, 0.04941956296392479, 0.0494194149427587, 0.04942306280989247, 0.04943045059520071, 0.04944143347459601, 0.049455783838989895, 0.04947320091086861, 0.04949332325148644, 0.049515743333072904, 0.04954002325926517, 0.049565710706407605, 0.04959235422231111, 0.04961951714390855, 0.04964678956245816, 0.049673797954072306, 0.049700212284733945, 0.04972575057592893, 0.049750181067210325, 0.04977332222791404, 0.04979504094900938, 0.049815249288787326, 0.04983390015679508, 0.04985098230500698, 0.04986651496040165, 0.04989098911002908, 0.04987786674439737, 0.04986300462774437, 0.049846250927972666, 0.04982746092127602, 0.04980650308678217, 0.04978326621739578, 0.049757667462461526, 0.04972966113606805, 0.04969924802987717, 0.04966648486514579, 0.0496314934113238, 0.04959446869702336, 0.04955568565450055, 0.049515503484315444, 0.049474367016836655, 0.04943280439555081, 0.04939142052502067, 0.04935088592011753, 0.049311920861622886, 0.04927527509553059, 0.04924170368751394, 0.04921194002752515, 0.04918666733145951, 0.04916649026239027, 0.049151908450494754, 0.04914329369535162, 0.049140872469958644, 0.04914471501687828, 0.04915473186031764, 0.0491706780008186, 0.04919216447247371, 0.049218676391672364, 0.04924959617123499, 0.049284230259768684, 0.04932183761793525, 0.049361658163132864, 0.04940293958317868, 0.049444961203627805, 0.04948705394932016, 0.049528615823957435, 0.04956912270180802, 0.0496081345515464, 0.04964529747304937, 0.04968034211386052, 0.04971307914266689, 0.04974339249943859, 0.04977123112749405, 0.04979659983558727, 0.049819549852357925, 0.04988606522502926, 0.04987086532590901, 0.04985352040722549, 0.04983383323286602, 0.04981161396809291, 0.049786687694257224, 0.04975890324749907, 0.04972814330111674, 0.04969433551026291, 0.049657464417453105, 0.04961758368201081, 0.0495748280531093, 0.04952942436514527, 0.049481700710117586, 0.04943209285211857, 0.049381146913855464, 0.04932951740455996, 0.04927795979058562, 0.04922731704643941, 0.04917849996719817, 0.04913246146211041, 0.049090165556681775, 0.04905255236340532, 0.04902050078249257, 0.04899479109865169, 0.04897606988454156, 0.04896481965458078, 0.0489613355058597, 0.04896571053864846, 0.048977831204306786, 0.04899738295111868, 0.04902386571785335, 0.0490566180569689, 0.04909484804194448, 0.04913766869134711, 0.049184135459435556, 0.049233283398709485, 0.04928416186266993, 0.049335865034038195, 0.049387557070596784, 0.049438491193261776, 0.04948802254310982, 0.0495356150641544, 0.04958084300135188, 0.04962338782898088, 0.04966303154658199, 0.04969964731082817, 0.04973318833027295, 0.04976367585621256, 0.04979118697661839, 0.04989091992910273, 0.04987634727784284, 0.04985971495222936, 0.04984083589916848, 0.04981953072527162, 0.04979563488887878, 0.049769007124565987, 0.04973953901612879, 0.04970716553843564, 0.04967187627556384, 0.04963372689620864, 0.049592850334345975, 0.049549466993664436, 0.0495038931818365, 0.04945654690168243, 0.04940795009900133, 0.049358726509717836, 0.04930959437798472, 0.04926135354229893, 0.049214866709691975, 0.04917103514745396, 0.04913076949197998, 0.049094956864865674, 0.049064425944848396, 0.0490399120114871, 0.04902202419510506, 0.049011217191452544, 0.049007769503817404, 0.0490117698631669, 0.049023112882444674, 0.04904150428624914, 0.04906647530275616, 0.04909740509826604, 0.04913354955576642, 0.049174074306858696, 0.049218089752409114, 0.049264685851635015, 0.049312964694621125, 0.04936206925188668, 0.04941120715852998, 0.04945966888089549, 0.04950684007917266, 0.04955220838091497, 0.04959536509397226, 0.04963600260291114, 0.049673908312869594, 0.049708956039974043, 0.04974109571427499, 0.04977034217813419, 0.04979676374830332, 0.04990719543488241, 0.04989563975115474, 0.04988250288678844, 0.049867651293723475, 0.04985095924511806, 0.049832314279942135, 0.049811623462547645, 0.0497888203670629, 0.04976387262761892, 0.04973678981697029, 0.04970763133157188, 0.04967651387605716, 0.04964361806174993, 0.04960919357158538, 0.04957356230824149, 0.049537118944532985, 0.049500328345587395, 0.04946371943900168, 0.049427875275780755, 0.04939341924895191, 0.049360997708244266, 0.04933125950968251, 0.04930483334207118, 0.049282303945987586, 0.0492641885505775, 0.049250914967124346, 0.04924280277177182, 0.0492400488713269, 0.049242718480207746, 0.049250742164771065, 0.049263919169877914, 0.049281926778242134, 0.049304335015863114, 0.04933062565263484, 0.04936021419130968, 0.049392473410370355, 0.04942675703001549, 0.04946242219255664, 0.04949884966395308, 0.04953546093958353, 0.04957173174029511, 0.04960720168259135, 0.049641480173927915, 0.04967424880281343, 0.04970526065442108, 0.04973433708387836, 0.04976136252546588, 0.04978627791486405, 0.04980907326380754, 0.04982977986313167, 0.04992570463200261, 0.04991757206775914, 0.049908385995257334, 0.04989806754759825, 0.0498865447235646, 0.04987375584320446, 0.0498596534127485, 0.04984420832107197, 0.049827414250911396, 0.04980929214603444, 0.04978989453301491, 0.049769309456507746, 0.049747663754060305, 0.04972512537523015, 0.04970190444504314, 0.04967825278830305, 0.04965446167274743, 0.04963085759771173, 0.0496077960506477, 0.04958565327341342, 0.04956481621725549, 0.04954567101008608, 0.0495285903994985, 0.04951392075575343, 0.049501969306371345, 0.04949299231542676, 0.049487184907318064, 0.04948467316323318, 0.049485508991712085, 0.04948966810215104, 0.04949705120701869, 0.049507488364072524, 0.04952074616452272, 0.049536537296174306, 0.0495545318776413, 0.049574369880756974, 0.04959567393682316, 0.0496180618554867, 0.04964115826454499, 0.04966460489282206, 0.04968806915250189, 0.0497112508180241, 0.0497338867334486, 0.04975575359930831, 0.0497766689867881, 0.04979649079820721, 0.049815115437749614, 0.04983247497699774, 0.049848533599515896, 0.049863283591855115, 0.04993437230589237, 0.049927751222241225, 0.04992028505504039, 0.049911910586231845, 0.04990256946781663, 0.04989221074219802, 0.04988079365910551, 0.04986829073706438, 0.049854690991752486, 0.04984000322611896, 0.0498242592493414, 0.04980751686556436, 0.0497898624513118, 0.04977141292523982, 0.04975231690836142, 0.04973275487977163, 0.049712938154512595, 0.04969310654800463, 0.0496735246457011, 0.049654476666055325, 0.049636259986541094, 0.04961917749159587, 0.049603528991604216, 0.0495896020458805, 0.04957766259199658, 0.049567945831023336, 0.04956064783689003, 0.0495559183438905, 0.04955385511809658, 0.049554500238151, 0.049557838504042176, 0.049563798067362747, 0.04957225324362376, 0.04958302933772737, 0.0495959091985733, 0.049610641127229314, 0.049626947701746596, 0.04964453505392254, 0.049663102139084814, 0.04968234957614488, 0.049701987696106516, 0.04972174351563972, 0.04974136644028037, 0.049760632591533085, 0.04977934773682241, 0.04979734887549094, 0.04981450459423306, 0.04983071434957999, 0.04984590686301264, 0.0498600378269809, 0.049921497621601134, 0.049912219563958325, 0.049901609953948656, 0.04988953485580586, 0.04987586004180414, 0.049860454595584094, 0.04984319530519044, 0.04982397186103828, 0.04980269283336122, 0.04977929235181106, 0.04975373734709643, 0.04972603514234092, 0.049696241103134586, 0.04966446597467101, 0.04963088245835484, 0.04959573051703968, 0.04955932085724441, 0.04952203602867013, 0.04948432861615687, 0.04944671608519785, 0.04940977198415601, 0.049374113404099626, 0.049340384843648825, 0.04930923890668621, 0.049281314552874, 0.04925721389598723, 0.049237478770951255, 0.049222568435541424, 0.04921283981073257, 0.049208531578661514, 0.04920975324710483, 0.04921647996819197, 0.04922855349585725, 0.049245689222100854, 0.04926748879336707, 0.049293457421375475, 0.04932302470620026, 0.04935556760919873, 0.04939043415983585, 0.04942696654807878, 0.04946452242398685, 0.04950249347028177, 0.04954032059961034, 0.04957750542390696, 0.04961361792101129, 0.049648300462562224, 0.0496812685540767, 0.049712308767573536, 0.04974127442018497, 0.0497680795748665, 0.04987444012364144, 0.049855536639915383, 0.04983353724738677, 0.04980804380397087, 0.04977863508091939, 0.04974487333261413, 0.04970631347557821, 0.04966251524734377, 0.04961305865685163, 0.04955756293256609, 0.04949570901272967, 0.04942726539605379, 0.049352116876002605, 0.04927029531884947, 0.049182011224600294, 0.049087684351895505, 0.04898797122845103, 0.04888378695855521, 0.04877631844510371, 0.048667026044077556, 0.048557630846917804, 0.04845008531507085, 0.048346525919232414, 0.048249207765321836, 0.048160422856130654, 0.0480824055000337, 0.04801723021764513, 0.04796670903972823, 0.0479322960474741, 0.047915007136947504, 0.04791536215787451, 0.047933354803478816, 0.047968453105686884, 0.048019630459206576, 0.04808542418265628, 0.0481640161450839, 0.0482533282718428, 0.048351124973924714, 0.048455114726678905, 0.048563044012902026, 0.04867277839550544, 0.048782367310881876, 0.04889009100772206, 0.04899448968687108, 0.04909437619167069, 0.04918883449715334, 0.049277206755647826, 0.04935907182491155, 0.04943421810593415, 0.049502613231454676, 0.04978096739714929, 0.04974243264391334, 0.04969699239085026, 0.049643603053472, 0.049581117295208685, 0.049508289623868294, 0.04942378807516721, 0.049326213598465375, 0.04921412889852513, 0.04908609854536914, 0.048940742096723264, 0.048776801727858074, 0.04859322536554581, 0.04838926550274706, 0.04816459265403319, 0.04791942073471306, 0.0476546394745528, 0.04737194633248821, 0.04707396737972085, 0.04676435352427096, 0.04644783570723875, 0.04613022097349474, 0.045818311471647374, 0.0455197314337225, 0.045242653864125126, 0.0449954293915318, 0.044786133957881114, 0.044622067922696164, 0.04450925363270512, 0.044451987636904694, 0.044452503924511735, 0.04451079398003492, 0.044624609103387836, 0.04478964436213694, 0.044999877657217094, 0.045248017546991974, 0.04552600352717092, 0.04582550320945598, 0.04613836028135727, 0.04645696162790696, 0.046774507696174895, 0.047085184074359104, 0.04738424263437817, 0.04766800698160545, 0.04793381976899737, 0.04817994951040799, 0.04840547281522331, 0.04861014529971151, 0.04879427144434405, 0.04895858078312171, 0.04963747529055805, 0.04956877624891356, 0.049487152196529584, 0.049390441670653124, 0.04927619708644513, 0.04914166951396321, 0.04898380071574878, 0.048799225876382274, 0.04858429131338623, 0.048335092410429055, 0.04804753802451041, 0.04771744862694686, 0.04734069634176765, 0.04691339568453454, 0.046432153935140864, 0.045894389334417515, 0.04529872314179944, 0.04464544726895035, 0.04393706167263929, 0.04317886362295266, 0.04237955286906101, 0.04155179136702869, 0.04071262360805642, 0.03988362676399396, 0.039090627782776576, 0.03836281488865552, 0.0377311102370069, 0.037225786464338044, 0.03687351111544713, 0.03669425036249445, 0.03669865684234533, 0.0368865790271714, 0.0372470942162887, 0.03776005295536645, 0.038398714714461386, 0.03913283379193992, 0.039931580366245945, 0.0407658808710612, 0.04161000741362917, 0.042442441327156834, 0.043246145964697405, 0.04400841908982092, 0.04472048370439597, 0.045376943857986164, 0.045975195842945196, 0.0465148535683901, 0.04699722256612517, 0.04742483984918446, 0.047801085428005784, 0.04812986420016622, 0.049453978166584305, 0.049348939219094466, 0.049224221206182535, 0.049076468239661254, 0.048901828044691356, 0.04869589790967312, 0.048453670945874806, 0.048169485462236865, 0.04783698146354488, 0.04744906983403328, 0.04699792174634182, 0.0464749883226169, 0.04587106367378097, 0.0451764082878601, 0.044380954511595246, 0.0434746218337752, 0.04244777721594854, 0.0412918853689573, 0.040000406349569896, 0.03857001388029398, 0.03700222753701922, 0.035305573169121, 0.03349839903460576, 0.03161245095596329, 0.02969717241651899, 0.027824274189574363, 0.026091107767334008, 0.02461949289643764, 0.023544487313816063, 0.02298839847017131, 0.023024415993645988, 0.02364896627537957, 0.024783311772242987, 0.026303025336623057, 0.02807382546130677, 0.029975998641821662, 0.03191438297041302, 0.033818957196267374, 0.035641345673042, 0.03735034059722188, 0.03892775798226065, 0.040365015421198566, 0.04166044154207855, 0.042817208428656654, 0.043841761355541256, 0.0447426358447243, 0.04552957400522235, 0.04621287188847622, 0.04680290532270693, 0.047309793668051985, 0.049243849924627096, 0.04910145406771244, 0.04893388124784581, 0.04873722125384052, 0.04850705819455843, 0.048238420785116594, 0.047925729895790754, 0.04756274394527254, 0.04714250332521185, 0.04665727600242537, 0.04609850789039198, 0.04545678366841131, 0.04472180663397252, 0.04388241010590908, 0.042926618096871684, 0.04184177977010144, 0.04061481110040961, 0.03923258909705947, 0.037682560711685485, 0.03595365372426266, 0.034037617631154156, 0.03193099312977105, 0.02963803746165619, 0.027175174120438853, 0.024577985444779297, 0.02191254482427348, 0.019293851711466928, 0.016913293940231545, 0.015064893581176478, 0.014116129415673584, 0.01433391260423831, 0.015665562209280733, 0.017789035670345094, 0.020349827861443927, 0.023085464527307597, 0.025828564932305002, 0.028478156645262192, 0.030975504861292358, 0.03328858633615647, 0.03540258153421562, 0.037313942733251296, 0.03902654837815818, 0.0405491107282014, 0.04189337245717138, 0.04307282547049986, 0.04410179159132472, 0.04499476355169373, 0.04576593845222292, 0.04642889609781617, 0.046996387391355386, 0.049024077634351966, 0.04884512150277157, 0.048636710062034516, 0.04839499576237132, 0.048115853545309485, 0.04779491051826492, 0.04742758844296199, 0.04700916019677004, 0.046534821138523474, 0.045999776164387836, 0.04539934333708767, 0.04472907556064433, 0.04398490319811509, 0.04316330323165389, 0.042261505039572496, 0.04127774957167997, 0.04021162787129969, 0.03906453619476888, 0.037840297011083816, 0.03654600460819133, 0.035193154333128, 0.03379909374135252, 0.03238877176703206, 0.030996626585217575, 0.029668203323869324, 0.028460704670246226, 0.027441222708956964, 0.026681198422932442, 0.026246359723771012, 0.026183573948232817, 0.026509018573421483, 0.02720321006266972, 0.028215541200256072, 0.029475848238370118, 0.030907595231358883, 0.032438285098998834, 0.034005547270429606, 0.035559481816221435, 0.03706257292232789, 0.03848834781649901, 0.03981956288722606, 0.04104635086214583, 0.042164534201795646, 0.04317418085869614, 0.04407841328528518, 0.04488245203515486, 0.045592864197446625, 0.046216984690688086, 0.04676248019449564, 0.04723702879329489, 0.04884249050713619, 0.048635477220018784, 0.048396151929486264, 0.04812086229171481, 0.04780589926983394, 0.047447604903408915, 0.04704251110818957, 0.04658751242423911, 0.04608007431495704, 0.045518476518957955, 0.04490208787745034, 0.04423166483530391, 0.04350966036825655, 0.04274052353567663, 0.04193096264181095, 0.04109013804593103, 0.04022974555843095, 0.039363950283133387, 0.038509136214155, 0.03768345089944614, 0.036906147360586394, 0.03619675449327865, 0.03557413611307609, 0.03505551926357986, 0.034655577441098755, 0.034385642858835164, 0.03425310025244607, 0.03426099391498135, 0.034407867698262797, 0.034687853701740476, 0.03509101989500322, 0.03560396981472834, 0.036210656753371144, 0.036893339538820444, 0.03763358160641, 0.03841319045738388, 0.03921501218728987, 0.04002352817630423, 0.04082523721939144, 0.04160883696339078, 0.042365238559672495, 0.04308745735764262, 0.043770422472485866, 0.044410742404271945, 0.045006455603687955, 0.045556786226405036, 0.04606191766069492, 0.04652279037774251, 0.046940926352640105, 0.047318279546798195, 0.04873170742028546, 0.048515336853451066, 0.04826759187066434, 0.04798545280393358, 0.04766599678977876, 0.04730652460779591, 0.04690471719633342, 0.046458823197214116, 0.04596787691247728, 0.04543194304789719, 0.04485238030971451, 0.044232110106763034, 0.04357586925596846, 0.042890417023475805, 0.04218465801767239, 0.04146963529150684, 0.040758345594582475, 0.04006533519194133, 0.039406054414086816, 0.03879598480746522, 0.038249602518360626, 0.037779296135957145, 0.037394399767962994, 0.03710051262411478, 0.036899241086464474, 0.036788420489930085, 0.03676277311548516, 0.036814868815225034, 0.03693620354769084, 0.03711821007239766, 0.03735305583899202, 0.03763414577751612, 0.037956311743907185, 0.038315722135134025, 0.03870957933713329, 0.03913568968476744, 0.039591993348465304, 0.04007613302253201, 0.04058512309655424, 0.041115157874658144, 0.04166157175475932, 0.04221894006273399, 0.042781290247245085, 0.043342381977426264, 0.043896012063686124, 0.04443630486372348, 0.0449579584781839, 0.0454564287209068, 0.04592804408716522, 0.046370054087100224, 0.04857946901220967, 0.04835115993446022, 0.04809314480937015, 0.04780330180339192, 0.04747976042641472, 0.04712101281070162, 0.046726035913240115, 0.046294420401694715, 0.04582649994662913, 0.0453234723530179, 0.044787501580327294, 0.044221787499093015, 0.043630588641258655, 0.04301918282102163, 0.04239375208433189, 0.041761182800682514, 0.04112877951080096, 0.040503902587527715, 0.03989355416860933, 0.03930395225163231, 0.038740146079803486, 0.03820573298711466, 0.03770273409312741, 0.037231671933502165, 0.036791868645317964, 0.03638195309135364, 0.03600053515862975, 0.03564698021722578, 0.0353221981351653, 0.035029347907766795, 0.03477434859513406, 0.0345660805477245, 0.03441616480396092, 0.03433823649190093, 0.034346694585084915, 0.03445501981520555, 0.03467388623792601, 0.03500940375330643, 0.0354618603648328, 0.03602524731411526, 0.03668766387375646, 0.037432481423396335, 0.038239983699944, 0.039089143670460846, 0.03995924388261054, 0.040831153063974945, 0.04168818641921837, 0.042516566348189413, 0.043305552476198175, 0.044047329190462677, 0.0481784006710507, 0.04788686903698073, 0.04755832139527173, 0.04719045212393088, 0.04678138159128851, 0.04632980739118706, 0.045835161530052945, 0.04529776270869536, 0.044718948695178264, 0.044101169609816436, 0.04344801951761247, 0.042764182231223836, 0.0420552692312271, 0.041327534839142664, 0.040587467637410925, 0.0398412779000266, 0.039094326665403877, 0.03835056841253961, 0.03761209878024291, 0.03687890302753968, 0.03614888364773181, 0.035418206026862825, 0.03468194644023669, 0.033934971199536895, 0.033172936503802646, 0.0323932896666156, 0.03159617976173103, 0.030785243532607535, 0.02996830166068383, 0.029158049251146175, 0.02837281112844111, 0.02763731639880494, 0.026983210508690174, 0.02644871292765663, 0.02607660358538091, 0.025909864862237578, 0.025985091161766564, 0.026325109969019787, 0.026933359135178327, 0.02779235669404118, 0.02886685829693356, 0.030110211040462284, 0.031471455449501674, 0.0329012126472845, 0.03435552324549559, 0.035797730066061025, 0.03719892272700273, 0.03853750710605389, 0.03979833762360588, 0.04097169674635818, 0.04750573440264379, 0.04708850255965216, 0.046614122000804455, 0.046078047692217586, 0.0454762235458022, 0.044805365839639476, 0.04406329708458278, 0.04324932493943517, 0.042364652520191004, 0.041412794390972514, 0.04039995601382871, 0.03933531360735519, 0.0382311081737791, 0.03710244720401264, 0.03596670059276327, 0.03484239953523889, 0.033747617150252034, 0.032697938623000494, 0.03170430416683092, 0.03077117784624311, 0.02989557166808837, 0.029067354845157954, 0.02827098942602985, 0.027488447180426666, 0.026702735271776266, 0.025901315417749135, 0.025078767691597496, 0.02423826305442891, 0.023391687330823533, 0.02255855833007651, 0.021764178954714893, 0.021037719218181976, 0.02041096995605612, 0.019918145970518338, 0.019596253275182978, 0.0194845194477119, 0.01962108051273239, 0.020036371142636605, 0.020745182389439957, 0.02174115298035059, 0.02299654614173604, 0.024467123022312035, 0.026099499837949593, 0.027838189886445375, 0.029630804773819783, 0.03143116928697301, 0.03320075670392395, 0.03490898779102837, 0.036532844931184534, 0.0380561165344483, 0.0468448207320429, 0.04630163736844914, 0.045679840567902766, 0.04497197251795549, 0.044170879767202444, 0.04327006103499878, 0.0422641056064245, 0.04114923359754066, 0.03992394671484421, 0.03858979211395119, 0.037152230142546, 0.035621575206817434, 0.034013941844422343, 0.032352067616923566, 0.03066579351236864, 0.02899186265164881, 0.027372577933358483, 0.025852824612284376, 0.024475176727282652, 0.023273444926401612, 0.02226605981182692, 0.021451598184419534, 0.02080864469900122, 0.02030060665478855, 0.01988391388497891, 0.01951676849739346, 0.01916592623971917, 0.018810226390669333, 0.01844073902832525, 0.018058074114324772, 0.017667831631624355, 0.01727572695136675, 0.016884594116291486, 0.016495680565033862, 0.016115630205527632, 0.015768131471865527, 0.01550602126987229, 0.015416452399449318, 0.015610050025915468, 0.016189786926192763, 0.01721123969936803, 0.018660412399668744, 0.02046403719618187, 0.022519406576637906, 0.02472184225315519, 0.026980142510653424, 0.02922182757302507, 0.03139286832122722, 0.03345524543900291, 0.03538401253567359, 0.04650287065555411, 0.04590195675947589, 0.04521306723973802, 0.044427483295682385, 0.04353667215323421, 0.04253262073612975, 0.041408250627279014, 0.04015792091686344, 0.0387780222955487, 0.037267660677732975, 0.035629421438224784, 0.033870196118284936, 0.032002043184731946, 0.03004304560596553, 0.028018124939293447, 0.025959778541517826, 0.023908718976606003, 0.02191437574090049, 0.0200350547798406, 0.018337017491486498, 0.01689066045308762, 0.015760933938852948, 0.014990601586635123, 0.014581785031286638, 0.014488921634349719, 0.01463147906944199, 0.014918138258730788, 0.015266734438940263, 0.015612541321791346, 0.01590731565117029, 0.016114606952283218, 0.016205671965418295, 0.016158507004273157, 0.015961209173346164, 0.015620024153307249, 0.015171643196718201, 0.014697703704206437, 0.014335095164192704, 0.014267125576234177, 0.014676368723324625, 0.01566662936355577, 0.017214607923209193, 0.019198891905173793, 0.021466155954578563, 0.023877100436958964, 0.026322474110444877, 0.02872295036969995, 0.031023886191215613, 0.03318965544859525, 0.035198891895631725, 0.04657444989182542, 0.04600378240994861, 0.04535004402920642, 0.04460487569073459, 0.04376005673227807, 0.04280781496913712, 0.04174121560226231, 0.040554638014103084, 0.03924434787354819, 0.03780916855229344, 0.0362512495368618, 0.034576918523976936, 0.03279758545934841, 0.030930636891752402, 0.029000212380894588, 0.027037685929419315, 0.025081582863925273, 0.02317655704811757, 0.021370972595072785, 0.019712662176023577, 0.01824272357443213, 0.01698801166590302, 0.015954508290927278, 0.015125549503944456, 0.014468878622969108, 0.013952466961468643, 0.013562959563040641, 0.013317523613115029, 0.01326135254148063, 0.0134481534322936, 0.01391077296443923, 0.014639842885214608, 0.015585466682152181, 0.016678093215408425, 0.01785216370242592, 0.019061175074022694, 0.020282553869241167, 0.0215151391928933, 0.0227723346497252, 0.024073414278415008, 0.025435183950926993, 0.02686589118994987, 0.028362495269737657, 0.029911251966877227, 0.03149058462262481, 0.03307485373009263, 0.03463788486889373, 0.036155632541608945, 0.037607825325777916, 0.03897871947410993, 0.046973856314064796, 0.04651570388626109, 0.045994386616730394, 0.04540406270809, 0.044739222728644654, 0.04399497743134139, 0.0431674020418595, 0.04225393426768919, 0.041253815747563524, 0.04016855487323838, 0.03900237154707602, 0.03776256057439946, 0.03645968061094264, 0.03510744395040893, 0.03372215940607434, 0.032321585961877675, 0.030923118064083228, 0.02954137479939814, 0.02818551401547666, 0.026856895013234326, 0.025547957493858627, 0.024243229120923988, 0.022923152305787356, 0.021571027211023414, 0.020183008894048927, 0.018780847446894653, 0.017426443254833463, 0.016234670417170024, 0.015373568341694163, 0.015031000778536772, 0.015337561640933698, 0.016292566451051677, 0.017769262263874073, 0.019588730618168803, 0.02158616978022895, 0.02363744119117314, 0.02565956424652859, 0.027602379707328883, 0.029439420027472785, 0.031160274947351546, 0.03276469329843547, 0.03425818594015613, 0.03564887068024176, 0.03694534676291173, 0.03815541312977113, 0.0392854497338459, 0.040340281986342034, 0.04132335821353647, 0.042237092922547015, 0.04308326152367208, 0.04740273894121272, 0.04707466862156806, 0.0467045482504829, 0.04628818328870699, 0.04582146509003352, 0.0453004966301111, 0.04472172398099099, 0.04408206496244374, 0.04337902406975179, 0.042610780851631676, 0.04177623813797467, 0.04087501803168304, 0.03990739889070516, 0.03887419732714132, 0.03777661696649599, 0.03661611076189606, 0.03539433453005925, 0.03411330181330621, 0.032775876964795725, 0.031386754998806436, 0.029954062487539946, 0.028491661071817706, 0.027022124056897995, 0.025580146105583075, 0.024215757463910356, 0.022996046429722437, 0.022003176285965653, 0.021325908176573247, 0.02104321651260334, 0.0212034699017961, 0.021808731786686, 0.022813661597191677, 0.024139350467098, 0.02569319311269204, 0.027385481466468974, 0.029139010814541302, 0.03089262596534535, 0.03260106205014876, 0.03423302599672027, 0.03576868589120227, 0.037197155337179995, 0.03851422993474993, 0.03972046811027479, 0.0408196314031324, 0.04181746411110186, 0.042720776082579806, 0.04353678524490374, 0.04427267403241566, 0.044935314611857236, 0.045531120935188296, 0.04762845516521465, 0.04738197057651151, 0.04710359388689865, 0.04678858867934984, 0.04643177973138805, 0.04602754969558913, 0.04556982794565287, 0.04505207017625021, 0.04446723000729664, 0.04380772773814536, 0.04306542667673895, 0.04223163428124802, 0.04129715384487457, 0.04025242279870859, 0.03908778617016854, 0.03779396885066384, 0.03636282921737581, 0.03478850152427029, 0.03306906919311303, 0.031208961353724123, 0.02922233577277492, 0.027137795340681576, 0.025004820426855832, 0.02290204067642807, 0.020946184184716003, 0.01929665857693444, 0.018143157513587665, 0.01765968597784689, 0.01793122791132322, 0.018907661694711912, 0.020433280483684795, 0.022319685504140662, 0.024400309792122713, 0.026549307928097936, 0.028679478663407053, 0.03073378542600154, 0.03267699825478961, 0.03448916474060264, 0.03616088317066827, 0.037689957438767505, 0.03907903358747894, 0.040333920257204496, 0.041462387814605914, 0.04247330767833506, 0.04337603800954692, 0.04417999098367957, 0.04489433565562766, 0.04552780271170249, 0.046088565626196384, 0.04658417847089401, 0.04775831979149158, 0.0475468118422607, 0.047306595175116435, 0.0470325029559704, 0.04671878030413766, 0.046359081111223506, 0.04594646590984437, 0.045473402252585574, 0.044931771991466175, 0.0443128936700896, 0.04360757296550582, 0.04280619981015928, 0.041898917660455656, 0.04087589870659868, 0.039727769249748426, 0.038446243000498356, 0.03702503820094031, 0.035461179397099155, 0.033756818912461066, 0.03192175779020296, 0.0299768947251272, 0.027958850502857815, 0.02592588972040007, 0.02396467253571623, 0.02219562264504836, 0.02077094100381853, 0.019854770576708237, 0.01957831398862193, 0.019985776722381957, 0.02101245994374607, 0.022516104828781268, 0.02433209942867327, 0.026313821335924265, 0.02834812113625473, 0.03035510765890007, 0.03228209492356364, 0.03409681680002895, 0.03578166364405441, 0.037329237784972664, 0.03873906092884163, 0.040015181834947774, 0.04116446083441437, 0.042195356316448385, 0.04311708126342447, 0.043939031008281136, 0.044670408065989785, 0.045319988363627564, 0.04589598720945634, 0.046405994088998, 0.04685695363973196, 0.04798257386387164, 0.04778285328168511, 0.04755468392775507, 0.04729317299502534, 0.04699299299968562, 0.04664843905649907, 0.04625350635711507, 0.04580199213794801, 0.045287628477006764, 0.04470425461447234, 0.0440460399764187, 0.04330777148106618, 0.042485220754530595, 0.04157560820906911, 0.04057818096684707, 0.03949491936886031, 0.03833138056490968, 0.0370976743965583, 0.03580954130408623, 0.03448945620483082, 0.03316760523226702, 0.03188246369558601, 0.030680546792691, 0.0296147541934433, 0.02874071166908512, 0.028110842728353846, 0.027766758820868983, 0.027731761532678093, 0.028006034740815974, 0.02856654088167196, 0.029371713206003482, 0.0303690342038039, 0.03150287373805816, 0.0327206604446639, 0.033976687524535955, 0.03523378137719078, 0.03646345039157328, 0.03764513892853101, 0.03876506090637223, 0.03981491837241697, 0.04079067762278529, 0.04169148674521355, 0.042518765033755956, 0.04327546520189613, 0.04396549457696502, 0.044593275254517416, 0.04516342160395762, 0.045680514227733976, 0.04614895120356548, 0.04657285953469005, 0.04830940321259945, 0.0481110930594073, 0.047881774451145186, 0.04761640151806419, 0.0473094925144288, 0.046955192331804486, 0.04654736487663047, 0.04607972265671735, 0.04554600272380423, 0.044940199937493444, 0.04425687007513272, 0.04349151620460528, 0.04264107136267894, 0.041704488057795655, 0.04068343914625056, 0.039583123336484796, 0.03841314933354702, 0.03718844204756557, 0.035930068648943575, 0.034665819257489905, 0.03343030010623565, 0.03226422359257042, 0.031212552993849778, 0.030321255326110304, 0.02963271966568879, 0.02918042754046614, 0.02898404879095395, 0.029046404178394727, 0.029353335255312092, 0.02987651961269454, 0.030578233094892788, 0.031416599959297124, 0.03235012031826126, 0.0333408777866781, 0.03435638983556139, 0.035370369716369796, 0.03636274258603262, 0.03731920559954394, 0.03823053377399552, 0.03909175842502369, 0.03990129679477039, 0.04066008650076116, 0.0413707674604069, 0.04203694834484761, 0.04266258857332394, 0.043251517740609244, 0.04380710218526891, 0.04433205487917368, 0.044828372339373035, 0.045297372958946, 0.0486633400388402, 0.04847380947729064, 0.04825212733727735, 0.04799315287547085, 0.04769124711956282, 0.04734031136578892, 0.046933855509488025, 0.04646510468323128, 0.045927154407306554, 0.045313186211878985, 0.04461675727066221, 0.04383217867647637, 0.04295499709418333, 0.041982592874351965, 0.04091490310768197, 0.039755268725678784, 0.03851138791467303, 0.03719633004822465, 0.03582952038130466, 0.03443754150599365, 0.03305451263254664, 0.031721713893277555, 0.030486057762555557, 0.029397050715463665, 0.028502144221864208, 0.02784091591850919, 0.02743923936482848, 0.027305100831594792, 0.02742750470894046, 0.02777886262762341, 0.02831995800494775, 0.029005846736914184, 0.029791219578513793, 0.030634447839518946, 0.031500200851793496, 0.032360871708696524, 0.03319710401574317, 0.03399763109461912, 0.034758548875648505, 0.03548210339928677, 0.03617508876690911, 0.03684699997723885, 0.03750813692153061, 0.038167882121691504, 0.0388333566104244, 0.03950859316911944, 0.04019426972846503, 0.04088794600163013, 0.041584671233813195, 0.042277796645177404, 0.04900191827399675, 0.04884097862589347, 0.048652006261380734, 0.048430714293223404, 0.04817242294487318, 0.047872095748433215, 0.04752440146453692, 0.04712380797842303, 0.0466647150469458, 0.046141633121704294, 0.045549415362208655, 0.044883549121058214, 0.044140511289908556, 0.04331818850613441, 0.04241635780389566, 0.041437215239510494, 0.04038592870485152, 0.039271176072349784, 0.03810561091987428, 0.03690617620814534, 0.035694163954837384, 0.034494901408755045, 0.03333694051209257, 0.03225065083603557, 0.03126618249680069, 0.03041088673258672, 0.029706452846460833, 0.029166202954302535, 0.0287931044415681, 0.02857902807992452, 0.028505561442719506, 0.028546345042514472, 0.028670570002821368, 0.028847082375733704, 0.029048508331150077, 0.029254885800224516, 0.029456378937167214, 0.02965471718979304, 0.029863054271327176, 0.03010404466320838, 0.030406163723452954, 0.030798688971161472, 0.03130623529908874, 0.03194406887661126, 0.03271534631275475, 0.0336108585205009, 0.03461104894271225, 0.03568944227156779, 0.0368164334895328, 0.03796260947576495, 0.049297944768549325, 0.04917738601755269, 0.04903591593641106, 0.0488704912161881, 0.048677813873854954, 0.048454360530328665, 0.04819642903003832, 0.047900205871011174, 0.047561857970975785, 0.04717765212187632, 0.046744104986389916, 0.04625816554611647, 0.04571743037534259, 0.04512038980893948, 0.04446669978811607, 0.04375746966789092, 0.04299555031986761, 0.04218579929350341, 0.041335290643978666, 0.04045342679308326, 0.0395518998341241, 0.03864444281272456, 0.03774631240662598, 0.03687345964823641, 0.036041381958624635, 0.0352637119550428, 0.034550682178011764, 0.03390769287263831, 0.0333342723093001, 0.03282372300006368, 0.03236367443717427, 0.03193762488090032, 0.031527390111609155, 0.03111623141446233, 0.030692333586693515, 0.03025223764819633, 0.029803767908935692, 0.02936789645704418, 0.028978868628305964, 0.02868186672009928, 0.028527723086373736, 0.028564941247282347, 0.02883052520900482, 0.029342255935542478, 0.030095087304224402, 0.031062806852911597, 0.03220388822320004, 0.03346906596754872, 0.03480827012673316, 0.036175613334485435, 0.04953605418145216, 0.049455353218689414, 0.04936089025866374, 0.04925075303818992, 0.049122885566672964, 0.048975110020996915, 0.04880515971652986, 0.04861072514555186, 0.04838951500409357, 0.04813933387324558, 0.047858177705918194, 0.04754434740165628, 0.047196579421402055, 0.04681419048379261, 0.046397230787527714, 0.04594663685885487, 0.045464371072507115, 0.044953530375284885, 0.04441840229917057, 0.043864442959359144, 0.0432981508684051, 0.04272681397620199, 0.04215811739881792, 0.041599617294000676, 0.04105811215943573, 0.0405389736889528, 0.04004552922380481, 0.03957860827188864, 0.03913636785468068, 0.038714490137449514, 0.03830680157129764, 0.037906302832879074, 0.03750653417174751, 0.037103141487084185, 0.03669546011084104, 0.03628789662258059, 0.03589086393994571, 0.035521017058961366, 0.03520056348563177, 0.03495551239257877, 0.034812906931344874, 0.034797351173263526, 0.03492742955112482, 0.03521279004381129, 0.03565258864691785, 0.03623564354058088, 0.03694215736347398, 0.037746460852586566, 0.03862007486664934, 0.0395344880182212, 0.04971529622722823, 0.049667626032039905, 0.04961213521783575, 0.04954782026803373, 0.04947362196618858, 0.04938844204011712, 0.04929116594204379, 0.049180692478541316, 0.04905597078914242, 0.04891604482132196, 0.048760104932207525, 0.04858754553901664, 0.04839802682855279, 0.04819153743215471, 0.04796845372458346, 0.04772959011517337, 0.04747623353786766, 0.04721015456294298, 0.04693358747124574, 0.04664917262151949, 0.04635985685575101, 0.04606875175994829, 0.04577895530938724, 0.04549334937041031, 0.04521439282071798, 0.04494393634783767, 0.044683088681810215, 0.044432163580580775, 0.044190731296756484, 0.04395778739407291, 0.043732036610983197, 0.043512271905574655, 0.04329781136065207, 0.04308894089156093, 0.042887301038007475, 0.042696153482942895, 0.04252046886844259, 0.04236679304444159, 0.04224287431932965, 0.04215706817488083, 0.042117574271973816, 0.0421315963891747, 0.04220454004358269, 0.04233936628651484, 0.042536199143410204, 0.04279224124558917, 0.04310199770646976, 0.04345775660259918, 0.04385023844255212, 0.04426931350291221, 0.04983794690614521, 0.04981349656058887, 0.04978528562523476, 0.04975288830016009, 0.04971586770859402, 0.04967378543067494, 0.049626213431840115, 0.049572748423385285, 0.049513028537566325, 0.04944675199728692, 0.04937369721237165, 0.0492937434485363, 0.04920689090794141, 0.04911327875877492, 0.04901319939457877, 0.048907107042387855, 0.048795618831183836, 0.04867950664016491, 0.0485596785238165, 0.04843714929034538, 0.048313000886877705, 0.04818833456101237, 0.04806421820215863, 0.04794163363139546, 0.04782142966894569, 0.04770428730832632, 0.04759070303764804, 0.04748099512423331, 0.04737533550193956, 0.04727380691646126, 0.04717648150253725, 0.047083513433924286, 0.04699523522530853, 0.0469122452000896, 0.046835473015838895, 0.04676621125398302, 0.04670610401112076, 0.04665708799697422, 0.04662128739066738, 0.046600869913932114, 0.046597877335900685, 0.04661404795770077, 0.04665065068990547, 0.04670834961673942, 0.04678711441808809, 0.04688618622824811, 0.04700410144965805, 0.04713876895335785, 0.04728759017497255, 0.04744760771966772, 0.049911136284132164, 0.04990022797959157, 0.0498877758830309, 0.049873630939322594, 0.04985764522092825, 0.04983967589805258, 0.04981958986095747, 0.04979726892132517, 0.04977261546270188, 0.04974555834608377, 0.049716058809345, 0.04968411603399232, 0.049649771997054705, 0.049613115188796554, 0.04957428276842523, 0.04953346076011399, 0.049490881969100196, 0.04944682142768713, 0.049401589363697276, 0.04935552191207568, 0.0493089700480603, 0.049262287482754026, 0.04921581849629871, 0.049169886852458176, 0.049124787003353466, 0.04908077872240886, 0.04903808607803688, 0.04899690127985595, 0.04895739341596978, 0.048919721500707024, 0.048884050634838964, 0.04885056952607702, 0.04881950721126013, 0.04879114663835912, 0.04876583285938453, 0.04874397397458511, 0.04872603363397373, 0.0487125147825317, 0.04870393533181912, 0.048700797428949796, 0.048703552841014686, 0.048712567557635894, 0.048728088946867275, 0.048750218639046376, 0.04877889377571467, 0.04881387841873641, 0.04885476588489964, 0.04890099169421712, 0.048951855836097825, 0.04900655228322306];\n",
       "const xvar = \"epochs\";\n",
       "const yvar = \"lr\";\n",
       "const x_is_log = false;\n",
       "const y_is_log = true;\n",
       "\n",
       "const GREEN_SCALE = [[247, 252, 253], [229, 245, 249], [204, 236, 230], [153, 216, 201], [102, 194, 164], [65, 174, 118], [35, 139, 69], [0, 109, 44], [0, 68, 27]];\n",
       "const GREEN_PINK_SCALE = [[142, 1, 82], [197, 27, 125], [222, 119, 174], [241, 182, 218], [253, 224, 239], [247, 247, 247], [230, 245, 208], [184, 225, 134], [127, 188, 65], [77, 146, 33], [39, 100, 25]];\n",
       "const BLUE_SCALE = [[255, 247, 251], [236, 231, 242], [208, 209, 230], [166, 189, 219], [116, 169, 207], [54, 144, 192], [5, 112, 176], [3, 78, 123]];\n",
       "\n",
       "// format data\n",
       "const res = relativize_data(f, sd, rel, arm_data, metric);\n",
       "const f_final = res[0];\n",
       "const sd_final = res[1];\n",
       "\n",
       "// calculate max of abs(outcome), used for colorscale\n",
       "const f_absmax = Math.max(Math.abs(Math.min(...f_final)), Math.max(...f_final));\n",
       "\n",
       "// transform to nested array\n",
       "var f_plt = [];\n",
       "while(f_final.length) f_plt.push(f_final.splice(0, density));\n",
       "var sd_plt = [];\n",
       "while(sd_final.length) sd_plt.push(sd_final.splice(0, density));\n",
       "\n",
       "// create traces\n",
       "const CONTOUR_CONFIG = {\n",
       "  autocolorscale: false,\n",
       "  autocontour: true,\n",
       "  contours: {\n",
       "    coloring: 'heatmap',\n",
       "  },\n",
       "  hoverinfo: 'x+y+z',\n",
       "  ncontours: density / 2,\n",
       "  type: 'contour',\n",
       "  x: grid_x,\n",
       "  y: grid_y,\n",
       "};\n",
       "\n",
       "let f_scale;\n",
       "if (rel === true) {\n",
       "  f_scale = lower_is_better === true\n",
       "    ? GREEN_PINK_SCALE.reverse()\n",
       "    : GREEN_PINK_SCALE;\n",
       "} else {\n",
       "  f_scale = GREEN_SCALE;\n",
       "}\n",
       "\n",
       "const f_trace = {\n",
       "  colorbar: {\n",
       "    x: 0.45,\n",
       "    y: 0.5,\n",
       "    ticksuffix: rel === true ? '%' : '',\n",
       "    tickfont: {\n",
       "      size: 8,\n",
       "    },\n",
       "  },\n",
       "  colorscale: f_scale.map(\n",
       "    (v, i) => [i / (f_scale.length - 1), rgb(v)]\n",
       "  ),\n",
       "  xaxis: 'x',\n",
       "  yaxis: 'y',\n",
       "  z: f_plt,\n",
       "  // zmax and zmin are ignored if zauto is true\n",
       "  zauto: !rel,\n",
       "  zmax: f_absmax,\n",
       "  zmin: -f_absmax,\n",
       "};\n",
       "\n",
       "const sd_trace = {\n",
       "  colorbar: {\n",
       "      x: 1,\n",
       "      y: 0.5,\n",
       "      ticksuffix: rel === true ? '%' : '',\n",
       "      tickfont: {\n",
       "        size: 8,\n",
       "      },\n",
       "  },\n",
       "  colorscale: BLUE_SCALE.map(\n",
       "    (v, i) => [i / (BLUE_SCALE.length - 1), rgb(v)]\n",
       "  ),\n",
       "  xaxis: 'x2',\n",
       "  yaxis: 'y2',\n",
       "  z: sd_plt,\n",
       "};\n",
       "\n",
       "Object.keys(CONTOUR_CONFIG).forEach(key => {\n",
       "  f_trace[key] = CONTOUR_CONFIG[key];\n",
       "  sd_trace[key] = CONTOUR_CONFIG[key];\n",
       "});\n",
       "\n",
       "// get in-sample arms\n",
       "const arm_x = [];\n",
       "const arm_y = [];\n",
       "const arm_text = [];\n",
       "\n",
       "Object.keys(arm_data['in_sample']).forEach(arm_name => {\n",
       "  arm_x.push(arm_data['in_sample'][arm_name]['parameters'][xvar]);\n",
       "  arm_y.push(arm_data['in_sample'][arm_name]['parameters'][yvar]);\n",
       "  arm_text.push(arm_name);\n",
       "});\n",
       "\n",
       "// configs for in-sample arms\n",
       "const base_in_sample_arm_config = {\n",
       "  hoverinfo: 'text',\n",
       "  legendgroup: 'In-sample',\n",
       "  marker: {color: 'black', symbol: 1, opacity: 0.5},\n",
       "  mode: 'markers',\n",
       "  name: 'In-sample',\n",
       "  text: arm_text,\n",
       "  type: 'scatter',\n",
       "  x: arm_x,\n",
       "  y: arm_y,\n",
       "};\n",
       "\n",
       "const f_in_sample_arm_trace = {\n",
       "  xaxis: 'x',\n",
       "  yaxis: 'y',\n",
       "};\n",
       "\n",
       "const sd_in_sample_arm_trace = {\n",
       "  showlegend: false,\n",
       "  xaxis: 'x2',\n",
       "  yaxis: 'y2',\n",
       "};\n",
       "\n",
       "Object.keys(base_in_sample_arm_config).forEach(key => {\n",
       "  f_in_sample_arm_trace[key] = base_in_sample_arm_config[key];\n",
       "  sd_in_sample_arm_trace[key] = base_in_sample_arm_config[key];\n",
       "});\n",
       "\n",
       "const traces = [\n",
       "  f_trace,\n",
       "  sd_trace,\n",
       "  f_in_sample_arm_trace,\n",
       "  sd_in_sample_arm_trace,\n",
       "];\n",
       "\n",
       "// start symbol at 2 for candidate markers\n",
       "let i = 2;\n",
       "\n",
       "// iterate over out-of-sample arms\n",
       "Object.keys(arm_data['out_of_sample']).forEach(generator_run_name => {\n",
       "  const ax = [];\n",
       "  const ay = [];\n",
       "  const atext = [];\n",
       "\n",
       "  Object.keys(arm_data['out_of_sample'][generator_run_name]).forEach(arm_name => {\n",
       "    ax.push(\n",
       "      arm_data['out_of_sample'][generator_run_name][arm_name]['parameters'][xvar]\n",
       "    );\n",
       "    ay.push(\n",
       "      arm_data['out_of_sample'][generator_run_name][arm_name]['parameters'][yvar]\n",
       "    );\n",
       "    atext.push('<em>Candidate ' + arm_name + '</em>');\n",
       "  });\n",
       "\n",
       "  traces.push({\n",
       "    hoverinfo: 'text',\n",
       "    legendgroup: generator_run_name,\n",
       "    marker: {color: 'black', symbol: i, opacity: 0.5},\n",
       "    mode: 'markers',\n",
       "    name: generator_run_name,\n",
       "    text: atext,\n",
       "    type: 'scatter',\n",
       "    xaxis: 'x',\n",
       "    x: ax,\n",
       "    yaxis: 'y',\n",
       "    y: ay,\n",
       "  });\n",
       "  traces.push({\n",
       "    hoverinfo: 'text',\n",
       "    legendgroup: generator_run_name,\n",
       "    marker: {color: 'black', symbol: i, opacity: 0.5},\n",
       "    mode: 'markers',\n",
       "    name: 'In-sample',\n",
       "    showlegend: false,\n",
       "    text: atext,\n",
       "    type: 'scatter',\n",
       "    x: ax,\n",
       "    xaxis: 'x2',\n",
       "    y: ay,\n",
       "    yaxis: 'y2',\n",
       "  });\n",
       "  i += 1;\n",
       "});\n",
       "\n",
       "// layout\n",
       "const xrange = axis_range(grid_x, x_is_log);\n",
       "const yrange = axis_range(grid_y, y_is_log);\n",
       "\n",
       "const xtype = x_is_log ? 'log' : 'linear';\n",
       "const ytype = y_is_log ? 'log' : 'linear';\n",
       "\n",
       "const layout = {\n",
       "  autosize: false,\n",
       "    margin: {\n",
       "      l: 35,\n",
       "      r: 35,\n",
       "      t: 35,\n",
       "      b: 100,\n",
       "      pad: 0,\n",
       "  },\n",
       "  annotations: [\n",
       "    {\n",
       "      font: {size: 14},\n",
       "      showarrow: false,\n",
       "      text: 'Mean',\n",
       "      x: 0.25,\n",
       "      xanchor: 'center',\n",
       "      xref: 'paper',\n",
       "      y: 1,\n",
       "      yanchor: 'bottom',\n",
       "      yref: 'paper',\n",
       "    },\n",
       "    {\n",
       "      font: {size: 14},\n",
       "      showarrow: false,\n",
       "      text: 'Standard Error',\n",
       "      x: 0.8,\n",
       "      xanchor: 'center',\n",
       "      xref: 'paper',\n",
       "      y: 1,\n",
       "      yanchor: 'bottom',\n",
       "      yref: 'paper',\n",
       "    },\n",
       "  ],\n",
       "  hovermode: 'closest',\n",
       "  legend: {orientation: 'h', x: 0, y: -0.25},\n",
       "  height: 450,\n",
       "  width: 950,\n",
       "  xaxis: {\n",
       "    anchor: 'y',\n",
       "    autorange: false,\n",
       "    domain: [0.05, 0.45],\n",
       "    exponentformat: 'e',\n",
       "    range: xrange,\n",
       "    tickfont: {size: 11},\n",
       "    tickmode: 'auto',\n",
       "    title: xvar,\n",
       "    type: xtype,\n",
       "  },\n",
       "  xaxis2: {\n",
       "    anchor: 'y2',\n",
       "    autorange: false,\n",
       "    domain: [0.60, 1],\n",
       "    exponentformat: 'e',\n",
       "    range: xrange,\n",
       "    tickfont: {size: 11},\n",
       "    tickmode: 'auto',\n",
       "    title: xvar,\n",
       "    type: xtype,\n",
       "  },\n",
       "  yaxis: {\n",
       "    anchor: 'x',\n",
       "    autorange: false,\n",
       "    domain: [0, 1],\n",
       "    exponentformat: 'e',\n",
       "    range: yrange,\n",
       "    tickfont: {size: 11},\n",
       "    tickmode: 'auto',\n",
       "    title: yvar,\n",
       "    type: ytype,\n",
       "  },\n",
       "  yaxis2: {\n",
       "    anchor: 'x2',\n",
       "    autorange: false,\n",
       "    domain: [0, 1],\n",
       "    exponentformat: 'e',\n",
       "    range: yrange,\n",
       "    tickfont: {size: 11},\n",
       "    tickmode: 'auto',\n",
       "    type: ytype,\n",
       "  },\n",
       "};\n",
       "\n",
       "Plotly.newPlot(\"f19b827276f54d25b9b8f07268580461\", traces, layout, {showLink: false});\n",
       "});</script>"
      ]
     },
     "metadata": {},
     "output_type": "display_data"
    }
   ],
   "source": [
    "render(plot_contour(model=gpei, param_x='epochs', param_y='lr', metric_name='log_eval'))"
   ]
  },
  {
   "cell_type": "code",
   "execution_count": 24,
   "metadata": {
    "pycharm": {
     "name": "#%%\n"
    },
    "scrolled": false
   },
   "outputs": [
    {
     "data": {
      "text/html": [
       "<div id=\"6d88be4e69f04bc583d410730488eefc\" style=\"width: 100%;\" class=\"plotly-graph-div\"></div><script type='text/javascript'>/*\n",
       " * Copyright (c) Facebook, Inc. and its affiliates. All Rights Reserved.\n",
       " */\n",
       "\n",
       "require(['plotly'], function(Plotly) {\n",
       "  window.PLOTLYENV = window.PLOTLYENV || {};\n",
       "  window.PLOTLYENV.BASE_URL = 'https://plot.ly';\n",
       "  /*\n",
       " * Copyright (c) Facebook, Inc. and its affiliates. All Rights Reserved.\n",
       " */\n",
       "\n",
       "const arm_data = {\"metrics\": [\"log_eval\"], \"in_sample\": {\"zero\": {\"name\": \"zero\", \"parameters\": {\"lr\": 0.0043, \"decay\": 0.0012, \"epochs\": 0}, \"y\": {\"log_eval\": 3.6364354875574563}, \"y_hat\": {\"log_eval\": 3.6454888422885654}, \"se\": {\"log_eval\": 0.012499465460930299}, \"se_hat\": {\"log_eval\": 0.011905499799537745}, \"context_stratum\": null}, \"control1\": {\"name\": \"control1\", \"parameters\": {\"lr\": 0.0043, \"decay\": 0.0012, \"epochs\": 5}, \"y\": {\"log_eval\": 3.7673388703466384}, \"y_hat\": {\"log_eval\": 3.7513508220970078}, \"se\": {\"log_eval\": 0.014437295783778344}, \"se_hat\": {\"log_eval\": 0.012454597622696168}, \"context_stratum\": null}, \"control2\": {\"name\": \"control2\", \"parameters\": {\"lr\": 0.0043, \"decay\": 0.0012, \"epochs\": 10}, \"y\": {\"log_eval\": 3.7939481165991658}, \"y_hat\": {\"log_eval\": 3.7745678923158015}, \"se\": {\"log_eval\": 0.013743965355831913}, \"se_hat\": {\"log_eval\": 0.010943736129409411}, \"context_stratum\": null}, \"3_0\": {\"name\": \"3_0\", \"parameters\": {\"lr\": 0.006719886554586096, \"decay\": 0.0025712614367976697, \"epochs\": 17}, \"y\": {\"log_eval\": 3.527757963786043}, \"y_hat\": {\"log_eval\": 3.54057360863952}, \"se\": {\"log_eval\": 0.014116282037991347}, \"se_hat\": {\"log_eval\": 0.013313980828044898}, \"context_stratum\": null}, \"4_0\": {\"name\": \"4_0\", \"parameters\": {\"lr\": 0.0012230710776559032, \"decay\": 0.0001245490767846484, \"epochs\": 14}, \"y\": {\"log_eval\": 3.722176023563392}, \"y_hat\": {\"log_eval\": 3.7205795125221695}, \"se\": {\"log_eval\": 0.013597994240945219}, \"se_hat\": {\"log_eval\": 0.013120831363704032}, \"context_stratum\": null}, \"5_0\": {\"name\": \"5_0\", \"parameters\": {\"lr\": 0.00015703189811414284, \"decay\": 0.004250773039859609, \"epochs\": 6}, \"y\": {\"log_eval\": 3.6558885974799313}, \"y_hat\": {\"log_eval\": 3.6586443177849937}, \"se\": {\"log_eval\": 0.013725262026368666}, \"se_hat\": {\"log_eval\": 0.013233514730824101}, \"context_stratum\": null}, \"6_0\": {\"name\": \"6_0\", \"parameters\": {\"lr\": 0.00027734698125494284, \"decay\": 0.00024503393137916316, \"epochs\": 19}, \"y\": {\"log_eval\": 3.719795690263471}, \"y_hat\": {\"log_eval\": 3.7183782337206077}, \"se\": {\"log_eval\": 0.01372692960075821}, \"se_hat\": {\"log_eval\": 0.013235450165383569}, \"context_stratum\": null}, \"7_0\": {\"name\": \"7_0\", \"parameters\": {\"lr\": 0.00215089431162011, \"decay\": 0.007181061645086981, \"epochs\": 2}, \"y\": {\"log_eval\": 3.671565328964881}, \"y_hat\": {\"log_eval\": 3.6734692312173984}, \"se\": {\"log_eval\": 0.01338050680982233}, \"se_hat\": {\"log_eval\": 0.012924419065381573}, \"context_stratum\": null}, \"8_0\": {\"name\": \"8_0\", \"parameters\": {\"lr\": 0.003669268451658114, \"decay\": 0.0004685768597399909, \"epochs\": 8}, \"y\": {\"log_eval\": 3.7542075598642723}, \"y_hat\": {\"log_eval\": 3.749825352617683}, \"se\": {\"log_eval\": 0.014385970424389254}, \"se_hat\": {\"log_eval\": 0.013791819005244283}, \"context_stratum\": null}, \"9_0\": {\"name\": \"9_0\", \"parameters\": {\"lr\": 0.0005083524213359429, \"decay\": 0.0011885017054668588, \"epochs\": 11}, \"y\": {\"log_eval\": 3.726350753855546}, \"y_hat\": {\"log_eval\": 3.724460217135266}, \"se\": {\"log_eval\": 0.013545580006328673}, \"se_hat\": {\"log_eval\": 0.013073842917800668}, \"context_stratum\": null}, \"10_0\": {\"name\": \"10_0\", \"parameters\": {\"lr\": 0.0003885480703922011, \"decay\": 0.00017572911480920575, \"epochs\": 7}, \"y\": {\"log_eval\": 3.7153679485655404}, \"y_hat\": {\"log_eval\": 3.7143578924161424}, \"se\": {\"log_eval\": 0.01367508917825613}, \"se_hat\": {\"log_eval\": 0.013186715365212098}, \"context_stratum\": null}, \"11_0\": {\"name\": \"11_0\", \"parameters\": {\"lr\": 0.004987883132707978, \"decay\": 0.003342016822981182, \"epochs\": 14}, \"y\": {\"log_eval\": 3.739543115591369}, \"y_hat\": {\"log_eval\": 3.732044852266896}, \"se\": {\"log_eval\": 0.013307203954322175}, \"se_hat\": {\"log_eval\": 0.012563933519352232}, \"context_stratum\": null}, \"12_0\": {\"name\": \"12_0\", \"parameters\": {\"lr\": 0.0029168282988909335, \"decay\": 0.0009197168866264231, \"epochs\": 16}, \"y\": {\"log_eval\": 3.7186711581894665}, \"y_hat\": {\"log_eval\": 3.7197404391362214}, \"se\": {\"log_eval\": 0.014621965136108576}, \"se_hat\": {\"log_eval\": 0.013861707201097929}, \"context_stratum\": null}, \"13_0\": {\"name\": \"13_0\", \"parameters\": {\"lr\": 0.00021152642014361876, \"decay\": 0.0020209888929120954, \"epochs\": 3}, \"y\": {\"log_eval\": 3.637905015076654}, \"y_hat\": {\"log_eval\": 3.641972958546305}, \"se\": {\"log_eval\": 0.013740333364859962}, \"se_hat\": {\"log_eval\": 0.013246579797678097}, \"context_stratum\": null}, \"14_0\": {\"name\": \"14_0\", \"parameters\": {\"lr\": 0.0001155375773105539, \"decay\": 0.0003570341502470353, \"epochs\": 11}, \"y\": {\"log_eval\": 3.6822407278316125}, \"y_hat\": {\"log_eval\": 3.6834692286452646}, \"se\": {\"log_eval\": 0.014285217675939405}, \"se_hat\": {\"log_eval\": 0.01373491661618334}, \"context_stratum\": null}, \"15_0\": {\"name\": \"15_0\", \"parameters\": {\"lr\": 0.0016000375420588211, \"decay\": 0.001624692156473758, \"epochs\": 9}, \"y\": {\"log_eval\": 3.7320861684920095}, \"y_hat\": {\"log_eval\": 3.731208483181495}, \"se\": {\"log_eval\": 0.013587405327005645}, \"se_hat\": {\"log_eval\": 0.013021925391680029}, \"context_stratum\": null}, \"16_0\": {\"name\": \"16_0\", \"parameters\": {\"lr\": 0.008811602322531434, \"decay\": 0.000186652607756163, \"epochs\": 1}, \"y\": {\"log_eval\": 3.623308265882121}, \"y_hat\": {\"log_eval\": 3.6286323106435}, \"se\": {\"log_eval\": 0.013759945135539384}, \"se_hat\": {\"log_eval\": 0.013266289208842477}, \"context_stratum\": null}, \"17_0\": {\"name\": \"17_0\", \"parameters\": {\"lr\": 0.0006830909901579769, \"decay\": 0.009813793275866853, \"epochs\": 18}, \"y\": {\"log_eval\": 3.7734218690082773}, \"y_hat\": {\"log_eval\": 3.7693586323221777}, \"se\": {\"log_eval\": 0.01308537161098173}, \"se_hat\": {\"log_eval\": 0.01247230247301693}, \"context_stratum\": null}, \"18_0\": {\"name\": \"18_0\", \"parameters\": {\"lr\": 0.0006154371046006404, \"decay\": 0.00021817967393688832, \"epochs\": 15}, \"y\": {\"log_eval\": 3.7161815713771076}, \"y_hat\": {\"log_eval\": 3.715061978778193}, \"se\": {\"log_eval\": 0.013834489994739026}, \"se_hat\": {\"log_eval\": 0.013330425929603809}, \"context_stratum\": null}, \"19_0\": {\"name\": \"19_0\", \"parameters\": {\"lr\": 0.008526969624032996, \"decay\": 0.008521992697599054, \"epochs\": 7}, \"y\": {\"log_eval\": 3.7285276912274417}, \"y_hat\": {\"log_eval\": 3.7261443021678438}, \"se\": {\"log_eval\": 0.014692332587479444}, \"se_hat\": {\"log_eval\": 0.014095746992745378}, \"context_stratum\": null}, \"20_0\": {\"name\": \"20_0\", \"parameters\": {\"lr\": 0.0014841675115592483, \"decay\": 0.00041652190590026186, \"epochs\": 3}, \"y\": {\"log_eval\": 3.6855800109935606}, \"y_hat\": {\"log_eval\": 3.6865378323588747}, \"se\": {\"log_eval\": 0.013729222131008707}, \"se_hat\": {\"log_eval\": 0.013238677406563279}, \"context_stratum\": null}, \"21_0\": {\"name\": \"21_0\", \"parameters\": {\"lr\": 0.00011512656911212999, \"decay\": 0.0014096383116111051, \"epochs\": 15}, \"y\": {\"log_eval\": 3.6581693321691544}, \"y_hat\": {\"log_eval\": 3.6610192129446926}, \"se\": {\"log_eval\": 0.013997324779328489}, \"se_hat\": {\"log_eval\": 0.013478098995920668}, \"context_stratum\": null}, \"22_0\": {\"name\": \"22_0\", \"parameters\": {\"lr\": 0.00019974886922630847, \"decay\": 0.0007873981650974259, \"epochs\": 10}, \"y\": {\"log_eval\": 3.684627012793348}, \"y_hat\": {\"log_eval\": 3.6854526387453324}, \"se\": {\"log_eval\": 0.013979450458607046}, \"se_hat\": {\"log_eval\": 0.01346167236267269}, \"context_stratum\": null}, \"23_0\": {\"name\": \"23_0\", \"parameters\": {\"lr\": 0.003125001755326415, \"decay\": 0.002214232914119949, \"epochs\": 12}, \"y\": {\"log_eval\": 3.7609092352184548}, \"y_hat\": {\"log_eval\": 3.7533360751167253}, \"se\": {\"log_eval\": 0.014213144014545473}, \"se_hat\": {\"log_eval\": 0.012480878295905586}, \"context_stratum\": null}, \"24_0\": {\"name\": \"24_0\", \"parameters\": {\"lr\": 0.006628480497069864, \"decay\": 0.0016183755027265353, \"epochs\": 11}, \"y\": {\"log_eval\": 3.6533227231721748}, \"y_hat\": {\"log_eval\": 3.6585295734843544}, \"se\": {\"log_eval\": 0.015128695054896762}, \"se_hat\": {\"log_eval\": 0.014015910406756026}, \"context_stratum\": null}, \"25_0\": {\"name\": \"25_0\", \"parameters\": {\"lr\": 0.004157984233597562, \"decay\": 0.0037367267717074706, \"epochs\": 9}, \"y\": {\"log_eval\": 3.7380021459939643}, \"y_hat\": {\"log_eval\": 3.7366322452105676}, \"se\": {\"log_eval\": 0.014504551146615285}, \"se_hat\": {\"log_eval\": 0.013749023247335177}, \"context_stratum\": null}, \"26_0\": {\"name\": \"26_0\", \"parameters\": {\"lr\": 0.003984743419781169, \"decay\": 0.0012914146741416816, \"epochs\": 13}, \"y\": {\"log_eval\": 3.733347238741463}, \"y_hat\": {\"log_eval\": 3.7356113178962103}, \"se\": {\"log_eval\": 0.014264735317497002}, \"se_hat\": {\"log_eval\": 0.012813692406234834}, \"context_stratum\": null}, \"27_0\": {\"name\": \"27_0\", \"parameters\": {\"lr\": 0.0044755527574204075, \"decay\": 0.0008770153419057366, \"epochs\": 8}, \"y\": {\"log_eval\": 3.7264986324022074}, \"y_hat\": {\"log_eval\": 3.7264144785823974}, \"se\": {\"log_eval\": 0.014864291049449387}, \"se_hat\": {\"log_eval\": 0.012562192030044762}, \"context_stratum\": null}, \"28_0\": {\"name\": \"28_0\", \"parameters\": {\"lr\": 0.0032933923143772794, \"decay\": 0.0008111133357022278, \"epochs\": 10}, \"y\": {\"log_eval\": 3.7384567502927153}, \"y_hat\": {\"log_eval\": 3.735505943501993}, \"se\": {\"log_eval\": 0.014787002850622144}, \"se_hat\": {\"log_eval\": 0.013741704745970139}, \"context_stratum\": null}, \"29_0\": {\"name\": \"29_0\", \"parameters\": {\"lr\": 0.004072644764672069, \"decay\": 0.002303923665865714, \"epochs\": 11}, \"y\": {\"log_eval\": 3.674461006874313}, \"y_hat\": {\"log_eval\": 3.6818233793582564}, \"se\": {\"log_eval\": 0.01422720213073201}, \"se_hat\": {\"log_eval\": 0.013396689888844116}, \"context_stratum\": null}, \"30_0\": {\"name\": \"30_0\", \"parameters\": {\"lr\": 0.005617095681160452, \"decay\": 0.001755380644007118, \"epochs\": 10}, \"y\": {\"log_eval\": 3.7109245463650287}, \"y_hat\": {\"log_eval\": 3.7040418342189487}, \"se\": {\"log_eval\": 0.01473694664096031}, \"se_hat\": {\"log_eval\": 0.01350830362641773}, \"context_stratum\": null}, \"31_0\": {\"name\": \"31_0\", \"parameters\": {\"lr\": 0.004289613569715087, \"decay\": 0.0008474777542033326, \"epochs\": 10}, \"y\": {\"log_eval\": 3.711955698556763}, \"y_hat\": {\"log_eval\": 3.717579816158988}, \"se\": {\"log_eval\": 0.014083734764292598}, \"se_hat\": {\"log_eval\": 0.012084579122394197}, \"context_stratum\": null}, \"32_0\": {\"name\": \"32_0\", \"parameters\": {\"lr\": 0.002904618553551574, \"decay\": 0.0012288470288522085, \"epochs\": 10}, \"y\": {\"log_eval\": 3.780389147290634}, \"y_hat\": {\"log_eval\": 3.7663707532891655}, \"se\": {\"log_eval\": 0.01403801588972026}, \"se_hat\": {\"log_eval\": 0.012043114284368247}, \"context_stratum\": null}, \"33_0\": {\"name\": \"33_0\", \"parameters\": {\"lr\": 0.0037889689157116543, \"decay\": 0.0012146824301619034, \"epochs\": 9}, \"y\": {\"log_eval\": 3.7206715524645038}, \"y_hat\": {\"log_eval\": 3.740218715667928}, \"se\": {\"log_eval\": 0.01520847912775745}, \"se_hat\": {\"log_eval\": 0.011601950309348758}, \"context_stratum\": null}, \"34_0\": {\"name\": \"34_0\", \"parameters\": {\"lr\": 0.002438642927999432, \"decay\": 0.0025012259718864807, \"epochs\": 13}, \"y\": {\"log_eval\": 3.7753964281598127}, \"y_hat\": {\"log_eval\": 3.772410267049561}, \"se\": {\"log_eval\": 0.01378966104735636}, \"se_hat\": {\"log_eval\": 0.011381358238325735}, \"context_stratum\": null}, \"35_0\": {\"name\": \"35_0\", \"parameters\": {\"lr\": 0.0012440216784983, \"decay\": 0.0021844963220914236, \"epochs\": 12}, \"y\": {\"log_eval\": 3.7413698075164628}, \"y_hat\": {\"log_eval\": 3.7387190545050606}, \"se\": {\"log_eval\": 0.014083385187818898}, \"se_hat\": {\"log_eval\": 0.01350470829525208}, \"context_stratum\": null}, \"36_0\": {\"name\": \"36_0\", \"parameters\": {\"lr\": 0.006013150355723934, \"decay\": 0.0028060288008963583, \"epochs\": 13}, \"y\": {\"log_eval\": 3.6150758151607834}, \"y_hat\": {\"log_eval\": 3.618914966517588}, \"se\": {\"log_eval\": 0.015453840004871315}, \"se_hat\": {\"log_eval\": 0.0140643514660533}, \"context_stratum\": null}, \"37_0\": {\"name\": \"37_0\", \"parameters\": {\"lr\": 0.002683255708419544, \"decay\": 0.001773505945887894, \"epochs\": 11}, \"y\": {\"log_eval\": 3.7520486847518906}, \"y_hat\": {\"log_eval\": 3.7499578074845097}, \"se\": {\"log_eval\": 0.01399213810252053}, \"se_hat\": {\"log_eval\": 0.012124203810283184}, \"context_stratum\": null}, \"38_0\": {\"name\": \"38_0\", \"parameters\": {\"lr\": 0.002245383380378057, \"decay\": 0.0017013206868280336, \"epochs\": 12}, \"y\": {\"log_eval\": 3.755761428899229}, \"y_hat\": {\"log_eval\": 3.754340989915688}, \"se\": {\"log_eval\": 0.014218662641979468}, \"se_hat\": {\"log_eval\": 0.013118753742769803}, \"context_stratum\": null}, \"39_0\": {\"name\": \"39_0\", \"parameters\": {\"lr\": 0.002593592510211966, \"decay\": 0.0035303285210389617, \"epochs\": 14}, \"y\": {\"log_eval\": 3.7421739782912526}, \"y_hat\": {\"log_eval\": 3.7406194259320174}, \"se\": {\"log_eval\": 0.014377097617243583}, \"se_hat\": {\"log_eval\": 0.013461784144573309}, \"context_stratum\": null}, \"40_0\": {\"name\": \"40_0\", \"parameters\": {\"lr\": 0.0034429988535537165, \"decay\": 0.0012532430884026151, \"epochs\": 10}, \"y\": {\"log_eval\": 3.7417956537138988}, \"y_hat\": {\"log_eval\": 3.7371519130691517}, \"se\": {\"log_eval\": 0.014258964679359816}, \"se_hat\": {\"log_eval\": 0.011436052084491817}, \"context_stratum\": null}, \"41_0\": {\"name\": \"41_0\", \"parameters\": {\"lr\": 0.004597064302145103, \"decay\": 0.00129254493547221, \"epochs\": 8}, \"y\": {\"log_eval\": 3.757479496258855}, \"y_hat\": {\"log_eval\": 3.766387300339841}, \"se\": {\"log_eval\": 0.014053111515588359}, \"se_hat\": {\"log_eval\": 0.011891977703225547}, \"context_stratum\": null}, \"42_0\": {\"name\": \"42_0\", \"parameters\": {\"lr\": 0.0026063679668893846, \"decay\": 0.002122253915865578, \"epochs\": 16}, \"y\": {\"log_eval\": 3.757916169016624}, \"y_hat\": {\"log_eval\": 3.7559253500727543}, \"se\": {\"log_eval\": 0.014730960126280057}, \"se_hat\": {\"log_eval\": 0.013404242400849345}, \"context_stratum\": null}, \"43_0\": {\"name\": \"43_0\", \"parameters\": {\"lr\": 0.002160904220770353, \"decay\": 0.0025059118846846645, \"epochs\": 15}, \"y\": {\"log_eval\": 3.75143525026534}, \"y_hat\": {\"log_eval\": 3.751934603531285}, \"se\": {\"log_eval\": 0.013662134405389298}, \"se_hat\": {\"log_eval\": 0.012494355118503489}, \"context_stratum\": null}, \"44_0\": {\"name\": \"44_0\", \"parameters\": {\"lr\": 0.0027091769723221605, \"decay\": 0.001036927347367017, \"epochs\": 7}, \"y\": {\"log_eval\": 3.719411377631989}, \"y_hat\": {\"log_eval\": 3.7253706920599945}, \"se\": {\"log_eval\": 0.01496588906662695}, \"se_hat\": {\"log_eval\": 0.013797301768863656}, \"context_stratum\": null}, \"45_0\": {\"name\": \"45_0\", \"parameters\": {\"lr\": 0.0007273873451560561, \"decay\": 0.007323840961065265, \"epochs\": 17}, \"y\": {\"log_eval\": 3.754299748803738}, \"y_hat\": {\"log_eval\": 3.7528722868349003}, \"se\": {\"log_eval\": 0.013609352138377937}, \"se_hat\": {\"log_eval\": 0.012921948528290697}, \"context_stratum\": null}, \"46_0\": {\"name\": \"46_0\", \"parameters\": {\"lr\": 0.0030079183198763126, \"decay\": 0.0014661394936190625, \"epochs\": 12}, \"y\": {\"log_eval\": 3.721725149736247}, \"y_hat\": {\"log_eval\": 3.7328738156917654}, \"se\": {\"log_eval\": 0.015507392797992183}, \"se_hat\": {\"log_eval\": 0.013119477714442775}, \"context_stratum\": null}, \"47_0\": {\"name\": \"47_0\", \"parameters\": {\"lr\": 0.0027302036324266493, \"decay\": 0.002615729671691876, \"epochs\": 10}, \"y\": {\"log_eval\": 3.806544404335847}, \"y_hat\": {\"log_eval\": 3.78580567872205}, \"se\": {\"log_eval\": 0.013373452148722405}, \"se_hat\": {\"log_eval\": 0.009072998289589159}, \"context_stratum\": null}, \"48_0\": {\"name\": \"48_0\", \"parameters\": {\"lr\": 0.0025249974010564885, \"decay\": 0.0025410187000322456, \"epochs\": 8}, \"y\": {\"log_eval\": 3.7647383412281084}, \"y_hat\": {\"log_eval\": 3.7680305507197405}, \"se\": {\"log_eval\": 0.013665101877774801}, \"se_hat\": {\"log_eval\": 0.01184385283999218}, \"context_stratum\": null}, \"49_0\": {\"name\": \"49_0\", \"parameters\": {\"lr\": 0.002818156640431079, \"decay\": 0.002693597623753263, \"epochs\": 12}, \"y\": {\"log_eval\": 3.7557171367622133}, \"y_hat\": {\"log_eval\": 3.7701429412693934}, \"se\": {\"log_eval\": 0.014307632338815848}, \"se_hat\": {\"log_eval\": 0.011196012058338374}, \"context_stratum\": null}, \"50_0\": {\"name\": \"50_0\", \"parameters\": {\"lr\": 0.0029062328771851335, \"decay\": 0.002520316199161385, \"epochs\": 8}, \"y\": {\"log_eval\": 3.793516557225751}, \"y_hat\": {\"log_eval\": 3.7794067529533057}, \"se\": {\"log_eval\": 0.013679930847354123}, \"se_hat\": {\"log_eval\": 0.010766423849543575}, \"context_stratum\": null}, \"51_0\": {\"name\": \"51_0\", \"parameters\": {\"lr\": 0.0028739319116947606, \"decay\": 0.0031450826461652663, \"epochs\": 8}, \"y\": {\"log_eval\": 3.758040877039798}, \"y_hat\": {\"log_eval\": 3.762294248054489}, \"se\": {\"log_eval\": 0.013870163942519297}, \"se_hat\": {\"log_eval\": 0.012508029273839176}, \"context_stratum\": null}, \"52_0\": {\"name\": \"52_0\", \"parameters\": {\"lr\": 0.002788867139708552, \"decay\": 0.002315431049546887, \"epochs\": 9}, \"y\": {\"log_eval\": 3.746788230975897}, \"y_hat\": {\"log_eval\": 3.7687571870493755}, \"se\": {\"log_eval\": 0.014539532660652015}, \"se_hat\": {\"log_eval\": 0.010305417219479942}, \"context_stratum\": null}}, \"out_of_sample\": {}, \"status_quo_name\": null};\n",
       "const density = 50;\n",
       "const grid_x = [0.0, 0.40816326530612246, 0.8163265306122449, 1.2244897959183674, 1.6326530612244898, 2.0408163265306123, 2.4489795918367347, 2.857142857142857, 3.2653061224489797, 3.673469387755102, 4.081632653061225, 4.4897959183673475, 4.8979591836734695, 5.3061224489795915, 5.714285714285714, 6.122448979591837, 6.530612244897959, 6.938775510204081, 7.346938775510204, 7.755102040816327, 8.16326530612245, 8.571428571428571, 8.979591836734695, 9.387755102040817, 9.795918367346939, 10.204081632653061, 10.612244897959183, 11.020408163265307, 11.428571428571429, 11.83673469387755, 12.244897959183675, 12.653061224489797, 13.061224489795919, 13.46938775510204, 13.877551020408163, 14.285714285714286, 14.693877551020408, 15.10204081632653, 15.510204081632654, 15.918367346938776, 16.3265306122449, 16.73469387755102, 17.142857142857142, 17.551020408163264, 17.95918367346939, 18.367346938775512, 18.775510204081634, 19.183673469387756, 19.591836734693878, 20.0];\n",
       "const grid_y = [0.0001, 0.00010985411419875583, 0.00012067926406393288, 0.00013257113655901095, 0.00014563484775012445, 0.00015998587196060574, 0.00017575106248547912, 0.00019306977288832496, 0.00021209508879201905, 0.00023299518105153718, 0.0002559547922699536, 0.0002811768697974231, 0.00030888435964774815, 0.000339322177189533, 0.0003727593720314938, 0.0004094915062380423, 0.0004498432668969444, 0.0004941713361323833, 0.0005428675439323859, 0.0005963623316594642, 0.0006551285568595509, 0.0007196856730011522, 0.0007906043210907702, 0.000868511373751352, 0.0009540954763499944, 0.0010481131341546852, 0.0011513953993264468, 0.0012648552168552957, 0.0013894954943731374, 0.0015264179671752333, 0.0016768329368110067, 0.0018420699693267163, 0.0020235896477251557, 0.0022229964825261957, 0.0024420530945486497, 0.0026826957952797246, 0.0029470517025518097, 0.0032374575428176433, 0.0035564803062231283, 0.003906939937054613, 0.004291934260128779, 0.00471486636345739, 0.005179474679231213, 0.005689866029018293, 0.0062505519252739694, 0.006866488450042998, 0.007543120063354615, 0.008286427728546842, 0.009102981779915217, 0.01];\n",
       "const f = [3.698833107603236, 3.6988386051502933, 3.6988443605144945, 3.698850360649519, 3.6988565901970127, 3.698863031494209, 3.698869664604906, 3.698876467374695, 3.6988834155110863, 3.6988904826889013, 3.698897640681052, 3.6989048595144864, 3.6989121076508025, 3.6989193521906634, 3.698926559100834, 3.698933693462274, 3.698940719737381, 3.6989476020540843, 3.6989543045041593, 3.6989607914527354, 3.698967027855671, 3.6989729795811237, 3.698978613731391, 3.698983898960853, 3.698988805785683, 3.69899330688089, 3.6989973773602274, 3.699000995034578, 3.6990041406445706, 3.699006798063457, 3.699008954466623, 3.6990106004645797, 3.6990117301968186, 3.6990123413845537, 3.6990124353410843, 3.699012016939247, 3.699011094536246, 3.69900967985692, 3.6990077878373238, 3.6990054364312344, 3.699002646382915, 3.6989994409700695, 3.6989958457214676, 3.698991888114121, 3.6989875972551918, 3.6989830035539866, 3.698978138389408, 3.698973033778164, 3.6989677220488097, 3.698962235526378, 3.698857467135181, 3.6988647210214167, 3.698872262774088, 3.6988800716136776, 3.6988881239009275, 3.698896393204639, 3.6989048504019726, 3.698913463811414, 3.6989221993581327, 3.6989310207710293, 3.6989398898102976, 3.698948766523921, 3.698957609531068, 3.6989663763299534, 3.6989750236273387, 3.6989835076864774, 3.698991784689981, 3.698999811113769, 3.6990075441080177, 3.6990149418807747, 3.699021964079753, 3.699028572167668, 3.699034729786423, 3.699040403105419, 3.6990455611493362, 3.699050176100833, 3.699054223573828, 3.6990576828532866, 3.6990605370978136, 3.699062773501771, 3.699064383414176, 3.69906536241222, 3.699065710327924, 3.699065431227148, 3.6990645333409544, 3.699063028950109, 3.699060934224299, 3.699058269018442, 3.699055056629211, 3.699051323515597, 3.6990470989879682, 3.699042414870595, 3.699037305143053, 3.699031805566205, 3.6990259532986336, 3.6990197865094445, 3.6990133439932413, 3.69900666479288, 3.698999787835241, 3.6989927515848264, 3.6989008472652407, 3.6989107842046454, 3.6989210332890736, 3.6989315604662036, 3.6989423280437617, 3.698953294873369, 3.6989644165826006, 3.698975645853917, 3.698986932748327, 3.6989982250708016, 3.6990094687737085, 3.6990206083938157, 3.699031587517757, 3.699042349270313, 3.6990528368193973, 3.6990629938912765, 3.699072765289341, 3.699082097409612, 3.6990909387461723, 3.6990992403798315, 3.6991069564435617, 3.699114044558561, 3.6991204662352377, 3.6991261872338996, 3.699131177880527, 3.699135413333636, 3.69913887379894, 3.699141544689255, 3.6991434167278427, 3.69914448599419, 3.6991447539120155, 3.699144227180081, 3.699142917647198, 3.699140842133567, 3.6991380222013532, 3.699134483878081, 3.6991302573371, 3.6991253765399357, 3.699119878845873, 3.699113804594504, 3.6991071966673292, 3.69910010003469, 3.699092561294416, 3.699084628208566, 3.699076349244494, 3.699067773126229, 3.6990589484018117, 3.699049923031751, 3.699040744003248, 3.699031456974194, 3.6989748322117966, 3.6989890131922674, 3.699003526974519, 3.69901831691699, 3.6990333214799764, 3.6990484746182872, 3.6990637062510117, 3.69907894280436, 3.699094107821904, 3.699109122634983, 3.699123907084584, 3.6991383802846913, 3.6991524614159936, 3.6991660705379634, 3.6991791294067022, 3.6991915622856237, 3.6992032967360235, 3.699214264374858, 3.6992244015876286, 3.699233650185131, 3.699241957993923, 3.6992492793717013, 3.699255575640274, 3.6992608154304514, 3.699264974934894, 3.6992680380667053, 3.699269996523295, 3.6992708497567217, 3.699270604853289, 3.6992692763266475, 3.6992668858299194, 3.6992634617935036, 3.699259038996135, 3.6992536580775055, 3.6992473650013062, 3.699240210477871, 3.6992322493558043, 3.6992235399919324, 3.699214143608799, 3.699204123648593, 3.6991935451319926, 3.6991824740298815, 3.699170976655252, 3.699159119081933, 3.6991469665960173, 3.6991345831850473, 3.6991220310692032, 3.699109370277881, 3.6990966582741884, 3.699083949629067, 3.699096071408154, 3.6991170633295707, 3.699138414949385, 3.699160031672907, 3.6991818117790185, 3.6992036471718395, 3.6992254242649145, 3.699247024989382, 3.6992683279143233, 3.6992892094643235, 3.699309545216349, 3.6993292112554217, 3.6993480855664083, 3.69936604943758, 3.6993829888505574, 3.699398795830866, 3.6994133697336604, 3.699426618440174, 3.6994384594421943, 3.6994488207941987, 3.699457641915736, 3.6994648742300345, 3.699470481628594, 3.699474440755519, 3.699476741109459, 3.699477384965081, 3.6994763871199, 3.699473774475887, 3.699469585468504, 3.6994638693585182, 3.699456685404168, 3.6994481019328527, 3.6994381953325477, 3.6994270489836123, 3.699414752151542, 3.69940139886065, 3.699387086767622, 3.6993719160525123, 3.6993559883430547, 3.6993394056863047, 3.6993222695795835, 3.6993046800706173, 3.6992867349346787, 3.699268528934501, 3.6992501531667936, 3.6992316944973758, 3.699213235085306, 3.6991948519949074, 3.6991766168932867, 3.6991585958298723, 3.6992875932509146, 3.699319502561533, 3.69935182976199, 3.699384417525564, 3.6994170972542317, 3.699449690424369, 3.6994820101731105, 3.6995138631101048, 3.69954505133279, 3.69957537461675, 3.699604632746572, 3.699632627947073, 3.699659167370099, 3.699684065588533, 3.6997071470468765, 3.699728248416967, 3.699747220808127, 3.6997639317833992, 3.6997782671374275, 3.6997901323969073, 3.6997994540112282, 3.6998061802086353, 3.699810281501788, 3.6998117508355683, 3.699810603379115, 3.6998068759729734, 3.6998006262506165, 3.6997919314611396, 3.699780887026398, 3.69976760487103, 3.6997522115676293, 3.6997348463416357, 3.699715658981412, 3.6996948076984535, 3.699672456980907, 3.6996487754806937, 3.699623933970727, 3.6995981034042438, 3.699571453103274, 3.6995441490980574, 3.699516352633895, 3.699488218856762, 3.699459895684072, 3.699431522862453, 3.699403231210374, 3.699375142039912, 3.699347366749061, 3.6993200065735934, 3.699293152485722, 3.699266885225542, 3.69957990587624, 3.699629111196728, 3.699678877095922, 3.699728944640782, 3.699779035807419, 3.6998288557684305, 3.699878095632052, 3.6999264356096626, 3.699973548574554, 3.700019103961235, 3.7000627719413117, 3.700104227799864, 3.7001431564256744, 3.7001792568203715, 3.700212246525901, 3.7002418658672527, 3.7002678819082986, 3.70029009202307, 3.700308326992871, 3.7003224535509838, 3.700332376311104, 3.700338039032449, 3.700339425193064, 3.700336557862445, 3.700329498884412, 3.7003183474003083, 3.700303237760395, 3.7002843368869307, 3.7002618411654407, 3.700235972950515, 3.7002069767790426, 3.7001751153868403, 3.700140665624412, 3.7001039143642003, 3.7000651544856074, 3.700024681015667, 3.699982787493139, 3.699939762612423, 3.6998958871916976, 3.6998514314975064, 3.6998066529461675, 3.699761794191207, 3.699717081595866, 3.6996727240807914, 3.699628912329481, 3.6995858183279333, 3.6995435952102946, 3.6995023773790128, 3.699462280866028, 3.6994234039006884, 3.70001125989724, 3.7000873542426658, 3.7001643389173657, 3.700241794572364, 3.7003192681246246, 3.7003962764502383, 3.700472310936833, 3.7005468428665966, 3.700619329573763, 3.7006892212918583, 3.7007559685775666, 3.700819030171043, 3.700877881128259, 3.7009320210408876, 3.7009809821446242, 3.7010243371088447, 3.701061706299962, 3.7010927643183047, 3.7011172456238732, 3.7011349490896444, 3.7011457413513384, 3.7011495588585706, 3.701146408572479, 3.701136367297422, 3.7011195796771847, 3.701096254927364, 3.7010666624132327, 3.701031126214922, 3.70099001884772, 3.700943754323907, 3.7008927807532825, 3.700837572682384, 3.700778623367811, 3.7007164371677064, 3.7006515222184753, 3.7005843835423504, 3.7005155167068686, 3.7004454021309896, 3.7003745001057573, 3.700303246571204, 3.700232049666605, 3.7001612870489495, 3.7000913039551477, 3.700022411967384, 3.6999548884282936, 3.69988897644324, 3.6998248854007536, 3.699762791938883, 3.6997028412844695, 3.699645148893766, 3.700625938432297, 3.7007428161512483, 3.7008612846336817, 3.70098067948494, 3.701100275719597, 3.7012192933591477, 3.701336904655757, 3.7014522429274592, 3.701564412935738, 3.701672502677691, 3.7017755964042234, 3.701872788615739, 3.701963198730771, 3.7020459860742525, 3.702120364794023, 3.702185618289705, 3.7022411127298653, 3.702286309243016, 3.702320774396335, 3.7023441886225044, 3.702356352318197, 3.702357189414708, 3.702346748308317, 3.702325200130619, 3.702292834432462, 3.7022500524443105, 3.702197358156151, 3.7021353475276397, 3.7020646961909383, 3.7019861460427665, 3.7019004911378994, 3.701808563294071, 3.7017112177995397, 3.701609319581678, 3.701503730150835, 3.7013952955815435, 3.7012848357362733, 3.7011731348784638, 3.701060933764383, 3.700948923249753, 3.700837739398966, 3.700727960043285, 3.700620102700494, 3.7005146237422273, 3.7004119186765507, 3.700312323401786, 3.7002161162823364, 3.7001235208975265, 3.700034709319257, 3.6999498057826026, 3.7014688194691105, 3.701645681685964, 3.7018255107370757, 3.7020072838532068, 3.7021898699525253, 3.7023720373742415, 3.702552464626044, 3.7027297542079833, 3.7029024494725253, 3.7030690543635862, 3.703228055750617, 3.703377947942941, 3.7035172588414613, 3.7036445770675033, 3.7037585793102936, 3.7038580570635897, 3.7039419418855237, 3.7040093283193496, 3.70405949365963, 3.704091913838714, 3.7041062748390585, 3.70410247920189, 3.7040806473928187, 3.704041113989108, 3.7039844188590236, 3.7039112936985026, 3.7038226444627846, 3.703719530371028, 3.703603140263435, 3.703474767149283, 3.7033357817999537, 3.7031876062161033, 3.7030316877375196, 3.7028694744748067, 3.702702392631814, 3.7025318261649214, 3.702359099097911, 3.7021854606862434, 3.702012073508018, 3.7018400044551565, 3.7016702185103334, 3.70150357512453, 3.701340826957057, 3.701182620703876, 3.701029499719603, 3.7008819081317665, 3.7007401961505018, 3.7006046262905636, 3.700475380243084, 3.700352566159757, 3.7025740126591398, 3.702835782793902, 3.7031030325697722, 3.703374244998254, 3.7036477136203563, 3.7039215515977726, 3.7041937061826187, 3.704461978872597, 3.704724051378389, 3.70497751731069, 3.705219919241643, 3.705448790519478, 3.705661700930081, 3.7058563050226456, 3.706030391668917, 3.7061819332282533, 3.706309132564415, 3.706410466122056, 3.7064847213331666, 3.706531026790706, 3.7065488738937944, 3.7065381290226354, 3.706499035719729, 3.7064322068084548, 3.706338606838547, 3.7062195256777857, 3.706076544440865, 3.705911495236231, 3.7057264164042603, 3.7055235050089483, 3.705305068332885, 3.7050734760219366, 3.704831114348113, 3.704580343826361, 3.7043234611548765, 3.704062666169437, 3.7038000342284114, 3.70353749419128, 3.7032768119304067, 3.7030195791302356, 3.702767206983094, 3.702520924286249, 3.7022817793784046, 3.7020506453211683, 3.7018282277270624, 3.701615074654742, 3.701411588028653, 3.701218036089228, 3.701034566436176, 3.700861219287685, 3.7039457896488157, 3.704322039907474, 3.704708026442149, 3.705101603728016, 3.70550030682409, 3.7059013586327807, 3.7063016862123557, 3.7066979470642534, 3.7070865660427152, 3.7074637831624644, 3.707825712114316, 3.708168408751574, 3.7084879482057307, 3.7087805086639385, 3.7090424592389493, 3.7092704488385557, 3.709461492552457, 3.709613051872801, 3.7097231050920825, 3.709790204501848, 3.7098135175469125, 3.709792849844876, 3.709728648906043, 3.70962198841038, 3.7094745339297974, 3.7092884919385885, 3.7090665447549003, 3.7088117746431926, 3.708527580648338, 3.7082175918198046, 3.707885580337606, 3.7075353777084357, 3.7071707967113885, 3.7067955611937977, 3.7064132452033514, 3.7060272223403112, 3.7056406256609074, 3.7052563179858873, 3.704876872081597, 3.704504559889921, 3.70414134978496, 3.703788910719997, 3.7034486220859963, 3.7031215881189614, 3.70280865575396, 3.7025104349155358, 3.702227320345936, 3.7019595141944555, 3.7017070487154373, 3.70146980854325, 3.705532461112175, 3.7060536177409005, 3.706591132873208, 3.7071421479222173, 3.707703293484765, 3.708270687324628, 3.7088399463486255, 3.709406214788466, 3.7099642104835175, 3.710508290634487, 3.7110325376471693, 3.7115308647088434, 3.711997139562767, 3.712425323624719, 3.7128096222097797, 3.7131446403294612, 3.7134255374237326, 3.7136481736613667, 3.713809240212022, 3.71390636626088, 3.713938196534217, 3.7139044346859653, 3.7138058499339643, 3.7136442466355333, 3.713422398820099, 3.7131439538129962, 3.712813310783342, 3.71243548118723, 3.712015938591894, 3.711560465273764, 3.711075002367573, 3.7105655093343706, 3.7100378372631044, 3.7094976191701563, 3.708950179140437, 3.7084004609585697, 3.7078529758718, 3.7073117683383026, 3.7067803980499687, 3.7062619361626337, 3.7057589734916605, 3.7052736384033715, 3.70480762221797, 3.704362210104314, 3.703938315662097, 3.703536517628682, 3.7031570973970744, 3.702800076274489, 3.7024652516380074, 3.7021522313489665, 3.707199492219538, 3.707889288747552, 3.7086047255759973, 3.709342258366283, 3.7100975808548577, 3.7108656011169723, 3.7116404370679357, 3.7124154356214123, 3.713183219776049, 3.7139357673917357, 3.714664524461593, 3.715360554222399, 3.7160147214527104, 3.7166179088266196, 3.7171612593500436, 3.7176364359331253, 3.71803588637075, 3.718353099806455, 3.7185828395508076, 3.71872133725744, 3.7187664351220393, 3.7187176659336996, 3.7185762651940983, 3.7183451146231845, 3.718028621547602, 3.7176325432630963, 3.717163768932717, 3.7166300735974462, 3.7160398593549013, 3.7154018978560353, 3.7147250862969723, 3.7140182264417465, 3.7132898333004443, 3.712547977244519, 3.71180016081278, 3.711053229393886, 3.710313313421338, 3.7095857986740484, 3.7088753206836302, 3.7081857790287667, 3.7075203673601336, 3.706881615262906, 3.706271438454982, 3.7056911942782644, 3.705141739922163, 3.7046234912902407, 3.7041364808609654, 3.7036804132888794, 3.7032547178369506, 3.702858597022971, 3.7087164709971665, 3.7095811600779283, 3.710482861354196, 3.7114175155645612, 3.7123800204394057, 3.7133641713746295, 3.714362624975458, 3.7153668927847914, 3.716367372916347, 3.717353427238643, 3.7183135109986054, 3.719235360123799, 3.720106238720456, 3.7209132453957308, 3.7216436720356634, 3.722285402850454, 3.7228273354191344, 3.7232597999671997, 3.723574949222655, 3.7237670899465174, 3.7238329293799532, 3.723771715600884, 3.7235852596224066, 3.7232778377744733, 3.722855983814785, 3.722328189594729, 3.7217045396210695, 3.7209963078327704, 3.720215544420465, 3.7193746772132887, 3.718486147032614, 3.7175620905042663, 3.716614078011531, 3.7156529093764634, 3.7146884658106614, 3.713729613775427, 3.712784154564886, 3.711858812508147, 3.7109592544737287, 3.710090133648426, 3.7092551511750234, 3.708457130024466, 3.707698096339904, 3.7069793643464326, 3.706301621722394, 3.705665013047621, 3.7050692195681085, 3.7045135340429276, 3.7039969298720736, 3.7035181240517097, 3.7097781256822056, 3.710796296819981, 3.7118631379123017, 3.7129743323905564, 3.7141242670822, 3.7153059313190986, 3.7165108396065016, 3.7177289878581585, 3.7189488544497036, 3.720157458124573, 3.7213404847774187, 3.722482493941198, 3.723567212981917, 3.724577922165971, 3.7254979266836297, 3.7263111025075655, 3.7270024922952723, 3.72755891674459, 3.7279695578697, 3.7282264659166438, 3.7283249431571184, 3.72826376661628, 3.728045227246909, 3.727674982683475, 3.727161740778782, 3.7265168077984185, 3.7257535456217976, 3.72488678552329, 3.7239322427927326, 3.7229059685061094, 3.7218238644911255, 3.720701277018019, 3.7195526754408963, 3.718391414692027, 3.7172295753954954, 3.7160778722439645, 3.71494561980478, 3.7138407446633783, 3.712769833374089, 3.7117382067402307, 3.7107500122359824, 3.70980832773591, 3.7089152710204267, 3.708072110710778, 3.707279375323406, 3.7065369580117506, 3.705844215289046, 3.7052000586119194, 3.7046030381687887, 3.7040514185774764, 3.7100710412410325, 3.7111913166055195, 3.7123696811463334, 3.7136017854681405, 3.7148818173786453, 3.716202369545309, 3.717554329600543, 3.718926804300124, 3.720307091254638, 3.7216807132915593, 3.7230315312738718, 3.7243419506804374, 3.725593234816314, 3.7267659325050753, 3.727840419974595, 3.728797545207456, 3.729619348815932, 3.7302898200787307, 3.7307956328669807, 3.7311267973806754, 3.731277163474643, 3.731244722041401, 3.7310316719164884, 3.7306442474274175, 3.7300923301367632, 3.7293888914118316, 3.7285493259380327, 3.727590738975092, 3.726531243682972, 3.725389312543319, 3.7241832123769583, 3.722930538587102, 3.7216478527877466, 3.720350419591556, 3.7190520329597927, 3.717764919671956, 3.716499706521511, 3.7152654381743986, 3.714069633729764, 3.712918371515129, 3.7118163932675183, 3.7107672204309945, 3.709773276745415, 3.708836012566772, 3.7079560274346646, 3.707133188295082, 3.706366741514907, 3.7056554174106835, 3.7049975264811015, 3.7043910469014034, 3.7093679888863353, 3.710520558128861, 3.71173683001382, 3.713012591387974, 3.71434212250679, 3.7157180555264957, 3.7171312543388915, 3.718570727577888, 3.720023588674611, 3.7214750785106405, 3.722908667112955, 3.7243062504186626, 3.72564845577678, 3.726915064882299, 3.728085554712793, 3.729139745592817, 3.7300585312800245, 3.730824650497152, 3.731423445308793, 3.7318435426781593, 3.7320773949142363, 3.732121624657925, 3.73197714009177, 3.731649012715813, 3.7311461376851174, 3.7304807194700262, 3.7296676393495805, 3.72872376473523, 3.7276672550201626, 3.726516907651935, 3.725291574820397, 3.724009668263329, 3.7226887588853987, 3.72134526983248, 3.719994256324593, 3.718649262500613, 3.7173222442045826, 3.716023546504762, 3.714761925333599, 3.713544603634099, 3.7123773535643694, 3.7112645975002363, 3.710209521700811, 3.7092141975216233, 3.708279705960306, 3.707406262103296, 3.7065933367197634, 3.7058397728353394, 3.7051438956273848, 3.704503614427474, 3.707599751411386, 3.708718707967764, 3.709904120567412, 3.7111521747174843, 3.7124576354682044, 3.713813716542481, 3.7152119680151157, 3.7166421929895974, 3.7180924054900886, 3.7195488431593855, 3.7209960489715455, 3.722417035591566, 3.7237935437627465, 3.7251064017296383, 3.7263359859293015, 3.72746277406121, 3.728467970755874, 3.729334174639888, 3.7300460455100315, 3.730590923810666, 3.730959353697516, 3.7311454668181425, 3.731147196226431, 3.73096630664533, 3.7306082455163816, 3.730081835611428, 3.729398841864884, 3.72857345131229, 3.7276217058026826, 3.7265609236956583, 3.7254091406694068, 3.724184592567898, 3.722905256047218, 3.721588456353456, 3.7202505462234314, 3.7189066557370167, 3.7175705099049203, 3.7162543087072484, 3.7149686630303083, 3.7137225793012325, 3.712523485424648, 3.711377290741061, 3.7102884730431227, 3.709260186126686, 3.708294381870932, 3.7073919414097967, 3.7065528105626018, 3.7057761353272762, 3.7050603938960216, 3.7044035223183602, 3.704861867658523, 3.7059058195560644, 3.707019149833601, 3.708198897800602, 3.7094408854320813, 3.7107396041277196, 3.71208811080291, 3.7134779403754763, 3.7148990433106466, 3.716339758309147, 3.7177868312215394, 3.7192254915520038, 3.7206395971656807, 3.722011855755937, 3.723324128079616, 3.724557812918508, 3.7256943073981845, 3.726715529180371, 3.7276044798697674, 3.728345822613837, 3.728926442200237, 3.7293359536994037, 3.7295671263311188, 3.7296161929282237, 3.72948302201116, 3.7291711386653303, 3.728687591392962, 3.7280426737909544, 3.727249520880344, 3.726323608700512, 3.725282191187347, 3.7241437098129606, 3.7229272091899213, 3.721651786718749, 3.720336097625192, 3.718997929630412, 3.7176538549789457, 3.7163189621682204, 3.7150066656462672, 3.7137285888609037, 3.712494514103839, 3.7113123913266586, 3.7101883973001835, 3.7091270360209485, 3.708131271095314, 3.7072026809578538, 3.706341628220274, 3.7055474351937643, 3.70481855863947, 3.7041527580038225, 3.701369164005634, 3.7023294168208083, 3.7033650687369035, 3.704474494117559, 3.705655145752244, 3.7069034611303606, 3.708214759724067, 3.7095831324681297, 3.7110013264867163, 3.712460630429431, 3.713950768443819, 3.715459813658323, 3.7169741348324754, 3.7184783922341147, 3.719955600452525, 3.7213872763328597, 3.722753689067905, 3.724034226223665, 3.725207883596428, 3.7262538778133454, 3.727152368181228, 3.7278852586484414, 3.7284370330893326, 3.7287955602374634, 3.7289527929573922, 3.7289052854083913, 3.728654464890135, 3.7282066226319146, 3.7275726240343445, 3.726767374643362, 3.725809104325247, 3.724718543667304, 3.7235180639866314, 3.7222308399580855, 3.720880077485285, 3.719488333689748, 3.7180769433848697, 3.71666555779855, 3.7152717959843176, 3.7139110061130944, 3.7125961314598395, 3.7113376735509296, 3.7101437423086705, 3.7090201803037783, 3.70797074589516, 3.7069973386299204, 3.7061002501376983, 3.7052784249212025, 3.7045297176753627, 3.703851136646675, 3.697416846217718, 3.698314449208435, 3.699297704996517, 3.700366479323293, 3.7015200755407855, 3.7027571784996187, 3.704075764720114, 3.705472970440845, 3.7069449112316786, 3.7084864504956916, 3.710090919529355, 3.7117497988695423, 3.7134523792038814, 3.7151854296331197, 3.7169329106903426, 3.718675778063165, 3.7203919290119747, 3.72205634548258, 3.723641484280664, 3.7251179537349173, 3.7264554961313343, 3.727624263739396, 3.7285963319653415, 3.729347337771042, 3.7298580744341927, 3.730115835519799, 3.7301153082574685, 3.729858884570725, 3.7293563710581012, 3.728624192615019, 3.727684253709651, 3.72656263155871, 3.72528824265826, 3.7238915756839437, 3.722403540419797, 3.720854453066747, 3.7192731634803096, 3.7176863260869637, 3.716117818680306, 3.714588317127802, 3.7131150349236726, 3.71171163176564, 3.7103882848160796, 3.709151902807261, 3.708006451052788, 3.7069533485180144, 3.705991897847805, 3.7051197146065835, 3.7043331304904346, 3.703627554403638, 3.6933882370739872, 3.6942697490352385, 3.6952511363228893, 3.696333320063515, 3.6975170251137075, 3.698802809101838, 3.700191035413266, 3.7016817668498807, 3.703274557423823, 3.7049681234139253, 3.7067598823009993, 3.7086453602807254, 3.7106174861453045, 3.7126658111025894, 3.7147757190601953, 3.7169277170181023, 3.719096915969208, 3.721252823748058, 3.7233595676984903, 3.725376643851974, 3.727260249974299, 3.7289652030096203, 3.7304473663764797, 3.73166641647348, 3.7325886637999615, 3.7331895412248843, 3.733455348003816, 3.7333839620309703, 3.732984485897399, 3.7322760436261615, 3.7312860648604524, 3.730048366851848, 3.728601245462185, 3.726985686402283, 3.7252437375059038, 3.723417043417644, 3.7215455289264727, 3.7196662215120866, 3.7178122251213463, 3.7160118904056922, 3.7142882559424706, 3.712658834705052, 3.711135773527832, 3.709726337353391, 3.7084336085098486, 3.7072572751672976, 3.706194407226181, 3.7052401571185567, 3.7043883574813794, 3.703632010472179, 3.689779768436228, 3.6907172744029526, 3.6917732330798425, 3.6929487499292954, 3.69424499907518, 3.6956633959415486, 3.69720570675319, 3.698874053575912, 3.700670769760906, 3.7025980601422406, 3.7046574249754523, 3.7068488188867383, 3.709169539082274, 3.7116128738343446, 3.7141665945008664, 3.716811439657808, 3.7195198083921897, 3.722254931825479, 3.7249708014204326, 3.727613077952923, 3.730121083634903, 3.732430814522683, 3.734478738410289, 3.736205997101762, 3.737562530207637, 3.7385105991529666, 3.739027247126562, 3.7391054077689927, 3.738753639025231, 3.7379947086438996, 3.7368633984059603, 3.7354039050936025, 3.7336671437664255, 3.7317081598786412, 3.729583764574641, 3.7273504327500904, 3.725062446139352, 3.72277022269792, 3.7205187553434036, 3.7183461219112206, 3.716282213379257, 3.7143481504485574, 3.7125568036159424, 3.710914143816052, 3.7094207964440487, 3.7080734376228572, 3.706865944648739, 3.7057903130467347, 3.704837374320218, 3.703997348835873, 3.6871566862048577, 3.688242258067597, 3.6894711925894943, 3.6908442239287145, 3.692362225164478, 3.6940265395717713, 3.6958392571326137, 3.697803379645735, 3.699922808747987, 3.7022020843045436, 3.7046457975884244, 3.7072576072056704, 3.710038800615231, 3.7129863784039077, 3.716090704439297, 3.7193328770942125, 3.72268214136442, 3.7260938535979338, 3.729508645892834, 3.7328533881801205, 3.7360442380894963, 3.738991590384559, 3.7416063022667982, 3.743806338472582, 3.745522960794172, 3.7467057105574573, 3.747325645481522, 3.747376567892952, 3.7468742850676007, 3.745854216117438, 3.7443678423999316, 3.742478558500274, 3.7402574289657853, 3.7377792317588536, 3.735119018559306, 3.7323492795813404, 3.7295376853259383, 3.7267452953511766, 3.7240250753045867, 3.7214205665566182, 3.718964730428927, 3.7166795308749347, 3.7145769385074514, 3.7126608915974426, 3.710929301698625, 3.70937575183091, 3.7079908624285673, 3.706763366958051, 3.7056809442644068, 3.704730850287778, 3.6859819301359495, 3.6872962697581753, 3.688784827611102, 3.6904482977842026, 3.6922874233985494, 3.6943034306351086, 3.6964984105369636, 3.698875578317817, 3.701439327353294, 3.704194984516012, 3.707148166502892, 3.710303635786884, 3.7136635644559273, 3.7172251433774335, 3.72097753920672, 3.7248983291633126, 3.7289497635366624, 3.733075519062427, 3.737198912906503, 3.74122361309335, 3.745037499979852, 3.7485196109851477, 3.751549414234788, 3.7540172325123744, 3.7558343985914093, 3.756941584972285, 3.7573138611562826, 3.7569616033213924, 3.75592734921754, 3.7542796285719255, 3.7521052665684236, 3.7495015648231567, 3.746569338642979, 3.7434073078669723, 3.74010795822798, 3.736754749281877, 3.7334204249218614, 3.7301661531438164, 3.7270412586012003, 3.724083393778763, 3.7213190909795903, 3.71876469623363, 3.7164276636684788, 3.714308104805503, 3.7124004213336472, 3.7106948549533616, 3.709178845024418, 3.7078381484983196, 3.706657721540043, 3.7056223860285025, 3.6864017800883166, 3.6879583855629106, 3.6897166186481063, 3.691677367625009, 3.69384131833053, 3.6962093805625638, 3.698783048912385, 3.7015646182462962, 3.7045571608536223, 3.7077641626089304, 3.711188711807923, 3.714832140454711, 3.7186920397541376, 3.7227596185647647, 3.7270164579397607, 3.731430849105541, 3.7359540891441823, 3.7405173237313254, 3.7450297034631523, 3.7493786707995973, 3.753433074465505, 3.757049577470855, 3.7600825979729127, 3.762397790920403, 3.7638884699701003, 3.7644924964795985, 3.76420386759173, 3.76307265459798, 3.7611934063510666, 3.75868857146783, 3.755692828851315, 3.7523407671351814, 3.7487582801919572, 3.7450572747767477, 3.7413330409829655, 3.737663585765957, 3.734110279504552, 3.7307192766305044, 3.7275233105060543, 3.724543599602753, 3.7217917146889703, 3.719271334466169, 3.7169798601428337, 3.71490987642009, 3.713050449666349, 3.7113882544553807, 3.7099085228342847, 3.708595817283956, 3.7074346362183013, 3.7064098676856654, 3.68818994956083, 3.689903316153923, 3.691826580767495, 3.6939596118831792, 3.6963015417148277, 3.6988510590602446, 3.7016066209401632, 3.704566509198096, 3.707728650424045, 3.7110901156677594, 3.714646223165963, 3.7183891860816174, 3.7223062818523953, 3.7263775738139744, 3.730573291438012, 3.7348510713069194, 3.7391533693719996, 3.74340546176201, 3.747514537958155, 3.7513704412522673, 3.754848623824428, 3.7578158701874798, 3.7601393247511945, 3.7616993394980613, 3.7624064774748343, 3.7622215185971477, 3.7611710837027545, 3.7593455210153355, 3.7568791461844127, 3.75392650028085, 3.750642585325116, 3.74716892267547, 3.743625485299909, 3.7401077114377217, 3.7366871970162774, 3.733414507809341, 3.7303228330789344, 3.727431658409244, 3.7247500394276702, 3.722279327723055, 3.7200153483119314, 3.7179500945941557, 3.716073026887619, 3.7143720575101766, 3.7128342926223428, 3.711446586114858, 3.7101959473977373, 3.709069834413508, 3.7080563556372046, 3.7071443996825812, 3.6909373265808867, 3.692663163737082, 3.694580238753448, 3.696685628679702, 3.6989750303322775, 3.7014428916585698, 3.704082467663522, 3.706885747304841, 3.7098431965362777, 3.7129432676387673, 3.716171637952556, 3.7195101638631263, 3.7229355698138407, 3.7264179379027906, 3.7299191207349356, 3.733391266380221, 3.7367757151208503, 3.7400025962853842, 3.742991510098775, 3.745653710132993, 3.7478961847059042, 3.749627932685338, 3.750768475069505, 3.7512581412708443, 3.7510688399732484, 3.750212991730789, 3.7487476338946806, 3.746771226279135, 3.7444124865103037, 3.7418126767337707, 3.739104802138464, 3.7363963082271496, 3.7337625261901013, 3.731250266097907, 3.7288849244675255, 3.726677016704079, 3.724627225286239, 3.7227300878940444, 3.720976611829045, 3.7193560766632823, 3.7178572363611213, 3.716469085148174, 3.7151813125997477, 3.7139845424046447, 3.7128704248667406, 3.7118316342842848, 3.7108618078790263, 3.7099554520546913, 3.709107833690917, 3.70831486828431, 3.694323021293296, 3.6959478087929907, 3.697726432943262, 3.6996526370586253, 3.7017184219873855, 3.703914117589975, 3.7062284161304815, 3.7086483370698833, 3.7111590941579085, 3.7137438415551274, 3.7163832869749447, 3.7190551773423692, 3.7217336866925597, 3.7243887668238287, 3.726985557432279, 3.729483991470269, 3.731838768607964, 3.7339998975495723, 3.7359140159325386, 3.737526670690047, 3.7387856660333134, 3.739645446018629, 3.7400722680916805, 3.740049656502684, 3.7395833427570278, 3.7387046751016575, 3.737471386080682, 3.735964685331847, 3.7342818737429186, 3.7325240833193396, 3.7307801038224278, 3.72911201186649, 3.727551974359968, 3.7261092987866546, 3.724779094791245, 3.723548841278933, 3.722402794273792, 3.7213247841489716, 3.7202998847527744, 3.719315312476192, 3.7183608110973334, 3.717428702377797, 3.716513727827564, 3.7156127685381053, 3.714724503125374, 3.7138490451438804, 3.7129875881819143, 3.7121420773377207, 3.711314918670002, 3.710508732778192, 3.6982374250700083, 3.699749458811999, 3.7013770651881264, 3.703111511876495, 3.7049422923604745, 3.706857241107453, 3.708842668265953, 3.71088350310907, 3.7129634352244616, 3.715065043392281, 3.717169904349371, 3.7192586773583156, 3.721311165866585, 3.7233063647895026, 3.7252225113229294, 3.7270371687638066, 3.728727386140871, 3.730269990001265, 3.7316420751861985, 3.7328217633760197, 3.7337892840896956, 3.734528394498069, 3.7350280856208933, 3.735284422456254, 3.7353022426331886, 3.7350963134325705, 3.7346914607322144, 3.7341212049998966, 3.7334246676811085, 3.7326420196918524, 3.731809431883595, 3.730954954423544, 3.7300965141051114, 3.729242289484263, 3.728392775094759, 3.7275434968415224, 3.726687568942067, 3.725817695948225, 3.7249275396580166, 3.724012529370059, 3.7230702413987076, 3.7221004676163334, 3.721105070135214, 3.7200876971569428, 3.7190534182789405, 3.71800832535472, 3.7169591351782993, 3.715912821241019, 3.7148762931132224, 3.7138561339197946, 3.7026781890717713, 3.7041787266899875, 3.705773377250306, 3.7074524775203037, 3.7092045230319597, 3.711016288913449, 3.712873018680471, 3.7147586898338862, 3.716656364741603, 3.718548633113071, 3.7204181471986013, 3.722248241278306, 3.724023611783566, 3.725731012951621, 3.7273598962939087, 3.728902894203557, 3.730356026518586, 3.731718505828957, 3.7329920472819915, 3.7341796634203988, 3.735284044565355, 3.736305769948454, 3.7372417195395875, 3.7380841032469614, 3.7388204474645774, 3.739434674956109, 3.739909132076411, 3.740227145351792, 3.7403755248315687, 3.740346446322269, 3.740138343451889, 3.7397557398207186, 3.7392082250086363, 3.738508938384869, 3.7376729536297537, 3.7367158828347944, 3.7356528892824676, 3.7344981611099834, 3.733264789069394, 3.7319649258518606, 3.730610082199309, 3.7292114287745246, 3.7277800110424093, 3.7263268331468367, 3.724862811676278, 3.723398630936389, 3.7219445444144026, 3.720510165461439, 3.719104279975858, 3.717734701000163, 3.7074965356061793, 3.709148256134041, 3.710900621650605, 3.7127453960837244, 3.7146722045369645, 3.7166684843463034, 3.7187194975426174, 3.72080842841575, 3.722916596014256, 3.725023817192871, 3.727108959574959, 3.7291507227126233, 3.7311286754003086, 3.733024551230098, 3.7348237551364543, 3.7365169530783717, 3.7381015023737, 3.7395823434825477, 3.740971856339084, 3.7422881682885163, 3.7435516013082286, 3.744779450281387, 3.745980028579447, 3.7471475836421755, 3.7482597963046924, 3.7492788857644745, 3.750156174579567, 3.7508390077919636, 3.751278561514073, 3.75143712707384, 3.751293521347279, 3.7508453797611225, 3.7501077534747522, 3.749108732191424, 3.7478838228759646, 3.7464707790559197, 3.744905836923826, 3.743221569423059, 3.7414461197943556, 3.739603392249274, 3.7377137570667385, 3.735794898424135, 3.7338625524062095, 3.731931014039007, 3.730013401951569, 3.7281217356422385, 3.7262669020499097, 3.7244585795037537, 3.722705165843896, 3.721013736027156, 3.7121640121023765, 3.714091066251407, 3.7161511757285783, 3.718340631473702, 3.720653433369806, 3.7230809677509837, 3.72561167229901, 3.7282307034426387, 3.7309196310019566, 3.733656198091725, 3.7364142019678663, 3.739163574033877, 3.741870764160815, 3.744499563089001, 3.7470125192381563, 3.7493731047692447, 3.751548723030688, 3.753514458095546, 3.7552570509153957, 3.756777887732788, 3.7580930055220594, 3.759228037189936, 3.7602078201216798, 3.7610441332332503, 3.761727809977936, 3.762229451575909, 3.7625073715676094, 3.7625180819606627, 3.7622257202424567, 3.761609349213935, 3.760668003108961, 3.7594221080381907, 3.7579094875195147, 3.7561773911111467, 3.7542744889036253, 3.752245334863619, 3.7501276114834248, 3.7479515062988735, 3.7457404266591245, 3.743512382449862, 3.7412815376940958, 3.7390595966858493, 3.736856842393216, 3.7346827776371043, 3.732546417380443, 3.730456331545095, 3.7284205454876114, 3.726446385589383, 3.7245403282129326, 3.722707883510084, 3.71578655536044, 3.717970069263556, 3.7203237047377975, 3.7228494580800295, 3.7255472726815846, 3.7284145401675035, 3.7314455163723834, 3.7346306464703716, 3.7379557983719613, 3.7414014118186567, 3.744941584203375, 3.7485431355145438, 3.7521647273957504, 3.75575615972102, 3.759258038086439, 3.762602103921351, 3.765712652318156, 3.7685096353286576, 3.7709142468998285, 3.772857865972165, 3.7742942045308037, 3.7752091584565513, 3.7756168889712485, 3.775543495484589, 3.77501468672511, 3.7740553896560787, 3.772696952616881, 3.7709839093426236, 3.7689751936465807, 3.766739443525458, 3.764347093709163, 3.761862592669266, 3.759339077971382, 3.7568162395987743, 3.7543208064718177, 3.7518685783681613, 3.749467050968381, 3.747118032695605, 3.7448199512275884, 3.7425697261711974, 3.7403641735413764, 3.7382009526366518, 3.7360790957305796, 3.7339991859889397, 3.7319632674758267, 3.729974578193129, 3.7280371911529886, 3.726155632527442, 3.7243345254652303, 3.7225782883243173, 3.7174915042657655, 3.7197446918808352, 3.7221803543498018, 3.724802912064283, 3.7276148435492056, 3.730616121028364, 3.7338035369270535, 3.737169908766436, 3.7407031524889383, 3.7443852198001326, 3.7481909054628546, 3.752086548539397, 3.7560286819067246, 3.7599627340320882, 3.763821966615301, 3.767526956129486, 3.770986113288038, 3.7740979856262657, 3.7767563335613477, 3.7788588657573143, 3.7803191156235694, 3.7810775395315113, 3.7811062810678537, 3.7804078117107367, 3.779013637644293, 3.776986281820135, 3.7744215618051666, 3.7714459344454885, 3.768205869835205, 3.7648501307519586, 3.761509436045667, 3.758280679326303, 3.755221840436818, 3.752357142376586, 3.7496867205688913, 3.747195973819642, 3.7448627792929368, 3.7426624853698423, 3.74057112344902, 3.7385673181700363, 3.736633283804136, 3.7347551929563707, 3.732923123278854, 3.731130731038238, 3.7293747615499893, 3.72765447917236, 3.7259710787331666, 3.7243271230214448, 3.722726036136582, 3.721171669897772, 3.7169511475682007, 3.719018120304009, 3.7212442112120088, 3.7236315263315762, 3.726180036842526, 3.728887050529378, 3.7317466095552074, 3.7347488172641694, 3.7378791039699504, 3.741117452511819, 3.744437619865317, 3.7478064122934884, 3.7511830987952828, 3.754519079515084, 3.757757956872996, 3.7608361746144814, 3.763684370289556, 3.766229499159959, 3.768397622595316, 3.7701171038432046, 3.771322096888292, 3.7719568309484486, 3.771981512061639, 3.7713795701035853, 3.770164456353784, 3.7683838083272345, 3.7661191951805235, 3.7634803543406177, 3.7605940177303205, 3.757589055449797, 3.7545812237199323, 3.7516614471949388, 3.748890433376448, 3.7462997759963885, 3.7438973788914, 3.7416744586588337, 3.739612173521497, 3.7376869663695214, 3.73587442110253, 3.734151780547327, 3.732499396610799, 3.7309013934163517, 3.729345787741672, 3.7278242609655368, 3.726331727996886, 3.724865807248844, 3.7234262630255484, 3.7220144670107342, 3.7206329074489446, 3.7192847616111027, 3.7145625602937984, 3.716259282171816, 3.7180720918739865, 3.719999444857089, 3.72203773994702, 3.7241809706371485, 3.7264203700660365, 3.728744067365453, 3.731136780054399, 3.733579575024495, 3.736049738578627, 3.7385208022745906, 3.740962773082807, 3.7433426090660737, 3.745624959127827, 3.7477731397944454, 3.7497502466627073, 3.7515201921051884, 3.753048343785276, 3.7543014056881905, 3.7552465830365827, 3.755851478000421, 3.7560872723848324, 3.7559351427563423, 3.7553926068076877, 3.7544771841327926, 3.753226576017119, 3.751695541287895, 3.749950188307255, 3.748060818971382, 3.746094699721672, 3.744110073434428, 3.7421523289494574, 3.740252630892175, 3.738428709046601, 3.736687118783871, 3.7350261852552915, 3.733438972366549, 3.7319158510900574, 3.7304464737155367, 3.729021132735312, 3.7276315819792676, 3.726271436910981, 3.724936272725167, 3.7236235223459886, 3.722332254264423, 3.721062888944469, 3.719816894837356, 3.718596491316046, 3.7174043756324675, 3.711128750662272, 3.7124051914718517, 3.713758005725834, 3.7151839638287436, 3.7166783203639624, 3.718234680688397, 3.7198449000788174, 3.721499029890143, 3.7231853263052885, 3.724890336797942, 3.7265990763679278, 3.7282952986810045, 3.729961855123032, 3.731581116510548, 3.7331354081462833, 3.7346073825175266, 3.73598023472595, 3.7372376731485097, 3.7383636222412484, 3.7393417829921742, 3.740155385314936, 3.740787597545657, 3.7412229052332626, 3.7414493064150935, 3.7414606957547467, 3.741258669540735, 3.74085320732884, 3.740262062491684, 3.7395090334942576, 3.7386215125159072, 3.737627805978893, 3.7365547023688825, 3.735425647902761, 3.7342597153472004, 3.733071362346055, 3.7318708212729335, 3.7306648784860634, 3.7294577970301925, 3.728252194331966, 3.727049768362112, 3.7258518377727405, 3.724659706899564, 3.7234748862418603, 3.722299202452835, 3.7211348280534393, 3.7199842554503384, 3.718850234626828, 3.717735689597185, 3.7166436252607884, 3.7155770334506246, 3.707391573174434, 3.7082963997160636, 3.7092522107463903, 3.710256230626425, 3.7113047752718047, 3.7123932376282958, 3.7135161030821915, 3.7146669989109062, 3.7158387797812753, 3.7170236480000076, 3.718213302616841, 3.7193991057399365, 3.7205722481654853, 3.7217238909589208, 3.7228452571351105, 3.723927651061894, 3.724962395818594, 3.7259407022031055, 3.726853515047491, 3.7276914139202146, 3.728444660489671, 3.729103467448989, 3.729658508318216, 3.7301016080571703, 3.7304264826781677, 3.7306293636571266, 3.730709363683049, 3.7306685043641132, 3.730511409117001, 3.7302447391019506, 3.7298764977236463, 3.7294153414274325, 3.7288700126286805, 3.7282489638343757, 3.7275601850657822, 3.726811196447533, 3.7260091384041676, 3.7251608892007675, 3.7242731586188143, 3.7233525346482357, 3.722405484184402, 3.721438321909444, 3.7204571640963455, 3.7194678803071026, 3.7184760503728596, 3.7174869293941857, 3.7165054206891357, 3.7155360554436734, 3.7145829776954273, 3.7136499336490814, 3.703792793622369, 3.7044080545808082, 3.7050621922853177, 3.705753708513095, 3.706480565364046, 3.7072401936728876, 3.7080295174635483, 3.7088449936861405, 3.70968266484081, 3.7105382202604487, 3.711407060014461, 3.7122843539498422, 3.7131650877633957, 3.714044088728831, 3.714916026266168, 3.715775387175399, 3.7166164317993213, 3.717433144635987, 3.7182191991962608, 3.718967959887618, 3.719672541291903, 3.720325936485911, 3.7209212121781885, 3.7214517527398954, 3.721911522309192, 3.7222953082590107, 3.7225989125556835, 3.7228192690693325, 3.7229544812806945, 3.7230037912715286, 3.7229675028376583, 3.722846886054111, 3.7226440870193374, 3.7223620566056415, 3.722004499486366, 3.7215758338134064, 3.721081146175947, 3.7205261272622634, 3.7199169797911535, 3.7192602987626056, 3.718562931567097, 3.7178318297734476, 3.7170739049832457, 3.7162958988716506, 3.7155042738830555, 3.714705127327174, 3.7139041286396743, 3.7131064776268863, 3.7123168805417848, 3.711539540600253, 3.7005080247544595, 3.7009073446117116, 3.7013417477819526, 3.7018109416360625, 3.7023142184757756, 3.7028504488982965, 3.703418084608008, 3.704015169812313, 3.70463935953049, 3.705287942431431, 3.7059578653278304, 3.7066457563263207, 3.7073479439837005, 3.7080604707177574, 3.7087791001502963, 3.7094993198840993, 3.710216343164808, 3.7109251145670994, 3.7116203258329037, 3.712296447892645, 3.712947783717895, 3.713568544079365, 3.7141529449470227, 3.7146953218653764, 3.7151902539552273, 3.715632688880066, 3.7160180604647426, 3.7163423924988916, 3.716602385010787, 3.71679548213074, 3.7169199227672705, 3.7169747761574774, 3.716959963831153, 3.7168762680216534, 3.716725324781434, 3.716509598822798, 3.716232337012892, 3.7158974986973328, 3.71550966332488, 3.715073918562658, 3.714595734494543, 3.714080831010217, 3.7135350458627014, 3.712964210175135, 3.712374036724451, 3.7117700245204, 3.7111573813955787, 3.710540964778887, 3.7099252396679243, 3.7093142520666107, 3.697593686349013, 3.697830625498873, 3.698103114544444, 3.698411778554461, 3.6987568088366563, 3.699137936299734, 3.699554415206535, 3.7000050175711454, 3.7004880377792757, 3.7010013063972687, 3.701542211663113, 3.7021077268923084, 3.702694442025593, 3.703298597800565, 3.7039161215081515, 3.7045426639191423, 3.705173637624356, 3.7058042575984946, 3.7064295851551035, 3.707044576525196, 3.707644137037515, 3.708223181342517, 3.708776699404649, 3.7092998272275812, 3.70978792061972, 3.7102366298658627, 3.7106419729972084, 3.711000405424819, 3.7113088839369093, 3.711564923341548, 3.7117666442561417, 3.7119128106436854, 3.712002855684206, 3.712036894527896, 3.7120157225261905, 3.7119407977986425, 3.7118142075393155, 3.7116386182895353, 3.7114172114123307, 3.711153606043694, 3.710851772693199, 3.7105159412744837, 3.71015050757926, 3.709759942056837, 3.709348704281774, 3.7089211657864847, 3.7084815431201537, 3.708033842178009, 3.7075818141083006, 3.7071289224995136, 3.695110497196873, 3.69522299211652, 3.6953732456133355, 3.6955625723827676, 3.6957917744056727, 3.6960610970725187, 3.696370200349039, 3.696718146306022, 3.6971034033386654, 3.6975238663934595, 3.6979768916147995, 3.698459343116642, 3.698967649143624, 3.699497864738024, 3.7000457381583987, 3.7006067786506747, 3.701176323675637, 3.701749604260657, 3.7023218076851108, 3.70288813716224, 3.7034438685037494, 3.703984403933055, 3.7045053232587573, 3.7050024325591746, 3.7054718103976696, 3.705909851422654, 3.7063133070341485, 3.7066793226388732, 3.7070054708768363, 3.707289780087567, 3.7075307571965177, 3.707727404149316, 3.707879227017342, 3.707986236961255, 3.7080489423877707, 3.7080683318801637, 3.7080458478217655, 3.7079833510439952, 3.7078830772795293, 3.7077475866393756, 3.707579707709515, 3.707382478134976, 3.7071590836978032, 3.706912797890429, 3.7066469238464297, 3.706364740241068, 3.706069452448558, 3.7057641498790823, 3.7054517700512553, 3.705135069613523, 3.6931710218525966, 3.693189604818332, 3.6932481389788205, 3.6933484476664833, 3.69349175735915, 3.6936786402187827, 3.6939089769949205, 3.694181942472595, 3.6944960141721555, 3.694849003475274, 3.695238106932134, 3.695659974354921, 3.6961107895324337, 3.69658635905983, 3.697082204853552, 3.697593656349063, 3.6981159390583005, 3.6986442569810367, 3.699173867211144, 3.6997001458657315, 3.7002186451294694, 3.700725141713584, 3.701215677369691, 3.7016865922830213, 3.7021345522208238, 3.7025565702595307, 3.7029500237899033, 3.703312667332362, 3.7036426415108052, 3.703938478354053, 3.7041991029370585, 3.7044238312529996, 3.7046123641326316, 3.704764777005367, 3.7048815053300026, 3.7049633256094205, 3.7050113320355362, 3.7050269089758108, 3.705011699694585, 3.704967571882763, 3.704896580729632, 3.704800930394766, 3.7046829348142913, 3.7045449787982174, 3.704389480343827, 3.7042188550095343, 3.704035483073632, 3.703841680054882, 3.703639671009932, 3.7034315688582047, 3.6919093808452135, 3.6918629394106373, 3.69185717509025, 3.69189420325295, 3.6919754943683527, 3.6921018090275206, 3.6922731568499674, 3.6924887819680112, 3.6927471759593358, 3.6930461171886635, 3.6933827337459118, 3.693753585732237, 3.694154761688821, 3.69458198354846, 3.6950307145985057, 3.695496265490317, 3.6959738941881732, 3.6964588967778824, 3.6969466871195906, 3.6974328643231567, 3.6979132678738535, 3.698384020900511, 3.6988415625462183, 3.6992826706841986, 3.6997044763434874, 3.7001044712033218, 3.700480509416302, 3.70083080486132, 3.7011539247369565, 3.7014487802082363, 3.7017146146329014, 3.7019509897309084, 3.70215776993146, 3.702335105039917, 3.7024834113133487, 3.702603351015945, 3.702695810539184, 3.702761877209661, 3.7028028149616863, 3.702820039113405, 3.7028150905457755, 3.7027896096357598, 3.702745310332506, 3.7026839547841943, 3.702607328921722, 3.702517219383775, 3.7024153921281475, 3.7023035730198077, 3.7021834306215164, 3.7020565613423004, 3.6914027642861167, 3.6913195413567594, 3.6912753100503064, 3.6912722077804725, 3.6913117407271785, 3.691394720334873, 3.691521223729788, 3.691690580724552, 3.6919013882545277, 3.6921515511748435, 3.6924383465657145, 3.6927585072473783, 3.6931083192370457, 3.693483727452434, 3.693880444063041, 3.694294054428403, 3.6947201164173076, 3.6951542499333283, 3.695592214548456, 3.6960299741609295, 3.69646374847061, 3.696890051763546, 3.6973057200033934, 3.6977079275496316, 3.698094194983863, 3.698462389556398, 3.6988107196985047, 3.6991377249124535, 3.6994422621793563, 3.6997234898364866, 3.6999808496887954, 3.700214047946376, 3.70042303542889, 3.700607987354032, 3.7007692829314673, 3.700907484915458, 3.7010233192260515, 3.701117654726274, 3.7011914832368125, 3.7012458998752473, 3.701282083819275, 3.70130127960822, 3.7013047791107514, 3.7012939042963326, 3.7012699909515208, 3.7012343734789113, 3.7011883709060225, 3.701133274214396, 3.7010703350766936, 3.7010007560630886, 3.6916037813482383, 3.6915084362163055, 3.691447929084463, 3.691424167696955, 3.691438503237742, 3.6914916767053727, 3.6915837858377727, 3.691714274749304, 3.691881946952693, 3.692085000878045, 3.6923210855436706, 3.6925873728347747, 3.692880642019248, 3.693197371730096, 3.693533834666049, 3.693886190648655, 3.694250574333811, 3.694623174701099, 3.6950003043308675, 3.6953784573378368, 3.6957543555953998, 3.6961249835160133, 3.696487612132442, 3.6968398135528675, 3.69717946705375, 3.6975047581494325, 3.69781417196162, 3.6981064821301257, 3.6983807363813885, 3.698636239722779, 3.698872536074158, 3.6990893889952914, 3.699286762026692, 3.6994647990373672, 3.699623804868349, 3.699764226476437, 3.6998866347173713, 3.6999917068598687, 3.7000802098890375, 3.7001529846368713, 3.7002109307658633, 3.700254992626573, 3.7002861460087266, 3.70030538580605, 3.7003137146158998, 3.7003121322946164, 3.7003016264876902, 3.7002831641498934, 3.700257684064461, 3.7002260903624875, 3.692338881134336, 3.6922489608849753, 3.692188057562408, 3.6921576998439583, 3.692158970975496, 3.6921924689861845, 3.6922582823656325, 3.692355982682364, 3.6924846345981037, 3.692642822664049, 3.6928286932808287, 3.693040009361106, 3.6932742146265265, 3.6935285041394175, 3.6937998976186646, 3.6940853122906954, 3.694381632428596, 3.694685773270249, 3.694994737612532, 3.6953056639919675, 3.6956158659336173, 3.6959228622451095, 3.696224398731865, 3.696518462006221, 3.69680328626074, 3.6970773539850548, 3.6973393916406705, 3.6975883612853813, 3.697823449074266, 3.6980440514720865, 3.6982497599046593, 3.6984403444642613, 3.69861573717392, 3.6987760152127027, 3.6989213844122757, 3.6990521632557325, 3.6991687675436067, 3.6992716958385943, 3.699361515758883, 3.699438851158638, 3.699504370211517, 3.699558774397445, 3.699602788382592, 3.699637150776189, 3.699662605744134, 3.6996798954573107, 3.699689753351313, 3.699692898173253, 3.6996900287901813, 3.6996818197320795, 3.6933725657042933, 3.6932973948264256, 3.693244905275844, 3.6932162188982205, 3.6932121290011284, 3.693233073709708, 3.6932791198080626, 3.6933499579581053, 3.6934449095674062, 3.6935629449340017, 3.6937027116865413, 3.693862572015364, 3.6940406467955933, 3.694234864462462, 3.6944430124192276, 3.6946627888295143, 3.6948918528453065, 3.695127871616669, 3.6953685627832633, 3.6956117315254136, 3.6958553016228644, 3.696097340308143, 3.696336076992003, 3.6965699161715238, 3.6967974450044605, 3.6970174361487085, 3.6972288465292946, 3.6974308127152136, 3.697622643573728, 3.6978038108294076, 3.697973938097487, 3.6981327888932856, 3.6982802540473187, 3.6984163388839733, 3.6985411504535333, 3.698654885045181, 3.698757816153646, 3.6988502830250543, 3.6989326798681557, 3.699005445785163, 3.6990690554511234, 3.699124010551356, 3.6991708319719985, 3.6992100527282896, 3.6992422116080075, 3.699267847502693, 3.699287494396323, 3.6993016769793394, 3.6993109068550383, 3.699315679304889];\n",
       "const lower_is_better = false;\n",
       "const metric = \"log_eval\";\n",
       "const rel = false;\n",
       "const sd = [0.049975823528411775, 0.04997580257881691, 0.04997577969162818, 0.0499757547502221, 0.04997572764497604, 0.04997569827655186, 0.04997566655952527, 0.04997563242631632, 0.04997559583135688, 0.04997555675541106, 0.049975515209943734, 0.049975471241412606, 0.04997542493534068, 0.049975376420011035, 0.049975325869614326, 0.04997527350667398, 0.04997521960357476, 0.04997516448302934, 0.049975108517334485, 0.04997505212629448, 0.04997499577372425, 0.04997493996248772, 0.049974885228076985, 0.049974832130793546, 0.04997478124665132, 0.04997473315718059, 0.04997468843836853, 0.04997464764902293, 0.049974611318888154, 0.0499745799368727, 0.04997455393976443, 0.0499745337018101, 0.049974519525519984, 0.04997451163402562, 0.04997451016527037, 0.049974515168250154, 0.049974526601449056, 0.04997454433353376, 0.04997456814628689, 0.0499745977396768, 0.04997463273888286, 0.049974672703026635, 0.049974717135302486, 0.049974765494158684, 0.04997481720515476, 0.049974871673111446, 0.04997492829417773, 0.049974986467462255, 0.049975045605912836, 0.04997510514617493, 0.049975722785576805, 0.04997569434836542, 0.04997566367190903, 0.04997563065454255, 0.04997559520495914, 0.049975557245615164, 0.04997551671645884, 0.04997547357893612, 0.04997542782020834, 0.04997537945749564, 0.04997532854243902, 0.049975275165353175, 0.04997521945922314, 0.049975161603281006, 0.04997510182598688, 0.049975040407231115, 0.049974977679575094, 0.0499749140283557, 0.04997484989049616, 0.0499747857518924, 0.049974722143280845, 0.04997465963453918, 0.049974598827425644, 0.04997454034682255, 0.0499744848306139, 0.04997443291839225, 0.04997438523925295, 0.04997434239899069, 0.04997430496706124, 0.04997427346370565, 0.04997424834765399, 0.0499742300048267, 0.04997421873843468, 0.04997421476084286, 0.04997421818750776, 0.049974229033229685, 0.049974247210877565, 0.049974272532653435, 0.04997430471386829, 0.04997434337910717, 0.049974388070572535, 0.0499744382583171, 0.049974493352012796, 0.04997455271385563, 0.049974615672177446, 0.04997468153532691, 0.04997474960539215, 0.04997481919136529, 0.04997488962139201, 0.04997496025380474, 0.04997552012807294, 0.04997547702925779, 0.0499754313463619, 0.04997538306087823, 0.04997533217457926, 0.04997527871224822, 0.049975222724472225, 0.049975164290453455, 0.04997510352078421, 0.04997504056012109, 0.049974975589681905, 0.04997490882947723, 0.04997484054017715, 0.049974771024503865, 0.04997470062803262, 0.04997462973927896, 0.0499745587889498, 0.04997448824824124, 0.049974418626077516, 0.04997435046520492, 0.04997428433708128, 0.049974220835536584, 0.049974160569222145, 0.049974104152914325, 0.0499740521977912, 0.04997400530085538, 0.04997396403373, 0.0499739289311048, 0.049973900479151505, 0.049973879104259954, 0.049973865162464465, 0.049973858929932696, 0.04997386059487463, 0.04997387025119696, 0.049973887894178615, 0.04997391341837863, 0.04997394661791033, 0.049973987189129834, 0.049974034735696664, 0.04997408877587441, 0.04997414875185456, 0.049974214040811524, 0.04997428396733547, 0.04997435781684423, 0.04997443484954934, 0.04997451431454371, 0.049974595463590295, 0.04997467756422037, 0.04997475991179426, 0.04997484184023412, 0.04997507351654267, 0.049974996252476964, 0.049974915624606916, 0.04997483185413004, 0.04997474521274473, 0.049974656023222146, 0.04997456465910387, 0.04997447154347572, 0.04997437714679298, 0.04997428198375979, 0.049974186609293626, 0.049974091613631984, 0.049973997616663185, 0.04997390526158313, 0.049973815207995174, 0.04997372812457955, 0.0499736446814623, 0.049973565542410996, 0.04997349135697724, 0.0499734227526947, 0.049973360327428336, 0.0499733046419565, 0.04997325621285603, 0.04997321550575086, 0.04997318292898022, 0.0499731588277424, 0.04997314347877503, 0.04997313708564154, 0.04997313977470545, 0.04997315159188606, 0.04997317250030029, 0.04997320237890185, 0.04997324102222982, 0.049973288141371135, 0.04997334336622501, 0.04997340624913112, 0.049973476269888156, 0.049973552842146676, 0.04997363532111206, 0.049973723012442586, 0.049973815182177556, 0.04997391106748469, 0.04997400988797679, 0.04997411085731885, 0.049974213194829524, 0.0499743161367769, 0.04997441894707789, 0.04997452092713255, 0.04997462142455857, 0.049974719840633855, 0.04997406096673493, 0.04997389963452146, 0.0499737324774431, 0.049973560314049655, 0.04997338410298575, 0.049973204938946934, 0.04997302404491715, 0.04997284276055268, 0.04997266252671364, 0.04997248486629482, 0.04997231136166557, 0.0499721436291867, 0.04997198329142078, 0.04997183194778255, 0.04997169114447884, 0.049971562344655523, 0.04997144689969588, 0.04997134602259781, 0.04997126076429479, 0.04997119199368061, 0.04997114038195512, 0.049971106391735826, 0.0499710902711881, 0.04997109205322566, 0.049971111559635906, 0.04997114840980126, 0.049971202033529845, 0.049971271687382496, 0.04997135647379614, 0.04997145536225537, 0.04997156721175736, 0.04997169079384431, 0.049971824815538024, 0.04997196794159613, 0.04997211881560985, 0.04997227607957173, 0.04997243839164993, 0.04997260444200762, 0.04997277296659561, 0.049972942758920905, 0.04997311267985157, 0.049973281665558394, 0.04997344873371887, 0.04997361298812007, 0.04997377362179815, 0.0499739299188458, 0.04997408125500901, 0.04997422709718282, 0.04997436700190556, 0.049974500612942604, 0.049971783186006265, 0.04997141640489314, 0.04997103612483281, 0.04997064456509745, 0.04997024434135732, 0.049969838454329736, 0.04996943026651458, 0.049969023466405395, 0.0499686220200246, 0.04996823011015719, 0.04996785206422639, 0.04996749227233917, 0.04996715509759476, 0.04996684478125952, 0.04996656534583094, 0.04996632049930849, 0.04996611354413211, 0.049965947294221456, 0.04996582400334273, 0.04996574530764729, 0.049965712184685956, 0.04996572493052995, 0.04996578315586397, 0.049965885801102554, 0.04996603116976672, 0.04996621697859283, 0.049966440422173776, 0.049966698249392344, 0.04996698684852422, 0.049967302337680056, 0.04996764065722521, 0.04996799766095267, 0.04996836920307078, 0.049968751218473606, 0.049969139794255414, 0.049969531230975285, 0.049969922092737554, 0.049970309245695656, 0.04997068988508323, 0.04997106155130554, 0.04997142213597142, 0.04997176987900484, 0.049972103358143644, 0.04997242147221756, 0.049972723419605944, 0.04997300867322184, 0.04997327695326506, 0.049973528198849364, 0.04997376253944869, 0.04997398026694003, 0.04996678714863431, 0.04996593234629772, 0.04996504172497161, 0.04996412063268101, 0.04996317552002755, 0.049962213925033326, 0.049961244423350114, 0.049960276541142774, 0.0499593206293146, 0.049958387699368015, 0.0499574892230206, 0.04995663689963196, 0.049955842397429256, 0.04995511707632142, 0.04995447170163174, 0.04995391615922875, 0.049953459183186916, 0.049953108107178845, 0.049952868650246646, 0.04995274474642165, 0.049952738425906876, 0.049952849753298514, 0.04995307682573458, 0.04995341583108276, 0.04995386116349347, 0.04995440559102787, 0.049955040467789154, 0.049955755981175944, 0.04995654142363869, 0.04995738547770626, 0.04995827650306772, 0.04995920281510285, 0.0499601529453774, 0.049961115876146045, 0.04996208124271072, 0.04996303949943148, 0.049963982047149955, 0.049964901321647076, 0.04996579084442093, 0.049966645238466736, 0.049967460212827025, 0.04996823252043715, 0.04996895989422671, 0.049969640966576516, 0.049970275177112444, 0.049970862673490886, 0.04997140420934863, 0.0499719010430043, 0.04997235483985892, 0.04997276758079119, 0.04995620504763169, 0.049954232736412744, 0.04995216371765774, 0.049950009916028444, 0.04994778622537977, 0.049945510528467234, 0.04994320362186688, 0.04994088903543379, 0.04993859273931017, 0.049936342736181395, 0.049934168541997725, 0.04993210056446871, 0.04993016939494124, 0.049928405035369106, 0.049926836087507816, 0.04992548893576046, 0.049924386957835104, 0.04992354979821922, 0.0499229927382262, 0.04992272619297648, 0.049922755360271395, 0.049923080039204475, 0.04992369462798839, 0.049924588301428964, 0.049925745359385466, 0.049927145729059874, 0.04992876559664336, 0.04993057813819371, 0.04993255431595266, 0.049934663704795386, 0.04993687531411483, 0.049939158372998664, 0.049941483050737305, 0.0499438210900927, 0.04994614633689464, 0.04994843515594296, 0.04995066672944296, 0.04995282323991724, 0.049954889944435574, 0.04995685515089935, 0.049958710109918626, 0.04996044883752709, 0.04996206788466584, 0.04996356606915862, 0.0499649441849623, 0.04996620470198822, 0.04996735146793299, 0.049968389421501516, 0.049969324324297446, 0.049970162516618344, 0.04993472802085163, 0.04993030430489959, 0.04992562725487021, 0.049920721460186744, 0.04991561917873727, 0.04991036056875594, 0.04990499367640351, 0.0498995741404786, 0.049894164584701445, 0.0498888336805539, 0.04988365487941067, 0.04987870483098157, 0.0498740615248763, 0.049869802212063226, 0.04986600118156142, 0.049862727483226954, 0.0498600426983857, 0.049857998864989976, 0.049856636662018936, 0.049855983948648, 0.04985605473757217, 0.04985684865973656, 0.0498583509511541, 0.04986053296348338, 0.04986335317085868, 0.0498667586183939, 0.04987068673488451, 0.049875067415146204, 0.049879825267214975, 0.049884881916689675, 0.049890158264571945, 0.04989557660520866, 0.04990106252608523, 0.04990654652968558, 0.04991196533776184, 0.04991726285854307, 0.04992239081626456, 0.04992730905882177, 0.04993198557260377, 0.04993639624325336, 0.04994052440717867, 0.04994436024132104, 0.049947900038388685, 0.04995114541204854, 0.04995410247204147, 0.049956781003464894, 0.049959193678116666, 0.04996135531930613, 0.04996328223530203, 0.04996499163089528, 0.049893319107308744, 0.049883784564845095, 0.0498736174003737, 0.04986286344157585, 0.049851587326796676, 0.04983987358103527, 0.04982782710819836, 0.04981557297160029, 0.04980325535317552, 0.04979103561196818, 0.04977908940404926, 0.049767602877772196, 0.04975676801759186, 0.049746777272625796, 0.04973781766773044, 0.04973006464940033, 0.04972367596045113, 0.049718785860952734, 0.04971550001425485, 0.049713891334135944, 0.049713997042426336, 0.04971581711876647, 0.049719314240679324, 0.049724415219922186, 0.049731013848235736, 0.049738974980309617, 0.049748139611324536, 0.049758330656374826, 0.04976935911268693, 0.04978103028355343, 0.04979314976359187, 0.04980552892458704, 0.04981798969465386, 0.04983036848495584, 0.04984251918193678, 0.04985431518379455, 0.049865650513608396, 0.049876440085264824, 0.04988661923057723, 0.04989614261644492, 0.049904982690245306, 0.049913127791331134, 0.04992058005840223, 0.04992735324871882, 0.04993347056767225, 0.0499389625879915, 0.04994386531840455, 0.04994821846311211, 0.04995206389682971, 0.04995544436594507, 0.04981828836080118, 0.049798735853357104, 0.04977769269111836, 0.049755232038034655, 0.04973147033946464, 0.04970657115869026, 0.049680747760618364, 0.0496542640538557, 0.04962743352678421, 0.049600615872486174, 0.04957421109432363, 0.049548651018124445, 0.04952438830331619, 0.04950188323409614, 0.04948158876812784, 0.04946393450570224, 0.04944931039604767, 0.04943805109915306, 0.0494304219540711, 0.04942660745746945, 0.04942670302712279, 0.04943071062187005, 0.04943853852964854, 0.04945000534357883, 0.049464847852133696, 0.04948273230294741, 0.04950326828678094, 0.049526024347298234, 0.04955054436299404, 0.049576363769269424, 0.04960302478175595, 0.04963008993027675, 0.04965715339618695, 0.04968384984329627, 0.04970986062496753, 0.049734917421822615, 0.04975880350504303, 0.049781352923778395, 0.049802447980479496, 0.049822015387536764, 0.04984002149749595, 0.04985646697388587, 0.049871381227361254, 0.049884816889189144, 0.04989684453702025, 0.04990754783119263, 0.049917019167083396, 0.049925355902623716, 0.049932657181332066, 0.04993902134053464, 0.04969230973414057, 0.04965456495930407, 0.04961354045129323, 0.049569322682814415, 0.04952208996067817, 0.04947212402195748, 0.04941981936100113, 0.049365689225660106, 0.04931036719847946, 0.04925460334633911, 0.049199254099659855, 0.04914526532154144, 0.04909364844733346, 0.04904545009887777, 0.049001716168688696, 0.048963451972603766, 0.04893158061521205, 0.048906902124374915, 0.04889005611818196, 0.04888149071685546, 0.04888144008112484, 0.04888991236378648, 0.04890668905887377, 0.048931335812788836, 0.04896322383320747, 0.04900156020536797, 0.049045424795316886, 0.049093811047963606, 0.049145667897017624, 0.049199940177244016, 0.04925560531791678, 0.04931170463036781, 0.04936736810551532, 0.04942183223754954, 0.049474450929633394, 0.04952469997707058, 0.049572175942724554, 0.04961659043551648, 0.04965776088577754, 0.04969559889987438, 0.04973009719387611, 0.04976131597569298, 0.049789369488703945, 0.049814413265447416, 0.049836632481269155, 0.04985623165442419, 0.04987342581668514, 0.049888433179505885, 0.049901469245286684, 0.04991274225964977, 0.04949994268100386, 0.04943220372535839, 0.04935781690769736, 0.04927680848540912, 0.0491893802973247, 0.0490959400122276, 0.048997128408549216, 0.04889384116871933, 0.04878724237523314, 0.04867876678226982, 0.048570108087397014, 0.04846319091662714, 0.04836012511369067, 0.048263142198584755, 0.04817451547638601, 0.04809646710407369, 0.048031067253021746, 0.04798013207154433, 0.04794512816966792, 0.04792709156851434, 0.04792656833005382, 0.04794358241044475, 0.047977633834233056, 0.04802772739195643, 0.04809242913719534, 0.0481699454247236, 0.04825821743240569, 0.04835502324356126, 0.04845807965972055, 0.04856513683609259, 0.04867406034522663, 0.048782897093182016, 0.048889923363788904, 0.048993674931344544, 0.04909296051709175, 0.049186860804322816, 0.04927471577067804, 0.04935610329031166, 0.0494308118754603, 0.04949881014781561, 0.04956021523240137, 0.049615261816269525, 0.04966427316210626, 0.04970763494820749, 0.04974577244282301, 0.04977913122286445, 0.049808161416252016, 0.04983330527978318, 0.049854987812880724, 0.049873610042735064, 0.04923956494021288, 0.04912819169158893, 0.049004622044472014, 0.04886863758049597, 0.04872031366987302, 0.04856008671074904, 0.048388820298518424, 0.048207865431374564, 0.04801910869119269, 0.04782500138464864, 0.04762856211915682, 0.04743334549454826, 0.04724337079306611, 0.047063006969953074, 0.04689681396605974, 0.046749345227775664, 0.04662492186179136, 0.046527394279327, 0.04645991146059212, 0.04642472001847822, 0.04642301423298145, 0.046454853881895526, 0.04651915945788523, 0.04661378539554562, 0.046735662844781437, 0.046880995962223816, 0.04704549089588612, 0.04722459516884839, 0.04741372684033317, 0.04760847686888528, 0.047804773459199534, 0.04799900278100504, 0.04818808546596246, 0.048369512200388015, 0.04854134434145875, 0.04870218684644235, 0.048851141128266044, 0.048987745013558834, 0.049111906059641906, 0.04922383332471928, 0.04932397146459959, 0.04941293987563245, 0.049491478592389594, 0.04956040181539703, 0.04962055929600415, 0.04967280533103815, 0.049717974797695005, 0.04975686546311004, 0.04979022570658854, 0.04981874677073352, 0.04893845663502615, 0.048773403585842874, 0.04858853742087884, 0.048383105682938084, 0.048156773693754436, 0.04790974847328809, 0.047642909589581346, 0.04735793969488716, 0.0470574445955216, 0.046745049662605176, 0.0464254566334414, 0.046104443009730746, 0.04578878616972324, 0.04548609694035773, 0.04520455360233709, 0.044952537578766466, 0.04473818597677179, 0.04456889205410783, 0.04445079956639197, 0.044388346905393096, 0.04438391821243476, 0.044437649094044726, 0.0445474148552728, 0.04470900309276495, 0.0449164459690845, 0.04516246659300528, 0.045438982846219535, 0.045737611856983273, 0.046050127314578755, 0.04636883632091537, 0.046686858509643034, 0.0469983045451123, 0.04729836198470346, 0.04758330328065481, 0.047850433773288716, 0.04809799773631475, 0.0483250588513252, 0.048531368784458954, 0.048717234480120934, 0.048883391820591746, 0.04903089068278862, 0.049160994269168194, 0.049275093919224425, 0.049374639385887875, 0.04946108372429991, 0.0495358414165879, 0.049600258074873775, 0.049655589962873295, 0.049702991601133104, 0.049743509829572034, 0.048657703143093596, 0.04844057822946356, 0.04819561617919502, 0.04792131746241746, 0.04761668292587219, 0.047281398396765054, 0.04691604020474159, 0.04652229388305485, 0.04610317341310466, 0.04566322245641102, 0.04520867245512861, 0.04474752612333325, 0.04428953017767753, 0.04384600035994148, 0.04342946761922345, 0.043053129409624226, 0.04273011582077842, 0.04247261521068259, 0.042290942374819125, 0.042192663931153195, 0.04218190844202855, 0.042258973643799734, 0.042420299064212734, 0.04265880904740408, 0.04296456645669822, 0.04332562941391497, 0.04372898369218643, 0.044161432471638826, 0.04461035484120728, 0.045064282649986, 0.04551328138304292, 0.04594914814259257, 0.04636545648518553, 0.046757484883816, 0.04712206553475654, 0.0474573859120105, 0.04776276919919423, 0.048038453096277, 0.04828538044056566, 0.04850501003163075, 0.04869915211790787, 0.04886983011524457, 0.049019168127528996, 0.04914930254635303, 0.04926231524977657, 0.04936018555358819, 0.04944475797460046, 0.04951772295424855, 0.04958060789500796, 0.04963477613332151, 0.04846864333098429, 0.04821717690790602, 0.047932446228088336, 0.047612364138596215, 0.047255368598364725, 0.0468606443975108, 0.04642837732037037, 0.04596003414636797, 0.045458655948706225, 0.044929144389136866, 0.04437851125288425, 0.043816051032215156, 0.04325338660059527, 0.042704331871619546, 0.04218451718057851, 0.041710738232139125, 0.04130002232774271, 0.04096845694910757, 0.04072988898641561, 0.04059466197180057, 0.04056859099737372, 0.04065236025698983, 0.04084146040339616, 0.041126677955393355, 0.04149503999511404, 0.04193103952611016, 0.042417940549227755, 0.04293898561580508, 0.0434783840740581, 0.04402202327988258, 0.04455789977428419, 0.045076304232902764, 0.045569812359973115, 0.04603313789635727, 0.04646289890295606, 0.046857339148660714, 0.047216036040413266, 0.04753961695998789, 0.047829497955947174, 0.04808765266422836, 0.04831641493536863, 0.0485183156282275, 0.048695952065189584, 0.0488518874450614, 0.04898857684830975, 0.049108316175239454, 0.04921321031193078, 0.04930515694041335, 0.04938584264445974, 0.049456748273291475, 0.048401513509248824, 0.048142361519569604, 0.04784916225800379, 0.04751974835487948, 0.04715246415782576, 0.04674638473780625, 0.046301567532028645, 0.045819330523148065, 0.04530254515479173, 0.044755924693236006, 0.04418627956133642, 0.043602700923645356, 0.04301662400066705, 0.042441715981482886, 0.04189353412861746, 0.041388912841617116, 0.040945068672730484, 0.04057846087225576, 0.04030350646317172, 0.04013130850577428, 0.04006859241947837, 0.04011703723665858, 0.04027312840449616, 0.040528559043504525, 0.04087109840146384, 0.04128576467606907, 0.04175610675530634, 0.04226541679327579, 0.042797746496130835, 0.043338661929184494, 0.043875726195935924, 0.044398737078667184, 0.04489976649099349, 0.045373054063662585, 0.04581480358327728, 0.04622292297575872, 0.04659673932144992, 0.04693671185105011, 0.04724415878630545, 0.04752100838584965, 0.04776958043512314, 0.04799240136992835, 0.04819205394944978, 0.04837106066900787, 0.04853179877895923, 0.048676443776377316, 0.04880693752890601, 0.04892497676578945, 0.049032017521701964, 0.049129291225676795, 0.04840441308235479, 0.04815548887132229, 0.04787497385767163, 0.047560942164712454, 0.04721191799482875, 0.04682705743597756, 0.046406354721972076, 0.04595086753780374, 0.045462951707693114, 0.044946490224534466, 0.04440709523766696, 0.04385225482573972, 0.043291390182995194, 0.04273578495862292, 0.04219834932755643, 0.041693189773692525, 0.041234974012325114, 0.04083810973985057, 0.04051579338129608, 0.040279023584609906, 0.04013570277899359, 0.04008995676690458, 0.040141779640093175, 0.040287061249701044, 0.04051798940125669, 0.040823757310207986, 0.04119146526461531, 0.04160709201968687, 0.042056423963284364, 0.0425258591442451, 0.04300303765065167, 0.04347728087952194, 0.04393984549313374, 0.044384012557898075, 0.04480503994657563, 0.04520000871575681, 0.04556759380403627, 0.04590778740370887, 0.04622160051607291, 0.04651076484884819, 0.04677745345980084, 0.04702403443320689, 0.04725286748064503, 0.04746614886512649, 0.047665805727061535, 0.047853437054053496, 0.0480302954731671, 0.04819730195801754, 0.04835508451157212, 0.04850403185115415, 0.04835556800372309, 0.0481115960094119, 0.047837636082388856, 0.04753176145014415, 0.047192362913713405, 0.04681828022839289, 0.046408951726063324, 0.04596458027720085, 0.04548631182217325, 0.044976420225575194, 0.04443848904775282, 0.04387757696873405, 0.043300349147114614, 0.04271515206600857, 0.04213200505504126, 0.04156247878838894, 0.04101943130838544, 0.04051657768535895, 0.04006788261661662, 0.039686787702753204, 0.03938531634874552, 0.0391731351497282, 0.039056682830826174, 0.039038494866187386, 0.03911684324589399, 0.03928577228271171, 0.039535548954535545, 0.03985347577051763, 0.04022495490703561, 0.04063465936120773, 0.04106766517389125, 0.04151042329535296, 0.041951489337435074, 0.04238197260811307, 0.04279570395761662, 0.04318915090929461, 0.043561127641536156, 0.04391235787633573, 0.04424495235139772, 0.04456186073122906, 0.044866351496738364, 0.04516156326268756, 0.04545015797635573, 0.045734091819451775, 0.04601450503216705, 0.04629171908991464, 0.04656532019481398, 0.046834302760468974, 0.04709724552940176, 0.047352495496287166, 0.04812129535383241, 0.04785356230441976, 0.047553048018594016, 0.047217287914520734, 0.046843978697189516, 0.04643106737270088, 0.045976855338109, 0.04548012049089441, 0.04494026134572342, 0.04435746810537917, 0.043732926083238685, 0.04306905612868742, 0.04236979376753597, 0.04164090234485246, 0.04089030410459434, 0.04012839564933584, 0.0393682903911416, 0.03862590253311608, 0.03791976099949721, 0.03727042952479772, 0.03669942853911456, 0.036227624505387815, 0.035873181617802535, 0.035649340809376054, 0.03556244532160789, 0.03561068887940826, 0.03578395923684235, 0.0360648958404911, 0.036430969909045915, 0.03685715685458938, 0.037318688690973656, 0.03779344585357459, 0.03826370731463963, 0.038717147703701486, 0.03914710151639197, 0.03955219489194027, 0.039935485475978263, 0.04030326747003833, 0.040663704358137466, 0.0410254500261735, 0.04139640759778605, 0.04178274983813947, 0.04218828377126153, 0.04261418932941882, 0.043059106942278894, 0.04351950350691064, 0.04399021908750935, 0.044465091099670936, 0.04493756560547802, 0.0454012296687262, 0.04761402639089012, 0.04728112833737473, 0.04690700621105894, 0.046488309943664596, 0.04602181316061117, 0.04550449456127077, 0.044933626166989524, 0.04430687083244694, 0.043622394682951544, 0.042879004734869046, 0.04207632771396335, 0.04121505234475645, 0.040297262698866236, 0.03932689200643549, 0.03831032066095602, 0.03725712334392745, 0.03618093113128048, 0.03510030765482209, 0.03403943960565613, 0.033028318209737, 0.03210197328782739, 0.03129829328406224, 0.030654147354057366, 0.03020003095022207, 0.02995423608635673, 0.029918244691683277, 0.030075091925894755, 0.030391548228902006, 0.030823537053412276, 0.03132312276039317, 0.03184523788143217, 0.032352906246904053, 0.03282049816442352, 0.03323510375385306, 0.03359633478932105, 0.03391487313365027, 0.03421002397210047, 0.034506509517087544, 0.0348307951329137, 0.035207354555365514, 0.03565538284867171, 0.03618646476075557, 0.03680354784754467, 0.037501282944530576, 0.03826748658836879, 0.039085272601752825, 0.03993535565706612, 0.040798126448087085, 0.04165526307929387, 0.04249080361104052, 0.04683054098491725, 0.04639216865680372, 0.045898666309473354, 0.04534563554163434, 0.044729037726011375, 0.0440453686245113, 0.04329183827098008, 0.04246654788402071, 0.04156865587572411, 0.04059852772709012, 0.039557870854533245, 0.03844986678084621, 0.037279329460382614, 0.036052939269961774, 0.03477962248770493, 0.03347115651092973, 0.0321430654086097, 0.030815805218801687, 0.029516095305176283, 0.02827800763557412, 0.027143089871890333, 0.026158475966725717, 0.025371916563536507, 0.024823402760723357, 0.024534833997207635, 0.024501313457164955, 0.02468828560561663, 0.02503647724990501, 0.025472770000557244, 0.025922809576358757, 0.026321738074639087, 0.026621549208781688, 0.026795297097602106, 0.026839020215151752, 0.02677204070027985, 0.026635726676871935, 0.026490194056962495, 0.0264080720485175, 0.02646477184687004, 0.02672604794152819, 0.02723572202045496, 0.028007760631794044, 0.029025742201272596, 0.03024937690318757, 0.031624720285761194, 0.03309416120403456, 0.03460377940047172, 0.036107537878182265, 0.03756889918314295, 0.03896076750768977, 0.04588698677904173, 0.04532166246613519, 0.04468320431895524, 0.0439656197896699, 0.04316367293035847, 0.04227329096568904, 0.04129202328577261, 0.04021953943134842, 0.039058143324225664, 0.03781326925698942, 0.03649391192693204, 0.03511293067132709, 0.03368716206889254, 0.0322372828636844, 0.030787395163802172, 0.029364361433408336, 0.02799698555623949, 0.026715178807602286, 0.025549201312505734, 0.02452887527249472, 0.02368235386377295, 0.023033785748764888, 0.022599366027158774, 0.022382055368052708, 0.022366458925270883, 0.02251614036827793, 0.022775119386604432, 0.023073564760398808, 0.023335986008986558, 0.0234897159803386, 0.023472197883523355, 0.023236738769991307, 0.022757269903981622, 0.022033077610256767, 0.02109452992292886, 0.020010482074059588, 0.018896681073335517, 0.017920518465643846, 0.017289545472503963, 0.017205885551247108, 0.01778976742389959, 0.019025638836240432, 0.02078383050742653, 0.02289044887871905, 0.025183666554943477, 0.027536296530608392, 0.029857024927637137, 0.032084111449199204, 0.034178213416688544, 0.03611637735980819, 0.04503751659839636, 0.044367650300927604, 0.04360845582786069, 0.04275172753868927, 0.041790158767906496, 0.040717963429240514, 0.03953162970510276, 0.038230812662928125, 0.036819363161050264, 0.03530647148263096, 0.03370786942469603, 0.032046975254744633, 0.03035577228560872, 0.02867507998546918, 0.027053726802485724, 0.025546044117903066, 0.02420723807628406, 0.023086774485556242, 0.022220966124577135, 0.021626988040633306, 0.021300579474875302, 0.021218164030118055, 0.021341915916957103, 0.021625166679719816, 0.02201624204161001, 0.02246043691984451, 0.022901024559805826, 0.023280403856173672, 0.023542030787481023, 0.023633222288999882, 0.02350862259504102, 0.023134147362457603, 0.022491470164755167, 0.021583471767932922, 0.02044144545161323, 0.019135054588798654, 0.017785315638387714, 0.01657680610663837, 0.015753451197889904, 0.01556670587366681, 0.016167178872810193, 0.017522129137153463, 0.01945406227106165, 0.02174638058489148, 0.02421346937428063, 0.02671908027804412, 0.029170519127128102, 0.031507813077752966, 0.03369433505317468, 0.035709881919213184, 0.044594861535663964, 0.043898018243432986, 0.0431082910797855, 0.0422163791833091, 0.04121375769943757, 0.04009332064178297, 0.0388501625431907, 0.03748250920144054, 0.03599280133315256, 0.034388919922838934, 0.032685511681977815, 0.03090531681384347, 0.02908030509185591, 0.02725227740121896, 0.02547239606541831, 0.0237989421262022, 0.02229266631745714, 0.0210097315131909, 0.019993593077055782, 0.019268599742820584, 0.018838115820415374, 0.01868768415737671, 0.01879066809271093, 0.01911272873583615, 0.01961331603277691, 0.02024517148392133, 0.020954248644021744, 0.02168178607189297, 0.02236861954680124, 0.02296063693460387, 0.02341412993771397, 0.023700321160721426, 0.023808926890886536, 0.023750889755995496, 0.023560293482047075, 0.023294981199729867, 0.0230346292374228, 0.022874317723627233, 0.022911885144062793, 0.02322980519516819, 0.023876842069373568, 0.02485771773103224, 0.0261359356010509, 0.027647233344641586, 0.029316109082099646, 0.03106906103893035, 0.032842328763202776, 0.03458494625874177, 0.03625884575892552, 0.03783749114124463, 0.04473267287398962, 0.04410460422718296, 0.04339664074136526, 0.04260064018896709, 0.04170907102442058, 0.04071549813586987, 0.039615126435241906, 0.03840538238866052, 0.03708650113868858, 0.035662069307694756, 0.03413945094109514, 0.032529999469021464, 0.030848941451043027, 0.029114828300578988, 0.02734852414515379, 0.025571874587636555, 0.023806509606887134, 0.022073631436939807, 0.020395948900641222, 0.018802819260545462, 0.017338724529446944, 0.016072901243514074, 0.015103641008619034, 0.014545609212365323, 0.014491023670597862, 0.01495901196556944, 0.015874932811949037, 0.017101107643816022, 0.01848865895499735, 0.019913104427667933, 0.02128648881980492, 0.02255596191290228, 0.02369777819169363, 0.024710867218860955, 0.025611143102369907, 0.02642650343929027, 0.02719214010283508, 0.027945871010447126, 0.028723496333912198, 0.02955453633606024, 0.030458950140662154, 0.031445412849647525, 0.032511413277816995, 0.03364497087043251, 0.03482739146765988, 0.03603634900698347, 0.037248694451006634, 0.038442637359701916, 0.03959918986208991, 0.04070293316535538, 0.04535123628930872, 0.044845387114963185, 0.04427945197409932, 0.04364708847210738, 0.042942224790898556, 0.042159304644425515, 0.04129351656156864, 0.04034098008893039, 0.039298857622733774, 0.03816535930748848, 0.036939612614987856, 0.03562138215534865, 0.03421065443317667, 0.03270715186603243, 0.031109912660875396, 0.02941716381104103, 0.02762681076786237, 0.025737951869790693, 0.023753889630719068, 0.021687173142077045, 0.019567311575019158, 0.017451918026677067, 0.01544159980610796, 0.013695287914150032, 0.012429267557868854, 0.01186098349731056, 0.012086510318257903, 0.013007180254427646, 0.014408474775193983, 0.016082856250451357, 0.01788224803565573, 0.019714334435146762, 0.021524584677813298, 0.023281611013633192, 0.024968248646768516, 0.026576612659806872, 0.028105243742066972, 0.029557148211562374, 0.030938164824832966, 0.03225548595658451, 0.03351635800936448, 0.03472705088972121, 0.0358921735864659, 0.0370143626132794, 0.03809431194252729, 0.03913106719813151, 0.04012248350303137, 0.04106574632654151, 0.04195787209565028, 0.04279613159032303, 0.046159366486874104, 0.04576724387048366, 0.045330536792077596, 0.04484410319777275, 0.04430273147874987, 0.043701233339255026, 0.04303451517507129, 0.04229761736965615, 0.04148571480087835, 0.04059407861597617, 0.03961800937601943, 0.03855276502964867, 0.03739352314050009, 0.03613543347184192, 0.034773831048848104, 0.033304686449542924, 0.03172536414444516, 0.030035737406367564, 0.028239669845336796, 0.02634682640986103, 0.024374739341253254, 0.022351062472697917, 0.020316058536311177, 0.018325645615764826, 0.016455728708376423, 0.014808393362788292, 0.013517515784270939, 0.012742011311308503, 0.012625699444153525, 0.013226108869674683, 0.014472868794409927, 0.016204177281256595, 0.018238824314808097, 0.020423246215635408, 0.022644322801718318, 0.024825221106588784, 0.026917200642743166, 0.02889207735940752, 0.03073625310145572, 0.03244615060744713, 0.03402474632904792, 0.03547895545944008, 0.036817697477536555, 0.03805051872257479, 0.03918667358525882, 0.04023457707639538, 0.04120154681503236, 0.0420937572087799, 0.042916335545721634, 0.043673539573972846, 0.046853929196989, 0.04652766940012793, 0.04616385919385269, 0.04575801812447051, 0.045305467134548194, 0.04480137420626417, 0.044240792486548663, 0.04361868892385498, 0.042929964541501275, 0.04216947140973254, 0.04133203573868994, 0.04041250063304811, 0.039405805021164315, 0.03830711603550638, 0.03711202968389236, 0.03581684852589539, 0.034418935992161254, 0.03291713795772916, 0.03131225982671298, 0.02960760349178999, 0.027809621393225962, 0.0259288595954755, 0.023981567508569633, 0.02199267129379614, 0.020001220273890702, 0.018069718538074743, 0.01629807671674147, 0.014838455789565696, 0.013893787683154418, 0.013665492518557044, 0.014244746648790333, 0.015543288086694734, 0.017352947224866622, 0.01945492063439215, 0.021677783047251414, 0.023904771848157216, 0.02606273764075077, 0.028109550872708777, 0.030024203649211555, 0.031799656983079315, 0.03343773354106786, 0.034945462858132464, 0.03633248555164127, 0.03760926262312212, 0.03878591349835137, 0.03987154478404442, 0.04087395065774283, 0.041799578284127434, 0.042653664465673764, 0.04344046518457982, 0.04723398158523859, 0.04691201378189655, 0.04655081778460612, 0.04614611411433075, 0.04569349113966958, 0.045188460323406926, 0.04462651037453186, 0.044003157594334756, 0.04331399058497184, 0.0425547088492626, 0.04172115669272222, 0.040809356335574476, 0.039815547446275544, 0.038736244770413514, 0.03756833171861925, 0.03630921651110491, 0.03495708977397424, 0.03351133937905988, 0.03197320047101943, 0.03034674563562457, 0.028640349452075813, 0.026868786151134198, 0.025056121014448266, 0.023239489720198615, 0.02147360745357909, 0.019835139635387834, 0.018424437151646773, 0.017359444956084897, 0.016755087497459024, 0.01668792448124792, 0.017163357894241643, 0.018111529786650513, 0.01941600924180065, 0.020951701788084157, 0.022610387962136717, 0.024310339161748355, 0.025996001735153457, 0.02763355983847247, 0.029205518413726796, 0.030705598754046676, 0.03213439950434422, 0.03349596519591491, 0.034795286511388565, 0.03603668577233021, 0.03722297818804722, 0.03835524812382499, 0.039433052716817185, 0.04045486825451391, 0.04141862322338481, 0.042322204732463176, 0.04723399442112981, 0.046856131975744245, 0.04642890565644377, 0.04594752447826237, 0.045407250808560014, 0.04480352622370668, 0.04413210959722642, 0.04338922249046641, 0.04257169531435273, 0.04167710626261902, 0.040703904044081474, 0.03965150552443914, 0.03852036131322489, 0.037311987106686914, 0.036028967402607186, 0.03467495228813625, 0.03325468850202439, 0.03177415352872929, 0.030240895333792747, 0.028664716245146597, 0.027058865497225117, 0.025441894573306367, 0.02384023244824485, 0.022291271718880564, 0.020846211070860824, 0.019571000134204354, 0.0185426915642203, 0.017838364777558888, 0.01751661005343169, 0.017598079544752173, 0.01805656872173124, 0.018827232018732033, 0.019826493049723403, 0.020972184893568745, 0.022196644827824474, 0.023452025982628383, 0.024710135728115604, 0.025959179467002658, 0.02719902723248271, 0.028436064436864087, 0.029678426639105738, 0.03093225060638582, 0.03219934257780641, 0.033476348051733065, 0.03475519216544137, 0.03602435354187391, 0.03727048772698714, 0.0384800022723211, 0.03964033465402671, 0.04074083081742472, 0.04692157189657978, 0.0464421833504605, 0.04589586328233939, 0.04527619589592629, 0.04457695651047986, 0.04379235518882099, 0.04291732816367175, 0.0419478763030215, 0.04088144595978828, 0.039717341968948716, 0.03845715494091024, 0.03710517515725517, 0.03566875347655234, 0.034158556579729014, 0.03258865163877376, 0.03097634765998848, 0.02934172276087151, 0.02770678590592023, 0.026094268212315065, 0.02452612771087177, 0.02302200341310246, 0.02159808332375835, 0.020267110325561492, 0.019040351281041874, 0.017931965163850486, 0.016965053898149642, 0.016176870758943307, 0.015618900468390946, 0.015347436915164488, 0.015404417502424593, 0.01579687405368042, 0.01648877413462126, 0.017411681450039792, 0.018486504090390123, 0.01964352616657333, 0.020833835479378466, 0.022032151616894063, 0.023233735257391187, 0.02444798692168629, 0.02569076675023103, 0.0269771289683113, 0.028315867808914225, 0.029706715633382917, 0.03114023843118164, 0.03259975272827967, 0.0340642443128613, 0.03551135273508527, 0.03691981854263019, 0.038271151665110706, 0.03955053859349931, 0.04647243983018472, 0.04587769412276149, 0.045195532660353775, 0.04441701569393643, 0.04353331143168686, 0.042536023229866694, 0.04141760609664268, 0.04017188620060588, 0.03879469725730402, 0.03728464653938855, 0.035644019475234906, 0.03387982278967337, 0.03200494708075372, 0.030039391986421197, 0.028011426315114475, 0.025958431041345143, 0.023926974582824875, 0.021971405310568584, 0.020150022159546845, 0.01851800758416054, 0.01711728089534878, 0.0159655446379499, 0.01504930722313067, 0.014326465088762607, 0.013741007493935023, 0.013246263162309918, 0.012828227452359576, 0.01251983223278124, 0.012397939935018521, 0.012556660947856874, 0.013062047735426557, 0.013915506253780937, 0.015055024621223174, 0.01638800820377326, 0.01782564568756575, 0.019301835840861863, 0.020777822030552475, 0.0222387560872606, 0.02368672527244314, 0.025132787321214305, 0.02658962003715147, 0.028065953119847307, 0.029563459172352573, 0.031076127798741467, 0.032591547800709, 0.03409322087116631, 0.03556307827429454, 0.03698363747868959, 0.03833954098484309, 0.03961845129369886, 0.04609706915237474, 0.04541413720500208, 0.04462847418943378, 0.04372920731987271, 0.04270546493326443, 0.04154673785858807, 0.04024334801770546, 0.03878704566492628, 0.037171761678293544, 0.035394548750131934, 0.03345675661803434, 0.03136550348938543, 0.029135530056274884, 0.026791551886418054, 0.024371243863011687, 0.021928932403626332, 0.019539736052144853, 0.01730275359470345, 0.015338946991100182, 0.013774330128498357, 0.012698554483872786, 0.01211176179090461, 0.011909655993186186, 0.011932374785294018, 0.012033245332456713, 0.012121326870997292, 0.012174079345143573, 0.012233492890925363, 0.012391060167720376, 0.012758468599111705, 0.01342574162662568, 0.014425190601350134, 0.015724251625445326, 0.017247910703438226, 0.018909706861620818, 0.02063375072627864, 0.022364258946127005, 0.02406643133927835, 0.025722937854516438, 0.027328764323633636, 0.02888596035913432, 0.03039916208284584, 0.03187235633924937, 0.03330702907770681, 0.03470156553948776, 0.03605158195331926, 0.03735079802241306, 0.03859209505798579, 0.039768502749036996, 0.04087397023181205, 0.04593299242416224, 0.04521292957479068, 0.0443844948499386, 0.0434364336739322, 0.04235761535940412, 0.04113746510436305, 0.03976652693395759, 0.03823718540028583, 0.03654458034672966, 0.034687758253416676, 0.032671116977125395, 0.030506219469988362, 0.02821407582477336, 0.025828012556305055, 0.02339722384209506, 0.020990900409407143, 0.01870209116309502, 0.01664837194179359, 0.01496216918552329, 0.013759985407069707, 0.013090089662725178, 0.012892318310288057, 0.013016883600989782, 0.013292125585842128, 0.013584316796937869, 0.013822557927583417, 0.01400011048414287, 0.014166853445659008, 0.01441552298810013, 0.014856523683634661, 0.01558085571836886, 0.016626459312415687, 0.017969509044834714, 0.01954315528176338, 0.021265527821045085, 0.023060619685337593, 0.024868143743383895, 0.026645513036112817, 0.02836582708245804, 0.030014384505460824, 0.031585020225121704, 0.03307686625586085, 0.03449178528829448, 0.035832543944647265, 0.03710168336161943, 0.03830097509256002, 0.03943131299111991, 0.04049288442439589, 0.04148548109476787, 0.04240884149515731, 0.04600654077493282, 0.04529722399152672, 0.044480796690635135, 0.04354599518661202, 0.04248161719452293, 0.04127693527907798, 0.03992224060285045, 0.03840954737380598, 0.03673349703198101, 0.03489251399522009, 0.03289028406075414, 0.030737655459028623, 0.028455103575507134, 0.02607594881830933, 0.023650537517481297, 0.02125144756936905, 0.01897902313260113, 0.016964105323418726, 0.015359346031784607, 0.014304932377647047, 0.013866311486202144, 0.013984558368223375, 0.014496357494076026, 0.015209834146516039, 0.015969395641643878, 0.016680729888149618, 0.017309482417247207, 0.017870263539681634, 0.018412394365211505, 0.019002920804447467, 0.019707585464939604, 0.020573650617880485, 0.02162013819986878, 0.022838155560812895, 0.02419877475579823, 0.02566324086008492, 0.027191418853518144, 0.02874699029512643, 0.030299758274592258, 0.031826053444454765, 0.03330814734739644, 0.034733278215829756, 0.036092625316775484, 0.03738039070530423, 0.038593047045883816, 0.03972875839066849, 0.04078695582042761, 0.04176803917708862, 0.042673173408729226, 0.04350415005018608, 0.04629872800945558, 0.04564332637026982, 0.04488829962876261, 0.044022764215513606, 0.043035711454150784, 0.04191634518166127, 0.040654536838290664, 0.039241430961343, 0.03767024627032855, 0.035937336281669584, 0.03404360233861173, 0.03199639629125994, 0.029812115413710306, 0.027519777907690036, 0.02516594106116067, 0.022821237101099883, 0.020588055935165543, 0.018606212480613678, 0.017046894577921565, 0.016077315904701007, 0.015789319643029494, 0.01613593491462612, 0.01694629809331375, 0.018008168503935842, 0.019140147683528615, 0.020219286944474894, 0.021179512935592986, 0.022000437555436358, 0.022695337970849723, 0.023300330333837885, 0.02386458363162152, 0.02444128752394913, 0.02507955763690969, 0.02581790725581271, 0.02668004351275478, 0.027673462350092944, 0.02879073258963525, 0.03001276019824296, 0.03131299607813224, 0.032661598287746445, 0.03402887341790765, 0.035387704465572954, 0.036714974739437266, 0.0379921670093192, 0.03920537282734197, 0.040344932460741, 0.04140488049174838, 0.04238232093904136, 0.043276810994969696, 0.04408979820152203, 0.04677744239375511, 0.0462212391860559, 0.04558252499680492, 0.04485279251787843, 0.044023678799028645, 0.04308734254503628, 0.04203697033586917, 0.040867444864728125, 0.039576215142788994, 0.03816441480205887, 0.03663827676142248, 0.03501088277321224, 0.03330424793042386, 0.03155163976335664, 0.0297998103839471, 0.028110396949631418, 0.02655907541171274, 0.025230331310255774, 0.024205755836840412, 0.023546079637069006, 0.02327227764056288, 0.023355503804021842, 0.023722983242063015, 0.02427725613160279, 0.024918740996101578, 0.025562907170049328, 0.026149343055861467, 0.026644309632035245, 0.027039393320561295, 0.027348149752871836, 0.02760162941113111, 0.027843000624820757, 0.028121261366221634, 0.028484241023730643, 0.028971612915048305, 0.029609156983378473, 0.03040559260792487, 0.03135269584353264, 0.032428370542142836, 0.03360146865620782, 0.03483690835379521, 0.036099989902669584, 0.03735940002825737, 0.03858889211530918, 0.039767901070344884, 0.040881427904435184, 0.04191949433005528, 0.04287639268978256, 0.04374988114653268, 0.04454041385380674, 0.047348125544535394, 0.04692166588694605, 0.04643691840083461, 0.04588901317100155, 0.04527360213648931, 0.044587216561303045, 0.04382771145343795, 0.04299480212299311, 0.04209069024581154, 0.04112076283604378, 0.04009432453096731, 0.03902528836160183, 0.03793270059575477, 0.036840913434398, 0.035779157605777476, 0.03478023561007797, 0.033878108683494494, 0.03310435056494195, 0.03248381850400701, 0.03203036709484674, 0.03174377272683383, 0.031608957774765765, 0.03159799748822678, 0.0316745083653203, 0.031799324020228587, 0.03193618629012161, 0.032056473166625125, 0.032142462315738855, 0.03218901697443542, 0.032203770156687274, 0.032205911260694206, 0.03222365431511602, 0.032290503160692645, 0.03244059985037104, 0.0327037364465299, 0.03310089710667026, 0.03364126777886462, 0.034321357716862434, 0.0351262875258911, 0.036032690319942044, 0.03701233690555193, 0.03803563101109233, 0.03907440880916935, 0.040103821762642475, 0.041103343859185376, 0.04205708184568885, 0.04295360346111503, 0.04378547676761638, 0.04454866909932962, 0.04524190800710112, 0.04785036124424469, 0.04755119609825723, 0.04721741043471122, 0.046847055192479045, 0.04643871614170819, 0.04599173409973946, 0.04550645262776573, 0.04498448243325523, 0.04442896432813273, 0.04384480351548636, 0.04323883780537307, 0.04261989257161195, 0.04199866857836183, 0.041387409391169326, 0.04079930819829339, 0.04024764446737719, 0.039744690874566314, 0.03930049559225766, 0.038921710073970335, 0.038610675401382355, 0.03836497763266312, 0.03817762219831861, 0.03803786830171927, 0.037932636610576116, 0.03784829549589248, 0.03777257079611578, 0.03769631802776635, 0.03761493078134151, 0.03752921345424103, 0.03744560438453345, 0.03737569308854605, 0.037335040086427594, 0.037341390232943646, 0.037412472308878834, 0.0375636815573099, 0.03780601047921702, 0.038144583759764844, 0.038578044529384035, 0.03909885367679979, 0.03969436394940133, 0.04034838651170378, 0.041042920231364695, 0.041759758194634025, 0.042481783917767864, 0.043193877025705534, 0.04388343397758861, 0.04454056206670141, 0.045158027037735624, 0.045731035327337265, 0.04625692075662405, 0.048133531122175804, 0.04793175618532991, 0.04771388017273075, 0.04747962447629505, 0.04722900293743432, 0.046962410266591835, 0.04668071404717197, 0.04638534220001593, 0.046078355018757476, 0.045762488496741804, 0.045441154241198094, 0.04511838153732116, 0.044798689861202994, 0.044486885997424154, 0.044187789150801585, 0.04390589959077204, 0.043645039979558, 0.04340801111219357, 0.04319631211532899, 0.043009976038129505, 0.042847563159937825, 0.042706336249853996, 0.042582616916253896, 0.042472294513777605, 0.04237143397365234, 0.042276910774455306, 0.04218699268707882, 0.042101789585775554, 0.042023503845696177, 0.04195643347220543, 0.04190670694820949, 0.04188176143230678, 0.04188961187817586, 0.04193799329150185, 0.0420334848647582, 0.04218073540539963, 0.04238189855141123, 0.042636353225814376, 0.04294073599476125, 0.04328925934935492, 0.043674246610623225, 0.04408678969568698, 0.044517433212182704, 0.04495680353813342, 0.04539612709743822, 0.045827609896170275, 0.046244674499722624, 0.04664206790111573, 0.04701586363872548, 0.04736338519027891, 0.04812786209179416, 0.0479842255366515, 0.04783793491714617, 0.04768966212372641, 0.047540082940410566, 0.04738988312367426, 0.04723977054636749, 0.04709049113078115, 0.04694284493485024, 0.04679769772229215, 0.04665598291856525, 0.04651868926837728, 0.046386830911542956, 0.046261398979822704, 0.04614329699845308, 0.046033265961309584, 0.04593180836934212, 0.04583912310320441, 0.045755064079070915, 0.04567913470482009, 0.04561052700383693, 0.0455482090906082, 0.04549105805692835, 0.04543802817512828, 0.045388337727924805, 0.04534165279552804, 0.04529824384307476, 0.04525909152488189, 0.0452259219636077, 0.04520115869309693, 0.04518778789188747, 0.045189144480637045, 0.0452086377087497, 0.04524944431123496, 0.04531420341900233, 0.045404748727045946, 0.04552190930626224, 0.045665401321543085, 0.04583382036273008, 0.04602473048712999, 0.046234833987174546, 0.04646019741541826, 0.046696505607860796, 0.046939316289542996, 0.047184292333987646, 0.04742739538684886, 0.04766503181795968, 0.04789414859990986, 0.04811228195500854, 0.04831756516009599, 0.04787465321110417, 0.04775510095048063, 0.04764292025752752, 0.04753952770138074, 0.04744608045983609, 0.047363428986254855, 0.04729208822531932, 0.047232229504607495, 0.04718369302103136, 0.047146018630850633, 0.0471184907987882, 0.047100192370048775, 0.04709006148401112, 0.047086946478918465, 0.04708965491267214, 0.04709699458588338, 0.04710780636291041, 0.04712099029426387, 0.0471355277461563, 0.0471505027326623, 0.0471651253420932, 0.047178759107380557, 0.047190952571690585, 0.04720147342295515, 0.04721034174653043, 0.0472178575105122, 0.04722461664477645, 0.04723151020431889, 0.04723970219799598, 0.047250583649600324, 0.04726570312663779, 0.0472866769801991, 0.04731508545259622, 0.04735236316366789, 0.04739969386608147, 0.04745791948034806, 0.04752747219735901, 0.04760833601860244, 0.047700040855730916, 0.04780168874193849, 0.04791200836863581, 0.04802943153056328, 0.048152183456084845, 0.04827837852445988, 0.048406113435707554, 0.04853355125872473, 0.04865899161995431, 0.048780924284153766, 0.048898065248347666, 0.049009376030345754, 0.047525369036070415, 0.04740913423728608, 0.047307696777865164, 0.04722315402744705, 0.0471571244217652, 0.047110658124651476, 0.04708418080112578, 0.04707747602144338, 0.04708970786346704, 0.047119481080677136, 0.04716493242687227, 0.047223843956998364, 0.04729376772151492, 0.04737215132516775, 0.04745645514842849, 0.04754425425521158, 0.04763332066806999, 0.04772168432975979, 0.04780767332696893, 0.04788993559985178, 0.047967445310994616, 0.04803949733187585, 0.04810569304501025, 0.04816592002955322, 0.04822032738935534, 0.04826929767731305, 0.04831341571845267, 0.048353434239872733, 0.04839023612702212, 0.04842479333514389, 0.04845812293319095, 0.048491241346197055, 0.048525118468413765, 0.04856063381732249, 0.04859853717909497, 0.048639416186433554, 0.04868367294612074, 0.048731511225390045, 0.048782934890394265, 0.048837757376741384, 0.04889562108416034, 0.048956024838523446, 0.04901835704048814, 0.04908193186708872, 0.04914602591412289, 0.04920991292886608, 0.04927289472350603, 0.04933432690562712, 0.04939363863908091, 0.049450346193088766, 0.04729465330440029, 0.04717732362591973, 0.04707915984230799, 0.04700270741061421, 0.04694989654836346, 0.04692192583538384, 0.046919189198689946, 0.04694125400005273, 0.046986892553029555, 0.047054163614961314, 0.04714053519229339, 0.04724303619127191, 0.04735842254481028, 0.04748334354582816, 0.047614495935493696, 0.0477487562922387, 0.047883285806889754, 0.048015605021205617, 0.0481436391075712, 0.04826573651810824, 0.04838066525008134, 0.048487591616551015, 0.04858604641899075, 0.04867588297366289, 0.0487572307298718, 0.048830447397522826, 0.048896071700055756, 0.048954778173181716, 0.049007334887682934, 0.0490545645998776, 0.04909730961352936, 0.04913640054056004, 0.04917262913296223, 0.04920672538021991, 0.04923933908504366, 0.04927102611471769, 0.04930223945833907, 0.049333325098374486, 0.04936452253790763, 0.04939596963215563, 0.04942771117914113, 0.0494597105551992, 0.04949186355778585, 0.049524013555242656, 0.049555967046401264, 0.049587508799072436, 0.04961841585511007, 0.04964846984544327, 0.04967746723355351, 0.049705227283007365, 0.04735188987237663, 0.04724199516638909, 0.04715189198454821, 0.04708411753061852, 0.04704058285607795, 0.04702245613497132, 0.047030089747495334, 0.047062998909175584, 0.04711989416167219, 0.04719876423402049, 0.04729700055290207, 0.04741155085337405, 0.047539087420128946, 0.04767617556871416, 0.047819429775011364, 0.04796564784356836, 0.04811191703890263, 0.04825568960490332, 0.04839482812694647, 0.048527623493394054, 0.04865278970478415, 0.048769440510356685, 0.048877052955602136, 0.048975422570554525, 0.049064614286663075, 0.04914491238869304, 0.04921677200301628, 0.049280773875532626, 0.04933758354971443, 0.04938791553963392, 0.04943250270596871, 0.04947207077287911, 0.04950731775033677, 0.04953889792671359, 0.049567410047313055, 0.0495933892760338, 0.049617302533918224, 0.0496395468094305, 0.04966045003531763, 0.04968027412439261, 0.049699219753143765, 0.049717432481068136, 0.049735009798883845, 0.04975200871357064, 0.04976845350450522, 0.04978434332314518, 0.04979965935747913, 0.04981437133914948, 0.049828443232226315, 0.04984183800416803, 0.04771565242371843, 0.04762497754694097, 0.047551387222991695, 0.047496964999424206, 0.047463272657621916, 0.04745125811509857, 0.04746119817945447, 0.04749268193834838, 0.04754463650228109, 0.04761539247916855, 0.04770278263041469, 0.04780426422471561, 0.04791705403919327, 0.04803826485163663, 0.04816503345352082, 0.04829463233333549, 0.048424559790979316, 0.04855260591906855, 0.04867689428585265, 0.04879590105944449, 0.048908454630487104, 0.04901371952838908, 0.04911116866249186, 0.04920054776803169, 0.04928183552081495, 0.049355202217875094, 0.04942096929762954, 0.04947957136172997, 0.04953152180791855, 0.049577382714492954, 0.04961773924222723, 0.04965317853714063, 0.04968427291832911, 0.04971156700615358, 0.04973556837297121, 0.04975674126726781, 0.049775502960047985, 0.04979222227941439, 0.04980721992757896, 0.049820770208546895, 0.04983310383083477, 0.04984441148581379, 0.049854847937691765, 0.049864536395513234, 0.04987357297091997, 0.04988203105787613, 0.0498899655021021, 0.04989741645837245, 0.04990441286272617, 0.049910975473494795, 0.048257298079274834, 0.04819188168582371, 0.048139121583399204, 0.04810045765101246, 0.04807696387656237, 0.048069289124353556, 0.048077620535180755, 0.048101672953791544, 0.04814070538489864, 0.04819356294275297, 0.048258740439559064, 0.048334461970155375, 0.04841876980585343, 0.04850961568363224, 0.048604948106189864, 0.04870279038538624, 0.04880130563874012, 0.048898846548805344, 0.04899398921273101, 0.049085551694789946, 0.04917259886361185, 0.04925443572348445, 0.049330591757016026, 0.04940079883629614, 0.04946496509744805, 0.049523146877034775, 0.04957552043946555, 0.04962235483234097, 0.04966398682858449, 0.04970079857471728, 0.0497331982774024, 0.04976160403052534, 0.049786430711509344, 0.04980807975316328, 0.04982693151874384, 0.04984333996481958, 0.04985762926078715, 0.049870092038077504, 0.04988098895985291, 0.049890549328201764, 0.0498989724765535, 0.049906429727403834, 0.049913066727514256, 0.04991900600329228, 0.04992434960736672, 0.04992918175310157, 0.04993357135683372, 0.049937574427995575, 0.0499412362650811, 0.04994459343074675, 0.04880796709874723, 0.04876615137783143, 0.04873257961554249, 0.04870811561217721, 0.04869340047834567, 0.04868882012780705, 0.04869448531332264, 0.04871022587313524, 0.04873559967744002, 0.048769915524367095, 0.04881226808875416, 0.04886158211311291, 0.04891666244757626, 0.04897624633902902, 0.04903905452720924, 0.04910383816734092, 0.04916941927290856, 0.049234723153885954, 0.049298802115527104, 0.04936085039939724, 0.04942021093579996, 0.049476374906174445, 0.04952897538037361, 0.049577776410313405, 0.04962265895344612, 0.04966360489764446, 0.04970068029482481, 0.04973401871254781, 0.049763805404534865, 0.0497902628003784, 0.04981363763383469, 0.04983418987503331, 0.04985218350765046, 0.049867879097409945, 0.04988152803092046, 0.04989336826028916, 0.049903621365047064, 0.0499124907344777, 0.049920160676517174, 0.049926796270524355, 0.04993254379750255, 0.049937531600482074, 0.049941871247989565, 0.04994565889357314, 0.04994897674336534, 0.04995189456111895, 0.04995447115575848, 0.04995675581014554, 0.0499587896214711, 0.049960606733554014];\n",
       "const xvar = \"epochs\";\n",
       "const yvar = \"decay\";\n",
       "const x_is_log = false;\n",
       "const y_is_log = true;\n",
       "\n",
       "const GREEN_SCALE = [[247, 252, 253], [229, 245, 249], [204, 236, 230], [153, 216, 201], [102, 194, 164], [65, 174, 118], [35, 139, 69], [0, 109, 44], [0, 68, 27]];\n",
       "const GREEN_PINK_SCALE = [[142, 1, 82], [197, 27, 125], [222, 119, 174], [241, 182, 218], [253, 224, 239], [247, 247, 247], [230, 245, 208], [184, 225, 134], [127, 188, 65], [77, 146, 33], [39, 100, 25]];\n",
       "const BLUE_SCALE = [[255, 247, 251], [236, 231, 242], [208, 209, 230], [166, 189, 219], [116, 169, 207], [54, 144, 192], [5, 112, 176], [3, 78, 123]];\n",
       "\n",
       "// format data\n",
       "const res = relativize_data(f, sd, rel, arm_data, metric);\n",
       "const f_final = res[0];\n",
       "const sd_final = res[1];\n",
       "\n",
       "// calculate max of abs(outcome), used for colorscale\n",
       "const f_absmax = Math.max(Math.abs(Math.min(...f_final)), Math.max(...f_final));\n",
       "\n",
       "// transform to nested array\n",
       "var f_plt = [];\n",
       "while(f_final.length) f_plt.push(f_final.splice(0, density));\n",
       "var sd_plt = [];\n",
       "while(sd_final.length) sd_plt.push(sd_final.splice(0, density));\n",
       "\n",
       "// create traces\n",
       "const CONTOUR_CONFIG = {\n",
       "  autocolorscale: false,\n",
       "  autocontour: true,\n",
       "  contours: {\n",
       "    coloring: 'heatmap',\n",
       "  },\n",
       "  hoverinfo: 'x+y+z',\n",
       "  ncontours: density / 2,\n",
       "  type: 'contour',\n",
       "  x: grid_x,\n",
       "  y: grid_y,\n",
       "};\n",
       "\n",
       "let f_scale;\n",
       "if (rel === true) {\n",
       "  f_scale = lower_is_better === true\n",
       "    ? GREEN_PINK_SCALE.reverse()\n",
       "    : GREEN_PINK_SCALE;\n",
       "} else {\n",
       "  f_scale = GREEN_SCALE;\n",
       "}\n",
       "\n",
       "const f_trace = {\n",
       "  colorbar: {\n",
       "    x: 0.45,\n",
       "    y: 0.5,\n",
       "    ticksuffix: rel === true ? '%' : '',\n",
       "    tickfont: {\n",
       "      size: 8,\n",
       "    },\n",
       "  },\n",
       "  colorscale: f_scale.map(\n",
       "    (v, i) => [i / (f_scale.length - 1), rgb(v)]\n",
       "  ),\n",
       "  xaxis: 'x',\n",
       "  yaxis: 'y',\n",
       "  z: f_plt,\n",
       "  // zmax and zmin are ignored if zauto is true\n",
       "  zauto: !rel,\n",
       "  zmax: f_absmax,\n",
       "  zmin: -f_absmax,\n",
       "};\n",
       "\n",
       "const sd_trace = {\n",
       "  colorbar: {\n",
       "      x: 1,\n",
       "      y: 0.5,\n",
       "      ticksuffix: rel === true ? '%' : '',\n",
       "      tickfont: {\n",
       "        size: 8,\n",
       "      },\n",
       "  },\n",
       "  colorscale: BLUE_SCALE.map(\n",
       "    (v, i) => [i / (BLUE_SCALE.length - 1), rgb(v)]\n",
       "  ),\n",
       "  xaxis: 'x2',\n",
       "  yaxis: 'y2',\n",
       "  z: sd_plt,\n",
       "};\n",
       "\n",
       "Object.keys(CONTOUR_CONFIG).forEach(key => {\n",
       "  f_trace[key] = CONTOUR_CONFIG[key];\n",
       "  sd_trace[key] = CONTOUR_CONFIG[key];\n",
       "});\n",
       "\n",
       "// get in-sample arms\n",
       "const arm_x = [];\n",
       "const arm_y = [];\n",
       "const arm_text = [];\n",
       "\n",
       "Object.keys(arm_data['in_sample']).forEach(arm_name => {\n",
       "  arm_x.push(arm_data['in_sample'][arm_name]['parameters'][xvar]);\n",
       "  arm_y.push(arm_data['in_sample'][arm_name]['parameters'][yvar]);\n",
       "  arm_text.push(arm_name);\n",
       "});\n",
       "\n",
       "// configs for in-sample arms\n",
       "const base_in_sample_arm_config = {\n",
       "  hoverinfo: 'text',\n",
       "  legendgroup: 'In-sample',\n",
       "  marker: {color: 'black', symbol: 1, opacity: 0.5},\n",
       "  mode: 'markers',\n",
       "  name: 'In-sample',\n",
       "  text: arm_text,\n",
       "  type: 'scatter',\n",
       "  x: arm_x,\n",
       "  y: arm_y,\n",
       "};\n",
       "\n",
       "const f_in_sample_arm_trace = {\n",
       "  xaxis: 'x',\n",
       "  yaxis: 'y',\n",
       "};\n",
       "\n",
       "const sd_in_sample_arm_trace = {\n",
       "  showlegend: false,\n",
       "  xaxis: 'x2',\n",
       "  yaxis: 'y2',\n",
       "};\n",
       "\n",
       "Object.keys(base_in_sample_arm_config).forEach(key => {\n",
       "  f_in_sample_arm_trace[key] = base_in_sample_arm_config[key];\n",
       "  sd_in_sample_arm_trace[key] = base_in_sample_arm_config[key];\n",
       "});\n",
       "\n",
       "const traces = [\n",
       "  f_trace,\n",
       "  sd_trace,\n",
       "  f_in_sample_arm_trace,\n",
       "  sd_in_sample_arm_trace,\n",
       "];\n",
       "\n",
       "// start symbol at 2 for candidate markers\n",
       "let i = 2;\n",
       "\n",
       "// iterate over out-of-sample arms\n",
       "Object.keys(arm_data['out_of_sample']).forEach(generator_run_name => {\n",
       "  const ax = [];\n",
       "  const ay = [];\n",
       "  const atext = [];\n",
       "\n",
       "  Object.keys(arm_data['out_of_sample'][generator_run_name]).forEach(arm_name => {\n",
       "    ax.push(\n",
       "      arm_data['out_of_sample'][generator_run_name][arm_name]['parameters'][xvar]\n",
       "    );\n",
       "    ay.push(\n",
       "      arm_data['out_of_sample'][generator_run_name][arm_name]['parameters'][yvar]\n",
       "    );\n",
       "    atext.push('<em>Candidate ' + arm_name + '</em>');\n",
       "  });\n",
       "\n",
       "  traces.push({\n",
       "    hoverinfo: 'text',\n",
       "    legendgroup: generator_run_name,\n",
       "    marker: {color: 'black', symbol: i, opacity: 0.5},\n",
       "    mode: 'markers',\n",
       "    name: generator_run_name,\n",
       "    text: atext,\n",
       "    type: 'scatter',\n",
       "    xaxis: 'x',\n",
       "    x: ax,\n",
       "    yaxis: 'y',\n",
       "    y: ay,\n",
       "  });\n",
       "  traces.push({\n",
       "    hoverinfo: 'text',\n",
       "    legendgroup: generator_run_name,\n",
       "    marker: {color: 'black', symbol: i, opacity: 0.5},\n",
       "    mode: 'markers',\n",
       "    name: 'In-sample',\n",
       "    showlegend: false,\n",
       "    text: atext,\n",
       "    type: 'scatter',\n",
       "    x: ax,\n",
       "    xaxis: 'x2',\n",
       "    y: ay,\n",
       "    yaxis: 'y2',\n",
       "  });\n",
       "  i += 1;\n",
       "});\n",
       "\n",
       "// layout\n",
       "const xrange = axis_range(grid_x, x_is_log);\n",
       "const yrange = axis_range(grid_y, y_is_log);\n",
       "\n",
       "const xtype = x_is_log ? 'log' : 'linear';\n",
       "const ytype = y_is_log ? 'log' : 'linear';\n",
       "\n",
       "const layout = {\n",
       "  autosize: false,\n",
       "    margin: {\n",
       "      l: 35,\n",
       "      r: 35,\n",
       "      t: 35,\n",
       "      b: 100,\n",
       "      pad: 0,\n",
       "  },\n",
       "  annotations: [\n",
       "    {\n",
       "      font: {size: 14},\n",
       "      showarrow: false,\n",
       "      text: 'Mean',\n",
       "      x: 0.25,\n",
       "      xanchor: 'center',\n",
       "      xref: 'paper',\n",
       "      y: 1,\n",
       "      yanchor: 'bottom',\n",
       "      yref: 'paper',\n",
       "    },\n",
       "    {\n",
       "      font: {size: 14},\n",
       "      showarrow: false,\n",
       "      text: 'Standard Error',\n",
       "      x: 0.8,\n",
       "      xanchor: 'center',\n",
       "      xref: 'paper',\n",
       "      y: 1,\n",
       "      yanchor: 'bottom',\n",
       "      yref: 'paper',\n",
       "    },\n",
       "  ],\n",
       "  hovermode: 'closest',\n",
       "  legend: {orientation: 'h', x: 0, y: -0.25},\n",
       "  height: 450,\n",
       "  width: 950,\n",
       "  xaxis: {\n",
       "    anchor: 'y',\n",
       "    autorange: false,\n",
       "    domain: [0.05, 0.45],\n",
       "    exponentformat: 'e',\n",
       "    range: xrange,\n",
       "    tickfont: {size: 11},\n",
       "    tickmode: 'auto',\n",
       "    title: xvar,\n",
       "    type: xtype,\n",
       "  },\n",
       "  xaxis2: {\n",
       "    anchor: 'y2',\n",
       "    autorange: false,\n",
       "    domain: [0.60, 1],\n",
       "    exponentformat: 'e',\n",
       "    range: xrange,\n",
       "    tickfont: {size: 11},\n",
       "    tickmode: 'auto',\n",
       "    title: xvar,\n",
       "    type: xtype,\n",
       "  },\n",
       "  yaxis: {\n",
       "    anchor: 'x',\n",
       "    autorange: false,\n",
       "    domain: [0, 1],\n",
       "    exponentformat: 'e',\n",
       "    range: yrange,\n",
       "    tickfont: {size: 11},\n",
       "    tickmode: 'auto',\n",
       "    title: yvar,\n",
       "    type: ytype,\n",
       "  },\n",
       "  yaxis2: {\n",
       "    anchor: 'x2',\n",
       "    autorange: false,\n",
       "    domain: [0, 1],\n",
       "    exponentformat: 'e',\n",
       "    range: yrange,\n",
       "    tickfont: {size: 11},\n",
       "    tickmode: 'auto',\n",
       "    type: ytype,\n",
       "  },\n",
       "};\n",
       "\n",
       "Plotly.newPlot(\"6d88be4e69f04bc583d410730488eefc\", traces, layout, {showLink: false});\n",
       "});</script>"
      ]
     },
     "metadata": {},
     "output_type": "display_data"
    }
   ],
   "source": [
    "render(plot_contour(model=gpei, param_x='epochs', param_y='decay', metric_name='log_eval'))"
   ]
  },
  {
   "cell_type": "code",
   "execution_count": 25,
   "metadata": {
    "pycharm": {
     "name": "#%%\n"
    },
    "scrolled": false
   },
   "outputs": [
    {
     "data": {
      "text/html": [
       "<div id=\"c438dcbe4e9249b6918f76743d0a1afd\" style=\"width: 100%;\" class=\"plotly-graph-div\"></div><script type='text/javascript'>/*\n",
       " * Copyright (c) Facebook, Inc. and its affiliates. All Rights Reserved.\n",
       " */\n",
       "\n",
       "require(['plotly'], function(Plotly) {\n",
       "  window.PLOTLYENV = window.PLOTLYENV || {};\n",
       "  window.PLOTLYENV.BASE_URL = 'https://plot.ly';\n",
       "  /*\n",
       " * Copyright (c) Facebook, Inc. and its affiliates. All Rights Reserved.\n",
       " */\n",
       "\n",
       "const arm_data = {\"metrics\": [\"log_eval\"], \"in_sample\": {\"zero\": {\"name\": \"zero\", \"parameters\": {\"lr\": 0.0043, \"decay\": 0.0012, \"epochs\": 0}, \"y\": {\"log_eval\": 3.6364354875574563}, \"y_hat\": {\"log_eval\": 3.6454888422885654}, \"se\": {\"log_eval\": 0.012499465460930299}, \"se_hat\": {\"log_eval\": 0.011905499799537745}, \"context_stratum\": null}, \"control1\": {\"name\": \"control1\", \"parameters\": {\"lr\": 0.0043, \"decay\": 0.0012, \"epochs\": 5}, \"y\": {\"log_eval\": 3.7673388703466384}, \"y_hat\": {\"log_eval\": 3.7513508220970078}, \"se\": {\"log_eval\": 0.014437295783778344}, \"se_hat\": {\"log_eval\": 0.012454597622696168}, \"context_stratum\": null}, \"control2\": {\"name\": \"control2\", \"parameters\": {\"lr\": 0.0043, \"decay\": 0.0012, \"epochs\": 10}, \"y\": {\"log_eval\": 3.7939481165991658}, \"y_hat\": {\"log_eval\": 3.7745678923158015}, \"se\": {\"log_eval\": 0.013743965355831913}, \"se_hat\": {\"log_eval\": 0.010943736129409411}, \"context_stratum\": null}, \"3_0\": {\"name\": \"3_0\", \"parameters\": {\"lr\": 0.006719886554586096, \"decay\": 0.0025712614367976697, \"epochs\": 17}, \"y\": {\"log_eval\": 3.527757963786043}, \"y_hat\": {\"log_eval\": 3.54057360863952}, \"se\": {\"log_eval\": 0.014116282037991347}, \"se_hat\": {\"log_eval\": 0.013313980828044898}, \"context_stratum\": null}, \"4_0\": {\"name\": \"4_0\", \"parameters\": {\"lr\": 0.0012230710776559032, \"decay\": 0.0001245490767846484, \"epochs\": 14}, \"y\": {\"log_eval\": 3.722176023563392}, \"y_hat\": {\"log_eval\": 3.7205795125221695}, \"se\": {\"log_eval\": 0.013597994240945219}, \"se_hat\": {\"log_eval\": 0.013120831363704032}, \"context_stratum\": null}, \"5_0\": {\"name\": \"5_0\", \"parameters\": {\"lr\": 0.00015703189811414284, \"decay\": 0.004250773039859609, \"epochs\": 6}, \"y\": {\"log_eval\": 3.6558885974799313}, \"y_hat\": {\"log_eval\": 3.6586443177849937}, \"se\": {\"log_eval\": 0.013725262026368666}, \"se_hat\": {\"log_eval\": 0.013233514730824101}, \"context_stratum\": null}, \"6_0\": {\"name\": \"6_0\", \"parameters\": {\"lr\": 0.00027734698125494284, \"decay\": 0.00024503393137916316, \"epochs\": 19}, \"y\": {\"log_eval\": 3.719795690263471}, \"y_hat\": {\"log_eval\": 3.7183782337206077}, \"se\": {\"log_eval\": 0.01372692960075821}, \"se_hat\": {\"log_eval\": 0.013235450165383569}, \"context_stratum\": null}, \"7_0\": {\"name\": \"7_0\", \"parameters\": {\"lr\": 0.00215089431162011, \"decay\": 0.007181061645086981, \"epochs\": 2}, \"y\": {\"log_eval\": 3.671565328964881}, \"y_hat\": {\"log_eval\": 3.6734692312173984}, \"se\": {\"log_eval\": 0.01338050680982233}, \"se_hat\": {\"log_eval\": 0.012924419065381573}, \"context_stratum\": null}, \"8_0\": {\"name\": \"8_0\", \"parameters\": {\"lr\": 0.003669268451658114, \"decay\": 0.0004685768597399909, \"epochs\": 8}, \"y\": {\"log_eval\": 3.7542075598642723}, \"y_hat\": {\"log_eval\": 3.749825352617683}, \"se\": {\"log_eval\": 0.014385970424389254}, \"se_hat\": {\"log_eval\": 0.013791819005244283}, \"context_stratum\": null}, \"9_0\": {\"name\": \"9_0\", \"parameters\": {\"lr\": 0.0005083524213359429, \"decay\": 0.0011885017054668588, \"epochs\": 11}, \"y\": {\"log_eval\": 3.726350753855546}, \"y_hat\": {\"log_eval\": 3.724460217135266}, \"se\": {\"log_eval\": 0.013545580006328673}, \"se_hat\": {\"log_eval\": 0.013073842917800668}, \"context_stratum\": null}, \"10_0\": {\"name\": \"10_0\", \"parameters\": {\"lr\": 0.0003885480703922011, \"decay\": 0.00017572911480920575, \"epochs\": 7}, \"y\": {\"log_eval\": 3.7153679485655404}, \"y_hat\": {\"log_eval\": 3.7143578924161424}, \"se\": {\"log_eval\": 0.01367508917825613}, \"se_hat\": {\"log_eval\": 0.013186715365212098}, \"context_stratum\": null}, \"11_0\": {\"name\": \"11_0\", \"parameters\": {\"lr\": 0.004987883132707978, \"decay\": 0.003342016822981182, \"epochs\": 14}, \"y\": {\"log_eval\": 3.739543115591369}, \"y_hat\": {\"log_eval\": 3.732044852266896}, \"se\": {\"log_eval\": 0.013307203954322175}, \"se_hat\": {\"log_eval\": 0.012563933519352232}, \"context_stratum\": null}, \"12_0\": {\"name\": \"12_0\", \"parameters\": {\"lr\": 0.0029168282988909335, \"decay\": 0.0009197168866264231, \"epochs\": 16}, \"y\": {\"log_eval\": 3.7186711581894665}, \"y_hat\": {\"log_eval\": 3.7197404391362214}, \"se\": {\"log_eval\": 0.014621965136108576}, \"se_hat\": {\"log_eval\": 0.013861707201097929}, \"context_stratum\": null}, \"13_0\": {\"name\": \"13_0\", \"parameters\": {\"lr\": 0.00021152642014361876, \"decay\": 0.0020209888929120954, \"epochs\": 3}, \"y\": {\"log_eval\": 3.637905015076654}, \"y_hat\": {\"log_eval\": 3.641972958546305}, \"se\": {\"log_eval\": 0.013740333364859962}, \"se_hat\": {\"log_eval\": 0.013246579797678097}, \"context_stratum\": null}, \"14_0\": {\"name\": \"14_0\", \"parameters\": {\"lr\": 0.0001155375773105539, \"decay\": 0.0003570341502470353, \"epochs\": 11}, \"y\": {\"log_eval\": 3.6822407278316125}, \"y_hat\": {\"log_eval\": 3.6834692286452646}, \"se\": {\"log_eval\": 0.014285217675939405}, \"se_hat\": {\"log_eval\": 0.01373491661618334}, \"context_stratum\": null}, \"15_0\": {\"name\": \"15_0\", \"parameters\": {\"lr\": 0.0016000375420588211, \"decay\": 0.001624692156473758, \"epochs\": 9}, \"y\": {\"log_eval\": 3.7320861684920095}, \"y_hat\": {\"log_eval\": 3.731208483181495}, \"se\": {\"log_eval\": 0.013587405327005645}, \"se_hat\": {\"log_eval\": 0.013021925391680029}, \"context_stratum\": null}, \"16_0\": {\"name\": \"16_0\", \"parameters\": {\"lr\": 0.008811602322531434, \"decay\": 0.000186652607756163, \"epochs\": 1}, \"y\": {\"log_eval\": 3.623308265882121}, \"y_hat\": {\"log_eval\": 3.6286323106435}, \"se\": {\"log_eval\": 0.013759945135539384}, \"se_hat\": {\"log_eval\": 0.013266289208842477}, \"context_stratum\": null}, \"17_0\": {\"name\": \"17_0\", \"parameters\": {\"lr\": 0.0006830909901579769, \"decay\": 0.009813793275866853, \"epochs\": 18}, \"y\": {\"log_eval\": 3.7734218690082773}, \"y_hat\": {\"log_eval\": 3.7693586323221777}, \"se\": {\"log_eval\": 0.01308537161098173}, \"se_hat\": {\"log_eval\": 0.01247230247301693}, \"context_stratum\": null}, \"18_0\": {\"name\": \"18_0\", \"parameters\": {\"lr\": 0.0006154371046006404, \"decay\": 0.00021817967393688832, \"epochs\": 15}, \"y\": {\"log_eval\": 3.7161815713771076}, \"y_hat\": {\"log_eval\": 3.715061978778193}, \"se\": {\"log_eval\": 0.013834489994739026}, \"se_hat\": {\"log_eval\": 0.013330425929603809}, \"context_stratum\": null}, \"19_0\": {\"name\": \"19_0\", \"parameters\": {\"lr\": 0.008526969624032996, \"decay\": 0.008521992697599054, \"epochs\": 7}, \"y\": {\"log_eval\": 3.7285276912274417}, \"y_hat\": {\"log_eval\": 3.7261443021678438}, \"se\": {\"log_eval\": 0.014692332587479444}, \"se_hat\": {\"log_eval\": 0.014095746992745378}, \"context_stratum\": null}, \"20_0\": {\"name\": \"20_0\", \"parameters\": {\"lr\": 0.0014841675115592483, \"decay\": 0.00041652190590026186, \"epochs\": 3}, \"y\": {\"log_eval\": 3.6855800109935606}, \"y_hat\": {\"log_eval\": 3.6865378323588747}, \"se\": {\"log_eval\": 0.013729222131008707}, \"se_hat\": {\"log_eval\": 0.013238677406563279}, \"context_stratum\": null}, \"21_0\": {\"name\": \"21_0\", \"parameters\": {\"lr\": 0.00011512656911212999, \"decay\": 0.0014096383116111051, \"epochs\": 15}, \"y\": {\"log_eval\": 3.6581693321691544}, \"y_hat\": {\"log_eval\": 3.6610192129446926}, \"se\": {\"log_eval\": 0.013997324779328489}, \"se_hat\": {\"log_eval\": 0.013478098995920668}, \"context_stratum\": null}, \"22_0\": {\"name\": \"22_0\", \"parameters\": {\"lr\": 0.00019974886922630847, \"decay\": 0.0007873981650974259, \"epochs\": 10}, \"y\": {\"log_eval\": 3.684627012793348}, \"y_hat\": {\"log_eval\": 3.6854526387453324}, \"se\": {\"log_eval\": 0.013979450458607046}, \"se_hat\": {\"log_eval\": 0.01346167236267269}, \"context_stratum\": null}, \"23_0\": {\"name\": \"23_0\", \"parameters\": {\"lr\": 0.003125001755326415, \"decay\": 0.002214232914119949, \"epochs\": 12}, \"y\": {\"log_eval\": 3.7609092352184548}, \"y_hat\": {\"log_eval\": 3.7533360751167253}, \"se\": {\"log_eval\": 0.014213144014545473}, \"se_hat\": {\"log_eval\": 0.012480878295905586}, \"context_stratum\": null}, \"24_0\": {\"name\": \"24_0\", \"parameters\": {\"lr\": 0.006628480497069864, \"decay\": 0.0016183755027265353, \"epochs\": 11}, \"y\": {\"log_eval\": 3.6533227231721748}, \"y_hat\": {\"log_eval\": 3.6585295734843544}, \"se\": {\"log_eval\": 0.015128695054896762}, \"se_hat\": {\"log_eval\": 0.014015910406756026}, \"context_stratum\": null}, \"25_0\": {\"name\": \"25_0\", \"parameters\": {\"lr\": 0.004157984233597562, \"decay\": 0.0037367267717074706, \"epochs\": 9}, \"y\": {\"log_eval\": 3.7380021459939643}, \"y_hat\": {\"log_eval\": 3.7366322452105676}, \"se\": {\"log_eval\": 0.014504551146615285}, \"se_hat\": {\"log_eval\": 0.013749023247335177}, \"context_stratum\": null}, \"26_0\": {\"name\": \"26_0\", \"parameters\": {\"lr\": 0.003984743419781169, \"decay\": 0.0012914146741416816, \"epochs\": 13}, \"y\": {\"log_eval\": 3.733347238741463}, \"y_hat\": {\"log_eval\": 3.7356113178962103}, \"se\": {\"log_eval\": 0.014264735317497002}, \"se_hat\": {\"log_eval\": 0.012813692406234834}, \"context_stratum\": null}, \"27_0\": {\"name\": \"27_0\", \"parameters\": {\"lr\": 0.0044755527574204075, \"decay\": 0.0008770153419057366, \"epochs\": 8}, \"y\": {\"log_eval\": 3.7264986324022074}, \"y_hat\": {\"log_eval\": 3.7264144785823974}, \"se\": {\"log_eval\": 0.014864291049449387}, \"se_hat\": {\"log_eval\": 0.012562192030044762}, \"context_stratum\": null}, \"28_0\": {\"name\": \"28_0\", \"parameters\": {\"lr\": 0.0032933923143772794, \"decay\": 0.0008111133357022278, \"epochs\": 10}, \"y\": {\"log_eval\": 3.7384567502927153}, \"y_hat\": {\"log_eval\": 3.735505943501993}, \"se\": {\"log_eval\": 0.014787002850622144}, \"se_hat\": {\"log_eval\": 0.013741704745970139}, \"context_stratum\": null}, \"29_0\": {\"name\": \"29_0\", \"parameters\": {\"lr\": 0.004072644764672069, \"decay\": 0.002303923665865714, \"epochs\": 11}, \"y\": {\"log_eval\": 3.674461006874313}, \"y_hat\": {\"log_eval\": 3.6818233793582564}, \"se\": {\"log_eval\": 0.01422720213073201}, \"se_hat\": {\"log_eval\": 0.013396689888844116}, \"context_stratum\": null}, \"30_0\": {\"name\": \"30_0\", \"parameters\": {\"lr\": 0.005617095681160452, \"decay\": 0.001755380644007118, \"epochs\": 10}, \"y\": {\"log_eval\": 3.7109245463650287}, \"y_hat\": {\"log_eval\": 3.7040418342189487}, \"se\": {\"log_eval\": 0.01473694664096031}, \"se_hat\": {\"log_eval\": 0.01350830362641773}, \"context_stratum\": null}, \"31_0\": {\"name\": \"31_0\", \"parameters\": {\"lr\": 0.004289613569715087, \"decay\": 0.0008474777542033326, \"epochs\": 10}, \"y\": {\"log_eval\": 3.711955698556763}, \"y_hat\": {\"log_eval\": 3.717579816158988}, \"se\": {\"log_eval\": 0.014083734764292598}, \"se_hat\": {\"log_eval\": 0.012084579122394197}, \"context_stratum\": null}, \"32_0\": {\"name\": \"32_0\", \"parameters\": {\"lr\": 0.002904618553551574, \"decay\": 0.0012288470288522085, \"epochs\": 10}, \"y\": {\"log_eval\": 3.780389147290634}, \"y_hat\": {\"log_eval\": 3.7663707532891655}, \"se\": {\"log_eval\": 0.01403801588972026}, \"se_hat\": {\"log_eval\": 0.012043114284368247}, \"context_stratum\": null}, \"33_0\": {\"name\": \"33_0\", \"parameters\": {\"lr\": 0.0037889689157116543, \"decay\": 0.0012146824301619034, \"epochs\": 9}, \"y\": {\"log_eval\": 3.7206715524645038}, \"y_hat\": {\"log_eval\": 3.740218715667928}, \"se\": {\"log_eval\": 0.01520847912775745}, \"se_hat\": {\"log_eval\": 0.011601950309348758}, \"context_stratum\": null}, \"34_0\": {\"name\": \"34_0\", \"parameters\": {\"lr\": 0.002438642927999432, \"decay\": 0.0025012259718864807, \"epochs\": 13}, \"y\": {\"log_eval\": 3.7753964281598127}, \"y_hat\": {\"log_eval\": 3.772410267049561}, \"se\": {\"log_eval\": 0.01378966104735636}, \"se_hat\": {\"log_eval\": 0.011381358238325735}, \"context_stratum\": null}, \"35_0\": {\"name\": \"35_0\", \"parameters\": {\"lr\": 0.0012440216784983, \"decay\": 0.0021844963220914236, \"epochs\": 12}, \"y\": {\"log_eval\": 3.7413698075164628}, \"y_hat\": {\"log_eval\": 3.7387190545050606}, \"se\": {\"log_eval\": 0.014083385187818898}, \"se_hat\": {\"log_eval\": 0.01350470829525208}, \"context_stratum\": null}, \"36_0\": {\"name\": \"36_0\", \"parameters\": {\"lr\": 0.006013150355723934, \"decay\": 0.0028060288008963583, \"epochs\": 13}, \"y\": {\"log_eval\": 3.6150758151607834}, \"y_hat\": {\"log_eval\": 3.618914966517588}, \"se\": {\"log_eval\": 0.015453840004871315}, \"se_hat\": {\"log_eval\": 0.0140643514660533}, \"context_stratum\": null}, \"37_0\": {\"name\": \"37_0\", \"parameters\": {\"lr\": 0.002683255708419544, \"decay\": 0.001773505945887894, \"epochs\": 11}, \"y\": {\"log_eval\": 3.7520486847518906}, \"y_hat\": {\"log_eval\": 3.7499578074845097}, \"se\": {\"log_eval\": 0.01399213810252053}, \"se_hat\": {\"log_eval\": 0.012124203810283184}, \"context_stratum\": null}, \"38_0\": {\"name\": \"38_0\", \"parameters\": {\"lr\": 0.002245383380378057, \"decay\": 0.0017013206868280336, \"epochs\": 12}, \"y\": {\"log_eval\": 3.755761428899229}, \"y_hat\": {\"log_eval\": 3.754340989915688}, \"se\": {\"log_eval\": 0.014218662641979468}, \"se_hat\": {\"log_eval\": 0.013118753742769803}, \"context_stratum\": null}, \"39_0\": {\"name\": \"39_0\", \"parameters\": {\"lr\": 0.002593592510211966, \"decay\": 0.0035303285210389617, \"epochs\": 14}, \"y\": {\"log_eval\": 3.7421739782912526}, \"y_hat\": {\"log_eval\": 3.7406194259320174}, \"se\": {\"log_eval\": 0.014377097617243583}, \"se_hat\": {\"log_eval\": 0.013461784144573309}, \"context_stratum\": null}, \"40_0\": {\"name\": \"40_0\", \"parameters\": {\"lr\": 0.0034429988535537165, \"decay\": 0.0012532430884026151, \"epochs\": 10}, \"y\": {\"log_eval\": 3.7417956537138988}, \"y_hat\": {\"log_eval\": 3.7371519130691517}, \"se\": {\"log_eval\": 0.014258964679359816}, \"se_hat\": {\"log_eval\": 0.011436052084491817}, \"context_stratum\": null}, \"41_0\": {\"name\": \"41_0\", \"parameters\": {\"lr\": 0.004597064302145103, \"decay\": 0.00129254493547221, \"epochs\": 8}, \"y\": {\"log_eval\": 3.757479496258855}, \"y_hat\": {\"log_eval\": 3.766387300339841}, \"se\": {\"log_eval\": 0.014053111515588359}, \"se_hat\": {\"log_eval\": 0.011891977703225547}, \"context_stratum\": null}, \"42_0\": {\"name\": \"42_0\", \"parameters\": {\"lr\": 0.0026063679668893846, \"decay\": 0.002122253915865578, \"epochs\": 16}, \"y\": {\"log_eval\": 3.757916169016624}, \"y_hat\": {\"log_eval\": 3.7559253500727543}, \"se\": {\"log_eval\": 0.014730960126280057}, \"se_hat\": {\"log_eval\": 0.013404242400849345}, \"context_stratum\": null}, \"43_0\": {\"name\": \"43_0\", \"parameters\": {\"lr\": 0.002160904220770353, \"decay\": 0.0025059118846846645, \"epochs\": 15}, \"y\": {\"log_eval\": 3.75143525026534}, \"y_hat\": {\"log_eval\": 3.751934603531285}, \"se\": {\"log_eval\": 0.013662134405389298}, \"se_hat\": {\"log_eval\": 0.012494355118503489}, \"context_stratum\": null}, \"44_0\": {\"name\": \"44_0\", \"parameters\": {\"lr\": 0.0027091769723221605, \"decay\": 0.001036927347367017, \"epochs\": 7}, \"y\": {\"log_eval\": 3.719411377631989}, \"y_hat\": {\"log_eval\": 3.7253706920599945}, \"se\": {\"log_eval\": 0.01496588906662695}, \"se_hat\": {\"log_eval\": 0.013797301768863656}, \"context_stratum\": null}, \"45_0\": {\"name\": \"45_0\", \"parameters\": {\"lr\": 0.0007273873451560561, \"decay\": 0.007323840961065265, \"epochs\": 17}, \"y\": {\"log_eval\": 3.754299748803738}, \"y_hat\": {\"log_eval\": 3.7528722868349003}, \"se\": {\"log_eval\": 0.013609352138377937}, \"se_hat\": {\"log_eval\": 0.012921948528290697}, \"context_stratum\": null}, \"46_0\": {\"name\": \"46_0\", \"parameters\": {\"lr\": 0.0030079183198763126, \"decay\": 0.0014661394936190625, \"epochs\": 12}, \"y\": {\"log_eval\": 3.721725149736247}, \"y_hat\": {\"log_eval\": 3.7328738156917654}, \"se\": {\"log_eval\": 0.015507392797992183}, \"se_hat\": {\"log_eval\": 0.013119477714442775}, \"context_stratum\": null}, \"47_0\": {\"name\": \"47_0\", \"parameters\": {\"lr\": 0.0027302036324266493, \"decay\": 0.002615729671691876, \"epochs\": 10}, \"y\": {\"log_eval\": 3.806544404335847}, \"y_hat\": {\"log_eval\": 3.78580567872205}, \"se\": {\"log_eval\": 0.013373452148722405}, \"se_hat\": {\"log_eval\": 0.009072998289589159}, \"context_stratum\": null}, \"48_0\": {\"name\": \"48_0\", \"parameters\": {\"lr\": 0.0025249974010564885, \"decay\": 0.0025410187000322456, \"epochs\": 8}, \"y\": {\"log_eval\": 3.7647383412281084}, \"y_hat\": {\"log_eval\": 3.7680305507197405}, \"se\": {\"log_eval\": 0.013665101877774801}, \"se_hat\": {\"log_eval\": 0.01184385283999218}, \"context_stratum\": null}, \"49_0\": {\"name\": \"49_0\", \"parameters\": {\"lr\": 0.002818156640431079, \"decay\": 0.002693597623753263, \"epochs\": 12}, \"y\": {\"log_eval\": 3.7557171367622133}, \"y_hat\": {\"log_eval\": 3.7701429412693934}, \"se\": {\"log_eval\": 0.014307632338815848}, \"se_hat\": {\"log_eval\": 0.011196012058338374}, \"context_stratum\": null}, \"50_0\": {\"name\": \"50_0\", \"parameters\": {\"lr\": 0.0029062328771851335, \"decay\": 0.002520316199161385, \"epochs\": 8}, \"y\": {\"log_eval\": 3.793516557225751}, \"y_hat\": {\"log_eval\": 3.7794067529533057}, \"se\": {\"log_eval\": 0.013679930847354123}, \"se_hat\": {\"log_eval\": 0.010766423849543575}, \"context_stratum\": null}, \"51_0\": {\"name\": \"51_0\", \"parameters\": {\"lr\": 0.0028739319116947606, \"decay\": 0.0031450826461652663, \"epochs\": 8}, \"y\": {\"log_eval\": 3.758040877039798}, \"y_hat\": {\"log_eval\": 3.762294248054489}, \"se\": {\"log_eval\": 0.013870163942519297}, \"se_hat\": {\"log_eval\": 0.012508029273839176}, \"context_stratum\": null}, \"52_0\": {\"name\": \"52_0\", \"parameters\": {\"lr\": 0.002788867139708552, \"decay\": 0.002315431049546887, \"epochs\": 9}, \"y\": {\"log_eval\": 3.746788230975897}, \"y_hat\": {\"log_eval\": 3.7687571870493755}, \"se\": {\"log_eval\": 0.014539532660652015}, \"se_hat\": {\"log_eval\": 0.010305417219479942}, \"context_stratum\": null}}, \"out_of_sample\": {}, \"status_quo_name\": null};\n",
       "const arm_name_to_parameters = {\"zero\": {\"lr\": 0.0043, \"decay\": 0.0012, \"epochs\": 0}, \"control1\": {\"lr\": 0.0043, \"decay\": 0.0012, \"epochs\": 5}, \"control2\": {\"lr\": 0.0043, \"decay\": 0.0012, \"epochs\": 10}, \"3_0\": {\"lr\": 0.006719886554586096, \"decay\": 0.0025712614367976697, \"epochs\": 17}, \"4_0\": {\"lr\": 0.0012230710776559032, \"decay\": 0.0001245490767846484, \"epochs\": 14}, \"5_0\": {\"lr\": 0.00015703189811414284, \"decay\": 0.004250773039859609, \"epochs\": 6}, \"6_0\": {\"lr\": 0.00027734698125494284, \"decay\": 0.00024503393137916316, \"epochs\": 19}, \"7_0\": {\"lr\": 0.00215089431162011, \"decay\": 0.007181061645086981, \"epochs\": 2}, \"8_0\": {\"lr\": 0.003669268451658114, \"decay\": 0.0004685768597399909, \"epochs\": 8}, \"9_0\": {\"lr\": 0.0005083524213359429, \"decay\": 0.0011885017054668588, \"epochs\": 11}, \"10_0\": {\"lr\": 0.0003885480703922011, \"decay\": 0.00017572911480920575, \"epochs\": 7}, \"11_0\": {\"lr\": 0.004987883132707978, \"decay\": 0.003342016822981182, \"epochs\": 14}, \"12_0\": {\"lr\": 0.0029168282988909335, \"decay\": 0.0009197168866264231, \"epochs\": 16}, \"13_0\": {\"lr\": 0.00021152642014361876, \"decay\": 0.0020209888929120954, \"epochs\": 3}, \"14_0\": {\"lr\": 0.0001155375773105539, \"decay\": 0.0003570341502470353, \"epochs\": 11}, \"15_0\": {\"lr\": 0.0016000375420588211, \"decay\": 0.001624692156473758, \"epochs\": 9}, \"16_0\": {\"lr\": 0.008811602322531434, \"decay\": 0.000186652607756163, \"epochs\": 1}, \"17_0\": {\"lr\": 0.0006830909901579769, \"decay\": 0.009813793275866853, \"epochs\": 18}, \"18_0\": {\"lr\": 0.0006154371046006404, \"decay\": 0.00021817967393688832, \"epochs\": 15}, \"19_0\": {\"lr\": 0.008526969624032996, \"decay\": 0.008521992697599054, \"epochs\": 7}, \"20_0\": {\"lr\": 0.0014841675115592483, \"decay\": 0.00041652190590026186, \"epochs\": 3}, \"21_0\": {\"lr\": 0.00011512656911212999, \"decay\": 0.0014096383116111051, \"epochs\": 15}, \"22_0\": {\"lr\": 0.00019974886922630847, \"decay\": 0.0007873981650974259, \"epochs\": 10}, \"23_0\": {\"lr\": 0.003125001755326415, \"decay\": 0.002214232914119949, \"epochs\": 12}, \"24_0\": {\"lr\": 0.006628480497069864, \"decay\": 0.0016183755027265353, \"epochs\": 11}, \"25_0\": {\"lr\": 0.004157984233597562, \"decay\": 0.0037367267717074706, \"epochs\": 9}, \"26_0\": {\"lr\": 0.003984743419781169, \"decay\": 0.0012914146741416816, \"epochs\": 13}, \"27_0\": {\"lr\": 0.0044755527574204075, \"decay\": 0.0008770153419057366, \"epochs\": 8}, \"28_0\": {\"lr\": 0.0032933923143772794, \"decay\": 0.0008111133357022278, \"epochs\": 10}, \"29_0\": {\"lr\": 0.004072644764672069, \"decay\": 0.002303923665865714, \"epochs\": 11}, \"30_0\": {\"lr\": 0.005617095681160452, \"decay\": 0.001755380644007118, \"epochs\": 10}, \"31_0\": {\"lr\": 0.004289613569715087, \"decay\": 0.0008474777542033326, \"epochs\": 10}, \"32_0\": {\"lr\": 0.002904618553551574, \"decay\": 0.0012288470288522085, \"epochs\": 10}, \"33_0\": {\"lr\": 0.0037889689157116543, \"decay\": 0.0012146824301619034, \"epochs\": 9}, \"34_0\": {\"lr\": 0.002438642927999432, \"decay\": 0.0025012259718864807, \"epochs\": 13}, \"35_0\": {\"lr\": 0.0012440216784983, \"decay\": 0.0021844963220914236, \"epochs\": 12}, \"36_0\": {\"lr\": 0.006013150355723934, \"decay\": 0.0028060288008963583, \"epochs\": 13}, \"37_0\": {\"lr\": 0.002683255708419544, \"decay\": 0.001773505945887894, \"epochs\": 11}, \"38_0\": {\"lr\": 0.002245383380378057, \"decay\": 0.0017013206868280336, \"epochs\": 12}, \"39_0\": {\"lr\": 0.002593592510211966, \"decay\": 0.0035303285210389617, \"epochs\": 14}, \"40_0\": {\"lr\": 0.0034429988535537165, \"decay\": 0.0012532430884026151, \"epochs\": 10}, \"41_0\": {\"lr\": 0.004597064302145103, \"decay\": 0.00129254493547221, \"epochs\": 8}, \"42_0\": {\"lr\": 0.0026063679668893846, \"decay\": 0.002122253915865578, \"epochs\": 16}, \"43_0\": {\"lr\": 0.002160904220770353, \"decay\": 0.0025059118846846645, \"epochs\": 15}, \"44_0\": {\"lr\": 0.0027091769723221605, \"decay\": 0.001036927347367017, \"epochs\": 7}, \"45_0\": {\"lr\": 0.0007273873451560561, \"decay\": 0.007323840961065265, \"epochs\": 17}, \"46_0\": {\"lr\": 0.0030079183198763126, \"decay\": 0.0014661394936190625, \"epochs\": 12}, \"47_0\": {\"lr\": 0.0027302036324266493, \"decay\": 0.002615729671691876, \"epochs\": 10}, \"48_0\": {\"lr\": 0.0025249974010564885, \"decay\": 0.0025410187000322456, \"epochs\": 8}, \"49_0\": {\"lr\": 0.002818156640431079, \"decay\": 0.002693597623753263, \"epochs\": 12}, \"50_0\": {\"lr\": 0.0029062328771851335, \"decay\": 0.002520316199161385, \"epochs\": 8}, \"51_0\": {\"lr\": 0.0028739319116947606, \"decay\": 0.0031450826461652663, \"epochs\": 8}, \"52_0\": {\"lr\": 0.002788867139708552, \"decay\": 0.002315431049546887, \"epochs\": 9}};\n",
       "const f = [3.687377247289662, 3.6846048762785877, 3.682431535596936, 3.680740569988876, 3.678964183647225, 3.6766184496107392, 3.6738743840975876, 3.6718219685119466, 3.672023761433204, 3.6752215475328947, 3.6805356499172963, 3.686330658730543, 3.6914495480274905, 3.6955313575373525, 3.6986896413683095, 3.701125150990481, 3.7029096439460996, 3.7039889150852807, 3.7043618865140897, 3.7042634907052987, 3.7041722573041564, 3.7046839222140746, 3.706417678508943, 3.7099782397644114, 3.7158093647311223, 3.72369526182681, 3.7318371582708867, 3.7366358407125384, 3.7364902228232815, 3.73463201955989, 3.7345525202718317, 3.7381306736158115, 3.745582495732224, 3.754604712875251, 3.760787462899196, 3.7615105933909225, 3.7586492529304967, 3.7447288331340127, 3.7163930785511017, 3.689771354337097, 3.6805029721705265, 3.684592964374183, 3.6849521848342457, 3.6717710309210703, 3.6500993888845064, 3.634806649950346, 3.63432711150493, 3.6452642386863925, 3.660038777565242, 3.673355795296894];\n",
       "const fit_data = [{\"metric_name\": \"log_eval\", \"arm_name\": \"zero\", \"mean\": 3.6364354875574563, \"sem\": 0.012499465460930299}, {\"metric_name\": \"log_eval\", \"arm_name\": \"control1\", \"mean\": 3.7673388703466384, \"sem\": 0.014437295783778344}, {\"metric_name\": \"log_eval\", \"arm_name\": \"control2\", \"mean\": 3.7939481165991658, \"sem\": 0.013743965355831913}, {\"metric_name\": \"log_eval\", \"arm_name\": \"3_0\", \"mean\": 3.527757963786043, \"sem\": 0.014116282037991347}, {\"metric_name\": \"log_eval\", \"arm_name\": \"4_0\", \"mean\": 3.722176023563392, \"sem\": 0.013597994240945219}, {\"metric_name\": \"log_eval\", \"arm_name\": \"5_0\", \"mean\": 3.6558885974799313, \"sem\": 0.013725262026368666}, {\"metric_name\": \"log_eval\", \"arm_name\": \"6_0\", \"mean\": 3.719795690263471, \"sem\": 0.01372692960075821}, {\"metric_name\": \"log_eval\", \"arm_name\": \"7_0\", \"mean\": 3.671565328964881, \"sem\": 0.01338050680982233}, {\"metric_name\": \"log_eval\", \"arm_name\": \"8_0\", \"mean\": 3.7542075598642723, \"sem\": 0.014385970424389254}, {\"metric_name\": \"log_eval\", \"arm_name\": \"9_0\", \"mean\": 3.726350753855546, \"sem\": 0.013545580006328673}, {\"metric_name\": \"log_eval\", \"arm_name\": \"10_0\", \"mean\": 3.7153679485655404, \"sem\": 0.01367508917825613}, {\"metric_name\": \"log_eval\", \"arm_name\": \"11_0\", \"mean\": 3.739543115591369, \"sem\": 0.013307203954322175}, {\"metric_name\": \"log_eval\", \"arm_name\": \"12_0\", \"mean\": 3.7186711581894665, \"sem\": 0.014621965136108576}, {\"metric_name\": \"log_eval\", \"arm_name\": \"13_0\", \"mean\": 3.637905015076654, \"sem\": 0.013740333364859962}, {\"metric_name\": \"log_eval\", \"arm_name\": \"14_0\", \"mean\": 3.6822407278316125, \"sem\": 0.014285217675939405}, {\"metric_name\": \"log_eval\", \"arm_name\": \"15_0\", \"mean\": 3.7320861684920095, \"sem\": 0.013587405327005645}, {\"metric_name\": \"log_eval\", \"arm_name\": \"16_0\", \"mean\": 3.623308265882121, \"sem\": 0.013759945135539384}, {\"metric_name\": \"log_eval\", \"arm_name\": \"17_0\", \"mean\": 3.7734218690082773, \"sem\": 0.01308537161098173}, {\"metric_name\": \"log_eval\", \"arm_name\": \"18_0\", \"mean\": 3.7161815713771076, \"sem\": 0.013834489994739026}, {\"metric_name\": \"log_eval\", \"arm_name\": \"19_0\", \"mean\": 3.7285276912274417, \"sem\": 0.014692332587479444}, {\"metric_name\": \"log_eval\", \"arm_name\": \"20_0\", \"mean\": 3.6855800109935606, \"sem\": 0.013729222131008707}, {\"metric_name\": \"log_eval\", \"arm_name\": \"21_0\", \"mean\": 3.6581693321691544, \"sem\": 0.013997324779328489}, {\"metric_name\": \"log_eval\", \"arm_name\": \"22_0\", \"mean\": 3.684627012793348, \"sem\": 0.013979450458607046}, {\"metric_name\": \"log_eval\", \"arm_name\": \"23_0\", \"mean\": 3.7609092352184548, \"sem\": 0.014213144014545473}, {\"metric_name\": \"log_eval\", \"arm_name\": \"24_0\", \"mean\": 3.6533227231721748, \"sem\": 0.015128695054896762}, {\"metric_name\": \"log_eval\", \"arm_name\": \"25_0\", \"mean\": 3.7380021459939643, \"sem\": 0.014504551146615285}, {\"metric_name\": \"log_eval\", \"arm_name\": \"26_0\", \"mean\": 3.733347238741463, \"sem\": 0.014264735317497002}, {\"metric_name\": \"log_eval\", \"arm_name\": \"27_0\", \"mean\": 3.7264986324022074, \"sem\": 0.014864291049449387}, {\"metric_name\": \"log_eval\", \"arm_name\": \"28_0\", \"mean\": 3.7384567502927153, \"sem\": 0.014787002850622144}, {\"metric_name\": \"log_eval\", \"arm_name\": \"29_0\", \"mean\": 3.674461006874313, \"sem\": 0.01422720213073201}, {\"metric_name\": \"log_eval\", \"arm_name\": \"30_0\", \"mean\": 3.7109245463650287, \"sem\": 0.01473694664096031}, {\"metric_name\": \"log_eval\", \"arm_name\": \"31_0\", \"mean\": 3.711955698556763, \"sem\": 0.014083734764292598}, {\"metric_name\": \"log_eval\", \"arm_name\": \"32_0\", \"mean\": 3.780389147290634, \"sem\": 0.01403801588972026}, {\"metric_name\": \"log_eval\", \"arm_name\": \"33_0\", \"mean\": 3.7206715524645038, \"sem\": 0.01520847912775745}, {\"metric_name\": \"log_eval\", \"arm_name\": \"34_0\", \"mean\": 3.7753964281598127, \"sem\": 0.01378966104735636}, {\"metric_name\": \"log_eval\", \"arm_name\": \"35_0\", \"mean\": 3.7413698075164628, \"sem\": 0.014083385187818898}, {\"metric_name\": \"log_eval\", \"arm_name\": \"36_0\", \"mean\": 3.6150758151607834, \"sem\": 0.015453840004871315}, {\"metric_name\": \"log_eval\", \"arm_name\": \"37_0\", \"mean\": 3.7520486847518906, \"sem\": 0.01399213810252053}, {\"metric_name\": \"log_eval\", \"arm_name\": \"38_0\", \"mean\": 3.755761428899229, \"sem\": 0.014218662641979468}, {\"metric_name\": \"log_eval\", \"arm_name\": \"39_0\", \"mean\": 3.7421739782912526, \"sem\": 0.014377097617243583}, {\"metric_name\": \"log_eval\", \"arm_name\": \"40_0\", \"mean\": 3.7417956537138988, \"sem\": 0.014258964679359816}, {\"metric_name\": \"log_eval\", \"arm_name\": \"41_0\", \"mean\": 3.757479496258855, \"sem\": 0.014053111515588359}, {\"metric_name\": \"log_eval\", \"arm_name\": \"42_0\", \"mean\": 3.757916169016624, \"sem\": 0.014730960126280057}, {\"metric_name\": \"log_eval\", \"arm_name\": \"43_0\", \"mean\": 3.75143525026534, \"sem\": 0.013662134405389298}, {\"metric_name\": \"log_eval\", \"arm_name\": \"44_0\", \"mean\": 3.719411377631989, \"sem\": 0.01496588906662695}, {\"metric_name\": \"log_eval\", \"arm_name\": \"45_0\", \"mean\": 3.754299748803738, \"sem\": 0.013609352138377937}, {\"metric_name\": \"log_eval\", \"arm_name\": \"46_0\", \"mean\": 3.721725149736247, \"sem\": 0.015507392797992183}, {\"metric_name\": \"log_eval\", \"arm_name\": \"47_0\", \"mean\": 3.806544404335847, \"sem\": 0.013373452148722405}, {\"metric_name\": \"log_eval\", \"arm_name\": \"48_0\", \"mean\": 3.7647383412281084, \"sem\": 0.013665101877774801}, {\"metric_name\": \"log_eval\", \"arm_name\": \"49_0\", \"mean\": 3.7557171367622133, \"sem\": 0.014307632338815848}, {\"metric_name\": \"log_eval\", \"arm_name\": \"50_0\", \"mean\": 3.793516557225751, \"sem\": 0.013679930847354123}, {\"metric_name\": \"log_eval\", \"arm_name\": \"51_0\", \"mean\": 3.758040877039798, \"sem\": 0.013870163942519297}, {\"metric_name\": \"log_eval\", \"arm_name\": \"52_0\", \"mean\": 3.746788230975897, \"sem\": 0.014539532660652015}];\n",
       "const grid = [0.0001, 0.00010985411419875583, 0.00012067926406393288, 0.00013257113655901095, 0.00014563484775012445, 0.00015998587196060574, 0.00017575106248547912, 0.00019306977288832496, 0.00021209508879201905, 0.00023299518105153718, 0.0002559547922699536, 0.0002811768697974231, 0.00030888435964774815, 0.000339322177189533, 0.0003727593720314938, 0.0004094915062380423, 0.0004498432668969444, 0.0004941713361323833, 0.0005428675439323859, 0.0005963623316594642, 0.0006551285568595509, 0.0007196856730011522, 0.0007906043210907702, 0.000868511373751352, 0.0009540954763499944, 0.0010481131341546852, 0.0011513953993264468, 0.0012648552168552957, 0.0013894954943731374, 0.0015264179671752333, 0.0016768329368110067, 0.0018420699693267163, 0.0020235896477251557, 0.0022229964825261957, 0.0024420530945486497, 0.0026826957952797246, 0.0029470517025518097, 0.0032374575428176433, 0.0035564803062231283, 0.003906939937054613, 0.004291934260128779, 0.00471486636345739, 0.005179474679231213, 0.005689866029018293, 0.0062505519252739694, 0.006866488450042998, 0.007543120063354615, 0.008286427728546842, 0.009102981779915217, 0.01];\n",
       "const metric = \"log_eval\";\n",
       "const param = \"lr\";\n",
       "const rel = false;\n",
       "const setx = {\"lr\": 0.0029757114402977477, \"decay\": 0.0021632499280336364, \"epochs\": 10};\n",
       "const sd = [0.048491848367906945, 0.047990342479047474, 0.04787343928936812, 0.04809788819410687, 0.04827299945878719, 0.048003913897651025, 0.0471455793698268, 0.04603961490844042, 0.04556835557267811, 0.046283434647827006, 0.047628901871809314, 0.0487723558881159, 0.04941987922475988, 0.0496589018834856, 0.04962926677374177, 0.04942680130959748, 0.0491584734812897, 0.04898452261778737, 0.04903010750920221, 0.0492569238286761, 0.04949709527025456, 0.049572513111898885, 0.049268750714547546, 0.04811993361227588, 0.045114793072434024, 0.03871665664735038, 0.02874996221150887, 0.02324803438986057, 0.02904533374368037, 0.034503799478531154, 0.03683279151841444, 0.03658327011807564, 0.03278537841371035, 0.026304518190536988, 0.019696484544984856, 0.014536513457443445, 0.014194606236253965, 0.019480942469147246, 0.023582974337184346, 0.020071641340871423, 0.021429851055624977, 0.02839230696641361, 0.029375441997545562, 0.02814032069529955, 0.030820865984855797, 0.03564500882180988, 0.040795484812855935, 0.045078014307039206, 0.04776244038582168, 0.049102631596377025];\n",
       "const is_log = true;\n",
       "\n",
       "// format data\n",
       "const res = relativize_data(f, sd, rel, arm_data, metric);\n",
       "const f_final = res[0];\n",
       "const sd_final = res[1];\n",
       "\n",
       "// get data for standard deviation fill plot\n",
       "const sd_upper = [];\n",
       "const sd_lower = [];\n",
       "for (let i = 0; i < sd.length; i++) {\n",
       "  sd_upper.push(f_final[i] + 2 * sd_final[i]);\n",
       "  sd_lower.push(f_final[i] - 2 * sd_final[i]);\n",
       "}\n",
       "const grid_rev = copy_and_reverse(grid);\n",
       "const sd_lower_rev = copy_and_reverse(sd_lower);\n",
       "const sd_x = grid.concat(grid_rev);\n",
       "const sd_y = sd_upper.concat(sd_lower_rev);\n",
       "\n",
       "// get data for observed arms and error bars\n",
       "const arm_x = [];\n",
       "const arm_y = [];\n",
       "const arm_sem = [];\n",
       "fit_data.forEach(row => {\n",
       "    parameters = arm_name_to_parameters[row[\"arm_name\"]];\n",
       "    plot = true;\n",
       "    Object.keys(setx).forEach(p => {\n",
       "      if (p !== param && parameters[p] !== setx[p]) {\n",
       "        plot = false;\n",
       "      }\n",
       "    });\n",
       "    if (plot === true) {\n",
       "        arm_x.push(parameters[param]);\n",
       "        arm_y.push(row[\"mean\"]);\n",
       "        arm_sem.push(row[\"sem\"]);\n",
       "    }\n",
       "});\n",
       "\n",
       "const arm_res = relativize_data(\n",
       "  arm_y, arm_sem, rel, arm_data, metric\n",
       ");\n",
       "const arm_y_final = arm_res[0];\n",
       "const arm_sem_final = arm_res[1].map(x => x * 2);\n",
       "\n",
       "// create traces\n",
       "const f_trace = {\n",
       "  x: grid,\n",
       "  y: f_final,\n",
       "  showlegend: false,\n",
       "  hoverinfo: 'x+y',\n",
       "  line: {\n",
       "    color: 'rgba(128, 177, 211, 1)',\n",
       "  },\n",
       "};\n",
       "\n",
       "const arms_trace = {\n",
       "  x: arm_x,\n",
       "  y: arm_y_final,\n",
       "  mode: 'markers',\n",
       "  error_y: {\n",
       "    type: 'data',\n",
       "    array: arm_sem_final,\n",
       "    visible: true,\n",
       "    color: 'black',\n",
       "  },\n",
       "  line: {\n",
       "    color: 'black',\n",
       "  },\n",
       "  showlegend: false,\n",
       "  hoverinfo: 'x+y',\n",
       "};\n",
       "\n",
       "const sd_trace = {\n",
       "    x: sd_x,\n",
       "    y: sd_y,\n",
       "    fill: 'toself',\n",
       "    fillcolor: 'rgba(128, 177, 211, 0.2)',\n",
       "    line: {\n",
       "      color: 'transparent',\n",
       "    },\n",
       "    showlegend: false,\n",
       "    hoverinfo: 'none',\n",
       "};\n",
       "\n",
       "traces = [\n",
       "  sd_trace,\n",
       "  f_trace,\n",
       "  arms_trace,\n",
       "];\n",
       "\n",
       "// iterate over out-of-sample arms\n",
       "let i = 1;\n",
       "Object.keys(arm_data['out_of_sample']).forEach(generator_run_name => {\n",
       "  const ax = [];\n",
       "  const ay = [];\n",
       "  const asem = [];\n",
       "  const atext = [];\n",
       "\n",
       "  Object.keys(arm_data['out_of_sample'][generator_run_name]).forEach(arm_name => {\n",
       "    const parameters = arm_data[\n",
       "      'out_of_sample'][generator_run_name][arm_name]['parameters'];\n",
       "    plot = true;\n",
       "    Object.keys(setx).forEach(p => {\n",
       "      if (p !== param && parameters[p] !== setx[p]) {\n",
       "        plot = false;\n",
       "      }\n",
       "    });\n",
       "    if (plot === true) {\n",
       "      ax.push(parameters[param]);\n",
       "      ay.push(\n",
       "        arm_data['out_of_sample'][generator_run_name][arm_name]['y_hat'][metric]\n",
       "      );\n",
       "      asem.push(\n",
       "        arm_data['out_of_sample'][generator_run_name][arm_name]['se_hat'][metric]\n",
       "      );\n",
       "      atext.push('<em>Candidate ' + arm_name + '</em>');\n",
       "    }\n",
       "  });\n",
       "\n",
       "  const out_of_sample_arm_res = relativize_data(\n",
       "    ay, asem, rel, arm_data, metric\n",
       "  );\n",
       "  const ay_final = out_of_sample_arm_res[0];\n",
       "  const asem_final = out_of_sample_arm_res[1].map(x => x * 2);\n",
       "\n",
       "  traces.push({\n",
       "    hoverinfo: 'text',\n",
       "    legendgroup: generator_run_name,\n",
       "    marker: {color: 'black', symbol: i, opacity: 0.5},\n",
       "    mode: 'markers',\n",
       "    error_y: {\n",
       "      type: 'data',\n",
       "      array: asem_final,\n",
       "      visible: true,\n",
       "      color: 'black',\n",
       "    },\n",
       "    name: generator_run_name,\n",
       "    text: atext,\n",
       "    type: 'scatter',\n",
       "    xaxis: 'x',\n",
       "    x: ax,\n",
       "    yaxis: 'y',\n",
       "    y: ay_final,\n",
       "  });\n",
       "\n",
       "  i += 1;\n",
       "});\n",
       "\n",
       "// layout\n",
       "const xrange = axis_range(grid, is_log);\n",
       "const xtype = is_log ? 'log' : 'linear';\n",
       "\n",
       "layout = {\n",
       "  hovermode: 'closest',\n",
       "  xaxis: {\n",
       "    anchor: 'y',\n",
       "    autorange: false,\n",
       "    exponentformat: 'e',\n",
       "    range: xrange,\n",
       "    tickfont: {size: 11},\n",
       "    tickmode: 'auto',\n",
       "    title: param,\n",
       "    type: xtype,\n",
       "  },\n",
       "  yaxis: {\n",
       "    anchor: 'x',\n",
       "    tickfont: {size: 11},\n",
       "    tickmode: 'auto',\n",
       "    title: metric,\n",
       "  },\n",
       "};\n",
       "\n",
       "Plotly.newPlot(\n",
       "    \"c438dcbe4e9249b6918f76743d0a1afd\",\n",
       "    traces,\n",
       "    layout,\n",
       "    {showLink: false},\n",
       ");\n",
       "});</script>"
      ]
     },
     "metadata": {},
     "output_type": "display_data"
    }
   ],
   "source": [
    "render(plot_slice(model=gpei, param_name='lr', metric_name='log_eval'))"
   ]
  },
  {
   "cell_type": "code",
   "execution_count": 26,
   "metadata": {
    "pycharm": {
     "name": "#%%\n"
    },
    "scrolled": false
   },
   "outputs": [
    {
     "data": {
      "text/html": [
       "<div id=\"fe822ac78a7d4c4485a8868f4ba76221\" style=\"width: 100%;\" class=\"plotly-graph-div\"></div><script type='text/javascript'>/*\n",
       " * Copyright (c) Facebook, Inc. and its affiliates. All Rights Reserved.\n",
       " */\n",
       "\n",
       "require(['plotly'], function(Plotly) {\n",
       "  window.PLOTLYENV = window.PLOTLYENV || {};\n",
       "  window.PLOTLYENV.BASE_URL = 'https://plot.ly';\n",
       "  /*\n",
       " * Copyright (c) Facebook, Inc. and its affiliates. All Rights Reserved.\n",
       " */\n",
       "\n",
       "const arm_data = {\"metrics\": [\"log_eval\"], \"in_sample\": {\"zero\": {\"name\": \"zero\", \"parameters\": {\"lr\": 0.0043, \"decay\": 0.0012, \"epochs\": 0}, \"y\": {\"log_eval\": 3.6364354875574563}, \"y_hat\": {\"log_eval\": 3.6454888422885654}, \"se\": {\"log_eval\": 0.012499465460930299}, \"se_hat\": {\"log_eval\": 0.011905499799537745}, \"context_stratum\": null}, \"control1\": {\"name\": \"control1\", \"parameters\": {\"lr\": 0.0043, \"decay\": 0.0012, \"epochs\": 5}, \"y\": {\"log_eval\": 3.7673388703466384}, \"y_hat\": {\"log_eval\": 3.7513508220970078}, \"se\": {\"log_eval\": 0.014437295783778344}, \"se_hat\": {\"log_eval\": 0.012454597622696168}, \"context_stratum\": null}, \"control2\": {\"name\": \"control2\", \"parameters\": {\"lr\": 0.0043, \"decay\": 0.0012, \"epochs\": 10}, \"y\": {\"log_eval\": 3.7939481165991658}, \"y_hat\": {\"log_eval\": 3.7745678923158015}, \"se\": {\"log_eval\": 0.013743965355831913}, \"se_hat\": {\"log_eval\": 0.010943736129409411}, \"context_stratum\": null}, \"3_0\": {\"name\": \"3_0\", \"parameters\": {\"lr\": 0.006719886554586096, \"decay\": 0.0025712614367976697, \"epochs\": 17}, \"y\": {\"log_eval\": 3.527757963786043}, \"y_hat\": {\"log_eval\": 3.54057360863952}, \"se\": {\"log_eval\": 0.014116282037991347}, \"se_hat\": {\"log_eval\": 0.013313980828044898}, \"context_stratum\": null}, \"4_0\": {\"name\": \"4_0\", \"parameters\": {\"lr\": 0.0012230710776559032, \"decay\": 0.0001245490767846484, \"epochs\": 14}, \"y\": {\"log_eval\": 3.722176023563392}, \"y_hat\": {\"log_eval\": 3.7205795125221695}, \"se\": {\"log_eval\": 0.013597994240945219}, \"se_hat\": {\"log_eval\": 0.013120831363704032}, \"context_stratum\": null}, \"5_0\": {\"name\": \"5_0\", \"parameters\": {\"lr\": 0.00015703189811414284, \"decay\": 0.004250773039859609, \"epochs\": 6}, \"y\": {\"log_eval\": 3.6558885974799313}, \"y_hat\": {\"log_eval\": 3.6586443177849937}, \"se\": {\"log_eval\": 0.013725262026368666}, \"se_hat\": {\"log_eval\": 0.013233514730824101}, \"context_stratum\": null}, \"6_0\": {\"name\": \"6_0\", \"parameters\": {\"lr\": 0.00027734698125494284, \"decay\": 0.00024503393137916316, \"epochs\": 19}, \"y\": {\"log_eval\": 3.719795690263471}, \"y_hat\": {\"log_eval\": 3.7183782337206077}, \"se\": {\"log_eval\": 0.01372692960075821}, \"se_hat\": {\"log_eval\": 0.013235450165383569}, \"context_stratum\": null}, \"7_0\": {\"name\": \"7_0\", \"parameters\": {\"lr\": 0.00215089431162011, \"decay\": 0.007181061645086981, \"epochs\": 2}, \"y\": {\"log_eval\": 3.671565328964881}, \"y_hat\": {\"log_eval\": 3.6734692312173984}, \"se\": {\"log_eval\": 0.01338050680982233}, \"se_hat\": {\"log_eval\": 0.012924419065381573}, \"context_stratum\": null}, \"8_0\": {\"name\": \"8_0\", \"parameters\": {\"lr\": 0.003669268451658114, \"decay\": 0.0004685768597399909, \"epochs\": 8}, \"y\": {\"log_eval\": 3.7542075598642723}, \"y_hat\": {\"log_eval\": 3.749825352617683}, \"se\": {\"log_eval\": 0.014385970424389254}, \"se_hat\": {\"log_eval\": 0.013791819005244283}, \"context_stratum\": null}, \"9_0\": {\"name\": \"9_0\", \"parameters\": {\"lr\": 0.0005083524213359429, \"decay\": 0.0011885017054668588, \"epochs\": 11}, \"y\": {\"log_eval\": 3.726350753855546}, \"y_hat\": {\"log_eval\": 3.724460217135266}, \"se\": {\"log_eval\": 0.013545580006328673}, \"se_hat\": {\"log_eval\": 0.013073842917800668}, \"context_stratum\": null}, \"10_0\": {\"name\": \"10_0\", \"parameters\": {\"lr\": 0.0003885480703922011, \"decay\": 0.00017572911480920575, \"epochs\": 7}, \"y\": {\"log_eval\": 3.7153679485655404}, \"y_hat\": {\"log_eval\": 3.7143578924161424}, \"se\": {\"log_eval\": 0.01367508917825613}, \"se_hat\": {\"log_eval\": 0.013186715365212098}, \"context_stratum\": null}, \"11_0\": {\"name\": \"11_0\", \"parameters\": {\"lr\": 0.004987883132707978, \"decay\": 0.003342016822981182, \"epochs\": 14}, \"y\": {\"log_eval\": 3.739543115591369}, \"y_hat\": {\"log_eval\": 3.732044852266896}, \"se\": {\"log_eval\": 0.013307203954322175}, \"se_hat\": {\"log_eval\": 0.012563933519352232}, \"context_stratum\": null}, \"12_0\": {\"name\": \"12_0\", \"parameters\": {\"lr\": 0.0029168282988909335, \"decay\": 0.0009197168866264231, \"epochs\": 16}, \"y\": {\"log_eval\": 3.7186711581894665}, \"y_hat\": {\"log_eval\": 3.7197404391362214}, \"se\": {\"log_eval\": 0.014621965136108576}, \"se_hat\": {\"log_eval\": 0.013861707201097929}, \"context_stratum\": null}, \"13_0\": {\"name\": \"13_0\", \"parameters\": {\"lr\": 0.00021152642014361876, \"decay\": 0.0020209888929120954, \"epochs\": 3}, \"y\": {\"log_eval\": 3.637905015076654}, \"y_hat\": {\"log_eval\": 3.641972958546305}, \"se\": {\"log_eval\": 0.013740333364859962}, \"se_hat\": {\"log_eval\": 0.013246579797678097}, \"context_stratum\": null}, \"14_0\": {\"name\": \"14_0\", \"parameters\": {\"lr\": 0.0001155375773105539, \"decay\": 0.0003570341502470353, \"epochs\": 11}, \"y\": {\"log_eval\": 3.6822407278316125}, \"y_hat\": {\"log_eval\": 3.6834692286452646}, \"se\": {\"log_eval\": 0.014285217675939405}, \"se_hat\": {\"log_eval\": 0.01373491661618334}, \"context_stratum\": null}, \"15_0\": {\"name\": \"15_0\", \"parameters\": {\"lr\": 0.0016000375420588211, \"decay\": 0.001624692156473758, \"epochs\": 9}, \"y\": {\"log_eval\": 3.7320861684920095}, \"y_hat\": {\"log_eval\": 3.731208483181495}, \"se\": {\"log_eval\": 0.013587405327005645}, \"se_hat\": {\"log_eval\": 0.013021925391680029}, \"context_stratum\": null}, \"16_0\": {\"name\": \"16_0\", \"parameters\": {\"lr\": 0.008811602322531434, \"decay\": 0.000186652607756163, \"epochs\": 1}, \"y\": {\"log_eval\": 3.623308265882121}, \"y_hat\": {\"log_eval\": 3.6286323106435}, \"se\": {\"log_eval\": 0.013759945135539384}, \"se_hat\": {\"log_eval\": 0.013266289208842477}, \"context_stratum\": null}, \"17_0\": {\"name\": \"17_0\", \"parameters\": {\"lr\": 0.0006830909901579769, \"decay\": 0.009813793275866853, \"epochs\": 18}, \"y\": {\"log_eval\": 3.7734218690082773}, \"y_hat\": {\"log_eval\": 3.7693586323221777}, \"se\": {\"log_eval\": 0.01308537161098173}, \"se_hat\": {\"log_eval\": 0.01247230247301693}, \"context_stratum\": null}, \"18_0\": {\"name\": \"18_0\", \"parameters\": {\"lr\": 0.0006154371046006404, \"decay\": 0.00021817967393688832, \"epochs\": 15}, \"y\": {\"log_eval\": 3.7161815713771076}, \"y_hat\": {\"log_eval\": 3.715061978778193}, \"se\": {\"log_eval\": 0.013834489994739026}, \"se_hat\": {\"log_eval\": 0.013330425929603809}, \"context_stratum\": null}, \"19_0\": {\"name\": \"19_0\", \"parameters\": {\"lr\": 0.008526969624032996, \"decay\": 0.008521992697599054, \"epochs\": 7}, \"y\": {\"log_eval\": 3.7285276912274417}, \"y_hat\": {\"log_eval\": 3.7261443021678438}, \"se\": {\"log_eval\": 0.014692332587479444}, \"se_hat\": {\"log_eval\": 0.014095746992745378}, \"context_stratum\": null}, \"20_0\": {\"name\": \"20_0\", \"parameters\": {\"lr\": 0.0014841675115592483, \"decay\": 0.00041652190590026186, \"epochs\": 3}, \"y\": {\"log_eval\": 3.6855800109935606}, \"y_hat\": {\"log_eval\": 3.6865378323588747}, \"se\": {\"log_eval\": 0.013729222131008707}, \"se_hat\": {\"log_eval\": 0.013238677406563279}, \"context_stratum\": null}, \"21_0\": {\"name\": \"21_0\", \"parameters\": {\"lr\": 0.00011512656911212999, \"decay\": 0.0014096383116111051, \"epochs\": 15}, \"y\": {\"log_eval\": 3.6581693321691544}, \"y_hat\": {\"log_eval\": 3.6610192129446926}, \"se\": {\"log_eval\": 0.013997324779328489}, \"se_hat\": {\"log_eval\": 0.013478098995920668}, \"context_stratum\": null}, \"22_0\": {\"name\": \"22_0\", \"parameters\": {\"lr\": 0.00019974886922630847, \"decay\": 0.0007873981650974259, \"epochs\": 10}, \"y\": {\"log_eval\": 3.684627012793348}, \"y_hat\": {\"log_eval\": 3.6854526387453324}, \"se\": {\"log_eval\": 0.013979450458607046}, \"se_hat\": {\"log_eval\": 0.01346167236267269}, \"context_stratum\": null}, \"23_0\": {\"name\": \"23_0\", \"parameters\": {\"lr\": 0.003125001755326415, \"decay\": 0.002214232914119949, \"epochs\": 12}, \"y\": {\"log_eval\": 3.7609092352184548}, \"y_hat\": {\"log_eval\": 3.7533360751167253}, \"se\": {\"log_eval\": 0.014213144014545473}, \"se_hat\": {\"log_eval\": 0.012480878295905586}, \"context_stratum\": null}, \"24_0\": {\"name\": \"24_0\", \"parameters\": {\"lr\": 0.006628480497069864, \"decay\": 0.0016183755027265353, \"epochs\": 11}, \"y\": {\"log_eval\": 3.6533227231721748}, \"y_hat\": {\"log_eval\": 3.6585295734843544}, \"se\": {\"log_eval\": 0.015128695054896762}, \"se_hat\": {\"log_eval\": 0.014015910406756026}, \"context_stratum\": null}, \"25_0\": {\"name\": \"25_0\", \"parameters\": {\"lr\": 0.004157984233597562, \"decay\": 0.0037367267717074706, \"epochs\": 9}, \"y\": {\"log_eval\": 3.7380021459939643}, \"y_hat\": {\"log_eval\": 3.7366322452105676}, \"se\": {\"log_eval\": 0.014504551146615285}, \"se_hat\": {\"log_eval\": 0.013749023247335177}, \"context_stratum\": null}, \"26_0\": {\"name\": \"26_0\", \"parameters\": {\"lr\": 0.003984743419781169, \"decay\": 0.0012914146741416816, \"epochs\": 13}, \"y\": {\"log_eval\": 3.733347238741463}, \"y_hat\": {\"log_eval\": 3.7356113178962103}, \"se\": {\"log_eval\": 0.014264735317497002}, \"se_hat\": {\"log_eval\": 0.012813692406234834}, \"context_stratum\": null}, \"27_0\": {\"name\": \"27_0\", \"parameters\": {\"lr\": 0.0044755527574204075, \"decay\": 0.0008770153419057366, \"epochs\": 8}, \"y\": {\"log_eval\": 3.7264986324022074}, \"y_hat\": {\"log_eval\": 3.7264144785823974}, \"se\": {\"log_eval\": 0.014864291049449387}, \"se_hat\": {\"log_eval\": 0.012562192030044762}, \"context_stratum\": null}, \"28_0\": {\"name\": \"28_0\", \"parameters\": {\"lr\": 0.0032933923143772794, \"decay\": 0.0008111133357022278, \"epochs\": 10}, \"y\": {\"log_eval\": 3.7384567502927153}, \"y_hat\": {\"log_eval\": 3.735505943501993}, \"se\": {\"log_eval\": 0.014787002850622144}, \"se_hat\": {\"log_eval\": 0.013741704745970139}, \"context_stratum\": null}, \"29_0\": {\"name\": \"29_0\", \"parameters\": {\"lr\": 0.004072644764672069, \"decay\": 0.002303923665865714, \"epochs\": 11}, \"y\": {\"log_eval\": 3.674461006874313}, \"y_hat\": {\"log_eval\": 3.6818233793582564}, \"se\": {\"log_eval\": 0.01422720213073201}, \"se_hat\": {\"log_eval\": 0.013396689888844116}, \"context_stratum\": null}, \"30_0\": {\"name\": \"30_0\", \"parameters\": {\"lr\": 0.005617095681160452, \"decay\": 0.001755380644007118, \"epochs\": 10}, \"y\": {\"log_eval\": 3.7109245463650287}, \"y_hat\": {\"log_eval\": 3.7040418342189487}, \"se\": {\"log_eval\": 0.01473694664096031}, \"se_hat\": {\"log_eval\": 0.01350830362641773}, \"context_stratum\": null}, \"31_0\": {\"name\": \"31_0\", \"parameters\": {\"lr\": 0.004289613569715087, \"decay\": 0.0008474777542033326, \"epochs\": 10}, \"y\": {\"log_eval\": 3.711955698556763}, \"y_hat\": {\"log_eval\": 3.717579816158988}, \"se\": {\"log_eval\": 0.014083734764292598}, \"se_hat\": {\"log_eval\": 0.012084579122394197}, \"context_stratum\": null}, \"32_0\": {\"name\": \"32_0\", \"parameters\": {\"lr\": 0.002904618553551574, \"decay\": 0.0012288470288522085, \"epochs\": 10}, \"y\": {\"log_eval\": 3.780389147290634}, \"y_hat\": {\"log_eval\": 3.7663707532891655}, \"se\": {\"log_eval\": 0.01403801588972026}, \"se_hat\": {\"log_eval\": 0.012043114284368247}, \"context_stratum\": null}, \"33_0\": {\"name\": \"33_0\", \"parameters\": {\"lr\": 0.0037889689157116543, \"decay\": 0.0012146824301619034, \"epochs\": 9}, \"y\": {\"log_eval\": 3.7206715524645038}, \"y_hat\": {\"log_eval\": 3.740218715667928}, \"se\": {\"log_eval\": 0.01520847912775745}, \"se_hat\": {\"log_eval\": 0.011601950309348758}, \"context_stratum\": null}, \"34_0\": {\"name\": \"34_0\", \"parameters\": {\"lr\": 0.002438642927999432, \"decay\": 0.0025012259718864807, \"epochs\": 13}, \"y\": {\"log_eval\": 3.7753964281598127}, \"y_hat\": {\"log_eval\": 3.772410267049561}, \"se\": {\"log_eval\": 0.01378966104735636}, \"se_hat\": {\"log_eval\": 0.011381358238325735}, \"context_stratum\": null}, \"35_0\": {\"name\": \"35_0\", \"parameters\": {\"lr\": 0.0012440216784983, \"decay\": 0.0021844963220914236, \"epochs\": 12}, \"y\": {\"log_eval\": 3.7413698075164628}, \"y_hat\": {\"log_eval\": 3.7387190545050606}, \"se\": {\"log_eval\": 0.014083385187818898}, \"se_hat\": {\"log_eval\": 0.01350470829525208}, \"context_stratum\": null}, \"36_0\": {\"name\": \"36_0\", \"parameters\": {\"lr\": 0.006013150355723934, \"decay\": 0.0028060288008963583, \"epochs\": 13}, \"y\": {\"log_eval\": 3.6150758151607834}, \"y_hat\": {\"log_eval\": 3.618914966517588}, \"se\": {\"log_eval\": 0.015453840004871315}, \"se_hat\": {\"log_eval\": 0.0140643514660533}, \"context_stratum\": null}, \"37_0\": {\"name\": \"37_0\", \"parameters\": {\"lr\": 0.002683255708419544, \"decay\": 0.001773505945887894, \"epochs\": 11}, \"y\": {\"log_eval\": 3.7520486847518906}, \"y_hat\": {\"log_eval\": 3.7499578074845097}, \"se\": {\"log_eval\": 0.01399213810252053}, \"se_hat\": {\"log_eval\": 0.012124203810283184}, \"context_stratum\": null}, \"38_0\": {\"name\": \"38_0\", \"parameters\": {\"lr\": 0.002245383380378057, \"decay\": 0.0017013206868280336, \"epochs\": 12}, \"y\": {\"log_eval\": 3.755761428899229}, \"y_hat\": {\"log_eval\": 3.754340989915688}, \"se\": {\"log_eval\": 0.014218662641979468}, \"se_hat\": {\"log_eval\": 0.013118753742769803}, \"context_stratum\": null}, \"39_0\": {\"name\": \"39_0\", \"parameters\": {\"lr\": 0.002593592510211966, \"decay\": 0.0035303285210389617, \"epochs\": 14}, \"y\": {\"log_eval\": 3.7421739782912526}, \"y_hat\": {\"log_eval\": 3.7406194259320174}, \"se\": {\"log_eval\": 0.014377097617243583}, \"se_hat\": {\"log_eval\": 0.013461784144573309}, \"context_stratum\": null}, \"40_0\": {\"name\": \"40_0\", \"parameters\": {\"lr\": 0.0034429988535537165, \"decay\": 0.0012532430884026151, \"epochs\": 10}, \"y\": {\"log_eval\": 3.7417956537138988}, \"y_hat\": {\"log_eval\": 3.7371519130691517}, \"se\": {\"log_eval\": 0.014258964679359816}, \"se_hat\": {\"log_eval\": 0.011436052084491817}, \"context_stratum\": null}, \"41_0\": {\"name\": \"41_0\", \"parameters\": {\"lr\": 0.004597064302145103, \"decay\": 0.00129254493547221, \"epochs\": 8}, \"y\": {\"log_eval\": 3.757479496258855}, \"y_hat\": {\"log_eval\": 3.766387300339841}, \"se\": {\"log_eval\": 0.014053111515588359}, \"se_hat\": {\"log_eval\": 0.011891977703225547}, \"context_stratum\": null}, \"42_0\": {\"name\": \"42_0\", \"parameters\": {\"lr\": 0.0026063679668893846, \"decay\": 0.002122253915865578, \"epochs\": 16}, \"y\": {\"log_eval\": 3.757916169016624}, \"y_hat\": {\"log_eval\": 3.7559253500727543}, \"se\": {\"log_eval\": 0.014730960126280057}, \"se_hat\": {\"log_eval\": 0.013404242400849345}, \"context_stratum\": null}, \"43_0\": {\"name\": \"43_0\", \"parameters\": {\"lr\": 0.002160904220770353, \"decay\": 0.0025059118846846645, \"epochs\": 15}, \"y\": {\"log_eval\": 3.75143525026534}, \"y_hat\": {\"log_eval\": 3.751934603531285}, \"se\": {\"log_eval\": 0.013662134405389298}, \"se_hat\": {\"log_eval\": 0.012494355118503489}, \"context_stratum\": null}, \"44_0\": {\"name\": \"44_0\", \"parameters\": {\"lr\": 0.0027091769723221605, \"decay\": 0.001036927347367017, \"epochs\": 7}, \"y\": {\"log_eval\": 3.719411377631989}, \"y_hat\": {\"log_eval\": 3.7253706920599945}, \"se\": {\"log_eval\": 0.01496588906662695}, \"se_hat\": {\"log_eval\": 0.013797301768863656}, \"context_stratum\": null}, \"45_0\": {\"name\": \"45_0\", \"parameters\": {\"lr\": 0.0007273873451560561, \"decay\": 0.007323840961065265, \"epochs\": 17}, \"y\": {\"log_eval\": 3.754299748803738}, \"y_hat\": {\"log_eval\": 3.7528722868349003}, \"se\": {\"log_eval\": 0.013609352138377937}, \"se_hat\": {\"log_eval\": 0.012921948528290697}, \"context_stratum\": null}, \"46_0\": {\"name\": \"46_0\", \"parameters\": {\"lr\": 0.0030079183198763126, \"decay\": 0.0014661394936190625, \"epochs\": 12}, \"y\": {\"log_eval\": 3.721725149736247}, \"y_hat\": {\"log_eval\": 3.7328738156917654}, \"se\": {\"log_eval\": 0.015507392797992183}, \"se_hat\": {\"log_eval\": 0.013119477714442775}, \"context_stratum\": null}, \"47_0\": {\"name\": \"47_0\", \"parameters\": {\"lr\": 0.0027302036324266493, \"decay\": 0.002615729671691876, \"epochs\": 10}, \"y\": {\"log_eval\": 3.806544404335847}, \"y_hat\": {\"log_eval\": 3.78580567872205}, \"se\": {\"log_eval\": 0.013373452148722405}, \"se_hat\": {\"log_eval\": 0.009072998289589159}, \"context_stratum\": null}, \"48_0\": {\"name\": \"48_0\", \"parameters\": {\"lr\": 0.0025249974010564885, \"decay\": 0.0025410187000322456, \"epochs\": 8}, \"y\": {\"log_eval\": 3.7647383412281084}, \"y_hat\": {\"log_eval\": 3.7680305507197405}, \"se\": {\"log_eval\": 0.013665101877774801}, \"se_hat\": {\"log_eval\": 0.01184385283999218}, \"context_stratum\": null}, \"49_0\": {\"name\": \"49_0\", \"parameters\": {\"lr\": 0.002818156640431079, \"decay\": 0.002693597623753263, \"epochs\": 12}, \"y\": {\"log_eval\": 3.7557171367622133}, \"y_hat\": {\"log_eval\": 3.7701429412693934}, \"se\": {\"log_eval\": 0.014307632338815848}, \"se_hat\": {\"log_eval\": 0.011196012058338374}, \"context_stratum\": null}, \"50_0\": {\"name\": \"50_0\", \"parameters\": {\"lr\": 0.0029062328771851335, \"decay\": 0.002520316199161385, \"epochs\": 8}, \"y\": {\"log_eval\": 3.793516557225751}, \"y_hat\": {\"log_eval\": 3.7794067529533057}, \"se\": {\"log_eval\": 0.013679930847354123}, \"se_hat\": {\"log_eval\": 0.010766423849543575}, \"context_stratum\": null}, \"51_0\": {\"name\": \"51_0\", \"parameters\": {\"lr\": 0.0028739319116947606, \"decay\": 0.0031450826461652663, \"epochs\": 8}, \"y\": {\"log_eval\": 3.758040877039798}, \"y_hat\": {\"log_eval\": 3.762294248054489}, \"se\": {\"log_eval\": 0.013870163942519297}, \"se_hat\": {\"log_eval\": 0.012508029273839176}, \"context_stratum\": null}, \"52_0\": {\"name\": \"52_0\", \"parameters\": {\"lr\": 0.002788867139708552, \"decay\": 0.002315431049546887, \"epochs\": 9}, \"y\": {\"log_eval\": 3.746788230975897}, \"y_hat\": {\"log_eval\": 3.7687571870493755}, \"se\": {\"log_eval\": 0.014539532660652015}, \"se_hat\": {\"log_eval\": 0.010305417219479942}, \"context_stratum\": null}}, \"out_of_sample\": {}, \"status_quo_name\": null};\n",
       "const arm_name_to_parameters = {\"zero\": {\"lr\": 0.0043, \"decay\": 0.0012, \"epochs\": 0}, \"control1\": {\"lr\": 0.0043, \"decay\": 0.0012, \"epochs\": 5}, \"control2\": {\"lr\": 0.0043, \"decay\": 0.0012, \"epochs\": 10}, \"3_0\": {\"lr\": 0.006719886554586096, \"decay\": 0.0025712614367976697, \"epochs\": 17}, \"4_0\": {\"lr\": 0.0012230710776559032, \"decay\": 0.0001245490767846484, \"epochs\": 14}, \"5_0\": {\"lr\": 0.00015703189811414284, \"decay\": 0.004250773039859609, \"epochs\": 6}, \"6_0\": {\"lr\": 0.00027734698125494284, \"decay\": 0.00024503393137916316, \"epochs\": 19}, \"7_0\": {\"lr\": 0.00215089431162011, \"decay\": 0.007181061645086981, \"epochs\": 2}, \"8_0\": {\"lr\": 0.003669268451658114, \"decay\": 0.0004685768597399909, \"epochs\": 8}, \"9_0\": {\"lr\": 0.0005083524213359429, \"decay\": 0.0011885017054668588, \"epochs\": 11}, \"10_0\": {\"lr\": 0.0003885480703922011, \"decay\": 0.00017572911480920575, \"epochs\": 7}, \"11_0\": {\"lr\": 0.004987883132707978, \"decay\": 0.003342016822981182, \"epochs\": 14}, \"12_0\": {\"lr\": 0.0029168282988909335, \"decay\": 0.0009197168866264231, \"epochs\": 16}, \"13_0\": {\"lr\": 0.00021152642014361876, \"decay\": 0.0020209888929120954, \"epochs\": 3}, \"14_0\": {\"lr\": 0.0001155375773105539, \"decay\": 0.0003570341502470353, \"epochs\": 11}, \"15_0\": {\"lr\": 0.0016000375420588211, \"decay\": 0.001624692156473758, \"epochs\": 9}, \"16_0\": {\"lr\": 0.008811602322531434, \"decay\": 0.000186652607756163, \"epochs\": 1}, \"17_0\": {\"lr\": 0.0006830909901579769, \"decay\": 0.009813793275866853, \"epochs\": 18}, \"18_0\": {\"lr\": 0.0006154371046006404, \"decay\": 0.00021817967393688832, \"epochs\": 15}, \"19_0\": {\"lr\": 0.008526969624032996, \"decay\": 0.008521992697599054, \"epochs\": 7}, \"20_0\": {\"lr\": 0.0014841675115592483, \"decay\": 0.00041652190590026186, \"epochs\": 3}, \"21_0\": {\"lr\": 0.00011512656911212999, \"decay\": 0.0014096383116111051, \"epochs\": 15}, \"22_0\": {\"lr\": 0.00019974886922630847, \"decay\": 0.0007873981650974259, \"epochs\": 10}, \"23_0\": {\"lr\": 0.003125001755326415, \"decay\": 0.002214232914119949, \"epochs\": 12}, \"24_0\": {\"lr\": 0.006628480497069864, \"decay\": 0.0016183755027265353, \"epochs\": 11}, \"25_0\": {\"lr\": 0.004157984233597562, \"decay\": 0.0037367267717074706, \"epochs\": 9}, \"26_0\": {\"lr\": 0.003984743419781169, \"decay\": 0.0012914146741416816, \"epochs\": 13}, \"27_0\": {\"lr\": 0.0044755527574204075, \"decay\": 0.0008770153419057366, \"epochs\": 8}, \"28_0\": {\"lr\": 0.0032933923143772794, \"decay\": 0.0008111133357022278, \"epochs\": 10}, \"29_0\": {\"lr\": 0.004072644764672069, \"decay\": 0.002303923665865714, \"epochs\": 11}, \"30_0\": {\"lr\": 0.005617095681160452, \"decay\": 0.001755380644007118, \"epochs\": 10}, \"31_0\": {\"lr\": 0.004289613569715087, \"decay\": 0.0008474777542033326, \"epochs\": 10}, \"32_0\": {\"lr\": 0.002904618553551574, \"decay\": 0.0012288470288522085, \"epochs\": 10}, \"33_0\": {\"lr\": 0.0037889689157116543, \"decay\": 0.0012146824301619034, \"epochs\": 9}, \"34_0\": {\"lr\": 0.002438642927999432, \"decay\": 0.0025012259718864807, \"epochs\": 13}, \"35_0\": {\"lr\": 0.0012440216784983, \"decay\": 0.0021844963220914236, \"epochs\": 12}, \"36_0\": {\"lr\": 0.006013150355723934, \"decay\": 0.0028060288008963583, \"epochs\": 13}, \"37_0\": {\"lr\": 0.002683255708419544, \"decay\": 0.001773505945887894, \"epochs\": 11}, \"38_0\": {\"lr\": 0.002245383380378057, \"decay\": 0.0017013206868280336, \"epochs\": 12}, \"39_0\": {\"lr\": 0.002593592510211966, \"decay\": 0.0035303285210389617, \"epochs\": 14}, \"40_0\": {\"lr\": 0.0034429988535537165, \"decay\": 0.0012532430884026151, \"epochs\": 10}, \"41_0\": {\"lr\": 0.004597064302145103, \"decay\": 0.00129254493547221, \"epochs\": 8}, \"42_0\": {\"lr\": 0.0026063679668893846, \"decay\": 0.002122253915865578, \"epochs\": 16}, \"43_0\": {\"lr\": 0.002160904220770353, \"decay\": 0.0025059118846846645, \"epochs\": 15}, \"44_0\": {\"lr\": 0.0027091769723221605, \"decay\": 0.001036927347367017, \"epochs\": 7}, \"45_0\": {\"lr\": 0.0007273873451560561, \"decay\": 0.007323840961065265, \"epochs\": 17}, \"46_0\": {\"lr\": 0.0030079183198763126, \"decay\": 0.0014661394936190625, \"epochs\": 12}, \"47_0\": {\"lr\": 0.0027302036324266493, \"decay\": 0.002615729671691876, \"epochs\": 10}, \"48_0\": {\"lr\": 0.0025249974010564885, \"decay\": 0.0025410187000322456, \"epochs\": 8}, \"49_0\": {\"lr\": 0.002818156640431079, \"decay\": 0.002693597623753263, \"epochs\": 12}, \"50_0\": {\"lr\": 0.0029062328771851335, \"decay\": 0.002520316199161385, \"epochs\": 8}, \"51_0\": {\"lr\": 0.0028739319116947606, \"decay\": 0.0031450826461652663, \"epochs\": 8}, \"52_0\": {\"lr\": 0.002788867139708552, \"decay\": 0.002315431049546887, \"epochs\": 9}};\n",
       "const f = [3.6989911086651817, 3.6990479381191705, 3.6991333913638544, 3.699266644248839, 3.6994772694640954, 3.699809059042585, 3.700324427105538, 3.701108718958771, 3.702272716265535, 3.7039498572634444, 3.7062821589679884, 3.7093861790357376, 3.713289992073682, 3.71784012372835, 3.7226047316725364, 3.726854941961683, 3.7297586373072136, 3.730832871180469, 3.730365412040611, 3.729349058850298, 3.7289546580285946, 3.730019088929132, 3.732930398506233, 3.7380894239000786, 3.7461834073547533, 3.7564791354152165, 3.7643030716705237, 3.762425478059861, 3.750721717328654, 3.739192549414019, 3.7352259231050575, 3.7391439209126043, 3.7487838414924957, 3.7620038247463605, 3.7745871396310418, 3.778073903608809, 3.7693404820279386, 3.754979601253012, 3.7413859314038853, 3.730543297415441, 3.72211320116177, 3.7154183316397944, 3.710017456592108, 3.705694959865326, 3.7023489765988473, 3.6999073427219558, 3.6982806712484297, 3.697344009493125, 3.6969417499226953, 3.6969084522593314];\n",
       "const fit_data = [{\"metric_name\": \"log_eval\", \"arm_name\": \"zero\", \"mean\": 3.6364354875574563, \"sem\": 0.012499465460930299}, {\"metric_name\": \"log_eval\", \"arm_name\": \"control1\", \"mean\": 3.7673388703466384, \"sem\": 0.014437295783778344}, {\"metric_name\": \"log_eval\", \"arm_name\": \"control2\", \"mean\": 3.7939481165991658, \"sem\": 0.013743965355831913}, {\"metric_name\": \"log_eval\", \"arm_name\": \"3_0\", \"mean\": 3.527757963786043, \"sem\": 0.014116282037991347}, {\"metric_name\": \"log_eval\", \"arm_name\": \"4_0\", \"mean\": 3.722176023563392, \"sem\": 0.013597994240945219}, {\"metric_name\": \"log_eval\", \"arm_name\": \"5_0\", \"mean\": 3.6558885974799313, \"sem\": 0.013725262026368666}, {\"metric_name\": \"log_eval\", \"arm_name\": \"6_0\", \"mean\": 3.719795690263471, \"sem\": 0.01372692960075821}, {\"metric_name\": \"log_eval\", \"arm_name\": \"7_0\", \"mean\": 3.671565328964881, \"sem\": 0.01338050680982233}, {\"metric_name\": \"log_eval\", \"arm_name\": \"8_0\", \"mean\": 3.7542075598642723, \"sem\": 0.014385970424389254}, {\"metric_name\": \"log_eval\", \"arm_name\": \"9_0\", \"mean\": 3.726350753855546, \"sem\": 0.013545580006328673}, {\"metric_name\": \"log_eval\", \"arm_name\": \"10_0\", \"mean\": 3.7153679485655404, \"sem\": 0.01367508917825613}, {\"metric_name\": \"log_eval\", \"arm_name\": \"11_0\", \"mean\": 3.739543115591369, \"sem\": 0.013307203954322175}, {\"metric_name\": \"log_eval\", \"arm_name\": \"12_0\", \"mean\": 3.7186711581894665, \"sem\": 0.014621965136108576}, {\"metric_name\": \"log_eval\", \"arm_name\": \"13_0\", \"mean\": 3.637905015076654, \"sem\": 0.013740333364859962}, {\"metric_name\": \"log_eval\", \"arm_name\": \"14_0\", \"mean\": 3.6822407278316125, \"sem\": 0.014285217675939405}, {\"metric_name\": \"log_eval\", \"arm_name\": \"15_0\", \"mean\": 3.7320861684920095, \"sem\": 0.013587405327005645}, {\"metric_name\": \"log_eval\", \"arm_name\": \"16_0\", \"mean\": 3.623308265882121, \"sem\": 0.013759945135539384}, {\"metric_name\": \"log_eval\", \"arm_name\": \"17_0\", \"mean\": 3.7734218690082773, \"sem\": 0.01308537161098173}, {\"metric_name\": \"log_eval\", \"arm_name\": \"18_0\", \"mean\": 3.7161815713771076, \"sem\": 0.013834489994739026}, {\"metric_name\": \"log_eval\", \"arm_name\": \"19_0\", \"mean\": 3.7285276912274417, \"sem\": 0.014692332587479444}, {\"metric_name\": \"log_eval\", \"arm_name\": \"20_0\", \"mean\": 3.6855800109935606, \"sem\": 0.013729222131008707}, {\"metric_name\": \"log_eval\", \"arm_name\": \"21_0\", \"mean\": 3.6581693321691544, \"sem\": 0.013997324779328489}, {\"metric_name\": \"log_eval\", \"arm_name\": \"22_0\", \"mean\": 3.684627012793348, \"sem\": 0.013979450458607046}, {\"metric_name\": \"log_eval\", \"arm_name\": \"23_0\", \"mean\": 3.7609092352184548, \"sem\": 0.014213144014545473}, {\"metric_name\": \"log_eval\", \"arm_name\": \"24_0\", \"mean\": 3.6533227231721748, \"sem\": 0.015128695054896762}, {\"metric_name\": \"log_eval\", \"arm_name\": \"25_0\", \"mean\": 3.7380021459939643, \"sem\": 0.014504551146615285}, {\"metric_name\": \"log_eval\", \"arm_name\": \"26_0\", \"mean\": 3.733347238741463, \"sem\": 0.014264735317497002}, {\"metric_name\": \"log_eval\", \"arm_name\": \"27_0\", \"mean\": 3.7264986324022074, \"sem\": 0.014864291049449387}, {\"metric_name\": \"log_eval\", \"arm_name\": \"28_0\", \"mean\": 3.7384567502927153, \"sem\": 0.014787002850622144}, {\"metric_name\": \"log_eval\", \"arm_name\": \"29_0\", \"mean\": 3.674461006874313, \"sem\": 0.01422720213073201}, {\"metric_name\": \"log_eval\", \"arm_name\": \"30_0\", \"mean\": 3.7109245463650287, \"sem\": 0.01473694664096031}, {\"metric_name\": \"log_eval\", \"arm_name\": \"31_0\", \"mean\": 3.711955698556763, \"sem\": 0.014083734764292598}, {\"metric_name\": \"log_eval\", \"arm_name\": \"32_0\", \"mean\": 3.780389147290634, \"sem\": 0.01403801588972026}, {\"metric_name\": \"log_eval\", \"arm_name\": \"33_0\", \"mean\": 3.7206715524645038, \"sem\": 0.01520847912775745}, {\"metric_name\": \"log_eval\", \"arm_name\": \"34_0\", \"mean\": 3.7753964281598127, \"sem\": 0.01378966104735636}, {\"metric_name\": \"log_eval\", \"arm_name\": \"35_0\", \"mean\": 3.7413698075164628, \"sem\": 0.014083385187818898}, {\"metric_name\": \"log_eval\", \"arm_name\": \"36_0\", \"mean\": 3.6150758151607834, \"sem\": 0.015453840004871315}, {\"metric_name\": \"log_eval\", \"arm_name\": \"37_0\", \"mean\": 3.7520486847518906, \"sem\": 0.01399213810252053}, {\"metric_name\": \"log_eval\", \"arm_name\": \"38_0\", \"mean\": 3.755761428899229, \"sem\": 0.014218662641979468}, {\"metric_name\": \"log_eval\", \"arm_name\": \"39_0\", \"mean\": 3.7421739782912526, \"sem\": 0.014377097617243583}, {\"metric_name\": \"log_eval\", \"arm_name\": \"40_0\", \"mean\": 3.7417956537138988, \"sem\": 0.014258964679359816}, {\"metric_name\": \"log_eval\", \"arm_name\": \"41_0\", \"mean\": 3.757479496258855, \"sem\": 0.014053111515588359}, {\"metric_name\": \"log_eval\", \"arm_name\": \"42_0\", \"mean\": 3.757916169016624, \"sem\": 0.014730960126280057}, {\"metric_name\": \"log_eval\", \"arm_name\": \"43_0\", \"mean\": 3.75143525026534, \"sem\": 0.013662134405389298}, {\"metric_name\": \"log_eval\", \"arm_name\": \"44_0\", \"mean\": 3.719411377631989, \"sem\": 0.01496588906662695}, {\"metric_name\": \"log_eval\", \"arm_name\": \"45_0\", \"mean\": 3.754299748803738, \"sem\": 0.013609352138377937}, {\"metric_name\": \"log_eval\", \"arm_name\": \"46_0\", \"mean\": 3.721725149736247, \"sem\": 0.015507392797992183}, {\"metric_name\": \"log_eval\", \"arm_name\": \"47_0\", \"mean\": 3.806544404335847, \"sem\": 0.013373452148722405}, {\"metric_name\": \"log_eval\", \"arm_name\": \"48_0\", \"mean\": 3.7647383412281084, \"sem\": 0.013665101877774801}, {\"metric_name\": \"log_eval\", \"arm_name\": \"49_0\", \"mean\": 3.7557171367622133, \"sem\": 0.014307632338815848}, {\"metric_name\": \"log_eval\", \"arm_name\": \"50_0\", \"mean\": 3.793516557225751, \"sem\": 0.013679930847354123}, {\"metric_name\": \"log_eval\", \"arm_name\": \"51_0\", \"mean\": 3.758040877039798, \"sem\": 0.013870163942519297}, {\"metric_name\": \"log_eval\", \"arm_name\": \"52_0\", \"mean\": 3.746788230975897, \"sem\": 0.014539532660652015}];\n",
       "const grid = [0.0001, 0.00010985411419875583, 0.00012067926406393288, 0.00013257113655901095, 0.00014563484775012445, 0.00015998587196060574, 0.00017575106248547912, 0.00019306977288832496, 0.00021209508879201905, 0.00023299518105153718, 0.0002559547922699536, 0.0002811768697974231, 0.00030888435964774815, 0.000339322177189533, 0.0003727593720314938, 0.0004094915062380423, 0.0004498432668969444, 0.0004941713361323833, 0.0005428675439323859, 0.0005963623316594642, 0.0006551285568595509, 0.0007196856730011522, 0.0007906043210907702, 0.000868511373751352, 0.0009540954763499944, 0.0010481131341546852, 0.0011513953993264468, 0.0012648552168552957, 0.0013894954943731374, 0.0015264179671752333, 0.0016768329368110067, 0.0018420699693267163, 0.0020235896477251557, 0.0022229964825261957, 0.0024420530945486497, 0.0026826957952797246, 0.0029470517025518097, 0.0032374575428176433, 0.0035564803062231283, 0.003906939937054613, 0.004291934260128779, 0.00471486636345739, 0.005179474679231213, 0.005689866029018293, 0.0062505519252739694, 0.006866488450042998, 0.007543120063354615, 0.008286427728546842, 0.009102981779915217, 0.01];\n",
       "const metric = \"log_eval\";\n",
       "const param = \"decay\";\n",
       "const rel = false;\n",
       "const setx = {\"lr\": 0.0029757114402977477, \"decay\": 0.0021632499280336364, \"epochs\": 10};\n",
       "const sd = [0.04997475681631859, 0.04997445838429224, 0.049974028080594174, 0.04997316979996067, 0.04997112784811894, 0.04996611918310517, 0.04995412150035006, 0.049926416539101195, 0.0498649864482587, 0.04973483354496105, 0.04947343308424989, 0.048981640967923686, 0.04812970910354063, 0.04680565694678773, 0.045035126361374876, 0.043138983888411885, 0.04170561726309364, 0.04107042435535582, 0.0406622869064272, 0.039190512940175844, 0.03557011867547958, 0.029910649697036433, 0.02448767764947691, 0.022423729636633527, 0.022235208105990657, 0.0199160658283771, 0.01466230167999303, 0.012047501198635128, 0.01559664505573583, 0.019022798797882205, 0.020632713601508635, 0.020182730611501977, 0.017428866670282765, 0.013484169124316674, 0.012081905352335946, 0.013712041094214419, 0.016334536306976535, 0.019691668750599422, 0.02524488498127102, 0.03186826316024671, 0.037810019739357485, 0.042323527199555275, 0.04536461837547604, 0.04721423847471412, 0.04824545996983469, 0.048794825479731636, 0.04910585004879866, 0.04931949199325589, 0.049494795515382814, 0.04964362164715433];\n",
       "const is_log = true;\n",
       "\n",
       "// format data\n",
       "const res = relativize_data(f, sd, rel, arm_data, metric);\n",
       "const f_final = res[0];\n",
       "const sd_final = res[1];\n",
       "\n",
       "// get data for standard deviation fill plot\n",
       "const sd_upper = [];\n",
       "const sd_lower = [];\n",
       "for (let i = 0; i < sd.length; i++) {\n",
       "  sd_upper.push(f_final[i] + 2 * sd_final[i]);\n",
       "  sd_lower.push(f_final[i] - 2 * sd_final[i]);\n",
       "}\n",
       "const grid_rev = copy_and_reverse(grid);\n",
       "const sd_lower_rev = copy_and_reverse(sd_lower);\n",
       "const sd_x = grid.concat(grid_rev);\n",
       "const sd_y = sd_upper.concat(sd_lower_rev);\n",
       "\n",
       "// get data for observed arms and error bars\n",
       "const arm_x = [];\n",
       "const arm_y = [];\n",
       "const arm_sem = [];\n",
       "fit_data.forEach(row => {\n",
       "    parameters = arm_name_to_parameters[row[\"arm_name\"]];\n",
       "    plot = true;\n",
       "    Object.keys(setx).forEach(p => {\n",
       "      if (p !== param && parameters[p] !== setx[p]) {\n",
       "        plot = false;\n",
       "      }\n",
       "    });\n",
       "    if (plot === true) {\n",
       "        arm_x.push(parameters[param]);\n",
       "        arm_y.push(row[\"mean\"]);\n",
       "        arm_sem.push(row[\"sem\"]);\n",
       "    }\n",
       "});\n",
       "\n",
       "const arm_res = relativize_data(\n",
       "  arm_y, arm_sem, rel, arm_data, metric\n",
       ");\n",
       "const arm_y_final = arm_res[0];\n",
       "const arm_sem_final = arm_res[1].map(x => x * 2);\n",
       "\n",
       "// create traces\n",
       "const f_trace = {\n",
       "  x: grid,\n",
       "  y: f_final,\n",
       "  showlegend: false,\n",
       "  hoverinfo: 'x+y',\n",
       "  line: {\n",
       "    color: 'rgba(128, 177, 211, 1)',\n",
       "  },\n",
       "};\n",
       "\n",
       "const arms_trace = {\n",
       "  x: arm_x,\n",
       "  y: arm_y_final,\n",
       "  mode: 'markers',\n",
       "  error_y: {\n",
       "    type: 'data',\n",
       "    array: arm_sem_final,\n",
       "    visible: true,\n",
       "    color: 'black',\n",
       "  },\n",
       "  line: {\n",
       "    color: 'black',\n",
       "  },\n",
       "  showlegend: false,\n",
       "  hoverinfo: 'x+y',\n",
       "};\n",
       "\n",
       "const sd_trace = {\n",
       "    x: sd_x,\n",
       "    y: sd_y,\n",
       "    fill: 'toself',\n",
       "    fillcolor: 'rgba(128, 177, 211, 0.2)',\n",
       "    line: {\n",
       "      color: 'transparent',\n",
       "    },\n",
       "    showlegend: false,\n",
       "    hoverinfo: 'none',\n",
       "};\n",
       "\n",
       "traces = [\n",
       "  sd_trace,\n",
       "  f_trace,\n",
       "  arms_trace,\n",
       "];\n",
       "\n",
       "// iterate over out-of-sample arms\n",
       "let i = 1;\n",
       "Object.keys(arm_data['out_of_sample']).forEach(generator_run_name => {\n",
       "  const ax = [];\n",
       "  const ay = [];\n",
       "  const asem = [];\n",
       "  const atext = [];\n",
       "\n",
       "  Object.keys(arm_data['out_of_sample'][generator_run_name]).forEach(arm_name => {\n",
       "    const parameters = arm_data[\n",
       "      'out_of_sample'][generator_run_name][arm_name]['parameters'];\n",
       "    plot = true;\n",
       "    Object.keys(setx).forEach(p => {\n",
       "      if (p !== param && parameters[p] !== setx[p]) {\n",
       "        plot = false;\n",
       "      }\n",
       "    });\n",
       "    if (plot === true) {\n",
       "      ax.push(parameters[param]);\n",
       "      ay.push(\n",
       "        arm_data['out_of_sample'][generator_run_name][arm_name]['y_hat'][metric]\n",
       "      );\n",
       "      asem.push(\n",
       "        arm_data['out_of_sample'][generator_run_name][arm_name]['se_hat'][metric]\n",
       "      );\n",
       "      atext.push('<em>Candidate ' + arm_name + '</em>');\n",
       "    }\n",
       "  });\n",
       "\n",
       "  const out_of_sample_arm_res = relativize_data(\n",
       "    ay, asem, rel, arm_data, metric\n",
       "  );\n",
       "  const ay_final = out_of_sample_arm_res[0];\n",
       "  const asem_final = out_of_sample_arm_res[1].map(x => x * 2);\n",
       "\n",
       "  traces.push({\n",
       "    hoverinfo: 'text',\n",
       "    legendgroup: generator_run_name,\n",
       "    marker: {color: 'black', symbol: i, opacity: 0.5},\n",
       "    mode: 'markers',\n",
       "    error_y: {\n",
       "      type: 'data',\n",
       "      array: asem_final,\n",
       "      visible: true,\n",
       "      color: 'black',\n",
       "    },\n",
       "    name: generator_run_name,\n",
       "    text: atext,\n",
       "    type: 'scatter',\n",
       "    xaxis: 'x',\n",
       "    x: ax,\n",
       "    yaxis: 'y',\n",
       "    y: ay_final,\n",
       "  });\n",
       "\n",
       "  i += 1;\n",
       "});\n",
       "\n",
       "// layout\n",
       "const xrange = axis_range(grid, is_log);\n",
       "const xtype = is_log ? 'log' : 'linear';\n",
       "\n",
       "layout = {\n",
       "  hovermode: 'closest',\n",
       "  xaxis: {\n",
       "    anchor: 'y',\n",
       "    autorange: false,\n",
       "    exponentformat: 'e',\n",
       "    range: xrange,\n",
       "    tickfont: {size: 11},\n",
       "    tickmode: 'auto',\n",
       "    title: param,\n",
       "    type: xtype,\n",
       "  },\n",
       "  yaxis: {\n",
       "    anchor: 'x',\n",
       "    tickfont: {size: 11},\n",
       "    tickmode: 'auto',\n",
       "    title: metric,\n",
       "  },\n",
       "};\n",
       "\n",
       "Plotly.newPlot(\n",
       "    \"fe822ac78a7d4c4485a8868f4ba76221\",\n",
       "    traces,\n",
       "    layout,\n",
       "    {showLink: false},\n",
       ");\n",
       "});</script>"
      ]
     },
     "metadata": {},
     "output_type": "display_data"
    }
   ],
   "source": [
    "render(plot_slice(model=gpei, param_name='decay', metric_name='log_eval'))"
   ]
  },
  {
   "cell_type": "code",
   "execution_count": 27,
   "metadata": {
    "pycharm": {
     "name": "#%%\n"
    },
    "scrolled": false
   },
   "outputs": [
    {
     "data": {
      "text/html": [
       "<div id=\"80274939c09b47b1933d0bdee60b8838\" style=\"width: 100%;\" class=\"plotly-graph-div\"></div><script type='text/javascript'>/*\n",
       " * Copyright (c) Facebook, Inc. and its affiliates. All Rights Reserved.\n",
       " */\n",
       "\n",
       "require(['plotly'], function(Plotly) {\n",
       "  window.PLOTLYENV = window.PLOTLYENV || {};\n",
       "  window.PLOTLYENV.BASE_URL = 'https://plot.ly';\n",
       "  /*\n",
       " * Copyright (c) Facebook, Inc. and its affiliates. All Rights Reserved.\n",
       " */\n",
       "\n",
       "const arm_data = {\"metrics\": [\"log_eval\"], \"in_sample\": {\"zero\": {\"name\": \"zero\", \"parameters\": {\"lr\": 0.0043, \"decay\": 0.0012, \"epochs\": 0}, \"y\": {\"log_eval\": 3.6364354875574563}, \"y_hat\": {\"log_eval\": 3.6454888422885654}, \"se\": {\"log_eval\": 0.012499465460930299}, \"se_hat\": {\"log_eval\": 0.011905499799537745}, \"context_stratum\": null}, \"control1\": {\"name\": \"control1\", \"parameters\": {\"lr\": 0.0043, \"decay\": 0.0012, \"epochs\": 5}, \"y\": {\"log_eval\": 3.7673388703466384}, \"y_hat\": {\"log_eval\": 3.7513508220970078}, \"se\": {\"log_eval\": 0.014437295783778344}, \"se_hat\": {\"log_eval\": 0.012454597622696168}, \"context_stratum\": null}, \"control2\": {\"name\": \"control2\", \"parameters\": {\"lr\": 0.0043, \"decay\": 0.0012, \"epochs\": 10}, \"y\": {\"log_eval\": 3.7939481165991658}, \"y_hat\": {\"log_eval\": 3.7745678923158015}, \"se\": {\"log_eval\": 0.013743965355831913}, \"se_hat\": {\"log_eval\": 0.010943736129409411}, \"context_stratum\": null}, \"3_0\": {\"name\": \"3_0\", \"parameters\": {\"lr\": 0.006719886554586096, \"decay\": 0.0025712614367976697, \"epochs\": 17}, \"y\": {\"log_eval\": 3.527757963786043}, \"y_hat\": {\"log_eval\": 3.54057360863952}, \"se\": {\"log_eval\": 0.014116282037991347}, \"se_hat\": {\"log_eval\": 0.013313980828044898}, \"context_stratum\": null}, \"4_0\": {\"name\": \"4_0\", \"parameters\": {\"lr\": 0.0012230710776559032, \"decay\": 0.0001245490767846484, \"epochs\": 14}, \"y\": {\"log_eval\": 3.722176023563392}, \"y_hat\": {\"log_eval\": 3.7205795125221695}, \"se\": {\"log_eval\": 0.013597994240945219}, \"se_hat\": {\"log_eval\": 0.013120831363704032}, \"context_stratum\": null}, \"5_0\": {\"name\": \"5_0\", \"parameters\": {\"lr\": 0.00015703189811414284, \"decay\": 0.004250773039859609, \"epochs\": 6}, \"y\": {\"log_eval\": 3.6558885974799313}, \"y_hat\": {\"log_eval\": 3.6586443177849937}, \"se\": {\"log_eval\": 0.013725262026368666}, \"se_hat\": {\"log_eval\": 0.013233514730824101}, \"context_stratum\": null}, \"6_0\": {\"name\": \"6_0\", \"parameters\": {\"lr\": 0.00027734698125494284, \"decay\": 0.00024503393137916316, \"epochs\": 19}, \"y\": {\"log_eval\": 3.719795690263471}, \"y_hat\": {\"log_eval\": 3.7183782337206077}, \"se\": {\"log_eval\": 0.01372692960075821}, \"se_hat\": {\"log_eval\": 0.013235450165383569}, \"context_stratum\": null}, \"7_0\": {\"name\": \"7_0\", \"parameters\": {\"lr\": 0.00215089431162011, \"decay\": 0.007181061645086981, \"epochs\": 2}, \"y\": {\"log_eval\": 3.671565328964881}, \"y_hat\": {\"log_eval\": 3.6734692312173984}, \"se\": {\"log_eval\": 0.01338050680982233}, \"se_hat\": {\"log_eval\": 0.012924419065381573}, \"context_stratum\": null}, \"8_0\": {\"name\": \"8_0\", \"parameters\": {\"lr\": 0.003669268451658114, \"decay\": 0.0004685768597399909, \"epochs\": 8}, \"y\": {\"log_eval\": 3.7542075598642723}, \"y_hat\": {\"log_eval\": 3.749825352617683}, \"se\": {\"log_eval\": 0.014385970424389254}, \"se_hat\": {\"log_eval\": 0.013791819005244283}, \"context_stratum\": null}, \"9_0\": {\"name\": \"9_0\", \"parameters\": {\"lr\": 0.0005083524213359429, \"decay\": 0.0011885017054668588, \"epochs\": 11}, \"y\": {\"log_eval\": 3.726350753855546}, \"y_hat\": {\"log_eval\": 3.724460217135266}, \"se\": {\"log_eval\": 0.013545580006328673}, \"se_hat\": {\"log_eval\": 0.013073842917800668}, \"context_stratum\": null}, \"10_0\": {\"name\": \"10_0\", \"parameters\": {\"lr\": 0.0003885480703922011, \"decay\": 0.00017572911480920575, \"epochs\": 7}, \"y\": {\"log_eval\": 3.7153679485655404}, \"y_hat\": {\"log_eval\": 3.7143578924161424}, \"se\": {\"log_eval\": 0.01367508917825613}, \"se_hat\": {\"log_eval\": 0.013186715365212098}, \"context_stratum\": null}, \"11_0\": {\"name\": \"11_0\", \"parameters\": {\"lr\": 0.004987883132707978, \"decay\": 0.003342016822981182, \"epochs\": 14}, \"y\": {\"log_eval\": 3.739543115591369}, \"y_hat\": {\"log_eval\": 3.732044852266896}, \"se\": {\"log_eval\": 0.013307203954322175}, \"se_hat\": {\"log_eval\": 0.012563933519352232}, \"context_stratum\": null}, \"12_0\": {\"name\": \"12_0\", \"parameters\": {\"lr\": 0.0029168282988909335, \"decay\": 0.0009197168866264231, \"epochs\": 16}, \"y\": {\"log_eval\": 3.7186711581894665}, \"y_hat\": {\"log_eval\": 3.7197404391362214}, \"se\": {\"log_eval\": 0.014621965136108576}, \"se_hat\": {\"log_eval\": 0.013861707201097929}, \"context_stratum\": null}, \"13_0\": {\"name\": \"13_0\", \"parameters\": {\"lr\": 0.00021152642014361876, \"decay\": 0.0020209888929120954, \"epochs\": 3}, \"y\": {\"log_eval\": 3.637905015076654}, \"y_hat\": {\"log_eval\": 3.641972958546305}, \"se\": {\"log_eval\": 0.013740333364859962}, \"se_hat\": {\"log_eval\": 0.013246579797678097}, \"context_stratum\": null}, \"14_0\": {\"name\": \"14_0\", \"parameters\": {\"lr\": 0.0001155375773105539, \"decay\": 0.0003570341502470353, \"epochs\": 11}, \"y\": {\"log_eval\": 3.6822407278316125}, \"y_hat\": {\"log_eval\": 3.6834692286452646}, \"se\": {\"log_eval\": 0.014285217675939405}, \"se_hat\": {\"log_eval\": 0.01373491661618334}, \"context_stratum\": null}, \"15_0\": {\"name\": \"15_0\", \"parameters\": {\"lr\": 0.0016000375420588211, \"decay\": 0.001624692156473758, \"epochs\": 9}, \"y\": {\"log_eval\": 3.7320861684920095}, \"y_hat\": {\"log_eval\": 3.731208483181495}, \"se\": {\"log_eval\": 0.013587405327005645}, \"se_hat\": {\"log_eval\": 0.013021925391680029}, \"context_stratum\": null}, \"16_0\": {\"name\": \"16_0\", \"parameters\": {\"lr\": 0.008811602322531434, \"decay\": 0.000186652607756163, \"epochs\": 1}, \"y\": {\"log_eval\": 3.623308265882121}, \"y_hat\": {\"log_eval\": 3.6286323106435}, \"se\": {\"log_eval\": 0.013759945135539384}, \"se_hat\": {\"log_eval\": 0.013266289208842477}, \"context_stratum\": null}, \"17_0\": {\"name\": \"17_0\", \"parameters\": {\"lr\": 0.0006830909901579769, \"decay\": 0.009813793275866853, \"epochs\": 18}, \"y\": {\"log_eval\": 3.7734218690082773}, \"y_hat\": {\"log_eval\": 3.7693586323221777}, \"se\": {\"log_eval\": 0.01308537161098173}, \"se_hat\": {\"log_eval\": 0.01247230247301693}, \"context_stratum\": null}, \"18_0\": {\"name\": \"18_0\", \"parameters\": {\"lr\": 0.0006154371046006404, \"decay\": 0.00021817967393688832, \"epochs\": 15}, \"y\": {\"log_eval\": 3.7161815713771076}, \"y_hat\": {\"log_eval\": 3.715061978778193}, \"se\": {\"log_eval\": 0.013834489994739026}, \"se_hat\": {\"log_eval\": 0.013330425929603809}, \"context_stratum\": null}, \"19_0\": {\"name\": \"19_0\", \"parameters\": {\"lr\": 0.008526969624032996, \"decay\": 0.008521992697599054, \"epochs\": 7}, \"y\": {\"log_eval\": 3.7285276912274417}, \"y_hat\": {\"log_eval\": 3.7261443021678438}, \"se\": {\"log_eval\": 0.014692332587479444}, \"se_hat\": {\"log_eval\": 0.014095746992745378}, \"context_stratum\": null}, \"20_0\": {\"name\": \"20_0\", \"parameters\": {\"lr\": 0.0014841675115592483, \"decay\": 0.00041652190590026186, \"epochs\": 3}, \"y\": {\"log_eval\": 3.6855800109935606}, \"y_hat\": {\"log_eval\": 3.6865378323588747}, \"se\": {\"log_eval\": 0.013729222131008707}, \"se_hat\": {\"log_eval\": 0.013238677406563279}, \"context_stratum\": null}, \"21_0\": {\"name\": \"21_0\", \"parameters\": {\"lr\": 0.00011512656911212999, \"decay\": 0.0014096383116111051, \"epochs\": 15}, \"y\": {\"log_eval\": 3.6581693321691544}, \"y_hat\": {\"log_eval\": 3.6610192129446926}, \"se\": {\"log_eval\": 0.013997324779328489}, \"se_hat\": {\"log_eval\": 0.013478098995920668}, \"context_stratum\": null}, \"22_0\": {\"name\": \"22_0\", \"parameters\": {\"lr\": 0.00019974886922630847, \"decay\": 0.0007873981650974259, \"epochs\": 10}, \"y\": {\"log_eval\": 3.684627012793348}, \"y_hat\": {\"log_eval\": 3.6854526387453324}, \"se\": {\"log_eval\": 0.013979450458607046}, \"se_hat\": {\"log_eval\": 0.01346167236267269}, \"context_stratum\": null}, \"23_0\": {\"name\": \"23_0\", \"parameters\": {\"lr\": 0.003125001755326415, \"decay\": 0.002214232914119949, \"epochs\": 12}, \"y\": {\"log_eval\": 3.7609092352184548}, \"y_hat\": {\"log_eval\": 3.7533360751167253}, \"se\": {\"log_eval\": 0.014213144014545473}, \"se_hat\": {\"log_eval\": 0.012480878295905586}, \"context_stratum\": null}, \"24_0\": {\"name\": \"24_0\", \"parameters\": {\"lr\": 0.006628480497069864, \"decay\": 0.0016183755027265353, \"epochs\": 11}, \"y\": {\"log_eval\": 3.6533227231721748}, \"y_hat\": {\"log_eval\": 3.6585295734843544}, \"se\": {\"log_eval\": 0.015128695054896762}, \"se_hat\": {\"log_eval\": 0.014015910406756026}, \"context_stratum\": null}, \"25_0\": {\"name\": \"25_0\", \"parameters\": {\"lr\": 0.004157984233597562, \"decay\": 0.0037367267717074706, \"epochs\": 9}, \"y\": {\"log_eval\": 3.7380021459939643}, \"y_hat\": {\"log_eval\": 3.7366322452105676}, \"se\": {\"log_eval\": 0.014504551146615285}, \"se_hat\": {\"log_eval\": 0.013749023247335177}, \"context_stratum\": null}, \"26_0\": {\"name\": \"26_0\", \"parameters\": {\"lr\": 0.003984743419781169, \"decay\": 0.0012914146741416816, \"epochs\": 13}, \"y\": {\"log_eval\": 3.733347238741463}, \"y_hat\": {\"log_eval\": 3.7356113178962103}, \"se\": {\"log_eval\": 0.014264735317497002}, \"se_hat\": {\"log_eval\": 0.012813692406234834}, \"context_stratum\": null}, \"27_0\": {\"name\": \"27_0\", \"parameters\": {\"lr\": 0.0044755527574204075, \"decay\": 0.0008770153419057366, \"epochs\": 8}, \"y\": {\"log_eval\": 3.7264986324022074}, \"y_hat\": {\"log_eval\": 3.7264144785823974}, \"se\": {\"log_eval\": 0.014864291049449387}, \"se_hat\": {\"log_eval\": 0.012562192030044762}, \"context_stratum\": null}, \"28_0\": {\"name\": \"28_0\", \"parameters\": {\"lr\": 0.0032933923143772794, \"decay\": 0.0008111133357022278, \"epochs\": 10}, \"y\": {\"log_eval\": 3.7384567502927153}, \"y_hat\": {\"log_eval\": 3.735505943501993}, \"se\": {\"log_eval\": 0.014787002850622144}, \"se_hat\": {\"log_eval\": 0.013741704745970139}, \"context_stratum\": null}, \"29_0\": {\"name\": \"29_0\", \"parameters\": {\"lr\": 0.004072644764672069, \"decay\": 0.002303923665865714, \"epochs\": 11}, \"y\": {\"log_eval\": 3.674461006874313}, \"y_hat\": {\"log_eval\": 3.6818233793582564}, \"se\": {\"log_eval\": 0.01422720213073201}, \"se_hat\": {\"log_eval\": 0.013396689888844116}, \"context_stratum\": null}, \"30_0\": {\"name\": \"30_0\", \"parameters\": {\"lr\": 0.005617095681160452, \"decay\": 0.001755380644007118, \"epochs\": 10}, \"y\": {\"log_eval\": 3.7109245463650287}, \"y_hat\": {\"log_eval\": 3.7040418342189487}, \"se\": {\"log_eval\": 0.01473694664096031}, \"se_hat\": {\"log_eval\": 0.01350830362641773}, \"context_stratum\": null}, \"31_0\": {\"name\": \"31_0\", \"parameters\": {\"lr\": 0.004289613569715087, \"decay\": 0.0008474777542033326, \"epochs\": 10}, \"y\": {\"log_eval\": 3.711955698556763}, \"y_hat\": {\"log_eval\": 3.717579816158988}, \"se\": {\"log_eval\": 0.014083734764292598}, \"se_hat\": {\"log_eval\": 0.012084579122394197}, \"context_stratum\": null}, \"32_0\": {\"name\": \"32_0\", \"parameters\": {\"lr\": 0.002904618553551574, \"decay\": 0.0012288470288522085, \"epochs\": 10}, \"y\": {\"log_eval\": 3.780389147290634}, \"y_hat\": {\"log_eval\": 3.7663707532891655}, \"se\": {\"log_eval\": 0.01403801588972026}, \"se_hat\": {\"log_eval\": 0.012043114284368247}, \"context_stratum\": null}, \"33_0\": {\"name\": \"33_0\", \"parameters\": {\"lr\": 0.0037889689157116543, \"decay\": 0.0012146824301619034, \"epochs\": 9}, \"y\": {\"log_eval\": 3.7206715524645038}, \"y_hat\": {\"log_eval\": 3.740218715667928}, \"se\": {\"log_eval\": 0.01520847912775745}, \"se_hat\": {\"log_eval\": 0.011601950309348758}, \"context_stratum\": null}, \"34_0\": {\"name\": \"34_0\", \"parameters\": {\"lr\": 0.002438642927999432, \"decay\": 0.0025012259718864807, \"epochs\": 13}, \"y\": {\"log_eval\": 3.7753964281598127}, \"y_hat\": {\"log_eval\": 3.772410267049561}, \"se\": {\"log_eval\": 0.01378966104735636}, \"se_hat\": {\"log_eval\": 0.011381358238325735}, \"context_stratum\": null}, \"35_0\": {\"name\": \"35_0\", \"parameters\": {\"lr\": 0.0012440216784983, \"decay\": 0.0021844963220914236, \"epochs\": 12}, \"y\": {\"log_eval\": 3.7413698075164628}, \"y_hat\": {\"log_eval\": 3.7387190545050606}, \"se\": {\"log_eval\": 0.014083385187818898}, \"se_hat\": {\"log_eval\": 0.01350470829525208}, \"context_stratum\": null}, \"36_0\": {\"name\": \"36_0\", \"parameters\": {\"lr\": 0.006013150355723934, \"decay\": 0.0028060288008963583, \"epochs\": 13}, \"y\": {\"log_eval\": 3.6150758151607834}, \"y_hat\": {\"log_eval\": 3.618914966517588}, \"se\": {\"log_eval\": 0.015453840004871315}, \"se_hat\": {\"log_eval\": 0.0140643514660533}, \"context_stratum\": null}, \"37_0\": {\"name\": \"37_0\", \"parameters\": {\"lr\": 0.002683255708419544, \"decay\": 0.001773505945887894, \"epochs\": 11}, \"y\": {\"log_eval\": 3.7520486847518906}, \"y_hat\": {\"log_eval\": 3.7499578074845097}, \"se\": {\"log_eval\": 0.01399213810252053}, \"se_hat\": {\"log_eval\": 0.012124203810283184}, \"context_stratum\": null}, \"38_0\": {\"name\": \"38_0\", \"parameters\": {\"lr\": 0.002245383380378057, \"decay\": 0.0017013206868280336, \"epochs\": 12}, \"y\": {\"log_eval\": 3.755761428899229}, \"y_hat\": {\"log_eval\": 3.754340989915688}, \"se\": {\"log_eval\": 0.014218662641979468}, \"se_hat\": {\"log_eval\": 0.013118753742769803}, \"context_stratum\": null}, \"39_0\": {\"name\": \"39_0\", \"parameters\": {\"lr\": 0.002593592510211966, \"decay\": 0.0035303285210389617, \"epochs\": 14}, \"y\": {\"log_eval\": 3.7421739782912526}, \"y_hat\": {\"log_eval\": 3.7406194259320174}, \"se\": {\"log_eval\": 0.014377097617243583}, \"se_hat\": {\"log_eval\": 0.013461784144573309}, \"context_stratum\": null}, \"40_0\": {\"name\": \"40_0\", \"parameters\": {\"lr\": 0.0034429988535537165, \"decay\": 0.0012532430884026151, \"epochs\": 10}, \"y\": {\"log_eval\": 3.7417956537138988}, \"y_hat\": {\"log_eval\": 3.7371519130691517}, \"se\": {\"log_eval\": 0.014258964679359816}, \"se_hat\": {\"log_eval\": 0.011436052084491817}, \"context_stratum\": null}, \"41_0\": {\"name\": \"41_0\", \"parameters\": {\"lr\": 0.004597064302145103, \"decay\": 0.00129254493547221, \"epochs\": 8}, \"y\": {\"log_eval\": 3.757479496258855}, \"y_hat\": {\"log_eval\": 3.766387300339841}, \"se\": {\"log_eval\": 0.014053111515588359}, \"se_hat\": {\"log_eval\": 0.011891977703225547}, \"context_stratum\": null}, \"42_0\": {\"name\": \"42_0\", \"parameters\": {\"lr\": 0.0026063679668893846, \"decay\": 0.002122253915865578, \"epochs\": 16}, \"y\": {\"log_eval\": 3.757916169016624}, \"y_hat\": {\"log_eval\": 3.7559253500727543}, \"se\": {\"log_eval\": 0.014730960126280057}, \"se_hat\": {\"log_eval\": 0.013404242400849345}, \"context_stratum\": null}, \"43_0\": {\"name\": \"43_0\", \"parameters\": {\"lr\": 0.002160904220770353, \"decay\": 0.0025059118846846645, \"epochs\": 15}, \"y\": {\"log_eval\": 3.75143525026534}, \"y_hat\": {\"log_eval\": 3.751934603531285}, \"se\": {\"log_eval\": 0.013662134405389298}, \"se_hat\": {\"log_eval\": 0.012494355118503489}, \"context_stratum\": null}, \"44_0\": {\"name\": \"44_0\", \"parameters\": {\"lr\": 0.0027091769723221605, \"decay\": 0.001036927347367017, \"epochs\": 7}, \"y\": {\"log_eval\": 3.719411377631989}, \"y_hat\": {\"log_eval\": 3.7253706920599945}, \"se\": {\"log_eval\": 0.01496588906662695}, \"se_hat\": {\"log_eval\": 0.013797301768863656}, \"context_stratum\": null}, \"45_0\": {\"name\": \"45_0\", \"parameters\": {\"lr\": 0.0007273873451560561, \"decay\": 0.007323840961065265, \"epochs\": 17}, \"y\": {\"log_eval\": 3.754299748803738}, \"y_hat\": {\"log_eval\": 3.7528722868349003}, \"se\": {\"log_eval\": 0.013609352138377937}, \"se_hat\": {\"log_eval\": 0.012921948528290697}, \"context_stratum\": null}, \"46_0\": {\"name\": \"46_0\", \"parameters\": {\"lr\": 0.0030079183198763126, \"decay\": 0.0014661394936190625, \"epochs\": 12}, \"y\": {\"log_eval\": 3.721725149736247}, \"y_hat\": {\"log_eval\": 3.7328738156917654}, \"se\": {\"log_eval\": 0.015507392797992183}, \"se_hat\": {\"log_eval\": 0.013119477714442775}, \"context_stratum\": null}, \"47_0\": {\"name\": \"47_0\", \"parameters\": {\"lr\": 0.0027302036324266493, \"decay\": 0.002615729671691876, \"epochs\": 10}, \"y\": {\"log_eval\": 3.806544404335847}, \"y_hat\": {\"log_eval\": 3.78580567872205}, \"se\": {\"log_eval\": 0.013373452148722405}, \"se_hat\": {\"log_eval\": 0.009072998289589159}, \"context_stratum\": null}, \"48_0\": {\"name\": \"48_0\", \"parameters\": {\"lr\": 0.0025249974010564885, \"decay\": 0.0025410187000322456, \"epochs\": 8}, \"y\": {\"log_eval\": 3.7647383412281084}, \"y_hat\": {\"log_eval\": 3.7680305507197405}, \"se\": {\"log_eval\": 0.013665101877774801}, \"se_hat\": {\"log_eval\": 0.01184385283999218}, \"context_stratum\": null}, \"49_0\": {\"name\": \"49_0\", \"parameters\": {\"lr\": 0.002818156640431079, \"decay\": 0.002693597623753263, \"epochs\": 12}, \"y\": {\"log_eval\": 3.7557171367622133}, \"y_hat\": {\"log_eval\": 3.7701429412693934}, \"se\": {\"log_eval\": 0.014307632338815848}, \"se_hat\": {\"log_eval\": 0.011196012058338374}, \"context_stratum\": null}, \"50_0\": {\"name\": \"50_0\", \"parameters\": {\"lr\": 0.0029062328771851335, \"decay\": 0.002520316199161385, \"epochs\": 8}, \"y\": {\"log_eval\": 3.793516557225751}, \"y_hat\": {\"log_eval\": 3.7794067529533057}, \"se\": {\"log_eval\": 0.013679930847354123}, \"se_hat\": {\"log_eval\": 0.010766423849543575}, \"context_stratum\": null}, \"51_0\": {\"name\": \"51_0\", \"parameters\": {\"lr\": 0.0028739319116947606, \"decay\": 0.0031450826461652663, \"epochs\": 8}, \"y\": {\"log_eval\": 3.758040877039798}, \"y_hat\": {\"log_eval\": 3.762294248054489}, \"se\": {\"log_eval\": 0.013870163942519297}, \"se_hat\": {\"log_eval\": 0.012508029273839176}, \"context_stratum\": null}, \"52_0\": {\"name\": \"52_0\", \"parameters\": {\"lr\": 0.002788867139708552, \"decay\": 0.002315431049546887, \"epochs\": 9}, \"y\": {\"log_eval\": 3.746788230975897}, \"y_hat\": {\"log_eval\": 3.7687571870493755}, \"se\": {\"log_eval\": 0.014539532660652015}, \"se_hat\": {\"log_eval\": 0.010305417219479942}, \"context_stratum\": null}}, \"out_of_sample\": {}, \"status_quo_name\": null};\n",
       "const arm_name_to_parameters = {\"zero\": {\"lr\": 0.0043, \"decay\": 0.0012, \"epochs\": 0}, \"control1\": {\"lr\": 0.0043, \"decay\": 0.0012, \"epochs\": 5}, \"control2\": {\"lr\": 0.0043, \"decay\": 0.0012, \"epochs\": 10}, \"3_0\": {\"lr\": 0.006719886554586096, \"decay\": 0.0025712614367976697, \"epochs\": 17}, \"4_0\": {\"lr\": 0.0012230710776559032, \"decay\": 0.0001245490767846484, \"epochs\": 14}, \"5_0\": {\"lr\": 0.00015703189811414284, \"decay\": 0.004250773039859609, \"epochs\": 6}, \"6_0\": {\"lr\": 0.00027734698125494284, \"decay\": 0.00024503393137916316, \"epochs\": 19}, \"7_0\": {\"lr\": 0.00215089431162011, \"decay\": 0.007181061645086981, \"epochs\": 2}, \"8_0\": {\"lr\": 0.003669268451658114, \"decay\": 0.0004685768597399909, \"epochs\": 8}, \"9_0\": {\"lr\": 0.0005083524213359429, \"decay\": 0.0011885017054668588, \"epochs\": 11}, \"10_0\": {\"lr\": 0.0003885480703922011, \"decay\": 0.00017572911480920575, \"epochs\": 7}, \"11_0\": {\"lr\": 0.004987883132707978, \"decay\": 0.003342016822981182, \"epochs\": 14}, \"12_0\": {\"lr\": 0.0029168282988909335, \"decay\": 0.0009197168866264231, \"epochs\": 16}, \"13_0\": {\"lr\": 0.00021152642014361876, \"decay\": 0.0020209888929120954, \"epochs\": 3}, \"14_0\": {\"lr\": 0.0001155375773105539, \"decay\": 0.0003570341502470353, \"epochs\": 11}, \"15_0\": {\"lr\": 0.0016000375420588211, \"decay\": 0.001624692156473758, \"epochs\": 9}, \"16_0\": {\"lr\": 0.008811602322531434, \"decay\": 0.000186652607756163, \"epochs\": 1}, \"17_0\": {\"lr\": 0.0006830909901579769, \"decay\": 0.009813793275866853, \"epochs\": 18}, \"18_0\": {\"lr\": 0.0006154371046006404, \"decay\": 0.00021817967393688832, \"epochs\": 15}, \"19_0\": {\"lr\": 0.008526969624032996, \"decay\": 0.008521992697599054, \"epochs\": 7}, \"20_0\": {\"lr\": 0.0014841675115592483, \"decay\": 0.00041652190590026186, \"epochs\": 3}, \"21_0\": {\"lr\": 0.00011512656911212999, \"decay\": 0.0014096383116111051, \"epochs\": 15}, \"22_0\": {\"lr\": 0.00019974886922630847, \"decay\": 0.0007873981650974259, \"epochs\": 10}, \"23_0\": {\"lr\": 0.003125001755326415, \"decay\": 0.002214232914119949, \"epochs\": 12}, \"24_0\": {\"lr\": 0.006628480497069864, \"decay\": 0.0016183755027265353, \"epochs\": 11}, \"25_0\": {\"lr\": 0.004157984233597562, \"decay\": 0.0037367267717074706, \"epochs\": 9}, \"26_0\": {\"lr\": 0.003984743419781169, \"decay\": 0.0012914146741416816, \"epochs\": 13}, \"27_0\": {\"lr\": 0.0044755527574204075, \"decay\": 0.0008770153419057366, \"epochs\": 8}, \"28_0\": {\"lr\": 0.0032933923143772794, \"decay\": 0.0008111133357022278, \"epochs\": 10}, \"29_0\": {\"lr\": 0.004072644764672069, \"decay\": 0.002303923665865714, \"epochs\": 11}, \"30_0\": {\"lr\": 0.005617095681160452, \"decay\": 0.001755380644007118, \"epochs\": 10}, \"31_0\": {\"lr\": 0.004289613569715087, \"decay\": 0.0008474777542033326, \"epochs\": 10}, \"32_0\": {\"lr\": 0.002904618553551574, \"decay\": 0.0012288470288522085, \"epochs\": 10}, \"33_0\": {\"lr\": 0.0037889689157116543, \"decay\": 0.0012146824301619034, \"epochs\": 9}, \"34_0\": {\"lr\": 0.002438642927999432, \"decay\": 0.0025012259718864807, \"epochs\": 13}, \"35_0\": {\"lr\": 0.0012440216784983, \"decay\": 0.0021844963220914236, \"epochs\": 12}, \"36_0\": {\"lr\": 0.006013150355723934, \"decay\": 0.0028060288008963583, \"epochs\": 13}, \"37_0\": {\"lr\": 0.002683255708419544, \"decay\": 0.001773505945887894, \"epochs\": 11}, \"38_0\": {\"lr\": 0.002245383380378057, \"decay\": 0.0017013206868280336, \"epochs\": 12}, \"39_0\": {\"lr\": 0.002593592510211966, \"decay\": 0.0035303285210389617, \"epochs\": 14}, \"40_0\": {\"lr\": 0.0034429988535537165, \"decay\": 0.0012532430884026151, \"epochs\": 10}, \"41_0\": {\"lr\": 0.004597064302145103, \"decay\": 0.00129254493547221, \"epochs\": 8}, \"42_0\": {\"lr\": 0.0026063679668893846, \"decay\": 0.002122253915865578, \"epochs\": 16}, \"43_0\": {\"lr\": 0.002160904220770353, \"decay\": 0.0025059118846846645, \"epochs\": 15}, \"44_0\": {\"lr\": 0.0027091769723221605, \"decay\": 0.001036927347367017, \"epochs\": 7}, \"45_0\": {\"lr\": 0.0007273873451560561, \"decay\": 0.007323840961065265, \"epochs\": 17}, \"46_0\": {\"lr\": 0.0030079183198763126, \"decay\": 0.0014661394936190625, \"epochs\": 12}, \"47_0\": {\"lr\": 0.0027302036324266493, \"decay\": 0.002615729671691876, \"epochs\": 10}, \"48_0\": {\"lr\": 0.0025249974010564885, \"decay\": 0.0025410187000322456, \"epochs\": 8}, \"49_0\": {\"lr\": 0.002818156640431079, \"decay\": 0.002693597623753263, \"epochs\": 12}, \"50_0\": {\"lr\": 0.0029062328771851335, \"decay\": 0.002520316199161385, \"epochs\": 8}, \"51_0\": {\"lr\": 0.0028739319116947606, \"decay\": 0.0031450826461652663, \"epochs\": 8}, \"52_0\": {\"lr\": 0.002788867139708552, \"decay\": 0.002315431049546887, \"epochs\": 9}};\n",
       "const f = [3.7108746555412466, 3.7127159850446003, 3.7146792075831865, 3.716759019193393, 3.7189478241980725, 3.7212354892071247, 3.7236091097021835, 3.7260528094237495, 3.7285476025156528, 3.7310713609153394, 3.7335989447990148, 3.7361025712135207, 3.7385525129453954, 3.7409182306374675, 3.7431700349180326, 3.7452813312630395, 3.7472313850462107, 3.7490083138886927, 3.7506116383387766, 3.7520532531390134, 3.7533553792086236, 3.7545444527429006, 3.7556415193324977, 3.7566521751197017, 3.7575605374413894, 3.758330122314336, 3.758910796219071, 3.7592485676547898, 3.759295376162793, 3.759017584331207, 3.7584023980602628, 3.7574604069352975, 3.756222403107753, 3.754731790917714, 3.7530363631683743, 3.7511820984599926, 3.749209595824148, 3.74715272061753, 3.745038769393029, 3.742889497042214, 3.740722473682026, 3.738552387651375, 3.7363920670936976, 3.7342531386683597, 3.732146353611864, 3.7300816719057286, 3.7280682075083655, 3.7261141194001777, 3.724226504451202, 3.722411321808039];\n",
       "const fit_data = [{\"metric_name\": \"log_eval\", \"arm_name\": \"zero\", \"mean\": 3.6364354875574563, \"sem\": 0.012499465460930299}, {\"metric_name\": \"log_eval\", \"arm_name\": \"control1\", \"mean\": 3.7673388703466384, \"sem\": 0.014437295783778344}, {\"metric_name\": \"log_eval\", \"arm_name\": \"control2\", \"mean\": 3.7939481165991658, \"sem\": 0.013743965355831913}, {\"metric_name\": \"log_eval\", \"arm_name\": \"3_0\", \"mean\": 3.527757963786043, \"sem\": 0.014116282037991347}, {\"metric_name\": \"log_eval\", \"arm_name\": \"4_0\", \"mean\": 3.722176023563392, \"sem\": 0.013597994240945219}, {\"metric_name\": \"log_eval\", \"arm_name\": \"5_0\", \"mean\": 3.6558885974799313, \"sem\": 0.013725262026368666}, {\"metric_name\": \"log_eval\", \"arm_name\": \"6_0\", \"mean\": 3.719795690263471, \"sem\": 0.01372692960075821}, {\"metric_name\": \"log_eval\", \"arm_name\": \"7_0\", \"mean\": 3.671565328964881, \"sem\": 0.01338050680982233}, {\"metric_name\": \"log_eval\", \"arm_name\": \"8_0\", \"mean\": 3.7542075598642723, \"sem\": 0.014385970424389254}, {\"metric_name\": \"log_eval\", \"arm_name\": \"9_0\", \"mean\": 3.726350753855546, \"sem\": 0.013545580006328673}, {\"metric_name\": \"log_eval\", \"arm_name\": \"10_0\", \"mean\": 3.7153679485655404, \"sem\": 0.01367508917825613}, {\"metric_name\": \"log_eval\", \"arm_name\": \"11_0\", \"mean\": 3.739543115591369, \"sem\": 0.013307203954322175}, {\"metric_name\": \"log_eval\", \"arm_name\": \"12_0\", \"mean\": 3.7186711581894665, \"sem\": 0.014621965136108576}, {\"metric_name\": \"log_eval\", \"arm_name\": \"13_0\", \"mean\": 3.637905015076654, \"sem\": 0.013740333364859962}, {\"metric_name\": \"log_eval\", \"arm_name\": \"14_0\", \"mean\": 3.6822407278316125, \"sem\": 0.014285217675939405}, {\"metric_name\": \"log_eval\", \"arm_name\": \"15_0\", \"mean\": 3.7320861684920095, \"sem\": 0.013587405327005645}, {\"metric_name\": \"log_eval\", \"arm_name\": \"16_0\", \"mean\": 3.623308265882121, \"sem\": 0.013759945135539384}, {\"metric_name\": \"log_eval\", \"arm_name\": \"17_0\", \"mean\": 3.7734218690082773, \"sem\": 0.01308537161098173}, {\"metric_name\": \"log_eval\", \"arm_name\": \"18_0\", \"mean\": 3.7161815713771076, \"sem\": 0.013834489994739026}, {\"metric_name\": \"log_eval\", \"arm_name\": \"19_0\", \"mean\": 3.7285276912274417, \"sem\": 0.014692332587479444}, {\"metric_name\": \"log_eval\", \"arm_name\": \"20_0\", \"mean\": 3.6855800109935606, \"sem\": 0.013729222131008707}, {\"metric_name\": \"log_eval\", \"arm_name\": \"21_0\", \"mean\": 3.6581693321691544, \"sem\": 0.013997324779328489}, {\"metric_name\": \"log_eval\", \"arm_name\": \"22_0\", \"mean\": 3.684627012793348, \"sem\": 0.013979450458607046}, {\"metric_name\": \"log_eval\", \"arm_name\": \"23_0\", \"mean\": 3.7609092352184548, \"sem\": 0.014213144014545473}, {\"metric_name\": \"log_eval\", \"arm_name\": \"24_0\", \"mean\": 3.6533227231721748, \"sem\": 0.015128695054896762}, {\"metric_name\": \"log_eval\", \"arm_name\": \"25_0\", \"mean\": 3.7380021459939643, \"sem\": 0.014504551146615285}, {\"metric_name\": \"log_eval\", \"arm_name\": \"26_0\", \"mean\": 3.733347238741463, \"sem\": 0.014264735317497002}, {\"metric_name\": \"log_eval\", \"arm_name\": \"27_0\", \"mean\": 3.7264986324022074, \"sem\": 0.014864291049449387}, {\"metric_name\": \"log_eval\", \"arm_name\": \"28_0\", \"mean\": 3.7384567502927153, \"sem\": 0.014787002850622144}, {\"metric_name\": \"log_eval\", \"arm_name\": \"29_0\", \"mean\": 3.674461006874313, \"sem\": 0.01422720213073201}, {\"metric_name\": \"log_eval\", \"arm_name\": \"30_0\", \"mean\": 3.7109245463650287, \"sem\": 0.01473694664096031}, {\"metric_name\": \"log_eval\", \"arm_name\": \"31_0\", \"mean\": 3.711955698556763, \"sem\": 0.014083734764292598}, {\"metric_name\": \"log_eval\", \"arm_name\": \"32_0\", \"mean\": 3.780389147290634, \"sem\": 0.01403801588972026}, {\"metric_name\": \"log_eval\", \"arm_name\": \"33_0\", \"mean\": 3.7206715524645038, \"sem\": 0.01520847912775745}, {\"metric_name\": \"log_eval\", \"arm_name\": \"34_0\", \"mean\": 3.7753964281598127, \"sem\": 0.01378966104735636}, {\"metric_name\": \"log_eval\", \"arm_name\": \"35_0\", \"mean\": 3.7413698075164628, \"sem\": 0.014083385187818898}, {\"metric_name\": \"log_eval\", \"arm_name\": \"36_0\", \"mean\": 3.6150758151607834, \"sem\": 0.015453840004871315}, {\"metric_name\": \"log_eval\", \"arm_name\": \"37_0\", \"mean\": 3.7520486847518906, \"sem\": 0.01399213810252053}, {\"metric_name\": \"log_eval\", \"arm_name\": \"38_0\", \"mean\": 3.755761428899229, \"sem\": 0.014218662641979468}, {\"metric_name\": \"log_eval\", \"arm_name\": \"39_0\", \"mean\": 3.7421739782912526, \"sem\": 0.014377097617243583}, {\"metric_name\": \"log_eval\", \"arm_name\": \"40_0\", \"mean\": 3.7417956537138988, \"sem\": 0.014258964679359816}, {\"metric_name\": \"log_eval\", \"arm_name\": \"41_0\", \"mean\": 3.757479496258855, \"sem\": 0.014053111515588359}, {\"metric_name\": \"log_eval\", \"arm_name\": \"42_0\", \"mean\": 3.757916169016624, \"sem\": 0.014730960126280057}, {\"metric_name\": \"log_eval\", \"arm_name\": \"43_0\", \"mean\": 3.75143525026534, \"sem\": 0.013662134405389298}, {\"metric_name\": \"log_eval\", \"arm_name\": \"44_0\", \"mean\": 3.719411377631989, \"sem\": 0.01496588906662695}, {\"metric_name\": \"log_eval\", \"arm_name\": \"45_0\", \"mean\": 3.754299748803738, \"sem\": 0.013609352138377937}, {\"metric_name\": \"log_eval\", \"arm_name\": \"46_0\", \"mean\": 3.721725149736247, \"sem\": 0.015507392797992183}, {\"metric_name\": \"log_eval\", \"arm_name\": \"47_0\", \"mean\": 3.806544404335847, \"sem\": 0.013373452148722405}, {\"metric_name\": \"log_eval\", \"arm_name\": \"48_0\", \"mean\": 3.7647383412281084, \"sem\": 0.013665101877774801}, {\"metric_name\": \"log_eval\", \"arm_name\": \"49_0\", \"mean\": 3.7557171367622133, \"sem\": 0.014307632338815848}, {\"metric_name\": \"log_eval\", \"arm_name\": \"50_0\", \"mean\": 3.793516557225751, \"sem\": 0.013679930847354123}, {\"metric_name\": \"log_eval\", \"arm_name\": \"51_0\", \"mean\": 3.758040877039798, \"sem\": 0.013870163942519297}, {\"metric_name\": \"log_eval\", \"arm_name\": \"52_0\", \"mean\": 3.746788230975897, \"sem\": 0.014539532660652015}];\n",
       "const grid = [0.0, 0.40816326530612246, 0.8163265306122449, 1.2244897959183674, 1.6326530612244898, 2.0408163265306123, 2.4489795918367347, 2.857142857142857, 3.2653061224489797, 3.673469387755102, 4.081632653061225, 4.4897959183673475, 4.8979591836734695, 5.3061224489795915, 5.714285714285714, 6.122448979591837, 6.530612244897959, 6.938775510204081, 7.346938775510204, 7.755102040816327, 8.16326530612245, 8.571428571428571, 8.979591836734695, 9.387755102040817, 9.795918367346939, 10.204081632653061, 10.612244897959183, 11.020408163265307, 11.428571428571429, 11.83673469387755, 12.244897959183675, 12.653061224489797, 13.061224489795919, 13.46938775510204, 13.877551020408163, 14.285714285714286, 14.693877551020408, 15.10204081632653, 15.510204081632654, 15.918367346938776, 16.3265306122449, 16.73469387755102, 17.142857142857142, 17.551020408163264, 17.95918367346939, 18.367346938775512, 18.775510204081634, 19.183673469387756, 19.591836734693878, 20.0];\n",
       "const metric = \"log_eval\";\n",
       "const param = \"epochs\";\n",
       "const rel = false;\n",
       "const setx = {\"lr\": 0.0029757114402977477, \"decay\": 0.0021632499280336364, \"epochs\": 10};\n",
       "const sd = [0.04660388247177248, 0.04604153287585518, 0.045397549844057236, 0.04466374891901052, 0.04383209853645453, 0.042895031167475894, 0.04184583377017001, 0.040679126800339915, 0.039391439239678847, 0.03798188321502062, 0.036452924381353, 0.03481123104353268, 0.03306856249246302, 0.031242620259284662, 0.029357728959080613, 0.02744513161783634, 0.025542581967178894, 0.02369282041367582, 0.021940502395607697, 0.020327334909661175, 0.01888572385303775, 0.01763222255845928, 0.01656331736533934, 0.015656862253326465, 0.014881495274675026, 0.014212988237312377, 0.013652297385737694, 0.013237418189541389, 0.01304028318925287, 0.0131423366962296, 0.013594592065139098, 0.014387454272753382, 0.015454694379125753, 0.01670461330510049, 0.01805177352663782, 0.019434392416703517, 0.020818344805874838, 0.02219336650875664, 0.023565686844843677, 0.024949608666280636, 0.02635975662946747, 0.027805308757860643, 0.029286973331426623, 0.030796703952318535, 0.03231945253454524, 0.03383593884754952, 0.0353255101089925, 0.036768496776754776, 0.03814782543571295, 0.03944990207639961];\n",
       "const is_log = false;\n",
       "\n",
       "// format data\n",
       "const res = relativize_data(f, sd, rel, arm_data, metric);\n",
       "const f_final = res[0];\n",
       "const sd_final = res[1];\n",
       "\n",
       "// get data for standard deviation fill plot\n",
       "const sd_upper = [];\n",
       "const sd_lower = [];\n",
       "for (let i = 0; i < sd.length; i++) {\n",
       "  sd_upper.push(f_final[i] + 2 * sd_final[i]);\n",
       "  sd_lower.push(f_final[i] - 2 * sd_final[i]);\n",
       "}\n",
       "const grid_rev = copy_and_reverse(grid);\n",
       "const sd_lower_rev = copy_and_reverse(sd_lower);\n",
       "const sd_x = grid.concat(grid_rev);\n",
       "const sd_y = sd_upper.concat(sd_lower_rev);\n",
       "\n",
       "// get data for observed arms and error bars\n",
       "const arm_x = [];\n",
       "const arm_y = [];\n",
       "const arm_sem = [];\n",
       "fit_data.forEach(row => {\n",
       "    parameters = arm_name_to_parameters[row[\"arm_name\"]];\n",
       "    plot = true;\n",
       "    Object.keys(setx).forEach(p => {\n",
       "      if (p !== param && parameters[p] !== setx[p]) {\n",
       "        plot = false;\n",
       "      }\n",
       "    });\n",
       "    if (plot === true) {\n",
       "        arm_x.push(parameters[param]);\n",
       "        arm_y.push(row[\"mean\"]);\n",
       "        arm_sem.push(row[\"sem\"]);\n",
       "    }\n",
       "});\n",
       "\n",
       "const arm_res = relativize_data(\n",
       "  arm_y, arm_sem, rel, arm_data, metric\n",
       ");\n",
       "const arm_y_final = arm_res[0];\n",
       "const arm_sem_final = arm_res[1].map(x => x * 2);\n",
       "\n",
       "// create traces\n",
       "const f_trace = {\n",
       "  x: grid,\n",
       "  y: f_final,\n",
       "  showlegend: false,\n",
       "  hoverinfo: 'x+y',\n",
       "  line: {\n",
       "    color: 'rgba(128, 177, 211, 1)',\n",
       "  },\n",
       "};\n",
       "\n",
       "const arms_trace = {\n",
       "  x: arm_x,\n",
       "  y: arm_y_final,\n",
       "  mode: 'markers',\n",
       "  error_y: {\n",
       "    type: 'data',\n",
       "    array: arm_sem_final,\n",
       "    visible: true,\n",
       "    color: 'black',\n",
       "  },\n",
       "  line: {\n",
       "    color: 'black',\n",
       "  },\n",
       "  showlegend: false,\n",
       "  hoverinfo: 'x+y',\n",
       "};\n",
       "\n",
       "const sd_trace = {\n",
       "    x: sd_x,\n",
       "    y: sd_y,\n",
       "    fill: 'toself',\n",
       "    fillcolor: 'rgba(128, 177, 211, 0.2)',\n",
       "    line: {\n",
       "      color: 'transparent',\n",
       "    },\n",
       "    showlegend: false,\n",
       "    hoverinfo: 'none',\n",
       "};\n",
       "\n",
       "traces = [\n",
       "  sd_trace,\n",
       "  f_trace,\n",
       "  arms_trace,\n",
       "];\n",
       "\n",
       "// iterate over out-of-sample arms\n",
       "let i = 1;\n",
       "Object.keys(arm_data['out_of_sample']).forEach(generator_run_name => {\n",
       "  const ax = [];\n",
       "  const ay = [];\n",
       "  const asem = [];\n",
       "  const atext = [];\n",
       "\n",
       "  Object.keys(arm_data['out_of_sample'][generator_run_name]).forEach(arm_name => {\n",
       "    const parameters = arm_data[\n",
       "      'out_of_sample'][generator_run_name][arm_name]['parameters'];\n",
       "    plot = true;\n",
       "    Object.keys(setx).forEach(p => {\n",
       "      if (p !== param && parameters[p] !== setx[p]) {\n",
       "        plot = false;\n",
       "      }\n",
       "    });\n",
       "    if (plot === true) {\n",
       "      ax.push(parameters[param]);\n",
       "      ay.push(\n",
       "        arm_data['out_of_sample'][generator_run_name][arm_name]['y_hat'][metric]\n",
       "      );\n",
       "      asem.push(\n",
       "        arm_data['out_of_sample'][generator_run_name][arm_name]['se_hat'][metric]\n",
       "      );\n",
       "      atext.push('<em>Candidate ' + arm_name + '</em>');\n",
       "    }\n",
       "  });\n",
       "\n",
       "  const out_of_sample_arm_res = relativize_data(\n",
       "    ay, asem, rel, arm_data, metric\n",
       "  );\n",
       "  const ay_final = out_of_sample_arm_res[0];\n",
       "  const asem_final = out_of_sample_arm_res[1].map(x => x * 2);\n",
       "\n",
       "  traces.push({\n",
       "    hoverinfo: 'text',\n",
       "    legendgroup: generator_run_name,\n",
       "    marker: {color: 'black', symbol: i, opacity: 0.5},\n",
       "    mode: 'markers',\n",
       "    error_y: {\n",
       "      type: 'data',\n",
       "      array: asem_final,\n",
       "      visible: true,\n",
       "      color: 'black',\n",
       "    },\n",
       "    name: generator_run_name,\n",
       "    text: atext,\n",
       "    type: 'scatter',\n",
       "    xaxis: 'x',\n",
       "    x: ax,\n",
       "    yaxis: 'y',\n",
       "    y: ay_final,\n",
       "  });\n",
       "\n",
       "  i += 1;\n",
       "});\n",
       "\n",
       "// layout\n",
       "const xrange = axis_range(grid, is_log);\n",
       "const xtype = is_log ? 'log' : 'linear';\n",
       "\n",
       "layout = {\n",
       "  hovermode: 'closest',\n",
       "  xaxis: {\n",
       "    anchor: 'y',\n",
       "    autorange: false,\n",
       "    exponentformat: 'e',\n",
       "    range: xrange,\n",
       "    tickfont: {size: 11},\n",
       "    tickmode: 'auto',\n",
       "    title: param,\n",
       "    type: xtype,\n",
       "  },\n",
       "  yaxis: {\n",
       "    anchor: 'x',\n",
       "    tickfont: {size: 11},\n",
       "    tickmode: 'auto',\n",
       "    title: metric,\n",
       "  },\n",
       "};\n",
       "\n",
       "Plotly.newPlot(\n",
       "    \"80274939c09b47b1933d0bdee60b8838\",\n",
       "    traces,\n",
       "    layout,\n",
       "    {showLink: false},\n",
       ");\n",
       "});</script>"
      ]
     },
     "metadata": {},
     "output_type": "display_data"
    }
   ],
   "source": [
    "render(plot_slice(model=gpei, param_name='epochs', metric_name='log_eval'))"
   ]
  },
  {
   "cell_type": "code",
   "execution_count": 29,
   "metadata": {},
   "outputs": [
    {
     "name": "stderr",
     "output_type": "stream",
     "text": [
      "100%|██████████| 10/10 [00:16<00:00,  1.69s/it]\n"
     ]
    },
    {
     "name": "stdout",
     "output_type": "stream",
     "text": [
      "3.789 / 0.014\n"
     ]
    },
    {
     "data": {
      "text/plain": [
       "<ax.core.data.Data at 0x7efde00904a8>"
      ]
     },
     "execution_count": 29,
     "metadata": {},
     "output_type": "execute_result"
    }
   ],
   "source": [
    "exp.new_trial().add_arm(Arm(name=\"best\",parameters={'lr': 0.0027, 'decay': 0.0026, 'epochs': 10}))\n",
    "exp.trials[53].fetch_data()"
   ]
  },
  {
   "cell_type": "markdown",
   "metadata": {},
   "source": [
    "Original parameters still seem better. Will keep with that: epochs=>10, lr=>0.0043, decay=0.0012"
   ]
  }
 ],
 "metadata": {
  "kernelspec": {
   "display_name": "Python 3",
   "language": "python",
   "name": "python3"
  },
  "language_info": {
   "codemirror_mode": {
    "name": "ipython",
    "version": 3
   },
   "file_extension": ".py",
   "mimetype": "text/x-python",
   "name": "python",
   "nbconvert_exporter": "python",
   "pygments_lexer": "ipython3",
   "version": "3.7.2"
  },
  "pycharm": {
   "stem_cell": {
    "cell_type": "raw",
    "metadata": {
     "collapsed": false
    },
    "source": []
   }
  }
 },
 "nbformat": 4,
 "nbformat_minor": 1
}
