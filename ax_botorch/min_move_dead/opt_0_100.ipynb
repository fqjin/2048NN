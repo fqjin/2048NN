{
 "cells": [
  {
   "cell_type": "markdown",
   "metadata": {
    "collapsed": true,
    "pycharm": {
     "name": "#%% md\n"
    }
   },
   "source": [
    "# Fine tune on games 60-80"
   ]
  },
  {
   "cell_type": "code",
   "execution_count": 1,
   "metadata": {
    "pycharm": {
     "is_executing": false,
     "name": "#%%\n"
    },
    "scrolled": true
   },
   "outputs": [
    {
     "data": {
      "text/html": [
       "<script type='text/javascript'>/*\n",
       " * Copyright (c) Facebook, Inc. and its affiliates. All Rights Reserved.\n",
       " */\n",
       "\n",
       "requirejs.config({\n",
       "  paths: {\n",
       "    plotly: ['https://cdn.plot.ly/plotly-latest.min'],\n",
       "  },\n",
       "});\n",
       "if (!window.Plotly) {\n",
       "  require(['plotly'], function(plotly) {\n",
       "    window.Plotly = plotly;\n",
       "  });\n",
       "}\n",
       "/*\n",
       " * Copyright (c) Facebook, Inc. and its affiliates. All Rights Reserved.\n",
       " */\n",
       "\n",
       "// helper functions used across multiple plots\n",
       "function rgb(rgb_array) {\n",
       "  return 'rgb(' + rgb_array.join() + ')';\n",
       "}\n",
       "\n",
       "function copy_and_reverse(arr) {\n",
       "  const copy = arr.slice();\n",
       "  copy.reverse();\n",
       "  return copy;\n",
       "}\n",
       "\n",
       "function axis_range(grid, is_log) {\n",
       "  return is_log ?\n",
       "    [Math.log10(Math.min(...grid)), Math.log10(Math.max(...grid))]:\n",
       "    [Math.min(...grid), Math.max(...grid)];\n",
       "}\n",
       "\n",
       "function relativize_data(f, sd, rel, arm_data, metric) {\n",
       "  // if relative, extract status quo & compute ratio\n",
       "  const f_final = rel === true ? [] : f;\n",
       "  const sd_final = rel === true ? []: sd;\n",
       "\n",
       "  if (rel === true) {\n",
       "    const f_sq = (\n",
       "      arm_data['in_sample'][arm_data['status_quo_name']]['y'][metric]\n",
       "    );\n",
       "    const sd_sq = (\n",
       "      arm_data['in_sample'][arm_data['status_quo_name']]['se'][metric]\n",
       "    );\n",
       "\n",
       "    for (let i = 0; i < f.length; i++) {\n",
       "      res = relativize(f[i], sd[i], f_sq, sd_sq);\n",
       "      f_final.push(100 * res[0]);\n",
       "      sd_final.push(100 * res[1]);\n",
       "    }\n",
       "  }\n",
       "\n",
       "  return [f_final, sd_final];\n",
       "}\n",
       "\n",
       "function relativize(m_t, sem_t, m_c, sem_c) {\n",
       "  r_hat = (\n",
       "    (m_t - m_c) / Math.abs(m_c) -\n",
       "    Math.pow(sem_c, 2) * m_t / Math.pow(Math.abs(m_c), 3)\n",
       "  );\n",
       "  variance = (\n",
       "    (Math.pow(sem_t, 2) + Math.pow((m_t / m_c * sem_c), 2)) /\n",
       "    Math.pow(m_c, 2)\n",
       "   )\n",
       "   return [r_hat, Math.sqrt(variance)];\n",
       "}\n",
       "</script>"
      ]
     },
     "metadata": {},
     "output_type": "display_data"
    },
    {
     "name": "stderr",
     "output_type": "stream",
     "text": [
      "[INFO 08-09 07:43:19] ipy_plotting: Injecting Plotly library into cell. Do not overwrite or delete cell.\n"
     ]
    }
   ],
   "source": [
    "import numpy as np\n",
    "# import pandas as pd\n",
    "from time import sleep\n",
    "\n",
    "from ax import *\n",
    "\n",
    "from ax.plot.contour import plot_contour\n",
    "from ax.plot.slice import plot_slice\n",
    "from ax.plot.trace import optimization_trace_single_method\n",
    "from ax.utils.notebook.plotting import render, init_notebook_plotting\n",
    "init_notebook_plotting()\n",
    "\n",
    "# import evaluation function defined locally as the\n",
    "# mean logscore of 1000 eval games after training\n",
    "from eval_fn_ax import eval_fn"
   ]
  },
  {
   "cell_type": "markdown",
   "metadata": {
    "pycharm": {
     "name": "#%% md\n"
    }
   },
   "source": [
    "## Define parameters\n",
    "Network parameters\n",
    "* `channels`: Defaults to 16 (256 in paper)\n",
    "* `num_blocks`: Defaults to 6 (19 in paper)\n",
    "* `out_c`: Defaults to 4 (2 in paper). Keep this fixed for now.\n",
    "\n",
    "Training parameters\n",
    "* `lr`: Defaults to 0.1\n",
    "* `decay`: Defaults to 1e-4.\n",
    "* `momentum`: Defaults to 0.9. Keep this fixed for now."
   ]
  },
  {
   "cell_type": "code",
   "execution_count": 2,
   "metadata": {
    "pycharm": {
     "is_executing": false,
     "name": "#%%\n"
    }
   },
   "outputs": [],
   "source": [
    "lr_param = RangeParameter(name=\"lr\", parameter_type=ParameterType.FLOAT,\n",
    "                             lower=1e-3,\n",
    "                             upper=1e-1,\n",
    "                             log_scale=True,\n",
    "                             )\n",
    "dec_param = RangeParameter(name=\"decay\", parameter_type=ParameterType.FLOAT,\n",
    "                             lower=1e-4,\n",
    "                             upper=1e-2,\n",
    "                             log_scale=True,\n",
    "                             )\n",
    "epox_param = RangeParameter(name=\"epochs\", parameter_type=ParameterType.INT,\n",
    "                            lower=20,\n",
    "                            upper=100,\n",
    "                            log_scale=False,\n",
    "                            )\n",
    "search_space = SearchSpace(\n",
    "    parameters=[lr_param, dec_param, epox_param],\n",
    ")"
   ]
  },
  {
   "cell_type": "markdown",
   "metadata": {
    "pycharm": {
     "name": "#%% md\n"
    }
   },
   "source": [
    "## Define experiment and initial arms"
   ]
  },
  {
   "cell_type": "code",
   "execution_count": 3,
   "metadata": {
    "pycharm": {
     "is_executing": false,
     "name": "#%%\n"
    }
   },
   "outputs": [],
   "source": [
    "exp = SimpleExperiment(\n",
    "    name='optimize',\n",
    "    search_space=search_space,\n",
    "    evaluation_function=eval_fn,\n",
    "    objective_name='min_move',\n",
    "    minimize=False,\n",
    ")"
   ]
  },
  {
   "cell_type": "code",
   "execution_count": 4,
   "metadata": {},
   "outputs": [
    {
     "name": "stderr",
     "output_type": "stream",
     "text": [
      "100%|██████████| 69/69 [01:46<00:00,  1.51s/it]\n"
     ]
    },
    {
     "name": "stdout",
     "output_type": "stream",
     "text": [
      "101.4 / 11 sec\n"
     ]
    },
    {
     "data": {
      "text/plain": [
       "<ax.core.data.Data at 0x7f138814c7f0>"
      ]
     },
     "execution_count": 4,
     "metadata": {},
     "output_type": "execute_result"
    }
   ],
   "source": [
    "exp.new_trial().add_arm(Arm(name=\"control\",parameters={'lr': 0.06, 'decay': 2e-3, 'epochs': 70}))\n",
    "exp.trials[0].fetch_data()"
   ]
  },
  {
   "cell_type": "code",
   "execution_count": 5,
   "metadata": {
    "pycharm": {
     "is_executing": false,
     "name": "#%%\n"
    },
    "scrolled": false
   },
   "outputs": [
    {
     "name": "stdout",
     "output_type": "stream",
     "text": [
      "--------------------\n",
      "0 Arm(parameters={'lr': 0.07839425700208687, 'decay': 0.004649107668526686, 'epochs': 71})\n"
     ]
    },
    {
     "name": "stderr",
     "output_type": "stream",
     "text": [
      "100%|██████████| 69/69 [01:46<00:00,  1.58s/it]\n"
     ]
    },
    {
     "name": "stdout",
     "output_type": "stream",
     "text": [
      "64.7 / 8 sec\n",
      "--------------------\n",
      "1 Arm(parameters={'lr': 0.016511722904021142, 'decay': 0.00041288715787430073, 'epochs': 83})\n"
     ]
    },
    {
     "name": "stderr",
     "output_type": "stream",
     "text": [
      "100%|██████████| 81/81 [02:05<00:00,  1.53s/it]\n"
     ]
    },
    {
     "name": "stdout",
     "output_type": "stream",
     "text": [
      "54.5 / 7 sec\n",
      "--------------------\n",
      "2 Arm(parameters={'lr': 0.007976956609636175, 'decay': 0.0028356278671029336, 'epochs': 45})\n"
     ]
    },
    {
     "name": "stderr",
     "output_type": "stream",
     "text": [
      "100%|██████████| 43/43 [01:06<00:00,  1.53s/it]\n"
     ]
    },
    {
     "name": "stdout",
     "output_type": "stream",
     "text": [
      "64.7 / 7 sec\n",
      "--------------------\n",
      "3 Arm(parameters={'lr': 0.003719857998352154, 'decay': 0.0006385193350709473, 'epochs': 61})\n"
     ]
    },
    {
     "name": "stderr",
     "output_type": "stream",
     "text": [
      "100%|██████████| 59/59 [01:31<00:00,  1.54s/it]\n"
     ]
    },
    {
     "name": "stdout",
     "output_type": "stream",
     "text": [
      "61.7 / 8 sec\n",
      "--------------------\n",
      "4 Arm(parameters={'lr': 0.018280684548419125, 'decay': 0.0013376593059985793, 'epochs': 28})\n"
     ]
    },
    {
     "name": "stderr",
     "output_type": "stream",
     "text": [
      "100%|██████████| 27/27 [00:41<00:00,  1.55s/it]\n"
     ]
    },
    {
     "name": "stdout",
     "output_type": "stream",
     "text": [
      "85.8 / 10 sec\n",
      "--------------------\n",
      "5 Arm(parameters={'lr': 0.036598483632419736, 'decay': 0.00012315357925586642, 'epochs': 57})\n"
     ]
    },
    {
     "name": "stderr",
     "output_type": "stream",
     "text": [
      "100%|██████████| 55/55 [01:26<00:00,  1.57s/it]\n"
     ]
    },
    {
     "name": "stdout",
     "output_type": "stream",
     "text": [
      "57.1 / 7 sec\n",
      "--------------------\n",
      "6 Arm(parameters={'lr': 0.0017964235797745013, 'decay': 0.009421615689971193, 'epochs': 94})\n"
     ]
    },
    {
     "name": "stderr",
     "output_type": "stream",
     "text": [
      "100%|██████████| 93/93 [02:24<00:00,  1.55s/it]\n"
     ]
    },
    {
     "name": "stdout",
     "output_type": "stream",
     "text": [
      "62.5 / 8 sec\n",
      "--------------------\n",
      "7 Arm(parameters={'lr': 0.0027460956900874065, 'decay': 0.0005059898389563055, 'epochs': 44})\n"
     ]
    },
    {
     "name": "stderr",
     "output_type": "stream",
     "text": [
      "100%|██████████| 43/43 [01:07<00:00,  1.57s/it]\n"
     ]
    },
    {
     "name": "stdout",
     "output_type": "stream",
     "text": [
      "61.5 / 8 sec\n",
      "--------------------\n",
      "8 Arm(parameters={'lr': 0.0426709388481696, 'decay': 0.002247218136513755, 'epochs': 87})\n"
     ]
    },
    {
     "name": "stderr",
     "output_type": "stream",
     "text": [
      "100%|██████████| 85/85 [02:12<00:00,  1.51s/it]\n"
     ]
    },
    {
     "name": "stdout",
     "output_type": "stream",
     "text": [
      "87.2 / 9 sec\n",
      "--------------------\n",
      "9 Arm(parameters={'lr': 0.02800566925168594, 'decay': 0.0002677039277472593, 'epochs': 78})\n"
     ]
    },
    {
     "name": "stderr",
     "output_type": "stream",
     "text": [
      "100%|██████████| 77/77 [02:00<00:00,  1.57s/it]\n"
     ]
    },
    {
     "name": "stdout",
     "output_type": "stream",
     "text": [
      "58.9 / 7 sec\n"
     ]
    }
   ],
   "source": [
    "sobol = Models.SOBOL(exp.search_space)\n",
    "for i in range(10):\n",
    "    gen = sobol.gen(1)\n",
    "    print('-'*20)\n",
    "    print(i, gen.arms[0])\n",
    "    sleep(1)\n",
    "    trial = exp.new_trial(generator_run=gen)\n",
    "    trial.fetch_data()"
   ]
  },
  {
   "cell_type": "code",
   "execution_count": 6,
   "metadata": {},
   "outputs": [],
   "source": [
    "save(exp, 'opt_0_100.json')"
   ]
  },
  {
   "cell_type": "code",
   "execution_count": 7,
   "metadata": {},
   "outputs": [
    {
     "name": "stdout",
     "output_type": "stream",
     "text": [
      "0: 101.400 {'lr': 0.06, 'decay': 0.002, 'epochs': 70}\n",
      "1: 64.725 {'lr': 0.07839425700208687, 'decay': 0.004649107668526686, 'epochs': 71}\n",
      "2: 54.450 {'lr': 0.016511722904021142, 'decay': 0.00041288715787430073, 'epochs': 83}\n",
      "3: 64.700 {'lr': 0.007976956609636175, 'decay': 0.0028356278671029336, 'epochs': 45}\n",
      "4: 61.675 {'lr': 0.003719857998352154, 'decay': 0.0006385193350709473, 'epochs': 61}\n",
      "5: 85.850 {'lr': 0.018280684548419125, 'decay': 0.0013376593059985793, 'epochs': 28}\n",
      "6: 57.125 {'lr': 0.036598483632419736, 'decay': 0.00012315357925586642, 'epochs': 57}\n",
      "7: 62.500 {'lr': 0.0017964235797745013, 'decay': 0.009421615689971193, 'epochs': 94}\n",
      "8: 61.475 {'lr': 0.0027460956900874065, 'decay': 0.0005059898389563055, 'epochs': 44}\n",
      "9: 87.200 {'lr': 0.0426709388481696, 'decay': 0.002247218136513755, 'epochs': 87}\n",
      "10: 58.850 {'lr': 0.02800566925168594, 'decay': 0.0002677039277472593, 'epochs': 78}\n"
     ]
    }
   ],
   "source": [
    "gpei = Models.GPEI(experiment=exp, data=exp.eval())\n",
    "for i, trial in exp.trials.items():\n",
    "    print('{0}: {1:.3f} {2}'.format(i,\n",
    "        trial.fetch_data().df.at[0, 'mean'],\n",
    "        trial.arm.parameters\n",
    "    ))"
   ]
  },
  {
   "cell_type": "markdown",
   "metadata": {
    "pycharm": {
     "name": "#%% md\n"
    }
   },
   "source": [
    "## Iterative optimization\n",
    "Botorch backend for gaussian process expected improvement (GPEI) bayesian optimization"
   ]
  },
  {
   "cell_type": "code",
   "execution_count": 15,
   "metadata": {
    "pycharm": {
     "is_executing": false,
     "name": "#%%\n"
    },
    "scrolled": false
   },
   "outputs": [
    {
     "name": "stdout",
     "output_type": "stream",
     "text": [
      "----------\n",
      "0 Arm(parameters={'lr': 0.0685188376679517, 'decay': 0.0016482494131049618, 'epochs': 60})\n"
     ]
    },
    {
     "name": "stderr",
     "output_type": "stream",
     "text": [
      "100%|██████████| 59/59 [01:32<00:00,  1.61s/it]\n"
     ]
    },
    {
     "name": "stdout",
     "output_type": "stream",
     "text": [
      "80.5 / 9 sec\n",
      "----------\n",
      "1 Arm(parameters={'lr': 0.0697169377514626, 'decay': 0.001987605498296668, 'epochs': 75})\n"
     ]
    },
    {
     "name": "stderr",
     "output_type": "stream",
     "text": [
      "100%|██████████| 73/73 [01:54<00:00,  1.55s/it]\n"
     ]
    },
    {
     "name": "stdout",
     "output_type": "stream",
     "text": [
      "87.7 / 9 sec\n",
      "----------\n",
      "2 Arm(parameters={'lr': 0.05441266281255867, 'decay': 0.001897592002189751, 'epochs': 73})\n"
     ]
    },
    {
     "name": "stderr",
     "output_type": "stream",
     "text": [
      "100%|██████████| 71/71 [01:51<00:00,  1.59s/it]\n"
     ]
    },
    {
     "name": "stdout",
     "output_type": "stream",
     "text": [
      "74.4 / 9 sec\n",
      "----------\n",
      "3 Arm(parameters={'lr': 0.06593370364780642, 'decay': 0.001681425245434636, 'epochs': 69})\n"
     ]
    },
    {
     "name": "stderr",
     "output_type": "stream",
     "text": [
      "100%|██████████| 67/67 [01:44<00:00,  1.55s/it]\n"
     ]
    },
    {
     "name": "stdout",
     "output_type": "stream",
     "text": [
      "105.0 / 12 sec\n",
      "----------\n",
      "4 Arm(parameters={'lr': 0.0370041853218101, 'decay': 0.0017477292689809694, 'epochs': 69})\n"
     ]
    },
    {
     "name": "stderr",
     "output_type": "stream",
     "text": [
      "100%|██████████| 67/67 [01:45<00:00,  1.56s/it]\n"
     ]
    },
    {
     "name": "stdout",
     "output_type": "stream",
     "text": [
      "96.7 / 11 sec\n",
      "----------\n",
      "5 Arm(parameters={'lr': 0.09938492371943926, 'decay': 0.0015626758209768153, 'epochs': 70})\n"
     ]
    },
    {
     "name": "stderr",
     "output_type": "stream",
     "text": [
      "100%|██████████| 69/69 [01:47<00:00,  1.53s/it]\n"
     ]
    },
    {
     "name": "stdout",
     "output_type": "stream",
     "text": [
      "87.1 / 11 sec\n",
      "----------\n",
      "6 Arm(parameters={'lr': 0.05809303501408004, 'decay': 0.0020319116910216093, 'epochs': 69})\n"
     ]
    },
    {
     "name": "stderr",
     "output_type": "stream",
     "text": [
      "100%|██████████| 67/67 [01:36<00:00,  1.27s/it]\n"
     ]
    },
    {
     "name": "stdout",
     "output_type": "stream",
     "text": [
      "98.5 / 11 sec\n",
      "----------\n",
      "7 Arm(parameters={'lr': 0.06278539344348018, 'decay': 0.0018074309146501322, 'epochs': 68})\n"
     ]
    },
    {
     "name": "stderr",
     "output_type": "stream",
     "text": [
      "100%|██████████| 67/67 [01:29<00:00,  1.52s/it]\n"
     ]
    },
    {
     "name": "stdout",
     "output_type": "stream",
     "text": [
      "98.6 / 11 sec\n",
      "----------\n",
      "8 Arm(parameters={'lr': 0.05581202297348793, 'decay': 0.0014879180519567713, 'epochs': 69})\n"
     ]
    },
    {
     "name": "stderr",
     "output_type": "stream",
     "text": [
      "100%|██████████| 67/67 [01:41<00:00,  1.28s/it]\n"
     ]
    },
    {
     "name": "stdout",
     "output_type": "stream",
     "text": [
      "100.0 / 12 sec\n",
      "----------\n",
      "9 Arm(parameters={'lr': 0.06862525836312534, 'decay': 0.0016138097700495336, 'epochs': 70})\n"
     ]
    },
    {
     "name": "stderr",
     "output_type": "stream",
     "text": [
      "100%|██████████| 69/69 [01:45<00:00,  1.54s/it]\n"
     ]
    },
    {
     "name": "stdout",
     "output_type": "stream",
     "text": [
      "101.6 / 11 sec\n",
      "----------\n",
      "10 Arm(parameters={'lr': 0.09373144497300952, 'decay': 0.0021325495969080665, 'epochs': 78})\n"
     ]
    },
    {
     "name": "stderr",
     "output_type": "stream",
     "text": [
      "100%|██████████| 77/77 [01:59<00:00,  1.53s/it]\n"
     ]
    },
    {
     "name": "stdout",
     "output_type": "stream",
     "text": [
      "93.5 / 11 sec\n",
      "----------\n",
      "11 Arm(parameters={'lr': 0.1, 'decay': 0.0014867706919937198, 'epochs': 77})\n"
     ]
    },
    {
     "name": "stderr",
     "output_type": "stream",
     "text": [
      "100%|██████████| 75/75 [01:56<00:00,  1.52s/it]\n"
     ]
    },
    {
     "name": "stdout",
     "output_type": "stream",
     "text": [
      "91.4 / 10 sec\n",
      "----------\n",
      "12 Arm(parameters={'lr': 0.05025995239891894, 'decay': 0.0017713524339547954, 'epochs': 78})\n"
     ]
    },
    {
     "name": "stderr",
     "output_type": "stream",
     "text": [
      "100%|██████████| 77/77 [01:59<00:00,  1.57s/it]\n"
     ]
    },
    {
     "name": "stdout",
     "output_type": "stream",
     "text": [
      "90.3 / 11 sec\n",
      "----------\n",
      "13 Arm(parameters={'lr': 0.0689066000284994, 'decay': 0.00198557475386927, 'epochs': 82})\n"
     ]
    },
    {
     "name": "stderr",
     "output_type": "stream",
     "text": [
      "100%|██████████| 81/81 [02:04<00:00,  1.54s/it]\n"
     ]
    },
    {
     "name": "stdout",
     "output_type": "stream",
     "text": [
      "67.7 / 8 sec\n",
      "----------\n",
      "14 Arm(parameters={'lr': 0.03293699870473663, 'decay': 0.0024731563662717107, 'epochs': 90})\n"
     ]
    },
    {
     "name": "stderr",
     "output_type": "stream",
     "text": [
      "100%|██████████| 89/89 [02:01<00:00,  1.38s/it]\n"
     ]
    },
    {
     "name": "stdout",
     "output_type": "stream",
     "text": [
      "74.6 / 8 sec\n",
      "----------\n",
      "15 Arm(parameters={'lr': 0.05811432304506772, 'decay': 0.0027781964192298, 'epochs': 77})\n"
     ]
    },
    {
     "name": "stderr",
     "output_type": "stream",
     "text": [
      "100%|██████████| 75/75 [01:46<00:00,  1.46s/it]\n"
     ]
    },
    {
     "name": "stdout",
     "output_type": "stream",
     "text": [
      "71.0 / 8 sec\n",
      "----------\n",
      "16 Arm(parameters={'lr': 0.045972301814203344, 'decay': 0.0013639257353456765, 'epochs': 65})\n"
     ]
    },
    {
     "name": "stderr",
     "output_type": "stream",
     "text": [
      "100%|██████████| 63/63 [01:39<00:00,  1.57s/it]\n"
     ]
    },
    {
     "name": "stdout",
     "output_type": "stream",
     "text": [
      "95.2 / 11 sec\n",
      "----------\n",
      "17 Arm(parameters={'lr': 0.09030546574920537, 'decay': 0.0013564204087068111, 'epochs': 65})\n"
     ]
    },
    {
     "name": "stderr",
     "output_type": "stream",
     "text": [
      "100%|██████████| 63/63 [01:29<00:00,  1.24s/it]\n"
     ]
    },
    {
     "name": "stdout",
     "output_type": "stream",
     "text": [
      "92.0 / 11 sec\n",
      "----------\n",
      "18 Arm(parameters={'lr': 0.055816927378238644, 'decay': 0.0010293252620656157, 'epochs': 63})\n"
     ]
    },
    {
     "name": "stderr",
     "output_type": "stream",
     "text": [
      "100%|██████████| 61/61 [01:34<00:00,  1.55s/it]\n"
     ]
    },
    {
     "name": "stdout",
     "output_type": "stream",
     "text": [
      "91.8 / 10 sec\n",
      "----------\n",
      "19 Arm(parameters={'lr': 0.05379056153462837, 'decay': 0.0009920240891720343, 'epochs': 66})\n"
     ]
    },
    {
     "name": "stderr",
     "output_type": "stream",
     "text": [
      "100%|██████████| 65/65 [01:41<00:00,  1.60s/it]\n"
     ]
    },
    {
     "name": "stdout",
     "output_type": "stream",
     "text": [
      "99.3 / 11 sec\n"
     ]
    }
   ],
   "source": [
    "for i in range(20):\n",
    "    gpei = Models.GPEI(experiment=exp, data=exp.eval())\n",
    "    gen = gpei.gen(1)\n",
    "    print('-'*10)\n",
    "    print(i, gen.arms[0])\n",
    "    sleep(1)\n",
    "    trial = exp.new_trial(generator_run=gen)\n",
    "    trial.fetch_data()"
   ]
  },
  {
   "cell_type": "code",
   "execution_count": 16,
   "metadata": {},
   "outputs": [],
   "source": [
    "save(exp, 'opt_0_100.json')"
   ]
  },
  {
   "cell_type": "code",
   "execution_count": 17,
   "metadata": {
    "pycharm": {
     "is_executing": false,
     "name": "#%%\n"
    },
    "scrolled": false
   },
   "outputs": [
    {
     "name": "stdout",
     "output_type": "stream",
     "text": [
      "0: 101.400 {'lr': 0.06, 'decay': 0.002, 'epochs': 70}\n",
      "1: 64.725 {'lr': 0.07839425700208687, 'decay': 0.004649107668526686, 'epochs': 71}\n",
      "2: 54.450 {'lr': 0.016511722904021142, 'decay': 0.00041288715787430073, 'epochs': 83}\n",
      "3: 64.700 {'lr': 0.007976956609636175, 'decay': 0.0028356278671029336, 'epochs': 45}\n",
      "4: 61.675 {'lr': 0.003719857998352154, 'decay': 0.0006385193350709473, 'epochs': 61}\n",
      "5: 85.850 {'lr': 0.018280684548419125, 'decay': 0.0013376593059985793, 'epochs': 28}\n",
      "6: 57.125 {'lr': 0.036598483632419736, 'decay': 0.00012315357925586642, 'epochs': 57}\n",
      "7: 62.500 {'lr': 0.0017964235797745013, 'decay': 0.009421615689971193, 'epochs': 94}\n",
      "8: 61.475 {'lr': 0.0027460956900874065, 'decay': 0.0005059898389563055, 'epochs': 44}\n",
      "9: 87.200 {'lr': 0.0426709388481696, 'decay': 0.002247218136513755, 'epochs': 87}\n",
      "10: 58.850 {'lr': 0.02800566925168594, 'decay': 0.0002677039277472593, 'epochs': 78}\n",
      "11: 80.475 {'lr': 0.0685188376679517, 'decay': 0.0016482494131049618, 'epochs': 60}\n",
      "12: 87.650 {'lr': 0.0697169377514626, 'decay': 0.001987605498296668, 'epochs': 75}\n",
      "13: 74.375 {'lr': 0.05441266281255867, 'decay': 0.001897592002189751, 'epochs': 73}\n",
      "14: 105.025 {'lr': 0.06593370364780642, 'decay': 0.001681425245434636, 'epochs': 69}\n",
      "15: 96.700 {'lr': 0.0370041853218101, 'decay': 0.0017477292689809694, 'epochs': 69}\n",
      "16: 87.100 {'lr': 0.09938492371943926, 'decay': 0.0015626758209768153, 'epochs': 70}\n",
      "17: 98.500 {'lr': 0.05809303501408004, 'decay': 0.0020319116910216093, 'epochs': 69}\n",
      "18: 98.600 {'lr': 0.06278539344348018, 'decay': 0.0018074309146501322, 'epochs': 68}\n",
      "19: 100.000 {'lr': 0.05581202297348793, 'decay': 0.0014879180519567713, 'epochs': 69}\n",
      "20: 101.575 {'lr': 0.06862525836312534, 'decay': 0.0016138097700495336, 'epochs': 70}\n",
      "21: 93.475 {'lr': 0.09373144497300952, 'decay': 0.0021325495969080665, 'epochs': 78}\n",
      "22: 91.375 {'lr': 0.1, 'decay': 0.0014867706919937198, 'epochs': 77}\n",
      "23: 90.300 {'lr': 0.05025995239891894, 'decay': 0.0017713524339547954, 'epochs': 78}\n",
      "24: 67.700 {'lr': 0.0689066000284994, 'decay': 0.00198557475386927, 'epochs': 82}\n",
      "25: 74.625 {'lr': 0.03293699870473663, 'decay': 0.0024731563662717107, 'epochs': 90}\n",
      "26: 71.050 {'lr': 0.05811432304506772, 'decay': 0.0027781964192298, 'epochs': 77}\n",
      "27: 95.150 {'lr': 0.045972301814203344, 'decay': 0.0013639257353456765, 'epochs': 65}\n",
      "28: 92.050 {'lr': 0.09030546574920537, 'decay': 0.0013564204087068111, 'epochs': 65}\n",
      "29: 91.750 {'lr': 0.055816927378238644, 'decay': 0.0010293252620656157, 'epochs': 63}\n",
      "30: 99.325 {'lr': 0.05379056153462837, 'decay': 0.0009920240891720343, 'epochs': 66}\n"
     ]
    }
   ],
   "source": [
    "gpei = Models.GPEI(experiment=exp, data=exp.eval())\n",
    "for i, trial in exp.trials.items():\n",
    "    print('{0}: {1:.3f} {2}'.format(\n",
    "        i,\n",
    "        trial.fetch_data().df.at[0, 'mean'],\n",
    "        trial.arm.parameters\n",
    "    ))"
   ]
  },
  {
   "cell_type": "markdown",
   "metadata": {},
   "source": [
    "### Load experiment"
   ]
  },
  {
   "cell_type": "code",
   "execution_count": 4,
   "metadata": {},
   "outputs": [],
   "source": [
    "exp = load('finetune1.json')\n",
    "exp.evaluation_function = eval_fn"
   ]
  },
  {
   "cell_type": "markdown",
   "metadata": {},
   "source": [
    "## Plot results"
   ]
  },
  {
   "cell_type": "code",
   "execution_count": 18,
   "metadata": {
    "pycharm": {
     "name": "#%%\n"
    },
    "scrolled": false
   },
   "outputs": [
    {
     "data": {
      "text/html": [
       "<div id=\"49ec51cde8144b93a676fa3f8e15e440\" style=\"width: 100%;\" class=\"plotly-graph-div\"></div><script type='text/javascript'>/*\n",
       " * Copyright (c) Facebook, Inc. and its affiliates. All Rights Reserved.\n",
       " */\n",
       "\n",
       "require(['plotly'], function(Plotly) {\n",
       "  window.PLOTLYENV = window.PLOTLYENV || {};\n",
       "  window.PLOTLYENV.BASE_URL = 'https://plot.ly';\n",
       "  /*\n",
       " * Copyright (c) Facebook, Inc. and its affiliates. All Rights Reserved.\n",
       " */\n",
       "\n",
       "Plotly.newPlot(\n",
       "  \"49ec51cde8144b93a676fa3f8e15e440\",\n",
       "  [{\"hoverinfo\": \"none\", \"legendgroup\": \"\", \"line\": {\"width\": 0}, \"mode\": \"lines\", \"showlegend\": false, \"x\": [1, 2, 3, 4, 5, 6, 7, 8, 9, 10, 11, 12, 13, 14, 15, 16, 17, 18, 19, 20, 21, 22, 23, 24, 25, 26, 27, 28, 29, 30, 31], \"y\": [101.4, 101.4, 101.4, 101.4, 101.4, 101.4, 101.4, 101.4, 101.4, 101.4, 101.4, 101.4, 101.4, 101.4, 105.025, 105.025, 105.025, 105.025, 105.025, 105.025, 105.025, 105.025, 105.025, 105.025, 105.025, 105.025, 105.025, 105.025, 105.025, 105.025, 105.025], \"type\": \"scatter\", \"uid\": \"65975a3e-0a56-4e7f-b86b-3a21c41bd75f\"}, {\"fill\": \"tonexty\", \"fillcolor\": \"rgba(128,177,211,0.3)\", \"legendgroup\": \"mean\", \"line\": {\"color\": \"rgba(128,177,211,1)\"}, \"mode\": \"lines\", \"name\": \"mean\", \"x\": [1, 2, 3, 4, 5, 6, 7, 8, 9, 10, 11, 12, 13, 14, 15, 16, 17, 18, 19, 20, 21, 22, 23, 24, 25, 26, 27, 28, 29, 30, 31], \"y\": [101.4, 101.4, 101.4, 101.4, 101.4, 101.4, 101.4, 101.4, 101.4, 101.4, 101.4, 101.4, 101.4, 101.4, 105.025, 105.025, 105.025, 105.025, 105.025, 105.025, 105.025, 105.025, 105.025, 105.025, 105.025, 105.025, 105.025, 105.025, 105.025, 105.025, 105.025], \"type\": \"scatter\", \"uid\": \"2de58a18-523c-496a-9a42-d21f84e76389\"}, {\"fill\": \"tonexty\", \"fillcolor\": \"rgba(128,177,211,0.3)\", \"hoverinfo\": \"none\", \"legendgroup\": \"\", \"line\": {\"width\": 0}, \"mode\": \"lines\", \"showlegend\": false, \"x\": [1, 2, 3, 4, 5, 6, 7, 8, 9, 10, 11, 12, 13, 14, 15, 16, 17, 18, 19, 20, 21, 22, 23, 24, 25, 26, 27, 28, 29, 30, 31], \"y\": [101.4, 101.4, 101.4, 101.4, 101.4, 101.4, 101.4, 101.4, 101.4, 101.4, 101.4, 101.4, 101.4, 101.4, 105.025, 105.025, 105.025, 105.025, 105.025, 105.025, 105.025, 105.025, 105.025, 105.025, 105.025, 105.025, 105.025, 105.025, 105.025, 105.025, 105.025], \"type\": \"scatter\", \"uid\": \"0b564a0d-d347-4eec-af4e-b2a214804d37\"}],\n",
       "  {\"showlegend\": true, \"title\": {\"text\": \"\"}, \"xaxis\": {\"title\": {\"text\": \"Iteration\"}}, \"yaxis\": {\"title\": {\"text\": \"\"}}},\n",
       "  {\"showLink\": false}\n",
       ");\n",
       "});</script>"
      ]
     },
     "metadata": {},
     "output_type": "display_data"
    }
   ],
   "source": [
    "# `plot_single_method` expects a 2-d array of means, because it expects to average means from multiple \n",
    "# optimization runs, so we wrap out best objectives array in another array.\n",
    "objective_means = np.array([[trial.objective_mean for trial in exp.trials.values()]])\n",
    "best_objective_plot = optimization_trace_single_method(\n",
    "        y=np.maximum.accumulate(objective_means, axis=1),\n",
    ")\n",
    "render(best_objective_plot)"
   ]
  },
  {
   "cell_type": "code",
   "execution_count": 19,
   "metadata": {
    "pycharm": {
     "is_executing": false,
     "name": "#%%\n"
    },
    "scrolled": true
   },
   "outputs": [
    {
     "data": {
      "text/plain": [
       "Arm(name='14_0', parameters={'lr': 0.06593370364780642, 'decay': 0.001681425245434636, 'epochs': 69})"
      ]
     },
     "execution_count": 19,
     "metadata": {},
     "output_type": "execute_result"
    }
   ],
   "source": [
    "exp.trials[np.argmax(objective_means)].arm"
   ]
  },
  {
   "cell_type": "code",
   "execution_count": 20,
   "metadata": {
    "pycharm": {
     "name": "#%%\n"
    },
    "scrolled": false
   },
   "outputs": [
    {
     "data": {
      "text/html": [
       "<div id=\"4b1e5da3dce44cdfa3d404d7eb3ac704\" style=\"width: 100%;\" class=\"plotly-graph-div\"></div><script type='text/javascript'>/*\n",
       " * Copyright (c) Facebook, Inc. and its affiliates. All Rights Reserved.\n",
       " */\n",
       "\n",
       "require(['plotly'], function(Plotly) {\n",
       "  window.PLOTLYENV = window.PLOTLYENV || {};\n",
       "  window.PLOTLYENV.BASE_URL = 'https://plot.ly';\n",
       "  /*\n",
       " * Copyright (c) Facebook, Inc. and its affiliates. All Rights Reserved.\n",
       " */\n",
       "\n",
       "const arm_data = {\"metrics\": [\"min_move\"], \"in_sample\": {\"control\": {\"name\": \"control\", \"parameters\": {\"lr\": 0.06, \"decay\": 0.002, \"epochs\": 70}, \"y\": {\"min_move\": 101.4}, \"y_hat\": {\"min_move\": 101.39999224556857}, \"se\": {\"min_move\": 0.0}, \"se_hat\": {\"min_move\": 0.004949172913454917}, \"context_stratum\": null}, \"1_0\": {\"name\": \"1_0\", \"parameters\": {\"lr\": 0.07839425700208687, \"decay\": 0.004649107668526686, \"epochs\": 71}, \"y\": {\"min_move\": 64.725}, \"y_hat\": {\"min_move\": 64.72500077859357}, \"se\": {\"min_move\": 0.0}, \"se_hat\": {\"min_move\": 0.004949178306498422}, \"context_stratum\": null}, \"2_0\": {\"name\": \"2_0\", \"parameters\": {\"lr\": 0.016511722904021142, \"decay\": 0.00041288715787430073, \"epochs\": 83}, \"y\": {\"min_move\": 54.45}, \"y_hat\": {\"min_move\": 54.45000173665885}, \"se\": {\"min_move\": 0.0}, \"se_hat\": {\"min_move\": 0.004949178311993115}, \"context_stratum\": null}, \"3_0\": {\"name\": \"3_0\", \"parameters\": {\"lr\": 0.007976956609636175, \"decay\": 0.0028356278671029336, \"epochs\": 45}, \"y\": {\"min_move\": 64.7}, \"y_hat\": {\"min_move\": 64.70000069029535}, \"se\": {\"min_move\": 0.0}, \"se_hat\": {\"min_move\": 0.004949178320235153}, \"context_stratum\": null}, \"4_0\": {\"name\": \"4_0\", \"parameters\": {\"lr\": 0.003719857998352154, \"decay\": 0.0006385193350709473, \"epochs\": 61}, \"y\": {\"min_move\": 61.675}, \"y_hat\": {\"min_move\": 61.6750010827531}, \"se\": {\"min_move\": 0.0}, \"se_hat\": {\"min_move\": 0.004949178317487807}, \"context_stratum\": null}, \"5_0\": {\"name\": \"5_0\", \"parameters\": {\"lr\": 0.018280684548419125, \"decay\": 0.0013376593059985793, \"epochs\": 28}, \"y\": {\"min_move\": 85.85}, \"y_hat\": {\"min_move\": 85.84999822377206}, \"se\": {\"min_move\": 0.0}, \"se_hat\": {\"min_move\": 0.004949178320235153}, \"context_stratum\": null}, \"6_0\": {\"name\": \"6_0\", \"parameters\": {\"lr\": 0.036598483632419736, \"decay\": 0.00012315357925586642, \"epochs\": 57}, \"y\": {\"min_move\": 57.125}, \"y_hat\": {\"min_move\": 57.12500157774513}, \"se\": {\"min_move\": 0.0}, \"se_hat\": {\"min_move\": 0.0049491783147404605}, \"context_stratum\": null}, \"7_0\": {\"name\": \"7_0\", \"parameters\": {\"lr\": 0.0017964235797745013, \"decay\": 0.009421615689971193, \"epochs\": 94}, \"y\": {\"min_move\": 62.5}, \"y_hat\": {\"min_move\": 62.500000950333984}, \"se\": {\"min_move\": 0.0}, \"se_hat\": {\"min_move\": 0.004949178317487807}, \"context_stratum\": null}, \"8_0\": {\"name\": \"8_0\", \"parameters\": {\"lr\": 0.0027460956900874065, \"decay\": 0.0005059898389563055, \"epochs\": 44}, \"y\": {\"min_move\": 61.475}, \"y_hat\": {\"min_move\": 61.47500106745963}, \"se\": {\"min_move\": 0.0}, \"se_hat\": {\"min_move\": 0.004949178320235153}, \"context_stratum\": null}, \"9_0\": {\"name\": \"9_0\", \"parameters\": {\"lr\": 0.0426709388481696, \"decay\": 0.002247218136513755, \"epochs\": 87}, \"y\": {\"min_move\": 87.2}, \"y_hat\": {\"min_move\": 87.19999725684383}, \"se\": {\"min_move\": 0.0}, \"se_hat\": {\"min_move\": 0.004949178188362534}, \"context_stratum\": null}, \"10_0\": {\"name\": \"10_0\", \"parameters\": {\"lr\": 0.02800566925168594, \"decay\": 0.0002677039277472593, \"epochs\": 78}, \"y\": {\"min_move\": 58.85}, \"y_hat\": {\"min_move\": 58.85000113017125}, \"se\": {\"min_move\": 0.0}, \"se_hat\": {\"min_move\": 0.004949178306498422}, \"context_stratum\": null}, \"11_0\": {\"name\": \"11_0\", \"parameters\": {\"lr\": 0.0685188376679517, \"decay\": 0.0016482494131049618, \"epochs\": 60}, \"y\": {\"min_move\": 80.475}, \"y_hat\": {\"min_move\": 80.47499938521004}, \"se\": {\"min_move\": 0.0}, \"se_hat\": {\"min_move\": 0.0049491782790249605}, \"context_stratum\": null}, \"12_0\": {\"name\": \"12_0\", \"parameters\": {\"lr\": 0.0697169377514626, \"decay\": 0.001987605498296668, \"epochs\": 75}, \"y\": {\"min_move\": 87.65}, \"y_hat\": {\"min_move\": 87.64999542663615}, \"se\": {\"min_move\": 0.0}, \"se_hat\": {\"min_move\": 0.004949177567462242}, \"context_stratum\": null}, \"13_0\": {\"name\": \"13_0\", \"parameters\": {\"lr\": 0.05441266281255867, \"decay\": 0.001897592002189751, \"epochs\": 73}, \"y\": {\"min_move\": 74.375}, \"y_hat\": {\"min_move\": 74.37500643677217}, \"se\": {\"min_move\": 0.0}, \"se_hat\": {\"min_move\": 0.00494917753724143}, \"context_stratum\": null}, \"14_0\": {\"name\": \"14_0\", \"parameters\": {\"lr\": 0.06593370364780642, \"decay\": 0.001681425245434636, \"epochs\": 69}, \"y\": {\"min_move\": 105.025}, \"y_hat\": {\"min_move\": 105.02498659395246}, \"se\": {\"min_move\": 0.0}, \"se_hat\": {\"min_move\": 0.004949166204423666}, \"context_stratum\": null}, \"15_0\": {\"name\": \"15_0\", \"parameters\": {\"lr\": 0.0370041853218101, \"decay\": 0.0017477292689809694, \"epochs\": 69}, \"y\": {\"min_move\": 96.7}, \"y_hat\": {\"min_move\": 96.69999793039085}, \"se\": {\"min_move\": 0.0}, \"se_hat\": {\"min_move\": 0.004949177416358177}, \"context_stratum\": null}, \"16_0\": {\"name\": \"16_0\", \"parameters\": {\"lr\": 0.09938492371943926, \"decay\": 0.0015626758209768153, \"epochs\": 70}, \"y\": {\"min_move\": 87.1}, \"y_hat\": {\"min_move\": 87.10000650343329}, \"se\": {\"min_move\": 0.0}, \"se_hat\": {\"min_move\": 0.004949177086676564}, \"context_stratum\": null}, \"17_0\": {\"name\": \"17_0\", \"parameters\": {\"lr\": 0.05809303501408004, \"decay\": 0.0020319116910216093, \"epochs\": 69}, \"y\": {\"min_move\": 98.5}, \"y_hat\": {\"min_move\": 98.50000889102017}, \"se\": {\"min_move\": 0.0}, \"se_hat\": {\"min_move\": 0.004949171319992134}, \"context_stratum\": null}, \"18_0\": {\"name\": \"18_0\", \"parameters\": {\"lr\": 0.06278539344348018, \"decay\": 0.0018074309146501322, \"epochs\": 68}, \"y\": {\"min_move\": 98.6}, \"y_hat\": {\"min_move\": 98.60000171039815}, \"se\": {\"min_move\": 0.0}, \"se_hat\": {\"min_move\": 0.004949173509629653}, \"context_stratum\": null}, \"19_0\": {\"name\": \"19_0\", \"parameters\": {\"lr\": 0.05581202297348793, \"decay\": 0.0014879180519567713, \"epochs\": 69}, \"y\": {\"min_move\": 100.0}, \"y_hat\": {\"min_move\": 100.00000817169158}, \"se\": {\"min_move\": 0.0}, \"se_hat\": {\"min_move\": 0.00494917464153725}, \"context_stratum\": null}, \"20_0\": {\"name\": \"20_0\", \"parameters\": {\"lr\": 0.06862525836312534, \"decay\": 0.0016138097700495336, \"epochs\": 70}, \"y\": {\"min_move\": 101.575}, \"y_hat\": {\"min_move\": 101.57499452613861}, \"se\": {\"min_move\": 0.0}, \"se_hat\": {\"min_move\": 0.004949171668905581}, \"context_stratum\": null}, \"21_0\": {\"name\": \"21_0\", \"parameters\": {\"lr\": 0.09373144497300952, \"decay\": 0.0021325495969080665, \"epochs\": 78}, \"y\": {\"min_move\": 93.475}, \"y_hat\": {\"min_move\": 93.47499702215218}, \"se\": {\"min_move\": 0.0}, \"se_hat\": {\"min_move\": 0.004949177844944241}, \"context_stratum\": null}, \"22_0\": {\"name\": \"22_0\", \"parameters\": {\"lr\": 0.1, \"decay\": 0.0014867706919937198, \"epochs\": 77}, \"y\": {\"min_move\": 91.375}, \"y_hat\": {\"min_move\": 91.37500010869738}, \"se\": {\"min_move\": 0.0}, \"se_hat\": {\"min_move\": 0.004949178029016449}, \"context_stratum\": null}, \"23_0\": {\"name\": \"23_0\", \"parameters\": {\"lr\": 0.05025995239891894, \"decay\": 0.0017713524339547954, \"epochs\": 78}, \"y\": {\"min_move\": 90.3}, \"y_hat\": {\"min_move\": 90.29999833539381}, \"se\": {\"min_move\": 0.0}, \"se_hat\": {\"min_move\": 0.004949178026269103}, \"context_stratum\": null}, \"24_0\": {\"name\": \"24_0\", \"parameters\": {\"lr\": 0.0689066000284994, \"decay\": 0.00198557475386927, \"epochs\": 82}, \"y\": {\"min_move\": 67.7}, \"y_hat\": {\"min_move\": 67.70000215190367}, \"se\": {\"min_move\": 0.0}, \"se_hat\": {\"min_move\": 0.004949178251551499}, \"context_stratum\": null}, \"25_0\": {\"name\": \"25_0\", \"parameters\": {\"lr\": 0.03293699870473663, \"decay\": 0.0024731563662717107, \"epochs\": 90}, \"y\": {\"min_move\": 74.625}, \"y_hat\": {\"min_move\": 74.62500085474323}, \"se\": {\"min_move\": 0.0}, \"se_hat\": {\"min_move\": 0.0049491782185833435}, \"context_stratum\": null}, \"26_0\": {\"name\": \"26_0\", \"parameters\": {\"lr\": 0.05811432304506772, \"decay\": 0.0027781964192298, \"epochs\": 77}, \"y\": {\"min_move\": 71.05}, \"y_hat\": {\"min_move\": 71.05000315044896}, \"se\": {\"min_move\": 0.0}, \"se_hat\": {\"min_move\": 0.004949178070226644}, \"context_stratum\": null}, \"27_0\": {\"name\": \"27_0\", \"parameters\": {\"lr\": 0.045972301814203344, \"decay\": 0.0013639257353456765, \"epochs\": 65}, \"y\": {\"min_move\": 95.15}, \"y_hat\": {\"min_move\": 95.14999956714875}, \"se\": {\"min_move\": 0.0}, \"se_hat\": {\"min_move\": 0.004949177836702202}, \"context_stratum\": null}, \"28_0\": {\"name\": \"28_0\", \"parameters\": {\"lr\": 0.09030546574920537, \"decay\": 0.0013564204087068111, \"epochs\": 65}, \"y\": {\"min_move\": 92.05}, \"y_hat\": {\"min_move\": 92.04999965938076}, \"se\": {\"min_move\": 0.0}, \"se_hat\": {\"min_move\": 0.004949178001542986}, \"context_stratum\": null}, \"29_0\": {\"name\": \"29_0\", \"parameters\": {\"lr\": 0.055816927378238644, \"decay\": 0.0010293252620656157, \"epochs\": 63}, \"y\": {\"min_move\": 91.75}, \"y_hat\": {\"min_move\": 91.74999955368857}, \"se\": {\"min_move\": 0.0}, \"se_hat\": {\"min_move\": 0.004949178067479298}, \"context_stratum\": null}, \"30_0\": {\"name\": \"30_0\", \"parameters\": {\"lr\": 0.05379056153462837, \"decay\": 0.0009920240891720343, \"epochs\": 66}, \"y\": {\"min_move\": 99.325}, \"y_hat\": {\"min_move\": 99.32499728077028}, \"se\": {\"min_move\": 0.0}, \"se_hat\": {\"min_move\": 0.004949177987806254}, \"context_stratum\": null}}, \"out_of_sample\": {}, \"status_quo_name\": null};\n",
       "const density = 50;\n",
       "const grid_x = [0.001, 0.0010985411419875584, 0.0012067926406393288, 0.0013257113655901094, 0.0014563484775012444, 0.0015998587196060573, 0.0017575106248547913, 0.0019306977288832496, 0.0021209508879201904, 0.002329951810515372, 0.002559547922699536, 0.002811768697974231, 0.0030888435964774815, 0.00339322177189533, 0.003727593720314938, 0.004094915062380423, 0.004498432668969444, 0.004941713361323833, 0.005428675439323859, 0.005963623316594642, 0.006551285568595509, 0.0071968567300115215, 0.0079060432109077, 0.00868511373751352, 0.009540954763499945, 0.010481131341546858, 0.01151395399326447, 0.012648552168552958, 0.013894954943731374, 0.015264179671752334, 0.016768329368110076, 0.018420699693267154, 0.020235896477251564, 0.022229964825261943, 0.02442053094548651, 0.026826957952797246, 0.029470517025518096, 0.032374575428176434, 0.03556480306223128, 0.03906939937054615, 0.04291934260128776, 0.04714866363457392, 0.0517947467923121, 0.05689866029018296, 0.0625055192527397, 0.06866488450042998, 0.07543120063354615, 0.08286427728546843, 0.09102981779915217, 0.1];\n",
       "const grid_y = [0.0001, 0.00010985411419875583, 0.00012067926406393288, 0.00013257113655901095, 0.00014563484775012445, 0.00015998587196060574, 0.00017575106248547912, 0.00019306977288832496, 0.00021209508879201905, 0.00023299518105153718, 0.0002559547922699536, 0.0002811768697974231, 0.00030888435964774815, 0.000339322177189533, 0.0003727593720314938, 0.0004094915062380423, 0.0004498432668969444, 0.0004941713361323833, 0.0005428675439323859, 0.0005963623316594642, 0.0006551285568595509, 0.0007196856730011522, 0.0007906043210907702, 0.000868511373751352, 0.0009540954763499944, 0.0010481131341546852, 0.0011513953993264468, 0.0012648552168552957, 0.0013894954943731374, 0.0015264179671752333, 0.0016768329368110067, 0.0018420699693267163, 0.0020235896477251557, 0.0022229964825261957, 0.0024420530945486497, 0.0026826957952797246, 0.0029470517025518097, 0.0032374575428176433, 0.0035564803062231283, 0.003906939937054613, 0.004291934260128779, 0.00471486636345739, 0.005179474679231213, 0.005689866029018293, 0.0062505519252739694, 0.006866488450042998, 0.007543120063354615, 0.008286427728546842, 0.009102981779915217, 0.01];\n",
       "const f = [70.62828814717156, 70.62685704398174, 70.6252701707185, 70.62351257668988, 70.62156836626409, 70.61942080198376, 70.61705246419668, 70.61444547716091, 70.61158181118594, 70.60844366931256, 70.60501396518188, 70.60127689598892, 70.59721861067574, 70.5928279687616, 70.58809737946436, 70.58302370415127, 70.57760919788345, 70.57186245820641, 70.56579934183222, 70.5594438030034, 70.55282860177347, 70.54599582688671, 70.53899717711172, 70.53189394744197, 70.52475667305555, 70.51766439463725, 70.51070352361907, 70.5039663047229, 70.49754889510896, 70.49154910323563, 70.48606385463752, 70.48118647436839, 70.47700389485078, 70.4735939114173, 70.4710226142952, 70.46934212405327, 70.4685887471364, 70.46878164937394, 70.46992211936723, 70.4719934622574, 70.47496152991103, 70.4787758587101, 70.48337135359267, 70.4886704292092, 70.49458549798645, 70.50102168180327, 70.50787961938904, 70.51505824520648, 70.52245742654604, 70.52998036239096, 70.62553037313694, 70.62382583357645, 70.62194455306063, 70.61987022865237, 70.61758546974198, 70.61507189012343, 70.61231026367108, 70.60928075646392, 70.60596324801683, 70.60233775326752, 70.59838495495734, 70.59408685287531, 70.58942753198728, 70.5843940456843, 70.57897740327753, 70.57317364256727, 70.56698495907725, 70.56042085377308, 70.55349925133149, 70.54624753200314, 70.53870341265527, 70.5309156076207, 70.52294419847195, 70.51486064467969, 70.50674737502952, 70.49869691310141, 70.49081050910058, 70.48319627439915, 70.47596684327175, 70.46923661687383, 70.46311867539804, 70.45772147305635, 70.45314545442763, 70.44947974725223, 70.4467990938407, 70.44516117949246, 70.4446045012294, 70.44514689434314, 70.44678479940443, 70.44949331109443, 70.45322700576622, 70.45792150062732, 70.46349565737458, 70.46985431007923, 70.47689137342118, 70.48449317434451, 70.4925418481464, 70.50091864822508, 70.50950703567494, 70.51819543851916, 70.62209928028255, 70.6200694042418, 70.61784153230809, 70.61539853219872, 70.61272206550818, 70.6097926540599, 70.60658981523986, 70.60309228276435, 70.59927832954418, 70.59512620850649, 70.59061472518127, 70.58572395232895, 70.58043609170079, 70.57473648108108, 70.56861473605873, 70.56206600565163, 70.55509230926046, 70.54770390995176, 70.53992066645841, 70.53177329444092, 70.5233044575556, 70.5145696019391, 70.50563744510686, 70.4965900331745, 70.48752228974372, 70.47854099637449, 70.46976316839731, 70.46131382033089, 70.45332315102752, 70.44592321775278, 70.43924420789784, 70.43341045359381, 70.42853636461287, 70.42472247524196, 70.42205180854103, 70.42058675478731, 70.4203666395087, 70.42140612134305, 70.42369451349853, 70.42719606852839, 70.43185120899625, 70.43757863123554, 70.44427816038997, 70.45183419610282, 70.4601195622826, 70.46899956261865, 70.47833604584258, 70.48799129973911, 70.49783161821858, 70.507730418348, 70.61782504846771, 70.61540583555053, 70.61276784553048, 70.60989400420924, 70.60676597151627, 70.60336416148701, 70.59966783314134, 70.5956552731441, 70.59130409201974, 70.58659165535795, 70.58149566954822, 70.57599493780833, 70.57007029636922, 70.56370573247678, 70.55688967534098, 70.54961643843747, 70.54188777700044, 70.53371450873244, 70.52511812956115, 70.51613234082565, 70.50680439095544, 70.49719612507549, 70.4873846316812, 70.47746237816975, 70.46753673793913, 70.45772883186588, 70.4481716364651, 70.43900734925522, 70.43038404711814, 70.4224517230224, 70.41535783667072, 70.40924256104468, 70.40423394475951, 70.40044323515755, 70.39796061553275, 70.39685159954465, 70.39715429631232, 70.39887771246664, 70.40200119612997, 70.40647505755653, 70.41222232819301, 70.41914155068308, 70.42711043281092, 70.4359901533304, 70.44563008013434, 70.45587265241676, 70.46655818759402, 70.47752939837339, 70.48863544189213, 70.49973536705527, 70.61250450168389, 70.60961668671405, 70.60649070947379, 70.60311093299156, 70.59946050711545, 70.59552131451747, 70.59127398350536, 70.58669799386321, 70.58177190393153, 70.57647372764932, 70.5707814888537, 70.56467397633045, 70.55813171656774, 70.55113817163237, 70.54368115698198, 70.53575445848556, 70.52735960985778, 70.51850777184205, 70.50922163386777, 70.49953723896948, 70.48950561522332, 70.47919408381266, 70.46868710719927, 70.45808654281834, 70.4475111800287, 70.43709546197363, 70.42698732992584, 70.41734517486998, 70.40833393744786, 70.40012045949638, 70.3928682534907, 70.3867319145505, 70.3818514471373, 70.37834680932443, 70.37631298681423, 70.3758158938349, 70.37688935825165, 70.37953338599162, 70.38371382016248, 70.38936342011343, 70.39638429349114, 70.40465152864142, 70.4140178031887, 70.42431869317949, 70.43537837925408, 70.4470154426877, 70.45904846305622, 70.47130116690224, 70.48360692789855, 70.49581247780478, 70.60590244696158, 70.60244791930464, 70.5987382765207, 70.59476133318178, 70.59050393489942, 70.5859517951486, 70.58108938525663, 70.57589991008021, 70.57036540558305, 70.56446699644904, 70.55818535138351, 70.5515013702616, 70.54439713026018, 70.53685710719336, 70.52886967331835, 70.52042885403087, 70.51153630361877, 70.50220343547835, 70.49245361623761, 70.48232430783051, 70.4718690188814, 70.4611589092722, 70.4502838821316, 70.4393529983354, 70.4284940622407, 70.4178522554394, 70.40758773840403, 70.3978721972078, 70.38888438154036, 70.38080475672047, 70.3738094703447, 70.3680639063367, 70.36371615761172, 70.36089078582938, 70.35968324667861, 70.36015533817961, 70.36233197720446, 70.36619952904414, 70.37170581308465, 70.3787617939472, 70.38724485280487, 70.39700342912664, 70.4078627385707, 70.41963121530654, 70.4321073004702, 70.44508620291487, 70.45836629076966, 70.47175482685554, 70.48507283045281, 70.49815892448342, 70.59775849546362, 70.59361664105947, 70.58920621020563, 70.58452126623217, 70.57955544939223, 70.57430166162256, 70.56875177654443, 70.56289641448764, 70.55672482856752, 70.55022495199466, 70.54338365795643, 70.53618728072723, 70.52862243941003, 70.52067719336648, 70.51234254074356, 70.50361424871585, 70.49449497676184, 70.4849966236095, 70.47514279608794, 70.46497126620432, 70.45453625400529, 70.4439103512372, 70.43318588775199, 70.42247554223653, 70.4119120140094, 70.4016466053754, 70.39184661514346, 70.38269151247866, 70.37436794328961, 70.36706371361507, 70.36096098860907, 70.35622903272011, 70.35301688671379, 70.3514464209076, 70.35160621376355, 70.35354667634572, 70.3572767757952, 70.3627626092709, 70.36992795256049, 70.37865676705587, 70.38879750916674, 70.40016896160421, 70.4125672083947, 70.42577331349314, 70.43956124043258, 70.45370556681732, 70.46798859767497, 70.48220655763774, 70.49617463379323, 70.50973073868778, 70.58780199700749, 70.5828266301501, 70.57757367396324, 70.57204715322216, 70.56625166250778, 70.56019184920247, 70.55387187342534, 70.54729489281158, 70.54046263006481, 70.5333750887653, 70.5260304867342, 70.51842547512173, 70.51055570426787, 70.50241678354746, 70.49400566155879, 70.48532242538417, 70.47637248409463, 70.46716906370342, 70.45773590057192, 70.44810998063997, 70.43834413613651, 70.42850928336213, 70.41869606864539, 70.40901568846463, 70.39959966730487, 70.39059841542152, 70.38217844914791, 70.374518237523, 70.36780273718495, 70.36221678634851, 70.35793763938054, 70.35512702512722, 70.35392319290098, 70.3544334585765, 70.35672777047571, 70.36083377543135, 70.36673377960389, 70.37436387209351, 70.38361532343893, 70.39433820126553, 70.40634697933969, 70.4194277714854, 70.4333467128124, 70.44785894732405, 70.46271766715373, 70.47768268232927, 70.49252807376904, 70.50704858512073, 70.5210645281491, 70.53442509872471, 70.57577782918273, 70.56979581090059, 70.56353235734996, 70.55700617336171, 70.55023815488018, 70.54325061593752, 70.53606641638554, 70.52870804703178, 70.52119674434407, 70.51355171952959, 70.5057895947456, 70.49792414069617, 70.4899664034212, 70.48192529264655, 70.47380867924024, 70.46562501548799, 70.45738545030716, 70.44910636429306, 70.4408121996031, 70.43253841082684, 70.42433431941633, 70.41626562054651, 70.40841627207276, 70.40088949488644, 70.39380763603813, 70.38731069286342, 70.38155336856681, 70.37670062548732, 70.3729218169521, 70.37038360453279, 70.36924199406607, 70.36963393816225, 70.37166904127685, 70.37542195265773, 70.38092603226809, 70.38816881954118, 70.39708972527961, 70.40758021089863, 70.41948653083686, 70.43261491257843, 70.44673885597871, 70.46160807036117, 70.47695845127731, 70.4925224398554, 70.5080391097964, 70.52326338628374, 70.53797390696153, 70.55197917293718, 70.56512179075611, 70.57728075817111, 70.56148519062515, 70.55429830376414, 70.54683168006619, 70.53912444398217, 70.53122037371173, 70.52316681762493, 70.5150133986768, 70.50681057235832, 70.49860812709645, 70.4904537361265, 70.4823916840578, 70.47446189706125, 70.466699400617, 70.45913431156163, 70.4517924412182, 70.4446965443058, 70.4378681959913, 70.43133021998881, 70.42510952823842, 70.41924017245185, 70.41376635526026, 70.40874510954495, 70.4042483342189, 70.40036387801426, 70.39719539330794, 70.39486074160698, 70.3934888207179, 70.39321479779312, 70.39417386617262, 70.3964937876737, 70.40028662309965, 70.4056401773341, 70.41260977572573, 70.4212110309701, 70.43141424330003, 70.4431409962202, 70.45626336752228, 70.47060598140132, 70.48595090030192, 70.50204511839563, 70.51861019847624, 70.53535341532925, 70.55197965098989, 70.56820324254221, 70.58375901360915, 70.59841181950013, 70.61196408842099, 70.62426102739713, 70.63519335980821, 70.64469765095285, 70.54482985626001, 70.53622189356044, 70.52734146663101, 70.51825478339894, 70.50903624102769, 70.49976698391293, 70.49053309112782, 70.48142346711711, 70.47252754381111, 70.46393293316108, 70.45572319251686, 70.44797587744617, 70.44076105423599, 70.43414042515451, 70.42816718279273, 70.42288665643432, 70.41833774629721, 70.41455506531337, 70.41157162899576, 70.40942185899812, 70.40814460271318, 70.40778582696288, 70.40840062496514, 70.41005418739142, 70.41282143364026, 70.41678507926376, 70.42203202779146, 70.4286481147683, 70.43671138992683, 70.4462842877999, 70.45740519241411, 70.47008003059233, 70.484274613074, 70.49990846732142, 70.51685085929726, 70.53491957961361, 70.55388287725697, 70.5734646763319, 70.59335293151312, 70.61321069598601, 70.63268922370521, 70.65144223554434, 70.66914036915952, 70.68548481756359, 70.7002192417493, 70.71313920653985, 70.72409861475683, 70.73301287516122, 70.73985880487284, 70.74467150970109, 70.52588724337112, 70.51563834999745, 70.50512967946982, 70.4944618699239, 70.48374858329684, 70.47311467364194, 70.46269377230405, 70.4526253701812, 70.44305152666082, 70.43411338063288, 70.4259476756226, 70.41868353287495, 70.41243970819372, 70.40732254702866, 70.40342480646775, 70.40082544388011, 70.39959038429038, 70.39977417910612, 70.40142236659571, 70.40457424975239, 70.40926573030191, 70.41553178820573, 70.42340818192471, 70.43293197131237, 70.444140534643, 70.45706886287665, 70.47174506303725, 70.48818417986361, 70.50638063808472, 70.52629980047891, 70.54786931001523, 70.5709710168856, 70.59543436255268, 70.62103208561311, 70.6474790170745, 70.6744345435235, 70.7015090449194, 70.72827428072983, 70.75427733593779, 70.7790573865957, 70.80216424482806, 70.82317743336935, 70.84172444789512, 70.85749690507222, 70.8702634420273, 70.87987850893367, 70.88628654740884, 70.88952143202583, 70.88970142724133, 70.88702023848006, 70.50496910125229, 70.49287891969752, 70.48054708492221, 70.46811628832822, 70.45574856285577, 70.4436230595966, 70.43193296964, 70.42088167440613, 70.41067827679589, 70.40153273151468, 70.39365084785541, 70.38722947373151, 70.3824521783877, 70.37948572766592, 70.37847758789732, 70.37955460440611, 70.38282288453117, 70.38836878322255, 70.39626075486268, 70.40655171276276, 70.41928144247028, 70.43447855956626, 70.45216149692669, 70.47233805631639, 70.49500316586655, 70.52013464475527, 70.54768698060042, 70.57758336017899, 70.60970644198208, 70.64388859756717, 70.67990255232193, 70.71745349830859, 70.756173806649, 70.79562141331203, 70.83528277753126, 70.87458101612673, 70.91288941474083, 70.9495500398277, 70.98389666941995, 71.01528078286124, 71.0430989596449, 71.06681978933439, 71.0860083276068, 71.10034626496228, 71.10964629563247, 71.11385964994517, 71.11307632824202, 71.1075181805007, 71.09752554347945, 71.08353861561535, 70.48268126377165, 70.46860108959513, 70.45430360377172, 70.43998088298639, 70.42585223967197, 70.41216164781896, 70.39917398479517, 70.38717017034861, 70.37644137781896, 70.36728258467889, 70.35998580862055, 70.35483342954842, 70.35209201608576, 70.35200704946101, 70.3547988644598, 70.36066000894405, 70.36975406903605, 70.3822158310467, 70.39815247253614, 70.41764531460133, 70.44075154625038, 70.46750526734954, 70.49791720208688, 70.53197251702944, 70.5696263367636, 70.61079677910622, 70.65535561769983, 70.7031170030006, 70.75382500798301, 70.80714108186903, 70.86263275926198, 70.91976514646713, 70.97789675574377, 71.03628115150637, 71.0940755909637, 71.15035738337704, 71.20414807736361, 71.25444485994694, 71.3002577840378, 71.34065072078376, 71.37478335548927, 71.40195119944147, 71.4216205410454, 71.43345553744687, 71.43733523619423, 71.43335915339557, 71.4218410205803, 71.40329132568027, 71.37839019131727, 71.34795285159298, 70.45995513196696, 70.44382698986944, 70.42751430866645, 70.41126490371103, 70.39536324529685, 70.38012762921163, 70.3659057878357, 70.35306901441413, 70.34200499643701, 70.3331096779412, 70.32677857978474, 70.32339808493008, 70.32333722685658, 70.32694049146436, 70.33452205060752, 70.34636169137818, 70.36270250117045, 70.38375013448082, 70.40967324965769, 70.44060449170573, 70.47664123936941, 70.51784525542834, 70.56424039586645, 70.61580765519899, 70.67247705151911, 70.73411617663446, 70.80051563652707, 70.87137205992632, 70.94626982501362, 71.02466310560467, 71.10586022096956, 71.18901253470804, 71.27311023287423, 71.35698716905962, 71.43933655640289, 71.51873859877006, 71.59370020485447, 71.66270578102164, 71.72427685739679, 71.77703711161948, 71.81977838289659, 71.85152267915954, 71.87157510136844, 71.8795631056733, 71.87545857492285, 71.85958066409063, 71.83257913192864, 71.79539964222045, 71.74923407969278, 71.69546008605195, 70.43803366071471, 70.41993118470576, 70.40168956535983, 70.38361700608922, 70.36606906739345, 70.34944573825359, 70.33418655029863, 70.32076379210379, 70.30967403698698, 70.30142835768407, 70.29654174550666, 70.29552235780059, 70.2988612642595, 70.307023332959, 70.32043978219473, 70.33950272680029, 70.36456178245912, 70.39592248502696, 70.4338459691217, 70.47854907046016, 70.5302038079366, 70.58893509688515, 70.65481556781674, 70.7278565276275, 70.80799440398205, 70.89507244878918, 70.9888180241463, 71.08881642511929, 71.19448286943033, 71.30503495418135, 71.41946848066678, 71.53654000322187, 71.65475967915712, 71.77239789270992, 71.88750861442048, 71.99797148413313, 72.10155316696152, 72.19598669510651, 72.27906542889905, 72.34874618812245, 72.40325432323428, 72.44118233672866, 72.46157340202839, 72.46398191996018, 72.44850509060876, 72.41578216136014, 72.36696117646537, 72.30363623998636, 72.22776105133572, 72.14154641160656, 70.41839619342298, 70.39855918030183, 70.37864731873705, 70.35903149985377, 70.34014150634206, 70.32246319814394, 70.30653335771174, 70.292932231764, 70.28227399578873, 70.27519556516302, 70.27234435799853, 70.27436575130757, 70.28189103573312, 70.2955266420738, 70.31584527262272, 70.34337932365179, 70.37861665005164, 70.42199833220978, 70.47391770314601, 70.53471953081589, 70.60469797540787, 70.68409179644331, 70.77307530039535, 70.87174371423146, 70.98009204894588, 71.0979870738101, 71.22513274099103, 71.36103025582214, 71.50493494273582, 71.65581305631413, 71.8123026538848, 71.97268347490741, 72.13486132685921, 72.29637259595891, 72.45441401360945, 72.60590156721162, 72.74756036363057, 72.87604436840718, 72.98808145041475, 73.08063544343406, 73.1510735434333, 73.19732493405606, 73.21801567371718, 73.21256598760633, 73.18123924908622, 73.12513676106958, 73.04613824336404, 72.94679376060644, 72.83017774738275, 72.69971907452688, 70.40261721842299, 70.38146993976937, 70.36033873237574, 70.33965668826882, 70.3199275275411, 70.3017231561137, 70.28567856100729, 70.2724840580865, 70.26287512683597, 70.2576202990686, 70.25750778422827, 70.26333167868461, 70.27587868536226, 70.29591623423413, 70.32418272681292, 70.36138032924046, 70.40817032913134, 70.46517059001658, 70.53295413735945, 70.61204745209903, 70.70292669094282, 70.80600984850021, 70.92164286347219, 71.05007787413798, 71.19144225947362, 71.34569776407544, 71.51258989333141, 71.69158886865162, 71.88182472845483, 72.08202060595215, 72.29042973226038, 72.50478317528132, 72.72225653872063, 72.93946454915029, 73.15249233208046, 73.35697088289328, 73.54820149403922, 73.72132958776585, 73.87156268916459, 73.99442070483916, 74.08600020086575, 74.14322925556978, 74.16408700631658, 74.1477632161999, 74.09473838691159, 74.00677357721318, 73.8868097406571, 73.73878713631706, 73.56740424520059, 73.37784119278449, 70.39217124737203, 70.37031539562835, 70.34860084864964, 70.32751950469034, 70.30764510325699, 70.28963143719986, 70.27420769043053, 70.26217089785095, 70.25437576670316, 70.25172235749534, 70.25514236473441, 70.26558492331714, 70.28400295505365, 70.31134102700247, 70.34852549825041, 70.39645738335474, 70.45600788059024, 70.52801594494625, 70.61328668965592, 70.71258884441917, 70.82664905097312, 70.95614049598927, 71.10166331270274, 71.26371435760923, 71.44264440785415, 71.63860154420045, 71.85146049884683, 72.0807390728671, 72.32550437657872, 72.58427361218881, 72.85491635556168, 73.13456768428813, 73.41956381410606, 73.70541377397618, 73.98682154447526, 74.25777235065905, 74.51169375651672, 74.74169632685256, 74.94088979593606, 75.10275950641079, 75.2215758490982, 75.29279888178634, 75.3134339978318, 75.28229487228293, 75.20013809121687, 75.06964909254116, 74.89527855726683, 74.68294816632138, 74.43966061717173, 74.17305809413331, 70.38821523774396, 70.36639252548939, 70.34487619808061, 70.32421089914727, 70.30503311179241, 70.28807031088742, 70.27413718105956, 70.26412888721686, 70.25901163896336, 70.25981106260184, 70.26759914886979, 70.28348073812464, 70.30858059297873, 70.34403205324006, 70.39096804572443, 70.45051482955934, 70.52378831818802, 70.61189217828561, 70.71591622715509, 70.83693300690402, 70.97598987790289, 71.13409360853093, 71.31218429221056, 71.51109553240568, 71.73149823009983, 71.97382601526967, 72.23818142182597, 72.52422336601511, 72.83103841467201, 73.15700078370868, 73.4996290201786, 73.85545084639743, 74.21989148919998, 74.58720456080427, 74.95046747372359, 75.30166439378631, 75.6318775222192, 75.93160067766497, 76.19117678351795, 76.40134310705591, 76.55384684710184, 76.64207287998745, 76.6616106637071, 76.61068403986572, 76.49037939812708, 76.30463374086065, 76.0599793852362, 75.76507806379473, 75.4301055992683, 75.06606349429681, 70.39139405699018, 70.37042046862858, 70.34995938962444, 70.33060005431744, 70.31303180004177, 70.29804443298869, 70.28652577693637, 70.27945639379419, 70.2779017174121, 70.28300211098106, 70.29596160695677, 70.31803627266996, 70.35052321898324, 70.39475119412121, 70.45207345533979, 70.52386318413582, 70.61151112808338, 70.71642446011477, 70.840025108595, 70.98374510267416, 71.1490158701639, 71.33724798344075, 71.54979762313465, 71.78791605797572, 72.05267875488683, 72.34489137375489, 72.66497092054296, 73.01280181190663, 73.38756865788328, 73.7875703371091, 74.21002356599715, 74.65086874759402, 75.10459638988911, 75.56411849715738, 76.0207153001716, 76.46409210556116, 76.88258178337117, 77.26352276621661, 77.59382771379282, 77.86073271782136, 78.05268243358029, 78.16026843527547, 78.17710635140368, 78.10052385049964, 77.93194539034793, 77.67690186026252, 77.34465459658134, 76.94748712092152, 76.49976727783114, 76.01690658108267, 70.40171610255696, 70.3823975676529, 70.36383407957858, 70.34665000635786, 70.3315761005816, 70.31945133035698, 70.31122219044656, 70.30793949679334, 70.31075290343993, 70.32090362824832, 70.33971609689856, 70.36858937047862, 70.40898926634188, 70.46244197673508, 70.53052971102476, 70.61488843192244, 70.71720714487913, 70.83922747711217, 70.98274151101111, 71.14958508808787, 71.34162314651519, 71.56072316217812, 71.80871248260702, 72.08731531652109, 72.39806540496014, 72.74219099365288, 73.12046970807137, 73.53305239109733, 73.97925703045937, 74.45733676316686, 74.96422983062699, 75.49530452748598, 76.04411884607373, 76.60222267264531, 77.15903958597262, 77.70187424796305, 78.21609749760104, 78.68556047762188, 79.09327616656988, 79.42237659243142, 79.65730508423381, 79.78514061634436, 79.7968906746875, 79.68855257709464, 79.46175182418632, 79.12382708057048, 78.68733074256018, 78.1690210346056, 77.58850391764646, 76.9667218900813, 70.41853209208774, 70.40157700706871, 70.38564522784536, 70.37138633966161, 70.35956066050383, 70.35104276126607, 70.34682292485944, 70.34800657178579, 70.35581188573211, 70.37156608266109, 70.39670094681975, 70.4327483671606, 70.48133660711848, 70.54418789465343, 70.62311760611891, 70.72003483399003, 70.8369434941946, 70.97594238501159, 71.13922181525213, 71.3290536446027, 71.5477708965085, 71.7977325830879, 72.08126908404205, 72.40060340127961, 72.757743917195, 73.15434496716209, 73.59153265352072, 74.0696949526757, 74.58823739836647, 75.14530860167801, 75.73750378788269, 76.3595596605046, 77.0040605810743, 77.66118461592754, 78.31852857983432, 78.96106328363251, 79.57128186635664, 80.12961114009687, 80.61515112714969, 81.00678204191803, 81.28462279563139, 81.43174080085917, 81.43591547061683, 81.29118110279764, 80.99885871384241, 80.56785344503022, 80.01413053471705, 79.359442168198, 78.62950780036086, 77.85192117033291, 70.440623829186, 70.42656904935437, 70.413815960519, 70.40302969961195, 70.39498882892529, 70.39059073403422, 70.39085554603137, 70.39692864743606, 70.41008198833183, 70.43171460084977, 70.4633528250492, 70.50665081163852, 70.56339181049184, 70.6354905575435, 70.72499671674568, 70.83409881524591, 70.96512744531564, 71.12055573236901, 71.30299423881684, 71.51517665601666, 71.7599319072639, 72.04013772436332, 72.35865045229832, 72.71820586701169, 73.12128624977682, 73.56994994006492, 74.06562117717526, 74.60884031723732, 75.19897752824552, 75.8339168330881, 76.50972185743973, 77.22029979371251, 77.95708590196547, 78.70877745392181, 79.4611537067043, 80.19702768819428, 80.89638629993509, 81.53678594501065, 82.09407668100259, 82.54351906283893, 82.86132080272662, 83.02654403083234, 83.02322169210166, 82.84240218820348, 82.48376478112438, 81.95646015638826, 81.27894136902361, 80.47772876457034, 79.58524782379087, 78.6370461645252, 70.46638098106865, 70.45554414440986, 70.4462791663104, 70.43925774685745, 70.43526642097027, 70.43521396987764, 70.44013802576863, 70.45121096727819, 70.46974532862313, 70.49719905502928, 70.53518100370479, 70.58545708121534, 70.64995729261639, 70.73078372732037, 70.83021910280821, 70.95073492476385, 71.0949976122392, 71.26587010793003, 71.46640559284805, 71.69982901431432, 71.96950129480386, 72.27886041200071, 72.63133314236691, 73.03021128031274, 73.47848674847843, 73.97864139262398, 74.53238961005627, 75.14037547647953, 75.80183081865917, 76.51420667265411, 77.27279744389078, 78.07038415233707, 78.89692930869982, 79.7393598539949, 80.5814749382992, 81.4040116364489, 82.18489515174655, 82.8996939718069, 83.52229976158114, 84.0258605489482, 84.3840123688365, 84.57246614418757, 84.5709866392108, 84.36571547500988, 83.9516223020799, 83.33464784016513, 82.53293003012621, 81.57651974794133, 80.50528073181894, 79.36516600036184, 70.49402340824702, 70.48648737908567, 70.48076654276844, 70.47753092062246, 70.477565806008, 70.48178124346519, 70.49122140797986, 70.50707402767452, 70.53068007974963, 70.5635440525876, 70.60734508180121, 70.66394920659695, 70.73542282652389, 70.82404714172661, 70.93233291291087, 71.06303427083787, 71.21915954219565, 71.40397615641407, 71.62100568958407, 71.87400403833016, 72.166920671319, 72.50382998060886, 72.88882708951927, 73.32588026045705, 73.81863254375989, 74.37014685176689, 74.98259163771168, 75.65686925233847, 76.39219624254787, 77.18565453629583, 78.03174433491061, 78.92198244566332, 79.84460124396654, 80.78440928424727, 81.7228690402644, 82.6384242018237, 83.50706471506868, 84.30305610622749, 84.9996982895613, 85.56995528980416, 85.98686649408198, 86.22386341262977, 86.25545706793832, 86.05904896901698, 85.61848955448293, 84.92917297228983, 84.00317442302519, 82.87210963592986, 81.5858562299635, 80.20691496617916, 70.52182097629017, 70.5174486343517, 70.5150912729424, 70.51540949026439, 70.51917874626771, 70.52730084389904, 70.54081600968665, 70.56091577105879, 70.58895688469892, 70.62647659879141, 70.67520951046718, 70.73710618345551, 70.81435349412355, 70.90939635212354, 71.02495997370352, 71.16407125614207, 71.3300770033912, 71.52665578835234, 71.7578191210381, 72.02789635509112, 72.34149646141533, 72.70343851443116, 73.11864161155815, 73.59196419171785, 74.1279826493305, 74.73070020856643, 75.4031798457573, 76.14710041507433, 76.9622439578686, 77.84593534097347, 78.79247336674794, 79.79261475776742, 80.83319620171798, 81.89699850549069, 82.96295915666053, 84.0068079440888, 85.00211520179948, 85.92159202312915, 86.7382811854802, 87.4260923169464, 87.95910751639921, 88.30944996147701, 88.44453472077429, 88.32613629479134, 87.91473872745784, 87.18087253918675, 86.12012803601183, 84.76419962447424, 83.18132398401322, 81.4652505358665, 70.54827168448296, 70.54674374191471, 70.54737375208344, 70.55080522033099, 70.55779514203198, 70.56922726251968, 70.58612658037794, 70.60967535220239, 70.64123089618494, 70.68234550184813, 70.73478871538188, 70.80057216304003, 70.8819768760061, 70.98158276572197, 71.10229944652514, 71.2473969924107, 71.42053443008551, 71.62578279927197, 71.86763844838042, 72.15102088478315, 72.4812479869633, 72.86397976265405, 73.30512020184972, 73.81066530015528, 74.38648430401331, 75.0380211083578, 75.76990420249435, 76.58545759364989, 77.48611307358784, 78.47073770443167, 79.53491131082848, 80.67021848949278, 81.86365787119159, 83.0973134479639, 84.34846529783952, 85.59031198403167, 86.79338823506616, 87.9275350630537, 88.96389230069427, 89.8759104125359, 90.63802948315171, 91.22076774457884, 91.58209908901382, 91.658642577541, 91.36693669659081, 90.62642727644491, 89.39881739566039, 87.71839133188399, 85.69299232518023, 83.47705476103401, 70.57221638547061, 70.57308253254686, 70.57618386620038, 70.58213881709027, 70.59167665546096, 70.60565212411902, 70.62506185383846, 70.65106287944977, 70.68499360759063, 70.72839759329027, 70.78305044701506, 70.85099009886304, 70.934550472634, 71.03639834849828, 71.15957279704499, 71.30752602728526, 71.4841637843408, 71.69388253716123, 71.94159959234574, 72.2327709405962, 72.57339007978125, 72.96995927257174, 73.42942272832497, 73.95904914414216, 74.56624908408777, 75.25831114451005, 76.0420402870692, 76.92328297295367, 77.9063280982939, 78.993182102168, 80.18273361368449, 81.4698509758517, 82.8444985875396, 84.29101757487295, 85.78778924789509, 87.30756534466411, 88.81874612200212, 90.28768259477641, 91.68147906444618, 92.96973526143604, 94.12275962987822, 95.10405618216487, 95.8562264558373, 96.28065055441013, 96.2227803095806, 95.51113107829863, 94.05495739246768, 91.90903192117335, 89.26085262199565, 86.36571156107095, 70.59288669146021, 70.59562082124212, 70.6005974825521, 70.60840159230236, 70.6197245690796, 70.63537975616906, 70.65632001278992, 70.68365783926386, 70.71868843486179, 70.76291609850283, 70.81808436041663, 70.88621016331582, 70.96962227857975, 71.07100392858769, 71.19343927099932, 71.3404629628905, 71.51611143852674, 71.72497377822157, 71.97223908902427, 72.26373613141145, 72.6059594811379, 73.00607478895316, 73.47189368414286, 74.01180658045082, 74.63465915624465, 75.3495557542845, 76.1655706836215, 77.09134693918129, 78.13456207115752, 79.30124426679909, 80.59493039528972, 82.01567524709083, 83.55895258455584, 85.214541190776, 86.96557226777993, 88.78803701030171, 90.65120806680508, 92.51952924108814, 94.35618047194326, 96.12663140583183, 97.79648490966346, 99.3168813602186, 100.59832973320093, 101.48045755359334, 101.71131367390673, 101.01589595395069, 99.27116223651616, 96.59270787876018, 93.27713446767672, 89.6868183763524, 70.60989621224087, 70.61394858148432, 70.62018166793197, 70.62913820231998, 70.64146104485901, 70.65790868211653, 70.67937308701185, 70.70690032904376, 70.74171435608409, 70.78524438673385, 70.83915634425817, 70.90538871861817, 70.98619314936712, 71.08417986444456, 71.2023678711971, 71.34423945663448, 71.51379809112649, 71.71562821672775, 71.95495460686352, 72.23769797219343, 72.57052221760154, 72.96086718412029, 73.41695879486653, 73.94778623191694, 74.56303308952575, 75.27294641105608, 76.08812423844728, 77.01919904601894, 78.0763917051657, 79.2689093553067, 80.60416233271496, 82.08678279942373, 83.71744526949333, 85.4915237785522, 87.39768275331579, 89.4166050025448, 91.52023458657666, 93.67218832445107, 95.83040336959489, 97.95324029731755, 100.00302457151535, 101.92351102045424, 103.59536462300215, 104.79934757492444, 105.22031062526258, 104.54571245192491, 102.66491372838894, 99.75105887703917, 96.1487836295281, 92.24918166963808, 70.62319195887642, 70.6280336774472, 70.63493058320785, 70.64437490923707, 70.65695047275594, 70.67334747850128, 70.69437967379017, 70.72100422858043, 70.75434474514437, 70.79571782017587, 70.84666358008757, 70.90898057917167, 70.9847653796301, 71.07645700953951, 71.18688630433408, 71.31932986088978, 71.47756794827129, 71.66594519811743, 71.88943220678576, 72.15368527975056, 72.46510038717284, 72.83085592045919, 73.25893697820545, 73.75813159802293, 74.33798652556706, 75.00870673356745, 75.78097898693836, 76.66569542384435, 77.67354873118614, 78.81446677037297, 80.09685287034999, 81.52660102154633, 83.10586736715803, 84.83160829680148, 86.69395363627997, 88.67459112348152, 90.7455275910524, 92.86891181927979, 94.99909989624322, 97.08821105431547, 99.08937411290805, 100.93850684493891, 102.52055218415929, 103.64705032393458, 104.0665009148913, 103.53862143560423, 101.96320035008571, 99.4477512485596, 96.2564278611595, 92.71348365812756, 70.63298349008555, 70.63814090886208, 70.6451739317054, 70.65451718016097, 70.66668630259285, 70.68229136943376, 70.70205241691914, 70.72681746301647, 70.75758334161387, 70.795519711549, 70.84199658963881, 70.89861572387827, 70.9672460549241, 71.05006339910122, 71.14959430984757, 71.2687638185279, 71.41094639713643, 71.58001899613991, 71.78041435523802, 72.01717191962108, 72.2959825667651, 72.62322189705475, 73.00596499611059, 73.45197326572116, 73.96964108104494, 74.56788663406637, 75.25596741319023, 76.04319654717368, 76.93853220089437, 77.95000936702962, 79.08398367331394, 80.34416365174633, 81.73042713839948, 83.23745852549126, 84.85332044782471, 86.55820289251702, 88.32377942071416, 90.11377251525117, 91.88613838864904, 93.59586836368865, 95.19470998327692, 96.62452360353505, 97.80791016787985, 98.64292306782376, 98.99612380918153, 98.70294031421354, 97.65524124423717, 95.87667675794845, 93.51256510391997, 90.77651734321248, 70.6396645170698, 70.64474265573264, 70.65147575365577, 70.66023576951024, 70.67146358979026, 70.68568045399515, 70.70350117712886, 70.72564941664619, 70.75297523980096, 70.78647524410836, 70.8273154627917, 70.87685724164427, 70.93668619488894, 71.0086442243092, 71.09486440432957, 71.19780827858763, 71.32030475946243, 71.46558934468878, 71.63734173274936, 71.83971909359035, 72.07738119065655, 72.35550220893846, 72.67976247928871, 73.05631127355201, 73.49168948486094, 73.99269838086204, 74.5661979350898, 75.21881594499051, 75.95654806078028, 76.78423041246961, 77.7048730700273, 78.71885764446, 79.82303075257641, 81.00977208197551, 82.26618369832705, 83.5736260850365, 84.90787483113672, 86.24009345900743, 87.53848143465882, 88.76987505783104, 89.90020933548101, 90.89319899583361, 91.70715149631549, 92.28832994527023, 92.55975675146098, 92.42377116837639, 91.8023445806368, 90.68210761810421, 89.12446969737324, 87.24563882035592, 70.64373752525114, 70.64843275019625, 70.65453627776473, 70.66235508128747, 70.67225212686802, 70.68465548893275, 70.70006882714173, 70.71908338319795, 70.74239165049383, 70.77080285142884, 70.80526032169251, 70.84686084165193, 70.89687586451262, 70.9567744596339, 71.02824760566509, 71.11323321802095, 71.21394096205519, 71.33287546803857, 71.4728560056954, 71.63702997315013, 71.82887668885533, 72.05219693483154, 72.3110824927392, 72.60985858226725, 72.95299075455026, 73.34494660944932, 73.79000204366925, 74.29198216929976, 74.85392944806655, 75.47769721745762, 76.16347724909826, 76.90928698694118, 77.71046669506391, 78.55926751074846, 79.44464140391317, 80.35235667241042, 81.26552956465285, 82.16555208768354, 83.03320011665787, 83.84947653656654, 84.59558276628634, 85.25138315449497, 85.79190760755316, 86.18244231124672, 86.37572273277031, 86.31771388216015, 85.96414257089604, 85.29910680769545, 84.34417352158023, 83.1545031832419, 70.64574802574525, 70.64985095902607, 70.65510512120228, 70.66175320822542, 70.67008094876421, 70.68042381633, 70.69317464915964, 70.70879225164148, 70.72781103392566, 70.75085171717579, 70.77863308672417, 70.81198470934773, 70.85186043819982, 70.89935240281301, 70.95570501424564, 71.02232829828564, 71.10080959369517, 71.19292230936067, 71.30063001764367, 71.42608366981563, 71.57160916104198, 71.73968187068725, 71.93288420818104, 72.15384169419056, 72.40513284779023, 72.68916835826191, 73.00803602142764, 73.36331015440885, 73.75582820532694, 74.18544359639068, 74.6507728397128, 75.14896640437263, 75.67554516632484, 76.22435380476483, 76.78768242909833, 77.35658830756253, 77.92140076988466, 78.47231020485275, 78.99983797619922, 79.4948923686339, 79.94809583785803, 80.3482086114943, 80.67988951494705, 80.9217816798309, 81.0466650657419, 81.02524050694498, 80.8332707223459, 80.45934801440359, 79.90977547063234, 79.20865497967759, 70.6462319354912, 70.64962218050047, 70.65391077801961, 70.65927976193318, 70.66594198663016, 70.67414556410698, 70.68417879398777, 70.69637559125536, 70.71112139290871, 70.72885949091408, 70.75009769200109, 70.77541514199851, 70.80546907014815, 70.84100110367635, 70.88284267150722, 70.9319188557116, 70.98924985893944, 71.05594903730393, 71.1332162072676, 71.22232468572562, 71.32460028952472, 71.44139034494748, 71.57402070199146, 71.72373890359371, 71.89164215079714, 72.078589690196, 72.28510091416176, 72.51124298835612, 72.75651532043722, 73.01974259602474, 73.29899301442666, 73.59154274383961, 73.89390962521051, 74.20197596216241, 74.51120833084981, 74.8169585796319, 75.11479390706383, 75.40076005648068, 75.67144402795836, 75.92369551990443, 76.15392172791562, 76.35701703544758, 76.52522567933175, 76.64748421105946, 76.70987367541305, 76.69753367489695, 76.59775357451949, 76.40329590897817, 76.11478234999318, 75.74134695001464, 70.6456773299074, 70.64831205191348, 70.65160879590348, 70.6556949594694, 70.66071791374216, 70.66684745858616, 70.67427843121462, 70.68323342540735, 70.69396555380044, 70.70676115346039, 70.72194229380537, 70.73986889460531, 70.7609401992479, 70.78559527418841, 70.81431211994642, 70.84760488414668, 70.8860185672831, 70.93012051496889, 70.98048790923241, 71.03769042545899, 71.10226723909264, 71.17469768602973, 71.25536515341095, 71.3445142651565, 71.4422021981254, 71.54824608590943, 71.66216997991486, 71.78315672496691, 71.91001224172422, 72.04115178263957, 72.17461917631336, 72.30815001660449, 72.43928701054695, 72.56554897445903, 72.68464327350185, 72.794694915481, 72.89444619986465, 72.98336402902345, 73.06158637011468, 73.12965573741722, 73.18803498556369, 73.23647915304495, 73.27342851882382, 73.29565206646663, 73.29835605494885, 73.27585037446205, 73.22266580010515, 73.13482891720402, 73.01092699891335, 72.8526693653547, 70.64450021253916, 70.64639885357674, 70.64874895942485, 70.65163098643504, 70.6551362784268, 70.65936792614671, 70.66444153096631, 70.6704858034714, 70.6776429056929, 70.68606841927368, 70.69593079063739, 70.70741006835367, 70.72069570805651, 70.7359831779983, 70.7534690563468, 70.7733442741005, 70.79578513174187, 70.82094171317462, 70.84892335050318, 70.8797808755307, 70.91348555084097, 70.94990483161568, 70.98877549815813, 71.02967524654166, 71.0719945508753, 71.11491151598618, 71.15737348839173, 71.19809029265717, 71.235544932368, 71.2680281561951, 71.29370304082458, 71.31070419394132, 71.31727283338778, 71.31192350934836, 71.29363066811105, 71.2620143853843, 71.21749617366068, 71.1613905404081, 71.09589924384852, 71.02398570464123, 70.9491272618971, 70.87496943730349, 70.8049313571068, 70.74182560887783, 70.68755367825122, 70.64292319746205, 70.60761565612752, 70.58031863612823, 70.55901754814482, 70.54140708192989, 70.64303281315604, 70.64426019668252, 70.64576002379223, 70.64757434713556, 70.64974894436774, 70.65233299371127, 70.65537849228494, 70.65893933830068, 70.66306998116255, 70.66782352449958, 70.6732491467573, 70.67938868314413, 70.68627219308928, 70.69391232137566, 70.70229725232119, 70.711382059747, 70.72107827761894, 70.73124156574492, 70.74165743236688, 70.7520251134422, 70.76193991073411, 70.77087457144393, 70.77816066264099, 70.78297135977536, 70.784307624216, 70.78099036545785, 70.77166181748245, 70.75479991782393, 70.72874983213497, 70.69177674500992, 70.64214344012385, 70.57821482455567, 70.49858927854923, 70.40225353259532, 70.28875389949027, 70.15837258380233, 70.0122941234002, 69.85274446490462, 69.68308406479956, 69.50783629300439, 69.33263188087261, 69.16404739842442, 69.00931054395403, 68.87584214782, 68.77061697525427, 68.69937067429657, 68.665766186784, 68.6707301481843, 68.71220294062405, 68.78544595950689, 70.64152216784699, 70.64217196158192, 70.64294914392127, 70.64386597324828, 70.64493315583401, 70.64615872371505, 70.64754656812643, 70.64909455156298, 70.65079210967987, 70.65261724233943, 70.65453278206616, 70.6564818193091, 70.65838215910452, 70.66011968553272, 70.66154052213925, 70.66244190253732, 70.66256171102822, 70.66156672455574, 70.6590396917476, 70.65446552968984, 70.64721711156783, 70.63654136395563, 70.62154669356788, 70.60119311620993, 70.5742868533782, 70.53948157064869, 70.49528881836734, 70.44010054513159, 70.37222671966511, 70.28995103983499, 70.19160735414819, 70.0756787150835, 69.94091990506053, 69.78650285096558, 69.61218263309688, 69.41847984354911, 69.2068727766937, 68.97998997063625, 68.74178912864437, 68.49770107049409, 68.25470549855947, 68.02128823293855, 67.80720952919697, 67.6229994948762, 67.47911003598438, 67.38472381870695, 67.34637034129211, 67.36669054375386, 67.44379188064973, 67.57149399115202, 70.64013633191949, 70.64031635573511, 70.64051226769129, 70.64071459522228, 70.64090873822852, 70.64107337866392, 70.64117851494161, 70.64118305274509, 70.64103187652124, 70.64065231972509, 70.63994994775689, 70.63880356680387, 70.63705937620237, 70.63452419367829, 70.63095770464052, 70.62606372186613, 70.61948049422003, 70.61077017668156, 70.5994076732708, 70.58476919364037, 70.56612102653037, 70.54260923086373, 70.51325117741382, 70.47693013660083, 70.43239439238201, 70.37826265433468, 70.31303782023981, 70.23513138523396, 70.14290097338102, 70.0347035556732, 69.90896689014896, 69.76428155363637, 69.59951560702619, 69.41395340318172, 69.20745920715993, 68.98066493058282, 68.73517895671228, 68.47380901891688, 68.2007853030976, 67.92195900609775, 67.64493525186963, 67.37907746701201, 67.13529631405538, 66.92552046885149, 66.76176112602931, 66.65476137221543, 66.61239224724089, 66.63818347143152, 66.73050645520462, 66.88277309927692, 70.63897551813625, 70.63879581557657, 70.63855149415369, 70.63821844546817, 70.6377652913835, 70.63715158478618, 70.63632564341731, 70.63522195973738, 70.63375812599833, 70.63183121155701, 70.62931352987196, 70.62604773672797, 70.62184121046947, 70.6164596811381, 70.60962010046981, 70.60098278108326, 70.5901428835039, 70.57662139669068, 70.55985584422609, 70.53919105682137, 70.51387048427085, 70.4830286775808, 70.44568575456606, 70.40074486803803, 70.34699392125383, 70.28311301510571, 70.20768935834946, 70.11924161711775, 70.01625591247345, 69.89723588147977, 69.76076937872122, 69.60561447810727, 69.4308073774503, 69.23579449632513, 69.02059028786188, 68.78596071848845, 68.5336294815709, 68.26649905826474, 67.98887078843694, 67.70663621729142, 67.42739564913347, 67.16044006633562, 66.91651376206902, 66.70726791505642, 66.54433960522913, 66.43807223927443, 66.39604456934089, 66.42175457818091, 66.5138892167417, 66.66647263150473, 70.6380856938164, 70.63764973962903, 70.63709569011075, 70.63639070040571, 70.63549364630767, 70.63435330568615, 70.63290620545554, 70.63107408897974, 70.62876095753576, 70.62584964000627, 70.62219784809203, 70.61763368097462, 70.61195055465433, 70.60490154848137, 70.59619318623749, 70.58547870324523, 70.57235089627136, 70.55633471143274, 70.53687979890599, 70.51335335389811, 70.48503367275629, 70.45110498265113, 70.41065425386067, 70.36267087562766, 70.30605026944018, 70.23960272601828, 70.16206898149584, 70.07214428911718, 69.96851298577629, 69.84989578054906, 69.71511217345014, 69.56316049117807, 69.39331790761145, 69.2052623459233, 68.99921709843011, 68.77611700464733, 68.53779163402646, 68.28715556927003, 68.02838802672626, 67.76707338501687, 67.51026118431842, 67.2663909120347, 67.04501843874269, 66.85628652381094, 66.71011436667912, 66.61515201341251, 66.57765005539538, 66.60049550237697, 66.68269135700078, 66.8194564226321, 70.63747262365762, 70.63687159536593, 70.63612135081357, 70.63518494914112, 70.63401699915386, 70.63256194858207, 70.63075208423388, 70.62850520915039, 70.62572196332313, 70.62228275676027, 70.6180442883176, 70.61283563149988, 70.60645388028463, 70.59865936496962, 70.58917047128355, 70.57765812686199, 70.56374005912834, 70.54697497919224, 70.5268569092059, 70.502809947349, 70.47418385685205, 70.44025097470912, 70.40020506322807, 70.35316287415023, 70.29816936079614, 70.23420765725939, 70.1602151413586, 70.0751071019968, 69.97780972689006, 69.86730428708965, 69.74268447644164, 69.6032287969982, 69.448489558529, 69.27839932669625, 69.09339429832751, 68.89455183539513, 68.6837359493999, 68.46373962222397, 68.23840637157386, 68.01270572523177, 67.79272936566042, 67.58556905603054, 67.39903820181159, 67.24121173184689, 67.11978939401924, 67.04133655420094, 67.01051449494011, 67.02945537145567, 67.09743535945174, 67.21093759214334, 70.63711490216029, 70.6364246394506, 70.6355715727223, 70.63451810484707, 70.63321859307571, 70.63161782203282, 70.62964923768013, 70.62723291823903, 70.62427325964, 70.62065635628953, 70.61624706332705, 70.61088573469192, 70.60438464295122, 70.59652410277604, 70.58704834113871, 70.575661184786, 70.5620216704815, 70.54573972715252, 70.52637213273597, 70.50341901353316, 70.47632123154375, 70.44445909667785, 70.40715294670163, 70.36366625831808, 70.31321208675638, 70.25496377539821, 70.18807102468635, 70.11168254891773, 70.02497666057599, 69.92720117301022, 69.81772395575399, 69.69609524366741, 69.56212229678381, 69.41595611014438, 69.2581884369097, 69.08995526259507, 68.91303993491172, 68.72996539802497, 68.54406060740028, 68.35948179910527, 68.18116600934908, 68.0146939317768, 67.86604428953001, 67.74123478303072, 67.64586635891847, 67.58461567677097, 67.56074794515554, 67.57573732427394, 67.62907397541831, 67.7183025594148, 70.63697507803299, 70.6362551902421, 70.63537188716057, 70.63428929032935, 70.63296423650714, 70.63134497074157, 70.62936964967201, 70.62696463932595, 70.62404259393624, 70.62050030605003, 70.61621632383535, 70.61104833950849, 70.60483036377245, 70.59736971572426, 70.5884438765952, 70.57779727974825, 70.5651381394582, 70.55013545808008, 70.53241639621702, 70.51156424432492, 70.48711729757483, 70.45856900913888, 70.42536988018635, 70.38693163658316, 70.34263433979939, 70.29183717760124, 70.23389376985953, 70.16817289216351, 70.09408554368015, 70.0111192353281, 69.9188802079203, 69.81714395279636, 69.70591383279707, 69.58548671475211, 69.45652325496073, 69.32011878032178, 69.17786859402425, 69.03191913242658, 68.88499401309345, 68.74038219053196, 68.60187500004287, 68.47364086409995, 68.36003189575254, 68.26532613496698, 68.19342216666854, 68.14751716401805, 68.12981097975354, 68.14128297358302, 68.18158126734475, 68.24904603998066, 70.6370084580246, 70.63630299321336, 70.63544245195463, 70.63439416074523, 70.63311910567711, 70.6315708532489, 70.62969432634983, 70.6274244262589, 70.6246844941182, 70.62138460924373, 70.61741972716212, 70.61266766779082, 70.60698697415313, 70.60021467493512, 70.59216400059748, 70.58262212324605, 70.5713480156528, 70.55807055531389, 70.54248703577578, 70.52426229005121, 70.50302867990435, 70.47838725976455, 70.44991048394195, 70.41714688845293, 70.37962824025747, 70.33687970087568, 70.28843358884363, 70.23384733283028, 70.17272616594164, 70.10475099743181, 70.02971168040936, 69.94754553796793, 69.85838047860796, 69.76258129281764, 69.66079676017544, 69.5540040270695, 69.4435454112701, 69.33115150491139, 69.21894344056464, 69.10940682723904, 69.00533061086878, 68.90970642362686, 68.82558815535175, 68.75591742450152, 68.70332765968074, 68.66994624378177, 68.6572187244755, 68.66577958393354, 68.69538941712, 68.74494899890759, 70.63716954930847, 70.63650867377908, 70.63570665175529, 70.63473480005398, 70.63355909545011, 70.63213931160799, 70.63042804984879, 70.62836965953615, 70.6258990465578, 70.622940372168, 70.61940564958614, 70.61519325251152, 70.6101863584367, 70.60425136067649, 70.59723629675167, 70.58896935755898, 70.5792575619783, 70.56788570551757, 70.5546157194476, 70.53918660859858, 70.52131517120347, 70.50069774199216, 70.47701323853754, 70.44992782795515, 70.41910156238751, 70.38419735135365, 70.34489263884306, 70.30089412215338, 70.25195577423658, 70.19790029539558, 70.13864390546003, 70.07422407618307, 70.00482938141208, 69.93083010476987, 69.85280760341695, 69.77157972109504, 69.68821885056984, 69.60405868700971, 69.52068545914614, 69.43990967867124, 69.36371541660841, 69.29418594821158, 69.23340731848145, 69.18335476130784, 69.145770476581, 69.12204430383545, 69.1131104903937, 69.1193733321621, 69.14067167510534, 69.17628742245968, 70.6374163490529, 70.63681856963089, 70.63609651097363, 70.63522574418775, 70.63417746899147, 70.6329178435472, 70.63140723974244, 70.62959942314389, 70.6274406594208, 70.62486875249152, 70.62181202417892, 70.61818825096972, 70.61390358078174, 70.60885146167811, 70.60291162545683, 70.59594918218512, 70.58781389719377, 70.57833973984944, 70.5673448134897, 70.55463179790829, 70.53998905905792, 70.52319260406794, 70.50400908149763, 70.48220004439092, 70.45752770357015, 70.4297623959011, 70.3986919708255, 70.3641332507841, 70.32594563859679, 70.28404681824009, 70.23843031615725, 70.18918445206909, 70.1365119101562, 70.08074881108169, 70.02238178315532, 69.96206115472857, 69.90060807766505, 69.83901322187053, 69.7784247469484, 69.72012365470195, 69.66548543084808, 69.61592812082392, 69.57284859443796, 69.53755057066714, 69.51116972004723, 69.4946024838889, 69.48844578980854, 69.49295434289868, 69.50802056928937, 69.53317977404986];\n",
       "const lower_is_better = false;\n",
       "const metric = \"min_move\";\n",
       "const rel = false;\n",
       "const sd = [14.483572824809599, 14.48357204740902, 14.483571084842461, 14.483569888454843, 14.48356839671294, 14.48356653240423, 14.483564199543894, 14.483561280085828, 14.483557630592442, 14.483553079088612, 14.483547422405575, 14.483540424406245, 14.483531815567378, 14.48352129446605, 14.483508531764379, 14.483493177291024, 14.483474870762683, 14.483453256555608, 14.48342800271129, 14.483398824034055, 14.483365508714293, 14.483327947407869, 14.483286163155988, 14.483240339996426, 14.483190847668567, 14.483138259534636, 14.483083360811012, 14.483027144496, 14.482970793034024, 14.482915644766098, 14.48286314552388, 14.482814787213298, 14.482772036738767, 14.482736259945485, 14.482708646208605, 14.482690139708675, 14.482681383200546, 14.48268267919131, 14.482693971971292, 14.482714852057775, 14.482744582544493, 14.482782144859028, 14.482826299758742, 14.482875658235068, 14.482928756457481, 14.482984128991703, 14.483040375203782, 14.483096214875571, 14.483150530430278, 14.483202394611242, 14.483570463257696, 14.48356925191047, 14.483567778567311, 14.483565977717872, 14.483563766014218, 14.483561038105625, 14.483557661972588, 14.483553473889842, 14.483548273238354, 14.483541817495519, 14.483533817858822, 14.483523936094468, 14.483511783338715, 14.483496921699944, 14.48347886959323, 14.483457111760028, 14.48343111485444, 14.483400349284256, 14.483364317654079, 14.48332258965351, 14.48327484256765, 14.483220905786414, 14.483160806810055, 14.483094815380488, 14.483023481630552, 14.482947663675246, 14.482868540011175, 14.482787602561727, 14.482706627274917, 14.48262762084135, 14.482552744249288, 14.482484216332521, 14.482424202909407, 14.482374699224573, 14.482337414855628, 14.482313670764695, 14.482304317603369, 14.482309682719906, 14.482329550736118, 14.482363179372657, 14.482409348817228, 14.482466439791969, 14.482532532979555, 14.482605520899957, 14.482683222827267, 14.482763493874984, 14.48284432079121, 14.482923899024605, 14.483000687932341, 14.483073443294307, 14.483566339637754, 14.483564412141638, 14.483562114239053, 14.483559360811448, 14.483556042859187, 14.483552021393857, 14.483547120474276, 14.483541119553434, 14.483533745439594, 14.483524664342085, 14.483513474667136, 14.483499701442977, 14.483482793471108, 14.48346212449933, 14.483436999859796, 14.483406670072368, 14.483370352832935, 14.483327264539774, 14.483276662013933, 14.483217894312524, 14.483150463512747, 14.483074092094538, 14.482988793154732, 14.482894938284756, 14.482793316727797, 14.48268517862762, 14.482572255026293, 14.482456747965953, 14.482341285725333, 14.48222884087304, 14.482122612284504, 14.482025876216264, 14.481941815481786, 14.481873339163382, 14.48182290756483, 14.481792377807306, 14.481782884351741, 14.481794765819995, 14.481827545101785, 14.481879964437159, 14.481950071674, 14.482035348962825, 14.482132871410455, 14.48223948110282, 14.482351961586271, 14.482467199249534, 14.482582320727388, 14.482694798957926, 14.482802524324374, 14.4829038409014, 14.483559127594356, 14.483555995291745, 14.483552337221743, 14.483548048283376, 14.48354299299616, 14.483536996726384, 14.483529835465635, 14.48352122436317, 14.483510805417252, 14.483498134982895, 14.483482672049904, 14.483463768573955, 14.483440663483345, 14.483412482302006, 14.48337824457949, 14.483336881441101, 14.483287265495788, 14.483228254988786, 14.483158753388325, 14.483077784496581, 14.482984581657746, 14.482878687741342, 14.482760060424022, 14.4826291750842, 14.482487115654544, 14.482335642408247, 14.482177225271407, 14.482015032199847, 14.481852864658638, 14.481695036320126, 14.481546196512127, 14.481411106179381, 14.481294380394816, 14.481200216847874, 14.481132133319342, 14.481092738179116, 14.48108355601548, 14.481104925683622, 14.481155980897311, 14.48123471494314, 14.481338122379702, 14.481462402926482, 14.481603207179589, 14.481755900964368, 14.48191582522734, 14.482078531096315, 14.48223997444694, 14.482396660143037, 14.482545732167356, 14.482685011342255, 14.48354657722408, 14.483541391526177, 14.483535451089233, 14.48352863571125, 14.4835207895288, 14.483511708745592, 14.48350112694508, 14.483488698208719, 14.483473978564346, 14.483456406666361, 14.48343528505364, 14.483409763825785, 14.483378829093272, 14.483341299046238, 14.483295830885458, 14.483240942082993, 14.483175049386615, 14.483096528537954, 14.483003796727335, 14.482895418267994, 14.48277023179846, 14.482627494554457, 14.482467036044769, 14.482289410109107, 14.48209603126054, 14.481889278967182, 14.481672552708716, 14.481450261810433, 14.481227737598955, 14.481011061424725, 14.48080681023264, 14.480621730851993, 14.480462363826652, 14.48033464595937, 14.480243526324116, 14.480192632104856, 14.480184017600344, 14.480218022190428, 14.480293251881912, 14.480406685798044, 14.480553895589395, 14.480729354184259, 14.480926802167376, 14.481139636336978, 14.481361285824548, 14.48158554600728, 14.481806848175479, 14.482020452117089, 14.482222558024654, 14.48241034222444, 14.483524981920059, 14.483516279603133, 14.48350647203283, 14.483495438448578, 14.483483021851042, 14.483469012383146, 14.48345312672043, 14.483434983676567, 14.483414076683514, 14.483389744369557, 14.48336114111928, 14.483327210230572, 14.483286663041222, 14.483237968117392, 14.483179355189984, 14.483108838878557, 14.483024267216921, 14.482923399432659, 14.482804016174784, 14.482664063292992, 14.482501827273067, 14.482316136558214, 14.482106578424167, 14.481873716212826, 14.481619287162035, 14.481346357582193, 14.48105941061234, 14.480764343092977, 14.480468352851362, 14.48017970610772, 14.47990738637319, 14.479660640020986, 14.479448447923687, 14.479278964982003, 14.479158977779557, 14.47909343313051, 14.479085085923117, 14.479134303527585, 14.479239047480151, 14.479395033555406, 14.479596051661815, 14.479834410211222, 14.480101458113463, 14.480388132705148, 14.480685483898714, 14.480985132661823, 14.481279633808054, 14.481562726805775, 14.481829471756102, 14.48207627913164, 14.483488450618179, 14.48347375055906, 14.483457387041476, 14.483439269102037, 14.483419280104764, 14.483397256072614, 14.483372957456716, 14.483346034455797, 14.483315986690473, 14.483282118891578, 14.483243495249786, 14.483198896147162, 14.48314678208155, 14.483085270608504, 14.483012132945127, 14.48292481735807, 14.482820506419108, 14.482696214457874, 14.48254892986708, 14.4823758041387, 14.482174385516684, 14.481942889961607, 14.481680495954127, 14.481387643000772, 14.481066307326564, 14.48072022320003, 14.480355015868831, 14.479978213411941, 14.479599110887177, 14.479228471349554, 14.478878064173077, 14.478560060167565, 14.47828632283279, 14.47806765266006, 14.477913053457886, 14.477829093544555, 14.477819428795037, 14.47788453907992, 14.478021706497294, 14.478225236382862, 14.478486894649379, 14.478796511804301, 14.479142688405446, 14.479513530615929, 14.479897348019657, 14.480283257439119, 14.480661653489513, 14.481024525840487, 14.48136562162691, 14.4816804668026, 14.48342801792932, 14.48340321959471, 14.483375841425987, 14.483345876210558, 14.483313323730007, 14.483278163769493, 14.483240318323432, 14.483199602852103, 14.483155667530383, 14.483107930759887, 14.483055508724673, 14.482997146364358, 14.48293115669689, 14.482855376804228, 14.482767149835793, 14.482663342905646, 14.482540410559038, 14.482394512343957, 14.482221690719227, 14.482018111859633, 14.481780366748463, 14.481505823290888, 14.481193012283532, 14.480842021504278, 14.480454863889689, 14.480035779065616, 14.47959142397415, 14.479130909616883, 14.478665648325968, 14.47820899008541, 14.477775646772287, 14.477380927961253, 14.477039838024178, 14.47676610760437, 14.476571248837137, 14.476463729253132, 14.476448352016208, 14.476525910106162, 14.476693151766689, 14.476943058552894, 14.477265401343711, 14.477647509420704, 14.478075167642938, 14.478533549294072, 14.479008097367386, 14.479485282736398, 14.479953190183044, 14.480401908376844, 14.480823723659906, 14.481213136887975, 14.483330737582584, 14.48328929007824, 14.483243737677089, 14.483194243124531, 14.483141048390047, 14.483084442984442, 14.483024714424944, 14.482962080100611, 14.482896601546065, 14.482828084270903, 14.482755968674594, 14.482679220011578, 14.482596227634293, 14.48250472559506, 14.48240174789794, 14.48228363204154, 14.48214608378387, 14.481984314105729, 14.48179325597674, 14.48156786358834, 14.481303490122118, 14.480996331912545, 14.480643917316101, 14.480245608334961, 14.479803073119294, 14.479320679396775, 14.478805754512969, 14.478268659070917, 14.477722629784639, 14.47718336395204, 14.476668342449816, 14.476195918269006, 14.475784229616814, 14.475450025548565, 14.475207512610451, 14.475067338446658, 14.475035820020803, 14.4751145000365, 14.4753000783567, 14.475584721331735, 14.475956708029145, 14.47640133545656, 14.476901980505051, 14.477441207445619, 14.478001816319395, 14.478567746724767, 14.479124778767735, 14.479661003090357, 14.480167060145948, 14.48063617169843, 14.483179086959417, 14.483110955242196, 14.483036193330165, 14.482955260105, 14.482868831582145, 14.48277776686272, 14.482683044551345, 14.482585667591245, 14.482486537360716, 14.482386301412706, 14.482285183134145, 14.482182805470835, 14.482078024273756, 14.481968789347206, 14.481852052553657, 14.481723742092369, 14.481578820171404, 14.481411437690102, 14.481215194264756, 14.480983505024204, 14.480710067165903, 14.480389409457656, 14.480017497019464, 14.47959235243913, 14.479114643598464, 14.478588180031817, 14.478020255141145, 14.477421773262265, 14.476807110268076, 14.476193675132597, 14.47560116728594, 14.47505055846565, 14.474562864033489, 14.474157801842965, 14.473852460648907, 14.47366010944057, 14.473589270742748, 14.473643154758184, 14.47381951055749, 14.474110901640683, 14.474505364051335, 14.474987363734185, 14.4755389421738, 14.4761409287823, 14.476774104898755, 14.477420224529157, 14.47806282604745, 14.478687801293535, 14.479283718695394, 14.47984192146243, 14.482951242754451, 14.482841813761585, 14.482721663302797, 14.48259171613158, 14.482453354049523, 14.482308384789249, 14.48215896233209, 14.482007453967457, 14.481856254184736, 14.48170755141665, 14.48156306017302, 14.48142373747214, 14.481289507860325, 14.481159024915913, 14.481029498345759, 14.480896614263699, 14.480754571979137, 14.480596253902627, 14.480413536477762, 14.480197739935004, 14.479940203659671, 14.479632962518224, 14.47926948800303, 14.47884544703885, 14.478359421518697, 14.477813524292415, 14.477213844048894, 14.476570654212699, 14.475898331394884, 14.475214948180682, 14.474541532877309, 14.473901023271681, 14.473316978539522, 14.472812147754878, 14.472407018905852, 14.47211848353834, 14.471958745775062, 14.471934580219777, 14.472047004315522, 14.47229138316672, 14.472657936394446, 14.473132574952349, 14.473697966958072, 14.474334718612848, 14.475022559111219, 14.475741434257454, 14.476472437755847, 14.477198536789238, 14.477905075096274, 14.478580059137842, 14.482622987456654, 14.482452239241448, 14.482264372806403, 14.482060987059516, 14.481844525854005, 14.481618259889471, 14.481386190029264, 14.481152862294953, 14.480923092601742, 14.480701609181873, 14.480492631609085, 14.480299416009517, 14.480123804862014, 14.479965825280638, 14.479823380738921, 14.479692077357715, 14.479565217381436, 14.479433980233463, 14.479287796962451, 14.479114908520579, 14.478903083547273, 14.478640458172995, 14.478316449354088, 14.477922684602165, 14.477453884785508, 14.476908633254554, 14.476289964575018, 14.475605710738009, 14.474868553109804, 14.474095745520618, 14.473308497819058, 14.47253103860819, 14.471789407832775, 14.47111006019012, 14.470518384175948, 14.470037254595262, 14.469685735772028, 14.469478038057819, 14.469422803745283, 14.469522764443818, 14.469774775768322, 14.470170202031795, 14.47069559741657, 14.471333612803216, 14.472064049129687, 14.472864977528978, 14.473713851638134, 14.474588546555484, 14.475468270586818, 14.476334309306855, 14.482172004810849, 14.48191447512569, 14.481630283630317, 14.481321931990808, 14.480993353384104, 14.480649924403385, 14.480298353154703, 14.479946424823428, 14.479602598351375, 14.479275463973561, 14.478973089528852, 14.478702301260066, 14.478467959452491, 14.47827229805491, 14.478114398419143, 14.477989859709627, 14.477890713045241, 14.47780560508507, 14.47772025256789, 14.477618145596665, 14.477481457174912, 14.477292101645405, 14.477032876001994, 14.476688615114956, 14.476247293499018, 14.475701010869109, 14.47504680513941, 14.474287244088652, 14.473430755647707, 14.472491667097946, 14.471489935866032, 14.470450569166754, 14.469402745993804, 14.468378671853788, 14.467412212889753, 14.466537370509903, 14.465786669659048, 14.465189543279712, 14.464770802325713, 14.464549284573087, 14.46453677524342, 14.464737286019867, 14.465146763909932, 14.465753275770192, 14.466537678225862, 14.467474739013074, 14.468534630042848, 14.469684672127974, 14.470891183760548, 14.472121277076477, 14.481584888421436, 14.481211131687415, 14.480797262347199, 14.480346900013682, 14.479865924714302, 14.479362544170847, 14.47884717295848, 14.478332090018313, 14.47783085979257, 14.477357527553657, 14.476925628628859, 14.476547080156099, 14.47623104795705, 14.475982895440993, 14.475803322711553, 14.475687790913875, 14.475626300642324, 14.4756035577852, 14.47559952118843, 14.475590290262394, 14.475549262667094, 14.475448476100988, 14.475260045020928, 14.474957611274961, 14.474517743559652, 14.473921239668861, 14.47315430298751, 14.472209576727547, 14.471087023507245, 14.469794633169972, 14.468348929024508, 14.466775224399587, 14.465107561563364, 14.463388249167645, 14.461666909059117, 14.459998955431141, 14.458443464472614, 14.4570604531504, 14.455907668271248, 14.45503708133733, 14.454491374165396, 14.45430076402823, 14.454480535250863, 14.455029603487962, 14.45593033784462, 14.45714971723751, 14.458641726040328, 14.46035073207094, 14.462215468185653, 14.464173179051176, 14.480866144138473, 14.480346297101203, 14.479768608496503, 14.479137971696522, 14.478462629054517, 14.477754327477987, 14.477028200478859, 14.47630232077392, 14.475596894678857, 14.474933107424436, 14.474331673141005, 14.473811188313336, 14.473386425291181, 14.473066725315416, 14.472854652714629, 14.472745051170504, 14.472724601430606, 14.472771924136643, 14.472858211280705, 14.472948316040997, 14.473002192905467, 14.472976564182748, 14.472826696690088, 14.472508200265807, 14.471978800504628, 14.471200082049197, 14.470139235466268, 14.468770860627071, 14.46707887517296, 14.465058543830319, 14.462718582938832, 14.460083209622292, 14.457193907695107, 14.454110590284381, 14.450911775507063, 14.447693382322527, 14.444565822111521, 14.441649220656613, 14.439066850019856, 14.436937151824253, 14.435365040736471, 14.434433422113987, 14.434195973449494, 14.434672177737516, 14.435845347720377, 14.437663978285578, 14.440046285643632, 14.44288733376113, 14.44606780400162, 14.449463296938726, 14.4800469105539, 14.479356524830395, 14.478586695202226, 14.477743637765572, 14.476838232981507, 14.475886304803998, 14.474908521517683, 14.473929831551484, 14.472978384637033, 14.472083942299722, 14.47127584627064, 14.47058067976188, 14.470019813008264, 14.469607059255308, 14.469346671374067, 14.46923187878341, 14.469244102656745, 14.469352904796134, 14.469516637542664, 14.469683685975953, 14.469794144712193, 14.469781759656067, 14.469575992373716, 14.469104125697232, 14.468293411366206, 14.467073346962051, 14.465378240907507, 14.46315026176956, 14.460343154516993, 14.456926728998095, 14.452892078947432, 14.448257278073536, 14.443073042624512, 14.43742758469, 14.431449663312694, 14.425308740739288, 14.419211239357264, 14.413392222495101, 14.40810239751547, 14.40359110671365, 14.400086803579677, 14.39777722678133, 14.396791885512261, 14.397189406082234, 14.398951711209483, 14.401985994651263, 14.406134221590898, 14.411188704186854, 14.416911433042568, 14.42305446040348, 14.479189643572393, 14.478317035862666, 14.47734101583557, 14.476269031047856, 14.475114632914346, 14.473897906330881, 14.472645403738674, 14.471389458899045, 14.470166803290688, 14.469016479310085, 14.46797713215978, 14.46708385380848, 14.466364831297204, 14.465838100998099, 14.46550871688235, 14.465366598742524, 14.46538524021779, 14.465521341372197, 14.465715309249953, 14.465892468000868, 14.465964760755428, 14.465832723472175, 14.465387570483452, 14.464513344679789, 14.463089234061322, 14.460992314748387, 14.458101117319098, 14.454300494534186, 14.449488259503562, 14.44358393198956, 14.436539652473817, 14.428352890969341, 14.419080010891868, 14.408849109571815, 14.397869958645286, 14.386438470417712, 14.374933108133584, 14.363801208213436, 14.35353437571856, 14.344633880689248, 14.33756905328256, 14.332733596078159, 14.330405960654415, 14.330720009119881, 14.333650898434808, 14.33901866721321, 14.346508922150834, 14.355707074503039, 14.366140485487499, 14.377322087386432, 14.478384673464861, 14.477337923293984, 14.47616409670805, 14.474871634479841, 14.473476469301097, 14.472002610054968, 14.470482112758088, 14.468954272214647, 14.467463925781862, 14.46605884916389, 14.464786335077099, 14.463689162832788, 14.462801268922172, 14.462143493026291, 14.461719782498609, 14.46151418335717, 14.461488833070467, 14.461583020073734, 14.461713218034244, 14.461773874851058, 14.461638669388755, 14.461161965026715, 14.460180295847596, 14.458513910686335, 14.455968650002033, 14.452338706273515, 14.447411075772049, 14.440972693977935, 14.432821295140402, 14.422780877964614, 14.410722223879368, 14.396588148058829, 14.3804220562102, 14.36239700173576, 14.342840974764256, 14.322252931797216, 14.301303538365785, 14.280815232779085, 14.26171839582325, 14.244984172948765, 14.23153937060818, 14.22217379166251, 14.217453947933295, 14.217657904349407, 14.222743313624903, 14.232354818528464, 14.245869378911593, 14.262470830703782, 14.281240085618615, 14.301245959507378, 14.477736369327156, 14.476547326560201, 14.475211296053343, 14.47373734683655, 14.47214315225394, 14.470455697234721, 14.468711268998403, 14.46695452714659, 14.465236513709314, 14.463611566032773, 14.462133225399995, 14.460849372820732, 14.459796944606625, 14.45899665658538, 14.45844817479458, 14.458126102196083, 14.457977012436075, 14.457917577912834, 14.457833649341183, 14.457579992768002, 14.45698031962134, 14.4558272865271, 14.453882308470144, 14.450875317565064, 14.446504989294136, 14.440440411633324, 14.432325636135799, 14.421788948850413, 14.408458930855058, 14.391989309731793, 14.37209407392103, 14.34859316531646, 14.321467157220232, 14.29091666037904, 14.257418997941361, 14.221771495403559, 14.185108464051147, 14.148878829633247, 14.114774585386366, 14.084607514140224, 14.060142433624863, 14.042907436935367, 14.03401160451231, 14.034004410317898, 14.042805841184398, 14.059722410208048, 14.083545538518651, 14.112711096548372, 14.145487725481141, 14.180159673830113, 14.47734069535272, 14.476063622055282, 14.474626790372064, 14.47303943969561, 14.471320028483635, 14.469496992549688, 14.467608712198018, 14.465702456193277, 14.463832138538116, 14.462054833705768, 14.46042613651754, 14.45899460316336, 14.457795641096654, 14.456845296766476, 14.456134396183808, 14.455623412680891, 14.455238276789968, 14.454867133320104, 14.454357835204537, 14.453515795302575, 14.4521017468306, 14.449829030530026, 14.446360256271827, 14.44130358559438, 14.434209440254852, 14.42456913378873, 14.411817699467594, 14.395343965275913, 14.374511567195555, 14.348694884124816, 14.317333521487093, 14.280007589888946, 14.23653322480623, 14.187073286423562, 14.132252001443279, 14.073255108511539, 14.011890394374577, 13.950579926822687, 13.892258064455575, 13.840161356416024, 13.797518474392835, 13.767176929997406, 13.751230165935617, 13.75072235492801, 13.76549972544432, 13.794245380777598, 13.83468898792469, 13.883939983864632, 13.9388683582404, 13.996457099323019, 14.477260625909656, 14.475964685231524, 14.474505646004552, 14.472892397275459, 14.471143006644143, 14.469285425729801, 14.467357367081636, 14.465405107554488, 14.463481039703542, 14.46163990129931, 14.459933752576076, 14.458405919740363, 14.457084252082147, 14.455974117082452, 14.455051557366245, 14.454256943436855, 14.453489284998104, 14.452601140756785, 14.451393838710983, 14.44961254220809, 14.446940627469303, 14.44299292383232, 14.437307644814421, 14.429337330644758, 14.418439845493502, 14.403871428361182, 14.38478496810278, 14.36023800031434, 14.329216266809073, 14.290679767033373, 14.243638611727096, 14.187264991696706, 14.121044333084944, 14.044962300900288, 13.959714075296146, 13.866908438610755, 13.769223506501401, 13.670457744021808, 13.575416357812626, 13.489587923361631, 13.418605552307108, 13.367548784576899, 13.340210241768615, 13.33849545407917, 13.362115638982626, 13.408662283806565, 13.474042669483559, 13.55315377191774, 13.640620687711888, 13.731438501180362, 14.477508427929601, 14.476265634930412, 14.474866232476474, 14.47331819642612, 14.471637939629332, 14.469850848195927, 14.467990988444244, 14.466099741883736, 14.46422318556186, 14.462408133572895, 14.460696881872963, 14.459120832432236, 14.45769328659138, 14.456401761842914, 14.455200177302112, 14.454001160246813, 14.45266855728209, 14.45101001680719, 14.448769288834656, 14.44561771752189, 14.441144336114483, 14.434844064078046, 14.426103796971985, 14.414186713511592, 14.398215946391904, 14.377159923743923, 14.349823233009044, 14.314848804300974, 14.270739486668964, 14.215909456858869, 14.148777826008335, 14.067917346774697, 13.97226880901904, 13.861424596301152, 13.735970821624012, 13.597854941544309, 13.45071537686492, 13.300076540251553, 13.153288909399784, 13.019099232647154, 12.906793066486298, 12.824970942381466, 12.780177220552767, 12.775729090430623, 12.811104440166165, 12.88209734292324, 12.981691917920465, 13.101369400368897, 13.23246491447119, 13.367252628131302, 14.478042060864347, 14.476914313084448, 14.47564462471044, 14.47423947528644, 14.472712415849882, 14.47108432888692, 14.469382884251253, 14.467640961065358, 14.465893854160877, 14.46417516407174, 14.462511372495847, 14.460915212943677, 14.459378035651296, 14.457861412300904, 14.456288210417116, 14.45453328175421, 14.45241376167137, 14.449678792165447, 14.445998298104044, 14.440950309879629, 14.434006282721322, 14.424513956881416, 14.411677575883392, 14.394535779775442, 14.371938282429364, 14.342523621775428, 14.304701968842611, 14.256649342410645, 14.196322710793897, 14.121509330359245, 14.029927890396657, 13.919402610193988, 13.788132431356791, 13.635072713707993, 13.460431992595653, 13.266256429989845, 13.057026045075844, 12.840121698306149, 12.625954655817774, 12.42751604872335, 12.259156938226948, 12.134604177120018, 12.064546281236126, 12.054456643162277, 12.103424092300864, 12.204466261653675, 12.346214158385761, 12.515327430988666, 12.69883382763458, 12.885800730060065, 14.47877724731269, 14.477806488348515, 14.47671350580713, 14.475502718321117, 14.474183797312834, 14.472771567686046, 14.471285137486682, 14.469746040718062, 14.468175210163613, 14.46658865334201, 14.464991776881872, 14.463372379085062, 14.461692389862876, 14.459878464223284, 14.457811517692786, 14.455315226844982, 14.452143415570351, 14.447966130618504, 14.44235411024643, 14.434761302688779, 14.424505128501297, 14.410744327036525, 14.392454500622847, 14.368401891815287, 14.337116542952412, 14.296866887315124, 14.245639185219106, 14.181127333407405, 14.100741831259723, 14.001651490700944, 13.880878034523228, 13.73547161702784, 13.56280279161949, 13.361009624247357, 13.129630551691847, 12.870423959473747, 12.588312242433854, 12.292282689754781, 11.995936845034542, 11.717247792774046, 11.477064978693903, 11.296153194253074, 11.19116281693019, 11.170721470450859, 11.23324963939254, 11.367574630768775, 11.556101423254551, 11.779127993449542, 12.01866287144518, 12.260736020555708, 14.479610184151229, 14.47881435320605, 14.477917464004573, 14.47692138866482, 14.475831191493839, 14.474654615821938, 14.473400819536938, 14.472078149369944, 14.470690756698797, 14.469233885007394, 14.467687695565173, 14.466009534325677, 14.464124568888943, 14.46191473063559, 14.45920588026505, 14.455753080309545, 14.4512238218633, 14.44517904075372, 14.437051802359417, 14.426123664318876, 14.411498961735106, 14.39207759958283, 14.36652735571111, 14.333257145423346, 14.290393117941315, 14.235759819510342, 14.166869039701098, 14.080919629548305, 13.974813139039084, 13.845193582957243, 13.688526402505227, 13.501243147607026, 13.27999500395314, 13.02207769493853, 12.726104692331171, 12.392998754180613, 12.027316972105405, 11.638787733854151, 11.243692237227055, 10.8653871274578, 10.532980102448578, 10.277287447393816, 10.124191405435381, 10.087386883464786, 10.164009737658343, 10.335829533837993, 10.5754988328381, 10.85451410738784, 11.149390010856953, 11.444430357996383, 14.48044208257231, 14.479817104516007, 14.479110617424594, 14.478321610867857, 14.477450165356728, 14.476496496286654, 14.475459235810275, 14.474332732653473, 14.473103138701038, 14.47174304550168, 14.47020443004119, 14.468409662408233, 14.466240314275565, 14.463523485968558, 14.460015347709847, 14.455381583685504, 14.449174463580428, 14.440806383378131, 14.429519959730682, 14.41435517152871, 14.394114643619703, 14.367328951809002, 14.332224730632678, 14.286699244732157, 14.228305710619914, 14.154253719228347, 14.061428282872347, 13.946429113163694, 13.805628938756628, 13.635247063655939, 13.431434461825775, 13.190373952962231, 12.908419621301983, 12.582339684452265, 12.20978731085231, 11.790190718630502, 11.326286435960391, 10.82643829107169, 10.307569861345367, 9.797861614501116, 9.337324177314697, 8.973467012416096, 8.75011599095032, 8.691923678071417, 8.793380840326883, 9.021103237280416, 9.328352031435024, 9.671819978821622, 10.022033956282645, 10.365402567470301, 14.481197459127124, 14.48072344251511, 14.480183945534916, 14.479574950354644, 14.47889155065144, 14.478126546902198, 14.477268230833705, 14.476297110218113, 14.47518128644041, 14.473870154482167, 14.472286045738079, 14.470313376657533, 14.467784801596244, 14.464463803180635, 14.46002310380129, 14.454018276033006, 14.445856011456414, 14.434756735863145, 14.419711706340932, 14.399435469273568, 14.372315664452195, 14.336363660480028, 14.289171359026227, 14.227881544839205, 14.14918103070467, 14.049326938233373, 13.92421583859096, 13.769501922788397, 13.58076253846495, 13.353696435734117, 13.084322739621989, 12.769131841977162, 12.405135221152465, 11.989792157050372, 11.52088904724442, 10.996639133869863, 10.416547075612684, 9.783843637690493, 9.11029313526254, 8.423461409090155, 7.774380710513805, 7.239174400908874, 6.9033643457727365, 6.823478321731804, 6.989336948520306, 7.327733937067667, 7.746092211958381, 8.173817521939762, 8.577939781411363, 8.958254009464245, 14.481832169878604, 14.48148109427086, 14.481076428459964, 14.480611270795361, 14.480076093404435, 14.47945690969023, 14.478732550038576, 14.477870752512493, 14.476822706549834, 14.475515604756605, 14.473842658375126, 14.471649915285175, 14.46871908898836, 14.464745473831098, 14.45930990807503, 14.451843690652982, 14.441585418346738, 14.427528970400253, 14.408362434893911, 14.382398774742414, 14.347500611021253, 14.301003786771973, 14.239647446184101, 14.159522193253316, 14.05605224831563, 13.924031823538755, 13.757739063179136, 13.551150882001354, 13.298275751765896, 12.993604355455242, 12.632644280703339, 12.212449459615494, 11.731979222927036, 11.192046500578101, 10.594602560282192, 9.941283051492643, 9.231679524695952, 8.462796835142578, 7.632390049762965, 6.749672202576615, 5.856219441486619, 5.054851424826063, 4.521458515622876, 4.424530034228426, 4.752632017523217, 5.31032650482426, 5.89986907740447, 6.417321284993149, 6.846616845733031, 7.228194174590227, 14.482331823651448, 14.482074360064805, 14.48177146492065, 14.481413729691186, 14.480987710813698, 14.480473724812498, 14.47984265735346, 14.47905144218359, 14.47803676766916, 14.476706446009377, 14.474927729528432, 14.472511678280155, 14.469192476708248, 14.46460037557491, 14.458226722779838, 14.449379385314822, 14.437126821309098, 14.420229233739304, 14.397055759983964, 14.3654876969783, 14.322809539978334, 14.265592360604161, 14.189578010103993, 14.089578020317825, 13.959408012213274, 13.791886846167356, 13.57893923257257, 13.311849956131118, 12.981724859393553, 12.580213490636739, 12.100531687962253, 11.53877266854538, 10.895384411790426, 10.176479665476661, 9.394300820889084, 8.565741765394316, 7.707682470289012, 6.828923623672115, 5.921856198926452, 4.962062488750787, 3.926904149859156, 2.846010010981396, 1.9305822303924964, 1.7733944884957145, 2.4708081593762867, 3.344640469629646, 4.082458262935518, 4.6216604770259995, 5.00521279441644, 5.340960314131213, 14.482704153528148, 14.482514310170352, 14.482284453551738, 14.482003268083341, 14.481654386304683, 14.48121390768197, 14.480646850874225, 14.479902151220985, 14.478905692635815, 14.477550707329284, 14.475684682442488, 14.473091676358836, 14.46946867019094, 14.464394270618142, 14.45728776042835, 14.447356203032172, 14.433527112961242, 14.414364205676463, 14.3879640777893, 14.351832530983947, 14.302740877263204, 14.236565235431293, 14.148115876116897, 14.030969452816041, 13.877324844994261, 13.677913717316063, 13.422010138714048, 13.097600038819177, 12.691791112416189, 12.191566848661893, 11.58501348017045, 10.86317194512214, 10.022677339184748, 9.069314650778724, 8.022453066244564, 6.919768489363778, 5.8200550614691196, 4.798003404396889, 3.919317811388056, 3.1922538595164935, 2.537234672995356, 1.8378525235421235, 1.0471752115298594, 0.44714152706581456, 1.0080387259768262, 1.8058537024622736, 2.506071035755143, 3.0484631581685595, 3.4578222911624743, 3.8576205802510444, 14.482969507252879, 14.48282686834912, 14.482648036123724, 14.482420545049617, 14.482126290260897, 14.481738903489841, 14.481220022988346, 14.480514044662366, 14.479540804863671, 14.478185470032207, 14.476284688048635, 14.473607785849259, 14.469831476692232, 14.464506174945294, 14.457011624937051, 14.446499169896116, 14.431817679240137, 14.411420012704994, 14.383247064269108, 14.344587080837051, 14.291909323290579, 14.22067351163448, 14.125120192979315, 13.998052542081322, 13.830627518541037, 13.612184143177052, 13.330149310181804, 12.970077428680982, 12.515899710210002, 11.9504825117776, 11.25662222712054, 10.418637381641307, 9.424758712812656, 8.27057348199797, 6.963888715339949, 5.5317128556823985, 4.03150251210305, 2.5768639440659302, 1.4403011652534818, 1.2472029308889097, 1.7039756221416449, 1.976160768350109, 1.8646352221990001, 1.3719248160782413, 0.5585506136736076, 0.4647600667472765, 1.5038171494680632, 2.4261659260995994, 3.2052337559099313, 3.9172540799658573, 14.483152531677206, 14.483042566096248, 14.482899604763443, 14.482710852325438, 14.482457718114919, 14.482113204177931, 14.48163820699832, 14.480976323848948, 14.48004661702771, 14.47873361282969, 14.476873590509594, 14.474235944999734, 14.470498085052046, 14.465211962348821, 14.457759935454616, 14.44729729164165, 14.43267844117245, 14.412363657399672, 14.38430339812492, 14.345797892857002, 14.293331051830247, 14.222380130780758, 14.1272062995558, 14.000636676766986, 13.833855897728863, 13.616235294046945, 13.335240728498242, 12.976476550759223, 12.523943610501869, 11.960614531837118, 11.269460603693503, 10.435103767606426, 9.44631987873794, 8.29970409689899, 7.004993535519794, 5.5930971442683814, 4.130017345175999, 2.7494438668219776, 1.7501538754428072, 1.5846855440549403, 1.9202007902624856, 2.0957935021920626, 1.9191082445041474, 1.4587046885084707, 1.0940583802945514, 1.5268324246441958, 2.480152001706037, 3.5011636690576724, 4.45132054338104, 5.318923919307527, 14.483276501340942, 14.483189688035601, 14.483073098334984, 14.482914382537652, 14.482695629402794, 14.482390917340236, 14.481962861446748, 14.481357780209871, 14.48049898026596, 14.479277498103842, 14.477539439243694, 14.475068815534408, 14.471564501529132, 14.466609620820584, 14.459631354378768, 14.44984887514122, 14.43620692158839, 14.4172925266023, 14.391232757202523, 14.355572185416955, 14.307130443809138, 14.24184291874828, 14.154591749373003, 14.039040224727168, 13.887491839593345, 13.69080615172757, 13.438417686482815, 13.118521991538602, 12.718515048008909, 12.225798815926474, 11.629095967079321, 10.92044698974743, 10.098079688838498, 9.170303301518143, 8.160360144309632, 7.111393569736667, 6.088411765516811, 5.168957922482675, 4.40926747709124, 3.789293166581138, 3.1913739831550356, 2.4618617139659364, 1.501060052947349, 0.3165703289317026, 1.0359689469065276, 2.385410448737241, 3.674994142501716, 4.8591127256313715, 5.919290029013115, 6.860838529912653, 14.483360404159379, 14.483290874018689, 14.48319509132752, 14.483061784793252, 14.482874660946768, 14.482610239348842, 14.482234816094191, 14.481700234827137, 14.480938040711578, 14.479851462881781, 14.478304512484964, 14.476107296765024, 14.472996439744577, 14.468609279809973, 14.462450308804556, 14.453848168391373, 14.441901493498916, 14.425412086256056, 14.402804450623147, 14.372031793080275, 14.330470415227223, 14.274807242373672, 14.200929319274495, 14.103829718093154, 13.977551633403335, 13.815201505732635, 13.609072490014704, 13.350930438776714, 13.032523383872363, 12.646377135165745, 12.186923729563759, 11.651956318874308, 11.04427888359613, 10.373169784202096, 9.654856782314589, 8.910666050521478, 8.161286873807747, 7.416797157038286, 6.6659886938845645, 5.873956773126175, 4.998637236435122, 4.033568594652072, 3.0914232647966555, 2.5503191413525035, 2.88482819731134, 3.8780891203482115, 5.063386660055027, 6.221064076624788, 7.275256465000804, 8.208032225704986, 14.483418156483772, 14.483362349558073, 14.483284106336079, 14.483173658063123, 14.483016946537177, 14.482793815861498, 14.482475492900509, 14.482021102168456, 14.48137288258685, 14.48044967778954, 14.479138158349233, 14.477281106124105, 14.474661955177774, 14.470984654881883, 14.465847823812444, 14.458712137275834, 14.448859994847398, 14.435346827881343, 14.416944036048426, 14.392074615265788, 14.358744200384018, 14.3144726334935, 14.256234380359146, 14.180420147885876, 14.082836696370466, 13.958766523986112, 13.803112661284754, 13.610654135636526, 13.37643122320026, 13.096260999237579, 12.767345640996913, 12.388870945059987, 11.962399004081112, 11.491756106363884, 10.982070903360418, 10.437768328203385, 9.859862495217676, 9.243905889508326, 8.58114740873522, 7.86602989593592, 7.112224505705064, 6.376118300132949, 5.777525912278059, 5.484266822025745, 5.6174585158595445, 6.144687450546114, 6.915274797634704, 7.7762430801134395, 8.626810683019787, 9.41531627413245, 14.483459108845423, 14.483414717453968, 14.483351806398476, 14.483262304497195, 14.48313465959025, 14.482952406458736, 14.482692187202904, 14.482321035697959, 14.481792683448994, 14.481042579755892, 14.479981245889308, 14.478485504752843, 14.476387051883536, 14.473457773839177, 14.469391196944223, 14.463779493821175, 14.456085629677212, 14.445610549896227, 14.431455860520515, 14.412483303050498, 14.38727353407883, 14.354088313463585, 14.310842132983367, 14.255091400105654, 14.184051138856386, 14.094650089424643, 13.983633994777014, 13.847722242423215, 13.683813076808521, 13.489215753937202, 13.261864284989057, 13.000440949899637, 12.704320738422394, 12.373264445751627, 12.006873753760186, 11.604008976193226, 11.162653676629294, 10.680995966091826, 10.160571262415553, 9.611876018396947, 9.061607786250685, 8.558390679058654, 8.170859318233619, 7.971184450442037, 8.005409275446404, 8.269388153403549, 8.712073889685037, 9.26199839349459, 9.853397095890157, 10.438580075927494, 14.483489112756471, 14.483454393379159, 14.483404918159014, 14.483334303239985, 14.483233467270427, 14.483089550493156, 14.482884433604399, 14.482592724649566, 14.482179047078862, 14.48159442181936, 14.480771492546104, 14.479618299812378, 14.47801027256968, 14.475780084766642, 14.472705034702853, 14.468491665564933, 14.46275748249215, 14.455009864164593, 14.44462264528931, 14.430811383581052, 14.41260902465283, 14.388844506408931, 14.358127703865422, 14.318844816731428, 14.26916853897724, 14.207086691219532, 14.130450929463864, 14.037043207677478, 13.924651757248002, 13.791141214893335, 13.63449556072289, 13.452812495117824, 13.24424117293961, 13.006890304857075, 12.73879533213006, 12.438114064473451, 12.103789260187511, 11.736915023777602, 11.342892979331827, 10.934096194480901, 10.532171932476748, 10.168464814452294, 9.88078566270259, 9.705686819619109, 9.668057117032543, 9.772898435558854, 10.00416691035205, 10.331146280226292, 10.718037783587274, 11.131874451801387, 14.483511652567705, 14.483485067642302, 14.483447115062408, 14.483392937142995, 14.483315667816832, 14.48320564928107, 14.4830493679651, 14.482828021450095, 14.48251560608669, 14.482076390722582, 14.481461616562445, 14.480605239275851, 14.479418511125413, 14.477783194121193, 14.475543208231569, 14.472494561845254, 14.468373496789548, 14.46284291881689, 14.455477384662945, 14.445747178034434, 14.43300231283147, 14.416457611507093, 14.395180245477313, 14.368081181330162, 14.33391170982884, 14.291265503473959, 14.238585379756646, 14.174172253955044, 14.096192115334425, 14.002676267377199, 13.891512212571437, 13.760429633096454, 13.606999968613854, 13.428689568907986, 13.22303194655967, 12.988004833631074, 12.722696214896235, 12.428299715578778, 12.109376537029648, 11.775157071230682, 11.440459172060685, 11.12564501341258, 10.85504896058832, 10.653635244310703, 10.542352370122977, 10.533516945695395, 10.627982480689386, 10.815266292838905, 11.076430008243518, 11.388335287419421, 14.48352878019456, 14.48350887361404, 14.48348046986102, 14.483439990973585, 14.483382410966032, 14.483300705043924, 14.483185107078308, 14.483022117008035, 14.482793186002155, 14.482472991913326, 14.482027201556274, 14.481409600964295, 14.48055846199297, 14.479392006167382, 14.4778028278782, 14.475651152630274, 14.472756835372664, 14.46889005073391, 14.463760689560807, 14.45700654701989, 14.448180450858983, 14.43673650843311, 14.422015612889908, 14.403230204871155, 14.37944801135352, 14.349574094140074, 14.312330137796211, 14.26622972993413, 14.209548863545733, 14.140292650187714, 14.0561630259719, 13.954538704813656, 13.832487904065191, 13.6868454605559, 13.514396267627767, 13.312212105688399, 13.078183296021408, 12.811764706746185, 12.514913773802807, 12.193135179435819, 11.856463109166596, 11.520109196781048, 11.204392736014297, 10.933495627556814, 10.732670587418419, 10.623963959674658, 10.621351313968878, 10.727018369943515, 10.930518666770068, 11.211302580638826, 14.483541767303485, 14.483527169452554, 14.48350637718939, 14.483476820139881, 14.483434906774345, 14.48337564348739, 14.483292123430875, 14.483174845880733, 14.483010817380903, 14.48278237496639, 14.482465659561289, 14.48202865444563, 14.481428689871079, 14.480609300902742, 14.479496311667043, 14.477993005258993, 14.475974223587139, 14.473279222900656, 14.469703083986527, 14.464986433734884, 14.458803167122172, 14.45074575481248, 14.440307573590198, 14.42686150728653, 14.409633860227226, 14.387672469264905, 14.359807920646688, 14.324607179540278, 14.28032001237553, 14.22482067707262, 14.155550824500608, 14.069474634637888, 13.963063885455977, 13.832338517938986, 13.672996477258405, 13.480673973591092, 13.251382360374212, 12.982168700037933, 12.672040411239514, 12.32317249896872, 11.942361868965707, 11.542575923528892, 11.144220240049854, 10.775406916517086, 10.470159064472847, 10.263551803956368, 10.183920833993472, 10.24455241540131, 10.439024487179237, 10.743079980294688, 14.483551496315034, 14.483540975791769, 14.483526022233349, 14.483504818236776, 14.483474833528026, 14.483432561536153, 14.483373165887313, 14.483290009008348, 14.483174027552472, 14.483012910203943, 14.482790022249466, 14.482483007676862, 14.482061982849647, 14.481487215090366, 14.480706153416591, 14.479649645191321, 14.478227128682278, 14.476320533532206, 14.473776543932154, 14.470396777203524, 14.465925298326276, 14.460032726239417, 14.452295994772431, 14.442172627040218, 14.428968205645974, 14.411795642378884, 14.389524982756608, 14.360722985191657, 14.32358280509668, 14.27584604523415, 14.21472247807212, 14.13681716440524, 14.038080703843145, 13.913806119845894, 13.758705514703959, 13.567111166111886, 13.333358976025718, 13.052426095985515, 12.720905763630485, 12.338401846538266, 11.90939219007867, 11.445500006116236, 10.967849675746606, 10.508673071456256, 10.110584824293914, 9.821426304441584, 9.683592866960721, 9.720550351363089, 9.927738055769204, 10.274226061022835, 14.483558658558753, 14.48355116957275, 14.483540542306304, 14.483525499285607, 14.483504264043107, 14.483474375965592, 14.483432440458184, 14.483373793279693, 14.48329205141238, 14.483178514400254, 14.483021369111901, 14.482804636523186, 14.482506780232894, 14.482098871473806, 14.481542172290563, 14.480784954612382, 14.479758314735204, 14.478370666167002, 14.476500494427555, 14.473986831089915, 14.470616748611501, 14.466108993743084, 14.460092674331483, 14.452079713276985, 14.441429624137362, 14.427305111578962, 14.408617157072642, 14.383958757892149, 14.35152753381944, 14.309039236619494, 14.253637072506255, 14.181805996364197, 14.089307108382966, 13.971155348559765, 13.821674201785308, 13.634674355562327, 13.403819104084262, 13.123256707587519, 12.788615440397642, 12.398461732991343, 11.956294751137678, 11.473047371350047, 10.969799786932517, 10.47986742778199, 10.048554141201231, 9.72809344653397, 9.566124845098285, 9.590279536043623, 9.79716534445218, 10.153730999931623, 14.483563834266047, 14.48355853786492, 14.483551026381091, 14.483540398526129, 14.483525398920689, 14.483504284355666, 14.483474641516798, 14.483433139152021, 14.483375191805278, 14.483294504360158, 14.483182456016879, 14.483027268003097, 14.482812880008133, 14.482517434344835, 14.482111232021857, 14.48155397856637, 14.480791076389963, 14.47974864121699, 14.478326819132002, 14.47639085552131, 14.473759217114015, 14.47018789726009, 14.465349853648773, 14.458808359595645, 14.44998293462258, 14.438106520827178, 14.422172782998555, 14.400872965348569, 14.37252281314908, 14.334981888208022, 14.285570444198827, 14.220993191015047, 14.137285095390686, 14.029802146986905, 13.893289975731916, 13.722075289355075, 13.51043866920807, 13.253240390830324, 12.946878990054728, 12.590655133758244, 12.188570229499609, 11.751471176028252, 11.299197514599, 10.861930824701032, 10.47933437290265, 10.195734871116144, 10.050581402277238, 10.066575182521962, 10.241457967228758, 10.548858627144892, 14.48356751415636, 14.483563771464985, 14.483558459326906, 14.483550934958147, 14.483540299342739, 14.483525297813108, 14.483504182941505, 14.483474525680219, 14.483432955480103, 14.483374802990452, 14.48329360920985, 14.483180451704573, 14.483023020547645, 14.482804352438658, 14.482501099160238, 14.482081163873156, 14.481500483238738, 14.480698662426855, 14.479593081560978, 14.478070985092081, 14.475978941450093, 14.473108924928383, 14.469180138042693, 14.463815584295387, 14.456512357585254, 14.446604695707322, 14.433219138807395, 14.415221759195356, 14.391158542665448, 14.359191795113587, 14.317038141058239, 14.261917499313574, 14.190527559868842, 14.099064835709159, 13.983321186254162, 13.838893221170583, 13.661549780232829, 13.447806833524927, 13.195754126486259, 12.906153876021259, 12.583772767454668, 12.238792037626256, 11.887945956123934, 11.554778113274569, 11.268189507876311, 11.058572410875868, 10.951668353918608, 10.961855706752038, 11.08782892061132, 11.313007407334768, 14.483570101014479, 14.483567446728562, 14.483563671464541, 14.483558310583197, 14.483550710573024, 14.48353995362031, 14.483524752480188, 14.483503304086168, 14.483473085892333, 14.48343057283643, 14.483370844460232, 14.483287040367308, 14.483169606873226, 14.483005257216156, 14.482775540625626, 14.482454880290797, 14.482007895167383, 14.481385764150893, 14.480521322609267, 14.479322501181876, 14.47766362820597, 14.475374027383241, 14.472223265039267, 14.467902359629933, 14.462000296039736, 14.453975341621593, 14.443121013373792, 14.428527192645927, 14.409037944066778, 14.383209203461941, 14.349271789420758, 14.305108267481332, 14.248256072632511, 14.175953822931826, 14.085252480292931, 13.9732169795296, 13.837245414581327, 13.67552894314772, 13.487661793991428, 13.275380990060722, 13.04336269721268, 12.799922325413457, 12.557366105132797, 12.331657325374005, 12.141067334327468, 12.003686201630334, 11.934124958840279, 11.940308152754376, 12.0215437590878, 12.168698874584782, 14.483571910718313, 14.483570017532553, 14.483567316689944, 14.483563468564375, 14.483557992736289, 14.483550210385118, 14.483539163405434, 14.483523500985092, 14.483501320790314, 14.483469946980629, 14.483425620581112, 14.483363068705877, 14.483274907059556, 14.483150814216026, 14.482976395453367, 14.482731627442991, 14.482388741985215, 14.481909366744736, 14.481240693822413, 14.480310394654522, 14.479019946119246, 14.477235985399782, 14.474779282894644, 14.471410933333686, 14.466815444799154, 14.460580594674028, 14.452174274549883, 14.440919128792649, 14.425966677412442, 14.406273873934964, 14.38058673153773, 14.347437749350995, 14.305166274974649, 14.25197336473777, 14.186024601341035, 14.105614779559424, 14.009405983801171, 13.896743459015989, 13.768039571592745, 13.625193063300516, 13.471978344706923, 13.314301556635879, 13.160188027240128, 13.019361280392602, 12.902325617271721, 12.818992575879168, 12.777079327704003, 12.780678247327026, 12.829437971636253, 12.918636637780445, 14.483573179205607, 14.483571821966024, 14.483569879399484, 14.483567102026015, 14.483563135310913, 14.48355747599371, 14.48354941054974, 14.483537928643768, 14.483521601691114, 14.483498412913713, 14.483465520258344, 14.483418926853055, 14.483353024868618, 14.483259967222173, 14.483128806991918, 14.48294432624413, 14.482685453937727, 14.48232314680343, 14.481817578465813, 14.481114452671164, 14.480140230256541, 14.478796043123555, 14.476950072399388, 14.474428207491327, 14.47100289908287, 14.46638029993003, 14.460186086140789, 14.451950805355295, 14.441096241356536, 14.426925138623075, 14.408617686759852, 14.385239360614948, 14.355765897083618, 14.319132088642373, 14.27431124881349, 14.220431035571119, 14.15692802611796, 14.08373719804497, 14.001502693653851, 13.911783058651144, 13.817209155355387, 13.721540059937148, 13.629558093490008, 13.546757099121661, 13.47881484520615, 13.430899915220541, 13.406930841441383, 13.408952313317192, 13.436790144077634, 13.488081853154542, 14.483574074916639, 14.483573099852498, 14.483571700335645, 14.483569693638486, 14.483566819362924, 14.4835627069423, 14.483556829839975, 14.483548441176342, 14.483536483538302, 14.483519463069749, 14.483495274414292, 14.48346095845385, 14.483412368805384, 14.483343715443024, 14.483246944377623, 14.48311090092276, 14.482920210785675, 14.482653798491942, 14.482282947536037, 14.481768793117894, 14.481059129679002, 14.480084416807369, 14.478752885891614, 14.476944696415362, 14.474505178237992, 14.471237340519309, 14.466894046395987, 14.461170560923025, 14.453698587463869, 14.444043409559532, 14.431706320720707, 14.416135083410056, 14.396745585742664, 14.372957967751153, 14.344250005910911, 14.310229160783601, 14.270722097344489, 14.225876482377643, 14.17626453573611, 14.12297176240737, 14.06764885268964, 14.01250204892651, 13.96020000369697, 13.91368562269384, 13.87590012820063, 13.849450755877463, 13.83627627499493, 13.837376651595779, 13.852667037244869, 13.88099064074394, 14.48357471373291, 14.483574014893176, 14.483573009962308, 14.483571566500105, 14.483569495631281, 14.483566528482879, 14.483562283064844, 14.483556217882061, 14.483547567219357, 14.483535251259298, 14.483517751865282, 14.483492941867327, 14.483457851902266, 14.4834083541784, 14.48333873690204, 14.483241136566066, 14.483104788082091, 14.482915045347433, 14.482652118215862, 14.482289467542259, 14.481791800382654, 14.481112615996418, 14.480191274708258, 14.478949601954298, 14.477288106114369, 14.475081988715065, 14.472177266233961, 14.468387508054924, 14.463491922793335, 14.457235781906675, 14.449334425210896, 14.43948229499733, 14.427368514212981, 14.412700352911576, 14.395235390748555, 14.374822160362822, 14.351447470135028, 14.325286482631258, 14.296749172249683, 14.266514450719027, 14.235541743775928, 14.205050021495438, 14.176457077405107, 14.151277636937454, 14.130987196927016, 14.116867729512483, 14.109858880518095, 14.110441153826343, 14.11857387307744, 14.13370062851631, 14.483575173460123, 14.48357467622262, 14.483573960732262, 14.483572932578518, 14.483571457280984, 14.48356934371668, 14.48356632093892, 14.48356200589056, 14.483555858646868, 14.483547120695224, 14.483534730314055, 14.48351720729626, 14.4834924970261, 14.483457761241032, 14.483409099716571, 14.483341183710442, 14.483246778529056, 14.483116129465627, 14.482936183308398, 14.482689617697588, 14.482353654346642, 14.481898641596768, 14.481286409558894, 14.48046843030288, 14.479383859477396, 14.477957597355191, 14.476098588326145, 14.473698677419799, 14.470632455176823, 14.466758636059012, 14.461923609595162, 14.455967846049276, 14.44873578755917, 14.440089662277071, 14.429927274940328, 14.418203219843818, 14.404952134870719, 14.390311632273917, 14.374541550131058, 14.358035405380857, 14.341319702904086, 14.325037380972713, 14.309913368088338, 14.296702974150374, 14.286127281251431, 14.278803114087744, 14.275177602506506, 14.275477899879867, 14.27968480742053, 14.28753508187766];\n",
       "const xvar = \"lr\";\n",
       "const yvar = \"decay\";\n",
       "const x_is_log = true;\n",
       "const y_is_log = true;\n",
       "\n",
       "const GREEN_SCALE = [[247, 252, 253], [229, 245, 249], [204, 236, 230], [153, 216, 201], [102, 194, 164], [65, 174, 118], [35, 139, 69], [0, 109, 44], [0, 68, 27]];\n",
       "const GREEN_PINK_SCALE = [[142, 1, 82], [197, 27, 125], [222, 119, 174], [241, 182, 218], [253, 224, 239], [247, 247, 247], [230, 245, 208], [184, 225, 134], [127, 188, 65], [77, 146, 33], [39, 100, 25]];\n",
       "const BLUE_SCALE = [[255, 247, 251], [236, 231, 242], [208, 209, 230], [166, 189, 219], [116, 169, 207], [54, 144, 192], [5, 112, 176], [3, 78, 123]];\n",
       "\n",
       "// format data\n",
       "const res = relativize_data(f, sd, rel, arm_data, metric);\n",
       "const f_final = res[0];\n",
       "const sd_final = res[1];\n",
       "\n",
       "// calculate max of abs(outcome), used for colorscale\n",
       "const f_absmax = Math.max(Math.abs(Math.min(...f_final)), Math.max(...f_final));\n",
       "\n",
       "// transform to nested array\n",
       "var f_plt = [];\n",
       "while(f_final.length) f_plt.push(f_final.splice(0, density));\n",
       "var sd_plt = [];\n",
       "while(sd_final.length) sd_plt.push(sd_final.splice(0, density));\n",
       "\n",
       "// create traces\n",
       "const CONTOUR_CONFIG = {\n",
       "  autocolorscale: false,\n",
       "  autocontour: true,\n",
       "  contours: {\n",
       "    coloring: 'heatmap',\n",
       "  },\n",
       "  hoverinfo: 'x+y+z',\n",
       "  ncontours: density / 2,\n",
       "  type: 'contour',\n",
       "  x: grid_x,\n",
       "  y: grid_y,\n",
       "};\n",
       "\n",
       "let f_scale;\n",
       "if (rel === true) {\n",
       "  f_scale = lower_is_better === true\n",
       "    ? GREEN_PINK_SCALE.reverse()\n",
       "    : GREEN_PINK_SCALE;\n",
       "} else {\n",
       "  f_scale = GREEN_SCALE;\n",
       "}\n",
       "\n",
       "const f_trace = {\n",
       "  colorbar: {\n",
       "    x: 0.45,\n",
       "    y: 0.5,\n",
       "    ticksuffix: rel === true ? '%' : '',\n",
       "    tickfont: {\n",
       "      size: 8,\n",
       "    },\n",
       "  },\n",
       "  colorscale: f_scale.map(\n",
       "    (v, i) => [i / (f_scale.length - 1), rgb(v)]\n",
       "  ),\n",
       "  xaxis: 'x',\n",
       "  yaxis: 'y',\n",
       "  z: f_plt,\n",
       "  // zmax and zmin are ignored if zauto is true\n",
       "  zauto: !rel,\n",
       "  zmax: f_absmax,\n",
       "  zmin: -f_absmax,\n",
       "};\n",
       "\n",
       "const sd_trace = {\n",
       "  colorbar: {\n",
       "      x: 1,\n",
       "      y: 0.5,\n",
       "      ticksuffix: rel === true ? '%' : '',\n",
       "      tickfont: {\n",
       "        size: 8,\n",
       "      },\n",
       "  },\n",
       "  colorscale: BLUE_SCALE.map(\n",
       "    (v, i) => [i / (BLUE_SCALE.length - 1), rgb(v)]\n",
       "  ),\n",
       "  xaxis: 'x2',\n",
       "  yaxis: 'y2',\n",
       "  z: sd_plt,\n",
       "};\n",
       "\n",
       "Object.keys(CONTOUR_CONFIG).forEach(key => {\n",
       "  f_trace[key] = CONTOUR_CONFIG[key];\n",
       "  sd_trace[key] = CONTOUR_CONFIG[key];\n",
       "});\n",
       "\n",
       "// get in-sample arms\n",
       "const arm_x = [];\n",
       "const arm_y = [];\n",
       "const arm_text = [];\n",
       "\n",
       "Object.keys(arm_data['in_sample']).forEach(arm_name => {\n",
       "  arm_x.push(arm_data['in_sample'][arm_name]['parameters'][xvar]);\n",
       "  arm_y.push(arm_data['in_sample'][arm_name]['parameters'][yvar]);\n",
       "  arm_text.push(arm_name);\n",
       "});\n",
       "\n",
       "// configs for in-sample arms\n",
       "const base_in_sample_arm_config = {\n",
       "  hoverinfo: 'text',\n",
       "  legendgroup: 'In-sample',\n",
       "  marker: {color: 'black', symbol: 1, opacity: 0.5},\n",
       "  mode: 'markers',\n",
       "  name: 'In-sample',\n",
       "  text: arm_text,\n",
       "  type: 'scatter',\n",
       "  x: arm_x,\n",
       "  y: arm_y,\n",
       "};\n",
       "\n",
       "const f_in_sample_arm_trace = {\n",
       "  xaxis: 'x',\n",
       "  yaxis: 'y',\n",
       "};\n",
       "\n",
       "const sd_in_sample_arm_trace = {\n",
       "  showlegend: false,\n",
       "  xaxis: 'x2',\n",
       "  yaxis: 'y2',\n",
       "};\n",
       "\n",
       "Object.keys(base_in_sample_arm_config).forEach(key => {\n",
       "  f_in_sample_arm_trace[key] = base_in_sample_arm_config[key];\n",
       "  sd_in_sample_arm_trace[key] = base_in_sample_arm_config[key];\n",
       "});\n",
       "\n",
       "const traces = [\n",
       "  f_trace,\n",
       "  sd_trace,\n",
       "  f_in_sample_arm_trace,\n",
       "  sd_in_sample_arm_trace,\n",
       "];\n",
       "\n",
       "// start symbol at 2 for candidate markers\n",
       "let i = 2;\n",
       "\n",
       "// iterate over out-of-sample arms\n",
       "Object.keys(arm_data['out_of_sample']).forEach(generator_run_name => {\n",
       "  const ax = [];\n",
       "  const ay = [];\n",
       "  const atext = [];\n",
       "\n",
       "  Object.keys(arm_data['out_of_sample'][generator_run_name]).forEach(arm_name => {\n",
       "    ax.push(\n",
       "      arm_data['out_of_sample'][generator_run_name][arm_name]['parameters'][xvar]\n",
       "    );\n",
       "    ay.push(\n",
       "      arm_data['out_of_sample'][generator_run_name][arm_name]['parameters'][yvar]\n",
       "    );\n",
       "    atext.push('<em>Candidate ' + arm_name + '</em>');\n",
       "  });\n",
       "\n",
       "  traces.push({\n",
       "    hoverinfo: 'text',\n",
       "    legendgroup: generator_run_name,\n",
       "    marker: {color: 'black', symbol: i, opacity: 0.5},\n",
       "    mode: 'markers',\n",
       "    name: generator_run_name,\n",
       "    text: atext,\n",
       "    type: 'scatter',\n",
       "    xaxis: 'x',\n",
       "    x: ax,\n",
       "    yaxis: 'y',\n",
       "    y: ay,\n",
       "  });\n",
       "  traces.push({\n",
       "    hoverinfo: 'text',\n",
       "    legendgroup: generator_run_name,\n",
       "    marker: {color: 'black', symbol: i, opacity: 0.5},\n",
       "    mode: 'markers',\n",
       "    name: 'In-sample',\n",
       "    showlegend: false,\n",
       "    text: atext,\n",
       "    type: 'scatter',\n",
       "    x: ax,\n",
       "    xaxis: 'x2',\n",
       "    y: ay,\n",
       "    yaxis: 'y2',\n",
       "  });\n",
       "  i += 1;\n",
       "});\n",
       "\n",
       "// layout\n",
       "const xrange = axis_range(grid_x, x_is_log);\n",
       "const yrange = axis_range(grid_y, y_is_log);\n",
       "\n",
       "const xtype = x_is_log ? 'log' : 'linear';\n",
       "const ytype = y_is_log ? 'log' : 'linear';\n",
       "\n",
       "const layout = {\n",
       "  autosize: false,\n",
       "    margin: {\n",
       "      l: 35,\n",
       "      r: 35,\n",
       "      t: 35,\n",
       "      b: 100,\n",
       "      pad: 0,\n",
       "  },\n",
       "  annotations: [\n",
       "    {\n",
       "      font: {size: 14},\n",
       "      showarrow: false,\n",
       "      text: 'Mean',\n",
       "      x: 0.25,\n",
       "      xanchor: 'center',\n",
       "      xref: 'paper',\n",
       "      y: 1,\n",
       "      yanchor: 'bottom',\n",
       "      yref: 'paper',\n",
       "    },\n",
       "    {\n",
       "      font: {size: 14},\n",
       "      showarrow: false,\n",
       "      text: 'Standard Error',\n",
       "      x: 0.8,\n",
       "      xanchor: 'center',\n",
       "      xref: 'paper',\n",
       "      y: 1,\n",
       "      yanchor: 'bottom',\n",
       "      yref: 'paper',\n",
       "    },\n",
       "  ],\n",
       "  hovermode: 'closest',\n",
       "  legend: {orientation: 'h', x: 0, y: -0.25},\n",
       "  height: 450,\n",
       "  width: 950,\n",
       "  xaxis: {\n",
       "    anchor: 'y',\n",
       "    autorange: false,\n",
       "    domain: [0.05, 0.45],\n",
       "    exponentformat: 'e',\n",
       "    range: xrange,\n",
       "    tickfont: {size: 11},\n",
       "    tickmode: 'auto',\n",
       "    title: xvar,\n",
       "    type: xtype,\n",
       "  },\n",
       "  xaxis2: {\n",
       "    anchor: 'y2',\n",
       "    autorange: false,\n",
       "    domain: [0.60, 1],\n",
       "    exponentformat: 'e',\n",
       "    range: xrange,\n",
       "    tickfont: {size: 11},\n",
       "    tickmode: 'auto',\n",
       "    title: xvar,\n",
       "    type: xtype,\n",
       "  },\n",
       "  yaxis: {\n",
       "    anchor: 'x',\n",
       "    autorange: false,\n",
       "    domain: [0, 1],\n",
       "    exponentformat: 'e',\n",
       "    range: yrange,\n",
       "    tickfont: {size: 11},\n",
       "    tickmode: 'auto',\n",
       "    title: yvar,\n",
       "    type: ytype,\n",
       "  },\n",
       "  yaxis2: {\n",
       "    anchor: 'x2',\n",
       "    autorange: false,\n",
       "    domain: [0, 1],\n",
       "    exponentformat: 'e',\n",
       "    range: yrange,\n",
       "    tickfont: {size: 11},\n",
       "    tickmode: 'auto',\n",
       "    type: ytype,\n",
       "  },\n",
       "};\n",
       "\n",
       "Plotly.newPlot(\"4b1e5da3dce44cdfa3d404d7eb3ac704\", traces, layout, {showLink: false});\n",
       "});</script>"
      ]
     },
     "metadata": {},
     "output_type": "display_data"
    }
   ],
   "source": [
    "render(plot_contour(model=gpei, param_x='lr', param_y='decay', metric_name='min_move'))"
   ]
  },
  {
   "cell_type": "code",
   "execution_count": 21,
   "metadata": {
    "pycharm": {
     "name": "#%%\n"
    },
    "scrolled": false
   },
   "outputs": [
    {
     "data": {
      "text/html": [
       "<div id=\"66ede328e5314f83aac942ffa7564563\" style=\"width: 100%;\" class=\"plotly-graph-div\"></div><script type='text/javascript'>/*\n",
       " * Copyright (c) Facebook, Inc. and its affiliates. All Rights Reserved.\n",
       " */\n",
       "\n",
       "require(['plotly'], function(Plotly) {\n",
       "  window.PLOTLYENV = window.PLOTLYENV || {};\n",
       "  window.PLOTLYENV.BASE_URL = 'https://plot.ly';\n",
       "  /*\n",
       " * Copyright (c) Facebook, Inc. and its affiliates. All Rights Reserved.\n",
       " */\n",
       "\n",
       "const arm_data = {\"metrics\": [\"min_move\"], \"in_sample\": {\"control\": {\"name\": \"control\", \"parameters\": {\"lr\": 0.06, \"decay\": 0.002, \"epochs\": 70}, \"y\": {\"min_move\": 101.4}, \"y_hat\": {\"min_move\": 101.39999224556857}, \"se\": {\"min_move\": 0.0}, \"se_hat\": {\"min_move\": 0.004949172913454917}, \"context_stratum\": null}, \"1_0\": {\"name\": \"1_0\", \"parameters\": {\"lr\": 0.07839425700208687, \"decay\": 0.004649107668526686, \"epochs\": 71}, \"y\": {\"min_move\": 64.725}, \"y_hat\": {\"min_move\": 64.72500077859357}, \"se\": {\"min_move\": 0.0}, \"se_hat\": {\"min_move\": 0.004949178306498422}, \"context_stratum\": null}, \"2_0\": {\"name\": \"2_0\", \"parameters\": {\"lr\": 0.016511722904021142, \"decay\": 0.00041288715787430073, \"epochs\": 83}, \"y\": {\"min_move\": 54.45}, \"y_hat\": {\"min_move\": 54.45000173665885}, \"se\": {\"min_move\": 0.0}, \"se_hat\": {\"min_move\": 0.004949178311993115}, \"context_stratum\": null}, \"3_0\": {\"name\": \"3_0\", \"parameters\": {\"lr\": 0.007976956609636175, \"decay\": 0.0028356278671029336, \"epochs\": 45}, \"y\": {\"min_move\": 64.7}, \"y_hat\": {\"min_move\": 64.70000069029535}, \"se\": {\"min_move\": 0.0}, \"se_hat\": {\"min_move\": 0.004949178320235153}, \"context_stratum\": null}, \"4_0\": {\"name\": \"4_0\", \"parameters\": {\"lr\": 0.003719857998352154, \"decay\": 0.0006385193350709473, \"epochs\": 61}, \"y\": {\"min_move\": 61.675}, \"y_hat\": {\"min_move\": 61.6750010827531}, \"se\": {\"min_move\": 0.0}, \"se_hat\": {\"min_move\": 0.004949178317487807}, \"context_stratum\": null}, \"5_0\": {\"name\": \"5_0\", \"parameters\": {\"lr\": 0.018280684548419125, \"decay\": 0.0013376593059985793, \"epochs\": 28}, \"y\": {\"min_move\": 85.85}, \"y_hat\": {\"min_move\": 85.84999822377206}, \"se\": {\"min_move\": 0.0}, \"se_hat\": {\"min_move\": 0.004949178320235153}, \"context_stratum\": null}, \"6_0\": {\"name\": \"6_0\", \"parameters\": {\"lr\": 0.036598483632419736, \"decay\": 0.00012315357925586642, \"epochs\": 57}, \"y\": {\"min_move\": 57.125}, \"y_hat\": {\"min_move\": 57.12500157774513}, \"se\": {\"min_move\": 0.0}, \"se_hat\": {\"min_move\": 0.0049491783147404605}, \"context_stratum\": null}, \"7_0\": {\"name\": \"7_0\", \"parameters\": {\"lr\": 0.0017964235797745013, \"decay\": 0.009421615689971193, \"epochs\": 94}, \"y\": {\"min_move\": 62.5}, \"y_hat\": {\"min_move\": 62.500000950333984}, \"se\": {\"min_move\": 0.0}, \"se_hat\": {\"min_move\": 0.004949178317487807}, \"context_stratum\": null}, \"8_0\": {\"name\": \"8_0\", \"parameters\": {\"lr\": 0.0027460956900874065, \"decay\": 0.0005059898389563055, \"epochs\": 44}, \"y\": {\"min_move\": 61.475}, \"y_hat\": {\"min_move\": 61.47500106745963}, \"se\": {\"min_move\": 0.0}, \"se_hat\": {\"min_move\": 0.004949178320235153}, \"context_stratum\": null}, \"9_0\": {\"name\": \"9_0\", \"parameters\": {\"lr\": 0.0426709388481696, \"decay\": 0.002247218136513755, \"epochs\": 87}, \"y\": {\"min_move\": 87.2}, \"y_hat\": {\"min_move\": 87.19999725684383}, \"se\": {\"min_move\": 0.0}, \"se_hat\": {\"min_move\": 0.004949178188362534}, \"context_stratum\": null}, \"10_0\": {\"name\": \"10_0\", \"parameters\": {\"lr\": 0.02800566925168594, \"decay\": 0.0002677039277472593, \"epochs\": 78}, \"y\": {\"min_move\": 58.85}, \"y_hat\": {\"min_move\": 58.85000113017125}, \"se\": {\"min_move\": 0.0}, \"se_hat\": {\"min_move\": 0.004949178306498422}, \"context_stratum\": null}, \"11_0\": {\"name\": \"11_0\", \"parameters\": {\"lr\": 0.0685188376679517, \"decay\": 0.0016482494131049618, \"epochs\": 60}, \"y\": {\"min_move\": 80.475}, \"y_hat\": {\"min_move\": 80.47499938521004}, \"se\": {\"min_move\": 0.0}, \"se_hat\": {\"min_move\": 0.0049491782790249605}, \"context_stratum\": null}, \"12_0\": {\"name\": \"12_0\", \"parameters\": {\"lr\": 0.0697169377514626, \"decay\": 0.001987605498296668, \"epochs\": 75}, \"y\": {\"min_move\": 87.65}, \"y_hat\": {\"min_move\": 87.64999542663615}, \"se\": {\"min_move\": 0.0}, \"se_hat\": {\"min_move\": 0.004949177567462242}, \"context_stratum\": null}, \"13_0\": {\"name\": \"13_0\", \"parameters\": {\"lr\": 0.05441266281255867, \"decay\": 0.001897592002189751, \"epochs\": 73}, \"y\": {\"min_move\": 74.375}, \"y_hat\": {\"min_move\": 74.37500643677217}, \"se\": {\"min_move\": 0.0}, \"se_hat\": {\"min_move\": 0.00494917753724143}, \"context_stratum\": null}, \"14_0\": {\"name\": \"14_0\", \"parameters\": {\"lr\": 0.06593370364780642, \"decay\": 0.001681425245434636, \"epochs\": 69}, \"y\": {\"min_move\": 105.025}, \"y_hat\": {\"min_move\": 105.02498659395246}, \"se\": {\"min_move\": 0.0}, \"se_hat\": {\"min_move\": 0.004949166204423666}, \"context_stratum\": null}, \"15_0\": {\"name\": \"15_0\", \"parameters\": {\"lr\": 0.0370041853218101, \"decay\": 0.0017477292689809694, \"epochs\": 69}, \"y\": {\"min_move\": 96.7}, \"y_hat\": {\"min_move\": 96.69999793039085}, \"se\": {\"min_move\": 0.0}, \"se_hat\": {\"min_move\": 0.004949177416358177}, \"context_stratum\": null}, \"16_0\": {\"name\": \"16_0\", \"parameters\": {\"lr\": 0.09938492371943926, \"decay\": 0.0015626758209768153, \"epochs\": 70}, \"y\": {\"min_move\": 87.1}, \"y_hat\": {\"min_move\": 87.10000650343329}, \"se\": {\"min_move\": 0.0}, \"se_hat\": {\"min_move\": 0.004949177086676564}, \"context_stratum\": null}, \"17_0\": {\"name\": \"17_0\", \"parameters\": {\"lr\": 0.05809303501408004, \"decay\": 0.0020319116910216093, \"epochs\": 69}, \"y\": {\"min_move\": 98.5}, \"y_hat\": {\"min_move\": 98.50000889102017}, \"se\": {\"min_move\": 0.0}, \"se_hat\": {\"min_move\": 0.004949171319992134}, \"context_stratum\": null}, \"18_0\": {\"name\": \"18_0\", \"parameters\": {\"lr\": 0.06278539344348018, \"decay\": 0.0018074309146501322, \"epochs\": 68}, \"y\": {\"min_move\": 98.6}, \"y_hat\": {\"min_move\": 98.60000171039815}, \"se\": {\"min_move\": 0.0}, \"se_hat\": {\"min_move\": 0.004949173509629653}, \"context_stratum\": null}, \"19_0\": {\"name\": \"19_0\", \"parameters\": {\"lr\": 0.05581202297348793, \"decay\": 0.0014879180519567713, \"epochs\": 69}, \"y\": {\"min_move\": 100.0}, \"y_hat\": {\"min_move\": 100.00000817169158}, \"se\": {\"min_move\": 0.0}, \"se_hat\": {\"min_move\": 0.00494917464153725}, \"context_stratum\": null}, \"20_0\": {\"name\": \"20_0\", \"parameters\": {\"lr\": 0.06862525836312534, \"decay\": 0.0016138097700495336, \"epochs\": 70}, \"y\": {\"min_move\": 101.575}, \"y_hat\": {\"min_move\": 101.57499452613861}, \"se\": {\"min_move\": 0.0}, \"se_hat\": {\"min_move\": 0.004949171668905581}, \"context_stratum\": null}, \"21_0\": {\"name\": \"21_0\", \"parameters\": {\"lr\": 0.09373144497300952, \"decay\": 0.0021325495969080665, \"epochs\": 78}, \"y\": {\"min_move\": 93.475}, \"y_hat\": {\"min_move\": 93.47499702215218}, \"se\": {\"min_move\": 0.0}, \"se_hat\": {\"min_move\": 0.004949177844944241}, \"context_stratum\": null}, \"22_0\": {\"name\": \"22_0\", \"parameters\": {\"lr\": 0.1, \"decay\": 0.0014867706919937198, \"epochs\": 77}, \"y\": {\"min_move\": 91.375}, \"y_hat\": {\"min_move\": 91.37500010869738}, \"se\": {\"min_move\": 0.0}, \"se_hat\": {\"min_move\": 0.004949178029016449}, \"context_stratum\": null}, \"23_0\": {\"name\": \"23_0\", \"parameters\": {\"lr\": 0.05025995239891894, \"decay\": 0.0017713524339547954, \"epochs\": 78}, \"y\": {\"min_move\": 90.3}, \"y_hat\": {\"min_move\": 90.29999833539381}, \"se\": {\"min_move\": 0.0}, \"se_hat\": {\"min_move\": 0.004949178026269103}, \"context_stratum\": null}, \"24_0\": {\"name\": \"24_0\", \"parameters\": {\"lr\": 0.0689066000284994, \"decay\": 0.00198557475386927, \"epochs\": 82}, \"y\": {\"min_move\": 67.7}, \"y_hat\": {\"min_move\": 67.70000215190367}, \"se\": {\"min_move\": 0.0}, \"se_hat\": {\"min_move\": 0.004949178251551499}, \"context_stratum\": null}, \"25_0\": {\"name\": \"25_0\", \"parameters\": {\"lr\": 0.03293699870473663, \"decay\": 0.0024731563662717107, \"epochs\": 90}, \"y\": {\"min_move\": 74.625}, \"y_hat\": {\"min_move\": 74.62500085474323}, \"se\": {\"min_move\": 0.0}, \"se_hat\": {\"min_move\": 0.0049491782185833435}, \"context_stratum\": null}, \"26_0\": {\"name\": \"26_0\", \"parameters\": {\"lr\": 0.05811432304506772, \"decay\": 0.0027781964192298, \"epochs\": 77}, \"y\": {\"min_move\": 71.05}, \"y_hat\": {\"min_move\": 71.05000315044896}, \"se\": {\"min_move\": 0.0}, \"se_hat\": {\"min_move\": 0.004949178070226644}, \"context_stratum\": null}, \"27_0\": {\"name\": \"27_0\", \"parameters\": {\"lr\": 0.045972301814203344, \"decay\": 0.0013639257353456765, \"epochs\": 65}, \"y\": {\"min_move\": 95.15}, \"y_hat\": {\"min_move\": 95.14999956714875}, \"se\": {\"min_move\": 0.0}, \"se_hat\": {\"min_move\": 0.004949177836702202}, \"context_stratum\": null}, \"28_0\": {\"name\": \"28_0\", \"parameters\": {\"lr\": 0.09030546574920537, \"decay\": 0.0013564204087068111, \"epochs\": 65}, \"y\": {\"min_move\": 92.05}, \"y_hat\": {\"min_move\": 92.04999965938076}, \"se\": {\"min_move\": 0.0}, \"se_hat\": {\"min_move\": 0.004949178001542986}, \"context_stratum\": null}, \"29_0\": {\"name\": \"29_0\", \"parameters\": {\"lr\": 0.055816927378238644, \"decay\": 0.0010293252620656157, \"epochs\": 63}, \"y\": {\"min_move\": 91.75}, \"y_hat\": {\"min_move\": 91.74999955368857}, \"se\": {\"min_move\": 0.0}, \"se_hat\": {\"min_move\": 0.004949178067479298}, \"context_stratum\": null}, \"30_0\": {\"name\": \"30_0\", \"parameters\": {\"lr\": 0.05379056153462837, \"decay\": 0.0009920240891720343, \"epochs\": 66}, \"y\": {\"min_move\": 99.325}, \"y_hat\": {\"min_move\": 99.32499728077028}, \"se\": {\"min_move\": 0.0}, \"se_hat\": {\"min_move\": 0.004949177987806254}, \"context_stratum\": null}}, \"out_of_sample\": {}, \"status_quo_name\": null};\n",
       "const density = 50;\n",
       "const grid_x = [0.001, 0.0010985411419875584, 0.0012067926406393288, 0.0013257113655901094, 0.0014563484775012444, 0.0015998587196060573, 0.0017575106248547913, 0.0019306977288832496, 0.0021209508879201904, 0.002329951810515372, 0.002559547922699536, 0.002811768697974231, 0.0030888435964774815, 0.00339322177189533, 0.003727593720314938, 0.004094915062380423, 0.004498432668969444, 0.004941713361323833, 0.005428675439323859, 0.005963623316594642, 0.006551285568595509, 0.0071968567300115215, 0.0079060432109077, 0.00868511373751352, 0.009540954763499945, 0.010481131341546858, 0.01151395399326447, 0.012648552168552958, 0.013894954943731374, 0.015264179671752334, 0.016768329368110076, 0.018420699693267154, 0.020235896477251564, 0.022229964825261943, 0.02442053094548651, 0.026826957952797246, 0.029470517025518096, 0.032374575428176434, 0.03556480306223128, 0.03906939937054615, 0.04291934260128776, 0.04714866363457392, 0.0517947467923121, 0.05689866029018296, 0.0625055192527397, 0.06866488450042998, 0.07543120063354615, 0.08286427728546843, 0.09102981779915217, 0.1];\n",
       "const grid_y = [20.0, 21.632653061224488, 23.26530612244898, 24.89795918367347, 26.53061224489796, 28.163265306122447, 29.79591836734694, 31.42857142857143, 33.06122448979592, 34.69387755102041, 36.326530612244895, 37.95918367346939, 39.59183673469388, 41.224489795918366, 42.85714285714286, 44.48979591836735, 46.12244897959184, 47.755102040816325, 49.38775510204081, 51.02040816326531, 52.6530612244898, 54.285714285714285, 55.91836734693878, 57.55102040816327, 59.183673469387756, 60.816326530612244, 62.44897959183673, 64.08163265306123, 65.71428571428572, 67.34693877551021, 68.9795918367347, 70.61224489795919, 72.24489795918367, 73.87755102040816, 75.51020408163265, 77.14285714285714, 78.77551020408163, 80.40816326530611, 82.04081632653062, 83.6734693877551, 85.3061224489796, 86.93877551020408, 88.57142857142857, 90.20408163265306, 91.83673469387756, 93.46938775510205, 95.10204081632654, 96.73469387755102, 98.36734693877551, 100.0];\n",
       "const f = [70.68143082266384, 70.68842921711932, 70.69646631107092, 70.7056608154571, 70.71613661856563, 70.7280208018747, 70.74144100508116, 70.75652206429562, 70.7733818630843, 70.79212636148466, 70.81284380504911, 70.83559816571717, 70.86042192949914, 70.88730842204043, 70.91620394999825, 70.94700012960152, 70.97952686714824, 71.01354654026359, 71.04874999177304, 71.0847549764698, 71.1211076807004, 71.15728785264999, 71.19271792831091, 71.22677631172868, 71.25881467481298, 71.28817879950468, 71.31423212271952, 71.3363808015057, 71.35409883732633, 71.36695162881776, 71.37461629794528, 71.37689727530491, 71.37373593469158, 71.36521350920543, 71.35154705366081, 71.3330787786583, 71.31025960345724, 71.28362819728208, 71.25378705763605, 71.22137728768088, 71.1870536848725, 71.1514615630117, 71.11521643774662, 71.07888735645311, 71.04298429183197, 71.00794968235635, 70.97415391936477, 70.94189436596417, 70.91139735189923, 70.88282251727404, 70.70925058155805, 70.72170919080764, 70.73618005095487, 70.75292873871555, 70.7722408575035, 70.79441945463911, 70.81978100842507, 70.84864970168863, 70.88134969701238, 70.91819514803343, 70.95947772844583, 71.00545154398809, 71.05631542108776, 71.11219274628417, 71.17310926772909, 71.23896956385458, 71.30953322716535, 71.38439218522889, 71.4629509554975, 71.5444119600908, 71.62776825113336, 71.71180604574039, 71.79511926822848, 71.8761377813674, 71.95317012154351, 72.02446034466618, 72.08825711516646, 72.14289157764338, 72.18685905479478, 72.21889847179803, 72.23806286579827, 72.24377458450581, 72.23585987464163, 72.21455941876758, 72.18051375443024, 72.13472504871399, 72.07849901458059, 72.01337250242851, 71.94103326067011, 71.86323846857334, 71.7817379903577, 71.69820708103366, 71.61419174604171, 71.53106837008983, 71.45001779124705, 71.37201284049328, 71.29781755779196, 71.22799583448271, 71.16292707568842, 71.10282655858458, 70.74521560903428, 70.76520076091678, 70.78866053734605, 70.81611201236521, 70.8481259408524, 70.88532573942692, 70.92838405727387, 70.97801622619895, 71.03496978656952, 71.10000921385614, 71.1738949367808, 71.25735576569996, 71.35105396780676, 71.45554246849231, 71.57121406392889, 71.69824313674633, 71.83652120605225, 71.98558872967662, 72.1445668939886, 72.31209460943674, 72.48627744367724, 72.66465654829868, 72.84420645660276, 73.02137055828263, 73.1921416751193, 73.35219212237796, 73.49705280550239, 73.62233450346716, 73.72397725912926, 73.79850697690102, 73.84327350421808, 73.85664318906119, 73.83812214640584, 73.78839419558807, 73.70926840986263, 73.60354325719473, 73.4748048928631, 73.32718421793878, 73.16509979498447, 72.9930117652037, 72.8152066513393, 72.63562594147514, 72.45774418109106, 72.28449612073265, 72.11824791897571, 71.96080464693338, 71.81344519851883, 71.67697581263374, 71.55179434143601, 71.43795877265629, 70.78311841295539, 70.81148318678363, 70.84507219585558, 70.88473705007172, 70.9314374643851, 70.98624600271985, 71.05034991612222, 71.12504883315167, 71.21174678145908, 71.31193672419843, 71.42717550337599, 71.5590468266375, 71.70910976271296, 71.87883019279053, 72.0694928943226, 72.28209253170739, 72.517202943547, 72.77482591703304, 73.0542232951585, 73.35373990305266, 73.67062943460391, 74.00090093744755, 74.33920936693593, 74.67881885627165, 75.01167027481962, 75.32858313417228, 75.61961348114485, 75.87457209843254, 76.08368088908726, 76.23831279376587, 76.33172920699212, 76.359709126575, 76.32096644816063, 76.21728061314023, 76.05331625439028, 75.83616534663203, 75.57469306039143, 75.27879305095799, 74.95865600194648, 74.6241328549984, 74.28424193201297, 73.94683723716327, 73.61843015941679, 73.30414100302374, 73.00774963568041, 72.73181391911439, 72.47782801209371, 72.24639801068427, 72.03741822148802, 71.8502367476101, 70.81192858800343, 70.84695920372522, 70.88868257170427, 70.93825289500053, 70.99698831321129, 71.06638377101748, 71.14812137300369, 71.24407665203012, 71.3563187195271, 71.48710173179933, 71.63884450471, 71.81409446107571, 72.01547144188493, 72.24558632447248, 72.5069289797813, 72.8017200347976, 73.13172142658966, 73.49800217338826, 73.90065858155239, 74.33849279194318, 74.80866074701487, 75.30631089480522, 75.8242485428755, 76.35267736885662, 76.87908747464573, 77.38837453627877, 77.8632797563829, 78.2852245832922, 78.63556504585557, 78.89720050729159, 79.05634966848761, 79.10418960020846, 79.03800264480645, 78.86154506983085, 78.58453934982688, 78.22142445372657, 77.7896705172205, 77.30801195413935, 76.79488695372208, 76.26724971774426, 75.7398033107454, 75.22461758583474, 74.73105371350631, 74.26590534766852, 73.8336738959987, 73.43691136675828, 73.0765821345473, 72.7524111451798, 72.46319913141154, 72.20709511841578, 70.82044215885502, 70.85763318759012, 70.90201782471341, 70.95485784489733, 71.01759998551083, 71.09189227645251, 71.17959819054809, 71.28280697389152, 71.40383799927666, 71.54523637073692, 71.70975629408125, 71.90032793002287, 72.1200025950128, 72.3718703314588, 72.65894313807307, 72.98399669876804, 73.34936352615861, 73.75667140808375, 74.20652342094847, 74.69812022891023, 75.22883277161861, 75.79374472437395, 76.38520021361654, 76.99241366377711, 77.60122457936497, 78.19410714178062, 78.75056462825764, 79.24803677261913, 79.66340191058885, 79.97504188434775, 80.16525177161074, 80.2225636977745, 80.14342395117713, 79.93274050351444, 79.60313002049554, 79.173097773909, 78.66466323707937, 78.10098239895348, 77.50436506335365, 76.89487105595668, 76.28949366385986, 75.70183688027434, 75.14215566883102, 74.61763150450778, 74.13277752257494, 73.68989489360402, 73.28952737353363, 72.93088151725777, 72.6121953099392, 72.33104855149028, 70.80395580597789, 70.83769708077895, 70.87789226091115, 70.9256473825001, 70.98222301945091, 71.04904562975177, 71.12771626374115, 71.22001510270535, 71.32789986564094, 71.45349562681706, 71.59907303768796, 71.76701136798098, 71.95974221667164, 72.17966926696991, 72.42905918285437, 72.70989883313007, 73.02371471402458, 73.37135203343232, 73.7527138134568, 74.16646502828804, 74.60971370870388, 75.0776905054334, 75.5634604847276, 76.057715299031, 76.54870841599916, 77.02240687150449, 77.46293350262624, 77.85335491526496, 78.17682359199102, 78.4180041963388, 78.56461507678657, 78.6088275510127, 78.5482339186851, 78.38615688103692, 78.13122328952032, 77.79630788237428, 77.3970911644955, 76.95052108115891, 76.47342413549667, 75.98141850461158, 75.48818445053203, 75.00507383595657, 74.54099874630187, 74.10252429109582, 73.69409337595877, 73.31832300110952, 72.97632636042165, 72.66802913392888, 72.3924602246838, 72.14800630507013, 70.76675864647005, 70.79282594157186, 70.82375406631625, 70.86032948419455, 70.90343525499618, 70.95405425650733, 71.01326951169612, 71.08226047827978, 71.16229392049493, 71.25470774036665, 71.36088591863783, 71.48222253574151, 71.6200727570405, 71.77568873776161, 71.95013871531911, 72.14420821431271, 72.35828341391225, 72.59221844723353, 72.8451908323252, 73.1155524382051, 73.40068732195341, 73.6968921997444, 73.99929971408564, 74.30186812827388, 74.59746228961997, 74.87804799065145, 75.13501354060298, 75.35961737287515, 75.54353931830191, 75.6794886570747, 75.7617998505456, 75.7869343364503, 75.75381055649758, 75.66390695705535, 75.52112010717667, 75.33140250515785, 75.10224018466553, 74.84204984163726, 74.55957602606034, 74.26335434249171, 73.96128353972645, 73.66032507993826, 73.36632846789485, 73.08396673982608, 72.81675920478331, 72.5671565771361, 72.33666532387389, 72.12599175026544, 71.93519080218937, 71.7638089369049, 70.71745088955323, 70.73420651382244, 70.75406215725302, 70.77748542955136, 70.80499052945183, 70.83713660338871, 70.8745238443073, 70.91778671719256, 70.96758363235138, 71.02458234526303, 71.08944035855193, 71.16277965721972, 71.24515524671156, 71.3370172119542, 71.43866640264442, 71.55020440165264, 71.67147916671948, 71.80202865072606, 71.94102577431036, 72.08722927651645, 72.23894608017996, 72.39401169167094, 72.54979556126241, 72.70323797180028, 72.85092361587178, 72.9891943626731, 73.11429978296113, 73.22257905324766, 73.31066250459548, 73.3756762481913, 73.41543010998404, 73.42856855927991, 73.41466701480205, 73.3742617466601, 73.30880966355069, 73.22058306880724, 73.11251226889684, 72.98799428746584, 72.85068810004847, 72.70431577576582, 72.5524853772539, 72.39854648472001, 72.24548387117123, 72.09585004786027, 71.95173366965713, 71.81475834678861, 71.68610519310843, 71.56655222950087, 71.45652426520483, 71.35614781507546, 70.66142403896535, 70.66899280875799, 70.67818943513387, 70.6892600602321, 70.70247066368124, 70.71810467096489, 70.73645923877784, 70.75783997074306, 70.7825538219291, 70.81089997548581, 70.84315852580238, 70.87957688649863, 70.92035396440293, 70.96562230700893, 71.01542864234627, 71.06971348367604, 71.12829075723616, 71.19082871119403, 71.25683364978191, 71.32563826958825, 71.39639650724214, 71.46808678593123, 71.53952532048399, 71.60939066688638, 71.67625996603437, 71.73865635441192, 71.79510586480586, 71.84420093725231, 71.88466656590585, 71.91542430456207, 71.93564901341855, 71.94481347244609, 71.94271684595435, 71.92949438522906, 71.90560752502586, 71.8718154154968, 71.82913066042994, 71.77876336469453, 71.72205836737868, 71.66043069654711, 71.59530387585475, 71.52805487271348, 71.45996837699174, 71.39220191852907, 71.32576222536916, 71.2614923020842, 71.20006802793144, 71.14200265118951, 71.08765736754903, 71.03725617410163, 70.59687293372002, 70.59532005440937, 70.59423987487374, 70.59375780786542, 70.5940128526153, 70.59515681326104, 70.59735286244975, 70.6007733194479, 70.60559651413223, 70.61200262177967, 70.62016838227576, 70.63026066457513, 70.64242890539225, 70.65679654088477, 70.67345165967717, 70.69243722983627, 70.71374138243685, 70.73728835740049, 70.76293081735909, 70.79044429448335, 70.81952453581744, 70.84978843988011, 70.88077912227774, 70.91197541076046, 70.94280576136323, 70.97266622947372, 71.00094175593046, 71.02702967919724, 71.05036410353941, 71.07043957963728, 71.08683251781187, 71.09921886888625, 71.10738686830292, 71.11124402041669, 71.11081796013875, 71.10625131591962, 71.09779115638611, 71.08577398350634, 71.07060750152414, 71.05275052399496, 71.03269238048632, 71.01093306575785, 70.98796516541267, 70.96425832733634, 70.9402467625828, 70.91631998354262, 70.89281674489467, 70.87002195912446, 70.84816622003105, 70.82742748425792, 70.5168743213291, 70.50472583571678, 70.49191031833062, 70.47848195965145, 70.46451603561687, 70.45011176396739, 70.43539505820773, 70.42052097028919, 70.4056755513039, 70.39107680135507, 70.37697433504584, 70.36364736969905, 70.3514006626106, 70.34055809371432, 70.3314537199444, 70.32442031975386, 70.31977569356663, 70.31780726961591, 70.31875585386547, 70.32279961707806, 70.33003958678466, 70.34048796566084, 70.35406050200088, 70.37057388474418, 70.38974874259138, 70.41121833707118, 70.43454251489602, 70.45922599558794, 70.48473968128175, 70.51054343517845, 70.5361087070699, 70.560939485558, 70.58459030030743, 70.60668034085391, 70.6269031508793, 70.64503174966926, 70.66091938502834, 70.67449640560258, 70.68576393989323, 70.69478518094414, 70.701675106208, 70.70658942462467, 70.7097134543285, 70.71125151250453, 70.71141726055387, 70.71042530728616, 70.70848424151524, 70.70579115093732, 70.70252759100502, 70.69885689733492, 70.41677218617394, 70.39078317069483, 70.36255968646121, 70.33205378721283, 70.29925239632821, 70.26418741194863, 70.2269470737899, 70.18768825715159, 70.14664911835541, 70.10416123361915, 70.06066007197009, 70.01669235868697, 69.97291867095413, 69.93010952718309, 69.88913335725965, 69.85093513749091, 69.81650518046061, 69.78683857801445, 69.76288702934058, 69.74550609261327, 69.7354020576271, 69.73308339577493, 69.73882187634474, 69.75262781279335, 69.77424253811253, 69.80314929240174, 69.83860156279576, 69.8796659292301, 69.92527498277532, 69.97428511593216, 70.02553398930561, 70.07789315197282, 70.13031242159727, 70.18185396286461, 70.2317153084428, 70.27924167606768, 70.32392875502013, 70.36541764130847, 70.40348382083609, 70.43802209108878, 70.46902914253313, 70.49658525614471, 70.52083626760387, 70.54197664209339, 70.56023422295166, 70.575856977614, 70.58910187129047, 70.60022585245096, 70.60947883033293, 70.61709845725294, 70.30436611513018, 70.26126467006061, 70.21365128855473, 70.16125764114601, 70.1038558096381, 70.04127971209302, 69.97345132361284, 69.90041167015723, 69.82235604873547, 69.73967219973309, 69.65297922421631, 69.56316393711397, 69.47141016988834, 69.37921545414659, 69.28838879022246, 69.20102317410358, 69.11943760464989, 69.04608575082389, 68.98343245525264, 68.93380453690519, 68.89922816382348, 68.8812701128281, 68.88090296523842, 68.89841338870193, 68.93336764448574, 68.98464009391871, 69.050500665708, 69.12874842294211, 69.21687260714762, 69.31222084061623, 69.412156277607, 69.51419021209288, 69.6160824270741, 69.71590704906532, 69.81208597956373, 69.90339477229207, 69.98894717868814, 70.06816479382623, 70.14073767557572, 70.2065808290108, 70.26579031672502, 70.31860165646957, 70.36535220527588, 70.40644844983805, 70.44233853290854, 70.47348992823335, 70.50037190451316, 70.52344226129829, 70.5431377474478, 70.55986756055614, 70.2061964628215, 70.1464470800191, 70.07957845897944, 70.00498125337785, 69.92206822181078, 69.8303061298669, 69.72925777207567, 69.61863534307108, 69.49836578815001, 69.36866772885969, 69.23013797043032, 69.08384335547517, 68.93141079605854, 68.77510479135196, 68.61787795466309, 68.46337672972604, 68.31588274891439, 68.18017184364128, 68.06127946864721, 67.96417469197598, 67.89336468078847, 67.85247442806607, 67.84386531290812, 67.86836201291621, 67.92514377818709, 68.0118240690727, 68.12470197542665, 68.25913418449856, 68.40995885421306, 68.57190528158499, 68.73994030306297, 68.90952503853718, 69.0767763075722, 69.2385417569347, 69.39240570587035, 69.53664516995529, 69.6701543527516, 69.79235283403008, 69.90308899985897, 70.00254672588524, 70.09116032552882, 70.16954043718044, 70.23841182866725, 70.29856295215473, 70.35080637397863, 70.39594882027902, 70.43476942452351, 70.4680047599445, 70.49633933011242, 70.52040033205638, 70.1589002738849, 70.08994044831017, 70.01217839903977, 69.92473931942361, 69.82674504100723, 69.71735029205757, 69.59579263213764, 69.46145850163444, 69.31396740985875, 69.1532753477923, 68.97979683473346, 68.79454234134876, 68.59926392239875, 68.39659655973733, 68.19017599575832, 67.98470623393739, 67.78594275317214, 67.60055350167654, 67.43582320932204, 67.2991829691863, 67.19758084041592, 67.13675911333665, 67.12055703694013, 67.15038887748118, 67.22502946086946, 67.34076654320606, 67.49187892518226, 67.67131806036461, 67.87144219710471, 68.08467560941439, 68.30401663315347, 68.52337011554104, 68.73771710931393, 68.94315412068035, 69.13683974992625, 69.31688367470943, 69.48220621603419, 69.63238916113379, 69.76753165754855, 69.88811946191821, 69.99491171831816, 70.08884659449376, 70.17096527076669, 70.24235270168039, 70.30409303337105, 70.35723738342439, 70.4027817413761, 70.4416529311712, 70.47470082570067, 70.50269527440318, 70.1838973411772, 70.11823613995091, 70.04416473536604, 69.96085743703915, 69.86749195835121, 69.76328555276639, 69.64754402838786, 69.51972570837263, 69.37952191601512, 69.22695456982335, 69.06248978357299, 68.88716376870016, 68.70271364037369, 68.51170084024305, 68.31760895258539, 68.12489131564507, 67.93893840148242, 67.76593293494099, 67.61256579993386, 67.48560210998484, 67.3913170203045, 67.33486232811477, 67.31966615411811, 67.34698926352489, 67.4157440658274, 67.522623249609, 67.6625055733886, 67.82904106410666, 68.0152919306808, 68.21432053717717, 68.41965487765863, 68.62560458947144, 68.82743330655543, 69.02141202685534, 69.20478509870662, 69.3756795071922, 69.53298319627177, 69.67621190022955, 69.805377942243, 69.92086941173861, 70.02334426135518, 70.11364110203459, 70.19270663832785, 70.26153856500352, 70.32114214571175, 70.37249845293873, 70.41654224013988, 70.45414754908033, 70.48611936261818, 70.51318985126238, 70.26763361311055, 70.21574115100283, 70.15759346678036, 70.09267181479919, 70.02048831955874, 69.94061612728225, 69.85272781336216, 69.75664262452865, 69.65238250105062, 69.54023584231183, 69.42082658378106, 69.29518431400592, 69.16480891795933, 69.0317207539741, 68.89848501132145, 68.76819725956659, 68.6444171627283, 68.53103994671947, 68.43210144529309, 68.35152278275027, 68.29281409628447, 68.25877048633839, 68.25120329690981, 68.27075119684477, 68.316805591464, 68.38756488031753, 68.48020753929609, 68.59115259041783, 68.71636391724036, 68.8516542022177, 68.99295287441467, 69.13651586417426, 69.27906865117258, 69.41788504205844, 69.55081112869533, 69.67624714570618, 69.79310036533377, 69.90072080174764, 69.99882926090281, 70.08744481856408, 70.16681653345057, 70.2373622988394, 70.2996162633675, 70.35418518986403, 70.40171341062398, 70.44285560640407, 70.47825641420542, 70.50853579426591, 70.53427910988124, 70.55603095651703, 70.37114769308405, 70.33617877992356, 70.29748440934412, 70.25485296882111, 70.20811364246916, 70.15715499565876, 70.10194685946777, 70.04256518952492, 69.97921914099386, 69.91227905013542, 69.84230336109552, 69.77006183138084, 69.69655167648193, 69.6230028035971, 69.55086810952139, 69.48179517778014, 69.41757679273083, 69.36007960830312, 69.3111530294518, 69.27252362287086, 69.24568364962641, 69.23178487916549, 69.23154992866134, 69.24521240224297, 69.27249396266959, 69.31262162338464, 69.36438298546226, 69.42621207368951, 69.49629490369239, 69.57268251891334, 69.65339996168181, 69.73654198452356, 69.82034951164012, 69.90326417517689, 69.98396110951046, 70.06136227772136, 70.13463385186772, 70.20317166346496, 70.26657866060891, 70.32463785309663, 70.3772835760374, 70.42457319476154, 70.46666070370617, 70.50377309419773, 70.53618990480552, 70.56422602608507, 70.58821759880382, 70.608510703997, 70.62545247477904, 70.63938424440533, 70.45723859444148, 70.43597836676851, 70.41289124307517, 70.38794721343336, 70.36114838627617, 70.3325373039421, 70.30220592676753, 70.27030492919495, 70.2370527863237, 70.20274395237486, 70.16775526183042, 70.13254954546821, 70.09767538004225, 70.0637619189556, 70.03150791762012, 70.00166439757935, 69.97501089478801, 69.95232588721281, 69.9343527363323, 69.9217632108606, 69.91512126714511, 69.91485011146973, 69.9212055605951, 69.93425829776655, 69.95388681734549, 69.97978176742336, 70.0114612038902, 70.04829515516407, 70.08953703947874, 70.1343589944073, 70.18188811035847, 70.23124086662257, 70.28155365120647, 70.33200797553023, 70.38184974401945, 70.43040260248841, 70.47707589998265, 70.52136812675822, 70.56286683946385, 70.60124607992853, 70.63626217608108, 70.66774862663466, 70.69561055710459, 70.71981902854805, 70.74040530794835, 70.75745508610952, 70.7711025611351, 70.78152429025161, 70.7889327403688, 70.79356952445228, 70.50635159838531, 70.49310308423941, 70.47913055215312, 70.46449557401823, 70.44928209281312, 70.43359892440215, 70.41758206666309, 70.40139665880066, 70.38523840177206, 70.36933422330313, 70.35394195320349, 70.33934877263924, 70.3258682209243, 70.313835590627, 70.30360161957256, 70.2955244962718, 70.28996032819269, 70.28725236936847, 70.28771944911279, 70.29164416739613, 70.2992615041286, 70.3107485114663, 70.32621570948665, 70.3457006855898, 70.369164218123, 70.39648902755812, 70.42748103464315, 70.46187280766277, 70.49932874035561, 70.53945143930792, 70.58178882307679, 70.62584153882497, 70.67107046647226, 70.7169042757139, 70.76274719251006, 70.80798728307096, 70.85200564372086, 70.89418687217258, 70.9339310803847, 70.97066749752928, 71.00386942650503, 71.03306999720743, 71.05787785430843, 71.0779916811453, 71.09321234430264, 71.103451480455, 71.10873554909723, 71.1092047244887, 71.10510645276293, 71.09678399135537, 70.51502248725711, 70.50432851769521, 70.49345556269472, 70.48253612387448, 70.47172408711408, 70.46119449583394, 70.45114278710984, 70.44178347586353, 70.43334829696433, 70.42608384040432, 70.42024873864246, 70.4161104855424, 70.41394198100095, 70.41401790268176, 70.4166110050607, 70.421988435659, 70.43040813887842, 70.44211538973947, 70.45733946397885, 70.47629040870846, 70.49915583099674, 70.52609757283199, 70.5572480935064, 70.59270633940282, 70.63253285295116, 70.67674386526748, 70.72530414020945, 70.77811840153663, 70.835021289476, 70.895765966246, 70.96001172591556, 71.02731125953687, 71.09709856903028, 71.16867888670092, 71.24122229902068, 71.31376303298784, 71.38520646430896, 71.45434576297907, 71.5198896229126, 71.58050167512849, 71.63485096173794, 71.68167133775515, 71.7198260569979, 71.7483723660945, 71.7666200034808, 71.7741773741059, 71.77098001555811, 71.7572977538255, 71.73371940455033, 71.70111656672233, 70.4896815590222, 70.47731636994082, 70.46500532159985, 70.45297289934973, 70.44147506823461, 70.43079764353031, 70.42125363608082, 70.41317963310577, 70.40693135380354, 70.40287859689656, 70.40139986533097, 70.40287700213577, 70.40769019208585, 70.41621366941803, 70.4288124187504, 70.44584006494952, 70.46763802267586, 70.49453582627066, 70.52685239683919, 70.56489783838394, 70.60897520079858, 70.65938151484542, 70.71640730078914, 70.78033368356168, 70.8514262170585, 70.92992453241375, 71.0160269862148, 71.10986960568192, 71.21149882686836, 71.32083782529523, 71.43764668081636, 71.56147724041071, 71.69162438395207, 71.82707648603265, 71.9664691963288, 72.10804816513266, 72.24964785467586, 72.38869479935153, 72.52224414703902, 72.64705742649755, 72.75972660117156, 72.85684413228407, 72.93521105642806, 72.99206595381133, 73.02530918314433, 73.03369169549933, 73.0169387502963, 72.97578708813899, 72.91192822785095, 72.82786684445512, 70.44480131297236, 70.42831260593789, 70.41196268793344, 70.3960968035416, 70.38111169826682, 70.36745326622713, 70.35561236831373, 70.3461189017342, 70.33953436040368, 70.33644328950174, 70.33744418769392, 70.34314052559736, 70.35413260808247, 70.3710109938734, 70.39435208884174, 70.42471634933308, 70.46264927948191, 70.50868510206726, 70.56335265303785, 70.6271827247151, 70.70071578868085, 70.7845087865514, 70.87913949587585, 70.98520685992293, 71.10332560644248, 71.23411345922365, 71.37816925545572, 71.53604031612268, 71.70817748395045, 71.89487637284705, 72.09620362304602, 72.31190742528058, 72.54131241275182, 72.78320042683818, 73.03568090615877, 73.2960580355511, 73.56070661359782, 73.82497499889072, 74.08314121270683, 74.32845619220225, 74.55331369454566, 74.7495847080773, 74.9091386024726, 75.02453689940904, 75.08982777384784, 75.10130441880544, 75.05805109562961, 74.9621240518418, 74.81830898555434, 74.6335219970073, 70.40288960325574, 70.38242110309113, 70.36217319620889, 70.34262000254802, 70.32431168574875, 70.3078722304499, 70.29399451587179, 70.2834327328389, 70.27699243578579, 70.27551878355004, 70.27988377234931, 70.29097346494022, 70.30967633442008, 70.33687383784117, 70.37343419428133, 70.42021006216491, 70.47804040917474, 70.54775638112739, 70.63019045280227, 70.72618763777469, 70.83661709508803, 70.96238213460069, 71.10442640845783, 71.26373398224081, 71.44132098765814, 71.63821663889411, 71.85543151128392, 72.09391109961805, 72.35447276770451, 72.63772425867131, 72.94396196683473, 73.27304722089562, 73.62425899274113, 73.99612190981769, 74.38620952919611, 74.79092504677983, 75.20526577281137, 75.62258499777015, 76.03437695488486, 76.43012953381405, 76.79731730361411, 77.12164484242737, 77.38769177001909, 77.58013201943271, 77.68563228481779, 77.69525119033649, 77.606614123965, 77.4247585171798, 77.16109124058063, 76.83107396616144, 70.38825783512327, 70.36688936112097, 70.3459797244872, 70.32610610958506, 70.30794160464593, 70.29225424914281, 70.2799030134654, 70.27183071425927, 70.26905414946366, 70.2726520418224, 70.28375167136657, 70.30351531098455, 70.33312770770974, 70.37378583500364, 70.42669195223232, 70.4930506429329, 70.57406998519282, 70.67096638158347, 70.78497190633553, 70.91734238480564, 71.06936387129184, 71.24235478780592, 71.4376607596164, 71.65663914260222, 71.90063037422331, 72.1709135750614, 72.46864425964775, 72.79477256597258, 73.1499410725546, 73.53436203746149, 73.94767476652432, 74.38878480013616, 74.85568770394734, 75.34528148185164, 75.85317308629016, 76.37348641797446, 76.89868211526161, 77.41940435132442, 77.9243784909273, 78.4003982699489, 78.83246497837372, 79.20417549890632, 79.49849631114276, 79.69908298977639, 79.79224063915444, 79.76934220517106, 79.62898005865037, 79.37775021350264, 79.02911808437646, 78.60099011290892, 70.41340818430824, 70.39573753374742, 70.37899567161779, 70.36381478414437, 70.35093206665006, 70.34119130120483, 70.33554192528089, 70.33503559235032, 70.34082045554842, 70.35413364769315, 70.37629265106881, 70.40868640801676, 70.452767077181, 70.51004325514474, 70.58207523787542, 70.67047248960569, 70.7768929404453, 70.90304309226845, 71.05067723629202, 71.22159344471395, 71.41762346106518, 71.64061323815064, 71.89239070241439, 72.17471738741867, 72.48922089283849, 72.83730569940097, 73.22004071789654, 73.63802309639595, 74.09121929671853, 74.57878634240053, 75.09887851573419, 75.64844772013512, 76.22304926729515, 76.81666893342012, 77.42159149313706, 78.0283350164028, 78.62567807204944, 79.20080741107057, 79.73961053406913, 80.22713015964283, 80.64818624634208, 80.98815642508741, 81.23388661653003, 81.37467670413054, 81.4032480867154, 81.31655675361809, 81.11629077208758, 80.80891713875216, 80.40523112090278, 79.91947912686321, 70.47022372051823, 70.45966777588856, 70.4506338878281, 70.44376439959296, 70.43980779908023, 70.43962412196059, 70.44418914841123, 70.45459742301293, 70.47206424681727, 70.49792689820693, 70.53364540970146, 70.58080323303278, 70.64110803712649, 70.7163926810344, 70.80861607467538, 70.91986318732658, 71.05234290730492, 71.2083818342828, 71.39041145287837, 71.60094556090347, 71.8425443862868, 72.11776160786128, 72.42907058446374, 72.77876658093403, 73.16884273934858, 73.60083904478633, 74.07566561280714, 74.5934042651133, 75.15309546810023, 75.75252109337772, 76.38799681840901, 77.0541909332327, 77.74398845677524, 78.44842049529055, 79.15667860314908, 79.85623261766294, 80.53306796715826, 81.17205387528621, 81.75744476620442, 82.27350018961947, 82.70518314937794, 83.03887104900555, 83.26300621803009, 83.36864046377926, 83.3498812081403, 83.20428565129525, 82.93323453373362, 82.5422484884368, 82.04113151972099, 81.44379391252156, 70.53673864137936, 70.53379515916991, 70.53286473319129, 70.5345694893126, 70.53963687621051, 70.54890973767864, 70.56335674327612, 70.58408327358396, 70.61234287842481, 70.64954941763897, 70.69728993585599, 70.75733819491003, 70.83166857004763, 70.92246969134, 71.03215676738685, 71.16338096008269, 71.31903349327557, 71.50224139471595, 71.71635092721685, 71.96489392083102, 72.25153146083254, 72.57996884096744, 72.95383552977589, 73.37652435022767, 73.85098543671756, 74.37947317175913, 74.9632486250165, 75.60224641189666, 76.29472361151304, 77.03691933042214, 77.82276586161146, 78.64370417962246, 79.48866403165799, 80.34426638736177, 81.19528614356449, 82.02536888524409, 82.81792548838658, 83.55704288736156, 84.22817715171566, 84.81838143365367, 85.31591210026944, 85.70926873426994, 85.98601822764049, 86.13202212761719, 86.1317702039033, 85.97027132667924, 85.63634239127805, 85.12639648816798, 84.44740066605783, 83.61788000169325, 70.59234114228097, 70.59493962853942, 70.59973962696257, 70.60731223444647, 70.61833039797274, 70.6335828583218, 70.65398982228739, 70.68062060515948, 70.71471348451679, 70.75769797537984, 70.81121966182505, 70.87716758534918, 70.95770397781381, 71.05529581743086, 71.17274725977646, 71.31323143179321, 71.48031935547259, 71.6780028720969, 71.91070735541093, 72.18328873055916, 72.50100787021496, 72.86947386475924, 73.2945460522492, 73.78218321358581, 74.33822726868, 74.96810859461822, 75.67646140210105, 76.4666414397861, 77.34014603631462, 78.29594999495805, 79.32979243811077, 80.4334818690727, 81.59433133552784, 82.79489161800926, 84.01320869287125, 85.22386413633664, 86.39999769371538, 87.51623998126654, 88.55186783131668, 89.4926072835331, 90.32898657265021, 91.0500494083124, 91.63386418125842, 92.03924396398999, 92.20437914251616, 92.05670544808933, 91.53478420321747, 90.61436645990372, 89.32253742082092, 87.73243215374329, 70.62718103527169, 70.63219003941717, 70.63919375739411, 70.64866390559841, 70.66116008511894, 70.67734413136534, 70.69799675658531, 70.72403684262316, 70.75654376943787, 70.79678318048363, 70.84623658232351, 70.90663514448183, 70.97999799638977, 71.0686751989838, 71.17539538399615, 71.30331778574906, 71.45608801554317, 71.63789641935652, 71.853537180782, 72.10846544033006, 72.4088485479573, 72.76160608729303, 73.1744314387744, 73.65578531187694, 74.21484880609214, 74.86142011244763, 75.60573495792177, 76.45818646387859, 77.4289156140706, 78.52723981789835, 79.76088568091555, 81.13499592704657, 82.65089449257546, 84.30462669229196, 86.08535716320158, 87.97382939353079, 89.9412992001493, 91.94967713768484, 93.9539175386953, 95.90669908914543, 97.75944488744855, 99.44908426832117, 100.87555156654923, 101.88695678431667, 102.2820788869403, 101.85446895142613, 100.49872394852605, 98.28226881471849, 95.41727591374743, 92.18293273218137, 70.64206883220767, 70.64674522399545, 70.65287297293602, 70.6607730407294, 70.67082571098929, 70.68348051524274, 70.69926776204115, 70.71881191100113, 70.74284705702186, 70.77223481059347, 70.80798487621631, 70.8512786403283, 70.9034960801919, 70.96624629277625, 71.04140191389706, 71.13113764781687, 71.23797304973597, 71.36481958952928, 71.51503186298379, 71.6924625904425, 71.90152072954069, 72.14723159700877, 72.4352973002447, 72.77215496157835, 73.16502909356487, 73.62197294036613, 74.15189149131302, 74.76453601026833, 75.47045607568162, 76.28089000933218, 77.20756783810788, 78.26239208665694, 79.4569497955154, 80.8017918596957, 82.30538672960942, 83.9725981396033, 85.8024131441715, 87.78439384648402, 89.89291413484088, 92.07792936560257, 94.2517774444405, 96.27482759907065, 97.94910400217452, 99.03566224547578, 99.310050960867, 98.64283912359147, 97.05117197400341, 94.69066895197162, 91.80865929525669, 88.6832562595774, 70.64373485834278, 70.64658730663814, 70.65022292510338, 70.65479885632826, 70.66049760428608, 70.66753029082159, 70.67614017624163, 70.68660641953902, 70.69924803361889, 70.71442796476038, 70.73255719267158, 70.75409870736009, 70.77957117156105, 70.80955202327712, 70.84467971383735, 70.88565471616853, 70.93323888147093, 70.9882526793309, 71.05156984026908, 71.12410895089513, 71.20682165864291, 71.30067736464417, 71.40664467202956, 71.5256704804077, 71.6586585585288, 71.80645078072331, 71.96981607183795, 72.14945453263394, 72.34602718696487, 72.56022508610255, 72.79289455095757, 73.04523697064174, 73.31909980796483, 73.61736731492739, 73.94444123711204, 74.30676999279497, 74.71333739513494, 75.1759571708815, 75.70912496063235, 76.32900063384442, 77.05068362339253, 77.88208071859263, 78.81160454483803, 79.78908636196563, 80.7132205542085, 81.451210798276, 81.88513349491247, 81.94942747132953, 81.6422029664933, 81.0148534172206, 70.63987529656806, 70.6407864108607, 70.6419457787152, 70.64339258019977, 70.6451684123011, 70.64731640599032, 70.64987991439276, 70.6529006554531, 70.6564161712867, 70.66045644457573, 70.66503949159635, 70.67016573445329, 70.67581094597243, 70.68191756553531, 70.68838421165151, 70.69505327949253, 70.70169662579411, 70.70799953220492, 70.71354343141245, 70.7177883172084, 70.7200563893656, 70.7195193672315, 70.71519311348816, 70.70594482070568, 70.69052010821727, 70.66760002271783, 70.63590116272911, 70.5943359063787, 70.5422538220955, 70.47978934603637, 70.40834387926526, 70.3312311058917, 70.2545100398944, 70.1880168931953, 70.14657747273517, 70.15132536197437, 70.230949975917, 70.42252568561368, 70.77129025120759, 71.32830233034815, 72.14429231081186, 73.25737833354158, 74.67260923945956, 76.33611446022994, 78.12066635239002, 79.84712844394721, 81.33727769437473, 82.46212593435264, 83.16100302191523, 83.43435160157061, 70.63588774986455, 70.63559473399958, 70.63529091040094, 70.63497291543048, 70.63463542061803, 70.63427059503199, 70.63386753828908, 70.6334117355726, 70.63288462009308, 70.63226337684993, 70.63152118902862, 70.63062822074565, 70.62955375431176, 70.62827006534044, 70.62675883495899, 70.62502117645157, 70.62309270607872, 70.62106552664034, 70.61911952777822, 70.61756604446822, 70.6169076505973, 70.6179186772651, 70.62175188727845, 70.63007751658324, 70.64526145222703, 70.67058939891903, 70.71054309507264, 70.77113237919764, 70.86028231542214, 70.9882664520308, 71.16816397664478, 71.4162979579753, 71.75258156693816, 72.20065667050599, 72.78765289855772, 73.5433264433934, 74.49826431181194, 75.68078254246467, 77.11215035568705, 78.79991614688349, 80.72951699529816, 82.85516125886454, 85.09225760411498, 87.31527686687829, 89.36637451327205, 91.08024901424156, 92.32495652889045, 93.036774839298, 93.21922389014506, 92.91967082480745, 70.63399126848269, 70.63337983906567, 70.63274409067047, 70.63209510393335, 70.63144937768168, 70.63083078967213, 70.63027323934391, 70.62982420442061, 70.62954951678931, 70.6295397569514, 70.62991878461251, 70.6308550699574, 70.63257666992277, 70.63539090954583, 70.63971008155063, 70.64608476563559, 70.65524668468163, 70.6681633417298, 70.6861069893109, 70.71074072274938, 70.74422458595102, 70.78934442022494, 70.84966561445438, 70.92971270837774, 71.03517366640429, 71.17312420068022, 71.35226231842788, 71.58313577313446, 71.87833477206532, 72.25260869482904, 72.72284858496361, 73.3078573469797, 74.02780874912149, 74.90327850732042, 75.95372337049366, 77.19529980855351, 78.63797211625102, 80.28198811689971, 82.11403306796517, 84.10373611693569, 86.20166945102646, 88.34030080556361, 90.43874458263788, 92.40966932927829, 94.16456548999562, 95.61665188635244, 96.685114453177, 97.30323443178204, 97.42961477841517, 97.05912154176528, 70.63429814630518, 70.63401648230727, 70.63383540152321, 70.63380200976502, 70.63397734930938, 70.6344399382622, 70.63529016196186, 70.63665572302392, 70.63869840727999, 70.6416224847657, 70.64568513954455, 70.65120941056358, 70.65860022810938, 70.66836424543266, 70.6811342889559, 70.69769937566421, 70.71904135987324, 70.74637935301114, 70.78122307843294, 70.82543623409447, 70.8813106773946, 70.95165173595271, 71.03987407865147, 71.15010622023787, 71.2872997230397, 71.45733632652596, 71.66712240413015, 71.92465517123858, 72.23903888451386, 72.62042198161656, 73.07981810499638, 73.6287661092178, 74.27877810524934, 75.0405231517678, 75.92270191934082, 76.9305916556865, 78.06429182145385, 79.31679423079966, 80.67215699997895, 82.10429532712142, 83.57719016404255, 85.04744972699497, 86.46937525926346, 87.79991177058666, 88.99862362062433, 90.02242894906985, 90.82144732806513, 91.34161177808546, 91.5351961362575, 91.37575416431798, 70.63627569719598, 70.63676413425947, 70.63755542651982, 70.63873963354197, 70.64042754956276, 70.6427545213929, 70.64588476260398, 70.65001617759802, 70.65538569374012, 70.6622750790149, 70.67101719566926, 70.68200260596511, 70.69568640333509, 70.7125950896794, 70.73333325595318, 70.75858974719596, 70.78914290334157, 70.82586436214314, 70.8697207891409, 70.92177276099821, 70.98316987282219, 71.05514096908024, 71.13897821640701, 71.23601355559907, 71.3475859098078, 71.47499742316586, 71.61945702250003, 71.78200984074198, 71.9634516857781, 72.16422904939809, 72.38432752278736, 72.62315546604138, 72.879436055546, 73.15113010302217, 73.43542464332909, 73.72883735929159, 74.02750073861868, 74.32769321390978, 74.62665949394922, 74.92368132841032, 75.22119470140444, 75.52550047434889, 75.84636586623243, 76.19477476836302, 76.57855509187081, 76.99677102140038, 77.43525006196683, 77.86614168991312, 78.2526918600124, 78.55737396715601, 70.63917301944535, 70.64077726872799, 70.64296378758792, 70.64588055845053, 70.64970615678186, 70.65465456663138, 70.66098031738385, 70.66898380551476, 70.67901659261116, 70.69148637789753, 70.70686122662818, 70.72567249180922, 70.74851569328028, 70.77604841401265, 70.80898403963126, 70.84807990831082, 70.89411816443032, 70.94787733860359, 71.01009243769138, 71.08140116442073, 71.1622738593127, 71.25292495297658, 71.35320424693967, 71.4624673483024, 71.57942623889534, 71.7019834568039, 71.82705690663737, 71.95040706975927, 72.06648445749089, 72.16832249108964, 72.24750930413028, 72.2942805709653, 72.29778317509167, 72.2465644931581, 72.12934167934353, 71.93609621328625, 71.659517065268, 71.29677659494415, 70.8515619094795, 70.33619567642965, 69.7735579039736, 69.19835398180136, 68.65704638921821, 68.20544599151542, 67.90249283993414, 67.79810780278973, 67.91366156539405, 68.22814658257236, 68.69084372831881, 69.241560012176, 70.64143180585714, 70.64427774435896, 70.64803621161822, 70.65292891367079, 70.65922370905491, 70.66724254710994, 70.67737027232126, 70.6900642200353, 70.70586445033888, 70.725404360977, 70.74942128061222, 70.77876646357322, 70.81441367919486, 70.85746530576223, 70.9091544948455, 70.97084156285963, 71.04400229409728, 71.13020531224521, 71.23107511690057, 71.34823682786964, 71.48323819988457, 71.63744416781492, 71.81189921103763, 72.00715340206338, 72.22304942145459, 72.45847045510678, 72.71105319768093, 72.97687667599033, 73.25014676873263, 73.52290846629376, 73.7848330169459, 74.02314428838116, 74.22276575092383, 74.36678228136208, 74.43731271476628, 74.41687023757288, 74.29023721536491, 74.0467894322676, 73.68306998585109, 73.2052476916872, 72.63093021114133, 71.98968690581502, 71.32163221928354, 70.67360863199099, 70.0930091199572, 69.62019790091978, 69.28161368239617, 69.08607558088367, 69.02560143281808, 69.07981378320612, 70.64038443706663, 70.64408921283257, 70.6489721457707, 70.65531571735981, 70.66346281031869, 70.67382831786207, 70.68691256794287, 70.70331671047555, 70.72376018018394, 70.74910028961335, 70.78035391818729, 70.8187211340675, 70.86561040357655, 70.9226647927518, 70.99178822867438, 71.07517044266335, 71.17530863824256, 71.29502318679124, 71.43746372565828, 71.606100893629, 71.80469757364418, 72.03725193019673, 72.30790277401367, 72.62078596688788, 72.97982890031648, 73.3884688960901, 73.84928125208765, 74.3635044558039, 74.93045506680701, 75.54683466632908, 76.2059483623429, 76.89688136465016, 77.60371996363601, 78.30495785169983, 78.97329698899999, 79.57612519232194, 80.07700493793065, 80.43848517209743, 80.62635906943859, 80.61503614746086, 80.39298839610504, 79.96658415847025, 79.36065610855803, 78.61521544512678, 77.77927217685067, 76.90368657617562, 76.0348920456116, 75.21058666004777, 74.45767757738827, 73.79218751647791, 70.63333613262395, 70.63694722824475, 70.64179288317608, 70.6481618798507, 70.6564041769044, 70.66694327831878, 70.68029082554203, 70.69706370212631, 70.71800394408278, 70.74400173903788, 70.77612176677674, 70.81563307383433, 70.86404257317854, 70.92313210028642, 70.99499871730416, 71.08209760912425, 71.18728642263127, 71.31386921700143, 71.46563726188882, 71.64690267327266, 71.86251923483685, 72.11788263039887, 72.41889962656451, 72.77191243052599, 73.183560493309, 73.66055752763177, 74.20935675201929, 74.83567298768654, 75.54382740459559, 76.33588148321734, 77.21053444808797, 78.16177811990909, 79.177342134093, 80.2370305311828, 81.31115952282198, 82.35946731117104, 83.33108564418956, 84.16642139084155, 84.80199954429386, 85.1791421172373, 85.25600818284764, 85.0192553134913, 84.48870965314502, 83.71165531989499, 82.75084527214474, 81.67266853442791, 80.53873860530825, 79.40116753332433, 78.30066982775537, 77.26653710474181, 70.61960660353031, 70.62200333867436, 70.6254411822634, 70.63014831349405, 70.6363970901422, 70.64451281282368, 70.65488411079563, 70.66797515502826, 70.68433990192835, 70.70463855855252, 70.72965643325011, 70.76032528873222, 70.79774723985781, 70.84322112564192, 70.89827112051758, 70.96467711606113, 71.04450607866362, 71.14014314270028, 71.25432059780704, 71.39014213111642, 71.5510986420515, 71.74107060424478, 71.96431024986981, 72.22539474464573, 72.52913897418466, 72.88045358511813, 73.28413061697837, 73.74453569010602, 74.26518285419517, 74.84816697233371, 75.49343099620596, 76.19785538631167, 76.95418055302947, 77.74982048521302, 78.56571015088832, 79.37546277239144, 80.14528872300397, 80.83528241412755, 81.40265544006625, 81.80704917382033, 82.01710007290008, 82.01634655665373, 81.8062670173477, 81.40533079004952, 80.84476173540337, 80.16286095617072, 79.39964229780507, 78.59275640803111, 77.77493432544159, 76.97275544399851, 70.60186284428691, 70.60236640403028, 70.60358095994759, 70.60564060863618, 70.60869819954625, 70.61292856838554, 70.61853239310652, 70.6257407163289, 70.63482015662865, 70.64607880287475, 70.65987275012779, 70.6766131919007, 70.69677393115883, 70.72089911066601, 70.74961089170452, 70.78361672879043, 70.82371579759521, 70.87080403608938, 70.92587715922053, 70.9900309122576, 71.06445774756432, 71.1504390574582, 71.2493320871005, 71.36255069866495, 71.49153926232725, 71.63773908279497, 71.80254684444705, 71.98726437730812, 72.19303823429676, 72.42078548880696, 72.67109785897672, 72.94410860215521, 73.23929493482827, 73.55517476862157, 73.88884879951587, 74.23535944037442, 74.5869247838498, 74.93228753218577, 75.2566344400931, 75.54256940467718, 75.77224264956882, 75.93010732164086, 76.00540361573638, 75.99363574617398, 75.89678972523006, 75.7224819033047, 75.48245382193352, 75.1908485178979, 74.86260229461166, 74.51214754989407, 70.58543074569289, 70.58412806075238, 70.58323721327696, 70.58281306196128, 70.58290899704744, 70.58357619640246, 70.58486293737204, 70.58681395793464, 70.58946984514367, 70.59286641385164, 70.59703402703184, 70.60199680420848, 70.60777167097825, 70.61436722565158, 70.62178244489772, 70.63000532607933, 70.63901167754523, 70.64876442748185, 70.65921403392841, 70.6703008468882, 70.68196059465264, 70.69413452368504, 70.70678607498536, 70.71992625340091, 70.73364990826205, 70.74818478472437, 70.76395411606691, 70.78165128779001, 70.8023212080496, 70.8274369787757, 70.85895207617196, 70.89929813469358, 70.95128890649157, 71.0178871967644, 71.1018022104618, 71.2049202385221, 71.3276372246113, 71.4682445629943, 71.62257824338748, 71.7841201035137, 71.94461420042208, 72.09508055048117, 72.22697210288342, 72.33319825573045, 72.40881981152376, 72.45134382226254, 72.46065324033697, 72.43866843295122, 72.38885617215077, 72.31569034060763, 70.57579103542328, 70.57336566399816, 70.5711737661877, 70.56922897195324, 70.56753441031395, 70.56608064762013, 70.56484364725546, 70.56378278577513, 70.5628389594348, 70.5619328180212, 70.56096317293162, 70.55980564700891, 70.55831166829192, 70.55630796192942, 70.55359676667126, 70.54995709586022, 70.5451474766714, 70.5389107308593, 70.53098149553088, 70.52109730593888, 70.5090141461562, 70.49452737665402, 70.47749881333104, 70.45789038669021, 70.4358041648848, 70.4115274884103, 70.38558046304178, 70.3587610734807, 70.33218081240014, 70.307281265352, 70.28582013236412, 70.26981461751419, 70.26143216769783, 70.26282437869136, 70.27591012289642, 70.3021278105748, 70.3421912879327, 70.3958942422221, 70.46200853953103, 70.53830923000896, 70.6217344795715, 70.70865936285325, 70.79523798615804, 70.87775664392659, 70.9529440820003, 71.01820015699033, 71.07172476207553, 71.11254843446295, 71.14048040111558, 71.15599751967679, 70.57577801420463, 70.57307042883723, 70.57052209751726, 70.56813554618206, 70.56590227178563, 70.5638009662232, 70.56179588587787, 70.55983543238649, 70.55785101188702, 70.55575624352487, 70.55344659496402, 70.55079953454825, 70.54767530764033, 70.54391846878588, 70.53936033075595, 70.53382252362454, 70.52712188714894, 70.51907694065666, 70.50951617640062, 70.49828839203012, 70.48527519998426, 70.4704057092593, 70.45367315168744, 70.43515290820879, 70.41502097759863, 70.39357143422156, 70.37123088112708, 70.3485673920456, 70.32629106104031, 70.30524318828205, 70.28637149134141, 70.27068969569446, 70.25922150874915, 70.25293126500061, 70.2526461958539, 70.25897785939767, 70.27225213342408, 70.29245768259617, 70.31922150846141, 70.35181703778585, 70.38920567444278, 70.43010774803768, 70.47309444014745, 70.51668950220825, 70.5594689013624, 70.60014788884887, 70.63764785437917, 70.67113893227126, 70.70005788223148, 70.72410368762306, 70.58431318926273, 70.58194965499193, 70.57971641408038, 70.57761701838858, 70.57564689505844, 70.57379223416679, 70.57202906669991, 70.57032259060989, 70.56862680061538, 70.56688447474606, 70.56502756803364, 70.56297806171138, 70.56064931497426, 70.55794796546274, 70.55477642322465, 70.55103599931411, 70.54663070198971, 70.54147171760108, 70.53548256619972, 70.52860488013329, 70.520804694408, 70.51207905882832, 70.5024626846293, 70.49203422679771, 70.4809216864498, 70.46930630982975, 70.45742428162909, 70.44556548489042, 70.4340686542429, 70.42331240763565, 70.4137019193586, 70.40565139317503, 70.3995629852, 70.39580336132713, 70.39467957785976, 70.39641635457791, 70.4011369751395, 70.40884993094849, 70.41944299558254, 70.4326857098366, 70.44824036388874, 70.4656806188518, 70.484516067054, 70.50422042323896, 70.52426075492082, 70.5441252231976, 70.56334717577177, 70.58152402377486, 70.59833003098902, 70.61352283694077, 70.59749699455682, 70.5957546878842, 70.5941188674201, 70.59259489246544, 70.59118311606024, 70.58987828634109, 70.58866910006188, 70.5875379437976, 70.5864608543681, 70.58540772491472, 70.58434277715428, 70.5832253138994, 70.58201075914413, 70.5806519858805, 70.57910092414495, 70.57731043320652, 70.57523641174961, 70.57284010775119, 70.57009057493741, 70.56696720490145, 70.56346224327588, 70.55958317553743, 70.55535484465992, 70.5508211414516, 70.54604609248055, 70.54111416423373, 70.53612961017038, 70.53121471395346, 70.52650683061223, 70.52215419885457, 70.51831059033135, 70.51512896972247, 70.51275445346205, 70.51131696169072, 70.51092404245993, 70.51165439426654, 70.51355261041523, 70.51662560978932, 70.52084110431397, 70.52612829321045, 70.53238078533181, 70.539461556063, 70.54720956877793, 70.55544755455455, 70.56399036351564, 70.5726532839965, 70.58125976971068, 70.58964810997558, 70.5976767079071, 70.60522777771406, 70.61104151587163, 70.60991530119723, 70.60886746362543, 70.60790309656342, 70.60702453594554, 70.60623106350998, 70.60551870346451, 70.60488013015315, 70.6043047010493, 70.60377862535478, 70.60328527386855, 70.60280563080642, 70.60231888308306, 70.60180313735448, 70.60123624995208, 70.60059674976011, 70.59986482909642, 70.59902337274521, 70.5980589904763, 70.59696301375766, 70.59573241312705, 70.59437058918138, 70.5928879878727, 70.59130249041836, 70.58963953038261, 70.58793189612652, 70.5862191864902, 70.58454690165823, 70.58296516963304, 70.58152713103505, 70.58028702985446, 70.57929808345486, 70.57861022919046, 70.57826786473647, 70.57830771193079, 70.5787569372494, 70.57963165443945, 70.58093591588566, 70.5826612698925, 70.58478692347933, 70.5872805078975, 70.59009940102591, 70.59319252141334, 70.59650247695546, 70.59996793003803, 70.60352603215206, 70.60711478472379, 70.6106751980068, 70.61415314401061, 70.61750082948632];\n",
       "const lower_is_better = false;\n",
       "const metric = \"min_move\";\n",
       "const rel = false;\n",
       "const sd = [14.483523135899633, 14.483503547805759, 14.483477270271672, 14.483442249772043, 14.483395899650109, 14.483335001350502, 14.48325560351253, 14.483152926673135, 14.483021284750345, 14.482854038355956, 14.482643599009998, 14.482381506976205, 14.482058607942145, 14.481665354123502, 14.48119225239214, 14.480630474481305, 14.479972631171211, 14.479213693090749, 14.478352015797858, 14.477390397854956, 14.476337071033289, 14.475206496517899, 14.474019826220163, 14.472804890518656, 14.471595598305347, 14.470430684634666, 14.469351813597234, 14.468401131823986, 14.467618458526186, 14.46703837487303, 14.466687522093347, 14.466582420901691, 14.466728079095718, 14.467117563666648, 14.467732592476104, 14.468545069477807, 14.469519369880086, 14.470615097693912, 14.471790000293813, 14.473002735491283, 14.474215239161296, 14.475394521740297, 14.47651381302008, 14.477553060675223, 14.478498856923624, 14.479343913101252, 14.480086222592934, 14.480728051603684, 14.481274880338308, 14.481734390797287, 14.483427029129295, 14.483368306566025, 14.483287901557668, 14.483178473336661, 14.48303049856243, 14.482831756462769, 14.482566751354396, 14.482216092767388, 14.481755869948906, 14.48115707915858, 14.480385188698397, 14.479399956802853, 14.478155648567563, 14.476601825201248, 14.474684894849656, 14.472350609490013, 14.469547655633136, 14.466232406364412, 14.46237476980749, 14.457964882204857, 14.45302016160441, 14.447591985539315, 14.441771026257081, 14.435690129596619, 14.429523626325611, 14.423482177949207, 14.417802713935124, 14.412733693749551, 14.408516738596134, 14.405366474062841, 14.403451018210731, 14.402875762913187, 14.403672820993696, 14.405797754453731, 14.409134095088758, 14.41350495230828, 14.418689941307893, 14.424444979811284, 14.430522308629962, 14.436688376136775, 14.442737866056623, 14.44850295902457, 14.4538577166533, 14.458718121385644, 14.46303872086728, 14.466807001421222, 14.470036588998997, 14.472760210605525, 14.47502311198429, 14.476877375611195, 14.483230609905297, 14.483086595533791, 14.482885634841587, 14.482606727112293, 14.482221865140074, 14.481694049462261, 14.480974905642848, 14.480001905984535, 14.478695246236287, 14.476954502993424, 14.47465530435597, 14.471646388921112, 14.467747605897909, 14.462749613827567, 14.456416246760607, 14.448490697707257, 14.438706762013629, 14.426806308567276, 14.412563807923448, 14.395818044317128, 14.376509998531494, 14.354724303346593, 14.330729756860276, 14.305012420719995, 14.278293323428565, 14.251522396647859, 14.225841692898344, 14.202514645465627, 14.182824065050427, 14.167948821287304, 14.158835964673848, 14.156089161773185, 14.15989382552019, 14.16999356124108, 14.185722669398766, 14.206088180044391, 14.229885529907667, 14.255827058933544, 14.28266284844053, 14.309278127931366, 14.334758505370626, 14.358421414546056, 14.37981778335913, 14.398711253375085, 14.415043364938997, 14.428892499921417, 14.440432752347204, 14.449896917551253, 14.457545913346792, 14.463645429883877, 14.482934696651329, 14.482655136920243, 14.482258917974942, 14.481700033992961, 14.480915703909046, 14.47982094294307, 14.478301720468252, 14.476206509174563, 14.473336100179795, 14.469431698060006, 14.464161548284737, 14.457106721141392, 14.447747215091526, 14.435450275227138, 14.419463754953435, 14.398918446426027, 14.37284446472564, 14.340207787153913, 14.29997357840858, 14.251202462952772, 14.19318375705919, 14.125605058053141, 14.048749795060322, 13.963703103618823, 13.872532471028034, 13.778395621948373, 13.685519198883764, 13.598995422352258, 13.524367868665703, 13.467025130227517, 13.431485080649189, 13.42071128390584, 13.435626756511335, 13.474956700977536, 13.535444991969417, 13.612383041303586, 13.700309844342346, 13.793718292585428, 13.887634175513822, 13.977995912475361, 14.061825455614937, 14.137224733656174, 14.203252240484552, 14.259735401693087, 14.307064156551862, 14.345996948180202, 14.37749671412943, 14.402603771403404, 14.422345248826984, 14.437676558827272, 14.482645768905003, 14.48222872676445, 14.481631646375515, 14.480780462132696, 14.479572560168544, 14.477866770965985, 14.47547036552914, 14.472122421360934, 14.467472933269601, 14.461057152305157, 14.452264904676783, 14.440305152015014, 14.424166905633918, 14.402578917247874, 14.37397245791004, 14.336454067811328, 14.287798454615704, 14.225475654823176, 14.146730842288594, 14.0487390824166, 13.928859601736445, 13.785012584445361, 13.61619269377236, 13.423112559119147, 13.208930403570596, 12.979953842802946, 12.746128347336828, 12.521033281684414, 12.321071965699568, 12.163640111925398, 12.064367083055636, 12.034011057055539, 12.07600396978394, 12.185616045728493, 12.351100699477769, 12.556329171552036, 12.7838994486258, 13.01777015923414, 13.244921719427893, 13.456015868719353, 13.645298197276587, 13.810057900711378, 13.949909479531906, 14.06607336473287, 14.160751707140616, 14.23663733533009, 14.296558169233156, 14.343240781124338, 14.37916945351964, 14.406516343480508, 14.482539667279498, 14.482071220977772, 14.48139850288261, 14.480436416380769, 14.47906652108377, 14.477125068300195, 14.474387312554141, 14.470547234350446, 14.465191766647187, 14.457768675626737, 14.447547476026, 14.433573259833869, 14.414614211733731, 14.38910503182664, 14.355090665176428, 14.310177833484879, 14.251506034225656, 14.17575498892398, 14.079211873678496, 13.957928592181792, 13.808005769220472, 13.626043874610852, 13.409798918426937, 13.159063552263838, 12.87675313266423, 12.570095140978404, 12.251684549501439, 11.939980020534124, 11.658635342645532, 11.434054442872405, 11.290990601077402, 11.247014521712773, 11.307820026755769, 11.465571171755427, 11.70116046254902, 11.989201477567967, 12.303485624993337, 12.621089074589229, 12.924498613725962, 13.202045823120462, 13.447282748504142, 13.657881239862606, 13.834448472216321, 13.979469989628228, 14.096465295391091, 14.189367456787323, 14.262101862221138, 14.318325507185996, 14.36128668408865, 14.39376933221627, 14.482693258962867, 14.4822994553726, 14.481736544436409, 14.480935394408021, 14.479800442985178, 14.478200538908363, 14.475957094317463, 14.472829006975019, 14.468493838082116, 14.462524854762815, 14.454363822051205, 14.443289929927891, 14.428386055080914, 14.408504783417902, 14.382238353966123, 14.347898996312, 14.303519022202675, 14.24688336450594, 14.175610672268627, 14.087301844727412, 13.979775752857696, 13.851408834382113, 13.701585308469106, 13.531244115831463, 13.343473380449202, 13.14405133932118, 12.941769368429313, 12.748317700727629, 12.577509199669775, 12.443719059640461, 12.359666970142602, 12.334013932143508, 12.369507832040552, 12.462359749823438, 12.603099542402603, 12.77857210198266, 12.974356193435215, 13.176898287325553, 13.374945851606656, 13.560203393013296, 13.727359607344848, 13.873715175088831, 13.998623681818644, 14.10289955863243, 14.188284632248491, 14.257015628976363, 14.311502274017306, 14.354107007168636, 14.38700875364099, 14.412130938647914, 14.482992486056197, 14.482741638722754, 14.482387377612183, 14.481889436027082, 14.481193092638474, 14.480224597714825, 14.478885456447319, 14.477045436468652, 14.47453423729863, 14.47113189030735, 14.466558172116859, 14.46046163746305, 14.452409332660466, 14.441878851818194, 14.428255137708685, 14.410835262926199, 14.38884525077233, 14.361473621657597, 14.327926486408415, 14.287508244161765, 14.23972977701011, 14.18444194926573, 14.121985857481675, 14.053342735406396, 13.980256668925028, 13.905294616012267, 13.831804484635857, 13.763738059623511, 13.705325549329828, 13.660622853462806, 13.632994743959403, 13.624632611784529, 13.636216548045468, 13.666806831432314, 13.71399340487389, 13.774264123491799, 13.843500199721134, 13.917488597467441, 13.992357274454475, 14.064876923246251, 14.132614486559824, 14.193955955766707, 14.24803350737393, 14.29459614966382, 14.333858194135942, 14.366350808619359, 14.392792239297917, 14.413984063601669, 14.430734853963889, 14.44380889118898, 14.483250186985295, 14.483122168486016, 14.482945486098508, 14.48270270915833, 14.482370746293086, 14.481919295091725, 14.481309003604041, 14.480489356451839, 14.479396339701275, 14.477949999728697, 14.476052095656417, 14.47358415414275, 14.47040636711831, 14.466357918788466, 14.461259469790486, 14.454918633418398, 14.447139306784731, 14.437735610811206, 14.42655088135925, 14.413481578740074, 14.398505109574444, 14.381709404920704, 14.36332078352924, 14.34372537924757, 14.323478580157378, 14.303296948805137, 14.284028379253177, 14.266599017783138, 14.25193956706237, 14.240898330076039, 14.234152570890869, 14.232132110332763, 14.234968450666308, 14.242478839026951, 14.254188301439942, 14.269385469981154, 14.287201958212428, 14.306701662021453, 14.326966267147487, 14.347165979207773, 14.36660888925868, 14.384767088241935, 14.401281553911385, 14.41595036274127, 14.428705838106186, 14.439586099089661, 14.448705546749165, 14.456227543394323, 14.46234123991106, 14.467243396178608, 14.483326288202067, 14.483251330021929, 14.483154152895889, 14.483028416547725, 14.482866134735229, 14.482657332653492, 14.482389672409788, 14.482048063097112, 14.481614283390996, 14.48106665928721, 14.480379857353258, 14.479524873688797, 14.478469318583961, 14.477178113118644, 14.475614721548817, 14.473743035669747, 14.471529996908334, 14.468948981488602, 14.465983878794276, 14.462633663233182, 14.458917103759825, 14.454877091584049, 14.45058392577155, 14.446136817985082, 14.441662904049952, 14.437313216232582, 14.433255389867385, 14.429663331137812, 14.426704598443765, 14.424526750146, 14.423244270067348, 14.42292779347904, 14.423597159651681, 14.425219321946315, 14.4277114387999, 14.430948692614416, 14.43477570152167, 14.439019938040692, 14.443505423177617, 14.448065121933311, 14.452550856621015, 14.456840068413262, 14.460839279861833, 14.464484548917959, 14.467739503542997, 14.470591690921177, 14.47304798422289, 14.475129699449651, 14.476867927617803, 14.478299421835997, 14.483039421100964, 14.482905285386591, 14.482741364574855, 14.482542384872161, 14.482302615635966, 14.482015996846393, 14.481676329047113, 14.481277530408304, 14.480813960120022, 14.48028080021009, 14.479674479661483, 14.478993116359685, 14.478236945262061, 14.477408696749915, 14.476513888766176, 14.475561000904234, 14.474561508045365, 14.47352976424889, 14.472482742066449, 14.471439645229463, 14.470421420703362, 14.469450197331794, 14.468548672482312, 14.467739457364214, 14.46704438024559, 14.466483739952482, 14.46607550449851, 14.465834463766667, 14.465771369409186, 14.465892124129981, 14.466197107983657, 14.466680742378667, 14.467331386376312, 14.468131632381764, 14.46905902273835, 14.47008715332897, 14.471187076168285, 14.472328871144171, 14.47348323562362, 14.47462294289312, 14.475724044488295, 14.476766731303433, 14.477735815565689, 14.478620841760867, 14.479415872499748, 14.480119020913522, 14.480731813201208, 14.481258464650859, 14.481705142700974, 14.482079274991525, 14.481894424442695, 14.48144006931325, 14.48087623861542, 14.480182085044026, 14.479335044435324, 14.478311622748697, 14.477088590155946, 14.475644629436458, 14.473962446675852, 14.472031293172394, 14.469849769662511, 14.467428693341366, 14.464793716273991, 14.461987308056395, 14.459069677587216, 14.456118230683073, 14.453225259060142, 14.450493737168365, 14.44803135401092, 14.445943194362549, 14.444323756747723, 14.44324919439683, 14.442770736095563, 14.442910154121437, 14.443657898284348, 14.444974148233733, 14.446792620541032, 14.449026585174103, 14.451576271448054, 14.454336722344562, 14.457205196923189, 14.460087396489515, 14.462902049951952, 14.465583677688803, 14.468083608277093, 14.47036951256477, 14.472423829371643, 14.474241489642822, 14.47582731696698, 14.477193413751786, 14.478356755747653, 14.479337130760573, 14.48015548221599, 14.480832660794837, 14.481388548950829, 14.481841501800702, 14.482208040027471, 14.48250273195134, 14.48273820904435, 14.482925268896608, 14.478857201120077, 14.47743680982791, 14.475625330729827, 14.473332817337406, 14.470456790603546, 14.466884105133161, 14.46249472268174, 14.457167891388753, 14.450791135738122, 14.443272243843504, 14.434554066559008, 14.424631407889255, 14.413568614569057, 14.401515742474688, 14.388720528134339, 14.375533020697235, 14.362399855765348, 14.34984596796344, 14.338443120097565, 14.328766851050865, 14.321345944791004, 14.316610719029399, 14.31484766719348, 14.316167744105636, 14.320493707980683, 14.327568745395634, 14.336984862460323, 14.348226163908294, 14.360719971567338, 14.37388817275473, 14.387192169325164, 14.400166856046205, 14.41244154484056, 14.423748061652525, 14.433917962280617, 14.442871775465514, 14.450603429874302, 14.457162731335835, 14.462638148783562, 14.467141444925815, 14.470795001089712, 14.473722123684498, 14.476040217110324, 14.477856461038455, 14.479265513009052, 14.48034873570932, 14.48117448800396, 14.48179909117169, 14.482268165640052, 14.482618114874095, 14.472878600672844, 14.469333907372413, 14.46469264244211, 14.458659042459129, 14.450879712765152, 14.440942954949087, 14.42838380170719, 14.412697355492167, 14.39336328141833, 14.369884174285504, 14.341839757560031, 14.308957209271465, 14.271195120988633, 14.22883461660538, 14.182566248814718, 14.133556228356735, 14.0834717487024, 14.03444466085524, 13.988957701115519, 13.949649287152964, 13.91905094943181, 13.899292060818043, 13.891823051610949, 13.897213300643543, 13.915068743717514, 13.944088420031836, 13.982246726402588, 14.0270602880343, 14.075884088905667, 14.126183643615727, 14.17574486525248, 14.222803671899419, 14.266096283780044, 14.304844283062197, 14.338694691296075, 14.367635690139798, 14.391905281472647, 14.411905243063211, 14.428127733018805, 14.441097719712314, 14.451331406221131, 14.459308961259204, 14.465458956539022, 14.470151676393145, 14.473698656151788, 14.476356217538571, 14.478331257402075, 14.479788019343976, 14.480854987428406, 14.481631368081063, 14.46494793219119, 14.458310358977112, 14.449434340959089, 14.437642391822612, 14.42209410038831, 14.40176810698706, 14.375453209582423, 14.341755545529448, 14.299130870971831, 14.245952798896981, 14.180628831731863, 14.101775162649604, 14.008457156397487, 13.900493458110006, 13.7788060984735, 13.64577581528531, 13.505532445559528, 13.364080643844277, 13.229144357295176, 13.109629477907664, 13.01467334821791, 12.95237672922122, 12.928466062554262, 12.945237526252791, 13.001108908031277, 13.090928663781096, 13.206938483707152, 13.340086103961184, 13.481329936832974, 13.622661692111125, 13.757722806312238, 13.882026046243386, 13.992874302181335, 14.089093264936727, 14.170682360873956, 14.238459905329094, 14.293748395912008, 14.338121355461041, 14.373216175067562, 14.400607337823102, 14.421729567218845, 14.437839102051887, 14.450002013864305, 14.459100209232817, 14.465847813091322, 14.470812607635484, 14.474438901018038, 14.47706954820126, 14.47896584752016, 14.480324735084496, 14.45964551120868, 14.450773520481038, 14.43877330109722, 14.42264259887232, 14.401113757601582, 14.372611817321406, 14.335220723554551, 14.286667527732954, 14.22433856453708, 14.1453462196006, 14.046669470310603, 13.925394744688314, 13.779083764343637, 13.606288586006041, 13.407216005378272, 13.184507123044732, 12.944036235211964, 12.695544034624984, 12.4528170327079, 12.233055337385673, 12.055127079603444, 11.936698227760752, 11.890762991358338, 11.922648916534845, 12.028685002857905, 12.197124309077157, 12.410907447855562, 12.651137005921523, 12.900120021269373, 13.143338715382816, 13.370275251405458, 13.57435791308093, 13.752389020550622, 13.903760514936687, 14.029661422367514, 14.132387822675332, 14.214799016260818, 14.279922953428668, 14.330693058276983, 14.369790399279356, 14.399564357024252, 14.422007887978243, 14.438767934860874, 14.451176201619155, 14.460289727928828, 14.46693418188757, 14.47174548158271, 14.475207318678459, 14.477683507280092, 14.47944495139948, 14.461406612665057, 14.453175051668625, 14.442052720475191, 14.42712356171293, 14.407234460992585, 14.38096058976732, 14.346579523243703, 14.302063328869012, 14.245101368448282, 14.173170377470866, 14.083671843268494, 13.974158631824732, 13.84267126833145, 13.688196280952205, 13.511240435887647, 13.314480655327387, 13.103396143292711, 12.886718693454108, 12.676465575871505, 12.48728788809223, 12.334943033706958, 12.233945429228742, 12.194843871222465, 12.221935268886373, 12.312262360105118, 12.456306725008876, 12.640090262518601, 12.84788465343136, 13.064678770646674, 13.277876433591773, 13.478104181119456, 13.659288068724209, 13.818262754821806, 13.954159203709136, 14.067749294033785, 14.160853021045021, 14.235857016164582, 14.295355650235464, 14.341904876813746, 14.377869340653165, 14.405340787775913, 14.426107268940093, 14.441655907086112, 14.45319580799933, 14.461691313679596, 14.467898886420283, 14.472403355373164, 14.475651074432944, 14.477978814055968, 14.479638047649916, 14.468713377487592, 14.4633821560536, 14.456269456753196, 14.446851778550025, 14.434487907157203, 14.418409756751544, 14.397721577010836, 14.371412716547786, 14.338390329162197, 14.297539201133608, 14.247815758544151, 14.188381580800694, 14.118777541634188, 14.039132157927742, 13.950386320186697, 13.854501718134012, 13.754604190140709, 13.655000874687143, 13.561009372369096, 13.478557456118718, 13.413559188004534, 13.371142962885678, 13.354877989087388, 13.36618407577811, 13.404085479615391, 13.46538020668304, 13.545175408246985, 13.63764061022083, 13.736793110378432, 13.837158153451918, 13.934214086665046, 14.024604738420335, 14.106153619401626, 14.177739741140357, 14.239097457112578, 14.290591907732106, 14.333005804383488, 14.367357960696935, 14.394761853908946, 14.416324256513349, 14.433079210361507, 14.445950487067476, 14.455735313977012, 14.4631028066977, 14.468601693634813, 14.472673186156182, 14.475666030060964, 14.477851767935919, 14.479439016452657, 14.480586127876578, 14.47615297396098, 14.473652723817715, 14.470384810305228, 14.466150304541175, 14.46071558591682, 14.453813803104387, 14.445150401140522, 14.434414213470061, 14.421295621346403, 14.405513006006244, 14.386848033871503, 14.365189108306858, 14.34058054101907, 14.313272716943661, 14.283766025188813, 14.252839141802028, 14.22155117037776, 14.191208100437388, 14.1632878080329, 14.139324598400405, 14.120763262325594, 14.108801764488993, 14.104248111549918, 14.10741786631895, 14.118092793293071, 14.135549227582073, 14.158650265612057, 14.185983176783678, 14.216016173996392, 14.247248329220985, 14.278331989585405, 14.308155912065383, 14.335886526568485, 14.360972025975538, 14.383118326651115, 14.402247382334238, 14.418447571526245, 14.431923838501868, 14.442952782404474, 14.451845545129087, 14.458919468878932, 14.464478185179736, 14.468799024481825, 14.472126292770712, 14.474668920912448, 14.476601135451796, 14.478065032324963, 14.479174191598704, 14.48001771146388, 14.48066424275148, 14.48065792879536, 14.479757563549786, 14.478609909572194, 14.477160548939422, 14.475348672469437, 14.473108633354068, 14.470372629651886, 14.467074736413815, 14.463156427461199, 14.458573579724455, 14.453304731954763, 14.44736007977423, 14.44079035522889, 14.433694410667568, 14.426224078284429, 14.418584799699028, 14.411030705198154, 14.403853331151378, 14.39736399577093, 14.391870917834591, 14.387653274901933, 14.384935302904417, 14.383863976861655, 14.384493598217812, 14.386779714925861, 14.390583368433425, 14.395685005660384, 14.401805890291158, 14.408633825694364, 14.415849647776087, 14.423151261353219, 14.430272817486449, 14.436997709100245, 14.443165138201854, 14.448670880285826, 14.453463433916859, 14.457536982526742, 14.460922565810684, 14.46367864915314, 14.465881984914283, 14.4676193562257, 14.46898053279586, 14.470052572609076, 14.470915474913, 14.471639116114696, 14.47228136275111, 14.4728872367372, 14.473488994595268, 14.474106967842719, 14.474750995784667, 14.482486858436769, 14.48219993941824, 14.481847486906364, 14.481418253082612, 14.48090041634219, 14.48028208240004, 14.479551984712009, 14.478700393690593, 14.477720221501487, 14.476608278063233, 14.475366595749449, 14.474003698910195, 14.47253565581326, 14.470986723229952, 14.469389387055548, 14.4677836247823, 14.466215272938971, 14.464733474701335, 14.463387302077328, 14.462221777665878, 14.461273641017915, 14.46056728998064, 14.460111357542036, 14.459896348489488, 14.45989366000228, 14.460056162538994, 14.460320349066595, 14.460609902536307, 14.460840409777125, 14.460924879424251, 14.460779701957453, 14.460330707371666, 14.459519007841811, 14.458306335655477, 14.456679584801769, 14.454654235771583, 14.452276301539841, 14.44962240691032, 14.446797639577865, 14.44393092262559, 14.441167872636978, 14.438661416788378, 14.436560805853931, 14.435000008854407, 14.434086724717249, 14.433893319179436, 14.434450845082708, 14.435746935244552, 14.437727828614802, 14.44030420485437, 14.482731501614305, 14.482564768052756, 14.482374873896662, 14.482160943795787, 14.481922603799813, 14.481660068172664, 14.48137420356411, 14.481066559314659, 14.480739351446694, 14.48039538653128, 14.480037909939428, 14.479670360877535, 14.479296014104662, 14.47891748558629, 14.478536077050448, 14.478150933192364, 14.47775798598462, 14.47734866411442, 14.476908352929962, 14.47641460244379, 14.475835099163032, 14.475125443546512, 14.474226811215978, 14.473063625924581, 14.47154143929373, 14.469545299273774, 14.466938996239545, 14.463565697177668, 14.459250600329652, 14.453806338661803, 14.447041890280834, 14.438775663600598, 14.428853152786443, 14.417169046842961, 14.403692889965505, 14.388496349778869, 14.371778955360858, 14.353888027966452, 14.335327764156805, 14.316752435404263, 14.29893980868161, 14.28274336543987, 14.26902555841432, 14.258578599815577, 14.252043100935161, 14.249837077827575, 14.252107427955572, 14.258712670838015, 14.269240155259736, 14.283054487709878, 14.481916825133114, 14.481607727225017, 14.48126537056254, 14.480892445847486, 14.480493361354709, 14.480074263498647, 14.479642895579897, 14.47920826029963, 14.47878006139253, 14.478367912615182, 14.477980315981139, 14.477623422244383, 14.477299591384444, 14.47700576561048, 14.476731649552399, 14.476457660991759, 14.476152572194701, 14.475770710744705, 14.475248536427925, 14.4745003663136, 14.473412995128493, 14.4718389662584, 14.469588307121931, 14.466418671841437, 14.462024058771078, 14.456022618598064, 14.447944568810094, 14.43722190423404, 14.423182444375422, 14.405051752298997, 14.3819674994651, 14.35301174444963, 14.317267022742318, 14.273901644268628, 14.222287561171347, 14.162149930748049, 14.093740500219804, 14.018017071469805, 13.936799412789032, 13.852860486314434, 13.76990516669318, 13.692392822799102, 13.625181132787825, 13.573008298500918, 13.539882914169254, 13.528498008676891, 13.539805086342321, 13.572858395799228, 13.624971692214542, 13.692144502487269, 14.48018635634494, 14.479525188020405, 14.47878810682415, 14.477980899589264, 14.477113652650086, 14.476200933537676, 14.475261574719914, 14.474317960235195, 14.473394743645322, 14.47251696579203, 14.471707587157592, 14.470984492287322, 14.47035705029263, 14.469822313063753, 14.469360890876708, 14.468932457797766, 14.468470707484503, 14.46787741153016, 14.467015041453259, 14.465697220342173, 14.463676092572427, 14.46062556438274, 14.45611930408575, 14.449602438247931, 14.440356097044583, 14.427454432430777, 14.409714575349708, 14.385641369829594, 14.353370813948105, 14.310619159557374, 14.254648764942996, 14.18226716302461, 14.0898823129691, 13.97364418227299, 13.829709536667442, 13.654670858260703, 13.446187614110913, 13.203841818524863, 12.930199362704185, 12.631979690473491, 12.321105799169672, 12.01522780421416, 11.737142090101706, 11.512518292316344, 11.365740245610906, 11.31459442618056, 11.365626769896712, 11.5122835976864, 11.736790810990797, 12.014801126156012, 14.478113928839429, 14.477007464564064, 14.475765176351366, 14.474395416937933, 14.47291427980136, 14.471346122193388, 14.469723378863192, 14.468085461380442, 14.466476588652633, 14.464942475022454, 14.463525902621253, 14.462261305312337, 14.461168566995388, 14.460246259637785, 14.459464492478853, 14.458757399675434, 14.458015059449556, 14.457074328327561, 14.455707715267827, 14.453609043233657, 14.450374279071664, 14.445475579053305, 14.4382263138607, 14.427734620740049, 14.412842913721288, 14.39205082986309, 14.363419420858552, 14.324455216345072, 14.27197439552248, 14.201950144627073, 14.10935093606229, 13.987984691063676, 13.83037451085468, 13.627707020672224, 13.369915801691414, 13.045991822594749, 12.644653068529959, 12.155561084517995, 11.571349220700851, 10.890831659696016, 10.123881276346424, 9.298488804010688, 8.469956254750093, 7.729432045497881, 7.201083122918291, 7.007574058484827, 7.202775058608039, 7.732460398709357, 8.47401333588673, 9.303571392605921, 14.476988572208404, 14.47563193018151, 14.47410327312999, 14.472411493431608, 14.47057498903554, 14.468622334763351, 14.466592032527391, 14.46453105619029, 14.462491967615916, 14.460528483327119, 14.45868950365197, 14.457011754344162, 14.455511301604977, 14.45417424973758, 14.452946886799852, 14.451725392876037, 14.450344974334401, 14.448567964371383, 14.446070081505086, 14.442423717582752, 14.437076885552232, 14.429326330860924, 14.418283315115161, 14.4028307128475, 14.38157030395263, 14.352759474346684, 14.314236948182815, 14.263337699155178, 14.196797941052314, 14.110652342240337, 14.000127852919928, 13.85954265315893, 13.682226099868915, 13.460488154330301, 13.185687225183232, 12.848476830057981, 12.439357490977368, 11.949724480274908, 11.373687519758588, 10.711044070481053, 9.971888821048712, 9.183311708872806, 8.39798118620421, 7.70165679146168, 7.209476243687666, 7.033389221727919, 7.221922302518326, 7.725927746743089, 8.433380553711984, 9.229302532572671, 14.477708213038566, 14.476506944213448, 14.475153236730618, 14.473653694611677, 14.47202242192884, 14.47028125394546, 14.46845907982121, 14.466589982706964, 14.46470996527112, 14.462852102806217, 14.4610400611392, 14.45928001277178, 14.457551055916174, 14.455794260564247, 14.453900413539323, 14.451696405585347, 14.448930013833735, 14.445252621623421, 14.440199244969666, 14.433165176632981, 14.423378697983374, 14.409869728975137, 14.391435064349217, 14.366602043298593, 14.333594160294004, 14.290304243431592, 14.234283322785895, 14.162755973199026, 14.072675330062031, 13.960832449369542, 13.824034185685523, 13.659359955574047, 13.464499202487294, 13.238157085209226, 12.980496326712819, 12.69356162429992, 12.381617066720715, 12.051327900650527, 11.711745850041785, 11.37410972667559, 11.051522107062377, 10.758554664227454, 10.51072694288054, 10.32363747647664, 10.211470408500526, 10.184851397034569, 10.248556740092896, 10.39999520455078, 10.62922286548701, 10.92054258358625, 14.479670703509372, 14.478887506702002, 14.478004680394234, 14.477023797034963, 14.475949375497361, 14.474788270850894, 14.473548274192828, 14.472235692020872, 14.470851676121583, 14.469387086425977, 14.467815683932214, 14.46608545829465, 14.464107883219848, 14.461744852528717, 14.458792977108342, 14.454964825271873, 14.449866587938475, 14.442971583387841, 14.433589037868375, 14.420827755601366, 14.403554703238505, 14.380349266625608, 14.34945508641653, 14.308733046836934, 14.255621292301326, 14.187111202696107, 14.099752189862164, 13.98970305897088, 13.8528534281955, 13.685044847240674, 13.482426482757255, 13.241981589824704, 12.962252656534218, 12.644264970823384, 12.292585219840781, 11.916336250564564, 11.529815206883292, 11.152169143566585, 10.805509453526264, 10.511157045352606, 10.28463256284894, 10.131291240555932, 10.045113076406238, 10.012010865235995, 10.016502345788291, 10.048620250369824, 10.107893478272455, 10.202775005869649, 10.345941381810134, 10.547671946691151, 14.481556581659012, 14.481154696573377, 14.48069575109785, 14.480174918361405, 14.479585860124056, 14.478919232858065, 14.478160400254989, 14.477286102354595, 14.476259783646594, 14.4750252267629, 14.473498072402514, 14.47155472860673, 14.469018085186198, 14.465639359622248, 14.46107532604041, 14.45486014871372, 14.446371101947669, 14.43478767312912, 14.41904399677747, 14.397775349528061, 14.36926064755005, 14.331364613641561, 14.281485565226681, 14.216517581933823, 14.132838978240699, 14.026342177473822, 13.892522643117704, 13.726645534187696, 13.524006923776856, 13.280300172968966, 12.99208576471267, 12.657343501836387, 12.27606002159602, 11.850775858679912, 11.386993444177786, 10.893344391617914, 10.381447615168996, 9.86547050998515, 9.361527050851782, 8.887166080034822, 8.461212007231659, 8.103936089798195, 7.836855044268535, 7.680803620211783, 7.651506410408376, 7.754303072317877, 7.981736161133713, 8.316030530875913, 8.7343334155466, 9.213019927928228, 14.482697177524116, 14.482508607235737, 14.482281771471008, 14.482006390886678, 14.481667638289629, 14.481243887657751, 14.480703500305127, 14.480000305755587, 14.479067331462637, 14.477808206116332, 14.476085502836673, 14.473705100550498, 14.470395428752408, 14.46578023557542, 14.459343307627112, 14.450383417205739, 14.437957748666626, 14.420812263850099, 14.397298048662217, 14.36527382453872, 14.321996738561616, 14.264006530493186, 14.187012501347969, 14.085798656147228, 13.954170186322356, 13.784974176444658, 13.570238848901433, 13.301487975872776, 12.970298236284092, 12.569172721955367, 12.092793934964819, 11.539675197623444, 10.914113813115346, 10.228100598659946, 9.502380478398225, 8.765182445259185, 8.046608488786324, 7.367512429144751, 6.725677971842465, 6.088364357383142, 5.402057683837722, 4.622892039555172, 3.7666381165414498, 2.99343552085379, 2.705102149223916, 3.2174270469268476, 4.246103087235584, 5.417551756348044, 6.553837360593222, 7.5905060697057545, 14.483203894354826, 14.483103373137762, 14.482971046943936, 14.482794216759212, 14.48255444081407, 14.482224970030172, 14.481767122258612, 14.481125195954364, 14.480219389704999, 14.478936022406906, 14.477114133905422, 14.474527283510888, 14.470859054009292, 14.465670419064345, 14.458356761739555, 14.448091978763525, 14.433756831969202, 14.413848611434334, 14.386369392331284, 14.348690886075202, 14.297395345500837, 14.22809447587255, 14.135232170021435, 14.011882511646457, 13.849562300982797, 13.638087823911997, 13.365519253694686, 13.018253614014775, 12.581349537342764, 12.039195433609441, 11.376669297282044, 10.580987335982668, 9.644508960304154, 8.568879459822282, 7.371103287883198, 6.0925644225177376, 4.812662084205198, 3.6672124546090132, 2.84779374807435, 2.471833070829946, 2.3534873124068674, 2.1600619372323573, 1.7249668525125774, 1.149338520626542, 1.0803610378193098, 1.8998887119113521, 2.983642284719591, 4.065173021340288, 5.063551279222745, 5.9687590912554755, 14.4833955232708, 14.48333111500828, 14.483240530870097, 14.48311223693431, 14.482929563145907, 14.48266849909681, 14.482294601368874, 14.481758683257182, 14.480990850015713, 14.479892307407384, 14.478324205417625, 14.476092582084823, 14.472928248686006, 14.468460218849845, 14.462181054314655, 14.453402320110373, 14.441198276888938, 14.424336083955321, 14.401191277180608, 14.369648298421199, 14.326987608892665, 14.269763679602594, 14.193682205123622, 14.093490520365549, 13.96290265616609, 13.794589868606112, 13.580278676508005, 13.311010766662406, 12.977630831552467, 12.571575596559995, 12.086031817885342, 11.517496522007091, 10.867678028698908, 10.145467321532355, 9.368311490293774, 8.561697786711317, 7.754837769023499, 6.970994231658837, 6.214017884096151, 5.458841610459626, 4.657430857326141, 3.7664279280372717, 2.798992741565424, 1.9405934586164766, 1.7595385249728424, 2.477002350289814, 3.481450531695851, 4.44086935878492, 5.275368593936168, 6.00592008902547, 14.483472784976072, 14.48342932556124, 14.483366743960648, 14.483276567598962, 14.483146660728858, 14.482959712481868, 14.482691140596133, 14.48230620512336, 14.481756064125651, 14.480972427386575, 14.479860374232317, 14.478288799254829, 14.476077839553666, 14.472982527950792, 14.468671823451043, 14.462702115825875, 14.454484317621722, 14.44324378567885, 14.427972604498766, 14.407374266461993, 14.379801540347318, 14.343189342597181, 14.294985671357539, 14.232084993906772, 14.150769620478584, 14.04666510629241, 13.914714972471257, 13.74917727949837, 13.543640162661879, 13.291045228044055, 12.983697974353456, 12.613237102428512, 12.17053792782793, 11.645552716632185, 11.027160518846909, 10.303228022786724, 9.46127902761592, 8.490433130370166, 7.385648995422422, 6.15612666729688, 4.842583106574672, 3.5597570164951917, 2.612825992050722, 2.549508018555215, 3.3584374103477326, 4.464805485763844, 5.5642015220865355, 6.56137876774846, 7.438720704506043, 8.209032565516871, 14.48350991252159, 14.48348023348931, 14.483437278302416, 14.483375219101937, 14.48328575452304, 14.483157107828752, 14.482972643677106, 14.482708970258022, 14.48233335262217, 14.481800212167292, 14.481046425224159, 14.479985059690206, 14.478497102634329, 14.476420634824885, 14.473536802870552, 14.469551830732662, 14.464074206584721, 14.456586087280506, 14.446407891490322, 14.432655014682497, 14.414185604139066, 14.389538387022546, 14.356859653582, 14.313818667069885, 14.257511021811844, 14.184349859479358, 14.089945519137798, 13.968975416971373, 13.815048217281593, 13.620570439478602, 13.376630632102465, 13.07292748423361, 12.697785176498702, 12.23832312136436, 11.680878655108513, 11.011820135254831, 10.218934074248118, 9.293626248772947, 8.23426101772827, 7.051155023291009, 5.774377744003131, 4.468035578063517, 3.264853567617574, 2.4552539013686285, 2.4678889480308897, 3.2371001342891494, 4.320992294638112, 5.479769008815241, 6.614808435691174, 7.6786809395811195, 14.483527524551052, 14.483505105384369, 14.483472505594866, 14.483425196674931, 14.483356691388677, 14.483257726345112, 14.483115118753636, 14.482910175228056, 14.482616488601982, 14.482196904391216, 14.481599369112889, 14.48075128545815, 14.47955189202143, 14.477862056705101, 14.475490724007491, 14.472177091937143, 14.467567425182212, 14.461185257594963, 14.452393632538037, 14.440348025806466, 14.423938767558734, 14.401722229640896, 14.371840905701195, 14.331933944047757, 14.279041874145827, 14.209512364540434, 14.118917973237998, 14.002001973425765, 13.852674162093617, 13.664084322285904, 13.428805178769217, 13.13915653712054, 12.787693377239739, 12.367856330040134, 11.874734509397424, 11.305809766407442, 10.66143818097932, 9.944706969609971, 9.160273623313183, 8.312039246859559, 7.40029964769487, 6.420542748263188, 5.368257921543878, 4.257560410406875, 3.1721303798872174, 2.3947231804732403, 2.443802736326983, 3.2922091353491973, 4.436238990869696, 5.616820097646444, 14.483534632298538, 14.483515196836326, 14.483486784435165, 14.483445308918695, 14.483384860476301, 14.48329691282263, 14.4831691975558, 14.48298411262955, 14.482716482263612, 14.482330419524217, 14.481774955804259, 14.480977988544927, 14.479837954549454, 14.478212456323725, 14.475902849735425, 14.472633542914071, 14.468024464690618, 14.461554851680582, 14.452516206674712, 14.439952048350376, 14.422581982055675, 14.398707786643689, 14.366099786516147, 14.321862958497851, 14.262284251024663, 14.18266574960232, 14.077152923494449, 13.938573582790264, 13.758311754344824, 13.526251921262071, 13.230843595961149, 12.859354958204179, 12.398408826194947, 11.834927183049464, 11.157656554486552, 10.35951421088529, 9.44109895539333, 8.415867677993788, 7.317661949419464, 6.211089235789957, 5.202454860272647, 4.435354965214508, 4.027544117357263, 3.9501407695667266, 4.018784190480487, 4.043727132122533, 3.9404501400201846, 3.75745207230316, 3.6724060115030945, 3.913455134811545, 14.483537755147733, 14.483519961784543, 14.483493997191964, 14.483456145600687, 14.483401026818793, 14.483320866960277, 14.483204459642979, 14.4830356921666, 14.482791463646484, 14.48243875838305, 14.481930553405636, 14.481200128977571, 14.480153209292153, 14.478657182143602, 14.476526426636484, 14.473502515330866, 14.469227755136517, 14.463210202071147, 14.454777954626664, 14.443020244741446, 14.426712677326567, 14.404224027418477, 14.373402440214981, 14.331439895505433, 14.274715650818873, 14.198622379553706, 14.097383240206764, 13.963874578370133, 13.789477874666842, 13.563996519558403, 13.275688823824536, 12.911489527681342, 12.457519816686334, 11.900023739399947, 11.226923027287112, 10.430264492198216, 9.509967150967947, 8.479496103313146, 7.374400197758823, 6.264638043392537, 5.268402155793359, 4.547628956990151, 4.230288927473272, 4.271032525247805, 4.462178613257262, 4.608496537742294, 4.631610990921351, 4.581177433778066, 4.60866131893303, 4.887808427495715, 14.483539230695593, 14.483522764927484, 14.48349899259449, 14.48346469829598, 14.483415271832532, 14.483344116394143, 14.483241813914868, 14.483094952886484, 14.482884489786855, 14.482583470364549, 14.482153878745143, 14.481542307936211, 14.480674052183176, 14.479445107786466, 14.47771143393377, 14.475274671085735, 14.471863348321815, 14.467108446724659, 14.460512047561663, 14.451407720050137, 14.438911350566398, 14.42186136235234, 14.39874782635488, 14.36763094940233, 14.32605099581777, 14.270934011980783, 14.198500925930656, 14.10419178116229, 13.982622023771832, 13.827593693248925, 13.632190557240161, 13.38899169030499, 13.090441048539304, 12.729408659682424, 12.299968613979562, 11.798396208317738, 11.224349189229244, 10.582150714799653, 9.882054943833616, 9.141394850566556, 8.385639677005654, 7.649591886172273, 6.978862841131397, 6.4304456261581, 6.067975662118466, 5.945579690165778, 6.083685811596366, 6.457213827300524, 7.009632486979618, 7.67746488503976, 14.483536894018298, 14.483520248040154, 14.4834964901339, 14.483462606542837, 14.48341432957172, 14.483345629589685, 14.48324800909377, 14.483109526179284, 14.482913450553903, 14.482636424246742, 14.482245960160201, 14.481697063464514, 14.480927702756354, 14.479852789775899, 14.478356249283456, 14.476280677037993, 14.473413998452374, 14.469472460754849, 14.464079227325579, 14.456737806225757, 14.446799547802758, 14.433424497104054, 14.415534984801777, 14.391761467311595, 14.360380238418207, 14.319242653025224, 14.2656953167733, 14.196490173042656, 14.107682456517638, 13.994513087078644, 13.851270509533183, 13.6711259549122, 13.44593700036621, 13.166019404965501, 12.81989967123803, 12.394084400069747, 11.872920870512681, 11.238678720015423, 10.472055707933858, 9.553403324388627, 8.465100701377942, 7.195787424893068, 5.748137712063126, 4.1566307494250845, 2.555082766283858, 1.6019166914632395, 2.488186302951475, 4.094419283433772, 5.709134271708398, 7.186017411299193, 14.483525930662307, 14.483505733066883, 14.483476984899394, 14.483436060833235, 14.483377831429939, 14.483295058179777, 14.48317755486898, 14.483011030107555, 14.482775497535162, 14.482443103921314, 14.48197517959027, 14.481318258976318, 14.480398750769949, 14.479115857159275, 14.477332251981803, 14.47486193292322, 14.471454572308435, 14.46677561975697, 14.46038138145981, 14.451688348684922, 14.439936217327004, 14.42414438666749, 14.403062311560165, 14.375114967808582, 14.338345915289935, 14.290362000335195, 14.228285538522398, 14.148721650606468, 14.04774992829015, 13.920950288458982, 13.763472210863547, 13.570154265944115, 13.335697421597972, 13.05489318124891, 12.722910936818826, 12.335666290539164, 11.890334694546482, 11.386152726074563, 10.825761646257074, 10.21746218318965, 9.578762768503966, 8.94126137597744, 8.355664018709746, 7.892876175626324, 7.633387417344758, 7.6394841973438306, 7.922641480122418, 8.4351693374023, 9.094850992446334, 9.817920335949205, 14.483499441660632, 14.483471065409192, 14.483430637642478, 14.483372900893423, 14.483290362783194, 14.48317238300968, 14.483003904111374, 14.48276369513037, 14.482421933319463, 14.481936892300043, 14.481250432852066, 14.480281901992564, 14.47891993460967, 14.477011517914374, 14.47434752234003, 14.470643726428742, 14.465516176233725, 14.458449538991687, 14.448756966752336, 14.435529928751412, 14.417576581217846, 14.393347641081874, 14.360849593715248, 14.317546647579107, 14.260255497553946, 14.185041128680403, 14.087128144675733, 13.960851074918631, 13.79967940807999, 13.596369091741307, 13.343311649693609, 13.033173212758348, 12.659934088044611, 12.220444812725244, 11.716585672437283, 11.15801100486873, 10.565199059678742, 9.971995012179645, 9.42595297593049, 8.983872000169713, 8.700382560903881, 8.611490379970657, 8.721590777806597, 9.003454452745215, 9.410980830644764, 9.894884171331947, 10.412897899017834, 10.933193475641998, 11.433715420055016, 11.900145446991237, 14.483447786344925, 14.483406638287859, 14.483348327460453, 14.483265125980648, 14.483145928921997, 14.48297485518859, 14.482729301011762, 14.482377247191621, 14.481873556995955, 14.481154920814285, 14.480133004000717, 14.478685234381155, 14.476642525759539, 14.473773076139839, 14.469761210912365, 14.464180074045027, 14.456456823620849, 14.445828889750077, 14.431289840454362, 14.411523521837292, 14.384825449022795, 14.349010988394973, 14.301310763404162, 14.238255027184064, 14.155550609637016, 14.047956697391653, 13.909169582347559, 13.73173245381459, 13.506995836560343, 13.225170033763607, 12.875537235508073, 12.446934467740546, 11.928689081758995, 11.312299769823978, 10.59432583658912, 9.781189530064989, 8.896865255292646, 7.9943355717276114, 7.16939302322118, 6.565351888200517, 6.33717021088687, 6.558238791792118, 7.158356048324934, 7.983355098852794, 8.888727712885473, 9.776856770877645, 10.593166017968645, 11.312697373741155, 11.928725723441186, 12.444943352517905, 14.483362015497539, 14.483306116072606, 14.483228301257087, 14.48311839930037, 14.482961652128038, 14.482736782298518, 14.482413294928778, 14.481947733920489, 14.481278521403112, 14.480318896827283, 14.478947336098264, 14.476994672510324, 14.474226965362107, 14.470322981363124, 14.464844991240287, 14.457201477332303, 14.446600355629597, 14.43199152139109, 14.411998044848803, 14.384836318487475, 14.34822706598665, 14.29930156272462, 14.234510890482564, 14.149550732056303, 14.039320216439911, 13.897940640375502, 13.71886830391148, 13.495144681877473, 13.219835719186543, 12.88671850288096, 12.49127521494826, 12.032046792690487, 11.512374955978968, 10.9425077722691, 10.34193132729025, 9.741550238564091, 9.184837849208476, 8.726183730716144, 8.423769678166545, 8.325354274589154, 8.450953903059174, 8.783293441101785, 9.274104505276966, 9.861447259798332, 10.486355316273121, 11.102184190933398, 11.677068586411734, 12.192453563542557, 12.64015530479096, 13.019296533602867, 14.483246072428834, 14.483179114213353, 14.48308922441562, 14.482965478830884, 14.482791870207631, 14.4825451485665, 14.482191804765908, 14.481683879666054, 14.480953177049622, 14.479903328271552, 14.478398998498182, 14.47625133928865, 14.473198586261518, 14.468880488251322, 14.462805063306787, 14.454306053679245, 14.44248946932337, 14.426167874427453, 14.403781733829975, 14.37330839567622, 14.332161398212877, 14.277086063163, 14.204062138210974, 14.108230979287328, 13.983873839592452, 13.824479648982637, 13.622955487217387, 13.372050662596372, 13.065084797270291, 12.697088003112938, 12.266467528948986, 11.777286786618552, 11.242126598587834, 10.685188927305303, 10.144636735865356, 9.672060281282324, 9.325991154153815, 9.157640294526127, 9.192900502297672, 9.421650722543763, 9.802883666495035, 10.281345828424925, 10.803883433514798, 11.328470549540617, 11.826300889865795, 12.280142624956122, 12.681535088804026, 13.028108340464781, 13.321442960838924, 13.565494911108717, 14.483132589602063, 14.483063733358271, 14.482976511184374, 14.482861971346981, 14.48270685662569, 14.482491807270675, 14.4821888781613, 14.481758124909538, 14.481142937082236, 14.480263703735599, 14.47900928781631, 14.477225665609344, 14.474700964435403, 14.471146023405518, 14.466169537206161, 14.459246867020122, 14.449681782885575, 14.436560832148196, 14.4187008344356, 14.394591342453007, 14.36233596547752, 14.319599428182975, 14.263571315288964, 14.190962747437013, 14.098058699399232, 13.980855943861918, 13.835323732870695, 13.65782932701305, 13.445769583199807, 13.198436358656092, 12.918106597150933, 12.611271946737407, 12.289790549546604, 11.971551763753913, 11.68004061961, 11.442128997776212, 11.283781808966868, 11.224350349807638, 11.271392898539714, 11.418436948128601, 11.646889073803353, 11.931087522642938, 12.244104327452224, 12.562227356396903, 12.867319049710707, 13.14731524441648, 13.395556714143641, 13.609607136862858, 13.789997419947433, 13.93912663256905, 14.48307956742931, 14.483019170206294, 14.48294814882172, 14.48286112857378, 14.482749997422959, 14.482602817341746, 14.482402360205546, 14.482124147405163, 14.481733840031662, 14.481183790737587, 14.480408532119023, 14.479318944960859, 14.477794831597915, 14.47567562823892, 14.472749044609394, 14.468737546090628, 14.463282826843772, 14.455928803434546, 14.446104232268267, 14.433106862345157, 14.416092102476066, 14.394070496306016, 14.365919777374856, 14.33041872729818, 14.286311129299357, 14.232408231473753, 14.167736500151918, 14.091733024205881, 14.004482622371112, 13.906977697385399, 13.801364362002717, 13.691118614755533, 13.581080009964264, 13.477266992713794, 13.386419927564429, 13.315273687256454, 13.26964741367004, 13.253529141622607, 13.268383363185043, 13.312880052690527, 13.383129529728484, 13.47335377305614, 13.576802312311086, 13.686680531080588, 13.796902091961137, 13.902567388998644, 14.000160274128323, 14.08751648457682, 14.163642573787643, 14.228461941377848, 14.48312737819278, 14.4830825066277, 14.483033613361705, 14.4829784147394, 14.482913292756782, 14.482832802065538, 14.482729036254094, 14.482590816344395, 14.482402657028494, 14.482143459840477, 14.481784879133686, 14.481289309197981, 14.480607452926503, 14.479675459076361, 14.478411662392384, 14.476713035446771, 14.47445156968895, 14.471470951012407, 14.467584083202388, 14.4625722344031, 14.456186818470776, 14.448155038482394, 14.43819075513158, 14.426011914950838, 14.411365577491603, 14.394060903542314, 14.374009313594616, 14.351269365321372, 14.326091821310428, 14.298958160196511, 14.270603931311399, 14.242017582553782, 14.21440650807112, 14.189125696683517, 14.16757059826809, 14.151043846433536, 14.14061344100454, 14.136985375583313, 14.140414132101759, 14.150668859850187, 14.167062364182689, 14.188537168812541, 14.213791703152024, 14.241423267312209, 14.270064143562813, 14.298492223126093, 14.325705511208167, 14.35095822500632, 14.37376287529875, 14.393866731878889, 14.483253508573137, 14.483225674609749, 14.483197234592858, 14.483167558488216, 14.483135494761695, 14.483099194044689, 14.483055896739097, 14.48300167828228, 14.482931145060833, 14.482837074011988, 14.482709990418694, 14.482537682077629, 14.482304654802034, 14.48199154505167, 14.481574521196562, 14.481024726041024, 14.48030783965842, 14.479383872188565, 14.4782073283946, 14.476727914832967, 14.474891979456038, 14.472644872919517, 14.469934389515174, 14.46671537179663, 14.462955437136852, 14.458641603240372, 14.453787360394728, 14.448439483740763, 14.442683640091467, 14.436647679022466, 14.43050147514641, 14.424452370836953, 14.418735693379514, 14.413600475925074, 14.409291320551363, 14.406028160877907, 14.403986324159433, 14.40327957392432, 14.403948609719569, 14.405956796819355, 14.409193813572113, 14.41348666366504, 14.418616377721639, 14.424337962702872, 14.430400886937006, 14.436567619595742, 14.442628363804895, 14.448410948934043, 14.45378568524255, 14.458665677319551, 14.483391258621797, 14.483377009840789, 14.483363126626108, 14.483349542477146, 14.483336018676516, 14.483322091162767, 14.483307011647875, 14.483289683035233, 14.4832685892138, 14.48324171951664, 14.483206488678142, 14.483159654153628, 14.483097234312876, 14.483014433375523, 14.482905582027943, 14.482764106328554, 14.482582541479797, 14.482352610816177, 14.482065393186662, 14.481711602821704, 14.48128200362007, 14.480767973370458, 14.480162221708904, 14.479459648049842, 14.478658302607228, 14.47776038645087, 14.476773198327505, 14.475709911259221, 14.47459004646268, 14.473439512056608, 14.472290094599156, 14.471178335491418, 14.470143790417001, 14.469226751891046, 14.468465601221578, 14.467894031645192, 14.467538433160229, 14.467415738608478, 14.467531993382083, 14.467881830332756, 14.468448918984572, 14.469207333144142, 14.470123665570096, 14.471159632467062, 14.472274867514725, 14.473429608971642, 14.47458702877544, 14.47571502698952, 14.4767874023592, 14.477784394395218, 14.483490494032496, 14.483484472382607, 14.483478795659087, 14.483473498374508, 14.483468564777972, 14.483463914632827, 14.483459388839577, 14.483454735318594, 14.483449595557557, 14.483443492238354, 14.483435818413692, 14.483425828830468, 14.483412634211964, 14.483395199618037, 14.483372348384915, 14.483342773561919, 14.483305059141564, 14.483257713625107, 14.483199218459053, 14.483128093491095, 14.483042980706418, 14.482942746030657, 14.482826596901191, 14.482694210685901, 14.482545866062058, 14.482382566486946, 14.482206142352771, 14.482019316864223, 14.481825720664872, 14.48162984223157, 14.48143690530343, 14.481252671030454, 14.481083170625062, 14.480934383169496, 14.48081188163459, 14.480720476712934, 14.480663891477565, 14.480644499242546, 14.480663152032228, 14.480719118207896, 14.480810136206621, 14.4809325786917, 14.481081709578556, 14.481252007113781, 14.481437520696932, 14.481632228000928, 14.481830361973781, 14.482026683651124, 14.482216685109597, 14.482396715933108];\n",
       "const xvar = \"lr\";\n",
       "const yvar = \"epochs\";\n",
       "const x_is_log = true;\n",
       "const y_is_log = false;\n",
       "\n",
       "const GREEN_SCALE = [[247, 252, 253], [229, 245, 249], [204, 236, 230], [153, 216, 201], [102, 194, 164], [65, 174, 118], [35, 139, 69], [0, 109, 44], [0, 68, 27]];\n",
       "const GREEN_PINK_SCALE = [[142, 1, 82], [197, 27, 125], [222, 119, 174], [241, 182, 218], [253, 224, 239], [247, 247, 247], [230, 245, 208], [184, 225, 134], [127, 188, 65], [77, 146, 33], [39, 100, 25]];\n",
       "const BLUE_SCALE = [[255, 247, 251], [236, 231, 242], [208, 209, 230], [166, 189, 219], [116, 169, 207], [54, 144, 192], [5, 112, 176], [3, 78, 123]];\n",
       "\n",
       "// format data\n",
       "const res = relativize_data(f, sd, rel, arm_data, metric);\n",
       "const f_final = res[0];\n",
       "const sd_final = res[1];\n",
       "\n",
       "// calculate max of abs(outcome), used for colorscale\n",
       "const f_absmax = Math.max(Math.abs(Math.min(...f_final)), Math.max(...f_final));\n",
       "\n",
       "// transform to nested array\n",
       "var f_plt = [];\n",
       "while(f_final.length) f_plt.push(f_final.splice(0, density));\n",
       "var sd_plt = [];\n",
       "while(sd_final.length) sd_plt.push(sd_final.splice(0, density));\n",
       "\n",
       "// create traces\n",
       "const CONTOUR_CONFIG = {\n",
       "  autocolorscale: false,\n",
       "  autocontour: true,\n",
       "  contours: {\n",
       "    coloring: 'heatmap',\n",
       "  },\n",
       "  hoverinfo: 'x+y+z',\n",
       "  ncontours: density / 2,\n",
       "  type: 'contour',\n",
       "  x: grid_x,\n",
       "  y: grid_y,\n",
       "};\n",
       "\n",
       "let f_scale;\n",
       "if (rel === true) {\n",
       "  f_scale = lower_is_better === true\n",
       "    ? GREEN_PINK_SCALE.reverse()\n",
       "    : GREEN_PINK_SCALE;\n",
       "} else {\n",
       "  f_scale = GREEN_SCALE;\n",
       "}\n",
       "\n",
       "const f_trace = {\n",
       "  colorbar: {\n",
       "    x: 0.45,\n",
       "    y: 0.5,\n",
       "    ticksuffix: rel === true ? '%' : '',\n",
       "    tickfont: {\n",
       "      size: 8,\n",
       "    },\n",
       "  },\n",
       "  colorscale: f_scale.map(\n",
       "    (v, i) => [i / (f_scale.length - 1), rgb(v)]\n",
       "  ),\n",
       "  xaxis: 'x',\n",
       "  yaxis: 'y',\n",
       "  z: f_plt,\n",
       "  // zmax and zmin are ignored if zauto is true\n",
       "  zauto: !rel,\n",
       "  zmax: f_absmax,\n",
       "  zmin: -f_absmax,\n",
       "};\n",
       "\n",
       "const sd_trace = {\n",
       "  colorbar: {\n",
       "      x: 1,\n",
       "      y: 0.5,\n",
       "      ticksuffix: rel === true ? '%' : '',\n",
       "      tickfont: {\n",
       "        size: 8,\n",
       "      },\n",
       "  },\n",
       "  colorscale: BLUE_SCALE.map(\n",
       "    (v, i) => [i / (BLUE_SCALE.length - 1), rgb(v)]\n",
       "  ),\n",
       "  xaxis: 'x2',\n",
       "  yaxis: 'y2',\n",
       "  z: sd_plt,\n",
       "};\n",
       "\n",
       "Object.keys(CONTOUR_CONFIG).forEach(key => {\n",
       "  f_trace[key] = CONTOUR_CONFIG[key];\n",
       "  sd_trace[key] = CONTOUR_CONFIG[key];\n",
       "});\n",
       "\n",
       "// get in-sample arms\n",
       "const arm_x = [];\n",
       "const arm_y = [];\n",
       "const arm_text = [];\n",
       "\n",
       "Object.keys(arm_data['in_sample']).forEach(arm_name => {\n",
       "  arm_x.push(arm_data['in_sample'][arm_name]['parameters'][xvar]);\n",
       "  arm_y.push(arm_data['in_sample'][arm_name]['parameters'][yvar]);\n",
       "  arm_text.push(arm_name);\n",
       "});\n",
       "\n",
       "// configs for in-sample arms\n",
       "const base_in_sample_arm_config = {\n",
       "  hoverinfo: 'text',\n",
       "  legendgroup: 'In-sample',\n",
       "  marker: {color: 'black', symbol: 1, opacity: 0.5},\n",
       "  mode: 'markers',\n",
       "  name: 'In-sample',\n",
       "  text: arm_text,\n",
       "  type: 'scatter',\n",
       "  x: arm_x,\n",
       "  y: arm_y,\n",
       "};\n",
       "\n",
       "const f_in_sample_arm_trace = {\n",
       "  xaxis: 'x',\n",
       "  yaxis: 'y',\n",
       "};\n",
       "\n",
       "const sd_in_sample_arm_trace = {\n",
       "  showlegend: false,\n",
       "  xaxis: 'x2',\n",
       "  yaxis: 'y2',\n",
       "};\n",
       "\n",
       "Object.keys(base_in_sample_arm_config).forEach(key => {\n",
       "  f_in_sample_arm_trace[key] = base_in_sample_arm_config[key];\n",
       "  sd_in_sample_arm_trace[key] = base_in_sample_arm_config[key];\n",
       "});\n",
       "\n",
       "const traces = [\n",
       "  f_trace,\n",
       "  sd_trace,\n",
       "  f_in_sample_arm_trace,\n",
       "  sd_in_sample_arm_trace,\n",
       "];\n",
       "\n",
       "// start symbol at 2 for candidate markers\n",
       "let i = 2;\n",
       "\n",
       "// iterate over out-of-sample arms\n",
       "Object.keys(arm_data['out_of_sample']).forEach(generator_run_name => {\n",
       "  const ax = [];\n",
       "  const ay = [];\n",
       "  const atext = [];\n",
       "\n",
       "  Object.keys(arm_data['out_of_sample'][generator_run_name]).forEach(arm_name => {\n",
       "    ax.push(\n",
       "      arm_data['out_of_sample'][generator_run_name][arm_name]['parameters'][xvar]\n",
       "    );\n",
       "    ay.push(\n",
       "      arm_data['out_of_sample'][generator_run_name][arm_name]['parameters'][yvar]\n",
       "    );\n",
       "    atext.push('<em>Candidate ' + arm_name + '</em>');\n",
       "  });\n",
       "\n",
       "  traces.push({\n",
       "    hoverinfo: 'text',\n",
       "    legendgroup: generator_run_name,\n",
       "    marker: {color: 'black', symbol: i, opacity: 0.5},\n",
       "    mode: 'markers',\n",
       "    name: generator_run_name,\n",
       "    text: atext,\n",
       "    type: 'scatter',\n",
       "    xaxis: 'x',\n",
       "    x: ax,\n",
       "    yaxis: 'y',\n",
       "    y: ay,\n",
       "  });\n",
       "  traces.push({\n",
       "    hoverinfo: 'text',\n",
       "    legendgroup: generator_run_name,\n",
       "    marker: {color: 'black', symbol: i, opacity: 0.5},\n",
       "    mode: 'markers',\n",
       "    name: 'In-sample',\n",
       "    showlegend: false,\n",
       "    text: atext,\n",
       "    type: 'scatter',\n",
       "    x: ax,\n",
       "    xaxis: 'x2',\n",
       "    y: ay,\n",
       "    yaxis: 'y2',\n",
       "  });\n",
       "  i += 1;\n",
       "});\n",
       "\n",
       "// layout\n",
       "const xrange = axis_range(grid_x, x_is_log);\n",
       "const yrange = axis_range(grid_y, y_is_log);\n",
       "\n",
       "const xtype = x_is_log ? 'log' : 'linear';\n",
       "const ytype = y_is_log ? 'log' : 'linear';\n",
       "\n",
       "const layout = {\n",
       "  autosize: false,\n",
       "    margin: {\n",
       "      l: 35,\n",
       "      r: 35,\n",
       "      t: 35,\n",
       "      b: 100,\n",
       "      pad: 0,\n",
       "  },\n",
       "  annotations: [\n",
       "    {\n",
       "      font: {size: 14},\n",
       "      showarrow: false,\n",
       "      text: 'Mean',\n",
       "      x: 0.25,\n",
       "      xanchor: 'center',\n",
       "      xref: 'paper',\n",
       "      y: 1,\n",
       "      yanchor: 'bottom',\n",
       "      yref: 'paper',\n",
       "    },\n",
       "    {\n",
       "      font: {size: 14},\n",
       "      showarrow: false,\n",
       "      text: 'Standard Error',\n",
       "      x: 0.8,\n",
       "      xanchor: 'center',\n",
       "      xref: 'paper',\n",
       "      y: 1,\n",
       "      yanchor: 'bottom',\n",
       "      yref: 'paper',\n",
       "    },\n",
       "  ],\n",
       "  hovermode: 'closest',\n",
       "  legend: {orientation: 'h', x: 0, y: -0.25},\n",
       "  height: 450,\n",
       "  width: 950,\n",
       "  xaxis: {\n",
       "    anchor: 'y',\n",
       "    autorange: false,\n",
       "    domain: [0.05, 0.45],\n",
       "    exponentformat: 'e',\n",
       "    range: xrange,\n",
       "    tickfont: {size: 11},\n",
       "    tickmode: 'auto',\n",
       "    title: xvar,\n",
       "    type: xtype,\n",
       "  },\n",
       "  xaxis2: {\n",
       "    anchor: 'y2',\n",
       "    autorange: false,\n",
       "    domain: [0.60, 1],\n",
       "    exponentformat: 'e',\n",
       "    range: xrange,\n",
       "    tickfont: {size: 11},\n",
       "    tickmode: 'auto',\n",
       "    title: xvar,\n",
       "    type: xtype,\n",
       "  },\n",
       "  yaxis: {\n",
       "    anchor: 'x',\n",
       "    autorange: false,\n",
       "    domain: [0, 1],\n",
       "    exponentformat: 'e',\n",
       "    range: yrange,\n",
       "    tickfont: {size: 11},\n",
       "    tickmode: 'auto',\n",
       "    title: yvar,\n",
       "    type: ytype,\n",
       "  },\n",
       "  yaxis2: {\n",
       "    anchor: 'x2',\n",
       "    autorange: false,\n",
       "    domain: [0, 1],\n",
       "    exponentformat: 'e',\n",
       "    range: yrange,\n",
       "    tickfont: {size: 11},\n",
       "    tickmode: 'auto',\n",
       "    type: ytype,\n",
       "  },\n",
       "};\n",
       "\n",
       "Plotly.newPlot(\"66ede328e5314f83aac942ffa7564563\", traces, layout, {showLink: false});\n",
       "});</script>"
      ]
     },
     "metadata": {},
     "output_type": "display_data"
    }
   ],
   "source": [
    "render(plot_contour(model=gpei, param_x='lr', param_y='epochs', metric_name='min_move'))"
   ]
  },
  {
   "cell_type": "code",
   "execution_count": 22,
   "metadata": {
    "pycharm": {
     "name": "#%%\n"
    },
    "scrolled": false
   },
   "outputs": [
    {
     "data": {
      "text/html": [
       "<div id=\"1350bcdf0a634d1a8102bf45161c490f\" style=\"width: 100%;\" class=\"plotly-graph-div\"></div><script type='text/javascript'>/*\n",
       " * Copyright (c) Facebook, Inc. and its affiliates. All Rights Reserved.\n",
       " */\n",
       "\n",
       "require(['plotly'], function(Plotly) {\n",
       "  window.PLOTLYENV = window.PLOTLYENV || {};\n",
       "  window.PLOTLYENV.BASE_URL = 'https://plot.ly';\n",
       "  /*\n",
       " * Copyright (c) Facebook, Inc. and its affiliates. All Rights Reserved.\n",
       " */\n",
       "\n",
       "const arm_data = {\"metrics\": [\"min_move\"], \"in_sample\": {\"control\": {\"name\": \"control\", \"parameters\": {\"lr\": 0.06, \"decay\": 0.002, \"epochs\": 70}, \"y\": {\"min_move\": 101.4}, \"y_hat\": {\"min_move\": 101.39999224556857}, \"se\": {\"min_move\": 0.0}, \"se_hat\": {\"min_move\": 0.004949172913454917}, \"context_stratum\": null}, \"1_0\": {\"name\": \"1_0\", \"parameters\": {\"lr\": 0.07839425700208687, \"decay\": 0.004649107668526686, \"epochs\": 71}, \"y\": {\"min_move\": 64.725}, \"y_hat\": {\"min_move\": 64.72500077859357}, \"se\": {\"min_move\": 0.0}, \"se_hat\": {\"min_move\": 0.004949178306498422}, \"context_stratum\": null}, \"2_0\": {\"name\": \"2_0\", \"parameters\": {\"lr\": 0.016511722904021142, \"decay\": 0.00041288715787430073, \"epochs\": 83}, \"y\": {\"min_move\": 54.45}, \"y_hat\": {\"min_move\": 54.45000173665885}, \"se\": {\"min_move\": 0.0}, \"se_hat\": {\"min_move\": 0.004949178311993115}, \"context_stratum\": null}, \"3_0\": {\"name\": \"3_0\", \"parameters\": {\"lr\": 0.007976956609636175, \"decay\": 0.0028356278671029336, \"epochs\": 45}, \"y\": {\"min_move\": 64.7}, \"y_hat\": {\"min_move\": 64.70000069029535}, \"se\": {\"min_move\": 0.0}, \"se_hat\": {\"min_move\": 0.004949178320235153}, \"context_stratum\": null}, \"4_0\": {\"name\": \"4_0\", \"parameters\": {\"lr\": 0.003719857998352154, \"decay\": 0.0006385193350709473, \"epochs\": 61}, \"y\": {\"min_move\": 61.675}, \"y_hat\": {\"min_move\": 61.6750010827531}, \"se\": {\"min_move\": 0.0}, \"se_hat\": {\"min_move\": 0.004949178317487807}, \"context_stratum\": null}, \"5_0\": {\"name\": \"5_0\", \"parameters\": {\"lr\": 0.018280684548419125, \"decay\": 0.0013376593059985793, \"epochs\": 28}, \"y\": {\"min_move\": 85.85}, \"y_hat\": {\"min_move\": 85.84999822377206}, \"se\": {\"min_move\": 0.0}, \"se_hat\": {\"min_move\": 0.004949178320235153}, \"context_stratum\": null}, \"6_0\": {\"name\": \"6_0\", \"parameters\": {\"lr\": 0.036598483632419736, \"decay\": 0.00012315357925586642, \"epochs\": 57}, \"y\": {\"min_move\": 57.125}, \"y_hat\": {\"min_move\": 57.12500157774513}, \"se\": {\"min_move\": 0.0}, \"se_hat\": {\"min_move\": 0.0049491783147404605}, \"context_stratum\": null}, \"7_0\": {\"name\": \"7_0\", \"parameters\": {\"lr\": 0.0017964235797745013, \"decay\": 0.009421615689971193, \"epochs\": 94}, \"y\": {\"min_move\": 62.5}, \"y_hat\": {\"min_move\": 62.500000950333984}, \"se\": {\"min_move\": 0.0}, \"se_hat\": {\"min_move\": 0.004949178317487807}, \"context_stratum\": null}, \"8_0\": {\"name\": \"8_0\", \"parameters\": {\"lr\": 0.0027460956900874065, \"decay\": 0.0005059898389563055, \"epochs\": 44}, \"y\": {\"min_move\": 61.475}, \"y_hat\": {\"min_move\": 61.47500106745963}, \"se\": {\"min_move\": 0.0}, \"se_hat\": {\"min_move\": 0.004949178320235153}, \"context_stratum\": null}, \"9_0\": {\"name\": \"9_0\", \"parameters\": {\"lr\": 0.0426709388481696, \"decay\": 0.002247218136513755, \"epochs\": 87}, \"y\": {\"min_move\": 87.2}, \"y_hat\": {\"min_move\": 87.19999725684383}, \"se\": {\"min_move\": 0.0}, \"se_hat\": {\"min_move\": 0.004949178188362534}, \"context_stratum\": null}, \"10_0\": {\"name\": \"10_0\", \"parameters\": {\"lr\": 0.02800566925168594, \"decay\": 0.0002677039277472593, \"epochs\": 78}, \"y\": {\"min_move\": 58.85}, \"y_hat\": {\"min_move\": 58.85000113017125}, \"se\": {\"min_move\": 0.0}, \"se_hat\": {\"min_move\": 0.004949178306498422}, \"context_stratum\": null}, \"11_0\": {\"name\": \"11_0\", \"parameters\": {\"lr\": 0.0685188376679517, \"decay\": 0.0016482494131049618, \"epochs\": 60}, \"y\": {\"min_move\": 80.475}, \"y_hat\": {\"min_move\": 80.47499938521004}, \"se\": {\"min_move\": 0.0}, \"se_hat\": {\"min_move\": 0.0049491782790249605}, \"context_stratum\": null}, \"12_0\": {\"name\": \"12_0\", \"parameters\": {\"lr\": 0.0697169377514626, \"decay\": 0.001987605498296668, \"epochs\": 75}, \"y\": {\"min_move\": 87.65}, \"y_hat\": {\"min_move\": 87.64999542663615}, \"se\": {\"min_move\": 0.0}, \"se_hat\": {\"min_move\": 0.004949177567462242}, \"context_stratum\": null}, \"13_0\": {\"name\": \"13_0\", \"parameters\": {\"lr\": 0.05441266281255867, \"decay\": 0.001897592002189751, \"epochs\": 73}, \"y\": {\"min_move\": 74.375}, \"y_hat\": {\"min_move\": 74.37500643677217}, \"se\": {\"min_move\": 0.0}, \"se_hat\": {\"min_move\": 0.00494917753724143}, \"context_stratum\": null}, \"14_0\": {\"name\": \"14_0\", \"parameters\": {\"lr\": 0.06593370364780642, \"decay\": 0.001681425245434636, \"epochs\": 69}, \"y\": {\"min_move\": 105.025}, \"y_hat\": {\"min_move\": 105.02498659395246}, \"se\": {\"min_move\": 0.0}, \"se_hat\": {\"min_move\": 0.004949166204423666}, \"context_stratum\": null}, \"15_0\": {\"name\": \"15_0\", \"parameters\": {\"lr\": 0.0370041853218101, \"decay\": 0.0017477292689809694, \"epochs\": 69}, \"y\": {\"min_move\": 96.7}, \"y_hat\": {\"min_move\": 96.69999793039085}, \"se\": {\"min_move\": 0.0}, \"se_hat\": {\"min_move\": 0.004949177416358177}, \"context_stratum\": null}, \"16_0\": {\"name\": \"16_0\", \"parameters\": {\"lr\": 0.09938492371943926, \"decay\": 0.0015626758209768153, \"epochs\": 70}, \"y\": {\"min_move\": 87.1}, \"y_hat\": {\"min_move\": 87.10000650343329}, \"se\": {\"min_move\": 0.0}, \"se_hat\": {\"min_move\": 0.004949177086676564}, \"context_stratum\": null}, \"17_0\": {\"name\": \"17_0\", \"parameters\": {\"lr\": 0.05809303501408004, \"decay\": 0.0020319116910216093, \"epochs\": 69}, \"y\": {\"min_move\": 98.5}, \"y_hat\": {\"min_move\": 98.50000889102017}, \"se\": {\"min_move\": 0.0}, \"se_hat\": {\"min_move\": 0.004949171319992134}, \"context_stratum\": null}, \"18_0\": {\"name\": \"18_0\", \"parameters\": {\"lr\": 0.06278539344348018, \"decay\": 0.0018074309146501322, \"epochs\": 68}, \"y\": {\"min_move\": 98.6}, \"y_hat\": {\"min_move\": 98.60000171039815}, \"se\": {\"min_move\": 0.0}, \"se_hat\": {\"min_move\": 0.004949173509629653}, \"context_stratum\": null}, \"19_0\": {\"name\": \"19_0\", \"parameters\": {\"lr\": 0.05581202297348793, \"decay\": 0.0014879180519567713, \"epochs\": 69}, \"y\": {\"min_move\": 100.0}, \"y_hat\": {\"min_move\": 100.00000817169158}, \"se\": {\"min_move\": 0.0}, \"se_hat\": {\"min_move\": 0.00494917464153725}, \"context_stratum\": null}, \"20_0\": {\"name\": \"20_0\", \"parameters\": {\"lr\": 0.06862525836312534, \"decay\": 0.0016138097700495336, \"epochs\": 70}, \"y\": {\"min_move\": 101.575}, \"y_hat\": {\"min_move\": 101.57499452613861}, \"se\": {\"min_move\": 0.0}, \"se_hat\": {\"min_move\": 0.004949171668905581}, \"context_stratum\": null}, \"21_0\": {\"name\": \"21_0\", \"parameters\": {\"lr\": 0.09373144497300952, \"decay\": 0.0021325495969080665, \"epochs\": 78}, \"y\": {\"min_move\": 93.475}, \"y_hat\": {\"min_move\": 93.47499702215218}, \"se\": {\"min_move\": 0.0}, \"se_hat\": {\"min_move\": 0.004949177844944241}, \"context_stratum\": null}, \"22_0\": {\"name\": \"22_0\", \"parameters\": {\"lr\": 0.1, \"decay\": 0.0014867706919937198, \"epochs\": 77}, \"y\": {\"min_move\": 91.375}, \"y_hat\": {\"min_move\": 91.37500010869738}, \"se\": {\"min_move\": 0.0}, \"se_hat\": {\"min_move\": 0.004949178029016449}, \"context_stratum\": null}, \"23_0\": {\"name\": \"23_0\", \"parameters\": {\"lr\": 0.05025995239891894, \"decay\": 0.0017713524339547954, \"epochs\": 78}, \"y\": {\"min_move\": 90.3}, \"y_hat\": {\"min_move\": 90.29999833539381}, \"se\": {\"min_move\": 0.0}, \"se_hat\": {\"min_move\": 0.004949178026269103}, \"context_stratum\": null}, \"24_0\": {\"name\": \"24_0\", \"parameters\": {\"lr\": 0.0689066000284994, \"decay\": 0.00198557475386927, \"epochs\": 82}, \"y\": {\"min_move\": 67.7}, \"y_hat\": {\"min_move\": 67.70000215190367}, \"se\": {\"min_move\": 0.0}, \"se_hat\": {\"min_move\": 0.004949178251551499}, \"context_stratum\": null}, \"25_0\": {\"name\": \"25_0\", \"parameters\": {\"lr\": 0.03293699870473663, \"decay\": 0.0024731563662717107, \"epochs\": 90}, \"y\": {\"min_move\": 74.625}, \"y_hat\": {\"min_move\": 74.62500085474323}, \"se\": {\"min_move\": 0.0}, \"se_hat\": {\"min_move\": 0.0049491782185833435}, \"context_stratum\": null}, \"26_0\": {\"name\": \"26_0\", \"parameters\": {\"lr\": 0.05811432304506772, \"decay\": 0.0027781964192298, \"epochs\": 77}, \"y\": {\"min_move\": 71.05}, \"y_hat\": {\"min_move\": 71.05000315044896}, \"se\": {\"min_move\": 0.0}, \"se_hat\": {\"min_move\": 0.004949178070226644}, \"context_stratum\": null}, \"27_0\": {\"name\": \"27_0\", \"parameters\": {\"lr\": 0.045972301814203344, \"decay\": 0.0013639257353456765, \"epochs\": 65}, \"y\": {\"min_move\": 95.15}, \"y_hat\": {\"min_move\": 95.14999956714875}, \"se\": {\"min_move\": 0.0}, \"se_hat\": {\"min_move\": 0.004949177836702202}, \"context_stratum\": null}, \"28_0\": {\"name\": \"28_0\", \"parameters\": {\"lr\": 0.09030546574920537, \"decay\": 0.0013564204087068111, \"epochs\": 65}, \"y\": {\"min_move\": 92.05}, \"y_hat\": {\"min_move\": 92.04999965938076}, \"se\": {\"min_move\": 0.0}, \"se_hat\": {\"min_move\": 0.004949178001542986}, \"context_stratum\": null}, \"29_0\": {\"name\": \"29_0\", \"parameters\": {\"lr\": 0.055816927378238644, \"decay\": 0.0010293252620656157, \"epochs\": 63}, \"y\": {\"min_move\": 91.75}, \"y_hat\": {\"min_move\": 91.74999955368857}, \"se\": {\"min_move\": 0.0}, \"se_hat\": {\"min_move\": 0.004949178067479298}, \"context_stratum\": null}, \"30_0\": {\"name\": \"30_0\", \"parameters\": {\"lr\": 0.05379056153462837, \"decay\": 0.0009920240891720343, \"epochs\": 66}, \"y\": {\"min_move\": 99.325}, \"y_hat\": {\"min_move\": 99.32499728077028}, \"se\": {\"min_move\": 0.0}, \"se_hat\": {\"min_move\": 0.004949177987806254}, \"context_stratum\": null}}, \"out_of_sample\": {}, \"status_quo_name\": null};\n",
       "const arm_name_to_parameters = {\"control\": {\"lr\": 0.06, \"decay\": 0.002, \"epochs\": 70}, \"1_0\": {\"lr\": 0.07839425700208687, \"decay\": 0.004649107668526686, \"epochs\": 71}, \"2_0\": {\"lr\": 0.016511722904021142, \"decay\": 0.00041288715787430073, \"epochs\": 83}, \"3_0\": {\"lr\": 0.007976956609636175, \"decay\": 0.0028356278671029336, \"epochs\": 45}, \"4_0\": {\"lr\": 0.003719857998352154, \"decay\": 0.0006385193350709473, \"epochs\": 61}, \"5_0\": {\"lr\": 0.018280684548419125, \"decay\": 0.0013376593059985793, \"epochs\": 28}, \"6_0\": {\"lr\": 0.036598483632419736, \"decay\": 0.00012315357925586642, \"epochs\": 57}, \"7_0\": {\"lr\": 0.0017964235797745013, \"decay\": 0.009421615689971193, \"epochs\": 94}, \"8_0\": {\"lr\": 0.0027460956900874065, \"decay\": 0.0005059898389563055, \"epochs\": 44}, \"9_0\": {\"lr\": 0.0426709388481696, \"decay\": 0.002247218136513755, \"epochs\": 87}, \"10_0\": {\"lr\": 0.02800566925168594, \"decay\": 0.0002677039277472593, \"epochs\": 78}, \"11_0\": {\"lr\": 0.0685188376679517, \"decay\": 0.0016482494131049618, \"epochs\": 60}, \"12_0\": {\"lr\": 0.0697169377514626, \"decay\": 0.001987605498296668, \"epochs\": 75}, \"13_0\": {\"lr\": 0.05441266281255867, \"decay\": 0.001897592002189751, \"epochs\": 73}, \"14_0\": {\"lr\": 0.06593370364780642, \"decay\": 0.001681425245434636, \"epochs\": 69}, \"15_0\": {\"lr\": 0.0370041853218101, \"decay\": 0.0017477292689809694, \"epochs\": 69}, \"16_0\": {\"lr\": 0.09938492371943926, \"decay\": 0.0015626758209768153, \"epochs\": 70}, \"17_0\": {\"lr\": 0.05809303501408004, \"decay\": 0.0020319116910216093, \"epochs\": 69}, \"18_0\": {\"lr\": 0.06278539344348018, \"decay\": 0.0018074309146501322, \"epochs\": 68}, \"19_0\": {\"lr\": 0.05581202297348793, \"decay\": 0.0014879180519567713, \"epochs\": 69}, \"20_0\": {\"lr\": 0.06862525836312534, \"decay\": 0.0016138097700495336, \"epochs\": 70}, \"21_0\": {\"lr\": 0.09373144497300952, \"decay\": 0.0021325495969080665, \"epochs\": 78}, \"22_0\": {\"lr\": 0.1, \"decay\": 0.0014867706919937198, \"epochs\": 77}, \"23_0\": {\"lr\": 0.05025995239891894, \"decay\": 0.0017713524339547954, \"epochs\": 78}, \"24_0\": {\"lr\": 0.0689066000284994, \"decay\": 0.00198557475386927, \"epochs\": 82}, \"25_0\": {\"lr\": 0.03293699870473663, \"decay\": 0.0024731563662717107, \"epochs\": 90}, \"26_0\": {\"lr\": 0.05811432304506772, \"decay\": 0.0027781964192298, \"epochs\": 77}, \"27_0\": {\"lr\": 0.045972301814203344, \"decay\": 0.0013639257353456765, \"epochs\": 65}, \"28_0\": {\"lr\": 0.09030546574920537, \"decay\": 0.0013564204087068111, \"epochs\": 65}, \"29_0\": {\"lr\": 0.055816927378238644, \"decay\": 0.0010293252620656157, \"epochs\": 63}, \"30_0\": {\"lr\": 0.05379056153462837, \"decay\": 0.0009920240891720343, \"epochs\": 66}};\n",
       "const f = [70.62748011017321, 70.63249988095923, 70.63950935004524, 70.64897863262387, 70.66146545769831, 70.6776294914545, 70.69824895274738, 70.72423987830113, 70.75667842368972, 70.79682660227476, 70.84616186138246, 70.90641086489134, 70.9795877840451, 71.06803728147578, 71.17448219219169, 71.30207564132158, 71.45445696908493, 71.63581033075324, 71.85092416861458, 72.10524887155148, 72.40494879416237, 72.7569433402578, 73.16892995530223, 73.64937954426242, 74.20749196457217, 74.8530957898275, 75.59647250654757, 76.44808082239022, 77.41815219077398, 78.51612478154298, 79.74988149104914, 81.12476102169593, 82.64232456805712, 84.29889275186373, 86.08393226202199, 87.9784916024753, 89.95409276744483, 91.97280762219057, 93.98955141236566, 95.95663761026043, 97.82464946649806, 99.52905723271533, 100.96767344114647, 101.9860931536528, 102.3809915231829, 101.94531120967422, 100.57496815416548, 98.33998533028782, 95.4554158269116, 92.20287837850216];\n",
       "const fit_data = [{\"metric_name\": \"min_move\", \"arm_name\": \"control\", \"mean\": 101.4, \"sem\": 0.0}, {\"metric_name\": \"min_move\", \"arm_name\": \"1_0\", \"mean\": 64.725, \"sem\": 0.0}, {\"metric_name\": \"min_move\", \"arm_name\": \"2_0\", \"mean\": 54.45, \"sem\": 0.0}, {\"metric_name\": \"min_move\", \"arm_name\": \"3_0\", \"mean\": 64.7, \"sem\": 0.0}, {\"metric_name\": \"min_move\", \"arm_name\": \"4_0\", \"mean\": 61.675, \"sem\": 0.0}, {\"metric_name\": \"min_move\", \"arm_name\": \"5_0\", \"mean\": 85.85, \"sem\": 0.0}, {\"metric_name\": \"min_move\", \"arm_name\": \"6_0\", \"mean\": 57.125, \"sem\": 0.0}, {\"metric_name\": \"min_move\", \"arm_name\": \"7_0\", \"mean\": 62.5, \"sem\": 0.0}, {\"metric_name\": \"min_move\", \"arm_name\": \"8_0\", \"mean\": 61.475, \"sem\": 0.0}, {\"metric_name\": \"min_move\", \"arm_name\": \"9_0\", \"mean\": 87.2, \"sem\": 0.0}, {\"metric_name\": \"min_move\", \"arm_name\": \"10_0\", \"mean\": 58.85, \"sem\": 0.0}, {\"metric_name\": \"min_move\", \"arm_name\": \"11_0\", \"mean\": 80.475, \"sem\": 0.0}, {\"metric_name\": \"min_move\", \"arm_name\": \"12_0\", \"mean\": 87.65, \"sem\": 0.0}, {\"metric_name\": \"min_move\", \"arm_name\": \"13_0\", \"mean\": 74.375, \"sem\": 0.0}, {\"metric_name\": \"min_move\", \"arm_name\": \"14_0\", \"mean\": 105.025, \"sem\": 0.0}, {\"metric_name\": \"min_move\", \"arm_name\": \"15_0\", \"mean\": 96.7, \"sem\": 0.0}, {\"metric_name\": \"min_move\", \"arm_name\": \"16_0\", \"mean\": 87.1, \"sem\": 0.0}, {\"metric_name\": \"min_move\", \"arm_name\": \"17_0\", \"mean\": 98.5, \"sem\": 0.0}, {\"metric_name\": \"min_move\", \"arm_name\": \"18_0\", \"mean\": 98.6, \"sem\": 0.0}, {\"metric_name\": \"min_move\", \"arm_name\": \"19_0\", \"mean\": 100.0, \"sem\": 0.0}, {\"metric_name\": \"min_move\", \"arm_name\": \"20_0\", \"mean\": 101.575, \"sem\": 0.0}, {\"metric_name\": \"min_move\", \"arm_name\": \"21_0\", \"mean\": 93.475, \"sem\": 0.0}, {\"metric_name\": \"min_move\", \"arm_name\": \"22_0\", \"mean\": 91.375, \"sem\": 0.0}, {\"metric_name\": \"min_move\", \"arm_name\": \"23_0\", \"mean\": 90.3, \"sem\": 0.0}, {\"metric_name\": \"min_move\", \"arm_name\": \"24_0\", \"mean\": 67.7, \"sem\": 0.0}, {\"metric_name\": \"min_move\", \"arm_name\": \"25_0\", \"mean\": 74.625, \"sem\": 0.0}, {\"metric_name\": \"min_move\", \"arm_name\": \"26_0\", \"mean\": 71.05, \"sem\": 0.0}, {\"metric_name\": \"min_move\", \"arm_name\": \"27_0\", \"mean\": 95.15, \"sem\": 0.0}, {\"metric_name\": \"min_move\", \"arm_name\": \"28_0\", \"mean\": 92.05, \"sem\": 0.0}, {\"metric_name\": \"min_move\", \"arm_name\": \"29_0\", \"mean\": 91.75, \"sem\": 0.0}, {\"metric_name\": \"min_move\", \"arm_name\": \"30_0\", \"mean\": 99.325, \"sem\": 0.0}];\n",
       "const grid = [0.001, 0.0010985411419875584, 0.0012067926406393288, 0.0013257113655901094, 0.0014563484775012444, 0.0015998587196060573, 0.0017575106248547913, 0.0019306977288832496, 0.0021209508879201904, 0.002329951810515372, 0.002559547922699536, 0.002811768697974231, 0.0030888435964774815, 0.00339322177189533, 0.003727593720314938, 0.004094915062380423, 0.004498432668969444, 0.004941713361323833, 0.005428675439323859, 0.005963623316594642, 0.006551285568595509, 0.0071968567300115215, 0.0079060432109077, 0.00868511373751352, 0.009540954763499945, 0.010481131341546858, 0.01151395399326447, 0.012648552168552958, 0.013894954943731374, 0.015264179671752334, 0.016768329368110076, 0.018420699693267154, 0.020235896477251564, 0.022229964825261943, 0.02442053094548651, 0.026826957952797246, 0.029470517025518096, 0.032374575428176434, 0.03556480306223128, 0.03906939937054615, 0.04291934260128776, 0.04714866363457392, 0.0517947467923121, 0.05689866029018296, 0.0625055192527397, 0.06866488450042998, 0.07543120063354615, 0.08286427728546843, 0.09102981779915217, 0.1];\n",
       "const metric = \"min_move\";\n",
       "const param = \"lr\";\n",
       "const rel = false;\n",
       "const setx = {\"lr\": 0.05118782665826977, \"decay\": 0.0019121008368128119, \"epochs\": 69};\n",
       "const sd = [14.483207647555242, 14.48310777788672, 14.482976164531408, 14.48280010226009, 14.482561140530619, 14.482232519356634, 14.481775544380799, 14.481134501868622, 14.480229580093425, 14.478947091930625, 14.477126078465687, 14.474540110967983, 14.470872798725939, 14.465685160429048, 14.458372646486861, 14.448109246382723, 14.433775841694372, 14.413869868123596, 14.38639356683449, 14.348718823312458, 14.297428050302145, 14.228133062595111, 14.135277757110186, 14.011936036844721, 13.84962422724296, 13.638157700795574, 13.36559509484576, 13.018331048555474, 12.581420691318897, 12.039247494472313, 11.376682703688797, 10.580933505172789, 9.644347399793817, 8.56855401021187, 7.370537255018712, 6.091655428338077, 4.811284540372665, 3.6652692380320353, 2.8454380709243274, 2.469733855279142, 2.3523571817466657, 2.160277040136857, 1.726964046456109, 1.153885952632401, 1.0845701802019412, 1.8996475619188538, 2.979323564450116, 4.056410950476599, 5.050038095667104, 5.950906083099451];\n",
       "const is_log = true;\n",
       "\n",
       "// format data\n",
       "const res = relativize_data(f, sd, rel, arm_data, metric);\n",
       "const f_final = res[0];\n",
       "const sd_final = res[1];\n",
       "\n",
       "// get data for standard deviation fill plot\n",
       "const sd_upper = [];\n",
       "const sd_lower = [];\n",
       "for (let i = 0; i < sd.length; i++) {\n",
       "  sd_upper.push(f_final[i] + 2 * sd_final[i]);\n",
       "  sd_lower.push(f_final[i] - 2 * sd_final[i]);\n",
       "}\n",
       "const grid_rev = copy_and_reverse(grid);\n",
       "const sd_lower_rev = copy_and_reverse(sd_lower);\n",
       "const sd_x = grid.concat(grid_rev);\n",
       "const sd_y = sd_upper.concat(sd_lower_rev);\n",
       "\n",
       "// get data for observed arms and error bars\n",
       "const arm_x = [];\n",
       "const arm_y = [];\n",
       "const arm_sem = [];\n",
       "fit_data.forEach(row => {\n",
       "    parameters = arm_name_to_parameters[row[\"arm_name\"]];\n",
       "    plot = true;\n",
       "    Object.keys(setx).forEach(p => {\n",
       "      if (p !== param && parameters[p] !== setx[p]) {\n",
       "        plot = false;\n",
       "      }\n",
       "    });\n",
       "    if (plot === true) {\n",
       "        arm_x.push(parameters[param]);\n",
       "        arm_y.push(row[\"mean\"]);\n",
       "        arm_sem.push(row[\"sem\"]);\n",
       "    }\n",
       "});\n",
       "\n",
       "const arm_res = relativize_data(\n",
       "  arm_y, arm_sem, rel, arm_data, metric\n",
       ");\n",
       "const arm_y_final = arm_res[0];\n",
       "const arm_sem_final = arm_res[1].map(x => x * 2);\n",
       "\n",
       "// create traces\n",
       "const f_trace = {\n",
       "  x: grid,\n",
       "  y: f_final,\n",
       "  showlegend: false,\n",
       "  hoverinfo: 'x+y',\n",
       "  line: {\n",
       "    color: 'rgba(128, 177, 211, 1)',\n",
       "  },\n",
       "};\n",
       "\n",
       "const arms_trace = {\n",
       "  x: arm_x,\n",
       "  y: arm_y_final,\n",
       "  mode: 'markers',\n",
       "  error_y: {\n",
       "    type: 'data',\n",
       "    array: arm_sem_final,\n",
       "    visible: true,\n",
       "    color: 'black',\n",
       "  },\n",
       "  line: {\n",
       "    color: 'black',\n",
       "  },\n",
       "  showlegend: false,\n",
       "  hoverinfo: 'x+y',\n",
       "};\n",
       "\n",
       "const sd_trace = {\n",
       "    x: sd_x,\n",
       "    y: sd_y,\n",
       "    fill: 'toself',\n",
       "    fillcolor: 'rgba(128, 177, 211, 0.2)',\n",
       "    line: {\n",
       "      color: 'transparent',\n",
       "    },\n",
       "    showlegend: false,\n",
       "    hoverinfo: 'none',\n",
       "};\n",
       "\n",
       "traces = [\n",
       "  sd_trace,\n",
       "  f_trace,\n",
       "  arms_trace,\n",
       "];\n",
       "\n",
       "// iterate over out-of-sample arms\n",
       "let i = 1;\n",
       "Object.keys(arm_data['out_of_sample']).forEach(generator_run_name => {\n",
       "  const ax = [];\n",
       "  const ay = [];\n",
       "  const asem = [];\n",
       "  const atext = [];\n",
       "\n",
       "  Object.keys(arm_data['out_of_sample'][generator_run_name]).forEach(arm_name => {\n",
       "    const parameters = arm_data[\n",
       "      'out_of_sample'][generator_run_name][arm_name]['parameters'];\n",
       "    plot = true;\n",
       "    Object.keys(setx).forEach(p => {\n",
       "      if (p !== param && parameters[p] !== setx[p]) {\n",
       "        plot = false;\n",
       "      }\n",
       "    });\n",
       "    if (plot === true) {\n",
       "      ax.push(parameters[param]);\n",
       "      ay.push(\n",
       "        arm_data['out_of_sample'][generator_run_name][arm_name]['y_hat'][metric]\n",
       "      );\n",
       "      asem.push(\n",
       "        arm_data['out_of_sample'][generator_run_name][arm_name]['se_hat'][metric]\n",
       "      );\n",
       "      atext.push('<em>Candidate ' + arm_name + '</em>');\n",
       "    }\n",
       "  });\n",
       "\n",
       "  const out_of_sample_arm_res = relativize_data(\n",
       "    ay, asem, rel, arm_data, metric\n",
       "  );\n",
       "  const ay_final = out_of_sample_arm_res[0];\n",
       "  const asem_final = out_of_sample_arm_res[1].map(x => x * 2);\n",
       "\n",
       "  traces.push({\n",
       "    hoverinfo: 'text',\n",
       "    legendgroup: generator_run_name,\n",
       "    marker: {color: 'black', symbol: i, opacity: 0.5},\n",
       "    mode: 'markers',\n",
       "    error_y: {\n",
       "      type: 'data',\n",
       "      array: asem_final,\n",
       "      visible: true,\n",
       "      color: 'black',\n",
       "    },\n",
       "    name: generator_run_name,\n",
       "    text: atext,\n",
       "    type: 'scatter',\n",
       "    xaxis: 'x',\n",
       "    x: ax,\n",
       "    yaxis: 'y',\n",
       "    y: ay_final,\n",
       "  });\n",
       "\n",
       "  i += 1;\n",
       "});\n",
       "\n",
       "// layout\n",
       "const xrange = axis_range(grid, is_log);\n",
       "const xtype = is_log ? 'log' : 'linear';\n",
       "\n",
       "layout = {\n",
       "  hovermode: 'closest',\n",
       "  xaxis: {\n",
       "    anchor: 'y',\n",
       "    autorange: false,\n",
       "    exponentformat: 'e',\n",
       "    range: xrange,\n",
       "    tickfont: {size: 11},\n",
       "    tickmode: 'auto',\n",
       "    title: param,\n",
       "    type: xtype,\n",
       "  },\n",
       "  yaxis: {\n",
       "    anchor: 'x',\n",
       "    tickfont: {size: 11},\n",
       "    tickmode: 'auto',\n",
       "    title: metric,\n",
       "  },\n",
       "};\n",
       "\n",
       "Plotly.newPlot(\n",
       "    \"1350bcdf0a634d1a8102bf45161c490f\",\n",
       "    traces,\n",
       "    layout,\n",
       "    {showLink: false},\n",
       ");\n",
       "});</script>"
      ]
     },
     "metadata": {},
     "output_type": "display_data"
    }
   ],
   "source": [
    "render(plot_slice(model=gpei, param_name='lr', metric_name='min_move'))"
   ]
  },
  {
   "cell_type": "code",
   "execution_count": 23,
   "metadata": {
    "pycharm": {
     "name": "#%%\n"
    },
    "scrolled": false
   },
   "outputs": [
    {
     "data": {
      "text/html": [
       "<div id=\"b66d99516e374ef796cae58566e9a7d3\" style=\"width: 100%;\" class=\"plotly-graph-div\"></div><script type='text/javascript'>/*\n",
       " * Copyright (c) Facebook, Inc. and its affiliates. All Rights Reserved.\n",
       " */\n",
       "\n",
       "require(['plotly'], function(Plotly) {\n",
       "  window.PLOTLYENV = window.PLOTLYENV || {};\n",
       "  window.PLOTLYENV.BASE_URL = 'https://plot.ly';\n",
       "  /*\n",
       " * Copyright (c) Facebook, Inc. and its affiliates. All Rights Reserved.\n",
       " */\n",
       "\n",
       "const arm_data = {\"metrics\": [\"min_move\"], \"in_sample\": {\"control\": {\"name\": \"control\", \"parameters\": {\"lr\": 0.06, \"decay\": 0.002, \"epochs\": 70}, \"y\": {\"min_move\": 101.4}, \"y_hat\": {\"min_move\": 101.39999224556857}, \"se\": {\"min_move\": 0.0}, \"se_hat\": {\"min_move\": 0.004949172913454917}, \"context_stratum\": null}, \"1_0\": {\"name\": \"1_0\", \"parameters\": {\"lr\": 0.07839425700208687, \"decay\": 0.004649107668526686, \"epochs\": 71}, \"y\": {\"min_move\": 64.725}, \"y_hat\": {\"min_move\": 64.72500077859357}, \"se\": {\"min_move\": 0.0}, \"se_hat\": {\"min_move\": 0.004949178306498422}, \"context_stratum\": null}, \"2_0\": {\"name\": \"2_0\", \"parameters\": {\"lr\": 0.016511722904021142, \"decay\": 0.00041288715787430073, \"epochs\": 83}, \"y\": {\"min_move\": 54.45}, \"y_hat\": {\"min_move\": 54.45000173665885}, \"se\": {\"min_move\": 0.0}, \"se_hat\": {\"min_move\": 0.004949178311993115}, \"context_stratum\": null}, \"3_0\": {\"name\": \"3_0\", \"parameters\": {\"lr\": 0.007976956609636175, \"decay\": 0.0028356278671029336, \"epochs\": 45}, \"y\": {\"min_move\": 64.7}, \"y_hat\": {\"min_move\": 64.70000069029535}, \"se\": {\"min_move\": 0.0}, \"se_hat\": {\"min_move\": 0.004949178320235153}, \"context_stratum\": null}, \"4_0\": {\"name\": \"4_0\", \"parameters\": {\"lr\": 0.003719857998352154, \"decay\": 0.0006385193350709473, \"epochs\": 61}, \"y\": {\"min_move\": 61.675}, \"y_hat\": {\"min_move\": 61.6750010827531}, \"se\": {\"min_move\": 0.0}, \"se_hat\": {\"min_move\": 0.004949178317487807}, \"context_stratum\": null}, \"5_0\": {\"name\": \"5_0\", \"parameters\": {\"lr\": 0.018280684548419125, \"decay\": 0.0013376593059985793, \"epochs\": 28}, \"y\": {\"min_move\": 85.85}, \"y_hat\": {\"min_move\": 85.84999822377206}, \"se\": {\"min_move\": 0.0}, \"se_hat\": {\"min_move\": 0.004949178320235153}, \"context_stratum\": null}, \"6_0\": {\"name\": \"6_0\", \"parameters\": {\"lr\": 0.036598483632419736, \"decay\": 0.00012315357925586642, \"epochs\": 57}, \"y\": {\"min_move\": 57.125}, \"y_hat\": {\"min_move\": 57.12500157774513}, \"se\": {\"min_move\": 0.0}, \"se_hat\": {\"min_move\": 0.0049491783147404605}, \"context_stratum\": null}, \"7_0\": {\"name\": \"7_0\", \"parameters\": {\"lr\": 0.0017964235797745013, \"decay\": 0.009421615689971193, \"epochs\": 94}, \"y\": {\"min_move\": 62.5}, \"y_hat\": {\"min_move\": 62.500000950333984}, \"se\": {\"min_move\": 0.0}, \"se_hat\": {\"min_move\": 0.004949178317487807}, \"context_stratum\": null}, \"8_0\": {\"name\": \"8_0\", \"parameters\": {\"lr\": 0.0027460956900874065, \"decay\": 0.0005059898389563055, \"epochs\": 44}, \"y\": {\"min_move\": 61.475}, \"y_hat\": {\"min_move\": 61.47500106745963}, \"se\": {\"min_move\": 0.0}, \"se_hat\": {\"min_move\": 0.004949178320235153}, \"context_stratum\": null}, \"9_0\": {\"name\": \"9_0\", \"parameters\": {\"lr\": 0.0426709388481696, \"decay\": 0.002247218136513755, \"epochs\": 87}, \"y\": {\"min_move\": 87.2}, \"y_hat\": {\"min_move\": 87.19999725684383}, \"se\": {\"min_move\": 0.0}, \"se_hat\": {\"min_move\": 0.004949178188362534}, \"context_stratum\": null}, \"10_0\": {\"name\": \"10_0\", \"parameters\": {\"lr\": 0.02800566925168594, \"decay\": 0.0002677039277472593, \"epochs\": 78}, \"y\": {\"min_move\": 58.85}, \"y_hat\": {\"min_move\": 58.85000113017125}, \"se\": {\"min_move\": 0.0}, \"se_hat\": {\"min_move\": 0.004949178306498422}, \"context_stratum\": null}, \"11_0\": {\"name\": \"11_0\", \"parameters\": {\"lr\": 0.0685188376679517, \"decay\": 0.0016482494131049618, \"epochs\": 60}, \"y\": {\"min_move\": 80.475}, \"y_hat\": {\"min_move\": 80.47499938521004}, \"se\": {\"min_move\": 0.0}, \"se_hat\": {\"min_move\": 0.0049491782790249605}, \"context_stratum\": null}, \"12_0\": {\"name\": \"12_0\", \"parameters\": {\"lr\": 0.0697169377514626, \"decay\": 0.001987605498296668, \"epochs\": 75}, \"y\": {\"min_move\": 87.65}, \"y_hat\": {\"min_move\": 87.64999542663615}, \"se\": {\"min_move\": 0.0}, \"se_hat\": {\"min_move\": 0.004949177567462242}, \"context_stratum\": null}, \"13_0\": {\"name\": \"13_0\", \"parameters\": {\"lr\": 0.05441266281255867, \"decay\": 0.001897592002189751, \"epochs\": 73}, \"y\": {\"min_move\": 74.375}, \"y_hat\": {\"min_move\": 74.37500643677217}, \"se\": {\"min_move\": 0.0}, \"se_hat\": {\"min_move\": 0.00494917753724143}, \"context_stratum\": null}, \"14_0\": {\"name\": \"14_0\", \"parameters\": {\"lr\": 0.06593370364780642, \"decay\": 0.001681425245434636, \"epochs\": 69}, \"y\": {\"min_move\": 105.025}, \"y_hat\": {\"min_move\": 105.02498659395246}, \"se\": {\"min_move\": 0.0}, \"se_hat\": {\"min_move\": 0.004949166204423666}, \"context_stratum\": null}, \"15_0\": {\"name\": \"15_0\", \"parameters\": {\"lr\": 0.0370041853218101, \"decay\": 0.0017477292689809694, \"epochs\": 69}, \"y\": {\"min_move\": 96.7}, \"y_hat\": {\"min_move\": 96.69999793039085}, \"se\": {\"min_move\": 0.0}, \"se_hat\": {\"min_move\": 0.004949177416358177}, \"context_stratum\": null}, \"16_0\": {\"name\": \"16_0\", \"parameters\": {\"lr\": 0.09938492371943926, \"decay\": 0.0015626758209768153, \"epochs\": 70}, \"y\": {\"min_move\": 87.1}, \"y_hat\": {\"min_move\": 87.10000650343329}, \"se\": {\"min_move\": 0.0}, \"se_hat\": {\"min_move\": 0.004949177086676564}, \"context_stratum\": null}, \"17_0\": {\"name\": \"17_0\", \"parameters\": {\"lr\": 0.05809303501408004, \"decay\": 0.0020319116910216093, \"epochs\": 69}, \"y\": {\"min_move\": 98.5}, \"y_hat\": {\"min_move\": 98.50000889102017}, \"se\": {\"min_move\": 0.0}, \"se_hat\": {\"min_move\": 0.004949171319992134}, \"context_stratum\": null}, \"18_0\": {\"name\": \"18_0\", \"parameters\": {\"lr\": 0.06278539344348018, \"decay\": 0.0018074309146501322, \"epochs\": 68}, \"y\": {\"min_move\": 98.6}, \"y_hat\": {\"min_move\": 98.60000171039815}, \"se\": {\"min_move\": 0.0}, \"se_hat\": {\"min_move\": 0.004949173509629653}, \"context_stratum\": null}, \"19_0\": {\"name\": \"19_0\", \"parameters\": {\"lr\": 0.05581202297348793, \"decay\": 0.0014879180519567713, \"epochs\": 69}, \"y\": {\"min_move\": 100.0}, \"y_hat\": {\"min_move\": 100.00000817169158}, \"se\": {\"min_move\": 0.0}, \"se_hat\": {\"min_move\": 0.00494917464153725}, \"context_stratum\": null}, \"20_0\": {\"name\": \"20_0\", \"parameters\": {\"lr\": 0.06862525836312534, \"decay\": 0.0016138097700495336, \"epochs\": 70}, \"y\": {\"min_move\": 101.575}, \"y_hat\": {\"min_move\": 101.57499452613861}, \"se\": {\"min_move\": 0.0}, \"se_hat\": {\"min_move\": 0.004949171668905581}, \"context_stratum\": null}, \"21_0\": {\"name\": \"21_0\", \"parameters\": {\"lr\": 0.09373144497300952, \"decay\": 0.0021325495969080665, \"epochs\": 78}, \"y\": {\"min_move\": 93.475}, \"y_hat\": {\"min_move\": 93.47499702215218}, \"se\": {\"min_move\": 0.0}, \"se_hat\": {\"min_move\": 0.004949177844944241}, \"context_stratum\": null}, \"22_0\": {\"name\": \"22_0\", \"parameters\": {\"lr\": 0.1, \"decay\": 0.0014867706919937198, \"epochs\": 77}, \"y\": {\"min_move\": 91.375}, \"y_hat\": {\"min_move\": 91.37500010869738}, \"se\": {\"min_move\": 0.0}, \"se_hat\": {\"min_move\": 0.004949178029016449}, \"context_stratum\": null}, \"23_0\": {\"name\": \"23_0\", \"parameters\": {\"lr\": 0.05025995239891894, \"decay\": 0.0017713524339547954, \"epochs\": 78}, \"y\": {\"min_move\": 90.3}, \"y_hat\": {\"min_move\": 90.29999833539381}, \"se\": {\"min_move\": 0.0}, \"se_hat\": {\"min_move\": 0.004949178026269103}, \"context_stratum\": null}, \"24_0\": {\"name\": \"24_0\", \"parameters\": {\"lr\": 0.0689066000284994, \"decay\": 0.00198557475386927, \"epochs\": 82}, \"y\": {\"min_move\": 67.7}, \"y_hat\": {\"min_move\": 67.70000215190367}, \"se\": {\"min_move\": 0.0}, \"se_hat\": {\"min_move\": 0.004949178251551499}, \"context_stratum\": null}, \"25_0\": {\"name\": \"25_0\", \"parameters\": {\"lr\": 0.03293699870473663, \"decay\": 0.0024731563662717107, \"epochs\": 90}, \"y\": {\"min_move\": 74.625}, \"y_hat\": {\"min_move\": 74.62500085474323}, \"se\": {\"min_move\": 0.0}, \"se_hat\": {\"min_move\": 0.0049491782185833435}, \"context_stratum\": null}, \"26_0\": {\"name\": \"26_0\", \"parameters\": {\"lr\": 0.05811432304506772, \"decay\": 0.0027781964192298, \"epochs\": 77}, \"y\": {\"min_move\": 71.05}, \"y_hat\": {\"min_move\": 71.05000315044896}, \"se\": {\"min_move\": 0.0}, \"se_hat\": {\"min_move\": 0.004949178070226644}, \"context_stratum\": null}, \"27_0\": {\"name\": \"27_0\", \"parameters\": {\"lr\": 0.045972301814203344, \"decay\": 0.0013639257353456765, \"epochs\": 65}, \"y\": {\"min_move\": 95.15}, \"y_hat\": {\"min_move\": 95.14999956714875}, \"se\": {\"min_move\": 0.0}, \"se_hat\": {\"min_move\": 0.004949177836702202}, \"context_stratum\": null}, \"28_0\": {\"name\": \"28_0\", \"parameters\": {\"lr\": 0.09030546574920537, \"decay\": 0.0013564204087068111, \"epochs\": 65}, \"y\": {\"min_move\": 92.05}, \"y_hat\": {\"min_move\": 92.04999965938076}, \"se\": {\"min_move\": 0.0}, \"se_hat\": {\"min_move\": 0.004949178001542986}, \"context_stratum\": null}, \"29_0\": {\"name\": \"29_0\", \"parameters\": {\"lr\": 0.055816927378238644, \"decay\": 0.0010293252620656157, \"epochs\": 63}, \"y\": {\"min_move\": 91.75}, \"y_hat\": {\"min_move\": 91.74999955368857}, \"se\": {\"min_move\": 0.0}, \"se_hat\": {\"min_move\": 0.004949178067479298}, \"context_stratum\": null}, \"30_0\": {\"name\": \"30_0\", \"parameters\": {\"lr\": 0.05379056153462837, \"decay\": 0.0009920240891720343, \"epochs\": 66}, \"y\": {\"min_move\": 99.325}, \"y_hat\": {\"min_move\": 99.32499728077028}, \"se\": {\"min_move\": 0.0}, \"se_hat\": {\"min_move\": 0.004949177987806254}, \"context_stratum\": null}}, \"out_of_sample\": {}, \"status_quo_name\": null};\n",
       "const arm_name_to_parameters = {\"control\": {\"lr\": 0.06, \"decay\": 0.002, \"epochs\": 70}, \"1_0\": {\"lr\": 0.07839425700208687, \"decay\": 0.004649107668526686, \"epochs\": 71}, \"2_0\": {\"lr\": 0.016511722904021142, \"decay\": 0.00041288715787430073, \"epochs\": 83}, \"3_0\": {\"lr\": 0.007976956609636175, \"decay\": 0.0028356278671029336, \"epochs\": 45}, \"4_0\": {\"lr\": 0.003719857998352154, \"decay\": 0.0006385193350709473, \"epochs\": 61}, \"5_0\": {\"lr\": 0.018280684548419125, \"decay\": 0.0013376593059985793, \"epochs\": 28}, \"6_0\": {\"lr\": 0.036598483632419736, \"decay\": 0.00012315357925586642, \"epochs\": 57}, \"7_0\": {\"lr\": 0.0017964235797745013, \"decay\": 0.009421615689971193, \"epochs\": 94}, \"8_0\": {\"lr\": 0.0027460956900874065, \"decay\": 0.0005059898389563055, \"epochs\": 44}, \"9_0\": {\"lr\": 0.0426709388481696, \"decay\": 0.002247218136513755, \"epochs\": 87}, \"10_0\": {\"lr\": 0.02800566925168594, \"decay\": 0.0002677039277472593, \"epochs\": 78}, \"11_0\": {\"lr\": 0.0685188376679517, \"decay\": 0.0016482494131049618, \"epochs\": 60}, \"12_0\": {\"lr\": 0.0697169377514626, \"decay\": 0.001987605498296668, \"epochs\": 75}, \"13_0\": {\"lr\": 0.05441266281255867, \"decay\": 0.001897592002189751, \"epochs\": 73}, \"14_0\": {\"lr\": 0.06593370364780642, \"decay\": 0.001681425245434636, \"epochs\": 69}, \"15_0\": {\"lr\": 0.0370041853218101, \"decay\": 0.0017477292689809694, \"epochs\": 69}, \"16_0\": {\"lr\": 0.09938492371943926, \"decay\": 0.0015626758209768153, \"epochs\": 70}, \"17_0\": {\"lr\": 0.05809303501408004, \"decay\": 0.0020319116910216093, \"epochs\": 69}, \"18_0\": {\"lr\": 0.06278539344348018, \"decay\": 0.0018074309146501322, \"epochs\": 68}, \"19_0\": {\"lr\": 0.05581202297348793, \"decay\": 0.0014879180519567713, \"epochs\": 69}, \"20_0\": {\"lr\": 0.06862525836312534, \"decay\": 0.0016138097700495336, \"epochs\": 70}, \"21_0\": {\"lr\": 0.09373144497300952, \"decay\": 0.0021325495969080665, \"epochs\": 78}, \"22_0\": {\"lr\": 0.1, \"decay\": 0.0014867706919937198, \"epochs\": 77}, \"23_0\": {\"lr\": 0.05025995239891894, \"decay\": 0.0017713524339547954, \"epochs\": 78}, \"24_0\": {\"lr\": 0.0689066000284994, \"decay\": 0.00198557475386927, \"epochs\": 82}, \"25_0\": {\"lr\": 0.03293699870473663, \"decay\": 0.0024731563662717107, \"epochs\": 90}, \"26_0\": {\"lr\": 0.05811432304506772, \"decay\": 0.0027781964192298, \"epochs\": 77}, \"27_0\": {\"lr\": 0.045972301814203344, \"decay\": 0.0013639257353456765, \"epochs\": 65}, \"28_0\": {\"lr\": 0.09030546574920537, \"decay\": 0.0013564204087068111, \"epochs\": 65}, \"29_0\": {\"lr\": 0.055816927378238644, \"decay\": 0.0010293252620656157, \"epochs\": 63}, \"30_0\": {\"lr\": 0.05379056153462837, \"decay\": 0.0009920240891720343, \"epochs\": 66}};\n",
       "const f = [70.48275471442443, 70.46275146748702, 70.44338845161289, 70.42605806348413, 70.4127883476725, 70.40644687898262, 70.41096335788352, 70.43156342248392, 70.47501607078672, 70.54991081357126, 70.66698919668019, 70.83954487286191, 71.08386246811187, 71.41957846603616, 71.86971746185252, 72.45999825768932, 73.21685045737985, 74.16350589186901, 75.31367955624874, 76.66301539651074, 78.18010174411664, 79.80197338499954, 81.44350316922058, 83.03326659779384, 84.58213890778286, 86.2635780489182, 88.4406641954934, 91.55086271010092, 95.77731277298936, 100.45536723309748, 103.4057622753929, 102.34250106281905, 97.67625295456826, 91.61655484352816, 85.73150859356484, 80.64271295831465, 76.50638988918357, 73.26951901135646, 70.81338518845, 69.0277019477901, 67.83264042939861, 67.16425633288198, 66.94544816560925, 67.07120236986123, 67.42102336052649, 67.88350168079496, 68.37332924487943, 68.83540396158864, 69.2404805790448, 69.57785020357802];\n",
       "const fit_data = [{\"metric_name\": \"min_move\", \"arm_name\": \"control\", \"mean\": 101.4, \"sem\": 0.0}, {\"metric_name\": \"min_move\", \"arm_name\": \"1_0\", \"mean\": 64.725, \"sem\": 0.0}, {\"metric_name\": \"min_move\", \"arm_name\": \"2_0\", \"mean\": 54.45, \"sem\": 0.0}, {\"metric_name\": \"min_move\", \"arm_name\": \"3_0\", \"mean\": 64.7, \"sem\": 0.0}, {\"metric_name\": \"min_move\", \"arm_name\": \"4_0\", \"mean\": 61.675, \"sem\": 0.0}, {\"metric_name\": \"min_move\", \"arm_name\": \"5_0\", \"mean\": 85.85, \"sem\": 0.0}, {\"metric_name\": \"min_move\", \"arm_name\": \"6_0\", \"mean\": 57.125, \"sem\": 0.0}, {\"metric_name\": \"min_move\", \"arm_name\": \"7_0\", \"mean\": 62.5, \"sem\": 0.0}, {\"metric_name\": \"min_move\", \"arm_name\": \"8_0\", \"mean\": 61.475, \"sem\": 0.0}, {\"metric_name\": \"min_move\", \"arm_name\": \"9_0\", \"mean\": 87.2, \"sem\": 0.0}, {\"metric_name\": \"min_move\", \"arm_name\": \"10_0\", \"mean\": 58.85, \"sem\": 0.0}, {\"metric_name\": \"min_move\", \"arm_name\": \"11_0\", \"mean\": 80.475, \"sem\": 0.0}, {\"metric_name\": \"min_move\", \"arm_name\": \"12_0\", \"mean\": 87.65, \"sem\": 0.0}, {\"metric_name\": \"min_move\", \"arm_name\": \"13_0\", \"mean\": 74.375, \"sem\": 0.0}, {\"metric_name\": \"min_move\", \"arm_name\": \"14_0\", \"mean\": 105.025, \"sem\": 0.0}, {\"metric_name\": \"min_move\", \"arm_name\": \"15_0\", \"mean\": 96.7, \"sem\": 0.0}, {\"metric_name\": \"min_move\", \"arm_name\": \"16_0\", \"mean\": 87.1, \"sem\": 0.0}, {\"metric_name\": \"min_move\", \"arm_name\": \"17_0\", \"mean\": 98.5, \"sem\": 0.0}, {\"metric_name\": \"min_move\", \"arm_name\": \"18_0\", \"mean\": 98.6, \"sem\": 0.0}, {\"metric_name\": \"min_move\", \"arm_name\": \"19_0\", \"mean\": 100.0, \"sem\": 0.0}, {\"metric_name\": \"min_move\", \"arm_name\": \"20_0\", \"mean\": 101.575, \"sem\": 0.0}, {\"metric_name\": \"min_move\", \"arm_name\": \"21_0\", \"mean\": 93.475, \"sem\": 0.0}, {\"metric_name\": \"min_move\", \"arm_name\": \"22_0\", \"mean\": 91.375, \"sem\": 0.0}, {\"metric_name\": \"min_move\", \"arm_name\": \"23_0\", \"mean\": 90.3, \"sem\": 0.0}, {\"metric_name\": \"min_move\", \"arm_name\": \"24_0\", \"mean\": 67.7, \"sem\": 0.0}, {\"metric_name\": \"min_move\", \"arm_name\": \"25_0\", \"mean\": 74.625, \"sem\": 0.0}, {\"metric_name\": \"min_move\", \"arm_name\": \"26_0\", \"mean\": 71.05, \"sem\": 0.0}, {\"metric_name\": \"min_move\", \"arm_name\": \"27_0\", \"mean\": 95.15, \"sem\": 0.0}, {\"metric_name\": \"min_move\", \"arm_name\": \"28_0\", \"mean\": 92.05, \"sem\": 0.0}, {\"metric_name\": \"min_move\", \"arm_name\": \"29_0\", \"mean\": 91.75, \"sem\": 0.0}, {\"metric_name\": \"min_move\", \"arm_name\": \"30_0\", \"mean\": 99.325, \"sem\": 0.0}];\n",
       "const grid = [0.0001, 0.00010985411419875583, 0.00012067926406393288, 0.00013257113655901095, 0.00014563484775012445, 0.00015998587196060574, 0.00017575106248547912, 0.00019306977288832496, 0.00021209508879201905, 0.00023299518105153718, 0.0002559547922699536, 0.0002811768697974231, 0.00030888435964774815, 0.000339322177189533, 0.0003727593720314938, 0.0004094915062380423, 0.0004498432668969444, 0.0004941713361323833, 0.0005428675439323859, 0.0005963623316594642, 0.0006551285568595509, 0.0007196856730011522, 0.0007906043210907702, 0.000868511373751352, 0.0009540954763499944, 0.0010481131341546852, 0.0011513953993264468, 0.0012648552168552957, 0.0013894954943731374, 0.0015264179671752333, 0.0016768329368110067, 0.0018420699693267163, 0.0020235896477251557, 0.0022229964825261957, 0.0024420530945486497, 0.0026826957952797246, 0.0029470517025518097, 0.0032374575428176433, 0.0035564803062231283, 0.003906939937054613, 0.004291934260128779, 0.00471486636345739, 0.005179474679231213, 0.005689866029018293, 0.0062505519252739694, 0.006866488450042998, 0.007543120063354615, 0.008286427728546842, 0.009102981779915217, 0.01];\n",
       "const metric = \"min_move\";\n",
       "const param = \"decay\";\n",
       "const rel = false;\n",
       "const setx = {\"lr\": 0.05118782665826977, \"decay\": 0.0019121008368128119, \"epochs\": 69};\n",
       "const sd = [14.482820447034834, 14.482523821167948, 14.48212007591611, 14.481584799383663, 14.48090105815999, 14.480066702196545, 14.479097674086416, 14.478019541579028, 14.476836715076413, 14.475466601371537, 14.47362273188623, 14.470623138983061, 14.465084284063416, 14.454437551784594, 14.434186667898151, 14.396840097741332, 14.33055425238713, 14.217778541625739, 14.03464516035277, 13.752393616852775, 13.342252230992148, 12.783614697403822, 12.070096930931152, 11.199776354110567, 10.137144662220239, 8.769310253150485, 6.9320674056457765, 4.566826331420945, 2.019273994145422, 1.1488779877689634, 1.9003154420174093, 1.960190106370858, 1.6352521257778723, 3.198765050484018, 5.839413858911671, 8.210526756666662, 9.911374114816793, 10.885687240191046, 11.242053150874492, 11.193208320612069, 11.027514583732478, 11.032994014193525, 11.355819042271985, 11.931524456335802, 12.587221070005338, 13.178999991778863, 13.640707959080988, 13.966503916544251, 14.179887281291634, 14.311720706117972];\n",
       "const is_log = true;\n",
       "\n",
       "// format data\n",
       "const res = relativize_data(f, sd, rel, arm_data, metric);\n",
       "const f_final = res[0];\n",
       "const sd_final = res[1];\n",
       "\n",
       "// get data for standard deviation fill plot\n",
       "const sd_upper = [];\n",
       "const sd_lower = [];\n",
       "for (let i = 0; i < sd.length; i++) {\n",
       "  sd_upper.push(f_final[i] + 2 * sd_final[i]);\n",
       "  sd_lower.push(f_final[i] - 2 * sd_final[i]);\n",
       "}\n",
       "const grid_rev = copy_and_reverse(grid);\n",
       "const sd_lower_rev = copy_and_reverse(sd_lower);\n",
       "const sd_x = grid.concat(grid_rev);\n",
       "const sd_y = sd_upper.concat(sd_lower_rev);\n",
       "\n",
       "// get data for observed arms and error bars\n",
       "const arm_x = [];\n",
       "const arm_y = [];\n",
       "const arm_sem = [];\n",
       "fit_data.forEach(row => {\n",
       "    parameters = arm_name_to_parameters[row[\"arm_name\"]];\n",
       "    plot = true;\n",
       "    Object.keys(setx).forEach(p => {\n",
       "      if (p !== param && parameters[p] !== setx[p]) {\n",
       "        plot = false;\n",
       "      }\n",
       "    });\n",
       "    if (plot === true) {\n",
       "        arm_x.push(parameters[param]);\n",
       "        arm_y.push(row[\"mean\"]);\n",
       "        arm_sem.push(row[\"sem\"]);\n",
       "    }\n",
       "});\n",
       "\n",
       "const arm_res = relativize_data(\n",
       "  arm_y, arm_sem, rel, arm_data, metric\n",
       ");\n",
       "const arm_y_final = arm_res[0];\n",
       "const arm_sem_final = arm_res[1].map(x => x * 2);\n",
       "\n",
       "// create traces\n",
       "const f_trace = {\n",
       "  x: grid,\n",
       "  y: f_final,\n",
       "  showlegend: false,\n",
       "  hoverinfo: 'x+y',\n",
       "  line: {\n",
       "    color: 'rgba(128, 177, 211, 1)',\n",
       "  },\n",
       "};\n",
       "\n",
       "const arms_trace = {\n",
       "  x: arm_x,\n",
       "  y: arm_y_final,\n",
       "  mode: 'markers',\n",
       "  error_y: {\n",
       "    type: 'data',\n",
       "    array: arm_sem_final,\n",
       "    visible: true,\n",
       "    color: 'black',\n",
       "  },\n",
       "  line: {\n",
       "    color: 'black',\n",
       "  },\n",
       "  showlegend: false,\n",
       "  hoverinfo: 'x+y',\n",
       "};\n",
       "\n",
       "const sd_trace = {\n",
       "    x: sd_x,\n",
       "    y: sd_y,\n",
       "    fill: 'toself',\n",
       "    fillcolor: 'rgba(128, 177, 211, 0.2)',\n",
       "    line: {\n",
       "      color: 'transparent',\n",
       "    },\n",
       "    showlegend: false,\n",
       "    hoverinfo: 'none',\n",
       "};\n",
       "\n",
       "traces = [\n",
       "  sd_trace,\n",
       "  f_trace,\n",
       "  arms_trace,\n",
       "];\n",
       "\n",
       "// iterate over out-of-sample arms\n",
       "let i = 1;\n",
       "Object.keys(arm_data['out_of_sample']).forEach(generator_run_name => {\n",
       "  const ax = [];\n",
       "  const ay = [];\n",
       "  const asem = [];\n",
       "  const atext = [];\n",
       "\n",
       "  Object.keys(arm_data['out_of_sample'][generator_run_name]).forEach(arm_name => {\n",
       "    const parameters = arm_data[\n",
       "      'out_of_sample'][generator_run_name][arm_name]['parameters'];\n",
       "    plot = true;\n",
       "    Object.keys(setx).forEach(p => {\n",
       "      if (p !== param && parameters[p] !== setx[p]) {\n",
       "        plot = false;\n",
       "      }\n",
       "    });\n",
       "    if (plot === true) {\n",
       "      ax.push(parameters[param]);\n",
       "      ay.push(\n",
       "        arm_data['out_of_sample'][generator_run_name][arm_name]['y_hat'][metric]\n",
       "      );\n",
       "      asem.push(\n",
       "        arm_data['out_of_sample'][generator_run_name][arm_name]['se_hat'][metric]\n",
       "      );\n",
       "      atext.push('<em>Candidate ' + arm_name + '</em>');\n",
       "    }\n",
       "  });\n",
       "\n",
       "  const out_of_sample_arm_res = relativize_data(\n",
       "    ay, asem, rel, arm_data, metric\n",
       "  );\n",
       "  const ay_final = out_of_sample_arm_res[0];\n",
       "  const asem_final = out_of_sample_arm_res[1].map(x => x * 2);\n",
       "\n",
       "  traces.push({\n",
       "    hoverinfo: 'text',\n",
       "    legendgroup: generator_run_name,\n",
       "    marker: {color: 'black', symbol: i, opacity: 0.5},\n",
       "    mode: 'markers',\n",
       "    error_y: {\n",
       "      type: 'data',\n",
       "      array: asem_final,\n",
       "      visible: true,\n",
       "      color: 'black',\n",
       "    },\n",
       "    name: generator_run_name,\n",
       "    text: atext,\n",
       "    type: 'scatter',\n",
       "    xaxis: 'x',\n",
       "    x: ax,\n",
       "    yaxis: 'y',\n",
       "    y: ay_final,\n",
       "  });\n",
       "\n",
       "  i += 1;\n",
       "});\n",
       "\n",
       "// layout\n",
       "const xrange = axis_range(grid, is_log);\n",
       "const xtype = is_log ? 'log' : 'linear';\n",
       "\n",
       "layout = {\n",
       "  hovermode: 'closest',\n",
       "  xaxis: {\n",
       "    anchor: 'y',\n",
       "    autorange: false,\n",
       "    exponentformat: 'e',\n",
       "    range: xrange,\n",
       "    tickfont: {size: 11},\n",
       "    tickmode: 'auto',\n",
       "    title: param,\n",
       "    type: xtype,\n",
       "  },\n",
       "  yaxis: {\n",
       "    anchor: 'x',\n",
       "    tickfont: {size: 11},\n",
       "    tickmode: 'auto',\n",
       "    title: metric,\n",
       "  },\n",
       "};\n",
       "\n",
       "Plotly.newPlot(\n",
       "    \"b66d99516e374ef796cae58566e9a7d3\",\n",
       "    traces,\n",
       "    layout,\n",
       "    {showLink: false},\n",
       ");\n",
       "});</script>"
      ]
     },
     "metadata": {},
     "output_type": "display_data"
    }
   ],
   "source": [
    "render(plot_slice(model=gpei, param_name='decay', metric_name='min_move'))"
   ]
  },
  {
   "cell_type": "code",
   "execution_count": 24,
   "metadata": {
    "pycharm": {
     "name": "#%%\n"
    },
    "scrolled": false
   },
   "outputs": [
    {
     "data": {
      "text/html": [
       "<div id=\"7d55a7d587674b5c94237d17a55d4239\" style=\"width: 100%;\" class=\"plotly-graph-div\"></div><script type='text/javascript'>/*\n",
       " * Copyright (c) Facebook, Inc. and its affiliates. All Rights Reserved.\n",
       " */\n",
       "\n",
       "require(['plotly'], function(Plotly) {\n",
       "  window.PLOTLYENV = window.PLOTLYENV || {};\n",
       "  window.PLOTLYENV.BASE_URL = 'https://plot.ly';\n",
       "  /*\n",
       " * Copyright (c) Facebook, Inc. and its affiliates. All Rights Reserved.\n",
       " */\n",
       "\n",
       "const arm_data = {\"metrics\": [\"min_move\"], \"in_sample\": {\"control\": {\"name\": \"control\", \"parameters\": {\"lr\": 0.06, \"decay\": 0.002, \"epochs\": 70}, \"y\": {\"min_move\": 101.4}, \"y_hat\": {\"min_move\": 101.39999224556857}, \"se\": {\"min_move\": 0.0}, \"se_hat\": {\"min_move\": 0.004949172913454917}, \"context_stratum\": null}, \"1_0\": {\"name\": \"1_0\", \"parameters\": {\"lr\": 0.07839425700208687, \"decay\": 0.004649107668526686, \"epochs\": 71}, \"y\": {\"min_move\": 64.725}, \"y_hat\": {\"min_move\": 64.72500077859357}, \"se\": {\"min_move\": 0.0}, \"se_hat\": {\"min_move\": 0.004949178306498422}, \"context_stratum\": null}, \"2_0\": {\"name\": \"2_0\", \"parameters\": {\"lr\": 0.016511722904021142, \"decay\": 0.00041288715787430073, \"epochs\": 83}, \"y\": {\"min_move\": 54.45}, \"y_hat\": {\"min_move\": 54.45000173665885}, \"se\": {\"min_move\": 0.0}, \"se_hat\": {\"min_move\": 0.004949178311993115}, \"context_stratum\": null}, \"3_0\": {\"name\": \"3_0\", \"parameters\": {\"lr\": 0.007976956609636175, \"decay\": 0.0028356278671029336, \"epochs\": 45}, \"y\": {\"min_move\": 64.7}, \"y_hat\": {\"min_move\": 64.70000069029535}, \"se\": {\"min_move\": 0.0}, \"se_hat\": {\"min_move\": 0.004949178320235153}, \"context_stratum\": null}, \"4_0\": {\"name\": \"4_0\", \"parameters\": {\"lr\": 0.003719857998352154, \"decay\": 0.0006385193350709473, \"epochs\": 61}, \"y\": {\"min_move\": 61.675}, \"y_hat\": {\"min_move\": 61.6750010827531}, \"se\": {\"min_move\": 0.0}, \"se_hat\": {\"min_move\": 0.004949178317487807}, \"context_stratum\": null}, \"5_0\": {\"name\": \"5_0\", \"parameters\": {\"lr\": 0.018280684548419125, \"decay\": 0.0013376593059985793, \"epochs\": 28}, \"y\": {\"min_move\": 85.85}, \"y_hat\": {\"min_move\": 85.84999822377206}, \"se\": {\"min_move\": 0.0}, \"se_hat\": {\"min_move\": 0.004949178320235153}, \"context_stratum\": null}, \"6_0\": {\"name\": \"6_0\", \"parameters\": {\"lr\": 0.036598483632419736, \"decay\": 0.00012315357925586642, \"epochs\": 57}, \"y\": {\"min_move\": 57.125}, \"y_hat\": {\"min_move\": 57.12500157774513}, \"se\": {\"min_move\": 0.0}, \"se_hat\": {\"min_move\": 0.0049491783147404605}, \"context_stratum\": null}, \"7_0\": {\"name\": \"7_0\", \"parameters\": {\"lr\": 0.0017964235797745013, \"decay\": 0.009421615689971193, \"epochs\": 94}, \"y\": {\"min_move\": 62.5}, \"y_hat\": {\"min_move\": 62.500000950333984}, \"se\": {\"min_move\": 0.0}, \"se_hat\": {\"min_move\": 0.004949178317487807}, \"context_stratum\": null}, \"8_0\": {\"name\": \"8_0\", \"parameters\": {\"lr\": 0.0027460956900874065, \"decay\": 0.0005059898389563055, \"epochs\": 44}, \"y\": {\"min_move\": 61.475}, \"y_hat\": {\"min_move\": 61.47500106745963}, \"se\": {\"min_move\": 0.0}, \"se_hat\": {\"min_move\": 0.004949178320235153}, \"context_stratum\": null}, \"9_0\": {\"name\": \"9_0\", \"parameters\": {\"lr\": 0.0426709388481696, \"decay\": 0.002247218136513755, \"epochs\": 87}, \"y\": {\"min_move\": 87.2}, \"y_hat\": {\"min_move\": 87.19999725684383}, \"se\": {\"min_move\": 0.0}, \"se_hat\": {\"min_move\": 0.004949178188362534}, \"context_stratum\": null}, \"10_0\": {\"name\": \"10_0\", \"parameters\": {\"lr\": 0.02800566925168594, \"decay\": 0.0002677039277472593, \"epochs\": 78}, \"y\": {\"min_move\": 58.85}, \"y_hat\": {\"min_move\": 58.85000113017125}, \"se\": {\"min_move\": 0.0}, \"se_hat\": {\"min_move\": 0.004949178306498422}, \"context_stratum\": null}, \"11_0\": {\"name\": \"11_0\", \"parameters\": {\"lr\": 0.0685188376679517, \"decay\": 0.0016482494131049618, \"epochs\": 60}, \"y\": {\"min_move\": 80.475}, \"y_hat\": {\"min_move\": 80.47499938521004}, \"se\": {\"min_move\": 0.0}, \"se_hat\": {\"min_move\": 0.0049491782790249605}, \"context_stratum\": null}, \"12_0\": {\"name\": \"12_0\", \"parameters\": {\"lr\": 0.0697169377514626, \"decay\": 0.001987605498296668, \"epochs\": 75}, \"y\": {\"min_move\": 87.65}, \"y_hat\": {\"min_move\": 87.64999542663615}, \"se\": {\"min_move\": 0.0}, \"se_hat\": {\"min_move\": 0.004949177567462242}, \"context_stratum\": null}, \"13_0\": {\"name\": \"13_0\", \"parameters\": {\"lr\": 0.05441266281255867, \"decay\": 0.001897592002189751, \"epochs\": 73}, \"y\": {\"min_move\": 74.375}, \"y_hat\": {\"min_move\": 74.37500643677217}, \"se\": {\"min_move\": 0.0}, \"se_hat\": {\"min_move\": 0.00494917753724143}, \"context_stratum\": null}, \"14_0\": {\"name\": \"14_0\", \"parameters\": {\"lr\": 0.06593370364780642, \"decay\": 0.001681425245434636, \"epochs\": 69}, \"y\": {\"min_move\": 105.025}, \"y_hat\": {\"min_move\": 105.02498659395246}, \"se\": {\"min_move\": 0.0}, \"se_hat\": {\"min_move\": 0.004949166204423666}, \"context_stratum\": null}, \"15_0\": {\"name\": \"15_0\", \"parameters\": {\"lr\": 0.0370041853218101, \"decay\": 0.0017477292689809694, \"epochs\": 69}, \"y\": {\"min_move\": 96.7}, \"y_hat\": {\"min_move\": 96.69999793039085}, \"se\": {\"min_move\": 0.0}, \"se_hat\": {\"min_move\": 0.004949177416358177}, \"context_stratum\": null}, \"16_0\": {\"name\": \"16_0\", \"parameters\": {\"lr\": 0.09938492371943926, \"decay\": 0.0015626758209768153, \"epochs\": 70}, \"y\": {\"min_move\": 87.1}, \"y_hat\": {\"min_move\": 87.10000650343329}, \"se\": {\"min_move\": 0.0}, \"se_hat\": {\"min_move\": 0.004949177086676564}, \"context_stratum\": null}, \"17_0\": {\"name\": \"17_0\", \"parameters\": {\"lr\": 0.05809303501408004, \"decay\": 0.0020319116910216093, \"epochs\": 69}, \"y\": {\"min_move\": 98.5}, \"y_hat\": {\"min_move\": 98.50000889102017}, \"se\": {\"min_move\": 0.0}, \"se_hat\": {\"min_move\": 0.004949171319992134}, \"context_stratum\": null}, \"18_0\": {\"name\": \"18_0\", \"parameters\": {\"lr\": 0.06278539344348018, \"decay\": 0.0018074309146501322, \"epochs\": 68}, \"y\": {\"min_move\": 98.6}, \"y_hat\": {\"min_move\": 98.60000171039815}, \"se\": {\"min_move\": 0.0}, \"se_hat\": {\"min_move\": 0.004949173509629653}, \"context_stratum\": null}, \"19_0\": {\"name\": \"19_0\", \"parameters\": {\"lr\": 0.05581202297348793, \"decay\": 0.0014879180519567713, \"epochs\": 69}, \"y\": {\"min_move\": 100.0}, \"y_hat\": {\"min_move\": 100.00000817169158}, \"se\": {\"min_move\": 0.0}, \"se_hat\": {\"min_move\": 0.00494917464153725}, \"context_stratum\": null}, \"20_0\": {\"name\": \"20_0\", \"parameters\": {\"lr\": 0.06862525836312534, \"decay\": 0.0016138097700495336, \"epochs\": 70}, \"y\": {\"min_move\": 101.575}, \"y_hat\": {\"min_move\": 101.57499452613861}, \"se\": {\"min_move\": 0.0}, \"se_hat\": {\"min_move\": 0.004949171668905581}, \"context_stratum\": null}, \"21_0\": {\"name\": \"21_0\", \"parameters\": {\"lr\": 0.09373144497300952, \"decay\": 0.0021325495969080665, \"epochs\": 78}, \"y\": {\"min_move\": 93.475}, \"y_hat\": {\"min_move\": 93.47499702215218}, \"se\": {\"min_move\": 0.0}, \"se_hat\": {\"min_move\": 0.004949177844944241}, \"context_stratum\": null}, \"22_0\": {\"name\": \"22_0\", \"parameters\": {\"lr\": 0.1, \"decay\": 0.0014867706919937198, \"epochs\": 77}, \"y\": {\"min_move\": 91.375}, \"y_hat\": {\"min_move\": 91.37500010869738}, \"se\": {\"min_move\": 0.0}, \"se_hat\": {\"min_move\": 0.004949178029016449}, \"context_stratum\": null}, \"23_0\": {\"name\": \"23_0\", \"parameters\": {\"lr\": 0.05025995239891894, \"decay\": 0.0017713524339547954, \"epochs\": 78}, \"y\": {\"min_move\": 90.3}, \"y_hat\": {\"min_move\": 90.29999833539381}, \"se\": {\"min_move\": 0.0}, \"se_hat\": {\"min_move\": 0.004949178026269103}, \"context_stratum\": null}, \"24_0\": {\"name\": \"24_0\", \"parameters\": {\"lr\": 0.0689066000284994, \"decay\": 0.00198557475386927, \"epochs\": 82}, \"y\": {\"min_move\": 67.7}, \"y_hat\": {\"min_move\": 67.70000215190367}, \"se\": {\"min_move\": 0.0}, \"se_hat\": {\"min_move\": 0.004949178251551499}, \"context_stratum\": null}, \"25_0\": {\"name\": \"25_0\", \"parameters\": {\"lr\": 0.03293699870473663, \"decay\": 0.0024731563662717107, \"epochs\": 90}, \"y\": {\"min_move\": 74.625}, \"y_hat\": {\"min_move\": 74.62500085474323}, \"se\": {\"min_move\": 0.0}, \"se_hat\": {\"min_move\": 0.0049491782185833435}, \"context_stratum\": null}, \"26_0\": {\"name\": \"26_0\", \"parameters\": {\"lr\": 0.05811432304506772, \"decay\": 0.0027781964192298, \"epochs\": 77}, \"y\": {\"min_move\": 71.05}, \"y_hat\": {\"min_move\": 71.05000315044896}, \"se\": {\"min_move\": 0.0}, \"se_hat\": {\"min_move\": 0.004949178070226644}, \"context_stratum\": null}, \"27_0\": {\"name\": \"27_0\", \"parameters\": {\"lr\": 0.045972301814203344, \"decay\": 0.0013639257353456765, \"epochs\": 65}, \"y\": {\"min_move\": 95.15}, \"y_hat\": {\"min_move\": 95.14999956714875}, \"se\": {\"min_move\": 0.0}, \"se_hat\": {\"min_move\": 0.004949177836702202}, \"context_stratum\": null}, \"28_0\": {\"name\": \"28_0\", \"parameters\": {\"lr\": 0.09030546574920537, \"decay\": 0.0013564204087068111, \"epochs\": 65}, \"y\": {\"min_move\": 92.05}, \"y_hat\": {\"min_move\": 92.04999965938076}, \"se\": {\"min_move\": 0.0}, \"se_hat\": {\"min_move\": 0.004949178001542986}, \"context_stratum\": null}, \"29_0\": {\"name\": \"29_0\", \"parameters\": {\"lr\": 0.055816927378238644, \"decay\": 0.0010293252620656157, \"epochs\": 63}, \"y\": {\"min_move\": 91.75}, \"y_hat\": {\"min_move\": 91.74999955368857}, \"se\": {\"min_move\": 0.0}, \"se_hat\": {\"min_move\": 0.004949178067479298}, \"context_stratum\": null}, \"30_0\": {\"name\": \"30_0\", \"parameters\": {\"lr\": 0.05379056153462837, \"decay\": 0.0009920240891720343, \"epochs\": 66}, \"y\": {\"min_move\": 99.325}, \"y_hat\": {\"min_move\": 99.32499728077028}, \"se\": {\"min_move\": 0.0}, \"se_hat\": {\"min_move\": 0.004949177987806254}, \"context_stratum\": null}}, \"out_of_sample\": {}, \"status_quo_name\": null};\n",
       "const arm_name_to_parameters = {\"control\": {\"lr\": 0.06, \"decay\": 0.002, \"epochs\": 70}, \"1_0\": {\"lr\": 0.07839425700208687, \"decay\": 0.004649107668526686, \"epochs\": 71}, \"2_0\": {\"lr\": 0.016511722904021142, \"decay\": 0.00041288715787430073, \"epochs\": 83}, \"3_0\": {\"lr\": 0.007976956609636175, \"decay\": 0.0028356278671029336, \"epochs\": 45}, \"4_0\": {\"lr\": 0.003719857998352154, \"decay\": 0.0006385193350709473, \"epochs\": 61}, \"5_0\": {\"lr\": 0.018280684548419125, \"decay\": 0.0013376593059985793, \"epochs\": 28}, \"6_0\": {\"lr\": 0.036598483632419736, \"decay\": 0.00012315357925586642, \"epochs\": 57}, \"7_0\": {\"lr\": 0.0017964235797745013, \"decay\": 0.009421615689971193, \"epochs\": 94}, \"8_0\": {\"lr\": 0.0027460956900874065, \"decay\": 0.0005059898389563055, \"epochs\": 44}, \"9_0\": {\"lr\": 0.0426709388481696, \"decay\": 0.002247218136513755, \"epochs\": 87}, \"10_0\": {\"lr\": 0.02800566925168594, \"decay\": 0.0002677039277472593, \"epochs\": 78}, \"11_0\": {\"lr\": 0.0685188376679517, \"decay\": 0.0016482494131049618, \"epochs\": 60}, \"12_0\": {\"lr\": 0.0697169377514626, \"decay\": 0.001987605498296668, \"epochs\": 75}, \"13_0\": {\"lr\": 0.05441266281255867, \"decay\": 0.001897592002189751, \"epochs\": 73}, \"14_0\": {\"lr\": 0.06593370364780642, \"decay\": 0.001681425245434636, \"epochs\": 69}, \"15_0\": {\"lr\": 0.0370041853218101, \"decay\": 0.0017477292689809694, \"epochs\": 69}, \"16_0\": {\"lr\": 0.09938492371943926, \"decay\": 0.0015626758209768153, \"epochs\": 70}, \"17_0\": {\"lr\": 0.05809303501408004, \"decay\": 0.0020319116910216093, \"epochs\": 69}, \"18_0\": {\"lr\": 0.06278539344348018, \"decay\": 0.0018074309146501322, \"epochs\": 68}, \"19_0\": {\"lr\": 0.05581202297348793, \"decay\": 0.0014879180519567713, \"epochs\": 69}, \"20_0\": {\"lr\": 0.06862525836312534, \"decay\": 0.0016138097700495336, \"epochs\": 70}, \"21_0\": {\"lr\": 0.09373144497300952, \"decay\": 0.0021325495969080665, \"epochs\": 78}, \"22_0\": {\"lr\": 0.1, \"decay\": 0.0014867706919937198, \"epochs\": 77}, \"23_0\": {\"lr\": 0.05025995239891894, \"decay\": 0.0017713524339547954, \"epochs\": 78}, \"24_0\": {\"lr\": 0.0689066000284994, \"decay\": 0.00198557475386927, \"epochs\": 82}, \"25_0\": {\"lr\": 0.03293699870473663, \"decay\": 0.0024731563662717107, \"epochs\": 90}, \"26_0\": {\"lr\": 0.05811432304506772, \"decay\": 0.0027781964192298, \"epochs\": 77}, \"27_0\": {\"lr\": 0.045972301814203344, \"decay\": 0.0013639257353456765, \"epochs\": 65}, \"28_0\": {\"lr\": 0.09030546574920537, \"decay\": 0.0013564204087068111, \"epochs\": 65}, \"29_0\": {\"lr\": 0.055816927378238644, \"decay\": 0.0010293252620656157, \"epochs\": 63}, \"30_0\": {\"lr\": 0.05379056153462837, \"decay\": 0.0009920240891720343, \"epochs\": 66}};\n",
       "const f = [71.11977794513159, 71.62470621266436, 72.47985422235482, 73.65893546553113, 74.79151251446538, 75.21054076401876, 74.59791069745489, 73.40264705469845, 72.26454044450217, 71.46851240241834, 70.99089560109508, 70.70941296191226, 70.51796978035526, 70.35980790313188, 70.23026909434687, 70.16127727707757, 70.18337254775884, 70.29224306227039, 70.46166036004234, 70.69231659990865, 71.05501872909952, 71.71555061747728, 72.92651106784474, 74.8914075880602, 77.35805683718799, 79.46640444663241, 81.20863242334599, 83.24123874569645, 85.95817159214334, 91.56937039928351, 100.71576031025867, 97.76627062982553, 78.69088030278627, 74.47969089395876, 84.8095046714266, 90.18073656924696, 86.29520845758337, 75.80483092818022, 68.7212285930666, 71.40531688615157, 79.44523961019812, 84.56994352639155, 81.84360656475322, 76.00070666529112, 72.21171114974021, 70.78452902074407, 70.46763959194593, 70.48209513423707, 70.54620721379385, 70.59279147360986];\n",
       "const fit_data = [{\"metric_name\": \"min_move\", \"arm_name\": \"control\", \"mean\": 101.4, \"sem\": 0.0}, {\"metric_name\": \"min_move\", \"arm_name\": \"1_0\", \"mean\": 64.725, \"sem\": 0.0}, {\"metric_name\": \"min_move\", \"arm_name\": \"2_0\", \"mean\": 54.45, \"sem\": 0.0}, {\"metric_name\": \"min_move\", \"arm_name\": \"3_0\", \"mean\": 64.7, \"sem\": 0.0}, {\"metric_name\": \"min_move\", \"arm_name\": \"4_0\", \"mean\": 61.675, \"sem\": 0.0}, {\"metric_name\": \"min_move\", \"arm_name\": \"5_0\", \"mean\": 85.85, \"sem\": 0.0}, {\"metric_name\": \"min_move\", \"arm_name\": \"6_0\", \"mean\": 57.125, \"sem\": 0.0}, {\"metric_name\": \"min_move\", \"arm_name\": \"7_0\", \"mean\": 62.5, \"sem\": 0.0}, {\"metric_name\": \"min_move\", \"arm_name\": \"8_0\", \"mean\": 61.475, \"sem\": 0.0}, {\"metric_name\": \"min_move\", \"arm_name\": \"9_0\", \"mean\": 87.2, \"sem\": 0.0}, {\"metric_name\": \"min_move\", \"arm_name\": \"10_0\", \"mean\": 58.85, \"sem\": 0.0}, {\"metric_name\": \"min_move\", \"arm_name\": \"11_0\", \"mean\": 80.475, \"sem\": 0.0}, {\"metric_name\": \"min_move\", \"arm_name\": \"12_0\", \"mean\": 87.65, \"sem\": 0.0}, {\"metric_name\": \"min_move\", \"arm_name\": \"13_0\", \"mean\": 74.375, \"sem\": 0.0}, {\"metric_name\": \"min_move\", \"arm_name\": \"14_0\", \"mean\": 105.025, \"sem\": 0.0}, {\"metric_name\": \"min_move\", \"arm_name\": \"15_0\", \"mean\": 96.7, \"sem\": 0.0}, {\"metric_name\": \"min_move\", \"arm_name\": \"16_0\", \"mean\": 87.1, \"sem\": 0.0}, {\"metric_name\": \"min_move\", \"arm_name\": \"17_0\", \"mean\": 98.5, \"sem\": 0.0}, {\"metric_name\": \"min_move\", \"arm_name\": \"18_0\", \"mean\": 98.6, \"sem\": 0.0}, {\"metric_name\": \"min_move\", \"arm_name\": \"19_0\", \"mean\": 100.0, \"sem\": 0.0}, {\"metric_name\": \"min_move\", \"arm_name\": \"20_0\", \"mean\": 101.575, \"sem\": 0.0}, {\"metric_name\": \"min_move\", \"arm_name\": \"21_0\", \"mean\": 93.475, \"sem\": 0.0}, {\"metric_name\": \"min_move\", \"arm_name\": \"22_0\", \"mean\": 91.375, \"sem\": 0.0}, {\"metric_name\": \"min_move\", \"arm_name\": \"23_0\", \"mean\": 90.3, \"sem\": 0.0}, {\"metric_name\": \"min_move\", \"arm_name\": \"24_0\", \"mean\": 67.7, \"sem\": 0.0}, {\"metric_name\": \"min_move\", \"arm_name\": \"25_0\", \"mean\": 74.625, \"sem\": 0.0}, {\"metric_name\": \"min_move\", \"arm_name\": \"26_0\", \"mean\": 71.05, \"sem\": 0.0}, {\"metric_name\": \"min_move\", \"arm_name\": \"27_0\", \"mean\": 95.15, \"sem\": 0.0}, {\"metric_name\": \"min_move\", \"arm_name\": \"28_0\", \"mean\": 92.05, \"sem\": 0.0}, {\"metric_name\": \"min_move\", \"arm_name\": \"29_0\", \"mean\": 91.75, \"sem\": 0.0}, {\"metric_name\": \"min_move\", \"arm_name\": \"30_0\", \"mean\": 99.325, \"sem\": 0.0}];\n",
       "const grid = [20.0, 21.632653061224488, 23.26530612244898, 24.89795918367347, 26.53061224489796, 28.163265306122447, 29.79591836734694, 31.42857142857143, 33.06122448979592, 34.69387755102041, 36.326530612244895, 37.95918367346939, 39.59183673469388, 41.224489795918366, 42.85714285714286, 44.48979591836735, 46.12244897959184, 47.755102040816325, 49.38775510204081, 51.02040816326531, 52.6530612244898, 54.285714285714285, 55.91836734693878, 57.55102040816327, 59.183673469387756, 60.816326530612244, 62.44897959183673, 64.08163265306123, 65.71428571428572, 67.34693877551021, 68.9795918367347, 70.61224489795919, 72.24489795918367, 73.87755102040816, 75.51020408163265, 77.14285714285714, 78.77551020408163, 80.40816326530611, 82.04081632653062, 83.6734693877551, 85.3061224489796, 86.93877551020408, 88.57142857142857, 90.20408163265306, 91.83673469387756, 93.46938775510205, 95.10204081632654, 96.73469387755102, 98.36734693877551, 100.0];\n",
       "const metric = \"min_move\";\n",
       "const param = \"epochs\";\n",
       "const rel = false;\n",
       "const setx = {\"lr\": 0.05118782665826977, \"decay\": 0.0019121008368128119, \"epochs\": 69};\n",
       "const sd = [14.476377478580943, 14.453211918448083, 14.377268615917384, 14.195497490107961, 13.933705843082208, 13.814098294224914, 13.98411741708503, 14.241663411729007, 14.399308845730848, 14.460356088181461, 14.477618716748049, 14.480061012746809, 14.475779104431222, 14.464774614269786, 14.44866111430902, 14.436929195591995, 14.439948078683102, 14.454653274959568, 14.468316300457206, 14.469931149836182, 14.43679719634604, 14.27058176906977, 13.63287879659848, 11.769622657245172, 8.571288232544315, 8.493695857091735, 10.538792282824566, 10.052676070542052, 7.8646640328180455, 3.874837442102675, 1.7925854260622527, 2.920988098223886, 2.694476498323801, 3.40240540507401, 5.5040889034801435, 4.058059380986134, 4.247369058359928, 7.057548941694696, 5.938778302106284, 8.423999773827054, 8.697551799140802, 7.067386880740514, 9.205953113455935, 10.737500885980864, 12.20412736305324, 13.563340023880853, 14.210464971140663, 14.417935392874401, 14.470001362366618, 14.481061726084626];\n",
       "const is_log = false;\n",
       "\n",
       "// format data\n",
       "const res = relativize_data(f, sd, rel, arm_data, metric);\n",
       "const f_final = res[0];\n",
       "const sd_final = res[1];\n",
       "\n",
       "// get data for standard deviation fill plot\n",
       "const sd_upper = [];\n",
       "const sd_lower = [];\n",
       "for (let i = 0; i < sd.length; i++) {\n",
       "  sd_upper.push(f_final[i] + 2 * sd_final[i]);\n",
       "  sd_lower.push(f_final[i] - 2 * sd_final[i]);\n",
       "}\n",
       "const grid_rev = copy_and_reverse(grid);\n",
       "const sd_lower_rev = copy_and_reverse(sd_lower);\n",
       "const sd_x = grid.concat(grid_rev);\n",
       "const sd_y = sd_upper.concat(sd_lower_rev);\n",
       "\n",
       "// get data for observed arms and error bars\n",
       "const arm_x = [];\n",
       "const arm_y = [];\n",
       "const arm_sem = [];\n",
       "fit_data.forEach(row => {\n",
       "    parameters = arm_name_to_parameters[row[\"arm_name\"]];\n",
       "    plot = true;\n",
       "    Object.keys(setx).forEach(p => {\n",
       "      if (p !== param && parameters[p] !== setx[p]) {\n",
       "        plot = false;\n",
       "      }\n",
       "    });\n",
       "    if (plot === true) {\n",
       "        arm_x.push(parameters[param]);\n",
       "        arm_y.push(row[\"mean\"]);\n",
       "        arm_sem.push(row[\"sem\"]);\n",
       "    }\n",
       "});\n",
       "\n",
       "const arm_res = relativize_data(\n",
       "  arm_y, arm_sem, rel, arm_data, metric\n",
       ");\n",
       "const arm_y_final = arm_res[0];\n",
       "const arm_sem_final = arm_res[1].map(x => x * 2);\n",
       "\n",
       "// create traces\n",
       "const f_trace = {\n",
       "  x: grid,\n",
       "  y: f_final,\n",
       "  showlegend: false,\n",
       "  hoverinfo: 'x+y',\n",
       "  line: {\n",
       "    color: 'rgba(128, 177, 211, 1)',\n",
       "  },\n",
       "};\n",
       "\n",
       "const arms_trace = {\n",
       "  x: arm_x,\n",
       "  y: arm_y_final,\n",
       "  mode: 'markers',\n",
       "  error_y: {\n",
       "    type: 'data',\n",
       "    array: arm_sem_final,\n",
       "    visible: true,\n",
       "    color: 'black',\n",
       "  },\n",
       "  line: {\n",
       "    color: 'black',\n",
       "  },\n",
       "  showlegend: false,\n",
       "  hoverinfo: 'x+y',\n",
       "};\n",
       "\n",
       "const sd_trace = {\n",
       "    x: sd_x,\n",
       "    y: sd_y,\n",
       "    fill: 'toself',\n",
       "    fillcolor: 'rgba(128, 177, 211, 0.2)',\n",
       "    line: {\n",
       "      color: 'transparent',\n",
       "    },\n",
       "    showlegend: false,\n",
       "    hoverinfo: 'none',\n",
       "};\n",
       "\n",
       "traces = [\n",
       "  sd_trace,\n",
       "  f_trace,\n",
       "  arms_trace,\n",
       "];\n",
       "\n",
       "// iterate over out-of-sample arms\n",
       "let i = 1;\n",
       "Object.keys(arm_data['out_of_sample']).forEach(generator_run_name => {\n",
       "  const ax = [];\n",
       "  const ay = [];\n",
       "  const asem = [];\n",
       "  const atext = [];\n",
       "\n",
       "  Object.keys(arm_data['out_of_sample'][generator_run_name]).forEach(arm_name => {\n",
       "    const parameters = arm_data[\n",
       "      'out_of_sample'][generator_run_name][arm_name]['parameters'];\n",
       "    plot = true;\n",
       "    Object.keys(setx).forEach(p => {\n",
       "      if (p !== param && parameters[p] !== setx[p]) {\n",
       "        plot = false;\n",
       "      }\n",
       "    });\n",
       "    if (plot === true) {\n",
       "      ax.push(parameters[param]);\n",
       "      ay.push(\n",
       "        arm_data['out_of_sample'][generator_run_name][arm_name]['y_hat'][metric]\n",
       "      );\n",
       "      asem.push(\n",
       "        arm_data['out_of_sample'][generator_run_name][arm_name]['se_hat'][metric]\n",
       "      );\n",
       "      atext.push('<em>Candidate ' + arm_name + '</em>');\n",
       "    }\n",
       "  });\n",
       "\n",
       "  const out_of_sample_arm_res = relativize_data(\n",
       "    ay, asem, rel, arm_data, metric\n",
       "  );\n",
       "  const ay_final = out_of_sample_arm_res[0];\n",
       "  const asem_final = out_of_sample_arm_res[1].map(x => x * 2);\n",
       "\n",
       "  traces.push({\n",
       "    hoverinfo: 'text',\n",
       "    legendgroup: generator_run_name,\n",
       "    marker: {color: 'black', symbol: i, opacity: 0.5},\n",
       "    mode: 'markers',\n",
       "    error_y: {\n",
       "      type: 'data',\n",
       "      array: asem_final,\n",
       "      visible: true,\n",
       "      color: 'black',\n",
       "    },\n",
       "    name: generator_run_name,\n",
       "    text: atext,\n",
       "    type: 'scatter',\n",
       "    xaxis: 'x',\n",
       "    x: ax,\n",
       "    yaxis: 'y',\n",
       "    y: ay_final,\n",
       "  });\n",
       "\n",
       "  i += 1;\n",
       "});\n",
       "\n",
       "// layout\n",
       "const xrange = axis_range(grid, is_log);\n",
       "const xtype = is_log ? 'log' : 'linear';\n",
       "\n",
       "layout = {\n",
       "  hovermode: 'closest',\n",
       "  xaxis: {\n",
       "    anchor: 'y',\n",
       "    autorange: false,\n",
       "    exponentformat: 'e',\n",
       "    range: xrange,\n",
       "    tickfont: {size: 11},\n",
       "    tickmode: 'auto',\n",
       "    title: param,\n",
       "    type: xtype,\n",
       "  },\n",
       "  yaxis: {\n",
       "    anchor: 'x',\n",
       "    tickfont: {size: 11},\n",
       "    tickmode: 'auto',\n",
       "    title: metric,\n",
       "  },\n",
       "};\n",
       "\n",
       "Plotly.newPlot(\n",
       "    \"7d55a7d587674b5c94237d17a55d4239\",\n",
       "    traces,\n",
       "    layout,\n",
       "    {showLink: false},\n",
       ");\n",
       "});</script>"
      ]
     },
     "metadata": {},
     "output_type": "display_data"
    }
   ],
   "source": [
    "render(plot_slice(model=gpei, param_name='epochs', metric_name='min_move'))"
   ]
  },
  {
   "cell_type": "markdown",
   "metadata": {},
   "source": [
    "Results:\n",
    "* 30 arm trial: lr=0.06, decay=1.7e-3, epochs=69"
   ]
  },
  {
   "cell_type": "code",
   "execution_count": 25,
   "metadata": {},
   "outputs": [
    {
     "name": "stderr",
     "output_type": "stream",
     "text": [
      "100%|██████████| 67/67 [01:34<00:00,  1.40s/it]\n"
     ]
    },
    {
     "name": "stdout",
     "output_type": "stream",
     "text": [
      "102.5 / 12 sec\n",
      "102.525\n"
     ]
    }
   ],
   "source": [
    "print(eval_fn({'lr': 0.06, 'decay': 1.7e-3, 'epochs': 69}))"
   ]
  },
  {
   "cell_type": "code",
   "execution_count": null,
   "metadata": {},
   "outputs": [],
   "source": []
  }
 ],
 "metadata": {
  "kernelspec": {
   "display_name": "Python 3",
   "language": "python",
   "name": "python3"
  },
  "language_info": {
   "codemirror_mode": {
    "name": "ipython",
    "version": 3
   },
   "file_extension": ".py",
   "mimetype": "text/x-python",
   "name": "python",
   "nbconvert_exporter": "python",
   "pygments_lexer": "ipython3",
   "version": "3.7.2"
  },
  "pycharm": {
   "stem_cell": {
    "cell_type": "raw",
    "metadata": {
     "collapsed": false
    },
    "source": []
   }
  }
 },
 "nbformat": 4,
 "nbformat_minor": 1
}
